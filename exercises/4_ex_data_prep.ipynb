{
 "cells": [
  {
   "cell_type": "markdown",
   "metadata": {
    "id": "nmIQkT_sZTzN"
   },
   "source": [
    "[![Open In Colab](https://colab.research.google.com/assets/colab-badge.svg)](https://colab.research.google.com/github/Humboldt-WI/bads/blob/master/exercises/4_ex_data_prep.ipynb) "
   ]
  },
  {
   "cell_type": "markdown",
   "metadata": {
    "id": "Nf5bQw9lZTzN"
   },
   "source": [
    "# BADS Exercise 4 on data preparation\n",
    "This exercise revisits some of the concepts covered in [Tutorial 4 on data preparation](https://github.com/Humboldt-WI/bads/blob/master/tutorials/4_nb_data_preparation.ipynb). That tutorial was rather comprehensive and provided a lot of materials and codes associated with typical tasks in the wide scope of data preparation. Therefore, the exercises will not go beyond [Tutorial 4](https://github.com/Humboldt-WI/bads/blob/master/tutorials/4_nb_data_preparation.ipynb). Rather, we will consider a different data set and repeat some standard data prep. tasks for that data set.   \n",
    "\n",
    "## 1 Loading the data \n",
    "The data set for this tutorial comes from the classic Book Credit Scoring and its Applications by Lyn C. Thomas, David B. Edelman, and Jonathan N. Crook. You can obtain the data, called *loan_data* from our [GitHub repository](https://github.com/Humboldt-WI/bads/tree/master/data). The data folder of the repository also provides a file *loan_data_dictionary*, which offers a brief description of the features in this data set. In a nutshell, the data represents yet another vanilla credit scoring task with a binary target variable, indicating whether bank customers repaid their debt or defaulted, and a few features characterizing credit applicants. Your first task is to load the data into a `Pandas DataFrame`."
   ]
  },
  {
   "cell_type": "code",
   "execution_count": 1,
   "metadata": {},
   "outputs": [],
   "source": [
    "import numpy as np\n",
    "import pandas as pd\n",
    "import matplotlib.pyplot as plt\n",
    "import seaborn as sns\n",
    "import os"
   ]
  },
  {
   "cell_type": "code",
   "execution_count": 2,
   "metadata": {},
   "outputs": [
    {
     "data": {
      "text/plain": [
       "'C:\\\\Users\\\\Stefan Lessmann\\\\Google Drive\\\\notebooks\\\\Git\\\\bads\\\\exercises'"
      ]
     },
     "execution_count": 2,
     "metadata": {},
     "output_type": "execute_result"
    }
   ],
   "source": [
    "os.getcwd()"
   ]
  },
  {
   "cell_type": "code",
   "execution_count": 3,
   "metadata": {
    "id": "54Ud3XtqZTzN"
   },
   "outputs": [
    {
     "data": {
      "text/html": [
       "<div>\n",
       "<style scoped>\n",
       "    .dataframe tbody tr th:only-of-type {\n",
       "        vertical-align: middle;\n",
       "    }\n",
       "\n",
       "    .dataframe tbody tr th {\n",
       "        vertical-align: top;\n",
       "    }\n",
       "\n",
       "    .dataframe thead th {\n",
       "        text-align: right;\n",
       "    }\n",
       "</style>\n",
       "<table border=\"1\" class=\"dataframe\">\n",
       "  <thead>\n",
       "    <tr style=\"text-align: right;\">\n",
       "      <th></th>\n",
       "      <th>YOB</th>\n",
       "      <th>nKIDS</th>\n",
       "      <th>nDEP</th>\n",
       "      <th>PHON</th>\n",
       "      <th>dINC_SP</th>\n",
       "      <th>EMPS_A</th>\n",
       "      <th>dINC_A</th>\n",
       "      <th>RES</th>\n",
       "      <th>dHVAL</th>\n",
       "      <th>dMBO</th>\n",
       "      <th>dOUTM</th>\n",
       "      <th>dOUTL</th>\n",
       "      <th>dOUTHP</th>\n",
       "      <th>dOUTCC</th>\n",
       "      <th>BAD</th>\n",
       "    </tr>\n",
       "  </thead>\n",
       "  <tbody>\n",
       "    <tr>\n",
       "      <th>0</th>\n",
       "      <td>19.0</td>\n",
       "      <td>4.0</td>\n",
       "      <td>0.0</td>\n",
       "      <td>1</td>\n",
       "      <td>0.0</td>\n",
       "      <td>R</td>\n",
       "      <td>0.0</td>\n",
       "      <td>O</td>\n",
       "      <td>14464.0</td>\n",
       "      <td>4.0</td>\n",
       "      <td>0.0</td>\n",
       "      <td>0.0</td>\n",
       "      <td>0.0</td>\n",
       "      <td>0.0</td>\n",
       "      <td>0.0</td>\n",
       "    </tr>\n",
       "    <tr>\n",
       "      <th>1</th>\n",
       "      <td>41.0</td>\n",
       "      <td>2.0</td>\n",
       "      <td>0.0</td>\n",
       "      <td>1</td>\n",
       "      <td>0.0</td>\n",
       "      <td>P</td>\n",
       "      <td>36000.0</td>\n",
       "      <td>O</td>\n",
       "      <td>0.0</td>\n",
       "      <td>0.0</td>\n",
       "      <td>280.0</td>\n",
       "      <td>664.0</td>\n",
       "      <td>0.0</td>\n",
       "      <td>80.0</td>\n",
       "      <td>0.0</td>\n",
       "    </tr>\n",
       "    <tr>\n",
       "      <th>2</th>\n",
       "      <td>66.0</td>\n",
       "      <td>0.0</td>\n",
       "      <td>0.0</td>\n",
       "      <td>1</td>\n",
       "      <td>0.0</td>\n",
       "      <td>N</td>\n",
       "      <td>30000.0</td>\n",
       "      <td>N</td>\n",
       "      <td>0.0</td>\n",
       "      <td>0.0</td>\n",
       "      <td>0.0</td>\n",
       "      <td>0.0</td>\n",
       "      <td>0.0</td>\n",
       "      <td>0.0</td>\n",
       "      <td>0.0</td>\n",
       "    </tr>\n",
       "    <tr>\n",
       "      <th>3</th>\n",
       "      <td>51.0</td>\n",
       "      <td>2.0</td>\n",
       "      <td>0.0</td>\n",
       "      <td>1</td>\n",
       "      <td>0.0</td>\n",
       "      <td>P</td>\n",
       "      <td>464.0</td>\n",
       "      <td>O</td>\n",
       "      <td>24928.0</td>\n",
       "      <td>8464.0</td>\n",
       "      <td>584.0</td>\n",
       "      <td>320.0</td>\n",
       "      <td>0.0</td>\n",
       "      <td>60.0</td>\n",
       "      <td>0.0</td>\n",
       "    </tr>\n",
       "    <tr>\n",
       "      <th>4</th>\n",
       "      <td>65.0</td>\n",
       "      <td>0.0</td>\n",
       "      <td>0.0</td>\n",
       "      <td>1</td>\n",
       "      <td>0.0</td>\n",
       "      <td>P</td>\n",
       "      <td>15000.0</td>\n",
       "      <td>P</td>\n",
       "      <td>0.0</td>\n",
       "      <td>0.0</td>\n",
       "      <td>0.0</td>\n",
       "      <td>0.0</td>\n",
       "      <td>0.0</td>\n",
       "      <td>0.0</td>\n",
       "      <td>0.0</td>\n",
       "    </tr>\n",
       "    <tr>\n",
       "      <th>...</th>\n",
       "      <td>...</td>\n",
       "      <td>...</td>\n",
       "      <td>...</td>\n",
       "      <td>...</td>\n",
       "      <td>...</td>\n",
       "      <td>...</td>\n",
       "      <td>...</td>\n",
       "      <td>...</td>\n",
       "      <td>...</td>\n",
       "      <td>...</td>\n",
       "      <td>...</td>\n",
       "      <td>...</td>\n",
       "      <td>...</td>\n",
       "      <td>...</td>\n",
       "      <td>...</td>\n",
       "    </tr>\n",
       "    <tr>\n",
       "      <th>1220</th>\n",
       "      <td>52.0</td>\n",
       "      <td>4.0</td>\n",
       "      <td>1.0</td>\n",
       "      <td>1</td>\n",
       "      <td>0.0</td>\n",
       "      <td>V</td>\n",
       "      <td>37764.0</td>\n",
       "      <td>U</td>\n",
       "      <td>0.0</td>\n",
       "      <td>0.0</td>\n",
       "      <td>0.0</td>\n",
       "      <td>340.0</td>\n",
       "      <td>0.0</td>\n",
       "      <td>0.0</td>\n",
       "      <td>0.0</td>\n",
       "    </tr>\n",
       "    <tr>\n",
       "      <th>1221</th>\n",
       "      <td>56.0</td>\n",
       "      <td>3.0</td>\n",
       "      <td>0.0</td>\n",
       "      <td>1</td>\n",
       "      <td>1200.0</td>\n",
       "      <td>P</td>\n",
       "      <td>31500.0</td>\n",
       "      <td>O</td>\n",
       "      <td>6928.0</td>\n",
       "      <td>46464.0</td>\n",
       "      <td>784.0</td>\n",
       "      <td>256.0</td>\n",
       "      <td>0.0</td>\n",
       "      <td>0.0</td>\n",
       "      <td>1.0</td>\n",
       "    </tr>\n",
       "    <tr>\n",
       "      <th>1222</th>\n",
       "      <td>60.0</td>\n",
       "      <td>0.0</td>\n",
       "      <td>0.0</td>\n",
       "      <td>1</td>\n",
       "      <td>0.0</td>\n",
       "      <td>E</td>\n",
       "      <td>46800.0</td>\n",
       "      <td>O</td>\n",
       "      <td>11392.0</td>\n",
       "      <td>928.0</td>\n",
       "      <td>1144.0</td>\n",
       "      <td>680.0</td>\n",
       "      <td>0.0</td>\n",
       "      <td>108.0</td>\n",
       "      <td>0.0</td>\n",
       "    </tr>\n",
       "    <tr>\n",
       "      <th>1223</th>\n",
       "      <td>20.0</td>\n",
       "      <td>0.0</td>\n",
       "      <td>0.0</td>\n",
       "      <td>1</td>\n",
       "      <td>0.0</td>\n",
       "      <td>R</td>\n",
       "      <td>0.0</td>\n",
       "      <td>N</td>\n",
       "      <td>0.0</td>\n",
       "      <td>0.0</td>\n",
       "      <td>0.0</td>\n",
       "      <td>0.0</td>\n",
       "      <td>0.0</td>\n",
       "      <td>0.0</td>\n",
       "      <td>1.0</td>\n",
       "    </tr>\n",
       "    <tr>\n",
       "      <th>1224</th>\n",
       "      <td>66.0</td>\n",
       "      <td>0.0</td>\n",
       "      <td>0.0</td>\n",
       "      <td>1</td>\n",
       "      <td>0.0</td>\n",
       "      <td>T</td>\n",
       "      <td>5538.0</td>\n",
       "      <td>P</td>\n",
       "      <td>0.0</td>\n",
       "      <td>0.0</td>\n",
       "      <td>492.0</td>\n",
       "      <td>0.0</td>\n",
       "      <td>0.0</td>\n",
       "      <td>0.0</td>\n",
       "      <td>0.0</td>\n",
       "    </tr>\n",
       "  </tbody>\n",
       "</table>\n",
       "<p>1225 rows × 15 columns</p>\n",
       "</div>"
      ],
      "text/plain": [
       "       YOB  nKIDS  nDEP  PHON  dINC_SP EMPS_A   dINC_A RES    dHVAL     dMBO  \\\n",
       "0     19.0    4.0   0.0     1      0.0      R      0.0   O  14464.0      4.0   \n",
       "1     41.0    2.0   0.0     1      0.0      P  36000.0   O      0.0      0.0   \n",
       "2     66.0    0.0   0.0     1      0.0      N  30000.0   N      0.0      0.0   \n",
       "3     51.0    2.0   0.0     1      0.0      P    464.0   O  24928.0   8464.0   \n",
       "4     65.0    0.0   0.0     1      0.0      P  15000.0   P      0.0      0.0   \n",
       "...    ...    ...   ...   ...      ...    ...      ...  ..      ...      ...   \n",
       "1220  52.0    4.0   1.0     1      0.0      V  37764.0   U      0.0      0.0   \n",
       "1221  56.0    3.0   0.0     1   1200.0      P  31500.0   O   6928.0  46464.0   \n",
       "1222  60.0    0.0   0.0     1      0.0      E  46800.0   O  11392.0    928.0   \n",
       "1223  20.0    0.0   0.0     1      0.0      R      0.0   N      0.0      0.0   \n",
       "1224  66.0    0.0   0.0     1      0.0      T   5538.0   P      0.0      0.0   \n",
       "\n",
       "       dOUTM  dOUTL  dOUTHP  dOUTCC  BAD  \n",
       "0        0.0    0.0     0.0     0.0  0.0  \n",
       "1      280.0  664.0     0.0    80.0  0.0  \n",
       "2        0.0    0.0     0.0     0.0  0.0  \n",
       "3      584.0  320.0     0.0    60.0  0.0  \n",
       "4        0.0    0.0     0.0     0.0  0.0  \n",
       "...      ...    ...     ...     ...  ...  \n",
       "1220     0.0  340.0     0.0     0.0  0.0  \n",
       "1221   784.0  256.0     0.0     0.0  1.0  \n",
       "1222  1144.0  680.0     0.0   108.0  0.0  \n",
       "1223     0.0    0.0     0.0     0.0  1.0  \n",
       "1224   492.0    0.0     0.0     0.0  0.0  \n",
       "\n",
       "[1225 rows x 15 columns]"
      ]
     },
     "execution_count": 3,
     "metadata": {},
     "output_type": "execute_result"
    }
   ],
   "source": [
    "# Load the data (either from disk or directly from the web)\n",
    "df = pd.read_csv(\"https://raw.githubusercontent.com/Humboldt-WI/bads/master/data/loan_data.csv\", sep=\";\")\n",
    "df"
   ]
  },
  {
   "cell_type": "code",
   "execution_count": 4,
   "metadata": {},
   "outputs": [
    {
     "data": {
      "text/plain": [
       "1    1107\n",
       "0     118\n",
       "Name: PHON, dtype: int64"
      ]
     },
     "execution_count": 4,
     "metadata": {},
     "output_type": "execute_result"
    }
   ],
   "source": [
    "df.PHON.value_counts()"
   ]
  },
  {
   "cell_type": "markdown",
   "metadata": {
    "id": "IlHauiUhZTzO"
   },
   "source": [
    "By now, you have run through the process of getting a first idea about a new data set many times. You have seen examples in previous tutorials and have written your own codes in, e.g., the third exercise on predictive analytics. Nonetheless, draw once more on your experience and take a quick look into the data.  "
   ]
  },
  {
   "cell_type": "code",
   "execution_count": 5,
   "metadata": {
    "id": "LSvtKE1hZTzO"
   },
   "outputs": [
    {
     "name": "stdout",
     "output_type": "stream",
     "text": [
      "<class 'pandas.core.frame.DataFrame'>\n",
      "RangeIndex: 1225 entries, 0 to 1224\n",
      "Data columns (total 15 columns):\n",
      " #   Column   Non-Null Count  Dtype  \n",
      "---  ------   --------------  -----  \n",
      " 0   YOB      1225 non-null   float64\n",
      " 1   nKIDS    1225 non-null   float64\n",
      " 2   nDEP     1225 non-null   float64\n",
      " 3   PHON     1225 non-null   int64  \n",
      " 4   dINC_SP  1225 non-null   float64\n",
      " 5   EMPS_A   1225 non-null   object \n",
      " 6   dINC_A   1225 non-null   float64\n",
      " 7   RES      1225 non-null   object \n",
      " 8   dHVAL    1225 non-null   float64\n",
      " 9   dMBO     1225 non-null   float64\n",
      " 10  dOUTM    1225 non-null   float64\n",
      " 11  dOUTL    1225 non-null   float64\n",
      " 12  dOUTHP   1225 non-null   float64\n",
      " 13  dOUTCC   1225 non-null   float64\n",
      " 14  BAD      1225 non-null   float64\n",
      "dtypes: float64(12), int64(1), object(2)\n",
      "memory usage: 143.7+ KB\n"
     ]
    }
   ],
   "source": [
    "# Some space for any code you want to write to take a first look\n",
    "df.info()"
   ]
  },
  {
   "cell_type": "code",
   "execution_count": 6,
   "metadata": {},
   "outputs": [
    {
     "data": {
      "text/html": [
       "<div>\n",
       "<style scoped>\n",
       "    .dataframe tbody tr th:only-of-type {\n",
       "        vertical-align: middle;\n",
       "    }\n",
       "\n",
       "    .dataframe tbody tr th {\n",
       "        vertical-align: top;\n",
       "    }\n",
       "\n",
       "    .dataframe thead th {\n",
       "        text-align: right;\n",
       "    }\n",
       "</style>\n",
       "<table border=\"1\" class=\"dataframe\">\n",
       "  <thead>\n",
       "    <tr style=\"text-align: right;\">\n",
       "      <th></th>\n",
       "      <th>YOB</th>\n",
       "      <th>nKIDS</th>\n",
       "      <th>nDEP</th>\n",
       "      <th>PHON</th>\n",
       "      <th>dINC_SP</th>\n",
       "      <th>dINC_A</th>\n",
       "      <th>dHVAL</th>\n",
       "      <th>dMBO</th>\n",
       "      <th>dOUTM</th>\n",
       "      <th>dOUTL</th>\n",
       "      <th>dOUTHP</th>\n",
       "      <th>dOUTCC</th>\n",
       "      <th>BAD</th>\n",
       "    </tr>\n",
       "  </thead>\n",
       "  <tbody>\n",
       "    <tr>\n",
       "      <th>count</th>\n",
       "      <td>1225.000000</td>\n",
       "      <td>1225.000000</td>\n",
       "      <td>1225.000000</td>\n",
       "      <td>1225.000000</td>\n",
       "      <td>1225.000000</td>\n",
       "      <td>1225.000000</td>\n",
       "      <td>1225.000000</td>\n",
       "      <td>1225.000000</td>\n",
       "      <td>1225.000000</td>\n",
       "      <td>1225.000000</td>\n",
       "      <td>1225.000000</td>\n",
       "      <td>1225.000000</td>\n",
       "      <td>1225.000000</td>\n",
       "    </tr>\n",
       "    <tr>\n",
       "      <th>mean</th>\n",
       "      <td>51.037551</td>\n",
       "      <td>0.623673</td>\n",
       "      <td>0.038367</td>\n",
       "      <td>0.903673</td>\n",
       "      <td>1990.084898</td>\n",
       "      <td>21244.211429</td>\n",
       "      <td>15693.857959</td>\n",
       "      <td>11225.691429</td>\n",
       "      <td>342.004898</td>\n",
       "      <td>121.926531</td>\n",
       "      <td>28.721633</td>\n",
       "      <td>39.595102</td>\n",
       "      <td>0.263673</td>\n",
       "    </tr>\n",
       "    <tr>\n",
       "      <th>std</th>\n",
       "      <td>15.301818</td>\n",
       "      <td>1.016013</td>\n",
       "      <td>0.219917</td>\n",
       "      <td>0.295159</td>\n",
       "      <td>4802.341425</td>\n",
       "      <td>15896.207986</td>\n",
       "      <td>20736.331833</td>\n",
       "      <td>18889.207107</td>\n",
       "      <td>427.993865</td>\n",
       "      <td>839.639588</td>\n",
       "      <td>119.324084</td>\n",
       "      <td>168.697101</td>\n",
       "      <td>0.440804</td>\n",
       "    </tr>\n",
       "    <tr>\n",
       "      <th>min</th>\n",
       "      <td>3.000000</td>\n",
       "      <td>0.000000</td>\n",
       "      <td>0.000000</td>\n",
       "      <td>0.000000</td>\n",
       "      <td>0.000000</td>\n",
       "      <td>0.000000</td>\n",
       "      <td>0.000000</td>\n",
       "      <td>0.000000</td>\n",
       "      <td>0.000000</td>\n",
       "      <td>0.000000</td>\n",
       "      <td>0.000000</td>\n",
       "      <td>0.000000</td>\n",
       "      <td>0.000000</td>\n",
       "    </tr>\n",
       "    <tr>\n",
       "      <th>25%</th>\n",
       "      <td>42.000000</td>\n",
       "      <td>0.000000</td>\n",
       "      <td>0.000000</td>\n",
       "      <td>1.000000</td>\n",
       "      <td>0.000000</td>\n",
       "      <td>9000.000000</td>\n",
       "      <td>0.000000</td>\n",
       "      <td>0.000000</td>\n",
       "      <td>0.000000</td>\n",
       "      <td>0.000000</td>\n",
       "      <td>0.000000</td>\n",
       "      <td>0.000000</td>\n",
       "      <td>0.000000</td>\n",
       "    </tr>\n",
       "    <tr>\n",
       "      <th>50%</th>\n",
       "      <td>55.000000</td>\n",
       "      <td>0.000000</td>\n",
       "      <td>0.000000</td>\n",
       "      <td>1.000000</td>\n",
       "      <td>0.000000</td>\n",
       "      <td>19500.000000</td>\n",
       "      <td>0.000000</td>\n",
       "      <td>0.000000</td>\n",
       "      <td>256.000000</td>\n",
       "      <td>0.000000</td>\n",
       "      <td>0.000000</td>\n",
       "      <td>0.000000</td>\n",
       "      <td>0.000000</td>\n",
       "    </tr>\n",
       "    <tr>\n",
       "      <th>75%</th>\n",
       "      <td>63.000000</td>\n",
       "      <td>1.000000</td>\n",
       "      <td>0.000000</td>\n",
       "      <td>1.000000</td>\n",
       "      <td>1040.000000</td>\n",
       "      <td>30600.000000</td>\n",
       "      <td>28928.000000</td>\n",
       "      <td>20000.000000</td>\n",
       "      <td>528.000000</td>\n",
       "      <td>0.000000</td>\n",
       "      <td>0.000000</td>\n",
       "      <td>0.000000</td>\n",
       "      <td>1.000000</td>\n",
       "    </tr>\n",
       "    <tr>\n",
       "      <th>max</th>\n",
       "      <td>99.000000</td>\n",
       "      <td>5.000000</td>\n",
       "      <td>2.000000</td>\n",
       "      <td>1.000000</td>\n",
       "      <td>50000.000000</td>\n",
       "      <td>64800.000000</td>\n",
       "      <td>64928.000000</td>\n",
       "      <td>64000.000000</td>\n",
       "      <td>3800.000000</td>\n",
       "      <td>28000.000000</td>\n",
       "      <td>1600.000000</td>\n",
       "      <td>2800.000000</td>\n",
       "      <td>1.000000</td>\n",
       "    </tr>\n",
       "  </tbody>\n",
       "</table>\n",
       "</div>"
      ],
      "text/plain": [
       "               YOB        nKIDS         nDEP         PHON       dINC_SP  \\\n",
       "count  1225.000000  1225.000000  1225.000000  1225.000000   1225.000000   \n",
       "mean     51.037551     0.623673     0.038367     0.903673   1990.084898   \n",
       "std      15.301818     1.016013     0.219917     0.295159   4802.341425   \n",
       "min       3.000000     0.000000     0.000000     0.000000      0.000000   \n",
       "25%      42.000000     0.000000     0.000000     1.000000      0.000000   \n",
       "50%      55.000000     0.000000     0.000000     1.000000      0.000000   \n",
       "75%      63.000000     1.000000     0.000000     1.000000   1040.000000   \n",
       "max      99.000000     5.000000     2.000000     1.000000  50000.000000   \n",
       "\n",
       "             dINC_A         dHVAL          dMBO        dOUTM         dOUTL  \\\n",
       "count   1225.000000   1225.000000   1225.000000  1225.000000   1225.000000   \n",
       "mean   21244.211429  15693.857959  11225.691429   342.004898    121.926531   \n",
       "std    15896.207986  20736.331833  18889.207107   427.993865    839.639588   \n",
       "min        0.000000      0.000000      0.000000     0.000000      0.000000   \n",
       "25%     9000.000000      0.000000      0.000000     0.000000      0.000000   \n",
       "50%    19500.000000      0.000000      0.000000   256.000000      0.000000   \n",
       "75%    30600.000000  28928.000000  20000.000000   528.000000      0.000000   \n",
       "max    64800.000000  64928.000000  64000.000000  3800.000000  28000.000000   \n",
       "\n",
       "            dOUTHP       dOUTCC          BAD  \n",
       "count  1225.000000  1225.000000  1225.000000  \n",
       "mean     28.721633    39.595102     0.263673  \n",
       "std     119.324084   168.697101     0.440804  \n",
       "min       0.000000     0.000000     0.000000  \n",
       "25%       0.000000     0.000000     0.000000  \n",
       "50%       0.000000     0.000000     0.000000  \n",
       "75%       0.000000     0.000000     1.000000  \n",
       "max    1600.000000  2800.000000     1.000000  "
      ]
     },
     "execution_count": 6,
     "metadata": {},
     "output_type": "execute_result"
    }
   ],
   "source": [
    "df.describe()"
   ]
  },
  {
   "cell_type": "markdown",
   "metadata": {
    "id": "86a0L4iMZTzO"
   },
   "source": [
    "## 2 Data types\n",
    "You can tell from the data dictionary that the loan data includes numeric and categorical variables. Draw on the examples from [Tutorial 4](https://github.com/Humboldt-WI/bads/blob/master/tutorials/4_nb_data_preparation.ipynb) and make sure that all numeric features are stored as `float32` and all categorical features are stored as categories in your DataFame"
   ]
  },
  {
   "cell_type": "code",
   "execution_count": 7,
   "metadata": {},
   "outputs": [
    {
     "name": "stdout",
     "output_type": "stream",
     "text": [
      "<class 'pandas.core.frame.DataFrame'>\n",
      "RangeIndex: 1225 entries, 0 to 1224\n",
      "Data columns (total 15 columns):\n",
      " #   Column   Non-Null Count  Dtype  \n",
      "---  ------   --------------  -----  \n",
      " 0   YOB      1225 non-null   float64\n",
      " 1   nKIDS    1225 non-null   float64\n",
      " 2   nDEP     1225 non-null   float64\n",
      " 3   PHON     1225 non-null   int64  \n",
      " 4   dINC_SP  1225 non-null   float64\n",
      " 5   EMPS_A   1225 non-null   object \n",
      " 6   dINC_A   1225 non-null   float64\n",
      " 7   RES      1225 non-null   object \n",
      " 8   dHVAL    1225 non-null   float64\n",
      " 9   dMBO     1225 non-null   float64\n",
      " 10  dOUTM    1225 non-null   float64\n",
      " 11  dOUTL    1225 non-null   float64\n",
      " 12  dOUTHP   1225 non-null   float64\n",
      " 13  dOUTCC   1225 non-null   float64\n",
      " 14  BAD      1225 non-null   float64\n",
      "dtypes: float64(12), int64(1), object(2)\n",
      "memory usage: 143.7+ KB\n"
     ]
    }
   ],
   "source": [
    "df.info()"
   ]
  },
  {
   "cell_type": "code",
   "execution_count": 8,
   "metadata": {
    "id": "reOczUdlZTzO"
   },
   "outputs": [],
   "source": [
    "# Conversion of data types where needed\n",
    "df.PHON = df.PHON.astype(\"bool\")\n",
    "\n",
    "df.BAD = df.BAD.astype(\"bool\")\n",
    "\n",
    "df.RES = df.RES.astype(\"category\")\n",
    "df.EMPS_A = df.EMPS_A.astype(\"category\")"
   ]
  },
  {
   "cell_type": "code",
   "execution_count": 9,
   "metadata": {},
   "outputs": [
    {
     "name": "stdout",
     "output_type": "stream",
     "text": [
      "<class 'pandas.core.frame.DataFrame'>\n",
      "RangeIndex: 1225 entries, 0 to 1224\n",
      "Data columns (total 15 columns):\n",
      " #   Column   Non-Null Count  Dtype   \n",
      "---  ------   --------------  -----   \n",
      " 0   YOB      1225 non-null   float32 \n",
      " 1   nKIDS    1225 non-null   float32 \n",
      " 2   nDEP     1225 non-null   float32 \n",
      " 3   PHON     1225 non-null   bool    \n",
      " 4   dINC_SP  1225 non-null   float32 \n",
      " 5   EMPS_A   1225 non-null   category\n",
      " 6   dINC_A   1225 non-null   float32 \n",
      " 7   RES      1225 non-null   category\n",
      " 8   dHVAL    1225 non-null   float32 \n",
      " 9   dMBO     1225 non-null   float32 \n",
      " 10  dOUTM    1225 non-null   float32 \n",
      " 11  dOUTL    1225 non-null   float32 \n",
      " 12  dOUTHP   1225 non-null   float32 \n",
      " 13  dOUTCC   1225 non-null   float32 \n",
      " 14  BAD      1225 non-null   bool    \n",
      "dtypes: bool(2), category(2), float32(11)\n",
      "memory usage: 58.1 KB\n"
     ]
    }
   ],
   "source": [
    "ix_numcols = df.select_dtypes(include=\"float64\").columns\n",
    "df[ix_numcols] = df[ix_numcols].astype(\"float32\")\n",
    "df.info()"
   ]
  },
  {
   "cell_type": "markdown",
   "metadata": {
    "id": "VBHdKZhVZTzO"
   },
   "source": [
    "## EDA\n",
    "### 3.1 Histogram\n",
    "The data includes a feature dINC_A, which captures the income of a credit applicant. We would expect that this feature is related to our target variable, which is called BAD in the data set. \n",
    "\n",
    "Create a histogram plot of the income feature and examine its distribution."
   ]
  },
  {
   "cell_type": "code",
   "execution_count": 10,
   "metadata": {
    "id": "TOrcl7obZTzO"
   },
   "outputs": [
    {
     "data": {
      "image/png": "[encoded data removed]",
      "text/plain": [
       "<Figure size 576x432 with 1 Axes>"
      ]
     },
     "metadata": {
      "needs_background": "light"
     },
     "output_type": "display_data"
    }
   ],
   "source": [
    "# Histogram of dINC_A \n",
    "#df.dINC_A.hist(figsize=(8,6))\n",
    "\n",
    "# Alternatively\n",
    "df.hist(figsize=(8,6), column=\"dINC_A\", bins=20);"
   ]
  },
  {
   "cell_type": "markdown",
   "metadata": {
    "id": "RA2E41Q-ZTzO"
   },
   "source": [
    "The distribution reveals some potentially important insights. However, the histogram alone does not suffice to check our intuition that income and credit risk are related. To that end, let's examine the income distribution across good and bad credit applications.\n",
    "\n",
    "### 3.2 Analysis of the dependency between applicants' income and credit risk\n",
    "We begin with a manual approach, which also allows us to revisit logical indexing in Python and Pandas. Calculate the average income of a credit applicant for good risks and for bad risks."
   ]
  },
  {
   "cell_type": "code",
   "execution_count": 11,
   "metadata": {
    "id": "ozLSHlVOZTzO"
   },
   "outputs": [
    {
     "name": "stdout",
     "output_type": "stream",
     "text": [
      "Avg. income among the bads is  16316.913\n",
      "Avg. income among the goods is  23008.643\n"
     ]
    }
   ],
   "source": [
    "# Calculate the group-wise mean of dINC_A for good and bad risks using logical indexing\n",
    "ix_bad = df.BAD == True\n",
    "print(\"Avg. income among the bads is \", df.loc[df.BAD == True, \"dINC_A\"].mean())\n",
    "\n",
    "print(\"Avg. income among the goods is \", df.loc[df.BAD == False, \"dINC_A\"].mean())"
   ]
  },
  {
   "cell_type": "markdown",
   "metadata": {
    "id": "1BGB_zEbZTzO"
   },
   "source": [
    "Remember that the Pandas function `groupby()` allows you to perform an analysis similar to your above calculation of the group-wise means. Replicate the previous calculation using `groupby()`.  "
   ]
  },
  {
   "cell_type": "code",
   "execution_count": 12,
   "metadata": {
    "id": "Hw0DEqzbZTzO"
   },
   "outputs": [
    {
     "data": {
      "text/plain": [
       "BAD\n",
       "False    23008.642578\n",
       "True     16316.913086\n",
       "Name: dINC_A, dtype: float32"
      ]
     },
     "execution_count": 12,
     "metadata": {},
     "output_type": "execute_result"
    }
   ],
   "source": [
    "# Function groupby()\n",
    "df.groupby(by=\"BAD\")[\"dINC_A\"].mean()"
   ]
  },
  {
   "cell_type": "markdown",
   "metadata": {
    "id": "iX1sCedMZTzO"
   },
   "source": [
    "Next, we perform a graphical analysis. Depict the distribution of the income of customers with a good and bad risk, respectively, by means of a box-plot."
   ]
  },
  {
   "cell_type": "code",
   "execution_count": 13,
   "metadata": {
    "id": "0InCH1Z_ZTzP"
   },
   "outputs": [
    {
     "data": {
      "image/png": "[encoded data removed]",
      "text/plain": [
       "<Figure size 576x432 with 1 Axes>"
      ]
     },
     "metadata": {
      "needs_background": "light"
     },
     "output_type": "display_data"
    }
   ],
   "source": [
    "# Box plot\n",
    "df.boxplot(column=\"dINC_A\", by=\"BAD\", figsize=(8,6));"
   ]
  },
  {
   "cell_type": "markdown",
   "metadata": {
    "id": "zqci-rUtZTzP"
   },
   "source": [
    "### 3.3 Statistical testing\n",
    "Identify an appropriate statistical test to verify whether the observed income difference between good and bad applicants is statistically significant. Perform the test and display its results. Hint: A web-search similar to “statistical test difference in means python” will help."
   ]
  },
  {
   "cell_type": "code",
   "execution_count": 14,
   "metadata": {
    "id": "G-tpjC8SZTzP"
   },
   "outputs": [],
   "source": [
    "# Statistical testing of mean differences\n",
    "from scipy import stats"
   ]
  },
  {
   "cell_type": "code",
   "execution_count": 15,
   "metadata": {},
   "outputs": [
    {
     "name": "stdout",
     "output_type": "stream",
     "text": [
      "15763.686\n",
      "15236.13\n"
     ]
    }
   ],
   "source": [
    "print(df.loc[df.BAD == False, \"dINC_A\"].std())\n",
    "print(df.loc[df.BAD == True, \"dINC_A\"].std())"
   ]
  },
  {
   "cell_type": "code",
   "execution_count": 16,
   "metadata": {
    "id": "KYi1_apnZTzP"
   },
   "outputs": [
    {
     "name": "stdout",
     "output_type": "stream",
     "text": [
      "Result of the t-test: 6.60 (p-value: 0.000000)\n"
     ]
    }
   ],
   "source": [
    "tstat, pval = stats.ttest_ind(df.loc[df.BAD == False, \"dINC_A\"], df.loc[df.BAD == True, \"dINC_A\"])\n",
    "print(\"Result of the t-test: {:.2f} (p-value: {:.6f})\".format(tstat, pval))"
   ]
  },
  {
   "cell_type": "markdown",
   "metadata": {
    "id": "CoStoQjjZTzP"
   },
   "source": [
    "### 3.4 Categorical variables\n",
    "The data set comprises three categorical features. The feature PHON is binary and will not cause any issues. The features EMPS_A and RES are more interesting. Remember to check the data dictionary to understand what information the features encode. \n",
    "\n",
    "In the lecture, we explained that categorical features are typically encoded using dummy variables prior to applying an analytical model. Python supports dummy coding in several ways.  Pandas offers a function `get_dummies()` and sklearn offer a class `OneHotEncoder()`. The Pandas approach is maybe a bit easier to use. The more prevalent approach in practice is to rely on sklearn. \n",
    "\n",
    "Check the documentation of one or both of the above functions. Then create dummy variables for the feature RES and add them to your DataFrame.   "
   ]
  },
  {
   "cell_type": "code",
   "execution_count": 17,
   "metadata": {
    "id": "sGRN72W0ZTzP"
   },
   "outputs": [
    {
     "name": "stdout",
     "output_type": "stream",
     "text": [
      "<class 'pandas.core.frame.DataFrame'>\n",
      "RangeIndex: 1225 entries, 0 to 1224\n",
      "Data columns (total 27 columns):\n",
      " #   Column    Non-Null Count  Dtype  \n",
      "---  ------    --------------  -----  \n",
      " 0   YOB       1225 non-null   float32\n",
      " 1   nKIDS     1225 non-null   float32\n",
      " 2   nDEP      1225 non-null   float32\n",
      " 3   PHON      1225 non-null   bool   \n",
      " 4   dINC_SP   1225 non-null   float32\n",
      " 5   dINC_A    1225 non-null   float32\n",
      " 6   dHVAL     1225 non-null   float32\n",
      " 7   dMBO      1225 non-null   float32\n",
      " 8   dOUTM     1225 non-null   float32\n",
      " 9   dOUTL     1225 non-null   float32\n",
      " 10  dOUTHP    1225 non-null   float32\n",
      " 11  dOUTCC    1225 non-null   float32\n",
      " 12  BAD       1225 non-null   bool   \n",
      " 13  EMPS_A_E  1225 non-null   uint8  \n",
      " 14  EMPS_A_M  1225 non-null   uint8  \n",
      " 15  EMPS_A_N  1225 non-null   uint8  \n",
      " 16  EMPS_A_P  1225 non-null   uint8  \n",
      " 17  EMPS_A_R  1225 non-null   uint8  \n",
      " 18  EMPS_A_T  1225 non-null   uint8  \n",
      " 19  EMPS_A_U  1225 non-null   uint8  \n",
      " 20  EMPS_A_V  1225 non-null   uint8  \n",
      " 21  EMPS_A_W  1225 non-null   uint8  \n",
      " 22  EMPS_A_Z  1225 non-null   uint8  \n",
      " 23  RES_N     1225 non-null   uint8  \n",
      " 24  RES_O     1225 non-null   uint8  \n",
      " 25  RES_P     1225 non-null   uint8  \n",
      " 26  RES_U     1225 non-null   uint8  \n",
      "dtypes: bool(2), float32(11), uint8(14)\n",
      "memory usage: 71.9 KB\n"
     ]
    }
   ],
   "source": [
    "# Dummy coding of RES\n",
    "df_coded = pd.get_dummies(df, drop_first=True)\n",
    "df_coded.info()"
   ]
  },
  {
   "cell_type": "code",
   "execution_count": 18,
   "metadata": {},
   "outputs": [
    {
     "name": "stdout",
     "output_type": "stream",
     "text": [
      "<class 'pandas.core.frame.DataFrame'>\n",
      "RangeIndex: 1225 entries, 0 to 1224\n",
      "Data columns (total 27 columns):\n",
      " #   Column    Non-Null Count  Dtype  \n",
      "---  ------    --------------  -----  \n",
      " 0   YOB       1225 non-null   float32\n",
      " 1   nKIDS     1225 non-null   float32\n",
      " 2   nDEP      1225 non-null   float32\n",
      " 3   PHON      1225 non-null   bool   \n",
      " 4   dINC_SP   1225 non-null   float32\n",
      " 5   dINC_A    1225 non-null   float32\n",
      " 6   dHVAL     1225 non-null   float32\n",
      " 7   dMBO      1225 non-null   float32\n",
      " 8   dOUTM     1225 non-null   float32\n",
      " 9   dOUTL     1225 non-null   float32\n",
      " 10  dOUTHP    1225 non-null   float32\n",
      " 11  dOUTCC    1225 non-null   float32\n",
      " 12  BAD       1225 non-null   bool   \n",
      " 13  EMPS_A_E  1225 non-null   bool   \n",
      " 14  EMPS_A_M  1225 non-null   bool   \n",
      " 15  EMPS_A_N  1225 non-null   bool   \n",
      " 16  EMPS_A_P  1225 non-null   bool   \n",
      " 17  EMPS_A_R  1225 non-null   bool   \n",
      " 18  EMPS_A_T  1225 non-null   bool   \n",
      " 19  EMPS_A_U  1225 non-null   bool   \n",
      " 20  EMPS_A_V  1225 non-null   bool   \n",
      " 21  EMPS_A_W  1225 non-null   bool   \n",
      " 22  EMPS_A_Z  1225 non-null   bool   \n",
      " 23  RES_N     1225 non-null   bool   \n",
      " 24  RES_O     1225 non-null   bool   \n",
      " 25  RES_P     1225 non-null   bool   \n",
      " 26  RES_U     1225 non-null   bool   \n",
      "dtypes: bool(16), float32(11)\n",
      "memory usage: 71.9 KB\n"
     ]
    }
   ],
   "source": [
    "ix = df_coded.select_dtypes(include=\"uint8\").columns\n",
    "df_coded[ix] = df_coded[ix].astype(\"bool\")\n",
    "df_coded.info()"
   ]
  },
  {
   "cell_type": "markdown",
   "metadata": {
    "id": "vO38EkoKZTzP"
   },
   "source": [
    "The feature EMPS_A has more distinct levels. Considering the previous task, it is obvious that dummy coding the feature will increase dimensionality substantially. To avoid this, it makes sense to **regroup** the category levels prior to dummy coding. \n",
    "\n",
    "In the lecture on data preparation, we argued that a pivot table helps to identify category levels that we can merge. Specifically, we were recommending merging category levels for which the odds-ratio (i.e., the ratio of goods to bads) is similar. Write code to calculate the odds ratio for each level of the feature EMPS_A"
   ]
  },
  {
   "cell_type": "code",
   "execution_count": 22,
   "metadata": {
    "id": "agPvI8ejZTzP"
   },
   "outputs": [
    {
     "data": {
      "text/plain": [
       "P    531\n",
       "V    231\n",
       "E    124\n",
       "T    123\n",
       "R    104\n",
       "W     37\n",
       "B     30\n",
       "M     23\n",
       "Z      8\n",
       "U      8\n",
       "N      6\n",
       "Name: EMPS_A, dtype: int64"
      ]
     },
     "execution_count": 22,
     "metadata": {},
     "output_type": "execute_result"
    }
   ],
   "source": [
    "# Calculation of the odds-ratio for EMPS_A\n",
    "df.EMPS_A.value_counts()"
   ]
  },
  {
   "cell_type": "markdown",
   "metadata": {
    "id": "93iA4QJkZTzP"
   },
   "source": [
    "Now merge some category levels based on your solution to the previous task.  "
   ]
  },
  {
   "cell_type": "code",
   "execution_count": 32,
   "metadata": {
    "id": "CeKKvupOZTzP"
   },
   "outputs": [],
   "source": [
    "# Merge category levels from EMPS_A\n"
   ]
  },
  {
   "cell_type": "markdown",
   "metadata": {
    "id": "mR6iSiTPZTzP"
   },
   "source": [
    "The advantage of merging category levels is that we need less dummy variables for encoding the feature. On the other hand, by reducing category levels, we run the risk of losing information. It would make sense to check that our previous merging of category levels did not hurt, e.g., was not too aggressive. Why aggressive? Well, imagine you merge all category levels into one level. This would render the feature useless. So there is a trade-off between having few levels, to not increase dimensionality, and not having too few levels, to sustain the information in the feature for distinguishing good and bad applicants. To find a healthy balance between these conflicting objectives, we need a measure that tells us whether a grouping is informative. It turns out that a well-known statistical test, namely the $\\chi^2$ test, provides this functionality. \n",
    "- Run a quick web search to revisit the $\\chi^2$ test and understand how it is useful for judging a grouping of EMPS_A in our context.\n",
    "- Identify a way to calculate the $\\chi^2$ test statistic in Python\n",
    "- Calculate the test statistic for the original version of EMPS_A with 11 levels and the new version with less levels (i.e., solution to previous task)\n",
    "- Interpret the results and conclude whether your encoding of EMPS_A is suitable\n",
    "\n",
    "*HINT:* When merging categories, you should expect $\\chi^2$ test statistic to decrease unless the merged categories have exactly the same odds ratio. When deciding how many (and which) categories to merge, we should balance two conflicting objectives and try reducing the number of categories such that not too much information is lost. When fixing the number of categories, you can use the $\\chi^2$ test to compare competing encodings to select the one that preserves the most information. Play around with different ways to merge categories and try to select the one that achieves a good balance."
   ]
  },
  {
   "cell_type": "code",
   "execution_count": null,
   "metadata": {
    "id": "j1zQGSStZTzP"
   },
   "outputs": [],
   "source": [
    "# Chi^2 testing\n"
   ]
  },
  {
   "cell_type": "markdown",
   "metadata": {
    "id": "kDLUEmYaZTzP"
   },
   "source": [
    "# Well done. You did great in solving all the exercises!"
   ]
  },
  {
   "cell_type": "markdown",
   "metadata": {
    "id": "eqxmKIBHZTzP"
   },
   "source": [
    "**Optional**\n",
    "By solving the previous task, you have created a rather powerful mechanism to regroup categorical variables and judge the predictive power of the encoding prior to applying dummy coding. Write a function that wraps-up this functionality. In particular, your function should:\n",
    "- receive a categorical variable as input\n",
    "- check that the variable is actually a category\n",
    "- determine the number of unique levels\n",
    "- iteratively reduce the number of levels by:\n",
    "  - calculating the odds-ratio of all current levels\n",
    "  - merging the two levels whose odds ratio is most similar\n",
    "  - calculating the $\\chi^2$ statistic for the current grouping and store its value\n",
    "- plot the elbow curve for the $\\chi^2$ statistic against the number of levels\n",
    "- display the optimal encoding for each number of levels\n",
    "\n",
    "*HINT:* recall the elbow curve showing relationship between the distance and the number of clusters that we plotted in [Tutorial 2](https://github.com/Humboldt-WI/bads/blob/master/tutorials/2_nb_descriptive_analytics.ipynb). Your function should output a similar graph.\n",
    "\n",
    "Finally, check your implementation by applying the function to EMPS_A and interpreting the results.\n",
    "\n",
    "Note that the described procedure mimics the logic behind the [CHAID tree](https://towardsdatascience.com/clearly-explained-top-2-types-of-decision-trees-chaid-cart-8695e441e73e), which is a tree-based supervised learning algorithm that finds feature splits based on the $\\chi^2$ statistic. When pruning the CHAID tree, feature splits with the lowest value of the $\\chi^2$ statistic are removed, which is similar to what we do when merging categories such that the drop in the $\\chi^2$ statistic value is as small as possible. In the next turorials, you will learn more about tree-based algorithms and implement a decision tree from scratch. Solving this exercise will help you to make a step towards a better understanding of the principles of these learning algorithms."
   ]
  },
  {
   "cell_type": "code",
   "execution_count": null,
   "metadata": {
    "id": "zgTqNdOGZTzP"
   },
   "outputs": [],
   "source": [
    "# Solution to the optional task\n",
    "def optimize_grouping(cat_feature):    \n",
    "    return"
   ]
  }
 ],
 "metadata": {
  "colab": {
   "collapsed_sections": [],
   "name": "4_ex_data_prep.ipynb",
   "provenance": []
  },
  "kernelspec": {
   "display_name": "PyCharm (VHB-ProDok-Internal)",
   "language": "python",
   "name": "pycharm-e3448bea"
  },
  "language_info": {
   "codemirror_mode": {
    "name": "ipython",
    "version": 3
   },
   "file_extension": ".py",
   "mimetype": "text/x-python",
   "name": "python",
   "nbconvert_exporter": "python",
   "pygments_lexer": "ipython3",
   "version": "3.7.6"
  }
 },
 "nbformat": 4,
 "nbformat_minor": 4
}
