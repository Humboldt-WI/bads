{
 "cells": [
  {
   "cell_type": "markdown",
   "metadata": {
    "id": "XstQcr6KZbTV"
   },
   "source": [
    "[![Open In Colab](https://colab.research.google.com/assets/colab-badge.svg)](https://colab.research.google.com/github/Humboldt-WI/bads/blob/master/exercises/8_ex_ensemble_learning.ipynb) "
   ]
  },
  {
   "cell_type": "markdown",
   "metadata": {
    "id": "nhjDMKBTZbTV"
   },
   "source": [
    "# BADS Exercise 8 on ensemble learning\n",
    "This exercise revisits some of the concepts covered in [Tutorial 8 on ensemble learning](https://github.com/Humboldt-WI/bads/blob/master/tutorials/8_nb_ensemble_learning.ipynb). We will take a close look at bagging and analyze its impact on the predictive accuracy, and implement one of the boosting algorithms, Adaboost.\n",
    "\n",
    "## Loading the data \n",
    "Fo this tutorial, we will use HMEQ credit risk data available at [our GitHub repo](https://github.com/Humboldt-WI/bads/blob/master/data/hmeq_prepared.csv). By now, you have imported different data sets multiple times in previous tutorials, but this step is always necessary when working with data. Your preliminary task is to load the HMEQ data set into a `pandas DataFrame`."
   ]
  },
  {
   "cell_type": "code",
   "execution_count": 4,
   "metadata": {
    "id": "vpr9o9HxbT5v"
   },
   "outputs": [],
   "source": [
    "# Import libraries\n",
    "import pandas as pd\n",
    "import numpy as np\n",
    "\n",
    "# Load the data from GitHub\n",
    "data_url = 'https://raw.githubusercontent.com/Humboldt-WI/bads/master/data/hmeq_modeling.csv' \n",
    "df       = pd.read_csv(data_url, index_col = 'index')\n",
    "\n",
    "# encode target variable\n",
    "df['BAD'] = df['BAD'].astype(int) \n",
    "\n",
    "# create variables X and y for subsequent parts\n",
    "y = df.pop('BAD')\n",
    "X = df"
   ]
  },
  {
   "cell_type": "markdown",
   "metadata": {
    "id": "Bqw_wcW2ZbTW"
   },
   "source": [
    "Now we can proceed to the tasks on ensemble learning!"
   ]
  },
  {
   "cell_type": "markdown",
   "metadata": {
    "id": "VoW4Z3kIPnZk"
   },
   "source": [
    "## Tasks"
   ]
  },
  {
   "cell_type": "markdown",
   "metadata": {
    "id": "L3thD4BpPvqW"
   },
   "source": [
    "### Task 1\n",
    "\n",
    "Ensemble learning works by reducing bias and/or variance. We begin with examining the variance component. \n",
    "\n",
    "In the first task, you will write code that trains and tests a classifier multiple times on different subsets of HMEQ data and examines the classifier preformance. We prepared two versions of this task: *simple* and *for the experts*. Read the task description below and proceed with the version you feel ready to tackle!"
   ]
  },
  {
   "cell_type": "markdown",
   "metadata": {
    "id": "yT8GKYaYSp9y"
   },
   "source": [
    "*Simple version:* set up a loop to sample the data, calling the sklearn function `train_test_split()` multiple times in a loop. You can use either logistic regression or a decision tree as a classifier. Train and test a new classifier on the sampled data in each iteration of the loop and compute its AUC on the test set. Run your code for 100 iterations and visualize the variation in AUC performance by means of a boxplot. Briefly discuss your findings."
   ]
  },
  {
   "cell_type": "code",
   "execution_count": 2,
   "metadata": {},
   "outputs": [
    {
     "data": {
      "text/plain": [
       "(5960, 18)"
      ]
     },
     "execution_count": 2,
     "metadata": {},
     "output_type": "execute_result"
    }
   ],
   "source": [
    "X.shape"
   ]
  },
  {
   "cell_type": "code",
   "execution_count": 5,
   "metadata": {
    "id": "I86l0smaQSfm"
   },
   "outputs": [],
   "source": [
    "from sklearn.linear_model import LogisticRegression\n",
    "from sklearn.tree import DecisionTreeClassifier\n",
    "from sklearn.model_selection import train_test_split\n",
    "from sklearn.metrics import roc_auc_score\n",
    "\n",
    "n = 100  # number of iterations\n",
    "test_frac = 0.3  # Percentage of test set cases\n",
    "\n",
    "\n",
    "model = DecisionTreeClassifier(max_depth=5)\n",
    "model_performance = []\n",
    "for i in np.arange(n):\n",
    "    \n",
    "    # Partion the data\n",
    "    X_tr, X_ts, y_tr, y_ts = train_test_split(X, y, test_size=test_frac)\n",
    "    \n",
    "    # Train the model\n",
    "    model.fit(X_tr, y_tr)\n",
    "    \n",
    "    \n",
    "    # Apply model to test set\n",
    "    y_hat = model.predict_proba(X_ts)[:, 1]\n",
    "    \n",
    "    # Get model performance\n",
    "    auc = roc_auc_score(y_ts, y_hat)\n",
    "    \n",
    "    # Store results\n",
    "    model_performance.append(auc)\n",
    "    "
   ]
  },
  {
   "cell_type": "code",
   "execution_count": 6,
   "metadata": {},
   "outputs": [
    {
     "data": {
      "image/png": "[encoded data removed]",
      "text/plain": [
       "<Figure size 432x288 with 1 Axes>"
      ]
     },
     "metadata": {
      "needs_background": "light"
     },
     "output_type": "display_data"
    }
   ],
   "source": [
    "## Chart performance estimates\n",
    "import matplotlib.pyplot as plt\n",
    "\n",
    "plt.boxplot(model_performance)\n",
    "plt.show()\n"
   ]
  },
  {
   "cell_type": "markdown",
   "metadata": {
    "id": "q2GkdCKHQGa4"
   },
   "source": [
    "*For the experts:* perform the same task as above but wrap your code in a function `examine_variance()` that:\n",
    "- supports both logit and decision tree as a classifier\n",
    "- allows to specify the number of iterations and test sample size\n",
    "- facilitates controlled sampling of the data such that you randomize either the training or the test set or both sets in each iteration. The idea is that your code should let you study the isolated effect of randomizing only the training data while always predicting the same test data, or the isolated effect of applying the same model to multiple randomized test sets, or the overall effect of sampling the data just as in the simple version\n",
    "- returns a list of AUC values from each iteration\n",
    "\n",
    "Run your function for 100 iterations and visualize the AUC values using a boxplot. Briefly discuss differences between the AUC variance when randomizing the training data, the test data or both. "
   ]
  },
  {
   "cell_type": "code",
   "execution_count": 4,
   "metadata": {
    "id": "MdO6A7TxbI_5"
   },
   "outputs": [],
   "source": [
    "def bootstrap(X, y, bts_size=None, seed=1):\n",
    "    ''' Draw a bootstrap sample of the data (i.e., X and y) and return '''\n",
    "    \n",
    "    \n",
    "    if bts_size == None:\n",
    "        bts_size = X.shape[0]\n",
    "    \n",
    "    np.random.seed(seed)\n",
    "        \n",
    "    # Draw a sample of random int values that we can use to index our data\n",
    "    idx = np.random.randint(low=0, high=X.shape[0], size=bts_size)\n",
    "    \n",
    "    X_bts = X.iloc[idx]\n",
    "    y_bts = y.iloc[idx]\n",
    "    \n",
    "    return (X_bts, y_bts)"
   ]
  },
  {
   "cell_type": "code",
   "execution_count": 5,
   "metadata": {
    "id": "MdO6A7TxbI_5"
   },
   "outputs": [],
   "source": [
    "def examine_variance(model, X, y, n_iter=100, test_frac=0.3, rnd_train=True, rnd_test=True):\n",
    "    \n",
    "    model_performance = []\n",
    "    \n",
    "    # Partion the data\n",
    "    X_tr, X_ts, y_tr, y_ts = train_test_split(X, y, test_size=test_frac, random_state=8)\n",
    "\n",
    "    for i in np.arange(n):\n",
    "    \n",
    "        # Check if we need to bootstrap the training set\n",
    "        if rnd_train==True:\n",
    "            X_tr_bts, y_tr_bts = bootstrap(X_tr, y_tr, seed=i)\n",
    "        else:\n",
    "            X_tr_bts = X_tr.copy()\n",
    "            y_tr_bts = y_tr.copy()\n",
    "    \n",
    "        # Train the model\n",
    "        model.fit(X_tr_bts, y_tr_bts)\n",
    "\n",
    "        # Check if we need to bootstrap the test set    \n",
    "        if rnd_test==True:\n",
    "            X_ts_bts, y_ts_bts = bootstrap(X_ts, y_ts, seed=i)\n",
    "        else:\n",
    "            X_ts_bts = X_ts.copy()\n",
    "            y_ts_bts = y_ts.copy()\n",
    "\n",
    "        # Apply model to test set\n",
    "        y_hat = model.predict_proba(X_ts_bts)[:, 1]\n",
    "\n",
    "        # Get model performance\n",
    "        auc = roc_auc_score(y_ts_bts, y_hat)\n",
    "\n",
    "        # Store results\n",
    "        model_performance.append(auc)\n",
    "    \n",
    "    \n",
    "    return model_performance\n",
    "    "
   ]
  },
  {
   "cell_type": "code",
   "execution_count": 6,
   "metadata": {},
   "outputs": [],
   "source": [
    "tree = DecisionTreeClassifier(max_depth=5)\n",
    "logit = LogisticRegression()\n",
    "\n",
    "# Randomize the test set\n",
    "auc_tree_ts = examine_variance(tree, X, y, rnd_train=False, rnd_test=True)\n",
    "auc_logit_ts = examine_variance(logit, X, y, rnd_train=False, rnd_test=True)\n",
    "\n",
    "# Randomize the training set\n",
    "auc_tree_tr = examine_variance(tree, X, y, rnd_train=True, rnd_test=False)\n",
    "auc_logit_tr = examine_variance(logit, X, y, rnd_train=True, rnd_test=False)\n",
    "\n",
    "#Randomize bot sets\n",
    "auc_tree_both = examine_variance(tree, X, y, rnd_train=True, rnd_test=True)\n",
    "auc_logit_both = examine_variance(logit, X, y, rnd_train=True, rnd_test=True)"
   ]
  },
  {
   "cell_type": "code",
   "execution_count": 7,
   "metadata": {},
   "outputs": [
    {
     "data": {
      "image/png": "[encoded data removed]",
      "text/plain": [
       "<Figure size 432x288 with 1 Axes>"
      ]
     },
     "metadata": {
      "needs_background": "light"
     },
     "output_type": "display_data"
    }
   ],
   "source": [
    "plt.boxplot([auc_tree_tr, auc_logit_tr, auc_tree_ts, auc_logit_ts, auc_tree_both, auc_logit_both])\n",
    "plt.xticks(ticks=[1, 2, 3, 4, 5, 6], labels=['Tree-TR', 'Logit-TR', 'Tree-TS', 'Logit-TS', 'Tree', 'Logit'])\n",
    "plt.show()"
   ]
  },
  {
   "cell_type": "code",
   "execution_count": 8,
   "metadata": {},
   "outputs": [
    {
     "data": {
      "image/png": "[encoded data removed]",
      "text/plain": [
       "<Figure size 432x288 with 1 Axes>"
      ]
     },
     "metadata": {
      "needs_background": "light"
     },
     "output_type": "display_data"
    }
   ],
   "source": [
    "plt.boxplot([auc_tree_tr, auc_logit_tr, auc_tree_ts, auc_logit_ts, auc_tree_both, auc_logit_both])\n",
    "plt.xticks(ticks=[1, 2, 3, 4, 5, 6], labels=['Tree-TR', 'Logit-TR', 'Tree-TS', 'Logit-TS', 'Tree', 'Logit'])\n",
    "plt.show()"
   ]
  },
  {
   "cell_type": "markdown",
   "metadata": {
    "id": "WuacyFZIQTTb"
   },
   "source": [
    "### Task 2\n",
    "\n",
    "Implement a bagged logistic regression classifier from scratch. You can use the `sklearn` class `LogisticRegressionClassifier` for implementing the base model. The actual bagging step, however, should be implemented from scratch"
   ]
  },
  {
   "cell_type": "code",
   "execution_count": 9,
   "metadata": {
    "id": "rC2PKhiBNZfp"
   },
   "outputs": [],
   "source": [
    "def bagging(bag_X, bag_y, test_data, useLogit=True, bagging_steps=100, bag_seed=888):\n",
    "    \n",
    "    ensemble = []\n",
    "    for i in np.arange(bagging_steps):\n",
    "        # bootstrap sampling\n",
    "        Xtr, ytr = bootstrap(bag_X, bag_y, seed=i+bag_seed)\n",
    "    \n",
    "        # check a classifier is available\n",
    "        if useLogit==True:\n",
    "            classifier = LogisticRegression()\n",
    "        else:\n",
    "            classifier = DecisionTreeClassifier()\n",
    "    \n",
    "        # fit model to data    \n",
    "        classifier.fit(Xtr, ytr)\n",
    "    \n",
    "        # add classifier to ensemble\n",
    "        ensemble.append(classifier)\n",
    "    \n",
    "    # predict test data if any\n",
    "    yhat = []\n",
    "    #yhat_ensemble = 0\n",
    "    #if test_data != None:\n",
    "    for model in ensemble:\n",
    "        yhat.append( model.predict_proba(test_data)[:,1] )\n",
    "    \n",
    "    yhat_ensemble = np.mean(yhat, axis=0)\n",
    "\n",
    "    return ensemble, yhat_ensemble, yhat"
   ]
  },
  {
   "cell_type": "markdown",
   "metadata": {
    "id": "S8B1ql4cQXYM"
   },
   "source": [
    "### Task 3\n",
    "\n",
    "Theory predicts that bagging should work better for unstable base models like trees than for stable base models like logistic regression. Use the custom bagging algorithm developed in Task 2 to verify this assertion for the HMEQ loan dataset. Specifically:\n",
    "  - chose a proper experimental design to compare models (split-sample or cross-validation)\n",
    "  - train two simple classifiers: \n",
    "    - logistic regression\n",
    "    - decision tree\n",
    "  - train two bagging classifiers:\n",
    "      - bagged logistic regression\n",
    "      - bagged decision tree\n",
    "  - both bagging classifiers should use your custom bagging function from Task 2\n",
    "  - compare the predictive performance of the bagging ensembles on the test data and briefly discuss your findings"
   ]
  },
  {
   "cell_type": "code",
   "execution_count": 10,
   "metadata": {},
   "outputs": [
    {
     "name": "stdout",
     "output_type": "stream",
     "text": [
      "AUC of logit is:  0.8157368502956739\n",
      "AUC of bagged logit is:  0.814828431372549\n",
      "AUC of tree is:  0.8778225178960474\n",
      "AUC of bagged Tree is:  0.9311284235916588\n"
     ]
    }
   ],
   "source": [
    "# partition the data\n",
    "Xtrain, Xtest, ytrain, ytest = train_test_split(X, y, test_size=0.3)\n",
    "\n",
    "# create bagged logistic regression\n",
    "bagged_logit, yhat, yhat_all = bagging(Xtrain, ytrain, Xtest, useLogit=True, bagging_steps=10)\n",
    "\n",
    "# create bagged tree classifier\n",
    "bagged_tree, yhat_tree, _ = bagging(Xtrain, ytrain, Xtest, useLogit=False, bagging_steps=10)\n",
    "\n",
    "# Single model versions of logit & tree\n",
    "logit = LogisticRegression()\n",
    "logit.fit(Xtrain, ytrain)\n",
    "\n",
    "tree = DecisionTreeClassifier(max_depth=5)\n",
    "tree.fit(Xtrain, ytrain)\n",
    "\n",
    "print(\"AUC of logit is: \", roc_auc_score(ytest, logit.predict_proba(Xtest)[:,1]))\n",
    "print(\"AUC of bagged logit is: \", roc_auc_score(ytest, yhat))\n",
    "\n",
    "print(\"AUC of tree is: \", roc_auc_score(ytest, tree.predict_proba(Xtest)[:,1]))\n",
    "print(\"AUC of bagged Tree is: \", roc_auc_score(ytest, yhat_tree))\n"
   ]
  },
  {
   "cell_type": "code",
   "execution_count": 10,
   "metadata": {
    "id": "P3Vl67GuNZRn"
   },
   "outputs": [
    {
     "name": "stdout",
     "output_type": "stream",
     "text": [
      "AUC of logit is:  0.7834756425677387\n",
      "AUC of bagged logit is:  0.7836517156242087\n",
      "AUC of tree is:  0.8548129273233729\n",
      "AUC of bagged Tree is:  0.8860728190681186\n"
     ]
    }
   ],
   "source": [
    "# Partition the data\n",
    "Xtrain, Xtest, ytrain, ytest = train_test_split(X, y, test_size=0.3)\n",
    "\n",
    "# Single model versions of logit & tree\n",
    "logit = LogisticRegression()\n",
    "logit.fit(Xtrain, ytrain)\n",
    "\n",
    "tree = DecisionTreeClassifier(max_depth=5)\n",
    "tree.fit(Xtrain, ytrain)\n",
    "\n",
    "# Bagged logit\n",
    "blogit = Bagged_learner(base_learner=logit, bagging_steps=100, bag_seed=888)\n",
    "blogit.fit(Xtrain, ytrain)\n",
    "\n",
    "# Bagged logit\n",
    "btree = Bagged_learner(base_learner=tree, bagging_steps=100, bag_seed=888)\n",
    "btree.fit(Xtrain, ytrain)\n",
    "\n",
    "print(\"AUC of logit is: \", roc_auc_score(ytest, logit.predict_proba(Xtest)[:,1]))\n",
    "# prediction of bagged logit\n",
    "yhat_blogit, _ = blogit.predict_proba(Xtest)\n",
    "print(\"AUC of bagged logit is: \", roc_auc_score(ytest, yhat_blogit))\n",
    "\n",
    "#prediction of bagged tree\n",
    "yhat_tree, _ = btree.predict_proba(Xtest)\n",
    "print(\"AUC of tree is: \", roc_auc_score(ytest, tree.predict_proba(Xtest)[:,1]))\n",
    "print(\"AUC of bagged Tree is: \", roc_auc_score(ytest, yhat_tree))"
   ]
  },
  {
   "cell_type": "code",
   "execution_count": 7,
   "metadata": {},
   "outputs": [],
   "source": [
    "class Bagged_learner:\n",
    "    \n",
    "    def __init__(self, base_learner, bagging_steps=100, bag_seed=888):\n",
    "        \"\"\" Constructor:\n",
    "            Receives configuration information and stores it in objects of the class.\n",
    "        \"\"\"\n",
    "        self.steps = bagging_steps\n",
    "        self.base_learner = base_learner\n",
    "        self.seed = bag_seed\n",
    "        self.ensemble = []  # list with trained base models\n",
    "            \n",
    "    \n",
    "    def bootstrap(self, X, y, sample_size=0, bag_seed=888):\n",
    "        \"\"\"\n",
    "        Draw bootstrap sample of the data\n",
    "        \"\"\"    \n",
    "        if sample_size == 0:\n",
    "            sample_size = X.shape[0]\n",
    "    \n",
    "        np.random.seed(bag_seed)\n",
    "        # Draw a sample of random int values that we can use to index our data\n",
    "        idx = np.random.randint(low=0, high=X.shape[0], size=sample_size)\n",
    "    \n",
    "        X_bts = X.iloc[idx]\n",
    "        y_bts = y.iloc[idx]\n",
    "    \n",
    "        return (X_bts, y_bts)\n",
    "    \n",
    "    def fit(self, X, y):\n",
    "        \"\"\"\n",
    "        Training step:\n",
    "        Train base learner multiple times and add to internal list representing the ensemble\n",
    "        \"\"\"\n",
    "        \n",
    "        # Bagging loop training one base model per iteration\n",
    "        for i in np.arange(self.steps):\n",
    "            # draw bootstrap sample\n",
    "            Xtr, ytr = self.bootstrap(X, y, bag_seed=i+self.seed)\n",
    "            \n",
    "            # fit model to that sample\n",
    "            model = sklearn.base.clone(self.base_learner)\n",
    "            model.fit(Xtr, ytr)\n",
    "    \n",
    "            # add classifier to ensemble\n",
    "            self.ensemble.append(model)\n",
    "        \n",
    "        \n",
    "    def predict_proba(self, X):    \n",
    "        \"\"\" Predict test data\"\"\"\n",
    "        \n",
    "        # call every base model and collect test set predictions\n",
    "        yhat_base = []\n",
    "        for model in self.ensemble:\n",
    "            yhat_base.append( model.predict_proba(X)[:,1] )\n",
    "    \n",
    "        # create composite forecast as simple average\n",
    "        yhat_ensemble = np.mean(yhat_base, axis=0)\n",
    "        \n",
    "        return yhat_ensemble, yhat_base\n",
    "    "
   ]
  },
  {
   "cell_type": "markdown",
   "metadata": {
    "id": "hOXR9MN3QaxJ"
   },
   "source": [
    "### Task 4 [optional]\n",
    "\n",
    "#### 4.1. Further enhance the analysis from Task 3 as follows:\n",
    "  - repeat the comparison of bagged logit versus bagged trees multiple times with different training and testing data sets\n",
    "  - depict the results (predictive performance) as a boxplot"
   ]
  },
  {
   "cell_type": "code",
   "execution_count": 12,
   "metadata": {
    "id": "I1sd1D6o5gkt"
   },
   "outputs": [],
   "source": [
    "n_runs = 25  # number of repetitions of the experiment\n",
    "\n",
    "# prepare data structure to store the results (i.e., auc per model and run)\n",
    "auc_logit = []\n",
    "auc_tree = []\n",
    "# ... not a good solution\n",
    "\n",
    "# could use a dic -> good idea\n",
    "results = {\"logit\": [], \"tree\": [], \"bag_logit\": [], \"bag_tree\": [] }\n",
    "\n",
    "# could also use a data frame -> also suitable\n",
    "dfresults = pd.DataFrame(columns=['logit', 'tree', 'bag_logit', 'bag_tree'])\n",
    "\n",
    "# Single model versions of logit & tree\n",
    "logit = LogisticRegression()\n",
    "tree = DecisionTreeClassifier(max_depth=5)    \n",
    "\n",
    "for i in np.arange(n_runs):\n",
    "    # Partition the data\n",
    "    #--------------------------------------------\n",
    "    Xtrain, Xtest, ytrain, ytest = train_test_split(X, y, test_size=0.3, random_state=i)\n",
    "\n",
    "    # Training step\n",
    "    #--------------------------------------------\n",
    "    # Fit single models\n",
    "    logit.fit(Xtrain, ytrain)\n",
    "    tree.fit(Xtrain, ytrain)\n",
    "\n",
    "    # Bagged logit\n",
    "    blogit = Bagged_learner(base_learner=logit, bagging_steps=100, bag_seed=888)\n",
    "    blogit.fit(Xtrain, ytrain)\n",
    "\n",
    "    # Bagged tree\n",
    "    btree = Bagged_learner(base_learner=tree, bagging_steps=100, bag_seed=888)\n",
    "    btree.fit(Xtrain, ytrain)\n",
    "\n",
    "    # Prediction step\n",
    "    #--------------------------------------------\n",
    "    yhat_blogit, _ = blogit.predict_proba(Xtest)\n",
    "    yhat_btree, _ = btree.predict_proba(Xtest)\n",
    "    \n",
    "    # Store results\n",
    "    results[\"logit\"].append( roc_auc_score(ytest, logit.predict_proba(Xtest)[:,1]) )\n",
    "    results[\"bag_logit\"].append( roc_auc_score(ytest, yhat_blogit) )\n",
    "    \n",
    "    results[\"tree\"].append( roc_auc_score(ytest, tree.predict_proba(Xtest)[:,1]) )\n",
    "    results[\"bag_tree\"].append( roc_auc_score(ytest, yhat_btree) )\n",
    "    \n",
    "    # not needed for the task and only for illustration: how to use the data frame\n",
    "    dfresults.loc[i, 'logit'] = roc_auc_score(ytest, logit.predict_proba(Xtest)[:,1])\n",
    "    dfresults.loc[i, 'tree']  = roc_auc_score(ytest,  tree.predict_proba(Xtest)[:,1])\n",
    "    dfresults.loc[i, 'bag_logit'] = roc_auc_score(ytest, yhat_blogit)\n",
    "    dfresults.loc[i, 'bag_tree']  = roc_auc_score(ytest, yhat_btree)\n",
    "    \n"
   ]
  },
  {
   "cell_type": "code",
   "execution_count": 17,
   "metadata": {},
   "outputs": [
    {
     "data": {
      "image/png": "[encoded data removed]",
      "text/plain": [
       "<Figure size 432x288 with 1 Axes>"
      ]
     },
     "metadata": {
      "needs_background": "light"
     },
     "output_type": "display_data"
    }
   ],
   "source": [
    "# Visualize results\n",
    "plt.boxplot(dfresults.values)\n",
    "plt.ylabel('AUC')\n",
    "plt.xticks(ticks = [1, 2, 3, 4], labels=dfresults.columns)\n",
    "plt.show()"
   ]
  },
  {
   "cell_type": "markdown",
   "metadata": {
    "id": "X7LVHGBro09H"
   },
   "source": [
    "### 4.2. Investigate the impact of the ensemble size:\n",
    "- try out different settings for the hyperparameter *ensemble size* (number of bagging iterations)\n",
    "- produce a line plot of predictive performance versus ensemble size for bagged logit and bagged tree\n",
    "- identify the suitable ensemble size for both classifiers  "
   ]
  },
  {
   "cell_type": "code",
   "execution_count": 33,
   "metadata": {
    "id": "vla-mENcoyAN"
   },
   "outputs": [],
   "source": [
    "# data partitioning\n",
    "Xtrain, Xtest, ytrain, ytest = train_test_split(X, y, test_size=0.3, random_state=i)\n",
    "\n",
    "# max ensemble size \n",
    "max_size = 500\n",
    "\n",
    "# fit one ensemble of maximum size\n",
    "blogit = Bagged_learner(base_learner=logit, bagging_steps=max_size, bag_seed=888)\n",
    "blogit.fit(Xtrain, ytrain)\n",
    "\n",
    "btree = Bagged_learner(base_learner=tree, bagging_steps=max_size, bag_seed=888)\n",
    "btree.fit(Xtrain, ytrain)\n",
    "\n",
    "# get prediction\n",
    "_, yhat_base = blogit.predict_proba(Xtest)\n",
    "_, yhat_base_tree = btree.predict_proba(Xtest)"
   ]
  },
  {
   "cell_type": "code",
   "execution_count": null,
   "metadata": {
    "id": "vla-mENcoyAN"
   },
   "outputs": [],
   "source": []
  },
  {
   "cell_type": "code",
   "execution_count": 34,
   "metadata": {
    "id": "vla-mENcoyAN"
   },
   "outputs": [
    {
     "data": {
      "image/png": "[encoded data removed]",
      "text/plain": [
       "<Figure size 432x288 with 1 Axes>"
      ]
     },
     "metadata": {
      "needs_background": "light"
     },
     "output_type": "display_data"
    }
   ],
   "source": [
    "aucs_logit = []  # data structure to collect results\n",
    "aucs_tree = []\n",
    "# for loop using different ensemble sizes\n",
    "for i in np.arange(max_size):\n",
    "    \n",
    "    # i is zero in the first iteration\n",
    "    if i==0:\n",
    "        continue\n",
    "    \n",
    "    # simulate ensemble of size i\n",
    "    yhat = np.mean(yhat_base[:i], axis=0)\n",
    "    yhat_tree = np.mean(yhat_base_tree[:i], axis=0)\n",
    "    \n",
    "    # store the results\n",
    "    aucs_logit.append(roc_auc_score(ytest, yhat))\n",
    "    aucs_tree.append(roc_auc_score(ytest, yhat_tree))\n",
    "    \n",
    "# visualize the results\n",
    "plt.plot(aucs_logit, label='logit')\n",
    "plt.plot(aucs_tree, label='tree')\n",
    "plt.ylabel('AUC')\n",
    "plt.legend(loc='best')\n",
    "plt.show()"
   ]
  },
  {
   "cell_type": "markdown",
   "metadata": {
    "id": "nanPbDybSGpO"
   },
   "source": [
    "### Task 5\n",
    "Write a custom Python function that implements the *Adaboost* algorithm. Follow the pseudo-code of the algorithm, as shown in the lecture materials. Design your function such that it accepts a `sklearn` model object as argument and than runs Adaboost using the corresponding base classifier. Test your function on the HMEQ data and evaluate performance in terms of AUC."
   ]
  },
  {
   "cell_type": "markdown",
   "metadata": {
    "id": "K0v5WATBZbTX"
   },
   "source": [
    "# Well done! Your ensembles performed great!"
   ]
  }
 ],
 "metadata": {
  "colab": {
   "collapsed_sections": [],
   "name": "8_ex_ensemble_learning.ipynb",
   "provenance": []
  },
  "kernelspec": {
   "display_name": "PyCharm (VHB-ProDok-Internal)",
   "language": "python",
   "name": "pycharm-e3448bea"
  },
  "language_info": {
   "codemirror_mode": {
    "name": "ipython",
    "version": 3
   },
   "file_extension": ".py",
   "mimetype": "text/x-python",
   "name": "python",
   "nbconvert_exporter": "python",
   "pygments_lexer": "ipython3",
   "version": "3.7.6"
  }
 },
 "nbformat": 4,
 "nbformat_minor": 4
}
