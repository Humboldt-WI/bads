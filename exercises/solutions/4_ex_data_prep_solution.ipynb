{
 "cells": [
  {
   "cell_type": "markdown",
   "metadata": {
    "id": "XstQcr6KZbTV"
   },
   "source": [
    "[![Open In Colab](https://colab.research.google.com/assets/colab-badge.svg)](https://colab.research.google.com/github/Humboldt-WI/bads/blob/master/exercises/4_ex_data_prep.ipynb) "
   ]
  },
  {
   "cell_type": "markdown",
   "metadata": {
    "id": "nhjDMKBTZbTV"
   },
   "source": [
    "# BADS Exercise 4 on data preparation\n",
    "This exercise revisits some of the concepts covered in [Tutorial 4 on data preparation](https://github.com/Humboldt-WI/bads/blob/master/tutorials/4_nb_data_preparation.ipynb). That tutorial was rather comprehensive and provided a lot of materials and codes associated with typical tasks in the wide scope of data preparation. Therefore, the exercises will not go beyond [Tutorial 4](https://github.com/Humboldt-WI/bads/blob/master/tutorials/4_nb_data_preparation.ipynb). Rather, we will consider a different data set and repeat some standard data prep. tasks for that data set.   "
   ]
  },
  {
   "cell_type": "code",
   "execution_count": 1,
   "metadata": {
    "executionInfo": {
     "elapsed": 2,
     "status": "ok",
     "timestamp": 1670414815997,
     "user": {
      "displayName": "Georg B",
      "userId": "16990759077565939430"
     },
     "user_tz": -60
    },
    "id": "L13gQSOEQh8K"
   },
   "outputs": [],
   "source": [
    "# Space to load some standard libraries \n",
    "import pandas as pd\n",
    "import numpy as np \n",
    "import matplotlib.pyplot as plt"
   ]
  },
  {
   "cell_type": "markdown",
   "metadata": {
    "id": "Luq8uXLmQh8M"
   },
   "source": [
    "## 1 Loading the data \n",
    "The data set for this tutorial comes from the classic Book Credit Scoring and its Applications by Lyn C. Thomas, David B. Edelman, and Jonathan N. Crook. You can obtain the data, called *loan_data* from our [GitHub repository](https://github.com/Humboldt-WI/bads/tree/master/data). The data folder of the repository also provides a file *loan_data_dictionary*, which offers a brief description of the features in this data set. In a nutshell, the data represents yet another vanilla credit scoring task with a binary target variable, indicating whether bank customers repaid their debt or defaulted, and a few features characterizing credit applicants. Your first task is to load the data into a `Pandas DataFrame`."
   ]
  },
  {
   "cell_type": "code",
   "execution_count": 2,
   "metadata": {
    "colab": {
     "base_uri": "https://localhost:8080/",
     "height": 424
    },
    "executionInfo": {
     "elapsed": 263,
     "status": "ok",
     "timestamp": 1670414816488,
     "user": {
      "displayName": "Georg B",
      "userId": "16990759077565939430"
     },
     "user_tz": -60
    },
    "id": "bgGuosuKZbTV",
    "outputId": "446cc487-d9f4-4123-d457-defc86d549a7"
   },
   "outputs": [
    {
     "data": {
      "text/html": [
       "<div>\n",
       "<style scoped>\n",
       "    .dataframe tbody tr th:only-of-type {\n",
       "        vertical-align: middle;\n",
       "    }\n",
       "\n",
       "    .dataframe tbody tr th {\n",
       "        vertical-align: top;\n",
       "    }\n",
       "\n",
       "    .dataframe thead th {\n",
       "        text-align: right;\n",
       "    }\n",
       "</style>\n",
       "<table border=\"1\" class=\"dataframe\">\n",
       "  <thead>\n",
       "    <tr style=\"text-align: right;\">\n",
       "      <th></th>\n",
       "      <th>YOB</th>\n",
       "      <th>nKIDS</th>\n",
       "      <th>nDEP</th>\n",
       "      <th>PHON</th>\n",
       "      <th>dINC_SP</th>\n",
       "      <th>EMPS_A</th>\n",
       "      <th>dINC_A</th>\n",
       "      <th>RES</th>\n",
       "      <th>dHVAL</th>\n",
       "      <th>dMBO</th>\n",
       "      <th>dOUTM</th>\n",
       "      <th>dOUTL</th>\n",
       "      <th>dOUTHP</th>\n",
       "      <th>dOUTCC</th>\n",
       "      <th>BAD</th>\n",
       "    </tr>\n",
       "  </thead>\n",
       "  <tbody>\n",
       "    <tr>\n",
       "      <th>0</th>\n",
       "      <td>19.0</td>\n",
       "      <td>4.0</td>\n",
       "      <td>0.0</td>\n",
       "      <td>1</td>\n",
       "      <td>0.0</td>\n",
       "      <td>R</td>\n",
       "      <td>0.0</td>\n",
       "      <td>O</td>\n",
       "      <td>14464.0</td>\n",
       "      <td>4.0</td>\n",
       "      <td>0.0</td>\n",
       "      <td>0.0</td>\n",
       "      <td>0.0</td>\n",
       "      <td>0.0</td>\n",
       "      <td>0.0</td>\n",
       "    </tr>\n",
       "    <tr>\n",
       "      <th>1</th>\n",
       "      <td>41.0</td>\n",
       "      <td>2.0</td>\n",
       "      <td>0.0</td>\n",
       "      <td>1</td>\n",
       "      <td>0.0</td>\n",
       "      <td>P</td>\n",
       "      <td>36000.0</td>\n",
       "      <td>O</td>\n",
       "      <td>0.0</td>\n",
       "      <td>0.0</td>\n",
       "      <td>280.0</td>\n",
       "      <td>664.0</td>\n",
       "      <td>0.0</td>\n",
       "      <td>80.0</td>\n",
       "      <td>0.0</td>\n",
       "    </tr>\n",
       "    <tr>\n",
       "      <th>2</th>\n",
       "      <td>66.0</td>\n",
       "      <td>0.0</td>\n",
       "      <td>0.0</td>\n",
       "      <td>1</td>\n",
       "      <td>0.0</td>\n",
       "      <td>N</td>\n",
       "      <td>30000.0</td>\n",
       "      <td>N</td>\n",
       "      <td>0.0</td>\n",
       "      <td>0.0</td>\n",
       "      <td>0.0</td>\n",
       "      <td>0.0</td>\n",
       "      <td>0.0</td>\n",
       "      <td>0.0</td>\n",
       "      <td>0.0</td>\n",
       "    </tr>\n",
       "    <tr>\n",
       "      <th>3</th>\n",
       "      <td>51.0</td>\n",
       "      <td>2.0</td>\n",
       "      <td>0.0</td>\n",
       "      <td>1</td>\n",
       "      <td>0.0</td>\n",
       "      <td>P</td>\n",
       "      <td>464.0</td>\n",
       "      <td>O</td>\n",
       "      <td>24928.0</td>\n",
       "      <td>8464.0</td>\n",
       "      <td>584.0</td>\n",
       "      <td>320.0</td>\n",
       "      <td>0.0</td>\n",
       "      <td>60.0</td>\n",
       "      <td>0.0</td>\n",
       "    </tr>\n",
       "    <tr>\n",
       "      <th>4</th>\n",
       "      <td>65.0</td>\n",
       "      <td>0.0</td>\n",
       "      <td>0.0</td>\n",
       "      <td>1</td>\n",
       "      <td>0.0</td>\n",
       "      <td>P</td>\n",
       "      <td>15000.0</td>\n",
       "      <td>P</td>\n",
       "      <td>0.0</td>\n",
       "      <td>0.0</td>\n",
       "      <td>0.0</td>\n",
       "      <td>0.0</td>\n",
       "      <td>0.0</td>\n",
       "      <td>0.0</td>\n",
       "      <td>0.0</td>\n",
       "    </tr>\n",
       "    <tr>\n",
       "      <th>...</th>\n",
       "      <td>...</td>\n",
       "      <td>...</td>\n",
       "      <td>...</td>\n",
       "      <td>...</td>\n",
       "      <td>...</td>\n",
       "      <td>...</td>\n",
       "      <td>...</td>\n",
       "      <td>...</td>\n",
       "      <td>...</td>\n",
       "      <td>...</td>\n",
       "      <td>...</td>\n",
       "      <td>...</td>\n",
       "      <td>...</td>\n",
       "      <td>...</td>\n",
       "      <td>...</td>\n",
       "    </tr>\n",
       "    <tr>\n",
       "      <th>1220</th>\n",
       "      <td>52.0</td>\n",
       "      <td>4.0</td>\n",
       "      <td>1.0</td>\n",
       "      <td>1</td>\n",
       "      <td>0.0</td>\n",
       "      <td>V</td>\n",
       "      <td>37764.0</td>\n",
       "      <td>U</td>\n",
       "      <td>0.0</td>\n",
       "      <td>0.0</td>\n",
       "      <td>0.0</td>\n",
       "      <td>340.0</td>\n",
       "      <td>0.0</td>\n",
       "      <td>0.0</td>\n",
       "      <td>0.0</td>\n",
       "    </tr>\n",
       "    <tr>\n",
       "      <th>1221</th>\n",
       "      <td>56.0</td>\n",
       "      <td>3.0</td>\n",
       "      <td>0.0</td>\n",
       "      <td>1</td>\n",
       "      <td>1200.0</td>\n",
       "      <td>P</td>\n",
       "      <td>31500.0</td>\n",
       "      <td>O</td>\n",
       "      <td>6928.0</td>\n",
       "      <td>46464.0</td>\n",
       "      <td>784.0</td>\n",
       "      <td>256.0</td>\n",
       "      <td>0.0</td>\n",
       "      <td>0.0</td>\n",
       "      <td>1.0</td>\n",
       "    </tr>\n",
       "    <tr>\n",
       "      <th>1222</th>\n",
       "      <td>60.0</td>\n",
       "      <td>0.0</td>\n",
       "      <td>0.0</td>\n",
       "      <td>1</td>\n",
       "      <td>0.0</td>\n",
       "      <td>E</td>\n",
       "      <td>46800.0</td>\n",
       "      <td>O</td>\n",
       "      <td>11392.0</td>\n",
       "      <td>928.0</td>\n",
       "      <td>1144.0</td>\n",
       "      <td>680.0</td>\n",
       "      <td>0.0</td>\n",
       "      <td>108.0</td>\n",
       "      <td>0.0</td>\n",
       "    </tr>\n",
       "    <tr>\n",
       "      <th>1223</th>\n",
       "      <td>20.0</td>\n",
       "      <td>0.0</td>\n",
       "      <td>0.0</td>\n",
       "      <td>1</td>\n",
       "      <td>0.0</td>\n",
       "      <td>R</td>\n",
       "      <td>0.0</td>\n",
       "      <td>N</td>\n",
       "      <td>0.0</td>\n",
       "      <td>0.0</td>\n",
       "      <td>0.0</td>\n",
       "      <td>0.0</td>\n",
       "      <td>0.0</td>\n",
       "      <td>0.0</td>\n",
       "      <td>1.0</td>\n",
       "    </tr>\n",
       "    <tr>\n",
       "      <th>1224</th>\n",
       "      <td>66.0</td>\n",
       "      <td>0.0</td>\n",
       "      <td>0.0</td>\n",
       "      <td>1</td>\n",
       "      <td>0.0</td>\n",
       "      <td>T</td>\n",
       "      <td>5538.0</td>\n",
       "      <td>P</td>\n",
       "      <td>0.0</td>\n",
       "      <td>0.0</td>\n",
       "      <td>492.0</td>\n",
       "      <td>0.0</td>\n",
       "      <td>0.0</td>\n",
       "      <td>0.0</td>\n",
       "      <td>0.0</td>\n",
       "    </tr>\n",
       "  </tbody>\n",
       "</table>\n",
       "<p>1225 rows × 15 columns</p>\n",
       "</div>"
      ],
      "text/plain": [
       "       YOB  nKIDS  nDEP  PHON  dINC_SP EMPS_A   dINC_A RES    dHVAL     dMBO  \\\n",
       "0     19.0    4.0   0.0     1      0.0      R      0.0   O  14464.0      4.0   \n",
       "1     41.0    2.0   0.0     1      0.0      P  36000.0   O      0.0      0.0   \n",
       "2     66.0    0.0   0.0     1      0.0      N  30000.0   N      0.0      0.0   \n",
       "3     51.0    2.0   0.0     1      0.0      P    464.0   O  24928.0   8464.0   \n",
       "4     65.0    0.0   0.0     1      0.0      P  15000.0   P      0.0      0.0   \n",
       "...    ...    ...   ...   ...      ...    ...      ...  ..      ...      ...   \n",
       "1220  52.0    4.0   1.0     1      0.0      V  37764.0   U      0.0      0.0   \n",
       "1221  56.0    3.0   0.0     1   1200.0      P  31500.0   O   6928.0  46464.0   \n",
       "1222  60.0    0.0   0.0     1      0.0      E  46800.0   O  11392.0    928.0   \n",
       "1223  20.0    0.0   0.0     1      0.0      R      0.0   N      0.0      0.0   \n",
       "1224  66.0    0.0   0.0     1      0.0      T   5538.0   P      0.0      0.0   \n",
       "\n",
       "       dOUTM  dOUTL  dOUTHP  dOUTCC  BAD  \n",
       "0        0.0    0.0     0.0     0.0  0.0  \n",
       "1      280.0  664.0     0.0    80.0  0.0  \n",
       "2        0.0    0.0     0.0     0.0  0.0  \n",
       "3      584.0  320.0     0.0    60.0  0.0  \n",
       "4        0.0    0.0     0.0     0.0  0.0  \n",
       "...      ...    ...     ...     ...  ...  \n",
       "1220     0.0  340.0     0.0     0.0  0.0  \n",
       "1221   784.0  256.0     0.0     0.0  1.0  \n",
       "1222  1144.0  680.0     0.0   108.0  0.0  \n",
       "1223     0.0    0.0     0.0     0.0  1.0  \n",
       "1224   492.0    0.0     0.0     0.0  0.0  \n",
       "\n",
       "[1225 rows x 15 columns]"
      ]
     },
     "execution_count": 2,
     "metadata": {},
     "output_type": "execute_result"
    }
   ],
   "source": [
    "# Load the data directly from GitHub\n",
    "\n",
    "# Despite the fact that CSV stands for coma separated values, it also supports using\n",
    "# other symbols to distinguish values from different columns. If you open `loan_data.csv` \n",
    "# in a text editor, you will see that values are in fact separated with a semi-colon.\n",
    "# Therefore, we need to specify sep = ';' in `pd.read_csv()` to tell pandas which \n",
    "# symbol to use to separate one column from another. You can try importing the data \n",
    "# without specifying sep (default is ',') and check the summary to see why it does\n",
    "# not work as expected. As always, be sure to check pandas documentation to learn\n",
    "# more about different options when importing the data.\n",
    "data_url = 'https://raw.githubusercontent.com/Humboldt-WI/bads/master/data/loan_data.csv'\n",
    "df       = pd.read_csv(data_url, sep = ';')\n",
    "\n",
    "# Summary of the data\n",
    "df"
   ]
  },
  {
   "cell_type": "markdown",
   "metadata": {
    "id": "Bqw_wcW2ZbTW"
   },
   "source": [
    "By now, you have run through the process of getting a first idea about a new data set many times. You have seen examples in previous tutorials and have written your own codes in, e.g., the third exercise on predictive analytics. Nonetheless, draw once more on your experience and take a quick look into the data.  "
   ]
  },
  {
   "cell_type": "code",
   "execution_count": 3,
   "metadata": {
    "colab": {
     "base_uri": "https://localhost:8080/"
    },
    "executionInfo": {
     "elapsed": 6,
     "status": "ok",
     "timestamp": 1670414816488,
     "user": {
      "displayName": "Georg B",
      "userId": "16990759077565939430"
     },
     "user_tz": -60
    },
    "id": "LZfKUAryeDY2",
    "outputId": "4bf23002-05a6-490d-9ee4-b8fa5740cfc3"
   },
   "outputs": [
    {
     "name": "stdout",
     "output_type": "stream",
     "text": [
      "Number of variables: 15\n",
      "Number of cases:     1225\n"
     ]
    }
   ],
   "source": [
    "# Check data dimensions \n",
    "print('Number of variables: {}'.format(df.shape[1])) \n",
    "print('Number of cases:     {}'.format(df.shape[0])) "
   ]
  },
  {
   "cell_type": "code",
   "execution_count": 4,
   "metadata": {
    "colab": {
     "base_uri": "https://localhost:8080/",
     "height": 269
    },
    "executionInfo": {
     "elapsed": 391,
     "status": "ok",
     "timestamp": 1670414816875,
     "user": {
      "displayName": "Georg B",
      "userId": "16990759077565939430"
     },
     "user_tz": -60
    },
    "id": "Q_Lfg0zPZbTW",
    "outputId": "e40e0b45-65a5-4e55-b0ca-037b9a000a5f"
   },
   "outputs": [
    {
     "data": {
      "text/html": [
       "<div>\n",
       "<style scoped>\n",
       "    .dataframe tbody tr th:only-of-type {\n",
       "        vertical-align: middle;\n",
       "    }\n",
       "\n",
       "    .dataframe tbody tr th {\n",
       "        vertical-align: top;\n",
       "    }\n",
       "\n",
       "    .dataframe thead th {\n",
       "        text-align: right;\n",
       "    }\n",
       "</style>\n",
       "<table border=\"1\" class=\"dataframe\">\n",
       "  <thead>\n",
       "    <tr style=\"text-align: right;\">\n",
       "      <th></th>\n",
       "      <th>YOB</th>\n",
       "      <th>nKIDS</th>\n",
       "      <th>nDEP</th>\n",
       "      <th>PHON</th>\n",
       "      <th>dINC_SP</th>\n",
       "      <th>EMPS_A</th>\n",
       "      <th>dINC_A</th>\n",
       "      <th>RES</th>\n",
       "      <th>dHVAL</th>\n",
       "      <th>dMBO</th>\n",
       "      <th>dOUTM</th>\n",
       "      <th>dOUTL</th>\n",
       "      <th>dOUTHP</th>\n",
       "      <th>dOUTCC</th>\n",
       "      <th>BAD</th>\n",
       "    </tr>\n",
       "  </thead>\n",
       "  <tbody>\n",
       "    <tr>\n",
       "      <th>0</th>\n",
       "      <td>19.0</td>\n",
       "      <td>4.0</td>\n",
       "      <td>0.0</td>\n",
       "      <td>1</td>\n",
       "      <td>0.0</td>\n",
       "      <td>R</td>\n",
       "      <td>0.0</td>\n",
       "      <td>O</td>\n",
       "      <td>14464.0</td>\n",
       "      <td>4.0</td>\n",
       "      <td>0.0</td>\n",
       "      <td>0.0</td>\n",
       "      <td>0.0</td>\n",
       "      <td>0.0</td>\n",
       "      <td>0.0</td>\n",
       "    </tr>\n",
       "    <tr>\n",
       "      <th>1</th>\n",
       "      <td>41.0</td>\n",
       "      <td>2.0</td>\n",
       "      <td>0.0</td>\n",
       "      <td>1</td>\n",
       "      <td>0.0</td>\n",
       "      <td>P</td>\n",
       "      <td>36000.0</td>\n",
       "      <td>O</td>\n",
       "      <td>0.0</td>\n",
       "      <td>0.0</td>\n",
       "      <td>280.0</td>\n",
       "      <td>664.0</td>\n",
       "      <td>0.0</td>\n",
       "      <td>80.0</td>\n",
       "      <td>0.0</td>\n",
       "    </tr>\n",
       "    <tr>\n",
       "      <th>2</th>\n",
       "      <td>66.0</td>\n",
       "      <td>0.0</td>\n",
       "      <td>0.0</td>\n",
       "      <td>1</td>\n",
       "      <td>0.0</td>\n",
       "      <td>N</td>\n",
       "      <td>30000.0</td>\n",
       "      <td>N</td>\n",
       "      <td>0.0</td>\n",
       "      <td>0.0</td>\n",
       "      <td>0.0</td>\n",
       "      <td>0.0</td>\n",
       "      <td>0.0</td>\n",
       "      <td>0.0</td>\n",
       "      <td>0.0</td>\n",
       "    </tr>\n",
       "    <tr>\n",
       "      <th>3</th>\n",
       "      <td>51.0</td>\n",
       "      <td>2.0</td>\n",
       "      <td>0.0</td>\n",
       "      <td>1</td>\n",
       "      <td>0.0</td>\n",
       "      <td>P</td>\n",
       "      <td>464.0</td>\n",
       "      <td>O</td>\n",
       "      <td>24928.0</td>\n",
       "      <td>8464.0</td>\n",
       "      <td>584.0</td>\n",
       "      <td>320.0</td>\n",
       "      <td>0.0</td>\n",
       "      <td>60.0</td>\n",
       "      <td>0.0</td>\n",
       "    </tr>\n",
       "    <tr>\n",
       "      <th>4</th>\n",
       "      <td>65.0</td>\n",
       "      <td>0.0</td>\n",
       "      <td>0.0</td>\n",
       "      <td>1</td>\n",
       "      <td>0.0</td>\n",
       "      <td>P</td>\n",
       "      <td>15000.0</td>\n",
       "      <td>P</td>\n",
       "      <td>0.0</td>\n",
       "      <td>0.0</td>\n",
       "      <td>0.0</td>\n",
       "      <td>0.0</td>\n",
       "      <td>0.0</td>\n",
       "      <td>0.0</td>\n",
       "      <td>0.0</td>\n",
       "    </tr>\n",
       "    <tr>\n",
       "      <th>5</th>\n",
       "      <td>42.0</td>\n",
       "      <td>2.0</td>\n",
       "      <td>0.0</td>\n",
       "      <td>1</td>\n",
       "      <td>10500.0</td>\n",
       "      <td>E</td>\n",
       "      <td>48000.0</td>\n",
       "      <td>O</td>\n",
       "      <td>43392.0</td>\n",
       "      <td>46464.0</td>\n",
       "      <td>1120.0</td>\n",
       "      <td>0.0</td>\n",
       "      <td>0.0</td>\n",
       "      <td>0.0</td>\n",
       "      <td>0.0</td>\n",
       "    </tr>\n",
       "    <tr>\n",
       "      <th>6</th>\n",
       "      <td>59.0</td>\n",
       "      <td>0.0</td>\n",
       "      <td>0.0</td>\n",
       "      <td>1</td>\n",
       "      <td>6500.0</td>\n",
       "      <td>B</td>\n",
       "      <td>30000.0</td>\n",
       "      <td>O</td>\n",
       "      <td>62464.0</td>\n",
       "      <td>56000.0</td>\n",
       "      <td>520.0</td>\n",
       "      <td>0.0</td>\n",
       "      <td>96.0</td>\n",
       "      <td>0.0</td>\n",
       "      <td>0.0</td>\n",
       "    </tr>\n",
       "  </tbody>\n",
       "</table>\n",
       "</div>"
      ],
      "text/plain": [
       "    YOB  nKIDS  nDEP  PHON  dINC_SP EMPS_A   dINC_A RES    dHVAL     dMBO  \\\n",
       "0  19.0    4.0   0.0     1      0.0      R      0.0   O  14464.0      4.0   \n",
       "1  41.0    2.0   0.0     1      0.0      P  36000.0   O      0.0      0.0   \n",
       "2  66.0    0.0   0.0     1      0.0      N  30000.0   N      0.0      0.0   \n",
       "3  51.0    2.0   0.0     1      0.0      P    464.0   O  24928.0   8464.0   \n",
       "4  65.0    0.0   0.0     1      0.0      P  15000.0   P      0.0      0.0   \n",
       "5  42.0    2.0   0.0     1  10500.0      E  48000.0   O  43392.0  46464.0   \n",
       "6  59.0    0.0   0.0     1   6500.0      B  30000.0   O  62464.0  56000.0   \n",
       "\n",
       "    dOUTM  dOUTL  dOUTHP  dOUTCC  BAD  \n",
       "0     0.0    0.0     0.0     0.0  0.0  \n",
       "1   280.0  664.0     0.0    80.0  0.0  \n",
       "2     0.0    0.0     0.0     0.0  0.0  \n",
       "3   584.0  320.0     0.0    60.0  0.0  \n",
       "4     0.0    0.0     0.0     0.0  0.0  \n",
       "5  1120.0    0.0     0.0     0.0  0.0  \n",
       "6   520.0    0.0    96.0     0.0  0.0  "
      ]
     },
     "execution_count": 4,
     "metadata": {},
     "output_type": "execute_result"
    }
   ],
   "source": [
    "# Examine top-7 rows of the data\n",
    "df.head(7)"
   ]
  },
  {
   "cell_type": "code",
   "execution_count": 5,
   "metadata": {
    "colab": {
     "base_uri": "https://localhost:8080/",
     "height": 457
    },
    "executionInfo": {
     "elapsed": 5,
     "status": "ok",
     "timestamp": 1670414816875,
     "user": {
      "displayName": "Georg B",
      "userId": "16990759077565939430"
     },
     "user_tz": -60
    },
    "id": "v0RSS-2zec8B",
    "outputId": "2ca509e1-c53d-46f5-fbcf-26e5b8444914"
   },
   "outputs": [
    {
     "data": {
      "text/html": [
       "<div>\n",
       "<style scoped>\n",
       "    .dataframe tbody tr th:only-of-type {\n",
       "        vertical-align: middle;\n",
       "    }\n",
       "\n",
       "    .dataframe tbody tr th {\n",
       "        vertical-align: top;\n",
       "    }\n",
       "\n",
       "    .dataframe thead th {\n",
       "        text-align: right;\n",
       "    }\n",
       "</style>\n",
       "<table border=\"1\" class=\"dataframe\">\n",
       "  <thead>\n",
       "    <tr style=\"text-align: right;\">\n",
       "      <th></th>\n",
       "      <th>YOB</th>\n",
       "      <th>nKIDS</th>\n",
       "      <th>nDEP</th>\n",
       "      <th>PHON</th>\n",
       "      <th>dINC_SP</th>\n",
       "      <th>EMPS_A</th>\n",
       "      <th>dINC_A</th>\n",
       "      <th>RES</th>\n",
       "      <th>dHVAL</th>\n",
       "      <th>dMBO</th>\n",
       "      <th>dOUTM</th>\n",
       "      <th>dOUTL</th>\n",
       "      <th>dOUTHP</th>\n",
       "      <th>dOUTCC</th>\n",
       "      <th>BAD</th>\n",
       "    </tr>\n",
       "  </thead>\n",
       "  <tbody>\n",
       "    <tr>\n",
       "      <th>count</th>\n",
       "      <td>1225.000000</td>\n",
       "      <td>1225.000000</td>\n",
       "      <td>1225.000000</td>\n",
       "      <td>1225.000000</td>\n",
       "      <td>1225.000000</td>\n",
       "      <td>1225</td>\n",
       "      <td>1225.000000</td>\n",
       "      <td>1225</td>\n",
       "      <td>1225.000000</td>\n",
       "      <td>1225.000000</td>\n",
       "      <td>1225.000000</td>\n",
       "      <td>1225.000000</td>\n",
       "      <td>1225.000000</td>\n",
       "      <td>1225.000000</td>\n",
       "      <td>1225.000000</td>\n",
       "    </tr>\n",
       "    <tr>\n",
       "      <th>unique</th>\n",
       "      <td>NaN</td>\n",
       "      <td>NaN</td>\n",
       "      <td>NaN</td>\n",
       "      <td>NaN</td>\n",
       "      <td>NaN</td>\n",
       "      <td>11</td>\n",
       "      <td>NaN</td>\n",
       "      <td>5</td>\n",
       "      <td>NaN</td>\n",
       "      <td>NaN</td>\n",
       "      <td>NaN</td>\n",
       "      <td>NaN</td>\n",
       "      <td>NaN</td>\n",
       "      <td>NaN</td>\n",
       "      <td>NaN</td>\n",
       "    </tr>\n",
       "    <tr>\n",
       "      <th>top</th>\n",
       "      <td>NaN</td>\n",
       "      <td>NaN</td>\n",
       "      <td>NaN</td>\n",
       "      <td>NaN</td>\n",
       "      <td>NaN</td>\n",
       "      <td>P</td>\n",
       "      <td>NaN</td>\n",
       "      <td>O</td>\n",
       "      <td>NaN</td>\n",
       "      <td>NaN</td>\n",
       "      <td>NaN</td>\n",
       "      <td>NaN</td>\n",
       "      <td>NaN</td>\n",
       "      <td>NaN</td>\n",
       "      <td>NaN</td>\n",
       "    </tr>\n",
       "    <tr>\n",
       "      <th>freq</th>\n",
       "      <td>NaN</td>\n",
       "      <td>NaN</td>\n",
       "      <td>NaN</td>\n",
       "      <td>NaN</td>\n",
       "      <td>NaN</td>\n",
       "      <td>531</td>\n",
       "      <td>NaN</td>\n",
       "      <td>624</td>\n",
       "      <td>NaN</td>\n",
       "      <td>NaN</td>\n",
       "      <td>NaN</td>\n",
       "      <td>NaN</td>\n",
       "      <td>NaN</td>\n",
       "      <td>NaN</td>\n",
       "      <td>NaN</td>\n",
       "    </tr>\n",
       "    <tr>\n",
       "      <th>mean</th>\n",
       "      <td>51.037551</td>\n",
       "      <td>0.623673</td>\n",
       "      <td>0.038367</td>\n",
       "      <td>0.903673</td>\n",
       "      <td>1990.084898</td>\n",
       "      <td>NaN</td>\n",
       "      <td>21244.211429</td>\n",
       "      <td>NaN</td>\n",
       "      <td>15693.857959</td>\n",
       "      <td>11225.691429</td>\n",
       "      <td>342.004898</td>\n",
       "      <td>121.926531</td>\n",
       "      <td>28.721633</td>\n",
       "      <td>39.595102</td>\n",
       "      <td>0.263673</td>\n",
       "    </tr>\n",
       "    <tr>\n",
       "      <th>std</th>\n",
       "      <td>15.301818</td>\n",
       "      <td>1.016013</td>\n",
       "      <td>0.219917</td>\n",
       "      <td>0.295159</td>\n",
       "      <td>4802.341425</td>\n",
       "      <td>NaN</td>\n",
       "      <td>15896.207986</td>\n",
       "      <td>NaN</td>\n",
       "      <td>20736.331833</td>\n",
       "      <td>18889.207107</td>\n",
       "      <td>427.993865</td>\n",
       "      <td>839.639588</td>\n",
       "      <td>119.324084</td>\n",
       "      <td>168.697101</td>\n",
       "      <td>0.440804</td>\n",
       "    </tr>\n",
       "    <tr>\n",
       "      <th>min</th>\n",
       "      <td>3.000000</td>\n",
       "      <td>0.000000</td>\n",
       "      <td>0.000000</td>\n",
       "      <td>0.000000</td>\n",
       "      <td>0.000000</td>\n",
       "      <td>NaN</td>\n",
       "      <td>0.000000</td>\n",
       "      <td>NaN</td>\n",
       "      <td>0.000000</td>\n",
       "      <td>0.000000</td>\n",
       "      <td>0.000000</td>\n",
       "      <td>0.000000</td>\n",
       "      <td>0.000000</td>\n",
       "      <td>0.000000</td>\n",
       "      <td>0.000000</td>\n",
       "    </tr>\n",
       "    <tr>\n",
       "      <th>10%</th>\n",
       "      <td>28.400000</td>\n",
       "      <td>0.000000</td>\n",
       "      <td>0.000000</td>\n",
       "      <td>1.000000</td>\n",
       "      <td>0.000000</td>\n",
       "      <td>NaN</td>\n",
       "      <td>0.000000</td>\n",
       "      <td>NaN</td>\n",
       "      <td>0.000000</td>\n",
       "      <td>0.000000</td>\n",
       "      <td>0.000000</td>\n",
       "      <td>0.000000</td>\n",
       "      <td>0.000000</td>\n",
       "      <td>0.000000</td>\n",
       "      <td>0.000000</td>\n",
       "    </tr>\n",
       "    <tr>\n",
       "      <th>25%</th>\n",
       "      <td>42.000000</td>\n",
       "      <td>0.000000</td>\n",
       "      <td>0.000000</td>\n",
       "      <td>1.000000</td>\n",
       "      <td>0.000000</td>\n",
       "      <td>NaN</td>\n",
       "      <td>9000.000000</td>\n",
       "      <td>NaN</td>\n",
       "      <td>0.000000</td>\n",
       "      <td>0.000000</td>\n",
       "      <td>0.000000</td>\n",
       "      <td>0.000000</td>\n",
       "      <td>0.000000</td>\n",
       "      <td>0.000000</td>\n",
       "      <td>0.000000</td>\n",
       "    </tr>\n",
       "    <tr>\n",
       "      <th>50%</th>\n",
       "      <td>55.000000</td>\n",
       "      <td>0.000000</td>\n",
       "      <td>0.000000</td>\n",
       "      <td>1.000000</td>\n",
       "      <td>0.000000</td>\n",
       "      <td>NaN</td>\n",
       "      <td>19500.000000</td>\n",
       "      <td>NaN</td>\n",
       "      <td>0.000000</td>\n",
       "      <td>0.000000</td>\n",
       "      <td>256.000000</td>\n",
       "      <td>0.000000</td>\n",
       "      <td>0.000000</td>\n",
       "      <td>0.000000</td>\n",
       "      <td>0.000000</td>\n",
       "    </tr>\n",
       "    <tr>\n",
       "      <th>75%</th>\n",
       "      <td>63.000000</td>\n",
       "      <td>1.000000</td>\n",
       "      <td>0.000000</td>\n",
       "      <td>1.000000</td>\n",
       "      <td>1040.000000</td>\n",
       "      <td>NaN</td>\n",
       "      <td>30600.000000</td>\n",
       "      <td>NaN</td>\n",
       "      <td>28928.000000</td>\n",
       "      <td>20000.000000</td>\n",
       "      <td>528.000000</td>\n",
       "      <td>0.000000</td>\n",
       "      <td>0.000000</td>\n",
       "      <td>0.000000</td>\n",
       "      <td>1.000000</td>\n",
       "    </tr>\n",
       "    <tr>\n",
       "      <th>90%</th>\n",
       "      <td>67.000000</td>\n",
       "      <td>2.000000</td>\n",
       "      <td>0.000000</td>\n",
       "      <td>1.000000</td>\n",
       "      <td>8000.000000</td>\n",
       "      <td>NaN</td>\n",
       "      <td>44280.000000</td>\n",
       "      <td>NaN</td>\n",
       "      <td>50464.000000</td>\n",
       "      <td>46464.000000</td>\n",
       "      <td>840.000000</td>\n",
       "      <td>390.400000</td>\n",
       "      <td>42.400000</td>\n",
       "      <td>100.000000</td>\n",
       "      <td>1.000000</td>\n",
       "    </tr>\n",
       "    <tr>\n",
       "      <th>max</th>\n",
       "      <td>99.000000</td>\n",
       "      <td>5.000000</td>\n",
       "      <td>2.000000</td>\n",
       "      <td>1.000000</td>\n",
       "      <td>50000.000000</td>\n",
       "      <td>NaN</td>\n",
       "      <td>64800.000000</td>\n",
       "      <td>NaN</td>\n",
       "      <td>64928.000000</td>\n",
       "      <td>64000.000000</td>\n",
       "      <td>3800.000000</td>\n",
       "      <td>28000.000000</td>\n",
       "      <td>1600.000000</td>\n",
       "      <td>2800.000000</td>\n",
       "      <td>1.000000</td>\n",
       "    </tr>\n",
       "  </tbody>\n",
       "</table>\n",
       "</div>"
      ],
      "text/plain": [
       "                YOB        nKIDS         nDEP         PHON       dINC_SP  \\\n",
       "count   1225.000000  1225.000000  1225.000000  1225.000000   1225.000000   \n",
       "unique          NaN          NaN          NaN          NaN           NaN   \n",
       "top             NaN          NaN          NaN          NaN           NaN   \n",
       "freq            NaN          NaN          NaN          NaN           NaN   \n",
       "mean      51.037551     0.623673     0.038367     0.903673   1990.084898   \n",
       "std       15.301818     1.016013     0.219917     0.295159   4802.341425   \n",
       "min        3.000000     0.000000     0.000000     0.000000      0.000000   \n",
       "10%       28.400000     0.000000     0.000000     1.000000      0.000000   \n",
       "25%       42.000000     0.000000     0.000000     1.000000      0.000000   \n",
       "50%       55.000000     0.000000     0.000000     1.000000      0.000000   \n",
       "75%       63.000000     1.000000     0.000000     1.000000   1040.000000   \n",
       "90%       67.000000     2.000000     0.000000     1.000000   8000.000000   \n",
       "max       99.000000     5.000000     2.000000     1.000000  50000.000000   \n",
       "\n",
       "       EMPS_A        dINC_A   RES         dHVAL          dMBO        dOUTM  \\\n",
       "count    1225   1225.000000  1225   1225.000000   1225.000000  1225.000000   \n",
       "unique     11           NaN     5           NaN           NaN          NaN   \n",
       "top         P           NaN     O           NaN           NaN          NaN   \n",
       "freq      531           NaN   624           NaN           NaN          NaN   \n",
       "mean      NaN  21244.211429   NaN  15693.857959  11225.691429   342.004898   \n",
       "std       NaN  15896.207986   NaN  20736.331833  18889.207107   427.993865   \n",
       "min       NaN      0.000000   NaN      0.000000      0.000000     0.000000   \n",
       "10%       NaN      0.000000   NaN      0.000000      0.000000     0.000000   \n",
       "25%       NaN   9000.000000   NaN      0.000000      0.000000     0.000000   \n",
       "50%       NaN  19500.000000   NaN      0.000000      0.000000   256.000000   \n",
       "75%       NaN  30600.000000   NaN  28928.000000  20000.000000   528.000000   \n",
       "90%       NaN  44280.000000   NaN  50464.000000  46464.000000   840.000000   \n",
       "max       NaN  64800.000000   NaN  64928.000000  64000.000000  3800.000000   \n",
       "\n",
       "               dOUTL       dOUTHP       dOUTCC          BAD  \n",
       "count    1225.000000  1225.000000  1225.000000  1225.000000  \n",
       "unique           NaN          NaN          NaN          NaN  \n",
       "top              NaN          NaN          NaN          NaN  \n",
       "freq             NaN          NaN          NaN          NaN  \n",
       "mean      121.926531    28.721633    39.595102     0.263673  \n",
       "std       839.639588   119.324084   168.697101     0.440804  \n",
       "min         0.000000     0.000000     0.000000     0.000000  \n",
       "10%         0.000000     0.000000     0.000000     0.000000  \n",
       "25%         0.000000     0.000000     0.000000     0.000000  \n",
       "50%         0.000000     0.000000     0.000000     0.000000  \n",
       "75%         0.000000     0.000000     0.000000     1.000000  \n",
       "90%       390.400000    42.400000   100.000000     1.000000  \n",
       "max     28000.000000  1600.000000  2800.000000     1.000000  "
      ]
     },
     "execution_count": 5,
     "metadata": {},
     "output_type": "execute_result"
    }
   ],
   "source": [
    "# Summary statistics for all features. We specify custom percentile values for \n",
    "# numeric features and set include = 'all' to display statistics for categorical \n",
    "# features as well.\n",
    "df.describe(percentiles = [0.1, 0.25, 0.5, 0.75, 0.9],\n",
    "            include     = 'all')"
   ]
  },
  {
   "cell_type": "code",
   "execution_count": 6,
   "metadata": {
    "colab": {
     "base_uri": "https://localhost:8080/"
    },
    "executionInfo": {
     "elapsed": 398,
     "status": "ok",
     "timestamp": 1670414818025,
     "user": {
      "displayName": "Georg B",
      "userId": "16990759077565939430"
     },
     "user_tz": -60
    },
    "id": "cSeqmWAjd-kG",
    "outputId": "3615f37c-7fb1-4b9a-da28-b9156ef6bfc8"
   },
   "outputs": [
    {
     "name": "stdout",
     "output_type": "stream",
     "text": [
      "<class 'pandas.core.frame.DataFrame'>\n",
      "RangeIndex: 1225 entries, 0 to 1224\n",
      "Data columns (total 15 columns):\n",
      " #   Column   Non-Null Count  Dtype  \n",
      "---  ------   --------------  -----  \n",
      " 0   YOB      1225 non-null   float64\n",
      " 1   nKIDS    1225 non-null   float64\n",
      " 2   nDEP     1225 non-null   float64\n",
      " 3   PHON     1225 non-null   int64  \n",
      " 4   dINC_SP  1225 non-null   float64\n",
      " 5   EMPS_A   1225 non-null   object \n",
      " 6   dINC_A   1225 non-null   float64\n",
      " 7   RES      1225 non-null   object \n",
      " 8   dHVAL    1225 non-null   float64\n",
      " 9   dMBO     1225 non-null   float64\n",
      " 10  dOUTM    1225 non-null   float64\n",
      " 11  dOUTL    1225 non-null   float64\n",
      " 12  dOUTHP   1225 non-null   float64\n",
      " 13  dOUTCC   1225 non-null   float64\n",
      " 14  BAD      1225 non-null   float64\n",
      "dtypes: float64(12), int64(1), object(2)\n",
      "memory usage: 143.7+ KB\n"
     ]
    }
   ],
   "source": [
    "# Data overview is important to check the number of missing values and feature \n",
    "# types. The output suggests that there are no missing values and two features are\n",
    "# stored as non-numeric objects.\n",
    "df.info()"
   ]
  },
  {
   "cell_type": "markdown",
   "metadata": {
    "id": "KLp5_dlrZbTW"
   },
   "source": [
    "## 2 Data types\n",
    "You can tell from the data dictionary that the loan data includes numeric and categorical variables. Draw on the examples from [Tutorial 4](https://github.com/Humboldt-WI/bads/blob/master/tutorials/4_nb_data_preparation.ipynb) and make sure that all numeric features are stored as `float32` and all categorical features are stored as categories in your DataFame. Also, ensure that the feature `PHON` is stored as a boolean. Finally pick a suitable data type for the target variable `BAD`."
   ]
  },
  {
   "cell_type": "code",
   "execution_count": 7,
   "metadata": {
    "executionInfo": {
     "elapsed": 4,
     "status": "ok",
     "timestamp": 1670414818025,
     "user": {
      "displayName": "Georg B",
      "userId": "16990759077565939430"
     },
     "user_tz": -60
    },
    "id": "m78gw3jAQh8S"
   },
   "outputs": [],
   "source": [
    "# Convert PHON and target variable\n",
    "#---\n",
    "df.PHON = df.PHON.astype(\"bool\")\n",
    "\n",
    "# Also convert the target. We could also make it a boolean or use an integer data type. The latter is better\n",
    "# if we plan to use the target variable values in calculations, for example, when computing model residuals.\n",
    "# We use a small integer data type for demonstration but is also fine to simply use bool here\n",
    "df.BAD = df.BAD.astype(\"uint8\")"
   ]
  },
  {
   "cell_type": "code",
   "execution_count": 8,
   "metadata": {
    "colab": {
     "base_uri": "https://localhost:8080/"
    },
    "executionInfo": {
     "elapsed": 4,
     "status": "ok",
     "timestamp": 1670414818025,
     "user": {
      "displayName": "Georg B",
      "userId": "16990759077565939430"
     },
     "user_tz": -60
    },
    "id": "T98lRbjOZbTW",
    "outputId": "1a48c110-3403-4829-8fe9-7a3c3c06374c"
   },
   "outputs": [
    {
     "name": "stdout",
     "output_type": "stream",
     "text": [
      "<class 'pandas.core.frame.DataFrame'>\n",
      "RangeIndex: 1225 entries, 0 to 1224\n",
      "Data columns (total 15 columns):\n",
      " #   Column   Non-Null Count  Dtype   \n",
      "---  ------   --------------  -----   \n",
      " 0   YOB      1225 non-null   float64 \n",
      " 1   nKIDS    1225 non-null   float64 \n",
      " 2   nDEP     1225 non-null   float64 \n",
      " 3   PHON     1225 non-null   bool    \n",
      " 4   dINC_SP  1225 non-null   float64 \n",
      " 5   EMPS_A   1225 non-null   category\n",
      " 6   dINC_A   1225 non-null   float64 \n",
      " 7   RES      1225 non-null   category\n",
      " 8   dHVAL    1225 non-null   float64 \n",
      " 9   dMBO     1225 non-null   float64 \n",
      " 10  dOUTM    1225 non-null   float64 \n",
      " 11  dOUTL    1225 non-null   float64 \n",
      " 12  dOUTHP   1225 non-null   float64 \n",
      " 13  dOUTCC   1225 non-null   float64 \n",
      " 14  BAD      1225 non-null   uint8   \n",
      "dtypes: bool(1), category(2), float64(11), uint8(1)\n",
      "memory usage: 110.8 KB\n"
     ]
    }
   ],
   "source": [
    "# Encode categories properly\n",
    "#---\n",
    "\n",
    "# According to the data dictionary, there are two categorical features: EMPS_A and RES.\n",
    "# As we saw in the `df.info()` command, these two features are stored as objects. \n",
    "# We need to convert them to the category format using `astype()`\n",
    "\n",
    "# We have only two features to work on and can specify these manually\n",
    "cat_features = ['EMPS_A', 'RES']  \n",
    "# Alternatively, we can use the function select_dtypes() to select features of a certain type\n",
    "cat_features = df.select_dtypes(\"object\").columns.values \n",
    "\n",
    "\n",
    "# Both of the above alternatives would give an array, which we can use to index our data frame.\n",
    "# We can then alter the data frame using that index as follows\n",
    "df[cat_features] = df[cat_features].astype('category')\n",
    "\n",
    "# Verify the conversion was successful\n",
    "df.info()"
   ]
  },
  {
   "cell_type": "code",
   "execution_count": 9,
   "metadata": {
    "colab": {
     "base_uri": "https://localhost:8080/"
    },
    "executionInfo": {
     "elapsed": 523,
     "status": "ok",
     "timestamp": 1670414818546,
     "user": {
      "displayName": "Georg B",
      "userId": "16990759077565939430"
     },
     "user_tz": -60
    },
    "id": "eQvmMyMOoK12",
    "outputId": "9b931371-84b6-4825-f900-0511cab20c47"
   },
   "outputs": [
    {
     "name": "stdout",
     "output_type": "stream",
     "text": [
      "<class 'pandas.core.frame.DataFrame'>\n",
      "RangeIndex: 1225 entries, 0 to 1224\n",
      "Data columns (total 15 columns):\n",
      " #   Column   Non-Null Count  Dtype   \n",
      "---  ------   --------------  -----   \n",
      " 0   YOB      1225 non-null   float32 \n",
      " 1   nKIDS    1225 non-null   float32 \n",
      " 2   nDEP     1225 non-null   float32 \n",
      " 3   PHON     1225 non-null   bool    \n",
      " 4   dINC_SP  1225 non-null   float32 \n",
      " 5   EMPS_A   1225 non-null   category\n",
      " 6   dINC_A   1225 non-null   float32 \n",
      " 7   RES      1225 non-null   category\n",
      " 8   dHVAL    1225 non-null   float32 \n",
      " 9   dMBO     1225 non-null   float32 \n",
      " 10  dOUTM    1225 non-null   float32 \n",
      " 11  dOUTL    1225 non-null   float32 \n",
      " 12  dOUTHP   1225 non-null   float32 \n",
      " 13  dOUTCC   1225 non-null   float32 \n",
      " 14  BAD      1225 non-null   uint8   \n",
      "dtypes: bool(1), category(2), float32(11), uint8(1)\n",
      "memory usage: 58.1 KB\n"
     ]
    }
   ],
   "source": [
    "# Downcasting numerical features\n",
    "#---\n",
    "\n",
    "# There is nothing wrong with storing all numeric features as `float64`. However, \n",
    "# if memory usage becomes an issue (e.g., when working with much larger data sets), \n",
    "# we can make use of the column types to reduce memory consumption. For instance, \n",
    "# `float64` supports 15 digits of precision, whereas `float32` allows 6 digits \n",
    "# after the dot, which is often enough in practice. Furthermore, we can convert a\n",
    "# float-encoded feature to `int64` or `int32` if we know that it always takes \n",
    "# integer values only. You can check this blog post for more tips on reducing the \n",
    "# memory usage with different data types:\n",
    "# https://towardsdatascience.com/pandas-save-memory-with-these-simple-tricks-943841f8c32\n",
    "\n",
    "# For start, we once again get us an index of the numerical features...\n",
    "con_features = df.select_dtypes(\"float64\").columns.values\n",
    "df[con_features] = df[con_features].astype(\"float32\")\n",
    "\n",
    "# Verify the conversion was successful\n",
    "df.info()"
   ]
  },
  {
   "cell_type": "markdown",
   "metadata": {
    "id": "JppjQgXwZbTW"
   },
   "source": [
    "## EDA\n",
    "### 3.1 Histogram\n",
    "The data includes a feature dINC_A, which captures the income of a credit applicant. We would expect that this feature is related to our target variable, which is called BAD in the data set. \n",
    "\n",
    "Create a histogram plot of the income feature and examine its distribution."
   ]
  },
  {
   "cell_type": "code",
   "execution_count": 10,
   "metadata": {
    "colab": {
     "base_uri": "https://localhost:8080/",
     "height": 390
    },
    "executionInfo": {
     "elapsed": 6,
     "status": "ok",
     "timestamp": 1670414818546,
     "user": {
      "displayName": "Georg B",
      "userId": "16990759077565939430"
     },
     "user_tz": -60
    },
    "id": "1eU2Q0g3ZbTW",
    "outputId": "1ab2076a-b295-4882-86e1-c0323d938578"
   },
   "outputs": [
    {
     "data": {
      "image/png": "[encoded data removed]",
      "text/plain": [
       "<Figure size 800x600 with 1 Axes>"
      ]
     },
     "metadata": {},
     "output_type": "display_data"
    }
   ],
   "source": [
    "# Histogram of dINC_A \n",
    "df.hist(column = 'dINC_A',  # what feature to plot\n",
    "        bins   = 25,        # number of bins\n",
    "        figsize=(8,6));     # figure size \n",
    "\n",
    "# Histogram reveals that there is a large portion of applicants (more than 200) with \n",
    "# no income. The rest is distributed between 0 and about 65.000, with most values \n",
    "# lying between 5.000 and 35.000. We also see that the right tail of distribiton\n",
    "# is rather long, indicating that the number of applicants earning at least X tends\n",
    "# to gradually decrease when X goes above 25.000 and higher."
   ]
  },
  {
   "cell_type": "markdown",
   "metadata": {
    "id": "ctG_AqMCZbTW"
   },
   "source": [
    "The distribution reveals some potentially important insights. However, the histogram alone does not suffice to check our intuition that income and credit risk are related. To that end, let's examine the income distribution across good and bad credit applications.\n",
    "\n",
    "### 3.2 Analysis of the dependency between applicants' income and credit risk\n",
    "We begin with a manual approach, which also allows us to revisit logical indexing in Python and Pandas. Calculate the average income of a credit applicant for good risks and for bad risks."
   ]
  },
  {
   "cell_type": "code",
   "execution_count": 11,
   "metadata": {
    "colab": {
     "base_uri": "https://localhost:8080/"
    },
    "executionInfo": {
     "elapsed": 6,
     "status": "ok",
     "timestamp": 1670414818547,
     "user": {
      "displayName": "Georg B",
      "userId": "16990759077565939430"
     },
     "user_tz": -60
    },
    "id": "YneNDUoPZbTW",
    "outputId": "23e5aec9-95f5-4add-ce8e-c618753201d7"
   },
   "outputs": [
    {
     "name": "stdout",
     "output_type": "stream",
     "text": [
      "Mean income for GOOD risks: 23008.6426\n",
      "Mean income for BAD risks:  16316.9131\n"
     ]
    }
   ],
   "source": [
    "# Calculate the group-wise mean of dINC_A for good and bad risks using logical indexing\n",
    "m0 = df.loc[df['BAD'] == 0]['dINC_A'].mean()\n",
    "m1 = df.loc[df['BAD'] == 1]['dINC_A'].mean()\n",
    "print('Mean income for GOOD risks: {:.4f}'.format(m0)) # {:.4f} implies that we  will print a float value rounded to 4 digits after the dot\n",
    "print('Mean income for BAD risks:  {:.4f}'.format(m1))"
   ]
  },
  {
   "cell_type": "markdown",
   "metadata": {
    "id": "HP-HaAzlZbTW"
   },
   "source": [
    "Remember that the Pandas function `groupby()` allows you to perform an analysis similar to your above calculation of the group-wise means. Replicate the previous calculation using `groupby()`.  "
   ]
  },
  {
   "cell_type": "code",
   "execution_count": 12,
   "metadata": {
    "colab": {
     "base_uri": "https://localhost:8080/"
    },
    "executionInfo": {
     "elapsed": 4,
     "status": "ok",
     "timestamp": 1670414818547,
     "user": {
      "displayName": "Georg B",
      "userId": "16990759077565939430"
     },
     "user_tz": -60
    },
    "id": "hmP1IHdNZbTW",
    "outputId": "bcdc2bd2-e340-498c-a053-32100fe7c601"
   },
   "outputs": [
    {
     "data": {
      "text/plain": [
       "BAD\n",
       "0    23008.642578\n",
       "1    16316.913086\n",
       "Name: dINC_A, dtype: float32"
      ]
     },
     "execution_count": 12,
     "metadata": {},
     "output_type": "execute_result"
    }
   ],
   "source": [
    "# Replicate previous results using groupby()\n",
    "df.groupby('BAD')['dINC_A'].mean()"
   ]
  },
  {
   "cell_type": "markdown",
   "metadata": {
    "id": "DyifuA9ZZbTW"
   },
   "source": [
    "Next, we perform a graphical analysis. Depict the distribution of the income of customers with a good and bad risk, respectively, by means of a box-plot."
   ]
  },
  {
   "cell_type": "code",
   "execution_count": 13,
   "metadata": {
    "colab": {
     "base_uri": "https://localhost:8080/",
     "height": 477
    },
    "executionInfo": {
     "elapsed": 4,
     "status": "ok",
     "timestamp": 1670414818935,
     "user": {
      "displayName": "Georg B",
      "userId": "16990759077565939430"
     },
     "user_tz": -60
    },
    "id": "I2BTcI5RZbTW",
    "outputId": "9ada7bfe-d9d4-4aa3-c8ec-02c0235c8790"
   },
   "outputs": [
    {
     "data": {
      "image/png": "[encoded data removed]",
      "text/plain": [
       "<Figure size 800x600 with 1 Axes>"
      ]
     },
     "metadata": {},
     "output_type": "display_data"
    }
   ],
   "source": [
    "# Box plot\n",
    "df.boxplot(column = 'dINC_A', # feature to plot  \n",
    "           by     = 'BAD',    # feature to group by\n",
    "           figsize= (8,6));"
   ]
  },
  {
   "cell_type": "code",
   "execution_count": 14,
   "metadata": {
    "executionInfo": {
     "elapsed": 3,
     "status": "ok",
     "timestamp": 1670414818935,
     "user": {
      "displayName": "Georg B",
      "userId": "16990759077565939430"
     },
     "user_tz": -60
    },
    "id": "pA32zBM_zjku"
   },
   "outputs": [],
   "source": [
    "# Comparison of mean values and box plots confirms our intuition that BAD risks tend\n",
    "# to have lower income than GOOD risks. Remember that boxes visualize the upper \n",
    "# and lower quartiles of a feature distribution. In our case, we observe that \n",
    "# half of the GOOD applicants have income between about 12.000 and 32.000, whereas\n",
    "# half of the BAD risks have income between 0 and 26.000."
   ]
  },
  {
   "cell_type": "markdown",
   "metadata": {
    "id": "hjU3pxKBZbTW"
   },
   "source": [
    "### 3.3 Statistical testing\n",
    "Identify an appropriate statistical test to verify whether the observed income difference between good and bad applicants is statistically significant. Perform the test and display its results. Hint: A web-search similar to “statistical test difference in means python” will help."
   ]
  },
  {
   "cell_type": "code",
   "execution_count": 15,
   "metadata": {
    "colab": {
     "base_uri": "https://localhost:8080/"
    },
    "executionInfo": {
     "elapsed": 1,
     "status": "ok",
     "timestamp": 1670414819800,
     "user": {
      "displayName": "Georg B",
      "userId": "16990759077565939430"
     },
     "user_tz": -60
    },
    "id": "s4QmIP99ZbTW",
    "outputId": "4ce8c620-2325-4cdb-ab6e-9dfd94097e0e"
   },
   "outputs": [
    {
     "data": {
      "text/plain": [
       "LeveneResult(statistic=0.034214288195485554, pvalue=0.8532824134210151)"
      ]
     },
     "execution_count": 15,
     "metadata": {},
     "output_type": "execute_result"
    }
   ],
   "source": [
    "# Statistical testing of mean differences in income (i.e., feature dINC_A)\n",
    "#---\n",
    "\n",
    "# One way to perform statistical testing of mean differences is a two-sided t-test.\n",
    "# T-test checks the null hypothesis that two independent samples have identical average \n",
    "# (expected) values. In Python, t-test is implemented in several packages. The most \n",
    "# popular implementation is probably `ttest_ind()` that is part of the `scipy.stats` \n",
    "# package. Let's check the function documentation:\n",
    "# https://docs.scipy.org/doc/scipy/reference/generated/scipy.stats.ttest_ind.html\n",
    "\n",
    "# Note that the two-sided t-test assumes equal variance within the samples by default.\n",
    "# To run the correct version of the t-test (default or adjusted for unequal variances),\n",
    "# we first need to check this assumption. One way to do that is to run a Levene test \n",
    "# for equal variances, which has the null hypothesis that variances within the samples\n",
    "# are equal. If the Levene test rejects the null hypothesis, we can perform statistical \n",
    "# testing of mean differences using Welch’s t-test modification, which does not assume\n",
    "# equal population variance, instead of the standrad t-test. This can be done simply \n",
    "# by specifying equal_var = False in the below `ttest_ind() function`.\n",
    "\n",
    "# Let's run the Levene test first:\n",
    "from scipy import stats\n",
    "stats.levene(df.loc[df['BAD'] == 0]['dINC_A'], # good risks\n",
    "             df.loc[df['BAD'] == 1]['dINC_A']) # bad risks\n",
    "\n",
    "# The `levene()` function returns the test statistic and its p-value. If you need \n",
    "# to refresh you memory on p-values, you can check out this post:\n",
    "# https://towardsdatascience.com/p-values-explained-by-data-scientist-f40a746cfc8A \n",
    "\n",
    "# In our case, Levene test does not reject the null hypothesis that variances are equal.\n",
    "# This means that we can perform a standard two-sided t-test."
   ]
  },
  {
   "cell_type": "code",
   "execution_count": 16,
   "metadata": {
    "colab": {
     "base_uri": "https://localhost:8080/"
    },
    "executionInfo": {
     "elapsed": 3,
     "status": "ok",
     "timestamp": 1670414820048,
     "user": {
      "displayName": "Georg B",
      "userId": "16990759077565939430"
     },
     "user_tz": -60
    },
    "id": "SYzgN6qA3lB8",
    "outputId": "af36656d-6eb0-4bb8-c340-bd085c68745e"
   },
   "outputs": [
    {
     "data": {
      "text/plain": [
       "Ttest_indResult(statistic=6.6040866243773175, pvalue=5.950120052144809e-11)"
      ]
     },
     "execution_count": 16,
     "metadata": {},
     "output_type": "execute_result"
    }
   ],
   "source": [
    "# Let's now perform the t-test\n",
    "stats.ttest_ind(df.loc[df['BAD'] == 0]['dINC_A'], \n",
    "                df.loc[df['BAD'] == 1]['dINC_A'], \n",
    "                equal_var  = True)               \n",
    "\n",
    "# A very small p-value of the t-test suggests that we can reject the null hypothesis \n",
    "# at a reasonable level of signicance. This result indicates that the difference \n",
    "# in incomes between GOOD and BAD applicants is indeed statistically significant."
   ]
  },
  {
   "cell_type": "markdown",
   "metadata": {
    "id": "xUODqLIeZbTX"
   },
   "source": [
    "### 3.4 Categorical variables\n",
    "The data set comprises three categorical features. The feature PHON is binary and will not cause any issues. The features EMPS_A and RES are more interesting. Remember to check the data dictionary to understand what information the features encode. \n",
    "\n",
    "In the lecture, we explained that categorical features are typically encoded using dummy variables prior to applying an analytical model. Python supports dummy coding in several ways.  Pandas offers a function `get_dummies()` and sklearn offer a class `OneHotEncoder()`. The Pandas approach is maybe a bit easier to use. The more prevalent approach in practice is to rely on sklearn. \n",
    "\n",
    "Check the documentation of one or both of the above functions. Then create dummy variables for the feature RES and add them to your DataFrame.   "
   ]
  },
  {
   "cell_type": "code",
   "execution_count": 17,
   "metadata": {
    "colab": {
     "base_uri": "https://localhost:8080/",
     "height": 225
    },
    "executionInfo": {
     "elapsed": 231,
     "status": "ok",
     "timestamp": 1670414820277,
     "user": {
      "displayName": "Georg B",
      "userId": "16990759077565939430"
     },
     "user_tz": -60
    },
    "id": "coLet-zEZbTX",
    "outputId": "bef4f975-035b-4003-e452-05ddbfdaf0a2"
   },
   "outputs": [
    {
     "name": "stdout",
     "output_type": "stream",
     "text": [
      "(1225, 19)\n"
     ]
    },
    {
     "data": {
      "text/html": [
       "<div>\n",
       "<style scoped>\n",
       "    .dataframe tbody tr th:only-of-type {\n",
       "        vertical-align: middle;\n",
       "    }\n",
       "\n",
       "    .dataframe tbody tr th {\n",
       "        vertical-align: top;\n",
       "    }\n",
       "\n",
       "    .dataframe thead th {\n",
       "        text-align: right;\n",
       "    }\n",
       "</style>\n",
       "<table border=\"1\" class=\"dataframe\">\n",
       "  <thead>\n",
       "    <tr style=\"text-align: right;\">\n",
       "      <th></th>\n",
       "      <th>YOB</th>\n",
       "      <th>nKIDS</th>\n",
       "      <th>nDEP</th>\n",
       "      <th>PHON</th>\n",
       "      <th>dINC_SP</th>\n",
       "      <th>EMPS_A</th>\n",
       "      <th>dINC_A</th>\n",
       "      <th>dHVAL</th>\n",
       "      <th>dMBO</th>\n",
       "      <th>dOUTM</th>\n",
       "      <th>dOUTL</th>\n",
       "      <th>dOUTHP</th>\n",
       "      <th>dOUTCC</th>\n",
       "      <th>BAD</th>\n",
       "      <th>RES_F</th>\n",
       "      <th>RES_N</th>\n",
       "      <th>RES_O</th>\n",
       "      <th>RES_P</th>\n",
       "      <th>RES_U</th>\n",
       "    </tr>\n",
       "  </thead>\n",
       "  <tbody>\n",
       "    <tr>\n",
       "      <th>0</th>\n",
       "      <td>19.0</td>\n",
       "      <td>4.0</td>\n",
       "      <td>0.0</td>\n",
       "      <td>True</td>\n",
       "      <td>0.0</td>\n",
       "      <td>R</td>\n",
       "      <td>0.0</td>\n",
       "      <td>14464.0</td>\n",
       "      <td>4.0</td>\n",
       "      <td>0.0</td>\n",
       "      <td>0.0</td>\n",
       "      <td>0.0</td>\n",
       "      <td>0.0</td>\n",
       "      <td>0</td>\n",
       "      <td>0</td>\n",
       "      <td>0</td>\n",
       "      <td>1</td>\n",
       "      <td>0</td>\n",
       "      <td>0</td>\n",
       "    </tr>\n",
       "    <tr>\n",
       "      <th>1</th>\n",
       "      <td>41.0</td>\n",
       "      <td>2.0</td>\n",
       "      <td>0.0</td>\n",
       "      <td>True</td>\n",
       "      <td>0.0</td>\n",
       "      <td>P</td>\n",
       "      <td>36000.0</td>\n",
       "      <td>0.0</td>\n",
       "      <td>0.0</td>\n",
       "      <td>280.0</td>\n",
       "      <td>664.0</td>\n",
       "      <td>0.0</td>\n",
       "      <td>80.0</td>\n",
       "      <td>0</td>\n",
       "      <td>0</td>\n",
       "      <td>0</td>\n",
       "      <td>1</td>\n",
       "      <td>0</td>\n",
       "      <td>0</td>\n",
       "    </tr>\n",
       "    <tr>\n",
       "      <th>2</th>\n",
       "      <td>66.0</td>\n",
       "      <td>0.0</td>\n",
       "      <td>0.0</td>\n",
       "      <td>True</td>\n",
       "      <td>0.0</td>\n",
       "      <td>N</td>\n",
       "      <td>30000.0</td>\n",
       "      <td>0.0</td>\n",
       "      <td>0.0</td>\n",
       "      <td>0.0</td>\n",
       "      <td>0.0</td>\n",
       "      <td>0.0</td>\n",
       "      <td>0.0</td>\n",
       "      <td>0</td>\n",
       "      <td>0</td>\n",
       "      <td>1</td>\n",
       "      <td>0</td>\n",
       "      <td>0</td>\n",
       "      <td>0</td>\n",
       "    </tr>\n",
       "    <tr>\n",
       "      <th>3</th>\n",
       "      <td>51.0</td>\n",
       "      <td>2.0</td>\n",
       "      <td>0.0</td>\n",
       "      <td>True</td>\n",
       "      <td>0.0</td>\n",
       "      <td>P</td>\n",
       "      <td>464.0</td>\n",
       "      <td>24928.0</td>\n",
       "      <td>8464.0</td>\n",
       "      <td>584.0</td>\n",
       "      <td>320.0</td>\n",
       "      <td>0.0</td>\n",
       "      <td>60.0</td>\n",
       "      <td>0</td>\n",
       "      <td>0</td>\n",
       "      <td>0</td>\n",
       "      <td>1</td>\n",
       "      <td>0</td>\n",
       "      <td>0</td>\n",
       "    </tr>\n",
       "    <tr>\n",
       "      <th>4</th>\n",
       "      <td>65.0</td>\n",
       "      <td>0.0</td>\n",
       "      <td>0.0</td>\n",
       "      <td>True</td>\n",
       "      <td>0.0</td>\n",
       "      <td>P</td>\n",
       "      <td>15000.0</td>\n",
       "      <td>0.0</td>\n",
       "      <td>0.0</td>\n",
       "      <td>0.0</td>\n",
       "      <td>0.0</td>\n",
       "      <td>0.0</td>\n",
       "      <td>0.0</td>\n",
       "      <td>0</td>\n",
       "      <td>0</td>\n",
       "      <td>0</td>\n",
       "      <td>0</td>\n",
       "      <td>1</td>\n",
       "      <td>0</td>\n",
       "    </tr>\n",
       "  </tbody>\n",
       "</table>\n",
       "</div>"
      ],
      "text/plain": [
       "    YOB  nKIDS  nDEP  PHON  dINC_SP EMPS_A   dINC_A    dHVAL    dMBO  dOUTM  \\\n",
       "0  19.0    4.0   0.0  True      0.0      R      0.0  14464.0     4.0    0.0   \n",
       "1  41.0    2.0   0.0  True      0.0      P  36000.0      0.0     0.0  280.0   \n",
       "2  66.0    0.0   0.0  True      0.0      N  30000.0      0.0     0.0    0.0   \n",
       "3  51.0    2.0   0.0  True      0.0      P    464.0  24928.0  8464.0  584.0   \n",
       "4  65.0    0.0   0.0  True      0.0      P  15000.0      0.0     0.0    0.0   \n",
       "\n",
       "   dOUTL  dOUTHP  dOUTCC  BAD  RES_F  RES_N  RES_O  RES_P  RES_U  \n",
       "0    0.0     0.0     0.0    0      0      0      1      0      0  \n",
       "1  664.0     0.0    80.0    0      0      0      1      0      0  \n",
       "2    0.0     0.0     0.0    0      0      1      0      0      0  \n",
       "3  320.0     0.0    60.0    0      0      0      1      0      0  \n",
       "4    0.0     0.0     0.0    0      0      0      0      1      0  "
      ]
     },
     "execution_count": 17,
     "metadata": {},
     "output_type": "execute_result"
    }
   ],
   "source": [
    "# Option 1: dummy coding of RES using `get_dummies()`\n",
    "# Documentation: https://pandas.pydata.org/pandas-docs/stable/reference/api/pandas.get_dummies.html\n",
    "\n",
    "df_with_dummies = pd.get_dummies(df, columns = ['RES'])\n",
    "print(df_with_dummies.shape)\n",
    "df_with_dummies.head()"
   ]
  },
  {
   "cell_type": "code",
   "execution_count": 18,
   "metadata": {
    "colab": {
     "base_uri": "https://localhost:8080/",
     "height": 281
    },
    "executionInfo": {
     "elapsed": 11,
     "status": "ok",
     "timestamp": 1670414820277,
     "user": {
      "displayName": "Georg B",
      "userId": "16990759077565939430"
     },
     "user_tz": -60
    },
    "id": "3sMMaj5JSLxb",
    "outputId": "9dff5025-5d26-4160-9b2b-44e790ce1c21"
   },
   "outputs": [
    {
     "name": "stdout",
     "output_type": "stream",
     "text": [
      "(1225, 19)\n"
     ]
    },
    {
     "data": {
      "text/html": [
       "<div>\n",
       "<style scoped>\n",
       "    .dataframe tbody tr th:only-of-type {\n",
       "        vertical-align: middle;\n",
       "    }\n",
       "\n",
       "    .dataframe tbody tr th {\n",
       "        vertical-align: top;\n",
       "    }\n",
       "\n",
       "    .dataframe thead th {\n",
       "        text-align: right;\n",
       "    }\n",
       "</style>\n",
       "<table border=\"1\" class=\"dataframe\">\n",
       "  <thead>\n",
       "    <tr style=\"text-align: right;\">\n",
       "      <th></th>\n",
       "      <th>YOB</th>\n",
       "      <th>nKIDS</th>\n",
       "      <th>nDEP</th>\n",
       "      <th>PHON</th>\n",
       "      <th>dINC_SP</th>\n",
       "      <th>EMPS_A</th>\n",
       "      <th>dINC_A</th>\n",
       "      <th>dHVAL</th>\n",
       "      <th>dMBO</th>\n",
       "      <th>dOUTM</th>\n",
       "      <th>dOUTL</th>\n",
       "      <th>dOUTHP</th>\n",
       "      <th>dOUTCC</th>\n",
       "      <th>BAD</th>\n",
       "      <th>RES_F</th>\n",
       "      <th>RES_N</th>\n",
       "      <th>RES_O</th>\n",
       "      <th>RES_P</th>\n",
       "      <th>RES_U</th>\n",
       "    </tr>\n",
       "  </thead>\n",
       "  <tbody>\n",
       "    <tr>\n",
       "      <th>0</th>\n",
       "      <td>19.0</td>\n",
       "      <td>4.0</td>\n",
       "      <td>0.0</td>\n",
       "      <td>True</td>\n",
       "      <td>0.0</td>\n",
       "      <td>R</td>\n",
       "      <td>0.0</td>\n",
       "      <td>14464.0</td>\n",
       "      <td>4.0</td>\n",
       "      <td>0.0</td>\n",
       "      <td>0.0</td>\n",
       "      <td>0.0</td>\n",
       "      <td>0.0</td>\n",
       "      <td>0</td>\n",
       "      <td>0.0</td>\n",
       "      <td>0.0</td>\n",
       "      <td>1.0</td>\n",
       "      <td>0.0</td>\n",
       "      <td>0.0</td>\n",
       "    </tr>\n",
       "    <tr>\n",
       "      <th>1</th>\n",
       "      <td>41.0</td>\n",
       "      <td>2.0</td>\n",
       "      <td>0.0</td>\n",
       "      <td>True</td>\n",
       "      <td>0.0</td>\n",
       "      <td>P</td>\n",
       "      <td>36000.0</td>\n",
       "      <td>0.0</td>\n",
       "      <td>0.0</td>\n",
       "      <td>280.0</td>\n",
       "      <td>664.0</td>\n",
       "      <td>0.0</td>\n",
       "      <td>80.0</td>\n",
       "      <td>0</td>\n",
       "      <td>0.0</td>\n",
       "      <td>0.0</td>\n",
       "      <td>1.0</td>\n",
       "      <td>0.0</td>\n",
       "      <td>0.0</td>\n",
       "    </tr>\n",
       "    <tr>\n",
       "      <th>2</th>\n",
       "      <td>66.0</td>\n",
       "      <td>0.0</td>\n",
       "      <td>0.0</td>\n",
       "      <td>True</td>\n",
       "      <td>0.0</td>\n",
       "      <td>N</td>\n",
       "      <td>30000.0</td>\n",
       "      <td>0.0</td>\n",
       "      <td>0.0</td>\n",
       "      <td>0.0</td>\n",
       "      <td>0.0</td>\n",
       "      <td>0.0</td>\n",
       "      <td>0.0</td>\n",
       "      <td>0</td>\n",
       "      <td>0.0</td>\n",
       "      <td>1.0</td>\n",
       "      <td>0.0</td>\n",
       "      <td>0.0</td>\n",
       "      <td>0.0</td>\n",
       "    </tr>\n",
       "    <tr>\n",
       "      <th>3</th>\n",
       "      <td>51.0</td>\n",
       "      <td>2.0</td>\n",
       "      <td>0.0</td>\n",
       "      <td>True</td>\n",
       "      <td>0.0</td>\n",
       "      <td>P</td>\n",
       "      <td>464.0</td>\n",
       "      <td>24928.0</td>\n",
       "      <td>8464.0</td>\n",
       "      <td>584.0</td>\n",
       "      <td>320.0</td>\n",
       "      <td>0.0</td>\n",
       "      <td>60.0</td>\n",
       "      <td>0</td>\n",
       "      <td>0.0</td>\n",
       "      <td>0.0</td>\n",
       "      <td>1.0</td>\n",
       "      <td>0.0</td>\n",
       "      <td>0.0</td>\n",
       "    </tr>\n",
       "    <tr>\n",
       "      <th>4</th>\n",
       "      <td>65.0</td>\n",
       "      <td>0.0</td>\n",
       "      <td>0.0</td>\n",
       "      <td>True</td>\n",
       "      <td>0.0</td>\n",
       "      <td>P</td>\n",
       "      <td>15000.0</td>\n",
       "      <td>0.0</td>\n",
       "      <td>0.0</td>\n",
       "      <td>0.0</td>\n",
       "      <td>0.0</td>\n",
       "      <td>0.0</td>\n",
       "      <td>0.0</td>\n",
       "      <td>0</td>\n",
       "      <td>0.0</td>\n",
       "      <td>0.0</td>\n",
       "      <td>0.0</td>\n",
       "      <td>1.0</td>\n",
       "      <td>0.0</td>\n",
       "    </tr>\n",
       "  </tbody>\n",
       "</table>\n",
       "</div>"
      ],
      "text/plain": [
       "    YOB  nKIDS  nDEP  PHON  dINC_SP EMPS_A   dINC_A    dHVAL    dMBO  dOUTM  \\\n",
       "0  19.0    4.0   0.0  True      0.0      R      0.0  14464.0     4.0    0.0   \n",
       "1  41.0    2.0   0.0  True      0.0      P  36000.0      0.0     0.0  280.0   \n",
       "2  66.0    0.0   0.0  True      0.0      N  30000.0      0.0     0.0    0.0   \n",
       "3  51.0    2.0   0.0  True      0.0      P    464.0  24928.0  8464.0  584.0   \n",
       "4  65.0    0.0   0.0  True      0.0      P  15000.0      0.0     0.0    0.0   \n",
       "\n",
       "   dOUTL  dOUTHP  dOUTCC  BAD  RES_F  RES_N  RES_O  RES_P  RES_U  \n",
       "0    0.0     0.0     0.0    0    0.0    0.0    1.0    0.0    0.0  \n",
       "1  664.0     0.0    80.0    0    0.0    0.0    1.0    0.0    0.0  \n",
       "2    0.0     0.0     0.0    0    0.0    1.0    0.0    0.0    0.0  \n",
       "3  320.0     0.0    60.0    0    0.0    0.0    1.0    0.0    0.0  \n",
       "4    0.0     0.0     0.0    0    0.0    0.0    0.0    1.0    0.0  "
      ]
     },
     "execution_count": 18,
     "metadata": {},
     "output_type": "execute_result"
    }
   ],
   "source": [
    "# Option 2: dummy coding of RES using `OneHotEncoder()`\n",
    "# Documentation: https://scikit-learn.org/stable/modules/generated/sklearn.preprocessing.OneHotEncoder.html\n",
    "\n",
    "# Applying sklearn encoders involves several steps:\n",
    "# - initializing the encoder and specifying its properties\n",
    "# - fitting the encoder to the data\n",
    "# - transforming the data using the encoder\n",
    "# - [if applied to specific columns] merging the result to the original data\n",
    "\n",
    "# Initializing\n",
    "from sklearn.preprocessing import OneHotEncoder\n",
    "enc = OneHotEncoder(handle_unknown = 'ignore', # treatment of unknown categories\n",
    "                    sparse         = False)    # whether to return numpy array or sparse matrix\n",
    "\n",
    "# Fitting encoder to a specific column. If we supply the whole dataframe, the \n",
    "# encoder will fit and then transform all columns. We only want to change one.\n",
    "enc.fit(df[['RES']])\n",
    "\n",
    "# Transforming the data / column\n",
    "df_transformed = enc.transform(df[['RES']])\n",
    "\n",
    "# Merging dummies to the data with `join()`. Note that the output of the sklearn \n",
    "# encoders is a numpy array or a sparce matrix. If necessary, you would need to \n",
    "# convert the array back to pandas dataframe. This is what we do below.\n",
    "df_transformed = pd.DataFrame(df_transformed, \n",
    "                              columns = enc.get_feature_names_out()) # dummy names\n",
    "df_with_dummies_2 = df.join(df_transformed)\n",
    "\n",
    "# Deleting original variable\n",
    "del df_with_dummies_2['RES']\n",
    "print(df_with_dummies_2.shape)\n",
    "df_with_dummies_2.head()\n",
    "\n",
    "# As you can see, pandas `get_dummies()` approach is much simpler. However, learning\n",
    "# the logic behind sklearn processors is very useful as there are many different \n",
    "# processors that can be applied to a data set using the same pipeline. "
   ]
  },
  {
   "cell_type": "markdown",
   "metadata": {
    "id": "Mpw-Plv6ZbTX"
   },
   "source": [
    "The feature EMPS_A has more distinct levels. Considering the previous task, it is obvious that dummy coding the feature will increase dimensionality substantially. To avoid this, it makes sense to **regroup** the category levels prior to dummy coding. \n",
    "\n",
    "In the lecture on data preparation, we argued that a pivot table helps to identify category levels that we can merge. Specifically, we were recommending merging category levels for which the odds (i.e., the ratio of goods to bads) is similar. The underlying idea was that if the good-to-bad odds for one category level $c$ are close to the odds of another category level $\\tilde{c}$, then, from the point of predicting the target variable, it does not matter much whether we observe level $c$ or $\\tilde{c}$ and hence, it is safe to merge the levels. \n",
    "\n",
    "Write some Python code to compute, for each category level $ c \\in C$, with $C$ denoting the set of all possible levels, the good-to-bad odds $\\frac{p(Y=0|X=c)}{p\\left(Y=1|X=c\\right)} $  in the feature `EMPS_A`. "
   ]
  },
  {
   "cell_type": "code",
   "execution_count": 20,
   "metadata": {
    "colab": {
     "base_uri": "https://localhost:8080/",
     "height": 426
    },
    "executionInfo": {
     "elapsed": 9,
     "status": "ok",
     "timestamp": 1670414820278,
     "user": {
      "displayName": "Georg B",
      "userId": "16990759077565939430"
     },
     "user_tz": -60
    },
    "id": "BakLWSopZbTX",
    "outputId": "1b9bddca-888d-4ef0-a799-15e80c6e81f0"
   },
   "outputs": [
    {
     "data": {
      "text/html": [
       "<div>\n",
       "<style scoped>\n",
       "    .dataframe tbody tr th:only-of-type {\n",
       "        vertical-align: middle;\n",
       "    }\n",
       "\n",
       "    .dataframe tbody tr th {\n",
       "        vertical-align: top;\n",
       "    }\n",
       "\n",
       "    .dataframe thead th {\n",
       "        text-align: right;\n",
       "    }\n",
       "</style>\n",
       "<table border=\"1\" class=\"dataframe\">\n",
       "  <thead>\n",
       "    <tr style=\"text-align: right;\">\n",
       "      <th>BAD</th>\n",
       "      <th>0</th>\n",
       "      <th>1</th>\n",
       "      <th>G/B</th>\n",
       "    </tr>\n",
       "    <tr>\n",
       "      <th>EMPS_A</th>\n",
       "      <th></th>\n",
       "      <th></th>\n",
       "      <th></th>\n",
       "    </tr>\n",
       "  </thead>\n",
       "  <tbody>\n",
       "    <tr>\n",
       "      <th>B</th>\n",
       "      <td>22</td>\n",
       "      <td>8</td>\n",
       "      <td>2.750000</td>\n",
       "    </tr>\n",
       "    <tr>\n",
       "      <th>E</th>\n",
       "      <td>88</td>\n",
       "      <td>36</td>\n",
       "      <td>2.444444</td>\n",
       "    </tr>\n",
       "    <tr>\n",
       "      <th>M</th>\n",
       "      <td>17</td>\n",
       "      <td>6</td>\n",
       "      <td>2.833333</td>\n",
       "    </tr>\n",
       "    <tr>\n",
       "      <th>N</th>\n",
       "      <td>5</td>\n",
       "      <td>1</td>\n",
       "      <td>5.000000</td>\n",
       "    </tr>\n",
       "    <tr>\n",
       "      <th>P</th>\n",
       "      <td>413</td>\n",
       "      <td>118</td>\n",
       "      <td>3.500000</td>\n",
       "    </tr>\n",
       "    <tr>\n",
       "      <th>R</th>\n",
       "      <td>55</td>\n",
       "      <td>49</td>\n",
       "      <td>1.122449</td>\n",
       "    </tr>\n",
       "    <tr>\n",
       "      <th>T</th>\n",
       "      <td>86</td>\n",
       "      <td>37</td>\n",
       "      <td>2.324324</td>\n",
       "    </tr>\n",
       "    <tr>\n",
       "      <th>U</th>\n",
       "      <td>4</td>\n",
       "      <td>4</td>\n",
       "      <td>1.000000</td>\n",
       "    </tr>\n",
       "    <tr>\n",
       "      <th>V</th>\n",
       "      <td>187</td>\n",
       "      <td>44</td>\n",
       "      <td>4.250000</td>\n",
       "    </tr>\n",
       "    <tr>\n",
       "      <th>W</th>\n",
       "      <td>21</td>\n",
       "      <td>16</td>\n",
       "      <td>1.312500</td>\n",
       "    </tr>\n",
       "    <tr>\n",
       "      <th>Z</th>\n",
       "      <td>4</td>\n",
       "      <td>4</td>\n",
       "      <td>1.000000</td>\n",
       "    </tr>\n",
       "  </tbody>\n",
       "</table>\n",
       "</div>"
      ],
      "text/plain": [
       "BAD       0    1       G/B\n",
       "EMPS_A                    \n",
       "B        22    8  2.750000\n",
       "E        88   36  2.444444\n",
       "M        17    6  2.833333\n",
       "N         5    1  5.000000\n",
       "P       413  118  3.500000\n",
       "R        55   49  1.122449\n",
       "T        86   37  2.324324\n",
       "U         4    4  1.000000\n",
       "V       187   44  4.250000\n",
       "W        21   16  1.312500\n",
       "Z         4    4  1.000000"
      ]
     },
     "execution_count": 20,
     "metadata": {},
     "output_type": "execute_result"
    }
   ],
   "source": [
    "# Calculation of the odds for levels of EMPS_A\n",
    "\n",
    "# Creating cross-tab of EMPS_A and BAD\n",
    "res = pd.crosstab(df['EMPS_A'], df['BAD'])\n",
    "\n",
    "# Computing odds \n",
    "res['G/B'] = res[0] / res[1]\n",
    "\n",
    "# Displaying the output\n",
    "res"
   ]
  },
  {
   "cell_type": "code",
   "execution_count": 21,
   "metadata": {
    "colab": {
     "base_uri": "https://localhost:8080/",
     "height": 426
    },
    "executionInfo": {
     "elapsed": 8,
     "status": "ok",
     "timestamp": 1670414820278,
     "user": {
      "displayName": "Georg B",
      "userId": "16990759077565939430"
     },
     "user_tz": -60
    },
    "id": "7o1mgFkibZ3j",
    "outputId": "186e1ba3-06b5-40e2-9cf6-9988f826e33f"
   },
   "outputs": [
    {
     "data": {
      "text/html": [
       "<div>\n",
       "<style scoped>\n",
       "    .dataframe tbody tr th:only-of-type {\n",
       "        vertical-align: middle;\n",
       "    }\n",
       "\n",
       "    .dataframe tbody tr th {\n",
       "        vertical-align: top;\n",
       "    }\n",
       "\n",
       "    .dataframe thead th {\n",
       "        text-align: right;\n",
       "    }\n",
       "</style>\n",
       "<table border=\"1\" class=\"dataframe\">\n",
       "  <thead>\n",
       "    <tr style=\"text-align: right;\">\n",
       "      <th>BAD</th>\n",
       "      <th>0</th>\n",
       "      <th>1</th>\n",
       "      <th>G/B</th>\n",
       "    </tr>\n",
       "    <tr>\n",
       "      <th>EMPS_A</th>\n",
       "      <th></th>\n",
       "      <th></th>\n",
       "      <th></th>\n",
       "    </tr>\n",
       "  </thead>\n",
       "  <tbody>\n",
       "    <tr>\n",
       "      <th>U</th>\n",
       "      <td>4</td>\n",
       "      <td>4</td>\n",
       "      <td>1.000000</td>\n",
       "    </tr>\n",
       "    <tr>\n",
       "      <th>Z</th>\n",
       "      <td>4</td>\n",
       "      <td>4</td>\n",
       "      <td>1.000000</td>\n",
       "    </tr>\n",
       "    <tr>\n",
       "      <th>R</th>\n",
       "      <td>55</td>\n",
       "      <td>49</td>\n",
       "      <td>1.122449</td>\n",
       "    </tr>\n",
       "    <tr>\n",
       "      <th>W</th>\n",
       "      <td>21</td>\n",
       "      <td>16</td>\n",
       "      <td>1.312500</td>\n",
       "    </tr>\n",
       "    <tr>\n",
       "      <th>T</th>\n",
       "      <td>86</td>\n",
       "      <td>37</td>\n",
       "      <td>2.324324</td>\n",
       "    </tr>\n",
       "    <tr>\n",
       "      <th>E</th>\n",
       "      <td>88</td>\n",
       "      <td>36</td>\n",
       "      <td>2.444444</td>\n",
       "    </tr>\n",
       "    <tr>\n",
       "      <th>B</th>\n",
       "      <td>22</td>\n",
       "      <td>8</td>\n",
       "      <td>2.750000</td>\n",
       "    </tr>\n",
       "    <tr>\n",
       "      <th>M</th>\n",
       "      <td>17</td>\n",
       "      <td>6</td>\n",
       "      <td>2.833333</td>\n",
       "    </tr>\n",
       "    <tr>\n",
       "      <th>P</th>\n",
       "      <td>413</td>\n",
       "      <td>118</td>\n",
       "      <td>3.500000</td>\n",
       "    </tr>\n",
       "    <tr>\n",
       "      <th>V</th>\n",
       "      <td>187</td>\n",
       "      <td>44</td>\n",
       "      <td>4.250000</td>\n",
       "    </tr>\n",
       "    <tr>\n",
       "      <th>N</th>\n",
       "      <td>5</td>\n",
       "      <td>1</td>\n",
       "      <td>5.000000</td>\n",
       "    </tr>\n",
       "  </tbody>\n",
       "</table>\n",
       "</div>"
      ],
      "text/plain": [
       "BAD       0    1       G/B\n",
       "EMPS_A                    \n",
       "U         4    4  1.000000\n",
       "Z         4    4  1.000000\n",
       "R        55   49  1.122449\n",
       "W        21   16  1.312500\n",
       "T        86   37  2.324324\n",
       "E        88   36  2.444444\n",
       "B        22    8  2.750000\n",
       "M        17    6  2.833333\n",
       "P       413  118  3.500000\n",
       "V       187   44  4.250000\n",
       "N         5    1  5.000000"
      ]
     },
     "execution_count": 21,
     "metadata": {},
     "output_type": "execute_result"
    }
   ],
   "source": [
    "# Let's sort the results by the odds to obtain a clearer picture:\n",
    "res = res.sort_values('G/B')\n",
    "res\n",
    "\n",
    "# As you can see, some values of EMPS_A have the same odds ratio (U and Z). Some\n",
    "# other values also have a similar ratio (e.g., B and M)."
   ]
  },
  {
   "cell_type": "markdown",
   "metadata": {
    "id": "ecbHtEs1ZbTX"
   },
   "source": [
    "Now merge some category levels based on your solution to the previous task.  "
   ]
  },
  {
   "cell_type": "code",
   "execution_count": 25,
   "metadata": {
    "colab": {
     "base_uri": "https://localhost:8080/"
    },
    "executionInfo": {
     "elapsed": 2,
     "status": "ok",
     "timestamp": 1670414820488,
     "user": {
      "displayName": "Georg B",
      "userId": "16990759077565939430"
     },
     "user_tz": -60
    },
    "id": "NWkDlvAUZbTX",
    "outputId": "f4b62bdd-464b-4d25-c3be-1d725cf7f6bd"
   },
   "outputs": [
    {
     "data": {
      "text/plain": [
       "P+V+N      768\n",
       "T+E+B+M    300\n",
       "U+Z+R+W    157\n",
       "Name: EMPS_A_merged, dtype: int64"
      ]
     },
     "execution_count": 25,
     "metadata": {},
     "output_type": "execute_result"
    }
   ],
   "source": [
    "# Based on the previous results, we can merge some levels of EMPS_A with each other\n",
    "# if they have similar good-to-bad odds. Clearly, this approach is heuristic.\n",
    "# One possible solution could be to encode the employment status using four levels as follows:\n",
    "# - level 1: ['U', 'Z', 'R', 'W']\n",
    "# - level 2: ['T', 'E', 'B', 'M']\n",
    "# - level 3: ['P', 'V']\n",
    "# - level 4: ['N']\n",
    "\n",
    "# You might prefer a different regrouping with fewer or more levels and/or different merge operations. That's ok. Feel free to \n",
    "# adjust the solution accordingly. \n",
    "\n",
    "# How to do the merging? Let's start by setting up a renaming dictionary\n",
    "remap_dict = {\n",
    "    'U': 'U+Z+R+W',\n",
    "    'Z': 'U+Z+R+W',\n",
    "    'R': 'U+Z+R+W',\n",
    "    'W': 'U+Z+R+W',\n",
    "    'T': 'T+E+B+M',\n",
    "    'E': 'T+E+B+M',\n",
    "    'B': 'T+E+B+M',\n",
    "    'M': 'T+E+B+M',\n",
    "    'P': 'P+V+N',\n",
    "    'V': 'P+V+N',\n",
    "    'N': 'P+V+N'}\n",
    "\n",
    "# Now we can use `.map()` to merge category levels according to the dictionary\n",
    "df['EMPS_A_merged'] = df['EMPS_A'].map(remap_dict).astype('category')\n",
    "\n",
    "# Checking value counts\n",
    "df['EMPS_A_merged'].value_counts()"
   ]
  },
  {
   "cell_type": "markdown",
   "metadata": {
    "id": "j8MCuM_NZbTX"
   },
   "source": [
    "The advantage of merging category levels is that we need less dummy variables for encoding the feature. On the other hand, by reducing category levels, we run the risk of losing information. It would make sense to check that our previous merging of category levels did not hurt, e.g., was not too aggressive. Why aggressive? Well, imagine you merge all category levels into one level. This would render the feature useless. So there is a trade-off between having few levels, to not increase dimensionality, and not having too few levels, to sustain the information in the feature for distinguishing good and bad applicants. To find a healthy balance between these conflicting objectives, we need a measure that tells us whether a grouping is informative. It turns out that a well-known statistical test, namely the $\\chi^2$ test, provides this functionality. \n",
    "- Run a quick web search to revisit the $\\chi^2$ test and understand how it is useful for judging a grouping of EMPS_A in our context.\n",
    "- Identify a way to calculate the $\\chi^2$ test statistic in Python\n",
    "- Calculate the test statistic for the original version of EMPS_A with 11 levels and the new version with less levels (i.e., solution to previous task)\n",
    "- Interpret the results and conclude whether your encoding of EMPS_A is suitable\n",
    "\n",
    "*Remark:* When merging categories, you should expect the $\\chi^2$ test statistic to decrease unless the merged categories have exactly the same odds. When deciding how many (and which) categories to merge, we should balance two conflicting objectives and try reducing the number of categories such that we do not lose too much information. When fixing the number of category levels, you can use the $\\chi^2$ test to compare competing encodings to select the one that preserves the most information. Play around with different ways to merge categories and try to select the one that achieves a good balance."
   ]
  },
  {
   "cell_type": "code",
   "execution_count": 26,
   "metadata": {
    "colab": {
     "base_uri": "https://localhost:8080/"
    },
    "executionInfo": {
     "elapsed": 228,
     "status": "ok",
     "timestamp": 1670414820949,
     "user": {
      "displayName": "Georg B",
      "userId": "16990759077565939430"
     },
     "user_tz": -60
    },
    "id": "6VoIfL6gZbTX",
    "outputId": "23209f93-19d3-478d-e98c-ef4e136d415a"
   },
   "outputs": [
    {
     "name": "stdout",
     "output_type": "stream",
     "text": [
      "Original data: Chi-square statistic with 10 degrees of freedom is 45.78 (p-value=0.000002)\n",
      "Merged data: Chi-square statistic with 2 degrees of freedom is 44.30 (p-value=0.000000)\n"
     ]
    }
   ],
   "source": [
    "# Chi^2 testing of categorical features can be performed with `chi2_contingency()`\n",
    "# from `scipy.stats`. The documentation is provided at:\n",
    "# https://docs.scipy.org/doc/scipy/reference/generated/scipy.stats.chi2_contingency.html\n",
    "\n",
    "# Importing packages\n",
    "from scipy.stats import chi2_contingency\n",
    "\n",
    "# Testing the original EMPS_A encoding\n",
    "# Note that `chi2_contingency()` return 4 values: test statistic, p-value, degrees \n",
    "# of freedom, expected frequencies. We only need the test statistic and can ignore\n",
    "# the rest. Using _ as a name of the variable to save the output of a function implies\n",
    "# that we ignore this output and do not store it in the memory.\n",
    "ct_orig = pd.crosstab(df['BAD'], df['EMPS_A'])\n",
    "stat_orig, pval_orig, dof_orig, _ = chi2_contingency(ct_orig)\n",
    "\n",
    "# Testing the modified EMPS_A encoding\n",
    "ct_merged = pd.crosstab(df['BAD'], df['EMPS_A_merged'])\n",
    "stat_merged, pval_merged, dof_merged, _ = chi2_contingency(ct_merged)\n",
    "\n",
    "# Comparing test results\n",
    "print('Original data: Chi-square statistic with {:.0f} degrees of freedom is {:.2f} (p-value={:.6f})'.format(dof_orig, stat_orig, pval_orig))\n",
    "print('Merged data: Chi-square statistic with {:.0f} degrees of freedom is {:.2f} (p-value={:.6f})'.format(dof_merged, stat_merged, pval_merged))\n",
    "\n",
    "# You can take the following read for more details on Chi^2 tests:\n",
    "# https://machinelearningmastery.com/chi-squared-test-for-machine-learning/"
   ]
  },
  {
   "cell_type": "markdown",
   "metadata": {
    "executionInfo": {
     "elapsed": 2,
     "status": "ok",
     "timestamp": 1670414820950,
     "user": {
      "displayName": "Georg B",
      "userId": "16990759077565939430"
     },
     "user_tz": -60
    },
    "id": "rB4k-atpdx-U"
   },
   "source": [
    "**Interpretation**\n",
    "Let's discuss the test results. We know that the maximum statistic value (in our case, it is 45.78) is always observed with the original encoding. We could keep the same statistic value if we only merged U and Z, but that would only reduce the number of categories from 11 to 10. Merging more categories decreases the statistic but it matters which categories we merge to have a smaller reduction. More specifically, it costs less to merge categories that have similar odds.\n",
    "\n",
    "In our example, we are able to reduce the number of categories from 11 to 4 at a very small reduction of the Chi^2 statistic from 45.78 to 44.30. This indicates that our solution preserves most of the information despite the fact that we dropped 7 categories. This appears to be a good balance between the cardinality and predictive power.\n",
    "\n",
    "Now that we are done, recall that the very point of the re-grouping exercise was to reduce the number of category levels while not losing too much information. Fewer category levels, in turn, imply that we need less dummy variables to represnt the (regrouped) categorical variable in a regression model. Just to drive this point home, let's revisit the dummy coding step once more."
   ]
  },
  {
   "cell_type": "code",
   "execution_count": 32,
   "metadata": {},
   "outputs": [
    {
     "name": "stdout",
     "output_type": "stream",
     "text": [
      "      E  M  N  P  R  T  U  V  W  Z\n",
      "0     0  0  0  0  1  0  0  0  0  0\n",
      "1     0  0  0  1  0  0  0  0  0  0\n",
      "2     0  0  1  0  0  0  0  0  0  0\n",
      "3     0  0  0  1  0  0  0  0  0  0\n",
      "4     0  0  0  1  0  0  0  0  0  0\n",
      "...  .. .. .. .. .. .. .. .. .. ..\n",
      "1220  0  0  0  0  0  0  0  1  0  0\n",
      "1221  0  0  0  1  0  0  0  0  0  0\n",
      "1222  1  0  0  0  0  0  0  0  0  0\n",
      "1223  0  0  0  0  1  0  0  0  0  0\n",
      "1224  0  0  0  0  0  1  0  0  0  0\n",
      "\n",
      "[1225 rows x 10 columns]\n",
      "      T+E+B+M  U+Z+R+W\n",
      "0           0        1\n",
      "1           0        0\n",
      "2           0        0\n",
      "3           0        0\n",
      "4           0        0\n",
      "...       ...      ...\n",
      "1220        0        0\n",
      "1221        0        0\n",
      "1222        1        0\n",
      "1223        0        1\n",
      "1224        1        0\n",
      "\n",
      "[1225 rows x 2 columns]\n"
     ]
    }
   ],
   "source": [
    "# Representation of the original feature using 10 dummy variables\n",
    "print(pd.get_dummies(data=df[\"EMPS_A\"], drop_first=True))\n",
    "\n",
    "# Representation of the regrouped feature \n",
    "print(pd.get_dummies(data=df[\"EMPS_A_merged\"], drop_first=True))"
   ]
  },
  {
   "cell_type": "markdown",
   "metadata": {
    "id": "K0v5WATBZbTX"
   },
   "source": [
    "# Well done. You did great in solving all the exercises!"
   ]
  },
  {
   "cell_type": "markdown",
   "metadata": {
    "id": "8Z6Oqmf-ZbTX"
   },
   "source": [
    "**Optional**\n",
    "By solving the previous task, you created a rather powerful mechanism to regroup categorical variables and judge the predictive power of the encoding prior to applying dummy coding. Write a function that wraps-up this functionality. In particular, your function should:\n",
    "- receive a categorical variable as input\n",
    "- check that the variable is actually a category\n",
    "- determine the number of unique levels\n",
    "- iteratively reduce the number of levels by:\n",
    "  - calculating the odds of all current levels\n",
    "  - merging the two levels whose odds is most similar\n",
    "  - calculating the $\\chi^2$ statistic for the current grouping and store its value\n",
    "- plot the elbow curve for the $\\chi^2$ statistic against the number of levels\n",
    "- display the optimal encoding for each number of levels\n",
    "\n",
    "*HINT:* recall the elbow curve showing relationship between the distance and the number of clusters that we plotted in [Tutorial 2](https://github.com/Humboldt-WI/bads/blob/master/tutorials/2_nb_descriptive_analytics.ipynb). Your function should output a similar graph.\n",
    "\n",
    "Finally, check your implementation by applying the function to EMPS_A and interpreting the results.\n",
    "\n",
    "Note that the described procedure mimics the logic behind the [CHAID tree](https://towardsdatascience.com/clearly-explained-top-2-types-of-decision-trees-chaid-cart-8695e441e73e), which is a tree-based supervised learning algorithm that finds feature splits based on the $\\chi^2$ statistic. When pruning the CHAID tree, feature splits with the lowest value of the $\\chi^2$ statistic are removed, which is similar to what we do when merging categories such that the drop in the $\\chi^2$ statistic value is as small as possible. In the future demos, you will learn more about tree-based algorithms and implement a decision tree from scratch. Solving this exercise will help you to make a step towards a better understanding of the principles of these learning algorithms."
   ]
  },
  {
   "cell_type": "code",
   "execution_count": 37,
   "metadata": {
    "executionInfo": {
     "elapsed": 9,
     "status": "ok",
     "timestamp": 1670414822168,
     "user": {
      "displayName": "Georg B",
      "userId": "16990759077565939430"
     },
     "user_tz": -60
    },
    "id": "6fI7Y_RkQkIa"
   },
   "outputs": [],
   "source": [
    "def optimize_grouping(cat_feature, target_feature):\n",
    "    ''' Compares different encodings of a categorical variable using Chi^2 test. '''\n",
    "\n",
    "    # Checking if feature is categorical\n",
    "    if cat_feature.dtype != 'category':\n",
    "        raise ValueError(\n",
    "            f'Input feature is not categorical. Received feature of type: {cat_feature.dtype}')\n",
    "\n",
    "    # Storing number and values of categories\n",
    "    cats_num = [cat_feature.nunique()]\n",
    "    cats = [cat_feature.cat.categories]\n",
    "\n",
    "    # Performing chi2 test on the raw data\n",
    "    ct = pd.crosstab(cat_feature, target_feature)\n",
    "    stat, pv, _, _ = chi2_contingency(ct)\n",
    "    chi_stats = [stat]\n",
    "    pvals = [pv]\n",
    "\n",
    "    # Iteratively grouping categories\n",
    "    while cats_num[-1] > 1:\n",
    "\n",
    "        # Computing odds ratio\n",
    "        ct = pd.crosstab(cat_feature, target_feature)\n",
    "        ct['odds'] = ct[0] / ct[1]\n",
    "\n",
    "        # Finding min odds ratio difference using the function diff()\n",
    "        # diff() computes the difference between adjacent rows in a data frame.\n",
    "        # Prior sorting of the data frame ensures that we compute the difference between neighboring entries.\n",
    "        ct = ct.sort_values('odds')\n",
    "        ct['odds_diff'] = ct['odds'].diff()\n",
    "        \n",
    "        # Last step is to find the index of the row with minimum difference, which we achieve using Nump's where() function.\n",
    "        min_idx = np.where(ct['odds_diff'] == ct['odds_diff'].min())[0][0]\n",
    "\n",
    "        # Storing levels to merge\n",
    "        levels_to_merge = ct[(min_idx - 1):(min_idx + 1)].index.values\n",
    "\n",
    "        # Merging two categories with add_categories()\n",
    "        # Label of the new category level; we arbitrarily select the plus sign as seperator\n",
    "        new_level = '+'.join(levels_to_merge)\n",
    "        cat_feature = cat_feature.cat.add_categories(new_level)\n",
    "        for level in levels_to_merge:\n",
    "            cat_feature[cat_feature == level] = new_level\n",
    "\n",
    "        # We can now remove the two category levels that were just merged\n",
    "        cat_feature = cat_feature.cat.remove_categories(levels_to_merge)\n",
    "\n",
    "        # Storing number and values of categories after encoding\n",
    "        cats_num.append(cat_feature.nunique())\n",
    "        cats.append(cat_feature.cat.categories)\n",
    "\n",
    "        # Performing chi2 test for merged category\n",
    "        ct = pd.crosstab(cat_feature, target_feature)\n",
    "        stat, pv, _, _ = chi2_contingency(ct)\n",
    "        chi_stats.append(stat)\n",
    "        pvals.append(pv)\n",
    "\n",
    "    # Plotting elbow curve for the chi^2 statistics \n",
    "    fig = plt.figure()\n",
    "    \n",
    "    ax1 = fig.add_subplot(111)\n",
    "    ax1.set_title('$\\chi^2$ Elbow Curve')\n",
    "    ax1.plot(cats_num, chi_stats, 'darkblue')\n",
    "    ax1.set_xlabel('Number of categories')\n",
    "    ax1.set_ylabel('$\\chi^2$ statistic', color='darkblue')\n",
    "    \n",
    "    # In the current context, the p-value of the Chi^2 test does not matter that much. However,\n",
    "    # in case you are curious, we can add them to our chart in the following way, where the key\n",
    "    # step is to add a second Y-axis for the p-values. This is crucial due to their small number\n",
    "    # range. \n",
    "    \n",
    "    ax2 = ax1.twinx()\n",
    "    ax2.plot(cats_num, pvals, 'r-')\n",
    "    ax2.set_ylim(0, 1e-7)\n",
    "    ax2.set_ylabel('$\\chi^2$ p-value', color='r')\n",
    "    \n",
    "    plt.show()\n",
    "    \n",
    "    # Printing encodings\n",
    "    for i in range(len(cats)):\n",
    "        print(f'- {cats_num[i]} categories: {cats[i].values}')\n",
    "        "
   ]
  },
  {
   "cell_type": "code",
   "execution_count": 38,
   "metadata": {
    "colab": {
     "base_uri": "https://localhost:8080/",
     "height": 501
    },
    "executionInfo": {
     "elapsed": 7,
     "status": "ok",
     "timestamp": 1670414822168,
     "user": {
      "displayName": "Georg B",
      "userId": "16990759077565939430"
     },
     "user_tz": -60
    },
    "id": "Cq0ccMDFQpDU",
    "outputId": "b0fef539-1a01-402c-e4ff-e773ec9c25ee"
   },
   "outputs": [
    {
     "data": {
      "image/png": "[encoded data removed]",
      "text/plain": [
       "<Figure size 640x480 with 2 Axes>"
      ]
     },
     "metadata": {},
     "output_type": "display_data"
    },
    {
     "name": "stdout",
     "output_type": "stream",
     "text": [
      "- 11 categories: ['B' 'E' 'M' 'N' 'P' 'R' 'T' 'U' 'V' 'W' 'Z']\n",
      "- 10 categories: ['B' 'E' 'M' 'N' 'P' 'R' 'T' 'V' 'W' 'U+Z']\n",
      "- 9 categories: ['E' 'N' 'P' 'R' 'T' 'V' 'W' 'U+Z' 'B+M']\n",
      "- 8 categories: ['N' 'P' 'R' 'V' 'W' 'U+Z' 'B+M' 'T+E']\n",
      "- 7 categories: ['N' 'P' 'V' 'W' 'B+M' 'T+E' 'U+Z+R']\n",
      "- 6 categories: ['N' 'P' 'V' 'B+M' 'T+E' 'U+Z+R+W']\n",
      "- 5 categories: ['N' 'P' 'V' 'U+Z+R+W' 'T+E+B+M']\n",
      "- 4 categories: ['N' 'U+Z+R+W' 'T+E+B+M' 'P+V']\n",
      "- 3 categories: ['N' 'U+Z+R+W' 'T+E+B+M+P+V']\n",
      "- 2 categories: ['U+Z+R+W' 'T+E+B+M+P+V+N']\n",
      "- 1 categories: ['U+Z+R+W+T+E+B+M+P+V+N']\n",
      "[1.569201314588438e-06, 6.603441872275597e-07, 2.614847457609931e-07, 9.790718254640322e-08, 3.416199903440204e-08, 1.1897887961013847e-08, 3.6092001561580403e-09, 1.2614521370572492e-09, 6.430859883586554e-09, 1.6043469751478596e-09, 1.0]\n"
     ]
    }
   ],
   "source": [
    "# Let's apply our function and inspect the output\n",
    "optimize_grouping(cat_feature = df['EMPS_A'], target_feature = df['BAD'])"
   ]
  },
  {
   "cell_type": "code",
   "execution_count": null,
   "metadata": {},
   "outputs": [],
   "source": []
  }
 ],
 "metadata": {
  "colab": {
   "provenance": []
  },
  "kernelspec": {
   "display_name": "Python 3 (ipykernel)",
   "language": "python",
   "name": "python3"
  },
  "language_info": {
   "codemirror_mode": {
    "name": "ipython",
    "version": 3
   },
   "file_extension": ".py",
   "mimetype": "text/x-python",
   "name": "python",
   "nbconvert_exporter": "python",
   "pygments_lexer": "ipython3",
   "version": "3.9.13"
  }
 },
 "nbformat": 4,
 "nbformat_minor": 4
}
