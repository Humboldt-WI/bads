{
 "cells": [
  {
   "cell_type": "markdown",
   "metadata": {},
   "source": [
    "# Assignment Business Analytics and Data Science (Winter 2020/2021)\n",
    "\n",
    "The assignment asks you to apply your skills in business analytics to real-world e-commerce data.  Between data science expertise, you will also demonstrate your programming skills as well as your abilities related to scientific writing and academic work. More specifically, the assignment consists of the applied, \"hands-on\" development of a prediction model for real-world data and the scientific documentation of your approach. You will heavily draw upon the techniques discussed in the course. Application of other methods, which go beyond approaches discussed in BADS, are also welcome and a sign of very good performance. Recent data science papers discuss some exciting methodology that fits the scope of predictive modeling and the assignment. "
   ]
  },
  {
   "cell_type": "markdown",
   "metadata": {},
   "source": [
    "## Scope and business setting\n",
    "Customers send back a substantial part of the products that they purchase online. Return shipping is expensive for online platforms. For example, return orders are said to reach 50% for certain industries and products. Nevertheless, free or inexpensive return shipping has become a customer expectation and de-facto standard in the fierce online competition on clothing, but shops have indirect ways to influence customer purchase behavior. For purchases where return seems likely, a shop could, for example, restrict payment options or display additional marketing communication.\n",
    "\n",
    "For this assignment, you are provided with [real-world data by an online retailer](https://www.kaggle.com/c/bads2021/data). Your task is to identify the items that are likely to be returned. When a customer is about to purchase an item, which is likely to be returned, the shop is planning to show a warning message. Pre-tests suggest that the warning message leads approx. 50% of customers to cancel their purchase.  In case of a return, the shop calculates with shipping-related costs of 3 EUR plus 10% of the item value in loss of resale value. Your task is to build a targeting model to balance potential sales and return risk in order to optimize shop revenue. The data you receive and within the test set is artificially balanced (1:1 ratio between (non-)returns). Since the real business situation contains substantially more non-returns than returns, the misclassification costs include a correction factor of 5.\n",
    "\n",
    "## Model assessment\n",
    "You are expected to provide a binary estimate (0/1) if the customer will return an item within the order. Let's introduce labels for the two classes of interest. We refer to the cases in which an item is returned as the positive class. Accordingly, online purchases in which all items are kept belong to the *negative* class. The performance of your prediction model will be evaluated by the net revenue gain. This differs from the [Kaggle challenge](https://www.kaggle.com/c/bads2021/overview/evaluation) in which your model is assessed in terms of the AUC. The reason for this difference is that Kaggle does support standard performance metrics like the AUC but does not allow for a custom performance metric such as shop revenue. \n",
    "\n",
    "Calculating shop revenue involves handling asymmetric error costs. To see this, let us assume that, for a case $x$, your model predicts an item to be returned ($\\hat{y}=1$). So the model predicts case $x$ to belong to the positive class. This implies that the shop will display a warning message to discourage the purchase. Two outcomes are possible. First, we have a true positive (TP) outcome if the the warning discourages a customer from buying an item that she would have returned otherwise. This case does not entail a cost. On the other hand, if a customer receives a warning message and decides not to buy an item, which she would not have returned otherwise, then the shop loses revenue. This case describes a false positive (FP) case. Two more outcomes are possible if your model predicts a negative outcome (i.e., that all items of an order are kept). The true negative (TN) outcome occurs if the customer does keep all items. We agin assume zero costs for this case. The fourth and last possible state is the false negative (FN) outcome. The model has predicted the customer to keep all items whereas she actually returns an item. In this case, that is a false negative error costs for handling the return occur. Equipped with this understanding and using the above information on costs and benefits, we can set up the following cost-matrix in which $v$ denotes the value of the returned item and we assume asymmetric costs or error. Note that we discuss such asymmetric costs of error in the course chapter on [imbalanced and cost-sensitive learning](). "
   ]
  },
  {
   "cell_type": "markdown",
   "metadata": {},
   "source": [
    "| | **Actual negative** <br>($y=0$)<br>(item kept)  | **Actual positive** <br>($y=1$)<br>(item returned) |\n",
    "|---|:-:|:-:\n",
    "| **Predicted negative** <br>($\\hat{y}=0$) <br>(no warning message) | 0 | $0.5 \\cdot 5 \\cdot -\\left(3 + 0.1 \\cdot v \\right)$\n",
    "| **Predicted positive** <br>($\\hat{y}=1$) <br>(show warning message)| $0.5 \\cdot -v$  | 0\n",
    "\n"
   ]
  },
  {
   "cell_type": "markdown",
   "metadata": {},
   "source": [
    "## Submission files and deliverables\n",
    "Your submission to the BADS assignment will consist of two files:\n",
    "- 1. Text file with your predictions in csv format.\n",
    "- 2. Jupyter notebook, which details your modeling approach.\n",
    "\n",
    "Both files will be submitted via Moodle. We will up date our Moodle page to provide a function for submitting your assignment solution. To make sure that we are able to process your submission files, please make sure that the naming of your files complies with the below specification.   \n",
    "\n",
    "### Predictions\n",
    "For us to be able to evaluate your models, please submit your final predictions as a CSV file. Your file name has to display your student id. Assume your student id is 123456. In that case, your prediction should be named **123456.csv**. \n",
    "\n",
    "The format of your csv file should be the same as for the [Kaggle challenge](https://www.kaggle.com/c/bads2021/overview/evaluation). Specifically, we require the following format:\n",
    "order_item_id , your_prediction\n",
    "1, 1.0\n",
    "2, 0.0\n",
    "3, 1.0\n",
    "etc.\n",
    "\n",
    "You can easily produce this format using the `to_csv()` function of a Pandas DataFrame object. However, it is as easy to get the format wrong. The first two **must include the column headers**. Row 2 and following provide the predictions. The IDs that you include in the first column must match the order_item_id's of the unknown data. Also, you have to produce **one prediction for every order_item_id** included in the unknown data. The column separator is the comma. The decimal separator is the dot. We are processing your predictions using a Python script and will not incorporate complex routines for error correction. Your prediction file has to be correct. Otherwise, it will not be processed. Finally, note **one important difference to the predictions that you submit to Kaggle.** On Kaggle, you submit predictions as a decimal number, which represents your model-estimated **return probability**. Formally, your Kaggle prediction are to represent an estimate $\\hat{p} \\left( y=1|x \\right)$. For the BADS assignment, you need to submit **discrete class predictions**. Formally, for the assignment, you are asked to submit predictions resulting from the following rule:    \n",
    "$$\\hat{y}=\\left\\{\\begin{matrix}\n",
    "1 & \\hat{p}\\left (  y=1|x>\\tau \\right ) \\\\ \n",
    "0 & otherwise\n",
    "\\end{matrix}\\right$$\n"
   ]
  },
  {
   "cell_type": "code",
   "execution_count": null,
   "metadata": {},
   "outputs": [],
   "source": []
  }
 ],
 "metadata": {
  "kernelspec": {
   "display_name": "PyCharm (adams)",
   "language": "python",
   "name": "pycharm-feb95198"
  },
  "language_info": {
   "codemirror_mode": {
    "name": "ipython",
    "version": 3
   },
   "file_extension": ".py",
   "mimetype": "text/x-python",
   "name": "python",
   "nbconvert_exporter": "python",
   "pygments_lexer": "ipython3",
   "version": "3.7.6"
  }
 },
 "nbformat": 4,
 "nbformat_minor": 4
}
