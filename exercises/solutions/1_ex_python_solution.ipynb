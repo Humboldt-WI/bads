{
 "cells": [
  {
   "cell_type": "markdown",
   "metadata": {
    "id": "02pR6DeQTEiU"
   },
   "source": [
    "[![Open In Colab](https://colab.research.google.com/assets/colab-badge.svg)](https://colab.research.google.com/github/Humboldt-WI/bads/blob/master/exercises/1_ex_python.ipynb) "
   ]
  },
  {
   "cell_type": "markdown",
   "metadata": {
    "id": "tybuYD0FTEiZ"
   },
   "source": [
    "# Exercises on Python programming\n",
    "We covered a lot of concepts in the first [tutorial on Python programming](https://github.com/Humboldt-WI/bads/blob/master/tutorials/1_nb_python_intro.ipynb). Solving the exercises allows you to test your familiarity with these concepts.  "
   ]
  },
  {
   "cell_type": "markdown",
   "metadata": {
    "id": "1VMIYxxHTEih"
   },
   "source": [
    "## Variables, assignments, and comparisons"
   ]
  },
  {
   "cell_type": "markdown",
   "metadata": {
    "id": "ZjSnNHKFTEij"
   },
   "source": [
    "1. Create two variables $a$ and $b$ and assign values of $3$ and $4.5$."
   ]
  },
  {
   "cell_type": "code",
   "execution_count": null,
   "metadata": {
    "id": "6hk2fOV6TEil"
   },
   "outputs": [],
   "source": [
    "a = 3\n",
    "b = 4.5"
   ]
  },
  {
   "cell_type": "markdown",
   "metadata": {
    "id": "EPkKCp9-TEl_"
   },
   "source": [
    "2. Query the type of variable $a$."
   ]
  },
  {
   "cell_type": "code",
   "execution_count": null,
   "metadata": {
    "colab": {
     "base_uri": "https://localhost:8080/"
    },
    "executionInfo": {
     "elapsed": 81,
     "status": "ok",
     "timestamp": 1635328907896,
     "user": {
      "displayName": "Stefan Lessmann",
      "photoUrl": "https://lh3.googleusercontent.com/a-/AOh14GihtuVUIO07jrZ6NKEVggi44vrPvluMzUCsHoZh=s64",
      "userId": "06342662613942148717"
     },
     "user_tz": -120
    },
    "id": "K3UAU_NBTEmI",
    "outputId": "20f3d20a-6c96-4c1d-a0d8-fd9b392b6b9f"
   },
   "outputs": [
    {
     "data": {
      "text/plain": [
       "int"
      ]
     },
     "execution_count": 2,
     "metadata": {},
     "output_type": "execute_result"
    }
   ],
   "source": [
    "type(a)"
   ]
  },
  {
   "cell_type": "markdown",
   "metadata": {
    "id": "nMZ-YVaZTEmZ"
   },
   "source": [
    "3. Check whether variable $b$ is a text variable (of class character)."
   ]
  },
  {
   "cell_type": "code",
   "execution_count": null,
   "metadata": {
    "colab": {
     "base_uri": "https://localhost:8080/"
    },
    "executionInfo": {
     "elapsed": 75,
     "status": "ok",
     "timestamp": 1635328907897,
     "user": {
      "displayName": "Stefan Lessmann",
      "photoUrl": "https://lh3.googleusercontent.com/a-/AOh14GihtuVUIO07jrZ6NKEVggi44vrPvluMzUCsHoZh=s64",
      "userId": "06342662613942148717"
     },
     "user_tz": -120
    },
    "id": "Qh2IoZj7TEmb",
    "outputId": "01fb36a2-62ae-4d2b-b045-426837991305"
   },
   "outputs": [
    {
     "data": {
      "text/plain": [
       "False"
      ]
     },
     "execution_count": 3,
     "metadata": {},
     "output_type": "execute_result"
    }
   ],
   "source": [
    "type(b) == str"
   ]
  },
  {
   "cell_type": "code",
   "execution_count": null,
   "metadata": {
    "colab": {
     "base_uri": "https://localhost:8080/"
    },
    "executionInfo": {
     "elapsed": 74,
     "status": "ok",
     "timestamp": 1635328907898,
     "user": {
      "displayName": "Stefan Lessmann",
      "photoUrl": "https://lh3.googleusercontent.com/a-/AOh14GihtuVUIO07jrZ6NKEVggi44vrPvluMzUCsHoZh=s64",
      "userId": "06342662613942148717"
     },
     "user_tz": -120
    },
    "id": "RmCVz0aTzd3a",
    "outputId": "898ff1fa-292a-48f8-e8df-f3d6bcebf62c"
   },
   "outputs": [
    {
     "data": {
      "text/plain": [
       "False"
      ]
     },
     "execution_count": 4,
     "metadata": {},
     "output_type": "execute_result"
    }
   ],
   "source": [
    "# and as an alternative\n",
    "isinstance(b, str)"
   ]
  },
  {
   "cell_type": "markdown",
   "metadata": {
    "id": "6VUPMTKBTEmk"
   },
   "source": [
    "4. Calculate $a^2 + \\frac{1}{b}$, $\\sqrt{a*b}$, and $log_2(a)$."
   ]
  },
  {
   "cell_type": "code",
   "execution_count": null,
   "metadata": {
    "colab": {
     "base_uri": "https://localhost:8080/"
    },
    "executionInfo": {
     "elapsed": 73,
     "status": "ok",
     "timestamp": 1635328907900,
     "user": {
      "displayName": "Stefan Lessmann",
      "photoUrl": "https://lh3.googleusercontent.com/a-/AOh14GihtuVUIO07jrZ6NKEVggi44vrPvluMzUCsHoZh=s64",
      "userId": "06342662613942148717"
     },
     "user_tz": -120
    },
    "id": "wCK0uv10TEmn",
    "outputId": "82ac186b-4f44-44e5-ed48-be884e194ba8"
   },
   "outputs": [
    {
     "data": {
      "text/plain": [
       "9.222222222222221"
      ]
     },
     "execution_count": 5,
     "metadata": {},
     "output_type": "execute_result"
    }
   ],
   "source": [
    "a ** 2 + 1/b"
   ]
  },
  {
   "cell_type": "code",
   "execution_count": null,
   "metadata": {
    "colab": {
     "base_uri": "https://localhost:8080/"
    },
    "executionInfo": {
     "elapsed": 71,
     "status": "ok",
     "timestamp": 1635328907901,
     "user": {
      "displayName": "Stefan Lessmann",
      "photoUrl": "https://lh3.googleusercontent.com/a-/AOh14GihtuVUIO07jrZ6NKEVggi44vrPvluMzUCsHoZh=s64",
      "userId": "06342662613942148717"
     },
     "user_tz": -120
    },
    "id": "dntijZKBUPMu",
    "outputId": "d37bd730-fbdd-42b7-ab7e-dd9056649676"
   },
   "outputs": [
    {
     "data": {
      "text/plain": [
       "3.6742346141747673"
      ]
     },
     "execution_count": 6,
     "metadata": {},
     "output_type": "execute_result"
    }
   ],
   "source": [
    "import numpy as np\n",
    "np.sqrt(a * b)\n",
    "\n",
    "# we import numpy to use numpy.sqrt() function\n",
    "# can alternatively be computed using (a * b) ** (1/2)"
   ]
  },
  {
   "cell_type": "code",
   "execution_count": null,
   "metadata": {
    "colab": {
     "base_uri": "https://localhost:8080/"
    },
    "executionInfo": {
     "elapsed": 68,
     "status": "ok",
     "timestamp": 1635328907901,
     "user": {
      "displayName": "Stefan Lessmann",
      "photoUrl": "https://lh3.googleusercontent.com/a-/AOh14GihtuVUIO07jrZ6NKEVggi44vrPvluMzUCsHoZh=s64",
      "userId": "06342662613942148717"
     },
     "user_tz": -120
    },
    "id": "pyGMZGTNUTIx",
    "outputId": "6f146b5f-675d-4e3b-9a1a-0f4a9dbd74ed"
   },
   "outputs": [
    {
     "data": {
      "text/plain": [
       "1.584962500721156"
      ]
     },
     "execution_count": 7,
     "metadata": {},
     "output_type": "execute_result"
    }
   ],
   "source": [
    "np.log2(a)"
   ]
  },
  {
   "cell_type": "markdown",
   "metadata": {
    "id": "-E2g552hTEm1"
   },
   "source": [
    "## Matrix algebra\n",
    "Create three additional variables as follows:\n",
    "\n",
    " $$ A = \\left( \\begin{matrix} 1 & 2 & 3 \\\\ 4 & 5 & 6 \\\\ 7 & 8 & 10 \\end{matrix} \\right) \\quad\n",
    "  B = \\left( \\begin{matrix} 1 & 4 & 7 \\\\ 2 & 5 & 8 \\\\ 3 & 6 & 9 \\end{matrix} \\right)  \\quad\n",
    "  y = \\left( \\begin{matrix} 1 \\\\ 2 \\\\ 3 \\end{matrix} \\right) $$\n",
    "\n",
    "Perform the following operations. Note that mathematical operators like `*` might not behave in the way you need it. Wasn't there a powerful library for all sorts of numerical computations including classic linear algebra?\n",
    "\n",
    "Calculate  \n",
    "\n",
    "  1. $a*A$"
   ]
  },
  {
   "cell_type": "code",
   "execution_count": null,
   "metadata": {
    "colab": {
     "base_uri": "https://localhost:8080/"
    },
    "executionInfo": {
     "elapsed": 63,
     "status": "ok",
     "timestamp": 1635328907902,
     "user": {
      "displayName": "Stefan Lessmann",
      "photoUrl": "https://lh3.googleusercontent.com/a-/AOh14GihtuVUIO07jrZ6NKEVggi44vrPvluMzUCsHoZh=s64",
      "userId": "06342662613942148717"
     },
     "user_tz": -120
    },
    "id": "tuBhQZZXTEnL",
    "outputId": "b8a0e39d-ca5c-41ed-d0b8-f50b890354ae"
   },
   "outputs": [
    {
     "data": {
      "text/plain": [
       "array([[ 3,  6,  9],\n",
       "       [12, 15, 18],\n",
       "       [21, 24, 30]])"
      ]
     },
     "execution_count": 8,
     "metadata": {},
     "output_type": "execute_result"
    }
   ],
   "source": [
    "A = np.array(([1, 2, 3], \n",
    "              [4, 5, 6], \n",
    "              [7, 8, 10]))\n",
    "a * A\n",
    "\n",
    "# when multiplying a matrix by a scalar, we can use the operator * to perform element-wise multiplication"
   ]
  },
  {
   "cell_type": "markdown",
   "metadata": {
    "id": "vTJPwT_MTEnQ"
   },
   "source": [
    "  2. $A*B$"
   ]
  },
  {
   "cell_type": "code",
   "execution_count": null,
   "metadata": {
    "colab": {
     "base_uri": "https://localhost:8080/"
    },
    "executionInfo": {
     "elapsed": 61,
     "status": "ok",
     "timestamp": 1635328907903,
     "user": {
      "displayName": "Stefan Lessmann",
      "photoUrl": "https://lh3.googleusercontent.com/a-/AOh14GihtuVUIO07jrZ6NKEVggi44vrPvluMzUCsHoZh=s64",
      "userId": "06342662613942148717"
     },
     "user_tz": -120
    },
    "id": "JSvGRJNBTEnQ",
    "outputId": "9cc17214-361e-4b9f-911a-61c2f1e5580b"
   },
   "outputs": [
    {
     "data": {
      "text/plain": [
       "array([[ 14,  32,  50],\n",
       "       [ 32,  77, 122],\n",
       "       [ 53, 128, 203]])"
      ]
     },
     "execution_count": 9,
     "metadata": {},
     "output_type": "execute_result"
    }
   ],
   "source": [
    "B = np.array(([1, 4, 7], \n",
    "              [2, 5, 8], \n",
    "              [3, 6, 9]))\n",
    "np.matmul(A, B)\n",
    "\n",
    "# matrix multiplication is performed using numpy.matmul()"
   ]
  },
  {
   "cell_type": "markdown",
   "metadata": {
    "id": "QP3V_w_RTEnX"
   },
   "source": [
    "  3. The inverse of matrix $A$ and store the result in a variable $invA$. Any ideas how to get Python to invert a matrix?\n",
    "\n",
    "> Hint: NumPy is your friend.  "
   ]
  },
  {
   "cell_type": "code",
   "execution_count": null,
   "metadata": {
    "colab": {
     "base_uri": "https://localhost:8080/"
    },
    "executionInfo": {
     "elapsed": 59,
     "status": "ok",
     "timestamp": 1635328907904,
     "user": {
      "displayName": "Stefan Lessmann",
      "photoUrl": "https://lh3.googleusercontent.com/a-/AOh14GihtuVUIO07jrZ6NKEVggi44vrPvluMzUCsHoZh=s64",
      "userId": "06342662613942148717"
     },
     "user_tz": -120
    },
    "id": "UWf37fEkTEnY",
    "outputId": "119e9ae4-cd5e-498d-c153-9426df66737d"
   },
   "outputs": [
    {
     "data": {
      "text/plain": [
       "array([[-0.66666667, -1.33333333,  1.        ],\n",
       "       [-0.66666667,  3.66666667, -2.        ],\n",
       "       [ 1.        , -2.        ,  1.        ]])"
      ]
     },
     "execution_count": 10,
     "metadata": {},
     "output_type": "execute_result"
    }
   ],
   "source": [
    "# Option 1 (standad approach)\n",
    "invA = np.linalg.inv(A)\n",
    "print(invA)\n",
    "\n",
    "# Option 2 (for the curious reader)\n",
    "invA = np.linalg.solve(A, np.eye(B.shape[1]))  # Look into the documentation of numpy.linalg.solve() to see what happens\n",
    "\n",
    "print(invA)"
   ]
  },
  {
   "cell_type": "markdown",
   "metadata": {
    "id": "E-rIT_DfTEna"
   },
   "source": [
    "  4. Multiply $A$ and $invA$ and verify that the result is the identity matrix (i.e. only 1s on the diagonal). You'll probably find that it isn't, because computers usually make very small rounding error when handling real numbers. The reason is interesting, but you'll have to look it up if you're interested."
   ]
  },
  {
   "cell_type": "code",
   "execution_count": null,
   "metadata": {
    "colab": {
     "base_uri": "https://localhost:8080/"
    },
    "executionInfo": {
     "elapsed": 57,
     "status": "ok",
     "timestamp": 1635328907905,
     "user": {
      "displayName": "Stefan Lessmann",
      "photoUrl": "https://lh3.googleusercontent.com/a-/AOh14GihtuVUIO07jrZ6NKEVggi44vrPvluMzUCsHoZh=s64",
      "userId": "06342662613942148717"
     },
     "user_tz": -120
    },
    "id": "NROKiO3GTEnc",
    "outputId": "ba0d0287-a355-43e0-f508-ff8cff37b282"
   },
   "outputs": [
    {
     "data": {
      "text/plain": [
       "array([[1.00000000e+00, 0.00000000e+00, 1.11022302e-16],\n",
       "       [0.00000000e+00, 1.00000000e+00, 2.22044605e-16],\n",
       "       [8.88178420e-16, 0.00000000e+00, 1.00000000e+00]])"
      ]
     },
     "execution_count": 11,
     "metadata": {},
     "output_type": "execute_result"
    }
   ],
   "source": [
    "res = np.matmul(A, invA)\n",
    "res\n",
    "\n",
    "# as you can see below, some matrix elements are not exactly zero"
   ]
  },
  {
   "cell_type": "code",
   "execution_count": null,
   "metadata": {
    "colab": {
     "base_uri": "https://localhost:8080/"
    },
    "executionInfo": {
     "elapsed": 56,
     "status": "ok",
     "timestamp": 1635328907907,
     "user": {
      "displayName": "Stefan Lessmann",
      "photoUrl": "https://lh3.googleusercontent.com/a-/AOh14GihtuVUIO07jrZ6NKEVggi44vrPvluMzUCsHoZh=s64",
      "userId": "06342662613942148717"
     },
     "user_tz": -120
    },
    "id": "3-Tz_EPRWDa3",
    "outputId": "fec3c2d2-be10-4989-de37-dfb28fa26d4e"
   },
   "outputs": [
    {
     "data": {
      "text/plain": [
       "False"
      ]
     },
     "execution_count": 12,
     "metadata": {},
     "output_type": "execute_result"
    }
   ],
   "source": [
    "(res == np.eye(3)).all()\n",
    "\n",
    "# res == np.eye(3) checks if values in two arrays are equal element-wise\n",
    "# .all() is used to check if condition holds across all array elements"
   ]
  },
  {
   "cell_type": "markdown",
   "metadata": {
    "id": "X7BfTcwJTEne"
   },
   "source": [
    "  5. The transpose of matrix $B$"
   ]
  },
  {
   "cell_type": "code",
   "execution_count": null,
   "metadata": {
    "colab": {
     "base_uri": "https://localhost:8080/"
    },
    "executionInfo": {
     "elapsed": 54,
     "status": "ok",
     "timestamp": 1635328907908,
     "user": {
      "displayName": "Stefan Lessmann",
      "photoUrl": "https://lh3.googleusercontent.com/a-/AOh14GihtuVUIO07jrZ6NKEVggi44vrPvluMzUCsHoZh=s64",
      "userId": "06342662613942148717"
     },
     "user_tz": -120
    },
    "id": "ULF63aEnTEnf",
    "outputId": "24f2501f-31d6-491b-edf7-7d4eddb28546"
   },
   "outputs": [
    {
     "data": {
      "text/plain": [
       "array([[1, 2, 3],\n",
       "       [4, 5, 6],\n",
       "       [7, 8, 9]])"
      ]
     },
     "execution_count": 13,
     "metadata": {},
     "output_type": "execute_result"
    }
   ],
   "source": [
    "np.transpose(B)"
   ]
  },
  {
   "cell_type": "markdown",
   "metadata": {
    "id": "Uan9gCNSTEni"
   },
   "source": [
    "  6. Fill the first row of matrix $B$ with ones"
   ]
  },
  {
   "cell_type": "code",
   "execution_count": null,
   "metadata": {
    "colab": {
     "base_uri": "https://localhost:8080/"
    },
    "executionInfo": {
     "elapsed": 51,
     "status": "ok",
     "timestamp": 1635328907908,
     "user": {
      "displayName": "Stefan Lessmann",
      "photoUrl": "https://lh3.googleusercontent.com/a-/AOh14GihtuVUIO07jrZ6NKEVggi44vrPvluMzUCsHoZh=s64",
      "userId": "06342662613942148717"
     },
     "user_tz": -120
    },
    "id": "H9TkTfriTEni",
    "outputId": "63257ac4-9889-4309-c30b-684a12b1b675"
   },
   "outputs": [
    {
     "data": {
      "text/plain": [
       "array([[1, 1, 1],\n",
       "       [2, 5, 8],\n",
       "       [3, 6, 9]])"
      ]
     },
     "execution_count": 14,
     "metadata": {},
     "output_type": "execute_result"
    }
   ],
   "source": [
    "B[0,:] = np.ones(3)\n",
    "B"
   ]
  },
  {
   "cell_type": "markdown",
   "metadata": {
    "id": "Fh6RtR8UTEnk"
   },
   "source": [
    "  7. Calculate the ordinary least squares estimator $\\beta$ (i.e. a standard regression) \n",
    "$$ \\beta = (A^{\\top}A)^{-1}A^{\\top} y $$  "
   ]
  },
  {
   "cell_type": "code",
   "execution_count": null,
   "metadata": {
    "colab": {
     "base_uri": "https://localhost:8080/"
    },
    "executionInfo": {
     "elapsed": 49,
     "status": "ok",
     "timestamp": 1635328907909,
     "user": {
      "displayName": "Stefan Lessmann",
      "photoUrl": "https://lh3.googleusercontent.com/a-/AOh14GihtuVUIO07jrZ6NKEVggi44vrPvluMzUCsHoZh=s64",
      "userId": "06342662613942148717"
     },
     "user_tz": -120
    },
    "id": "SNGAlDQ4TEnl",
    "outputId": "3a58be65-544f-4f76-a2ad-e3de3a234c7f"
   },
   "outputs": [
    {
     "data": {
      "text/plain": [
       "array([-3.33333333e-01,  6.66666667e-01, -6.92779167e-14])"
      ]
     },
     "execution_count": 15,
     "metadata": {},
     "output_type": "execute_result"
    }
   ],
   "source": [
    "y = np.transpose(np.array([1, 2, 3]))\n",
    "\n",
    "# let's split our equation into two terms and compute beta step by step\n",
    "\n",
    "term1 = np.linalg.inv(np.matmul(np.transpose(A), A))\n",
    "term2 = np.matmul(np.transpose(A), y)\n",
    "beta  = np.matmul(term1, term2)\n",
    "beta"
   ]
  },
  {
   "cell_type": "markdown",
   "metadata": {
    "id": "yyXppdyITEnp"
   },
   "source": [
    "## Indexing\n",
    "1. Look at values of variables $A$, $B$, and $y$ from the last exercise"
   ]
  },
  {
   "cell_type": "code",
   "execution_count": null,
   "metadata": {
    "colab": {
     "base_uri": "https://localhost:8080/"
    },
    "executionInfo": {
     "elapsed": 48,
     "status": "ok",
     "timestamp": 1635328907910,
     "user": {
      "displayName": "Stefan Lessmann",
      "photoUrl": "https://lh3.googleusercontent.com/a-/AOh14GihtuVUIO07jrZ6NKEVggi44vrPvluMzUCsHoZh=s64",
      "userId": "06342662613942148717"
     },
     "user_tz": -120
    },
    "id": "0Atk_7P_TEnp",
    "outputId": "59e42bae-1a5b-4f5c-b247-1071cc9ba7be"
   },
   "outputs": [
    {
     "name": "stdout",
     "output_type": "stream",
     "text": [
      "[[ 1  2  3]\n",
      " [ 4  5  6]\n",
      " [ 7  8 10]]\n",
      "\n",
      "[[1 1 1]\n",
      " [2 5 8]\n",
      " [3 6 9]]\n",
      "\n",
      "[1 2 3]\n"
     ]
    }
   ],
   "source": [
    "print(A)\n",
    "print('')\n",
    "print(B)\n",
    "print('')\n",
    "print(y)"
   ]
  },
  {
   "cell_type": "markdown",
   "metadata": {
    "id": "wieaydQRTEns"
   },
   "source": [
    "2. Access the second element in the third row of $A$ and the first element in the second row of $B$, and compute their product"
   ]
  },
  {
   "cell_type": "code",
   "execution_count": null,
   "metadata": {
    "colab": {
     "base_uri": "https://localhost:8080/"
    },
    "executionInfo": {
     "elapsed": 46,
     "status": "ok",
     "timestamp": 1635328907910,
     "user": {
      "displayName": "Stefan Lessmann",
      "photoUrl": "https://lh3.googleusercontent.com/a-/AOh14GihtuVUIO07jrZ6NKEVggi44vrPvluMzUCsHoZh=s64",
      "userId": "06342662613942148717"
     },
     "user_tz": -120
    },
    "id": "R6oLJ0-KTEnx",
    "outputId": "14d78473-b373-4cd6-efe7-3199c98bd5a7"
   },
   "outputs": [
    {
     "data": {
      "text/plain": [
       "16"
      ]
     },
     "execution_count": 17,
     "metadata": {},
     "output_type": "execute_result"
    }
   ],
   "source": [
    "A[2, 1] * B[1, 0]\n",
    "\n",
    "# remember that numbering in Python starts at 0"
   ]
  },
  {
   "cell_type": "markdown",
   "metadata": {
    "id": "ueDJucJVTEny"
   },
   "source": [
    "3. Multiply the first row of $A$ and the third column of $B$"
   ]
  },
  {
   "cell_type": "code",
   "execution_count": null,
   "metadata": {
    "colab": {
     "base_uri": "https://localhost:8080/"
    },
    "executionInfo": {
     "elapsed": 45,
     "status": "ok",
     "timestamp": 1635328907911,
     "user": {
      "displayName": "Stefan Lessmann",
      "photoUrl": "https://lh3.googleusercontent.com/a-/AOh14GihtuVUIO07jrZ6NKEVggi44vrPvluMzUCsHoZh=s64",
      "userId": "06342662613942148717"
     },
     "user_tz": -120
    },
    "id": "4hFhHI4YTEn2",
    "outputId": "33d4c327-ca22-4d9e-beeb-4ead23b1d787"
   },
   "outputs": [
    {
     "data": {
      "text/plain": [
       "44"
      ]
     },
     "execution_count": 18,
     "metadata": {},
     "output_type": "execute_result"
    }
   ],
   "source": [
    "np.matmul(A[0, :], B[:, 2])"
   ]
  },
  {
   "cell_type": "markdown",
   "metadata": {
    "id": "3UBYGNDfTEn5"
   },
   "source": [
    "4. Access the elements of y that are greater than 1 (without looking up their position manually)"
   ]
  },
  {
   "cell_type": "code",
   "execution_count": null,
   "metadata": {
    "colab": {
     "base_uri": "https://localhost:8080/"
    },
    "executionInfo": {
     "elapsed": 42,
     "status": "ok",
     "timestamp": 1635328907912,
     "user": {
      "displayName": "Stefan Lessmann",
      "photoUrl": "https://lh3.googleusercontent.com/a-/AOh14GihtuVUIO07jrZ6NKEVggi44vrPvluMzUCsHoZh=s64",
      "userId": "06342662613942148717"
     },
     "user_tz": -120
    },
    "id": "cXqJA9zRTEn5",
    "outputId": "adb6c9c8-1080-4550-b787-8657fd9c1624"
   },
   "outputs": [
    {
     "data": {
      "text/plain": [
       "array([2, 3])"
      ]
     },
     "execution_count": 19,
     "metadata": {},
     "output_type": "execute_result"
    }
   ],
   "source": [
    "y[y > 1]"
   ]
  },
  {
   "cell_type": "markdown",
   "metadata": {
    "id": "KxwNeZMfTEn7"
   },
   "source": [
    "5. Access the elements of A in the second column, for which the values in the first column are greater or equal to 4."
   ]
  },
  {
   "cell_type": "code",
   "execution_count": null,
   "metadata": {
    "colab": {
     "base_uri": "https://localhost:8080/"
    },
    "executionInfo": {
     "elapsed": 41,
     "status": "ok",
     "timestamp": 1635328907913,
     "user": {
      "displayName": "Stefan Lessmann",
      "photoUrl": "https://lh3.googleusercontent.com/a-/AOh14GihtuVUIO07jrZ6NKEVggi44vrPvluMzUCsHoZh=s64",
      "userId": "06342662613942148717"
     },
     "user_tz": -120
    },
    "id": "z9f1q6fNTEn8",
    "outputId": "c99b3827-2041-47bb-9e02-963eb27ebb27"
   },
   "outputs": [
    {
     "data": {
      "text/plain": [
       "array([5, 8])"
      ]
     },
     "execution_count": 20,
     "metadata": {},
     "output_type": "execute_result"
    }
   ],
   "source": [
    "A[:,1][A[:,0] >= 4]"
   ]
  },
  {
   "cell_type": "markdown",
   "metadata": {
    "id": "E9CIYD4jTEn9"
   },
   "source": [
    "6. Access the 4th row of A. If this returns an error message, use Google to investigate the problem and find out what went wrong."
   ]
  },
  {
   "cell_type": "code",
   "execution_count": null,
   "metadata": {
    "colab": {
     "base_uri": "https://localhost:8080/",
     "height": 268
    },
    "executionInfo": {
     "elapsed": 51,
     "status": "error",
     "timestamp": 1635328907925,
     "user": {
      "displayName": "Stefan Lessmann",
      "photoUrl": "https://lh3.googleusercontent.com/a-/AOh14GihtuVUIO07jrZ6NKEVggi44vrPvluMzUCsHoZh=s64",
      "userId": "06342662613942148717"
     },
     "user_tz": -120
    },
    "id": "PEoYMCIBTEn-",
    "outputId": "584f9d2b-6ae1-44cb-a94a-371792e55923"
   },
   "outputs": [
    {
     "ename": "IndexError",
     "evalue": "ignored",
     "output_type": "error",
     "traceback": [
      "\u001b[0;31m---------------------------------------------------------------------------\u001b[0m",
      "\u001b[0;31mIndexError\u001b[0m                                Traceback (most recent call last)",
      "\u001b[0;32m<ipython-input-21-e891f72a6bf7>\u001b[0m in \u001b[0;36m<module>\u001b[0;34m()\u001b[0m\n\u001b[0;32m----> 1\u001b[0;31m \u001b[0mA\u001b[0m\u001b[0;34m[\u001b[0m\u001b[0;36m3\u001b[0m\u001b[0;34m,\u001b[0m \u001b[0;34m:\u001b[0m\u001b[0;34m]\u001b[0m\u001b[0;34m\u001b[0m\u001b[0;34m\u001b[0m\u001b[0m\n\u001b[0m\u001b[1;32m      2\u001b[0m \u001b[0;34m\u001b[0m\u001b[0m\n\u001b[1;32m      3\u001b[0m \u001b[0;31m# IndexError pops up when trying to access index that is outside of the array dimensions\u001b[0m\u001b[0;34m\u001b[0m\u001b[0;34m\u001b[0m\u001b[0;34m\u001b[0m\u001b[0m\n\u001b[1;32m      4\u001b[0m \u001b[0;31m# in our case, A only has three rows, so trying to access the 4th row results in an error\u001b[0m\u001b[0;34m\u001b[0m\u001b[0;34m\u001b[0m\u001b[0;34m\u001b[0m\u001b[0m\n",
      "\u001b[0;31mIndexError\u001b[0m: index 3 is out of bounds for axis 0 with size 3"
     ]
    }
   ],
   "source": [
    "A[3, :]\n",
    "\n",
    "# IndexError pops up when trying to access index that is outside of the array dimensions\n",
    "# in our case, A only has three rows, so trying to access the 4th row results in an error"
   ]
  },
  {
   "cell_type": "markdown",
   "metadata": {
    "id": "IHaAD_kJTEoA"
   },
   "source": [
    "## Custom functions\n",
    "For many statistical applications it is practical to standardize variable values. One way to standardize is *centering and scaling*. In simple words, we make the variables comparable by reducing them to the same scale.\n",
    "\n",
    "Start with implementing a custom function. Your function should take an argument **x**. To keep things simple, we expect x to always be a numeric vector (and not text or a matrix, for example). In the body of the function, calculate the mean and standard deviation of **x**. Store the results in variables  **mu** and **std**, respectively. Then for each element in the vector, substract the mean and divide by the standard deviation.\n",
    "$$ x_{new} = \\frac{x-\\mu}{std}$$\n",
    "Make sure your functions **returns** the standardized vector (i.e., $x_{new}$ in the equation) as result. You might want to import `NumPy` for calculating the mean and standard deviation."
   ]
  },
  {
   "cell_type": "code",
   "execution_count": null,
   "metadata": {
    "id": "pJ3Ghg3ATEoA"
   },
   "outputs": [],
   "source": [
    "def standardize(x):\n",
    "  '''\n",
    "  Substracts mean and divides by standard deviation\n",
    "\n",
    "  Input: \n",
    "  - x (numeric numpy array)\n",
    "\n",
    "  Output:\n",
    "  - x_new (standardized numeric numpy array)\n",
    "  '''\n",
    "\n",
    "  import numpy as np\n",
    "\n",
    "  mu  = np.mean(x)\n",
    "  std = np.std(x)\n",
    "\n",
    "  x_new = (x - mu) / std\n",
    "\n",
    "  return x_new\n",
    "\n",
    "  # when defining a function, it is always useful to provide a docstring, which is\n",
    "  # a comment snippet in the following format: '''comment'''. It is common practice\n",
    "  # to specify the goal of the function as well as its inputs, outputs and arguments."
   ]
  },
  {
   "cell_type": "markdown",
   "metadata": {
    "id": "HONICGB2TEoC"
   },
   "source": [
    "You should always test your functions. Create a vector **a** with the elements (-100, -25, -10, 0, 10, 25, 100) and check if your function produces the correct result.     "
   ]
  },
  {
   "cell_type": "code",
   "execution_count": null,
   "metadata": {
    "id": "0tHUryPTTEoC"
   },
   "outputs": [],
   "source": [
    "x = np.array([-100, -25, -10, 0, 10, 25, 100])\n",
    "standardize(x)"
   ]
  },
  {
   "cell_type": "markdown",
   "metadata": {
    "id": "9wShcjvzTEoD"
   },
   "source": [
    "*Optional*: Create a vector **b** with elements (\"1\", \"2\", \"3\") and check the function. Let's include a simple check in the function and give feedback. Before doing any calculations, use `if()` and `type()` to check if the input is a numeric vector. There are many ways to code the condition *x is numeric* in Python. Run a quick web search and use a simple approach. If the input is not numeric, skip the computations and print a message \"input not numeric\"."
   ]
  },
  {
   "cell_type": "code",
   "execution_count": null,
   "metadata": {
    "id": "j6FbmzueTEoD"
   },
   "outputs": [],
   "source": [
    "b = np.array([\"1\", \"2\", \"3\"])\n",
    "standardize(b)\n",
    "\n",
    "# does not work because b is not a numeric array"
   ]
  },
  {
   "cell_type": "code",
   "execution_count": null,
   "metadata": {
    "id": "pe1EUX0BZuw9"
   },
   "outputs": [],
   "source": [
    "# when working with numpy arrays, one way to check if input is numeric is to use \n",
    "# np.dtype() to query the array type, and use np.issubdtype() to check if the type\n",
    "# belongs to a parent type (see https://numpy.org/doc/stable/reference/arrays.scalars.html \n",
    "# for hierarchy). In our case, we will check if an array belongs to a type np.number\n",
    "\n",
    "def standardize(x):\n",
    "  '''\n",
    "  Substracts mean and divides by standard deviation\n",
    "\n",
    "  Input: \n",
    "  - x (numeric numpy array)\n",
    "\n",
    "  Output:\n",
    "  - x_new (standardized numeric numpy array)\n",
    "  '''\n",
    "\n",
    "  import numpy as np\n",
    "\n",
    "  # stop execution if array is not numeric\n",
    "  if not np.issubdtype(x.dtype, np.number): \n",
    "      print('Input not numeric. Received array of type:', x.dtype)\n",
    "      return\n",
    "\n",
    "  mu  = np.mean(x)\n",
    "  std = np.std(x)\n",
    "\n",
    "  x_new = (x - mu) / std\n",
    "\n",
    "  return x_new"
   ]
  },
  {
   "cell_type": "code",
   "execution_count": null,
   "metadata": {
    "id": "Kwm1pJQW57HN"
   },
   "outputs": [],
   "source": [
    "# test the new function with numeric input\n",
    "standardize(x)"
   ]
  },
  {
   "cell_type": "code",
   "execution_count": null,
   "metadata": {
    "id": "CO3cOtVo6I4M"
   },
   "outputs": [],
   "source": [
    "# test the new function with non-numeric input\n",
    "standardize(b)"
   ]
  },
  {
   "cell_type": "markdown",
   "metadata": {
    "id": "EWj7TQs7TErR"
   },
   "source": [
    "## Data structures \n",
    "Say you want to keep track of the members of the four houses of the famous Hogwarts School of Witchcraft and Wizardry. What might be a suitable data structure. We create a dictionary named **hogwarts** and use the names of the houses as keys. Then, the values associated with those keys could be any type that supports storing a set of strings, i.e., to store the names of the members. Draw on your knowledge of Python dictionaries and list to implement such a data structure. Populate the dictionary with the following data, and feel free to add more characters if you wish. \n",
    "\n",
    "- Gryffindor: I'm sure you know many members of that house \n",
    "- Hufflepuff: notable members include Newt Scamander, Cedric Diggory and Nymphadora Tonks\n",
    "- Ravenclaw: here we've got, e.g. Luna Lovegood, Gilderoy Lockhart and Filius Flitwick\n",
    "- Slytherin: Draco Malfoy, Vincent Crabbe, Gregory Goyle, and of course the one that must not be named"
   ]
  },
  {
   "cell_type": "code",
   "execution_count": null,
   "metadata": {
    "id": "iBxfYKyQTErR"
   },
   "outputs": [],
   "source": [
    "hogwarts = {'Gryffindor': ['Harry Potter', 'Ron Weasley', 'Hermione Granger'],\n",
    "            'Hufflepuff': ['Newt Scamander', 'Cedric Diggory', 'Nymphadora Tonks'],\n",
    "            'Ravenclaw':  ['Luna Lovegood', 'Gilderoy Lockhart', 'Filius Flitwick'],\n",
    "            'Slytherin':  ['Draco Malfoy', 'Vincent Crabbe', 'Gregory Goyle', 'Tom Riddle']\n",
    "            }\n",
    "hogwarts"
   ]
  },
  {
   "cell_type": "markdown",
   "metadata": {
    "id": "k1SQmnPuTErT"
   },
   "source": [
    "Dictionaries are really useful. Still our above data structure is limited. We can only store the name of a witch or wizard. Wouldn't it be cool to be able to store more information, something like her/his favored charm, best friend, pet, etc. \n",
    "\n",
    "Think about how we could realize this functionality. Well, we could create yet another dictionary in which we use a witch's/wizard's name as key and as value some some other data structure in which we can store all the details we like. To our knowledge, the names of witches / wizards are unique in the Harry Potter universe, so that names could serve as (unique) keys; nerd alert. Still a dictionary of dictionaries sounds pretty complicated. In fact, the task we described above is a perfect use case of custom classes. They allow us to store any piece of information about a person at one place.\n",
    "\n",
    "Create a custom class wizard that facilitates storing the following properties:\n",
    "- First name\n",
    "- Last name\n",
    "- Pet\n",
    "- Pet name\n",
    "- Patronus shape\n",
    "\n",
    "\n",
    "Also implement a method `tell_pet()`that prints an output of the following format:\n",
    "*\"Harry Potter's owl is called Hedwig.\"* \n",
    "\n",
    "Implement one more  method `expecto_patronum()`. Calling that method for Harry would produce the output (print):\n",
    "*\"A stag appears.\"*"
   ]
  },
  {
   "cell_type": "code",
   "execution_count": null,
   "metadata": {
    "id": "p7hAGjRBTErT"
   },
   "outputs": [],
   "source": [
    "class wizard():\n",
    "\n",
    "    '''Custom wizard class that stores relevant wizard information'''\n",
    "\n",
    "    def __init__(self,        \n",
    "                 first_name,             \n",
    "                 last_name,\n",
    "                 pet            = None,\n",
    "                 pet_name       = None,\n",
    "                 patronus_shape = None): # first and last name have to be specifed; pet and patronus data is set to None by default \n",
    "\n",
    "        # assign attributes\n",
    "        self.first_name     = first_name \n",
    "        self.last_name      = last_name \n",
    "        self.pet            = pet \n",
    "        self.pet_name       = pet_name \n",
    "        self.patronus_shape = patronus_shape \n",
    "\n",
    "        \n",
    "    def tell_pet(self): \n",
    "\n",
    "        '''Method for printing the pet information'''\n",
    "\n",
    "        # there are several ways to print the required statement\n",
    "        # one way is to use the so-called f strings; we will use .format() syntax\n",
    "        print('{} {}\\'s {} is called {}.'.format(self.first_name, self.last_name, self.pet, self.pet_name))\n",
    "        return None\n",
    "\n",
    "\n",
    "    def expecto_patronum(self): \n",
    "\n",
    "        '''Method for summoning a patronum'''\n",
    "\n",
    "        print('A {} appears.'.format(self.patronus_shape))\n",
    "        return None"
   ]
  },
  {
   "cell_type": "markdown",
   "metadata": {
    "id": "Dy-NTReUTErU"
   },
   "source": [
    "Update your dictionary with schools and their members. Instead of storing a list of names as values, your new dictionary should store a list of instances of the class wizard. Note that you need to create these instances first. So you need to create an instance of class wizard for Harry, another one for Ron, Malfoy, etc. In case your knowledge of the Potter universe is a bit shaky, simply invent the data you need. Just in case, [here is a ittle refresher of the expecto patronum spell](https://www.insider.com/harry-potter-characters-patronus-2018-11)."
   ]
  },
  {
   "cell_type": "code",
   "execution_count": null,
   "metadata": {
    "id": "ekiCLFuDTErU"
   },
   "outputs": [],
   "source": [
    "# creating class instances\n",
    "\n",
    "HarryPotter = wizard(first_name     = 'Harry',\n",
    "                     last_name      = 'Potter',\n",
    "                     pet            = 'owl',\n",
    "                     pet_name       = 'Hedwig',\n",
    "                     patronus_shape = 'stag')\n",
    "\n",
    "RonWeasly = wizard(first_name     = 'Ron',\n",
    "                   last_name      = 'Weasley',\n",
    "                   pet            = 'rat',\n",
    "                   pet_name       = 'Scabbers',\n",
    "                   patronus_shape = 'dog')\n",
    "\n",
    "HermioneGranger = wizard(first_name      = 'Hermione',\n",
    "                         last_name       = 'Granger',\n",
    "                         pet             = 'cat',\n",
    "                         pet_name        = 'Crookshanks',\n",
    "                         patronus_shape  = 'otter')"
   ]
  },
  {
   "cell_type": "code",
   "execution_count": null,
   "metadata": {
    "id": "q1wAjjXsAHNg"
   },
   "outputs": [],
   "source": [
    "# updating Gryffindor members in the dictionary\n",
    "# other houses can be created in the same fashion\n",
    "\n",
    "hogwarts['Gryffindor'] = [HarryPotter, RonWeasly, HermioneGranger]"
   ]
  },
  {
   "cell_type": "code",
   "execution_count": null,
   "metadata": {
    "id": "8hIZmM6h_XMI"
   },
   "outputs": [],
   "source": [
    "# check Harry's pet\n",
    "\n",
    "hogwarts['Gryffindor'][0].tell_pet()"
   ]
  },
  {
   "cell_type": "code",
   "execution_count": null,
   "metadata": {
    "id": "r1YEr72c_Ysi"
   },
   "outputs": [],
   "source": [
    "# check Harry's patronus\n",
    "\n",
    "hogwarts['Gryffindor'][0].expecto_patronum()"
   ]
  },
  {
   "cell_type": "markdown",
   "metadata": {
    "id": "Ie10c9dlTErW"
   },
   "source": [
    "## Well done!!! \n",
    "You will soon be a true Python wizard."
   ]
  },
  {
   "cell_type": "code",
   "execution_count": null,
   "metadata": {
    "id": "0lvzqID1zd32"
   },
   "outputs": [],
   "source": []
  }
 ],
 "metadata": {
  "colab": {
   "collapsed_sections": [],
   "provenance": []
  },
  "kernelspec": {
   "display_name": "Python 3 (ipykernel)",
   "language": "python",
   "name": "python3"
  },
  "language_info": {
   "codemirror_mode": {
    "name": "ipython",
    "version": 3
   },
   "file_extension": ".py",
   "mimetype": "text/x-python",
   "name": "python",
   "nbconvert_exporter": "python",
   "pygments_lexer": "ipython3",
   "version": "3.9.13"
  }
 },
 "nbformat": 4,
 "nbformat_minor": 4
}
