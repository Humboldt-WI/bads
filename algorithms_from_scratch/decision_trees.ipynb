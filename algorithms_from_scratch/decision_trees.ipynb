{
 "cells": [
  {
   "cell_type": "markdown",
   "metadata": {},
   "source": [
    "[![Open In Colab](https://colab.research.google.com/assets/colab-badge.svg)](https://colab.research.google.com/github/Humboldt-WI/bads/blob/master/algorithms_from_scratch/decision_trees.ipynb)"
   ]
  },
  {
   "cell_type": "markdown",
   "metadata": {
    "id": "L-VlKNTmVf3H"
   },
   "source": [
    "# Decision Trees\n",
    "\n",
    "Decision trees are useful and powerful algorithms for classifying and regressing data. They work by on recursive partitioning which will be shown algorithmically in this notebook. Though most of the the time, sklearn can be used to implement this machine learning method, it is useful to take a look at the inner workings of tree-based algorithms. The following parts will first introduce a decision tree from scratch."
   ]
  },
  {
   "cell_type": "markdown",
   "metadata": {},
   "source": [
    "## Load modules and data"
   ]
  },
  {
   "cell_type": "markdown",
   "metadata": {},
   "source": [
    "We will be using the HMEQ dataset from the [fifth demo notebook](https://github.com/Humboldt-WI/bads/blob/master/demo_notebooks/5_nb_supervised_learning.ipynb)."
   ]
  },
  {
   "cell_type": "code",
   "execution_count": 41,
   "metadata": {},
   "outputs": [],
   "source": [
    "import numpy as np\n",
    "import pandas as pd\n",
    "import matplotlib.pyplot as plt\n",
    "\n",
    "data_url = 'https://raw.githubusercontent.com/Humboldt-WI/bads/master/data/hmeq_modeling.csv' "
   ]
  },
  {
   "cell_type": "code",
   "execution_count": 42,
   "metadata": {
    "colab": {
     "base_uri": "https://localhost:8080/",
     "height": 250
    },
    "id": "I2zyH3v5fHK0",
    "outputId": "c08c64f0-4df5-4e58-ad9d-972c6d896d20"
   },
   "outputs": [
    {
     "data": {
      "text/html": [
       "<div>\n",
       "<style scoped>\n",
       "    .dataframe tbody tr th:only-of-type {\n",
       "        vertical-align: middle;\n",
       "    }\n",
       "\n",
       "    .dataframe tbody tr th {\n",
       "        vertical-align: top;\n",
       "    }\n",
       "\n",
       "    .dataframe thead th {\n",
       "        text-align: right;\n",
       "    }\n",
       "</style>\n",
       "<table border=\"1\" class=\"dataframe\">\n",
       "  <thead>\n",
       "    <tr style=\"text-align: right;\">\n",
       "      <th></th>\n",
       "      <th>BAD</th>\n",
       "      <th>LOAN</th>\n",
       "      <th>MORTDUE</th>\n",
       "      <th>VALUE</th>\n",
       "      <th>YOJ</th>\n",
       "      <th>CLAGE</th>\n",
       "      <th>NINQ</th>\n",
       "      <th>CLNO</th>\n",
       "      <th>DEBTINC</th>\n",
       "      <th>DEROGzero</th>\n",
       "      <th>REASON_HomeImp</th>\n",
       "      <th>REASON_IsMissing</th>\n",
       "      <th>JOB_Office</th>\n",
       "      <th>JOB_Other</th>\n",
       "      <th>JOB_ProfExe</th>\n",
       "      <th>JOB_Sales</th>\n",
       "      <th>JOB_Self</th>\n",
       "      <th>DELINQcat_1</th>\n",
       "      <th>DELINQcat_1+</th>\n",
       "    </tr>\n",
       "    <tr>\n",
       "      <th>index</th>\n",
       "      <th></th>\n",
       "      <th></th>\n",
       "      <th></th>\n",
       "      <th></th>\n",
       "      <th></th>\n",
       "      <th></th>\n",
       "      <th></th>\n",
       "      <th></th>\n",
       "      <th></th>\n",
       "      <th></th>\n",
       "      <th></th>\n",
       "      <th></th>\n",
       "      <th></th>\n",
       "      <th></th>\n",
       "      <th></th>\n",
       "      <th></th>\n",
       "      <th></th>\n",
       "      <th></th>\n",
       "      <th></th>\n",
       "    </tr>\n",
       "  </thead>\n",
       "  <tbody>\n",
       "    <tr>\n",
       "      <th>0</th>\n",
       "      <td>True</td>\n",
       "      <td>-1.832283</td>\n",
       "      <td>-1.295882</td>\n",
       "      <td>-1.335526</td>\n",
       "      <td>0.266788</td>\n",
       "      <td>-1.075278</td>\n",
       "      <td>-0.065054</td>\n",
       "      <td>-1.297476</td>\n",
       "      <td>0.137456</td>\n",
       "      <td>True</td>\n",
       "      <td>1</td>\n",
       "      <td>0</td>\n",
       "      <td>0</td>\n",
       "      <td>1</td>\n",
       "      <td>0</td>\n",
       "      <td>0</td>\n",
       "      <td>0</td>\n",
       "      <td>0</td>\n",
       "      <td>0</td>\n",
       "    </tr>\n",
       "    <tr>\n",
       "      <th>1</th>\n",
       "      <td>True</td>\n",
       "      <td>-1.810666</td>\n",
       "      <td>-0.013474</td>\n",
       "      <td>-0.672699</td>\n",
       "      <td>-0.236615</td>\n",
       "      <td>-0.723092</td>\n",
       "      <td>-0.826792</td>\n",
       "      <td>-0.756608</td>\n",
       "      <td>0.137456</td>\n",
       "      <td>True</td>\n",
       "      <td>1</td>\n",
       "      <td>0</td>\n",
       "      <td>0</td>\n",
       "      <td>1</td>\n",
       "      <td>0</td>\n",
       "      <td>0</td>\n",
       "      <td>0</td>\n",
       "      <td>0</td>\n",
       "      <td>1</td>\n",
       "    </tr>\n",
       "    <tr>\n",
       "      <th>2</th>\n",
       "      <td>True</td>\n",
       "      <td>-1.789048</td>\n",
       "      <td>-1.654549</td>\n",
       "      <td>-1.839275</td>\n",
       "      <td>-0.668103</td>\n",
       "      <td>-0.368769</td>\n",
       "      <td>-0.065054</td>\n",
       "      <td>-1.189302</td>\n",
       "      <td>0.137456</td>\n",
       "      <td>True</td>\n",
       "      <td>1</td>\n",
       "      <td>0</td>\n",
       "      <td>0</td>\n",
       "      <td>1</td>\n",
       "      <td>0</td>\n",
       "      <td>0</td>\n",
       "      <td>0</td>\n",
       "      <td>0</td>\n",
       "      <td>0</td>\n",
       "    </tr>\n",
       "    <tr>\n",
       "      <th>3</th>\n",
       "      <td>True</td>\n",
       "      <td>-1.789048</td>\n",
       "      <td>-0.159552</td>\n",
       "      <td>-0.202559</td>\n",
       "      <td>-0.236615</td>\n",
       "      <td>-0.061033</td>\n",
       "      <td>-0.065054</td>\n",
       "      <td>-0.107566</td>\n",
       "      <td>0.137456</td>\n",
       "      <td>True</td>\n",
       "      <td>0</td>\n",
       "      <td>1</td>\n",
       "      <td>0</td>\n",
       "      <td>1</td>\n",
       "      <td>0</td>\n",
       "      <td>0</td>\n",
       "      <td>0</td>\n",
       "      <td>0</td>\n",
       "      <td>0</td>\n",
       "    </tr>\n",
       "    <tr>\n",
       "      <th>4</th>\n",
       "      <td>False</td>\n",
       "      <td>-1.767431</td>\n",
       "      <td>0.791699</td>\n",
       "      <td>0.311107</td>\n",
       "      <td>-0.811933</td>\n",
       "      <td>-1.088528</td>\n",
       "      <td>-0.826792</td>\n",
       "      <td>-0.756608</td>\n",
       "      <td>0.137456</td>\n",
       "      <td>True</td>\n",
       "      <td>1</td>\n",
       "      <td>0</td>\n",
       "      <td>1</td>\n",
       "      <td>0</td>\n",
       "      <td>0</td>\n",
       "      <td>0</td>\n",
       "      <td>0</td>\n",
       "      <td>0</td>\n",
       "      <td>0</td>\n",
       "    </tr>\n",
       "  </tbody>\n",
       "</table>\n",
       "</div>"
      ],
      "text/plain": [
       "         BAD      LOAN   MORTDUE     VALUE       YOJ     CLAGE      NINQ  \\\n",
       "index                                                                      \n",
       "0       True -1.832283 -1.295882 -1.335526  0.266788 -1.075278 -0.065054   \n",
       "1       True -1.810666 -0.013474 -0.672699 -0.236615 -0.723092 -0.826792   \n",
       "2       True -1.789048 -1.654549 -1.839275 -0.668103 -0.368769 -0.065054   \n",
       "3       True -1.789048 -0.159552 -0.202559 -0.236615 -0.061033 -0.065054   \n",
       "4      False -1.767431  0.791699  0.311107 -0.811933 -1.088528 -0.826792   \n",
       "\n",
       "           CLNO   DEBTINC  DEROGzero  REASON_HomeImp  REASON_IsMissing  \\\n",
       "index                                                                    \n",
       "0     -1.297476  0.137456       True               1                 0   \n",
       "1     -0.756608  0.137456       True               1                 0   \n",
       "2     -1.189302  0.137456       True               1                 0   \n",
       "3     -0.107566  0.137456       True               0                 1   \n",
       "4     -0.756608  0.137456       True               1                 0   \n",
       "\n",
       "       JOB_Office  JOB_Other  JOB_ProfExe  JOB_Sales  JOB_Self  DELINQcat_1  \\\n",
       "index                                                                         \n",
       "0               0          1            0          0         0            0   \n",
       "1               0          1            0          0         0            0   \n",
       "2               0          1            0          0         0            0   \n",
       "3               0          1            0          0         0            0   \n",
       "4               1          0            0          0         0            0   \n",
       "\n",
       "       DELINQcat_1+  \n",
       "index                \n",
       "0                 0  \n",
       "1                 1  \n",
       "2                 0  \n",
       "3                 0  \n",
       "4                 0  "
      ]
     },
     "execution_count": 42,
     "metadata": {},
     "output_type": "execute_result"
    }
   ],
   "source": [
    "df = pd.read_csv(data_url, header = 0, index_col = 0) # import file with header and index as first row and column respectively\n",
    "\n",
    "df.head() #inspect data to make sure it looks correct"
   ]
  },
  {
   "cell_type": "markdown",
   "metadata": {
    "id": "YjOnBPEXfHK0"
   },
   "source": [
    "## Decision tree from scratch\n",
    "\n",
    "The following code is based on the material originally created by Sebastian Mantey for the Iris Dataset whose GitHub is here: https://github.com/SebastianMantey/Decision-Tree-from-Scratch. You can also search his video on YouTube. The code has been adapted to this course's format and fit to HMEQ Dataset.\n",
    "\n",
    "Just in case you made changes to the data by running the above code, we first reload the data to a fixed and clear-defined starting point for our tree classifier. Recall that we defined the variable `data_url` above."
   ]
  },
  {
   "cell_type": "code",
   "execution_count": 43,
   "metadata": {
    "id": "xQwXkg0SfHK1"
   },
   "outputs": [],
   "source": [
    "X = df.drop(['BAD'], axis=1) #code the variables in the most standard way for your usage\n",
    "y = df[['BAD']]"
   ]
  },
  {
   "cell_type": "code",
   "execution_count": 44,
   "metadata": {
    "colab": {
     "base_uri": "https://localhost:8080/"
    },
    "id": "y7tOKwVtfHK1",
    "outputId": "e89628b3-5c80-4082-f207-5f522b9988ac"
   },
   "outputs": [
    {
     "name": "stdout",
     "output_type": "stream",
     "text": [
      "<class 'pandas.core.frame.DataFrame'> <class 'pandas.core.frame.DataFrame'> (5960, 18) (5960, 1)\n"
     ]
    }
   ],
   "source": [
    "print(type(X), type(y), X.shape, y.shape) # double check that types and dimensions are correct before proceeding"
   ]
  },
  {
   "cell_type": "markdown",
   "metadata": {
    "id": "1p-_lFYzfHK1"
   },
   "source": [
    "### Helper Functions for the Tree\n",
    "\n",
    "Decision trees work by recursively partitioning data. Many potential ways to split the data are calculated (eg. we are going to go through all unique values of each column and finding the midpoint between sequential values). For each potential split, we evaluate whether the target variable has more homogeneity in each leaf. This is done by calculating the 'impurity' of the parent node and comparing it with the sum of the impurity of the child nodes. There are three major impurity functions: entropy, gini and misclassification. We will be using entropy in our example. The split which yields the lowest impurity is chosen and the process is repeated for the new nodes (i.e.,recursion). \n",
    "\n",
    "The method of choosing the split that yields the lowest impurity is called the greedy search method. The following functions will help the decision tree implement greedy search tactics on the data. The algorithm stops either when purity in each node is reached or when it has reached a maximum depth (max amount of recursions we allow) specified in our function.\n",
    "\n",
    "Many functions for the tree are not found in Python packages and it is cleaner to write them out first then put them together in our main algorithm. Each function below does a specific action, which will be used in our final tree function at the end."
   ]
  },
  {
   "cell_type": "code",
   "execution_count": 45,
   "metadata": {
    "id": "LhGSx_3efHK1"
   },
   "outputs": [],
   "source": [
    "def check_purity(y):\n",
    "    \n",
    "    'checks if a leaf node is perfectly pure, in other words, if the leaf node contains only one class'\n",
    "    \n",
    "    unique_classes = np.unique(y) #count number of classes in section of data\n",
    "\n",
    "    if len(unique_classes) == 1: #check if the node is pure\n",
    "        return True\n",
    "    else:\n",
    "        return False"
   ]
  },
  {
   "cell_type": "code",
   "execution_count": 46,
   "metadata": {
    "id": "Lg6zDh56fHK1"
   },
   "outputs": [],
   "source": [
    "def classify_data(y):\n",
    "    \n",
    "    'classifies data according to the majority class of each leaf'\n",
    "    \n",
    "    unique_classes, counts_unique_classes = np.unique(y, return_counts=True)\n",
    "    #returns classes and no. of obs per class\n",
    "\n",
    "    index = counts_unique_classes.argmax() #index of class with most obs\n",
    "    classification = unique_classes[index] #class chosen for classification which is class with most obs\n",
    "    \n",
    "    prob = len(y[y == 1]) / len(y) #returns proportion of class 1 in the leaf (prob of class 1)\n",
    "\n",
    "    return [classification, prob]"
   ]
  },
  {
   "cell_type": "code",
   "execution_count": 47,
   "metadata": {
    "id": "zNHzxN06fHK1"
   },
   "outputs": [],
   "source": [
    "def get_potential_splits(X):\n",
    "    \n",
    "    'first, takes every unique value of every feature in the feature space, then finds the midpoint between each value'\n",
    "    \n",
    "    potential_splits = {}\n",
    "    _, n_columns = X.shape #don't need rows, we choose the column to split on\n",
    "    # only need second value of .shape which is columns\n",
    "    \n",
    "    for column_index in range(n_columns):\n",
    "        potential_splits[column_index] = [] \n",
    "        values = X[:, column_index] \n",
    "        unique_values = np.unique(values) #get all unique values in each column\n",
    "\n",
    "        for index in range(len(unique_values)): #all unique feature values\n",
    "            if index != 0: #skip first value, we need the difference between next values\n",
    "                current_value = unique_values[index]\n",
    "                previous_value = unique_values[index - 1] #find a value and the next smallest value\n",
    "                potential_split = (current_value + previous_value) / 2 #find difference between the two as a potential split\n",
    "                \n",
    "                #consider all values which lie between two values as a potential split\n",
    "                \n",
    "                potential_splits[column_index].append(potential_split)\n",
    "    \n",
    "    return potential_splits"
   ]
  },
  {
   "cell_type": "code",
   "execution_count": 48,
   "metadata": {
    "id": "sgtBqNb0fHK1"
   },
   "outputs": [],
   "source": [
    "def split_data(X, y, split_column, split_value):\n",
    "    \n",
    "    'splits data based on specific value, will yield both a split for the features X and target y'\n",
    "    \n",
    "    split_column_values = X[:, split_column]\n",
    "\n",
    "    X_below = X[split_column_values <= split_value] #partitions data according to split values from previous functions\n",
    "    X_above = X[split_column_values >  split_value]\n",
    "    \n",
    "    y_below = y[split_column_values <= split_value]\n",
    "    y_above = y[split_column_values >  split_value]\n",
    "    \n",
    "    return X_below, X_above, y_below, y_above"
   ]
  },
  {
   "cell_type": "code",
   "execution_count": 49,
   "metadata": {
    "id": "CpXCl5jffHK1"
   },
   "outputs": [],
   "source": [
    "def calculate_entropy(y):\n",
    "    \n",
    "    'calculates entropy for each partition of data'\n",
    "    \n",
    "    _, counts = np.unique(y, return_counts=True) #we only need the counts of each class, _ is a placeholder\n",
    "\n",
    "    probabilities = counts / counts.sum() #probability of each class\n",
    "    entropy = sum(probabilities * -np.log2(probabilities)) #could replace with Gini impurity or misclassification\n",
    "     \n",
    "    return entropy"
   ]
  },
  {
   "cell_type": "code",
   "execution_count": 50,
   "metadata": {
    "id": "oQAF-VaAfHK1"
   },
   "outputs": [],
   "source": [
    "def calculate_overall_entropy(y_below, y_above): \n",
    "    \n",
    "    'calculates the total entropy after each split'\n",
    "       \n",
    "    n = len(y_below) + len(y_above)\n",
    "    p_data_below = len(y_below) / n\n",
    "    p_data_above = len(y_above) / n\n",
    "\n",
    "    overall_entropy =  (p_data_below * calculate_entropy(y_below)\n",
    "                      + p_data_above * calculate_entropy(y_above))\n",
    "    \n",
    "    return overall_entropy"
   ]
  },
  {
   "cell_type": "code",
   "execution_count": 51,
   "metadata": {
    "id": "NLItkeXGfHK2"
   },
   "outputs": [],
   "source": [
    "def determine_best_split(X, y, potential_splits):\n",
    "    \n",
    "    'selects which split lowered entropy the most'\n",
    "    \n",
    "    overall_entropy = 9999 #set arbitrarily high, the function will loop over and replace this with lower impurity values\n",
    "    for column_index in potential_splits:\n",
    "        for value in potential_splits[column_index]:\n",
    "            X_below, X_above, y_below, y_above = split_data(X, y, split_column=column_index, split_value=value)\n",
    "            current_overall_entropy = calculate_overall_entropy(y_below, y_above)\n",
    "            \n",
    "            #goes through each potential split and only updates if it lowers entropy\n",
    "\n",
    "            if current_overall_entropy <= overall_entropy: \n",
    "                overall_entropy = current_overall_entropy #updates only if lower entropy split found, in the ned this is greedy search\n",
    "                best_split_column = column_index\n",
    "                best_split_value = value\n",
    "    \n",
    "    return best_split_column, best_split_value"
   ]
  },
  {
   "cell_type": "markdown",
   "metadata": {
    "id": "j_QbUdkdfHK2"
   },
   "source": [
    "### The Main Algorithm\n",
    "\n",
    "The tree will now implement the helper functions and display the decision which yielded the best split if printed. Since the growing the tree can take a little bit of time, the argument `verbose` also exists which gives you status updates on the algorithm's progress. This is common for quite a few functions in the programming world."
   ]
  },
  {
   "cell_type": "code",
   "execution_count": 52,
   "metadata": {
    "id": "buDByirD5kbJ"
   },
   "outputs": [],
   "source": [
    "def decision_tree_algorithm(X, y, counter=0, min_samples=2, max_depth=5, verbose=False): \n",
    "    \n",
    "    # data preparation\n",
    "    if counter == 0:  # counter tells us how deep the tree is, this is before the tree is initiated\n",
    "        global COLUMN_HEADERS\n",
    "        COLUMN_HEADERS = X.columns\n",
    "        X = X.values  # change all to NumPy array for faster calculations\n",
    "        y = y.values\n",
    "        if verbose:\n",
    "          print(\"Data preparation complete, tree initiated\")\n",
    "          print(\"Creating first branch until first leaf, branches will then be calculated sequentially\")\n",
    "    else:\n",
    "        data = X  # if we have started the tree, X should already be a NumPy array from the code above \n",
    "    # base cases\n",
    "    if (check_purity(y)) or (len(X) < min_samples) or (counter == max_depth):\n",
    "        if verbose:\n",
    "          if (check_purity(y)):\n",
    "              print(\"Classes pure, new leaf node created\")\n",
    "          elif (len(X) < min_samples):\n",
    "              print(\"Min samples reached, new leaf node created\")\n",
    "          else:\n",
    "              print(\"Max depth reached, new leaf node created\")\n",
    "        classification, prob = classify_data(y)\n",
    "        return classification, prob\n",
    "    \n",
    "    # recursive part\n",
    "    else:    \n",
    "\n",
    "        # helper functions \n",
    "        if verbose:\n",
    "            print(\"Calculating splits at depth of\", counter)\n",
    "        potential_splits = get_potential_splits(X)  # check for all possible splits\n",
    "\n",
    "        if bool([feature_splits for feature_splits in potential_splits.values() if feature_splits != []]): # Checks that potential_splits is not just a blank dictionary (occurs when random feature subspace has no variation in observations)        \n",
    "            best_split_column, best_split_value = determine_best_split(X, y, potential_splits)  # select best split based on entropy\n",
    "            X_below, X_above, y_below, y_above = split_data(X, y, best_split_column, best_split_value)  # execute best split\n",
    "         \n",
    "            # Code to explain decisions made by tree to users\n",
    "            feature_name = COLUMN_HEADERS[best_split_column]\n",
    "            question = \"{} <= {}\".format(feature_name, best_split_value)  # initiate explanation of split\n",
    "            sub_tree = {question: []}\n",
    "        \n",
    "            # Pull answers from tree\n",
    "            if verbose:\n",
    "                print(\"Processing first split at depth\", counter)\n",
    "            yes_answer = decision_tree_algorithm(X_below, y_below, counter + 1, min_samples, max_depth, verbose)\n",
    "            if verbose:\n",
    "                print(\"Processing second split at depth\", counter)\n",
    "            no_answer = decision_tree_algorithm(X_above, y_above, counter + 1, min_samples, max_depth, verbose)\n",
    "        \n",
    "            # Ensure explanation actually shows useful information\n",
    "            if yes_answer == no_answer:  # if decisions are the same, only display one\n",
    "                sub_tree = yes_answer\n",
    "            else:\n",
    "                sub_tree[question].append(yes_answer)\n",
    "                sub_tree[question].append(no_answer)\n",
    "\n",
    "            if verbose:\n",
    "             if (counter == 0):\n",
    "                print(\"Tree Complete\")\n",
    "\n",
    "        else: # if potential_splits is empty due to lack of feature variation, just classify the data at this point\n",
    "            classification = classify_data(y)\n",
    "            return classification\n",
    "        \n",
    "        return sub_tree"
   ]
  },
  {
   "cell_type": "markdown",
   "metadata": {
    "id": "Yt9v0ldZfHK2"
   },
   "source": [
    "### Grow First Tree\n",
    "\n",
    "Test the tree and display the decisions with a shallow depth."
   ]
  },
  {
   "cell_type": "code",
   "execution_count": 53,
   "metadata": {
    "colab": {
     "base_uri": "https://localhost:8080/"
    },
    "id": "CxqcpI_3fHK2",
    "outputId": "d5d0ab02-6db3-47a1-ed13-8352297f816f"
   },
   "outputs": [
    {
     "name": "stdout",
     "output_type": "stream",
     "text": [
      "Data preparation complete, tree initiated\n",
      "Creating first branch until first leaf, branches will then be calculated sequentially\n",
      "Calculating splits at depth of 0\n",
      "Processing first split at depth 0\n",
      "Calculating splits at depth of 1\n",
      "Processing first split at depth 1\n",
      "Max depth reached, new leaf node created\n",
      "Processing second split at depth 1\n",
      "Max depth reached, new leaf node created\n",
      "Processing second split at depth 0\n",
      "Calculating splits at depth of 1\n",
      "Processing first split at depth 1\n",
      "Max depth reached, new leaf node created\n",
      "Processing second split at depth 1\n",
      "Max depth reached, new leaf node created\n",
      "Tree Complete\n"
     ]
    }
   ],
   "source": [
    "tree = decision_tree_algorithm(X, y, max_depth=2, verbose=True)"
   ]
  },
  {
   "cell_type": "markdown",
   "metadata": {
    "id": "pz8boTvjfHK2"
   },
   "source": [
    "#### Structure of the First Tree"
   ]
  },
  {
   "cell_type": "code",
   "execution_count": 54,
   "metadata": {
    "colab": {
     "base_uri": "https://localhost:8080/"
    },
    "id": "u-eOLiADfHK2",
    "outputId": "c53f3077-2d1f-4619-d959-e02f2418a248",
    "scrolled": true
   },
   "outputs": [
    {
     "name": "stdout",
     "output_type": "stream",
     "text": [
      "{'DEBTINC <= 0.132537517644646': [{'DELINQcat_1+ <= 0.5': [(False,\n",
      "                                                            0.04424379232505643),\n",
      "                                                           (False,\n",
      "                                                            0.2777777777777778)]},\n",
      "                                  {'DEBTINC <= 0.137471043429223': [(True,\n",
      "                                                                     0.6182246661429693),\n",
      "                                                                    (False,\n",
      "                                                                     0.11466325660699062)]}]}\n"
     ]
    }
   ],
   "source": [
    "from pprint import pprint  # library for prettier print output\n",
    "\n",
    "pprint(tree)"
   ]
  },
  {
   "cell_type": "code",
   "execution_count": 55,
   "metadata": {
    "colab": {
     "base_uri": "https://localhost:8080/"
    },
    "id": "AK0KBq9XfHK2",
    "outputId": "3cdd0054-6492-4cdf-a44e-8a0394e2aeea"
   },
   "outputs": [
    {
     "data": {
      "text/plain": [
       "dict_values([[{'DELINQcat_1+ <= 0.5': [(False, 0.04424379232505643), (False, 0.2777777777777778)]}, {'DEBTINC <= 0.137471043429223': [(True, 0.6182246661429693), (False, 0.11466325660699062)]}]])"
      ]
     },
     "execution_count": 55,
     "metadata": {},
     "output_type": "execute_result"
    }
   ],
   "source": [
    "tree.values()"
   ]
  },
  {
   "cell_type": "markdown",
   "metadata": {
    "id": "PkaCufj0fHK2"
   },
   "source": [
    "The first node in the tree asks the question:\n",
    "\n",
    "DEBTINC <= 0.13253751764464605\n",
    "\n",
    "If this is true, the tree will predict BAD as false.\n",
    "\n",
    "If this is false, the tree will ask a second question:\n",
    "\n",
    "DEBTINC <= 0.137471043429223\n",
    "\n",
    "If true, the tree will predict BAD is true. If false, the tree will predict BAD is false."
   ]
  },
  {
   "cell_type": "markdown",
   "metadata": {
    "id": "MC_T56DrfHK2"
   },
   "source": [
    "#### Classification Example from First Tree\n",
    "\n",
    "Let's take an example and see how the tree classifies it."
   ]
  },
  {
   "cell_type": "code",
   "execution_count": 56,
   "metadata": {
    "colab": {
     "base_uri": "https://localhost:8080/"
    },
    "id": "6bVttPZlfHK2",
    "outputId": "a21d8b5e-3a3d-42c1-ada8-845188446c48"
   },
   "outputs": [
    {
     "data": {
      "text/plain": [
       "BAD                     True\n",
       "LOAN               -1.789048\n",
       "MORTDUE            -1.654549\n",
       "VALUE              -1.839275\n",
       "YOJ                -0.668103\n",
       "CLAGE              -0.368769\n",
       "NINQ               -0.065054\n",
       "CLNO               -1.189302\n",
       "DEBTINC             0.137456\n",
       "DEROGzero               True\n",
       "REASON_HomeImp             1\n",
       "REASON_IsMissing           0\n",
       "JOB_Office                 0\n",
       "JOB_Other                  1\n",
       "JOB_ProfExe                0\n",
       "JOB_Sales                  0\n",
       "JOB_Self                   0\n",
       "DELINQcat_1                0\n",
       "DELINQcat_1+               0\n",
       "Name: 2, dtype: object"
      ]
     },
     "execution_count": 56,
     "metadata": {},
     "output_type": "execute_result"
    }
   ],
   "source": [
    "example = df.iloc[2] #take a random observation\n",
    "example"
   ]
  },
  {
   "cell_type": "markdown",
   "metadata": {
    "id": "NNHQD5T9ZvUP"
   },
   "source": [
    "To put this example down our tree, we implement a function `classify_example()`. Eventually, we would like our tree to facilitate prediction in a similar way as `sklearn` models. Therefore, we also implement two *wrapper* functions `predict()` and `predict_proba()`; as we did before for our custom logit model. These functions kind of 'wrap up' the function `classify_example()` - hence the name wrapper function - and call it for every instance in a data set."
   ]
  },
  {
   "cell_type": "code",
   "execution_count": 57,
   "metadata": {
    "id": "Pj2LL01HfHK2"
   },
   "outputs": [],
   "source": [
    "def classify_example(example, tree):\n",
    "    question = list(tree.keys())[0] #checks what is the next data split\n",
    "    feature_name, comparison_operator, value = question.split() #splits question into elements\n",
    "\n",
    "    # ask question\n",
    "    if example[feature_name] <= float(value): # checks key element for split\n",
    "        answer = tree[question][0] # selects yes answer\n",
    "    else:\n",
    "        answer = tree[question][1] # selects no answer\n",
    "\n",
    "    # base case\n",
    "    if not isinstance(answer, dict): # if answer is not a dictionary, we have reached a decision\n",
    "        return answer # display prediction\n",
    "    \n",
    "    # recursive part\n",
    "    else:\n",
    "        residual_tree = answer # continue if another dictionary is reached\n",
    "        return classify_example(example, residual_tree)\n",
    "\n",
    "# function for predicting class of observation\n",
    "def predict(tree, data):\n",
    "  pred = data.apply(classify_example, axis=1, args=(tree,))\n",
    "  return [int(row[0]) for row in pred]\n",
    "\n",
    "# function for predicting probability of observation being class 1 \n",
    "def predict_prob(tree, data):\n",
    "  pred = data.apply(classify_example, axis=1, args=(tree,))\n",
    "  return [row[1] for row in pred]"
   ]
  },
  {
   "cell_type": "markdown",
   "metadata": {
    "id": "CkbFQpN4ZvUP"
   },
   "source": [
    "Ok, finally, here is the classification result for the above instance:"
   ]
  },
  {
   "cell_type": "code",
   "execution_count": 58,
   "metadata": {
    "colab": {
     "base_uri": "https://localhost:8080/"
    },
    "id": "yKAAKTB6fHK2",
    "outputId": "474fa74f-2e7b-4ade-c697-9374cae65d9a"
   },
   "outputs": [
    {
     "data": {
      "text/plain": [
       "(True, 0.6182246661429693)"
      ]
     },
     "execution_count": 58,
     "metadata": {},
     "output_type": "execute_result"
    }
   ],
   "source": [
    "classify_example(example, tree)"
   ]
  },
  {
   "cell_type": "code",
   "execution_count": 59,
   "metadata": {
    "colab": {
     "base_uri": "https://localhost:8080/"
    },
    "id": "oZlyn-UbfHK2",
    "outputId": "0b1bbcd0-9852-48f3-cb4d-3d9dd7cefea1"
   },
   "outputs": [
    {
     "data": {
      "text/plain": [
       "BAD    True\n",
       "Name: 2, dtype: bool"
      ]
     },
     "execution_count": 59,
     "metadata": {},
     "output_type": "execute_result"
    }
   ],
   "source": [
    "y.iloc[2]"
   ]
  },
  {
   "cell_type": "markdown",
   "metadata": {
    "id": "qs0EdAtUfHK2"
   },
   "source": [
    "The classification for this one instance is correct. It will be more interesting though to examine how well the tree classifiers a set of - or all - instances in our data. This is where our `predict()` functions come into play. "
   ]
  },
  {
   "cell_type": "markdown",
   "metadata": {
    "id": "M2LhiN3jZvUP"
   },
   "source": [
    "#### Predictions and Accuracy from First Tree"
   ]
  },
  {
   "cell_type": "code",
   "execution_count": 60,
   "metadata": {
    "colab": {
     "base_uri": "https://localhost:8080/"
    },
    "id": "lwkFg2YzfHK2",
    "outputId": "1b0bd135-136c-42e8-b3dc-f41cf81ef1ef"
   },
   "outputs": [
    {
     "data": {
      "text/plain": [
       "[1, 1, 1, 1, 1]"
      ]
     },
     "execution_count": 60,
     "metadata": {},
     "output_type": "execute_result"
    }
   ],
   "source": [
    "predictions = predict(tree, X)  # obtain discrete class predictions (i.e., majority class in the respective leaf nodes)\n",
    "\n",
    "predictions[:5]"
   ]
  },
  {
   "cell_type": "code",
   "execution_count": 61,
   "metadata": {
    "colab": {
     "base_uri": "https://localhost:8080/"
    },
    "id": "-29Sz93zYu_R",
    "outputId": "1486d7c8-2db9-41e6-bd5a-b78ab068ba6d"
   },
   "outputs": [
    {
     "data": {
      "text/plain": [
       "[0.6182246661429693,\n",
       " 0.6182246661429693,\n",
       " 0.6182246661429693,\n",
       " 0.6182246661429693,\n",
       " 0.6182246661429693]"
      ]
     },
     "execution_count": 61,
     "metadata": {},
     "output_type": "execute_result"
    }
   ],
   "source": [
    "predictions_prob = predict_prob(tree, X) #probability of being class 1\n",
    "\n",
    "predictions_prob[:5]"
   ]
  },
  {
   "cell_type": "code",
   "execution_count": 62,
   "metadata": {
    "colab": {
     "base_uri": "https://localhost:8080/"
    },
    "id": "ITH87JpTfHK2",
    "outputId": "21f05c3c-a709-4384-95de-c3d975ab6817"
   },
   "outputs": [
    {
     "data": {
      "text/plain": [
       "0.851006711409396"
      ]
     },
     "execution_count": 62,
     "metadata": {},
     "output_type": "execute_result"
    }
   ],
   "source": [
    "error = np.mean(np.vstack(predictions) == np.array(y))\n",
    "\n",
    "error"
   ]
  },
  {
   "cell_type": "markdown",
   "metadata": {
    "id": "sLnc0niWfHK2"
   },
   "source": [
    "The tree is able to classify a good proportion of the test set well even with only a depth of 2."
   ]
  },
  {
   "cell_type": "markdown",
   "metadata": {
    "id": "Q9BColNWfHK2"
   },
   "source": [
    "### Higher Depth in Tree\n",
    "\n",
    "Test the tree and display the decisions with a higher depth to see if accuracy changed. Be warned, the computations might take a few minutes to complete. After growing the tree, we will proceed as before with calculating predictions and examining their accuracy."
   ]
  },
  {
   "cell_type": "code",
   "execution_count": 63,
   "metadata": {
    "colab": {
     "base_uri": "https://localhost:8080/"
    },
    "id": "DGO-xjnyfHK2",
    "outputId": "d1b3e790-180c-4e4b-ff8b-41512e537162"
   },
   "outputs": [
    {
     "name": "stdout",
     "output_type": "stream",
     "text": [
      "Data preparation complete, tree initiated\n",
      "Creating first branch until first leaf, branches will then be calculated sequentially\n",
      "Calculating splits at depth of 0\n",
      "Processing first split at depth 0\n",
      "Calculating splits at depth of 1\n",
      "Processing first split at depth 1\n",
      "Calculating splits at depth of 2\n",
      "Processing first split at depth 2\n",
      "Calculating splits at depth of 3\n",
      "Processing first split at depth 3\n",
      "Calculating splits at depth of 4\n",
      "Processing first split at depth 4\n",
      "Max depth reached, new leaf node created\n",
      "Processing second split at depth 4\n",
      "Max depth reached, new leaf node created\n",
      "Processing second split at depth 3\n",
      "Calculating splits at depth of 4\n",
      "Processing first split at depth 4\n",
      "Classes pure, new leaf node created\n",
      "Processing second split at depth 4\n",
      "Max depth reached, new leaf node created\n",
      "Processing second split at depth 2\n",
      "Calculating splits at depth of 3\n",
      "Processing first split at depth 3\n",
      "Calculating splits at depth of 4\n",
      "Processing first split at depth 4\n",
      "Classes pure, new leaf node created\n",
      "Processing second split at depth 4\n",
      "Classes pure, new leaf node created\n",
      "Processing second split at depth 3\n",
      "Calculating splits at depth of 4\n",
      "Processing first split at depth 4\n",
      "Max depth reached, new leaf node created\n",
      "Processing second split at depth 4\n",
      "Classes pure, new leaf node created\n",
      "Processing second split at depth 1\n",
      "Calculating splits at depth of 2\n",
      "Processing first split at depth 2\n",
      "Classes pure, new leaf node created\n",
      "Processing second split at depth 2\n",
      "Calculating splits at depth of 3\n",
      "Processing first split at depth 3\n",
      "Calculating splits at depth of 4\n",
      "Processing first split at depth 4\n",
      "Max depth reached, new leaf node created\n",
      "Processing second split at depth 4\n",
      "Max depth reached, new leaf node created\n",
      "Processing second split at depth 3\n",
      "Calculating splits at depth of 4\n",
      "Processing first split at depth 4\n",
      "Max depth reached, new leaf node created\n",
      "Processing second split at depth 4\n",
      "Classes pure, new leaf node created\n",
      "Processing second split at depth 0\n",
      "Calculating splits at depth of 1\n",
      "Processing first split at depth 1\n",
      "Calculating splits at depth of 2\n",
      "Processing first split at depth 2\n",
      "Calculating splits at depth of 3\n",
      "Processing first split at depth 3\n",
      "Calculating splits at depth of 4\n",
      "Processing first split at depth 4\n",
      "Max depth reached, new leaf node created\n",
      "Processing second split at depth 4\n",
      "Max depth reached, new leaf node created\n",
      "Processing second split at depth 3\n",
      "Calculating splits at depth of 4\n",
      "Processing first split at depth 4\n",
      "Max depth reached, new leaf node created\n",
      "Processing second split at depth 4\n",
      "Max depth reached, new leaf node created\n",
      "Processing second split at depth 2\n",
      "Calculating splits at depth of 3\n",
      "Processing first split at depth 3\n",
      "Calculating splits at depth of 4\n",
      "Processing first split at depth 4\n",
      "Max depth reached, new leaf node created\n",
      "Processing second split at depth 4\n",
      "Classes pure, new leaf node created\n",
      "Processing second split at depth 3\n",
      "Classes pure, new leaf node created\n",
      "Processing second split at depth 1\n",
      "Calculating splits at depth of 2\n",
      "Processing first split at depth 2\n",
      "Calculating splits at depth of 3\n",
      "Processing first split at depth 3\n",
      "Calculating splits at depth of 4\n",
      "Processing first split at depth 4\n",
      "Max depth reached, new leaf node created\n",
      "Processing second split at depth 4\n",
      "Max depth reached, new leaf node created\n",
      "Processing second split at depth 3\n",
      "Calculating splits at depth of 4\n",
      "Processing first split at depth 4\n",
      "Max depth reached, new leaf node created\n",
      "Processing second split at depth 4\n",
      "Max depth reached, new leaf node created\n",
      "Processing second split at depth 2\n",
      "Calculating splits at depth of 3\n",
      "Processing first split at depth 3\n",
      "Calculating splits at depth of 4\n",
      "Processing first split at depth 4\n",
      "Classes pure, new leaf node created\n",
      "Processing second split at depth 4\n",
      "Classes pure, new leaf node created\n",
      "Processing second split at depth 3\n",
      "Classes pure, new leaf node created\n",
      "Tree Complete\n"
     ]
    }
   ],
   "source": [
    "tree_deep = decision_tree_algorithm(X, y, max_depth=5, verbose=True)"
   ]
  },
  {
   "cell_type": "code",
   "execution_count": 64,
   "metadata": {
    "colab": {
     "base_uri": "https://localhost:8080/"
    },
    "id": "BolXOVjR-huJ",
    "outputId": "45ee3d13-9ed5-493e-f391-c76563587a25"
   },
   "outputs": [
    {
     "name": "stdout",
     "output_type": "stream",
     "text": [
      "{'DEBTINC <= 0.132537517644646': [{'DELINQcat_1+ <= 0.5': [{'YOJ <= -0.45235911313134': [{'MORTDUE <= -0.9625627627614091': [{'LOAN <= -0.5406409454191005': [(False,\n",
      "                                                                                                                                                               0.46875),\n",
      "                                                                                                                                                              (False,\n",
      "                                                                                                                                                               0.07407407407407407)]},\n",
      "                                                                                                                             {'CLAGE <= -1.6018838077330106': [(True,\n",
      "                                                                                                                                                                1.0),\n",
      "                                                                                                                                                               (False,\n",
      "                                                                                                                                                                0.05263157894736842)]}]},\n",
      "                                                                                         {'CLNO <= -2.000604835823807': [{'NINQ <= 1.8392902689088348': [(True,\n",
      "                                                                                                                                                          1.0),\n",
      "                                                                                                                                                         (False,\n",
      "                                                                                                                                                          0.0)]},\n",
      "                                                                                                                         {'VALUE <= 1.0932318617252927': [(False,\n",
      "                                                                                                                                                           0.02585487906588824),\n",
      "                                                                                                                                                          (False,\n",
      "                                                                                                                                                           0.0)]}]}]},\n",
      "                                                           {'DEBTINC <= -2.3454895026160827': [(True,\n",
      "                                                                                                1.0),\n",
      "                                                                                               {'CLNO <= 0.379215861315425': [{'MORTDUE <= -0.1067096185452445': [(False,\n",
      "                                                                                                                                                                   0.23809523809523808),\n",
      "                                                                                                                                                                  (True,\n",
      "                                                                                                                                                                   0.8181818181818182)]},\n",
      "                                                                                                                              {'NINQ <= 1.8392902689088348': [(False,\n",
      "                                                                                                                                                               0.03389830508474576),\n",
      "                                                                                                                                                              (True,\n",
      "                                                                                                                                                               1.0)]}]}]}]},\n",
      "                                  {'DEBTINC <= 0.137471043429223': [{'DELINQcat_1+ <= 0.5': [{'CLAGE <= -0.0016147772794835001': [{'DEROGzero <= 0.5': [(True,\n",
      "                                                                                                                                                         0.8467153284671532),\n",
      "                                                                                                                                                        (True,\n",
      "                                                                                                                                                         0.61003861003861)]},\n",
      "                                                                                                                                  {'DELINQcat_1 <= 0.5': [(False,\n",
      "                                                                                                                                                           0.29328621908127206),\n",
      "                                                                                                                                                          (True,\n",
      "                                                                                                                                                           0.6296296296296297)]}]},\n",
      "                                                                                             {'NINQ <= 1.8392902689088348': [{'CLAGE <= 2.6917061819147854': [(True,\n",
      "                                                                                                                                                               0.8564814814814815),\n",
      "                                                                                                                                                              (False,\n",
      "                                                                                                                                                               0.0)]},\n",
      "                                                                                                                             (True,\n",
      "                                                                                                                              1.0)]}]},\n",
      "                                                                    {'DEBTINC <= 1.8737893279539952': [{'CLAGE <= 0.30740939850752835': [{'DEROGzero <= 0.5': [(False,\n",
      "                                                                                                                                                                0.319672131147541),\n",
      "                                                                                                                                                               (False,\n",
      "                                                                                                                                                                0.0959119496855346)]},\n",
      "                                                                                                                                         {'DELINQcat_1+ <= 0.5': [(False,\n",
      "                                                                                                                                                                   0.019161676646706587),\n",
      "                                                                                                                                                                  (False,\n",
      "                                                                                                                                                                   0.37142857142857144)]}]},\n",
      "                                                                                                       {'DEBTINC <= 1.9581125560204375': [{'REASON_HomeImp <= 0.5': [(True,\n",
      "                                                                                                                                                                      1.0),\n",
      "                                                                                                                                                                     (False,\n",
      "                                                                                                                                                                      0.0)]},\n",
      "                                                                                                                                          (True,\n",
      "                                                                                                                                           1.0)]}]}]}]}\n"
     ]
    }
   ],
   "source": [
    "pprint(tree_deep)"
   ]
  },
  {
   "cell_type": "code",
   "execution_count": 65,
   "metadata": {
    "colab": {
     "base_uri": "https://localhost:8080/"
    },
    "id": "kTuXwY5DfHK3",
    "outputId": "bbae6b2d-17a9-42d5-f917-2a7a1c9ed8d5"
   },
   "outputs": [
    {
     "data": {
      "text/plain": [
       "[1, 1, 1, 1, 1]"
      ]
     },
     "execution_count": 65,
     "metadata": {},
     "output_type": "execute_result"
    }
   ],
   "source": [
    "predictions_deep = predict(tree_deep, X)\n",
    "\n",
    "predictions_deep[:5]"
   ]
  },
  {
   "cell_type": "code",
   "execution_count": 66,
   "metadata": {
    "colab": {
     "base_uri": "https://localhost:8080/"
    },
    "id": "cWaQxYrsZkuY",
    "outputId": "2a4c92e5-d6c5-4f9b-b756-5c3eb06de3dd"
   },
   "outputs": [
    {
     "data": {
      "text/plain": [
       "[0.61003861003861,\n",
       " 0.8564814814814815,\n",
       " 0.61003861003861,\n",
       " 0.61003861003861,\n",
       " 0.61003861003861]"
      ]
     },
     "execution_count": 66,
     "metadata": {},
     "output_type": "execute_result"
    }
   ],
   "source": [
    "predictions_prob_deep = predict_prob(tree_deep, X)\n",
    "\n",
    "predictions_prob_deep[:5]"
   ]
  },
  {
   "cell_type": "code",
   "execution_count": 67,
   "metadata": {
    "colab": {
     "base_uri": "https://localhost:8080/"
    },
    "id": "pP4SrqQLfHK3",
    "outputId": "0a003d4e-7936-4d3b-e00d-7a0b6291bd9b"
   },
   "outputs": [
    {
     "data": {
      "text/plain": [
       "0.8897651006711409"
      ]
     },
     "execution_count": 67,
     "metadata": {},
     "output_type": "execute_result"
    }
   ],
   "source": [
    "error_deep = np.mean(np.vstack(predictions_deep) == np.array(y))\n",
    "\n",
    "error_deep"
   ]
  },
  {
   "cell_type": "markdown",
   "metadata": {
    "id": "kN-4UJIJfHK3"
   },
   "source": [
    "The performance of the tree is even better with this depth. However, as we continue to increase depth, there will come a point where the accuracy decreases as the tree internalizes noise from the data. This is called overfitting and weakens the tree's ability to classify unseen observations. Thus, the tree can be deepened only until the test set accuracy begins decreasing."
   ]
  }
 ],
 "metadata": {
  "kernelspec": {
   "display_name": "Python 3.9.14 ('.bads-env')",
   "language": "python",
   "name": "python3"
  },
  "language_info": {
   "codemirror_mode": {
    "name": "ipython",
    "version": 3
   },
   "file_extension": ".py",
   "mimetype": "text/x-python",
   "name": "python",
   "nbconvert_exporter": "python",
   "pygments_lexer": "ipython3",
   "version": "3.9.14"
  },
  "orig_nbformat": 4,
  "vscode": {
   "interpreter": {
    "hash": "0d59063d68e7723de5ed538f052e9a0cf5060d8feb35a125775eb36a31b4dca6"
   }
  }
 },
 "nbformat": 4,
 "nbformat_minor": 2
}
