{
 "cells": [
  {
   "cell_type": "markdown",
   "metadata": {},
   "source": [
    "[![Open In Colab](https://colab.research.google.com/assets/colab-badge.svg)](https://colab.research.google.com/github/Humboldt-WI/bads/blob/master/tutorial_notebooks/2_python_intro.ipynb) "
   ]
  },
  {
   "cell_type": "markdown",
   "metadata": {
    "id": "L3WS_UbWixlo"
   },
   "source": [
    "# Tutorial 2 - Introduction to the Python Programming Language\n",
    "<hr>\n",
    "\n",
    "In this tutorial, we cover selected basics of the Python programming language including variables and data types, indexing & slicing, control flow, and functions. This version is just a skeleton. We will further develop and discuss  codes in the tutorial session. Please note that a much more comprehensive Python introduction is available for self-study in our [Python for Data Science 1o1 notebook](https://github.com/Humboldt-WI/bads/blob/master/python_data_science1o1.ipynb)."
   ]
  },
  {
   "cell_type": "markdown",
   "metadata": {
    "id": "7VeKJR1iY8lR"
   },
   "source": [
    "## Basic Math Operations\n",
    "\n",
    "Let's first use Python as a calculator and see how it behaves. Notice the cells of code as mentioned earlier. Cells often only display one output although all lines of code are executed. If you'd like it to produce multiple at once, it can be useful to use the print command as shown at the end. Python will explicitly print all outputs in any print command (even if there are multiple).\n",
    "\n",
    "By adding the character '#', you are telling Python to ignore the following characters on the same line. This is called creating a **comment** and can be very useful to explain your code to others."
   ]
  },
  {
   "cell_type": "code",
   "execution_count": null,
   "metadata": {
    "colab": {
     "base_uri": "https://localhost:8080/",
     "height": 34
    },
    "id": "U3hGuMdXXwr1",
    "outputId": "004508e3-902c-45f6-82da-7df14934d34b"
   },
   "outputs": [],
   "source": [
    "1+1 # Python will ignore everything after '#'"
   ]
  },
  {
   "cell_type": "code",
   "execution_count": null,
   "metadata": {
    "colab": {
     "base_uri": "https://localhost:8080/",
     "height": 34
    },
    "id": "h4QjhlRdZIlO",
    "outputId": "b8acb8b3-660b-4d8f-91b4-3d3b81c52bc4"
   },
   "outputs": [],
   "source": [
    "333/10"
   ]
  },
  {
   "cell_type": "code",
   "execution_count": null,
   "metadata": {
    "colab": {
     "base_uri": "https://localhost:8080/",
     "height": 34
    },
    "id": "Q8lcepY0ZJfh",
    "outputId": "4cb03ef2-1635-4ea3-afe6-ef1ea7ba4cf7"
   },
   "outputs": [],
   "source": [
    "1+1/2 # Python follows order of operations"
   ]
  },
  {
   "cell_type": "code",
   "execution_count": null,
   "metadata": {
    "colab": {
     "base_uri": "https://localhost:8080/",
     "height": 34
    },
    "id": "rasjMTsdZQaY",
    "outputId": "5377a4aa-d078-46ee-94af-1cee6ae8e764"
   },
   "outputs": [],
   "source": [
    "3 ** 3 # Python uses '**' instead of '^' for exponents"
   ]
  },
  {
   "cell_type": "code",
   "execution_count": 7,
   "metadata": {},
   "outputs": [],
   "source": [
    "# Understanding check: Calculate the square root of the number 356\n"
   ]
  },
  {
   "cell_type": "markdown",
   "metadata": {
    "id": "r0dz5f-GZZbW"
   },
   "source": [
    "## Variables\n",
    "\n",
    "One very useful feature of every programming language is the ability to give a fixed name to variables. Simply use the formula:\n",
    "\n",
    "```\n",
    "variable_name = desired_value\n",
    "```\n",
    "\n",
    "\n",
    "\n",
    "**Note:** Your variable names MUST NOT begin with a number, include a dash or space.\n",
    "\n",
    "After this, every time you type the variable name, Python will refer to the value it has been assigned. If the same variable name is ever used, the value will be overwritten.\n",
    "\n",
    "Python will consider all types of text as some kind of variable or command. If you ever want to create or reference actual text, it must be between quotation marks. This is called a string in Python. If you want Python to ignore text all together, use '#' to indicate a comment."
   ]
  },
  {
   "cell_type": "code",
   "execution_count": null,
   "metadata": {
    "colab": {
     "base_uri": "https://localhost:8080/",
     "height": 34
    },
    "id": "BR0APH8EZVQX",
    "outputId": "bb991430-47f7-41e2-e708-7ec341fc772d"
   },
   "outputs": [],
   "source": [
    "a = 1 # all future cells will now refer to a as 1\n",
    "b = 2 # similarly, all future cells will refer to b as 2\n",
    "\n",
    "a+b"
   ]
  },
  {
   "cell_type": "code",
   "execution_count": null,
   "metadata": {
    "colab": {
     "base_uri": "https://localhost:8080/",
     "height": 34
    },
    "id": "GuI9bLX1oUxN",
    "outputId": "38509089-ff82-41f7-bbc1-07079cb278c1"
   },
   "outputs": [],
   "source": [
    "a, b = 1, 2 # assigns variables above in the same way but in one line\n",
    "\n",
    "a+b"
   ]
  },
  {
   "cell_type": "code",
   "execution_count": null,
   "metadata": {
    "colab": {
     "base_uri": "https://localhost:8080/",
     "height": 34
    },
    "id": "nmLwGwJNoc_U",
    "outputId": "e15e8c9e-0e6c-4704-b90b-c93399ba38c1"
   },
   "outputs": [],
   "source": [
    "a = z = 1 # another way to assign multiple variables the same value\n",
    "\n",
    "z"
   ]
  },
  {
   "cell_type": "markdown",
   "metadata": {},
   "source": [
    "All math operations work in the same way with variables"
   ]
  },
  {
   "cell_type": "code",
   "execution_count": null,
   "metadata": {
    "colab": {
     "base_uri": "https://localhost:8080/",
     "height": 34
    },
    "id": "dtpGIaWPZjN_",
    "outputId": "56c1aa98-d98e-4691-cc6e-9e474af7aead"
   },
   "outputs": [],
   "source": [
    "a*5"
   ]
  },
  {
   "cell_type": "code",
   "execution_count": null,
   "metadata": {
    "colab": {
     "base_uri": "https://localhost:8080/",
     "height": 34
    },
    "id": "erO3QQ3jc37m",
    "outputId": "0f9a524d-996a-40ba-ba10-18e8b923b43a"
   },
   "outputs": [],
   "source": [
    "b ** 5 # remember '**' means exponent"
   ]
  },
  {
   "cell_type": "code",
   "execution_count": null,
   "metadata": {
    "colab": {
     "base_uri": "https://localhost:8080/",
     "height": 34
    },
    "id": "wIBHVYW2Zkr3",
    "outputId": "c8747503-c875-4019-bdbb-8b13100e6daf"
   },
   "outputs": [],
   "source": [
    "a = 500 # if you use the same variable name again, you overwrite the previous value\n",
    "\n",
    "a+b"
   ]
  },
  {
   "cell_type": "code",
   "execution_count": null,
   "metadata": {
    "colab": {
     "base_uri": "https://localhost:8080/",
     "height": 34
    },
    "id": "JmwnRDGIv043",
    "outputId": "2d6b2a56-e021-4203-bbc4-bcd4f3ea3f11"
   },
   "outputs": [],
   "source": [
    "# By default, Python only displays the last line of output from a cell\n",
    "\n",
    "a*b # This line will be executed in Python, but since the next line causes an output and it comes afterwards, only its output will be displayed\n",
    "\n",
    "a+b"
   ]
  },
  {
   "cell_type": "code",
   "execution_count": null,
   "metadata": {
    "colab": {
     "base_uri": "https://localhost:8080/",
     "height": 34
    },
    "id": "mdamvwcNOdeN",
    "outputId": "83fbcaaa-951c-43a5-dc4d-bbc380ed3d7c"
   },
   "outputs": [],
   "source": [
    "print(a*b, a+b) # using print and a comma separating items will print everything"
   ]
  },
  {
   "cell_type": "code",
   "execution_count": 13,
   "metadata": {
    "id": "U9RsDfwWZ_iw"
   },
   "outputs": [],
   "source": [
    "#Can I just write? # this will generate an error because Python will try to look up the value assigned to each word as a variable and find nothing"
   ]
  },
  {
   "cell_type": "code",
   "execution_count": null,
   "metadata": {
    "colab": {
     "base_uri": "https://localhost:8080/",
     "height": 34
    },
    "id": "p4lgFDRhNzjo",
    "outputId": "7ec154d2-2a4b-4503-9fb5-867418303592"
   },
   "outputs": [],
   "source": [
    "a = \"you can't add strings to numbers\" # if you want to generate text for Python to store in memory, use quotation marks around the text to create a string (str for short)\n",
    "\n",
    "print(a)"
   ]
  },
  {
   "cell_type": "code",
   "execution_count": null,
   "metadata": {
    "colab": {
     "base_uri": "https://localhost:8080/",
     "height": 35
    },
    "id": "P8plSRHFaOYP",
    "outputId": "1e0d4bd1-1b6f-4874-d6af-b7dfbc9d3c93"
   },
   "outputs": [],
   "source": [
    "b = \", but you can add strings together!\"\n",
    "\n",
    "a+b # you can even concatenate (attach) strings if you'd like"
   ]
  },
  {
   "cell_type": "code",
   "execution_count": 16,
   "metadata": {
    "id": "9iSIREPGEV4-"
   },
   "outputs": [],
   "source": [
    "# Understanding check: assign the number 42 to the variable named meaning_of_life, then find the remainder of the division of meaning_of_life by 10\n",
    "\n"
   ]
  },
  {
   "cell_type": "code",
   "execution_count": 17,
   "metadata": {
    "id": "h3RId00UE4g8"
   },
   "outputs": [],
   "source": [
    "# Understanding check: assign the string 'Dude, Where's My Car?' to the variable movie_name, multiply this movie_name by 3, what happens?\n",
    "\n"
   ]
  },
  {
   "cell_type": "markdown",
   "metadata": {
    "id": "kj8xftILbIbh"
   },
   "source": [
    "## Data Types\n",
    "\n",
    "There are _many_ data types in Python. To check the type of an object, use the function `type( )`.\n",
    "\n",
    "\n",
    "The most common ones that you will encounter as a data scientist are:\n",
    "\n",
    "\n",
    "*   integer (eg. 100)\n",
    "*   float (eg. 100.0)\n",
    "*   string (eg. 'Hello World!')\n",
    "*   boolean (eg. True)\n",
    "*   list (eg. ['one', 'two', 'three'] )\n",
    "*   tuples (eg. ('one', 'two', 'three') )\n",
    "*   dictionary (eg. {'mammal': 'platypus', 'fish': 'eel'} )\n",
    "*   NumPy array\n",
    "*   Pandas Series (in future notebooks)\n",
    "*   Pandas DataFrame (in future notebooks)\n",
    "\n",
    "Aside from these, you will definitely see many more. Let's explore these a bit.\n",
    "\n",
    "\n",
    "\n"
   ]
  },
  {
   "cell_type": "markdown",
   "metadata": {
    "id": "W2XI4ysgpS15"
   },
   "source": [
    "### Integers and Floats\n",
    "\n",
    "These are going to likely be the most common types that you will encounter. **Integers are whole numbers** while **floats contain decimals**. "
   ]
  },
  {
   "cell_type": "code",
   "execution_count": null,
   "metadata": {
    "colab": {
     "base_uri": "https://localhost:8080/",
     "height": 0
    },
    "id": "D6RG79VGiOkN",
    "outputId": "3a9cb67a-0df3-41a8-b07e-d5d2d33cf6ea"
   },
   "outputs": [],
   "source": [
    "a = 5\n",
    "\n",
    "b = 5.0\n",
    "\n",
    "print(type(a), type(b)) # integers have no decimals while floats do"
   ]
  },
  {
   "cell_type": "code",
   "execution_count": null,
   "metadata": {
    "colab": {
     "base_uri": "https://localhost:8080/",
     "height": 0
    },
    "id": "L-qC2xiEo1oH",
    "outputId": "87313905-b241-46da-bb29-59ba7bdf1bae"
   },
   "outputs": [],
   "source": [
    "int(b) # converts b to an integer, note that if we do not assign this back to b by executing 'b=int(b)', b will not change"
   ]
  },
  {
   "cell_type": "code",
   "execution_count": null,
   "metadata": {
    "colab": {
     "base_uri": "https://localhost:8080/",
     "height": 0
    },
    "id": "BFP8duKUo-f8",
    "outputId": "f668593f-34b5-4e6a-9d63-92f0264cfc68"
   },
   "outputs": [],
   "source": [
    "b = int(b)\n",
    "\n",
    "b"
   ]
  },
  {
   "cell_type": "markdown",
   "metadata": {
    "id": "HOfwItbGpnGv"
   },
   "source": [
    "### Strings\n",
    "\n",
    "Strings are like pieces of text. They are always enclosed between quotation marks, single or double quotes both work. You can convert numbers to strings too. Note that they will now have all the properties of strings."
   ]
  },
  {
   "cell_type": "code",
   "execution_count": 21,
   "metadata": {
    "id": "OD6thTMwi9b9"
   },
   "outputs": [],
   "source": [
    "c = \"any text between single or double quotes is a string\" # you can use single or double quotes around strings\n",
    "d = 'any text between single or double quotes is a string'"
   ]
  },
  {
   "cell_type": "code",
   "execution_count": null,
   "metadata": {
    "colab": {
     "base_uri": "https://localhost:8080/",
     "height": 35
    },
    "id": "3ImbP2TmpQCs",
    "outputId": "3fdb787d-abdf-4c00-933a-d9ec8751f584"
   },
   "outputs": [],
   "source": [
    "a = str(a) # if we want to turn the number that we assigned to a into a string, we can use the str( ) function\n",
    "\n",
    "a*10 # now instead of 5*10, Python is performing '5'*10 so it will paste '5' 10 times"
   ]
  },
  {
   "cell_type": "code",
   "execution_count": null,
   "metadata": {
    "colab": {
     "base_uri": "https://localhost:8080/",
     "height": 34
    },
    "id": "nayOBSjtwFeb",
    "outputId": "d74c5434-247f-40ba-f1cf-86c164e89c4e"
   },
   "outputs": [],
   "source": [
    "a = int(a) # you can change a string back to a number back by using int() or float()\n",
    "\n",
    "a*10"
   ]
  },
  {
   "cell_type": "code",
   "execution_count": null,
   "metadata": {
    "colab": {
     "base_uri": "https://localhost:8080/",
     "height": 34
    },
    "id": "HegZNoglp9Rw",
    "outputId": "116eb7b3-01ad-487e-83a5-137dd0178a8a"
   },
   "outputs": [],
   "source": [
    "print(c[0], c[2]) # you can find the nth letter in a string by enclosing n-1 in square brackets (since Python starts counting at 0)"
   ]
  },
  {
   "cell_type": "code",
   "execution_count": null,
   "metadata": {
    "colab": {
     "base_uri": "https://localhost:8080/",
     "height": 34
    },
    "id": "-K1ZpgZcqThq",
    "outputId": "3376cac4-86d9-466f-ebfc-e45363c12f81"
   },
   "outputs": [],
   "source": [
    "len(c) # gives you the number of characters in the string, this can be useful in Natural Language Processing (NLP) and more"
   ]
  },
  {
   "cell_type": "markdown",
   "metadata": {},
   "source": [
    "**Strings** also have many methods associated. You can review all here: https://docs.python.org/3/library/stdtypes.html#string-methods ."
   ]
  },
  {
   "cell_type": "code",
   "execution_count": null,
   "metadata": {},
   "outputs": [],
   "source": [
    "sea_shells = 'she sells sea shells by the sea shore'\n",
    "\n",
    "sea_shells.upper() # upper case method, this does not overwrite the variable in all caps"
   ]
  },
  {
   "cell_type": "code",
   "execution_count": null,
   "metadata": {},
   "outputs": [],
   "source": [
    "# Check your understanding: Split the string by blank space (' ') using a method and appropriate argument\n",
    "\n"
   ]
  },
  {
   "cell_type": "markdown",
   "metadata": {
    "id": "Df7IJwUaj18-"
   },
   "source": [
    "### Booleans\n",
    "\n",
    "**Booleans** take on two possible values (pay attention to capitalisation):\n",
    "*    `True`\n",
    "*    `False`\n",
    "\n",
    "These can be used to evaluate conditions, for example when comparing the value of different variables. Specifically, you can create conditions using one of the following comparision operators:\n",
    "*   `==` is equal (remember that the operator `=` represents an assignment in Python )\n",
    "*   `!=` not equal to\n",
    "*   `>=` greater than or equal to\n",
    "*   `<=` less than or equal to\n",
    "*   `is` and `is not` also yield Booleans, however they require exact identity matches unlike `==` and `!=` .\n",
    "\n",
    "Keep in mind, many other functions and syntax return Boolean values. For example, there is the function ``` isinstance(x, var_type) ``` which returns the corresponding Boolean value if variable x is equivalent to the type specified. Always check functions' outputs so you can handle their data types in an effective way.\n",
    "\n",
    "`True` also corresponds to the value `1` while `False` corresponds to `0`."
   ]
  },
  {
   "cell_type": "code",
   "execution_count": null,
   "metadata": {
    "colab": {
     "base_uri": "https://localhost:8080/",
     "height": 34
    },
    "id": "m6cC6-oAjzXP",
    "outputId": "d3b50449-b994-49b3-d988-3fd68c135bdd"
   },
   "outputs": [],
   "source": [
    "e = 5\n",
    "\n",
    "f = 5.00\n",
    "\n",
    "print(e>f, e==f,  e>=f, e!=f)"
   ]
  },
  {
   "cell_type": "code",
   "execution_count": null,
   "metadata": {
    "colab": {
     "base_uri": "https://localhost:8080/",
     "height": 34
    },
    "id": "nStSbQYirHaV",
    "outputId": "099e9943-63cb-4079-f517-3ef5352cb81c"
   },
   "outputs": [],
   "source": [
    "print(e is f) # note that since e is not the exact same as f, \"is\" returns False"
   ]
  },
  {
   "cell_type": "code",
   "execution_count": null,
   "metadata": {
    "colab": {
     "base_uri": "https://localhost:8080/",
     "height": 34
    },
    "id": "reU_bEd1lut3",
    "outputId": "815dba03-429f-44b0-a10f-7fa073970583"
   },
   "outputs": [],
   "source": [
    "c = \"any text between single or double quotes is a string\"\n",
    "d = 'any text between single or double quotes is a string'\n",
    "\n",
    "print(c == d) # as mentioned, even though the second uses single quotations, it is equivalent in Python"
   ]
  },
  {
   "cell_type": "code",
   "execution_count": null,
   "metadata": {
    "colab": {
     "base_uri": "https://localhost:8080/",
     "height": 34
    },
    "id": "EAfeqEEHl6U1",
    "outputId": "d21f1b10-0ab2-47e8-a2ce-73655afe1f7a"
   },
   "outputs": [],
   "source": [
    "print(isinstance(c, str)) # many functions may return Boolean values like this one which checks if variable c is a string (use the short form str)"
   ]
  },
  {
   "cell_type": "code",
   "execution_count": null,
   "metadata": {
    "colab": {
     "base_uri": "https://localhost:8080/",
     "height": 34
    },
    "id": "7l2oNl0luZ3H",
    "outputId": "61be9e4d-adb3-44c6-da6d-ad3b658437e6"
   },
   "outputs": [],
   "source": [
    "print(True == 1, False == 0) # the Boolean value of True is equal to 1, similarly, the Boolean value of False is equal to 0. \n",
    "# this will be useful for categorical variables."
   ]
  },
  {
   "cell_type": "code",
   "execution_count": null,
   "metadata": {
    "colab": {
     "base_uri": "https://localhost:8080/",
     "height": 34
    },
    "id": "N80QBYDwPDJ5",
    "outputId": "17002ead-bd72-46b6-b9eb-1288b750f7d1"
   },
   "outputs": [],
   "source": [
    "# Python only recognizes False and True as a Boolean value, FALSE and false (TRUE and true) are considered possible variable names.\n",
    "print(type(False), type(True))"
   ]
  },
  {
   "cell_type": "code",
   "execution_count": 34,
   "metadata": {
    "id": "17OEWkgyQlZ1"
   },
   "outputs": [],
   "source": [
    "# print(type(FALSE)) # only False works as a boolean value, otherwise, Python thinks it's a variable"
   ]
  },
  {
   "cell_type": "markdown",
   "metadata": {
    "id": "Spq3Eb-9rdNm"
   },
   "source": [
    "We can combine conditions with:\n",
    "*    `and` (all must be satisfied)\n",
    "*    `or` (at least 1 must be satisfied)\n",
    "*    `not` (reverses result)"
   ]
  },
  {
   "cell_type": "code",
   "execution_count": null,
   "metadata": {
    "colab": {
     "base_uri": "https://localhost:8080/",
     "height": 34
    },
    "id": "3ObcvKL0rcw9",
    "outputId": "d69509e8-16e8-4699-d541-a5dbed9943c7"
   },
   "outputs": [],
   "source": [
    "p = 1\n",
    "q = 2\n",
    "\n",
    "p > q and p < q # since both must be satisfied, but each is mutually exclusive in this case, this must be False"
   ]
  },
  {
   "cell_type": "code",
   "execution_count": null,
   "metadata": {
    "colab": {
     "base_uri": "https://localhost:8080/",
     "height": 34
    },
    "id": "zX7ev-SGr5Si",
    "outputId": "ed96799d-63e2-49c6-9e2b-8cb9534b690c"
   },
   "outputs": [],
   "source": [
    "p > q or p < q # since one of these is true, it is True"
   ]
  },
  {
   "cell_type": "code",
   "execution_count": null,
   "metadata": {
    "colab": {
     "base_uri": "https://localhost:8080/",
     "height": 34
    },
    "id": "gRQ4Ccdir8Fg",
    "outputId": "07b308c5-acf0-4b6f-f098-e6350353eb69"
   },
   "outputs": [],
   "source": [
    "not (p == q) # the expression in brackets is False but 'not' reverses that"
   ]
  },
  {
   "cell_type": "code",
   "execution_count": null,
   "metadata": {},
   "outputs": [],
   "source": [
    "# Understanding check: introduce a variable age and assign it a value of your choice. Write a condition that checks whether the square of age is less than 625 \n"
   ]
  },
  {
   "cell_type": "code",
   "execution_count": null,
   "metadata": {},
   "outputs": [],
   "source": [
    "# Understanding check: introduce a variable num and assign it a value of your choice. Write a condition that checks whether num is an even number\n"
   ]
  },
  {
   "cell_type": "markdown",
   "metadata": {
    "id": "4MkujAJju98-"
   },
   "source": [
    "### Lists, Indexing & Slicing\n",
    "\n",
    "**Lists** are a sequenced container of items. Items can be of virtually any type (strings, other lists, tuples, integers...). Lists are created by putting contents sequentially in square brackets separated by commas. You can initialize an empty list to be filled by putting an empty set of square brackets.\n",
    "\n",
    "Each item in a list has a uniquely callable position which is called an **index**. Indices can be labelled but can always be referred to by number as well. Numbering in Python always starts at 0. So, to access the first item in a list, you must call `list_name[0]`.  This is called *Zero-Based Indexing* and differs from programming languages like R, which use *One-Based Indexing*."
   ]
  },
  {
   "cell_type": "code",
   "execution_count": null,
   "metadata": {
    "colab": {
     "base_uri": "https://localhost:8080/",
     "height": 34
    },
    "id": "fsOM2q3lvgvc",
    "outputId": "4b2dbcbb-612c-4f2f-b63a-2520502f2b34"
   },
   "outputs": [],
   "source": [
    "just_some_empty_list = [] # initalizing empty lists will be useful later on, this simple trick is worth remembering for loops later\n",
    "\n",
    "type(just_some_empty_list)"
   ]
  },
  {
   "cell_type": "code",
   "execution_count": null,
   "metadata": {
    "colab": {
     "base_uri": "https://localhost:8080/",
     "height": 35
    },
    "id": "aW4KDIK9vveT",
    "outputId": "eee876f5-d1b8-45cc-a3af-f745fa10ad81"
   },
   "outputs": [],
   "source": [
    "# create a list just putting items between square brackets separated by commas, you could even create a list of lists!\n",
    "whats_in_my_fridge = ['cucumber', 'pasta sauce', 'leftovers', 'margarine', 'tomato'] \n",
    "\n",
    "whats_in_my_fridge[0] # calls first element of list or the item at index 0"
   ]
  },
  {
   "cell_type": "code",
   "execution_count": null,
   "metadata": {
    "colab": {
     "base_uri": "https://localhost:8080/",
     "height": 35
    },
    "id": "wIKl2JTWl0OF",
    "outputId": "bb0f3877-c2be-4b5e-fab7-0d9ff1343caa"
   },
   "outputs": [],
   "source": [
    "# items can be called using negative numbers, the final item in the list is index -1, \n",
    "# second last is -2 and so on\n",
    "whats_in_my_fridge[-1] "
   ]
  },
  {
   "cell_type": "code",
   "execution_count": null,
   "metadata": {
    "colab": {
     "base_uri": "https://localhost:8080/",
     "height": 34
    },
    "id": "gHo02o5dxFgN",
    "outputId": "b21e0988-e837-4d4d-e366-c6044bc54a1f"
   },
   "outputs": [],
   "source": [
    "# you can replace items using indexing, here item 2 (indexed at 1) is replaced\n",
    "whats_in_my_fridge[1] = 'kartoffelsalat' \n",
    "\n",
    "print(whats_in_my_fridge)"
   ]
  },
  {
   "cell_type": "code",
   "execution_count": null,
   "metadata": {
    "colab": {
     "base_uri": "https://localhost:8080/",
     "height": 34
    },
    "id": "xOhY836jyVaA",
    "outputId": "cec8d686-f6bc-47c7-dac9-1ec2467337fa"
   },
   "outputs": [],
   "source": [
    "del whats_in_my_fridge[2] # if I ate my leftovers, we can delete it from the list like so\n",
    "\n",
    "print(whats_in_my_fridge)"
   ]
  },
  {
   "cell_type": "code",
   "execution_count": null,
   "metadata": {},
   "outputs": [],
   "source": [
    "# Understanding check: create a list to store data of one customer. \n",
    "# First invent data of a hypothetical person including name, age, zip code, and e-mail.\n",
    "# Put all this invented data into one list with name my_cust. \n"
   ]
  },
  {
   "cell_type": "code",
   "execution_count": null,
   "metadata": {},
   "outputs": [],
   "source": [
    "# Understanding check: print the name and age of your hypothetical customer to the screen\n",
    "# Spefifically, the output should be formatted in this way: \n",
    "# \"Hello <name>. Nice to meet you. I see you are <age> years old.\"\n"
   ]
  },
  {
   "cell_type": "markdown",
   "metadata": {
    "id": "PMjdqfJszoCr"
   },
   "source": [
    "**Slicing** is how data is often selected in Python. Use the index plus `:`. The `:` can be read as _up to but not including_ .\n",
    "\n",
    "For example, `2:10` means _item indexed at 2 up to but not including item indexed at 10_. If you don't include a start point or an end point for slicing, Python will start at the very beginning of the index or go to the very end of the index."
   ]
  },
  {
   "cell_type": "code",
   "execution_count": null,
   "metadata": {
    "colab": {
     "base_uri": "https://localhost:8080/",
     "height": 34
    },
    "id": "fJcmxWAJxYvJ",
    "outputId": "474fbb68-12aa-47ae-aaf0-f809e86252ab"
   },
   "outputs": [],
   "source": [
    "# select the first item (with index 0) up to but not including the third item\n",
    "whats_in_my_fridge[0:2]\n"
   ]
  },
  {
   "cell_type": "code",
   "execution_count": null,
   "metadata": {
    "colab": {
     "base_uri": "https://localhost:8080/",
     "height": 34
    },
    "id": "BT8s8UQMx13q",
    "outputId": "636ddf19-f991-452e-fb17-1182e37a2706"
   },
   "outputs": [],
   "source": [
    "# select item 3 up to the end of the list. If we wrote [:2], Python would have\n",
    "#  fetched the very beginning up to but not including item 3.\n",
    "whats_in_my_fridge[2:] "
   ]
  },
  {
   "cell_type": "code",
   "execution_count": null,
   "metadata": {
    "colab": {
     "base_uri": "https://localhost:8080/",
     "height": 34
    },
    "id": "BixxvmYwm0bc",
    "outputId": "28658acc-11f5-412a-b7af-ccfb0a67d58a"
   },
   "outputs": [],
   "source": [
    "# you can also add two lists to combine them\n",
    "what_i_want_in_fridge = ['apples']\n",
    "\n",
    "tomorrow_in_my_fridge = whats_in_my_fridge + what_i_want_in_fridge\n",
    "\n",
    "tomorrow_in_my_fridge "
   ]
  },
  {
   "cell_type": "code",
   "execution_count": null,
   "metadata": {
    "colab": {
     "base_uri": "https://localhost:8080/",
     "height": 34
    },
    "id": "UhJK3dTzy0rz",
    "outputId": "51d62ac8-4659-4b06-af3a-ad9b54d3f83a"
   },
   "outputs": [],
   "source": [
    "# each data type has associated 'methods and attributes'. For example, lists have \n",
    "# the .append() method, which adds a new specified item\n",
    "whats_in_my_fridge.append('spring rolls') \n",
    "\n",
    "# it is very useful to learn more about possible methods and attributes of your \n",
    "# data types as they will make programming much easier, we will discuss these soon\n",
    "\n",
    "print(whats_in_my_fridge)"
   ]
  },
  {
   "cell_type": "code",
   "execution_count": 13,
   "metadata": {},
   "outputs": [],
   "source": [
    "# Understanding check:\n",
    "# Above we saw the .append() method. Lists have many more methods. Find a method to print \n",
    "# out all items in the list whats_in_my_fridge in descending order. \n"
   ]
  },
  {
   "cell_type": "code",
   "execution_count": null,
   "metadata": {
    "colab": {
     "base_uri": "https://localhost:8080/",
     "height": 34
    },
    "id": "9q0YajPdzFrb",
    "outputId": "61a03e76-3863-4980-c2ff-26d2d10eb995"
   },
   "outputs": [],
   "source": [
    "whats_in_your_fridge = whats_in_my_fridge # let's create a new list based on our old list\n",
    "\n",
    "whats_in_your_fridge[1] = 'hummus' # let's change one item in this new list\n",
    "\n",
    "print('Your frdige: ', whats_in_your_fridge)\n",
    "print('My frdige: ', whats_in_my_fridge) # wait, we changed YOUR fridge, why did my fridge change too?"
   ]
  },
  {
   "cell_type": "code",
   "execution_count": null,
   "metadata": {
    "colab": {
     "base_uri": "https://localhost:8080/",
     "height": 34
    },
    "id": "fi8pNHhrziHl",
    "outputId": "a23fb514-3fd8-4864-9737-eddceb0208ba"
   },
   "outputs": [],
   "source": [
    "# variable names refer to the original list, to create a copy which you want to edit completely \n",
    "# separately, use the list method .copy()\n",
    "\n",
    "whats_in_your_fridge = whats_in_my_fridge.copy()\n",
    "\n",
    "whats_in_your_fridge[2] = 'guacamole'\n",
    "\n",
    "print('Your frdige: ', whats_in_your_fridge)\n",
    "print('My frdige: ', whats_in_my_fridge)"
   ]
  },
  {
   "cell_type": "markdown",
   "metadata": {
    "id": "klol8pB-8A2A"
   },
   "source": [
    "#### List Comprehensions\n",
    "If you want to apply the same function to every item in a list, you can use a list comprehension. This is a simple version of what is called a loop, which we will learn more about later. This takes on the following format:\n",
    "\n",
    "> [_action_ `for` _dummy_item_name_ `in` _list_ ]\n",
    "\n",
    "Python interprets this as the following:\n",
    "\n",
    "1.   Take the first item in the list and temporarily label it `dummy_item_name`\n",
    "2.   Perform _action_ on the item labelled as `dummy_item_name`\n",
    "3.   Put result in a new list\n",
    "4.   Repeat steps 1-3 for the next list item until the list is complete\n",
    "\n",
    "By doing this, we quickly create a new list based on our last list.\n"
   ]
  },
  {
   "cell_type": "code",
   "execution_count": null,
   "metadata": {
    "colab": {
     "base_uri": "https://localhost:8080/",
     "height": 34
    },
    "id": "KWpxjoO471wr",
    "outputId": "57fbd59d-10c4-4d9d-c0de-4fbf60a4dc59"
   },
   "outputs": [],
   "source": [
    "# here we get the length of each string in the list, we can literally \n",
    "# use anything for the dummy name\n",
    "[len(dummy) for dummy in whats_in_my_fridge] "
   ]
  },
  {
   "cell_type": "code",
   "execution_count": null,
   "metadata": {
    "colab": {
     "base_uri": "https://localhost:8080/",
     "height": 34
    },
    "id": "hsAvgMsDIHPe",
    "outputId": "5242a890-7085-4114-80bc-9e69bedf07eb"
   },
   "outputs": [],
   "source": [
    "# here is another example where we get the first letter of every item,\n",
    "# to save it we need to assign it to a new name\n",
    "new_list = [item[0] for item in whats_in_my_fridge] \n",
    "\n",
    "new_list"
   ]
  },
  {
   "cell_type": "code",
   "execution_count": null,
   "metadata": {},
   "outputs": [],
   "source": [
    "# Understanding check:\n",
    "# Create a list with 5 arbitrary numbers. Then use list comprehension to create a new\n",
    "# list called list_of_squares, which stores the squares of the numbers of your original list."
   ]
  },
  {
   "cell_type": "markdown",
   "metadata": {
    "id": "frIlePOZIWC8"
   },
   "source": [
    "Other tricks with lists can be found here: https://docs.python.org/3/library/stdtypes.html#sequence-types-list-tuple-range ."
   ]
  },
  {
   "cell_type": "markdown",
   "metadata": {},
   "source": [
    "#### Operations with lists \n",
    "\n",
    "**Lists** have many useful methods. You can view some of the most useful here: https://docs.python.org/3/tutorial/datastructures.html.\n",
    "\n",
    "Let's observe some examples:"
   ]
  },
  {
   "cell_type": "code",
   "execution_count": null,
   "metadata": {},
   "outputs": [],
   "source": [
    "words_i_like = ['fuzzy', 'muffle', 'truck']  # nothing new here\n",
    "\n",
    "words_i_like.append('roar')  # ok, so when using the function append(), we actually call a method in the class list, just as if we call method greeting() in our class person\n",
    " \n",
    "\n",
    "words_i_like.reverse()  # yet another call of a method. This time, however, the method does not require us to specify an argument. The entire functioning \n",
    "# of the method is based on data that is stored together with the object. Here, this data are just the entries in the list\n",
    "\n",
    "words_i_like  # notice how the order of words that we like has changed. "
   ]
  },
  {
   "cell_type": "code",
   "execution_count": 53,
   "metadata": {},
   "outputs": [],
   "source": [
    "# Check your understanding: Pop the last item off the list using the appropriate method, \n",
    "# note that this method removes the last item forever\n",
    "\n"
   ]
  },
  {
   "cell_type": "code",
   "execution_count": 54,
   "metadata": {},
   "outputs": [],
   "source": [
    "# Understanding check: manipulate the following list\n",
    "\n",
    "numbers = [100000, 10, 1, .01, 100, 2]\n",
    "\n",
    "# remove the second number from this list\n",
    "\n",
    "\n",
    "# change the first number to 33\n",
    "\n",
    "\n",
    "# add 45 to the end of this list\n",
    "\n",
    "\n",
    "# multiply each of these numbers by 2 using a list comprehension\n"
   ]
  },
  {
   "cell_type": "markdown",
   "metadata": {
    "id": "cjdoQKQ5WF8_"
   },
   "source": [
    "### Tuples\n",
    "\n",
    "Tuples are objects stored together. These objects cannot be altered, which makes tupels and lists different. Instead of being stored in **square** brackets, tuples are stored in **round** brackets. If you have one item, you can just follow it with `,` and it will be a single item tuple.\n",
    "\n",
    "Again, unlike lists, **tuples cannot be altered**. You can convert them to lists or break them into multiple items and alter them that way."
   ]
  },
  {
   "cell_type": "code",
   "execution_count": null,
   "metadata": {
    "colab": {
     "base_uri": "https://localhost:8080/",
     "height": 34
    },
    "id": "q8plxJmoWhN9",
    "outputId": "4669624f-7ca1-4df7-f778-72eb78b0097b"
   },
   "outputs": [],
   "source": [
    "cool_tuple = ('ponies', 'unicorns', 'sharks with laser beams on their heads')\n",
    "\n",
    "type(cool_tuple)"
   ]
  },
  {
   "cell_type": "code",
   "execution_count": null,
   "metadata": {
    "colab": {
     "base_uri": "https://localhost:8080/",
     "height": 35
    },
    "id": "IUjCrThFW2vg",
    "outputId": "01daf0f6-02da-439b-9eb5-df84399b6aa9"
   },
   "outputs": [],
   "source": [
    "cool_tuple[2] # indexing works the same way as lists"
   ]
  },
  {
   "cell_type": "code",
   "execution_count": 57,
   "metadata": {
    "id": "dgk0bsigCo1h"
   },
   "outputs": [],
   "source": [
    "cool_tuple[2] = 'lame animal like a squirrel' # will not work because tuples are immutable"
   ]
  },
  {
   "cell_type": "code",
   "execution_count": null,
   "metadata": {
    "colab": {
     "base_uri": "https://localhost:8080/",
     "height": 34
    },
    "id": "rJ69tJnwXOde",
    "outputId": "5f9928e3-ff49-4f2a-be74-e3b62176ce2d"
   },
   "outputs": [],
   "source": [
    "# you can break tuples up into individual elements by assigning each to a variable\n",
    "item_1, item_2, item_3 = cool_tuple \n",
    "\n",
    "print('I want', item_1, ', ', item_2, 'and especially', item_3)"
   ]
  },
  {
   "cell_type": "code",
   "execution_count": 59,
   "metadata": {
    "id": "0SZJn5C_rCiB"
   },
   "outputs": [],
   "source": [
    "del cool_tuple[2] # again, tuples do not support any sort of alteration"
   ]
  },
  {
   "cell_type": "code",
   "execution_count": null,
   "metadata": {
    "colab": {
     "base_uri": "https://localhost:8080/",
     "height": 34
    },
    "id": "qsBCzKFyXAZ3",
    "outputId": "3becb3c9-e053-450c-88c0-2bd7304b5942"
   },
   "outputs": [],
   "source": [
    "# tuples CANNOT be changed, but you can turn them into a list and then alter that list\n",
    "cool_list = list(cool_tuple) \n",
    "\n",
    "cool_list # notice the square brackets"
   ]
  },
  {
   "cell_type": "code",
   "execution_count": null,
   "metadata": {
    "colab": {
     "base_uri": "https://localhost:8080/",
     "height": 34
    },
    "id": "KV6gF7ghmTDK",
    "outputId": "e0fec922-422a-425e-c901-3e8b7ea38900"
   },
   "outputs": [],
   "source": [
    "another_cool_tuple = True, # if you want a tuple with one item, you don't even need brackets, just put a comma after the object\n",
    "\n",
    "cool_tuple + another_cool_tuple # adding tuples just causes them to get combined together, you can assign this to a new variable if you'd like"
   ]
  },
  {
   "cell_type": "code",
   "execution_count": null,
   "metadata": {},
   "outputs": [],
   "source": [
    "# Understanding check:  unpack the following tuple into drink_1, drink_2 and drink_3\n",
    "\n",
    "drinks = ('mate', 'coffee', 'Redbull')\n",
    "\n"
   ]
  },
  {
   "cell_type": "markdown",
   "metadata": {
    "id": "Gg0LfXLdRVLn"
   },
   "source": [
    "### Other Data Types\n",
    "\n",
    "As mentioned, there are many other data types. Some are only available after loading a specific library into Python. As you load new libraries, check its documentation to learn more about how you can effectively use its elements including tailor-made data types. We will also introduce several specific data types as we go along."
   ]
  },
  {
   "cell_type": "markdown",
   "metadata": {
    "id": "a1S_CTmlMFav"
   },
   "source": [
    "## Control flow\n",
    "\n",
    "To govern the control flow of a program, we need two standard programming constructs, conditions and loops. The former evaluate a condition and proceed in a certain fashion based on the returned value. The latter perform an action recursively until a condition is met or the action has been performed on all applicable items."
   ]
  },
  {
   "cell_type": "markdown",
   "metadata": {
    "id": "wInQsLyXQbJd"
   },
   "source": [
    "### Conditional Statements Using If\n",
    "If-Statements in Python take the form:\n",
    "\n",
    "\n",
    "```\n",
    "if condition == True:\n",
    " action\n",
    "else:\n",
    " action\n",
    " ```\n",
    "\n",
    "If there are multiple conditions, you can extend this with elif (as many times as needed):\n",
    "```\n",
    "if condition_1 == True:\n",
    " action\n",
    "elif condition_2 == True:\n",
    "  action\n",
    "elif condition_3 == True:\n",
    "  action\n",
    "...\n",
    "else:\n",
    " action\n",
    " ```\n",
    "Let's observe some simple if-statements."
   ]
  },
  {
   "cell_type": "code",
   "execution_count": null,
   "metadata": {
    "colab": {
     "base_uri": "https://localhost:8080/",
     "height": 34
    },
    "id": "wNLNv0oyMfAx",
    "outputId": "19ef3f5f-21bc-4d9a-99c2-eacbe20cdbcd"
   },
   "outputs": [],
   "source": [
    "if 1 > 2 :\n",
    "  print('logic!')\n",
    "else:\n",
    "  print('no logic :(')"
   ]
  },
  {
   "cell_type": "code",
   "execution_count": null,
   "metadata": {
    "colab": {
     "base_uri": "https://localhost:8080/",
     "height": 34
    },
    "id": "5H3x0IhhMyNW",
    "outputId": "9eda447d-d15b-408c-dc3d-e5f3bfbc5196"
   },
   "outputs": [],
   "source": [
    "if 2 > 1 :\n",
    "  print('logic!')\n",
    "else:\n",
    "  print('no logic :(')"
   ]
  },
  {
   "cell_type": "code",
   "execution_count": null,
   "metadata": {
    "colab": {
     "base_uri": "https://localhost:8080/",
     "height": 34
    },
    "id": "-aEudjONM_qb",
    "outputId": "63b1e8bd-ee88-43bb-fa56-883df8437ee7"
   },
   "outputs": [],
   "source": [
    "places_to_visit = ['area 51', 'bermuda triangle', 'el dorado']\n",
    "\n",
    "if 'atlantis' not in places_to_visit: # for lists, we can use 'in' and 'not in' to return a Boolean\n",
    "  places_to_visit.append('atlantis')\n",
    "else:\n",
    "  places_to_visit\n",
    "\n",
    "places_to_visit\n"
   ]
  },
  {
   "cell_type": "code",
   "execution_count": null,
   "metadata": {
    "colab": {
     "base_uri": "https://localhost:8080/",
     "height": 50
    },
    "id": "wk6I0faWN73g",
    "outputId": "41710bb1-c463-412c-9c39-7a06f6a880aa"
   },
   "outputs": [],
   "source": [
    "toothbrushes_packed = 100 # adjust this to be 0, 1 and above 1 to demonstrate different results\n",
    "\n",
    "if toothbrushes_packed == 0:\n",
    "  toothbrushes_packed += 1 # this format adds 1 to the variable on the left, it is another useful trick for loops\n",
    "  print('Thanks for reminding me, I just packed', toothbrushes_packed, '!')\n",
    "elif toothbrushes_packed == 1:\n",
    "  print('All set! I already packed', toothbrushes_packed, '!')\n",
    "else:\n",
    "  print('Oops, looks like I put', toothbrushes_packed, 'in my bag. I\\'ll just take one.') # we need to put \\ in front of ' so that Python treats ' as a character and not the end of the string\n",
    "  toothbrushes_packed=1 # reset the variable back to 1\n",
    "\n",
    "toothbrushes_packed"
   ]
  },
  {
   "cell_type": "code",
   "execution_count": null,
   "metadata": {},
   "outputs": [],
   "source": [
    "# Understanding check: consider the list my_cust you created above.\n",
    "# Write a condition to check the customer's age. If larger that or equal to 18,\n",
    "# print the message 'Thank you. You are old enough to vote.' Else, print the \n",
    "# message 'Sorry, you are not eóld enough to vote.'"
   ]
  },
  {
   "cell_type": "markdown",
   "metadata": {
    "id": "eFd4S6b5QowM"
   },
   "source": [
    "### Loops\n",
    "\n",
    "Loops iterate through a sequence of items (such as a list) and perform an action on each item.\n",
    "\n",
    "For-loops are the most common type of loop that you will encounter. They take the following form:\n",
    "\n",
    "```\n",
    "for dummy_item_name in sequence:\n",
    "  ... dummy_item_name ...\n",
    "```\n",
    "\n",
    "To process this, Python will take each item in sequence one by one and temporarily assign it to the variable name `dummy_item_name`. The action on the next line will then take that item by using dummy_item_name execute it accordingly.\n",
    "\n",
    "1.   Take the first item in the sequence and temporarily label it `dummy_item_name`\n",
    "2.   Perform _action_ on the item with it labelled as `dummy_item_name`\n",
    "3.   Repeat steps 1-2 for the next item until the sequence is complete\n",
    "\n",
    "We have already seen this type of structure in list comprehensions which are like a condensed for-loop to create new lists from items of another list."
   ]
  },
  {
   "cell_type": "code",
   "execution_count": null,
   "metadata": {
    "colab": {
     "base_uri": "https://localhost:8080/",
     "height": 34
    },
    "id": "hC0VIT1PRHD7",
    "outputId": "d83d6680-3cd8-4a13-ab84-40a354bc4d84"
   },
   "outputs": [],
   "source": [
    "place_name_length=[] # initializing an empty list before the loop allows us to simply add items to it within the loop\n",
    "\n",
    "for place in places_to_visit: # for each item in places_to_visit, assign the temporary label 'place'\n",
    "  place_name_length.append(len(place)) # apply this action to each item 'place' one by one\n",
    "\n",
    "place_name_length"
   ]
  },
  {
   "cell_type": "code",
   "execution_count": null,
   "metadata": {
    "colab": {
     "base_uri": "https://localhost:8080/",
     "height": 84
    },
    "id": "Pkg5hq8EwFeF",
    "outputId": "171277fc-42f9-42bc-de69-37b556e5600a"
   },
   "outputs": [],
   "source": [
    "for index, place in enumerate(places_to_visit): # enumerate() gives an index number for each item in the list\n",
    "  print('My number', index+1, 'place to visit is', place) # since indexing starts at 0, it is more natural when counting for us to add 1"
   ]
  },
  {
   "cell_type": "code",
   "execution_count": null,
   "metadata": {
    "colab": {
     "base_uri": "https://localhost:8080/",
     "height": 101
    },
    "id": "ya5Bl0cFRpAG",
    "outputId": "91745d72-c8a7-4209-b4c5-2e0c75950e9e"
   },
   "outputs": [],
   "source": [
    "num_list = [10, 2, 6, 4, 8]\n",
    "\n",
    "for num in sorted(num_list):\n",
    "  print(num**2)"
   ]
  },
  {
   "cell_type": "code",
   "execution_count": null,
   "metadata": {
    "colab": {
     "base_uri": "https://localhost:8080/",
     "height": 34
    },
    "id": "uAHc_1qRMkXv",
    "outputId": "9da0d7ec-0e8f-4b53-e0c2-8ff511c54f62"
   },
   "outputs": [],
   "source": [
    "# Check your understanding:\n",
    "\n",
    "# create the two variables: apples with the value 10 and oranges as \n",
    "# 2. Create an if-statement which returns 'sweet, more apples!' if apples is larger than oranges, \n",
    "# otherwise 'darn, more oranges'\n",
    "\n",
    "\n",
    "\n",
    "# change oranges to be 100, and check that the output changes"
   ]
  },
  {
   "cell_type": "code",
   "execution_count": null,
   "metadata": {
    "colab": {
     "base_uri": "https://localhost:8080/",
     "height": 34
    },
    "id": "PsaDMlR2NYxx",
    "outputId": "8d094c6b-daf0-429b-acac-eee6d67f328a"
   },
   "outputs": [],
   "source": [
    "# Check your understanding:\n",
    "\n",
    "# Use an if-statement to check if the Boolean value of True is equal to 1, \n",
    "# if it is, print 'So... True is the same as 1 in Python', otherwise it prints 'Wait, what?'\n",
    "\n"
   ]
  },
  {
   "cell_type": "code",
   "execution_count": null,
   "metadata": {
    "colab": {
     "base_uri": "https://localhost:8080/",
     "height": 34
    },
    "id": "wkuYgxUKN-11",
    "outputId": "8c5cdc73-68f0-4357-c6e3-50d67c2d3bf5"
   },
   "outputs": [],
   "source": [
    "# Check your understanding:\n",
    "\n",
    "# Create a for-loop that returns a list of squares (call this some_nums_sq) for the list some_nums = [20, 2, 22, 0.2]\n",
    "\n",
    "some_nums = [20, 2, 22, 0.2]\n",
    "\n",
    "some_nums_sq = []\n",
    "for n in some_nums:\n",
    "    some_nums_sq.append(n ** 2)\n",
    "\n",
    "some_nums_sq"
   ]
  },
  {
   "cell_type": "markdown",
   "metadata": {
    "id": "Xwy39al3PV2e"
   },
   "source": [
    "## Dictionaries\n",
    "\n",
    "Dictionaries are another data type. While they may look like lists, their main focus is storing items as key-value pairs. There is a label (key) which corresponds with a value or set of values.\n",
    "\n",
    "This system makes it very easy to look up values according to specific keys. If you imagine key's as column (or row) names, values could be column (row) values. As you can imagine, this means that many dictionaries are very easy to turn into common data structures which we will be using later on.\n",
    "\n",
    "Dictionaries have the following form:\n",
    "\n",
    "\n",
    "```\n",
    "dict_1 = {key_1 : value_1, key_2 : value_2} # for one value per key\n",
    "dict_2 = {key_1:[value_1_1, value_1_2,...], key_2:[value_2_1, value_2_2,...], ...} # use lists for multiple values per key\n",
    "```\n",
    "It is also possible for a key's value to be another dictionary (dictionary-ception!). You may see this in practice.\n",
    "\n",
    "Let's take a look at some examples of dictionaries and how to use them.\n",
    "\n"
   ]
  },
  {
   "cell_type": "code",
   "execution_count": 92,
   "metadata": {
    "id": "G966HNkSQVo3"
   },
   "outputs": [],
   "source": [
    "new_dict = {} # how to initialize a new dictionary for a loop"
   ]
  },
  {
   "cell_type": "code",
   "execution_count": null,
   "metadata": {
    "colab": {
     "base_uri": "https://localhost:8080/",
     "height": 34
    },
    "id": "KOZ7kb2FSSei",
    "outputId": "ba8a8d07-8d96-499d-f2df-4720f83901f0"
   },
   "outputs": [],
   "source": [
    "l_countries_capitals = {'Lesotho' : 'Matheru', 'Laos' : 'Vientiane', 'Luxembourg' : 'Luxembourg'}\n",
    "\n",
    "l_countries_capitals.keys() # check the keys of the dictionary"
   ]
  },
  {
   "cell_type": "code",
   "execution_count": null,
   "metadata": {
    "colab": {
     "base_uri": "https://localhost:8080/",
     "height": 34
    },
    "id": "Qk2fl-z5StZJ",
    "outputId": "c0156402-af47-4c83-bcbd-9331b220f8ad"
   },
   "outputs": [],
   "source": [
    "l_countries_capitals.values() # check values in the dictionary"
   ]
  },
  {
   "cell_type": "code",
   "execution_count": null,
   "metadata": {
    "colab": {
     "base_uri": "https://localhost:8080/",
     "height": 35
    },
    "id": "6rq1xIh_SxQR",
    "outputId": "3f9d167e-cc85-4d16-cda1-ee1ca489592e"
   },
   "outputs": [],
   "source": [
    "l_countries_capitals['Laos'] # look up a specific value"
   ]
  },
  {
   "cell_type": "code",
   "execution_count": null,
   "metadata": {
    "colab": {
     "base_uri": "https://localhost:8080/",
     "height": 84
    },
    "id": "4oFgBkboTZE5",
    "outputId": "51d803b4-adaa-4c4e-d2e9-ec6ace090d77"
   },
   "outputs": [],
   "source": [
    "l_countries_capitals['Belgium'] = 'Ghent' # add a new value, then edit it later\n",
    "\n",
    "l_countries_capitals # note that unlike lists, order in dictionaries is not fixed, France was not attached at the end"
   ]
  },
  {
   "cell_type": "code",
   "execution_count": null,
   "metadata": {
    "colab": {
     "base_uri": "https://localhost:8080/",
     "height": 84
    },
    "id": "LBQNTccnTx9B",
    "outputId": "af9ec42f-1181-4549-c073-278a2e6b88e2"
   },
   "outputs": [],
   "source": [
    "l_countries_capitals['Belgium'] = 'Brussels'\n",
    "\n",
    "l_countries_capitals"
   ]
  },
  {
   "cell_type": "code",
   "execution_count": null,
   "metadata": {
    "colab": {
     "base_uri": "https://localhost:8080/",
     "height": 34
    },
    "id": "TMqZV-EYVxQl",
    "outputId": "dbb50cbd-775f-4f1e-b1ce-c85045ed40a6"
   },
   "outputs": [],
   "source": [
    "'Luxembourg' in l_countries_capitals # check if the key exists in the dictionary with in"
   ]
  },
  {
   "cell_type": "code",
   "execution_count": null,
   "metadata": {
    "colab": {
     "base_uri": "https://localhost:8080/",
     "height": 34
    },
    "id": "ygETg5I1UuJf",
    "outputId": "dc84f141-c75b-416b-9f81-a58f56cedd21"
   },
   "outputs": [],
   "source": [
    "if 'Latvia' in l_countries_capitals: # this is very useful for creating if-statements\n",
    "  print('How nice, we have Latvia!')\n",
    "else:\n",
    "  print('Aww, we should add them!')"
   ]
  },
  {
   "cell_type": "code",
   "execution_count": null,
   "metadata": {
    "colab": {
     "base_uri": "https://localhost:8080/",
     "height": 84
    },
    "id": "4D7Z8X0aU-ll",
    "outputId": "6cc54ccd-483e-42f4-c28f-91743bcdd50d"
   },
   "outputs": [],
   "source": [
    "for key, val in l_countries_capitals.items(): # iterate over a dictionary using .items(), this will return a tuple of (key, value) which we can break up immediately\n",
    "  print('So, we have', val, 'which is the capital of', key, '.')"
   ]
  },
  {
   "cell_type": "code",
   "execution_count": null,
   "metadata": {
    "colab": {
     "base_uri": "https://localhost:8080/",
     "height": 34
    },
    "id": "SwjYwpfRCacS",
    "outputId": "84f0ffff-d816-4c1f-91ee-57188ec0ce04"
   },
   "outputs": [],
   "source": [
    "# Check your understanding: create a dictionary called aus_animals whose keys are the strings mammal, \n",
    "# reptile and bird.\n",
    "# Assign the values crocodile, emu and kangaroo to the correct key\n",
    "\n",
    "\n",
    "\n",
    "# look up the keys of your dictionary using the right method\n",
    "\n"
   ]
  },
  {
   "cell_type": "code",
   "execution_count": null,
   "metadata": {
    "colab": {
     "base_uri": "https://localhost:8080/",
     "height": 34
    },
    "id": "Nf8FnBOaD5jg",
    "outputId": "dc0f7d97-8e8f-4ca5-a196-2af9cfb2189f"
   },
   "outputs": [],
   "source": [
    "# look up the values of your dictionary using the right method\n",
    "\n"
   ]
  },
  {
   "cell_type": "code",
   "execution_count": null,
   "metadata": {
    "colab": {
     "base_uri": "https://localhost:8080/",
     "height": 35
    },
    "id": "gVqCYBWTD_Ey",
    "outputId": "32a7b811-8460-4816-d982-468fd7394299"
   },
   "outputs": [],
   "source": [
    "# check the value stored under the key \"bird\"\n",
    "\n"
   ]
  },
  {
   "cell_type": "code",
   "execution_count": 105,
   "metadata": {
    "id": "8HIs3XUHEE3R"
   },
   "outputs": [],
   "source": [
    "# change the value of the mammal key to koala\n",
    "\n"
   ]
  },
  {
   "cell_type": "code",
   "execution_count": null,
   "metadata": {
    "colab": {
     "base_uri": "https://localhost:8080/",
     "height": 84
    },
    "id": "D2bAl6jhEVb5",
    "outputId": "a70a8b31-a313-4b0d-aeed-a731ff3d71ca"
   },
   "outputs": [],
   "source": [
    "# use the .update() method on aus_animals and use the following dictionary as the argument and \n",
    "# describe the change:\n",
    "\n",
    "more_animals = {\"amphibian\": \"tree frog\", \"bird\": \"cockatoo\"}\n",
    "\n"
   ]
  },
  {
   "cell_type": "code",
   "execution_count": null,
   "metadata": {
    "colab": {
     "base_uri": "https://localhost:8080/",
     "height": 84
    },
    "id": "uD8i0iNzGYuA",
    "outputId": "08669e9e-471b-4d1b-e28b-3877974666f0"
   },
   "outputs": [],
   "source": [
    "# use a for loop to print the following sentence for each animal: \n",
    "# A classic Australian [animal type] is a [example animal]\n",
    "\n"
   ]
  },
  {
   "cell_type": "markdown",
   "metadata": {
    "id": "iFNdnj8H-lXu"
   },
   "source": [
    "## Functions\n",
    "\n",
    "There are a large number of functions available in Python which perform specific tasks. We already saw one function, `print( )`. If a function for your purpose doesn't exist, you can always create your own very simply.\n",
    "\n",
    "Inside the parentheses of functions are **arguments**. These give more details on what actions the function should take. Arguments are separated by commas."
   ]
  },
  {
   "cell_type": "markdown",
   "metadata": {
    "id": "EBkfaJvI5FAj"
   },
   "source": [
    "### Pre-Built Functions\n",
    "Python comes with some functions already built in for very basic uses. Most of the time, you will have to import other libraries to do pretty much anything with the program. Here are some examples of built-in functions in Python:"
   ]
  },
  {
   "cell_type": "code",
   "execution_count": null,
   "metadata": {
    "colab": {
     "base_uri": "https://localhost:8080/",
     "height": 34
    },
    "id": "hG6I5f_HJ2uC",
    "outputId": "b626a162-7fa6-4e09-e18d-6896d5f11f8b"
   },
   "outputs": [],
   "source": [
    "round(3.14, 1) # round takes 2 arguments, the first argument is the number to round and the second is the number of desired decimal places"
   ]
  },
  {
   "cell_type": "markdown",
   "metadata": {
    "id": "RV2Xqbb0KK0V"
   },
   "source": [
    "Some functions require you to specify the argument name as well. For example, `print( )` allows us to add a separator between items to print. You must specify this argument by typing `sep=` and identifying the character to print between items."
   ]
  },
  {
   "cell_type": "code",
   "execution_count": null,
   "metadata": {
    "colab": {
     "base_uri": "https://localhost:8080/",
     "height": 34
    },
    "id": "CxdykqDfLLdI",
    "outputId": "d3afaadb-2164-4699-d6a4-96ee61dbeeb8"
   },
   "outputs": [],
   "source": [
    "print('please', 'bring', 'snacks', sep='...')"
   ]
  },
  {
   "cell_type": "markdown",
   "metadata": {
    "id": "1sKrirW4ypCj"
   },
   "source": [
    "A full list of Python's built in functions are here: https://docs.python.org/3/library/functions.html .\n",
    "\n",
    "Some of the most important functions here are ones that force variables to become different types such as set( ), str( ) and range( ) among others. You wil learn about these types in the next topic of the tutorial.\n",
    "\n",
    "As mentioned, in most cases, you will be loading a **library** of new functions to add to these built-in functions. We will be looking at libraries soon."
   ]
  },
  {
   "cell_type": "markdown",
   "metadata": {
    "id": "dN7carUw5JLT"
   },
   "source": [
    "### Creating Functions\n",
    "\n",
    "It is very easy to create your own new function in Python. The following form is necessary:\n",
    "\n",
    "\n",
    "```\n",
    "def function_name (arg1, arg2 = default_value, arg3 ...):\n",
    "    ...arg1...arg2...arg3...\n",
    "    return val;\n",
    "```\n",
    "\n",
    "Let's look at some examples.\n",
    "\n",
    "\n",
    "\n"
   ]
  },
  {
   "cell_type": "code",
   "execution_count": null,
   "metadata": {
    "colab": {
     "base_uri": "https://localhost:8080/",
     "height": 34
    },
    "id": "ykf8qvBq5IY0",
    "outputId": "e96e0fb6-da6f-4cc6-a06f-228da5654839"
   },
   "outputs": [],
   "source": [
    "def div_two(x):\n",
    "    return x/2\n",
    "\n",
    "div_two(500)"
   ]
  },
  {
   "cell_type": "code",
   "execution_count": null,
   "metadata": {
    "colab": {
     "base_uri": "https://localhost:8080/",
     "height": 35
    },
    "id": "kutf8szB9Ytv",
    "outputId": "1a443136-410c-4d64-834d-3bfcfe2528a3"
   },
   "outputs": [],
   "source": [
    "def add_dramatic_pause(word1,word2, drama_level=1):\n",
    "  \"\"\" Puts a desired number of elipses between two words. \n",
    "  Very useful if you want a lot of drama. \"\"\" # using three quotation marks is standard to describe your function, this is a multi-line comment\n",
    "  dramatic_phrase = word1 + '...'*drama_level + word2\n",
    "  return dramatic_phrase\n",
    "\n",
    "add_dramatic_pause('I\\'ll come back', 'never!') # since drama_level has a default value of 1, we can omit it in the call if that level is ok"
   ]
  },
  {
   "cell_type": "code",
   "execution_count": null,
   "metadata": {
    "colab": {
     "base_uri": "https://localhost:8080/",
     "height": 35
    },
    "id": "1XUjV3sUBmFx",
    "outputId": "fb631198-4b20-41c8-80b8-6e59a28d955f"
   },
   "outputs": [],
   "source": [
    "last_words = add_dramatic_pause('please', 'bring me a cookie', drama_level=3) # by using return, you can assign the output to a variable\n",
    "\n",
    "last_words"
   ]
  },
  {
   "cell_type": "code",
   "execution_count": null,
   "metadata": {
    "colab": {
     "base_uri": "https://localhost:8080/",
     "height": 35
    },
    "id": "7iNSBowxES1T",
    "outputId": "a56ab4e1-5ec1-4685-ec82-dc7136dcffcc"
   },
   "outputs": [],
   "source": [
    "def create_pizza_controversy(): # your whole function can just be an execution of other functions\n",
    "  pizza_drama = add_dramatic_pause('In my opinion', 'pineapple doesn\\'t belong on pizza', drama_level=2)\n",
    "  return pizza_drama\n",
    "\n",
    "create_pizza_controversy()"
   ]
  },
  {
   "cell_type": "markdown",
   "metadata": {
    "id": "yBX1b_dURFka"
   },
   "source": [
    "## Getting Help\n",
    "\n",
    "Use `help()` to get more information about any class of an object or function. It is optional to use quotes for this. If you need help about a specific function in a libary, that library must first be installed and imported.\n",
    "\n",
    "If you type `help()` without an argument, Python will begin prompting you for what you need.\n",
    "\n",
    "While you will likely spend a long time browsing blogs for working examples or StackOverflow for solutions to problems, it is often a good idea to read up on different elements of Python from the direct site or creators of its libraries (https://www.python.org/about/help/). "
   ]
  },
  {
   "cell_type": "code",
   "execution_count": null,
   "metadata": {
    "colab": {
     "base_uri": "https://localhost:8080/",
     "height": 218
    },
    "id": "c6nz5PuluUu2",
    "outputId": "4c11442f-5b84-4e88-ee12-7428460cfb3d"
   },
   "outputs": [],
   "source": [
    "help(print)"
   ]
  },
  {
   "cell_type": "code",
   "execution_count": null,
   "metadata": {
    "colab": {
     "base_uri": "https://localhost:8080/",
     "height": 218
    },
    "id": "sWut1BxLuXDM",
    "outputId": "a86ce005-a797-48ee-f7c4-218cd5553581"
   },
   "outputs": [],
   "source": [
    "help('print')"
   ]
  },
  {
   "cell_type": "markdown",
   "metadata": {},
   "source": [
    "In case you are lazy with typing, just like me, you can also use the following shorthand form to get the same type of help output."
   ]
  },
  {
   "cell_type": "code",
   "execution_count": null,
   "metadata": {},
   "outputs": [],
   "source": [
    "print?"
   ]
  },
  {
   "cell_type": "markdown",
   "metadata": {
    "id": "zkLseolUvDlu"
   },
   "source": [
    "# Additional Information\n",
    "\n",
    "It is highly recommended to get familiar with the basics of Python to unlock its potential. Here is mostly official documentation for the aforementioned topics. There are many other blogs or videos online which explain much about these basics in great detail. It can be helpful to hear these concepts a few times from different people to fully grasp them.\n",
    "\n",
    "Jupyter Notebook Documentation: https://jupyter-notebook.readthedocs.io/en/stable/\n",
    "\n",
    "Simple Math Operations in Python: https://docs.python.org/2.4/lib/typesnumeric.html\n",
    "\n",
    "Python Documentation of Simple Data Types: https://docs.python.org/3/library/stdtypes.html\n",
    "\n",
    "Python Documentation for Loops: https://docs.python.org/3/tutorial/controlflow.html\n",
    "\n",
    "Python Documentation for Defining Functions: https://docs.python.org/3/tutorial/controlflow.html#defining-functions \n",
    "\n",
    "Overview of Object-Oriented Programming in Python for Beginners: www.youtube.com/watch?v=JeznW_7DlB0 (independent YouTuber)\n",
    "\n",
    "Python Documentation for Package Installation: https://packaging.python.org/tutorials/installing-packages/\n",
    "\n",
    "NumPy Beginner's Tutorial from the Official Website: https://numpy.org/doc/stable/user/absolute_beginners.html \n",
    "\n",
    "pandas Beginner's 10 min Tutorial from the Official Website: https://pandas.pydata.org/docs/user_guide/10min.html#min\n",
    "\n",
    "\n",
    "\n",
    "\n",
    "\n",
    "\n"
   ]
  },
  {
   "cell_type": "markdown",
   "metadata": {},
   "source": []
  }
 ],
 "metadata": {
  "colab": {
   "name": "1_nb_python_intro.ipynb",
   "provenance": []
  },
  "kernelspec": {
   "display_name": "bads",
   "language": "python",
   "name": "python3"
  },
  "language_info": {
   "codemirror_mode": {
    "name": "ipython",
    "version": 3
   },
   "file_extension": ".py",
   "mimetype": "text/x-python",
   "name": "python",
   "nbconvert_exporter": "python",
   "pygments_lexer": "ipython3",
   "version": "3.9.13"
  }
 },
 "nbformat": 4,
 "nbformat_minor": 4
}
