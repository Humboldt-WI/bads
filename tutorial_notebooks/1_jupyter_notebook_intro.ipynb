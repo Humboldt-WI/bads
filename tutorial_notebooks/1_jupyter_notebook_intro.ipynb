{
 "cells": [
  {
   "cell_type": "markdown",
   "id": "84bf70f4-915d-4738-b78c-700b27b06f38",
   "metadata": {},
   "source": [
    "[![Open In Colab](https://colab.research.google.com/assets/colab-badge.svg)](https://colab.research.google.com/github/Humboldt-WI/bads/blob/master/tutorial_notebooks/1_jupyter_notebook_intro.ipynb)"
   ]
  },
  {
   "cell_type": "markdown",
   "id": "ce46c39d-cfa8-4bca-82b2-c6364fd44819",
   "metadata": {},
   "source": [
    "# Tutorial 1 - Introduction to Jupyter Notebooks\n",
    "\n",
    "<hr>\n",
    "\n",
    "It allows you to write text, format that text using, e.g., **bold** or *italic* face, create bullet  <br>\n",
    "\n",
    "- A\n",
    "    - a\n",
    "    - b\n",
    "    - c\n",
    "- B\n",
    "- C\n",
    "\n",
    "and numbered lists <br>\n",
    "1. First\n",
    "2. Second\n",
    "3. Third\n",
    "\n",
    "and much more.\n",
    "\n",
    "**Just double-click a cell to see the underlying \"source code\", which you can easily edit.**"
   ]
  },
  {
   "cell_type": "markdown",
   "id": "caee1186",
   "metadata": {},
   "source": [
    "You can (and typically should) also organize your text/notebook using headers\n",
    "# Header 1\n",
    "## Header 2\n",
    "### Header 3\n",
    "#### Header 4"
   ]
  },
  {
   "cell_type": "markdown",
   "id": "a0525298",
   "metadata": {},
   "source": [
    "You can also include links to your favorite websites, such as our [GitHub repository](https://github.com/Humboldt-WI). "
   ]
  },
  {
   "cell_type": "markdown",
   "id": "b11e1565",
   "metadata": {},
   "source": [
    "A nice feature of notebooks, especially for quantitative studies, is that you can include mathematical notation using `LaTex`. \n",
    "<br>\n",
    "For example, say you want to incorporate the famous *Cobb–Douglas* function in your notebook, you can do so as follows: \n",
    "\n",
    "$$ Y \\left(L,K \\right) =AL^\\beta K^\\alpha$$\n",
    "\n",
    "where:\n",
    "- $Y =$ total production (the real value of all goods produced in a year or 365.25 days)\n",
    "- $L =$ labour input (person-hours worked in a year or 365.25 days)\n",
    "- $K =$ capital input (a measure of all machinery, equipment, and buildings; the value of capital input divided by the price of capital)\n",
    "- $A =$ [total factor productivity](https://en.wikipedia.org/wiki/Total_factor_productivity)\n",
    "- $0 \\le \\alpha \\le 1$ and $0 \\le \\beta \\le 1$ are the output elasticities of capital and labor, respectively. These values are constants determined by available technology.\n",
    "\n",
    "In case you appreciate a refresher about what was the Cobb-Douglas production function, you could visit the corresponding [Wikipedia page](https://en.wikipedia.org/wiki/Cobb%E2%80%93Douglas_production_function)."
   ]
  },
  {
   "cell_type": "markdown",
   "id": "973d108b-a6f1-478e-88f8-771368aebcf7",
   "metadata": {},
   "source": [
    "# So what about programming?\n",
    "\n",
    "Indeed, a notebook is more than a basic text editor. The real purpose of a notebook is to mix text with Python codes. Below is an example of a `code cell`. You can execute the code by moving the mouse cursor into the code cell and then clicking the **play button** in the command bar. Afterwards, the output of the code (if any) will be incorporated into your notebook right below the code cell.\n"
   ]
  },
  {
   "cell_type": "code",
   "execution_count": null,
   "id": "4fa8fca5-9c87-4023-9c1f-24f236457cf7",
   "metadata": {},
   "outputs": [],
   "source": [
    "message = \"Hello World\"\n",
    "print(message)"
   ]
  },
  {
   "cell_type": "markdown",
   "id": "59c0656b-5ad6-419f-83f5-f1e8faca72a6",
   "metadata": {},
   "source": [
    "Now try to run the next code cell."
   ]
  },
  {
   "cell_type": "code",
   "execution_count": 4,
   "id": "a9d69dc7-31b5-4845-890c-30bb7c7dfb2e",
   "metadata": {},
   "outputs": [],
   "source": [
    "# This is also a code cell. Try to execute it."
   ]
  },
  {
   "cell_type": "markdown",
   "id": "18a3bd7a-9bbc-4826-864e-00795fc99a66",
   "metadata": {},
   "source": [
    "No output from this code :(\n",
    "\n",
    "Note the hashtag in the above code cell. When executing Python code, the *Python interpreter* will ignore every statement that follows a hashtag. So beginning a line in a code cell with a hashtag means that this line will not be executed. The purpose of the hashtag in Python is to annotate your code. In programmers' jargon, we call those annotations *comments*. So the hashtag is the character that allows you to *comment* your code. \n",
    "You should make extensive use of comments. They will help you and others understand your codes.  Here is the previous example again but this time with comments."
   ]
  },
  {
   "cell_type": "code",
   "execution_count": null,
   "id": "1140d8bd-457b-443b-902d-00bebec5fc83",
   "metadata": {},
   "outputs": [],
   "source": [
    "# Basic demo to using Python \n",
    "message = \"Hello World (again)\"  # here, we define a variable that stores some text\n",
    "print(message)  # the function print() will - surprise - print out its argument, which we supply within the brackets"
   ]
  },
  {
   "cell_type": "markdown",
   "id": "39ae3924-3e1d-4855-8964-570894bbf990",
   "metadata": {},
   "source": [
    "# Well, this does not impress me much\n",
    "\n",
    "Agreed, all previous demos may not have excited you very much. One (out of many) factors that has made Python popular is its ability to create enticing visualizations. To that end, however, we need to extend the functionality of vanilla Python by **importing a library**, which brings plotting functionality to the table. The corresponding codes looks like so."
   ]
  },
  {
   "cell_type": "code",
   "execution_count": 4,
   "id": "864a5adc-33fd-45e6-b3ab-27b2101d57e2",
   "metadata": {},
   "outputs": [],
   "source": [
    "import matplotlib.pyplot as plt  # declare that you want to use plotting functionality available in the library matplotlib"
   ]
  },
  {
   "cell_type": "markdown",
   "id": "077431af-23ac-4697-9414-a48a987acb32",
   "metadata": {},
   "source": [
    "Don't worry too much about the above code for now. But make sure to have executed the code cell before moving on. By now, you should remember how to execute a code cell."
   ]
  },
  {
   "cell_type": "markdown",
   "id": "f1cddb14-ed15-4671-8a09-635fb9f2303b",
   "metadata": {},
   "source": [
    "Now, to hint at what Python can do in terms of visualizations, run the next code cell. It contains a bunch of statements to plot the [Rosenbrock function](https://en.wikipedia.org/wiki/Rosenbrock_function). It is fine if you have not heard about this function before. The only reason to consider it here is that its shape look somewhat nice, which is the reason for the function also being known as the *banana function*. \n",
    "\n",
    "To plot the function, simply run the next code cell. It is safe to ignore the code, which might look overwhelming at first glance."
   ]
  },
  {
   "cell_type": "code",
   "execution_count": null,
   "id": "031f4961-982a-4ef3-a5f6-7ca74c884519",
   "metadata": {
    "jupyter": {
     "source_hidden": true
    }
   },
   "outputs": [],
   "source": [
    "# Python code to create a plot of the Rosenbrock function\n",
    "import numpy as np\n",
    "\n",
    "# Define the Rosenbrock function\n",
    "def rosenbrock(x, y):\n",
    "    return (1 - x)**2 + 100*(y - x**2)**2\n",
    "\n",
    "# Create a mesh grid of x and y values\n",
    "x = np.linspace(-2, 2, 100)\n",
    "y = np.linspace(-1, 3, 100)\n",
    "X, Y = np.meshgrid(x, y)\n",
    "\n",
    "# Calculate the z values\n",
    "Z = rosenbrock(X, Y)\n",
    "\n",
    "# Plot the 3D surface\n",
    "fig = plt.figure(figsize=[12,12])\n",
    "ax = plt.axes(projection=\"3d\")\n",
    "ax.plot_surface(X, Y, Z, cmap=\"viridis\")\n",
    "ax.set_xlabel(\"x\")\n",
    "ax.set_ylabel(\"y\")\n",
    "ax.set_zlabel(\"f(x, y)\")\n",
    "plt.title(\"Rosenbrock function\")\n",
    "plt.show()\n"
   ]
  },
  {
   "cell_type": "markdown",
   "id": "6d359ed3-fc1f-4188-9781-e41cb63ff904",
   "metadata": {},
   "source": [
    "Just in case you are interested in the mathematical underpinnings of the *Rosenbrock function*, here is how it is defined:\n",
    "\n",
    "$$f(x, y) = (1 - x)^2 + 100(y - x^2)^2$$\n",
    "\n",
    "To be clear, the point of the demo is neither to introduce a specific mathematical function nor to show code you cannot yet understand. Instead, the whole purpose of the exercise is to hint at what Python and notebooks can do. No more, no less.\n",
    "\n",
    "Speaking about showcasing functionality, the library we used for the above example `matplotlib` comes with a [comprehensive documentation](https://matplotlib.org/), which tells you everything you might want to know. One nice feature of the documentation is that it has many examples. Check out the [website](https://matplotlib.org/), click on **Examples**, pick one of the exemplary plots - just pick whichever you like best - and copy & paste the Python code into the below code cell. Then run it to create another plot. "
   ]
  },
  {
   "cell_type": "code",
   "execution_count": null,
   "id": "53ad3619-7004-49f8-aba8-50230ca1fc1b",
   "metadata": {},
   "outputs": [],
   "source": [
    "# Copy & paste code to create a plot from the matplotlib documentation\n",
    "import matplotlib.pyplot as plt\n",
    "import numpy as np\n",
    "\n",
    "plt.style.use('_mpl-gallery')\n",
    "\n",
    "# Make data\n",
    "n = 20\n",
    "x = np.sin(np.linspace(0, 2*np.pi, n))\n",
    "y = np.cos(np.linspace(0, 2*np.pi, n))\n",
    "z = np.linspace(0, 1, n)\n",
    "\n",
    "# Plot\n",
    "fig, ax = plt.subplots(subplot_kw={\"projection\": \"3d\"})\n",
    "ax.stem(x, y, z)\n",
    "\n",
    "ax.set(xticklabels=[],\n",
    "       yticklabels=[],\n",
    "       zticklabels=[])\n",
    "\n",
    "plt.show()"
   ]
  },
  {
   "cell_type": "markdown",
   "id": "5f3eaf47-84b3-46e1-a2a5-66c82b078109",
   "metadata": {},
   "source": [
    "# I'm am still not impressed\n",
    "Ok, if you are one of the more demanding characters - note the irony - let us examine what happens if we combine Python, notebooks, and **GenAI**.\n",
    "\n",
    "I guess you have heard about ChatGPT. Die you know that it is quite fluent in Python? It is. Remember we mentioned the Cobb–Douglas production function above? This is a bivariate function, right? It has two inputs, labor and capital, which determine the output, i.e., production. We should be able to visualize the shape of the function in a 3D plot, no? After all, we were able to visualize the *Rosenbrock* function. The same approach should work for the *Cobb-Douglas* function. \n",
    "\n",
    "Here is a prompt you could try but feel free to adjust it and try out different ways of prompting ChatGPT to generate Python code for creating a plot of the *Cobb-Douglas* production function. \n",
    "```\n",
    "Please write Python code to create a 3D plot of the cobb-douglas production function. Make sure that the generated codes loads relevant libraries to execute properly when copy-pasted into a Jupyter notebook. Also annotate your codes using comments.\n",
    "\n",
    "```"
   ]
  },
  {
   "cell_type": "code",
   "execution_count": null,
   "id": "e7555a93-8a91-4b10-939d-0bd1dc7a325d",
   "metadata": {},
   "outputs": [],
   "source": [
    "# Empty code cell to which you can copy-paste ChatGPT output"
   ]
  }
 ],
 "metadata": {
  "kernelspec": {
   "display_name": "ipml",
   "language": "python",
   "name": "python3"
  },
  "language_info": {
   "codemirror_mode": {
    "name": "ipython",
    "version": 3
   },
   "file_extension": ".py",
   "mimetype": "text/x-python",
   "name": "python",
   "nbconvert_exporter": "python",
   "pygments_lexer": "ipython3",
   "version": "3.9.13"
  }
 },
 "nbformat": 4,
 "nbformat_minor": 5
}
