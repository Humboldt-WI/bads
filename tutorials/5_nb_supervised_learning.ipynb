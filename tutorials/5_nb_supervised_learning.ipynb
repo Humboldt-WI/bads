{
 "cells": [
  {
   "cell_type": "markdown",
   "metadata": {
    "id": "Ka20bzp6PcNj"
   },
   "source": [
    "[![Open In Colab](https://colab.research.google.com/assets/colab-badge.svg)](https://colab.research.google.com/github/Humboldt-WI/bads/blob/master/tutorials/5_nb_supervised_learning.ipynb) \n"
   ]
  },
  {
   "cell_type": "markdown",
   "metadata": {
    "id": "swSaDjWvNDnY"
   },
   "source": [
    "# Chapter 5 - Algorithms for supervised learning \n",
    "The fifth chapter revisits two popular algorithms for supervised learning, the logistic regression model and classification and regression trees (CART). We examine their mathematical and statistical underpinnings to fully understand how logit and CART craft a model. Of course, we also exemplify how to use both algorithms in practice together with `sklearn`.  \n",
    "\n",
    "The outline of the tutorial is as follows:\n",
    "- Logistic regression\n",
    "  - The logistic function\n",
    "  - Maximum likelihood estimation\n",
    "  - Logistic regression from scratch\n",
    "  - Libraries for logistic regression\n",
    "- Decision trees\n",
    "  - Implementing a tree algorithm from scratch\n",
    "  - Decision trees with `sklearn`"
   ]
  },
  {
   "cell_type": "markdown",
   "metadata": {
    "id": "HjtJpOmnVf2K"
   },
   "source": [
    "# Logistic regression\n",
    "We learned from the lecture that the logistic regression model, or, in brief, logit model is the 'go-to' model for regression problems with a discrete target variable. Such problems are called classification problems. Formally speaking, logistic regression belongs to the wider family of **generalized linear models (GLM)**. It is a generalization of a linear regression model in that it embodies the well-known linear form $\\beta^{\\top} x$ and adds a (non-linear) **link function** that connects the linear form to the target variable. In the case of logistic regression, the link function is the logistic function. Other GLMs use different link functions, but these are out of scope. So let us first examine the logistic function."
   ]
  },
  {
   "cell_type": "markdown",
   "metadata": {
    "id": "k68aGAQ_Vf2L"
   },
   "source": [
    "## The logistic function\n",
    "We implement the logistic function as a custom Python function and then generate some data to plot the function over the interval [-4, -3, ..., 4]. \n",
    "Recall that the form of the function for input variable $z$ is $f(z) = \\frac{1}{1 + \\exp^{-z}}$. "
   ]
  },
  {
   "cell_type": "code",
   "execution_count": 15,
   "metadata": {
    "colab": {
     "base_uri": "https://localhost:8080/",
     "height": 310
    },
    "id": "xSZq_kegVf2L",
    "outputId": "c5597ed2-5c41-41c6-c844-3724c014ea39"
   },
   "outputs": [
    {
     "data": {
      "image/png": "[encoded data removed]",
      "text/plain": [
       "<Figure size 432x288 with 1 Axes>"
      ]
     },
     "metadata": {
      "needs_background": "light"
     },
     "output_type": "display_data"
    }
   ],
   "source": [
    "import numpy as np\n",
    "import matplotlib.pyplot as plt\n",
    "\n",
    "# we implement the logistic function as a custom function\n",
    "def logistic_fun(z):\n",
    "    return 1/(1+np.exp(-z))\n",
    "\n",
    "\n",
    "# create some data for plotting\n",
    "z = np.linspace(-4, 4)\n",
    "\n",
    "fz = logistic_fun(z)\n",
    "plt.title(\"The logistic function exemplified\", fontsize='small')\n",
    "plt.plot(z, fz);\n",
    "plt.plot(z, np.repeat(0.5, len(z)), \"--\");  #  just for fun, add a horizontal line to highlight 0.5\n",
    "plt.ylabel(\"$f(z)$\")\n",
    "plt.xlabel(\"z\")\n",
    "plt.show()"
   ]
  },
  {
   "cell_type": "markdown",
   "metadata": {
    "id": "0QgT5fS6Vf2S"
   },
   "source": [
    "It is a good exercise to check how changes in the above implementation change the plot. For example, you could add a constant multiplier and calculate $e^{(-\\alpha z)} $ instead of $e^{(-z)}$, and check how the shape of the function changes with $\\alpha$. \n"
   ]
  },
  {
   "cell_type": "markdown",
   "metadata": {
    "id": "gzDNTwuGVf2T"
   },
   "source": [
    "## Maximum likelihood estimation & gradient descent\n",
    "Estimating a logistic regression model involves minimizing the negative **log-likelihood** function. We discussed the maximum likelihood approach in the lecture. However, experience suggests that some students find this part a little hard  to digest, probably because of its level of formality. We will try to demystify the model by implementing it from scratch. For starters, however, recall that logistic regression models the probability of observing a certain state of our target variable $y$ by means of the logistic function. Assuming a zero-one coded binary target variable $y \\in {0, 1}$, we can write the logit model as follows:\n",
    "\n",
    "$$ p \\left( y=1|x \\right) = \\frac{1}{1+e^{-z}}, \\text{  and  }  p \\left( y=0|x \\right) = 1- p \\left( y=1|x \\right) $$\n",
    "\n",
    "We define $z$ as a linear, additive function of the features $x$: \n",
    "$$ z = \\hat{\\beta}^{\\top}x $$. \n",
    "\n",
    "Note that in the above equation, we assume for notational convenience that the feature vector $x$ includes a constant. This way, we do not need to explicitly consider the intercept. Assuming our data fulfills the IID assumption, we can write the log-likelihood function: \n",
    "\n",
    "$$ \\mathcal{L} = \\sum^{n}_{i=1} \\left[ y_i \\log \\left(p \\left( y=1|x \\right) \\right) + \\left(1-y_i\\right) \\log \\left(1-p \\left( y=1|x \\right) \\right)\\right]. $$\n",
    "\n",
    "Now we need to find the values of $ \\hat{\\beta} $ that minimize this function. To that end, we calculate the derivative of the log likelihood function with respect to $ \\hat{\\beta} $. We calculate this derivative using the chain rule:\n",
    "\n",
    "$$ \\frac{\\partial \\mathcal{L}}{\\partial \\hat{\\beta_j}} = \\frac{\\partial \\mathcal{L}}{\\partial p} \\cdot \\frac{\\partial p}{\\partial z} \\cdot \\frac{\\partial z}{\\partial \\hat{\\beta}} $$\n",
    "\n",
    "Let's first calculate the three derivatives which we will need on the right hand side:\n",
    "\n",
    "\\begin{align*} \n",
    "\\frac{\\partial \\mathcal{L}}{\\partial p} &= \\frac{y}{p} - \\frac{1-y}{1-p} \\\\\n",
    "\\frac{\\partial p}{\\partial z} &= \\frac{1}{1+e^{-z}} \\cdot  \\Bigg( 1 - \\frac{1}{1+e^{-z}} \\Bigg) = \\Big( p \\cdot  \\big( 1 - p \\big) \\Big) \\\\\n",
    "\\frac{\\partial z}{\\partial \\hat{\\beta}} &= x\n",
    "\\end{align*}\n",
    "\n",
    "\n",
    "Now we can multiply these three together to find the derivative of the log likelihood function with respect to $ \\hat{\\beta} $ :\n",
    " \n",
    "\\begin{align*}\n",
    " \\frac{\\partial \\mathcal{L}}{\\partial \\hat{\\beta}} &= \\frac{\\partial \\mathcal{L}}{\\partial p} \\cdot \\frac{\\partial p}{\\partial z} \\cdot \\frac{\\partial z}{\\partial \\hat{\\beta}} \\\\\n",
    " &= \\Big( \\frac{y}{p} - \\frac{1-y}{1-p} \\Big) \\cdot \\Big( p \\cdot  \\big( 1 - p \\big) \\Big) \\cdot x \\\\\n",
    " &= (y(1-p) - p(1-y)) \\cdot x \\\\ \n",
    " &= (y - p) \\cdot x\n",
    "\\end{align*}\n",
    "\n",
    "And voilà! At the end, we have a much simpler formula to deal with:\n",
    "$$ \\frac{\\partial \\mathcal{L}}{\\partial \\hat{\\beta}} = (y - p \\left( y=1|x \\right) ) \\cdot x $$\n",
    "\n",
    "The next step is to equate our derivate of zero and solve for the unknown parameter vector $\\hat{\\beta}$. However, different from linear regression, it turns out that there is no analytical solution. Therefore, we need to use another approach to find the optimal values of $\\hat{\\beta}$, that is the values that maximize the likelihood function.\n",
    "\n",
    "**Gradient descent** is the process of iteratively making changes to $ \\hat{\\beta} $ to assess which values lower the derivative value and, therefore, hopefully brings us closer to a minimum. Note that this may unfortunately not be the global minimum of the function but rather a local minimum. This is especially true if we have many coefficients or if any relationships are very complicated.\n",
    "\n",
    "Additionally, if we change $ \\hat{\\beta} $ by too much in one iteration, we may end up overshooting a minimum which is counterproductive. In order to avoid this, we multiply the total difference by the learning rate $ \\eta $ to dampen the update to $ \\hat{\\beta} $. If the learning rate is too low however, we may end up sabotaging ourselves as the function loses too much momentum in its updates. It is a good idea to experiment with a few different rates to see which one works best with your data.\n",
    "\n",
    "Here is an equation which represents gradient descent:\n",
    "$$ \\hat{\\beta}_j = \\hat{\\beta}_{j-1} - \\eta \\frac{\\partial \\mathcal{L}}{\\partial \\hat{\\beta}_{j-1}} $$\n",
    "\n",
    "whereby we use the index $j$ to refer to individual iterations. For example, the above equation states how a new value of \n",
    "$\\hat{\\beta}_j$ depends on the value calculated in the previous iteration $\\hat{\\beta}_{j-1}$. Also note how our update rule embodies the value of our regression coefficients from the previous iteration with the gradient of our loss function $\\mathcal{L}$ with respect to $\\hat{\\beta}_{j-1}$. Essentially, the above equation says that, to update our regression parameters $\\hat{\\beta}$, take their values from the previous iteration and change these in the direction of the negative of the gradient, which is the direction in that our loss function decreases the most. The degree to which the new values of $\\hat{\\beta}$ depend on the previous values and the gradient, in other words the magnitude of the update, depend on the parameter $\\eta$, which is called the learning rate. \n",
    "\n",
    "For a more detailed explanation, check out the [Wikipedia page for *gradient descent*](https://en.wikipedia.org/wiki/Gradient_descent). It will be crucial for you to understand this process, so take advantage of online resources to improve your understanding. There are also many ways to modify this process like stochastic gradient descent or adaptive learning rates which you might come across in future studies."
   ]
  },
  {
   "cell_type": "markdown",
   "metadata": {
    "id": "ETsdtRdkRLin"
   },
   "source": [
    "## Logistic Regression from scratch\n",
    "\n",
    "We can create a logistic regression function from scratch based on this [medium article](https://medium.com/@martinpella/logistic-regression-from-scratch-in-python-124c5636b8ac). First, we need some data. To that end, we will re-use the approach for synthetic data creation from [Tutorial 3](https://github.com/Humboldt-WI/bads/blob/master/tutorials/3_nb_predictive_analytics.ipynb). The following code wraps up the Tutorial #3 codes in a custom function. Alternatively, we could have used the function `make_classification` from `sklearn`. We like our approach a little better but feel most free to change the data generation approach and try out the example using the `sklearn` data."
   ]
  },
  {
   "cell_type": "markdown",
   "metadata": {
    "id": "PWv60eLVDmyT"
   },
   "source": [
    "### Synthetic data generation"
   ]
  },
  {
   "cell_type": "code",
   "execution_count": 16,
   "metadata": {
    "colab": {
     "base_uri": "https://localhost:8080/"
    },
    "id": "I4JvbfcMVf2U",
    "outputId": "ae6799b5-9ef5-4ec7-9f2c-0d77a7553fcd"
   },
   "outputs": [
    {
     "name": "stdout",
     "output_type": "stream",
     "text": [
      "Shape of X (1000, 2)\n",
      "Shape of y (1000,)\n"
     ]
    }
   ],
   "source": [
    "# Create synthetic data for classification using sklearn\n",
    "from sklearn.datasets import make_classification\n",
    "\n",
    "X, y = make_classification(n_features=2, n_redundant=0, n_informative=2, n_clusters_per_class=1, n_samples=1000)\n",
    "\n",
    "# Always useful to remind oneself of the dimensions of a data set\n",
    "print(\"Shape of X {}\".format(X.shape))  \n",
    "print(\"Shape of y {}\".format(y.shape))"
   ]
  },
  {
   "cell_type": "code",
   "execution_count": 17,
   "metadata": {
    "id": "7O1rqLbODmyT"
   },
   "outputs": [],
   "source": [
    "# Or create synthetic data using our customer function from Tutorial #3\n",
    "def toy_data(n=500, mu1=[1,1], mu2=[4, 4], sig1=1, sig2=1):\n",
    "    \"\"\" Customer function to generate linearly seperable toy data. The code has been discussed in more detail in Tutorial #3.\n",
    "        \n",
    "        The arguments represent, respectively, the size of the data, the mean vectors of the two Gaussians from which we\n",
    "        sample class 1 and class 2 data points, and their standard deviations.\n",
    "    \"\"\"\n",
    "    \n",
    "    class1_x1 = np.random.normal(loc=mu1[0], scale=sig1, size=n)\n",
    "    class1_x2 = np.random.normal(loc=mu1[1], scale=sig1, size=n)\n",
    "\n",
    "    class2_x1 = np.random.normal(loc=mu2[0], scale=sig2, size=n)\n",
    "    class2_x2 = np.random.normal(loc=mu2[1], scale=sig2, size=n)\n",
    "\n",
    "    y1 = np.repeat(0, n)\n",
    "    y2 = np.repeat(1, n)\n",
    "\n",
    "    class1 = np.vstack((class1_x1, class1_x2)).T\n",
    "    class2 = np.vstack((class2_x1, class2_x2)).T\n",
    "\n",
    "    X = np.vstack((class1,class2))\n",
    "    y = np.concatenate((y1,y2))\n",
    "    \n",
    "    return X, y"
   ]
  },
  {
   "cell_type": "code",
   "execution_count": 18,
   "metadata": {
    "colab": {
     "base_uri": "https://localhost:8080/"
    },
    "id": "0ym5oBSTDmyX",
    "outputId": "7d0dcefa-a643-46e0-8b10-196fc886a32b"
   },
   "outputs": [
    {
     "name": "stdout",
     "output_type": "stream",
     "text": [
      "Shape of X (1000, 2)\n",
      "Shape of y (1000,)\n"
     ]
    }
   ],
   "source": [
    "# Create and plot the data\n",
    "X, y = toy_data()\n",
    "\n",
    "# Always useful to remind oneself of the dimensions of a data set\n",
    "print(\"Shape of X {}\".format(X.shape))  \n",
    "print(\"Shape of y {}\".format(y.shape))"
   ]
  },
  {
   "cell_type": "code",
   "execution_count": 19,
   "metadata": {
    "colab": {
     "base_uri": "https://localhost:8080/",
     "height": 278
    },
    "id": "gFoMDi41Vf2b",
    "outputId": "d39a2c85-51a4-46e2-df85-51f806340186"
   },
   "outputs": [
    {
     "data": {
      "image/png": "[encoded data removed]",
      "text/plain": [
       "<Figure size 432x288 with 1 Axes>"
      ]
     },
     "metadata": {
      "needs_background": "light"
     },
     "output_type": "display_data"
    }
   ],
   "source": [
    "# Here is the code to plot the data\n",
    "plt.title(\"Synthetic classification data set\", fontsize='small')\n",
    "plt.scatter(X[:, 0], X[:, 1], c=y, alpha=.5, marker='x');"
   ]
  },
  {
   "cell_type": "markdown",
   "metadata": {
    "id": "gqBHE9146JjJ"
   },
   "source": [
    "### Helper function for the logit model\n",
    "We already defined the logistic function. We do it again to have all codes at a single place. This is only to aid readability. Note that data scientists very commonly refer to the logistic function as the **sigmoid**. The name relates to a class of learning machines called *artificial neural networks*, which are the backbone of deep learning. We use this term below, simply because it is sooo common and because we already used the term *logistic function* for our above implementation."
   ]
  },
  {
   "cell_type": "code",
   "execution_count": 20,
   "metadata": {
    "id": "eYv3EuJVu90F"
   },
   "outputs": [],
   "source": [
    "def sigmoid(z):\n",
    "    return 1 / (1 + np.exp(-z))"
   ]
  },
  {
   "cell_type": "markdown",
   "metadata": {
    "id": "kWMS3zIE6ahA"
   },
   "source": [
    "We also need a loss function that measures the quality of our model. This is just our log-likelihood function. Easy enough to implement it in Python."
   ]
  },
  {
   "cell_type": "code",
   "execution_count": 21,
   "metadata": {
    "id": "Pg0Zn7OywTFH"
   },
   "outputs": [],
   "source": [
    "def loss(h, y):\n",
    "    return (-y*np.log(h) - (1 - y)*np.log(1 - h))"
   ]
  },
  {
   "cell_type": "markdown",
   "metadata": {
    "id": "oud8yNf1V_i_"
   },
   "source": [
    "Equipped with the previous functions, we are ready to implement logistic regression. More specifically, the below function takes care about **estimating a logistic regression model**. It determines and returns the weights (intercept and coefficients), which represent the logit model, as an 1D array. Remember that these weights are all we need to generate predictions for future data."
   ]
  },
  {
   "cell_type": "code",
   "execution_count": 22,
   "metadata": {
    "id": "0k3PuDa9YDyL"
   },
   "outputs": [],
   "source": [
    "def estimate_logit_model(X, y, lr=0.01, num_iter=100000, fit_intercept=True, verbose=False):\n",
    "    \n",
    "    # Add intercept to the model if needed\n",
    "    if fit_intercept:\n",
    "      intercept = np.ones((X.shape[0], 1))\n",
    "      X = np.concatenate((intercept, X), axis=1)\n",
    "        \n",
    "    weights = np.zeros(X.shape[1]) # initialize weights\n",
    "    \n",
    "    for i in range(num_iter): # travels down the gradient as many times as there are iterations\n",
    "        z = np.dot(X, weights)\n",
    "        h = sigmoid(z)\n",
    "        gradient = np.dot(X.T, (h - y)) / y.size\n",
    "        weights -= lr * gradient\n",
    "            \n",
    "        if(verbose == True and i % 10000 == 0): # checks loss at each iteration\n",
    "            z = np.dot(X, weights)\n",
    "            h = sigmoid(z)\n",
    "            loss_val = loss(h, y)\n",
    "            print(f'loss: {loss_val} \\t')\n",
    "    return weights"
   ]
  },
  {
   "cell_type": "markdown",
   "metadata": {
    "id": "ruq6ZopYC-jc"
   },
   "source": [
    "Lastly, we need some functionality for predicting probabilities for new data points. To replicate standard functionality of `sklean` in our custom logit model, we will supply two functions for prediction. Naturally, the logit model generates probabilistic predictions, which follows from using the sigmoid (aka logistic) function. Further, we supply a sklearn-like `predict()` function, which returns discrete class predictions using some **cut-off**, which we set to 0.5 by default. We can then compare this predicted value to the true labels and calculate the mean error or mean accuracy. "
   ]
  },
  {
   "cell_type": "code",
   "execution_count": 23,
   "metadata": {
    "id": "d3pGMkA5uS3J"
   },
   "outputs": [],
   "source": [
    "def predict_prob(X, weights, fit_intercept=True):\n",
    "    if fit_intercept:\n",
    "        intercept = np.ones((X.shape[0], 1))\n",
    "        X = np.concatenate((intercept, X), axis=1)\n",
    "        return sigmoid(np.dot(X, weights))"
   ]
  },
  {
   "cell_type": "code",
   "execution_count": 24,
   "metadata": {
    "id": "GmySMlJvxN1T"
   },
   "outputs": [],
   "source": [
    "def predict(X, weights, fit_intercept=True, threshold=0.5):\n",
    "    predictions = predict_prob(X, weights, fit_intercept=fit_intercept) >= threshold\n",
    "    predictions = np.where(predictions==False, 0, predictions)\n",
    "    predictions = np.where(predictions==True, 1, predictions)\n",
    "    return predictions"
   ]
  },
  {
   "cell_type": "markdown",
   "metadata": {
    "id": "CQwxEi9D1Qtn"
   },
   "source": [
    "Now we can train our model on the data that we have generated to get the intercept (first number in the weights array) and coefficients (the subsequent numbers in the array). "
   ]
  },
  {
   "cell_type": "code",
   "execution_count": 25,
   "metadata": {
    "id": "LiW-bUPf5c1Q"
   },
   "outputs": [],
   "source": [
    "beta = estimate_logit_model(X, y)"
   ]
  },
  {
   "cell_type": "code",
   "execution_count": 26,
   "metadata": {
    "colab": {
     "base_uri": "https://localhost:8080/"
    },
    "id": "6SCqiUuuiTYH",
    "outputId": "1975bf08-4f0c-4bbb-dcb2-6638652db160"
   },
   "outputs": [
    {
     "name": "stdout",
     "output_type": "stream",
     "text": [
      "[-10.47538822   2.12185981   2.05679987]\n"
     ]
    }
   ],
   "source": [
    "print(beta)"
   ]
  },
  {
   "cell_type": "markdown",
   "metadata": {
    "id": "9dL4NVcq4K_C"
   },
   "source": [
    "Ok, does maybe not look exciting but, believe it or not, these three numbers are our **logit model**. Really? Yes. All you need to calculate forecasts from a logistic regression models is the coefficients, one for each feature and one for the intercept. For our toy data, this translates into three numbers. \n",
    "\n",
    "All set, we are ready to put our model into production and estimate, for each case in our data, the probabilities of that case belonging to class 1. "
   ]
  },
  {
   "cell_type": "code",
   "execution_count": 27,
   "metadata": {
    "colab": {
     "base_uri": "https://localhost:8080/"
    },
    "id": "QBMwMlJyEl6S",
    "outputId": "f0de9622-2a1d-4891-fa60-5b5ca5ca0b75"
   },
   "outputs": [
    {
     "name": "stdout",
     "output_type": "stream",
     "text": [
      "[8.02959721e-03 5.82267817e-03 2.01766740e-01 2.30572640e-03\n",
      " 4.41397229e-05]\n"
     ]
    }
   ],
   "source": [
    "# This is how we produce class membership probabilities\n",
    "results = predict_prob(X, beta, fit_intercept=True)\n",
    "print(results[:5])"
   ]
  },
  {
   "cell_type": "code",
   "execution_count": 28,
   "metadata": {
    "colab": {
     "base_uri": "https://localhost:8080/"
    },
    "id": "0p2TkHAErH7P",
    "outputId": "e9647d84-84b4-433b-bd9f-856e8d297478"
   },
   "outputs": [
    {
     "name": "stdout",
     "output_type": "stream",
     "text": [
      "[0 0 0 0 0]\n"
     ]
    }
   ],
   "source": [
    "# And in this way, we can generate discrete class predictions\n",
    "results = predict(X, beta, fit_intercept=True, threshold=0.5)\n",
    "print(results[:5])"
   ]
  },
  {
   "cell_type": "code",
   "execution_count": 29,
   "metadata": {
    "colab": {
     "base_uri": "https://localhost:8080/"
    },
    "id": "S3Ivh9cxrmEr",
    "outputId": "0579bd8a-8776-48a7-f1f3-8d9d0471d08a"
   },
   "outputs": [
    {
     "data": {
      "text/plain": [
       "0.984"
      ]
     },
     "execution_count": 29,
     "metadata": {},
     "output_type": "execute_result"
    }
   ],
   "source": [
    "# Let's check the classification accuracy of our logit model\n",
    "accuracy = y == results\n",
    "\n",
    "mean_accuracy = accuracy.sum() / len(accuracy)\n",
    "\n",
    "mean_accuracy"
   ]
  },
  {
   "cell_type": "markdown",
   "metadata": {
    "id": "CP6HSAeg4oX3"
   },
   "source": [
    "To conclude this example, recall that we introduced logistic regression as a linear classifier in the lecture. To convince ourselves that logit really creates a linear decision boundary, we plot this boundary into our feature space using the intercept found in `beta[0]` and the two coefficients found in `beta[1]` and `beta[2]`. \n",
    "\n",
    " In a two-dimensional space, with dimensions $(x_1, x_2)$, a hyperplane is defined by $\\beta_1 x_1 + \\beta_2 x_2 + \\beta_0 = 0$. Rearranging terms, we obtain \n",
    " $$ x_2 = - \\frac{\\beta_1}{\\beta_2} x_1 - \\frac{\\beta_0}{\\beta_2} $$\n",
    " \n",
    "Actually, this equation looks a little odd at first glance. We are used to think of $\\mathbf{x}$ as data. So why is $x_2$ a function? Well, the equation simply gives us a blueprint of how to plot the hyperplane in 2D. We generate some data for $x_1$. Next, using the estimated values for $\\mathbf{\\beta}$, we determine the corresponding value of $x_2$. This is only to facilitate drawing as follows: "
   ]
  },
  {
   "cell_type": "code",
   "execution_count": 37,
   "metadata": {
    "colab": {
     "base_uri": "https://localhost:8080/"
    },
    "id": "y_YXW7Y2dmAu",
    "outputId": "80831af3-d58d-40ba-8293-5b39dd9ee7bb"
   },
   "outputs": [
    {
     "data": {
      "image/png": "[encoded data removed]",
      "text/plain": [
       "<Figure size 432x288 with 1 Axes>"
      ]
     },
     "metadata": {
      "needs_background": "light"
     },
     "output_type": "display_data"
    }
   ],
   "source": [
    "# Generate data points\n",
    "x_1 = np.linspace(np.min(X[:,0]).astype(\"int\"), np.max(X[:,0]).astype(\"int\"))  # we plot the hyperplane for this range of values\n",
    "\n",
    "x_2 = - beta[1] / beta[2] * x_1 - beta[0] / beta[2]  # evaluate our above equation\n",
    "\n",
    "# Ready to plot our hyperplane\n",
    "fig = plt.figure()\n",
    "plt.plot(x_1,x_2, label='logit');\n",
    "plt.xlabel(\"$x_1$\");\n",
    "plt.ylabel(\"$x_2$\");\n",
    "plt.legend(loc='best');\n",
    "# Add the actual data to the plot (as before)\n",
    "plt.scatter(X[:,0], X[:,1], c=y, alpha=.5, marker='x');"
   ]
  },
  {
   "cell_type": "markdown",
   "metadata": {
    "id": "TV266MtlAR3i",
    "outputId": "c18a11a5-ace7-476c-858c-b3795e27ea79"
   },
   "source": [
    "Looks good. Using the estimated parameters and drawing a line using these parameters, the plot confirms that we obtain a good separation of the two classes. And yet, we can create a better visualization in which we also evaluate the probability estimates of our model. To that end, we compute the output (i.e., probability estimate) of our logit model over the entire feature space. More precisely, we decide on a value range for $x_1$ and $x_2$ and consider all possible input data points in that range. The resulting data is three dimensional and consists of tupels $\\left( x_{i1}, x_{i2}, p_i \\right)$, where $i$ is a data point index and $p_i$ is the probability forecast from the logit model for data point $\\mathbf{x}_i$. \n",
    "\n",
    "Plotting in three dimensions in nontrivial. Below, we provide a working example for generating and plotting the data. The plot offers a maybe more accurate intuition on the inner workings of the logistic model and how it creates a linear classifier. Parts of the code will be hard to read. Feel free to just skip over them and look at the result (i.e., plot). If you want to understand what is going on, start with reading the documentation of the NumPy function `mgrid()`, look up demos for contour plots, and, of course, debug/alter the example in any way you like. "
   ]
  },
  {
   "cell_type": "code",
   "execution_count": 46,
   "metadata": {
    "colab": {
     "base_uri": "https://localhost:8080/"
    },
    "id": "5HePiSyOdmAu",
    "outputId": "45095714-cb4a-406b-fcbf-26d045cfd802"
   },
   "outputs": [
    {
     "data": {
      "image/png": "[encoded data removed]",
      "text/plain": [
       "<Figure size 576x432 with 2 Axes>"
      ]
     },
     "metadata": {
      "needs_background": "light"
     },
     "output_type": "display_data"
    }
   ],
   "source": [
    "# Graph to depict probability predictions of the logit model:\n",
    "\n",
    "# Get boundary values\n",
    "lb, ub = (np.floor(np.min(X[:,0])) , np.ceil(np.max(X[:,0])))\n",
    "\n",
    "\n",
    "xx, yy = np.mgrid[lb:ub:.01, lb:ub:.01]  # create input data for our logit model using mgrid\n",
    "grid = np.c_[xx.ravel(), yy.ravel()]   # then transform the data into our standard format\n",
    "\n",
    "# Calculate logit probability predictions\n",
    "probs = predict_prob(grid, beta, fit_intercept=True)\n",
    "\n",
    "# Reshape to facilitate plotting\n",
    "probs = probs.reshape(xx.shape)\n",
    "\n",
    "# Plot logit predictions\n",
    "f, ax = plt.subplots(figsize=(8, 6))\n",
    "contour = ax.contourf(xx, yy, probs, 25,  vmin=0, vmax=1)\n",
    "ax_c = f.colorbar(contour)\n",
    "ax_c.set_label(\"$P(y = 1)$\")\n",
    "ax_c.set_ticks([0, .25, .5, .75, 1])\n",
    "\n",
    "# Plott the actual data points\n",
    "# We alter the format of the scatter plot to ensure that data points are visible\n",
    "ax.scatter(X[:,0], X[:,1], c=y, s=50, vmin=-.2, vmax=1.2, edgecolor=\"white\", linewidth=1);  \n",
    "plt.xlabel(\"$x_1$\");\n",
    "plt.ylabel(\"$x_2$\");"
   ]
  },
  {
   "cell_type": "markdown",
   "metadata": {
    "id": "HUkvWfFsVf2m"
   },
   "source": [
    "## Libraries for logistic regression\n",
    "\n",
    "Now that we know that estimating a logistic regression model using the maximum likelihood approach is not some sort of dark magic, we might feel more comfortable with using libraries that hide all the details. In fact, you have already seen one such library in action in [Tutorial 3](https://colab.research.google.com/github/Humboldt-WI/bads/blob/master/tutorials/3_nb_predictive_analytics.ipynb). There, we used the `statsmodels` library to estimate a logit model. Let's revisit the corresponding codes. However, doing so for our toy data is pointless. It's time for a real-world data set and since we spent so much time on cleaning and preparing and understanding the HMEQ data in [Tutorial 4](https://colab.research.google.com/github/Humboldt-WI/bads/blob/master/tutorials/4_nb_data_preparation.ipynb), it would be a shame to not use it for demonstrating logistic regression on some real data. Remember that [Tutorial 4](https://colab.research.google.com/github/Humboldt-WI/bads/blob/master/tutorials/4_nb_data_preparation.ipynb) discusses that data set in detail, so simply go back to the previous tutorial is you need a refresher."
   ]
  },
  {
   "cell_type": "code",
   "execution_count": 47,
   "metadata": {
    "colab": {
     "base_uri": "https://localhost:8080/"
    },
    "id": "dkKRcRBRVf2n",
    "outputId": "c8664da3-b85a-458c-b162-823315d1ad0a"
   },
   "outputs": [],
   "source": [
    "import pandas as pd \n",
    "import statsmodels.api as sm\n",
    "from statsmodels.tools.tools import add_constant\n",
    "# Load data from GitHub\n",
    "data_url = 'https://raw.githubusercontent.com/Humboldt-WI/bads/master/data/hmeq_modeling.csv' \n",
    "df = pd.read_csv(data_url, index_col=\"index\")"
   ]
  },
  {
   "cell_type": "markdown",
   "metadata": {
    "id": "1PLQ7buLVf2q"
   },
   "source": [
    "Let's take a quick look at the data to re-familiarize ourselves with the classification task."
   ]
  },
  {
   "cell_type": "code",
   "execution_count": 48,
   "metadata": {
    "colab": {
     "base_uri": "https://localhost:8080/",
     "height": 250
    },
    "id": "zhgFxnX5Vf2s",
    "outputId": "7cc79eab-f3d4-4a59-9e0a-fdfbc73ff945"
   },
   "outputs": [
    {
     "data": {
      "text/html": [
       "<div>\n",
       "<style scoped>\n",
       "    .dataframe tbody tr th:only-of-type {\n",
       "        vertical-align: middle;\n",
       "    }\n",
       "\n",
       "    .dataframe tbody tr th {\n",
       "        vertical-align: top;\n",
       "    }\n",
       "\n",
       "    .dataframe thead th {\n",
       "        text-align: right;\n",
       "    }\n",
       "</style>\n",
       "<table border=\"1\" class=\"dataframe\">\n",
       "  <thead>\n",
       "    <tr style=\"text-align: right;\">\n",
       "      <th></th>\n",
       "      <th>BAD</th>\n",
       "      <th>LOAN</th>\n",
       "      <th>MORTDUE</th>\n",
       "      <th>VALUE</th>\n",
       "      <th>YOJ</th>\n",
       "      <th>CLAGE</th>\n",
       "      <th>NINQ</th>\n",
       "      <th>CLNO</th>\n",
       "      <th>DEBTINC</th>\n",
       "      <th>DEROGzero</th>\n",
       "      <th>REASON_HomeImp</th>\n",
       "      <th>REASON_IsMissing</th>\n",
       "      <th>JOB_Office</th>\n",
       "      <th>JOB_Other</th>\n",
       "      <th>JOB_ProfExe</th>\n",
       "      <th>JOB_Sales</th>\n",
       "      <th>JOB_Self</th>\n",
       "      <th>DELINQcat_1</th>\n",
       "      <th>DELINQcat_1+</th>\n",
       "    </tr>\n",
       "    <tr>\n",
       "      <th>index</th>\n",
       "      <th></th>\n",
       "      <th></th>\n",
       "      <th></th>\n",
       "      <th></th>\n",
       "      <th></th>\n",
       "      <th></th>\n",
       "      <th></th>\n",
       "      <th></th>\n",
       "      <th></th>\n",
       "      <th></th>\n",
       "      <th></th>\n",
       "      <th></th>\n",
       "      <th></th>\n",
       "      <th></th>\n",
       "      <th></th>\n",
       "      <th></th>\n",
       "      <th></th>\n",
       "      <th></th>\n",
       "      <th></th>\n",
       "    </tr>\n",
       "  </thead>\n",
       "  <tbody>\n",
       "    <tr>\n",
       "      <th>0</th>\n",
       "      <td>True</td>\n",
       "      <td>-1.832283</td>\n",
       "      <td>-1.295882</td>\n",
       "      <td>-1.335526</td>\n",
       "      <td>0.266788</td>\n",
       "      <td>-1.075278</td>\n",
       "      <td>-0.065054</td>\n",
       "      <td>-1.297476</td>\n",
       "      <td>0.137456</td>\n",
       "      <td>True</td>\n",
       "      <td>1</td>\n",
       "      <td>0</td>\n",
       "      <td>0</td>\n",
       "      <td>1</td>\n",
       "      <td>0</td>\n",
       "      <td>0</td>\n",
       "      <td>0</td>\n",
       "      <td>0</td>\n",
       "      <td>0</td>\n",
       "    </tr>\n",
       "    <tr>\n",
       "      <th>1</th>\n",
       "      <td>True</td>\n",
       "      <td>-1.810666</td>\n",
       "      <td>-0.013474</td>\n",
       "      <td>-0.672699</td>\n",
       "      <td>-0.236615</td>\n",
       "      <td>-0.723092</td>\n",
       "      <td>-0.826792</td>\n",
       "      <td>-0.756608</td>\n",
       "      <td>0.137456</td>\n",
       "      <td>True</td>\n",
       "      <td>1</td>\n",
       "      <td>0</td>\n",
       "      <td>0</td>\n",
       "      <td>1</td>\n",
       "      <td>0</td>\n",
       "      <td>0</td>\n",
       "      <td>0</td>\n",
       "      <td>0</td>\n",
       "      <td>1</td>\n",
       "    </tr>\n",
       "    <tr>\n",
       "      <th>2</th>\n",
       "      <td>True</td>\n",
       "      <td>-1.789048</td>\n",
       "      <td>-1.654549</td>\n",
       "      <td>-1.839275</td>\n",
       "      <td>-0.668103</td>\n",
       "      <td>-0.368769</td>\n",
       "      <td>-0.065054</td>\n",
       "      <td>-1.189302</td>\n",
       "      <td>0.137456</td>\n",
       "      <td>True</td>\n",
       "      <td>1</td>\n",
       "      <td>0</td>\n",
       "      <td>0</td>\n",
       "      <td>1</td>\n",
       "      <td>0</td>\n",
       "      <td>0</td>\n",
       "      <td>0</td>\n",
       "      <td>0</td>\n",
       "      <td>0</td>\n",
       "    </tr>\n",
       "    <tr>\n",
       "      <th>3</th>\n",
       "      <td>True</td>\n",
       "      <td>-1.789048</td>\n",
       "      <td>-0.159552</td>\n",
       "      <td>-0.202559</td>\n",
       "      <td>-0.236615</td>\n",
       "      <td>-0.061033</td>\n",
       "      <td>-0.065054</td>\n",
       "      <td>-0.107566</td>\n",
       "      <td>0.137456</td>\n",
       "      <td>True</td>\n",
       "      <td>0</td>\n",
       "      <td>1</td>\n",
       "      <td>0</td>\n",
       "      <td>1</td>\n",
       "      <td>0</td>\n",
       "      <td>0</td>\n",
       "      <td>0</td>\n",
       "      <td>0</td>\n",
       "      <td>0</td>\n",
       "    </tr>\n",
       "    <tr>\n",
       "      <th>4</th>\n",
       "      <td>False</td>\n",
       "      <td>-1.767431</td>\n",
       "      <td>0.791699</td>\n",
       "      <td>0.311107</td>\n",
       "      <td>-0.811933</td>\n",
       "      <td>-1.088528</td>\n",
       "      <td>-0.826792</td>\n",
       "      <td>-0.756608</td>\n",
       "      <td>0.137456</td>\n",
       "      <td>True</td>\n",
       "      <td>1</td>\n",
       "      <td>0</td>\n",
       "      <td>1</td>\n",
       "      <td>0</td>\n",
       "      <td>0</td>\n",
       "      <td>0</td>\n",
       "      <td>0</td>\n",
       "      <td>0</td>\n",
       "      <td>0</td>\n",
       "    </tr>\n",
       "  </tbody>\n",
       "</table>\n",
       "</div>"
      ],
      "text/plain": [
       "         BAD      LOAN   MORTDUE     VALUE       YOJ     CLAGE      NINQ  \\\n",
       "index                                                                      \n",
       "0       True -1.832283 -1.295882 -1.335526  0.266788 -1.075278 -0.065054   \n",
       "1       True -1.810666 -0.013474 -0.672699 -0.236615 -0.723092 -0.826792   \n",
       "2       True -1.789048 -1.654549 -1.839275 -0.668103 -0.368769 -0.065054   \n",
       "3       True -1.789048 -0.159552 -0.202559 -0.236615 -0.061033 -0.065054   \n",
       "4      False -1.767431  0.791699  0.311107 -0.811933 -1.088528 -0.826792   \n",
       "\n",
       "           CLNO   DEBTINC  DEROGzero  REASON_HomeImp  REASON_IsMissing  \\\n",
       "index                                                                    \n",
       "0     -1.297476  0.137456       True               1                 0   \n",
       "1     -0.756608  0.137456       True               1                 0   \n",
       "2     -1.189302  0.137456       True               1                 0   \n",
       "3     -0.107566  0.137456       True               0                 1   \n",
       "4     -0.756608  0.137456       True               1                 0   \n",
       "\n",
       "       JOB_Office  JOB_Other  JOB_ProfExe  JOB_Sales  JOB_Self  DELINQcat_1  \\\n",
       "index                                                                         \n",
       "0               0          1            0          0         0            0   \n",
       "1               0          1            0          0         0            0   \n",
       "2               0          1            0          0         0            0   \n",
       "3               0          1            0          0         0            0   \n",
       "4               1          0            0          0         0            0   \n",
       "\n",
       "       DELINQcat_1+  \n",
       "index                \n",
       "0                 0  \n",
       "1                 1  \n",
       "2                 0  \n",
       "3                 0  \n",
       "4                 0  "
      ]
     },
     "execution_count": 48,
     "metadata": {},
     "output_type": "execute_result"
    }
   ],
   "source": [
    "df.head(5)"
   ]
  },
  {
   "cell_type": "code",
   "execution_count": 49,
   "metadata": {
    "colab": {
     "base_uri": "https://localhost:8080/"
    },
    "id": "S_b8UOuPVf2x",
    "outputId": "5228879e-1d62-46d5-917c-118f4b0c334d"
   },
   "outputs": [
    {
     "name": "stdout",
     "output_type": "stream",
     "text": [
      "Optimization terminated successfully.\n",
      "         Current function value: 0.394606\n",
      "         Iterations 7\n"
     ]
    }
   ],
   "source": [
    "# Split into target and features\n",
    "y = df.BAD.values.astype(int)\n",
    "X = df.iloc[:,1:]\n",
    "\n",
    "# We add a constant column to X. Think of this as the Python way to include an intercept in your model \n",
    "X = add_constant(X, prepend=True, has_constant='raise')\n",
    "# Estimate logit model\n",
    "logit_model = sm.Logit(y, X.astype(float), ) \n",
    "logit_model = logit_model.fit()"
   ]
  },
  {
   "cell_type": "markdown",
   "metadata": {
    "id": "m3_inlDcVf21"
   },
   "source": [
    "A nice feature of the `statsmodels` implementation is that you can easily produce a standard regression table. "
   ]
  },
  {
   "cell_type": "code",
   "execution_count": 50,
   "metadata": {
    "colab": {
     "base_uri": "https://localhost:8080/",
     "height": 577
    },
    "id": "C0k55AmTVf21",
    "outputId": "1304a381-233b-4c2f-d7c0-6825683a4c2d"
   },
   "outputs": [
    {
     "data": {
      "text/html": [
       "<table class=\"simpletable\">\n",
       "<caption>Logit Regression Results</caption>\n",
       "<tr>\n",
       "  <th>Dep. Variable:</th>           <td>y</td>        <th>  No. Observations:  </th>   <td>  5960</td>  \n",
       "</tr>\n",
       "<tr>\n",
       "  <th>Model:</th>                 <td>Logit</td>      <th>  Df Residuals:      </th>   <td>  5941</td>  \n",
       "</tr>\n",
       "<tr>\n",
       "  <th>Method:</th>                 <td>MLE</td>       <th>  Df Model:          </th>   <td>    18</td>  \n",
       "</tr>\n",
       "<tr>\n",
       "  <th>Date:</th>            <td>Wed, 08 Dec 2021</td> <th>  Pseudo R-squ.:     </th>   <td>0.2103</td>  \n",
       "</tr>\n",
       "<tr>\n",
       "  <th>Time:</th>                <td>14:33:50</td>     <th>  Log-Likelihood:    </th>  <td> -2351.8</td> \n",
       "</tr>\n",
       "<tr>\n",
       "  <th>converged:</th>             <td>True</td>       <th>  LL-Null:           </th>  <td> -2978.2</td> \n",
       "</tr>\n",
       "<tr>\n",
       "  <th>Covariance Type:</th>     <td>nonrobust</td>    <th>  LLR p-value:       </th> <td>5.480e-255</td>\n",
       "</tr>\n",
       "</table>\n",
       "<table class=\"simpletable\">\n",
       "<tr>\n",
       "          <td></td>            <th>coef</th>     <th>std err</th>      <th>z</th>      <th>P>|z|</th>  <th>[0.025</th>    <th>0.975]</th>  \n",
       "</tr>\n",
       "<tr>\n",
       "  <th>const</th>            <td>   -1.1279</td> <td>    0.134</td> <td>   -8.389</td> <td> 0.000</td> <td>   -1.391</td> <td>   -0.864</td>\n",
       "</tr>\n",
       "<tr>\n",
       "  <th>LOAN</th>             <td>   -0.1706</td> <td>    0.042</td> <td>   -4.018</td> <td> 0.000</td> <td>   -0.254</td> <td>   -0.087</td>\n",
       "</tr>\n",
       "<tr>\n",
       "  <th>MORTDUE</th>          <td>   -0.1583</td> <td>    0.067</td> <td>   -2.366</td> <td> 0.018</td> <td>   -0.289</td> <td>   -0.027</td>\n",
       "</tr>\n",
       "<tr>\n",
       "  <th>VALUE</th>            <td>    0.0619</td> <td>    0.070</td> <td>    0.885</td> <td> 0.376</td> <td>   -0.075</td> <td>    0.199</td>\n",
       "</tr>\n",
       "<tr>\n",
       "  <th>YOJ</th>              <td>   -0.0619</td> <td>    0.041</td> <td>   -1.510</td> <td> 0.131</td> <td>   -0.142</td> <td>    0.018</td>\n",
       "</tr>\n",
       "<tr>\n",
       "  <th>CLAGE</th>            <td>   -0.4503</td> <td>    0.043</td> <td>  -10.520</td> <td> 0.000</td> <td>   -0.534</td> <td>   -0.366</td>\n",
       "</tr>\n",
       "<tr>\n",
       "  <th>NINQ</th>             <td>    0.2806</td> <td>    0.035</td> <td>    7.944</td> <td> 0.000</td> <td>    0.211</td> <td>    0.350</td>\n",
       "</tr>\n",
       "<tr>\n",
       "  <th>CLNO</th>             <td>   -0.1448</td> <td>    0.042</td> <td>   -3.434</td> <td> 0.001</td> <td>   -0.227</td> <td>   -0.062</td>\n",
       "</tr>\n",
       "<tr>\n",
       "  <th>DEBTINC</th>          <td>    0.4379</td> <td>    0.044</td> <td>   10.033</td> <td> 0.000</td> <td>    0.352</td> <td>    0.523</td>\n",
       "</tr>\n",
       "<tr>\n",
       "  <th>DEROGzero</th>        <td>   -1.1282</td> <td>    0.097</td> <td>  -11.653</td> <td> 0.000</td> <td>   -1.318</td> <td>   -0.938</td>\n",
       "</tr>\n",
       "<tr>\n",
       "  <th>REASON_HomeImp</th>   <td>    0.2465</td> <td>    0.086</td> <td>    2.878</td> <td> 0.004</td> <td>    0.079</td> <td>    0.414</td>\n",
       "</tr>\n",
       "<tr>\n",
       "  <th>REASON_IsMissing</th> <td>    0.3610</td> <td>    0.199</td> <td>    1.812</td> <td> 0.070</td> <td>   -0.030</td> <td>    0.751</td>\n",
       "</tr>\n",
       "<tr>\n",
       "  <th>JOB_Office</th>       <td>   -0.6247</td> <td>    0.148</td> <td>   -4.219</td> <td> 0.000</td> <td>   -0.915</td> <td>   -0.335</td>\n",
       "</tr>\n",
       "<tr>\n",
       "  <th>JOB_Other</th>        <td>   -0.0035</td> <td>    0.115</td> <td>   -0.031</td> <td> 0.976</td> <td>   -0.229</td> <td>    0.222</td>\n",
       "</tr>\n",
       "<tr>\n",
       "  <th>JOB_ProfExe</th>      <td>    0.0853</td> <td>    0.133</td> <td>    0.643</td> <td> 0.520</td> <td>   -0.174</td> <td>    0.345</td>\n",
       "</tr>\n",
       "<tr>\n",
       "  <th>JOB_Sales</th>        <td>    1.0241</td> <td>    0.261</td> <td>    3.925</td> <td> 0.000</td> <td>    0.513</td> <td>    1.536</td>\n",
       "</tr>\n",
       "<tr>\n",
       "  <th>JOB_Self</th>         <td>    0.6369</td> <td>    0.212</td> <td>    3.005</td> <td> 0.003</td> <td>    0.221</td> <td>    1.052</td>\n",
       "</tr>\n",
       "<tr>\n",
       "  <th>DELINQcat_1</th>      <td>    1.1760</td> <td>    0.104</td> <td>   11.334</td> <td> 0.000</td> <td>    0.973</td> <td>    1.379</td>\n",
       "</tr>\n",
       "<tr>\n",
       "  <th>DELINQcat_1+</th>     <td>    2.1360</td> <td>    0.112</td> <td>   19.108</td> <td> 0.000</td> <td>    1.917</td> <td>    2.355</td>\n",
       "</tr>\n",
       "</table>"
      ],
      "text/plain": [
       "<class 'statsmodels.iolib.summary.Summary'>\n",
       "\"\"\"\n",
       "                           Logit Regression Results                           \n",
       "==============================================================================\n",
       "Dep. Variable:                      y   No. Observations:                 5960\n",
       "Model:                          Logit   Df Residuals:                     5941\n",
       "Method:                           MLE   Df Model:                           18\n",
       "Date:                Wed, 08 Dec 2021   Pseudo R-squ.:                  0.2103\n",
       "Time:                        14:33:50   Log-Likelihood:                -2351.8\n",
       "converged:                       True   LL-Null:                       -2978.2\n",
       "Covariance Type:            nonrobust   LLR p-value:                5.480e-255\n",
       "====================================================================================\n",
       "                       coef    std err          z      P>|z|      [0.025      0.975]\n",
       "------------------------------------------------------------------------------------\n",
       "const               -1.1279      0.134     -8.389      0.000      -1.391      -0.864\n",
       "LOAN                -0.1706      0.042     -4.018      0.000      -0.254      -0.087\n",
       "MORTDUE             -0.1583      0.067     -2.366      0.018      -0.289      -0.027\n",
       "VALUE                0.0619      0.070      0.885      0.376      -0.075       0.199\n",
       "YOJ                 -0.0619      0.041     -1.510      0.131      -0.142       0.018\n",
       "CLAGE               -0.4503      0.043    -10.520      0.000      -0.534      -0.366\n",
       "NINQ                 0.2806      0.035      7.944      0.000       0.211       0.350\n",
       "CLNO                -0.1448      0.042     -3.434      0.001      -0.227      -0.062\n",
       "DEBTINC              0.4379      0.044     10.033      0.000       0.352       0.523\n",
       "DEROGzero           -1.1282      0.097    -11.653      0.000      -1.318      -0.938\n",
       "REASON_HomeImp       0.2465      0.086      2.878      0.004       0.079       0.414\n",
       "REASON_IsMissing     0.3610      0.199      1.812      0.070      -0.030       0.751\n",
       "JOB_Office          -0.6247      0.148     -4.219      0.000      -0.915      -0.335\n",
       "JOB_Other           -0.0035      0.115     -0.031      0.976      -0.229       0.222\n",
       "JOB_ProfExe          0.0853      0.133      0.643      0.520      -0.174       0.345\n",
       "JOB_Sales            1.0241      0.261      3.925      0.000       0.513       1.536\n",
       "JOB_Self             0.6369      0.212      3.005      0.003       0.221       1.052\n",
       "DELINQcat_1          1.1760      0.104     11.334      0.000       0.973       1.379\n",
       "DELINQcat_1+         2.1360      0.112     19.108      0.000       1.917       2.355\n",
       "====================================================================================\n",
       "\"\"\""
      ]
     },
     "execution_count": 50,
     "metadata": {},
     "output_type": "execute_result"
    }
   ],
   "source": [
    "logit_model.summary()"
   ]
  },
  {
   "cell_type": "markdown",
   "metadata": {
    "id": "kV1SAbWTVf24"
   },
   "source": [
    "Spend a little time on inspecting the table. The pseudo $R^2$ statistic suggests that the model explains only a moderate amount of the variability of the target variable. However, we find from the *LLR test* that the model as a whole is highly significant. Further, most features come out as significant,  two dummy variables for the job categories *prof. executive* and *other* and the feature VALUE being an exception. Remember the result of the analysis of feature correlation in [Tutorial 4](https://colab.research.google.com/github/Humboldt-WI/bads/blob/master/tutorials/4_nb_data_preparation.ipynb)? The result for the VALUE feature is surely due to the high correlation of this feature with MORTDUE.    "
   ]
  },
  {
   "cell_type": "code",
   "execution_count": 51,
   "metadata": {
    "colab": {
     "base_uri": "https://localhost:8080/"
    },
    "id": "I7QbSZ8oVf25",
    "outputId": "33d2a797-b504-46a5-f16e-749b87d3e747"
   },
   "outputs": [
    {
     "data": {
      "text/plain": [
       "array([[1.        , 0.82513958],\n",
       "       [0.82513958, 1.        ]])"
      ]
     },
     "execution_count": 51,
     "metadata": {},
     "output_type": "execute_result"
    }
   ],
   "source": [
    "np.corrcoef(df.MORTDUE, df.VALUE)"
   ]
  },
  {
   "cell_type": "markdown",
   "metadata": {
    "id": "7LP4_ZmzVf29"
   },
   "source": [
    "Reestimating the logit model after removing the feature MORTDUE would be a good exercise. After the modification, VALUE should come out as significant.\n",
    "\n",
    "We could easily continue our discussion of the regression table to draw more conclusions about our data. However, this is not the point the focal tutorial. Instead, let's look at another implementation of logistic regression. The famous `scikit-learn` library is the goto library for machine learning in Python. We will use it intensively throughout the course. It also supplies an implementation of logistic regression. Let's see how to use that implementation      "
   ]
  },
  {
   "cell_type": "code",
   "execution_count": 52,
   "metadata": {
    "colab": {
     "base_uri": "https://localhost:8080/"
    },
    "id": "5ij5VpjkVf2-",
    "outputId": "5263fbdd-3bd3-4b9b-d820-285c187bcdbb"
   },
   "outputs": [
    {
     "data": {
      "text/plain": [
       "LogisticRegression(fit_intercept=False, penalty='none')"
      ]
     },
     "execution_count": 52,
     "metadata": {},
     "output_type": "execute_result"
    }
   ],
   "source": [
    "from sklearn.linear_model import LogisticRegression\n",
    "\n",
    "sk_logit = LogisticRegression(penalty='none', fit_intercept=False)  # Recall that we already included a constant column in X. \n",
    "sk_logit.fit(X, y)                                                  # So we must set fit_intercept to False"
   ]
  },
  {
   "cell_type": "markdown",
   "metadata": {
    "id": "lcCMcjQLVf3C"
   },
   "source": [
    "The sklearn implementation is geared toward predictive modeling. For example, there is no way to easily obtain fitting statistics or shed light on the significance of features. On the other hand, the class `LogisticRegression` supports many advanced features to maximize the predictive power of the logit model. The above output already hints at the many different parameters that you can configure. Have a look into the help if you'd like to learn more. We will cover important parameters like those associated with *regularization* in[ Tutorial 7](https://github.com/Humboldt-WI/bads/blob/master/tutorials/7_nb_model_selection.ipynb).\n",
    "\n",
    "One easy to appreciate advantage of `sklearn` over `statsmodels` when it comes to logistic regression is scalability. The sklearn implementation is faster and can cope with larger data sets. Given the differences between our two logit models, the only way to compare them (for now) is by inspecting the estimated model coefficients.  "
   ]
  },
  {
   "cell_type": "code",
   "execution_count": 53,
   "metadata": {
    "colab": {
     "base_uri": "https://localhost:8080/",
     "height": 623
    },
    "id": "ZPyDAs0GVf3D",
    "outputId": "f4187545-d384-49bb-ec01-bbaacd86b2d2"
   },
   "outputs": [
    {
     "data": {
      "text/html": [
       "<div>\n",
       "<style scoped>\n",
       "    .dataframe tbody tr th:only-of-type {\n",
       "        vertical-align: middle;\n",
       "    }\n",
       "\n",
       "    .dataframe tbody tr th {\n",
       "        vertical-align: top;\n",
       "    }\n",
       "\n",
       "    .dataframe thead th {\n",
       "        text-align: right;\n",
       "    }\n",
       "</style>\n",
       "<table border=\"1\" class=\"dataframe\">\n",
       "  <thead>\n",
       "    <tr style=\"text-align: right;\">\n",
       "      <th></th>\n",
       "      <th>statsmodels</th>\n",
       "      <th>sklearn</th>\n",
       "    </tr>\n",
       "  </thead>\n",
       "  <tbody>\n",
       "    <tr>\n",
       "      <th>0</th>\n",
       "      <td>-1.127897</td>\n",
       "      <td>-1.127687</td>\n",
       "    </tr>\n",
       "    <tr>\n",
       "      <th>1</th>\n",
       "      <td>-0.170567</td>\n",
       "      <td>-0.170544</td>\n",
       "    </tr>\n",
       "    <tr>\n",
       "      <th>2</th>\n",
       "      <td>-0.158264</td>\n",
       "      <td>-0.158239</td>\n",
       "    </tr>\n",
       "    <tr>\n",
       "      <th>3</th>\n",
       "      <td>0.061895</td>\n",
       "      <td>0.061884</td>\n",
       "    </tr>\n",
       "    <tr>\n",
       "      <th>4</th>\n",
       "      <td>-0.061869</td>\n",
       "      <td>-0.061875</td>\n",
       "    </tr>\n",
       "    <tr>\n",
       "      <th>5</th>\n",
       "      <td>-0.450325</td>\n",
       "      <td>-0.450316</td>\n",
       "    </tr>\n",
       "    <tr>\n",
       "      <th>6</th>\n",
       "      <td>0.280649</td>\n",
       "      <td>0.280644</td>\n",
       "    </tr>\n",
       "    <tr>\n",
       "      <th>7</th>\n",
       "      <td>-0.144770</td>\n",
       "      <td>-0.144765</td>\n",
       "    </tr>\n",
       "    <tr>\n",
       "      <th>8</th>\n",
       "      <td>0.437894</td>\n",
       "      <td>0.437879</td>\n",
       "    </tr>\n",
       "    <tr>\n",
       "      <th>9</th>\n",
       "      <td>-1.128196</td>\n",
       "      <td>-1.128196</td>\n",
       "    </tr>\n",
       "    <tr>\n",
       "      <th>10</th>\n",
       "      <td>0.246536</td>\n",
       "      <td>0.246577</td>\n",
       "    </tr>\n",
       "    <tr>\n",
       "      <th>11</th>\n",
       "      <td>0.360981</td>\n",
       "      <td>0.361021</td>\n",
       "    </tr>\n",
       "    <tr>\n",
       "      <th>12</th>\n",
       "      <td>-0.624715</td>\n",
       "      <td>-0.625030</td>\n",
       "    </tr>\n",
       "    <tr>\n",
       "      <th>13</th>\n",
       "      <td>-0.003526</td>\n",
       "      <td>-0.003705</td>\n",
       "    </tr>\n",
       "    <tr>\n",
       "      <th>14</th>\n",
       "      <td>0.085254</td>\n",
       "      <td>0.084992</td>\n",
       "    </tr>\n",
       "    <tr>\n",
       "      <th>15</th>\n",
       "      <td>1.024129</td>\n",
       "      <td>1.024629</td>\n",
       "    </tr>\n",
       "    <tr>\n",
       "      <th>16</th>\n",
       "      <td>0.636907</td>\n",
       "      <td>0.636743</td>\n",
       "    </tr>\n",
       "    <tr>\n",
       "      <th>17</th>\n",
       "      <td>1.176022</td>\n",
       "      <td>1.175979</td>\n",
       "    </tr>\n",
       "    <tr>\n",
       "      <th>18</th>\n",
       "      <td>2.135960</td>\n",
       "      <td>2.135871</td>\n",
       "    </tr>\n",
       "  </tbody>\n",
       "</table>\n",
       "</div>"
      ],
      "text/plain": [
       "    statsmodels   sklearn\n",
       "0     -1.127897 -1.127687\n",
       "1     -0.170567 -0.170544\n",
       "2     -0.158264 -0.158239\n",
       "3      0.061895  0.061884\n",
       "4     -0.061869 -0.061875\n",
       "5     -0.450325 -0.450316\n",
       "6      0.280649  0.280644\n",
       "7     -0.144770 -0.144765\n",
       "8      0.437894  0.437879\n",
       "9     -1.128196 -1.128196\n",
       "10     0.246536  0.246577\n",
       "11     0.360981  0.361021\n",
       "12    -0.624715 -0.625030\n",
       "13    -0.003526 -0.003705\n",
       "14     0.085254  0.084992\n",
       "15     1.024129  1.024629\n",
       "16     0.636907  0.636743\n",
       "17     1.176022  1.175979\n",
       "18     2.135960  2.135871"
      ]
     },
     "execution_count": 53,
     "metadata": {},
     "output_type": "execute_result"
    }
   ],
   "source": [
    "# Create a dataframe for the comparison\n",
    "# Note that we also need some conversions to ensure that the two coefficient arrays are compatible\n",
    "df_comparison = pd.DataFrame({\"statsmodels\" :logit_model.params.to_numpy(), \"sklearn\": sk_logit.coef_[0]})\n",
    "df_comparison"
   ]
  },
  {
   "cell_type": "markdown",
   "metadata": {
    "id": "tybUfadmVf3H"
   },
   "source": [
    "**Conclusion:** the two implementations of the logit model deliver similar results. That is nice but maybe not too exciting. The main take-away is that, when it comes to logistic regression, ask yourself whether you want to use the model for an explanatory or predictive purpose. Use the implementation within `statsmodels` in the former and `sklearn` in the latter case. If this conclusion makes sense to you, well done! Else, consider going back to our second course chapter concerning the foundations of business analytics and chapter three on predictive analytics, in which we elaborate on the difference between an explanatory and a predictive model. "
   ]
  },
  {
   "cell_type": "markdown",
   "metadata": {
    "id": "L-VlKNTmVf3H"
   },
   "source": [
    "# Decision Trees\n",
    "\n",
    "Decision trees are useful and powerful algorithms for classifying and regressing data. They work by on recursive partitioning which will be shown algorithmically in this notebook. Though most of the the time, sklearn can be used to implement this machine learning method, it is useful to take a look at the inner workings of tree-based algorithms. The following parts will first introduce a decision tree from scratch, before demonstrating its coverage in sklearn. "
   ]
  },
  {
   "cell_type": "markdown",
   "metadata": {
    "id": "YjOnBPEXfHK0"
   },
   "source": [
    "## Decision Tree From Scratch Using HMEQ Data\n",
    "\n",
    "Firstly, we will go through a decision tree made from scratch. The following code is based on the material originally created by Sebastian Mantey for the Iris Dataset whose GitHub is here: https://github.com/SebastianMantey/Decision-Tree-from-Scratch. You can also search his video on YouTube. The code has been adapted to this course's format and fit to HMEQ Dataset.\n",
    "\n",
    "Just in case you made changes to the data by running the above code, we first reload the data to a fixed and clear-defined starting point for our tree classifier. Recall that we defined the variable `data_url` above."
   ]
  },
  {
   "cell_type": "code",
   "execution_count": 54,
   "metadata": {
    "colab": {
     "base_uri": "https://localhost:8080/",
     "height": 250
    },
    "id": "I2zyH3v5fHK0",
    "outputId": "c08c64f0-4df5-4e58-ad9d-972c6d896d20"
   },
   "outputs": [
    {
     "data": {
      "text/html": [
       "<div>\n",
       "<style scoped>\n",
       "    .dataframe tbody tr th:only-of-type {\n",
       "        vertical-align: middle;\n",
       "    }\n",
       "\n",
       "    .dataframe tbody tr th {\n",
       "        vertical-align: top;\n",
       "    }\n",
       "\n",
       "    .dataframe thead th {\n",
       "        text-align: right;\n",
       "    }\n",
       "</style>\n",
       "<table border=\"1\" class=\"dataframe\">\n",
       "  <thead>\n",
       "    <tr style=\"text-align: right;\">\n",
       "      <th></th>\n",
       "      <th>BAD</th>\n",
       "      <th>LOAN</th>\n",
       "      <th>MORTDUE</th>\n",
       "      <th>VALUE</th>\n",
       "      <th>YOJ</th>\n",
       "      <th>CLAGE</th>\n",
       "      <th>NINQ</th>\n",
       "      <th>CLNO</th>\n",
       "      <th>DEBTINC</th>\n",
       "      <th>DEROGzero</th>\n",
       "      <th>REASON_HomeImp</th>\n",
       "      <th>REASON_IsMissing</th>\n",
       "      <th>JOB_Office</th>\n",
       "      <th>JOB_Other</th>\n",
       "      <th>JOB_ProfExe</th>\n",
       "      <th>JOB_Sales</th>\n",
       "      <th>JOB_Self</th>\n",
       "      <th>DELINQcat_1</th>\n",
       "      <th>DELINQcat_1+</th>\n",
       "    </tr>\n",
       "    <tr>\n",
       "      <th>index</th>\n",
       "      <th></th>\n",
       "      <th></th>\n",
       "      <th></th>\n",
       "      <th></th>\n",
       "      <th></th>\n",
       "      <th></th>\n",
       "      <th></th>\n",
       "      <th></th>\n",
       "      <th></th>\n",
       "      <th></th>\n",
       "      <th></th>\n",
       "      <th></th>\n",
       "      <th></th>\n",
       "      <th></th>\n",
       "      <th></th>\n",
       "      <th></th>\n",
       "      <th></th>\n",
       "      <th></th>\n",
       "      <th></th>\n",
       "    </tr>\n",
       "  </thead>\n",
       "  <tbody>\n",
       "    <tr>\n",
       "      <th>0</th>\n",
       "      <td>True</td>\n",
       "      <td>-1.832283</td>\n",
       "      <td>-1.295882</td>\n",
       "      <td>-1.335526</td>\n",
       "      <td>0.266788</td>\n",
       "      <td>-1.075278</td>\n",
       "      <td>-0.065054</td>\n",
       "      <td>-1.297476</td>\n",
       "      <td>0.137456</td>\n",
       "      <td>True</td>\n",
       "      <td>1</td>\n",
       "      <td>0</td>\n",
       "      <td>0</td>\n",
       "      <td>1</td>\n",
       "      <td>0</td>\n",
       "      <td>0</td>\n",
       "      <td>0</td>\n",
       "      <td>0</td>\n",
       "      <td>0</td>\n",
       "    </tr>\n",
       "    <tr>\n",
       "      <th>1</th>\n",
       "      <td>True</td>\n",
       "      <td>-1.810666</td>\n",
       "      <td>-0.013474</td>\n",
       "      <td>-0.672699</td>\n",
       "      <td>-0.236615</td>\n",
       "      <td>-0.723092</td>\n",
       "      <td>-0.826792</td>\n",
       "      <td>-0.756608</td>\n",
       "      <td>0.137456</td>\n",
       "      <td>True</td>\n",
       "      <td>1</td>\n",
       "      <td>0</td>\n",
       "      <td>0</td>\n",
       "      <td>1</td>\n",
       "      <td>0</td>\n",
       "      <td>0</td>\n",
       "      <td>0</td>\n",
       "      <td>0</td>\n",
       "      <td>1</td>\n",
       "    </tr>\n",
       "    <tr>\n",
       "      <th>2</th>\n",
       "      <td>True</td>\n",
       "      <td>-1.789048</td>\n",
       "      <td>-1.654549</td>\n",
       "      <td>-1.839275</td>\n",
       "      <td>-0.668103</td>\n",
       "      <td>-0.368769</td>\n",
       "      <td>-0.065054</td>\n",
       "      <td>-1.189302</td>\n",
       "      <td>0.137456</td>\n",
       "      <td>True</td>\n",
       "      <td>1</td>\n",
       "      <td>0</td>\n",
       "      <td>0</td>\n",
       "      <td>1</td>\n",
       "      <td>0</td>\n",
       "      <td>0</td>\n",
       "      <td>0</td>\n",
       "      <td>0</td>\n",
       "      <td>0</td>\n",
       "    </tr>\n",
       "    <tr>\n",
       "      <th>3</th>\n",
       "      <td>True</td>\n",
       "      <td>-1.789048</td>\n",
       "      <td>-0.159552</td>\n",
       "      <td>-0.202559</td>\n",
       "      <td>-0.236615</td>\n",
       "      <td>-0.061033</td>\n",
       "      <td>-0.065054</td>\n",
       "      <td>-0.107566</td>\n",
       "      <td>0.137456</td>\n",
       "      <td>True</td>\n",
       "      <td>0</td>\n",
       "      <td>1</td>\n",
       "      <td>0</td>\n",
       "      <td>1</td>\n",
       "      <td>0</td>\n",
       "      <td>0</td>\n",
       "      <td>0</td>\n",
       "      <td>0</td>\n",
       "      <td>0</td>\n",
       "    </tr>\n",
       "    <tr>\n",
       "      <th>4</th>\n",
       "      <td>False</td>\n",
       "      <td>-1.767431</td>\n",
       "      <td>0.791699</td>\n",
       "      <td>0.311107</td>\n",
       "      <td>-0.811933</td>\n",
       "      <td>-1.088528</td>\n",
       "      <td>-0.826792</td>\n",
       "      <td>-0.756608</td>\n",
       "      <td>0.137456</td>\n",
       "      <td>True</td>\n",
       "      <td>1</td>\n",
       "      <td>0</td>\n",
       "      <td>1</td>\n",
       "      <td>0</td>\n",
       "      <td>0</td>\n",
       "      <td>0</td>\n",
       "      <td>0</td>\n",
       "      <td>0</td>\n",
       "      <td>0</td>\n",
       "    </tr>\n",
       "  </tbody>\n",
       "</table>\n",
       "</div>"
      ],
      "text/plain": [
       "         BAD      LOAN   MORTDUE     VALUE       YOJ     CLAGE      NINQ  \\\n",
       "index                                                                      \n",
       "0       True -1.832283 -1.295882 -1.335526  0.266788 -1.075278 -0.065054   \n",
       "1       True -1.810666 -0.013474 -0.672699 -0.236615 -0.723092 -0.826792   \n",
       "2       True -1.789048 -1.654549 -1.839275 -0.668103 -0.368769 -0.065054   \n",
       "3       True -1.789048 -0.159552 -0.202559 -0.236615 -0.061033 -0.065054   \n",
       "4      False -1.767431  0.791699  0.311107 -0.811933 -1.088528 -0.826792   \n",
       "\n",
       "           CLNO   DEBTINC  DEROGzero  REASON_HomeImp  REASON_IsMissing  \\\n",
       "index                                                                    \n",
       "0     -1.297476  0.137456       True               1                 0   \n",
       "1     -0.756608  0.137456       True               1                 0   \n",
       "2     -1.189302  0.137456       True               1                 0   \n",
       "3     -0.107566  0.137456       True               0                 1   \n",
       "4     -0.756608  0.137456       True               1                 0   \n",
       "\n",
       "       JOB_Office  JOB_Other  JOB_ProfExe  JOB_Sales  JOB_Self  DELINQcat_1  \\\n",
       "index                                                                         \n",
       "0               0          1            0          0         0            0   \n",
       "1               0          1            0          0         0            0   \n",
       "2               0          1            0          0         0            0   \n",
       "3               0          1            0          0         0            0   \n",
       "4               1          0            0          0         0            0   \n",
       "\n",
       "       DELINQcat_1+  \n",
       "index                \n",
       "0                 0  \n",
       "1                 1  \n",
       "2                 0  \n",
       "3                 0  \n",
       "4                 0  "
      ]
     },
     "execution_count": 54,
     "metadata": {},
     "output_type": "execute_result"
    }
   ],
   "source": [
    "df = pd.read_csv(data_url, header = 0, index_col = 0) # import file with header and index as first row and column respectively\n",
    "\n",
    "df.head() #inspect data to make sure it looks correct"
   ]
  },
  {
   "cell_type": "code",
   "execution_count": 55,
   "metadata": {
    "id": "xQwXkg0SfHK1"
   },
   "outputs": [],
   "source": [
    "X = df.drop(['BAD'], axis=1) #code the variables in the most standard way for your usage\n",
    "y = df[['BAD']]"
   ]
  },
  {
   "cell_type": "code",
   "execution_count": 56,
   "metadata": {
    "colab": {
     "base_uri": "https://localhost:8080/"
    },
    "id": "y7tOKwVtfHK1",
    "outputId": "e89628b3-5c80-4082-f207-5f522b9988ac"
   },
   "outputs": [
    {
     "name": "stdout",
     "output_type": "stream",
     "text": [
      "<class 'pandas.core.frame.DataFrame'> <class 'pandas.core.frame.DataFrame'> (5960, 18) (5960, 1)\n"
     ]
    }
   ],
   "source": [
    "print(type(X), type(y), X.shape, y.shape) # double check that types and dimensions are correct before proceeding"
   ]
  },
  {
   "cell_type": "markdown",
   "metadata": {
    "id": "1p-_lFYzfHK1"
   },
   "source": [
    "### Helper Functions for the Tree\n",
    "\n",
    "Decision trees work by recursively partitioning data. Many potential ways to split the data are calculated (eg. we are going to go through all unique values of each column and finding the midpoint between sequential values). For each potential split, we evaluate whether the target variable has more homogeneity in each leaf. This is done by calculating the 'impurity' of the parent node and comparing it with the sum of the impurity of the child nodes. There are three major impurity functions: entropy, gini and misclassification. We will be using entropy in our example. The split which yields the lowest impurity is chosen and the process is repeated for the new nodes (i.e.,recursion). \n",
    "\n",
    "The method of choosing the split that yields the lowest impurity is called the greedy search method. The following functions will help the decision tree implement greedy search tactics on the data. The algorithm stops either when purity in each node is reached or when it has reached a maximum depth (max amount of recursions we allow) specified in our function.\n",
    "\n",
    "Many functions for the tree are not found in Python packages and it is cleaner to write them out first then put them together in our main algorithm. Each function below does a specific action, which will be used in our final tree function at the end."
   ]
  },
  {
   "cell_type": "code",
   "execution_count": 26,
   "metadata": {
    "id": "LhGSx_3efHK1"
   },
   "outputs": [],
   "source": [
    "def check_purity(y):\n",
    "    \n",
    "    'checks if a leaf node is perfectly pure, in other words, if the leaf node contains only one class'\n",
    "    \n",
    "    unique_classes = np.unique(y) #count number of classes in section of data\n",
    "\n",
    "    if len(unique_classes) == 1: #check if the node is pure\n",
    "        return True\n",
    "    else:\n",
    "        return False"
   ]
  },
  {
   "cell_type": "code",
   "execution_count": 27,
   "metadata": {
    "id": "Lg6zDh56fHK1"
   },
   "outputs": [],
   "source": [
    "def classify_data(y):\n",
    "    \n",
    "    'classifies data according to the majority class of each leaf'\n",
    "    \n",
    "    unique_classes, counts_unique_classes = np.unique(y, return_counts=True)\n",
    "    #returns classes and no. of obs per class\n",
    "\n",
    "    index = counts_unique_classes.argmax() #index of class with most obs\n",
    "    classification = unique_classes[index] #class chosen for classification which is class with most obs\n",
    "    \n",
    "    prob = len(y[y == 1]) / len(y) #returns proportion of class 1 in the leaf (prob of class 1)\n",
    "\n",
    "    return [classification, prob]"
   ]
  },
  {
   "cell_type": "code",
   "execution_count": 28,
   "metadata": {
    "id": "zNHzxN06fHK1"
   },
   "outputs": [],
   "source": [
    "def get_potential_splits(X):\n",
    "    \n",
    "    'first, takes every unique value of every feature in the feature space, then finds the midpoint between each value'\n",
    "    \n",
    "    potential_splits = {}\n",
    "    _, n_columns = X.shape #don't need rows, we choose the column to split on\n",
    "    # only need second value of .shape which is columns\n",
    "    \n",
    "    for column_index in range(n_columns):\n",
    "        potential_splits[column_index] = [] \n",
    "        values = X[:, column_index] \n",
    "        unique_values = np.unique(values) #get all unique values in each column\n",
    "\n",
    "        for index in range(len(unique_values)): #all unique feature values\n",
    "            if index != 0: #skip first value, we need the difference between next values\n",
    "                current_value = unique_values[index]\n",
    "                previous_value = unique_values[index - 1] #find a value and the next smallest value\n",
    "                potential_split = (current_value + previous_value) / 2 #find difference between the two as a potential split\n",
    "                \n",
    "                #consider all values which lie between two values as a potential split\n",
    "                \n",
    "                potential_splits[column_index].append(potential_split)\n",
    "    \n",
    "    return potential_splits"
   ]
  },
  {
   "cell_type": "code",
   "execution_count": 29,
   "metadata": {
    "id": "sgtBqNb0fHK1"
   },
   "outputs": [],
   "source": [
    "def split_data(X, y, split_column, split_value):\n",
    "    \n",
    "    'splits data based on specific value, will yield both a split for the features X and target y'\n",
    "    \n",
    "    split_column_values = X[:, split_column]\n",
    "\n",
    "    X_below = X[split_column_values <= split_value] #partitions data according to split values from previous functions\n",
    "    X_above = X[split_column_values >  split_value]\n",
    "    \n",
    "    y_below = y[split_column_values <= split_value]\n",
    "    y_above = y[split_column_values >  split_value]\n",
    "    \n",
    "    return X_below, X_above, y_below, y_above"
   ]
  },
  {
   "cell_type": "code",
   "execution_count": 30,
   "metadata": {
    "id": "CpXCl5jffHK1"
   },
   "outputs": [],
   "source": [
    "def calculate_entropy(y):\n",
    "    \n",
    "    'calculates entropy for each partition of data'\n",
    "    \n",
    "    _, counts = np.unique(y, return_counts=True) #we only need the counts of each class, _ is a placeholder\n",
    "\n",
    "    probabilities = counts / counts.sum() #probability of each class\n",
    "    entropy = sum(probabilities * -np.log2(probabilities)) #could replace with Gini impurity or misclassification\n",
    "     \n",
    "    return entropy"
   ]
  },
  {
   "cell_type": "code",
   "execution_count": 31,
   "metadata": {
    "id": "oQAF-VaAfHK1"
   },
   "outputs": [],
   "source": [
    "def calculate_overall_entropy(y_below, y_above): \n",
    "    \n",
    "    'calculates the total entropy after each split'\n",
    "       \n",
    "    n = len(y_below) + len(y_above)\n",
    "    p_data_below = len(y_below) / n\n",
    "    p_data_above = len(y_above) / n\n",
    "\n",
    "    overall_entropy =  (p_data_below * calculate_entropy(y_below)\n",
    "                      + p_data_above * calculate_entropy(y_above))\n",
    "    \n",
    "    return overall_entropy"
   ]
  },
  {
   "cell_type": "code",
   "execution_count": 32,
   "metadata": {
    "id": "NLItkeXGfHK2"
   },
   "outputs": [],
   "source": [
    "def determine_best_split(X, y, potential_splits):\n",
    "    \n",
    "    'selects which split lowered entropy the most'\n",
    "    \n",
    "    overall_entropy = 9999 #set arbitrarily high, the function will loop over and replace this with lower impurity values\n",
    "    for column_index in potential_splits:\n",
    "        for value in potential_splits[column_index]:\n",
    "            X_below, X_above, y_below, y_above = split_data(X, y, split_column=column_index, split_value=value)\n",
    "            current_overall_entropy = calculate_overall_entropy(y_below, y_above)\n",
    "            \n",
    "            #goes through each potential split and only updates if it lowers entropy\n",
    "\n",
    "            if current_overall_entropy <= overall_entropy: \n",
    "                overall_entropy = current_overall_entropy #updates only if lower entropy split found, in the ned this is greedy search\n",
    "                best_split_column = column_index\n",
    "                best_split_value = value\n",
    "    \n",
    "    return best_split_column, best_split_value"
   ]
  },
  {
   "cell_type": "markdown",
   "metadata": {
    "id": "j_QbUdkdfHK2"
   },
   "source": [
    "### The Main Algorithm\n",
    "\n",
    "The tree will now implement the helper functions and display the decision which yielded the best split if printed. Since the growing the tree can take a little bit of time, the argument `verbose` also exists which gives you status updates on the algorithm's progress. This is common for quite a few functions in the programming world."
   ]
  },
  {
   "cell_type": "code",
   "execution_count": 33,
   "metadata": {
    "id": "buDByirD5kbJ"
   },
   "outputs": [],
   "source": [
    "def decision_tree_algorithm(X, y, counter=0, min_samples=2, max_depth=5, verbose=False): \n",
    "    \n",
    "    # data preparation\n",
    "    if counter == 0:  # counter tells us how deep the tree is, this is before the tree is initiated\n",
    "        global COLUMN_HEADERS\n",
    "        COLUMN_HEADERS = X.columns\n",
    "        X = X.values  # change all to NumPy array for faster calculations\n",
    "        y = y.values\n",
    "        if verbose:\n",
    "          print(\"Data preparation complete, tree initiated\")\n",
    "          print(\"Creating first branch until first leaf, branches will then be calculated sequentially\")\n",
    "    else:\n",
    "        data = X  # if we have started the tree, X should already be a NumPy array from the code above \n",
    "    # base cases\n",
    "    if (check_purity(y)) or (len(X) < min_samples) or (counter == max_depth):\n",
    "        if verbose:\n",
    "          if (check_purity(y)):\n",
    "              print(\"Classes pure, new leaf node created\")\n",
    "          elif (len(X) < min_samples):\n",
    "              print(\"Min samples reached, new leaf node created\")\n",
    "          else:\n",
    "              print(\"Max depth reached, new leaf node created\")\n",
    "        classification, prob = classify_data(y)\n",
    "        return classification, prob\n",
    "    \n",
    "    # recursive part\n",
    "    else:    \n",
    "\n",
    "        # helper functions \n",
    "        if verbose:\n",
    "            print(\"Calculating splits at depth of\", counter)\n",
    "        potential_splits = get_potential_splits(X)  # check for all possible splits\n",
    "\n",
    "        if bool([feature_splits for feature_splits in potential_splits.values() if feature_splits != []]): # Checks that potential_splits is not just a blank dictionary (occurs when random feature subspace has no variation in observations)        \n",
    "            best_split_column, best_split_value = determine_best_split(X, y, potential_splits)  # select best split based on entropy\n",
    "            X_below, X_above, y_below, y_above = split_data(X, y, best_split_column, best_split_value)  # execute best split\n",
    "         \n",
    "            # Code to explain decisions made by tree to users\n",
    "            feature_name = COLUMN_HEADERS[best_split_column]\n",
    "            question = \"{} <= {}\".format(feature_name, best_split_value)  # initiate explanation of split\n",
    "            sub_tree = {question: []}\n",
    "        \n",
    "            # Pull answers from tree\n",
    "            if verbose:\n",
    "                print(\"Processing first split at depth\", counter)\n",
    "            yes_answer = decision_tree_algorithm(X_below, y_below, counter + 1, min_samples, max_depth, verbose)\n",
    "            if verbose:\n",
    "                print(\"Processing second split at depth\", counter)\n",
    "            no_answer = decision_tree_algorithm(X_above, y_above, counter + 1, min_samples, max_depth, verbose)\n",
    "        \n",
    "            # Ensure explanation actually shows useful information\n",
    "            if yes_answer == no_answer:  # if decisions are the same, only display one\n",
    "                sub_tree = yes_answer\n",
    "            else:\n",
    "                sub_tree[question].append(yes_answer)\n",
    "                sub_tree[question].append(no_answer)\n",
    "\n",
    "            if verbose:\n",
    "             if (counter == 0):\n",
    "                print(\"Tree Complete\")\n",
    "\n",
    "        else: # if potential_splits is empty due to lack of feature variation, just classify the data at this point\n",
    "            classification = classify_data(y)\n",
    "            return classification\n",
    "        \n",
    "        return sub_tree"
   ]
  },
  {
   "cell_type": "markdown",
   "metadata": {
    "id": "Yt9v0ldZfHK2"
   },
   "source": [
    "### Grow First Tree\n",
    "\n",
    "Test the tree and display the decisions with a shallow depth."
   ]
  },
  {
   "cell_type": "code",
   "execution_count": 34,
   "metadata": {
    "colab": {
     "base_uri": "https://localhost:8080/"
    },
    "id": "CxqcpI_3fHK2",
    "outputId": "d5d0ab02-6db3-47a1-ed13-8352297f816f"
   },
   "outputs": [
    {
     "name": "stdout",
     "output_type": "stream",
     "text": [
      "Data preparation complete, tree initiated\n",
      "Creating first branch until first leaf, branches will then be calculated sequentially\n",
      "Calculating splits at depth of 0\n",
      "Processing first split at depth 0\n",
      "Calculating splits at depth of 1\n",
      "Processing first split at depth 1\n",
      "Max depth reached, new leaf node created\n",
      "Processing second split at depth 1\n",
      "Max depth reached, new leaf node created\n",
      "Processing second split at depth 0\n",
      "Calculating splits at depth of 1\n",
      "Processing first split at depth 1\n",
      "Max depth reached, new leaf node created\n",
      "Processing second split at depth 1\n",
      "Max depth reached, new leaf node created\n",
      "Tree Complete\n"
     ]
    }
   ],
   "source": [
    "tree = decision_tree_algorithm(X, y, max_depth=2, verbose=True)"
   ]
  },
  {
   "cell_type": "markdown",
   "metadata": {
    "id": "pz8boTvjfHK2"
   },
   "source": [
    "#### Structure of the First Tree"
   ]
  },
  {
   "cell_type": "code",
   "execution_count": 36,
   "metadata": {
    "colab": {
     "base_uri": "https://localhost:8080/"
    },
    "id": "u-eOLiADfHK2",
    "outputId": "c53f3077-2d1f-4619-d959-e02f2418a248",
    "scrolled": true
   },
   "outputs": [
    {
     "name": "stdout",
     "output_type": "stream",
     "text": [
      "{'DEBTINC <= 0.13253751764464605': [{'DELINQcat_1+ <= 0.5': [(False,\n",
      "                                                              0.04424379232505643),\n",
      "                                                             (False,\n",
      "                                                              0.2777777777777778)]},\n",
      "                                    {'DEBTINC <= 0.137471043429223': [(True,\n",
      "                                                                       0.6182246661429693),\n",
      "                                                                      (False,\n",
      "                                                                       0.11466325660699062)]}]}\n"
     ]
    }
   ],
   "source": [
    "from pprint import pprint  # library for prettier print output\n",
    "\n",
    "pprint(tree)"
   ]
  },
  {
   "cell_type": "code",
   "execution_count": 37,
   "metadata": {
    "colab": {
     "base_uri": "https://localhost:8080/"
    },
    "id": "AK0KBq9XfHK2",
    "outputId": "3cdd0054-6492-4cdf-a44e-8a0394e2aeea"
   },
   "outputs": [
    {
     "data": {
      "text/plain": [
       "dict_values([[{'DELINQcat_1+ <= 0.5': [(False, 0.04424379232505643), (False, 0.2777777777777778)]}, {'DEBTINC <= 0.137471043429223': [(True, 0.6182246661429693), (False, 0.11466325660699062)]}]])"
      ]
     },
     "execution_count": 37,
     "metadata": {
      "tags": []
     },
     "output_type": "execute_result"
    }
   ],
   "source": [
    "tree.values()"
   ]
  },
  {
   "cell_type": "markdown",
   "metadata": {
    "id": "PkaCufj0fHK2"
   },
   "source": [
    "The first node in the tree asks the question:\n",
    "\n",
    "DEBTINC <= 0.13253751764464605\n",
    "\n",
    "If this is true, the tree will predict BAD as false.\n",
    "\n",
    "If this is false, the tree will ask a second question:\n",
    "\n",
    "DEBTINC <= 0.137471043429223\n",
    "\n",
    "If true, the tree will predict BAD is true. If false, the tree will predict BAD is false."
   ]
  },
  {
   "cell_type": "markdown",
   "metadata": {
    "id": "MC_T56DrfHK2"
   },
   "source": [
    "#### Classification Example from First Tree\n",
    "\n",
    "Let's take an example and see how the tree classifies it."
   ]
  },
  {
   "cell_type": "code",
   "execution_count": 38,
   "metadata": {
    "colab": {
     "base_uri": "https://localhost:8080/"
    },
    "id": "6bVttPZlfHK2",
    "outputId": "a21d8b5e-3a3d-42c1-ada8-845188446c48"
   },
   "outputs": [
    {
     "data": {
      "text/plain": [
       "BAD                      True\n",
       "LOAN                 -1.78905\n",
       "MORTDUE              -1.65455\n",
       "VALUE                -1.83928\n",
       "YOJ                 -0.668103\n",
       "CLAGE               -0.368769\n",
       "NINQ               -0.0650545\n",
       "CLNO                  -1.1893\n",
       "DEBTINC              0.137456\n",
       "DEROGzero                True\n",
       "REASON_HomeImp              1\n",
       "REASON_IsMissing            0\n",
       "JOB_Office                  0\n",
       "JOB_Other                   1\n",
       "JOB_ProfExe                 0\n",
       "JOB_Sales                   0\n",
       "JOB_Self                    0\n",
       "DELINQcat_1                 0\n",
       "DELINQcat_1+                0\n",
       "Name: 2, dtype: object"
      ]
     },
     "execution_count": 38,
     "metadata": {
      "tags": []
     },
     "output_type": "execute_result"
    }
   ],
   "source": [
    "example = df.iloc[2] #take a random observation\n",
    "example"
   ]
  },
  {
   "cell_type": "markdown",
   "metadata": {
    "id": "NNHQD5T9ZvUP"
   },
   "source": [
    "To put this example down our tree, we implement a function `classify_example()`. Eventually, we would like our tree to facilitate prediction in a similar way as `sklearn` models. Therefore, we also implement two *wrapper* functions `predict()` and `predict_proba()`; as we did before for our custom logit model. These functions kind of 'wrap up' the function `classify_example()` - hence the name wrapper function - and call it for every instance in a data set."
   ]
  },
  {
   "cell_type": "code",
   "execution_count": 39,
   "metadata": {
    "id": "Pj2LL01HfHK2"
   },
   "outputs": [],
   "source": [
    "def classify_example(example, tree):\n",
    "    question = list(tree.keys())[0] #checks what is the next data split\n",
    "    feature_name, comparison_operator, value = question.split() #splits question into elements\n",
    "\n",
    "    # ask question\n",
    "    if example[feature_name] <= float(value): # checks key element for split\n",
    "        answer = tree[question][0] # selects yes answer\n",
    "    else:\n",
    "        answer = tree[question][1] # selects no answer\n",
    "\n",
    "    # base case\n",
    "    if not isinstance(answer, dict): # if answer is not a dictionary, we have reached a decision\n",
    "        return answer # display prediction\n",
    "    \n",
    "    # recursive part\n",
    "    else:\n",
    "        residual_tree = answer # continue if another dictionary is reached\n",
    "        return classify_example(example, residual_tree)\n",
    "\n",
    "# function for predicting class of observation\n",
    "def predict(tree, data):\n",
    "  pred = data.apply(classify_example, axis=1, args=(tree,))\n",
    "  return [int(row[0]) for row in pred]\n",
    "\n",
    "# function for predicting probability of observation being class 1 \n",
    "def predict_prob(tree, data):\n",
    "  pred = data.apply(classify_example, axis=1, args=(tree,))\n",
    "  return [row[1] for row in pred]"
   ]
  },
  {
   "cell_type": "markdown",
   "metadata": {
    "id": "CkbFQpN4ZvUP"
   },
   "source": [
    "Ok, finally, here is the classification result for the above instance:"
   ]
  },
  {
   "cell_type": "code",
   "execution_count": 40,
   "metadata": {
    "colab": {
     "base_uri": "https://localhost:8080/"
    },
    "id": "yKAAKTB6fHK2",
    "outputId": "474fa74f-2e7b-4ade-c697-9374cae65d9a"
   },
   "outputs": [
    {
     "data": {
      "text/plain": [
       "(True, 0.6182246661429693)"
      ]
     },
     "execution_count": 40,
     "metadata": {
      "tags": []
     },
     "output_type": "execute_result"
    }
   ],
   "source": [
    "classify_example(example, tree)"
   ]
  },
  {
   "cell_type": "code",
   "execution_count": 41,
   "metadata": {
    "colab": {
     "base_uri": "https://localhost:8080/"
    },
    "id": "oZlyn-UbfHK2",
    "outputId": "0b1bbcd0-9852-48f3-cb4d-3d9dd7cefea1"
   },
   "outputs": [
    {
     "data": {
      "text/plain": [
       "BAD    True\n",
       "Name: 2, dtype: bool"
      ]
     },
     "execution_count": 41,
     "metadata": {
      "tags": []
     },
     "output_type": "execute_result"
    }
   ],
   "source": [
    "y.iloc[2]"
   ]
  },
  {
   "cell_type": "markdown",
   "metadata": {
    "id": "qs0EdAtUfHK2"
   },
   "source": [
    "The classification for this one instance is correct. It will be more interesting though to examine how well the tree classifiers a set of - or all - instances in our data. This is where our `predict()` functions come into play. "
   ]
  },
  {
   "cell_type": "markdown",
   "metadata": {
    "id": "M2LhiN3jZvUP"
   },
   "source": [
    "#### Predictions and Accuracy from First Tree"
   ]
  },
  {
   "cell_type": "code",
   "execution_count": 42,
   "metadata": {
    "colab": {
     "base_uri": "https://localhost:8080/"
    },
    "id": "lwkFg2YzfHK2",
    "outputId": "1b0bd135-136c-42e8-b3dc-f41cf81ef1ef"
   },
   "outputs": [
    {
     "data": {
      "text/plain": [
       "[1, 1, 1, 1, 1]"
      ]
     },
     "execution_count": 42,
     "metadata": {
      "tags": []
     },
     "output_type": "execute_result"
    }
   ],
   "source": [
    "predictions = predict(tree, X)  # obtain discrete class predictions (i.e., majority class in the respective leaf nodes)\n",
    "\n",
    "predictions[:5]"
   ]
  },
  {
   "cell_type": "code",
   "execution_count": 43,
   "metadata": {
    "colab": {
     "base_uri": "https://localhost:8080/"
    },
    "id": "-29Sz93zYu_R",
    "outputId": "1486d7c8-2db9-41e6-bd5a-b78ab068ba6d"
   },
   "outputs": [
    {
     "data": {
      "text/plain": [
       "[0.6182246661429693,\n",
       " 0.6182246661429693,\n",
       " 0.6182246661429693,\n",
       " 0.6182246661429693,\n",
       " 0.6182246661429693]"
      ]
     },
     "execution_count": 43,
     "metadata": {
      "tags": []
     },
     "output_type": "execute_result"
    }
   ],
   "source": [
    "predictions_prob = predict_prob(tree, X) #probability of being class 1\n",
    "\n",
    "predictions_prob[:5]"
   ]
  },
  {
   "cell_type": "code",
   "execution_count": 44,
   "metadata": {
    "colab": {
     "base_uri": "https://localhost:8080/"
    },
    "id": "ITH87JpTfHK2",
    "outputId": "21f05c3c-a709-4384-95de-c3d975ab6817"
   },
   "outputs": [
    {
     "data": {
      "text/plain": [
       "0.851006711409396"
      ]
     },
     "execution_count": 44,
     "metadata": {
      "tags": []
     },
     "output_type": "execute_result"
    }
   ],
   "source": [
    "error = np.mean(np.vstack(predictions) == np.array(y))\n",
    "\n",
    "error"
   ]
  },
  {
   "cell_type": "markdown",
   "metadata": {
    "id": "sLnc0niWfHK2"
   },
   "source": [
    "The tree is able to classify a good proportion of the test set well even with only a depth of 2."
   ]
  },
  {
   "cell_type": "markdown",
   "metadata": {
    "id": "Q9BColNWfHK2"
   },
   "source": [
    "### Higher Depth in Tree\n",
    "\n",
    "Test the tree and display the decisions with a higher depth to see if accuracy changed. Be warned, the computations might take a few minutes to complete. After growing the tree, we will proceed as before with calculating predictions and examining their accuracy."
   ]
  },
  {
   "cell_type": "code",
   "execution_count": 45,
   "metadata": {
    "colab": {
     "base_uri": "https://localhost:8080/"
    },
    "id": "DGO-xjnyfHK2",
    "outputId": "d1b3e790-180c-4e4b-ff8b-41512e537162"
   },
   "outputs": [
    {
     "name": "stdout",
     "output_type": "stream",
     "text": [
      "Data preparation complete, tree initiated\n",
      "Creating first branch until first leaf, branches will then be calculated sequentially\n",
      "Calculating splits at depth of 0\n",
      "Processing first split at depth 0\n",
      "Calculating splits at depth of 1\n",
      "Processing first split at depth 1\n",
      "Calculating splits at depth of 2\n",
      "Processing first split at depth 2\n",
      "Calculating splits at depth of 3\n",
      "Processing first split at depth 3\n",
      "Calculating splits at depth of 4\n",
      "Processing first split at depth 4\n",
      "Max depth reached, new leaf node created\n",
      "Processing second split at depth 4\n",
      "Max depth reached, new leaf node created\n",
      "Processing second split at depth 3\n",
      "Calculating splits at depth of 4\n",
      "Processing first split at depth 4\n",
      "Classes pure, new leaf node created\n",
      "Processing second split at depth 4\n",
      "Max depth reached, new leaf node created\n",
      "Processing second split at depth 2\n",
      "Calculating splits at depth of 3\n",
      "Processing first split at depth 3\n",
      "Calculating splits at depth of 4\n",
      "Processing first split at depth 4\n",
      "Classes pure, new leaf node created\n",
      "Processing second split at depth 4\n",
      "Classes pure, new leaf node created\n",
      "Processing second split at depth 3\n",
      "Calculating splits at depth of 4\n",
      "Processing first split at depth 4\n",
      "Max depth reached, new leaf node created\n",
      "Processing second split at depth 4\n",
      "Classes pure, new leaf node created\n",
      "Processing second split at depth 1\n",
      "Calculating splits at depth of 2\n",
      "Processing first split at depth 2\n",
      "Classes pure, new leaf node created\n",
      "Processing second split at depth 2\n",
      "Calculating splits at depth of 3\n",
      "Processing first split at depth 3\n",
      "Calculating splits at depth of 4\n",
      "Processing first split at depth 4\n",
      "Max depth reached, new leaf node created\n",
      "Processing second split at depth 4\n",
      "Max depth reached, new leaf node created\n",
      "Processing second split at depth 3\n",
      "Calculating splits at depth of 4\n",
      "Processing first split at depth 4\n",
      "Max depth reached, new leaf node created\n",
      "Processing second split at depth 4\n",
      "Classes pure, new leaf node created\n",
      "Processing second split at depth 0\n",
      "Calculating splits at depth of 1\n",
      "Processing first split at depth 1\n",
      "Calculating splits at depth of 2\n",
      "Processing first split at depth 2\n",
      "Calculating splits at depth of 3\n",
      "Processing first split at depth 3\n",
      "Calculating splits at depth of 4\n",
      "Processing first split at depth 4\n",
      "Max depth reached, new leaf node created\n",
      "Processing second split at depth 4\n",
      "Max depth reached, new leaf node created\n",
      "Processing second split at depth 3\n",
      "Calculating splits at depth of 4\n",
      "Processing first split at depth 4\n",
      "Max depth reached, new leaf node created\n",
      "Processing second split at depth 4\n",
      "Max depth reached, new leaf node created\n",
      "Processing second split at depth 2\n",
      "Calculating splits at depth of 3\n",
      "Processing first split at depth 3\n",
      "Calculating splits at depth of 4\n",
      "Processing first split at depth 4\n",
      "Max depth reached, new leaf node created\n",
      "Processing second split at depth 4\n",
      "Classes pure, new leaf node created\n",
      "Processing second split at depth 3\n",
      "Classes pure, new leaf node created\n",
      "Processing second split at depth 1\n",
      "Calculating splits at depth of 2\n",
      "Processing first split at depth 2\n",
      "Calculating splits at depth of 3\n",
      "Processing first split at depth 3\n",
      "Calculating splits at depth of 4\n",
      "Processing first split at depth 4\n",
      "Max depth reached, new leaf node created\n",
      "Processing second split at depth 4\n",
      "Max depth reached, new leaf node created\n",
      "Processing second split at depth 3\n",
      "Calculating splits at depth of 4\n",
      "Processing first split at depth 4\n",
      "Max depth reached, new leaf node created\n",
      "Processing second split at depth 4\n",
      "Max depth reached, new leaf node created\n",
      "Processing second split at depth 2\n",
      "Calculating splits at depth of 3\n",
      "Processing first split at depth 3\n",
      "Calculating splits at depth of 4\n",
      "Processing first split at depth 4\n",
      "Classes pure, new leaf node created\n",
      "Processing second split at depth 4\n",
      "Classes pure, new leaf node created\n",
      "Processing second split at depth 3\n",
      "Classes pure, new leaf node created\n",
      "Tree Complete\n"
     ]
    }
   ],
   "source": [
    "tree_deep = decision_tree_algorithm(X, y, max_depth=5, verbose=True)"
   ]
  },
  {
   "cell_type": "code",
   "execution_count": 46,
   "metadata": {
    "colab": {
     "base_uri": "https://localhost:8080/"
    },
    "id": "BolXOVjR-huJ",
    "outputId": "45ee3d13-9ed5-493e-f391-c76563587a25"
   },
   "outputs": [
    {
     "name": "stdout",
     "output_type": "stream",
     "text": [
      "{'DEBTINC <= 0.13253751764464605': [{'DELINQcat_1+ <= 0.5': [{'YOJ <= -0.45235911313134003': [{'MORTDUE <= -0.9625627627614091': [{'LOAN <= -0.5406409454191005': [(False,\n",
      "                                                                                                                                                                    0.46875),\n",
      "                                                                                                                                                                   (False,\n",
      "                                                                                                                                                                    0.07407407407407407)]},\n",
      "                                                                                                                                  {'CLAGE <= -1.6018838077330106': [(True,\n",
      "                                                                                                                                                                     1.0),\n",
      "                                                                                                                                                                    (False,\n",
      "                                                                                                                                                                     0.05263157894736842)]}]},\n",
      "                                                                                              {'CLNO <= -2.000604835823807': [{'NINQ <= 1.8392902689088348': [(True,\n",
      "                                                                                                                                                               1.0),\n",
      "                                                                                                                                                              (False,\n",
      "                                                                                                                                                               0.0)]},\n",
      "                                                                                                                              {'VALUE <= 1.0932318617252927': [(False,\n",
      "                                                                                                                                                                0.02585487906588824),\n",
      "                                                                                                                                                               (False,\n",
      "                                                                                                                                                                0.0)]}]}]},\n",
      "                                                             {'DEBTINC <= -2.3454895026160827': [(True,\n",
      "                                                                                                  1.0),\n",
      "                                                                                                 {'CLNO <= 0.37921586131542506': [{'MORTDUE <= -0.10670961854524455': [(False,\n",
      "                                                                                                                                                                        0.23809523809523808),\n",
      "                                                                                                                                                                       (True,\n",
      "                                                                                                                                                                        0.8181818181818182)]},\n",
      "                                                                                                                                  {'NINQ <= 1.8392902689088348': [(False,\n",
      "                                                                                                                                                                   0.03389830508474576),\n",
      "                                                                                                                                                                  (True,\n",
      "                                                                                                                                                                   1.0)]}]}]}]},\n",
      "                                    {'DEBTINC <= 0.137471043429223': [{'DELINQcat_1+ <= 0.5': [{'CLAGE <= -0.0016147772794835172': [{'DEROGzero <= 0.5': [(True,\n",
      "                                                                                                                                                           0.8467153284671532),\n",
      "                                                                                                                                                          (True,\n",
      "                                                                                                                                                           0.61003861003861)]},\n",
      "                                                                                                                                    {'DELINQcat_1 <= 0.5': [(False,\n",
      "                                                                                                                                                             0.29328621908127206),\n",
      "                                                                                                                                                            (True,\n",
      "                                                                                                                                                             0.6296296296296297)]}]},\n",
      "                                                                                               {'NINQ <= 1.8392902689088348': [{'CLAGE <= 2.6917061819147854': [(True,\n",
      "                                                                                                                                                                 0.8564814814814815),\n",
      "                                                                                                                                                                (False,\n",
      "                                                                                                                                                                 0.0)]},\n",
      "                                                                                                                               (True,\n",
      "                                                                                                                                1.0)]}]},\n",
      "                                                                      {'DEBTINC <= 1.8737893279539952': [{'CLAGE <= 0.3074093985075284': [{'DEROGzero <= 0.5': [(False,\n",
      "                                                                                                                                                                 0.319672131147541),\n",
      "                                                                                                                                                                (False,\n",
      "                                                                                                                                                                 0.0959119496855346)]},\n",
      "                                                                                                                                          {'DELINQcat_1+ <= 0.5': [(False,\n",
      "                                                                                                                                                                    0.019161676646706587),\n",
      "                                                                                                                                                                   (False,\n",
      "                                                                                                                                                                    0.37142857142857144)]}]},\n",
      "                                                                                                         {'DEBTINC <= 1.9581125560204375': [{'REASON_HomeImp <= 0.5': [(True,\n",
      "                                                                                                                                                                        1.0),\n",
      "                                                                                                                                                                       (False,\n",
      "                                                                                                                                                                        0.0)]},\n",
      "                                                                                                                                            (True,\n",
      "                                                                                                                                             1.0)]}]}]}]}\n"
     ]
    }
   ],
   "source": [
    "pprint(tree_deep)"
   ]
  },
  {
   "cell_type": "code",
   "execution_count": 47,
   "metadata": {
    "colab": {
     "base_uri": "https://localhost:8080/"
    },
    "id": "kTuXwY5DfHK3",
    "outputId": "bbae6b2d-17a9-42d5-f917-2a7a1c9ed8d5"
   },
   "outputs": [
    {
     "data": {
      "text/plain": [
       "[1, 1, 1, 1, 1]"
      ]
     },
     "execution_count": 47,
     "metadata": {
      "tags": []
     },
     "output_type": "execute_result"
    }
   ],
   "source": [
    "predictions_deep = predict(tree_deep, X)\n",
    "\n",
    "predictions_deep[:5]"
   ]
  },
  {
   "cell_type": "code",
   "execution_count": 48,
   "metadata": {
    "colab": {
     "base_uri": "https://localhost:8080/"
    },
    "id": "cWaQxYrsZkuY",
    "outputId": "2a4c92e5-d6c5-4f9b-b756-5c3eb06de3dd"
   },
   "outputs": [
    {
     "data": {
      "text/plain": [
       "[0.61003861003861,\n",
       " 0.8564814814814815,\n",
       " 0.61003861003861,\n",
       " 0.61003861003861,\n",
       " 0.61003861003861]"
      ]
     },
     "execution_count": 48,
     "metadata": {
      "tags": []
     },
     "output_type": "execute_result"
    }
   ],
   "source": [
    "predictions_prob_deep = predict_prob(tree_deep, X)\n",
    "\n",
    "predictions_prob_deep[:5]"
   ]
  },
  {
   "cell_type": "code",
   "execution_count": 49,
   "metadata": {
    "colab": {
     "base_uri": "https://localhost:8080/"
    },
    "id": "pP4SrqQLfHK3",
    "outputId": "0a003d4e-7936-4d3b-e00d-7a0b6291bd9b"
   },
   "outputs": [
    {
     "data": {
      "text/plain": [
       "0.8897651006711409"
      ]
     },
     "execution_count": 49,
     "metadata": {
      "tags": []
     },
     "output_type": "execute_result"
    }
   ],
   "source": [
    "error_deep = np.mean(np.vstack(predictions_deep) == np.array(y))\n",
    "\n",
    "error_deep"
   ]
  },
  {
   "cell_type": "markdown",
   "metadata": {
    "id": "kN-4UJIJfHK3"
   },
   "source": [
    "The performance of the tree is even better with this depth. However, as we continue to increase depth, there will come a point where the accuracy decreases as the tree internalizes noise from the data. This is called overfitting and weakens the tree's ability to classify unseen observations. Thus, the tree can be deepened only until the test set accuracy begins decreasing."
   ]
  },
  {
   "cell_type": "markdown",
   "metadata": {
    "id": "24iH_u3ANDol"
   },
   "source": [
    "## Decision Trees with sklearn\n",
    "\n",
    "As mentioned, the sklean library supports tree-based algorithms, which are a lot easier to use compared to coding a tree algorithm from scratch. Armed with the knowledge of the inner workings of a decision tree, it should be easier to understand what this algorithm is trying to achieve."
   ]
  },
  {
   "cell_type": "code",
   "execution_count": 57,
   "metadata": {
    "id": "y4Fd0cChNDol"
   },
   "outputs": [],
   "source": [
    "from sklearn import tree\n",
    "\n",
    "clf = tree.DecisionTreeClassifier(criterion=\"entropy\", min_samples_split=2, max_depth=2) #keep tree at a low depth\n",
    "\n",
    "dt_shallow = clf.fit(X, y)"
   ]
  },
  {
   "cell_type": "code",
   "execution_count": 58,
   "metadata": {
    "id": "v_KPNLD6NDon"
   },
   "outputs": [],
   "source": [
    "pred_dt_shallow = dt_shallow.predict(X)"
   ]
  },
  {
   "cell_type": "code",
   "execution_count": 59,
   "metadata": {
    "colab": {
     "base_uri": "https://localhost:8080/"
    },
    "id": "k6CTpH7yNDoq",
    "outputId": "7a067141-9d7b-46e2-8012-40c665fed606"
   },
   "outputs": [
    {
     "data": {
      "text/plain": [
       "array([ True,  True,  True,  True,  True])"
      ]
     },
     "execution_count": 59,
     "metadata": {},
     "output_type": "execute_result"
    }
   ],
   "source": [
    "pred_dt_shallow[0:5]"
   ]
  },
  {
   "cell_type": "code",
   "execution_count": 60,
   "metadata": {
    "colab": {
     "base_uri": "https://localhost:8080/"
    },
    "id": "lJT5XZOsNDos",
    "outputId": "0a98168a-6fa4-4577-a49f-f3071bc1f300"
   },
   "outputs": [
    {
     "data": {
      "text/plain": [
       "0.851006711409396"
      ]
     },
     "execution_count": 60,
     "metadata": {},
     "output_type": "execute_result"
    }
   ],
   "source": [
    "classify_correct_shallow = pred_dt_shallow == y.iloc[:,0]\n",
    "accuracy_shallow = classify_correct_shallow.mean()\n",
    "\n",
    "\n",
    "accuracy_shallow"
   ]
  },
  {
   "cell_type": "code",
   "execution_count": 61,
   "metadata": {
    "colab": {
     "base_uri": "https://localhost:8080/",
     "height": 371
    },
    "id": "L7n0bgMhNDow",
    "outputId": "b21a42c3-da58-4174-83c6-8dd0cea9ce27"
   },
   "outputs": [
    {
     "data": {
      "text/plain": [
       "[Text(167.4, 181.2, 'X[7] <= 0.133\\nentropy = 0.721\\nsamples = 5960\\nvalue = [4771, 1189]'),\n",
       " Text(83.7, 108.72, 'X[17] <= 0.5\\nentropy = 0.315\\nsamples = 2341\\nvalue = [2208, 133]'),\n",
       " Text(41.85, 36.23999999999998, 'entropy = 0.261\\nsamples = 2215\\nvalue = [2117, 98]'),\n",
       " Text(125.55000000000001, 36.23999999999998, 'entropy = 0.852\\nsamples = 126\\nvalue = [91, 35]'),\n",
       " Text(251.10000000000002, 108.72, 'X[7] <= 0.137\\nentropy = 0.871\\nsamples = 3619\\nvalue = [2563, 1056]'),\n",
       " Text(209.25, 36.23999999999998, 'entropy = 0.959\\nsamples = 1273\\nvalue = [486, 787]'),\n",
       " Text(292.95, 36.23999999999998, 'entropy = 0.514\\nsamples = 2346\\nvalue = [2077, 269]')]"
      ]
     },
     "execution_count": 61,
     "metadata": {},
     "output_type": "execute_result"
    },
    {
     "data": {
      "image/png": "[encoded data removed]",
      "text/plain": [
       "<Figure size 432x288 with 1 Axes>"
      ]
     },
     "metadata": {
      "needs_background": "light"
     },
     "output_type": "display_data"
    }
   ],
   "source": [
    "tree.plot_tree(dt_shallow, fontsize=8)"
   ]
  },
  {
   "cell_type": "markdown",
   "metadata": {
    "id": "Q8I98tRbNDoz"
   },
   "source": [
    "### SKLearn Tree with No Limit on Depth\n",
    "\n",
    "If we remove the maximum depth parameter, the algorithm will go as far as it can until all nodes are pure."
   ]
  },
  {
   "cell_type": "code",
   "execution_count": 62,
   "metadata": {
    "id": "y4HfrTLyNDoz"
   },
   "outputs": [],
   "source": [
    "clf = tree.DecisionTreeClassifier(criterion='entropy', min_samples_split=2)\n",
    "\n",
    "dt_deep = clf.fit(X, y)\n",
    "\n",
    "pred_dt_deep = dt_deep.predict(X)"
   ]
  },
  {
   "cell_type": "code",
   "execution_count": 63,
   "metadata": {
    "colab": {
     "base_uri": "https://localhost:8080/"
    },
    "id": "5Na0BNJFNDo1",
    "outputId": "3f18be46-1f98-47d2-efc1-2ef28821a90c"
   },
   "outputs": [
    {
     "data": {
      "text/plain": [
       "array([ True,  True,  True,  True, False])"
      ]
     },
     "execution_count": 63,
     "metadata": {},
     "output_type": "execute_result"
    }
   ],
   "source": [
    "pred_dt_deep[0:5]"
   ]
  },
  {
   "cell_type": "code",
   "execution_count": 64,
   "metadata": {
    "colab": {
     "base_uri": "https://localhost:8080/"
    },
    "id": "s-rfG-hbNDo3",
    "outputId": "3580db64-b812-43bf-851c-2036da9384ea"
   },
   "outputs": [
    {
     "data": {
      "text/plain": [
       "1.0"
      ]
     },
     "execution_count": 64,
     "metadata": {},
     "output_type": "execute_result"
    }
   ],
   "source": [
    "classify_correct_deep = pred_dt_deep == y.iloc[:,0]\n",
    "accuracy_deep = classify_correct_deep.mean()\n",
    "\n",
    "accuracy_deep"
   ]
  },
  {
   "cell_type": "markdown",
   "metadata": {
    "id": "Bs1jcqGTNDo5"
   },
   "source": [
    "While this seems great at first glance, what is the problem here? What does this mean for new data that we encounter whose idiosyncracies may be slightly different than the data we used to train the model?"
   ]
  },
  {
   "cell_type": "markdown",
   "metadata": {
    "id": "63MGs5D4bYdu"
   },
   "source": [
    "# Conclusion\n",
    "\n",
    "There you have it! We have taken many strides to get to this point to complete your first regression and classification problems! There are many ways to refine the technique, we'll keep learning more in the next lessons and tutorials. Try some of these on your own and see if you can get some of your own models up and running.\n",
    "\n"
   ]
  },
  {
   "cell_type": "markdown",
   "metadata": {
    "id": "a7Dvvucmg4wI"
   },
   "source": [
    "## Overview Table\n",
    "\n",
    "NumPy code which was used here:\n",
    "\n",
    "\n",
    "| Goal | Possible Code |\n",
    "| --- | --- |\n",
    "| Generate n evenly spaced numbers between min and max | `np.linspace(min, max, num=n)` |\n",
    "| Generate n sized array drawn from specified random normal | `np.random.normal(loc=mean, scale=var, size=n)` |\n",
    "| Arrange array vertically | `np.vstack(array)` |\n",
    "| Concatenate arrays | `np.concatenate(array1, array2)` |\n",
    "| Create a matrix or array of 1s in the shape of 2 rows and 2 cols | `np.ones((2,2))` |\n",
    "| Dot product of two arrays | `np.dot(array1, array2)`|\n",
    "| If else with NumPy array | `np.where(condition, value_if_true, value_if_false)` |\n",
    "| If array element < 1:  multiply element by two, else: set element to 0 | `np.where(array<1, array*2, 0)` |\n",
    "| Create correlation matrix of two arrays or `pandas` Series | `np.corrcoef(array, array)` |\n",
    "\n",
    "`statsmodels.api` code for logistic regression:\n",
    "\n",
    "| Goal | Possible Code |\n",
    "| --- | --- |\n",
    "| Add constant to features | `add_constant(X, prepend=True, has_constant='raise')` |\n",
    "| Generate logistic regression | `sm.Logit(y.astype(int), X.astype(float), ) ` |\n",
    "| Fit logistic regression | `model_name.fit()` |\n",
    "| Get summary of regression | `fitted_model.summary()` |\n",
    "\n",
    "*Note that you must save the fitted model under a new name with `statsmodels.api`. It was overwritten in the same name in this tutorial.\n",
    "\n",
    "`sklearn` code implemented here:\n",
    "\n",
    "| Goal | Possible Code |\n",
    "| --- | --- |\n",
    "| Generate decision tree classifier | `tree.DecisionTreeClassifier()` |\n",
    "| Generate logistic regression | `LogisticRegression(penalty='none', fit_intercept=False) ` |\n",
    "| Fit model to X and y | `model_name.fit(X, y)`|\n",
    "| Predict based on X | `model_name.predict(X)` |"
   ]
  }
 ],
 "metadata": {
  "colab": {
   "collapsed_sections": [
    "HUkvWfFsVf2m",
    "WGbaWjvgNDna",
    "rDBY9KhyNDns",
    "3m-msruhNDoB",
    "tXwvb-StNDoE",
    "B0xBW-wxNDoH",
    "zG3DmknMNDoL",
    "aaDC9YXTNDoU",
    "B4eGRMz_NDob",
    "24iH_u3ANDol",
    "Q8I98tRbNDoz"
   ],
   "name": "5_nb_supervised_learningmodellingreview.ipynb.txt",
   "provenance": []
  },
  "kernelspec": {
   "display_name": "Python 3",
   "language": "python",
   "name": "python3"
  },
  "language_info": {
   "codemirror_mode": {
    "name": "ipython",
    "version": 3
   },
   "file_extension": ".py",
   "mimetype": "text/x-python",
   "name": "python",
   "nbconvert_exporter": "python",
   "pygments_lexer": "ipython3",
   "version": "3.8.8"
  }
 },
 "nbformat": 4,
 "nbformat_minor": 4
}
