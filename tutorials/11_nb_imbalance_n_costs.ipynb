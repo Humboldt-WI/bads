{
 "cells": [
  {
   "cell_type": "markdown",
   "metadata": {
    "id": "y5AQnlX2xJt2"
   },
   "source": [
    "[![Open In Colab](https://colab.research.google.com/assets/colab-badge.svg)](https://colab.research.google.com/github/Humboldt-WI/bads/blob/master/tutorials/11_nb_imbalance_n_costs.ipynb) "
   ]
  },
  {
   "cell_type": "markdown",
   "metadata": {
    "id": "wSq1WEacXr-u"
   },
   "source": [
    "# Chapter 11 - Imbalanced and cost-sensitive learning\n",
    "Welcome to chapter 11 of [Business Analytics and Data Science](). This week, we will revisit the lecture on imbalanced and cost-sensitive learning. Imbalance and asymmetric error costs occur frequently in business applications. Our well-known credit scoring use case exemplifies just this. Banks approve credit applications selectively and have achieved high sophistication in default prediction. Consequently, the observed default rates are often low, which implies that a credit scoring data set will typically exhibit class imbalance. Good customers represent the majority while defaulting clients represent the minority class. Using strategies from the realms of imbalanced learning, we can enhance the recognition of the minority class during *classifier training*. Apart from training, we have to ensure that the *evaluation* of a classifier (e.g., default prediction models) is based on suitable performance measures, which are robust toward class imbalance.\n",
    "\n",
    "Similarly, it is a known fact in credit scoring that *error costs are asymmetric*. If we consider clients who would actually repay as the positive class, we can say that there are two possible errors in credit risk prediction:\n",
    "\n",
    "- Accepting a client who will default (false positive, firm loses money lent)\n",
    "- Rejecting a client who would have repaid (false negative, firm misses out on earning interests)\n",
    "\n",
    "Just to elaborate on the meaning of false positive and false negative, if we thought our model predicted that someone would repay but that turns out to be wrong, it was false to categorize them in the positive class. That is a false positive. Then, if we reject someone who would have actually repaid, we were false about them being in the negative class. That is a false negative error.\n",
    "\n",
    "In our scenario, the cost of a false positive error is equal to the part of the loan that is lost in case of default. On the other hand, a false negative error cost us the interest that we could have been earned. The false positive is an actual loss while the false negative is an opportunity cost. The literature on cost-sensitive learning has developed approaches to address asymmetric error costs during the *training* and/or the *evaluation* of a classifier. \n",
    "\n",
    "Note that this is just one example. Let's say we are developing a classifier which scans an medical image to check for the presence of a disease. Say we define the positive class to be when a disease is present. Accordingly, the negative class is associated with the absence of a disease. The possible errors are failing to detect the presence of the disease (false negative) or predicting someone to suffer the disease although this person is actually healthy (false positive). In a medical setting, it is not natural to think of the different errors to carry a different *cost*. However, you will agree that the false negative error is far more severe. The disease will go unnoticed with potentially hazardous consequences. While it is not nice to be diagnosed to suffer a disease, very likely a follow-up test would indicate that one is actually in good health. Therefore, the false positive error is less severe. Furthermore, if we extend the example and assume that the disease is rare, then it is also apparent that the example involves not only asymmetric error costs but also class imbalance. \n",
    "\n",
    "Time to explore some instruments for class imbalance and cost-sensitivity. Since the corresponding literature routinely considers classification, we will also stick to this form of predictive modeling. Thus, the tutorial will not touch on imbalance and cost-asymmetry in regression. \n",
    "\n",
    "The outline of the tutorial is as follows:\n",
    "- Preliminaries\n",
    "- Exploring the imbalance problem\n",
    "- SMOTE from scratch\n",
    "- Other imbalance learning techniques\n",
    "- Cost sensitivity overview\n",
    "- Thresholds with cost sensitivity\n",
    "- Calibration curves\n",
    "- MetaCost\n",
    "- Class imbalance and cost-sensitivity with `sklearn`"
   ]
  },
  {
   "cell_type": "markdown",
   "metadata": {
    "id": "fEKWy-79Xr-x"
   },
   "source": [
    "# Preliminaries\n",
    "We begin with the usual preparations. We will first use toy data and later move on to our usual HMEQ data set. The toy data generation code comes from a previous tutorial. We have adjusted the corresponding function so that it facilitates controlling the number of observations per class. This way, we can see how our prediction quality changes as class imbalance increases or decreases."
   ]
  },
  {
   "cell_type": "code",
   "execution_count": 1,
   "metadata": {
    "id": "2afyEdV6Xr-y"
   },
   "outputs": [],
   "source": [
    "# Import standard packages. \n",
    "import pandas as pd\n",
    "import numpy as np\n",
    "import time\n",
    "\n",
    "import matplotlib.pyplot as plt\n",
    "%matplotlib inline  \n",
    "plt.rcParams[\"figure.figsize\"] = (12,6)\n",
    "\n",
    "from sklearn.model_selection import train_test_split\n",
    "from sklearn.linear_model import LogisticRegression\n",
    "from sklearn.linear_model import LogisticRegressionCV\n",
    "from sklearn.ensemble import RandomForestClassifier\n",
    "from sklearn.tree import DecisionTreeClassifier \n",
    "from sklearn import metrics\n",
    "from sklearn.neighbors import NearestNeighbors\n",
    "\n",
    "# Select random state to make results reproducable for sklearn functions\n",
    "import random\n",
    "rnd_state = 888\n",
    "random.seed(a=rnd_state) \n",
    "\n",
    "import warnings # The imblearn package uses functions that have a future deprecation warning for sklearn (we can ignore these)"
   ]
  },
  {
   "cell_type": "code",
   "execution_count": 2,
   "metadata": {
    "id": "E9a-sTN8Xr-y"
   },
   "outputs": [],
   "source": [
    "def toy_data(n_1=1000, n_2=100, mu1=[1, 1], mu2=[2,2], sig1=1, sig2=1):\n",
    "    \"\"\" Custom function to generate linearly seperable toy data. The code has been discussed in more detail in Tutorial #3.\n",
    "        \n",
    "        The arguments represent, respectively, the size of the data, the mean vectors of the two Gaussians from which we\n",
    "        sample class 1 and class 2 data points, and their standard deviations. The code has been modified, n_1 is now the \n",
    "        amount of class 1 samples, and n_2 is the amount of class 2 samples to produce.\n",
    "    \"\"\"\n",
    "    \n",
    "    class1_x1 = np.random.normal(loc=mu1[0], scale=sig1, size=n_1)\n",
    "    class1_x2 = np.random.normal(loc=mu1[1], scale=sig1, size=n_1)\n",
    "\n",
    "    class2_x1 = np.random.normal(loc=mu2[0], scale=sig2, size=n_2)\n",
    "    class2_x2 = np.random.normal(loc=mu2[1], scale=sig2, size=n_2)\n",
    "\n",
    "    y1 = np.repeat(0, n_1)\n",
    "    y2 = np.repeat(1, n_2)\n",
    "\n",
    "    class1 = np.vstack((class1_x1, class1_x2)).T\n",
    "    class2 = np.vstack((class2_x1, class2_x2)).T\n",
    "\n",
    "    X = np.vstack((class1, class2))\n",
    "    y = np.concatenate((y1, y2))\n",
    "    \n",
    "    return X, y"
   ]
  },
  {
   "cell_type": "code",
   "execution_count": 3,
   "metadata": {
    "colab": {
     "base_uri": "https://localhost:8080/"
    },
    "executionInfo": {
     "elapsed": 615,
     "status": "ok",
     "timestamp": 1613301059047,
     "user": {
      "displayName": "Stefan Lessmann",
      "photoUrl": "https://lh3.googleusercontent.com/a-/AOh14GihtuVUIO07jrZ6NKEVggi44vrPvluMzUCsHoZh=s64",
      "userId": "06342662613942148717"
     },
     "user_tz": -60
    },
    "id": "CVL2V1IRXr-y",
    "outputId": "c47cbd2a-e140-4a7d-8d6b-caca0b6cfa3c"
   },
   "outputs": [
    {
     "name": "stdout",
     "output_type": "stream",
     "text": [
      "Shape of X (1100, 2)\n",
      "Shape of y (1100,)\n"
     ]
    }
   ],
   "source": [
    "# Create and plot the data\n",
    "X, y = toy_data()\n",
    "\n",
    "# Always useful to remind oneself of the dimensions of a data set\n",
    "print(\"Shape of X {}\".format(X.shape))  \n",
    "print(\"Shape of y {}\".format(y.shape))"
   ]
  },
  {
   "cell_type": "code",
   "execution_count": 4,
   "metadata": {
    "colab": {
     "base_uri": "https://localhost:8080/"
    },
    "executionInfo": {
     "elapsed": 680,
     "status": "ok",
     "timestamp": 1613301063173,
     "user": {
      "displayName": "Stefan Lessmann",
      "photoUrl": "https://lh3.googleusercontent.com/a-/AOh14GihtuVUIO07jrZ6NKEVggi44vrPvluMzUCsHoZh=s64",
      "userId": "06342662613942148717"
     },
     "user_tz": -60
    },
    "id": "YMaYGvVGXr-z",
    "outputId": "a946f78f-e62e-4612-fa50-d6c0bb3ecdb5"
   },
   "outputs": [
    {
     "data": {
      "text/plain": [
       "(array([0, 1]), array([1000,  100], dtype=int64))"
      ]
     },
     "execution_count": 4,
     "metadata": {},
     "output_type": "execute_result"
    }
   ],
   "source": [
    " np.unique(y, return_counts=True)"
   ]
  },
  {
   "cell_type": "markdown",
   "metadata": {
    "id": "LD0S7zQzXr-0"
   },
   "source": [
    "# Imbalanced learning\n",
    "Let's first examine the common situation in which is there are few instances for at least one of your classes. This can have some serious effects on your model's performance as it's often the minority class which we are interested in. It also forces us to think about alternative performance metrics because, as we are about to demonstrate, traditional metrics may be misleading."
   ]
  },
  {
   "cell_type": "markdown",
   "metadata": {
    "id": "QiHI_g5FXr-0"
   },
   "source": [
    "## Misleading metrics\n",
    "We have made the point in the lecture that one problem of class imbalance related to the fact that standard indicators of classification performance provide misleading signals when the data is imbalanced. Let's start by demonstrating the issue with a little experiment. "
   ]
  },
  {
   "cell_type": "markdown",
   "metadata": {
    "id": "VXUxUhb_Xr-0"
   },
   "source": [
    "### Imbalance ratio and intervention threshold \n",
    "\n",
    "When you first receive a classification problem, it is a good idea to check if there is class imbalance. You can do this by applying the `value_counts()` function to your dependent variable. You can also use the NumPy function `unique()`. We illustrate both throughout the tutorial. Further possibilities exist as well. \n",
    "\n",
    "A difficult question is at what point you should remedy class imbalance. For example, if the ratio between classes is 1:10, should you take action? Is it okay to have an imbalance of 2:3? There is not clear-cut answer to these questions. The costs of getting the minority class right play a role but so do many other factors. Often, the best approach is to test empirically whether remedying class imbalance improves your results. For example, train your model once on the original (i.e., imbalanced) data set and measure its performance on the test set. Repeat the process but this time address the imbalance *in the training set*. Predicting the same test set facilitates comparing whether your performance is better with or without addressing the imbalance. \n",
    "**Important** never address imbalance in the test set. The purpose of the test set is to represent a real-world application of your model. In the real-world, the classes will be imbalanced. Therefore, it is fundamentally wrong to resample the test data. \n",
    "\n",
    "If you think about it, the necessity to never change the class distribution in the test set implies that using cross-validation together with strategies to address class imbalance is a little complicated. \n",
    "\n",
    "Let's illustrate the consequences of class imbalance using synthetic data. First, we specify a range of imbalance ratios (more specifically, we fix the number of minority class cases). Then, we iterate over each setting, train a logit classifier and apply this classifier to a test set. This chain will give as an idea of how sensitive logit reacts to class imbalance. \n"
   ]
  },
  {
   "cell_type": "code",
   "execution_count": 6,
   "metadata": {
    "id": "_aTNiBruXr-0"
   },
   "outputs": [],
   "source": [
    "# Set up a range of possible numbers of the minority class\n",
    "minority_num = np.arange(10, 1000, 10)\n",
    "\n",
    "# Initialize empty list of metrics\n",
    "acc_list = []\n",
    "tpr_list = []\n",
    "auc_list = []\n",
    "\n",
    "# Incrementally decrease class imbalance and record metrics\n",
    "for num in minority_num:\n",
    "  X, y = toy_data(n_1=2000-num, n_2=num) # Keep total observations fixed at 2000\n",
    "  X_train, X_test, y_train, y_test = train_test_split(X, y, test_size=0.3, random_state = 888)  # 30% as test set\n",
    "  clf = LogisticRegressionCV(cv=5, random_state=rnd_state).fit(X_train, y_train)  # Using Logit with CV for more stable results\n",
    "  y_pred = clf.predict(X_test)\n",
    "  \n",
    "  # Log total accuracy\n",
    "  acc = metrics.accuracy_score(y_test, y_pred)\n",
    "  acc_list.append(acc)\n",
    "  \n",
    "  # Log AUC and TPR\n",
    "  fpr, tpr, thresholds = metrics.roc_curve(y_test, y_pred, pos_label=1)\n",
    "  auc = metrics.auc(fpr, tpr)\n",
    "  auc_list.append(auc)\n",
    "  tpr_list.append(tpr[1])"
   ]
  },
  {
   "cell_type": "markdown",
   "metadata": {
    "id": "_Re9raf8Xr-1"
   },
   "source": [
    "### Accuracy: problematic metric with class imbalance\n",
    "Let's first take a look at overall accuracy and notice how **total accuracy decreases as imbalance gets less severe**. This is because if the imbalance is very large, the machine does not need to carefully learn the minority class and predicts only one class. Since 1 observation of the minority class is weighted just as heavily as an observation of the majority class, if the objective for the algorithm is to get most correct as possible, it might as well just predict the majority class. Well, you know that the training of a logit classifier actually minimizes the negative log-likelihood function and not classification error but the same argumentation holds because the few minority class cases do not exert a large influence on the negative log-likelihood function. The main problem is that always predicing a value of zero (e.g., label of the majority class) achieves a low classification error and also a low (i.e., good) objective value.\n",
    "\n",
    "However, as the imbalance ratio gets closer to 1:1, the model must learn the minority class better and makes more mistakes overall in the final prediction. **In essence, total accuracy is a misleading metric if there is a class imbalance.** Again, let's think of a model which detects a disease from a medical image. If only 5% of cases are true positives but the model labels everything as negative, the model will achieve 95% accuracy. In this case, our model fails at its purpose even though its accuracy is very high.\n",
    "\n",
    "\n",
    "The following chart depicts the development of classifcation accuracy over the different imbalance ratios."
   ]
  },
  {
   "cell_type": "code",
   "execution_count": 7,
   "metadata": {
    "colab": {
     "base_uri": "https://localhost:8080/",
     "height": 404
    },
    "executionInfo": {
     "elapsed": 904,
     "status": "ok",
     "timestamp": 1613302326736,
     "user": {
      "displayName": "Stefan Lessmann",
      "photoUrl": "https://lh3.googleusercontent.com/a-/AOh14GihtuVUIO07jrZ6NKEVggi44vrPvluMzUCsHoZh=s64",
      "userId": "06342662613942148717"
     },
     "user_tz": -60
    },
    "id": "UZ1lKdTzXr-1",
    "outputId": "1f1e2a15-6c9c-44cb-ce01-72a0f9d95d47"
   },
   "outputs": [
    {
     "data": {
      "image/png": "[encoded data removed]",
      "text/plain": [
       "<Figure size 864x432 with 1 Axes>"
      ]
     },
     "metadata": {
      "needs_background": "light"
     },
     "output_type": "display_data"
    }
   ],
   "source": [
    "plt.plot(minority_num, acc_list)\n",
    "plt.title('Overall Accuracy as Imbalance Decreases')\n",
    "plt.xlabel('Number Class 1 of 2000 observations')\n",
    "plt.ylabel('Accuracy');"
   ]
  },
  {
   "cell_type": "markdown",
   "metadata": {
    "id": "qaFGFezVXr-1"
   },
   "source": [
    "### AUC: sensitive to positive class\n",
    "Now let's take a look at an alternative metric, the AUC. When we set the minority class to be the positive class, we see that the AUC increases when class imbalance reduces. This agrees with our intuition that imbalance complicates classifier training. Remember that the AUC is calculated with sensitivity (TPR) and 1-specificity (FPR).  Intuitively, we want a metric that does increase as the model is able to classify both cases correctly, so AUC demonstrates itself here as a more appropriate metric when classes are imbalanced. "
   ]
  },
  {
   "cell_type": "code",
   "execution_count": 8,
   "metadata": {
    "colab": {
     "base_uri": "https://localhost:8080/",
     "height": 404
    },
    "executionInfo": {
     "elapsed": 859,
     "status": "ok",
     "timestamp": 1613302431902,
     "user": {
      "displayName": "Stefan Lessmann",
      "photoUrl": "https://lh3.googleusercontent.com/a-/AOh14GihtuVUIO07jrZ6NKEVggi44vrPvluMzUCsHoZh=s64",
      "userId": "06342662613942148717"
     },
     "user_tz": -60
    },
    "id": "Y4iKZZcSXr-2",
    "outputId": "45dd8897-745a-4979-ed83-cd671617aef5"
   },
   "outputs": [
    {
     "data": {
      "image/png": "[encoded data removed]",
      "text/plain": [
       "<Figure size 864x432 with 1 Axes>"
      ]
     },
     "metadata": {
      "needs_background": "light"
     },
     "output_type": "display_data"
    }
   ],
   "source": [
    "plt.plot(minority_num, auc_list)\n",
    "plt.title('AUC as Imbalance Decreases')\n",
    "plt.xlabel('Number Class 1 of 2000 observations')\n",
    "plt.ylabel('AUC');"
   ]
  },
  {
   "cell_type": "markdown",
   "metadata": {
    "id": "klBMiYtAXr-2"
   },
   "source": [
    "### Sensitivity (true positive rate or recall)\n",
    "Note that our above explanation assumes that the minority class is defined as  the 'positive' class. This is common in imbalanced learning scenarios.\n",
    "\n",
    "We can also zoom in on the minority class and focus on if it was accurately predicted. Sensitivity (aka true positive rate or recall) is an example of such a metric. It is calculated by evaluating: Number of True Positive / (Number of True Positive + Number of False Negative). In words, it is the number of correctly classified minority class samples over all minority class samples.\n",
    "\n",
    "As we can see in the graph below, there is a lot of volatility in the graph at the beginning when there are few of the minority class to begin with. As the number in the minority class grows, we see that the TPR shows growth as well.\n",
    "\n",
    "You could also consider the use of a metric like the G-Mean:\n",
    "\n",
    "$$ \\sqrt{\\frac{TP}{TP+FN} \\cdot  \\frac{TN}{TN+FP}} $$\n",
    "\n",
    "Or the F-measure ( $ \\beta $ is a weight to adjust):\n",
    "\n",
    "$$ \\sqrt{\\frac{(1+\\beta)^2 \\cdot \\text{Recall} \\cdot \\text{Precision}} {\\text{Recall} \\cdot \\text{Precision}}} $$\n",
    "\n",
    "These metrics evaluate the efficacy of the model to classify both classes. Create charts like the one above/below for the G-mean and the F-measure as a little exercise. \n"
   ]
  },
  {
   "cell_type": "code",
   "execution_count": 9,
   "metadata": {
    "colab": {
     "base_uri": "https://localhost:8080/",
     "height": 423
    },
    "executionInfo": {
     "elapsed": 826,
     "status": "ok",
     "timestamp": 1613302518298,
     "user": {
      "displayName": "Stefan Lessmann",
      "photoUrl": "https://lh3.googleusercontent.com/a-/AOh14GihtuVUIO07jrZ6NKEVggi44vrPvluMzUCsHoZh=s64",
      "userId": "06342662613942148717"
     },
     "user_tz": -60
    },
    "id": "TWC42oqZXr-2",
    "outputId": "e3de3266-5bde-428d-cb91-2bfc7ad04b77"
   },
   "outputs": [
    {
     "data": {
      "text/plain": [
       "Text(0, 0.5, 'Sensitivity')"
      ]
     },
     "execution_count": 9,
     "metadata": {},
     "output_type": "execute_result"
    },
    {
     "data": {
      "image/png": "[encoded data removed]",
      "text/plain": [
       "<Figure size 864x432 with 1 Axes>"
      ]
     },
     "metadata": {
      "needs_background": "light"
     },
     "output_type": "display_data"
    }
   ],
   "source": [
    "plt.plot(minority_num, tpr_list)\n",
    "plt.title('Sensitivity as Imbalance Decreases')\n",
    "plt.xlabel('Number Class 1 of 2000 observations')\n",
    "plt.ylabel('Sensitivity')"
   ]
  },
  {
   "cell_type": "markdown",
   "metadata": {
    "id": "HDsGGy8zXr-2"
   },
   "source": [
    "### Remedying class imbalance via resampling\n",
    "We introduced *resampling* as one model-agnostic way to address class imbalance. The function of simple under/oversampling is trivial. So let us focus on slightly more sophisticated resampling techniques. The *SMOTE* algorithm is clearly one of the best-known strategies. It is widely used in the industry and considered as a benchmark approach to new imbalanced learners in virtually any academic paper. So, let's take a deep-dive into SMOTE.\n",
    "\n",
    "Let's switch over to our HMEQ dataset in order to do this."
   ]
  },
  {
   "cell_type": "code",
   "execution_count": 10,
   "metadata": {
    "colab": {
     "base_uri": "https://localhost:8080/"
    },
    "executionInfo": {
     "elapsed": 1168,
     "status": "ok",
     "timestamp": 1613302625622,
     "user": {
      "displayName": "Stefan Lessmann",
      "photoUrl": "https://lh3.googleusercontent.com/a-/AOh14GihtuVUIO07jrZ6NKEVggi44vrPvluMzUCsHoZh=s64",
      "userId": "06342662613942148717"
     },
     "user_tz": -60
    },
    "id": "juemVuSaXr-3",
    "outputId": "8844f9cb-45ad-49a3-db09-cdac821633c2"
   },
   "outputs": [
    {
     "name": "stdout",
     "output_type": "stream",
     "text": [
      "Shape of the data  (4172, 1) (4172, 18) (1788, 1) (1788, 18)\n"
     ]
    }
   ],
   "source": [
    "# Load the data for this tutorial directly from GitHub\n",
    "data_url = 'https://raw.githubusercontent.com/Humboldt-WI/bads/master/data/hmeq_modeling.csv'\n",
    "\n",
    "df = pd.read_csv(data_url, index_col='index')\n",
    "\n",
    "# Extract target variable and feature matrix \n",
    "X = df.drop(['BAD'], axis=1) \n",
    "y = df[['BAD']].values\n",
    "\n",
    "# Create training and test set\n",
    "X_train, X_test, y_train, y_test = train_test_split(X, y, test_size=0.3, random_state = rnd_state)  # 30% of the data as hold-out\n",
    "\n",
    "# Make yourself familiar with these vectors\n",
    "print('Shape of the data ', y_train.shape, X_train.shape, y_test.shape, X_test.shape)"
   ]
  },
  {
   "cell_type": "code",
   "execution_count": 12,
   "metadata": {
    "colab": {
     "base_uri": "https://localhost:8080/"
    },
    "executionInfo": {
     "elapsed": 653,
     "status": "ok",
     "timestamp": 1613302685159,
     "user": {
      "displayName": "Stefan Lessmann",
      "photoUrl": "https://lh3.googleusercontent.com/a-/AOh14GihtuVUIO07jrZ6NKEVggi44vrPvluMzUCsHoZh=s64",
      "userId": "06342662613942148717"
     },
     "user_tz": -60
    },
    "id": "hhnWJqskXr-3",
    "outputId": "88e7e10f-2054-49b5-f7fb-9819a2e8c13c"
   },
   "outputs": [
    {
     "data": {
      "text/plain": [
       "False    4771\n",
       "True     1189\n",
       "Name: BAD, dtype: int64"
      ]
     },
     "execution_count": 12,
     "metadata": {},
     "output_type": "execute_result"
    }
   ],
   "source": [
    " # Check data imbalance to reveal a ratio of approx 4:1\n",
    "df.BAD.value_counts()"
   ]
  },
  {
   "cell_type": "markdown",
   "metadata": {
    "id": "IB7-KMfXXr-3"
   },
   "source": [
    "## SMOTE from scratch\n",
    "\n",
    "SMOTE or Synthetic Minority Oversampling Technique finds two examples of the minority class which are close in the feature space. SMOTE then places a newly generated sample with a minority class label in between the two examples. Remember that with most other forms of data manipulation, you want to perform this step only on the training data after the data has been split. This ensures that the test set remains as similar to regular data as possible.\n",
    "\n",
    "This version of SMOTE will be slightly simpler. Instead of finding a place in the hyperplane between existing observations, it finds the 5 nearest neighbors then uses those nearest neighors' feature values as potential values for respective features of the newly generated sample. This code is inspired by the following [medium article by Breya Walker](https://medium.com/@breya.heysoftware/synthetic-minority-over-sampling-technique-smote-from-scratch-e1167f788434). We make use of object-oriented programming, which is good practice. We have seen this approach in action before. It is useful to get used to it. "
   ]
  },
  {
   "cell_type": "markdown",
   "metadata": {
    "id": "e2KTrmMmWXPs"
   },
   "source": [
    "### Custom class smote"
   ]
  },
  {
   "cell_type": "code",
   "execution_count": 13,
   "metadata": {
    "id": "JWBkm6A1Xr-3"
   },
   "outputs": [],
   "source": [
    "class smote:\n",
    "\n",
    "    def __init__(self, data, target):\n",
    "        self.data = data\n",
    "        self.target = target\n",
    "        self.data_head = df.head()\n",
    "\n",
    "    def check_imbalance(self, verbose=True):\n",
    "        (vals, val_counts) = np.unique(self.target, return_counts=True)\n",
    "        assert val_counts.size == 2, 'Target must be binary'\n",
    "        diff = max(val_counts) - min(val_counts)\n",
    "        min_class = vals[np.argmin(val_counts)]\n",
    "        imb_ratio = max(val_counts) / min(val_counts)\n",
    "        if verbose:\n",
    "            print ('There are ', max(val_counts),\n",
    "                   ' in the majority class and ', min(val_counts), ' in the minority class.')\n",
    "            print ('The imbalance ratio is', imb_ratio)\n",
    "            print ('The minority class has the label', min_class)\n",
    "        return (diff, min_class)  # returns minority class label and difference in size between classes\n",
    "\n",
    "    def isolate_minority(self):\n",
    "        diff, min_class = self.check_imbalance(verbose=False)\n",
    "        min_index, _ = np.where(self.target == min_class)\n",
    "        data_min = self.data.iloc[min_index, :].copy()\n",
    "        return data_min  # returns df of only the minority class\n",
    "\n",
    "    def minority_nearest_neighbor(self):\n",
    "        data_min = self.isolate_minority()\n",
    "\n",
    "        nbs = NearestNeighbors(n_neighbors=5, metric='euclidean',\n",
    "                               algorithm='kd_tree').fit(data_min)\n",
    "        (distance, neighbors) = nbs.kneighbors(data_min)\n",
    "        return neighbors\n",
    "\n",
    "    def generate_minority_samples(self):\n",
    "        data_min = self.isolate_minority()\n",
    "        npdata_min = np.array(data_min)\n",
    "\n",
    "        neighbors = self.minority_nearest_neighbor()\n",
    "\n",
    "        generated_samples = []\n",
    "\n",
    "        for neighbor in range(len(neighbors)):\n",
    "            neighbor_data = npdata_min[neighbors[neighbor]]  # Put neighbor data for each sample in a df\n",
    "            neighbor_data = pd.DataFrame(neighbor_data)\n",
    "            generated_samples.append([])\n",
    "\n",
    "            for col in range(len(neighbor_data.columns)):\n",
    "                # Generate new sample by randomly choosing feature value from neighbors\n",
    "                generated_samples[neighbor].append(random.choice(neighbor_data[col]))  \n",
    "\n",
    "        return generated_samples\n",
    "\n",
    "    def fix_imbalance(self):\n",
    "        (diff, min_class) = self.check_imbalance(verbose=False)\n",
    "        neighbors = self.minority_nearest_neighbor()\n",
    "\n",
    "        data_min = self.isolate_minority()\n",
    "        npdata_min = np.array(data_min)\n",
    "\n",
    "        # Find rough number of times to generate new samples by dividing difference by minority class size\n",
    "\n",
    "        repeat_num = round(diff / data_min.shape[0])\n",
    "\n",
    "        generated_samples = []\n",
    "\n",
    "        # Repeat data generation for the number of repeat times\n",
    "\n",
    "        for i in range(1, repeat_num):\n",
    "            new_sample = self.generate_minority_samples()\n",
    "            generated_samples = generated_samples + new_sample\n",
    "\n",
    "        # Prepare new index to newly generated samples\n",
    "\n",
    "        max_data_ind = max(self.data.index)\n",
    "        final_max = max_data_ind + len(generated_samples)\n",
    "        new_ind = np.arange(max_data_ind, final_max)\n",
    "\n",
    "        # Create new dataframe with generated samples\n",
    "\n",
    "        generated_samples = pd.DataFrame(generated_samples,\n",
    "                columns=X_train.columns, index=new_ind + 1)\n",
    "        generated_samples.drop_duplicates(keep='first', inplace=True)\n",
    "\n",
    "        # Join new samples with original data\n",
    "\n",
    "        new_data = pd.concat([self.data, generated_samples])\n",
    "\n",
    "        # Generate y with correct length\n",
    "\n",
    "        new_target = np.append(self.target, np.ones([1, generated_samples.shape[0]]))\n",
    "\n",
    "        return (new_data, new_target)"
   ]
  },
  {
   "cell_type": "code",
   "execution_count": 14,
   "metadata": {
    "id": "kIZzRL-JXr-4"
   },
   "outputs": [],
   "source": [
    "# Generate the smote object and then fix the imbalance in the data\n",
    "smote = smote(data=X_train, target=y_train)\n",
    "X_train_smote, y_train_smote = smote.fix_imbalance()"
   ]
  },
  {
   "cell_type": "markdown",
   "metadata": {
    "id": "iw18_7jvWbnA"
   },
   "source": [
    "### Reference classifier trained from the original data"
   ]
  },
  {
   "cell_type": "code",
   "execution_count": 15,
   "metadata": {
    "colab": {
     "base_uri": "https://localhost:8080/"
    },
    "executionInfo": {
     "elapsed": 1392,
     "status": "ok",
     "timestamp": 1613302917391,
     "user": {
      "displayName": "Stefan Lessmann",
      "photoUrl": "https://lh3.googleusercontent.com/a-/AOh14GihtuVUIO07jrZ6NKEVggi44vrPvluMzUCsHoZh=s64",
      "userId": "06342662613942148717"
     },
     "user_tz": -60
    },
    "id": "se4ci1lrXr-4",
    "outputId": "43b8b527-6c67-40e2-af43-6521fa5ce800"
   },
   "outputs": [
    {
     "name": "stdout",
     "output_type": "stream",
     "text": [
      "The total accuracy is 0.84\n",
      "The model predicted the minority class 8.84 % of the time\n",
      "The AUC is 0.64\n",
      "The sensitivity for the model is 0.31\n"
     ]
    }
   ],
   "source": [
    "# Fit a model with the regular data as the reference model for comparison\n",
    "\n",
    "clf = LogisticRegressionCV(cv=5, random_state=rnd_state, fit_intercept=True).fit(X_train, np.ravel(y_train))\n",
    "y_pred = clf.predict(X_test)\n",
    "  \n",
    "acc = metrics.accuracy_score(y_test, y_pred)\n",
    "  \n",
    "fpr, tpr, thresholds = metrics.roc_curve(y_test, y_pred, pos_label=1)\n",
    "auc = metrics.auc(fpr, tpr)\n",
    "\n",
    "min_freq = y_pred.sum()/len(y_pred) * 100\n",
    "\n",
    "print('The total accuracy is {:.2f}'.format(acc))\n",
    "print('The model predicted the minority class {:.2f}'.format(min_freq), '% of the time')\n",
    "print('The AUC is {:.2f}'.format(auc))\n",
    "print('The sensitivity for the model is {:.2f}'.format(tpr[1]))"
   ]
  },
  {
   "cell_type": "markdown",
   "metadata": {
    "id": "vOFIsM37WgVo"
   },
   "source": [
    "### Classifier after addressing class skew using SMOTE"
   ]
  },
  {
   "cell_type": "code",
   "execution_count": 16,
   "metadata": {
    "colab": {
     "base_uri": "https://localhost:8080/"
    },
    "executionInfo": {
     "elapsed": 1571,
     "status": "ok",
     "timestamp": 1613303012851,
     "user": {
      "displayName": "Stefan Lessmann",
      "photoUrl": "https://lh3.googleusercontent.com/a-/AOh14GihtuVUIO07jrZ6NKEVggi44vrPvluMzUCsHoZh=s64",
      "userId": "06342662613942148717"
     },
     "user_tz": -60
    },
    "id": "--eE1LYdXr-4",
    "outputId": "0c8b42ae-179e-42bb-8e06-387b37a1bc1e"
   },
   "outputs": [
    {
     "name": "stdout",
     "output_type": "stream",
     "text": [
      "The total accuracy is 0.78\n",
      "The model predicted the minority class 25.73 % of the time\n",
      "The AUC is 0.71\n",
      "The sensitivity for the model is 0.60\n"
     ]
    }
   ],
   "source": [
    "# Fit a regression with rebalanced data\n",
    "clf = LogisticRegressionCV(cv=5, random_state=rnd_state, fit_intercept=True).fit(X_train_smote, y_train_smote)\n",
    "y_pred = clf.predict(X_test)\n",
    "  \n",
    "acc_smote = metrics.accuracy_score(y_test, y_pred)\n",
    "  \n",
    "fpr_smote, tpr_smote, thresholds = metrics.roc_curve(y_test, y_pred, pos_label=1)\n",
    "auc_smote = metrics.auc(fpr_smote, tpr_smote)\n",
    "\n",
    "min_freq = y_pred.sum()/len(y_pred) * 100\n",
    "\n",
    "print('The total accuracy is {:.2f}'.format(acc_smote))\n",
    "print('The model predicted the minority class {:.2f}'.format(min_freq), '% of the time')\n",
    "print('The AUC is {:.2f}'.format(auc_smote))\n",
    "print('The sensitivity for the model is {:.2f}'.format(tpr_smote[1]))"
   ]
  },
  {
   "cell_type": "markdown",
   "metadata": {
    "id": "NWIiMez63SDq"
   },
   "source": [
    "We can see that overall, accuracy lowered which was expected. The naive model predicts the minority class 3x less than the model which is rebalanced by our version of SMOTE. We also see that the AUC and sensitivity both increase thanks to rebalancing. Through these metrics, it is clear that addressing the imbalance problem clearly has affected the classifier's performance. In this case, the net effect was positive. SMOTE facilitates getting a better result in terms of the AUC, which we established to be the more suitable metric."
   ]
  },
  {
   "cell_type": "markdown",
   "metadata": {
    "id": "N6uJ9m7wXr-5"
   },
   "source": [
    "## Libraries for imbalanced learning\n",
    "\n",
    "Now let's take a look at the options available to you through the libraries that exist. One of the most useful libraries for dealing with imbalanced data sets is `imblearn` whose documentation you can view [here](https://imbalanced-learn.org/stable/user_guide.html).\n",
    "\n",
    "We will continue to use the HMEQ data set for this. We have already shown that the sensitivity increases quite a bit once we implement some measure to fix the imbalance. Note that overall accuracy decreases are again normal when the classifier is trained on highly imbalanced data (it will classify everything as the majority class and most predictions will be correct). \n"
   ]
  },
  {
   "cell_type": "markdown",
   "metadata": {
    "id": "2fFDhCmG9gC1"
   },
   "source": [
    "### Undersampling\n",
    "\n",
    "One option for fixing our imbalanced data is to take less observations from the majority class so that the number observations in each class are equal. This is called undersampling. This should be done with caution as we will be discarding quite a lot of observations if there is a heavy imbalance. Ignoring these observations could cause the model to lose quite a lot of information."
   ]
  },
  {
   "cell_type": "code",
   "execution_count": 18,
   "metadata": {
    "colab": {
     "base_uri": "https://localhost:8080/"
    },
    "executionInfo": {
     "elapsed": 1271,
     "status": "ok",
     "timestamp": 1613303120581,
     "user": {
      "displayName": "Stefan Lessmann",
      "photoUrl": "https://lh3.googleusercontent.com/a-/AOh14GihtuVUIO07jrZ6NKEVggi44vrPvluMzUCsHoZh=s64",
      "userId": "06342662613942148717"
     },
     "user_tz": -60
    },
    "id": "ujzCuzTUXr-5",
    "outputId": "c5633be0-defd-4653-e0e9-4a9b23ea5311"
   },
   "outputs": [
    {
     "name": "stdout",
     "output_type": "stream",
     "text": [
      "The model predicted the minority class 34.51 % of the time\n",
      "The AUC is 0.71\n",
      "The sensitivity for the model is 0.69\n"
     ]
    }
   ],
   "source": [
    "from imblearn.under_sampling import RandomUnderSampler\n",
    "\n",
    "rus = RandomUnderSampler(random_state=rnd_state,\n",
    "                         sampling_strategy='majority')\n",
    "(X_resampled, y_resampled) = rus.fit_resample(X_train, y_train)\n",
    "\n",
    "clf = LogisticRegressionCV(cv=5, random_state=rnd_state,\n",
    "                           fit_intercept=True).fit(X_resampled, np.ravel(y_resampled))\n",
    "y_pred = clf.predict(X_test)\n",
    "\n",
    "acc = metrics.accuracy_score(y_test, y_pred)\n",
    "\n",
    "(fpr, tpr, thresholds) = metrics.roc_curve(y_test, y_pred, pos_label=1)\n",
    "auc = metrics.auc(fpr, tpr)\n",
    "\n",
    "min_freq = y_pred.sum()/len(y_pred) * 100\n",
    "\n",
    "print('The model predicted the minority class {:.2f}'.format(min_freq), '% of the time')\n",
    "print('The AUC is {:.2f}'.format(auc))\n",
    "print('The sensitivity for the model is {:.2f}'.format(tpr[1]))\n",
    "\n",
    "warnings.simplefilter(action='ignore', category=FutureWarning)"
   ]
  },
  {
   "cell_type": "markdown",
   "metadata": {
    "id": "1ElUsSXRXr-5"
   },
   "source": [
    "### Oversampling\n",
    "\n",
    "Instead of drawing less observations from the majority class, we could instead reduplicate instances of the minority class. If draw these minority observations multiple times at random, this is called random oversampling. This method of correcting imbalance works since there is now a larger penalty for getting minority class instances wrong (as there are simply more of them in the dataset). However, it must be used with caution as it can cause overfitting since it does not explore the potential feature space of the minority class any further."
   ]
  },
  {
   "cell_type": "code",
   "execution_count": 19,
   "metadata": {
    "colab": {
     "base_uri": "https://localhost:8080/"
    },
    "executionInfo": {
     "elapsed": 1731,
     "status": "ok",
     "timestamp": 1613303145323,
     "user": {
      "displayName": "Stefan Lessmann",
      "photoUrl": "https://lh3.googleusercontent.com/a-/AOh14GihtuVUIO07jrZ6NKEVggi44vrPvluMzUCsHoZh=s64",
      "userId": "06342662613942148717"
     },
     "user_tz": -60
    },
    "id": "8mIcVOnXXr-5",
    "outputId": "bd079cff-1759-4b30-87ad-66a75bb1e4fb"
   },
   "outputs": [
    {
     "name": "stdout",
     "output_type": "stream",
     "text": [
      "The model predicted the minority class 32.21 % of the time\n",
      "The AUC is 0.73\n",
      "The sensitivity for the model is 0.69\n"
     ]
    }
   ],
   "source": [
    "from imblearn.over_sampling import RandomOverSampler\n",
    "\n",
    "ros = RandomOverSampler(random_state=rnd_state, sampling_strategy='minority')\n",
    "X_resampled, y_resampled = ros.fit_resample(X_train, np.ravel(y_train))\n",
    "\n",
    "clf = LogisticRegressionCV(cv=5, random_state=rnd_state, fit_intercept=True).fit(X_resampled, np.ravel(y_resampled))\n",
    "y_pred = clf.predict(X_test)\n",
    "  \n",
    "acc = metrics.accuracy_score(y_test, y_pred)\n",
    "  \n",
    "fpr, tpr, thresholds = metrics.roc_curve(y_test, y_pred, pos_label=1)\n",
    "auc = metrics.auc(fpr, tpr)\n",
    "\n",
    "min_freq = y_pred.sum()/len(y_pred) * 100\n",
    "\n",
    "print('The model predicted the minority class {:.2f}'.format(min_freq), '% of the time')\n",
    "print('The AUC is {:.2f}'.format(auc))\n",
    "print('The sensitivity for the model is {:.2f}'.format(tpr[1]))\n",
    "\n",
    "warnings.simplefilter(action='ignore', category=FutureWarning)"
   ]
  },
  {
   "cell_type": "markdown",
   "metadata": {
    "id": "ZkkwGA1YXr-6"
   },
   "source": [
    "### SMOTE\n",
    "Let's now try SMOTE using `imblearn`. This algorithm is more complex than the algorithm that was created above by scratch so it should perform pretty well in comparison. Normally SMOTE will find a point in between two close samples of the minority class and generate a new minority class sample there. We can see that this is quite successful as well as random over- and undersampling.\n"
   ]
  },
  {
   "cell_type": "code",
   "execution_count": 20,
   "metadata": {
    "colab": {
     "base_uri": "https://localhost:8080/"
    },
    "executionInfo": {
     "elapsed": 1686,
     "status": "ok",
     "timestamp": 1613303154188,
     "user": {
      "displayName": "Stefan Lessmann",
      "photoUrl": "https://lh3.googleusercontent.com/a-/AOh14GihtuVUIO07jrZ6NKEVggi44vrPvluMzUCsHoZh=s64",
      "userId": "06342662613942148717"
     },
     "user_tz": -60
    },
    "id": "a7iq0KyHXr-6",
    "outputId": "6c6f1cf9-b431-41c2-fbf1-4486c691b333"
   },
   "outputs": [
    {
     "name": "stdout",
     "output_type": "stream",
     "text": [
      "The model predicted the minority class 35.63 % of the time\n",
      "The AUC is 0.71\n",
      "The sensitivity for the model is 0.69\n"
     ]
    }
   ],
   "source": [
    "from imblearn.over_sampling import SMOTE\n",
    "\n",
    "X_resampled, y_resampled = SMOTE().fit_resample(X_train, np.ravel(y_train))\n",
    "\n",
    "clf = LogisticRegressionCV(cv=5, random_state=rnd_state, fit_intercept=True).fit(X_resampled, np.ravel(y_resampled))\n",
    "y_pred = clf.predict(X_test)\n",
    "  \n",
    "acc = metrics.accuracy_score(y_test, y_pred)\n",
    "  \n",
    "fpr, tpr, thresholds = metrics.roc_curve(y_test, y_pred, pos_label=1)\n",
    "auc = metrics.auc(fpr, tpr)\n",
    "\n",
    "min_freq = y_pred.sum()/len(y_pred) * 100\n",
    "\n",
    "print('The model predicted the minority class {:.2f}'.format(min_freq), '% of the time')\n",
    "print('The AUC is {:.2f}'.format(auc))\n",
    "print('The sensitivity for the model is {:.2f}'.format(tpr[1]))\n",
    "\n",
    "warnings.simplefilter(action='ignore', category=FutureWarning)"
   ]
  },
  {
   "cell_type": "markdown",
   "metadata": {
    "id": "wWhPDsn7Xr-6"
   },
   "source": [
    "### Borderline SMOTE\n",
    "One potential drawback of SMOTE is that it can select instances which are outliers in the minority class. In the worst case scenario, this can generate minority class samples which add to these outliers and mislead the algorithm into classifying samples nearby as minority samples when they should be clasisfied as majority class samples. This is fixed by borderline SMOTE which does not perform SMOTE on any points wihch are too close to the border between the majority class and the minority class. We can see that neither the AUC nor sensitivity changed for our scenario, so it may not be the best choice in this case. However, you should take a look at the other options for SMOTE and test them out to see if they perform better in your situation."
   ]
  },
  {
   "cell_type": "code",
   "execution_count": 21,
   "metadata": {
    "colab": {
     "base_uri": "https://localhost:8080/"
    },
    "executionInfo": {
     "elapsed": 1845,
     "status": "ok",
     "timestamp": 1613303169300,
     "user": {
      "displayName": "Stefan Lessmann",
      "photoUrl": "https://lh3.googleusercontent.com/a-/AOh14GihtuVUIO07jrZ6NKEVggi44vrPvluMzUCsHoZh=s64",
      "userId": "06342662613942148717"
     },
     "user_tz": -60
    },
    "id": "x3jme4WkXr-6",
    "outputId": "2fcb415e-edeb-42b5-e345-d2bc928fec8c"
   },
   "outputs": [
    {
     "name": "stdout",
     "output_type": "stream",
     "text": [
      "The model predicted the minority class 36.69 % of the time\n",
      "The AUC is 0.71\n",
      "The sensitivity for the model is 0.70\n"
     ]
    }
   ],
   "source": [
    "from imblearn.over_sampling import BorderlineSMOTE\n",
    "\n",
    "X_resampled, y_resampled = BorderlineSMOTE().fit_resample(X_train, np.ravel(y_train))\n",
    "\n",
    "clf = LogisticRegressionCV(cv=5, random_state=rnd_state, fit_intercept=True).fit(X_resampled, np.ravel(y_resampled))\n",
    "y_pred = clf.predict(X_test)\n",
    "  \n",
    "acc = metrics.accuracy_score(y_test, y_pred)\n",
    "  \n",
    "fpr, tpr, thresholds = metrics.roc_curve(y_test, y_pred, pos_label=1)\n",
    "auc = metrics.auc(fpr, tpr)\n",
    "\n",
    "min_freq = y_pred.sum()/len(y_pred) * 100\n",
    "\n",
    "print('The model predicted the minority class {:.2f}'.format(min_freq), '% of the time')\n",
    "print('The AUC is {:.2f}'.format(auc))\n",
    "print('The sensitivity for the model is {:.2f}'.format(tpr[1]))\n",
    "\n",
    "warnings.simplefilter(action='ignore', category=FutureWarning)"
   ]
  },
  {
   "cell_type": "markdown",
   "metadata": {
    "id": "gCSBBP5uZoLs"
   },
   "source": [
    "These are some of the major ways to deal with class imbalance, however there are other functions in this library which can help you achieve your goal. You can explore more ways to deal with resampling techniques by going through the [documentation](https://imbalanced-learn.org/stable/user_guide.html) of `imblearn`. However, resampling techniques are just one way to deal with this problem. We can also consider the idea of incorporating more penalties for misclassifying the minority class which we will explore next. Finally, note the resampling is no silver bullet and will not always facilitate better results than using the original data. We have used the logit model for the above demonstration. \n",
    "\n",
    "It would be a good exercise to play around with the `imblearn` library and test whether you can also improve other classifiers like Random Forest or XGB. \n",
    "*Spoiler alert*: you will not get good results. Both RF and XGB work well for the HMEQ data set. Resampling does not get you much further. However, if you are in the mood for practice, you could artificially reduce the number of minority class examples in the HMEQ data set and check whether a (much) more severe imbalance leads to, e.g., SMOTE + XGB working better than XGB alone. All code that this needs is available above, so we leave this experiment for you."
   ]
  },
  {
   "cell_type": "markdown",
   "metadata": {
    "id": "X7zH8aoOEj0v"
   },
   "source": [
    "# Cost-sensitive learning\n",
    "Class imbalance and cost-sensitive learning are often connected. For example, one approach to imbalance learning is to consider errors among minority class cases more costly than error among majority class cases. Then, we can use cost-sensitive learning methods for training a classifier on an imbalanced data set. If resampling is the maybe most prevailing approach to address class imbalance, using a cost-sensitve learner is probably the second most widely used approach. \n",
    "\n",
    "In real-world application, asymmetric error costs and imbalance often go hand in hand. The interesting class, which we aim to detect, is often a minority and making an error in recognizing this class is often associated with higher costs compared to misclassifying a majority class case. The examples we discussed above, credit scoring and medical data analysis, both represent this situation. \n",
    "\n",
    "Before we continue with cost-sensitive learning, note that the following explanations make use of concepts like false positive (FP), false negatives (FN), true positives (TP) and true negatives (TN). **Always bear in mind that the meaning of those acronyms depends on how you define the classes.** In the case of the HMEQ data set, we next consider the defaulting clients as members of the negative class. This choice is however arbitrary. \n",
    "\n",
    "In the lecture, we have discussed the link between cost-sensitive learning and the cost-matrix. Recall that we derive the cost-matrix from the corresponding cost-benefit matrix. We do this by assuming, without loss of generality, that the cost for correct classifications is zero. Furthermore, it is important to note that a cost-matrix does not have to contain the actual cost of wrong predictions, but the ratio. There are several ways to compute such a cost-matrix. In a real world setting, you would hope to establish the cost-matrix with domain knowledge and, ideally, data-based information.\n",
    "\n",
    "For this data set, we assume that the cost of a false positive prediction is the loss of the complete value of the loan. This is an assumption we make for simplicity. Furthermore, the cost of a false negative prediction is the loss of interest we would have made on the loan if we did not decline the loan application. When converting the data accordingly, we come to an average ratio of roughly 1:32 (FN:FP). This means that one false positive prediction (giving a loan to a person who will default) costs the bank the same amount as making 32 false negative predictions (not giving a loan to a person, who would have not defaulted). We implement these numbers for our cost-matrix as shown by [Elkan (2001)](http://web.cs.iastate.edu/~honavar/elkan.pdf):\n"
   ]
  },
  {
   "cell_type": "code",
   "execution_count": 22,
   "metadata": {
    "colab": {
     "base_uri": "https://localhost:8080/",
     "height": 112
    },
    "executionInfo": {
     "elapsed": 684,
     "status": "ok",
     "timestamp": 1613304142229,
     "user": {
      "displayName": "Stefan Lessmann",
      "photoUrl": "https://lh3.googleusercontent.com/a-/AOh14GihtuVUIO07jrZ6NKEVggi44vrPvluMzUCsHoZh=s64",
      "userId": "06342662613942148717"
     },
     "user_tz": -60
    },
    "id": "IqicXfqAC8NJ",
    "outputId": "efb606c9-e148-4187-a5c4-cefb7a362c22"
   },
   "outputs": [
    {
     "data": {
      "text/html": [
       "<div>\n",
       "<style scoped>\n",
       "    .dataframe tbody tr th:only-of-type {\n",
       "        vertical-align: middle;\n",
       "    }\n",
       "\n",
       "    .dataframe tbody tr th {\n",
       "        vertical-align: top;\n",
       "    }\n",
       "\n",
       "    .dataframe thead th {\n",
       "        text-align: right;\n",
       "    }\n",
       "</style>\n",
       "<table border=\"1\" class=\"dataframe\">\n",
       "  <thead>\n",
       "    <tr style=\"text-align: right;\">\n",
       "      <th></th>\n",
       "      <th>actual_GOOD(0)</th>\n",
       "      <th>actual_BAD(1)</th>\n",
       "    </tr>\n",
       "  </thead>\n",
       "  <tbody>\n",
       "    <tr>\n",
       "      <th>predicted_GOOD(0)</th>\n",
       "      <td>TP</td>\n",
       "      <td>FP</td>\n",
       "    </tr>\n",
       "    <tr>\n",
       "      <th>predicted_BAD(1)</th>\n",
       "      <td>FN</td>\n",
       "      <td>TN</td>\n",
       "    </tr>\n",
       "  </tbody>\n",
       "</table>\n",
       "</div>"
      ],
      "text/plain": [
       "                  actual_GOOD(0) actual_BAD(1)\n",
       "predicted_GOOD(0)             TP            FP\n",
       "predicted_BAD(1)              FN            TN"
      ]
     },
     "execution_count": 22,
     "metadata": {},
     "output_type": "execute_result"
    }
   ],
   "source": [
    "# Data analysis terms for each quadrant\n",
    "\n",
    "pd.DataFrame({'actual_GOOD(0)': ['TP', 'FN'], 'actual_BAD(1)': ['FP', 'TN']}, index= ['predicted_GOOD(0)', 'predicted_BAD(1)']) "
   ]
  },
  {
   "cell_type": "code",
   "execution_count": 23,
   "metadata": {
    "colab": {
     "base_uri": "https://localhost:8080/",
     "height": 112
    },
    "executionInfo": {
     "elapsed": 668,
     "status": "ok",
     "timestamp": 1613304143652,
     "user": {
      "displayName": "Stefan Lessmann",
      "photoUrl": "https://lh3.googleusercontent.com/a-/AOh14GihtuVUIO07jrZ6NKEVggi44vrPvluMzUCsHoZh=s64",
      "userId": "06342662613942148717"
     },
     "user_tz": -60
    },
    "id": "0TvNtMgzHr1R",
    "outputId": "15f6cb41-bfef-4d28-d1ce-4daf9b2120f0"
   },
   "outputs": [
    {
     "data": {
      "text/html": [
       "<div>\n",
       "<style scoped>\n",
       "    .dataframe tbody tr th:only-of-type {\n",
       "        vertical-align: middle;\n",
       "    }\n",
       "\n",
       "    .dataframe tbody tr th {\n",
       "        vertical-align: top;\n",
       "    }\n",
       "\n",
       "    .dataframe thead th {\n",
       "        text-align: right;\n",
       "    }\n",
       "</style>\n",
       "<table border=\"1\" class=\"dataframe\">\n",
       "  <thead>\n",
       "    <tr style=\"text-align: right;\">\n",
       "      <th></th>\n",
       "      <th>actual_GOOD(0)</th>\n",
       "      <th>actual_BAD(1)</th>\n",
       "    </tr>\n",
       "  </thead>\n",
       "  <tbody>\n",
       "    <tr>\n",
       "      <th>predicted_GOOD(0)</th>\n",
       "      <td>C(g,G)</td>\n",
       "      <td>C(g,B)</td>\n",
       "    </tr>\n",
       "    <tr>\n",
       "      <th>predicted_BAD(1)</th>\n",
       "      <td>C(b,G)</td>\n",
       "      <td>C(b,B)</td>\n",
       "    </tr>\n",
       "  </tbody>\n",
       "</table>\n",
       "</div>"
      ],
      "text/plain": [
       "                  actual_GOOD(0) actual_BAD(1)\n",
       "predicted_GOOD(0)         C(g,G)        C(g,B)\n",
       "predicted_BAD(1)          C(b,G)        C(b,B)"
      ]
     },
     "execution_count": 23,
     "metadata": {},
     "output_type": "execute_result"
    }
   ],
   "source": [
    "# Costs associated for each quadrant\n",
    "\n",
    "pd.DataFrame({'actual_GOOD(0)': ['C(g,G)', 'C(b,G)'], 'actual_BAD(1)': ['C(g,B)', 'C(b,B)']}, index= ['predicted_GOOD(0)', 'predicted_BAD(1)'])"
   ]
  },
  {
   "cell_type": "code",
   "execution_count": 24,
   "metadata": {
    "colab": {
     "base_uri": "https://localhost:8080/",
     "height": 112
    },
    "executionInfo": {
     "elapsed": 712,
     "status": "ok",
     "timestamp": 1613304144767,
     "user": {
      "displayName": "Stefan Lessmann",
      "photoUrl": "https://lh3.googleusercontent.com/a-/AOh14GihtuVUIO07jrZ6NKEVggi44vrPvluMzUCsHoZh=s64",
      "userId": "06342662613942148717"
     },
     "user_tz": -60
    },
    "id": "GeYvIHfX83OZ",
    "outputId": "1d9518a4-9c69-4275-d563-86f200694a99"
   },
   "outputs": [
    {
     "data": {
      "text/html": [
       "<div>\n",
       "<style scoped>\n",
       "    .dataframe tbody tr th:only-of-type {\n",
       "        vertical-align: middle;\n",
       "    }\n",
       "\n",
       "    .dataframe tbody tr th {\n",
       "        vertical-align: top;\n",
       "    }\n",
       "\n",
       "    .dataframe thead th {\n",
       "        text-align: right;\n",
       "    }\n",
       "</style>\n",
       "<table border=\"1\" class=\"dataframe\">\n",
       "  <thead>\n",
       "    <tr style=\"text-align: right;\">\n",
       "      <th></th>\n",
       "      <th>actual_GOOD(0)</th>\n",
       "      <th>actual_BAD(1)</th>\n",
       "    </tr>\n",
       "  </thead>\n",
       "  <tbody>\n",
       "    <tr>\n",
       "      <th>predicted_GOOD(0)</th>\n",
       "      <td>0</td>\n",
       "      <td>32</td>\n",
       "    </tr>\n",
       "    <tr>\n",
       "      <th>predicted_BAD(1)</th>\n",
       "      <td>1</td>\n",
       "      <td>0</td>\n",
       "    </tr>\n",
       "  </tbody>\n",
       "</table>\n",
       "</div>"
      ],
      "text/plain": [
       "                   actual_GOOD(0)  actual_BAD(1)\n",
       "predicted_GOOD(0)               0             32\n",
       "predicted_BAD(1)                1              0"
      ]
     },
     "execution_count": 24,
     "metadata": {},
     "output_type": "execute_result"
    }
   ],
   "source": [
    "# Cost matrix for our scenario (project-specific)\n",
    "\n",
    "cost_matrix = pd.DataFrame({'actual_GOOD(0)': [0, 1], 'actual_BAD(1)': [32, 0]}, index= ['predicted_GOOD(0)', 'predicted_BAD(1)'])\n",
    "cost_matrix"
   ]
  },
  {
   "cell_type": "markdown",
   "metadata": {
    "id": "JZ0JnvJJ_Ork"
   },
   "source": [
    "## Cost-minimal threshold\n",
    "\n",
    "Recall the following equation to define the cost-minimal cutoff:\n",
    "\n",
    "$$ 𝑝(𝑏|𝒙) ≥ 𝜏^∗ =  \\frac{𝐶(𝑏,𝐺)}{ 𝐶 (𝑏,𝐺) + 𝐶(𝑔,𝐵)} $$\n",
    "\n",
    "Using the above stated cost-matrix, the optimal cutoff for our specific matrix is:\n",
    "\n",
    "$$ 𝑝(𝑏|𝒙) ≥ 𝜏^∗ =  \\frac{1}{ 32+1} $$\n",
    "\n",
    "Let's calculate this threshold:"
   ]
  },
  {
   "cell_type": "code",
   "execution_count": 25,
   "metadata": {
    "colab": {
     "base_uri": "https://localhost:8080/"
    },
    "executionInfo": {
     "elapsed": 700,
     "status": "ok",
     "timestamp": 1613304148491,
     "user": {
      "displayName": "Stefan Lessmann",
      "photoUrl": "https://lh3.googleusercontent.com/a-/AOh14GihtuVUIO07jrZ6NKEVggi44vrPvluMzUCsHoZh=s64",
      "userId": "06342662613942148717"
     },
     "user_tz": -60
    },
    "id": "Vj0byZLTEnDC",
    "outputId": "475196c7-9ddd-4088-9739-a326965988a5"
   },
   "outputs": [
    {
     "data": {
      "text/plain": [
       "0.0303"
      ]
     },
     "execution_count": 25,
     "metadata": {},
     "output_type": "execute_result"
    }
   ],
   "source": [
    "# Bayes optimal threshold\n",
    "threshold_bayes = (cost_matrix.iloc[1,0]               # C(b,G)\n",
    "                   /(cost_matrix.iloc[1,0]             # C(b,G)\n",
    "                     +cost_matrix.iloc[0,1])).round(5) # C(g,B)\n",
    "threshold_bayes"
   ]
  },
  {
   "cell_type": "markdown",
   "metadata": {
    "id": "MJmQUImRIiPn"
   },
   "source": [
    "Now that we have defined this cutoff, we need to establish the corresponding class predictions. For comparison, we will also calculate the class predictions of the default cutoff: 0.5. "
   ]
  },
  {
   "cell_type": "code",
   "execution_count": 26,
   "metadata": {
    "colab": {
     "base_uri": "https://localhost:8080/"
    },
    "executionInfo": {
     "elapsed": 906,
     "status": "ok",
     "timestamp": 1613304151665,
     "user": {
      "displayName": "Stefan Lessmann",
      "photoUrl": "https://lh3.googleusercontent.com/a-/AOh14GihtuVUIO07jrZ6NKEVggi44vrPvluMzUCsHoZh=s64",
      "userId": "06342662613942148717"
     },
     "user_tz": -60
    },
    "id": "aShOa0DDGbMf",
    "outputId": "9498e6f1-7a3d-4b2e-8a38-63288124a0c9"
   },
   "outputs": [
    {
     "name": "stdout",
     "output_type": "stream",
     "text": [
      "0.0883668903803132 0.9457494407158836\n"
     ]
    }
   ],
   "source": [
    "# Train a model and get probaility predictions\n",
    "clf = LogisticRegression(penalty='none', fit_intercept=True).fit(X_train, y_train.ravel())\n",
    "pred_proba = clf.predict_proba(X_test)[:,1]\n",
    "\n",
    "# Use the array above to manually determine the cut-off and convert to class predictions\n",
    "pred_default = np.where(pred_proba >= 0.5, 1, 0) # 0.5 is the default cut-off, equivalant to y_pred from above\n",
    "pred_bayes= np.where(pred_proba >= threshold_bayes, 1, 0) # Using the cut-off defined by the cost-minimal threshold function\n",
    "print(np.mean(pred_default), np.mean(pred_bayes)) # Shows the percentage of observations that are now predicted with the label 1, default"
   ]
  },
  {
   "cell_type": "markdown",
   "metadata": {
    "id": "nK3QXk_wI9V0"
   },
   "source": [
    "## Evaluating cost-sensitive classifiers\n",
    "It is important understand that for cost-sensitive classifiers, the methods we have learnt so far do not suffice. This part of the tutorial will elaborate on the limitations of our usual model evaluation techniques for cost-sensitive scenarios like ours and propose a different method to quantify the performance of cost-sensitive methods.\n",
    "\n",
    "As we are working with distinct class predictions, a ROC curve is not an option, as this compares the true positive and true negative rate over all cutoffs. This means, we could work with accuracy, sensitivity and specificity. \n",
    "Let's see how the different cut-offs perform in terms of accuracy:"
   ]
  },
  {
   "cell_type": "code",
   "execution_count": 27,
   "metadata": {
    "colab": {
     "base_uri": "https://localhost:8080/"
    },
    "executionInfo": {
     "elapsed": 664,
     "status": "ok",
     "timestamp": 1613304155323,
     "user": {
      "displayName": "Stefan Lessmann",
      "photoUrl": "https://lh3.googleusercontent.com/a-/AOh14GihtuVUIO07jrZ6NKEVggi44vrPvluMzUCsHoZh=s64",
      "userId": "06342662613942148717"
     },
     "user_tz": -60
    },
    "id": "CcKills8XQxL",
    "outputId": "34dd219b-e6f9-4e8d-9362-dd743421d929"
   },
   "outputs": [
    {
     "name": "stdout",
     "output_type": "stream",
     "text": [
      "The accuracy of the model using the default cutoff is: 0.8361297539149888\n",
      "The accuracy of the model using the cost-minimal cutoff is: 0.25279642058165547\n"
     ]
    }
   ],
   "source": [
    "from sklearn.metrics import accuracy_score\n",
    "print(\"The accuracy of the model using the default cutoff is: {}\".format(accuracy_score(y_test, pred_default)))\n",
    "print(\"The accuracy of the model using the cost-minimal cutoff is: {}\".format(accuracy_score(y_test, pred_bayes)))"
   ]
  },
  {
   "cell_type": "markdown",
   "metadata": {
    "id": "TCQFqDaAgudg"
   },
   "source": [
    "The accuracy for the cost-minimal cutoff is only about 20%. While usually we would reject this model, we will find that this cutoff is an improvement to the default cutoff. We can also visualize the cutoffs on the ROC curve to give you a better idea of the specificity and sensitivity of the different cutoffs. For this, we use a function from a solution to excercise 6. Here we calculate the corresponding FPR and TPR for a specific cutoff."
   ]
  },
  {
   "cell_type": "code",
   "execution_count": 28,
   "metadata": {
    "id": "iEDKVwjLYz6O"
   },
   "outputs": [],
   "source": [
    "# Calculating fpr and tpr manually at a given cutoff\n",
    "# We will use this function to plot markers at distinct point across our line graph to see where the different cutoffs are along the graph\n",
    "def tpr_fpr_calc(cutoff, yhat_prob, y_true):\n",
    "\n",
    "    # temp variable giving distinct predictions based on the cutoff given as an input\n",
    "    temp = (yhat_prob >= cutoff).astype(bool)\n",
    "\n",
    "    # Create confusion matrix for this prediction\n",
    "    cmat = metrics.confusion_matrix(y_true, temp)\n",
    "    \n",
    "    # Calculate FPR\n",
    "    fpr = cmat[0,1] / (cmat[0,1] + cmat[0,0])\n",
    "\n",
    "    # Calculate TPR\n",
    "    tpr = cmat[1,1] / (cmat[1,1] + cmat[1,0])\n",
    "\n",
    "    return tpr, fpr"
   ]
  },
  {
   "cell_type": "code",
   "execution_count": 29,
   "metadata": {
    "id": "CgkXQCN4jIGL"
   },
   "outputs": [],
   "source": [
    "# Calculate all FPRs and TPRs for the LogitCV model\n",
    "fpr, tpr, _ = metrics.roc_curve(y_test, pred_proba, pos_label=1)\n",
    "\n",
    "# Calculate TPR and FPR for both cutoffs\n",
    "tpr_bayes, fpr_bayes = tpr_fpr_calc(threshold_bayes, pred_proba, y_test)\n",
    "tpr_default, fpr_default = tpr_fpr_calc(0.5, pred_proba, y_test)"
   ]
  },
  {
   "cell_type": "code",
   "execution_count": 30,
   "metadata": {
    "colab": {
     "base_uri": "https://localhost:8080/",
     "height": 388
    },
    "executionInfo": {
     "elapsed": 806,
     "status": "ok",
     "timestamp": 1613304166661,
     "user": {
      "displayName": "Stefan Lessmann",
      "photoUrl": "https://lh3.googleusercontent.com/a-/AOh14GihtuVUIO07jrZ6NKEVggi44vrPvluMzUCsHoZh=s64",
      "userId": "06342662613942148717"
     },
     "user_tz": -60
    },
    "id": "Y_49fmsEYfY3",
    "outputId": "6e273030-cebb-4118-ed4a-b3f21869ee8f"
   },
   "outputs": [
    {
     "data": {
      "image/png": "[encoded data removed]",
      "text/plain": [
       "<Figure size 864x432 with 1 Axes>"
      ]
     },
     "metadata": {
      "needs_background": "light"
     },
     "output_type": "display_data"
    }
   ],
   "source": [
    "# Plot ROC curve and mark cutoffs on the curve\n",
    "plt.plot(fpr, tpr, label = \"ROC curve\")\n",
    "plt.plot(fpr_default, tpr_default, marker=\"x\", markersize=20, label =\"0.5 cutoff\")\n",
    "plt.plot(fpr_bayes, tpr_bayes, marker=\"x\", markersize=20,  label =\"Cost-minimal cutoff\")\n",
    "plt.xlabel(\"1-Specificity\")\n",
    "plt.ylabel(\"Sensitivity\")\n",
    "plt.legend();"
   ]
  },
  {
   "cell_type": "markdown",
   "metadata": {
    "id": "uRfJe3JzW5IL"
   },
   "source": [
    "From the knowledge you have obtained in this class so far, you would say that the cutoff we calculated does not result in a good model. However, looking at the ROC curve, we can already gain more insight. \n",
    "\n",
    "Recall that sensitivity is the proportion of correctly identified positives (BAD) and specificity is the proportion of correctly identified negatives(GOOD). Since we have a ratio of 32:1 of misclassifying positives to negatives, it seems reasonable to prefer a much higher sensitivity.\n",
    "\n",
    "For the default cutoff, both specificity and sensitivity are around 0.7. Howver, the Bayes minimal cutoff shows a much higher sensitivity than specificity. This means, it is more sensitive towards correctly classifying observations of the positive class (BAD) than the regular cutoff. At the same time, the specificity is very low. From other ROC plots, we know that this is usual for cutoffs with a high sensitivity (top right corner of the plot). It also makes sense when you look at the respective cost of misclassification.\n",
    "\n",
    "Remember that **if the bank accepts 1 application from a future defaulter, this is equivalent of rejecting 32 trustworthy applicants**. Banks would therefore be ready to reject quite a few trustworthy applicants to avoid a single default. This now leads us to how we evaluate cost-sensitive models. Recall, we calculated the **cost-minimal cutoff**. This means, we have to calculate the corresponding error cost to determine which model provides the better outcome for the bank.\n",
    "\n",
    "Before we can calculate the error cost, we need to adjust our cost matrix to allow for multiplication with the confusion matrix. \n",
    "\n",
    "*Please note that we have to transpose the cost matrix to be able to multiply both matrices with each other. This is because we set up the cost-matrix following the paper [Elkan (2001)](http://web.cs.iastate.edu/~honavar/elkan.pdf). When calculating the confusion matrix in Python, however, the \"actuals\" and \"predictions\" are reversed. This is another reminder to always make sure to read the labels, as to avoid confusion. See here:*"
   ]
  },
  {
   "cell_type": "code",
   "execution_count": 31,
   "metadata": {
    "colab": {
     "base_uri": "https://localhost:8080/",
     "height": 112
    },
    "executionInfo": {
     "elapsed": 673,
     "status": "ok",
     "timestamp": 1613304193113,
     "user": {
      "displayName": "Stefan Lessmann",
      "photoUrl": "https://lh3.googleusercontent.com/a-/AOh14GihtuVUIO07jrZ6NKEVggi44vrPvluMzUCsHoZh=s64",
      "userId": "06342662613942148717"
     },
     "user_tz": -60
    },
    "id": "41RyD4ipfc1N",
    "outputId": "3f11e941-2ccf-4c52-be1c-e00d5276e1e3"
   },
   "outputs": [
    {
     "data": {
      "text/html": [
       "<div>\n",
       "<style scoped>\n",
       "    .dataframe tbody tr th:only-of-type {\n",
       "        vertical-align: middle;\n",
       "    }\n",
       "\n",
       "    .dataframe tbody tr th {\n",
       "        vertical-align: top;\n",
       "    }\n",
       "\n",
       "    .dataframe thead th {\n",
       "        text-align: right;\n",
       "    }\n",
       "</style>\n",
       "<table border=\"1\" class=\"dataframe\">\n",
       "  <thead>\n",
       "    <tr style=\"text-align: right;\">\n",
       "      <th></th>\n",
       "      <th>actual_GOOD(0)</th>\n",
       "      <th>actual_BAD(1)</th>\n",
       "    </tr>\n",
       "  </thead>\n",
       "  <tbody>\n",
       "    <tr>\n",
       "      <th>predicted_GOOD(0)</th>\n",
       "      <td>0</td>\n",
       "      <td>32</td>\n",
       "    </tr>\n",
       "    <tr>\n",
       "      <th>predicted_BAD(1)</th>\n",
       "      <td>1</td>\n",
       "      <td>0</td>\n",
       "    </tr>\n",
       "  </tbody>\n",
       "</table>\n",
       "</div>"
      ],
      "text/plain": [
       "                   actual_GOOD(0)  actual_BAD(1)\n",
       "predicted_GOOD(0)               0             32\n",
       "predicted_BAD(1)                1              0"
      ]
     },
     "execution_count": 31,
     "metadata": {},
     "output_type": "execute_result"
    }
   ],
   "source": [
    "cost_matrix # Note that the columns and rows have been switched with the sklearn function below"
   ]
  },
  {
   "cell_type": "code",
   "execution_count": 32,
   "metadata": {
    "colab": {
     "base_uri": "https://localhost:8080/",
     "height": 407
    },
    "executionInfo": {
     "elapsed": 779,
     "status": "ok",
     "timestamp": 1613304195309,
     "user": {
      "displayName": "Stefan Lessmann",
      "photoUrl": "https://lh3.googleusercontent.com/a-/AOh14GihtuVUIO07jrZ6NKEVggi44vrPvluMzUCsHoZh=s64",
      "userId": "06342662613942148717"
     },
     "user_tz": -60
    },
    "id": "WCJ6yw2Rfc1e",
    "outputId": "a6943b3a-f55e-4977-de4a-4b64d3b31a96"
   },
   "outputs": [
    {
     "data": {
      "text/plain": [
       "<sklearn.metrics._plot.confusion_matrix.ConfusionMatrixDisplay at 0x18e1aa41cc0>"
      ]
     },
     "execution_count": 32,
     "metadata": {},
     "output_type": "execute_result"
    },
    {
     "data": {
      "image/png": "[encoded data removed]",
      "text/plain": [
       "<Figure size 864x432 with 2 Axes>"
      ]
     },
     "metadata": {
      "needs_background": "light"
     },
     "output_type": "display_data"
    }
   ],
   "source": [
    "from sklearn import metrics \n",
    "metrics.plot_confusion_matrix(clf, X_test, y_test,  cmap=plt.cm.Blues, values_format='d') # Columns and rows have been transposed compared to above"
   ]
  },
  {
   "cell_type": "markdown",
   "metadata": {
    "id": "c5uxweg5fc1f"
   },
   "source": [
    "Since this way we cannot perfectly match each cell with the corresponding field in the cost-matrix, we transpose the matrix and then multiply both matrices with each other. Afterwards, we will calculate the corresponding error cost. For this, we have to calculate the confusion matrix for the class predictions. To make the results comparable, no matter for how many observations we calculate this error, we compute the probabilities for FN, FP, TP and TN in the confusion matrix by dividing each cell by the number of observations in the test data. \n"
   ]
  },
  {
   "cell_type": "code",
   "execution_count": 33,
   "metadata": {
    "colab": {
     "base_uri": "https://localhost:8080/"
    },
    "executionInfo": {
     "elapsed": 673,
     "status": "ok",
     "timestamp": 1613304211745,
     "user": {
      "displayName": "Stefan Lessmann",
      "photoUrl": "https://lh3.googleusercontent.com/a-/AOh14GihtuVUIO07jrZ6NKEVggi44vrPvluMzUCsHoZh=s64",
      "userId": "06342662613942148717"
     },
     "user_tz": -60
    },
    "id": "QwDGC-cXfqa_",
    "outputId": "45637e3c-e1de-4e4c-e0e2-82ae8000c963"
   },
   "outputs": [
    {
     "name": "stdout",
     "output_type": "stream",
     "text": [
      "The error cost for the default cutoff is: 4.428970917225951\n",
      "The error cost for the cost-minimal cutoff is: 0.7645413870246085\n"
     ]
    }
   ],
   "source": [
    "# To calculate the error cost, we need to convert our predictions into the same format as the cost-matrix\n",
    "cmat_default = metrics.confusion_matrix(y_test, pred_default)\n",
    "cmat_bayes = metrics.confusion_matrix(y_test, pred_bayes)\n",
    "\n",
    "# Calculate confusion matrix probabilities for each cell and multiply with cost-matrix to calculate the cost\n",
    "print(\"The error cost for the default cutoff is: {}\".format(np.sum(np.sum((cmat_default/len(y_test))*cost_matrix.T)))) # summarize to get total cost\n",
    "print(\"The error cost for the cost-minimal cutoff is: {}\".format(np.sum(np.sum((cmat_bayes/len(y_test))*cost_matrix.T))))"
   ]
  },
  {
   "cell_type": "markdown",
   "metadata": {
    "id": "SjXKSdijM5p3"
   },
   "source": [
    "By multiplying the confusion matrix probabilities with the corresponding cell in the cost-matrix and summarizing the results, we obtain the cost related to each model. It shows why a bank would chose the cost-minimal cutoff over the default cutoff. **While we only obtained a 20% accuracy for this threshold, the default model incurs almost 3x the cost.** This also underlines why traditional evaluation metrics might not always be sufficient and the context of predictions is very important when analyzing the efficiency of a model.\n",
    "\n",
    "So we can calculate the error-cost of other cost-sensitive methods later, we save this process as a function."
   ]
  },
  {
   "cell_type": "code",
   "execution_count": 34,
   "metadata": {
    "id": "WOY1X9OmJNn-"
   },
   "outputs": [],
   "source": [
    "# Save function to calculate error-cost including option to adjust cutoff\n",
    "def calc_error_cost(y_probabilities, y_test, cutoff, cost_matrix_df):\n",
    "    pred = np.where(y_probabilities >= cutoff, 1, 0)                    # convert class probabilities into class predictions\n",
    "    cmat = metrics.confusion_matrix(y_test, pred)                       # compute corresponding confusion matrix\n",
    "    cost = (np.sum(np.sum((cmat/len(y_test))*cost_matrix.T))).round(5)  # calculate the corresponding cost\n",
    "    return [cutoff, cost]"
   ]
  },
  {
   "cell_type": "code",
   "execution_count": 35,
   "metadata": {
    "id": "kwUrQdl2Ke9m"
   },
   "outputs": [],
   "source": [
    "# Save the results for the method comparison at the end\n",
    "cutoff_cost_default = calc_error_cost(pred_proba, y_test, 0.5, cost_matrix)\n",
    "cutoff_cost_bayes= calc_error_cost(pred_proba, y_test, threshold_bayes, cost_matrix)"
   ]
  },
  {
   "cell_type": "markdown",
   "metadata": {
    "id": "atjdvNl_NCN8"
   },
   "source": [
    "## Empirical Thresholding\n",
    "\n",
    "The methods proposed by [Elkan (2001)](http://web.cs.iastate.edu/~honavar/elkan.pdf) is a theoretical approach. Another approach is to empirically tune the threshold. This means finding the threshold that gives the lowest error cost based on the given cost-matrix and data. This is similar to us searching for the cutoff with the highest accuracy score in excerice 6, just with a different intention. This time, we do not want the most accurate cutoff but the most cost-efficient cutoff. While this is a good approach, empirical tuning may be prone to overfitting as you base it on the same data set. Because of that, we use a cross-validation approach and average over all cutoffs with the lowest error-cost for each fold. Let's start by defining this function:"
   ]
  },
  {
   "cell_type": "code",
   "execution_count": 36,
   "metadata": {
    "id": "K9Bu1BeIaHKh"
   },
   "outputs": [],
   "source": [
    "# To use cross-validation we refer back to this function we defined in the model assessment tutorial\n",
    "from sklearn.utils import shuffle\n",
    "def cv_split(seq, splits):\n",
    "  return (seq[i::splits] for i in range(splits))\n",
    "\n",
    "# Define function for threshold tuning\n",
    "def lowest_error_cutoff(k, X_train_df, X_test_df, y_train_true, y_test_true, bayes_cost_matrix, y_test_probabilities):\n",
    "  cutoffs_total = [] # save best cutoff from each split here, so we can average this cutoff later\n",
    "\n",
    "  # Create a list of the index of our full data set as input, and k for the amount of splits\n",
    "  cv_split_list = list(cv_split(shuffle(X_train_df.index.values.tolist(), random_state=888), k)) \n",
    "\n",
    "  for fold, i in enumerate(cv_split_list): # for each split \n",
    "\n",
    "    temp = X_train_df.index.isin(i) # Create temp variable for data to exclude            \n",
    "    X_train_cv, y_train_cv = X_train_df.iloc[~temp], y_train_true[~temp] # Build model on all but hold out data\n",
    "    X_test_cv, y_test_cv =  X_train_df.iloc[temp], y_train_true[temp] # Test on hold out data later\n",
    "    clf.fit(X_train_cv, y_train_cv.ravel()) # Train model\n",
    "    pred_temp_prob = clf.predict_proba(X_test_cv)[:, 1] # Calculate class probabilities for current split\n",
    "\n",
    "    # Define empty variable to save all cutoffs and corresponding errors. This way we can extract the lowest one for this split later\n",
    "    cutoffs_cv = []\n",
    "    error_cost_cv = []\n",
    "\n",
    "    for j in  np.arange(0, 1, 0.001): # np.arrange(from, to, step-size)\n",
    "              pred_temp = (pred_temp_prob >= j).astype(bool) # convert probabilities to class predictions\n",
    "              cutoffs_cv.append(j) # save corresponding cutoff\n",
    "              temp_cutoff_cost = calc_error_cost(pred_temp, y_test_cv, j, bayes_cost_matrix) # calculate cost and cutoff using our previously function\n",
    "              error_cost_cv.append(temp_cutoff_cost[1]) # save error for the given cutoff\n",
    "      \n",
    "    temp_df = pd.DataFrame({\"cutoffs\":cutoffs_cv, \"error_cost\": error_cost_cv}).sort_values(\"error_cost\")  # merge cutoffs and error cost, sort from lowest to highest by error_cost\n",
    "    print(\"This is the fold number {}\".format(fold+1),\" of the cross-validation\")\n",
    "    print(\"The lowest error on the holdout data was achieved with the following cut-off: {}\".format(temp_df.iloc[0].values[0]))\n",
    "    print(\"The corresponding error cost is: {}\".format(temp_df.iloc[0].values[1]))\n",
    "    print(\"\")\n",
    "    cutoffs_total.append(temp_df.iloc[0, 0]) # save the lowest cutoff of this split to the list so we can average it at the end\n",
    "    plt.plot(temp_df.cutoffs, temp_df.error_cost) # plot cutoffs and corresponding errors\n",
    "   \n",
    "  temp_cutoff_cost= calc_error_cost(y_test_probabilities, y_test_true, np.mean(cutoffs_total).round(5), bayes_cost_matrix) # np.mean(cutoffs_total) is the resulting best cutoff from the cross validation. We calculate the corresponding error-cost on the test data set\n",
    "  plt.plot(temp_cutoff_cost[0], temp_cutoff_cost[1], marker='x', markersize=20, alpha=1, color='black', label=\"Average cutoff performance on test data\") # plot cutoff and corresponding error on test set\n",
    "  plt.title(\"Error Cost on Holdout Data by Threshold\")\n",
    "  plt.ylabel(\"Error Cost\")\n",
    "  plt.xlabel(\"Threshold\") \n",
    "\n",
    "  print(\"The best threshold according to cross-validated threshold tuning is: {}\".format(temp_cutoff_cost[0])) \n",
    "  print(\"On the test set, it has the following error cost: {}\".format(temp_cutoff_cost[1]))\n",
    "  return temp_cutoff_cost"
   ]
  },
  {
   "cell_type": "code",
   "execution_count": 37,
   "metadata": {
    "colab": {
     "base_uri": "https://localhost:8080/",
     "height": 817
    },
    "executionInfo": {
     "elapsed": 24272,
     "status": "ok",
     "timestamp": 1613304263395,
     "user": {
      "displayName": "Stefan Lessmann",
      "photoUrl": "https://lh3.googleusercontent.com/a-/AOh14GihtuVUIO07jrZ6NKEVggi44vrPvluMzUCsHoZh=s64",
      "userId": "06342662613942148717"
     },
     "user_tz": -60
    },
    "id": "L5uD9reEh3n-",
    "outputId": "94fd220f-0e5b-4db8-f91e-2cf8623478ad"
   },
   "outputs": [
    {
     "name": "stdout",
     "output_type": "stream",
     "text": [
      "This is the fold number 1  of the cross-validation\n",
      "The lowest error on the holdout data was achieved with the following cut-off: 0.059000000000000004\n",
      "The corresponding error cost is: 0.75808\n",
      "\n",
      "This is the fold number 2  of the cross-validation\n",
      "The lowest error on the holdout data was achieved with the following cut-off: 0.063\n",
      "The corresponding error cost is: 0.73772\n",
      "\n",
      "This is the fold number 3  of the cross-validation\n",
      "The lowest error on the holdout data was achieved with the following cut-off: 0.057\n",
      "The corresponding error cost is: 0.69784\n",
      "\n",
      "This is the fold number 4  of the cross-validation\n",
      "The lowest error on the holdout data was achieved with the following cut-off: 0.024\n",
      "The corresponding error cost is: 0.76019\n",
      "\n",
      "This is the fold number 5  of the cross-validation\n",
      "The lowest error on the holdout data was achieved with the following cut-off: 0.022\n",
      "The corresponding error cost is: 0.77578\n",
      "\n",
      "The best threshold according to cross-validated threshold tuning is: 0.045\n",
      "On the test set, it has the following error cost: 0.76286\n"
     ]
    },
    {
     "data": {
      "image/png": "[encoded data removed]",
      "text/plain": [
       "<Figure size 864x432 with 1 Axes>"
      ]
     },
     "metadata": {
      "needs_background": "light"
     },
     "output_type": "display_data"
    }
   ],
   "source": [
    "# Calculate empirical threshold with 5 folds\n",
    "cutoff_cost_cv = lowest_error_cutoff(5, X_train, X_test, y_train, y_test, cost_matrix, pred_proba)"
   ]
  },
  {
   "cell_type": "code",
   "execution_count": 38,
   "metadata": {
    "colab": {
     "base_uri": "https://localhost:8080/"
    },
    "executionInfo": {
     "elapsed": 660,
     "status": "ok",
     "timestamp": 1613304276242,
     "user": {
      "displayName": "Stefan Lessmann",
      "photoUrl": "https://lh3.googleusercontent.com/a-/AOh14GihtuVUIO07jrZ6NKEVggi44vrPvluMzUCsHoZh=s64",
      "userId": "06342662613942148717"
     },
     "user_tz": -60
    },
    "id": "tdnKnQbVSPMl",
    "outputId": "786a6c00-52eb-440d-f803-4aad80a1c503"
   },
   "outputs": [
    {
     "name": "stdout",
     "output_type": "stream",
     "text": [
      "The cutoff and cost, respectively, for the Bayes model were: [0.0303, 0.76454]\n",
      "The cross-validated threshold tuning approach gave us the following cutoff and cost, respectively: [0.045, 0.76286]\n"
     ]
    }
   ],
   "source": [
    "# Save confusion matrix for comparison later\n",
    "cmat_CV = metrics.confusion_matrix(y_test, np.where(pred_proba >=  cutoff_cost_cv[0], 1, 0)) # compute corresponding confusion matrix\n",
    "\n",
    "# Compare Bayes and CV-tuning\n",
    "\n",
    "print(\"The cutoff and cost, respectively, for the Bayes model were: {}\".format(cutoff_cost_bayes))\n",
    "print(\"The cross-validated threshold tuning approach gave us the following cutoff and cost, respectively: {}\".format(cutoff_cost_cv))"
   ]
  },
  {
   "cell_type": "markdown",
   "metadata": {
    "id": "8l_17AA3h3P7"
   },
   "source": [
    "The cross-validated approach gave a slightly higher threshold for the optimal cutoff and a slightly lower error-cost. Since the model performs well on the test set,  we can see that the cutoff we found empirically also did not overfit. Due to the small difference in these numbers, there may be other factors which may lead a bank to choose a specific cutoff. For example, recall that our cost-matrix assumes 0 cost for correct predictions. Banks may also consider the benefits of correct predictions. For now, we can summarize that both approaches result in good cost performance in comparison to the default cutoff."
   ]
  },
  {
   "cell_type": "markdown",
   "metadata": {
    "id": "zVnk8u-0hgfN"
   },
   "source": [
    "## Calibration curve (reliability plot)\n",
    "\n",
    "To implement cutoff-based approaches for cost-sensitivity, we need well calibrated probability predictions. Well calibrated probability predictions are ones for which the output of `model.predict_proba()` is such that among the samples to which it gave a prediction value close to 0.8, approximately 80% actually belong to the positive class. Generally, the diagonal shows whether or not the predictions are calibrated well. Lines below the diagonal imply an over-forcast, and lines below the diagonal an under-forcast (probabilities too small). "
   ]
  },
  {
   "cell_type": "code",
   "execution_count": 39,
   "metadata": {
    "colab": {
     "base_uri": "https://localhost:8080/",
     "height": 404
    },
    "executionInfo": {
     "elapsed": 929,
     "status": "ok",
     "timestamp": 1613304318191,
     "user": {
      "displayName": "Stefan Lessmann",
      "photoUrl": "https://lh3.googleusercontent.com/a-/AOh14GihtuVUIO07jrZ6NKEVggi44vrPvluMzUCsHoZh=s64",
      "userId": "06342662613942148717"
     },
     "user_tz": -60
    },
    "id": "Wp9W2ozYvOrQ",
    "outputId": "a88db5ea-99c0-41ef-85de-f74bd6db6b5e"
   },
   "outputs": [
    {
     "data": {
      "image/png": "[encoded data removed]",
      "text/plain": [
       "<Figure size 864x432 with 1 Axes>"
      ]
     },
     "metadata": {
      "needs_background": "light"
     },
     "output_type": "display_data"
    }
   ],
   "source": [
    "# Calibration curve for LogitCV\n",
    "from sklearn.calibration import calibration_curve\n",
    "\n",
    "# Calculate calibration using calibration_curve function\n",
    "prob_true, prob_pred= calibration_curve(y_test, pred_proba, n_bins = 20)\n",
    "\n",
    "# Plot results\n",
    "plt.plot(prob_pred, prob_true, marker = '.', label = 'Logistic Regression CV')  \n",
    "plt.title(\"Calibration Plot for Logit-CV model\")\n",
    "plt.ylabel(\"True Probability per Bin\")\n",
    "plt.xlabel(\"Predicted Probability\") \n",
    "plt.plot([0, 1], [0, 1], linestyle = '--', label = 'Ideally Calibrated'); \n",
    "plt.legend();"
   ]
  },
  {
   "cell_type": "markdown",
   "metadata": {
    "id": "6ou4YsIiRaNb"
   },
   "source": [
    "In this plot we can see that the logit model outputs rather well-behaved (i.e., calibrated) probability predictions. This is important when we are concerned with setting the threshold. For a well-calibrated classifier, the Bayes-optimal cutoff should work well. This agrees with our above result. The Bayes-optimal and empirically tuned cut-off where reasonably close to one another. For other classifiers, the predicted probabilities may be far less calibrated. This might be the case for tree-based classifiers, for example. In such a case, we would expect the empirical approach toward finding a cut-off with minimal costs to work much better than calculating the Bayes-optimal cut-off. \n",
    "\n",
    "In the code cell below, generate a calibration curve for a tree model. How do you expect it to look? What influences the calibration of a tree model?"
   ]
  },
  {
   "cell_type": "code",
   "execution_count": 40,
   "metadata": {
    "id": "_uPnoVUkyL12"
   },
   "outputs": [],
   "source": [
    "# Repeat this task for decision tree"
   ]
  },
  {
   "cell_type": "markdown",
   "metadata": {
    "id": "j_VwkJyFxJuL"
   },
   "source": [
    "## The MetaCost algorithm\n",
    "\n",
    "Next we will discuss the MetaCost algorithm proposed by [Domingos (1999)](https://homes.cs.washington.edu/~pedrod/papers/kdd99.pdf). This method takes a different approach to making a model cost-sensitive. Similar to before, we do apply the Bayes minimal cutoff, but this time we use it to label our data. Basically, we train a model on the training set. We get the probability predictions for the test set for this model and apply the Bayes minimal cutoff to it. **We use this vector as our new y_train**, meaning we relabel the data. By using this cutoff, we want to achieve cost-sensitivity. For this first step it is important to use a model that is expected to give well-calibrated predictions. We then train any other model, on the data including the new labels and apply it to make predictions on the test set. Let's define this function:"
   ]
  },
  {
   "cell_type": "code",
   "execution_count": 41,
   "metadata": {
    "id": "2QAGTZNt6WQ7"
   },
   "outputs": [],
   "source": [
    "def MetaCost(X_train, X_test, y_train, relabel_model, final_model, optimal_cutoff):\n",
    "  # Use model with good calibration to predict the new labels and create probability predictions\n",
    "  temp_pred_proba_train = relabel_model.fit(X_train, y_train.ravel()).predict_proba(X_train)[:,1]\n",
    "\n",
    "  # Convert the probability predictions to class predictions using Bayes Decision Theory\n",
    "  temp_pred_class_train = np.where(temp_pred_proba_train >= optimal_cutoff, 1, 0) # These are the new class labels\n",
    "\n",
    "  # Fit a potent model to the test set, replacing our usual y_train with resulting class predictions from the last step\n",
    "  final_model.fit(X_train, temp_pred_class_train.ravel())\n",
    "\n",
    "  # Get predictions for the test set\n",
    "  temp_pred_proba_test_cs = final_model.predict_proba(X_test)[:,1]\n",
    "\n",
    "  return temp_pred_proba_test_cs"
   ]
  },
  {
   "cell_type": "code",
   "execution_count": 42,
   "metadata": {
    "id": "l3a0XE8E8GMU"
   },
   "outputs": [],
   "source": [
    "# Apply function \n",
    "pred_proba_MC = MetaCost(X_train, X_test, y_train, LogisticRegressionCV(), RandomForestClassifier(), threshold_bayes)\n",
    "\n",
    "# Train model with original labels and predict the test set for comparison\n",
    "pred_proba_RF = RandomForestClassifier().fit(X_train, y_train.ravel()).predict_proba(X_test)[:,1];\n",
    "\n",
    "# Save corresponding confusion matrix for evaluation\n",
    "cmat_MC = metrics.confusion_matrix(y_test, np.where(pred_proba_MC >=  0.5, 1, 0))"
   ]
  },
  {
   "cell_type": "code",
   "execution_count": 43,
   "metadata": {
    "colab": {
     "base_uri": "https://localhost:8080/"
    },
    "executionInfo": {
     "elapsed": 1343,
     "status": "ok",
     "timestamp": 1613304528170,
     "user": {
      "displayName": "Stefan Lessmann",
      "photoUrl": "https://lh3.googleusercontent.com/a-/AOh14GihtuVUIO07jrZ6NKEVggi44vrPvluMzUCsHoZh=s64",
      "userId": "06342662613942148717"
     },
     "user_tz": -60
    },
    "id": "EGxoGEQB19Ti",
    "outputId": "444cbe1f-b0b7-4ab4-cdcc-d4d4b3614861"
   },
   "outputs": [
    {
     "name": "stdout",
     "output_type": "stream",
     "text": [
      "The error-cost for the regular RF model is: 2.05705\n",
      "The error-cost for the MetaCost approach is: 0.74609\n"
     ]
    }
   ],
   "source": [
    "# Evaluate by calcuating the error-cost\n",
    "cutoff_cost_MC = calc_error_cost(pred_proba_MC, y_test, 0.5, cost_matrix)\n",
    "cutoff_cost_RF = calc_error_cost(pred_proba_RF, y_test, 0.5, cost_matrix)\n",
    "\n",
    "print(\"The error-cost for the regular RF model is: {}\".format(cutoff_cost_RF[1]))\n",
    "print(\"The error-cost for the MetaCost approach is: {}\".format(cutoff_cost_MC[1]))"
   ]
  },
  {
   "cell_type": "markdown",
   "metadata": {
    "id": "08ySSzrs3ejF"
   },
   "source": [
    "By comparing the MetaCost approach to the regular RF model, we can see that this approach is indeed cost-sensitive and managed to reduce the cost to around 1/3 of the non cost-sensitive approach, giving us a similar result to the Bayes minimal risk approach. "
   ]
  },
  {
   "cell_type": "markdown",
   "metadata": {
    "id": "zbRC1y7fRPh5"
   },
   "source": [
    "## Comparison of cost-sensitive methods\n",
    "Before moving on to other libraries in Python covering the topic of cost-sensitivity, we want to compare the different cost-sensitive approaches by comparing their error cost."
   ]
  },
  {
   "cell_type": "code",
   "execution_count": 44,
   "metadata": {
    "colab": {
     "base_uri": "https://localhost:8080/",
     "height": 174
    },
    "executionInfo": {
     "elapsed": 1090,
     "status": "ok",
     "timestamp": 1613304540114,
     "user": {
      "displayName": "Stefan Lessmann",
      "photoUrl": "https://lh3.googleusercontent.com/a-/AOh14GihtuVUIO07jrZ6NKEVggi44vrPvluMzUCsHoZh=s64",
      "userId": "06342662613942148717"
     },
     "user_tz": -60
    },
    "id": "_XUVJSsZSy01",
    "outputId": "7ffaa4e1-00d6-4beb-f08c-a507a3f38d88"
   },
   "outputs": [
    {
     "data": {
      "text/html": [
       "<div>\n",
       "<style scoped>\n",
       "    .dataframe tbody tr th:only-of-type {\n",
       "        vertical-align: middle;\n",
       "    }\n",
       "\n",
       "    .dataframe tbody tr th {\n",
       "        vertical-align: top;\n",
       "    }\n",
       "\n",
       "    .dataframe thead th {\n",
       "        text-align: right;\n",
       "    }\n",
       "</style>\n",
       "<table border=\"1\" class=\"dataframe\">\n",
       "  <thead>\n",
       "    <tr style=\"text-align: right;\">\n",
       "      <th></th>\n",
       "      <th>Cutoff</th>\n",
       "      <th>Error-Cost</th>\n",
       "    </tr>\n",
       "  </thead>\n",
       "  <tbody>\n",
       "    <tr>\n",
       "      <th>Default</th>\n",
       "      <td>0.5000</td>\n",
       "      <td>4.42897</td>\n",
       "    </tr>\n",
       "    <tr>\n",
       "      <th>Bayes</th>\n",
       "      <td>0.0303</td>\n",
       "      <td>0.76454</td>\n",
       "    </tr>\n",
       "    <tr>\n",
       "      <th>Cross-Validation</th>\n",
       "      <td>0.0450</td>\n",
       "      <td>0.76286</td>\n",
       "    </tr>\n",
       "    <tr>\n",
       "      <th>MetaCost</th>\n",
       "      <td>0.5000</td>\n",
       "      <td>0.74609</td>\n",
       "    </tr>\n",
       "  </tbody>\n",
       "</table>\n",
       "</div>"
      ],
      "text/plain": [
       "                  Cutoff  Error-Cost\n",
       "Default           0.5000     4.42897\n",
       "Bayes             0.0303     0.76454\n",
       "Cross-Validation  0.0450     0.76286\n",
       "MetaCost          0.5000     0.74609"
      ]
     },
     "execution_count": 44,
     "metadata": {},
     "output_type": "execute_result"
    }
   ],
   "source": [
    "# Summarize all cutoffs and error-costs in one DataFrame\n",
    "cutoff_cost_df = pd.DataFrame([cutoff_cost_default, cutoff_cost_bayes, cutoff_cost_cv, cutoff_cost_MC], columns=[\"Cutoff\", \"Error-Cost\"], index=['Default', 'Bayes', 'Cross-Validation', 'MetaCost'])\n",
    "cutoff_cost_df"
   ]
  },
  {
   "cell_type": "markdown",
   "metadata": {
    "id": "dOsFDeb44ZBR"
   },
   "source": [
    "Firstly, by comparing all approaches to the default error cost by the LogitCV model, we can see that all approaches do make our models more cost efficient. We also see a slight improvement from the first to the last approach. However, as mentioned before, to identify the best model in terms of cost, other factors might be taken into consideration. \n",
    "\n",
    "Now, let's look the confusion matrix to get a better idea of the models."
   ]
  },
  {
   "cell_type": "code",
   "execution_count": 45,
   "metadata": {
    "colab": {
     "base_uri": "https://localhost:8080/",
     "height": 336
    },
    "executionInfo": {
     "elapsed": 1808,
     "status": "ok",
     "timestamp": 1613304559694,
     "user": {
      "displayName": "Stefan Lessmann",
      "photoUrl": "https://lh3.googleusercontent.com/a-/AOh14GihtuVUIO07jrZ6NKEVggi44vrPvluMzUCsHoZh=s64",
      "userId": "06342662613942148717"
     },
     "user_tz": -60
    },
    "id": "K8fxjVpxRNHM",
    "outputId": "cbf2b792-02e8-44a5-d083-5249af24ed60"
   },
   "outputs": [
    {
     "data": {
      "image/png": "[encoded data removed]",
      "text/plain": [
       "<Figure size 1728x360 with 4 Axes>"
      ]
     },
     "metadata": {
      "needs_background": "light"
     },
     "output_type": "display_data"
    }
   ],
   "source": [
    "# Plot Confusion Matrix using Heatmap\n",
    "plt.rcParams['figure.figsize'] = (24, 5)\n",
    "\n",
    "import seaborn as sns\n",
    "fig, ax_lst = plt.subplots(1, 4)\n",
    "cmat_list = [cmat_default, cmat_bayes, cmat_CV, cmat_MC]\n",
    "csm_types = [\"Default\", \"Bayes\", \"Cross-Validation Threshold Tuning\", \"MetaCost\"] # types of cost-sensitive methods\n",
    "\n",
    "for i, j, ax in zip(cmat_list, csm_types, ax_lst.flat):\n",
    "\n",
    "    # Plot heatmap\n",
    "    ax.set_title(j)\n",
    "    sns.heatmap(i, ax=ax, annot=True, fmt='g', cbar=False, xticklabels=['predicted 0', 'predicted 1'], yticklabels=['true 0', 'true 1'])\n",
    "    \n",
    "plt.show()"
   ]
  },
  {
   "cell_type": "markdown",
   "metadata": {
    "id": "gaMWtvZP52Ki"
   },
   "source": [
    "\n",
    "This plot shows that all cost-sensitive approaches were able to correctly identify all observations labelled with 1 (default) correctly. Therefore, in all of them, we can see a high increase in FN (top right). This means, the bank would reject more loan applications to trustworthy people. This also makes sense when you remember that all the cutoffs used for cutoff-based cost-sensitivity methods were very close to 0, meaning most cases would be classified as 1. It shows that for cost-sensitive scenarios, we may need to tolerate more misclassicationsto avoid a higher cost."
   ]
  },
  {
   "cell_type": "markdown",
   "metadata": {
    "id": "sG4nPbO-xJuN"
   },
   "source": [
    "## Class imbalance and cost-sensitivity with `sklearn`\n",
    "\n",
    "Now that we have seen some of how cost-sensitive learning works in the background, we can now begin using some of the built-in functionality of `sklearn` and other libraries. You'll notice that many `sklearn` functions have a built in `class_weight` argument that takes a dictionary in the form of `{class_label:weight, ...}`. Using this style, you can customize the weights of each class label to account for the cost of misclassifying a sample. You may also use the string `'balanced'` where class weights are calculated based on the imbalance of the classes. Furthermore, we can also define a dictionary with weights based on our cost matrix, to use the weights for cost-sensitive approaches. Below, we will illustrate both approaches, class imbalance and cost-sensitivity, using different models. Firstly, we will train unweighted models to use for comparison and get their predictions on the test set.\n"
   ]
  },
  {
   "cell_type": "code",
   "execution_count": 46,
   "metadata": {
    "id": "6ioQJz6DEMpE"
   },
   "outputs": [],
   "source": [
    "# Logistic Regression CV\n",
    "clf = LogisticRegressionCV(cv=5, random_state=rnd_state, fit_intercept=True).fit(X_train, np.ravel(y_train))\n",
    "y_pred_logcv_uw = clf.predict(X_test)\n",
    "y_pred_proba_logcv_uw = clf.predict_proba(X_test)[:,1]"
   ]
  },
  {
   "cell_type": "markdown",
   "metadata": {
    "id": "e0FJCPD5EIIT"
   },
   "source": [
    "### Class imbalance\n",
    "Let's first take a look at how adjusting weights in our model affects the quality of predictions using our traditional metrics (AUC and sensitivity). We will also check how often each class is predicted to see if this can help us explain the differences in our results.\n",
    "\n",
    "For the first model which was the logit with cross-validation, we can see that adjusting `class_weight` helps us greatly improve the sensitivity of the model simply by using the `'balanced'` setting as the argument. The model predicted the minority class more often and not only did this raise sensitivity, it also raised the AUC. Overall, this shows us that this method was relatively successful."
   ]
  },
  {
   "cell_type": "code",
   "execution_count": 47,
   "metadata": {
    "colab": {
     "base_uri": "https://localhost:8080/"
    },
    "executionInfo": {
     "elapsed": 1678,
     "status": "ok",
     "timestamp": 1613304594008,
     "user": {
      "displayName": "Stefan Lessmann",
      "photoUrl": "https://lh3.googleusercontent.com/a-/AOh14GihtuVUIO07jrZ6NKEVggi44vrPvluMzUCsHoZh=s64",
      "userId": "06342662613942148717"
     },
     "user_tz": -60
    },
    "id": "CgnNhQZ1GeWV",
    "outputId": "abb7b7c5-8e0a-4bf0-df76-a12884aa5821"
   },
   "outputs": [
    {
     "name": "stdout",
     "output_type": "stream",
     "text": [
      "The unweighted LogitCV model predicted the minority class 36.69 % of the time\n",
      "The AUC is 0.64\n",
      "The sensitivity for the model is 0.31\n",
      "\n",
      "The weighted LogitCV model predicted the minority class 36.69 % of the time\n",
      "The AUC is 0.71\n",
      "The sensitivity for the model is 0.70\n"
     ]
    }
   ],
   "source": [
    "# LogitCV Weighted vs. unweighted\n",
    "acc = metrics.accuracy_score(y_test, y_pred_logcv_uw)\n",
    "fpr, tpr, thresholds = metrics.roc_curve(y_test, y_pred_logcv_uw, pos_label=1)\n",
    "auc = metrics.auc(fpr, tpr)\n",
    "\n",
    "print(\"The unweighted LogitCV model predicted the minority class {:.2f}\".format(y_pred.sum()/len(y_pred)*100),\"% of the time\")\n",
    "print(\"The AUC is {:.2f}\".format(auc))\n",
    "print(\"The sensitivity for the model is {:.2f}\".format(tpr[1]))\n",
    "print(\"\")\n",
    "\n",
    "# Fit a model with the regular data with balanced weights\n",
    "\n",
    "clf = LogisticRegressionCV(cv=5, random_state=rnd_state, fit_intercept=True, class_weight='balanced').fit(X_train, np.ravel(y_train))\n",
    "y_pred_cv_w = clf.predict(X_test) \n",
    "y_pred_proba_tree_w = clf.predict_proba(X_test)[:,1]\n",
    "cutoff_cost_default = calc_error_cost(y_pred_proba_tree_w, y_test, 0.5, cost_matrix)\n",
    "\n",
    "acc = metrics.accuracy_score(y_test, y_pred)\n",
    "fpr, tpr, thresholds = metrics.roc_curve(y_test, y_pred, pos_label=1)\n",
    "auc = metrics.auc(fpr, tpr)\n",
    "\n",
    "print(\"The weighted LogitCV model predicted the minority class {:.2f}\".format(y_pred.sum()/len(y_pred)*100),\"% of the time\")\n",
    "print(\"The AUC is {:.2f}\".format(auc))\n",
    "print(\"The sensitivity for the model is {:.2f}\".format(tpr[1]))"
   ]
  },
  {
   "cell_type": "markdown",
   "metadata": {
    "id": "Dcv7hs_kendQ"
   },
   "source": [
    "### Cost-Sensitivity\n",
    "\n",
    "While class imbalance is directly built into the function, we will have to set the weights manually for making the models cost-sensitive. We will derive the weights from our cost-matrix. The weights we define are going to decide how much a missclassification is penalized. For misclassifying an observation of the class 0, we set the weight 1. The weight for incorrectly classifying an object of class 1 is 32, just like in our cost matrix. So let's go ahead with that:"
   ]
  },
  {
   "cell_type": "code",
   "execution_count": 48,
   "metadata": {
    "id": "2hYAhsghe2c3"
   },
   "outputs": [],
   "source": [
    "# Define weights\n",
    "weights = {0:1, 1:32}"
   ]
  },
  {
   "cell_type": "code",
   "execution_count": 49,
   "metadata": {
    "colab": {
     "base_uri": "https://localhost:8080/"
    },
    "executionInfo": {
     "elapsed": 1632,
     "status": "ok",
     "timestamp": 1613304609355,
     "user": {
      "displayName": "Stefan Lessmann",
      "photoUrl": "https://lh3.googleusercontent.com/a-/AOh14GihtuVUIO07jrZ6NKEVggi44vrPvluMzUCsHoZh=s64",
      "userId": "06342662613942148717"
     },
     "user_tz": -60
    },
    "id": "0zXpzml3ex-B",
    "outputId": "98057b68-2093-4cb9-e6ad-3a0d803e5c2d"
   },
   "outputs": [
    {
     "name": "stdout",
     "output_type": "stream",
     "text": [
      "The error cost of the unweighted LogitCV model is: 4.42897\n",
      "The error cost of the weighted LogitCV model is: 0.75615\n"
     ]
    }
   ],
   "source": [
    "# Error cost for weighted vs. unweighted LogitCV model\n",
    "print('The error cost of the unweighted LogitCV model is: {}'.format(calc_error_cost(y_pred_proba_logcv_uw, y_test, 0.5, cost_matrix)[1]))\n",
    "\n",
    "# Train model and get probabilities\n",
    "y_pred_proba = LogisticRegressionCV(cv=5, random_state=rnd_state, fit_intercept=True, class_weight=weights).fit(X_train, np.ravel(y_train)).predict_proba(X_test)[:,1]\n",
    "print('The error cost of the weighted LogitCV model is: {}'.format(calc_error_cost(y_pred_proba, y_test, 0.5, cost_matrix)[1]))"
   ]
  },
  {
   "cell_type": "markdown",
   "metadata": {
    "id": "udDtAg_XiFWU"
   },
   "source": [
    " These results look very similar to the ones obtained in the cost-sensitive chapter of this tutorial. It shows that this is also an effective method to make your models cost-sensitive."
   ]
  },
  {
   "cell_type": "markdown",
   "metadata": {
    "id": "dxe9z-rwxJuQ"
   },
   "source": [
    "# Conclusions\n",
    "\n",
    "It will likely be very common in your work that you will have two classes with either a large imbalance problem or a significant cost differences in misclassification. This tutorial should have provided you with some of the current ways of addressing this problem. For class imbalance, you could use random undersampling, oversampling or a more complex algorithm like SMOTE. For cost-imbalanced tasks, we have discussed different ways of either threshold tuning, the MetaCost algorithm and class weights. Below, we have summarized some of the functions we used today. "
   ]
  },
  {
   "cell_type": "markdown",
   "metadata": {
    "id": "KxPGNPeSbPd_"
   },
   "source": [
    "# Overview table\n",
    "\n",
    "| Goal | Possible Code |\n",
    "| --- | --- |\n",
    "| Fit logit with 5 fold CV | `LogisticRegressionCV(cv=5).fit(X_train, y_train)` |\n",
    "| Get accuracy score of model | `metrics.accuracy_score(true_label, model_score))` |\n",
    "| Get FPR, TPR and thresholds for AUC curve | `metrics.roc_curve(y_test, y_pred, pos_label=1)` |\n",
    "| Use FPR and TPR from `roc_curve` | `metrics.auc(fpr, tpr)` |\n",
    "| Initiate random undersampling object | `RandomUnderSampler( sampling_strategy='majority')` |\n",
    "| Initiate random oversampling object | `RandomOverSampler(sampling_strategy='minority')` |\n",
    "| Resample `X` and `y` using `sampler_obj`, assign to new `X` and `y` | `sampler_obj.fit_resample(X, y)` |\n",
    "| Use SMOTE to resample `X` and `y` into new `X` and `y` | `SMOTE().fit_resample(X, y)` |\n",
    "| Use BorderlineSMOTE to resample `X` and `y` into new `X` and `y`| `BorderlineSMOTE().fit_resample(X, y)` |\n",
    "| Calculate error cost based on cost-matrix by Elkan| `(np.sum(np.sum((cmat/len(y_test))*cost_matrix.T))) ` |\n",
    "| Calcualte calibration curve`| `calibration_curve(y_test, y_proba`) |\n",
    "| Create heatmap chart | `sns.heatmap(data)` |\n",
    "| Create confusion matrix of results | `confusion_matrix(y_true, y_pred)` |\n",
    "| Create calibration curve for model | `calibration_curve(y_true, y_score)` |\n",
    "| Create instance of 5-fold CV logit with weights | `LogisticRegressionCV(cv=5, class_weight={label:weight,...})` |\n"
   ]
  }
 ],
 "metadata": {
  "colab": {
   "collapsed_sections": [],
   "name": "11_nb_imbalance_n_costs.ipynb",
   "provenance": [],
   "toc_visible": true
  },
  "kernelspec": {
   "display_name": "Python 3 (ipykernel)",
   "language": "python",
   "name": "python3"
  },
  "language_info": {
   "codemirror_mode": {
    "name": "ipython",
    "version": 3
   },
   "file_extension": ".py",
   "mimetype": "text/x-python",
   "name": "python",
   "nbconvert_exporter": "python",
   "pygments_lexer": "ipython3",
   "version": "3.10.2"
  }
 },
 "nbformat": 4,
 "nbformat_minor": 4
}
