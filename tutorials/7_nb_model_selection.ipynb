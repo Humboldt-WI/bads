{
  "nbformat": 4,
  "nbformat_minor": 0,
  "metadata": {
    "colab": {
      "name": "7_nb_model_selection.ipynb.txt",
      "provenance": [],
      "collapsed_sections": []
    },
    "kernelspec": {
      "display_name": "PyCharm (adams)",
      "language": "python",
      "name": "pycharm-feb95198"
    },
    "language_info": {
      "codemirror_mode": {
        "name": "ipython",
        "version": 3
      },
      "file_extension": ".py",
      "mimetype": "text/x-python",
      "name": "python",
      "nbconvert_exporter": "python",
      "pygments_lexer": "ipython3",
      "version": "3.7.6"
    }
  },
  "cells": [
    {
      "cell_type": "markdown",
      "metadata": {
        "id": "Ka20bzp6PcNj"
      },
      "source": [
        "[![Open In Colab](https://colab.research.google.com/assets/colab-badge.svg)](https://colab.research.google.com/github/Humboldt-WI/bads/blob/master/tutorials/7_nb_model_selection.ipynb) \n"
      ]
    },
    {
      "cell_type": "markdown",
      "metadata": {
        "id": "swSaDjWvNDnY"
      },
      "source": [
        "# Chapter 7 - Regularization and model selection \n",
        "We are well on the way through our journey on learning the inner workings of machine learning models and how to implement them ourselves. Now that we can create models and assess them, let's think a bit more about refining models. This section will primarily tackle the problem of overfitting and variable selection.\n",
        "\n",
        "As you've probably heard by now, overfitting occurs when the model internalizes too much noise from the training data. The training data is a sample. It will contain idiosyncracies that do not occur in the population. Additionally, if we include irrelevant variables in our model, the model may find spurious correlations. When presented with new data, the model will assume the exact same patterns exist. Therefore, predictions will be less accurate as this noise is factored into predictions. There are many ways to address these problems. This notebook will present just a few of those methods.\n",
        "\n",
        "The outline of the tutorial is as follows:\n",
        "- Preliminary preparation of data and setting up the environment\n",
        "- Regularization with the example of logistic regression\n",
        "- Overfitting with decision trees\n",
        "- Grid search hyperparameter tuning"
      ]
    },
    {
      "cell_type": "markdown",
      "metadata": {
        "id": "VNLsHRBPxS72"
      },
      "source": [
        "# Preliminaries\n",
        "As usual, we begin by importing our standard libraries and also our standard modeling data. Normally in a notebook, you would import all necessary libraries here. However, since we want to highlight certain functions, we will be importing libraries throughout this notebook for that illustrative purpose."
      ]
    },
    {
      "cell_type": "code",
      "metadata": {
        "colab": {
          "base_uri": "https://localhost:8080/"
        },
        "id": "GCwBhYtMxS74",
        "outputId": "e92d46d9-4b99-4800-98ef-58495c2f3613"
      },
      "source": [
        "# Import standard Python libraries\n",
        "import numpy as np\n",
        "import matplotlib.pyplot as plt\n",
        "import pandas as pd \n",
        "from sklearn.model_selection import train_test_split\n",
        "from sklearn import metrics\n",
        "from sklearn.linear_model import LogisticRegression\n",
        "import statsmodels.api as sm\n",
        "from pprint import pprint\n",
        "\n",
        "# Set seed for replication\n",
        "np.random.seed(888)\n",
        "\n",
        "# Suppress output in scientific notation\n",
        "np.set_printoptions(suppress=True)\n",
        "\n",
        "# Some configuration of the plots we will create later\n",
        "%matplotlib inline  \n",
        "plt.rcParams[\"figure.figsize\"] = (12,6)"
      ],
      "execution_count": 1,
      "outputs": [
        {
          "output_type": "stream",
          "text": [
            "/usr/local/lib/python3.7/dist-packages/statsmodels/tools/_testing.py:19: FutureWarning: pandas.util.testing is deprecated. Use the functions in the public API at pandas.testing instead.\n",
            "  import pandas.util.testing as tm\n"
          ],
          "name": "stderr"
        }
      ]
    },
    {
      "cell_type": "code",
      "metadata": {
        "id": "d6IP4unykfuf"
      },
      "source": [
        "# Load credit risk data in pre-processed format from GitHub\n",
        "data_url = 'https://raw.githubusercontent.com/Humboldt-WI/bads/master/data/hmeq_modeling.csv' \n",
        "df = pd.read_csv(data_url, index_col=\"index\")\n",
        "\n",
        "# Extract target variable and feature matrix \n",
        "X = df.drop(['BAD'], axis=1) \n",
        "y = df[['BAD']]\n",
        "\n",
        "# Change variables into easiest data type for model to handle\n",
        "y = y.values.astype(int)\n",
        "X = X.astype(float)"
      ],
      "execution_count": 2,
      "outputs": []
    },
    {
      "cell_type": "markdown",
      "metadata": {
        "id": "NQ9PxDdPjxiJ"
      },
      "source": [
        "In this section, we will focus on variables which are only loosely correlated with the target. Some of these variables may only have spurious correlations. As such, patterns in the training data may not generalize to the population. You may already have made some experiences concerning regression with unnecessary variables from courses like applied econometrics, for example. In that case, you will know the negative effect of spurious correlations and noise variables on predictive ability. We will also try to correct these adverse effects through a method called **regularization**."
      ]
    },
    {
      "cell_type": "markdown",
      "metadata": {
        "id": "-WaGQFDaxS78"
      },
      "source": [
        "# Regularized logistic regression \n",
        "Regularization is an approach to find a better balance between bias and variance in the **bias-variance trade-off**, and, thereby, reduce the error of a model. Remember that the (generalization) error of a model is a function of bias and variance. \n",
        "Complex models often show a high variance. Model complexity and bias are closely connected (low complexity -> high bias and vice versa). Introducing bias can reduce error by reducing variance. Enter: regularization. "
      ]
    },
    {
      "cell_type": "markdown",
      "metadata": {
        "id": "kQ1V8R07xS78"
      },
      "source": [
        "![bias and variance](https://miro.medium.com/max/1050/1*oO0KYF7Z84nePqfsJ9E0WQ.png)\n",
        "Image source: [Giorgos Papachristoudis: The Bias-Variance Tradeoff](https://towardsdatascience.com/the-bias-variance-tradeoff-8818f41e39e9)"
      ]
    },
    {
      "cell_type": "markdown",
      "metadata": {
        "id": "ZBD6YyPpxS79"
      },
      "source": [
        "How can we implement this idea of increasing bias to reduce variance? The answer depends on the type of model but at least for regression-type models the answer is: add a complexity penalty. \n",
        "\n",
        "In a regression setting, large coefficients are indicators of complex, unstable models. Possible causes include high dimensionality and multicollinearity. The aim of the model is to minimize the magnitude the coefficients have on the model. Therefore, it is included in the loss function. \n",
        "\n",
        "$$ \\min\\limits_{\\beta} ⁡\\mathcal{L} (\\beta)+\\lambda|(\\beta)| $$\n",
        "\n",
        "This penalty produces sparser models as it forces the coefficients to zero. Furthermore, we also have a new meta-parameter $\\lambda$, which governs the strength of regularization. Simply put, $\\lambda$ embodies our preference for models that fit the training data more accurately (low $\\lambda$) or models that are less complex (high $\\lambda$). It is hard to impossible to tell suitable settings of $\\lambda$ a priori. Thus, we typically tune this *hyperparameter* for each data set. We will get to hyperparamater tuning later in the notebook.\n",
        "\n",
        "We have discussed two common forms of regularization. Both approaches work by including a measure of coefficient size into the loss function (i.e. the function which the algorithm optimizes) in the form of a penalty. Intuitively, instead of telling the algorithm to build a model that fits well, we now tell it to build a model that fits well *and* keeps the coefficients small by deducting points in relation to the size of coefficients. \n",
        "\n",
        "The difference between the *lasso* and *ridge* penalty is then only whether we subtract the absolute or the squared sum of coefficients. While lasso tends to set coefficients to 0 completely, the ridge penalty reduces the coefficient size more evenly. We will see that \"why not both?\" is also a legitimate suggestion and leads to the *elastic net* penalty.\n",
        "\n",
        "So to reiterate, we have a complex model that does not generalize well to unseen samples (i.e., does not *generalize* well). We will handle this by penalizing high parameter values through a constrained minimization. This will add bias to our model but also reduce the variance in its accuracy with new predictions. "
      ]
    },
    {
      "cell_type": "markdown",
      "metadata": {
        "id": "8-sPS4NKxS79"
      },
      "source": [
        "## Options for regularizing the logistic regression model "
      ]
    },
    {
      "cell_type": "markdown",
      "metadata": {
        "id": "jHxY_hdqxS7-"
      },
      "source": [
        "### Lasso or L1 Regularization\n",
        "Least Absolute Shrinkage and Selection Operator or LASSO (often stylized as simply as lasso) is a regularization technique in which the penalty is equivalent to the residual of the sum of squares plus the absolute sum of coefficients multiplied by some shrinkage value (represented by $\\lambda$ below). As such, lower coefficient values $\\beta_i$ will achieve the minimum value. To carry this method out, the new objective function to solve would be:\n",
        "\n",
        "$$ \\arg\\min_{\\beta_j} \\sum_{i=1}^{n}(y_i - \\sum_{j}x_{ij} \\beta_j)^2 + \\lambda \\sum_{j=1}^{p} |\\beta_j | $$\n",
        "\n",
        "Lasso regression **should only be done after standardization of continuous variables** when the analyst believes that certain features need to be eliminated. Standardization is crucial to ensure that every feature, independent of the magnitude of common feature values (e.g., several thousands for a feature *salary* as opposed to small int value for a feature *years of education*) has the same chances of *surviving* lasso regularization. Here, survive means receiving a non-zero coefficient. Intuitively, shrinking the coefficient of a feature with large values (e.g., salary) will reduce the penalty more than shrinking the coefficient of a feature with smaller feature values (e.g., years of education). Lasso performs **embedded feature selection** meaning that it is likely to set some coefficients to zero, which is equivalent to discarding the feature. If two or more variables are highly correlated, lasso will arbitrarily select one of them and assign a non-zero coefficient, while the other correlated features are likely to receive a coefficient value of zero. This behavior is sometimes desirable, for example to remove *redundant features* but also cause problems, for example if the features are dummy codes originating from the same categorical variable."
      ]
    },
    {
      "cell_type": "markdown",
      "metadata": {
        "id": "LEIP6zuOxS7_"
      },
      "source": [
        "### Ridge or L2 Regularization\n",
        "Ridge regression appears similar to lasso regression but note the key difference: ridge regression is equal to the sum of the squared residuals plus the sum of the **square of the coefficients** multipled by some shrinkage value. Here is the objective function for L2 regularization:\n",
        "\n",
        "$$ \\arg\\min_{\\beta_j} \\sum_{i=1}^{n}(y_i - \\sum_{j}x_{ij} \\beta_j)^2 + \\lambda \\sum_{j=1}^{p} |\\beta_j^2 | $$\n",
        "\n",
        "Again, it is **best to standardize all continuous variables before** performing this regression. The reason is the same as for Lasso. Ridge regression never really sets coefficient values to zero due to the square. So, if all parameters are believed to hold some importance, it may be better to use this method of regularization. Note that ridge regression only works if the number of coefficients is less than the number of observations."
      ]
    },
    {
      "cell_type": "markdown",
      "metadata": {
        "id": "I7HBbjDLxS7_"
      },
      "source": [
        "### Elastic Net\n",
        "Elastic Net (enet) is a combination of L1 and L2 regularization. It is best used when an analyst is unsure whether ridge or lasso is more suitable for a given data set. The enet penalty specifies two separate shrinkage values. \n",
        "\n",
        "$$ \\arg\\min_{\\beta_j} \\sum_{i=1}^{n}(y_i - \\sum_{j}x_{ij} \\beta_j)^2 + \\lambda_1 \\sum_{j=1}^{p} |\\beta_j | + \\lambda_2 \\sum_{j=1}^{p} |\\beta_j^2 | $$\n",
        "\n",
        "One of the bigger disadvantages of enet is the computational cost required to find the best combination of the two shrinkage values. It is also important to check if lasso alone might have done a better job at preventing overfitting."
      ]
    },
    {
      "cell_type": "markdown",
      "metadata": {
        "id": "hJmSZaGlxS8A"
      },
      "source": [
        "## Working example of regularization with logit\n",
        "We have looked at a manual implementation of the logistic regression model in [Tutorial 5](https://github.com/Humboldt-WI/bads/blob/master/tutorials/5_nb_supervised_learning.ipynb). When adding a penalty term to the likelihood function for regularizing our model, we also need to adjust model fitting. Specifically, we now have to minimize the regularized likelihood function. We can still use *gradient descent* but have to adjust the computation of the gradient. Going through this process and implementing regularized logistic regression from scratch would be a perfect exercise to further sharpen your data science skills. Have a look at [Tulrose Deori's post](https://towardsdatascience.com/implement-logistic-regression-with-l2-regularization-from-scratch-in-python-20bd4ee88a59) for some inspiration if needed. \n",
        "\n",
        "In this tutorial, we skip the from scratch implementation and move straight to estimating regularized logit models using our beloved Python libraries. "
      ]
    },
    {
      "cell_type": "markdown",
      "metadata": {
        "id": "LTgXWgvrxS8B"
      },
      "source": [
        "### Benchmark\n",
        "The idea of regularization is to build better models with more stable and accurate predictions. In order to prove this can be achieved through regularization, we will need a benchmark for comparison.\n",
        "\n",
        "Let's train a normal logistic regression model with all available variables. We will first split the data into a training set and a test set. We will train our model on the training data, then predict using the test set (which the model has never seen) and compare the model's predictions with the actual labels.\n",
        "\n",
        "We can look at a number of measures to verify that the regularization is worthwhile. This would be metrics like accuracy, AUC and coefficient values. Here, we will focus on AUC and plot the ROC for illustrative purposes."
      ]
    },
    {
      "cell_type": "code",
      "metadata": {
        "colab": {
          "base_uri": "https://localhost:8080/"
        },
        "id": "cLkUJBGw4oXv",
        "outputId": "cb0e4fa0-d190-49f1-f3c7-6309405fe18a"
      },
      "source": [
        "# Split data into training and test\n",
        "\n",
        "X_train, X_test, y_train, y_test = train_test_split(X, y, test_size=0.3, random_state=888)\n",
        "\n",
        "print(\"Remember the shape of our data: \")\n",
        "print(X_train.shape, y_train.shape, X_test.shape, y_test.shape)"
      ],
      "execution_count": 3,
      "outputs": [
        {
          "output_type": "stream",
          "text": [
            "Remember the shape of our data: \n",
            "(4172, 18) (4172, 1) (1788, 18) (1788, 1)\n"
          ],
          "name": "stdout"
        }
      ]
    },
    {
      "cell_type": "code",
      "metadata": {
        "colab": {
          "base_uri": "https://localhost:8080/"
        },
        "id": "P6Zhp770JtGM",
        "outputId": "86e375b6-58fa-4d48-a9ae-a84951296098"
      },
      "source": [
        "# Fit the logistic regression\n",
        "\n",
        "logit = sm.Logit(y_train, X_train, )\n",
        "\n",
        "logit_res = logit.fit()\n",
        "\n",
        "print(logit_res.summary())"
      ],
      "execution_count": 4,
      "outputs": [
        {
          "output_type": "stream",
          "text": [
            "Optimization terminated successfully.\n",
            "         Current function value: 0.406183\n",
            "         Iterations 6\n",
            "                           Logit Regression Results                           \n",
            "==============================================================================\n",
            "Dep. Variable:                      y   No. Observations:                 4172\n",
            "Model:                          Logit   Df Residuals:                     4154\n",
            "Method:                           MLE   Df Model:                           17\n",
            "Date:                Fri, 12 Mar 2021   Pseudo R-squ.:                  0.1870\n",
            "Time:                        15:05:50   Log-Likelihood:                -1694.6\n",
            "converged:                       True   LL-Null:                       -2084.3\n",
            "Covariance Type:            nonrobust   LLR p-value:                1.060e-154\n",
            "====================================================================================\n",
            "                       coef    std err          z      P>|z|      [0.025      0.975]\n",
            "------------------------------------------------------------------------------------\n",
            "LOAN                -0.1687      0.049     -3.409      0.001      -0.266      -0.072\n",
            "MORTDUE             -0.1577      0.077     -2.037      0.042      -0.309      -0.006\n",
            "VALUE                0.0603      0.080      0.751      0.453      -0.097       0.218\n",
            "YOJ                 -0.0923      0.048     -1.906      0.057      -0.187       0.003\n",
            "CLAGE               -0.3972      0.049     -8.068      0.000      -0.494      -0.301\n",
            "NINQ                 0.2517      0.042      5.947      0.000       0.169       0.335\n",
            "CLNO                -0.2167      0.050     -4.306      0.000      -0.315      -0.118\n",
            "DEBTINC              0.4004      0.051      7.928      0.000       0.301       0.499\n",
            "DEROGzero           -1.6296      0.089    -18.321      0.000      -1.804      -1.455\n",
            "REASON_HomeImp       0.1768      0.099      1.795      0.073      -0.016       0.370\n",
            "REASON_IsMissing     0.2875      0.237      1.215      0.224      -0.176       0.751\n",
            "JOB_Office          -1.1954      0.151     -7.893      0.000      -1.492      -0.899\n",
            "JOB_Other           -0.6008      0.102     -5.911      0.000      -0.800      -0.402\n",
            "JOB_ProfExe         -0.4742      0.128     -3.692      0.000      -0.726      -0.222\n",
            "JOB_Sales            0.4521      0.272      1.664      0.096      -0.081       0.985\n",
            "JOB_Self            -0.0034      0.244     -0.014      0.989      -0.482       0.475\n",
            "DELINQcat_1          0.8661      0.126      6.875      0.000       0.619       1.113\n",
            "DELINQcat_1+         1.8286      0.130     14.092      0.000       1.574       2.083\n",
            "====================================================================================\n"
          ],
          "name": "stdout"
        }
      ]
    },
    {
      "cell_type": "markdown",
      "metadata": {
        "id": "-F9CLRc9n0At"
      },
      "source": [
        "Amazingly easy! We see that certain variables have high p-values like `VALUE`, `REASON_IsMissing` and `JOB_Self` among others. While this is already a hint that they may not be suitable for our model, we can see how regularization evaluates them as well.\n",
        "\n",
        "Let's now evaluate the predictive performance of our model using the test set. We can first check accuracy then plot the AUC for the test set. We will use these for comparison with models with regularization."
      ]
    },
    {
      "cell_type": "code",
      "metadata": {
        "colab": {
          "base_uri": "https://localhost:8080/"
        },
        "id": "L5rllPAnLN_w",
        "outputId": "5a62fa71-e4ea-41e6-93d9-ec0b0a31b54d"
      },
      "source": [
        "# Get predictions in probabilty of class 1\n",
        "\n",
        "logit_test_prob = logit_res.predict(X_test)\n",
        "\n",
        "logit_test_prob"
      ],
      "execution_count": 5,
      "outputs": [
        {
          "output_type": "execute_result",
          "data": {
            "text/plain": [
              "index\n",
              "2698    0.127490\n",
              "2542    0.126119\n",
              "2683    0.363095\n",
              "2796    0.080118\n",
              "5906    0.187965\n",
              "          ...   \n",
              "3       0.179455\n",
              "188     0.274101\n",
              "5828    0.644383\n",
              "5235    0.245106\n",
              "2220    0.148750\n",
              "Length: 1788, dtype: float64"
            ]
          },
          "metadata": {
            "tags": []
          },
          "execution_count": 5
        }
      ]
    },
    {
      "cell_type": "code",
      "metadata": {
        "colab": {
          "base_uri": "https://localhost:8080/"
        },
        "id": "IMo1EVLK-PKs",
        "outputId": "97d4c2b9-fae1-4bdb-926c-ba02c71d48ce"
      },
      "source": [
        "# Calculate the AUC\n",
        "\n",
        "fpr_logit, tpr_logit, _ = metrics.roc_curve(y_test, logit_test_prob)\n",
        "auc_logit = metrics.auc(fpr_logit, tpr_logit)\n",
        "auc_logit"
      ],
      "execution_count": 6,
      "outputs": [
        {
          "output_type": "execute_result",
          "data": {
            "text/plain": [
              "0.8096021077893073"
            ]
          },
          "metadata": {
            "tags": []
          },
          "execution_count": 6
        }
      ]
    },
    {
      "cell_type": "code",
      "metadata": {
        "colab": {
          "base_uri": "https://localhost:8080/",
          "height": 295
        },
        "id": "A-sdBG5vxQWV",
        "outputId": "6d6717d9-6769-4b81-b988-18638f0b6f33"
      },
      "source": [
        "# Plot of AUC\n",
        "plt.plot(fpr_logit, tpr_logit, label=\"Logit= %0.4f\" % auc_logit, color='b')\n",
        "\n",
        "# Random benchmark\n",
        "plt.plot([0, 1], [0, 1], \"r--\");  \n",
        "\n",
        "# Plot configuration\n",
        "plt.title('ROC Curve for Logit on Test Set')\n",
        "plt.ylabel(\"True Positive Rate\")\n",
        "plt.xlabel(\"False Positive Rate\")\n",
        "plt.legend(loc=\"lower right\")\n",
        "plt.show()"
      ],
      "execution_count": 7,
      "outputs": [
        {
          "output_type": "display_data",
          "data": {
            "image/png": "[encoded data removed]",
            "text/plain": [
              "<Figure size 432x288 with 1 Axes>"
            ]
          },
          "metadata": {
            "tags": [],
            "needs_background": "light"
          }
        }
      ]
    },
    {
      "cell_type": "markdown",
      "metadata": {
        "id": "mQ7mwT2Lphkd"
      },
      "source": [
        "Overall, the model has done pretty well without regularization. Note that regularization is not guaranteed to give better models and predictions. Let's see whether it does for this data set. "
      ]
    },
    {
      "cell_type": "markdown",
      "metadata": {
        "id": "fqQUdsoAxS8B"
      },
      "source": [
        "### Regularization in sklearn \n",
        "\n",
        "Now that we have a benchmark model, let's compare that to the methods of regularization that were introduced at the beginning of this notebook. Again, those three models are:\n",
        "- Lasso (L1)\n",
        "- Ridge (L2)\n",
        "- Elastic Net\n",
        "\n",
        "We will be using the `statsmodels` function for the regular logistic regression and lasso (by calling the `fit_regularized` method). For ridge and elastic net, the `LogisticRegression` function from sklearn with the solver `'saga'` is being used because it is compatible with Ridge and Elastic Net regression alike. The only reason for using `statsmodels` for L1-regularized logistic regression is that it allows for richer comparisons to our benchmark - vanilla - logit model. You could, and typically would, also use `sklearn` for building a logistic regression model with lasso penalty. "
      ]
    },
    {
      "cell_type": "markdown",
      "metadata": {
        "id": "WjviYzSdQ4Uj"
      },
      "source": [
        "#### Lasso Regression Example\n",
        "\n",
        "Let's first take a look at lasso regression. `statsmodels` can implement this type of regularization by conveniently calling the `fit_regularized` method on a previously set up logit. As already explained, this form of regularization will remove variables if their coefficients are too low."
      ]
    },
    {
      "cell_type": "code",
      "metadata": {
        "colab": {
          "base_uri": "https://localhost:8080/"
        },
        "id": "eRXtlAMc8Dsk",
        "outputId": "643768e2-9f18-47ae-e787-cee993748c33"
      },
      "source": [
        "lasso = logit.fit_regularized(alpha=7)  # the argument alpha controls the degree of regularization. Above we call this hyperparameter  lamda\n",
        "\n",
        "print(lasso.summary())"
      ],
      "execution_count": 8,
      "outputs": [
        {
          "output_type": "stream",
          "text": [
            "Optimization terminated successfully.    (Exit mode 0)\n",
            "            Current function value: 0.4199049060606212\n",
            "            Iterations: 99\n",
            "            Function evaluations: 99\n",
            "            Gradient evaluations: 99\n",
            "                           Logit Regression Results                           \n",
            "==============================================================================\n",
            "Dep. Variable:                      y   No. Observations:                 4172\n",
            "Model:                          Logit   Df Residuals:                     4158\n",
            "Method:                           MLE   Df Model:                           13\n",
            "Date:                Fri, 12 Mar 2021   Pseudo R-squ.:                  0.1840\n",
            "Time:                        15:05:54   Log-Likelihood:                -1700.7\n",
            "converged:                       True   LL-Null:                       -2084.3\n",
            "Covariance Type:            nonrobust   LLR p-value:                1.440e-155\n",
            "====================================================================================\n",
            "                       coef    std err          z      P>|z|      [0.025      0.975]\n",
            "------------------------------------------------------------------------------------\n",
            "LOAN                -0.1650      0.046     -3.569      0.000      -0.256      -0.074\n",
            "MORTDUE             -0.0923      0.051     -1.812      0.070      -0.192       0.008\n",
            "VALUE                     0        nan        nan        nan         nan         nan\n",
            "YOJ                 -0.0700      0.047     -1.501      0.133      -0.161       0.021\n",
            "CLAGE               -0.3740      0.048     -7.770      0.000      -0.468      -0.280\n",
            "NINQ                 0.2296      0.041      5.545      0.000       0.148       0.311\n",
            "CLNO                -0.1842      0.049     -3.738      0.000      -0.281      -0.088\n",
            "DEBTINC              0.3756      0.049      7.654      0.000       0.279       0.472\n",
            "DEROGzero           -1.6157      0.084    -19.345      0.000      -1.779      -1.452\n",
            "REASON_HomeImp       0.0898      0.094      0.960      0.337      -0.094       0.273\n",
            "REASON_IsMissing          0        nan        nan        nan         nan         nan\n",
            "JOB_Office          -0.9642      0.143     -6.752      0.000      -1.244      -0.684\n",
            "JOB_Other           -0.4696      0.096     -4.911      0.000      -0.657      -0.282\n",
            "JOB_ProfExe         -0.3379      0.121     -2.783      0.005      -0.576      -0.100\n",
            "JOB_Sales                 0        nan        nan        nan         nan         nan\n",
            "JOB_Self                  0        nan        nan        nan         nan         nan\n",
            "DELINQcat_1          0.6943      0.125      5.543      0.000       0.449       0.940\n",
            "DELINQcat_1+         1.6389      0.126     12.962      0.000       1.391       1.887\n",
            "====================================================================================\n"
          ],
          "name": "stdout"
        }
      ]
    },
    {
      "cell_type": "markdown",
      "metadata": {
        "id": "sX42MoJDBvu0"
      },
      "source": [
        "As we can see, some variables were deemed too costly to add at this value of the regularization parameter (e.g., alpha in the above code). This also includes the variables that we mentioned before, the ones with high p-value (`VALUE`, `REASON_IsMissing` and `JOB_Self`).\n",
        "\n",
        "The coefficients for these variables were indeed set to 0. Let's now directly compare the values of all coefficients between a normal versus lasso logit model in a bar chart. As expected, the lasso penalty has decreased coefficient values in general and set some coefficients to zero."
      ]
    },
    {
      "cell_type": "code",
      "metadata": {
        "colab": {
          "base_uri": "https://localhost:8080/",
          "height": 380
        },
        "id": "eOwMoU1gdh03",
        "outputId": "58f5660c-105f-4cf1-cc82-3491a8bae08f"
      },
      "source": [
        "var_names = X_train.columns\n",
        "\n",
        "coef_logit = pd.Series(logit_res.params, var_names)\n",
        "coef_lasso =  pd.Series(lasso.params, var_names)\n",
        "\n",
        "ind = np.arange(len(coef_logit))\n",
        "width = 0.35 \n",
        "\n",
        "fig, ax = plt.subplots()\n",
        "rects1 = ax.bar(ind - width/2, coef_logit, width,\n",
        "                label='Normal Logit')\n",
        "rects3 = ax.bar(ind + width/2, coef_lasso, width,\n",
        "                label='Lasso with Alpha=7')\n",
        "\n",
        "ax.set_ylabel('Coefficient Value')\n",
        "ax.set_xlabel('Coefficient Name')\n",
        "ax.set_title('Model Coefficients for Normal Logit and Lasso with Alpha=7')\n",
        "ax.set_xticks(ind)\n",
        "ax.set_xticklabels(var_names, rotation=90)\n",
        "ax.legend();"
      ],
      "execution_count": 9,
      "outputs": [
        {
          "output_type": "display_data",
          "data": {
            "image/png": "[encoded data removed]",
            "text/plain": [
              "<Figure size 432x288 with 1 Axes>"
            ]
          },
          "metadata": {
            "tags": [],
            "needs_background": "light"
          }
        }
      ]
    },
    {
      "cell_type": "markdown",
      "metadata": {
        "id": "IotT0MQoDjuZ"
      },
      "source": [
        "Let's also check the AUC and plot the ROC curves of the two models to examine their predictive performance. After all, our main goal of incorporating a penalty is to raise model performance."
      ]
    },
    {
      "cell_type": "code",
      "metadata": {
        "colab": {
          "base_uri": "https://localhost:8080/"
        },
        "id": "M2x97qGf-KZj",
        "outputId": "f543c1f1-8d74-4973-c5bd-00b96cb0c0f5"
      },
      "source": [
        "lasso_test_prob = lasso.predict(X_test)\n",
        "\n",
        "lasso_test_prob"
      ],
      "execution_count": 10,
      "outputs": [
        {
          "output_type": "execute_result",
          "data": {
            "text/plain": [
              "index\n",
              "2698    0.132915\n",
              "2542    0.141883\n",
              "2683    0.359264\n",
              "2796    0.095300\n",
              "5906    0.168712\n",
              "          ...   \n",
              "3       0.157163\n",
              "188     0.284004\n",
              "5828    0.612690\n",
              "5235    0.223153\n",
              "2220    0.172141\n",
              "Length: 1788, dtype: float64"
            ]
          },
          "metadata": {
            "tags": []
          },
          "execution_count": 10
        }
      ]
    },
    {
      "cell_type": "code",
      "metadata": {
        "colab": {
          "base_uri": "https://localhost:8080/"
        },
        "id": "TSK7tp7Sywse",
        "outputId": "45095bab-b4f5-4f76-9fac-6b6b7e5959e3"
      },
      "source": [
        "fpr_lasso, tpr_lasso, _ = metrics.roc_curve(y_test, lasso_test_prob)\n",
        "auc_lasso = metrics.auc(fpr_lasso, tpr_lasso)\n",
        "auc_lasso"
      ],
      "execution_count": 11,
      "outputs": [
        {
          "output_type": "execute_result",
          "data": {
            "text/plain": [
              "0.8100229609663572"
            ]
          },
          "metadata": {
            "tags": []
          },
          "execution_count": 11
        }
      ]
    },
    {
      "cell_type": "code",
      "metadata": {
        "colab": {
          "base_uri": "https://localhost:8080/",
          "height": 295
        },
        "id": "X7sXmaeywsTN",
        "outputId": "52eaf925-05ec-4874-82c7-822848ddc7e1"
      },
      "source": [
        "plt.plot(fpr_lasso, tpr_lasso, label=\"Lasso= %0.4f\" % auc_lasso, color='g')\n",
        "plt.plot(fpr_logit, tpr_logit, label=\"Logit= %0.4f\" % auc_logit, color='b')\n",
        "\n",
        "# Random benchmark\n",
        "plt.plot([0, 1], [0, 1], \"r--\");  \n",
        "\n",
        "# Plot configuration\n",
        "plt.title('ROC curve of Logit and Lasso on Test Set')\n",
        "plt.ylabel(\"True Positive Rate\")\n",
        "plt.xlabel(\"False Positive Rate\")\n",
        "plt.legend(loc=\"lower right\")\n",
        "plt.show()"
      ],
      "execution_count": 12,
      "outputs": [
        {
          "output_type": "display_data",
          "data": {
            "image/png": "[encoded data removed]",
            "text/plain": [
              "<Figure size 432x288 with 1 Axes>"
            ]
          },
          "metadata": {
            "tags": [],
            "needs_background": "light"
          }
        }
      ]
    },
    {
      "cell_type": "markdown",
      "metadata": {
        "id": "JfS66spHTX2x"
      },
      "source": [
        "Puh! At least we see a small increase in AUC. We could check more values for alpha and other arguments in this model for even better performance but methods for that will come at the end of this notebook. While the AUC and ROC are very similar between the regressions, note that now the variance in prediction accuracy will also have fallen. The model's predictions will be more consistently accurate. We will demonstrate this later in the notebook when comparing all models."
      ]
    },
    {
      "cell_type": "markdown",
      "metadata": {
        "id": "VNN9EfldgPqj"
      },
      "source": [
        "#### Ridge Regression Example\n",
        "\n",
        "Unlike lasso, ridge regression can't set any variables perfectly to 0 because of the square term. To demonstrate that ridge performs differently, we will show here how the same settings yields different results with this form of regularization.\n",
        "\n",
        "We will be using the `LogisticRegression` function from `sklearn`. Note that the solver `'saga'` is being used in the function because it is compatible with all forms of regularization and penalties. The argument `C` is equivalent to $ \\frac{1}{\\lambda}$. You can find more information on the function [here](https://scikit-learn.org/stable/modules/generated/sklearn.linear_model.LogisticRegression.html)."
      ]
    },
    {
      "cell_type": "code",
      "metadata": {
        "colab": {
          "base_uri": "https://localhost:8080/"
        },
        "id": "d_Ddb9epgmUF",
        "outputId": "98bd1029-0ac0-4752-96cd-6fe31cafe118"
      },
      "source": [
        "ridge = LogisticRegression(penalty='l2', fit_intercept=False, solver='saga', C=.5, random_state=888) # C=.5 was chosen through some experimental tuning in this case\n",
        "ridge.fit(X_train, y_train.ravel())"
      ],
      "execution_count": 13,
      "outputs": [
        {
          "output_type": "execute_result",
          "data": {
            "text/plain": [
              "LogisticRegression(C=0.5, class_weight=None, dual=False, fit_intercept=False,\n",
              "                   intercept_scaling=1, l1_ratio=None, max_iter=100,\n",
              "                   multi_class='auto', n_jobs=None, penalty='l2',\n",
              "                   random_state=888, solver='saga', tol=0.0001, verbose=0,\n",
              "                   warm_start=False)"
            ]
          },
          "metadata": {
            "tags": []
          },
          "execution_count": 13
        }
      ]
    },
    {
      "cell_type": "markdown",
      "metadata": {
        "id": "1j5QWKp1UrnF"
      },
      "source": [
        "Unlike `statsmodels`, we cannot see a simple summary of the regression in `sklearn`. We can use the attribute `.coef_` to inspect the model's coefficients although this is maybe not super helpful. After all, the lack of a nice regression table was our motivation to start with a demo of lasso using the `statsmodels` package. "
      ]
    },
    {
      "cell_type": "code",
      "metadata": {
        "colab": {
          "base_uri": "https://localhost:8080/"
        },
        "id": "xJ5esPoW2Xzi",
        "outputId": "ef3d7f78-099d-4105-a16e-316904ac0916"
      },
      "source": [
        "ridge.coef_"
      ],
      "execution_count": 14,
      "outputs": [
        {
          "output_type": "execute_result",
          "data": {
            "text/plain": [
              "array([[-0.17050533, -0.15343753,  0.05572054, -0.08874804, -0.39130464,\n",
              "         0.24967543, -0.20843113,  0.39500703, -1.6171958 ,  0.16488204,\n",
              "         0.2428933 , -1.13328523, -0.5786739 , -0.45298386,  0.39804012,\n",
              "         0.01215921,  0.81889053,  1.75038999]])"
            ]
          },
          "metadata": {
            "tags": []
          },
          "execution_count": 14
        }
      ]
    },
    {
      "cell_type": "markdown",
      "metadata": {
        "id": "RTk4cAcolh6E"
      },
      "source": [
        "Compared to lasso regression, we can see that the same strength set no variables perfectly to 0. Ridge regression is more targeted at reducing extreme values. The square term implies that high coefficient values are very costly for the minimization."
      ]
    },
    {
      "cell_type": "code",
      "metadata": {
        "colab": {
          "base_uri": "https://localhost:8080/",
          "height": 380
        },
        "id": "uEgfGfaCgmUG",
        "outputId": "00591fb3-ab39-467a-f8a7-eb66a9a47928"
      },
      "source": [
        "coef_logit = pd.Series(logit_res.params, var_names)\n",
        "coef_ridge =  pd.Series(ridge.coef_[0], var_names)\n",
        "\n",
        "ind = np.arange(len(coef_logit))\n",
        "width = 0.35 \n",
        "\n",
        "fig, ax = plt.subplots()\n",
        "rects1 = ax.bar(ind - width/2, coef_logit, width,\n",
        "                label='Normal Logit')\n",
        "rects2 = ax.bar(ind + width/2, coef_ridge, width,\n",
        "                label='Ridge with C=.5')\n",
        "\n",
        "ax.set_ylabel('Coefficient Value')\n",
        "ax.set_xlabel('Coefficient Name')\n",
        "ax.set_title('Model Coefficients for Normal Logit and Ridge with C=.5')\n",
        "ax.set_xticks(ind)\n",
        "ax.set_xticklabels(var_names, rotation=90)\n",
        "ax.legend();"
      ],
      "execution_count": 15,
      "outputs": [
        {
          "output_type": "display_data",
          "data": {
            "image/png": "[encoded data removed]",
            "text/plain": [
              "<Figure size 432x288 with 1 Axes>"
            ]
          },
          "metadata": {
            "tags": [],
            "needs_background": "light"
          }
        }
      ]
    },
    {
      "cell_type": "markdown",
      "metadata": {
        "id": "5K5H25QUVKhU"
      },
      "source": [
        "We can now check the AUC and the ROC of the test set to see if this model gives us desirable results. As we can see, this model gives a very comparable AUC to the other models."
      ]
    },
    {
      "cell_type": "code",
      "metadata": {
        "colab": {
          "base_uri": "https://localhost:8080/"
        },
        "id": "XcHG7nJ7zkyI",
        "outputId": "50b8ff7d-f2f6-41be-c0f2-de7b1d1245ee"
      },
      "source": [
        "# Check probability of class 1 according to the model\n",
        "\n",
        "ridge_pred = ridge.predict_proba(X_test)\n",
        "\n",
        "ridge_pred[:,1] # chance of the observation being class 1, format is different from statsmodels predictions"
      ],
      "execution_count": 16,
      "outputs": [
        {
          "output_type": "execute_result",
          "data": {
            "text/plain": [
              "array([0.12900878, 0.12973732, 0.36481808, ..., 0.63744386, 0.24475262,\n",
              "       0.15398247])"
            ]
          },
          "metadata": {
            "tags": []
          },
          "execution_count": 16
        }
      ]
    },
    {
      "cell_type": "code",
      "metadata": {
        "colab": {
          "base_uri": "https://localhost:8080/"
        },
        "id": "CE5rl5LKgmUF",
        "outputId": "b87aac37-dddb-41cf-a466-9757def7f762"
      },
      "source": [
        "fpr_ridge, tpr_ridge, _ = metrics.roc_curve(y_test, ridge_pred[:,1]) \n",
        "auc_ridge = metrics.auc(fpr_ridge, tpr_ridge)\n",
        "\n",
        "auc_ridge"
      ],
      "execution_count": 17,
      "outputs": [
        {
          "output_type": "execute_result",
          "data": {
            "text/plain": [
              "0.8093339362299776"
            ]
          },
          "metadata": {
            "tags": []
          },
          "execution_count": 17
        }
      ]
    },
    {
      "cell_type": "code",
      "metadata": {
        "colab": {
          "base_uri": "https://localhost:8080/",
          "height": 295
        },
        "id": "kgQ3vw_xPMAf",
        "outputId": "8f9c23c2-102c-48d5-bfbd-ff9ea22fce75"
      },
      "source": [
        "plt.plot(fpr_lasso, tpr_lasso, label=\"Lasso= %0.4f\" % auc_lasso, color='g')\n",
        "plt.plot(fpr_ridge, tpr_ridge, label=\"Ridge= %0.4f\" % auc_ridge, color='y')\n",
        "plt.plot(fpr_logit, tpr_logit, label=\"Logit= %0.4f\" % auc_logit, color='b')\n",
        "\n",
        "# Random benchmark\n",
        "plt.plot([0, 1], [0, 1], \"r--\");  \n",
        "\n",
        "# Plot configuration\n",
        "plt.title('ROC Curve of Logit, Lasso and Ridge on Test Set')\n",
        "plt.ylabel(\"True Positive Rate\")\n",
        "plt.xlabel(\"False Positive Rate\")\n",
        "plt.legend(loc=\"lower right\")\n",
        "plt.show()"
      ],
      "execution_count": 18,
      "outputs": [
        {
          "output_type": "display_data",
          "data": {
            "image/png": "[encoded data removed]",
            "text/plain": [
              "<Figure size 432x288 with 1 Axes>"
            ]
          },
          "metadata": {
            "tags": [],
            "needs_background": "light"
          }
        }
      ]
    },
    {
      "cell_type": "markdown",
      "metadata": {
        "id": "uKLs1nJHpJA-"
      },
      "source": [
        "We see about the same performance in the AUC due to L2 regularization. However, we will soon show that the model's predictions will be more consistent with the application of regularization. Stable preditive accuracy is important for building trust in a model."
      ]
    },
    {
      "cell_type": "markdown",
      "metadata": {
        "id": "9xmBVwmnge0q"
      },
      "source": [
        "#### Elastic Net Regression Example\n",
        "\n",
        "Elastic net is a combination of L1 and L2 regressions. We will need to specify a new argument in this function, `l1_ratio`. This tells the function how much it should apply LASSO regression in the model. We will follow the same procedure as above. In terms of the code, the only difference concerns the way in which we create or model object using the function `LogisticRegressionClassifier`.  "
      ]
    },
    {
      "cell_type": "code",
      "metadata": {
        "colab": {
          "base_uri": "https://localhost:8080/"
        },
        "id": "_PdYh2dBhrj4",
        "outputId": "b449a2bc-95d7-4527-a8ba-fe9f30d603f1"
      },
      "source": [
        "#C=.12 was also chosen by experimenting with which values yielded the highest test AUC at l1_ratio=0.5\n",
        "elnet = LogisticRegression(penalty='elasticnet', fit_intercept=False, solver='saga', random_state=888, l1_ratio=0.5, C=.12) \n",
        "elnet.fit(X_train, y_train.ravel())"
      ],
      "execution_count": 19,
      "outputs": [
        {
          "output_type": "execute_result",
          "data": {
            "text/plain": [
              "LogisticRegression(C=0.12, class_weight=None, dual=False, fit_intercept=False,\n",
              "                   intercept_scaling=1, l1_ratio=0.5, max_iter=100,\n",
              "                   multi_class='auto', n_jobs=None, penalty='elasticnet',\n",
              "                   random_state=888, solver='saga', tol=0.0001, verbose=0,\n",
              "                   warm_start=False)"
            ]
          },
          "metadata": {
            "tags": []
          },
          "execution_count": 19
        }
      ]
    },
    {
      "cell_type": "markdown",
      "metadata": {
        "id": "OoVAu5KQuQjp"
      },
      "source": [
        "As you might expect, since elastic net is a mix of L1 and L2 regularization, the resulting coefficients can end up as 0 if the L1 ratio is high enough. However, with the mix of L2, less variables end up at 0 perfectly."
      ]
    },
    {
      "cell_type": "code",
      "metadata": {
        "colab": {
          "base_uri": "https://localhost:8080/"
        },
        "id": "haUv78FZ2U2Q",
        "outputId": "f355b716-6d04-43da-d5c0-9126d22554dc"
      },
      "source": [
        "elnet.coef_"
      ],
      "execution_count": 20,
      "outputs": [
        {
          "output_type": "execute_result",
          "data": {
            "text/plain": [
              "array([[-0.16592026, -0.10402492,  0.00559   , -0.07279405, -0.3720444 ,\n",
              "         0.23547264, -0.18326168,  0.37481294, -1.59348113,  0.10704149,\n",
              "         0.        , -0.95711025, -0.48875635, -0.3608276 ,  0.13842948,\n",
              "         0.        ,  0.68052652,  1.57584322]])"
            ]
          },
          "metadata": {
            "tags": []
          },
          "execution_count": 20
        }
      ]
    },
    {
      "cell_type": "markdown",
      "metadata": {
        "id": "9_xjIRw_-Jse"
      },
      "source": [
        "Let's go through the same steps with our elastic net model; examine coefficient values and then compare predictive performance. "
      ]
    },
    {
      "cell_type": "code",
      "metadata": {
        "colab": {
          "base_uri": "https://localhost:8080/",
          "height": 398
        },
        "id": "SxKzsv3Vh0f3",
        "outputId": "2117fd5b-e5c1-42a1-c9f5-22db7aa60622"
      },
      "source": [
        "coef_logit = pd.Series(logit_res.params, var_names)\n",
        "coef_elnet =  pd.Series(elnet.coef_[0], var_names)\n",
        "\n",
        "ind = np.arange(len(coef_logit))\n",
        "width = 0.35 \n",
        "\n",
        "fig, ax = plt.subplots()\n",
        "rects1 = ax.bar(ind - width/2, coef_logit, width,\n",
        "                label='Normal Logit')\n",
        "rects3 = ax.bar(ind + width/2, coef_elnet, width,\n",
        "                label='Elastic Net with C=.12')\n",
        "\n",
        "ax.set_ylabel('Coefficient Value')\n",
        "ax.set_xlabel('Coefficient Label')\n",
        "ax.set_title('Model Coefficients for Normal Logit and Elastic Net with C=.12')\n",
        "ax.set_xticks(ind)\n",
        "ax.set_xticklabels(var_names, rotation=90)\n",
        "ax.legend()"
      ],
      "execution_count": 21,
      "outputs": [
        {
          "output_type": "execute_result",
          "data": {
            "text/plain": [
              "<matplotlib.legend.Legend at 0x7ff7489770d0>"
            ]
          },
          "metadata": {
            "tags": []
          },
          "execution_count": 21
        },
        {
          "output_type": "display_data",
          "data": {
            "image/png": "[encoded data removed]",
            "text/plain": [
              "<Figure size 432x288 with 1 Axes>"
            ]
          },
          "metadata": {
            "tags": [],
            "needs_background": "light"
          }
        }
      ]
    },
    {
      "cell_type": "code",
      "metadata": {
        "colab": {
          "base_uri": "https://localhost:8080/"
        },
        "id": "QHAOOQKJ1yqN",
        "outputId": "7b5824f5-6bfb-4296-df54-7020998c5240"
      },
      "source": [
        "elnet_pred = elnet.predict_proba(X_test)\n",
        "\n",
        "elnet_pred[:,1] # chance of the observation being class 1"
      ],
      "execution_count": 22,
      "outputs": [
        {
          "output_type": "execute_result",
          "data": {
            "text/plain": [
              "array([0.13368537, 0.14205612, 0.36372639, ..., 0.61399005, 0.22753128,\n",
              "       0.17218542])"
            ]
          },
          "metadata": {
            "tags": []
          },
          "execution_count": 22
        }
      ]
    },
    {
      "cell_type": "code",
      "metadata": {
        "colab": {
          "base_uri": "https://localhost:8080/"
        },
        "id": "-6mZtQSR12fh",
        "outputId": "6b0589b2-5051-4350-e2e1-5482c5ba9668"
      },
      "source": [
        "fpr_elnet, tpr_elnet, _ = metrics.roc_curve(y_test, elnet_pred[:,1]) \n",
        "auc_elnet = metrics.auc(fpr_elnet, tpr_elnet)\n",
        "\n",
        "auc_elnet"
      ],
      "execution_count": 23,
      "outputs": [
        {
          "output_type": "execute_result",
          "data": {
            "text/plain": [
              "0.8093828726459138"
            ]
          },
          "metadata": {
            "tags": []
          },
          "execution_count": 23
        }
      ]
    },
    {
      "cell_type": "code",
      "metadata": {
        "colab": {
          "base_uri": "https://localhost:8080/",
          "height": 295
        },
        "id": "dYISj2kxh0f3",
        "outputId": "cc24e69c-5bb6-4b21-d5ae-1bd57998a3bd"
      },
      "source": [
        "plt.plot(fpr_lasso, tpr_lasso, label=\"Lasso= %0.4f\" % auc_lasso, color='g')\n",
        "plt.plot(fpr_elnet, tpr_elnet, label=\"Elastic Net= %0.4f\" % auc_elnet, color='m')\n",
        "plt.plot(fpr_ridge, tpr_ridge, label=\"Ridge= %0.4f\" % auc_ridge, color='y')\n",
        "plt.plot(fpr_logit, tpr_logit, label=\"Logit= %0.4f\" % auc_logit, color='b')\n",
        "\n",
        "# Random benchmark\n",
        "plt.plot([0, 1], [0, 1], \"r--\");  \n",
        "\n",
        "# Plot configuration\n",
        "plt.title('ROC Curve of Logit, Lasso and Ridge on Test Set')\n",
        "plt.ylabel(\"True Positive Rate\")\n",
        "plt.xlabel(\"False Positive Rate\")\n",
        "plt.legend(loc=\"lower right\")\n",
        "plt.show()"
      ],
      "execution_count": 24,
      "outputs": [
        {
          "output_type": "display_data",
          "data": {
            "image/png": "[encoded data removed]",
            "text/plain": [
              "<Figure size 432x288 with 1 Axes>"
            ]
          },
          "metadata": {
            "tags": [],
            "needs_background": "light"
          }
        }
      ]
    },
    {
      "cell_type": "markdown",
      "metadata": {
        "id": "LXFwCzlOyZNV"
      },
      "source": [
        "In the case of elastic net, we can see a slight increase in accuracy at a low C value for this `l1_ratio`. If we continue to tune these values, we could very likely find an even better combination of hyperparameter settings. We will discuss this a little later in the notebook when we talk about parameter tuning."
      ]
    },
    {
      "cell_type": "markdown",
      "metadata": {
        "id": "4IoBU9wAxS8C"
      },
      "source": [
        "### Bias and variance\n",
        "The idea of regularization is to introduce bias to reduce variance. Can we confirm this works? Let's use all of our data and run a model with cross-validation and check the accuracy on each run. We can then check the variation across these accuracy values. The goal of regularization was to introduce some bias to reduce variance. Therefore, the variance in predictions without regularization should be higher than those in models with regularization. \n",
        "\n",
        "We consider 10-fold cross validation. Increasing the number of folds might facilitate even clearer results but at the cost of increasing runtime. Ten iterations should be enough to see an effect. In case you are a little unsure how cross-validation works, take a look at [Tutorial 6](https://github.com/Humboldt-WI/bads/blob/master/tutorials/6_nb_model_assessment.ipynb), which elaborates on model assessment. \n",
        "\n",
        "Before we continue, let's make sure we can run all models in `sklearn`. To that end, we need to create two more model objects, one for vanilla logit and one for lasso; because we showcased these models using `statsmodels` above. "
      ]
    },
    {
      "cell_type": "code",
      "metadata": {
        "id": "ZjgPMf2-Z7br"
      },
      "source": [
        "# create sklearn models for the regular logit and lasso\n",
        "logit_sk = LogisticRegression(penalty='none', fit_intercept=False, solver='saga', tol=0.01, random_state=888)\n",
        "lasso_sk  = LogisticRegression(penalty='l1', fit_intercept=False, solver='saga', tol=0.01, random_state=888, C=0.05)"
      ],
      "execution_count": 25,
      "outputs": []
    },
    {
      "cell_type": "markdown",
      "metadata": {
        "id": "f3drRLcU-Jsf"
      },
      "source": [
        "Ok, ready to cross-validate normal logistic regression:"
      ]
    },
    {
      "cell_type": "code",
      "metadata": {
        "colab": {
          "base_uri": "https://localhost:8080/"
        },
        "id": "YlIhJKtSbdvy",
        "outputId": "6ef65625-c69a-4a74-d717-2d5c4926748c"
      },
      "source": [
        "# perform cross validation on logit and check that it outputs what we expect it to\n",
        "from sklearn.model_selection import cross_val_score\n",
        "\n",
        "folds = 10\n",
        "logit_sk_scores = cross_val_score(logit_sk, X, y.ravel(), cv=folds)\n",
        "print(\"Accuracy of each cross-validation fold:\", logit_sk_scores)\n",
        "print(\"Variance in accuracy over folds:\", np.var(logit_sk_scores))"
      ],
      "execution_count": 26,
      "outputs": [
        {
          "output_type": "stream",
          "text": [
            "Accuracy of each cross-validation fold: [0.80033557 0.82550336 0.81543624 0.82550336 0.83221477 0.83389262\n",
            " 0.84228188 0.83557047 0.82885906 0.83053691]\n",
            "Variance in accuracy over folds: 0.00012468469888743747\n"
          ],
          "name": "stdout"
        }
      ]
    },
    {
      "cell_type": "markdown",
      "metadata": {
        "id": "h4O8_To3jlNd"
      },
      "source": [
        "Now let's carry out 5 fold cross validation for every model."
      ]
    },
    {
      "cell_type": "code",
      "metadata": {
        "id": "xYSakfiCgGAa"
      },
      "source": [
        "lasso_scores = cross_val_score(lasso_sk, X, y.ravel(), cv=folds)\n",
        "ridge_scores = cross_val_score(ridge, X, y.ravel(), cv=folds)\n",
        "elnet_scores = cross_val_score(elnet, X, y.ravel(), cv=folds)"
      ],
      "execution_count": 27,
      "outputs": []
    },
    {
      "cell_type": "code",
      "metadata": {
        "colab": {
          "base_uri": "https://localhost:8080/"
        },
        "id": "Aur3UOzNjIyq",
        "outputId": "0c1a1bff-0b55-4cc7-c611-e8cf9613b00c"
      },
      "source": [
        "# Let's just verify that we got what we needed from one of those scores\n",
        "\n",
        "print(\"Accuracy of each cross-validation fold:\", lasso_scores)\n",
        "print(\"Variance in accuracy over folds:\", np.var(lasso_scores))"
      ],
      "execution_count": 28,
      "outputs": [
        {
          "output_type": "stream",
          "text": [
            "Accuracy of each cross-validation fold: [0.80872483 0.83221477 0.8204698  0.8238255  0.83221477 0.82718121\n",
            " 0.83892617 0.8238255  0.82214765 0.82885906]\n",
            "Variance in accuracy over folds: 6.069546416828085e-05\n"
          ],
          "name": "stdout"
        }
      ]
    },
    {
      "cell_type": "markdown",
      "metadata": {
        "id": "7Gj7aPqzjrXj"
      },
      "source": [
        "Lastly, let's test that variance has gone down and simultaneously introduce the `assert` keyword. This keyword is always followed by a condition. If the condition is `False`, `assert` will throw an error. Let's test if the variance of the `logit_sk_scores` is higher than the variance of all other regularized models' cross validation scores."
      ]
    },
    {
      "cell_type": "code",
      "metadata": {
        "id": "EEusIRZngssQ"
      },
      "source": [
        "assert np.var(logit_sk_scores) > np.var(lasso_scores)\n",
        "assert np.var(logit_sk_scores) > np.var(ridge_scores)\n",
        "assert np.var(logit_sk_scores) > np.var(elnet_scores)"
      ],
      "execution_count": 29,
      "outputs": []
    },
    {
      "cell_type": "code",
      "metadata": {
        "colab": {
          "base_uri": "https://localhost:8080/",
          "height": 265
        },
        "id": "73dsumK8kaEd",
        "outputId": "c3c98bcd-71a1-4f5e-9b4e-13a14c499a2e"
      },
      "source": [
        "variances = [np.var(logit_sk_scores), np.var(lasso_scores), np.var(ridge_scores), np.var(elnet_scores)]\n",
        "labels = [\"Normal Logit\", \"Lasso\", \"Ridge\", \"Elastic Net\"]\n",
        "plt.bar(labels, variances);"
      ],
      "execution_count": 30,
      "outputs": [
        {
          "output_type": "display_data",
          "data": {
            "image/png": "[encoded data removed]",
            "text/plain": [
              "<Figure size 432x288 with 1 Axes>"
            ]
          },
          "metadata": {
            "tags": [],
            "needs_background": "light"
          }
        }
      ]
    },
    {
      "cell_type": "markdown",
      "metadata": {
        "id": "NReMZ4HskJZA"
      },
      "source": [
        "Look at that! The variance in performance of all models with regularization is lower than that in the normal logit model. The goal of the exercise has been achieved. Awesome. Our simpler models vary less in their accuracy. So we can have more trust in those models counting on their accuracy not fluctuating that much with new data from the same population compared to logistic regression modeling without regularization."
      ]
    },
    {
      "cell_type": "markdown",
      "metadata": {
        "id": "2iFEt1vuxS8C"
      },
      "source": [
        "### Regularization path\n",
        "We have seen above that lasso performs feature selection by setting coefficients to zero. A nice feature of regularized linear models is that we can compute the **full regularization path**. This means we can examine the examine the magnitude of coefficient values across different settings of the penalty parameter. The larger the penalty the more emphasize is put on shrinking coefficients, and the less emphasize is put on minimizing the loss. The following codes, which are from the set of [sklearn examples](https://scikit-learn.org/stable/auto_examples/linear_model/plot_lasso_coordinate_descent_path.html#sphx-glr-auto-examples-linear-model-plot-lasso-coordinate-descent-path-py), showcase how to produce a graph of the regularization path. This analysis is useful to inform our choice of penalty values for grid-search. However, for larger data sets, computing the regularization path is a costly exercise. If the goal is to learn which features are most valuable, there are cheaper to establish feature importance. We will learn about these in [Tutorial 9](https://github.com/Humboldt-WI/bads/blob/master/tutorials/9_nb_feature_engineering.ipynb). For now, however, let's see how we can calculate the full regularization path using `sklearn` and re-produce the nice picture from one of the lecture slides.\n"
      ]
    },
    {
      "cell_type": "code",
      "metadata": {
        "id": "_UU72F4GxS8D"
      },
      "source": [
        "from sklearn.linear_model import lasso_path\n",
        "alphas_lasso, coefs_lasso, _ = lasso_path(X, y, fit_intercept=True)"
      ],
      "execution_count": 31,
      "outputs": []
    },
    {
      "cell_type": "code",
      "metadata": {
        "colab": {
          "base_uri": "https://localhost:8080/",
          "height": 513
        },
        "id": "1xU6m1smxS8H",
        "outputId": "b1dc6a2e-2370-4f21-e6b9-6042de905253"
      },
      "source": [
        "colors = ['gray', 'rosybrown', 'r', 'gold', 'moccasin', 'chocolate', 'darkkhaki', 'tan', 'y', 'darkgreen',\n",
        "          'chartreuse', 'mediumspringgreen', 'deepskyblue', 'navy', 'royalblue', 'm', 'palevioletred', 'fuchsia']\n",
        "\n",
        "plt.figure(figsize=[10,8])\n",
        "\n",
        "neg_log_alphas_lasso = -np.log10(alphas_lasso)\n",
        "\n",
        "for coef_l, c in zip(coefs_lasso[0], colors):\n",
        "    l1 = plt.plot(neg_log_alphas_lasso, coef_l, c=c)\n",
        "\n",
        "plt.xlabel('-log(lambda)')\n",
        "plt.ylabel('Coefficients')\n",
        "plt.title('Lasso Regularization Paths')\n",
        "plt.legend(var_names)\n",
        "plt.show()"
      ],
      "execution_count": 32,
      "outputs": [
        {
          "output_type": "display_data",
          "data": {
            "image/png": "[encoded data removed]",
            "text/plain": [
              "<Figure size 720x576 with 1 Axes>"
            ]
          },
          "metadata": {
            "tags": [],
            "needs_background": "light"
          }
        }
      ]
    },
    {
      "cell_type": "markdown",
      "metadata": {
        "id": "w4Dho7rX-Jsh"
      },
      "source": [
        "In interpreting the graph, first make sure to note that the x-axis displays the negative of $\\log(\\lambda)$. The is no specific reason to negate the value of $\\lambda$ other than showing increasing coefficient values when reading the plot from right to left. As said, the code comes from the official `sklearn` example series and was copied without adjustments. You can easily change the code if you prefer seeing coefficient values to decrease from left to right. Here, however, reading the plot from left to right, we see the magnitude of  coefficients values when the **degree of regularization decreases**.    \n",
        "\n",
        "Apparently, the feature *DEROGzero* is most important. Drawing on our expertise with this data set, as developed in [the data preparation Tutorial](https://github.com/Humboldt-WI/bads/blob/master/tutorials/4_nb_data_preparation.ipynb), it makes good sense that the number of major derogatory reports, which is what this variable captures, is related to credit risk. Likewise, the number of delinquent credit lines (DELINQcat_1+) coming out as important makes good sense. In fact, both these important features are actually dummy variables, which we created in [Tutorial 4](https://github.com/Humboldt-WI/bads/blob/master/tutorials/4_nb_data_preparation.ipynb) by first discretizing and then dummy-encoding the the original numerical features. Discussing coefficient values and importance of dummy variables in a regression model is an interesting topic in its own right, but beyond the scope of this notebook. A comprehensive analysis of the plot requires a deep understanding of the original features and ideally some domain knowledge. For now, it would be sufficient if you can interpret the above plot in principle."
      ]
    },
    {
      "cell_type": "markdown",
      "metadata": {
        "id": "CEmPMRGOxS8K"
      },
      "source": [
        "# Model selection\n",
        "Above, we found evidence that hyperparameters affect model performance (e.g. decision tree depth, l1 ratio, ...). Not only that, we have many of them to tune. How can we ensure we choose good settings? Let's go back to the example of regularization and examine a few ways to tune hyperparameters."
      ]
    },
    {
      "cell_type": "markdown",
      "metadata": {
        "id": "8QNLtHNCxS8J"
      },
      "source": [
        "## Overfitting\n",
        "\n",
        "Ultimately, regularization is a way to address one of the key problems in predictive modeling: overfitting. While linear regression models are less prone to overfitting as they drastically simplify relationships, it can still occur.\n",
        "\n",
        "To see a really good example of a model that can easily be overfit, we can take a look at decision trees. When trees are grown to deep, they start to internalize idiosyncacies of the specific data that they were fed. This means that they assume that all little random variations would also occur in new sets of data that they come across instead of generalizing trends.\n",
        "\n",
        "Let's take a look at what this looks like by generating a tracking the accuracy of a decision tree on training and test data as we increase the depth of the tree. We will do the same for AUC. Before commencing, how do you think the two metrics will trend as the tree becomes deeper?"
      ]
    },
    {
      "cell_type": "code",
      "metadata": {
        "id": "-cP2Z3xsHg6h"
      },
      "source": [
        "from sklearn import tree\n",
        "\n",
        "train_auc_list = []\n",
        "test_auc_list = []\n",
        "\n",
        "for n in range(1,30):\n",
        "  # Fit tree to training data\n",
        "  dt = tree.DecisionTreeClassifier(max_depth=n, random_state=888)\n",
        "  dt = dt.fit(X_train, y_train)\n",
        "  \n",
        "  # Predictions and metrics for training data\n",
        "  dt_train_pred = dt.predict(X_train)\n",
        "  auc = metrics.roc_auc_score(y_train, dt_train_pred)\n",
        "  train_auc_list.append(auc)\n",
        "  \n",
        "  # Predictions and metrics for test data\n",
        "  dt_test_pred = dt.predict(X_test)\n",
        "  auc = metrics.roc_auc_score(y_test, dt_test_pred)\n",
        "  test_auc_list.append(auc)"
      ],
      "execution_count": 33,
      "outputs": []
    },
    {
      "cell_type": "markdown",
      "metadata": {
        "id": "u0jplaUJ0QGu"
      },
      "source": [
        "It's easy to imagine: as the tree gets deeper, it is able to more correctly classify examples which it is trained on. It begins creating nodes which are very specific to the batch of data it received. So in the end, many more observations end up on leaf nodes which correctly classify them.\n",
        "\n",
        "**However**, if we introduce new data, many of these later nodes may be simply too specific for new data. They only occurred in the batch on which the algorithm was trained. Therefore, as the tree gets deeper, eventually we start to see a decline in AUC for test data."
      ]
    },
    {
      "cell_type": "code",
      "metadata": {
        "colab": {
          "base_uri": "https://localhost:8080/",
          "height": 265
        },
        "id": "LWDhQ-raLUHH",
        "outputId": "b913d475-7d2f-482c-c39c-034acddcbe5c"
      },
      "source": [
        "plt.plot(range(1,30), train_auc_list, c='b', label=\"train\")\n",
        "plt.plot(range(1,30), test_auc_list, c='r', label=\"test\")\n",
        "plt.legend();"
      ],
      "execution_count": 34,
      "outputs": [
        {
          "output_type": "display_data",
          "data": {
            "image/png": "[encoded data removed]",
            "text/plain": [
              "<Figure size 432x288 with 1 Axes>"
            ]
          },
          "metadata": {
            "tags": [],
            "needs_background": "light"
          }
        }
      ]
    },
    {
      "cell_type": "markdown",
      "metadata": {
        "id": "g5wWCko31Cyl"
      },
      "source": [
        "Internalizing noise from a subset of your population (i.e., the training set) will impede predictive accuracy. Since we are concerned about predictive accuracy on new data, the sweet spot is likely the maximum of the test data AUC, accuracy or whatever metric that you consider to be most important."
      ]
    },
    {
      "cell_type": "markdown",
      "metadata": {
        "id": "zatB0oACoGvo"
      },
      "source": [
        "## Grid search\n",
        "The lecture introduced *grid-search* as a versatile approach toward model selection aka hyperparameter tuning. Let's revisit the approach. Remember that we created a range of possible settings for a hyperparameter of interest, say `depth`. Above, we achieve this using the `range()` function. This created an array of numbers from 1 to 30. We then calculated the AUC for the training and test data for candidate setting of our hyperparameter. Let's first take a look at these test AUC values:"
      ]
    },
    {
      "cell_type": "code",
      "metadata": {
        "colab": {
          "base_uri": "https://localhost:8080/"
        },
        "id": "3M7sbol08xzK",
        "outputId": "41d6d007-6d2c-413d-d6f0-67283a563fa4"
      },
      "source": [
        "test_auc_list"
      ],
      "execution_count": 35,
      "outputs": [
        {
          "output_type": "execute_result",
          "data": {
            "text/plain": [
              "[0.6106853642924674,\n",
              " 0.5872105655679463,\n",
              " 0.8050813616851353,\n",
              " 0.7868153550728467,\n",
              " 0.8074860971642326,\n",
              " 0.782616610585534,\n",
              " 0.7535483795195227,\n",
              " 0.7559942215880062,\n",
              " 0.7423438977268054,\n",
              " 0.7567165230872223,\n",
              " 0.761617015779058,\n",
              " 0.7661769110159787,\n",
              " 0.7633757905677995,\n",
              " 0.7546259593984346,\n",
              " 0.7707338700679435,\n",
              " 0.7602340726647053,\n",
              " 0.7717879604672058,\n",
              " 0.7700438666032451,\n",
              " 0.7539388921186925,\n",
              " 0.7654898437362366,\n",
              " 0.7675921521648491,\n",
              " 0.7780978219379995,\n",
              " 0.7808989423861787,\n",
              " 0.771793832837118,\n",
              " 0.7717967690220742,\n",
              " 0.7717967690220742,\n",
              " 0.7717967690220742,\n",
              " 0.7717967690220742,\n",
              " 0.7717967690220742]"
            ]
          },
          "metadata": {
            "tags": []
          },
          "execution_count": 35
        }
      ]
    },
    {
      "cell_type": "markdown",
      "metadata": {
        "id": "TvF273L6iqgc"
      },
      "source": [
        "Let's choose the index of the highest value in this list using `np.argmax()` and converting the list into an NumPy array. We will call this `optimal_depth`. Based on the experiment we have undertaken, this value is the best setting of the hyperparameter `depth`. "
      ]
    },
    {
      "cell_type": "code",
      "metadata": {
        "colab": {
          "base_uri": "https://localhost:8080/"
        },
        "id": "UTAMcQw96xWM",
        "outputId": "717c805b-62c1-44cd-fbf4-c1c304a06bd6"
      },
      "source": [
        "optimal_depth = np.argmax(np.array(test_auc_list))\n",
        "dt_opt = tree.DecisionTreeClassifier(max_depth=optimal_depth+1, random_state=888)\n",
        "dt_opt = dt_opt.fit(X_train, y_train)\n",
        "dt_opt_test_pred = dt_opt.predict(X_test)\n",
        "auc_dt_opt = metrics.roc_auc_score(y_test, dt_opt_test_pred)\n",
        "auc_dt_opt"
      ],
      "execution_count": 36,
      "outputs": [
        {
          "output_type": "execute_result",
          "data": {
            "text/plain": [
              "0.8074860971642326"
            ]
          },
          "metadata": {
            "tags": []
          },
          "execution_count": 36
        }
      ]
    },
    {
      "cell_type": "markdown",
      "metadata": {
        "id": "18JUj68ti4RR"
      },
      "source": [
        "Grid search is the idea of iterating through any list of possible hyperparameter values and selecting the values which yield the best result for your model.\n",
        "\n",
        "Very often, you will see data getting partitioned into 3 sets: train, validation and test set. The training set will be used to fit the model. We will then check the model's performance using the validation set as we tune hyperparameters. The test set will only appear in the final step to verify the model's performance on unseen data; specifically, the model with the best hyperparameters as determined using the validation data."
      ]
    },
    {
      "cell_type": "markdown",
      "metadata": {
        "id": "aQ1EGY8uoIqs"
      },
      "source": [
        "## Hyperparameter tuning in sklearn\n",
        "\n",
        "We can also delegate the task of hyperparameter tuning to `sklearn`, which has some great functions to assist in this matter. Let's take a quick look at how we can choose the best regularizer using `sklearn` functions.\n",
        "\n",
        "Our first task is to create a list of dictionaries (or just one dictionary) in which you will have `'parameter_name': list_or_array_of_values` . The algorithm will test all combinations of all possibilities (per dictionary) and return the parameters that yielded the highest accuracy.\n",
        "\n",
        "Note that this function uses cross-validation. Like before, the training data will be split into N folds. N-1 folds will be used to train, while the final fold will act like an validation set and be used for evaluation. Afterwards, we can use a test set to verify the model's performance.\n",
        "\n",
        "It is common to do this process for complex models, which exhibit multiple hyperparameters. We consider the RandomForest classifier for illustration and tune the two hyperparameters *number of trees* and *mtry*. Note that running the below code may take a while."
      ]
    },
    {
      "cell_type": "code",
      "metadata": {
        "colab": {
          "base_uri": "https://localhost:8080/"
        },
        "id": "zzZS66Uq99P_",
        "outputId": "40c77893-6d40-4fb0-b048-b5823018b304"
      },
      "source": [
        "from sklearn.ensemble import RandomForestClassifier\n",
        "from sklearn.model_selection import GridSearchCV\n",
        "\n",
        "tuned_parameters = [{'n_estimators': [200, 400],\n",
        "                     'criterion': [\"gini\", \"entropy\"]}] # you could also take min_samples_split, max_features...\n",
        "\n",
        "grid_search = GridSearchCV(\n",
        "        RandomForestClassifier(random_state=888),\n",
        "        param_grid=tuned_parameters\n",
        "        )\n",
        "grid_search.fit(X_train, y_train.ravel())"
      ],
      "execution_count": 37,
      "outputs": [
        {
          "output_type": "execute_result",
          "data": {
            "text/plain": [
              "GridSearchCV(cv=None, error_score=nan,\n",
              "             estimator=RandomForestClassifier(bootstrap=True, ccp_alpha=0.0,\n",
              "                                              class_weight=None,\n",
              "                                              criterion='gini', max_depth=None,\n",
              "                                              max_features='auto',\n",
              "                                              max_leaf_nodes=None,\n",
              "                                              max_samples=None,\n",
              "                                              min_impurity_decrease=0.0,\n",
              "                                              min_impurity_split=None,\n",
              "                                              min_samples_leaf=1,\n",
              "                                              min_samples_split=2,\n",
              "                                              min_weight_fraction_leaf=0.0,\n",
              "                                              n_estimators=100, n_jobs=None,\n",
              "                                              oob_score=False, random_state=888,\n",
              "                                              verbose=0, warm_start=False),\n",
              "             iid='deprecated', n_jobs=None,\n",
              "             param_grid=[{'criterion': ['gini', 'entropy'],\n",
              "                          'n_estimators': [200, 400]}],\n",
              "             pre_dispatch='2*n_jobs', refit=True, return_train_score=False,\n",
              "             scoring=None, verbose=0)"
            ]
          },
          "metadata": {
            "tags": []
          },
          "execution_count": 37
        }
      ]
    },
    {
      "cell_type": "markdown",
      "metadata": {
        "id": "VeFXMJ2DknCV"
      },
      "source": [
        "Once the grid search is done, we can display the best parameters that were found. If the possible values were a continuous variable and the algorithm finds that an extreme in the range was optimal, it may be worthwhile to further extend the range to see if even higher values can give you a better score."
      ]
    },
    {
      "cell_type": "code",
      "metadata": {
        "colab": {
          "base_uri": "https://localhost:8080/"
        },
        "id": "1BM2BdBm__4F",
        "outputId": "4b9457df-f1b7-474e-d365-4a0fa5f851ca"
      },
      "source": [
        "# Display the best parameters\n",
        "\n",
        "print(grid_search.best_params_)"
      ],
      "execution_count": 38,
      "outputs": [
        {
          "output_type": "stream",
          "text": [
            "{'criterion': 'gini', 'n_estimators': 200}\n"
          ],
          "name": "stdout"
        }
      ]
    },
    {
      "cell_type": "markdown",
      "metadata": {
        "id": "4Eck4aOEk5GQ"
      },
      "source": [
        "We can also now use these parameters to predict on the test set and check its accuracy. At this point, however, it is important to task \"which model does create those predictions?\" After all, we trained many models in the scope of grid-search, one for each candidate set of hyperparameter values. Above, we have two hyperparameters with two candidate values each and, therefore, train $2 \\times 2=4$ candidate RF models. Actually, the number of models is larger than that because we use cross-validation. By default, the number of folds is 5 in `GridSearchCV()`. Therefore, the above code does train 20 RF classifiers in total. If interested, have a look into the field `cv_results_` of the object `grid_search` to get detailed information on the candidate parameter settings and cross-validation results.  \n",
        "\n",
        "Back to our question, which of these 20 RF classifiers generates predictions for the test set? By default, the behavior of grid-search is such that one final RF classifier is trained using the **optimal hypterparameter values** and the **full trainin set** (i.e., no cross-validation). This final model is readily available after grid-searching (so we really have trained 20+1 models above) and can be used as shown below."
      ]
    },
    {
      "cell_type": "code",
      "metadata": {
        "colab": {
          "base_uri": "https://localhost:8080/"
        },
        "id": "q3Am1UqzakOS",
        "outputId": "26343596-811f-4c68-efdf-c72174caf475"
      },
      "source": [
        "# Predict using the best parameters\n",
        "\n",
        "grid_search_pred = grid_search.predict_proba(X_test)  # the predict_proba call is directed to the final model with best hyperparameters\n",
        "\n",
        "grid_search_pred"
      ],
      "execution_count": 39,
      "outputs": [
        {
          "output_type": "execute_result",
          "data": {
            "text/plain": [
              "array([[0.985, 0.015],\n",
              "       [0.495, 0.505],\n",
              "       [0.635, 0.365],\n",
              "       ...,\n",
              "       [0.31 , 0.69 ],\n",
              "       [0.84 , 0.16 ],\n",
              "       [0.925, 0.075]])"
            ]
          },
          "metadata": {
            "tags": []
          },
          "execution_count": 39
        }
      ]
    },
    {
      "cell_type": "markdown",
      "metadata": {
        "id": "9ae76j2d-Jsj"
      },
      "source": [
        "Evaluate model performance in the usual way..."
      ]
    },
    {
      "cell_type": "code",
      "metadata": {
        "colab": {
          "base_uri": "https://localhost:8080/"
        },
        "id": "hMogs01HaYpZ",
        "outputId": "25773ca8-54fc-484c-a775-8356e0cfa8f3"
      },
      "source": [
        "fpr_grid, tpr_grid, _ = metrics.roc_curve(y_test, grid_search_pred[:,1]) \n",
        "auc_grid = metrics.auc(fpr_grid, tpr_grid)\n",
        "\n",
        "auc_grid"
      ],
      "execution_count": 40,
      "outputs": [
        {
          "output_type": "execute_result",
          "data": {
            "text/plain": [
              "0.971961391125283"
            ]
          },
          "metadata": {
            "tags": []
          },
          "execution_count": 40
        }
      ]
    },
    {
      "cell_type": "code",
      "metadata": {
        "colab": {
          "base_uri": "https://localhost:8080/",
          "height": 295
        },
        "id": "Fzt52q-dbEDQ",
        "outputId": "c4329707-f6db-4642-d6fe-13b40803ed7c"
      },
      "source": [
        "plt.plot(fpr_grid, tpr_grid, label=\"Grid Search RF= %0.4f\" % auc_grid, color='orange')\n",
        "plt.plot(fpr_elnet, tpr_elnet, label=\"Elastic Net= %0.4f\" % auc_elnet, color='m')\n",
        "plt.plot(fpr_ridge, tpr_ridge, label=\"Ridge= %0.4f\" % auc_ridge, color='y')\n",
        "plt.plot(fpr_logit, tpr_logit, label=\"Logit= %0.4f\" % auc_logit, color='b')\n",
        "plt.plot(fpr_lasso, tpr_lasso, label=\"Lasso= %0.4f\" % auc_lasso, color='g')\n",
        "\n",
        "# Random benchmark\n",
        "plt.plot([0, 1], [0, 1], \"r--\");  \n",
        "\n",
        "# Plot configuration\n",
        "plt.title('ROC Curve of Previous Models and RF on Test Set')\n",
        "plt.ylabel(\"True Positive Rate\")\n",
        "plt.xlabel(\"False Positive Rate\")\n",
        "plt.legend(loc=\"lower right\")\n",
        "plt.show()"
      ],
      "execution_count": 41,
      "outputs": [
        {
          "output_type": "display_data",
          "data": {
            "image/png": "[encoded data removed]",
            "text/plain": [
              "<Figure size 432x288 with 1 Axes>"
            ]
          },
          "metadata": {
            "tags": [],
            "needs_background": "light"
          }
        }
      ]
    },
    {
      "cell_type": "markdown",
      "metadata": {
        "id": "puM-POdWlRmY"
      },
      "source": [
        "We see that the performance of the RandomForest with Grid Search was very successful. Experimenting with different models and methods to maximize their performance is an important art in machine learning. It can make all the different in the predictions that your model will produce. "
      ]
    },
    {
      "cell_type": "markdown",
      "metadata": {
        "id": "u8OPtBiOtzvx"
      },
      "source": [
        "# Conclusion\n",
        "As we have seen, we can tune performance to get the most out of our models. By applying regularization, we add a little bias to our model for the benefit of lower variance.  The biased, less complex model will typically display less variation in predictive accuracy when forecasting novel observations. Trading off bias for variance is implemented  by penalizing high coefficient values in the minimization problem, which underlines model training.\n",
        "\n",
        "We also discussed the idea of hyperparameter tuning. There are often many choices when it comes to our model's settings like depth of a tree, the penalization strength of regularization or the number of trees in a RF. Choosing the value for these hyperparameters can be tricky, but this task is made easier through functions like `GridSearchCV`. It is important to optimize choices with these values as they can be very helpful for model performance.\n",
        "\n",
        "___\n",
        "\n",
        "If you'd like to use the `statsmodels` library which has some awesome summary of the regression results, you can use the following functions:\n",
        "\n",
        "| `statsmodels` | Possible Function |\n",
        "| --- | --- |\n",
        "| Generate logit | `sm.Logit(y, X, )` |\n",
        "| Fit regular logit | `model_name.fit()` |\n",
        "| Fit logit with L1 | `model_name.fit_regularized(alpha=...)` |\n",
        "| Predict probabilities | `fitted_model_name.predict(X)` |\n",
        "| Model moefficients | fitted_model_name.params |\n",
        "\n",
        "Note that you must assign the fitted model to a new variable if you want to continue using it later. This is not the case for `sklearn` where the model's coefficients become an attribute.\n",
        "\n",
        "This is also specific to logistic regression. If you would like another type of regression, it is worthwhile to check out the documentation of that regression to see what its options are.\n",
        "___\n",
        "\n",
        "`sklearn` has a bit more functions to play with. If you'd like to play with more regularization techniques, this is your one-stop-shop.\n",
        "\n",
        "| `sklearn` | Possible Function |\n",
        "| --- | --- |\n",
        "| Generate logit | `LogisticRegression()` |\n",
        "| Generate logit with L1 | `LogisticRegression(penalty='l1', solver='liblinear')` |\n",
        "| Generate logit with L2 | `LogisticRegression(penalty='l2')` |\n",
        "| Generate logit with elastic net | `LogisticRegression(penalty='elastic net', solver='saga')` |\n",
        "| Fit model | `model_name.fit(X,y)` | \n",
        "| Predict probabilities | `model_name.predict_proba(X)` |\n",
        "| Predict class | `model_name.predict(X)` |\n",
        "| Model coefficients | `model_name.coef_` | \n",
        "\n",
        "\n",
        "\n",
        "Read the notes for this LogisticRegression carefully as more solvers are possible but not compatible with every form of regularization.\n",
        "\n",
        "___\n",
        "\n",
        "If you would like to implement grid search:\n",
        "\n",
        "| Grid Search | Code |\n",
        "| --- | --- |\n",
        "| Generate grid search with CV |`model_name = GridSearchCV(model, param_grid=...)` |\n",
        "| Execute grid search | `model_name.fit(X, y)` |\n",
        "| Optimal parameters | `model_name.best_params_` |\n",
        "| Predict probabilities | `model_name.predict_proba(X)` |\n",
        "\n",
        "___\n",
        "\n",
        "Other functions that we have used in this tutorial:\n",
        "\n",
        "| Other Functions | Code |\n",
        "| --- | --- |\n",
        "| Split sample | `train_test_split()` |\n",
        "| Cross-validation scores | `cross_val_score(model_name, X, y, cv=...)` |\n",
        "| Lasso path | `lasso_path(X, y, fit_intercept=True)` |\n",
        "\n",
        "Happy coding!"
      ]
    }
  ]
}