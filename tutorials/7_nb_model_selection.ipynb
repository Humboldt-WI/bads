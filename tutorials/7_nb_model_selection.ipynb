{
  "nbformat": 4,
  "nbformat_minor": 0,
  "metadata": {
    "kernelspec": {
      "display_name": "PyCharm (adams)",
      "language": "python",
      "name": "pycharm-feb95198"
    },
    "language_info": {
      "codemirror_mode": {
        "name": "ipython",
        "version": 3
      },
      "file_extension": ".py",
      "mimetype": "text/x-python",
      "name": "python",
      "nbconvert_exporter": "python",
      "pygments_lexer": "ipython3",
      "version": "3.7.6"
    },
    "colab": {
      "name": "7_nb_model_selection no noise NEWEST .ipynb",
      "provenance": [],
      "collapsed_sections": []
    }
  },
  "cells": [
    {
      "cell_type": "markdown",
      "metadata": {
        "id": "Ka20bzp6PcNj"
      },
      "source": [
        "[![Open In Colab](https://colab.research.google.com/assets/colab-badge.svg)](https://colab.research.google.com/github/Humboldt-WI/bads/blob/master/tutorials/7_nb_model_selection.ipynb) \n"
      ]
    },
    {
      "cell_type": "markdown",
      "metadata": {
        "id": "swSaDjWvNDnY"
      },
      "source": [
        "# Chapter 7 - Regularization and model selection \n",
        "We are well on our way through our journey on learning the inner workings of machine learning works and how to implement it ourselves. Now that we can create models and assess them, let's think a bit more about refining them. This section will primarily tackle the problem of overfitting and variable selection.\n",
        "\n",
        "As you've probably heard by now, overfitting occurs when the model internalizes too much noise from training data. Training data may contain little idiosyncracies that do not occur in the general population. Additionally, if we include irrelevant variables in our model, the model may find spurious correlations. When presented with new data, the model will assume the same exact same patterns exist. Therefore, predictions will be less accurate as this noise is factored into predictions. There are many ways to address these problems. This notebook will present just a few of those methods.\n",
        "\n",
        "The outline of the tutorial is as follows:\n",
        "- Preliminary preparation of data and essential overarching libraries\n",
        "- Regularization with the example of logistic regression\n",
        "- Overfitting with decision trees\n",
        "- Grid search hyperparameter tuning"
      ]
    },
    {
      "cell_type": "markdown",
      "metadata": {
        "id": "VNLsHRBPxS72"
      },
      "source": [
        "# Preliminaries\n",
        "As usual, we begin by importing our standard libraries and also our standard modeling data. Normally in a notebook, you would import all necessary libraries here. However, since we want to highlight certain functions, we will be importing libraries throughout this notebook for that illustrative purpose."
      ]
    },
    {
      "cell_type": "code",
      "metadata": {
        "id": "GCwBhYtMxS74",
        "colab": {
          "base_uri": "https://localhost:8080/"
        },
        "outputId": "b762270e-abae-447b-a6b7-8e4f40c78f8b"
      },
      "source": [
        "# Import standard Python libraries\n",
        "import numpy as np\n",
        "import matplotlib.pyplot as plt\n",
        "import pandas as pd \n",
        "from sklearn.model_selection import train_test_split\n",
        "from sklearn import metrics\n",
        "from sklearn.linear_model import LogisticRegression\n",
        "import statsmodels.api as sm\n",
        "from pprint import pprint\n",
        "\n",
        "# Set seed for replication\n",
        "np.random.seed(888)\n",
        "\n",
        "# Suppress output in scientific notation\n",
        "np.set_printoptions(suppress=True)\n",
        "\n",
        "# Some configuration of the plots we will create later\n",
        "%matplotlib inline  \n",
        "plt.rcParams[\"figure.figsize\"] = (12,6)"
      ],
      "execution_count": 1,
      "outputs": [
        {
          "output_type": "stream",
          "text": [
            "/usr/local/lib/python3.6/dist-packages/statsmodels/tools/_testing.py:19: FutureWarning: pandas.util.testing is deprecated. Use the functions in the public API at pandas.testing instead.\n",
            "  import pandas.util.testing as tm\n"
          ],
          "name": "stderr"
        }
      ]
    },
    {
      "cell_type": "code",
      "metadata": {
        "id": "d6IP4unykfuf"
      },
      "source": [
        "# Load credit risk data in pre-processed format from GitHub\n",
        "data_url = 'https://raw.githubusercontent.com/Humboldt-WI/bads/master/data/hmeq_modeling.csv' \n",
        "df = pd.read_csv(data_url, index_col=\"index\")\n",
        "\n",
        "# Extract target variable and feature matrix \n",
        "X = df.drop(['BAD'], axis=1) \n",
        "y = df[['BAD']]\n",
        "\n",
        "# Change variables into easiest data type for model to handle\n",
        "y = y.values.astype(int)\n",
        "X = X.astype(float)"
      ],
      "execution_count": 2,
      "outputs": []
    },
    {
      "cell_type": "markdown",
      "metadata": {
        "id": "NQ9PxDdPjxiJ"
      },
      "source": [
        "In this section, we will be focus on variables which are only loosely correlated with the target. Some of these variables may only have spurious correlations. As such, patterns in training data may be determined which do not generalize to the rest of the population. If you have good knoweldge of regression with unncessary variables, you will know the negative effects that this could have on predictive ability. We will also try to correct this through a method called **regularization**."
      ]
    },
    {
      "cell_type": "markdown",
      "metadata": {
        "id": "-WaGQFDaxS78"
      },
      "source": [
        "# Regularized logistic regression \n",
        "Regularization is an approach to find a better balance between bias and variance in the **bias-variance trade-off**, and, thereby, reduce the error of a model. Remember that we can show the (generalization) error of a model to be a function to bias and variance. \n",
        "\n",
        "Complex models often show a high variance. Model complexity and bias are closely connected (low complexity -> high bias and vice versa). Introducing bias can reduce error by reducing variance. "
      ]
    },
    {
      "cell_type": "markdown",
      "metadata": {
        "id": "kQ1V8R07xS78"
      },
      "source": [
        "![bias and variance](https://miro.medium.com/max/1050/1*oO0KYF7Z84nePqfsJ9E0WQ.png)\n",
        "Image source: [Giorgos Papachristoudis: The Bias-Variance Tradeoff](https://towardsdatascience.com/the-bias-variance-tradeoff-8818f41e39e9)"
      ]
    },
    {
      "cell_type": "markdown",
      "metadata": {
        "id": "ZBD6YyPpxS79"
      },
      "source": [
        "How can we implement this idea of increasing bias to reduce variance? The answer depends on the type of model but at least for regression-type models the answer is: add a complexity penalty. \n",
        "\n",
        "In a regression setting, large coefficients are indicators of complex, unstable models. Possible causes include high dimensionality and multicollinearity. The aim of the model is to minimize the magnitude the coefficients have on the model. Therefore, it is included in the loss function. \n",
        "\n",
        "$$ \\min\\limits_{\\beta} ⁡\\mathcal{L} (\\beta)+\\lambda|(\\beta)| $$\n",
        "\n",
        "This penalty produces sparser models as it forces the coefficients to zero. Furthermore, we also have a new meta-parameter $\\lambda$, which governs the strength of regularization. Simply put, $\\lambda$ embodies our preference for models that fit the training data more accurately (low $\\lambda$) or models that are less complex (high $\\lambda$). It his hard to impossible to tell suitable settings of $\\lambda$ a priori. Thus, we typically tune this *hyperparameter* for each data set. Hyperparamater tuning will be elaborated later.\n",
        "\n",
        "We have discussed two forms of common regularization for the example of logistic regression. Both forms work by including a measure of coefficient size into the loss function (i.e. the function which the algorithm optimizes) in the form of a penalty. Intuitively, instead of telling the algorithm to build a model that fits well, we now tell it to build a model that fits well *and* keeps the coefficients small by deducting points in relation to the size of coefficients. \n",
        "\n",
        "The difference between the *lasso* and *ridge* penalty is then only whether we subtract the absolute or the squared sum of coefficients. While lasso tends to set coefficients to 0 completely, the ridge penalty reduces the coefficient size more evenly. We will see that \"why not both?\" is also a legitimate suggestion and leads to the *elastic net* penalty.\n",
        "\n",
        "So to reiterate, we have a model which is too complex and does not generalize enough for unseen samples. We will handle this by penalizing high parameter values through a constrained minimization. This will add bias to our model but also reduce the variance in its accuracy with new predictions. "
      ]
    },
    {
      "cell_type": "markdown",
      "metadata": {
        "id": "8-sPS4NKxS79"
      },
      "source": [
        "## Options for regularizing the logistic regression model "
      ]
    },
    {
      "cell_type": "markdown",
      "metadata": {
        "id": "jHxY_hdqxS7-"
      },
      "source": [
        "### Lasso or L1 Regularization\n",
        "Least Absolute Shrinkage and Selection Operator or LASSO (often stylized as simply as lasso) is a regularization technique in which the penalty is equivalent to the residual of the sum of squares plus the absolute sum of coefficients multiplied by some shrinkage value (represented by $\\lambda$ below). As such, lower coefficient values $\\beta_i$ will achieve the minimum value. To carry this method out, the new objective function to solve would be:\n",
        "\n",
        "$$ \\arg\\min_{\\beta_j} \\sum_{i=1}^{n}(y_i - \\sum_{j}x_{ij} \\beta_j)^2 + \\lambda \\sum_{j=1}^{p} |\\beta_j | $$\n",
        "\n",
        "Lasso regression **should only be done after standardization of continuous variables** when the analyst believes that certain features need to be eliminated. As you will see in the next regularization method, this is the only method which allows some coefficients to be set to 0. If two or more variables are highly correlated, lasso will aribitrarily select only one to be above 0 which can be problematic, especially for groups of categorical variables. "
      ]
    },
    {
      "cell_type": "markdown",
      "metadata": {
        "id": "LEIP6zuOxS7_"
      },
      "source": [
        "### Ridge or L2 Regularization\n",
        "Ridge regression appears similar to lasso regression but note the key difference: ridge regression is equal to the sum of the squared residuals plus the sum of the **square of the coefficients** multipled by some shrinkage value. Here is the objective function for L2 regularization:\n",
        "\n",
        "$$ \\arg\\min_{\\beta_j} \\sum_{i=1}^{n}(y_i - \\sum_{j}x_{ij} \\beta_j)^2 + \\lambda \\sum_{j=1}^{p} |\\beta_j^2 | $$\n",
        "\n",
        "Again, it is **best to standardize all continuous variables before** performing this regression. Ridge regression never really sets coefficient values to absolute 0 due to the square. So, if all parameters are believed to hold some importance, it may be better to use this method of regularization. Note that this method only works if the number of coefficients is less than the number of observations."
      ]
    },
    {
      "cell_type": "markdown",
      "metadata": {
        "id": "I7HBbjDLxS7_"
      },
      "source": [
        "### Elastic Net\n",
        "Elastic Net is a combination of L1 and L2 regularization methods. It is best used when an analyst is not sure if which of the two methods would be best in the situation. This is done by specifying two separate shrinkage value terms. \n",
        "\n",
        "$$ \\arg\\min_{\\beta_j} \\sum_{i=1}^{n}(y_i - \\sum_{j}x_{ij} \\beta_j)^2 + \\lambda_1 \\sum_{j=1}^{p} |\\beta_j | + \\lambda_2 \\sum_{j=1}^{p} |\\beta_j^2 | $$\n",
        "\n",
        "One of the bigger disadvantages to this method is the computational cost required to find the best combination of these two shrinkage values. It is also important to check if simply lasso alone might have done the best job at preventing overfitting."
      ]
    },
    {
      "cell_type": "markdown",
      "metadata": {
        "id": "hJmSZaGlxS8A"
      },
      "source": [
        "## Working example of regularization with logit\n",
        "We have looked at a manual implementation of the logistic regression model in [Tutorial 5](https://github.com/Humboldt-WI/bads/blob/master/tutorials/5_nb_supervised_learning.ipynb). When adding a penalty term to the likelihood function for regularizing our model, we also need to adjust model fitting. Specifically, we now have to minimize the regularized likelihood function. We can still use *gradient descent* but have to adjust the computation of the gradient. Going through this process and implementing regularized logistic regression from scratch would be a perfect exercise to further sharpen your data science skills. Have a look at [Tulrose Deori's post](https://towardsdatascience.com/implement-logistic-regression-with-l2-regularization-from-scratch-in-python-20bd4ee88a59) for some inspiration if needed. \n",
        "\n",
        "In this tutorial, we skip the from scratch implementation and move straight to estimating regularized logit models using our beloved `sklearn` library. "
      ]
    },
    {
      "cell_type": "markdown",
      "metadata": {
        "id": "LTgXWgvrxS8B"
      },
      "source": [
        "### Benchmark\n",
        "Idea of regularization is to build better models with more stable and accurate predictions. In order to prove this can be achieved through regularization, we will need a benchmark for comparison.\n",
        "\n",
        "Let's train a normal logistic regression function with all available variables. We will first split the data into a training set and a test set. We will train our model on the training data, then predict using the test set (which the model has never seen) and compare the model's predictions with the actual labels.\n",
        "\n",
        "We can look at a number of measures to verify that the regularization is worthwhile. This would be metrics like accuracy, AUC and coefficient values. Here, we will focus on AUC and plot the ROC for illustrative purposes."
      ]
    },
    {
      "cell_type": "code",
      "metadata": {
        "id": "cLkUJBGw4oXv",
        "colab": {
          "base_uri": "https://localhost:8080/"
        },
        "outputId": "55e4be2b-82ec-406c-a53e-f5a82a37fc50"
      },
      "source": [
        "# Split data into training and test\n",
        "\n",
        "X_train, X_test, y_train, y_test = train_test_split(X, y, test_size=0.3, random_state=888)\n",
        "\n",
        "print(\"Remember the shape of our data: \")\n",
        "print(X_train.shape, y_train.shape, X_test.shape, y_test.shape)"
      ],
      "execution_count": 3,
      "outputs": [
        {
          "output_type": "stream",
          "text": [
            "Remember the shape of our data: \n",
            "(4172, 18) (4172, 1) (1788, 18) (1788, 1)\n"
          ],
          "name": "stdout"
        }
      ]
    },
    {
      "cell_type": "code",
      "metadata": {
        "id": "P6Zhp770JtGM",
        "colab": {
          "base_uri": "https://localhost:8080/"
        },
        "outputId": "1953a8c4-fabf-4f07-ee60-79cca94447fe"
      },
      "source": [
        "# Fit the logistic regression\n",
        "\n",
        "logit = sm.Logit(y_train, X_train, )\n",
        "\n",
        "logit_res = logit.fit()\n",
        "\n",
        "print(logit_res.summary())"
      ],
      "execution_count": 4,
      "outputs": [
        {
          "output_type": "stream",
          "text": [
            "Optimization terminated successfully.\n",
            "         Current function value: 0.408015\n",
            "         Iterations 6\n",
            "                           Logit Regression Results                           \n",
            "==============================================================================\n",
            "Dep. Variable:                      y   No. Observations:                 4172\n",
            "Model:                          Logit   Df Residuals:                     4154\n",
            "Method:                           MLE   Df Model:                           17\n",
            "Date:                Mon, 30 Nov 2020   Pseudo R-squ.:                  0.1833\n",
            "Time:                        15:20:44   Log-Likelihood:                -1702.2\n",
            "converged:                       True   LL-Null:                       -2084.3\n",
            "Covariance Type:            nonrobust   LLR p-value:                1.904e-151\n",
            "====================================================================================\n",
            "                       coef    std err          z      P>|z|      [0.025      0.975]\n",
            "------------------------------------------------------------------------------------\n",
            "LOAN                -0.1161      0.049     -2.364      0.018      -0.212      -0.020\n",
            "MORTDUE             -0.1873      0.076     -2.452      0.014      -0.337      -0.038\n",
            "VALUE                0.0617      0.080      0.774      0.439      -0.095       0.218\n",
            "YOJ                 -0.1282      0.048     -2.646      0.008      -0.223      -0.033\n",
            "CLAGE               -0.4489      0.050     -9.037      0.000      -0.546      -0.352\n",
            "NINQ                 0.3492      0.041      8.457      0.000       0.268       0.430\n",
            "CLNO                -0.2029      0.050     -4.095      0.000      -0.300      -0.106\n",
            "DEBTINC              0.3979      0.051      7.846      0.000       0.298       0.497\n",
            "DEROGzero           -2.2010      0.134    -16.400      0.000      -2.464      -1.938\n",
            "REASON_HomeImp       0.3427      0.099      3.470      0.001       0.149       0.536\n",
            "REASON_IsMissing     0.4268      0.232      1.837      0.066      -0.029       0.882\n",
            "JOB_Office          -0.5948      0.175     -3.405      0.001      -0.937      -0.252\n",
            "JOB_Other            0.0836      0.139      0.600      0.549      -0.190       0.357\n",
            "JOB_ProfExe          0.1572      0.159      0.986      0.324      -0.155       0.470\n",
            "JOB_Sales            1.3801      0.283      4.879      0.000       0.826       1.934\n",
            "JOB_Self             0.6105      0.262      2.333      0.020       0.098       1.124\n",
            "DELINQcat_1          1.1298      0.124      9.120      0.000       0.887       1.373\n",
            "DELINQcat_1+         2.2670      0.128     17.667      0.000       2.016       2.519\n",
            "====================================================================================\n"
          ],
          "name": "stdout"
        }
      ]
    },
    {
      "cell_type": "markdown",
      "metadata": {
        "id": "-F9CLRc9n0At"
      },
      "source": [
        "Amazingly easy! We see that certain variables have high p-values like `VALUE`, `JOB_Other` and `JOB_ProfExe` among others. While this is already a tip that they may not be suitable for our model, we can see how regularization evaluates them as well.\n",
        "\n",
        "Let's now evaluate the same metrics for the test set which the model has not factored into its calculations. We can first check accuracy then plot the AUC for the test set. We will use these for comparison with models with regularization."
      ]
    },
    {
      "cell_type": "code",
      "metadata": {
        "id": "L5rllPAnLN_w",
        "colab": {
          "base_uri": "https://localhost:8080/"
        },
        "outputId": "5d7e7314-6e8f-4149-ca16-b6e3e4a7ff12"
      },
      "source": [
        "# Get predictions in probabilty of class 1\n",
        "\n",
        "logit_test_prob = logit_res.predict(X_test)\n",
        "\n",
        "logit_test_prob"
      ],
      "execution_count": 5,
      "outputs": [
        {
          "output_type": "execute_result",
          "data": {
            "text/plain": [
              "index\n",
              "2698    0.065587\n",
              "2542    0.130708\n",
              "2683    0.458780\n",
              "2796    0.080445\n",
              "5906    0.280446\n",
              "          ...   \n",
              "3       0.205215\n",
              "188     0.306660\n",
              "5828    0.193898\n",
              "5235    0.291001\n",
              "2220    0.162628\n",
              "Length: 1788, dtype: float64"
            ]
          },
          "metadata": {
            "tags": []
          },
          "execution_count": 5
        }
      ]
    },
    {
      "cell_type": "code",
      "metadata": {
        "colab": {
          "base_uri": "https://localhost:8080/"
        },
        "id": "IMo1EVLK-PKs",
        "outputId": "83dbf4da-f482-4573-e111-c3b0dccb8d5b"
      },
      "source": [
        "# Calculate the AUC\n",
        "\n",
        "fpr_logit, tpr_logit, _ = metrics.roc_curve(y_test, logit_test_prob)\n",
        "auc_logit = metrics.auc(fpr_logit, tpr_logit)\n",
        "auc_logit"
      ],
      "execution_count": 6,
      "outputs": [
        {
          "output_type": "execute_result",
          "data": {
            "text/plain": [
              "0.7922727441780346"
            ]
          },
          "metadata": {
            "tags": []
          },
          "execution_count": 6
        }
      ]
    },
    {
      "cell_type": "code",
      "metadata": {
        "colab": {
          "base_uri": "https://localhost:8080/",
          "height": 295
        },
        "id": "A-sdBG5vxQWV",
        "outputId": "d18df4e8-3afe-4b4e-f906-587d86a0eab2"
      },
      "source": [
        "# Plot of AUC\n",
        "plt.plot(fpr_logit, tpr_logit, label=\"Logit= %0.4f\" % auc_logit, color='b')\n",
        "\n",
        "# Random benchmark\n",
        "plt.plot([0, 1], [0, 1], \"r--\");  \n",
        "\n",
        "# Plot configuration\n",
        "plt.title('ROC Curve for Logit on Test Set')\n",
        "plt.ylabel(\"True Positive Rate\")\n",
        "plt.xlabel(\"False Positive Rate\")\n",
        "plt.legend(loc=\"lower right\")\n",
        "plt.show()"
      ],
      "execution_count": 7,
      "outputs": [
        {
          "output_type": "display_data",
          "data": {
            "image/png": "[encoded data removed]",
            "text/plain": [
              "<Figure size 432x288 with 1 Axes>"
            ]
          },
          "metadata": {
            "tags": [],
            "needs_background": "light"
          }
        }
      ]
    },
    {
      "cell_type": "markdown",
      "metadata": {
        "id": "mQ7mwT2Lphkd"
      },
      "source": [
        "Overall the model seems to have done pretty well! This was without regularization. This means that the model may not give us *always* give us predictions which are as reliable with different sets of data. This is because it may have internalized some of the noise from the set of data on which it was trained. The following methods will limit extreme coefficients in the logistic regression in order to have less variance in the accuracy of its predictions."
      ]
    },
    {
      "cell_type": "markdown",
      "metadata": {
        "id": "fqQUdsoAxS8B"
      },
      "source": [
        "### sklearn regularization\n",
        "\n",
        "Now that we have a benchmark model, let's compare that to the methods of regularization that were introduced at the beginning of this notebook. Again, those three models are:\n",
        "- Lasso (L1)\n",
        "- Ridge (L2)\n",
        "- Elastic Net\n",
        "\n",
        "We will be using the `statsmodels` function for the regular logistic regression and lasso (by calling the `fit_regularized` method). For ridge and elastic net, the `LogisticRegression` function from sklearn with the solver `'saga'` is being used because it is compatible with Ridge and Elastic Net regression."
      ]
    },
    {
      "cell_type": "markdown",
      "metadata": {
        "id": "WjviYzSdQ4Uj"
      },
      "source": [
        "#### Lasso Regression Example\n",
        "\n",
        "Let's first take a look at lasso regression. `statsmodels` can implement this type of regularization by conveniently calling the `fit_regularized` method on a previously set up logit. As already explained, this form of regularization will remove variables if their coefficients are too low."
      ]
    },
    {
      "cell_type": "code",
      "metadata": {
        "colab": {
          "base_uri": "https://localhost:8080/"
        },
        "id": "eRXtlAMc8Dsk",
        "outputId": "dc5d77ca-04b8-4596-d62e-28966295dad8"
      },
      "source": [
        "lasso = logit.fit_regularized(alpha=7)\n",
        "\n",
        "print(lasso.summary())"
      ],
      "execution_count": 8,
      "outputs": [
        {
          "output_type": "stream",
          "text": [
            "Optimization terminated successfully.    (Exit mode 0)\n",
            "            Current function value: 0.42392106763045023\n",
            "            Iterations: 109\n",
            "            Function evaluations: 110\n",
            "            Gradient evaluations: 109\n",
            "                           Logit Regression Results                           \n",
            "==============================================================================\n",
            "Dep. Variable:                      y   No. Observations:                 4172\n",
            "Model:                          Logit   Df Residuals:                     4157\n",
            "Method:                           MLE   Df Model:                           14\n",
            "Date:                Mon, 30 Nov 2020   Pseudo R-squ.:                  0.1792\n",
            "Time:                        15:20:44   Log-Likelihood:                -1710.8\n",
            "converged:                       True   LL-Null:                       -2084.3\n",
            "Covariance Type:            nonrobust   LLR p-value:                2.264e-150\n",
            "====================================================================================\n",
            "                       coef    std err          z      P>|z|      [0.025      0.975]\n",
            "------------------------------------------------------------------------------------\n",
            "LOAN                -0.1054      0.048     -2.192      0.028      -0.200      -0.011\n",
            "MORTDUE             -0.1147      0.075     -1.533      0.125      -0.261       0.032\n",
            "VALUE                0.0006      0.077      0.008      0.994      -0.151       0.152\n",
            "YOJ                 -0.1124      0.047     -2.392      0.017      -0.205      -0.020\n",
            "CLAGE               -0.4204      0.048     -8.688      0.000      -0.515      -0.326\n",
            "NINQ                 0.3186      0.040      7.922      0.000       0.240       0.397\n",
            "CLNO                -0.1683      0.048     -3.507      0.000      -0.262      -0.074\n",
            "DEBTINC              0.3588      0.049      7.374      0.000       0.263       0.454\n",
            "DEROGzero           -1.9541      0.065    -29.857      0.000      -2.082      -1.826\n",
            "REASON_HomeImp       0.2553      0.096      2.663      0.008       0.067       0.443\n",
            "REASON_IsMissing          0        nan        nan        nan         nan         nan\n",
            "JOB_Office          -0.5819      0.128     -4.531      0.000      -0.834      -0.330\n",
            "JOB_Other                 0        nan        nan        nan         nan         nan\n",
            "JOB_ProfExe               0        nan        nan        nan         nan         nan\n",
            "JOB_Sales            0.7265      0.269      2.705      0.007       0.200       1.253\n",
            "JOB_Self             0.1350      0.248      0.544      0.586      -0.351       0.621\n",
            "DELINQcat_1          0.9466      0.123      7.711      0.000       0.706       1.187\n",
            "DELINQcat_1+         2.0582      0.125     16.531      0.000       1.814       2.302\n",
            "====================================================================================\n"
          ],
          "name": "stdout"
        },
        {
          "output_type": "stream",
          "text": [
            "/usr/local/lib/python3.6/dist-packages/scipy/stats/_distn_infrastructure.py:903: RuntimeWarning: invalid value encountered in greater\n",
            "  return (a < x) & (x < b)\n",
            "/usr/local/lib/python3.6/dist-packages/scipy/stats/_distn_infrastructure.py:903: RuntimeWarning: invalid value encountered in less\n",
            "  return (a < x) & (x < b)\n",
            "/usr/local/lib/python3.6/dist-packages/scipy/stats/_distn_infrastructure.py:1912: RuntimeWarning: invalid value encountered in less_equal\n",
            "  cond2 = cond0 & (x <= _a)\n"
          ],
          "name": "stderr"
        }
      ]
    },
    {
      "cell_type": "markdown",
      "metadata": {
        "id": "sX42MoJDBvu0"
      },
      "source": [
        "As we can see, some variables were deemed too costly to add at this alpha value. This also includes the variables that I mentioned before which had a high p-value (`VALUE`, `JOB_Other` and `JOB_ProfExe`).\n",
        "\n",
        "The coefficients for these variables were therefore set to 0. Let's now directly compare the values of all coefficients in a normal logit versus lasso directly in a bar chart. As we can see, nearly all coefficient values have decreased due to the penalized regression. W"
      ]
    },
    {
      "cell_type": "code",
      "metadata": {
        "colab": {
          "base_uri": "https://localhost:8080/",
          "height": 397
        },
        "id": "eOwMoU1gdh03",
        "outputId": "9856ba68-6d87-4f46-915e-abcfc82ef3aa"
      },
      "source": [
        "var_names = X_train.columns\n",
        "\n",
        "coef_logit = pd.Series(logit_res.params, var_names)\n",
        "coef_lasso =  pd.Series(lasso.params, var_names)\n",
        "\n",
        "ind = np.arange(len(coef_logit))\n",
        "width = 0.35 \n",
        "\n",
        "fig, ax = plt.subplots()\n",
        "rects1 = ax.bar(ind - width/2, coef_logit, width,\n",
        "                label='Normal Logit')\n",
        "rects3 = ax.bar(ind + width/2, coef_lasso, width,\n",
        "                label='Lasso with Alpha=7')\n",
        "\n",
        "ax.set_ylabel('Coefficient Value')\n",
        "ax.set_xlabel('Coefficient Name')\n",
        "ax.set_title('Model Coefficients for Normal Logit and Lasso with Alpha=7')\n",
        "ax.set_xticks(ind)\n",
        "ax.set_xticklabels(var_names, rotation=90)\n",
        "ax.legend()"
      ],
      "execution_count": 9,
      "outputs": [
        {
          "output_type": "execute_result",
          "data": {
            "text/plain": [
              "<matplotlib.legend.Legend at 0x7fcb7c63e2e8>"
            ]
          },
          "metadata": {
            "tags": []
          },
          "execution_count": 9
        },
        {
          "output_type": "display_data",
          "data": {
            "image/png": "[encoded data removed]",
            "text/plain": [
              "<Figure size 432x288 with 1 Axes>"
            ]
          },
          "metadata": {
            "tags": [],
            "needs_background": "light"
          }
        }
      ]
    },
    {
      "cell_type": "markdown",
      "metadata": {
        "id": "IotT0MQoDjuZ"
      },
      "source": [
        "Let's now check the AUC and plot the ROC curve once more to assess the model's performance. There is no sense carrying out such a procedure if it has a serious adverse effect on our model."
      ]
    },
    {
      "cell_type": "code",
      "metadata": {
        "colab": {
          "base_uri": "https://localhost:8080/"
        },
        "id": "M2x97qGf-KZj",
        "outputId": "379ab30f-5a31-427b-e2f2-04786ac911cf"
      },
      "source": [
        "lasso_test_prob = lasso.predict(X_test)\n",
        "\n",
        "lasso_test_prob"
      ],
      "execution_count": 10,
      "outputs": [
        {
          "output_type": "execute_result",
          "data": {
            "text/plain": [
              "index\n",
              "2698    0.086114\n",
              "2542    0.138589\n",
              "2683    0.450748\n",
              "2796    0.097606\n",
              "5906    0.255347\n",
              "          ...   \n",
              "3       0.161320\n",
              "188     0.316488\n",
              "5828    0.211542\n",
              "5235    0.223000\n",
              "2220    0.175677\n",
              "Length: 1788, dtype: float64"
            ]
          },
          "metadata": {
            "tags": []
          },
          "execution_count": 10
        }
      ]
    },
    {
      "cell_type": "code",
      "metadata": {
        "colab": {
          "base_uri": "https://localhost:8080/"
        },
        "id": "TSK7tp7Sywse",
        "outputId": "5dd06a49-04df-4387-d690-0be83f167d8c"
      },
      "source": [
        "fpr_lasso, tpr_lasso, _ = metrics.roc_curve(y_test, lasso_test_prob)\n",
        "auc_lasso = metrics.auc(fpr_lasso, tpr_lasso)\n",
        "auc_lasso"
      ],
      "execution_count": 11,
      "outputs": [
        {
          "output_type": "execute_result",
          "data": {
            "text/plain": [
              "0.795269610289958"
            ]
          },
          "metadata": {
            "tags": []
          },
          "execution_count": 11
        }
      ]
    },
    {
      "cell_type": "code",
      "metadata": {
        "colab": {
          "base_uri": "https://localhost:8080/",
          "height": 295
        },
        "id": "X7sXmaeywsTN",
        "outputId": "57b385b0-37cb-4038-f3f2-7f2bcb53dd5a"
      },
      "source": [
        "plt.plot(fpr_lasso, tpr_lasso, label=\"Lasso= %0.4f\" % auc_lasso, color='g')\n",
        "plt.plot(fpr_logit, tpr_logit, label=\"Logit= %0.4f\" % auc_logit, color='b')\n",
        "\n",
        "# Random benchmark\n",
        "plt.plot([0, 1], [0, 1], \"r--\");  \n",
        "\n",
        "# Plot configuration\n",
        "plt.title('ROC curve of Logit and Lasso on Test Set')\n",
        "plt.ylabel(\"True Positive Rate\")\n",
        "plt.xlabel(\"False Positive Rate\")\n",
        "plt.legend(loc=\"lower right\")\n",
        "plt.show()"
      ],
      "execution_count": 12,
      "outputs": [
        {
          "output_type": "display_data",
          "data": {
            "image/png": "[encoded data removed]",
            "text/plain": [
              "<Figure size 432x288 with 1 Axes>"
            ]
          },
          "metadata": {
            "tags": [],
            "needs_background": "light"
          }
        }
      ]
    },
    {
      "cell_type": "markdown",
      "metadata": {
        "id": "JfS66spHTX2x"
      },
      "source": [
        "Great! We see a small increase in AUC. We could check more values for alpha and other arguments in this model for even better performance but methods for that will come at the end of this notebook. While the AUC and ROC are very similar between the regressions, note that now the variance in prediction accuracy will also have fallen. The model's predictions will be more consistently accurate. We will demonstrate this later in the notebook when comparing all models."
      ]
    },
    {
      "cell_type": "markdown",
      "metadata": {
        "id": "VNN9EfldgPqj"
      },
      "source": [
        "#### Ridge Regression Example\n",
        "\n",
        "Unlike lasso, ridge regression can't set any variables perfectly to 0 because of the square term. To demonstrate that ridge performs differently, we will show here how the same settings yields different results with this form of regularization.\n",
        "\n",
        "We will be using the `LogisticRegression` function from `sklearn`. Note that the solver `'saga'` is being used in the function because it is compatible with all versions of the penalty which we introduced. The argument `C` is equivalent to $ \\frac{1}{\\lambda}$. You can find more information on the function [here](https://scikit-learn.org/stable/modules/generated/sklearn.linear_model.LogisticRegression.html)."
      ]
    },
    {
      "cell_type": "code",
      "metadata": {
        "colab": {
          "base_uri": "https://localhost:8080/"
        },
        "id": "d_Ddb9epgmUF",
        "outputId": "2e0ff7c8-a49c-4247-cfbb-b5a4c53b418a"
      },
      "source": [
        "ridge = LogisticRegression(penalty='l2', fit_intercept=False, solver='saga', C=.5, random_state=888) # C=.5 was chosen through some experimental tuning in this case\n",
        "ridge.fit(X_train, y_train.ravel())"
      ],
      "execution_count": 13,
      "outputs": [
        {
          "output_type": "execute_result",
          "data": {
            "text/plain": [
              "LogisticRegression(C=0.5, class_weight=None, dual=False, fit_intercept=False,\n",
              "                   intercept_scaling=1, l1_ratio=None, max_iter=100,\n",
              "                   multi_class='auto', n_jobs=None, penalty='l2',\n",
              "                   random_state=888, solver='saga', tol=0.0001, verbose=0,\n",
              "                   warm_start=False)"
            ]
          },
          "metadata": {
            "tags": []
          },
          "execution_count": 13
        }
      ]
    },
    {
      "cell_type": "markdown",
      "metadata": {
        "id": "1j5QWKp1UrnF"
      },
      "source": [
        "Unlike `statsmodels`, we cannot see a simple summary of the regression in `sklearn`. We can use the attribute `.coef_` to inspect the model's coefficients though. "
      ]
    },
    {
      "cell_type": "code",
      "metadata": {
        "colab": {
          "base_uri": "https://localhost:8080/"
        },
        "id": "xJ5esPoW2Xzi",
        "outputId": "0564a1b1-e8e7-49d9-e52d-2b703ee31a76"
      },
      "source": [
        "ridge.coef_"
      ],
      "execution_count": 14,
      "outputs": [
        {
          "output_type": "execute_result",
          "data": {
            "text/plain": [
              "array([[-0.12066314, -0.1867322 ,  0.06200638, -0.12699116, -0.43965745,\n",
              "         0.34112175, -0.19270423,  0.38961082, -2.06556986,  0.31895335,\n",
              "         0.35934044, -0.65560438, -0.00841112,  0.05683505,  1.11614947,\n",
              "         0.46853396,  1.0633852 ,  2.16080956]])"
            ]
          },
          "metadata": {
            "tags": []
          },
          "execution_count": 14
        }
      ]
    },
    {
      "cell_type": "markdown",
      "metadata": {
        "id": "RTk4cAcolh6E"
      },
      "source": [
        "Compared to lasso regression, we can see that the same strength set no variables perfectly to 0. Ridge regression is more targeted at reducing extreme values as the square term is means that high value coefficients are very costly for the minimization."
      ]
    },
    {
      "cell_type": "code",
      "metadata": {
        "colab": {
          "base_uri": "https://localhost:8080/",
          "height": 397
        },
        "id": "uEgfGfaCgmUG",
        "outputId": "f3bf85d9-820e-4c82-e8f5-8101b4c2be9c"
      },
      "source": [
        "coef_logit = pd.Series(logit_res.params, var_names)\n",
        "coef_ridge =  pd.Series(ridge.coef_[0], var_names)\n",
        "\n",
        "ind = np.arange(len(coef_logit))\n",
        "width = 0.35 \n",
        "\n",
        "fig, ax = plt.subplots()\n",
        "rects1 = ax.bar(ind - width/2, coef_logit, width,\n",
        "                label='Normal Logit')\n",
        "rects2 = ax.bar(ind + width/2, coef_ridge, width,\n",
        "                label='Ridge with C=.5')\n",
        "\n",
        "ax.set_ylabel('Coefficient Value')\n",
        "ax.set_xlabel('Coefficient Name')\n",
        "ax.set_title('Model Coefficients for Normal Logit and Ridge with C=.5')\n",
        "ax.set_xticks(ind)\n",
        "ax.set_xticklabels(var_names, rotation=90)\n",
        "ax.legend()"
      ],
      "execution_count": 15,
      "outputs": [
        {
          "output_type": "execute_result",
          "data": {
            "text/plain": [
              "<matplotlib.legend.Legend at 0x7fcb7c4a10f0>"
            ]
          },
          "metadata": {
            "tags": []
          },
          "execution_count": 15
        },
        {
          "output_type": "display_data",
          "data": {
            "image/png": "[encoded data removed]",
            "text/plain": [
              "<Figure size 432x288 with 1 Axes>"
            ]
          },
          "metadata": {
            "tags": [],
            "needs_background": "light"
          }
        }
      ]
    },
    {
      "cell_type": "markdown",
      "metadata": {
        "id": "5K5H25QUVKhU"
      },
      "source": [
        "We can now check the AUC and the ROC of the test set to see if this model gives us desirable results. As we can see, this model gives a very comparable AUC to the other models."
      ]
    },
    {
      "cell_type": "code",
      "metadata": {
        "colab": {
          "base_uri": "https://localhost:8080/"
        },
        "id": "XcHG7nJ7zkyI",
        "outputId": "2f201d82-32b6-442b-cad1-9c86b6842e60"
      },
      "source": [
        "# Check probability of class 1 according to the model\n",
        "\n",
        "ridge_pred = ridge.predict_proba(X_test)\n",
        "\n",
        "ridge_pred[:,1] # chance of the observation being class 1, format is different from statsmodels predictions"
      ],
      "execution_count": 16,
      "outputs": [
        {
          "output_type": "execute_result",
          "data": {
            "text/plain": [
              "array([0.0749398 , 0.13465718, 0.45864032, ..., 0.20914243, 0.2806098 ,\n",
              "       0.16796918])"
            ]
          },
          "metadata": {
            "tags": []
          },
          "execution_count": 16
        }
      ]
    },
    {
      "cell_type": "code",
      "metadata": {
        "colab": {
          "base_uri": "https://localhost:8080/"
        },
        "id": "CE5rl5LKgmUF",
        "outputId": "a7f6d16c-3e76-4f83-aa40-12d769abb938"
      },
      "source": [
        "fpr_ridge, tpr_ridge, _ = metrics.roc_curve(y_test, ridge_pred[:,1]) \n",
        "auc_ridge = metrics.auc(fpr_ridge, tpr_ridge)\n",
        "\n",
        "auc_ridge"
      ],
      "execution_count": 17,
      "outputs": [
        {
          "output_type": "execute_result",
          "data": {
            "text/plain": [
              "0.7929480667179521"
            ]
          },
          "metadata": {
            "tags": []
          },
          "execution_count": 17
        }
      ]
    },
    {
      "cell_type": "code",
      "metadata": {
        "colab": {
          "base_uri": "https://localhost:8080/",
          "height": 295
        },
        "id": "kgQ3vw_xPMAf",
        "outputId": "eb481849-0c49-4f89-d591-a32f36ae6ff2"
      },
      "source": [
        "plt.plot(fpr_lasso, tpr_lasso, label=\"Lasso= %0.4f\" % auc_lasso, color='g')\n",
        "plt.plot(fpr_ridge, tpr_ridge, label=\"Ridge= %0.4f\" % auc_ridge, color='y')\n",
        "plt.plot(fpr_logit, tpr_logit, label=\"Logit= %0.4f\" % auc_logit, color='b')\n",
        "\n",
        "# Random benchmark\n",
        "plt.plot([0, 1], [0, 1], \"r--\");  \n",
        "\n",
        "# Plot configuration\n",
        "plt.title('ROC Curve of Logit, Lasso and Ridge on Test Set')\n",
        "plt.ylabel(\"True Positive Rate\")\n",
        "plt.xlabel(\"False Positive Rate\")\n",
        "plt.legend(loc=\"lower right\")\n",
        "plt.show()"
      ],
      "execution_count": 18,
      "outputs": [
        {
          "output_type": "display_data",
          "data": {
            "image/png": "[encoded data removed]",
            "text/plain": [
              "<Figure size 432x288 with 1 Axes>"
            ]
          },
          "metadata": {
            "tags": [],
            "needs_background": "light"
          }
        }
      ]
    },
    {
      "cell_type": "markdown",
      "metadata": {
        "id": "uKLs1nJHpJA-"
      },
      "source": [
        "AUC also only saw a small increase in L2 with this application. However, we will soon show that the model's predictions will be more consistently reliable with the application of regularization. Stable predcitive accuracy is important for confidence in a model."
      ]
    },
    {
      "cell_type": "markdown",
      "metadata": {
        "id": "9xmBVwmnge0q"
      },
      "source": [
        "#### Elastic Net Regression Example\n",
        "\n",
        "Elastic net is a combination of L1 and L2 regressions. We will need to specify a new argument in this function, `l1_ratio`. This tells the function how much it should apply LASSO regression in the model. We will follow the same procedure as we have already."
      ]
    },
    {
      "cell_type": "code",
      "metadata": {
        "colab": {
          "base_uri": "https://localhost:8080/"
        },
        "id": "_PdYh2dBhrj4",
        "outputId": "113c1aea-446c-404a-f5af-b753dee2bae9"
      },
      "source": [
        "elnet = LogisticRegression(penalty='elasticnet', fit_intercept=False, solver='saga', random_state=888, l1_ratio=0.5, C=.12) #C=.12 was also chosen by experimenting with which values yielded the highest test AUC at l1_ratio=0.5\n",
        "elnet.fit(X_train, y_train.ravel())"
      ],
      "execution_count": 19,
      "outputs": [
        {
          "output_type": "execute_result",
          "data": {
            "text/plain": [
              "LogisticRegression(C=0.12, class_weight=None, dual=False, fit_intercept=False,\n",
              "                   intercept_scaling=1, l1_ratio=0.5, max_iter=100,\n",
              "                   multi_class='auto', n_jobs=None, penalty='elasticnet',\n",
              "                   random_state=888, solver='saga', tol=0.0001, verbose=0,\n",
              "                   warm_start=False)"
            ]
          },
          "metadata": {
            "tags": []
          },
          "execution_count": 19
        }
      ]
    },
    {
      "cell_type": "markdown",
      "metadata": {
        "id": "OoVAu5KQuQjp"
      },
      "source": [
        "As you might expect, since elastic net is a mix of L1 and L2 regularization, the resulting coefficients can end up as 0 if the L1 ratio is high enough. However, with the mix of L2, less variables end up at 0 perfectly."
      ]
    },
    {
      "cell_type": "code",
      "metadata": {
        "colab": {
          "base_uri": "https://localhost:8080/"
        },
        "id": "haUv78FZ2U2Q",
        "outputId": "c5033000-d826-4ef3-f960-3280aa7a83b4"
      },
      "source": [
        "elnet.coef_"
      ],
      "execution_count": 20,
      "outputs": [
        {
          "output_type": "execute_result",
          "data": {
            "text/plain": [
              "array([[-0.1161056 , -0.14296954,  0.02088861, -0.11399524, -0.41730515,\n",
              "         0.32048626, -0.16627506,  0.36354336, -1.9016038 ,  0.25064385,\n",
              "         0.08241882, -0.61381275, -0.04722205,  0.        ,  0.6811319 ,\n",
              "         0.20836986,  0.90754598,  1.95990666]])"
            ]
          },
          "metadata": {
            "tags": []
          },
          "execution_count": 20
        }
      ]
    },
    {
      "cell_type": "code",
      "metadata": {
        "colab": {
          "base_uri": "https://localhost:8080/",
          "height": 397
        },
        "id": "SxKzsv3Vh0f3",
        "outputId": "07f6333e-669f-4d56-fb6e-4b47c12bca1b"
      },
      "source": [
        "coef_logit = pd.Series(logit_res.params, var_names)\n",
        "coef_elnet =  pd.Series(elnet.coef_[0], var_names)\n",
        "\n",
        "ind = np.arange(len(coef_logit))\n",
        "width = 0.35 \n",
        "\n",
        "fig, ax = plt.subplots()\n",
        "rects1 = ax.bar(ind - width/2, coef_logit, width,\n",
        "                label='Normal Logit')\n",
        "rects3 = ax.bar(ind + width/2, coef_elnet, width,\n",
        "                label='Elastic Net with C=.12')\n",
        "\n",
        "ax.set_ylabel('Coefficient Value')\n",
        "ax.set_xlabel('Coefficient Label')\n",
        "ax.set_title('Model Coefficients for Normal Logit and Elastic Net with C=.12')\n",
        "ax.set_xticks(ind)\n",
        "ax.set_xticklabels(var_names, rotation=90)\n",
        "ax.legend()"
      ],
      "execution_count": 21,
      "outputs": [
        {
          "output_type": "execute_result",
          "data": {
            "text/plain": [
              "<matplotlib.legend.Legend at 0x7fcb7c379908>"
            ]
          },
          "metadata": {
            "tags": []
          },
          "execution_count": 21
        },
        {
          "output_type": "display_data",
          "data": {
            "image/png": "[encoded data removed]",
            "text/plain": [
              "<Figure size 432x288 with 1 Axes>"
            ]
          },
          "metadata": {
            "tags": [],
            "needs_background": "light"
          }
        }
      ]
    },
    {
      "cell_type": "code",
      "metadata": {
        "colab": {
          "base_uri": "https://localhost:8080/"
        },
        "id": "QHAOOQKJ1yqN",
        "outputId": "ef15f2aa-4044-4e62-9bb4-0f909be50548"
      },
      "source": [
        "elnet_pred = elnet.predict_proba(X_test)\n",
        "\n",
        "elnet_pred[:,1] # chance of the observation being class 1"
      ],
      "execution_count": 22,
      "outputs": [
        {
          "output_type": "execute_result",
          "data": {
            "text/plain": [
              "array([0.08911704, 0.14611348, 0.45546304, ..., 0.21951837, 0.23993896,\n",
              "       0.18444257])"
            ]
          },
          "metadata": {
            "tags": []
          },
          "execution_count": 22
        }
      ]
    },
    {
      "cell_type": "code",
      "metadata": {
        "colab": {
          "base_uri": "https://localhost:8080/"
        },
        "id": "-6mZtQSR12fh",
        "outputId": "9041448e-7d18-4b2a-9fe9-3b8648d4bd8e"
      },
      "source": [
        "fpr_elnet, tpr_elnet, _ = metrics.roc_curve(y_test, elnet_pred[:,1]) \n",
        "auc_elnet = metrics.auc(fpr_elnet, tpr_elnet)\n",
        "\n",
        "auc_elnet"
      ],
      "execution_count": 23,
      "outputs": [
        {
          "output_type": "execute_result",
          "data": {
            "text/plain": [
              "0.7942830521446873"
            ]
          },
          "metadata": {
            "tags": []
          },
          "execution_count": 23
        }
      ]
    },
    {
      "cell_type": "code",
      "metadata": {
        "colab": {
          "base_uri": "https://localhost:8080/",
          "height": 295
        },
        "id": "dYISj2kxh0f3",
        "outputId": "179482ff-179c-49f9-bc42-e6c1ac2de0c0"
      },
      "source": [
        "plt.plot(fpr_lasso, tpr_lasso, label=\"Lasso= %0.4f\" % auc_lasso, color='g')\n",
        "plt.plot(fpr_elnet, tpr_elnet, label=\"Elastic Net= %0.4f\" % auc_elnet, color='m')\n",
        "plt.plot(fpr_ridge, tpr_ridge, label=\"Ridge= %0.4f\" % auc_ridge, color='y')\n",
        "plt.plot(fpr_logit, tpr_logit, label=\"Logit= %0.4f\" % auc_logit, color='b')\n",
        "\n",
        "# Random benchmark\n",
        "plt.plot([0, 1], [0, 1], \"r--\");  \n",
        "\n",
        "# Plot configuration\n",
        "plt.title('ROC Curve of Logit, Lasso and Ridge on Test Set')\n",
        "plt.ylabel(\"True Positive Rate\")\n",
        "plt.xlabel(\"False Positive Rate\")\n",
        "plt.legend(loc=\"lower right\")\n",
        "plt.show()"
      ],
      "execution_count": 24,
      "outputs": [
        {
          "output_type": "display_data",
          "data": {
            "image/png": "[encoded data removed]",
            "text/plain": [
              "<Figure size 432x288 with 1 Axes>"
            ]
          },
          "metadata": {
            "tags": [],
            "needs_background": "light"
          }
        }
      ]
    },
    {
      "cell_type": "markdown",
      "metadata": {
        "id": "LXFwCzlOyZNV"
      },
      "source": [
        "In the case of elastic net, we can see a slight increase in accuracy at a low C value for this `l1_ratio`. If we continue to tune these values, we could very likely find a more optimal combination of parameter settings for a reliably high accuracy. We will discuss this a little later in the notebook when we talk about parameter tuning."
      ]
    },
    {
      "cell_type": "markdown",
      "metadata": {
        "id": "4IoBU9wAxS8C"
      },
      "source": [
        "### Bias and variance\n",
        "The idea of regularization is to introduce bias to reduce variance. Can we confirm this works? Let's use all of our data and run a model with cross-validation and check the accuracy on each run. We can then check the variation across these accuracy values. The goal of regularization was to introduce some bias to reduce variance, therefore the variance without regularization should be higher than those scores from models with regularization.\n",
        "\n",
        "Now let's split the data into 5 sections (also called folds). We will train on 4 folds, and predict on the final fold. We will check accuracy on that prediction. We will do this process for each of the five folds. This process is called 5-fold cross validation.\n",
        "\n",
        "Let's first try cross validation with normal logistic regression:"
      ]
    },
    {
      "cell_type": "code",
      "metadata": {
        "id": "ZjgPMf2-Z7br"
      },
      "source": [
        "# create sklearn models for the regular logit and lasso\n",
        "\n",
        "logit_sk = LogisticRegression(penalty='none', fit_intercept=False, solver='saga', tol=0.01, random_state=888)\n",
        "lasso_sk  = LogisticRegression(penalty='l1', fit_intercept=False, solver='saga', tol=0.01, random_state=888, C=0.05)"
      ],
      "execution_count": 25,
      "outputs": []
    },
    {
      "cell_type": "code",
      "metadata": {
        "colab": {
          "base_uri": "https://localhost:8080/"
        },
        "id": "YlIhJKtSbdvy",
        "outputId": "cb5b2efb-92e9-4bb0-c98e-a2e30cb75fc7"
      },
      "source": [
        "# perform cross validation on logit and check that it outputs what we expect it to\n",
        "\n",
        "from sklearn.model_selection import cross_val_score\n",
        "\n",
        "logit_sk_scores = cross_val_score(logit_sk, X, y.ravel(), cv=5)\n",
        "print(\"Accuracy of each cross-validation fold:\", logit_sk_scores)\n",
        "print(\"Variance in accuracy over folds:\", np.var(logit_sk_scores))"
      ],
      "execution_count": 26,
      "outputs": [
        {
          "output_type": "stream",
          "text": [
            "Accuracy of each cross-validation fold: [0.79194631 0.80033557 0.82550336 0.8397651  0.81795302]\n",
            "Variance in accuracy over folds: 0.0002957637043376432\n"
          ],
          "name": "stdout"
        }
      ]
    },
    {
      "cell_type": "markdown",
      "metadata": {
        "id": "h4O8_To3jlNd"
      },
      "source": [
        "Now let's carry out 5 fold cross validation for every model."
      ]
    },
    {
      "cell_type": "code",
      "metadata": {
        "id": "xYSakfiCgGAa"
      },
      "source": [
        "lasso_scores = cross_val_score(lasso_sk, X, y.ravel(), cv=5)\n",
        "ridge_scores = cross_val_score(ridge, X, y.ravel(), cv=5)\n",
        "elnet_scores = cross_val_score(elnet, X, y.ravel(), cv=5)"
      ],
      "execution_count": 27,
      "outputs": []
    },
    {
      "cell_type": "code",
      "metadata": {
        "colab": {
          "base_uri": "https://localhost:8080/"
        },
        "id": "Aur3UOzNjIyq",
        "outputId": "c61dc0a5-dea9-41cb-e2be-c68e02184de8"
      },
      "source": [
        "# Let's just verify that we got what we needed from one of those scores\n",
        "\n",
        "print(\"Accuracy of each cross-validation fold:\", lasso_scores)\n",
        "print(\"Variance in accuracy over folds:\", np.var(lasso_scores))"
      ],
      "execution_count": 28,
      "outputs": [
        {
          "output_type": "stream",
          "text": [
            "Accuracy of each cross-validation fold: [0.80033557 0.8045302  0.8204698  0.83221477 0.80956376]\n",
            "Variance in accuracy over folds: 0.00013360884644835814\n"
          ],
          "name": "stdout"
        }
      ]
    },
    {
      "cell_type": "markdown",
      "metadata": {
        "id": "7Gj7aPqzjrXj"
      },
      "source": [
        "Lastly, let's test that variance has gone down and simultaneously introduce the `assert` keyword. This keyword is always followed by a condition. If the condition is `False`, `assert` will throw an error. Let's test if the variance of the `logit_sk_scores` is higher than the variance of all other regularized models' cross validation scores."
      ]
    },
    {
      "cell_type": "code",
      "metadata": {
        "id": "EEusIRZngssQ"
      },
      "source": [
        "assert np.var(logit_sk_scores) > np.var(lasso_scores)\n",
        "assert np.var(logit_sk_scores) > np.var(ridge_scores)\n",
        "assert np.var(logit_sk_scores) > np.var(elnet_scores)"
      ],
      "execution_count": 29,
      "outputs": []
    },
    {
      "cell_type": "code",
      "metadata": {
        "colab": {
          "base_uri": "https://localhost:8080/",
          "height": 282
        },
        "id": "73dsumK8kaEd",
        "outputId": "80bc7c2b-5a92-4bba-e5ef-15a2a7459769"
      },
      "source": [
        "variances = [np.var(logit_sk_scores), np.var(lasso_scores), np.var(ridge_scores), np.var(elnet_scores)]\n",
        "labels = [\"Normal Logit\", \"Lasso\", \"Ridge\", \"Elastic Net\"]\n",
        "plt.bar(labels, variances)"
      ],
      "execution_count": 30,
      "outputs": [
        {
          "output_type": "execute_result",
          "data": {
            "text/plain": [
              "<BarContainer object of 4 artists>"
            ]
          },
          "metadata": {
            "tags": []
          },
          "execution_count": 30
        },
        {
          "output_type": "display_data",
          "data": {
            "image/png": "[encoded data removed]",
            "text/plain": [
              "<Figure size 432x288 with 1 Axes>"
            ]
          },
          "metadata": {
            "tags": [],
            "needs_background": "light"
          }
        }
      ]
    },
    {
      "cell_type": "markdown",
      "metadata": {
        "id": "NReMZ4HskJZA"
      },
      "source": [
        "Look at that! The variance in performance of all models with regularization is lower than the normal logit model. This shows us that the goal of this process was achieved. Our simpler models vary less in their accuracy. Now we can better trust that its prediction accuracy won't fluctuate with new data from the same population with regularization."
      ]
    },
    {
      "cell_type": "markdown",
      "metadata": {
        "id": "2iFEt1vuxS8C"
      },
      "source": [
        "### Regularization path\n",
        "We have seen above that lasso performs feature selection by setting coefficients to zero. A nice feature of regularized linear models is that we can compute the **full regularization path**. This means we can examine the examine the magnitude of coefficient values across different settings of the penalty parameter. The larger the penalty the more emphasize is put on shrinking coefficients, and the less emphasize is put on minimizing the loss. The following codes, which are from the set of [sklearn examples](https://scikit-learn.org/stable/auto_examples/linear_model/plot_lasso_coordinate_descent_path.html#sphx-glr-auto-examples-linear-model-plot-lasso-coordinate-descent-path-py), showcase how to produce a graph of the regularization path. This analysis is useful to inform our choice of penalty values for grid-search. However, for larger data sets, computing the regularization path is a costly exercise. If the goal is to learn which features are most valuable, there are cheaper to establish feature importance. We will learn about these in [Tutorial 9](https://github.com/Humboldt-WI/bads/blob/master/tutorials/9_nb_feature_engineering.ipynb). For now, however, let's see how we can calculate the full regularization path using `sklearn` and re-produce the nice picture from one of the lecture slides.\n"
      ]
    },
    {
      "cell_type": "code",
      "metadata": {
        "id": "_UU72F4GxS8D"
      },
      "source": [
        "from sklearn.linear_model import lasso_path\n",
        "alphas_lasso, coefs_lasso, _ = lasso_path(X, y, fit_intercept=True)"
      ],
      "execution_count": 31,
      "outputs": []
    },
    {
      "cell_type": "code",
      "metadata": {
        "id": "1xU6m1smxS8H",
        "colab": {
          "base_uri": "https://localhost:8080/",
          "height": 513
        },
        "outputId": "f9887ae0-7df6-4160-8e0b-fd488cf9b3bc"
      },
      "source": [
        "colors = ['gray', 'rosybrown', 'r', 'gold', 'moccasin', 'chocolate', 'darkkhaki', 'tan', 'y', 'darkgreen',\n",
        "          'chartreuse', 'mediumspringgreen', 'deepskyblue', 'navy', 'royalblue', 'm', 'palevioletred', 'fuchsia']\n",
        "\n",
        "plt.figure(figsize=[10,8])\n",
        "\n",
        "neg_log_alphas_lasso = -np.log10(alphas_lasso)\n",
        "\n",
        "for coef_l, c in zip(coefs_lasso[0], colors):\n",
        "    l1 = plt.plot(neg_log_alphas_lasso, coef_l, c=c)\n",
        "\n",
        "plt.xlabel('-log(alpha)')\n",
        "plt.ylabel('Coefficients')\n",
        "plt.title('Lasso Regularization Paths')\n",
        "plt.legend(var_names)\n",
        "plt.show()"
      ],
      "execution_count": 32,
      "outputs": [
        {
          "output_type": "display_data",
          "data": {
            "image/png": "[encoded data removed]",
            "text/plain": [
              "<Figure size 720x576 with 1 Axes>"
            ]
          },
          "metadata": {
            "tags": [],
            "needs_background": "light"
          }
        }
      ]
    },
    {
      "cell_type": "markdown",
      "metadata": {
        "id": "CEmPMRGOxS8K"
      },
      "source": [
        "# Model selection\n",
        "So, we are being given more and more evidence that hyperparameters have a big effect on model performance (e.g. decision tree depth, l1 ratio...). Not only that, we have many of them to tune. How can we ensure we choose the best ones? Let's go back to the example of regularization see a few ways to tackle this.\n"
      ]
    },
    {
      "cell_type": "markdown",
      "metadata": {
        "id": "8QNLtHNCxS8J"
      },
      "source": [
        "## Overfitting\n",
        "\n",
        "Ultimately, regularization is a way to address one of the key problems in predictive modeling: overfitting. While linear regression models are less prone to overfitting as they drastically simplify relationships, it can still occur.\n",
        "\n",
        "To see a really good example of a model that can easily be overfit, we can take a look at decision trees. When trees are grown to deep, they start to internalize idiosyncacies of the specific data that they were fed. This means that they assume that all little random variations would also occur in new sets of data that they come across instead of generalizing trends.\n",
        "\n",
        "Let's take a look at what this looks like by generating a tracking the accuracy of a decision tree on training and test data as we increase the depth of the tree. We will do the same for AUC. Before commencing, what do you how do you think the two metrics will trend as the tree becomes deeper?"
      ]
    },
    {
      "cell_type": "code",
      "metadata": {
        "id": "-cP2Z3xsHg6h"
      },
      "source": [
        "from sklearn import tree\n",
        "\n",
        "train_auc_list = []\n",
        "test_auc_list = []\n",
        "\n",
        "for n in range(1,30):\n",
        "  # Fit tree to training data\n",
        "  dt = tree.DecisionTreeClassifier(max_depth=n, random_state=888)\n",
        "  dt = dt.fit(X_train, y_train)\n",
        "  \n",
        "  # Predictions and metrics for training data\n",
        "  dt_train_pred = dt.predict(X_train)\n",
        "  auc = metrics.roc_auc_score(y_train, dt_train_pred)\n",
        "  train_auc_list.append(auc)\n",
        "  \n",
        "  # Predictions and metrics for test data\n",
        "  dt_test_pred = dt.predict(X_test)\n",
        "  auc = metrics.roc_auc_score(y_test, dt_test_pred)\n",
        "  test_auc_list.append(auc)"
      ],
      "execution_count": 33,
      "outputs": []
    },
    {
      "cell_type": "markdown",
      "metadata": {
        "id": "u0jplaUJ0QGu"
      },
      "source": [
        "It's easy to imagine: as the tree gets deeper, it is able to more correctly classify examples which it is trained on. It begins creating nodes which are very specific to the batch of data it received. So in the end, many more observations end up on leaf nodes which correctly classify them.\n",
        "\n",
        "**However**, if we introduce new data, many of these later nodes may be simply too specific for new data. They only occurred in the batch on which the algorithm was trained. Therefore, as the tree gets deeper, eventually we start to see a decline in AUC for test data."
      ]
    },
    {
      "cell_type": "code",
      "metadata": {
        "id": "LWDhQ-raLUHH",
        "colab": {
          "base_uri": "https://localhost:8080/",
          "height": 282
        },
        "outputId": "dd87367b-8c1c-44ef-9f71-2d3b8852b654"
      },
      "source": [
        "plt.plot(range(1,30), train_auc_list, c='b', label=\"train\")\n",
        "plt.plot(range(1,30), test_auc_list, c='r', label=\"test\")\n",
        "plt.legend()"
      ],
      "execution_count": 34,
      "outputs": [
        {
          "output_type": "execute_result",
          "data": {
            "text/plain": [
              "<matplotlib.legend.Legend at 0x7fcb7c2c2e80>"
            ]
          },
          "metadata": {
            "tags": []
          },
          "execution_count": 34
        },
        {
          "output_type": "display_data",
          "data": {
            "image/png": "[encoded data removed]",
            "text/plain": [
              "<Figure size 432x288 with 1 Axes>"
            ]
          },
          "metadata": {
            "tags": [],
            "needs_background": "light"
          }
        }
      ]
    },
    {
      "cell_type": "markdown",
      "metadata": {
        "id": "g5wWCko31Cyl"
      },
      "source": [
        "Since we are concerned most about predictive accuracy on new data, the sweet spot is likely the maximum of the test data AUC, accuracy or whatever metric that you consider to be most important. You'll have to do more investigating to make sure the model meets your situation. However, internalizing noise from a subset of your population will hamper predictive ability."
      ]
    },
    {
      "cell_type": "markdown",
      "metadata": {
        "id": "zatB0oACoGvo"
      },
      "source": [
        "## Grid search\n",
        "Lecture introduced *grid-search* as a versatile approach toward model selection aka hyperparameter tuning. Let's revisit the approach. Remember that we created a range of our possible settings for the parameter `depth` using the `range()` function. This created an array of numbers from 1 to 30. We then calculated the AUC for the training and test data for each value. Let's take a look at the test AUC values:"
      ]
    },
    {
      "cell_type": "code",
      "metadata": {
        "colab": {
          "base_uri": "https://localhost:8080/"
        },
        "id": "3M7sbol08xzK",
        "outputId": "8111f5de-255a-4c02-ec71-3909d205e6eb"
      },
      "source": [
        "test_auc_list"
      ],
      "execution_count": 35,
      "outputs": [
        {
          "output_type": "execute_result",
          "data": {
            "text/plain": [
              "[0.6106853642924674,\n",
              " 0.5872105655679463,\n",
              " 0.8050813616851353,\n",
              " 0.7868153550728467,\n",
              " 0.8074860971642326,\n",
              " 0.782616610585534,\n",
              " 0.7510966650811267,\n",
              " 0.7850653888389738,\n",
              " 0.7479461386231641,\n",
              " 0.7777219902636107,\n",
              " 0.7763273024094334,\n",
              " 0.7539242111939115,\n",
              " 0.764773414606933,\n",
              " 0.761634632888795,\n",
              " 0.7563817980022198,\n",
              " 0.7714444268273347,\n",
              " 0.7647939679016261,\n",
              " 0.7577852944112656,\n",
              " 0.769700332963374,\n",
              " 0.7630469378527093,\n",
              " 0.7560470729172172,\n",
              " 0.7623422534632301,\n",
              " 0.7623422534632301,\n",
              " 0.7623422534632301,\n",
              " 0.7623422534632301,\n",
              " 0.7623422534632301,\n",
              " 0.7623422534632301,\n",
              " 0.7623422534632301,\n",
              " 0.7623422534632301]"
            ]
          },
          "metadata": {
            "tags": []
          },
          "execution_count": 35
        }
      ]
    },
    {
      "cell_type": "markdown",
      "metadata": {
        "id": "TvF273L6iqgc"
      },
      "source": [
        "Let's choose the index of the highest value in this list using `np.argmax()` and converting the list into an NumPy array. We will call this `optimal_depth`. We can now use this value to find the optimal depth of the tree."
      ]
    },
    {
      "cell_type": "code",
      "metadata": {
        "colab": {
          "base_uri": "https://localhost:8080/"
        },
        "id": "UTAMcQw96xWM",
        "outputId": "cacab2d7-7245-47c2-9d9f-cf7f94cd5545"
      },
      "source": [
        "optimal_depth = np.argmax(np.array(test_auc_list))\n",
        "dt_opt = tree.DecisionTreeClassifier(max_depth=optimal_depth+1, random_state=888)\n",
        "dt_opt = dt_opt.fit(X_train, y_train)\n",
        "dt_opt_test_pred = dt_opt.predict(X_test)\n",
        "auc_dt_opt = metrics.roc_auc_score(y_test, dt_opt_test_pred)\n",
        "auc_dt_opt"
      ],
      "execution_count": 36,
      "outputs": [
        {
          "output_type": "execute_result",
          "data": {
            "text/plain": [
              "0.8074860971642326"
            ]
          },
          "metadata": {
            "tags": []
          },
          "execution_count": 36
        }
      ]
    },
    {
      "cell_type": "markdown",
      "metadata": {
        "id": "18JUj68ti4RR"
      },
      "source": [
        "Grid search is the idea of iterating through any list of possible hyperparameter values and selecting the values which yield the best result for your model.\n",
        "\n",
        "Very often, you will see data getting partitioned into 3 sets: train, validation and test set. The training set will be used to fit the model. We will then check the model's fit using the validation set as we tune parameters. The test set will now only appear in the final step to verify the model's performance on unseen data."
      ]
    },
    {
      "cell_type": "markdown",
      "metadata": {
        "id": "aQ1EGY8uoIqs"
      },
      "source": [
        "## Hyperparameter tuning in sklearn\n",
        "\n",
        "We can also delegate the task of hyperparameter tuning to sklearn which has some great functions to assist in this matter. Let's take a quick look at how we can choose the best regularizer using sklearn functions.\n",
        "\n",
        "Our first task is to create a list of dictionaries (or just one dictionary) in which you will have `'parameter_name': list_or_array_of_values` . The algorithm will test all combinations of all possibilities (per dictionary) and return the parameters which yielded the highest accuracy.\n",
        "\n",
        "Note that this function uses cross validation. Like before, training data will be split into N folds. N-1 folds will be used to train, while the final fold will act like an validation set and be used for evaluation. Afterwards, we can use a test set to verify the model's performance.\n",
        "\n",
        "It is common to do this process for complex models such as RandomForest where there are many hyperparameters which can be tune. "
      ]
    },
    {
      "cell_type": "code",
      "metadata": {
        "colab": {
          "base_uri": "https://localhost:8080/"
        },
        "id": "zzZS66Uq99P_",
        "outputId": "35505628-308f-435f-d42b-a4eba26ce593"
      },
      "source": [
        "from sklearn.ensemble import RandomForestClassifier\n",
        "from sklearn.model_selection import GridSearchCV\n",
        "\n",
        "tuned_parameters = [{'n_estimators': [200, 400],\n",
        "                     'criterion': [\"gini\", \"entropy\"]}] # you could also take min_samples_split, max_features...\n",
        "\n",
        "grid_search = GridSearchCV(\n",
        "        RandomForestClassifier(random_state=888),\n",
        "        param_grid=tuned_parameters\n",
        "        )\n",
        "grid_search.fit(X_train, y_train.ravel())"
      ],
      "execution_count": 42,
      "outputs": [
        {
          "output_type": "execute_result",
          "data": {
            "text/plain": [
              "GridSearchCV(cv=None, error_score=nan,\n",
              "             estimator=RandomForestClassifier(bootstrap=True, ccp_alpha=0.0,\n",
              "                                              class_weight=None,\n",
              "                                              criterion='gini', max_depth=None,\n",
              "                                              max_features='auto',\n",
              "                                              max_leaf_nodes=None,\n",
              "                                              max_samples=None,\n",
              "                                              min_impurity_decrease=0.0,\n",
              "                                              min_impurity_split=None,\n",
              "                                              min_samples_leaf=1,\n",
              "                                              min_samples_split=2,\n",
              "                                              min_weight_fraction_leaf=0.0,\n",
              "                                              n_estimators=100, n_jobs=None,\n",
              "                                              oob_score=False, random_state=888,\n",
              "                                              verbose=0, warm_start=False),\n",
              "             iid='deprecated', n_jobs=None,\n",
              "             param_grid=[{'criterion': ['gini', 'entropy'],\n",
              "                          'n_estimators': [200, 400]}],\n",
              "             pre_dispatch='2*n_jobs', refit=True, return_train_score=False,\n",
              "             scoring=None, verbose=0)"
            ]
          },
          "metadata": {
            "tags": []
          },
          "execution_count": 42
        }
      ]
    },
    {
      "cell_type": "markdown",
      "metadata": {
        "id": "VeFXMJ2DknCV"
      },
      "source": [
        "Once the grid search is done, we can display the best parameters that were found. If the possible values were a continuous variable and the algorithm finds that an extreme in the range was optimal, it may be worthwhile to further extend the range to see if even high values can give you a better score. This is of couse dependent on whether that hyperparameter value is even feasible."
      ]
    },
    {
      "cell_type": "code",
      "metadata": {
        "colab": {
          "base_uri": "https://localhost:8080/"
        },
        "id": "1BM2BdBm__4F",
        "outputId": "fc06e37a-59b3-4408-966d-d9a825a4effe"
      },
      "source": [
        "# Display the best parameters\n",
        "\n",
        "print(grid_search.best_params_)"
      ],
      "execution_count": 43,
      "outputs": [
        {
          "output_type": "stream",
          "text": [
            "{'criterion': 'gini', 'n_estimators': 400}\n"
          ],
          "name": "stdout"
        }
      ]
    },
    {
      "cell_type": "markdown",
      "metadata": {
        "id": "4Eck4aOEk5GQ"
      },
      "source": [
        "We can also now use these parameters to predict on the test set and check its accuracy."
      ]
    },
    {
      "cell_type": "code",
      "metadata": {
        "colab": {
          "base_uri": "https://localhost:8080/"
        },
        "id": "q3Am1UqzakOS",
        "outputId": "b76ad153-3935-48a7-8da2-56b32137e0a2"
      },
      "source": [
        "# Predict using the best parameters\n",
        "\n",
        "grid_search_pred = grid_search.predict_proba(X_test)\n",
        "\n",
        "grid_search_pred"
      ],
      "execution_count": 44,
      "outputs": [
        {
          "output_type": "execute_result",
          "data": {
            "text/plain": [
              "array([[0.9875, 0.0125],\n",
              "       [0.555 , 0.445 ],\n",
              "       [0.5875, 0.4125],\n",
              "       ...,\n",
              "       [0.64  , 0.36  ],\n",
              "       [0.8375, 0.1625],\n",
              "       [0.955 , 0.045 ]])"
            ]
          },
          "metadata": {
            "tags": []
          },
          "execution_count": 44
        }
      ]
    },
    {
      "cell_type": "code",
      "metadata": {
        "colab": {
          "base_uri": "https://localhost:8080/"
        },
        "id": "hMogs01HaYpZ",
        "outputId": "e06836ee-e779-446b-d246-57744339c54b"
      },
      "source": [
        "fpr_grid, tpr_grid, _ = metrics.roc_curve(y_test, grid_search_pred[:,1]) \n",
        "auc_grid = metrics.auc(fpr_grid, tpr_grid)\n",
        "\n",
        "auc_grid"
      ],
      "execution_count": 45,
      "outputs": [
        {
          "output_type": "execute_result",
          "data": {
            "text/plain": [
              "0.9713046644234214"
            ]
          },
          "metadata": {
            "tags": []
          },
          "execution_count": 45
        }
      ]
    },
    {
      "cell_type": "code",
      "metadata": {
        "colab": {
          "base_uri": "https://localhost:8080/",
          "height": 295
        },
        "id": "Fzt52q-dbEDQ",
        "outputId": "c75573e6-0db2-4a92-9efe-a59ddc38a11a"
      },
      "source": [
        "plt.plot(fpr_grid, tpr_grid, label=\"Grid Search RF= %0.4f\" % auc_grid, color='orange')\n",
        "plt.plot(fpr_elnet, tpr_elnet, label=\"Elastic Net= %0.4f\" % auc_elnet, color='m')\n",
        "plt.plot(fpr_ridge, tpr_ridge, label=\"Ridge= %0.4f\" % auc_ridge, color='y')\n",
        "plt.plot(fpr_logit, tpr_logit, label=\"Logit= %0.4f\" % auc_logit, color='b')\n",
        "plt.plot(fpr_lasso, tpr_lasso, label=\"Lasso= %0.4f\" % auc_lasso, color='g')\n",
        "\n",
        "# Random benchmark\n",
        "plt.plot([0, 1], [0, 1], \"r--\");  \n",
        "\n",
        "# Plot configuration\n",
        "plt.title('ROC Curve of Previous Models and RF on Test Set')\n",
        "plt.ylabel(\"True Positive Rate\")\n",
        "plt.xlabel(\"False Positive Rate\")\n",
        "plt.legend(loc=\"lower right\")\n",
        "plt.show()"
      ],
      "execution_count": 46,
      "outputs": [
        {
          "output_type": "display_data",
          "data": {
            "image/png": "[encoded data removed]",
            "text/plain": [
              "<Figure size 432x288 with 1 Axes>"
            ]
          },
          "metadata": {
            "tags": [],
            "needs_background": "light"
          }
        }
      ]
    },
    {
      "cell_type": "markdown",
      "metadata": {
        "id": "puM-POdWlRmY"
      },
      "source": [
        "We see that the performance of the RandomForest with Grid Search was very successful with its AUC. Experimenting with different models and methods to maximize their performance is an important art in machine learning. It can make all the different in the predictions that your model will produce. "
      ]
    },
    {
      "cell_type": "markdown",
      "metadata": {
        "id": "u8OPtBiOtzvx"
      },
      "source": [
        "# Conclusion\n",
        "As we have seen, we can tune performance to get the most out of our models. By applying regularization, we add a little bias to our model. Adding this bias means that the variance in the model's predictive power on new observations is less great. This means that our model predicts with the same level of accuracy more often. This is done by penalizing high coefficient values with an alteration to the minimization problem.\n",
        "\n",
        "We also discussed the idea of hyperparameter tuning. There are often many choices when it comes to our model's settings like depth of a DT, the penalization strength of regularization or the number of trees in a RF. Choosing the value for these hyperparameters can be tricky, but this task is made easier through functions like `GridSearchCV`. It is important to optimize choices with these values as they can be very helpful for model performance.\n",
        "\n",
        "___\n",
        "\n",
        "If you'd like to use `statsmodels` library which has some awesome summary of the regression results, you can use the following functions:\n",
        "\n",
        "| `statsmodels` | Possible Function |\n",
        "| --- | --- |\n",
        "| Generate logit | `sm.Logit(y, X, )` |\n",
        "| Fit regular logit | `model_name.fit()` |\n",
        "| Fit logit with L1 | `model_name.fit_regularized(alpha=...)` |\n",
        "| Predict probabilities | `fitted_model_name.predict(X)` |\n",
        "| Model moefficients | fitted_model_name.params |\n",
        "\n",
        "Note that you must assign the fitted model to a new variable if you want to continue using it later. This is not the case for `sklearn` where the model's coefficients become an attribute.\n",
        "\n",
        "This is also specific to logistic regression. If you would like another type of regression, it is worthwhile to check out the documentation of that regression to see what its options are.\n",
        "___\n",
        "\n",
        "`sklearn` has a bit more functions to play with. If you'd like to play with more regularization techniques, this is your one-stop-shop.\n",
        "\n",
        "| `sklearn` | Possible Function |\n",
        "| --- | --- |\n",
        "| Generate logit | `LogisticRegression()` |\n",
        "| Generate logit with L1 | `LogisticRegression(penalty='l1', solver='liblinear')` |\n",
        "| Generate logit with L2 | `LogisticRegression(penalty='l2')` |\n",
        "| Generate logit with elastic net | `LogisticRegression(penalty='elastic net', solver='saga')` |\n",
        "| Fit model | `model_name.fit(X,y)` | \n",
        "| Predict probabilities | `model_name.predict_proba(X)` |\n",
        "| Predict class | `model_name.predict(X)` |\n",
        "| Model coefficients | `model_name.coef_` | \n",
        "\n",
        "\n",
        "\n",
        "Read the notes for this LogisticRegression carefully as more solvers are possible but not compatible with every form of regularization.\n",
        "\n",
        "___\n",
        "\n",
        "If you would like to implement grid search:\n",
        "\n",
        "| Grid Search | Code |\n",
        "| --- | --- |\n",
        "| Generate grid search with CV | `GridSearchCV(model, param_grid=...)` |\n",
        "| Fit grid search | `model_name.fit(X, y)` |\n",
        "| Optimal parameters | `model_name.best_params_` |\n",
        "| Predict probabilities | `model_name.predict_proba(X)` |\n",
        "\n",
        "___\n",
        "\n",
        "Other functions that we have introduced:\n",
        "\n",
        "| Other Functions | Code |\n",
        "| --- | --- |\n",
        "| Split sample | `train_test_split()` |\n",
        "| Cross-validation scores | `cross_val_score(model_name, X, y, cv=...)` |\n",
        "| Lasso path | `lasso_path(X, y, fit_intercept=True)` |\n",
        "\n",
        "Happy coding!"
      ]
    }
  ]
}