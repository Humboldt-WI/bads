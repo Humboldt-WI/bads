{
 "cells": [
  {
   "cell_type": "code",
   "execution_count": 1,
   "metadata": {
    "id": "4dugEOoomMge"
   },
   "outputs": [],
   "source": [
    "def plot_get_limits(D, delta=0.25):\n",
    "    x1_lim = (np.min(D[:,0])-delta, np.max(D[:,0])+delta)\n",
    "    x2_lim = (np.min(D[:,1])-delta, np.max(D[:,1])+delta)\n",
    "    \n",
    "    return (x1_lim, x2_lim)\n"
   ]
  },
  {
   "cell_type": "code",
   "execution_count": 2,
   "metadata": {
    "id": "LeF3exoRmMge"
   },
   "outputs": [],
   "source": [
    "def plot_init_axis(ax, title=None):\n",
    "    \n",
    "    if not title is None:\n",
    "        ax.set_title(title, fontsize=16)\n",
    "    ax.set_xlim(xy_limits[0][0], xy_limits[0][1])\n",
    "    ax.set_ylim(xy_limits[1][0], xy_limits[1][1])\n",
    "    ax.set_ylabel('$x_2$', fontsize=14)\n",
    "    ax.set_xlabel('$x_1$', fontsize=14)"
   ]
  },
  {
   "cell_type": "code",
   "execution_count": 3,
   "metadata": {
    "id": "DIqvSRsjmMgf"
   },
   "outputs": [],
   "source": [
    "def plot_reg_line(ax, beta, bias, lw=5):\n",
    "    # Plotting data\n",
    "    x1 = np.linspace(xy_limits[0][0], xy_limits[0][1]) \n",
    "    x2 = - beta[0] / beta[1] * x1 - bias/beta[1]\n",
    "    # Clipping\n",
    "    ix = [i>xy_limits[1][0] and i < xy_limits[1][1] for i in x2]\n",
    "    #ix = [i>x2_lim[0] and i < x2_lim[1] for i in x2]\n",
    "    reg_line = np.c_[x1[ix], x2[ix]]\n",
    "    # Plotting\n",
    "    ax.plot(reg_line[:,0], reg_line[:,1], linewidth=lw, c='#FFFF00')\n",
    "    return reg_line"
   ]
  },
  {
   "cell_type": "code",
   "execution_count": 4,
   "metadata": {
    "id": "wMlweJ3imMgg"
   },
   "outputs": [],
   "source": [
    "def plot_data(ax, X, y, alpha=1, X_test=None, y_test=None):\n",
    "    \"\"\" 2D plot of classification task\"\"\"\n",
    "   \n",
    "    # Plot the training & test points\n",
    "    ax.scatter(X[:, 0], X[:, 1], c=y, cmap=class_coloring, edgecolors='k', marker='o', alpha=alpha)\n",
    "    #ax.set_xlabel(\"$x_1$\")\n",
    "    #ax.set_ylabel(\"$x_2$\")\n",
    "    if X_test is not None and y_test is not None:\n",
    "        ax.scatter(X_test[:, 0], X_test[:, 1], c=y_test, cmap=class_coloring, edgecolors='k', marker='*', s=150, alpha=alpha)"
   ]
  },
  {
   "cell_type": "code",
   "execution_count": 5,
   "metadata": {
    "id": "Hlm4Ze5amMgh"
   },
   "outputs": [],
   "source": [
    "def plot_synthetic(ax, X, y=None, weight=None, add_bar=False):\n",
    "    \"\"\" 2D plot of classification task\"\"\"\n",
    "    \n",
    "    a = 0.7\n",
    "\n",
    "    if y is None:\n",
    "        ax.scatter(X[:,0], X[:,1], marker='^', c='k', s=weight, alpha=a)\n",
    "    else:\n",
    "        ax.scatter(X[:, 0], X[:, 1], c=y, cmap=class_coloring, edgecolors='k', marker='^', s=weight, alpha=a)\n",
    "\n",
    "    if add_bar:\n",
    "        ax_c = plt.colorbar(plt.cm.ScalarMappable(cmap=class_coloring))\n",
    "        ax_c.set_label(\"BB-Modell estimate of $p(y=1|X)$\")\n",
    "        ax_c.set_ticks([0, .25, .5, .75, 1])\n",
    "        "
   ]
  },
  {
   "cell_type": "code",
   "execution_count": 6,
   "metadata": {
    "id": "6t1ifXI-mMgi"
   },
   "outputs": [],
   "source": [
    "def mesh_grid_orig(model, res = 0.01, mode='classification'):\n",
    "    res = 0.01 # step size in the mesh\n",
    "   \n",
    "    xx, yy = np.meshgrid( np.arange(xy_limits[0][0], xy_limits[0][1], res),\n",
    "                          np.arange(xy_limits[1][0], xy_limits[1][1], res)\n",
    "                        )   \n",
    "    if mode == 'classification':\n",
    "        y_hat = clf.predict_proba(np.c_[xx.ravel(), yy.ravel()])[:, 1]\n",
    "    elif mode =='regression':\n",
    "        y_hat = clf.predict(np.c_[xx.ravel(), yy.ravel()])\n",
    "    else:\n",
    "        raise(BaseException('The mode {} is not supported.'.format(mode)))\n",
    "    y_hat = y_hat.reshape(xx.shape)\n",
    "    return (xx, yy, y_hat)"
   ]
  },
  {
   "cell_type": "code",
   "execution_count": 7,
   "metadata": {
    "id": "Z9Q-FXCtmMgj"
   },
   "outputs": [],
   "source": [
    "def mesh_grid_data(res = 0.01):\n",
    "    \n",
    "    xx, yy = np.meshgrid( np.arange(xy_limits[0][0], xy_limits[0][1], res),\n",
    "                          np.arange(xy_limits[1][0], xy_limits[1][1], res)\n",
    "                        )   \n",
    "    \n",
    "    return (xx, yy)"
   ]
  },
  {
   "cell_type": "code",
   "execution_count": 8,
   "metadata": {
    "id": "EHBO981smMgj"
   },
   "outputs": [],
   "source": [
    "def mesh_grid_prediction(model, res = 0.01, mode='classification'):\n",
    "   \n",
    "    data = mesh_grid_data(res)\n",
    "    \n",
    "    if mode == 'classification':\n",
    "        y_hat = clf.predict_proba(np.c_[data[0].ravel(), data[1].ravel()])[:, 1]\n",
    "    elif mode =='regression':\n",
    "        y_hat = clf.predict(np.c_[data[0].ravel(), data[1].ravel()])\n",
    "    else:\n",
    "        raise(BaseException('The mode {} is not supported.'.format(mode)))\n",
    "    y_hat = y_hat.reshape(data[0].shape)\n",
    "    return (data[0], data[1], y_hat)"
   ]
  },
  {
   "cell_type": "code",
   "execution_count": 9,
   "metadata": {
    "id": "QyapitH4mMgk"
   },
   "outputs": [],
   "source": [
    "def plot_decision_surface(ax, clf, data=None, add_bar=False, binarize=False):\n",
    "    \n",
    "    if data is None:\n",
    "        x1, x2, y_hat = mesh_grid_prediction(clf)\n",
    "    else:\n",
    "        (x1, x2, y_hat) = data\n",
    "        \n",
    "    if binarize:\n",
    "            y_hat = y_hat >= 0.5\n",
    "            \n",
    "    contour = ax.contourf(x1, x2, y_hat, cmap=class_coloring, alpha=.5) # , vmin=0, vmax=1\n",
    "    \n",
    "    if add_bar:\n",
    "        ax_c = plt.gcf().colorbar(contour)\n",
    "        ax_c.set_label(\"$P(y=1|X)$\")\n",
    "        ax_c.set_ticks([0, .25, .5, .75, 1])\n",
    "        "
   ]
  },
  {
   "cell_type": "code",
   "execution_count": 10,
   "metadata": {
    "id": "A3BeRO77mMgl"
   },
   "outputs": [],
   "source": [
    "def plot_instance(ax, xi=None):\n",
    "    \"\"\" Plot of the observation to be explained\"\"\"\n",
    "    if xi is None:\n",
    "        xi = Xi\n",
    "        \n",
    "    ax.scatter(xi[0,0], xi[0,1], marker='o', c='#FFFF00', edgecolors='k' ,s=250)           "
   ]
  },
  {
   "cell_type": "code",
   "execution_count": 11,
   "metadata": {
    "id": "tDLahUr2mMgl"
   },
   "outputs": [],
   "source": [
    "def plot_wb_model_grid(ax, wb_model, resolution=0.2):\n",
    "    data = mesh_grid_data(res=resolution)\n",
    "    data = np.c_[data[0].ravel(), data[1].ravel()]\n",
    "    y_hat = wb_model.predict(data)\n",
    "\n",
    "    ax.scatter(data[y_hat>0,0], data[y_hat>0,1], c='r', marker='x')\n",
    "    ax.scatter(data[y_hat<0,0], data[y_hat<0,1], c='b', marker='x')"
   ]
  },
  {
   "cell_type": "code",
   "execution_count": 12,
   "metadata": {
    "id": "wC85OIsYmMgl"
   },
   "outputs": [],
   "source": [
    "def plot_explanation(ax, wb_model):\n",
    "    dim = len(wb_model.coef_)\n",
    "    labels = ('x1', 'x2')\n",
    "    barcolor = np.repeat('r', dim)\n",
    "    for i, w in enumerate(wb_model.coef_):\n",
    "        if w < 0:\n",
    "            barcolor[i]='b'\n",
    "\n",
    "    y_pos = np.arange(dim)        \n",
    "    ax.barh(y_pos, wb_model.coef_, align='center', color=barcolor)\n",
    "    ax.set_xlabel('Coefficient of the interpretable model', fontsize=14)\n",
    "    ax.set_yticks(y_pos)\n",
    "    ax.set_yticklabels(labels)"
   ]
  }
 ],
 "metadata": {
  "kernelspec": {
   "display_name": "PyCharm (adams)",
   "language": "python",
   "name": "pycharm-feb95198"
  },
  "language_info": {
   "codemirror_mode": {
    "name": "ipython",
    "version": 3
   },
   "file_extension": ".py",
   "mimetype": "text/x-python",
   "name": "python",
   "nbconvert_exporter": "python",
   "pygments_lexer": "ipython3",
   "version": "3.7.6"
  }
 },
 "nbformat": 4,
 "nbformat_minor": 4
}
