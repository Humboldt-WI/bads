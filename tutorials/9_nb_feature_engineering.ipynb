{
  "nbformat": 4,
  "nbformat_minor": 0,
  "metadata": {
    "kernelspec": {
      "display_name": "PyCharm (adams)",
      "language": "python",
      "name": "pycharm-feb95198"
    },
    "language_info": {
      "codemirror_mode": {
        "name": "ipython",
        "version": 3
      },
      "file_extension": ".py",
      "mimetype": "text/x-python",
      "name": "python",
      "nbconvert_exporter": "python",
      "pygments_lexer": "ipython3",
      "version": "3.7.6"
    },
    "colab": {
      "name": "9_nb_feature_engineering.ipynb",
      "provenance": [],
      "collapsed_sections": [
        "e3OU5PBOMymG",
        "KjM6lppjM1Yu",
        "OBj1x_jqM4sr",
        "l6ESJ7jCiOUa",
        "i8nrsT1JiTSF",
        "fZeIjLqfiV_c",
        "CJrG1rRRiYQP"
      ]
    }
  },
  "cells": [
    {
      "cell_type": "markdown",
      "metadata": {
        "id": "JW8q2Hxl3thA"
      },
      "source": [
        "[![Open In Colab](https://colab.research.google.com/assets/colab-badge.svg)](https://colab.research.google.com/github/Humboldt-WI/bads/blob/master/tutorials/9_nb_feature_engineering.ipynb) "
      ]
    },
    {
      "cell_type": "markdown",
      "metadata": {
        "id": "_55XGJ5Krxox"
      },
      "source": [
        "# Chapter 9 - Feature engineering and selection\n",
        "\n",
        "So, we've gone through some basic feature pre-processing but that was just the tip of the iceberg. Now we'll introduce feature engineering which is the art of creating meaningful features from your data which is initially processed. You will likely have to use a combination of domain and statistical knowledge to get the most out of your variables. This includes techniques such as scaling and [transforming](https://machinelearningmastery.com/power-transforms-with-scikit-learn/) (there are [other techniques](https://machinelearningmastery.com/power-transforms-with-scikit-learn/) when dealing with time series data). It could also be the creation of new variables using some kind of combination of the variables that you have.\n",
        "\n",
        "In this tutorial, we will discuss basic transformations for feature engineering and how to perform feature selection. As you know, your model should include only include all relevant variables. Any variables which don't help with predictability may cause overfitting and hamper model performance on new data. \n",
        "\n",
        "We will end with two useful tricks, importing from scripts and pipelines which should make your code quicker and cleaner to read.\n",
        "\n",
        "\n",
        "Here are the contents point by point:\n",
        "- Preliminaries\n",
        "- Feature engineering\n",
        "- Object Creation\n",
        "- Feature selection\n",
        "- Importing scripts\n",
        "- Pipelines\n",
        "- Exercises"
      ]
    },
    {
      "cell_type": "markdown",
      "metadata": {
        "id": "aCcnA3C9dTwR"
      },
      "source": [
        "# Preliminaries\n",
        "\n",
        "We will begin as usual, by importing necessary libraries, settings and loading the data. "
      ]
    },
    {
      "cell_type": "code",
      "metadata": {
        "colab": {
          "base_uri": "https://localhost:8080/",
          "height": 204
        },
        "id": "TEw41VzvkIou",
        "outputId": "4204d2d3-0dfe-486b-f5eb-bffc7cef0c53"
      },
      "source": [
        "# Import standard Python libraries\r\n",
        "import numpy as np\r\n",
        "import matplotlib.pyplot as plt\r\n",
        "import pandas as pd\r\n",
        "from sklearn.model_selection import train_test_split\r\n",
        "from sklearn.ensemble import RandomForestClassifier\r\n",
        "from sklearn.metrics import roc_auc_score\r\n",
        "\r\n",
        "# Some configuration of the plots we will create later\r\n",
        "%matplotlib inline  \r\n",
        "plt.rcParams[\"figure.figsize\"] = (12,6)\r\n",
        "\r\n",
        "# Load credit risk data in pre-processed format from GitHub\r\n",
        "data_url = 'https://raw.githubusercontent.com/Humboldt-WI/bads/master/data/hmeq_prepared.csv' \r\n",
        "df = pd.read_csv(data_url)\r\n",
        "\r\n",
        "# Extract target variable and feature matrix \r\n",
        "X = df.drop(['BAD'], axis=1) \r\n",
        "y = df[['BAD']]\r\n",
        "\r\n",
        "X_train, X_test, y_train, y_test = train_test_split(X, y, test_size=.2)\r\n",
        "\r\n",
        "X_train.head()"
      ],
      "execution_count": 1,
      "outputs": [
        {
          "output_type": "execute_result",
          "data": {
            "text/html": [
              "<div>\n",
              "<style scoped>\n",
              "    .dataframe tbody tr th:only-of-type {\n",
              "        vertical-align: middle;\n",
              "    }\n",
              "\n",
              "    .dataframe tbody tr th {\n",
              "        vertical-align: top;\n",
              "    }\n",
              "\n",
              "    .dataframe thead th {\n",
              "        text-align: right;\n",
              "    }\n",
              "</style>\n",
              "<table border=\"1\" class=\"dataframe\">\n",
              "  <thead>\n",
              "    <tr style=\"text-align: right;\">\n",
              "      <th></th>\n",
              "      <th>LOAN</th>\n",
              "      <th>MORTDUE</th>\n",
              "      <th>VALUE</th>\n",
              "      <th>REASON</th>\n",
              "      <th>JOB</th>\n",
              "      <th>YOJ</th>\n",
              "      <th>DEROG</th>\n",
              "      <th>DELINQ</th>\n",
              "      <th>CLAGE</th>\n",
              "      <th>NINQ</th>\n",
              "      <th>CLNO</th>\n",
              "      <th>DEBTINC</th>\n",
              "      <th>DEROGzero</th>\n",
              "    </tr>\n",
              "  </thead>\n",
              "  <tbody>\n",
              "    <tr>\n",
              "      <th>5489</th>\n",
              "      <td>33400.0</td>\n",
              "      <td>59000.0</td>\n",
              "      <td>85000.0</td>\n",
              "      <td>HomeImp</td>\n",
              "      <td>Self</td>\n",
              "      <td>2.0</td>\n",
              "      <td>0.0</td>\n",
              "      <td>7.0</td>\n",
              "      <td>240.43333</td>\n",
              "      <td>3.0</td>\n",
              "      <td>26.0</td>\n",
              "      <td>34.818260</td>\n",
              "      <td>True</td>\n",
              "    </tr>\n",
              "    <tr>\n",
              "      <th>2184</th>\n",
              "      <td>13500.0</td>\n",
              "      <td>117604.0</td>\n",
              "      <td>136099.0</td>\n",
              "      <td>DebtCon</td>\n",
              "      <td>ProfExe</td>\n",
              "      <td>15.0</td>\n",
              "      <td>0.0</td>\n",
              "      <td>0.0</td>\n",
              "      <td>188.26097</td>\n",
              "      <td>1.0</td>\n",
              "      <td>32.0</td>\n",
              "      <td>31.630530</td>\n",
              "      <td>True</td>\n",
              "    </tr>\n",
              "    <tr>\n",
              "      <th>3201</th>\n",
              "      <td>17200.0</td>\n",
              "      <td>59698.0</td>\n",
              "      <td>89715.0</td>\n",
              "      <td>IsMissing</td>\n",
              "      <td>ProfExe</td>\n",
              "      <td>9.0</td>\n",
              "      <td>0.0</td>\n",
              "      <td>0.0</td>\n",
              "      <td>173.46666</td>\n",
              "      <td>1.0</td>\n",
              "      <td>16.0</td>\n",
              "      <td>23.345623</td>\n",
              "      <td>True</td>\n",
              "    </tr>\n",
              "    <tr>\n",
              "      <th>968</th>\n",
              "      <td>9300.0</td>\n",
              "      <td>63566.0</td>\n",
              "      <td>70551.0</td>\n",
              "      <td>DebtCon</td>\n",
              "      <td>ProfExe</td>\n",
              "      <td>14.0</td>\n",
              "      <td>0.0</td>\n",
              "      <td>0.0</td>\n",
              "      <td>138.33736</td>\n",
              "      <td>0.0</td>\n",
              "      <td>19.0</td>\n",
              "      <td>42.483704</td>\n",
              "      <td>True</td>\n",
              "    </tr>\n",
              "    <tr>\n",
              "      <th>4773</th>\n",
              "      <td>25000.0</td>\n",
              "      <td>59841.0</td>\n",
              "      <td>108620.0</td>\n",
              "      <td>IsMissing</td>\n",
              "      <td>Self</td>\n",
              "      <td>20.0</td>\n",
              "      <td>0.0</td>\n",
              "      <td>0.0</td>\n",
              "      <td>101.46667</td>\n",
              "      <td>0.0</td>\n",
              "      <td>4.0</td>\n",
              "      <td>34.818260</td>\n",
              "      <td>True</td>\n",
              "    </tr>\n",
              "  </tbody>\n",
              "</table>\n",
              "</div>"
            ],
            "text/plain": [
              "         LOAN   MORTDUE     VALUE     REASON  ... NINQ  CLNO    DEBTINC  DEROGzero\n",
              "5489  33400.0   59000.0   85000.0    HomeImp  ...  3.0  26.0  34.818260       True\n",
              "2184  13500.0  117604.0  136099.0    DebtCon  ...  1.0  32.0  31.630530       True\n",
              "3201  17200.0   59698.0   89715.0  IsMissing  ...  1.0  16.0  23.345623       True\n",
              "968    9300.0   63566.0   70551.0    DebtCon  ...  0.0  19.0  42.483704       True\n",
              "4773  25000.0   59841.0  108620.0  IsMissing  ...  0.0   4.0  34.818260       True\n",
              "\n",
              "[5 rows x 13 columns]"
            ]
          },
          "metadata": {
            "tags": []
          },
          "execution_count": 1
        }
      ]
    },
    {
      "cell_type": "code",
      "metadata": {
        "colab": {
          "base_uri": "https://localhost:8080/"
        },
        "id": "HrmcdZckZZ8S",
        "outputId": "693eb39f-ca34-4654-b439-b7a63c7bba41"
      },
      "source": [
        "print(X_train.shape, X_test.shape, y_train.shape, y_test.shape)"
      ],
      "execution_count": 2,
      "outputs": [
        {
          "output_type": "stream",
          "text": [
            "(4768, 13) (1192, 13) (4768, 1) (1192, 1)\n"
          ],
          "name": "stdout"
        }
      ]
    },
    {
      "cell_type": "markdown",
      "metadata": {
        "id": "e9BfpWt7dTwS"
      },
      "source": [
        "# Feature Engineering "
      ]
    },
    {
      "cell_type": "markdown",
      "metadata": {
        "id": "9WByBH0XdTwT"
      },
      "source": [
        "## Data pipeline construction revisited\n",
        "\n",
        "Here is a sample of how your data preparation process should look. This can however vary depending on the data with which you are working and the goal of your model. In general, you may **at least** want to follow these steps:\n",
        "\n",
        "**1) Basic cleaning of null values, duplicates and outliers**\n",
        "\n",
        "These values will have a big impact on how Python runs and how models are calculated. When it comes to NaN values and outliers, there are several approaches to deal with them. You could remove them, replace them with another value (indicator value, mode, mean, max, min, etc), use a mini-model to impute them among other options. This has been done for the most part in this data set already. \n",
        "\n",
        "**2) Encode variables in the most appropriate way**\n",
        "\n",
        "Check your dataframe using the method `.info()` . Are your continuous variables encoded as integers or floats? If they are type `object` then the column may need to be checked again for null values. It is good practice to change any categorical variables to the `category` data type as it increases processing time. Once you have confirmed that you will finalize the model with a categorical variable, it can be good to use one-hot encoding as described in step 5.\n",
        "\n",
        "**3) Ensure variables fit statistical assumptions/model requirements**\n",
        "\n",
        "The next steps are a bit more complex and will depend on which model you need to use. Your goal is to make sure your data will be accurately processed by your model. Note that a lot of statistical assumptions depend on normal distribution and scaling. For example, models like linear regression and K-Means are very sensitive to abitrarily large magnitudes. We will first examine ways to do that.\n",
        "\n",
        "In this step, you may also want to remove features which are highly correlated to one another.\n",
        "\n",
        "**4) Filter out variables with low predictive power**\n",
        "\n",
        "You may now want to check variables to see if they indicate they will contribute to your model. We will discuss filter methods to do just that. Note that some variables may only be effective in combination with others, so be careful with this step. \n",
        "\n",
        "**5) One-hot encode categorical variables**\n",
        "\n",
        "Once you have decided to keep a categorical feature, it can be useful to one-hot encode the feature. Again, one-hot encoding means that instead of one categorical column, you have multiple dummies which represent possible category values. For example, if your categorical variable \"transport\" had the possible values of \"car\", \"by foot\" or \"bus\", you would split it into columns called \"transport_car\" and \"transport_bus\". \"by foot\" is indicated if neither of those have a value of 1 for that observation.\n",
        "\n",
        "**6) Double check the model only includes appropriate variables**\n",
        "\n",
        "Next, you may want to try a wrapper method or step-wise regression as another check to ensure you are only including relevant variables.\n",
        "\n",
        "In many cases, you may have to repeat some of these steps several times. Remember the idea of **garbage in, garbage out**. If you feed a model nonsense, expect nonsense to come right back out. This is likely what will take the most of your time as a data scientist."
      ]
    },
    {
      "cell_type": "code",
      "metadata": {
        "colab": {
          "base_uri": "https://localhost:8080/"
        },
        "id": "SFfJqQ63qoUa",
        "outputId": "ba9de538-43c0-4e11-818c-b55fe3725687"
      },
      "source": [
        "# Let's get a quick overview of the data types of each column and make sure they are correct\r\n",
        "\r\n",
        "df.info()"
      ],
      "execution_count": 3,
      "outputs": [
        {
          "output_type": "stream",
          "text": [
            "<class 'pandas.core.frame.DataFrame'>\n",
            "RangeIndex: 5960 entries, 0 to 5959\n",
            "Data columns (total 14 columns):\n",
            " #   Column     Non-Null Count  Dtype  \n",
            "---  ------     --------------  -----  \n",
            " 0   BAD        5960 non-null   bool   \n",
            " 1   LOAN       5960 non-null   float64\n",
            " 2   MORTDUE    5960 non-null   float64\n",
            " 3   VALUE      5960 non-null   float64\n",
            " 4   REASON     5960 non-null   object \n",
            " 5   JOB        5960 non-null   object \n",
            " 6   YOJ        5960 non-null   float64\n",
            " 7   DEROG      5960 non-null   float64\n",
            " 8   DELINQ     5960 non-null   float64\n",
            " 9   CLAGE      5960 non-null   float64\n",
            " 10  NINQ       5960 non-null   float64\n",
            " 11  CLNO       5960 non-null   float64\n",
            " 12  DEBTINC    5960 non-null   float64\n",
            " 13  DEROGzero  5960 non-null   bool   \n",
            "dtypes: bool(2), float64(10), object(2)\n",
            "memory usage: 570.5+ KB\n"
          ],
          "name": "stdout"
        }
      ]
    },
    {
      "cell_type": "code",
      "metadata": {
        "colab": {
          "base_uri": "https://localhost:8080/"
        },
        "id": "xs1JAzocts10",
        "outputId": "699232f5-f5dd-429d-c64e-de33d68ab7c9"
      },
      "source": [
        "df['DEROG'].value_counts()  # Check that 'DEROG' is not actually Boolean"
      ],
      "execution_count": 4,
      "outputs": [
        {
          "output_type": "execute_result",
          "data": {
            "text/plain": [
              "0.0     5235\n",
              "1.0      435\n",
              "2.0      160\n",
              "3.0       58\n",
              "4.0       23\n",
              "6.0       15\n",
              "5.0       15\n",
              "7.0        8\n",
              "8.0        6\n",
              "9.0        3\n",
              "10.0       2\n",
              "Name: DEROG, dtype: int64"
            ]
          },
          "metadata": {
            "tags": []
          },
          "execution_count": 4
        }
      ]
    },
    {
      "cell_type": "code",
      "metadata": {
        "colab": {
          "base_uri": "https://localhost:8080/"
        },
        "id": "t8cQUTN3t3CT",
        "outputId": "ee3ac4dd-6a63-4aa1-8271-d90c6de1322f"
      },
      "source": [
        "df['NINQ'].value_counts() # Checking 'NINQ' for the same reason as 'DEROG'"
      ],
      "execution_count": 5,
      "outputs": [
        {
          "output_type": "execute_result",
          "data": {
            "text/plain": [
              "0.0    2531\n",
              "1.0    1849\n",
              "2.0     780\n",
              "3.0     392\n",
              "4.0     156\n",
              "8.0      77\n",
              "5.0      75\n",
              "6.0      56\n",
              "7.0      44\n",
              "Name: NINQ, dtype: int64"
            ]
          },
          "metadata": {
            "tags": []
          },
          "execution_count": 5
        }
      ]
    },
    {
      "cell_type": "markdown",
      "metadata": {
        "id": "wr8OK_ewwKlF"
      },
      "source": [
        "Luckily, most of our variables are actually encoded the right way! Let's just change the two categorical variables to a categorical type. Note that this is not a data type in NumPy, only in `pandas`. As such, you may run into problems if the data type becomes relevant in a NumPy calculation. Just keep that in mind!"
      ]
    },
    {
      "cell_type": "code",
      "metadata": {
        "id": "Tf8vzIk2tJZX"
      },
      "source": [
        "# Let's change our two categorical variables to the correct type for our interim analysis\r\n",
        "\r\n",
        "df['REASON'] = df['REASON'].astype('category')\r\n",
        "df['JOB'] = df['JOB'].astype('category')"
      ],
      "execution_count": 6,
      "outputs": []
    },
    {
      "cell_type": "code",
      "metadata": {
        "colab": {
          "base_uri": "https://localhost:8080/"
        },
        "id": "toUCPoLZtaVq",
        "outputId": "93365bcb-011d-4410-b0c7-99526ed11255"
      },
      "source": [
        "df.info()"
      ],
      "execution_count": 7,
      "outputs": [
        {
          "output_type": "stream",
          "text": [
            "<class 'pandas.core.frame.DataFrame'>\n",
            "RangeIndex: 5960 entries, 0 to 5959\n",
            "Data columns (total 14 columns):\n",
            " #   Column     Non-Null Count  Dtype   \n",
            "---  ------     --------------  -----   \n",
            " 0   BAD        5960 non-null   bool    \n",
            " 1   LOAN       5960 non-null   float64 \n",
            " 2   MORTDUE    5960 non-null   float64 \n",
            " 3   VALUE      5960 non-null   float64 \n",
            " 4   REASON     5960 non-null   category\n",
            " 5   JOB        5960 non-null   category\n",
            " 6   YOJ        5960 non-null   float64 \n",
            " 7   DEROG      5960 non-null   float64 \n",
            " 8   DELINQ     5960 non-null   float64 \n",
            " 9   CLAGE      5960 non-null   float64 \n",
            " 10  NINQ       5960 non-null   float64 \n",
            " 11  CLNO       5960 non-null   float64 \n",
            " 12  DEBTINC    5960 non-null   float64 \n",
            " 13  DEROGzero  5960 non-null   bool    \n",
            "dtypes: bool(2), category(2), float64(10)\n",
            "memory usage: 489.3 KB\n"
          ],
          "name": "stdout"
        }
      ]
    },
    {
      "cell_type": "markdown",
      "metadata": {
        "id": "mN5r9LUioKP4"
      },
      "source": [
        "## Scaling\r\n",
        "\r\n",
        "Features will likely have arbitrary magnitudes. For example, a customer's spending range from 0 to 50,000 but a dummy variable about them may only take the value 0 or 1. For many algorithms, like the distance function in kMeans, this is problematic. The distance function will try to minimize differences among features using their raw values. This means that kMeans will focus on variables with arbitrarily high values like spending when that may not be as important as a dummy. One way to deal with this is to scale features so that they still vary but the values aren't arbitrarily higher. This way, all features will be considered equally. \r\n",
        "\r\n",
        "There are two major ways to scale: standardization and min-max scaling (also known as normalization).\r\n",
        "\r\n",
        "### Standardization\r\n",
        "After standardization, your feature will now be distributed about the mean feature value. If you believe you data is already normal (follows a Gaussian distribution) this could be the best option.\r\n",
        "\r\n",
        "$$ X_{new} = \\frac{X-\\mu}{\\sigma} $$\r\n",
        "\r\n",
        "There is no maximum or minimum value here. This means that standardization does not deal with outliers. You may have a clearer picture of how extreme these outliers are after standardization.\r\n",
        "\r\n",
        "### Min-Max Scaling\r\n",
        "After min-max scaling, your variables will have a range of 0 and 1. Minimum feature values will become 0 and maximum values will be 1.\r\n",
        "\r\n",
        "$$ X_{new} = \\frac{X-X_{min}}{X_{max}-X_{min}} $$\r\n",
        "\r\n",
        "This type of scaling is sometimes called normalization but you should note that it simply compacts the values of the features to be between 0 and 1, it does not change the overall shape of the data.\r\n"
      ]
    },
    {
      "cell_type": "code",
      "metadata": {
        "id": "VbhFZHaOOJbq"
      },
      "source": [
        "# Standardization\r\n",
        "def standardize(var):\r\n",
        "    return (var - np.mean(var)) / np.std(var)\r\n",
        "\r\n",
        "\r\n",
        "# Min-max scaling\r\n",
        "def min_max_scale(var):\r\n",
        "    return (var - min(var)) / (max(var) - min(var))"
      ],
      "execution_count": 8,
      "outputs": []
    },
    {
      "cell_type": "markdown",
      "metadata": {
        "id": "ZaJouXZSctiH"
      },
      "source": [
        "Let's first look at how this variable looks before and after normalization and standardization using a box plot and then a histogram. **Note the axes of all of these plots.**"
      ]
    },
    {
      "cell_type": "code",
      "metadata": {
        "colab": {
          "base_uri": "https://localhost:8080/",
          "height": 282
        },
        "id": "idodxYUhxrY4",
        "outputId": "6c2c9ae0-e2b8-4239-a44a-41d385d04f63"
      },
      "source": [
        "# Raw variable \r\n",
        "X_train[['LOAN']].boxplot()"
      ],
      "execution_count": 9,
      "outputs": [
        {
          "output_type": "execute_result",
          "data": {
            "text/plain": [
              "<matplotlib.axes._subplots.AxesSubplot at 0x7f42d64eecc0>"
            ]
          },
          "metadata": {
            "tags": []
          },
          "execution_count": 9
        },
        {
          "output_type": "display_data",
          "data": {
            "image/png": "[encoded data removed]",
            "text/plain": [
              "<Figure size 432x288 with 1 Axes>"
            ]
          },
          "metadata": {
            "tags": [],
            "needs_background": "light"
          }
        }
      ]
    },
    {
      "cell_type": "code",
      "metadata": {
        "colab": {
          "base_uri": "https://localhost:8080/",
          "height": 282
        },
        "id": "7lG40FJUZY5z",
        "outputId": "69c8b721-887b-43c4-f317-f8e39af1d027"
      },
      "source": [
        "# Comparison of the normalized vs. standardized variable (check axes for size)\r\n",
        "\r\n",
        "loan_standardized = standardize(X_train['LOAN'])\r\n",
        "\r\n",
        "loan_normalized = min_max_scale(X_train['LOAN'])\r\n",
        "\r\n",
        "loans_scaled = pd.DataFrame({\"standardized\": loan_standardized, \"normalized\": loan_normalized})\r\n",
        "\r\n",
        "loans_scaled.boxplot()"
      ],
      "execution_count": 10,
      "outputs": [
        {
          "output_type": "execute_result",
          "data": {
            "text/plain": [
              "<matplotlib.axes._subplots.AxesSubplot at 0x7f42d5cec668>"
            ]
          },
          "metadata": {
            "tags": []
          },
          "execution_count": 10
        },
        {
          "output_type": "display_data",
          "data": {
            "image/png": "[encoded data removed]",
            "text/plain": [
              "<Figure size 432x288 with 1 Axes>"
            ]
          },
          "metadata": {
            "tags": [],
            "needs_background": "light"
          }
        }
      ]
    },
    {
      "cell_type": "code",
      "metadata": {
        "colab": {
          "base_uri": "https://localhost:8080/",
          "height": 315
        },
        "id": "RXjl78Z8QgW8",
        "outputId": "6d16e0cb-143c-44e8-da33-e4d115e4529a"
      },
      "source": [
        "# Histogram of raw variable\r\n",
        "\r\n",
        "X_train[['LOAN']].hist(bins=100)"
      ],
      "execution_count": 11,
      "outputs": [
        {
          "output_type": "execute_result",
          "data": {
            "text/plain": [
              "array([[<matplotlib.axes._subplots.AxesSubplot object at 0x7f42d63c0c88>]],\n",
              "      dtype=object)"
            ]
          },
          "metadata": {
            "tags": []
          },
          "execution_count": 11
        },
        {
          "output_type": "display_data",
          "data": {
            "image/png": "[encoded data removed]",
            "text/plain": [
              "<Figure size 432x288 with 1 Axes>"
            ]
          },
          "metadata": {
            "tags": [],
            "needs_background": "light"
          }
        }
      ]
    },
    {
      "cell_type": "code",
      "metadata": {
        "colab": {
          "base_uri": "https://localhost:8080/",
          "height": 332
        },
        "id": "_LMtqnFFQVTZ",
        "outputId": "0999c6ea-a7fa-4d09-a5c0-0dfd39573b62"
      },
      "source": [
        "# Comparison of the normalized vs. standardized variable (check axes for size)\r\n",
        "\r\n",
        "loans_scaled.hist(bins=100)"
      ],
      "execution_count": 12,
      "outputs": [
        {
          "output_type": "execute_result",
          "data": {
            "text/plain": [
              "array([[<matplotlib.axes._subplots.AxesSubplot object at 0x7f42d54a2a58>,\n",
              "        <matplotlib.axes._subplots.AxesSubplot object at 0x7f42d52b1048>]],\n",
              "      dtype=object)"
            ]
          },
          "metadata": {
            "tags": []
          },
          "execution_count": 12
        },
        {
          "output_type": "display_data",
          "data": {
            "image/png": "[encoded data removed]",
            "text/plain": [
              "<Figure size 432x288 with 2 Axes>"
            ]
          },
          "metadata": {
            "tags": [],
            "needs_background": "light"
          }
        }
      ]
    },
    {
      "cell_type": "markdown",
      "metadata": {
        "id": "RqPKAtlyc4Mc"
      },
      "source": [
        "As promised, the variables are now fit between something that resembles a bit more of a standard scaling. With min-max scaling, we have the variable ranging between 0 and 1. With standard scaling, we have the variable showing us its position relative to standard deviations. Note that in both of these examples, the variable was squeezed into a smaller range but did not change shape overall. There are ways to change its shape which we will explore next."
      ]
    },
    {
      "cell_type": "markdown",
      "metadata": {
        "id": "MRlyLdQedO57"
      },
      "source": [
        "First, let's just quickly look at the standard way to do this with `sklearn`. We can just use the `MinMaxScaler()` and `StandardScaler` to do produce exactly what our custom functions did."
      ]
    },
    {
      "cell_type": "code",
      "metadata": {
        "id": "4zqDzYWUYKYj",
        "colab": {
          "base_uri": "https://localhost:8080/",
          "height": 265
        },
        "outputId": "2f006013-419d-45bb-9961-4c1504262863"
      },
      "source": [
        "from sklearn.preprocessing import StandardScaler\r\n",
        "standardscaler = StandardScaler()\r\n",
        "standardscaled = standardscaler.fit_transform(X_train[['LOAN']])\r\n",
        "_ = plt.hist(standardscaled, bins=100)\r\n",
        "plt.show()"
      ],
      "execution_count": 13,
      "outputs": [
        {
          "output_type": "display_data",
          "data": {
            "image/png": "[encoded data removed]",
            "text/plain": [
              "<Figure size 432x288 with 1 Axes>"
            ]
          },
          "metadata": {
            "tags": [],
            "needs_background": "light"
          }
        }
      ]
    },
    {
      "cell_type": "code",
      "metadata": {
        "id": "7iNANRAhYEeV",
        "colab": {
          "base_uri": "https://localhost:8080/",
          "height": 265
        },
        "outputId": "7bd6c660-0eba-4a30-9ee0-a292526105b5"
      },
      "source": [
        "from sklearn.preprocessing import MinMaxScaler\r\n",
        "minmaxscaler = MinMaxScaler()\r\n",
        "minmaxscaled = minmaxscaler.fit_transform(X_train[['LOAN']])\r\n",
        "\r\n",
        "_ = plt.hist(minmaxscaled, bins=100)\r\n",
        "plt.show()"
      ],
      "execution_count": 14,
      "outputs": [
        {
          "output_type": "display_data",
          "data": {
            "image/png": "[encoded data removed]",
            "text/plain": [
              "<Figure size 432x288 with 1 Axes>"
            ]
          },
          "metadata": {
            "tags": [],
            "needs_background": "light"
          }
        }
      ]
    },
    {
      "cell_type": "markdown",
      "metadata": {
        "id": "jIWedZPyKQhC"
      },
      "source": [
        "It is good practice to scale variables before putting them into an algorithm. Note that some algorithms (eg. tree algorithms) don't necessarily require this. Since we will be using a logistic regression initially, we will scale these variables using standard scaling later."
      ]
    },
    {
      "cell_type": "markdown",
      "metadata": {
        "id": "wxHx35GGJbVc"
      },
      "source": [
        "## Checking features for normality\r\n",
        "\r\n",
        "Normality is a critical condition for many statistical tests and the creation of confidence intervals. If this is the goal of your work, you will likely need to find some way to normalize your variables. Note that normalization does make interpreting your variables more difficult, so if you are not going to be performing statistical tests or creating confidence intervals, it may not be the best option. Here we will introduce 3 very useful tricks: log, Box-Cox and Yeo-Johnson transformations.\r\n",
        "\r\n",
        "There are several ways to check which variables could use such a transformation. One method would be to create a histogram of each variable and check its shape. Remember that you are looking for a perfect bell shape with even tails on either side. As you can imagine, this does not happen very often with many variables."
      ]
    },
    {
      "cell_type": "code",
      "metadata": {
        "colab": {
          "base_uri": "https://localhost:8080/",
          "height": 828
        },
        "id": "ofPwp-hoORpA",
        "outputId": "58a34273-adea-4144-e463-218ca373d314"
      },
      "source": [
        "df.select_dtypes(include='float64').hist(bins=30, figsize=(15, 10))"
      ],
      "execution_count": 15,
      "outputs": [
        {
          "output_type": "execute_result",
          "data": {
            "text/plain": [
              "array([[<matplotlib.axes._subplots.AxesSubplot object at 0x7f42d4d53b00>,\n",
              "        <matplotlib.axes._subplots.AxesSubplot object at 0x7f42d4cf15c0>,\n",
              "        <matplotlib.axes._subplots.AxesSubplot object at 0x7f42d4d21940>],\n",
              "       [<matplotlib.axes._subplots.AxesSubplot object at 0x7f42d4cd5be0>,\n",
              "        <matplotlib.axes._subplots.AxesSubplot object at 0x7f42d4c86f60>,\n",
              "        <matplotlib.axes._subplots.AxesSubplot object at 0x7f42d4c43320>],\n",
              "       [<matplotlib.axes._subplots.AxesSubplot object at 0x7f42d4bf66a0>,\n",
              "        <matplotlib.axes._subplots.AxesSubplot object at 0x7f42d4ba69e8>,\n",
              "        <matplotlib.axes._subplots.AxesSubplot object at 0x7f42d4ba6a58>],\n",
              "       [<matplotlib.axes._subplots.AxesSubplot object at 0x7f42d4b9a160>,\n",
              "        <matplotlib.axes._subplots.AxesSubplot object at 0x7f42d4b4b4e0>,\n",
              "        <matplotlib.axes._subplots.AxesSubplot object at 0x7f42d4afd860>]],\n",
              "      dtype=object)"
            ]
          },
          "metadata": {
            "tags": []
          },
          "execution_count": 15
        },
        {
          "output_type": "display_data",
          "data": {
            "image/png": "[encoded data removed]",
            "text/plain": [
              "<Figure size 1080x720 with 12 Axes>"
            ]
          },
          "metadata": {
            "tags": [],
            "needs_background": "light"
          }
        }
      ]
    },
    {
      "cell_type": "code",
      "metadata": {
        "id": "fMwv2bSR1KrR"
      },
      "source": [
        "# Choose a feature of interest and we'll take a deep dive into it\r\n",
        "# DEROG, DELINQ and NINQ are bad candidates as they resemble categorical variables\r\n",
        "\r\n",
        "feature = df['LOAN'] "
      ],
      "execution_count": 16,
      "outputs": []
    },
    {
      "cell_type": "markdown",
      "metadata": {
        "id": "2oSu9klOwao9"
      },
      "source": [
        "If you would like a more scienfitic test for normality, you can use `normaltest` from `scipy`. This function's documentation is [here](https://docs.scipy.org/doc/scipy/reference/generated/scipy.stats.normaltest.html). It outputs 2 numbers, the first is the sum of squares of the z-scores returned by a skewtest and kurtosistest. The second is a 2-sided chi2 probability hypothesis test. Thus, if the p-value is below 0.05, it is likely you do not have normally distributed data."
      ]
    },
    {
      "cell_type": "code",
      "metadata": {
        "colab": {
          "base_uri": "https://localhost:8080/"
        },
        "id": "Fvn-QvyXUt78",
        "outputId": "6edaf80a-d9a1-4d14-c5d4-f67e7a7871f6"
      },
      "source": [
        "from scipy import stats\r\n",
        "\r\n",
        "stats.normaltest(feature)"
      ],
      "execution_count": 17,
      "outputs": [
        {
          "output_type": "execute_result",
          "data": {
            "text/plain": [
              "NormaltestResult(statistic=1603.6531776769357, pvalue=0.0)"
            ]
          },
          "metadata": {
            "tags": []
          },
          "execution_count": 17
        }
      ]
    },
    {
      "cell_type": "markdown",
      "metadata": {
        "id": "9lHmSIC2_8dB"
      },
      "source": [
        "Just to reiterate that it is a bit misleading to say min-max scaling is \"normalization\", let's min-max scale our feature and perform the test. As we can see, `normaltest` outputs the same test statistic and pvalue."
      ]
    },
    {
      "cell_type": "code",
      "metadata": {
        "colab": {
          "base_uri": "https://localhost:8080/",
          "height": 265
        },
        "id": "vVYoIXCfpkay",
        "outputId": "7b8a90a7-542e-4e0b-d530-e1ac4a1ab71e"
      },
      "source": [
        "minmaxscaled_feature = minmaxscaler.fit_transform(pd.DataFrame(feature))\r\n",
        "\r\n",
        "_ = plt.hist(minmaxscaled_feature, bins=100)\r\n",
        "plt.show()"
      ],
      "execution_count": 18,
      "outputs": [
        {
          "output_type": "display_data",
          "data": {
            "image/png": "[encoded data removed]",
            "text/plain": [
              "<Figure size 432x288 with 1 Axes>"
            ]
          },
          "metadata": {
            "tags": [],
            "needs_background": "light"
          }
        }
      ]
    },
    {
      "cell_type": "code",
      "metadata": {
        "colab": {
          "base_uri": "https://localhost:8080/"
        },
        "id": "l2Qt1Ociy16_",
        "outputId": "be2591ba-5fc0-4364-8062-1616a99633f2"
      },
      "source": [
        "stats.normaltest(minmaxscaled_feature)"
      ],
      "execution_count": 19,
      "outputs": [
        {
          "output_type": "execute_result",
          "data": {
            "text/plain": [
              "NormaltestResult(statistic=array([1603.65317768]), pvalue=array([0.]))"
            ]
          },
          "metadata": {
            "tags": []
          },
          "execution_count": 19
        }
      ]
    },
    {
      "cell_type": "markdown",
      "metadata": {
        "id": "TnBUkKjE0Vt6"
      },
      "source": [
        "We can see problems a bit more clearly with quantile-quantile plot. Ideally, the blue line should match the red line (quantiles of a feature versus the quantiles/ppf of a distribution). If not, it is less likely that it comes from a normal distribution."
      ]
    },
    {
      "cell_type": "code",
      "metadata": {
        "colab": {
          "base_uri": "https://localhost:8080/",
          "height": 313
        },
        "id": "BJ-WO3MK0IKk",
        "outputId": "f5553ab9-9cb9-4961-a2ee-900895ecdc56"
      },
      "source": [
        "from statsmodels.graphics.gofplots import qqplot\r\n",
        "\r\n",
        "qqplot(feature, line='s')\r\n",
        "plt.show()"
      ],
      "execution_count": 20,
      "outputs": [
        {
          "output_type": "stream",
          "text": [
            "/usr/local/lib/python3.6/dist-packages/statsmodels/tools/_testing.py:19: FutureWarning: pandas.util.testing is deprecated. Use the functions in the public API at pandas.testing instead.\n",
            "  import pandas.util.testing as tm\n"
          ],
          "name": "stderr"
        },
        {
          "output_type": "display_data",
          "data": {
            "image/png": "[encoded data removed]",
            "text/plain": [
              "<Figure size 432x288 with 1 Axes>"
            ]
          },
          "metadata": {
            "tags": [],
            "needs_background": "light"
          }
        }
      ]
    },
    {
      "cell_type": "markdown",
      "metadata": {
        "id": "fhHv9AlsJ4J_"
      },
      "source": [
        "## Common feature transformations for numeric data"
      ]
    },
    {
      "cell_type": "markdown",
      "metadata": {
        "id": "e3OU5PBOMymG"
      },
      "source": [
        "### Log Transformation\r\n",
        "One major use of logs is to create linearity from exponential relationships. This can greatly algorithms capture the fit of many variables. Remember that logs take only strictly positive variables. If you have any negative values, you will have to rescale your data, remove them or find another way to deal with them.\r\n",
        "\r\n",
        "$ x^{(t)} = g(x) = log(x) $\r\n",
        "\r\n"
      ]
    },
    {
      "cell_type": "markdown",
      "metadata": {
        "id": "KjM6lppjM1Yu"
      },
      "source": [
        "### Box Cox Transformation\r\n",
        "If your variable has a skewed tail, this can be problematic for the assumption on normality. You can try to correct this with a Box Cox transformation. This only works with strictly positive values (greater than 0). You can always rescale variables so they meet this criteria before putting them into this formula.\r\n",
        "\r\n",
        "$\r\n",
        "    x^{(t)} = g(x; \\lambda) =\r\n",
        "    \\begin{cases}\r\n",
        "      \\frac{x^\\lambda - 1}{\\lambda}, & \\text{if}\\ \\lambda \\neq 0 \\\\\r\n",
        "      log(x), & \\text{otherwise}\r\n",
        "    \\end{cases}\r\n",
        "$\r\n",
        "\r\n"
      ]
    },
    {
      "cell_type": "markdown",
      "metadata": {
        "id": "OBj1x_jqM4sr"
      },
      "source": [
        "### Yeo-Johnson Transformation\r\n",
        "This formula is essentially a more elaborate version of Box Cox. It can take any numbers (0 and under is completely fine). \r\n",
        "\r\n",
        "$\r\n",
        "    x^{(t)} = g(x; \\lambda) =\r\n",
        "    \\begin{cases}\r\n",
        "      \\frac{(1+x)^\\lambda - 1}{\\lambda}, & \\text{if}\\ \\lambda \\neq 0 \\ \\text{and}\\ x \\geq 0 \\\\\r\n",
        "      log(x+1), & \\text{if}\\ \\lambda = 0 \\ \\text{and}\\ x \\geq 0 \\\\\r\n",
        "      -\\frac{(1-x)^{2-\\lambda} - 1}{2-\\lambda}, & \\text{if}\\ \\lambda \\neq 2 \\ \\text{and}\\ x < 0\\\\\r\n",
        "      -log(-x+1), & \\text{if}\\ \\lambda = 2 \\ \\text{and}\\ x < 0\\\\\r\n",
        "    \\end{cases}\r\n",
        "$"
      ]
    },
    {
      "cell_type": "markdown",
      "metadata": {
        "id": "Rp8qyjecM7mD"
      },
      "source": [
        "\r\n",
        "## Testing transformations\r\n",
        "Let's look at a version of these which we have created from scratch and check what they do to our variable using histograms and box plots."
      ]
    },
    {
      "cell_type": "code",
      "metadata": {
        "id": "E-WYJkxWu0Ym"
      },
      "source": [
        "def box_cox_transform(var, power=0):\r\n",
        "\r\n",
        "    try:\r\n",
        "        assert (var > 0).all()  # Function only defined > 0\r\n",
        "    except AssertionError:\r\n",
        "        raise ValueError(\"Variable values must be strictly positive\")\r\n",
        "\r\n",
        "    # Special case lambda=0\r\n",
        "    if power == 0:\r\n",
        "        var = np.log(var)\r\n",
        "\r\n",
        "    else:\r\n",
        "        var = (var ** power - 1) / power\r\n",
        "\r\n",
        "    return var"
      ],
      "execution_count": 21,
      "outputs": []
    },
    {
      "cell_type": "code",
      "metadata": {
        "id": "7ZXddYSIvg4O"
      },
      "source": [
        "def yeo_johnson_transform(var, power=1):\r\n",
        "\r\n",
        "    var_mod = np.empty_like(var)\r\n",
        "\r\n",
        "    # Special case lambda=0\r\n",
        "    if power == 0:\r\n",
        "        mask = (var >= 0)\r\n",
        "        var_mod[mask] = np.log(var[mask] + 1)\r\n",
        "        var_mod[~mask] = -((-var[~mask] + 1)**2 - 1) / 2 \r\n",
        "\r\n",
        "  # Special case lambda=2\r\n",
        "    elif power == 2:\r\n",
        "        mask = (var >= 0)\r\n",
        "        var_mod[mask] = ((var[mask] + 1)**2 - 1) / 2\r\n",
        "        var_mod[~mask] = -np.log(-var[~mask] + 1)\r\n",
        "\r\n",
        "    else:\r\n",
        "        mask = (var >= 0)\r\n",
        "        var_mod[mask] = ((var[mask] + 1)**power - 1) / power\r\n",
        "        var_mod[~mask] = -((-var[~mask] + 1)**(2 - power) - 1) / (2 - power)\r\n",
        "\r\n",
        "    return pd.Series(var_mod)"
      ],
      "execution_count": 22,
      "outputs": []
    },
    {
      "cell_type": "markdown",
      "metadata": {
        "id": "3ppSK3IsOcLJ"
      },
      "source": [
        "Now let's check the histogram of the regular feature of interest and its modified versions. Pay attention to the scale. What happens as the power of the BC and YJ transformation increases? What happens to the shape of the histogram?"
      ]
    },
    {
      "cell_type": "code",
      "metadata": {
        "colab": {
          "base_uri": "https://localhost:8080/",
          "height": 282
        },
        "id": "y8eJNdcKqExg",
        "outputId": "0abb71e7-43d9-4e63-82bd-6b41170250ab"
      },
      "source": [
        "# original feature (same as set before)\r\n",
        "\r\n",
        "feature.hist(bins=20, grid=False)"
      ],
      "execution_count": 23,
      "outputs": [
        {
          "output_type": "execute_result",
          "data": {
            "text/plain": [
              "<matplotlib.axes._subplots.AxesSubplot at 0x7f42d4452f60>"
            ]
          },
          "metadata": {
            "tags": []
          },
          "execution_count": 23
        },
        {
          "output_type": "display_data",
          "data": {
            "image/png": "[encoded data removed]",
            "text/plain": [
              "<Figure size 432x288 with 1 Axes>"
            ]
          },
          "metadata": {
            "tags": [],
            "needs_background": "light"
          }
        }
      ]
    },
    {
      "cell_type": "code",
      "metadata": {
        "id": "3iU2gT6LK3n2"
      },
      "source": [
        "# Adjust coefficient of Box Cox transformation on the feature to show plot below\r\n",
        "\r\n",
        "bc1 = box_cox_transform(feature+1, power=0)  # Adding 1 as all features start at 0, not allowed in BC\r\n",
        "bc2 = box_cox_transform(feature+1, power=.5)\r\n",
        "bc3 = box_cox_transform(feature+1, power=1)"
      ],
      "execution_count": 24,
      "outputs": []
    },
    {
      "cell_type": "code",
      "metadata": {
        "colab": {
          "base_uri": "https://localhost:8080/",
          "height": 729
        },
        "id": "_qVI-FeWBWVD",
        "outputId": "a773be44-a8cf-4163-9fe6-0e86aed25163"
      },
      "source": [
        "# Plot a histogram per coefficient of BC transformation\r\n",
        "\r\n",
        "fig, (ax1, ax2, ax3) = plt.subplots(nrows=3, ncols=1)\r\n",
        "fig.set_figheight(10)\r\n",
        "fig.set_figwidth(10)\r\n",
        "\r\n",
        "ax1.hist(bc1, bins=20)\r\n",
        "ax2.hist(bc2, bins=20)\r\n",
        "ax3.hist(bc3, bins=20)\r\n",
        "\r\n",
        "ax1.set_title('Histogram Box Cox Lambda = 0')\r\n",
        "ax1.set_ylabel('Frequency')\r\n",
        "ax1.set_xlabel('Values')\r\n",
        "\r\n",
        "\r\n",
        "ax2.set_title('Histogram Box Cox Lambda = 0.5')\r\n",
        "ax2.set_ylabel('Frequency')\r\n",
        "ax2.set_xlabel('Values')\r\n",
        "\r\n",
        "\r\n",
        "ax3.set_title('Histogram Box Cox Lambda = 1')\r\n",
        "ax3.set_xlabel('Values')\r\n",
        "ax3.set_ylabel('Frequency')\r\n",
        "\r\n",
        "plt.tight_layout()\r\n",
        "plt.show()"
      ],
      "execution_count": 25,
      "outputs": [
        {
          "output_type": "display_data",
          "data": {
            "image/png": "[encoded data removed]",
            "text/plain": [
              "<Figure size 720x720 with 3 Axes>"
            ]
          },
          "metadata": {
            "tags": [],
            "needs_background": "light"
          }
        }
      ]
    },
    {
      "cell_type": "code",
      "metadata": {
        "id": "bscxmtknqQVE"
      },
      "source": [
        "# Adjust coefficient of YJ transformation on the feature to show plot below\r\n",
        "\r\n",
        "yj1 = yeo_johnson_transform(feature, power=0)\r\n",
        "yj2 = yeo_johnson_transform(feature, power=.5)\r\n",
        "yj3 = yeo_johnson_transform(feature, power=1)"
      ],
      "execution_count": 26,
      "outputs": []
    },
    {
      "cell_type": "code",
      "metadata": {
        "colab": {
          "base_uri": "https://localhost:8080/",
          "height": 729
        },
        "id": "udDSAbNdFO-K",
        "outputId": "55224ca8-94c1-4094-ac0b-ed6032278958"
      },
      "source": [
        "# Plot a histogram per coefficient of YJ transformation\r\n",
        "\r\n",
        "fig, (ax1, ax2, ax3) = plt.subplots(nrows=3, ncols=1)\r\n",
        "fig.set_figheight(10)\r\n",
        "fig.set_figwidth(10)\r\n",
        "\r\n",
        "ax1.hist(yj1, bins=20)\r\n",
        "ax2.hist(yj2, bins=20)\r\n",
        "ax3.hist(yj3, bins=20)\r\n",
        "\r\n",
        "ax1.set_title('Histogram Yeo-Johnson Lambda = 0')\r\n",
        "ax1.set_ylabel('Frequency')\r\n",
        "ax1.set_xlabel('Values')\r\n",
        "\r\n",
        "\r\n",
        "ax2.set_title('Histogram Yeo-Johnson Lambda = 0.5')\r\n",
        "ax2.set_ylabel('Frequency')\r\n",
        "ax2.set_xlabel('Values')\r\n",
        "\r\n",
        "\r\n",
        "ax3.set_title('Histogram Yeo-Johnson Lambda = 1')\r\n",
        "ax3.set_xlabel('Values')\r\n",
        "ax3.set_ylabel('Frequency')\r\n",
        "\r\n",
        "plt.tight_layout()\r\n",
        "plt.show()"
      ],
      "execution_count": 27,
      "outputs": [
        {
          "output_type": "display_data",
          "data": {
            "image/png": "[encoded data removed]",
            "text/plain": [
              "<Figure size 720x720 with 3 Axes>"
            ]
          },
          "metadata": {
            "tags": [],
            "needs_background": "light"
          }
        }
      ]
    },
    {
      "cell_type": "markdown",
      "metadata": {
        "id": "4ZW1pHcquAlK"
      },
      "source": [
        "Now that we've verified what these transformations do, we'll need to find an optimal. This is a task in the exercises to do manually. However, `scipy` functions actually do this on their own."
      ]
    },
    {
      "cell_type": "markdown",
      "metadata": {
        "id": "COvAW6bSuT8t"
      },
      "source": [
        "### Using `scipy` functions\r\n",
        "Let's now use a pre-made function and see where it finds the true maximum point of normality. We can again use the `scipy` library which we have nicknamed `stats` to fit the feature and find the optimal lambda. Let's first start with Box Cox."
      ]
    },
    {
      "cell_type": "code",
      "metadata": {
        "id": "xPRZf_G4VYK3",
        "colab": {
          "base_uri": "https://localhost:8080/"
        },
        "outputId": "5660613f-71b9-4d99-a5f4-e21a0407dac0"
      },
      "source": [
        "bc_fitted_feature, bc_fitted_lambda = stats.boxcox(feature+1) # Again, we are adding 1 because all features have 0s (not allowed in BC)\r\n",
        "\r\n",
        "bc_fitted_lambda"
      ],
      "execution_count": 28,
      "outputs": [
        {
          "output_type": "execute_result",
          "data": {
            "text/plain": [
              "0.19107151032822628"
            ]
          },
          "metadata": {
            "tags": []
          },
          "execution_count": 28
        }
      ]
    },
    {
      "cell_type": "code",
      "metadata": {
        "colab": {
          "base_uri": "https://localhost:8080/",
          "height": 281
        },
        "id": "1oFq1w6MIOkd",
        "outputId": "57fdf903-ecfc-48e3-a8bb-1d8f320667d8"
      },
      "source": [
        "plt.hist(bc_fitted_feature, bins=20)\r\n",
        "plt.title('SciPy Optimal Box Cox of Feature of Interest')\r\n",
        "plt.show()"
      ],
      "execution_count": 29,
      "outputs": [
        {
          "output_type": "display_data",
          "data": {
            "image/png": "[encoded data removed]",
            "text/plain": [
              "<Figure size 432x288 with 1 Axes>"
            ]
          },
          "metadata": {
            "tags": [],
            "needs_background": "light"
          }
        }
      ]
    },
    {
      "cell_type": "markdown",
      "metadata": {
        "id": "dpqduGkrvbh9"
      },
      "source": [
        "Now, let's do the same thing but with Yeo-Johson. We can note that the optimal lambda is the same along with the output. Due to its simplicity, it is better to use Box Cox unless you have data which does not have strictly positive values."
      ]
    },
    {
      "cell_type": "code",
      "metadata": {
        "id": "6zvxxkHmWRun",
        "colab": {
          "base_uri": "https://localhost:8080/"
        },
        "outputId": "c85152b3-2498-4a45-ccad-3ef64746c3b3"
      },
      "source": [
        "yj_fitted_feature, yj_fitted_lambda = stats.yeojohnson(feature)\r\n",
        "\r\n",
        "yj_fitted_lambda"
      ],
      "execution_count": 30,
      "outputs": [
        {
          "output_type": "execute_result",
          "data": {
            "text/plain": [
              "0.1910714444440362"
            ]
          },
          "metadata": {
            "tags": []
          },
          "execution_count": 30
        }
      ]
    },
    {
      "cell_type": "code",
      "metadata": {
        "colab": {
          "base_uri": "https://localhost:8080/",
          "height": 281
        },
        "id": "oyt8vy3cIRrY",
        "outputId": "17da6692-8288-4175-82e1-1911973efc00"
      },
      "source": [
        "plt.hist(yj_fitted_feature, bins=20)\r\n",
        "plt.title('SciPy Optimal Yeo-Johnson of Feature of Interest')\r\n",
        "plt.show()"
      ],
      "execution_count": 31,
      "outputs": [
        {
          "output_type": "display_data",
          "data": {
            "image/png": "[encoded data removed]",
            "text/plain": [
              "<Figure size 432x288 with 1 Axes>"
            ]
          },
          "metadata": {
            "tags": [],
            "needs_background": "light"
          }
        }
      ]
    },
    {
      "cell_type": "markdown",
      "metadata": {
        "id": "sPKxrQ6tv360"
      },
      "source": [
        "Lastly, let's do the normal test one last time with the optimal lambda found by `scipy`. We can see that the test statistic does not exceed the desired 0.05 but is much better than what we were dealing with previously."
      ]
    },
    {
      "cell_type": "code",
      "metadata": {
        "colab": {
          "base_uri": "https://localhost:8080/"
        },
        "id": "sapIAnqyu65C",
        "outputId": "07883ae4-d2be-41e7-ba7c-1a95bc31a7de"
      },
      "source": [
        "stats.normaltest(yj_fitted_feature)"
      ],
      "execution_count": 32,
      "outputs": [
        {
          "output_type": "execute_result",
          "data": {
            "text/plain": [
              "NormaltestResult(statistic=10.847274655668734, pvalue=0.004411072914542767)"
            ]
          },
          "metadata": {
            "tags": []
          },
          "execution_count": 32
        }
      ]
    },
    {
      "cell_type": "code",
      "metadata": {
        "colab": {
          "base_uri": "https://localhost:8080/",
          "height": 279
        },
        "id": "VQzph3Z201nV",
        "outputId": "3b42c042-45d3-48fa-88e9-04995068d218"
      },
      "source": [
        "qqplot(yj_fitted_feature, line='s')\r\n",
        "plt.show()"
      ],
      "execution_count": 33,
      "outputs": [
        {
          "output_type": "display_data",
          "data": {
            "image/png": "[encoded data removed]",
            "text/plain": [
              "<Figure size 432x288 with 1 Axes>"
            ]
          },
          "metadata": {
            "tags": [],
            "needs_background": "light"
          }
        }
      ]
    },
    {
      "cell_type": "markdown",
      "metadata": {
        "id": "hLNaQmNRHBL-"
      },
      "source": [
        "## Apply transformations on train and test data separately\r\n",
        "So, before we continue let's quickly just apply a simple transform to all of our variables. We will just standardize them for now. Remember that you should be doing any transformations separately to your train data and test data. You want to try to keep your test data as pure as possible. If you make transformations before, you risk not having a truly representative sample of new unseen data to test your model on."
      ]
    },
    {
      "cell_type": "code",
      "metadata": {
        "colab": {
          "base_uri": "https://localhost:8080/",
          "height": 306
        },
        "id": "aUCLYVyjfaJE",
        "outputId": "0e4ba620-ffcd-4c4a-96ea-4864e33313bc"
      },
      "source": [
        "numeric_vars = [\"LOAN\", \"MORTDUE\", \"VALUE\", \"YOJ\", \"DEROG\", \"DELINQ\", \"CLAGE\", \"NINQ\", \"CLNO\", \"DEBTINC\"]\r\n",
        "X_train.loc[:, numeric_vars] = X_train.select_dtypes(include='float64').apply(standardize)\r\n",
        "X_test.loc[:, numeric_vars] = X_test.select_dtypes(include='float64').apply(standardize)\r\n",
        "X_train.head()"
      ],
      "execution_count": 34,
      "outputs": [
        {
          "output_type": "stream",
          "text": [
            "/usr/local/lib/python3.6/dist-packages/pandas/core/indexing.py:1715: SettingWithCopyWarning: \n",
            "A value is trying to be set on a copy of a slice from a DataFrame.\n",
            "Try using .loc[row_indexer,col_indexer] = value instead\n",
            "\n",
            "See the caveats in the documentation: https://pandas.pydata.org/pandas-docs/stable/user_guide/indexing.html#returning-a-view-versus-a-copy\n",
            "  isetter(loc, v)\n"
          ],
          "name": "stderr"
        },
        {
          "output_type": "execute_result",
          "data": {
            "text/html": [
              "<div>\n",
              "<style scoped>\n",
              "    .dataframe tbody tr th:only-of-type {\n",
              "        vertical-align: middle;\n",
              "    }\n",
              "\n",
              "    .dataframe tbody tr th {\n",
              "        vertical-align: top;\n",
              "    }\n",
              "\n",
              "    .dataframe thead th {\n",
              "        text-align: right;\n",
              "    }\n",
              "</style>\n",
              "<table border=\"1\" class=\"dataframe\">\n",
              "  <thead>\n",
              "    <tr style=\"text-align: right;\">\n",
              "      <th></th>\n",
              "      <th>LOAN</th>\n",
              "      <th>MORTDUE</th>\n",
              "      <th>VALUE</th>\n",
              "      <th>REASON</th>\n",
              "      <th>JOB</th>\n",
              "      <th>YOJ</th>\n",
              "      <th>DEROG</th>\n",
              "      <th>DELINQ</th>\n",
              "      <th>CLAGE</th>\n",
              "      <th>NINQ</th>\n",
              "      <th>CLNO</th>\n",
              "      <th>DEBTINC</th>\n",
              "      <th>DEROGzero</th>\n",
              "    </tr>\n",
              "  </thead>\n",
              "  <tbody>\n",
              "    <tr>\n",
              "      <th>5489</th>\n",
              "      <td>1.405713</td>\n",
              "      <td>-0.332142</td>\n",
              "      <td>-0.304149</td>\n",
              "      <td>HomeImp</td>\n",
              "      <td>Self</td>\n",
              "      <td>-0.929296</td>\n",
              "      <td>-0.278895</td>\n",
              "      <td>6.022615</td>\n",
              "      <td>0.753656</td>\n",
              "      <td>1.234226</td>\n",
              "      <td>0.472971</td>\n",
              "      <td>0.142935</td>\n",
              "      <td>True</td>\n",
              "    </tr>\n",
              "    <tr>\n",
              "      <th>2184</th>\n",
              "      <td>-0.474381</td>\n",
              "      <td>1.144311</td>\n",
              "      <td>0.695934</td>\n",
              "      <td>DebtCon</td>\n",
              "      <td>ProfExe</td>\n",
              "      <td>0.853447</td>\n",
              "      <td>-0.278895</td>\n",
              "      <td>-0.371468</td>\n",
              "      <td>0.106772</td>\n",
              "      <td>-0.086270</td>\n",
              "      <td>1.077401</td>\n",
              "      <td>-0.340073</td>\n",
              "      <td>True</td>\n",
              "    </tr>\n",
              "    <tr>\n",
              "      <th>3201</th>\n",
              "      <td>-0.124816</td>\n",
              "      <td>-0.314556</td>\n",
              "      <td>-0.211870</td>\n",
              "      <td>IsMissing</td>\n",
              "      <td>ProfExe</td>\n",
              "      <td>0.030642</td>\n",
              "      <td>-0.278895</td>\n",
              "      <td>-0.371468</td>\n",
              "      <td>-0.076662</td>\n",
              "      <td>-0.086270</td>\n",
              "      <td>-0.534412</td>\n",
              "      <td>-1.595411</td>\n",
              "      <td>True</td>\n",
              "    </tr>\n",
              "    <tr>\n",
              "      <th>968</th>\n",
              "      <td>-0.871185</td>\n",
              "      <td>-0.217107</td>\n",
              "      <td>-0.586938</td>\n",
              "      <td>DebtCon</td>\n",
              "      <td>ProfExe</td>\n",
              "      <td>0.716313</td>\n",
              "      <td>-0.278895</td>\n",
              "      <td>-0.371468</td>\n",
              "      <td>-0.512230</td>\n",
              "      <td>-0.746518</td>\n",
              "      <td>-0.232197</td>\n",
              "      <td>1.304412</td>\n",
              "      <td>True</td>\n",
              "    </tr>\n",
              "    <tr>\n",
              "      <th>4773</th>\n",
              "      <td>0.612106</td>\n",
              "      <td>-0.310954</td>\n",
              "      <td>0.158129</td>\n",
              "      <td>IsMissing</td>\n",
              "      <td>Self</td>\n",
              "      <td>1.539117</td>\n",
              "      <td>-0.278895</td>\n",
              "      <td>-0.371468</td>\n",
              "      <td>-0.969389</td>\n",
              "      <td>-0.746518</td>\n",
              "      <td>-1.743272</td>\n",
              "      <td>0.142935</td>\n",
              "      <td>True</td>\n",
              "    </tr>\n",
              "  </tbody>\n",
              "</table>\n",
              "</div>"
            ],
            "text/plain": [
              "          LOAN   MORTDUE     VALUE  ...      CLNO   DEBTINC  DEROGzero\n",
              "5489  1.405713 -0.332142 -0.304149  ...  0.472971  0.142935       True\n",
              "2184 -0.474381  1.144311  0.695934  ...  1.077401 -0.340073       True\n",
              "3201 -0.124816 -0.314556 -0.211870  ... -0.534412 -1.595411       True\n",
              "968  -0.871185 -0.217107 -0.586938  ... -0.232197  1.304412       True\n",
              "4773  0.612106 -0.310954  0.158129  ... -1.743272  0.142935       True\n",
              "\n",
              "[5 rows x 13 columns]"
            ]
          },
          "metadata": {
            "tags": []
          },
          "execution_count": 34
        }
      ]
    },
    {
      "cell_type": "markdown",
      "metadata": {
        "id": "0p_2fkdGdTwU"
      },
      "source": [
        "## Encoding nominal features using weight-of-evidence coding\n",
        "\n",
        "Weight of evidence encoding or WoE can be used to check if a variable has predictive power and can replace categories with that predictive power. Let's say we are computing a binary classification problem and we want to use this method to encode a categorical variable. We would first take the percent chance of y=0 (Good) and y=1 (Bad) for each category. Bad and good are often used because WoE comes from the credit scoring industry. We will then divide these two percents and take their natural logarithm. This is the WoE for that particular category, represented mathematically below:\n",
        "\n",
        "$$ WOE_{cat} = ln\\bigg(\\frac{\\text{% Good}}{\\text{% Bad}}\\bigg) $$\n",
        "\n",
        "\n",
        "As you can see from this equation, this is a simple way to represent which categories contain the most cases of y=0 or y=1. This is then assumed to be the predictive power of the variable.\n",
        "\n",
        "Note that you could do this will a continuous variable as well, you would just have to \"bin\" the variable. For example, if you had income as a continuous variable, you can determine cut-offs for \"low earners\", \"medium earners\" and \"high earners\" or whatever split makes most sense for your case. You could also use an algorithm find the best split for you (we introduce one below).\n",
        "\n",
        "When you do your regression, you will now replace each bin or category with its respective WoE and perform the regression. The benefits of this include the ability to combine bins with similar WoE values and create more monotonic relationships which are easy to model. The drawbacks are possible loss of information and lack of ability to findd correlation between variables.\n",
        "\n",
        "### Information Value\n",
        "After calculating WoE, we can then calculate information value (IV) for a feature. This value will help us understand if the variable is useful in our prediction at all. It is calculated by finding the difference in the chance y=1 and y=0 multiplied by the WoE for each category, then summing all of these values for categories together.\n",
        " \n",
        "$$ IV = \\sum_{cat} \\bigg( \\big( p(\\text{BAD})_{cat} - p(\\text{GOOD})_{cat} \\big) * \\text{WOE}_{cat} \\bigg) $$\n",
        "\n",
        "### Adjusted Weight of Evidence\n",
        "There is also an alternative way to calculate WoE and handle missing WoE, this is called Adjusted Weight of Evidence:\n",
        "\n",
        "$$ ln \\bigg(\\frac{\\text{number of non-events}+0.5}{\\text{number of events} + 0.5} \\div \\frac{\\text{number of events} + 0.5}{\\text{number of events}} \\bigg) $$\n"
      ]
    },
    {
      "cell_type": "markdown",
      "metadata": {
        "id": "R2mNcGmudTwV"
      },
      "source": [
        "### WOE from scratch\r\n",
        "\r\n",
        "Of course, there are pre-made functions that we can use to calculate WoE. However, as usual we will try to create this by scratch initially so you can see the inner mechanics of WoE. Let's first examine the counts of each of the possible categories of `JOB`.\r\n",
        "\r\n"
      ]
    },
    {
      "cell_type": "code",
      "metadata": {
        "colab": {
          "base_uri": "https://localhost:8080/",
          "height": 310
        },
        "id": "1Q7OtE-EXaaz",
        "outputId": "fce47822-cb7f-401c-eca6-4f10c45d5d07"
      },
      "source": [
        "df['JOB'].value_counts().plot(kind='bar')"
      ],
      "execution_count": 35,
      "outputs": [
        {
          "output_type": "execute_result",
          "data": {
            "text/plain": [
              "<matplotlib.axes._subplots.AxesSubplot at 0x7f42d1a04390>"
            ]
          },
          "metadata": {
            "tags": []
          },
          "execution_count": 35
        },
        {
          "output_type": "display_data",
          "data": {
            "image/png": "[encoded data removed]",
            "text/plain": [
              "<Figure size 432x288 with 1 Axes>"
            ]
          },
          "metadata": {
            "tags": [],
            "needs_background": "light"
          }
        }
      ]
    },
    {
      "cell_type": "markdown",
      "metadata": {
        "id": "TunOZjehF9oK"
      },
      "source": [
        "#### Object Creation\r\n",
        "Instead of creating multiple functions and putting them together as we have done in the past, we are instead going to do something that is much more common in Python. We will create a new class and new methods/attributes. Note that each class starts with `class` then a name. You will then have to use `__init__` by convention to describe the initial arguments for the class. Note that `self` is always the first argument of everything in a class. This means that the originally set arguments will always be referenced after the object's initial creation. We recommend trying to create an object on your own to gain a much better understanding of how classes, methods and attributes work."
      ]
    },
    {
      "cell_type": "code",
      "metadata": {
        "id": "nG5dmS1TcAh4"
      },
      "source": [
        "class IV_Calc:\r\n",
        "    def __init__(self, df, feature, target):\r\n",
        "        self.feature = feature\r\n",
        "        self.target = target\r\n",
        "        self.data_head = df.head()\r\n",
        "\r\n",
        "    def count_values(self):\r\n",
        "        data = pd.DataFrame()\r\n",
        "        data['Count'] = df[self.feature].value_counts()               # Count instances of each category, create row for each\r\n",
        "        data['Bad'] = df.groupby([self.feature])[self.target].sum()   # Count y=1 instances of that category\r\n",
        "        data['Good'] = data['Count'] - data['Bad']                    # Count y=0 instances of that category\r\n",
        "        data = data.sort_values(by=[\"Count\"], ascending=False)\r\n",
        "    \r\n",
        "        try:\r\n",
        "            assert data[\"Bad\"].sum() != 0                               # Check that there are y=1 instances in sample\r\n",
        "            assert data[\"Good\"].sum() != 0                              # Check that there are y=0 instances in sample\r\n",
        "            assert np.isin(df[self.target].unique(), [0, 1]).all()      # Check that target includes only 0,1 or True,False\r\n",
        "        except:\r\n",
        "          print(\"Error: Target must include 2 binary classes.\")\r\n",
        "          raise                                                       # Stop running if one of the above conditions is not satisfied\r\n",
        "    \r\n",
        "        return data\r\n",
        "\r\n",
        "    def distribution(self):\r\n",
        "        data = self.count_values()\r\n",
        "        data['Ratio Bad'] = data['Bad'] / data['Count']\r\n",
        "        data['Ratio Good'] = data['Good'] / data['Count']\r\n",
        "        data[\"Distribution Bad\"] = data[\"Bad\"] / data[\"Bad\"].sum()    # Of all y=0 instances, what percentage are from each category?\r\n",
        "        data[\"Distribution Good\"] = data[\"Good\"] / data[\"Good\"].sum() # Of all y=1 instances, what percentage are from each category?\r\n",
        "        data = data.sort_values(by=[\"Count\"], ascending=False)\r\n",
        "        return data.iloc[:,-2:]\r\n",
        "  \r\n",
        "    def woe(self):\r\n",
        "        data = self.distribution()\r\n",
        "        data['WOE'] = np.log(data[\"Distribution Good\"] / data[\"Distribution Bad\"])\r\n",
        "        data.replace({\"WOE\": {np.inf: 0, -np.inf: 0}})  # If no instances are bad, this will replace values of infinity with 0\r\n",
        "        data = data.sort_values(by=[\"WOE\"], ascending=False)\r\n",
        "        return data.iloc[:,-1]\r\n",
        "  \r\n",
        "    def woe_adj(self):\r\n",
        "        data = self.count_values()\r\n",
        "        data[\"WOE_adj\"] = np.log( \r\n",
        "            ((data[\"Count\"] - data[\"Bad\"] + 0.5) / (data[\"Count\"].sum() - data[\"Bad\"].sum())) / \r\n",
        "            ((data[\"Bad\"] + 0.5) / data[\"Bad\"].sum())\r\n",
        "            )\r\n",
        "        data.replace({\"WOE_adj\": {np.inf: 0, -np.inf: 0}})\r\n",
        "        data = data.sort_values(by=[\"Count\"], ascending=False)\r\n",
        "        return data.iloc[:,-1]\r\n",
        "  \r\n",
        "    def IV_per_cat(self):\r\n",
        "        data = self.distribution()\r\n",
        "        data['WOE'] = self.woe()\r\n",
        "        data[\"IV\"] = data[\"WOE\"]*(data[\"Distribution Good\"] - data[\"Distribution Bad\"])\r\n",
        "        data = data.sort_values(by=[\"IV\"], ascending=False)\r\n",
        "        return data.iloc[:,-1]\r\n",
        "  \r\n",
        "    def full_summary(self):\r\n",
        "        data = self.count_values()\r\n",
        "        data['Ratio Bad'] = data['Bad'] / data['Count']\r\n",
        "        data['Ratio Good'] = data['Good'] / data['Count']\r\n",
        "        data[\"Distribution Bad\"] = data[\"Bad\"] / data[\"Bad\"].sum()\r\n",
        "        data[\"Distribution Good\"] = data[\"Good\"] / data[\"Good\"].sum()\r\n",
        "        data['WOE'] = self.woe()\r\n",
        "        data[\"WOE_adj\"] = self.woe_adj()\r\n",
        "        data[\"IV\"] = self.IV_per_cat()\r\n",
        "        data = data.sort_values(by=[\"Count\"], ascending=False)\r\n",
        "        return data\r\n",
        "\r\n",
        "    def final_assessment(self):\r\n",
        "        data = self.full_summary()\r\n",
        "        iv = data[\"IV\"].sum() # final IV value\r\n",
        "        if iv < .02:\r\n",
        "            print(\"The variable \" + self.feature + \" is not predictive with an IV of: {}\".format(iv))\r\n",
        "        elif iv < .1:\r\n",
        "            print(\"The variable \" + self.feature + \" is weakly predictive with an IV of:{}\".format(iv))\r\n",
        "        elif iv < .3:\r\n",
        "            print(\"The variable \" + self.feature + \" is moderately predictive with an IV of:{}\".format(iv))\r\n",
        "        else :\r\n",
        "            print(\"The variable \" + self.feature + \" is highly predictive with an IV of: {}\".format(iv))\r\n",
        "        return iv"
      ],
      "execution_count": 36,
      "outputs": []
    },
    {
      "cell_type": "code",
      "metadata": {
        "colab": {
          "base_uri": "https://localhost:8080/",
          "height": 235
        },
        "id": "D2CH23FOpVCw",
        "outputId": "5180c4d3-db68-48a2-82ec-6e15b93c9f0b"
      },
      "source": [
        "train_df = pd.concat([X_train, y_train], axis=1)\r\n",
        "\r\n",
        "woe_job = IV_Calc(train_df, feature=\"JOB\", target=\"BAD\")\r\n",
        "\r\n",
        "woe_job.full_summary()"
      ],
      "execution_count": 37,
      "outputs": [
        {
          "output_type": "execute_result",
          "data": {
            "text/html": [
              "<div>\n",
              "<style scoped>\n",
              "    .dataframe tbody tr th:only-of-type {\n",
              "        vertical-align: middle;\n",
              "    }\n",
              "\n",
              "    .dataframe tbody tr th {\n",
              "        vertical-align: top;\n",
              "    }\n",
              "\n",
              "    .dataframe thead th {\n",
              "        text-align: right;\n",
              "    }\n",
              "</style>\n",
              "<table border=\"1\" class=\"dataframe\">\n",
              "  <thead>\n",
              "    <tr style=\"text-align: right;\">\n",
              "      <th></th>\n",
              "      <th>Count</th>\n",
              "      <th>Bad</th>\n",
              "      <th>Good</th>\n",
              "      <th>Ratio Bad</th>\n",
              "      <th>Ratio Good</th>\n",
              "      <th>Distribution Bad</th>\n",
              "      <th>Distribution Good</th>\n",
              "      <th>WOE</th>\n",
              "      <th>WOE_adj</th>\n",
              "      <th>IV</th>\n",
              "    </tr>\n",
              "  </thead>\n",
              "  <tbody>\n",
              "    <tr>\n",
              "      <th>Other</th>\n",
              "      <td>2667</td>\n",
              "      <td>577</td>\n",
              "      <td>2090</td>\n",
              "      <td>0.216348</td>\n",
              "      <td>0.783652</td>\n",
              "      <td>0.485282</td>\n",
              "      <td>0.438063</td>\n",
              "      <td>-0.102366</td>\n",
              "      <td>-0.102993</td>\n",
              "      <td>0.004834</td>\n",
              "    </tr>\n",
              "    <tr>\n",
              "      <th>ProfExe</th>\n",
              "      <td>1276</td>\n",
              "      <td>212</td>\n",
              "      <td>1064</td>\n",
              "      <td>0.166144</td>\n",
              "      <td>0.833856</td>\n",
              "      <td>0.178301</td>\n",
              "      <td>0.223014</td>\n",
              "      <td>0.223761</td>\n",
              "      <td>0.221875</td>\n",
              "      <td>0.010005</td>\n",
              "    </tr>\n",
              "    <tr>\n",
              "      <th>Office</th>\n",
              "      <td>948</td>\n",
              "      <td>125</td>\n",
              "      <td>823</td>\n",
              "      <td>0.131857</td>\n",
              "      <td>0.868143</td>\n",
              "      <td>0.105130</td>\n",
              "      <td>0.172501</td>\n",
              "      <td>0.495199</td>\n",
              "      <td>0.491814</td>\n",
              "      <td>0.033362</td>\n",
              "    </tr>\n",
              "    <tr>\n",
              "      <th>Mgr</th>\n",
              "      <td>767</td>\n",
              "      <td>179</td>\n",
              "      <td>588</td>\n",
              "      <td>0.233377</td>\n",
              "      <td>0.766623</td>\n",
              "      <td>0.150547</td>\n",
              "      <td>0.123245</td>\n",
              "      <td>-0.200102</td>\n",
              "      <td>-0.202042</td>\n",
              "      <td>0.005463</td>\n",
              "    </tr>\n",
              "    <tr>\n",
              "      <th>Self</th>\n",
              "      <td>193</td>\n",
              "      <td>58</td>\n",
              "      <td>135</td>\n",
              "      <td>0.300518</td>\n",
              "      <td>0.699482</td>\n",
              "      <td>0.048780</td>\n",
              "      <td>0.028296</td>\n",
              "      <td>-0.544612</td>\n",
              "      <td>-0.549498</td>\n",
              "      <td>0.011156</td>\n",
              "    </tr>\n",
              "    <tr>\n",
              "      <th>Sales</th>\n",
              "      <td>109</td>\n",
              "      <td>38</td>\n",
              "      <td>71</td>\n",
              "      <td>0.348624</td>\n",
              "      <td>0.651376</td>\n",
              "      <td>0.031960</td>\n",
              "      <td>0.014882</td>\n",
              "      <td>-0.764350</td>\n",
              "      <td>-0.770404</td>\n",
              "      <td>0.013054</td>\n",
              "    </tr>\n",
              "  </tbody>\n",
              "</table>\n",
              "</div>"
            ],
            "text/plain": [
              "         Count  Bad  Good  ...       WOE   WOE_adj        IV\n",
              "Other     2667  577  2090  ... -0.102366 -0.102993  0.004834\n",
              "ProfExe   1276  212  1064  ...  0.223761  0.221875  0.010005\n",
              "Office     948  125   823  ...  0.495199  0.491814  0.033362\n",
              "Mgr        767  179   588  ... -0.200102 -0.202042  0.005463\n",
              "Self       193   58   135  ... -0.544612 -0.549498  0.011156\n",
              "Sales      109   38    71  ... -0.764350 -0.770404  0.013054\n",
              "\n",
              "[6 rows x 10 columns]"
            ]
          },
          "metadata": {
            "tags": []
          },
          "execution_count": 37
        }
      ]
    },
    {
      "cell_type": "code",
      "metadata": {
        "colab": {
          "base_uri": "https://localhost:8080/"
        },
        "id": "-P1FIfJqJhy3",
        "outputId": "8b2e2ded-7b07-4602-df50-40160bef96ab"
      },
      "source": [
        "woe_job.final_assessment()"
      ],
      "execution_count": 38,
      "outputs": [
        {
          "output_type": "stream",
          "text": [
            "The variable JOB is weakly predictive with an IV of:0.07787316133784931\n"
          ],
          "name": "stdout"
        },
        {
          "output_type": "execute_result",
          "data": {
            "text/plain": [
              "0.07787316133784931"
            ]
          },
          "metadata": {
            "tags": []
          },
          "execution_count": 38
        }
      ]
    },
    {
      "cell_type": "markdown",
      "metadata": {
        "id": "7M6M4UzfdTwa"
      },
      "source": [
        "We can now plot the WoE for each category and see how they compare. Keep in mind that this variable is only weakly predictive for our scenario. We can check the WoE for each of the categories as well. At this point we should decide whether it is actually worth it to continue using it in our analysis. If we do, we can replace these categories with their respective WoE values."
      ]
    },
    {
      "cell_type": "code",
      "metadata": {
        "id": "BRBEabG8dTwd",
        "colab": {
          "base_uri": "https://localhost:8080/",
          "height": 340
        },
        "outputId": "2d78ebbd-72fe-4b09-bad4-34dbe043b12b"
      },
      "source": [
        "woe_job.woe().plot(kind=\"bar\", title=\"WoE of Categories of JOB\", ylabel=\"WoE\", xlabel=\"Categories\")"
      ],
      "execution_count": 39,
      "outputs": [
        {
          "output_type": "execute_result",
          "data": {
            "text/plain": [
              "<matplotlib.axes._subplots.AxesSubplot at 0x7f42d18e6390>"
            ]
          },
          "metadata": {
            "tags": []
          },
          "execution_count": 39
        },
        {
          "output_type": "display_data",
          "data": {
            "image/png": "[encoded data removed]",
            "text/plain": [
              "<Figure size 432x288 with 1 Axes>"
            ]
          },
          "metadata": {
            "tags": [],
            "needs_background": "light"
          }
        }
      ]
    },
    {
      "cell_type": "markdown",
      "metadata": {
        "id": "OeQc6bVhdTwd"
      },
      "source": [
        "### WoE using `scorecardpy`\r\n",
        "\r\n",
        "If you would like a quick implementation of the above, you can check out the package scorecardpy. You can view the documentation [here](https://pypi.org/project/scorecardpy/). If you enter a continuous variable as an argument, the function will automatically try to create bins that maximize the variable's usefulness as a WoE variable."
      ]
    },
    {
      "cell_type": "code",
      "metadata": {
        "colab": {
          "base_uri": "https://localhost:8080/"
        },
        "id": "zn1g6G-oHOJ4",
        "outputId": "6958edd8-aa0f-453d-b154-b3b110c81ea7"
      },
      "source": [
        "!pip install scorecardpy\r\n",
        "import scorecardpy as sc"
      ],
      "execution_count": 40,
      "outputs": [
        {
          "output_type": "stream",
          "text": [
            "Requirement already satisfied: scorecardpy in /usr/local/lib/python3.6/dist-packages (0.1.9.2)\n",
            "Requirement already satisfied: scikit-learn>=0.19.1 in /usr/local/lib/python3.6/dist-packages (from scorecardpy) (0.22.2.post1)\n",
            "Requirement already satisfied: pandas>=0.25.0 in /usr/local/lib/python3.6/dist-packages (from scorecardpy) (1.1.5)\n",
            "Requirement already satisfied: matplotlib in /usr/local/lib/python3.6/dist-packages (from scorecardpy) (3.2.2)\n",
            "Requirement already satisfied: numpy in /usr/local/lib/python3.6/dist-packages (from scorecardpy) (1.19.4)\n",
            "Requirement already satisfied: scipy>=0.17.0 in /usr/local/lib/python3.6/dist-packages (from scikit-learn>=0.19.1->scorecardpy) (1.4.1)\n",
            "Requirement already satisfied: joblib>=0.11 in /usr/local/lib/python3.6/dist-packages (from scikit-learn>=0.19.1->scorecardpy) (1.0.0)\n",
            "Requirement already satisfied: python-dateutil>=2.7.3 in /usr/local/lib/python3.6/dist-packages (from pandas>=0.25.0->scorecardpy) (2.8.1)\n",
            "Requirement already satisfied: pytz>=2017.2 in /usr/local/lib/python3.6/dist-packages (from pandas>=0.25.0->scorecardpy) (2018.9)\n",
            "Requirement already satisfied: cycler>=0.10 in /usr/local/lib/python3.6/dist-packages (from matplotlib->scorecardpy) (0.10.0)\n",
            "Requirement already satisfied: pyparsing!=2.0.4,!=2.1.2,!=2.1.6,>=2.0.1 in /usr/local/lib/python3.6/dist-packages (from matplotlib->scorecardpy) (2.4.7)\n",
            "Requirement already satisfied: kiwisolver>=1.0.1 in /usr/local/lib/python3.6/dist-packages (from matplotlib->scorecardpy) (1.3.1)\n",
            "Requirement already satisfied: six>=1.5 in /usr/local/lib/python3.6/dist-packages (from python-dateutil>=2.7.3->pandas>=0.25.0->scorecardpy) (1.15.0)\n"
          ],
          "name": "stdout"
        }
      ]
    },
    {
      "cell_type": "code",
      "metadata": {
        "colab": {
          "base_uri": "https://localhost:8080/",
          "height": 315
        },
        "id": "Wm88yDyWWlmX",
        "outputId": "b4eb57c6-2c58-4218-f844-2316853c5d46"
      },
      "source": [
        "woe = sc.woebin(train_df, y=\"BAD\", x='CLAGE')\r\n",
        "sc.woebin_plot(woe)"
      ],
      "execution_count": 41,
      "outputs": [
        {
          "output_type": "stream",
          "text": [
            "[INFO] creating woe binning ...\n"
          ],
          "name": "stdout"
        },
        {
          "output_type": "execute_result",
          "data": {
            "text/plain": [
              "{'CLAGE': <Figure size 432x288 with 2 Axes>}"
            ]
          },
          "metadata": {
            "tags": []
          },
          "execution_count": 41
        },
        {
          "output_type": "display_data",
          "data": {
            "image/png": "[encoded data removed]",
            "text/plain": [
              "<Figure size 432x288 with 2 Axes>"
            ]
          },
          "metadata": {
            "tags": [],
            "needs_background": "light"
          }
        }
      ]
    },
    {
      "cell_type": "code",
      "metadata": {
        "colab": {
          "base_uri": "https://localhost:8080/",
          "height": 436
        },
        "id": "d_afJrh-ZWu5",
        "outputId": "e3666178-9d24-48ba-ccfb-c46d2afb651b"
      },
      "source": [
        "sc.woebin_ply(train_df, woe) # if you would like to replace the variable with its WoE, you can do so using the woebin_ply function"
      ],
      "execution_count": 42,
      "outputs": [
        {
          "output_type": "stream",
          "text": [
            "[INFO] converting into woe values ...\n"
          ],
          "name": "stdout"
        },
        {
          "output_type": "execute_result",
          "data": {
            "text/html": [
              "<div>\n",
              "<style scoped>\n",
              "    .dataframe tbody tr th:only-of-type {\n",
              "        vertical-align: middle;\n",
              "    }\n",
              "\n",
              "    .dataframe tbody tr th {\n",
              "        vertical-align: top;\n",
              "    }\n",
              "\n",
              "    .dataframe thead th {\n",
              "        text-align: right;\n",
              "    }\n",
              "</style>\n",
              "<table border=\"1\" class=\"dataframe\">\n",
              "  <thead>\n",
              "    <tr style=\"text-align: right;\">\n",
              "      <th></th>\n",
              "      <th>YOJ</th>\n",
              "      <th>BAD</th>\n",
              "      <th>VALUE</th>\n",
              "      <th>JOB</th>\n",
              "      <th>DELINQ</th>\n",
              "      <th>REASON</th>\n",
              "      <th>NINQ</th>\n",
              "      <th>DEROGzero</th>\n",
              "      <th>DEROG</th>\n",
              "      <th>LOAN</th>\n",
              "      <th>CLNO</th>\n",
              "      <th>MORTDUE</th>\n",
              "      <th>DEBTINC</th>\n",
              "      <th>CLAGE_woe</th>\n",
              "    </tr>\n",
              "  </thead>\n",
              "  <tbody>\n",
              "    <tr>\n",
              "      <th>1</th>\n",
              "      <td>-0.243626</td>\n",
              "      <td>True</td>\n",
              "      <td>-0.629036</td>\n",
              "      <td>Other</td>\n",
              "      <td>1.455413</td>\n",
              "      <td>HomeImp</td>\n",
              "      <td>-0.746518</td>\n",
              "      <td>True</td>\n",
              "      <td>-0.278895</td>\n",
              "      <td>-1.627002</td>\n",
              "      <td>-0.735888</td>\n",
              "      <td>-0.053675</td>\n",
              "      <td>0.142935</td>\n",
              "      <td>0.218213</td>\n",
              "    </tr>\n",
              "    <tr>\n",
              "      <th>2</th>\n",
              "      <td>-0.655028</td>\n",
              "      <td>True</td>\n",
              "      <td>-1.640882</td>\n",
              "      <td>Other</td>\n",
              "      <td>-0.371468</td>\n",
              "      <td>HomeImp</td>\n",
              "      <td>-0.086270</td>\n",
              "      <td>True</td>\n",
              "      <td>-0.278895</td>\n",
              "      <td>-1.608106</td>\n",
              "      <td>-1.138842</td>\n",
              "      <td>-1.478456</td>\n",
              "      <td>0.142935</td>\n",
              "      <td>0.218213</td>\n",
              "    </tr>\n",
              "    <tr>\n",
              "      <th>3</th>\n",
              "      <td>-0.243626</td>\n",
              "      <td>True</td>\n",
              "      <td>-0.221254</td>\n",
              "      <td>Other</td>\n",
              "      <td>-0.371468</td>\n",
              "      <td>IsMissing</td>\n",
              "      <td>-0.086270</td>\n",
              "      <td>True</td>\n",
              "      <td>-0.278895</td>\n",
              "      <td>-1.608106</td>\n",
              "      <td>-0.131458</td>\n",
              "      <td>-0.180501</td>\n",
              "      <td>0.142935</td>\n",
              "      <td>0.218213</td>\n",
              "    </tr>\n",
              "    <tr>\n",
              "      <th>5</th>\n",
              "      <td>0.030642</td>\n",
              "      <td>True</td>\n",
              "      <td>-1.178604</td>\n",
              "      <td>Other</td>\n",
              "      <td>-0.371468</td>\n",
              "      <td>HomeImp</td>\n",
              "      <td>-0.086270</td>\n",
              "      <td>True</td>\n",
              "      <td>-0.278895</td>\n",
              "      <td>-1.589211</td>\n",
              "      <td>-1.340318</td>\n",
              "      <td>-1.048953</td>\n",
              "      <td>0.490730</td>\n",
              "      <td>0.218213</td>\n",
              "    </tr>\n",
              "    <tr>\n",
              "      <th>6</th>\n",
              "      <td>-0.517894</td>\n",
              "      <td>True</td>\n",
              "      <td>-0.851427</td>\n",
              "      <td>Other</td>\n",
              "      <td>1.455413</td>\n",
              "      <td>HomeImp</td>\n",
              "      <td>-0.086270</td>\n",
              "      <td>False</td>\n",
              "      <td>3.470464</td>\n",
              "      <td>-1.579763</td>\n",
              "      <td>-0.433673</td>\n",
              "      <td>-0.592922</td>\n",
              "      <td>0.142935</td>\n",
              "      <td>0.629689</td>\n",
              "    </tr>\n",
              "    <tr>\n",
              "      <th>...</th>\n",
              "      <td>...</td>\n",
              "      <td>...</td>\n",
              "      <td>...</td>\n",
              "      <td>...</td>\n",
              "      <td>...</td>\n",
              "      <td>...</td>\n",
              "      <td>...</td>\n",
              "      <td>...</td>\n",
              "      <td>...</td>\n",
              "      <td>...</td>\n",
              "      <td>...</td>\n",
              "      <td>...</td>\n",
              "      <td>...</td>\n",
              "      <td>...</td>\n",
              "    </tr>\n",
              "    <tr>\n",
              "      <th>5955</th>\n",
              "      <td>0.990581</td>\n",
              "      <td>False</td>\n",
              "      <td>-0.202671</td>\n",
              "      <td>Other</td>\n",
              "      <td>-0.371468</td>\n",
              "      <td>DebtCon</td>\n",
              "      <td>-0.746518</td>\n",
              "      <td>True</td>\n",
              "      <td>-0.278895</td>\n",
              "      <td>3.909357</td>\n",
              "      <td>-0.534412</td>\n",
              "      <td>-0.375878</td>\n",
              "      <td>0.339017</td>\n",
              "      <td>-0.451751</td>\n",
              "    </tr>\n",
              "    <tr>\n",
              "      <th>5956</th>\n",
              "      <td>0.990581</td>\n",
              "      <td>False</td>\n",
              "      <td>-0.148810</td>\n",
              "      <td>Other</td>\n",
              "      <td>-0.371468</td>\n",
              "      <td>DebtCon</td>\n",
              "      <td>-0.746518</td>\n",
              "      <td>True</td>\n",
              "      <td>-0.278895</td>\n",
              "      <td>3.909357</td>\n",
              "      <td>-0.635150</td>\n",
              "      <td>-0.443599</td>\n",
              "      <td>0.300777</td>\n",
              "      <td>-0.451751</td>\n",
              "    </tr>\n",
              "    <tr>\n",
              "      <th>5957</th>\n",
              "      <td>0.853447</td>\n",
              "      <td>False</td>\n",
              "      <td>-0.149065</td>\n",
              "      <td>Other</td>\n",
              "      <td>-0.371468</td>\n",
              "      <td>DebtCon</td>\n",
              "      <td>-0.746518</td>\n",
              "      <td>True</td>\n",
              "      <td>-0.278895</td>\n",
              "      <td>3.909357</td>\n",
              "      <td>-0.635150</td>\n",
              "      <td>-0.456976</td>\n",
              "      <td>0.254808</td>\n",
              "      <td>-0.451751</td>\n",
              "    </tr>\n",
              "    <tr>\n",
              "      <th>5958</th>\n",
              "      <td>0.716313</td>\n",
              "      <td>False</td>\n",
              "      <td>-0.169869</td>\n",
              "      <td>Other</td>\n",
              "      <td>-0.371468</td>\n",
              "      <td>DebtCon</td>\n",
              "      <td>-0.746518</td>\n",
              "      <td>True</td>\n",
              "      <td>-0.278895</td>\n",
              "      <td>3.909357</td>\n",
              "      <td>-0.534412</td>\n",
              "      <td>-0.549563</td>\n",
              "      <td>0.070602</td>\n",
              "      <td>-0.451751</td>\n",
              "    </tr>\n",
              "    <tr>\n",
              "      <th>5959</th>\n",
              "      <td>0.853447</td>\n",
              "      <td>False</td>\n",
              "      <td>-0.227155</td>\n",
              "      <td>Other</td>\n",
              "      <td>-0.371468</td>\n",
              "      <td>DebtCon</td>\n",
              "      <td>-0.746518</td>\n",
              "      <td>True</td>\n",
              "      <td>-0.278895</td>\n",
              "      <td>3.909357</td>\n",
              "      <td>-0.534412</td>\n",
              "      <td>-0.588840</td>\n",
              "      <td>0.105549</td>\n",
              "      <td>-0.451751</td>\n",
              "    </tr>\n",
              "  </tbody>\n",
              "</table>\n",
              "<p>4768 rows × 14 columns</p>\n",
              "</div>"
            ],
            "text/plain": [
              "           YOJ    BAD     VALUE    JOB  ...      CLNO   MORTDUE   DEBTINC  CLAGE_woe\n",
              "1    -0.243626   True -0.629036  Other  ... -0.735888 -0.053675  0.142935   0.218213\n",
              "2    -0.655028   True -1.640882  Other  ... -1.138842 -1.478456  0.142935   0.218213\n",
              "3    -0.243626   True -0.221254  Other  ... -0.131458 -0.180501  0.142935   0.218213\n",
              "5     0.030642   True -1.178604  Other  ... -1.340318 -1.048953  0.490730   0.218213\n",
              "6    -0.517894   True -0.851427  Other  ... -0.433673 -0.592922  0.142935   0.629689\n",
              "...        ...    ...       ...    ...  ...       ...       ...       ...        ...\n",
              "5955  0.990581  False -0.202671  Other  ... -0.534412 -0.375878  0.339017  -0.451751\n",
              "5956  0.990581  False -0.148810  Other  ... -0.635150 -0.443599  0.300777  -0.451751\n",
              "5957  0.853447  False -0.149065  Other  ... -0.635150 -0.456976  0.254808  -0.451751\n",
              "5958  0.716313  False -0.169869  Other  ... -0.534412 -0.549563  0.070602  -0.451751\n",
              "5959  0.853447  False -0.227155  Other  ... -0.534412 -0.588840  0.105549  -0.451751\n",
              "\n",
              "[4768 rows x 14 columns]"
            ]
          },
          "metadata": {
            "tags": []
          },
          "execution_count": 42
        }
      ]
    },
    {
      "cell_type": "markdown",
      "metadata": {
        "id": "UYnR6AxwUh-f"
      },
      "source": [
        "### Checking model performance: WoE vs. Dummies\r\n",
        "\r\n",
        "Let's now try to perform a logistic regression using a one-hot encoded version of the dataframe and a version using WoE. first let's start with one-hot encoding and see how the model performs."
      ]
    },
    {
      "cell_type": "code",
      "metadata": {
        "colab": {
          "base_uri": "https://localhost:8080/",
          "height": 419
        },
        "id": "z_RxPDU9cf_g",
        "outputId": "191c52d8-9c8d-4de6-b6f2-3612ec356da3"
      },
      "source": [
        "X_train_dummies = pd.get_dummies(X_train, columns = ['REASON', 'JOB'])\r\n",
        "X_test_dummies = pd.get_dummies(X_test, columns = ['REASON', 'JOB'])\r\n",
        "\r\n",
        "X_train_dummies"
      ],
      "execution_count": 43,
      "outputs": [
        {
          "output_type": "execute_result",
          "data": {
            "text/html": [
              "<div>\n",
              "<style scoped>\n",
              "    .dataframe tbody tr th:only-of-type {\n",
              "        vertical-align: middle;\n",
              "    }\n",
              "\n",
              "    .dataframe tbody tr th {\n",
              "        vertical-align: top;\n",
              "    }\n",
              "\n",
              "    .dataframe thead th {\n",
              "        text-align: right;\n",
              "    }\n",
              "</style>\n",
              "<table border=\"1\" class=\"dataframe\">\n",
              "  <thead>\n",
              "    <tr style=\"text-align: right;\">\n",
              "      <th></th>\n",
              "      <th>LOAN</th>\n",
              "      <th>MORTDUE</th>\n",
              "      <th>VALUE</th>\n",
              "      <th>YOJ</th>\n",
              "      <th>DEROG</th>\n",
              "      <th>DELINQ</th>\n",
              "      <th>CLAGE</th>\n",
              "      <th>NINQ</th>\n",
              "      <th>CLNO</th>\n",
              "      <th>DEBTINC</th>\n",
              "      <th>DEROGzero</th>\n",
              "      <th>REASON_DebtCon</th>\n",
              "      <th>REASON_HomeImp</th>\n",
              "      <th>REASON_IsMissing</th>\n",
              "      <th>JOB_Mgr</th>\n",
              "      <th>JOB_Office</th>\n",
              "      <th>JOB_Other</th>\n",
              "      <th>JOB_ProfExe</th>\n",
              "      <th>JOB_Sales</th>\n",
              "      <th>JOB_Self</th>\n",
              "    </tr>\n",
              "  </thead>\n",
              "  <tbody>\n",
              "    <tr>\n",
              "      <th>5489</th>\n",
              "      <td>1.405713</td>\n",
              "      <td>-0.332142</td>\n",
              "      <td>-0.304149</td>\n",
              "      <td>-0.929296</td>\n",
              "      <td>-0.278895</td>\n",
              "      <td>6.022615</td>\n",
              "      <td>0.753656</td>\n",
              "      <td>1.234226</td>\n",
              "      <td>0.472971</td>\n",
              "      <td>0.142935</td>\n",
              "      <td>True</td>\n",
              "      <td>0</td>\n",
              "      <td>1</td>\n",
              "      <td>0</td>\n",
              "      <td>0</td>\n",
              "      <td>0</td>\n",
              "      <td>0</td>\n",
              "      <td>0</td>\n",
              "      <td>0</td>\n",
              "      <td>1</td>\n",
              "    </tr>\n",
              "    <tr>\n",
              "      <th>2184</th>\n",
              "      <td>-0.474381</td>\n",
              "      <td>1.144311</td>\n",
              "      <td>0.695934</td>\n",
              "      <td>0.853447</td>\n",
              "      <td>-0.278895</td>\n",
              "      <td>-0.371468</td>\n",
              "      <td>0.106772</td>\n",
              "      <td>-0.086270</td>\n",
              "      <td>1.077401</td>\n",
              "      <td>-0.340073</td>\n",
              "      <td>True</td>\n",
              "      <td>1</td>\n",
              "      <td>0</td>\n",
              "      <td>0</td>\n",
              "      <td>0</td>\n",
              "      <td>0</td>\n",
              "      <td>0</td>\n",
              "      <td>1</td>\n",
              "      <td>0</td>\n",
              "      <td>0</td>\n",
              "    </tr>\n",
              "    <tr>\n",
              "      <th>3201</th>\n",
              "      <td>-0.124816</td>\n",
              "      <td>-0.314556</td>\n",
              "      <td>-0.211870</td>\n",
              "      <td>0.030642</td>\n",
              "      <td>-0.278895</td>\n",
              "      <td>-0.371468</td>\n",
              "      <td>-0.076662</td>\n",
              "      <td>-0.086270</td>\n",
              "      <td>-0.534412</td>\n",
              "      <td>-1.595411</td>\n",
              "      <td>True</td>\n",
              "      <td>0</td>\n",
              "      <td>0</td>\n",
              "      <td>1</td>\n",
              "      <td>0</td>\n",
              "      <td>0</td>\n",
              "      <td>0</td>\n",
              "      <td>1</td>\n",
              "      <td>0</td>\n",
              "      <td>0</td>\n",
              "    </tr>\n",
              "    <tr>\n",
              "      <th>968</th>\n",
              "      <td>-0.871185</td>\n",
              "      <td>-0.217107</td>\n",
              "      <td>-0.586938</td>\n",
              "      <td>0.716313</td>\n",
              "      <td>-0.278895</td>\n",
              "      <td>-0.371468</td>\n",
              "      <td>-0.512230</td>\n",
              "      <td>-0.746518</td>\n",
              "      <td>-0.232197</td>\n",
              "      <td>1.304412</td>\n",
              "      <td>True</td>\n",
              "      <td>1</td>\n",
              "      <td>0</td>\n",
              "      <td>0</td>\n",
              "      <td>0</td>\n",
              "      <td>0</td>\n",
              "      <td>0</td>\n",
              "      <td>1</td>\n",
              "      <td>0</td>\n",
              "      <td>0</td>\n",
              "    </tr>\n",
              "    <tr>\n",
              "      <th>4773</th>\n",
              "      <td>0.612106</td>\n",
              "      <td>-0.310954</td>\n",
              "      <td>0.158129</td>\n",
              "      <td>1.539117</td>\n",
              "      <td>-0.278895</td>\n",
              "      <td>-0.371468</td>\n",
              "      <td>-0.969389</td>\n",
              "      <td>-0.746518</td>\n",
              "      <td>-1.743272</td>\n",
              "      <td>0.142935</td>\n",
              "      <td>True</td>\n",
              "      <td>0</td>\n",
              "      <td>0</td>\n",
              "      <td>1</td>\n",
              "      <td>0</td>\n",
              "      <td>0</td>\n",
              "      <td>0</td>\n",
              "      <td>0</td>\n",
              "      <td>0</td>\n",
              "      <td>1</td>\n",
              "    </tr>\n",
              "    <tr>\n",
              "      <th>...</th>\n",
              "      <td>...</td>\n",
              "      <td>...</td>\n",
              "      <td>...</td>\n",
              "      <td>...</td>\n",
              "      <td>...</td>\n",
              "      <td>...</td>\n",
              "      <td>...</td>\n",
              "      <td>...</td>\n",
              "      <td>...</td>\n",
              "      <td>...</td>\n",
              "      <td>...</td>\n",
              "      <td>...</td>\n",
              "      <td>...</td>\n",
              "      <td>...</td>\n",
              "      <td>...</td>\n",
              "      <td>...</td>\n",
              "      <td>...</td>\n",
              "      <td>...</td>\n",
              "      <td>...</td>\n",
              "      <td>...</td>\n",
              "    </tr>\n",
              "    <tr>\n",
              "      <th>4096</th>\n",
              "      <td>0.271988</td>\n",
              "      <td>-0.695611</td>\n",
              "      <td>-0.384099</td>\n",
              "      <td>-0.243626</td>\n",
              "      <td>-0.278895</td>\n",
              "      <td>-0.371468</td>\n",
              "      <td>-0.076662</td>\n",
              "      <td>-0.086270</td>\n",
              "      <td>-0.131458</td>\n",
              "      <td>0.598856</td>\n",
              "      <td>True</td>\n",
              "      <td>0</td>\n",
              "      <td>0</td>\n",
              "      <td>1</td>\n",
              "      <td>0</td>\n",
              "      <td>0</td>\n",
              "      <td>1</td>\n",
              "      <td>0</td>\n",
              "      <td>0</td>\n",
              "      <td>0</td>\n",
              "    </tr>\n",
              "    <tr>\n",
              "      <th>4527</th>\n",
              "      <td>0.479838</td>\n",
              "      <td>1.733743</td>\n",
              "      <td>1.457285</td>\n",
              "      <td>-0.929296</td>\n",
              "      <td>-0.278895</td>\n",
              "      <td>-0.371468</td>\n",
              "      <td>0.162638</td>\n",
              "      <td>-0.746518</td>\n",
              "      <td>1.379616</td>\n",
              "      <td>0.142935</td>\n",
              "      <td>True</td>\n",
              "      <td>1</td>\n",
              "      <td>0</td>\n",
              "      <td>0</td>\n",
              "      <td>0</td>\n",
              "      <td>0</td>\n",
              "      <td>1</td>\n",
              "      <td>0</td>\n",
              "      <td>0</td>\n",
              "      <td>0</td>\n",
              "    </tr>\n",
              "    <tr>\n",
              "      <th>1373</th>\n",
              "      <td>-0.738917</td>\n",
              "      <td>1.313764</td>\n",
              "      <td>1.483706</td>\n",
              "      <td>-0.106492</td>\n",
              "      <td>-0.278895</td>\n",
              "      <td>-0.371468</td>\n",
              "      <td>0.532967</td>\n",
              "      <td>-0.086270</td>\n",
              "      <td>-0.232197</td>\n",
              "      <td>0.013615</td>\n",
              "      <td>True</td>\n",
              "      <td>1</td>\n",
              "      <td>0</td>\n",
              "      <td>0</td>\n",
              "      <td>0</td>\n",
              "      <td>0</td>\n",
              "      <td>1</td>\n",
              "      <td>0</td>\n",
              "      <td>0</td>\n",
              "      <td>0</td>\n",
              "    </tr>\n",
              "    <tr>\n",
              "      <th>1113</th>\n",
              "      <td>-0.814498</td>\n",
              "      <td>-1.600066</td>\n",
              "      <td>-1.238805</td>\n",
              "      <td>-0.655028</td>\n",
              "      <td>-0.278895</td>\n",
              "      <td>-0.371468</td>\n",
              "      <td>0.955106</td>\n",
              "      <td>-0.746518</td>\n",
              "      <td>-0.937365</td>\n",
              "      <td>-1.421061</td>\n",
              "      <td>True</td>\n",
              "      <td>1</td>\n",
              "      <td>0</td>\n",
              "      <td>0</td>\n",
              "      <td>0</td>\n",
              "      <td>0</td>\n",
              "      <td>1</td>\n",
              "      <td>0</td>\n",
              "      <td>0</td>\n",
              "      <td>0</td>\n",
              "    </tr>\n",
              "    <tr>\n",
              "      <th>2205</th>\n",
              "      <td>-0.464933</td>\n",
              "      <td>-1.498006</td>\n",
              "      <td>-0.949695</td>\n",
              "      <td>2.087653</td>\n",
              "      <td>-0.278895</td>\n",
              "      <td>0.541972</td>\n",
              "      <td>1.115650</td>\n",
              "      <td>-0.746518</td>\n",
              "      <td>-0.232197</td>\n",
              "      <td>-0.864049</td>\n",
              "      <td>True</td>\n",
              "      <td>0</td>\n",
              "      <td>1</td>\n",
              "      <td>0</td>\n",
              "      <td>0</td>\n",
              "      <td>1</td>\n",
              "      <td>0</td>\n",
              "      <td>0</td>\n",
              "      <td>0</td>\n",
              "      <td>0</td>\n",
              "    </tr>\n",
              "  </tbody>\n",
              "</table>\n",
              "<p>4768 rows × 20 columns</p>\n",
              "</div>"
            ],
            "text/plain": [
              "          LOAN   MORTDUE     VALUE  ...  JOB_ProfExe  JOB_Sales  JOB_Self\n",
              "5489  1.405713 -0.332142 -0.304149  ...            0          0         1\n",
              "2184 -0.474381  1.144311  0.695934  ...            1          0         0\n",
              "3201 -0.124816 -0.314556 -0.211870  ...            1          0         0\n",
              "968  -0.871185 -0.217107 -0.586938  ...            1          0         0\n",
              "4773  0.612106 -0.310954  0.158129  ...            0          0         1\n",
              "...        ...       ...       ...  ...          ...        ...       ...\n",
              "4096  0.271988 -0.695611 -0.384099  ...            0          0         0\n",
              "4527  0.479838  1.733743  1.457285  ...            0          0         0\n",
              "1373 -0.738917  1.313764  1.483706  ...            0          0         0\n",
              "1113 -0.814498 -1.600066 -1.238805  ...            0          0         0\n",
              "2205 -0.464933 -1.498006 -0.949695  ...            0          0         0\n",
              "\n",
              "[4768 rows x 20 columns]"
            ]
          },
          "metadata": {
            "tags": []
          },
          "execution_count": 43
        }
      ]
    },
    {
      "cell_type": "code",
      "metadata": {
        "colab": {
          "base_uri": "https://localhost:8080/"
        },
        "id": "xaY43CY7dRNv",
        "outputId": "b250da9c-2dc0-4bee-c0d4-6f770206e8dd"
      },
      "source": [
        "import statsmodels.api as sm \r\n",
        "\r\n",
        "log_reg_dummies = sm.Logit(y_train, X_train_dummies.astype(float)).fit() \r\n",
        "print(log_reg_dummies.summary())"
      ],
      "execution_count": 44,
      "outputs": [
        {
          "output_type": "stream",
          "text": [
            "Optimization terminated successfully.\n",
            "         Current function value: 0.385498\n",
            "         Iterations 7\n",
            "                           Logit Regression Results                           \n",
            "==============================================================================\n",
            "Dep. Variable:                    BAD   No. Observations:                 4768\n",
            "Model:                          Logit   Df Residuals:                     4749\n",
            "Method:                           MLE   Df Model:                           18\n",
            "Date:                Wed, 30 Dec 2020   Pseudo R-squ.:                  0.2253\n",
            "Time:                        16:11:41   Log-Likelihood:                -1838.1\n",
            "converged:                       True   LL-Null:                       -2372.5\n",
            "Covariance Type:            nonrobust   LLR p-value:                1.250e-215\n",
            "====================================================================================\n",
            "                       coef    std err          z      P>|z|      [0.025      0.975]\n",
            "------------------------------------------------------------------------------------\n",
            "LOAN                -0.1792      0.050     -3.598      0.000      -0.277      -0.082\n",
            "MORTDUE             -0.1684      0.083     -2.032      0.042      -0.331      -0.006\n",
            "VALUE                0.1055      0.087      1.214      0.225      -0.065       0.276\n",
            "YOJ                 -0.0487      0.047     -1.040      0.298      -0.140       0.043\n",
            "DEROG                0.3639      0.070      5.236      0.000       0.228       0.500\n",
            "DELINQ               0.8089      0.047     17.331      0.000       0.717       0.900\n",
            "CLAGE               -0.4814      0.050     -9.578      0.000      -0.580      -0.383\n",
            "NINQ                 0.2740      0.039      7.084      0.000       0.198       0.350\n",
            "CLNO                -0.1491      0.048     -3.095      0.002      -0.244      -0.055\n",
            "DEBTINC              0.4934      0.050      9.862      0.000       0.395       0.591\n",
            "DEROGzero           -0.3487      0.184     -1.891      0.059      -0.710       0.013\n",
            "REASON_DebtCon      -0.9250   2.02e+06  -4.57e-07      1.000   -3.97e+06    3.97e+06\n",
            "REASON_HomeImp      -0.6312   2.02e+06  -3.12e-07      1.000   -3.97e+06    3.97e+06\n",
            "REASON_IsMissing    -0.8259   2.02e+06  -4.08e-07      1.000   -3.97e+06    3.97e+06\n",
            "JOB_Mgr             -0.5876   2.02e+06   -2.9e-07      1.000   -3.97e+06    3.97e+06\n",
            "JOB_Office          -1.0988   2.02e+06  -5.43e-07      1.000   -3.97e+06    3.97e+06\n",
            "JOB_Other           -0.5351   2.02e+06  -2.64e-07      1.000   -3.97e+06    3.97e+06\n",
            "JOB_ProfExe         -0.5078   2.02e+06  -2.51e-07      1.000   -3.97e+06    3.97e+06\n",
            "JOB_Sales            0.3757   2.02e+06   1.86e-07      1.000   -3.97e+06    3.97e+06\n",
            "JOB_Self            -0.0285   2.02e+06  -1.41e-08      1.000   -3.97e+06    3.97e+06\n",
            "====================================================================================\n"
          ],
          "name": "stdout"
        }
      ]
    },
    {
      "cell_type": "code",
      "metadata": {
        "colab": {
          "base_uri": "https://localhost:8080/"
        },
        "id": "GVrVIvbjfPwv",
        "outputId": "4ce5e61e-983f-42c8-e975-de61f3434e3a"
      },
      "source": [
        "from sklearn.metrics import roc_auc_score\r\n",
        "\r\n",
        "y_pred = log_reg_dummies.predict(X_test_dummies.astype(float))\r\n",
        "roc_auc_score(y_test, y_pred)"
      ],
      "execution_count": 45,
      "outputs": [
        {
          "output_type": "execute_result",
          "data": {
            "text/plain": [
              "0.8146197444130767"
            ]
          },
          "metadata": {
            "tags": []
          },
          "execution_count": 45
        }
      ]
    },
    {
      "cell_type": "markdown",
      "metadata": {
        "id": "arBp8Zt1joVL"
      },
      "source": [
        "That did pretty well! Let's try to use WoE binning and see what kind of performance we get."
      ]
    },
    {
      "cell_type": "code",
      "metadata": {
        "colab": {
          "base_uri": "https://localhost:8080/"
        },
        "id": "h3chy_-5co4E",
        "outputId": "11e6201b-1ad2-42ec-88f4-413dd148777e"
      },
      "source": [
        "# Create bins for our two categorical variables\r\n",
        "\r\n",
        "woe_job = sc.woebin(train_df, y=\"BAD\", x='JOB')\r\n",
        "woe_reason = sc.woebin(train_df, y=\"BAD\", x='REASON')"
      ],
      "execution_count": 46,
      "outputs": [
        {
          "output_type": "stream",
          "text": [
            "[INFO] creating woe binning ...\n",
            "[INFO] creating woe binning ...\n"
          ],
          "name": "stdout"
        }
      ]
    },
    {
      "cell_type": "code",
      "metadata": {
        "colab": {
          "base_uri": "https://localhost:8080/",
          "height": 487
        },
        "id": "Q-TPxHO3c9XW",
        "outputId": "a6ff0cf1-014a-447a-dec8-a7cdf119a051"
      },
      "source": [
        "X_train_woe = sc.woebin_ply(X_train, woe_job)\r\n",
        "X_train_woe = sc.woebin_ply(X_train_woe, woe_reason)\r\n",
        "\r\n",
        "X_test_woe = sc.woebin_ply(X_test, woe_job)\r\n",
        "X_test_woe = sc.woebin_ply(X_test_woe, woe_reason)\r\n",
        "\r\n",
        "X_train_woe"
      ],
      "execution_count": 47,
      "outputs": [
        {
          "output_type": "stream",
          "text": [
            "[INFO] converting into woe values ...\n",
            "[INFO] converting into woe values ...\n",
            "[INFO] converting into woe values ...\n",
            "[INFO] converting into woe values ...\n"
          ],
          "name": "stdout"
        },
        {
          "output_type": "execute_result",
          "data": {
            "text/html": [
              "<div>\n",
              "<style scoped>\n",
              "    .dataframe tbody tr th:only-of-type {\n",
              "        vertical-align: middle;\n",
              "    }\n",
              "\n",
              "    .dataframe tbody tr th {\n",
              "        vertical-align: top;\n",
              "    }\n",
              "\n",
              "    .dataframe thead th {\n",
              "        text-align: right;\n",
              "    }\n",
              "</style>\n",
              "<table border=\"1\" class=\"dataframe\">\n",
              "  <thead>\n",
              "    <tr style=\"text-align: right;\">\n",
              "      <th></th>\n",
              "      <th>YOJ</th>\n",
              "      <th>VALUE</th>\n",
              "      <th>DELINQ</th>\n",
              "      <th>NINQ</th>\n",
              "      <th>JOB_woe</th>\n",
              "      <th>DEROGzero</th>\n",
              "      <th>DEROG</th>\n",
              "      <th>LOAN</th>\n",
              "      <th>CLNO</th>\n",
              "      <th>MORTDUE</th>\n",
              "      <th>DEBTINC</th>\n",
              "      <th>CLAGE</th>\n",
              "      <th>REASON_woe</th>\n",
              "    </tr>\n",
              "  </thead>\n",
              "  <tbody>\n",
              "    <tr>\n",
              "      <th>1</th>\n",
              "      <td>-0.243626</td>\n",
              "      <td>-0.629036</td>\n",
              "      <td>1.455413</td>\n",
              "      <td>-0.746518</td>\n",
              "      <td>0.117617</td>\n",
              "      <td>True</td>\n",
              "      <td>-0.278895</td>\n",
              "      <td>-1.627002</td>\n",
              "      <td>-0.735888</td>\n",
              "      <td>-0.053675</td>\n",
              "      <td>0.142935</td>\n",
              "      <td>-0.716863</td>\n",
              "      <td>0.139297</td>\n",
              "    </tr>\n",
              "    <tr>\n",
              "      <th>2</th>\n",
              "      <td>-0.655028</td>\n",
              "      <td>-1.640882</td>\n",
              "      <td>-0.371468</td>\n",
              "      <td>-0.086270</td>\n",
              "      <td>0.117617</td>\n",
              "      <td>True</td>\n",
              "      <td>-0.278895</td>\n",
              "      <td>-1.608106</td>\n",
              "      <td>-1.138842</td>\n",
              "      <td>-1.478456</td>\n",
              "      <td>0.142935</td>\n",
              "      <td>-0.374238</td>\n",
              "      <td>0.139297</td>\n",
              "    </tr>\n",
              "    <tr>\n",
              "      <th>3</th>\n",
              "      <td>-0.243626</td>\n",
              "      <td>-0.221254</td>\n",
              "      <td>-0.371468</td>\n",
              "      <td>-0.086270</td>\n",
              "      <td>0.117617</td>\n",
              "      <td>True</td>\n",
              "      <td>-0.278895</td>\n",
              "      <td>-1.608106</td>\n",
              "      <td>-0.131458</td>\n",
              "      <td>-0.180501</td>\n",
              "      <td>0.142935</td>\n",
              "      <td>-0.076662</td>\n",
              "      <td>-0.061927</td>\n",
              "    </tr>\n",
              "    <tr>\n",
              "      <th>5</th>\n",
              "      <td>0.030642</td>\n",
              "      <td>-1.178604</td>\n",
              "      <td>-0.371468</td>\n",
              "      <td>-0.086270</td>\n",
              "      <td>0.117617</td>\n",
              "      <td>True</td>\n",
              "      <td>-0.278895</td>\n",
              "      <td>-1.589211</td>\n",
              "      <td>-1.340318</td>\n",
              "      <td>-1.048953</td>\n",
              "      <td>0.490730</td>\n",
              "      <td>-0.969398</td>\n",
              "      <td>0.139297</td>\n",
              "    </tr>\n",
              "    <tr>\n",
              "      <th>6</th>\n",
              "      <td>-0.517894</td>\n",
              "      <td>-0.851427</td>\n",
              "      <td>1.455413</td>\n",
              "      <td>-0.086270</td>\n",
              "      <td>0.117617</td>\n",
              "      <td>False</td>\n",
              "      <td>3.470464</td>\n",
              "      <td>-1.579763</td>\n",
              "      <td>-0.433673</td>\n",
              "      <td>-0.592922</td>\n",
              "      <td>0.142935</td>\n",
              "      <td>-1.271511</td>\n",
              "      <td>0.139297</td>\n",
              "    </tr>\n",
              "    <tr>\n",
              "      <th>...</th>\n",
              "      <td>...</td>\n",
              "      <td>...</td>\n",
              "      <td>...</td>\n",
              "      <td>...</td>\n",
              "      <td>...</td>\n",
              "      <td>...</td>\n",
              "      <td>...</td>\n",
              "      <td>...</td>\n",
              "      <td>...</td>\n",
              "      <td>...</td>\n",
              "      <td>...</td>\n",
              "      <td>...</td>\n",
              "      <td>...</td>\n",
              "    </tr>\n",
              "    <tr>\n",
              "      <th>5955</th>\n",
              "      <td>0.990581</td>\n",
              "      <td>-0.202671</td>\n",
              "      <td>-0.371468</td>\n",
              "      <td>-0.746518</td>\n",
              "      <td>0.117617</td>\n",
              "      <td>True</td>\n",
              "      <td>-0.278895</td>\n",
              "      <td>3.909357</td>\n",
              "      <td>-0.534412</td>\n",
              "      <td>-0.375878</td>\n",
              "      <td>0.339017</td>\n",
              "      <td>0.522730</td>\n",
              "      <td>-0.061927</td>\n",
              "    </tr>\n",
              "    <tr>\n",
              "      <th>5956</th>\n",
              "      <td>0.990581</td>\n",
              "      <td>-0.148810</td>\n",
              "      <td>-0.371468</td>\n",
              "      <td>-0.746518</td>\n",
              "      <td>0.117617</td>\n",
              "      <td>True</td>\n",
              "      <td>-0.278895</td>\n",
              "      <td>3.909357</td>\n",
              "      <td>-0.635150</td>\n",
              "      <td>-0.443599</td>\n",
              "      <td>0.300777</td>\n",
              "      <td>0.360097</td>\n",
              "      <td>-0.061927</td>\n",
              "    </tr>\n",
              "    <tr>\n",
              "      <th>5957</th>\n",
              "      <td>0.853447</td>\n",
              "      <td>-0.149065</td>\n",
              "      <td>-0.371468</td>\n",
              "      <td>-0.746518</td>\n",
              "      <td>0.117617</td>\n",
              "      <td>True</td>\n",
              "      <td>-0.278895</td>\n",
              "      <td>3.909357</td>\n",
              "      <td>-0.635150</td>\n",
              "      <td>-0.456976</td>\n",
              "      <td>0.254808</td>\n",
              "      <td>0.404580</td>\n",
              "      <td>-0.061927</td>\n",
              "    </tr>\n",
              "    <tr>\n",
              "      <th>5958</th>\n",
              "      <td>0.716313</td>\n",
              "      <td>-0.169869</td>\n",
              "      <td>-0.371468</td>\n",
              "      <td>-0.746518</td>\n",
              "      <td>0.117617</td>\n",
              "      <td>True</td>\n",
              "      <td>-0.278895</td>\n",
              "      <td>3.909357</td>\n",
              "      <td>-0.534412</td>\n",
              "      <td>-0.549563</td>\n",
              "      <td>0.070602</td>\n",
              "      <td>0.424580</td>\n",
              "      <td>-0.061927</td>\n",
              "    </tr>\n",
              "    <tr>\n",
              "      <th>5959</th>\n",
              "      <td>0.853447</td>\n",
              "      <td>-0.227155</td>\n",
              "      <td>-0.371468</td>\n",
              "      <td>-0.746518</td>\n",
              "      <td>0.117617</td>\n",
              "      <td>True</td>\n",
              "      <td>-0.278895</td>\n",
              "      <td>3.909357</td>\n",
              "      <td>-0.534412</td>\n",
              "      <td>-0.588840</td>\n",
              "      <td>0.105549</td>\n",
              "      <td>0.495357</td>\n",
              "      <td>-0.061927</td>\n",
              "    </tr>\n",
              "  </tbody>\n",
              "</table>\n",
              "<p>4768 rows × 13 columns</p>\n",
              "</div>"
            ],
            "text/plain": [
              "           YOJ     VALUE    DELINQ  ...   DEBTINC     CLAGE  REASON_woe\n",
              "1    -0.243626 -0.629036  1.455413  ...  0.142935 -0.716863    0.139297\n",
              "2    -0.655028 -1.640882 -0.371468  ...  0.142935 -0.374238    0.139297\n",
              "3    -0.243626 -0.221254 -0.371468  ...  0.142935 -0.076662   -0.061927\n",
              "5     0.030642 -1.178604 -0.371468  ...  0.490730 -0.969398    0.139297\n",
              "6    -0.517894 -0.851427  1.455413  ...  0.142935 -1.271511    0.139297\n",
              "...        ...       ...       ...  ...       ...       ...         ...\n",
              "5955  0.990581 -0.202671 -0.371468  ...  0.339017  0.522730   -0.061927\n",
              "5956  0.990581 -0.148810 -0.371468  ...  0.300777  0.360097   -0.061927\n",
              "5957  0.853447 -0.149065 -0.371468  ...  0.254808  0.404580   -0.061927\n",
              "5958  0.716313 -0.169869 -0.371468  ...  0.070602  0.424580   -0.061927\n",
              "5959  0.853447 -0.227155 -0.371468  ...  0.105549  0.495357   -0.061927\n",
              "\n",
              "[4768 rows x 13 columns]"
            ]
          },
          "metadata": {
            "tags": []
          },
          "execution_count": 47
        }
      ]
    },
    {
      "cell_type": "code",
      "metadata": {
        "colab": {
          "base_uri": "https://localhost:8080/"
        },
        "id": "k3KbMzCWdq3n",
        "outputId": "3e6434e6-7843-43b5-f30d-5799fbf84ece"
      },
      "source": [
        "y_train_sorted = y_train.sort_index() # Since woebin sorted the index of X_train_woe\r\n",
        "\r\n",
        "log_reg_woe = sm.Logit(y_train_sorted, X_train_woe.astype(float)).fit() \r\n",
        "print(log_reg_woe.summary())"
      ],
      "execution_count": 48,
      "outputs": [
        {
          "output_type": "stream",
          "text": [
            "Optimization terminated successfully.\n",
            "         Current function value: 0.395639\n",
            "         Iterations 6\n",
            "                           Logit Regression Results                           \n",
            "==============================================================================\n",
            "Dep. Variable:                    BAD   No. Observations:                 4768\n",
            "Model:                          Logit   Df Residuals:                     4755\n",
            "Method:                           MLE   Df Model:                           12\n",
            "Date:                Wed, 30 Dec 2020   Pseudo R-squ.:                  0.2049\n",
            "Time:                        16:11:42   Log-Likelihood:                -1886.4\n",
            "converged:                       True   LL-Null:                       -2372.5\n",
            "Covariance Type:            nonrobust   LLR p-value:                1.698e-200\n",
            "==============================================================================\n",
            "                 coef    std err          z      P>|z|      [0.025      0.975]\n",
            "------------------------------------------------------------------------------\n",
            "YOJ           -0.0447      0.046     -0.979      0.328      -0.134       0.045\n",
            "VALUE          0.1340      0.082      1.630      0.103      -0.027       0.295\n",
            "DELINQ         0.7653      0.046     16.600      0.000       0.675       0.856\n",
            "NINQ           0.2366      0.038      6.177      0.000       0.162       0.312\n",
            "JOB_woe        0.7815      0.165      4.732      0.000       0.458       1.105\n",
            "DEROGzero     -1.8467      0.051    -36.171      0.000      -1.947      -1.747\n",
            "DEROG         -0.0419      0.036     -1.167      0.243      -0.112       0.028\n",
            "LOAN          -0.1990      0.048     -4.126      0.000      -0.294      -0.104\n",
            "CLNO          -0.1254      0.047     -2.672      0.008      -0.217      -0.033\n",
            "MORTDUE       -0.1428      0.080     -1.789      0.074      -0.299       0.014\n",
            "DEBTINC        0.4572      0.048      9.512      0.000       0.363       0.551\n",
            "CLAGE         -0.4560      0.049     -9.314      0.000      -0.552      -0.360\n",
            "REASON_woe     1.5000      0.460      3.264      0.001       0.599       2.401\n",
            "==============================================================================\n"
          ],
          "name": "stdout"
        }
      ]
    },
    {
      "cell_type": "code",
      "metadata": {
        "colab": {
          "base_uri": "https://localhost:8080/"
        },
        "id": "2LDPN1_ifQs1",
        "outputId": "6617b5e9-f014-4285-d74d-063781c8d907"
      },
      "source": [
        "y_pred = log_reg_woe.predict(X_test_woe.astype(float))\r\n",
        "roc_auc_score(y_test, y_pred)"
      ],
      "execution_count": 49,
      "outputs": [
        {
          "output_type": "execute_result",
          "data": {
            "text/plain": [
              "0.47436588151628123"
            ]
          },
          "metadata": {
            "tags": []
          },
          "execution_count": 49
        }
      ]
    },
    {
      "cell_type": "markdown",
      "metadata": {
        "id": "Uv66FaTzkaEA"
      },
      "source": [
        "As we can see, in this case WoE does not help our model performance according to AUC. However, we do see significance for both WoE variables, unlike many categories of our dummy variables. As such, WoE can be more appropriate once the number of dummy variables could start to get very high. This high dimensionality could be a large concern for overfitting."
      ]
    },
    {
      "cell_type": "markdown",
      "metadata": {
        "id": "RtBM6bm4dTwe"
      },
      "source": [
        "# Feature Selection\n",
        "\n",
        "## Filter methods\n",
        "Filters are statistical methods which test variables one by one and their relevance to the task at hand. Since they are relatively easy to compute, they tend to be checked first. The next methods of feature selection require more computational power, therefore eliminating variables using filters first will save time later.\n",
        "\n",
        "Let's recall the chart we saw in class. The columns represent the target, is it continuous or discrete? The rows represent the variable to test, is it continuous or discrete/categorical? The best test is the one that corresponds to the right row/column.\n",
        "\n",
        "```\n",
        "Data Types      | CONTINUOUS TARGET     | DISCRETE TARGET\n",
        "-------------------------------------------------------------------------------\n",
        "CONTINUOUS VAR  | Pearson Correlation   | Fisher Score\n",
        "CATEGORICAL VAR | Fisher Score / ANOVA  | Chi-Square / Cramer's V/ IV/ Gain\n",
        "```\n",
        "\n"
      ]
    },
    {
      "cell_type": "markdown",
      "metadata": {
        "id": "l6ESJ7jCiOUa"
      },
      "source": [
        "### Pearson Correlation\r\n",
        "This is probably the most common correlation metric used. It is remarkable for its very simple implementation (covariance divided by the root of the product of each variance):\r\n",
        "\r\n",
        "$$ \\rho = \\frac{{}\\sum_{i=1}^{n} (x_i - \\overline{x})(y_i - \\overline{y})}\r\n",
        "{\\sqrt{\\sum_{i=1}^{n} (x_i - \\overline{x})^2 \\sum_{i=1}^{n} (y_i - \\overline{y})^2}} $$\r\n",
        "\r\n",
        "This correlation is best used when target and the variable to check are **both continuous**. The coefficient produced is bound between -1 and 1. It is recommended to only keep variables with a high correlation, however there is no rule that you can always follow. The closer that this coefficient is to 0, the less correlation between the variable and the target.\r\n",
        "\r\n"
      ]
    },
    {
      "cell_type": "markdown",
      "metadata": {
        "id": "i8nrsT1JiTSF"
      },
      "source": [
        "### Fisher Score\r\n",
        "This method of finding correlation can be used if **either** the target or variable in question is binary. It generalizes into an ANOVA test if there are multiple categories.\r\n",
        "\r\n",
        "$$ FS = \\frac{|\\bar{x}_G - \\bar{x}_B |}{\\sqrt{s^2_G + s^2_B}} $$\r\n",
        "\r\n",
        "### Analysis of Variance (ANOVA)\r\n",
        "ANOVA specifically compares the means of a **feature with more than 2 categories with a continuous target**. For example, we had the feature `JOB`. If our target was continuous, ANOVA would be testing if each category in `JOB` actually corresponded to a different mean in our target. \r\n",
        "\r\n",
        "So, we first find the sum of squares between categories:\r\n",
        "$$ SSD_B = \\sum_{i=1}^k \\sum_{j=1}^n \\left(\\bar{x}_i - \\bar{x}_.\\right)^2 = n\\sum_{i=1}^k \\left(\\bar{x}_i - \\bar{x}_.\\right)^2 $$\r\n",
        "\r\n",
        "We then find the sum of square difference within categories:\r\n",
        "$$ SSD_W = \\sum_{i=1}^k\\sum_{j=1}^n \\left(x_{ij} - \\bar{x}_i \\right)^2 $$\r\n",
        "\r\n",
        "Now we divide the $ SSD_B $ by its degree of freedom: k categories minus 1. This gives us the mean $ SSD_B $. And then we divide $ SSD_W $ by its degrees of freedom, number of observations minus k categories. This gives us the mean $ SSD_W $.\r\n",
        "\r\n",
        "$$ \\mu_B = \\frac{SSD_B}{k-1} $$\r\n",
        "\r\n",
        "$$ \\mu_W = \\frac{SSD_W}{n-k} $$\r\n",
        "\r\n",
        "Now we have the F-stastic that we can use.\r\n",
        "$$ F = \\frac{\\mu_B}{\\mu_W} $$\r\n",
        "\r\n",
        "We must compare this value to the [F-Distribution Table](http://www.socr.ucla.edu/Applets.dir/F_Table.html) and decide whether we want to include it in the analysis.\r\n",
        "\r\n"
      ]
    },
    {
      "cell_type": "markdown",
      "metadata": {
        "id": "fZeIjLqfiV_c"
      },
      "source": [
        "### Chi-Square Analysis\r\n",
        "\r\n",
        "Chi Square tests check whether events are dependent on one another. If there is no dependence between the target and the feature, it becomes less likely that it would actually would be meaninigful to include in the analysis.\r\n",
        "\r\n",
        "$$ \\chi^2 = \\sum{\\frac{(O_i - E_i)^2}{E_i}} $$\r\n",
        "\r\n",
        "Chi square is only used when **both the feature of interest and the target are both categorical variables**. You must use a [chi-square table](https://web.ma.utexas.edu/users/davis/375/popecol/tables/chisq.html) (this one is alpha = 0.10) to assess whether you would like to include this varible in the end or not. Remember that if one category has too little observations, this test's results may not be accurate.\r\n",
        "\r\n",
        "### Cramer's V\r\n",
        "\r\n",
        "This method is always bound between 0 and 1. Higher values are more predictive with a threshold of 0.1 being the most common.\r\n",
        "\r\n",
        "$$ V = \\sqrt{\\frac{\\chi^2}{n}} $$\r\n",
        "\r\n",
        "Cramer's V is based on Chi-Square, which means **both the feature of interest and the target are both categorical variables**. This value is always bound between 0 and 1. A higher value indicates higher preditive power. A threshold of 0.1 is common.\r\n",
        "\r\n",
        "\r\n"
      ]
    },
    {
      "cell_type": "markdown",
      "metadata": {
        "id": "CJrG1rRRiYQP"
      },
      "source": [
        "### Information Value\r\n",
        "\r\n",
        "This is the value that we calculated before in the section on Weight of Evidence. The main purpose of this value was to assess the preditive power of a **categorical variable and a binary target**. \r\n",
        "\r\n",
        "$$ IV = \\sum_{cat} \\bigg( \\big( p(\\text{BAD})_{cat} - p(\\text{GOOD})_{cat} \\big) * \\text{WOE}_{cat} \\bigg) $$\r\n",
        "\r\n",
        "Generally, the following tells you the usefulness of an IV variable's score:\r\n",
        "\r\n",
        "IV < 0.02: not predictive\r\n",
        "\r\n",
        "0.02 – 0.1: weak predictive ability\r\n",
        "\r\n",
        "0.1 – 0.3: medium predictive ability\r\n",
        "\r\n",
        "0.3 < IV: strong predictive ability\r\n",
        "\r\n"
      ]
    },
    {
      "cell_type": "markdown",
      "metadata": {
        "id": "vOGxNSE1iZWp"
      },
      "source": [
        "### Information Gain / Entropy\r\n",
        "\r\n",
        "Entropy normally means chaos. In machine learning, it is defined as an equal chance of selecting any category of the target variable. If you have a set of observations and there is an equal mix of all target labels in this set, entropy is maximized. If you can find some feature split to cause only one target label in each section of data, then entropy is minimized. Information Gain is the difference between the entropy before and the sum of entropy in each group after a split. As such, this method is most appropriate for **both a discrete feature and discrete target**.\r\n",
        "\r\n",
        "Entropy is calculated by the following formula:\r\n",
        "\r\n",
        "$$ E = -\\sum^C_i p_i \\cdot log_2(p_i) $$\r\n",
        "\r\n",
        "Then information gain can be defined as the sum of entropy in total minus entropy of each category separately (this is the same as entropy in a decision tree):\r\n",
        "\r\n",
        "$$ \\text{Info Gain} = E_\\text{total} - \\sum{E_\\text{category}}  $$\r\n",
        "\r\n",
        "It is up to you to decide how little information gain to tolerate to consider a variable to be helpful."
      ]
    },
    {
      "cell_type": "markdown",
      "metadata": {
        "id": "CdOVJ9QLilj9"
      },
      "source": [
        "Now that we know some of these methods, let's see what they look like in some code from scratch. Note that the function below is not made to deal with every type of data (especially if the target is a variable with multiple categories). However, we can see quite a lot of the decisions that you will need to make behind the scenes for it to all work."
      ]
    },
    {
      "cell_type": "code",
      "metadata": {
        "id": "m7K9uG4wCSWn"
      },
      "source": [
        "class filter_binary_target:\r\n",
        "    def __init__(self, df, target):\r\n",
        "        self.target = target\r\n",
        "        self.data_head = df.head()\r\n",
        "\r\n",
        "    def auto_filter_binary_target(self):\r\n",
        "        print('Data must be in a clean pandas DataFrame. Categorical variables must be of data type bool or category. Continuous variables must be int64 or float64.')\r\n",
        "        data_no_target = df.drop(columns=self.target)\r\n",
        "        columns = ['Data Type', 'Metric', 'Score']\r\n",
        "        index = data_no_target.columns\r\n",
        "        result = pd.DataFrame(index=index, columns=columns)\r\n",
        "\r\n",
        "        for col in data_no_target:\r\n",
        "            if data_no_target.dtypes[col] == 'bool' or data_no_target.dtypes[col].name == 'category':\r\n",
        "                result.loc[col, 'Data Type'] = \"discrete\"\r\n",
        "                result.loc[col, 'Metric'] = \"IV\"\r\n",
        "                result.loc[col, 'Score'] = self.IV_binary_target(feature=col)\r\n",
        "\r\n",
        "            if data_no_target.dtypes[col] == 'int64' or data_no_target.dtypes[col] == 'float64':\r\n",
        "                result.loc[col, 'Data Type'] = \"continuous\"\r\n",
        "                result.loc[col, 'Metric'] = \"Fisher\"\r\n",
        "                result.loc[col, 'Score'] = self.fisher_binary_target(feature=col)\r\n",
        "\r\n",
        "        return result\r\n",
        "\r\n",
        "    def IV_binary_target(self, feature):  # same code as used above\r\n",
        "        data = pd.DataFrame()\r\n",
        "    \r\n",
        "        data['Count'] = df[feature].value_counts()\r\n",
        "        data['Bad'] = df.groupby([feature])[self.target].sum()\r\n",
        "        data['Good'] = data['Count'] - data['Bad']\r\n",
        "    \r\n",
        "        data[\"Distribution Bad\"] = data[\"Bad\"] / data[\"Bad\"].sum()\r\n",
        "        data[\"Distribution Good\"] = data[\"Good\"] / data[\"Good\"].sum()\r\n",
        "    \r\n",
        "        data['WOE'] = np.log(data[\"Distribution Good\"] / data[\"Distribution Bad\"])\r\n",
        "        data.replace({\"WOE\": {np.inf: 0, -np.inf: 0}})\r\n",
        "\r\n",
        "        data[\"IV\"] = data[\"WOE\"] * (data[\"Distribution Good\"] - data[\"Distribution Bad\"])\r\n",
        "\r\n",
        "        iv = data[\"IV\"].sum()\r\n",
        "\r\n",
        "        return iv\r\n",
        "\r\n",
        "    def fisher_binary_target(self, feature):\r\n",
        "        mu_0 = df.groupby(df[self.target])[feature].mean()[0]\r\n",
        "        mu_1 = df.groupby(df[self.target])[feature].mean()[1]\r\n",
        "        var_0 = df.groupby(df[self.target])[feature].var()[0]\r\n",
        "        var_1 = df.groupby(df[self.target])[feature].var()[1]\r\n",
        "\r\n",
        "        num = abs(mu_0 - mu_1)\r\n",
        "        den = (var_0 + var_1) ** 0.5\r\n",
        "        score = num/den\r\n",
        "    \r\n",
        "        return score\r\n",
        "\r\n",
        "    def pearson(self, feature):  # since our target is binary, we actually don't need this. However, if you would like to expand this class, you can use this code\r\n",
        "        mean_feature = df[feature].mean()\r\n",
        "        mean_target = df[self.target].mean()\r\n",
        "        num = ((df[feature] - mean_feature)*(df[self.target] - mean_target)).sum()\r\n",
        "        den = (((df[feature] - mean_feature)**2).sum() * ((df[self.target] - mean_target)**2).sum()) ** .5\r\n",
        "        rho = num/den\r\n",
        "        return rho"
      ],
      "execution_count": 50,
      "outputs": []
    },
    {
      "cell_type": "code",
      "metadata": {
        "colab": {
          "base_uri": "https://localhost:8080/",
          "height": 469
        },
        "id": "5mKFETU5BXA3",
        "outputId": "8bcd3d5f-8156-424c-91b9-122549f0fb1d"
      },
      "source": [
        "test = filter_binary_target(df=train_df, target=\"BAD\")\r\n",
        "\r\n",
        "test.auto_filter_binary_target()"
      ],
      "execution_count": 51,
      "outputs": [
        {
          "output_type": "stream",
          "text": [
            "Data must be in a clean pandas DataFrame. Categorical variables must be of data type bool or category. Continuous variables must be int64 or float64.\n"
          ],
          "name": "stdout"
        },
        {
          "output_type": "execute_result",
          "data": {
            "text/html": [
              "<div>\n",
              "<style scoped>\n",
              "    .dataframe tbody tr th:only-of-type {\n",
              "        vertical-align: middle;\n",
              "    }\n",
              "\n",
              "    .dataframe tbody tr th {\n",
              "        vertical-align: top;\n",
              "    }\n",
              "\n",
              "    .dataframe thead th {\n",
              "        text-align: right;\n",
              "    }\n",
              "</style>\n",
              "<table border=\"1\" class=\"dataframe\">\n",
              "  <thead>\n",
              "    <tr style=\"text-align: right;\">\n",
              "      <th></th>\n",
              "      <th>Data Type</th>\n",
              "      <th>Metric</th>\n",
              "      <th>Score</th>\n",
              "    </tr>\n",
              "  </thead>\n",
              "  <tbody>\n",
              "    <tr>\n",
              "      <th>LOAN</th>\n",
              "      <td>continuous</td>\n",
              "      <td>Fisher</td>\n",
              "      <td>0.13309</td>\n",
              "    </tr>\n",
              "    <tr>\n",
              "      <th>MORTDUE</th>\n",
              "      <td>continuous</td>\n",
              "      <td>Fisher</td>\n",
              "      <td>0.0951093</td>\n",
              "    </tr>\n",
              "    <tr>\n",
              "      <th>VALUE</th>\n",
              "      <td>continuous</td>\n",
              "      <td>Fisher</td>\n",
              "      <td>0.106516</td>\n",
              "    </tr>\n",
              "    <tr>\n",
              "      <th>REASON</th>\n",
              "      <td>discrete</td>\n",
              "      <td>IV</td>\n",
              "      <td>0.00861846</td>\n",
              "    </tr>\n",
              "    <tr>\n",
              "      <th>JOB</th>\n",
              "      <td>discrete</td>\n",
              "      <td>IV</td>\n",
              "      <td>0.0778732</td>\n",
              "    </tr>\n",
              "    <tr>\n",
              "      <th>YOJ</th>\n",
              "      <td>continuous</td>\n",
              "      <td>Fisher</td>\n",
              "      <td>0.0979491</td>\n",
              "    </tr>\n",
              "    <tr>\n",
              "      <th>DEROG</th>\n",
              "      <td>continuous</td>\n",
              "      <td>Fisher</td>\n",
              "      <td>0.358356</td>\n",
              "    </tr>\n",
              "    <tr>\n",
              "      <th>DELINQ</th>\n",
              "      <td>continuous</td>\n",
              "      <td>Fisher</td>\n",
              "      <td>0.473846</td>\n",
              "    </tr>\n",
              "    <tr>\n",
              "      <th>CLAGE</th>\n",
              "      <td>continuous</td>\n",
              "      <td>Fisher</td>\n",
              "      <td>0.324169</td>\n",
              "    </tr>\n",
              "    <tr>\n",
              "      <th>NINQ</th>\n",
              "      <td>continuous</td>\n",
              "      <td>Fisher</td>\n",
              "      <td>0.275753</td>\n",
              "    </tr>\n",
              "    <tr>\n",
              "      <th>CLNO</th>\n",
              "      <td>continuous</td>\n",
              "      <td>Fisher</td>\n",
              "      <td>0.0116811</td>\n",
              "    </tr>\n",
              "    <tr>\n",
              "      <th>DEBTINC</th>\n",
              "      <td>continuous</td>\n",
              "      <td>Fisher</td>\n",
              "      <td>0.266897</td>\n",
              "    </tr>\n",
              "    <tr>\n",
              "      <th>DEROGzero</th>\n",
              "      <td>discrete</td>\n",
              "      <td>IV</td>\n",
              "      <td>0.33617</td>\n",
              "    </tr>\n",
              "  </tbody>\n",
              "</table>\n",
              "</div>"
            ],
            "text/plain": [
              "            Data Type  Metric       Score\n",
              "LOAN       continuous  Fisher     0.13309\n",
              "MORTDUE    continuous  Fisher   0.0951093\n",
              "VALUE      continuous  Fisher    0.106516\n",
              "REASON       discrete      IV  0.00861846\n",
              "JOB          discrete      IV   0.0778732\n",
              "YOJ        continuous  Fisher   0.0979491\n",
              "DEROG      continuous  Fisher    0.358356\n",
              "DELINQ     continuous  Fisher    0.473846\n",
              "CLAGE      continuous  Fisher    0.324169\n",
              "NINQ       continuous  Fisher    0.275753\n",
              "CLNO       continuous  Fisher   0.0116811\n",
              "DEBTINC    continuous  Fisher    0.266897\n",
              "DEROGzero    discrete      IV     0.33617"
            ]
          },
          "metadata": {
            "tags": []
          },
          "execution_count": 51
        }
      ]
    },
    {
      "cell_type": "markdown",
      "metadata": {
        "id": "NP5oQrbujCiI"
      },
      "source": [
        "So let's analyze this output. We cannot directly compare IV and Fisher scores but we can judge them relative to other variables calculated with the same score. We can see that of our 3 variables tested with IV, `REASON` is particularly weak and does not pass the 0.02 value threshold for IV. Therefore, we should eliminate it from the analysis. We can also see that of the variables for which we calculated a Fisher score, `CLNO`, `MORTDUE` and `YOJ` are all quite low.\r\n",
        "\r\n",
        "At this point we could choose to eliminate these variables. However, let's leave them in for a little check using wrapper methods. "
      ]
    },
    {
      "cell_type": "markdown",
      "metadata": {
        "id": "4zXNNUbCnf0-"
      },
      "source": [
        "## Wrappers\r\n",
        "Unlike filter methods which check one variable at a time with a statistical framework, wrappers try to iteratively build models in different ways to detect variables which most impact a model's performance. As you can imagine, there are two major ways to do this.\r\n",
        "1. You add variables one at a time\r\n",
        "2. You remove variables one at a time\r\n",
        "\r\n",
        "Each time you are double checking how the model performs with the inclusion or exclusion of a certain variable."
      ]
    },
    {
      "cell_type": "code",
      "metadata": {
        "id": "2JhrIoxBnyGO"
      },
      "source": [
        "# Let's first set the one-hot encoded version of the dataframe as the default\r\n",
        "X_train = X_train_dummies\r\n",
        "X_test = X_test_dummies"
      ],
      "execution_count": 52,
      "outputs": []
    },
    {
      "cell_type": "code",
      "metadata": {
        "colab": {
          "base_uri": "https://localhost:8080/"
        },
        "id": "IT3g1p9JnJDQ",
        "outputId": "545c6fc9-962e-4de9-feda-98287708e9e8"
      },
      "source": [
        "from sklearn.linear_model import LogisticRegression # We will use sklearn here as it is required in the next algorithms\r\n",
        "\r\n",
        "clf = LogisticRegression(random_state=888, max_iter=200)\r\n",
        "clf.fit(X_train,  np.ravel(y_train.values))\r\n",
        "y_pred = clf.predict(X_test)\r\n",
        "roc_auc_score(y_test, y_pred) # Note this value is different from the statsmodels value we found before for the same model earlier"
      ],
      "execution_count": 53,
      "outputs": [
        {
          "output_type": "execute_result",
          "data": {
            "text/plain": [
              "0.6617115272719437"
            ]
          },
          "metadata": {
            "tags": []
          },
          "execution_count": 53
        }
      ]
    },
    {
      "cell_type": "markdown",
      "metadata": {
        "id": "yG9WXnd52GgW"
      },
      "source": [
        "### Stepwise regression (forward regression)\r\n",
        "We will start with the first wrapper method described above. We can easily create this with a for-loop, but we will spare you the complexities by using `mlxtend` to sequentially add our possible features to the model using the function `SequentialFeatureSelector`. The machine will add variables one at a time and double check the model's performance. Note that a `sklearn` model is required as input to this function.\r\n",
        "\r\n",
        "Note that unfortunately `sklearn` does not yet support stepwise regression on its own. However, if you'd like, there are ways to code it yourself through a loop that tries to find the best combination of variables through iterative model building like the [second answer to this StackExchange question](https://datascience.stackexchange.com/questions/937/does-scikit-learn-have-forward-selection-stepwise-regression-algorithm).\r\n",
        "\r\n",
        "Let's use the algorithm from `mlextend` and check whether it corresponds to the features that our filter model also chose.\r\n",
        "\r\n"
      ]
    },
    {
      "cell_type": "code",
      "metadata": {
        "id": "GNyrHxx-u6ws",
        "colab": {
          "base_uri": "https://localhost:8080/"
        },
        "outputId": "4deadf90-881b-4cde-ea9e-c30985112a35"
      },
      "source": [
        "from mlxtend.feature_selection import SequentialFeatureSelector as SFS\r\n",
        "\r\n",
        "clf = LogisticRegression(random_state=888, max_iter=200)\r\n",
        "sfs = SFS(clf, \r\n",
        "           k_features=(3,17), \r\n",
        "           forward=True, \r\n",
        "           floating=False, \r\n",
        "           scoring='accuracy',\r\n",
        "           cv=5)\r\n",
        "\r\n",
        "sfs = sfs.fit(X_train, np.ravel(y_train.values))"
      ],
      "execution_count": 54,
      "outputs": [
        {
          "output_type": "stream",
          "text": [
            "/usr/local/lib/python3.6/dist-packages/sklearn/externals/joblib/__init__.py:15: FutureWarning: sklearn.externals.joblib is deprecated in 0.21 and will be removed in 0.23. Please import this functionality directly from joblib, which can be installed with: pip install joblib. If this warning is raised when loading pickled models, you may need to re-serialize those models with scikit-learn 0.21+.\n",
            "  warnings.warn(msg, category=FutureWarning)\n"
          ],
          "name": "stderr"
        }
      ]
    },
    {
      "cell_type": "code",
      "metadata": {
        "colab": {
          "base_uri": "https://localhost:8080/"
        },
        "id": "67tQuOkZEwUF",
        "outputId": "66a105cd-3397-4853-c073-82d3190284f6"
      },
      "source": [
        "print('best combination (ACC: %.3f): %s\\n' % (sfs.k_score_, sfs.k_feature_names_))"
      ],
      "execution_count": 55,
      "outputs": [
        {
          "output_type": "stream",
          "text": [
            "best combination (ACC: 0.840): ('DEROG', 'DELINQ', 'CLAGE', 'CLNO', 'DEBTINC', 'JOB_Office', 'JOB_ProfExe', 'JOB_Self')\n",
            "\n"
          ],
          "name": "stdout"
        }
      ]
    },
    {
      "cell_type": "markdown",
      "metadata": {
        "id": "1h6iHa_tk9Tw"
      },
      "source": [
        "We can see from this regression, some of the variables that were candidates for elimination according to our filter method were actually kept. This may be because there are some variable interaction which we cannot observe using filter methods. It would be up to the analyst to try all combinations and determine the one that works best for the data.\r\n",
        "\r\n",
        "We can plot the percent correctly classified vs. the number of selected features to see the algorithm's findings."
      ]
    },
    {
      "cell_type": "code",
      "metadata": {
        "colab": {
          "base_uri": "https://localhost:8080/",
          "height": 295
        },
        "id": "BMyMdlFigd7D",
        "outputId": "8a55a0bb-6e8e-4e6b-915e-9670005a8909"
      },
      "source": [
        "from mlxtend.plotting import plot_sequential_feature_selection as plot_sfs\r\n",
        "\r\n",
        "plot_sfs(sfs.get_metric_dict())\r\n",
        "plt.title('Sequential Forward Selection')\r\n",
        "\r\n",
        "plt.show()"
      ],
      "execution_count": 56,
      "outputs": [
        {
          "output_type": "display_data",
          "data": {
            "image/png": "[encoded data removed]",
            "text/plain": [
              "<Figure size 432x288 with 1 Axes>"
            ]
          },
          "metadata": {
            "tags": [],
            "needs_background": "light"
          }
        }
      ]
    },
    {
      "cell_type": "markdown",
      "metadata": {
        "id": "7SODgWTsmyN7"
      },
      "source": [
        "Lastly, let's check the AUC of the test set to see how this selection of features did on unseen data.\r\n",
        "\r\n"
      ]
    },
    {
      "cell_type": "code",
      "metadata": {
        "id": "idNcMxFUiFjP"
      },
      "source": [
        "X_train_sfs = sfs.transform(X_train)\r\n",
        "X_test_sfs = sfs.transform(X_test)\r\n",
        "\r\n",
        "clf.fit(X_train_sfs, np.ravel(y_train.values))\r\n",
        "y_pred = clf.predict(X_test_sfs)"
      ],
      "execution_count": 57,
      "outputs": []
    },
    {
      "cell_type": "code",
      "metadata": {
        "colab": {
          "base_uri": "https://localhost:8080/"
        },
        "id": "acdZMw5EhkmI",
        "outputId": "2bf7de3d-74f1-4e37-9341-c0dd71a16bb7"
      },
      "source": [
        "roc_auc_score(y_test, y_pred)"
      ],
      "execution_count": 58,
      "outputs": [
        {
          "output_type": "execute_result",
          "data": {
            "text/plain": [
              "0.6480249121824019"
            ]
          },
          "metadata": {
            "tags": []
          },
          "execution_count": 58
        }
      ]
    },
    {
      "cell_type": "markdown",
      "metadata": {
        "id": "7zBulcXpnhkx"
      },
      "source": [
        "### Recursive feature elimination (backward selection)\r\n",
        "\r\n",
        "Another extremely useful variable selection method is backward selection. We can actually implement it very easily using the `RFECV` function from `sklearn`. You can view the documentation for this function [here](https://scikit-learn.org/stable/modules/generated/sklearn.feature_selection.RFECV.html#sklearn.feature_selection.RFECV). Let's see if it selects similar variables as our last wrapper model and the filter model."
      ]
    },
    {
      "cell_type": "code",
      "metadata": {
        "colab": {
          "base_uri": "https://localhost:8080/"
        },
        "id": "GXkJo-MFHr6s",
        "outputId": "cfd0ba34-b395-4ad0-fd6f-f52768843455"
      },
      "source": [
        "from sklearn.feature_selection import RFECV\r\n",
        "rfecv = RFECV(estimator=clf, step=1, cv=5, scoring='accuracy')\r\n",
        "X_train_new = rfecv.fit(X_train,  np.ravel(y_train.values))\r\n",
        "\r\n",
        "print('Optimal number of features: {}'.format(rfecv.n_features_))"
      ],
      "execution_count": 59,
      "outputs": [
        {
          "output_type": "stream",
          "text": [
            "Optimal number of features: 9\n"
          ],
          "name": "stdout"
        }
      ]
    },
    {
      "cell_type": "code",
      "metadata": {
        "colab": {
          "base_uri": "https://localhost:8080/"
        },
        "id": "z03KeUvydxnk",
        "outputId": "287a8110-0d21-4c5f-9d0a-f8f5f9e34b88"
      },
      "source": [
        "X_train.columns[rfecv.support_]"
      ],
      "execution_count": 60,
      "outputs": [
        {
          "output_type": "execute_result",
          "data": {
            "text/plain": [
              "Index(['DEROG', 'DELINQ', 'CLAGE', 'DEBTINC', 'DEROGzero', 'REASON_HomeImp',\n",
              "       'JOB_Office', 'JOB_Sales', 'JOB_Self'],\n",
              "      dtype='object')"
            ]
          },
          "metadata": {
            "tags": []
          },
          "execution_count": 60
        }
      ]
    },
    {
      "cell_type": "markdown",
      "metadata": {
        "id": "j8Lu3KhPlv9U"
      },
      "source": [
        "In this regression, different variables were dropped and again they don't correspond to the candidates we found through our filter process. Again. this may be caused by some variable interaction which we cannot observe by using filter methods. It is up to your discretion to experiment with combinations and determine the best course of action to solve you problem.\r\n",
        "\r\n",
        "We can plot the percent correctly classified vs. the number of selected features to see the algorithm's findings."
      ]
    },
    {
      "cell_type": "code",
      "metadata": {
        "colab": {
          "base_uri": "https://localhost:8080/",
          "height": 295
        },
        "id": "hMsx5JCtgQaa",
        "outputId": "c50c8231-bce4-48f3-9209-de64d5129589"
      },
      "source": [
        "plt.title('Recursive Feature Elimination with Cross-Validation')\r\n",
        "plt.xlabel('Number of Features')\r\n",
        "plt.ylabel('Performance (% Correctly Classified)')\r\n",
        "plt.plot(range(1, len(rfecv.grid_scores_) + 1), rfecv.grid_scores_, linewidth=3)\r\n",
        "\r\n",
        "plt.show()"
      ],
      "execution_count": 61,
      "outputs": [
        {
          "output_type": "display_data",
          "data": {
            "image/png": "[encoded data removed]",
            "text/plain": [
              "<Figure size 432x288 with 1 Axes>"
            ]
          },
          "metadata": {
            "tags": [],
            "needs_background": "light"
          }
        }
      ]
    },
    {
      "cell_type": "markdown",
      "metadata": {
        "id": "yl_wNMfSm81F"
      },
      "source": [
        "Lastly, let's check the mean error on the test set to see how this selection of features did on unseen data."
      ]
    },
    {
      "cell_type": "code",
      "metadata": {
        "colab": {
          "base_uri": "https://localhost:8080/"
        },
        "id": "e3BSvn75KQXv",
        "outputId": "0a17c61d-e9a0-480c-9eb3-271ea46eae98"
      },
      "source": [
        "y_pred = rfecv.predict(X_test)\r\n",
        "\r\n",
        "roc_auc_score(y_test, y_pred)"
      ],
      "execution_count": 62,
      "outputs": [
        {
          "output_type": "execute_result",
          "data": {
            "text/plain": [
              "0.6474969290778613"
            ]
          },
          "metadata": {
            "tags": []
          },
          "execution_count": 62
        }
      ]
    },
    {
      "cell_type": "markdown",
      "metadata": {
        "id": "qhqYDtCgmeky"
      },
      "source": [
        "# Importing from other scripts\r\n",
        "\r\n",
        "Some notebooks can get really long which makes them a bit more tedious to read. If you have already coded something in another notebook and want to refer to it, you can simply import it as a script. For example, we have created the file rf_test_auc.py and inside we have a function. This function will perform a train-test split on data, use the training data to build a random forest and finally use the test set to calculate the AUC. Using this other file, we can simply import the function that we want and run the function to get our results."
      ]
    },
    {
      "cell_type": "code",
      "metadata": {
        "colab": {
          "base_uri": "https://localhost:8080/"
        },
        "id": "s6qGDX1dET9F",
        "outputId": "c28ed404-276f-4ae1-8ca4-fdb1d097c3a8"
      },
      "source": [
        "from rf_test_auc import RF_test_AUC # this is easiest when the .py file is in your working directory\r\n",
        "RF_test_AUC(X_train, y_train, X_test, y_test, n_estimators = 150)"
      ],
      "execution_count": 64,
      "outputs": [
        {
          "output_type": "execute_result",
          "data": {
            "text/plain": [
              "0.9696485141046916"
            ]
          },
          "metadata": {
            "tags": []
          },
          "execution_count": 64
        }
      ]
    },
    {
      "cell_type": "markdown",
      "metadata": {
        "id": "mHpyPWJQFP8m"
      },
      "source": [
        "Now you can keep your notebooks nice and neat by leaving out some functions that you had to code yourself whose inner workings are not the most critical for your readers to see right away.\r\n",
        "\r\n",
        "Note that you can use files which are not in your working directory, however this is a bit more complicated. You can find tutorials on how to do this using many tutorials online such as [this one](www.youtube.com/watch?v=A7E18apPQJs). "
      ]
    },
    {
      "cell_type": "markdown",
      "metadata": {
        "id": "W79hHbzYqC5H"
      },
      "source": [
        "# Pipelines\r\n",
        "\r\n",
        "After we have decided how we would like our finalized data to look like in the end, we will likely have to repeat the modifications to our data set several times over (for the train set, test set, new batches of data etc...). In this case, it can be very useful to set up a pipeline which makes the same adjustments to raw data."
      ]
    },
    {
      "cell_type": "code",
      "metadata": {
        "id": "8nBRybPt8PMb"
      },
      "source": [
        "# Let's reload the raw data\r\n",
        "\r\n",
        "data_url = 'https://raw.githubusercontent.com/Humboldt-WI/bads/master/data/hmeq_prepared.csv' \r\n",
        "df = pd.read_csv(data_url)\r\n",
        "\r\n",
        "# Extract target variable and feature matrix \r\n",
        "X = df.drop(['BAD'], axis=1) \r\n",
        "y = df[['BAD']]\r\n",
        "\r\n",
        "X_train, X_test, y_train, y_test = train_test_split(X, y, test_size=.2)"
      ],
      "execution_count": 65,
      "outputs": []
    },
    {
      "cell_type": "code",
      "metadata": {
        "id": "EXhVqwvsY038"
      },
      "source": [
        "# Now let's use a pipeline to transform our data using some of what we have learned above\r\n",
        "\r\n",
        "from sklearn.pipeline import Pipeline\r\n",
        "from sklearn.externals import joblib\r\n",
        "from sklearn.ensemble import RandomForestClassifier\r\n",
        "from sklearn.preprocessing import OneHotEncoder\r\n",
        "from sklearn.compose import ColumnTransformer\r\n",
        "\r\n",
        "# If you only want a transformation on select columns, it is good to first use ColumnTransformer\r\n",
        "transformer = ColumnTransformer(transformers=[('cat', OneHotEncoder(), [3, 4]), # ('step_name', fun(), list_cols) always follow this format for each step of the transfomer\r\n",
        "                                              ('scl', StandardScaler(), [0, 1, 2, 5, 6, 7, 8, 9, 10])], # Note that below RF is used as a classifier, thus, scaling is not exactly necessary\r\n",
        "                                              remainder='passthrough')\r\n",
        "\r\n",
        "# Construct some pipelines\r\n",
        "pipe = Pipeline([\r\n",
        "                ('t', transformer), # ('step_name', transfomer) always follow this format for transformers in the pipeline\r\n",
        "                ('clf', RandomForestClassifier()) # ('step_name', fun()) add parantheses for other functions\r\n",
        "                ])"
      ],
      "execution_count": 66,
      "outputs": []
    },
    {
      "cell_type": "code",
      "metadata": {
        "id": "sm3ULAv0Y4ZF"
      },
      "source": [
        "pipe.fit(X_train, y_train.values.ravel())\r\n",
        "y_pred = pipe.predict(X_test)"
      ],
      "execution_count": 67,
      "outputs": []
    },
    {
      "cell_type": "code",
      "metadata": {
        "colab": {
          "base_uri": "https://localhost:8080/"
        },
        "id": "sruOYyvJ-2CL",
        "outputId": "6abcc7ac-7e20-468b-db24-02021255e43d"
      },
      "source": [
        "roc_auc_score(y_test, y_pred) # check AUC"
      ],
      "execution_count": 68,
      "outputs": [
        {
          "output_type": "execute_result",
          "data": {
            "text/plain": [
              "0.8332992627988093"
            ]
          },
          "metadata": {
            "tags": []
          },
          "execution_count": 68
        }
      ]
    },
    {
      "cell_type": "markdown",
      "metadata": {
        "id": "cqjuoJR6dTwe"
      },
      "source": [
        "# Conclusion\n",
        "\n",
        "The  demos above should have provided some ideas for useful transformations and feature selection. In the practice questions, we will try to use some of these in the HMEQ dataset to see effect they have on prediction values. Remember again there is no single way to apply these steps to all types of data. You'll have to experiment and find which combination works best for your problem. Happy coding!\n",
        "\n",
        "\n"
      ]
    },
    {
      "cell_type": "markdown",
      "metadata": {
        "id": "Xa5rw9679ooO"
      },
      "source": [
        "# Overview table\r\n",
        "\r\n",
        "| Goal | Possible Code |\r\n",
        "| --- | --- |\r\n",
        "| Get data types of each column | `df.dtypes` |\r\n",
        "| Select all float columns of a df | `df.select_dtypes(include='float64')` |\r\n",
        "| Create min-max scaling or normalization object | `MinMaxScaler()` |\r\n",
        "| Create standardization object | `StandardScaler()` |\r\n",
        "| Modify `X` with a Box Cox transformation (positive values only) | `stats.boxcox(X) ` |\r\n",
        "| Modify `X` with a Yeo Johnson transformation | `stats.yeojohnson(X)` |\r\n",
        "| Test if a variable is normally distributed (p-val > 0.05 points to normality) | `statsnormaltest(X)` |\r\n",
        "| Create QQ plot for `X` (lines should correspond) | `qqplot(feature, line='s')` |\r\n",
        "| Get WoE weights of `feature_i` | `scorecardpy.woebin(train_df, y=\"target\", x='feature_i')` |\r\n",
        "| Plot weights of `woebin` | `scorecardpy.woebin_plot(woebin_obj)` |\r\n",
        "| Replace the feature calculated in `woebin` with its results| `scorecardpy.woebin_ply(X_train, woe)` |\r\n",
        "| Pearson's coefficient | `stats.pearsonr(X, y)` |\r\n",
        "| Calculate Chi2 value for X and y | `chi2(X, y)` |\r\n",
        "| Get dummy values for `feature` with prefix `name_` | `pd.get_dummies(X.feature, prefix='name')` |\r\n",
        "| Create forward variable selection object | `SequentialFeatureSelector()` |\r\n",
        "| Returns `X` of only selected features | `sfs_model.transform(X_train)` |\r\n",
        "| Create backward variable selection object | `RFECV()` |\r\n",
        "| Use fitted RFECV model to predict on test set | `rfecv_model.predict(X_test)` |\r\n",
        "| Create object which uses `fun` on cols in `col_list` and keeps unchanged columns | `ColumnTransformer(transformers=('step_name', fun(), list_cols), remainder='passthrough')` ** |\r\n",
        "| Create pipeline object | `Pipeline(('step_name', fun))` ***|\r\n",
        "| Pass X_train through pipeline for fitting | `pipe_name.fit(X_train, y_train)`|\r\n",
        "| Pass X_test through pipeline for prediction | `pipe_name.fit(X_test)`|\r\n",
        "\r\n",
        "\r\n",
        "** In `ColumnTransformer`, you can add a list of transformers of that format in the `transformer` argument\r\n",
        "\r\n",
        "*** In `Pipeline`, you can add a list of steps of that format as the first argument. It is encouraged to put your classifier in here as the last step"
      ]
    },
    {
      "cell_type": "markdown",
      "metadata": {
        "id": "AMI_yMHEdTwf"
      },
      "source": [
        "# Exercises\n",
        "\n",
        "## Power transformations \n",
        "- Box-Cox (BC) and Yeo-Johnson (YJ) transformation exhibit hyperparameter $\\lambda$. Implement a custom function that receives a feature as input and grid-searches the best value of $\\lambda$. The caller should be able to specify whether s/he wants to use BC or YJ. Your function can assess the merit of a value of $\\lambda$ by means of the function `normaltest()`, the use of which we illustrated above. The more normal a feature after the transformation, the better the value of $\\lambda$. \n",
        "\n",
        "- Write another custom function `best_transform()`. Given a DataFrame with input data, your function should identify the best power transformation for each numerical feature. Note that using the raw feature without transformation is also possible and might be the best approach. Also remember to tune $\\lambda$ when needed using your solution to the previous exercise. Try out your function using the HMEQ data. Display the best transformation for each feature.\n",
        "\n",
        "**Optional** \n",
        "- Till here, we have assessed the merit of a transformation by means of checking normality using `normaltest()`. Arguably, a better approach for predictive modeling would be to test if a model trained on the transformed data generates better predictions. To implement this logic, you need a custom function that implements our standard predictive modeling pipeline (see, e.g., Tutorial 5 or Tutorial 7) to estimates the predictive performance of a model, say logistic regression, on an input data set. Once you have this function, you can revise your solutions to the previous exercises such that they call the function just implemented instead of `normaltest()`. \n",
        "- Test your function using the HMEQ data set\n",
        "- Perform a final test what approach gives better results (in terms of AUC on HMEQ) optimizing feature transformations using `normaltest()` or by assessing predictive accuracy. *For the experts, make sure to not overfit* \n",
        "---\n",
        "## Weight of evidence coding (challenging)\n",
        "A standard risk modeling workflow in banking is the following\n",
        "- Discretize all numeric features in a data set\n",
        "- Optimize categorical features by re-grouping/merging category levels\n",
        "- WOE transform all categorical variables\n",
        "- Build logistic regression-based scorecard\n",
        "\n",
        "Your task is to implement this workflow. The previous demos provide much of the functionality that you need. However, some extensions are needed and you have to put everything together. To keep things manageable, let's agree on the following heuristic:\n",
        "Implement step 1 and step 2 by fitting a shallow tree to the data (e.g., at most 5 leaf nodes). This will work with numerical and categorical features alike. The leaf nodes of your shallow tree represent the new, re-grouped, optimized categorical features. After this tree-based transformation, you can WOE-encoded the whole data set in one go.\n",
        "\n",
        "Compare a logit model using your transformed data set to one from our standard version of the data [add link here]\n",
        "\n",
        "## Feature selection\n",
        "- We discussed that sklearn does not offer stepwise regression. Implement a stepwise logit using AIC from scratch. To that end, you will need to decide on a search direction (forward or backward) and scoring criterion. The latter is needed for selecting the next feature to be added to or deleted from a model. Understanding the role of the search criterion is a very good learning outcome in its own right. There is probably no single correct or best solution how to score candidate features. Try to come up with a sensible approach.  "
      ]
    },
    {
      "cell_type": "code",
      "metadata": {
        "id": "FKfKzJUiLjv2"
      },
      "source": [
        "def opt_transformer_coef(var, transformer_type=\"yj\"):\r\n",
        "\r\n",
        "    pvals = []\r\n",
        "\r\n",
        "    if transformer_type==\"bc\":\r\n",
        "        try:\r\n",
        "            assert (var > 0).all()  # Box Cox is only defined for variables higher than 0\r\n",
        "        except AssertionError:\r\n",
        "            raise ValueError(\"Feature values must be strictly positive\")\r\n",
        "\r\n",
        "        var_mod = np.log(var)  # check special case of coefficient = 0\r\n",
        "        test_stat = stats.normaltest(var_0)[1]\r\n",
        "        pvals.append(test_stat[1])  # only append p_val\r\n",
        "\r\n",
        "        coef_range = [0] + np.arange(.05, 2, 0.05).tolist()\r\n",
        "\r\n",
        "        for val in coef_range:\r\n",
        "            var_mod = (var ** val - 1) / val\r\n",
        "            test_stat = stats.normaltest(var_mod)\r\n",
        "            pvals.append(test_stat[1])\r\n",
        "\r\n",
        "    if transformer_type==\"yj\":\r\n",
        "\r\n",
        "        var_mod = np.empty_like(var)\r\n",
        "        coef_range = [0, 2] + np.arange(.05, 2, 0.05).tolist()\r\n",
        "\r\n",
        "        # check special case of coefficient = 0\r\n",
        "        mask = (var >= 0)\r\n",
        "        var_mod[mask] = np.log(var[mask] + 1)\r\n",
        "        var_mod[~mask] = -((-var[~mask] + 1)**2 - 1) / 2\r\n",
        "\r\n",
        "        test_stat = stats.normaltest(var_mod)\r\n",
        "        pvals.append(test_stat[1])\r\n",
        "\r\n",
        "        # check special case of coefficient = 2\r\n",
        "        mask = (var >= 0)\r\n",
        "        var_mod[mask] = ((var[mask] + 1)**2 - 1) / 2\r\n",
        "        var_mod[~mask] = -np.log(-var[~mask] + 1)\r\n",
        "\r\n",
        "        test_stat = stats.normaltest(var_mod)\r\n",
        "        pvals.append(test_stat[1])\r\n",
        "\r\n",
        "        coef_range = [0, 2] + np.arange(.05, 1.95, 0.05).tolist()\r\n",
        "\r\n",
        "        for val in coef_range:\r\n",
        "            mask = (var >= 0)\r\n",
        "            var_mod[mask] = ((var[mask] + 1)**val - 1) / val\r\n",
        "            var_mod[~mask] = -((-var[~mask] + 1)**(2 - val) - 1) / (2 - val)\r\n",
        "\r\n",
        "        test_stat = stats.normaltest(var_mod)\r\n",
        "        pvals.append(test_stat[1])\r\n",
        "\r\n",
        "    max_ind = pvals.index(max(pvals))\r\n",
        "    coef_range[max_ind]\r\n",
        "    original_p = stats.normaltest(var)\r\n",
        "\r\n",
        "    print(\"The ideal is a p-value of 0.05 in the normal test.\")\r\n",
        "    print(\"The original p-value for the normal test was: {}\".format(original_p[1]))\r\n",
        "    print(\"The maximum p-value for the normal test was: {}\".format(max(pvals)))\r\n",
        "\r\n",
        "    print(\"The optimal lambda is: {}\".format(coef_range[max_ind]))\r\n",
        "\r\n",
        "    return coef_range[max_ind]"
      ],
      "execution_count": 69,
      "outputs": []
    },
    {
      "cell_type": "code",
      "metadata": {
        "colab": {
          "base_uri": "https://localhost:8080/",
          "height": 129
        },
        "id": "iS4yO765o409",
        "outputId": "29266cd7-fda7-43f8-9b7d-66d77c8f7ceb"
      },
      "source": [
        "def best_transform()"
      ],
      "execution_count": 70,
      "outputs": [
        {
          "output_type": "error",
          "ename": "SyntaxError",
          "evalue": "ignored",
          "traceback": [
            "\u001b[0;36m  File \u001b[0;32m\"<ipython-input-70-5df960b1ce0c>\"\u001b[0;36m, line \u001b[0;32m1\u001b[0m\n\u001b[0;31m    def best_transform()\u001b[0m\n\u001b[0m                        ^\u001b[0m\n\u001b[0;31mSyntaxError\u001b[0m\u001b[0;31m:\u001b[0m invalid syntax\n"
          ]
        }
      ]
    }
  ]
}