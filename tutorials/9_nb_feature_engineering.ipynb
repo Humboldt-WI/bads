{
  "nbformat": 4,
  "nbformat_minor": 0,
  "metadata": {
    "kernelspec": {
      "display_name": "PyCharm (adams)",
      "language": "python",
      "name": "pycharm-feb95198"
    },
    "language_info": {
      "codemirror_mode": {
        "name": "ipython",
        "version": 3
      },
      "file_extension": ".py",
      "mimetype": "text/x-python",
      "name": "python",
      "nbconvert_exporter": "python",
      "pygments_lexer": "ipython3",
      "version": "3.7.6"
    },
    "colab": {
      "name": "9_nb_feature_engineering.ipynb",
      "provenance": [],
      "collapsed_sections": [
        "e3OU5PBOMymG",
        "KjM6lppjM1Yu",
        "OBj1x_jqM4sr",
        "l6ESJ7jCiOUa",
        "i8nrsT1JiTSF",
        "fZeIjLqfiV_c",
        "CJrG1rRRiYQP"
      ]
    }
  },
  "cells": [
    {
      "cell_type": "markdown",
      "metadata": {
        "id": "JW8q2Hxl3thA"
      },
      "source": [
        "[![Open In Colab](https://colab.research.google.com/assets/colab-badge.svg)](https://colab.research.google.com/github/Humboldt-WI/bads/blob/master/tutorials/9_nb_feature_engineering.ipynb) "
      ]
    },
    {
      "cell_type": "markdown",
      "metadata": {
        "id": "_55XGJ5Krxox"
      },
      "source": [
        "# Chapter 9 - Feature engineering and selection\n",
        "\n",
        "So, we've gone through some basic feature pre-processing but that was just the tip of the iceberg. Now we'll introduce feature engineering which is the art of creating meaningful features from your processed data. You will likely have to use a combination of domain and statistical knowledge to get the most out of your variables. This includes techniques such as scaling and [transforming](https://machinelearningmastery.com/power-transforms-with-scikit-learn/) (there are [other techniques](https://machinelearningmastery.com/power-transforms-with-scikit-learn/) when dealing with time series data). It could also be the creation of new variables using some kind of combination of the variables that you have.\n",
        "\n",
        "In this tutorial, we will discuss basic transformations for feature engineering and how to perform feature selection. As you know, your model should include only include all relevant variables. Any variables which don't help with predictability may cause overfitting and hamper model performance on new data. \n",
        "\n",
        "We will end with two useful tricks, importing from scripts and pipelines which should make your code quicker and cleaner to read.\n",
        "\n",
        "\n",
        "Here are the contents point by point:\n",
        "- Preliminaries\n",
        "- Feature engineering\n",
        "- Object Creation\n",
        "- Feature selection\n",
        "- Importing scripts\n",
        "- Pipelines\n",
        "- Exercises"
      ]
    },
    {
      "cell_type": "markdown",
      "metadata": {
        "id": "aCcnA3C9dTwR"
      },
      "source": [
        "# Preliminaries\n",
        "\n",
        "We will begin as usual, by importing necessary libraries, settings and loading the data. "
      ]
    },
    {
      "cell_type": "code",
      "metadata": {
        "colab": {
          "base_uri": "https://localhost:8080/",
          "height": 204
        },
        "id": "TEw41VzvkIou",
        "outputId": "543e2fee-e9d7-4ac0-fedd-3f7424e36c80"
      },
      "source": [
        "# Import standard Python libraries\r\n",
        "import numpy as np\r\n",
        "import matplotlib.pyplot as plt\r\n",
        "import pandas as pd\r\n",
        "from sklearn.model_selection import train_test_split\r\n",
        "from sklearn.ensemble import RandomForestClassifier\r\n",
        "from sklearn.metrics import roc_auc_score\r\n",
        "\r\n",
        "# Some configuration of the plots we will create later\r\n",
        "%matplotlib inline  \r\n",
        "plt.rcParams[\"figure.figsize\"] = (12,6)\r\n",
        "\r\n",
        "# Load credit risk data in pre-processed format from GitHub\r\n",
        "data_url = 'https://raw.githubusercontent.com/Humboldt-WI/bads/master/data/hmeq_prepared.csv' \r\n",
        "df = pd.read_csv(data_url)\r\n",
        "\r\n",
        "# Extract target variable and feature matrix \r\n",
        "X = df.drop(['BAD'], axis=1) \r\n",
        "y = df[['BAD']]\r\n",
        "\r\n",
        "X_train, X_test, y_train, y_test = train_test_split(X, y, test_size=.2)\r\n",
        "\r\n",
        "X_train.head()"
      ],
      "execution_count": null,
      "outputs": [
        {
          "output_type": "execute_result",
          "data": {
            "text/html": [
              "<div>\n",
              "<style scoped>\n",
              "    .dataframe tbody tr th:only-of-type {\n",
              "        vertical-align: middle;\n",
              "    }\n",
              "\n",
              "    .dataframe tbody tr th {\n",
              "        vertical-align: top;\n",
              "    }\n",
              "\n",
              "    .dataframe thead th {\n",
              "        text-align: right;\n",
              "    }\n",
              "</style>\n",
              "<table border=\"1\" class=\"dataframe\">\n",
              "  <thead>\n",
              "    <tr style=\"text-align: right;\">\n",
              "      <th></th>\n",
              "      <th>LOAN</th>\n",
              "      <th>MORTDUE</th>\n",
              "      <th>VALUE</th>\n",
              "      <th>REASON</th>\n",
              "      <th>JOB</th>\n",
              "      <th>YOJ</th>\n",
              "      <th>DEROG</th>\n",
              "      <th>DELINQ</th>\n",
              "      <th>CLAGE</th>\n",
              "      <th>NINQ</th>\n",
              "      <th>CLNO</th>\n",
              "      <th>DEBTINC</th>\n",
              "      <th>DEROGzero</th>\n",
              "    </tr>\n",
              "  </thead>\n",
              "  <tbody>\n",
              "    <tr>\n",
              "      <th>4476</th>\n",
              "      <td>23300.0</td>\n",
              "      <td>89847.0</td>\n",
              "      <td>136259.0</td>\n",
              "      <td>DebtCon</td>\n",
              "      <td>ProfExe</td>\n",
              "      <td>7.0</td>\n",
              "      <td>0.0</td>\n",
              "      <td>0.0</td>\n",
              "      <td>210.01611</td>\n",
              "      <td>0.0</td>\n",
              "      <td>21.0</td>\n",
              "      <td>29.779942</td>\n",
              "      <td>True</td>\n",
              "    </tr>\n",
              "    <tr>\n",
              "      <th>1435</th>\n",
              "      <td>10900.0</td>\n",
              "      <td>59029.0</td>\n",
              "      <td>76120.0</td>\n",
              "      <td>DebtCon</td>\n",
              "      <td>Other</td>\n",
              "      <td>2.0</td>\n",
              "      <td>0.0</td>\n",
              "      <td>0.0</td>\n",
              "      <td>231.73415</td>\n",
              "      <td>0.0</td>\n",
              "      <td>10.0</td>\n",
              "      <td>36.025684</td>\n",
              "      <td>True</td>\n",
              "    </tr>\n",
              "    <tr>\n",
              "      <th>1620</th>\n",
              "      <td>11700.0</td>\n",
              "      <td>47072.0</td>\n",
              "      <td>85090.0</td>\n",
              "      <td>HomeImp</td>\n",
              "      <td>Other</td>\n",
              "      <td>18.0</td>\n",
              "      <td>0.0</td>\n",
              "      <td>0.0</td>\n",
              "      <td>192.25319</td>\n",
              "      <td>0.0</td>\n",
              "      <td>16.0</td>\n",
              "      <td>35.064865</td>\n",
              "      <td>True</td>\n",
              "    </tr>\n",
              "    <tr>\n",
              "      <th>2109</th>\n",
              "      <td>13300.0</td>\n",
              "      <td>81944.0</td>\n",
              "      <td>108768.0</td>\n",
              "      <td>DebtCon</td>\n",
              "      <td>Other</td>\n",
              "      <td>5.0</td>\n",
              "      <td>0.0</td>\n",
              "      <td>0.0</td>\n",
              "      <td>81.10680</td>\n",
              "      <td>1.0</td>\n",
              "      <td>13.0</td>\n",
              "      <td>33.869640</td>\n",
              "      <td>True</td>\n",
              "    </tr>\n",
              "    <tr>\n",
              "      <th>1453</th>\n",
              "      <td>11000.0</td>\n",
              "      <td>56795.0</td>\n",
              "      <td>70014.0</td>\n",
              "      <td>DebtCon</td>\n",
              "      <td>Other</td>\n",
              "      <td>3.0</td>\n",
              "      <td>0.0</td>\n",
              "      <td>1.0</td>\n",
              "      <td>319.79578</td>\n",
              "      <td>0.0</td>\n",
              "      <td>10.0</td>\n",
              "      <td>33.596172</td>\n",
              "      <td>True</td>\n",
              "    </tr>\n",
              "  </tbody>\n",
              "</table>\n",
              "</div>"
            ],
            "text/plain": [
              "         LOAN  MORTDUE     VALUE   REASON  ... NINQ  CLNO    DEBTINC  DEROGzero\n",
              "4476  23300.0  89847.0  136259.0  DebtCon  ...  0.0  21.0  29.779942       True\n",
              "1435  10900.0  59029.0   76120.0  DebtCon  ...  0.0  10.0  36.025684       True\n",
              "1620  11700.0  47072.0   85090.0  HomeImp  ...  0.0  16.0  35.064865       True\n",
              "2109  13300.0  81944.0  108768.0  DebtCon  ...  1.0  13.0  33.869640       True\n",
              "1453  11000.0  56795.0   70014.0  DebtCon  ...  0.0  10.0  33.596172       True\n",
              "\n",
              "[5 rows x 13 columns]"
            ]
          },
          "metadata": {
            "tags": []
          },
          "execution_count": 1
        }
      ]
    },
    {
      "cell_type": "code",
      "metadata": {
        "colab": {
          "base_uri": "https://localhost:8080/"
        },
        "id": "HrmcdZckZZ8S",
        "outputId": "ce72a319-1a77-4800-e1fd-b5ec0167385b"
      },
      "source": [
        "print(X_train.shape, X_test.shape, y_train.shape, y_test.shape)"
      ],
      "execution_count": null,
      "outputs": [
        {
          "output_type": "stream",
          "text": [
            "(4768, 13) (1192, 13) (4768, 1) (1192, 1)\n"
          ],
          "name": "stdout"
        }
      ]
    },
    {
      "cell_type": "markdown",
      "metadata": {
        "id": "e9BfpWt7dTwS"
      },
      "source": [
        "# Feature Engineering "
      ]
    },
    {
      "cell_type": "markdown",
      "metadata": {
        "id": "9WByBH0XdTwT"
      },
      "source": [
        "## Data pipeline construction revisited\n",
        "\n",
        "Here is a sample of how your data preparation process should look. This can however vary depending on the data with which you are working and the goal of your model. In general, you may **at least** want to follow these steps:\n",
        "\n",
        "**1) Basic cleaning of null values, duplicates and outliers**\n",
        "\n",
        "These values will have a big impact on how Python runs and how models are calculated. When it comes to NaN values and outliers, there are several approaches to deal with them. You could remove them, replace them with another value (indicator value, mode, mean, max, min, etc), use a mini-model to impute them among other options. This has been done for the most part in this data set already. \n",
        "\n",
        "**2) Encode variables in the most appropriate way**\n",
        "\n",
        "Check your dataframe using the method `.info()` . Are your continuous variables encoded as integers or floats? If they are type `object` then the column may need to be checked again for null values. It is good practice to change any categorical variables to the `category` data type as it increases processing time. Once you have confirmed that you will finalize the model with a categorical variable, it can be good to use one-hot encoding as described in step 5.\n",
        "\n",
        "**3) Ensure variables fit statistical assumptions/model requirements**\n",
        "\n",
        "The next steps are a bit more complex and will depend on which model you need to use. Your goal is to make sure your data will be accurately processed by your model. Note that a lot of statistical assumptions depend on normal distribution and scaling. For example, models like linear regression and K-Means are very sensitive to abitrarily large magnitudes. We will first examine ways to do that.\n",
        "\n",
        "In this step, you may also want to remove features which are highly correlated to one another.\n",
        "\n",
        "**4) Filter out variables with low predictive power**\n",
        "\n",
        "You may now want to check variables to see if they indicate they will contribute to your model. We will discuss filter methods to do just that. Note that some variables may only be effective in combination with others, so be careful with this step. \n",
        "\n",
        "**5) One-hot encode categorical variables**\n",
        "\n",
        "Once you have decided to keep a categorical feature, it can be useful to one-hot encode the feature. Again, one-hot encoding means that instead of one categorical column, you have multiple dummies which represent possible category values. For example, if your categorical variable \"transport\" had the possible values of \"car\", \"by foot\" or \"bus\", you would split it into columns called \"transport_car\" and \"transport_bus\". \"by foot\" is indicated if neither of those have a value of 1 for that observation.\n",
        "\n",
        "**6) Double check the model only includes appropriate variables**\n",
        "\n",
        "Next, you may want to try a wrapper method or step-wise regression as another check to ensure you are only including relevant variables.\n",
        "\n",
        "In many cases, you may have to repeat some of these steps several times. Remember the idea of **garbage in, garbage out**. If you feed a model nonsense, expect nonsense to come right back out. This is likely what will take the most of your time as a data scientist."
      ]
    },
    {
      "cell_type": "code",
      "metadata": {
        "colab": {
          "base_uri": "https://localhost:8080/"
        },
        "id": "SFfJqQ63qoUa",
        "outputId": "cc13b9a1-fc4c-489f-8429-348ab96534f0"
      },
      "source": [
        "# Let's get a quick overview of the data types of each column and make sure they are correct\r\n",
        "\r\n",
        "df.info()"
      ],
      "execution_count": null,
      "outputs": [
        {
          "output_type": "stream",
          "text": [
            "<class 'pandas.core.frame.DataFrame'>\n",
            "RangeIndex: 5960 entries, 0 to 5959\n",
            "Data columns (total 14 columns):\n",
            " #   Column     Non-Null Count  Dtype  \n",
            "---  ------     --------------  -----  \n",
            " 0   BAD        5960 non-null   bool   \n",
            " 1   LOAN       5960 non-null   float64\n",
            " 2   MORTDUE    5960 non-null   float64\n",
            " 3   VALUE      5960 non-null   float64\n",
            " 4   REASON     5960 non-null   object \n",
            " 5   JOB        5960 non-null   object \n",
            " 6   YOJ        5960 non-null   float64\n",
            " 7   DEROG      5960 non-null   float64\n",
            " 8   DELINQ     5960 non-null   float64\n",
            " 9   CLAGE      5960 non-null   float64\n",
            " 10  NINQ       5960 non-null   float64\n",
            " 11  CLNO       5960 non-null   float64\n",
            " 12  DEBTINC    5960 non-null   float64\n",
            " 13  DEROGzero  5960 non-null   bool   \n",
            "dtypes: bool(2), float64(10), object(2)\n",
            "memory usage: 570.5+ KB\n"
          ],
          "name": "stdout"
        }
      ]
    },
    {
      "cell_type": "code",
      "metadata": {
        "colab": {
          "base_uri": "https://localhost:8080/"
        },
        "id": "xs1JAzocts10",
        "outputId": "36a07288-29c2-4468-bff9-4ec49271daca"
      },
      "source": [
        "df['DEROG'].value_counts()  # Check that 'DEROG' is not actually Boolean"
      ],
      "execution_count": null,
      "outputs": [
        {
          "output_type": "execute_result",
          "data": {
            "text/plain": [
              "0.0     5235\n",
              "1.0      435\n",
              "2.0      160\n",
              "3.0       58\n",
              "4.0       23\n",
              "6.0       15\n",
              "5.0       15\n",
              "7.0        8\n",
              "8.0        6\n",
              "9.0        3\n",
              "10.0       2\n",
              "Name: DEROG, dtype: int64"
            ]
          },
          "metadata": {
            "tags": []
          },
          "execution_count": 4
        }
      ]
    },
    {
      "cell_type": "code",
      "metadata": {
        "colab": {
          "base_uri": "https://localhost:8080/"
        },
        "id": "t8cQUTN3t3CT",
        "outputId": "1ca2be1c-87ad-4f4b-b3f9-6664ee0eca35"
      },
      "source": [
        "df['NINQ'].value_counts() # Checking 'NINQ' for the same reason as 'DEROG'"
      ],
      "execution_count": null,
      "outputs": [
        {
          "output_type": "execute_result",
          "data": {
            "text/plain": [
              "0.0    2531\n",
              "1.0    1849\n",
              "2.0     780\n",
              "3.0     392\n",
              "4.0     156\n",
              "8.0      77\n",
              "5.0      75\n",
              "6.0      56\n",
              "7.0      44\n",
              "Name: NINQ, dtype: int64"
            ]
          },
          "metadata": {
            "tags": []
          },
          "execution_count": 5
        }
      ]
    },
    {
      "cell_type": "markdown",
      "metadata": {
        "id": "wr8OK_ewwKlF"
      },
      "source": [
        "Luckily, most of our variables are actually encoded the right way! Let's just change the two categorical variables to a categorical type. Note that this is not a data type in NumPy, only in `pandas`. As such, you may run into problems if the data type becomes relevant in a NumPy calculation. Just keep that in mind!"
      ]
    },
    {
      "cell_type": "code",
      "metadata": {
        "id": "Tf8vzIk2tJZX"
      },
      "source": [
        "# Let's change our two categorical variables to the correct type for our interim analysis\r\n",
        "\r\n",
        "df['REASON'] = df['REASON'].astype('category')\r\n",
        "df['JOB'] = df['JOB'].astype('category')"
      ],
      "execution_count": null,
      "outputs": []
    },
    {
      "cell_type": "code",
      "metadata": {
        "colab": {
          "base_uri": "https://localhost:8080/"
        },
        "id": "toUCPoLZtaVq",
        "outputId": "0ecf99d1-39b5-401f-98b9-f345a47fe6e5"
      },
      "source": [
        "df.info()"
      ],
      "execution_count": null,
      "outputs": [
        {
          "output_type": "stream",
          "text": [
            "<class 'pandas.core.frame.DataFrame'>\n",
            "RangeIndex: 5960 entries, 0 to 5959\n",
            "Data columns (total 14 columns):\n",
            " #   Column     Non-Null Count  Dtype   \n",
            "---  ------     --------------  -----   \n",
            " 0   BAD        5960 non-null   bool    \n",
            " 1   LOAN       5960 non-null   float64 \n",
            " 2   MORTDUE    5960 non-null   float64 \n",
            " 3   VALUE      5960 non-null   float64 \n",
            " 4   REASON     5960 non-null   category\n",
            " 5   JOB        5960 non-null   category\n",
            " 6   YOJ        5960 non-null   float64 \n",
            " 7   DEROG      5960 non-null   float64 \n",
            " 8   DELINQ     5960 non-null   float64 \n",
            " 9   CLAGE      5960 non-null   float64 \n",
            " 10  NINQ       5960 non-null   float64 \n",
            " 11  CLNO       5960 non-null   float64 \n",
            " 12  DEBTINC    5960 non-null   float64 \n",
            " 13  DEROGzero  5960 non-null   bool    \n",
            "dtypes: bool(2), category(2), float64(10)\n",
            "memory usage: 489.3 KB\n"
          ],
          "name": "stdout"
        }
      ]
    },
    {
      "cell_type": "markdown",
      "metadata": {
        "id": "mN5r9LUioKP4"
      },
      "source": [
        "## Scaling\r\n",
        "\r\n",
        "Features will likely have arbitrary magnitudes. For example, a customer's spending range from 0 to 50,000 but a dummy variable about them may only take the value 0 or 1. For many algorithms, like the distance function in kMeans, this is problematic. The distance function will try to minimize differences among features using their raw values. This means that kMeans will focus on variables with arbitrarily high values like spending when that may not be as important as a dummy. One way to deal with this is to scale features so that they still vary but the values aren't arbitrarily higher. This way, all features will be considered equally. \r\n",
        "\r\n",
        "There are two major ways to scale: standardization and min-max scaling (also known as normalization).\r\n",
        "\r\n",
        "### Standardization\r\n",
        "After standardization, your feature will now be distributed about the mean feature value.\r\n",
        "\r\n",
        "$$ X_{new} = \\frac{X-\\mu}{\\sigma} $$\r\n",
        "\r\n",
        "There is no maximum or minimum value here. This means that standardization does not deal with outliers. You may have a clearer picture of how extreme these outliers are after standardization.\r\n",
        "\r\n",
        "### Min-Max Scaling\r\n",
        "After min-max scaling, your variables will have a range of 0 and 1. Minimum feature values will become 0 and maximum values will be 1.\r\n",
        "\r\n",
        "$$ X_{new} = \\frac{X-X_{min}}{X_{max}-X_{min}} $$\r\n",
        "\r\n",
        "**NOTE** This type of scaling is sometimes called normalization but you should note that it simply compacts the values of the features to be between 0 and 1, it does not change the overall shape of the data.\r\n"
      ]
    },
    {
      "cell_type": "code",
      "metadata": {
        "id": "VbhFZHaOOJbq"
      },
      "source": [
        "# Standardization\r\n",
        "def standardize(var):\r\n",
        "    return (var - np.mean(var)) / np.std(var)\r\n",
        "\r\n",
        "\r\n",
        "# Min-max scaling\r\n",
        "def min_max_scale(var):\r\n",
        "    return (var - min(var)) / (max(var) - min(var))"
      ],
      "execution_count": null,
      "outputs": []
    },
    {
      "cell_type": "markdown",
      "metadata": {
        "id": "ZaJouXZSctiH"
      },
      "source": [
        "Let's first look at how this variable looks before and after normalization and standardization using a box plot and then a histogram. **Note the axes of all of these plots.**"
      ]
    },
    {
      "cell_type": "code",
      "metadata": {
        "colab": {
          "base_uri": "https://localhost:8080/",
          "height": 282
        },
        "id": "idodxYUhxrY4",
        "outputId": "bb812cb9-41e5-4c66-f2b2-16c8c829a9f4"
      },
      "source": [
        "# Raw variable \r\n",
        "X_train[['LOAN']].boxplot()"
      ],
      "execution_count": null,
      "outputs": [
        {
          "output_type": "execute_result",
          "data": {
            "text/plain": [
              "<matplotlib.axes._subplots.AxesSubplot at 0x7ff88f9fa0b8>"
            ]
          },
          "metadata": {
            "tags": []
          },
          "execution_count": 9
        },
        {
          "output_type": "display_data",
          "data": {
            "image/png": "[encoded data removed]",
            "text/plain": [
              "<Figure size 432x288 with 1 Axes>"
            ]
          },
          "metadata": {
            "tags": [],
            "needs_background": "light"
          }
        }
      ]
    },
    {
      "cell_type": "code",
      "metadata": {
        "colab": {
          "base_uri": "https://localhost:8080/",
          "height": 282
        },
        "id": "7lG40FJUZY5z",
        "outputId": "c43c75e1-6564-42ec-be9d-4a6f2d8f44df"
      },
      "source": [
        "# Comparison of the normalized vs. standardized variable (check axes for size)\r\n",
        "\r\n",
        "loan_standardized = standardize(X_train['LOAN'])\r\n",
        "\r\n",
        "loan_normalized = min_max_scale(X_train['LOAN'])\r\n",
        "\r\n",
        "loans_scaled = pd.DataFrame({\"standardized\": loan_standardized, \"normalized\": loan_normalized})\r\n",
        "\r\n",
        "loans_scaled.boxplot()"
      ],
      "execution_count": null,
      "outputs": [
        {
          "output_type": "execute_result",
          "data": {
            "text/plain": [
              "<matplotlib.axes._subplots.AxesSubplot at 0x7ff88f94ea90>"
            ]
          },
          "metadata": {
            "tags": []
          },
          "execution_count": 10
        },
        {
          "output_type": "display_data",
          "data": {
            "image/png": "[encoded data removed]",
            "text/plain": [
              "<Figure size 432x288 with 1 Axes>"
            ]
          },
          "metadata": {
            "tags": [],
            "needs_background": "light"
          }
        }
      ]
    },
    {
      "cell_type": "code",
      "metadata": {
        "colab": {
          "base_uri": "https://localhost:8080/",
          "height": 315
        },
        "id": "RXjl78Z8QgW8",
        "outputId": "f79c8220-c13b-4c8e-af9f-7e63733a5df2"
      },
      "source": [
        "# Histogram of raw variable\r\n",
        "\r\n",
        "X_train[['LOAN']].hist(bins=100)"
      ],
      "execution_count": null,
      "outputs": [
        {
          "output_type": "execute_result",
          "data": {
            "text/plain": [
              "array([[<matplotlib.axes._subplots.AxesSubplot object at 0x7ff88ea4f320>]],\n",
              "      dtype=object)"
            ]
          },
          "metadata": {
            "tags": []
          },
          "execution_count": 11
        },
        {
          "output_type": "display_data",
          "data": {
            "image/png": "[encoded data removed]",
            "text/plain": [
              "<Figure size 432x288 with 1 Axes>"
            ]
          },
          "metadata": {
            "tags": [],
            "needs_background": "light"
          }
        }
      ]
    },
    {
      "cell_type": "code",
      "metadata": {
        "colab": {
          "base_uri": "https://localhost:8080/",
          "height": 332
        },
        "id": "_LMtqnFFQVTZ",
        "outputId": "a307cdd5-1f34-4699-d3f9-689243aeae0f"
      },
      "source": [
        "# Comparison of the normalized vs. standardized variable (check axes for size)\r\n",
        "\r\n",
        "loans_scaled.hist(bins=100)"
      ],
      "execution_count": null,
      "outputs": [
        {
          "output_type": "execute_result",
          "data": {
            "text/plain": [
              "array([[<matplotlib.axes._subplots.AxesSubplot object at 0x7ff88e87fa20>,\n",
              "        <matplotlib.axes._subplots.AxesSubplot object at 0x7ff88e89fb38>]],\n",
              "      dtype=object)"
            ]
          },
          "metadata": {
            "tags": []
          },
          "execution_count": 12
        },
        {
          "output_type": "display_data",
          "data": {
            "image/png": "[encoded data removed]",
            "text/plain": [
              "<Figure size 432x288 with 2 Axes>"
            ]
          },
          "metadata": {
            "tags": [],
            "needs_background": "light"
          }
        }
      ]
    },
    {
      "cell_type": "markdown",
      "metadata": {
        "id": "RqPKAtlyc4Mc"
      },
      "source": [
        "Now we can see the big difference between the two types of scaling. With min-max scaling, we have the variable ranging between 0 and 1. With standard scaling, we have the variable showing us its position relative to standard deviations. Note that in both of these examples, the variable was squeezed into a smaller range but did not change shape overall. There are ways to change its shape which we will explore next."
      ]
    },
    {
      "cell_type": "markdown",
      "metadata": {
        "id": "MRlyLdQedO57"
      },
      "source": [
        "First, let's just quickly look at the standard way to do this with `sklearn`. We can just use the `MinMaxScaler()` and `StandardScaler` to do produce exactly what our custom functions did."
      ]
    },
    {
      "cell_type": "code",
      "metadata": {
        "id": "4zqDzYWUYKYj",
        "colab": {
          "base_uri": "https://localhost:8080/",
          "height": 265
        },
        "outputId": "51232ded-8784-4d35-a2b3-30d3f7052362"
      },
      "source": [
        "from sklearn.preprocessing import StandardScaler\r\n",
        "standardscaler = StandardScaler()\r\n",
        "standardscaled = standardscaler.fit_transform(X_train[['LOAN']])\r\n",
        "_ = plt.hist(standardscaled, bins=100)\r\n",
        "plt.show()"
      ],
      "execution_count": null,
      "outputs": [
        {
          "output_type": "display_data",
          "data": {
            "image/png": "[encoded data removed]",
            "text/plain": [
              "<Figure size 432x288 with 1 Axes>"
            ]
          },
          "metadata": {
            "tags": [],
            "needs_background": "light"
          }
        }
      ]
    },
    {
      "cell_type": "code",
      "metadata": {
        "id": "7iNANRAhYEeV",
        "colab": {
          "base_uri": "https://localhost:8080/",
          "height": 265
        },
        "outputId": "a71df1cc-7eb2-4ff1-a82e-733b21d088d5"
      },
      "source": [
        "from sklearn.preprocessing import MinMaxScaler\r\n",
        "minmaxscaler = MinMaxScaler()\r\n",
        "minmaxscaled = minmaxscaler.fit_transform(X_train[['LOAN']])\r\n",
        "\r\n",
        "_ = plt.hist(minmaxscaled, bins=100)\r\n",
        "plt.show()"
      ],
      "execution_count": null,
      "outputs": [
        {
          "output_type": "display_data",
          "data": {
            "image/png": "[encoded data removed]",
            "text/plain": [
              "<Figure size 432x288 with 1 Axes>"
            ]
          },
          "metadata": {
            "tags": [],
            "needs_background": "light"
          }
        }
      ]
    },
    {
      "cell_type": "markdown",
      "metadata": {
        "id": "jIWedZPyKQhC"
      },
      "source": [
        "It is good practice to scale variables before putting them into an algorithm. Note that some algorithms (eg. tree algorithms) don't necessarily require this. Since we will be using a logistic regression initially, we will scale these variables using standard scaling later."
      ]
    },
    {
      "cell_type": "markdown",
      "metadata": {
        "id": "wxHx35GGJbVc"
      },
      "source": [
        "## Checking features for normality\r\n",
        "\r\n",
        "Normality is a critical condition for many statistical tests and the creation of confidence intervals. If this is the goal of your work, you will likely need to find some way to normalize your variables. Note that normalization does make interpreting your variables more difficult, so if you are not going to be performing statistical tests or creating confidence intervals, it may not be the best option. Here we will introduce 3 very useful tricks: log, Box-Cox and Yeo-Johnson transformations.\r\n",
        "\r\n",
        "There are several ways to check which variables could use such a transformation. One method would be to create a histogram of each variable and check its shape. Remember that you are looking for a perfect bell shape with even tails on either side. As you can imagine, this does not happen very often with many variables."
      ]
    },
    {
      "cell_type": "code",
      "metadata": {
        "colab": {
          "base_uri": "https://localhost:8080/",
          "height": 828
        },
        "id": "ofPwp-hoORpA",
        "outputId": "9b72ac37-09fa-406a-cd6e-1bf142f66c43"
      },
      "source": [
        "df.select_dtypes(include='float64').hist(bins=30, figsize=(15, 10))"
      ],
      "execution_count": null,
      "outputs": [
        {
          "output_type": "execute_result",
          "data": {
            "text/plain": [
              "array([[<matplotlib.axes._subplots.AxesSubplot object at 0x7ff88e2c0f98>,\n",
              "        <matplotlib.axes._subplots.AxesSubplot object at 0x7ff88e2dadd8>,\n",
              "        <matplotlib.axes._subplots.AxesSubplot object at 0x7ff88e29d080>],\n",
              "       [<matplotlib.axes._subplots.AxesSubplot object at 0x7ff88e24a400>,\n",
              "        <matplotlib.axes._subplots.AxesSubplot object at 0x7ff88e1fe780>,\n",
              "        <matplotlib.axes._subplots.AxesSubplot object at 0x7ff88e1acb00>],\n",
              "       [<matplotlib.axes._subplots.AxesSubplot object at 0x7ff88e1e2e80>,\n",
              "        <matplotlib.axes._subplots.AxesSubplot object at 0x7ff88e19f208>,\n",
              "        <matplotlib.axes._subplots.AxesSubplot object at 0x7ff88e19f278>],\n",
              "       [<matplotlib.axes._subplots.AxesSubplot object at 0x7ff88e103940>,\n",
              "        <matplotlib.axes._subplots.AxesSubplot object at 0x7ff88e0b6cc0>,\n",
              "        <matplotlib.axes._subplots.AxesSubplot object at 0x7ff88e076080>]],\n",
              "      dtype=object)"
            ]
          },
          "metadata": {
            "tags": []
          },
          "execution_count": 15
        },
        {
          "output_type": "display_data",
          "data": {
            "image/png": "[encoded data removed]",
            "text/plain": [
              "<Figure size 1080x720 with 12 Axes>"
            ]
          },
          "metadata": {
            "tags": [],
            "needs_background": "light"
          }
        }
      ]
    },
    {
      "cell_type": "code",
      "metadata": {
        "id": "fMwv2bSR1KrR"
      },
      "source": [
        "# Choose a feature of interest and we'll take a deep dive into it\r\n",
        "# DEROG, DELINQ and NINQ are bad candidates as they resemble categorical variables\r\n",
        "\r\n",
        "feature = df['LOAN'] "
      ],
      "execution_count": null,
      "outputs": []
    },
    {
      "cell_type": "markdown",
      "metadata": {
        "id": "2oSu9klOwao9"
      },
      "source": [
        "If you would like a more scienfitic test for normality, you can use `normaltest` from `scipy`. This function's documentation is [here](https://docs.scipy.org/doc/scipy/reference/generated/scipy.stats.normaltest.html). It outputs 2 numbers, the first is the sum of squares of the z-scores returned by a skewtest and kurtosistest. The second is a 2-sided chi2 probability hypothesis test. Thus, if the p-value is below 0.05, it is likely you do not have normally distributed data."
      ]
    },
    {
      "cell_type": "code",
      "metadata": {
        "colab": {
          "base_uri": "https://localhost:8080/"
        },
        "id": "Fvn-QvyXUt78",
        "outputId": "0a6a6e8f-af4d-467a-ec09-39b93dea59cf"
      },
      "source": [
        "from scipy import stats\r\n",
        "\r\n",
        "stats.normaltest(feature)"
      ],
      "execution_count": null,
      "outputs": [
        {
          "output_type": "execute_result",
          "data": {
            "text/plain": [
              "NormaltestResult(statistic=1603.6531776769357, pvalue=0.0)"
            ]
          },
          "metadata": {
            "tags": []
          },
          "execution_count": 17
        }
      ]
    },
    {
      "cell_type": "markdown",
      "metadata": {
        "id": "TnBUkKjE0Vt6"
      },
      "source": [
        "We can see problems a bit more clearly with quantile-quantile plot. Ideally, the blue line should match the red line (quantiles of a feature versus the quantiles/ppf of a distribution). If not, it is less likely that it comes from a normal distribution."
      ]
    },
    {
      "cell_type": "code",
      "metadata": {
        "colab": {
          "base_uri": "https://localhost:8080/",
          "height": 313
        },
        "id": "BJ-WO3MK0IKk",
        "outputId": "9bf528a1-9947-4c20-d0df-adaadc6ec377"
      },
      "source": [
        "from statsmodels.graphics.gofplots import qqplot\r\n",
        "\r\n",
        "qqplot(feature, line='s')\r\n",
        "plt.show()"
      ],
      "execution_count": null,
      "outputs": [
        {
          "output_type": "stream",
          "text": [
            "/usr/local/lib/python3.6/dist-packages/statsmodels/tools/_testing.py:19: FutureWarning: pandas.util.testing is deprecated. Use the functions in the public API at pandas.testing instead.\n",
            "  import pandas.util.testing as tm\n"
          ],
          "name": "stderr"
        },
        {
          "output_type": "display_data",
          "data": {
            "image/png": "[encoded data removed]",
            "text/plain": [
              "<Figure size 432x288 with 1 Axes>"
            ]
          },
          "metadata": {
            "tags": [],
            "needs_background": "light"
          }
        }
      ]
    },
    {
      "cell_type": "markdown",
      "metadata": {
        "id": "9lHmSIC2_8dB"
      },
      "source": [
        "Just to reiterate that it is a bit misleading to say min-max scaling is \"normalization\", let's min-max scale our feature and perform the test. As we can see, `normaltest` outputs the same test statistic and pvalue."
      ]
    },
    {
      "cell_type": "code",
      "metadata": {
        "colab": {
          "base_uri": "https://localhost:8080/",
          "height": 265
        },
        "id": "vVYoIXCfpkay",
        "outputId": "5971e1ce-3515-401d-ef1b-4ba044cb11cc"
      },
      "source": [
        "minmaxscaled_feature = minmaxscaler.fit_transform(pd.DataFrame(feature))\r\n",
        "\r\n",
        "_ = plt.hist(minmaxscaled_feature, bins=100)\r\n",
        "plt.show()"
      ],
      "execution_count": null,
      "outputs": [
        {
          "output_type": "display_data",
          "data": {
            "image/png": "[encoded data removed]",
            "text/plain": [
              "<Figure size 432x288 with 1 Axes>"
            ]
          },
          "metadata": {
            "tags": [],
            "needs_background": "light"
          }
        }
      ]
    },
    {
      "cell_type": "code",
      "metadata": {
        "colab": {
          "base_uri": "https://localhost:8080/"
        },
        "id": "l2Qt1Ociy16_",
        "outputId": "4e8b0170-6318-4c1c-bf5f-8a0d1f8982de"
      },
      "source": [
        "stats.normaltest(minmaxscaled_feature)"
      ],
      "execution_count": null,
      "outputs": [
        {
          "output_type": "execute_result",
          "data": {
            "text/plain": [
              "NormaltestResult(statistic=array([1603.65317768]), pvalue=array([0.]))"
            ]
          },
          "metadata": {
            "tags": []
          },
          "execution_count": 19
        }
      ]
    },
    {
      "cell_type": "markdown",
      "metadata": {
        "id": "pxugN33PMl3s"
      },
      "source": [
        "As such, if you need your variable to have more of a normal distribution, it's going to take more than min-max scaling."
      ]
    },
    {
      "cell_type": "markdown",
      "metadata": {
        "id": "fhHv9AlsJ4J_"
      },
      "source": [
        "## Common feature transformations for numeric data"
      ]
    },
    {
      "cell_type": "markdown",
      "metadata": {
        "id": "e3OU5PBOMymG"
      },
      "source": [
        "### Log Transformation\r\n",
        "One major use of logs is to create linearity from exponential relationships. This can greatly algorithms capture the fit of many variables. Remember that logs take only strictly positive variables. If you have any negative values, you will have to rescale your data, remove them or find another way to deal with them.\r\n",
        "\r\n",
        "$ x^{(t)} = g(x) = log(x) $\r\n",
        "\r\n"
      ]
    },
    {
      "cell_type": "markdown",
      "metadata": {
        "id": "KjM6lppjM1Yu"
      },
      "source": [
        "### Box Cox Transformation\r\n",
        "If your variable has a skewed tail, this can be problematic for the assumption on normality. You can try to correct this with a Box Cox transformation. This only works with strictly positive values (greater than 0). You can always rescale variables so they meet this criteria before putting them into this formula.\r\n",
        "\r\n",
        "$\r\n",
        "    x^{(t)} = g(x; \\lambda) =\r\n",
        "    \\begin{cases}\r\n",
        "      \\frac{x^\\lambda - 1}{\\lambda}, & \\text{if}\\ \\lambda \\neq 0 \\\\\r\n",
        "      log(x), & \\text{otherwise}\r\n",
        "    \\end{cases}\r\n",
        "$\r\n",
        "\r\n"
      ]
    },
    {
      "cell_type": "markdown",
      "metadata": {
        "id": "OBj1x_jqM4sr"
      },
      "source": [
        "### Yeo-Johnson Transformation\r\n",
        "This formula is essentially a more elaborate version of Box Cox. It can take any numbers (0 and under is completely fine). \r\n",
        "\r\n",
        "$\r\n",
        "    x^{(t)} = g(x; \\lambda) =\r\n",
        "    \\begin{cases}\r\n",
        "      \\frac{(1+x)^\\lambda - 1}{\\lambda}, & \\text{if}\\ \\lambda \\neq 0 \\ \\text{and}\\ x \\geq 0 \\\\\r\n",
        "      log(x+1), & \\text{if}\\ \\lambda = 0 \\ \\text{and}\\ x \\geq 0 \\\\\r\n",
        "      -\\frac{(1-x)^{2-\\lambda} - 1}{2-\\lambda}, & \\text{if}\\ \\lambda \\neq 2 \\ \\text{and}\\ x < 0\\\\\r\n",
        "      -log(-x+1), & \\text{if}\\ \\lambda = 2 \\ \\text{and}\\ x < 0\\\\\r\n",
        "    \\end{cases}\r\n",
        "$"
      ]
    },
    {
      "cell_type": "markdown",
      "metadata": {
        "id": "Rp8qyjecM7mD"
      },
      "source": [
        "\r\n",
        "## Testing transformations\r\n",
        "Let's look at a version of these which we have created from scratch and check what they do to our variable using histograms and box plots."
      ]
    },
    {
      "cell_type": "code",
      "metadata": {
        "id": "E-WYJkxWu0Ym"
      },
      "source": [
        "def box_cox_transform(var, power=0):\r\n",
        "\r\n",
        "    try:\r\n",
        "        assert (var > 0).all()  # Function only defined > 0\r\n",
        "    except AssertionError:\r\n",
        "        raise ValueError(\"Variable values must be strictly positive\")\r\n",
        "\r\n",
        "    # Special case lambda=0\r\n",
        "    if power == 0:\r\n",
        "        var = np.log(var)\r\n",
        "\r\n",
        "    else:\r\n",
        "        var = (var ** power - 1) / power\r\n",
        "\r\n",
        "    return var"
      ],
      "execution_count": null,
      "outputs": []
    },
    {
      "cell_type": "code",
      "metadata": {
        "id": "7ZXddYSIvg4O"
      },
      "source": [
        "def yeo_johnson_transform(var, power=1):\r\n",
        "\r\n",
        "    var_mod = np.empty_like(var)\r\n",
        "\r\n",
        "    # Special case lambda=0\r\n",
        "    if power == 0:\r\n",
        "        mask = (var >= 0)\r\n",
        "        var_mod[mask] = np.log(var[mask] + 1)\r\n",
        "        var_mod[~mask] = -((-var[~mask] + 1)**2 - 1) / 2 \r\n",
        "\r\n",
        "  # Special case lambda=2\r\n",
        "    elif power == 2:\r\n",
        "        mask = (var >= 0)\r\n",
        "        var_mod[mask] = ((var[mask] + 1)**2 - 1) / 2\r\n",
        "        var_mod[~mask] = -np.log(-var[~mask] + 1)\r\n",
        "\r\n",
        "    else:\r\n",
        "        mask = (var >= 0)\r\n",
        "        var_mod[mask] = ((var[mask] + 1)**power - 1) / power\r\n",
        "        var_mod[~mask] = -((-var[~mask] + 1)**(2 - power) - 1) / (2 - power)\r\n",
        "\r\n",
        "    return pd.Series(var_mod)"
      ],
      "execution_count": null,
      "outputs": []
    },
    {
      "cell_type": "markdown",
      "metadata": {
        "id": "3ppSK3IsOcLJ"
      },
      "source": [
        "Now let's check the histogram of the regular feature of interest and its modified versions. Pay attention to the scale. What happens as the power of the BC and YJ transformation increases? What happens to the shape of the histogram?"
      ]
    },
    {
      "cell_type": "code",
      "metadata": {
        "colab": {
          "base_uri": "https://localhost:8080/",
          "height": 282
        },
        "id": "y8eJNdcKqExg",
        "outputId": "528a428b-ce24-49df-cbb4-aa48af5b3d7d"
      },
      "source": [
        "# original feature (same as set before)\r\n",
        "\r\n",
        "feature.hist(bins=20, grid=False)"
      ],
      "execution_count": null,
      "outputs": [
        {
          "output_type": "execute_result",
          "data": {
            "text/plain": [
              "<matplotlib.axes._subplots.AxesSubplot at 0x7ff88d9c6cf8>"
            ]
          },
          "metadata": {
            "tags": []
          },
          "execution_count": 23
        },
        {
          "output_type": "display_data",
          "data": {
            "image/png": "[encoded data removed]",
            "text/plain": [
              "<Figure size 432x288 with 1 Axes>"
            ]
          },
          "metadata": {
            "tags": [],
            "needs_background": "light"
          }
        }
      ]
    },
    {
      "cell_type": "code",
      "metadata": {
        "id": "3iU2gT6LK3n2"
      },
      "source": [
        "# Adjust coefficient of Box Cox transformation on the feature to show plot below\r\n",
        "\r\n",
        "bc1 = box_cox_transform(feature+1, power=0)  # Adding 1 as all features start at 0, not allowed in BC\r\n",
        "bc2 = box_cox_transform(feature+1, power=.5)\r\n",
        "bc3 = box_cox_transform(feature+1, power=1)"
      ],
      "execution_count": null,
      "outputs": []
    },
    {
      "cell_type": "code",
      "metadata": {
        "colab": {
          "base_uri": "https://localhost:8080/",
          "height": 729
        },
        "id": "_qVI-FeWBWVD",
        "outputId": "cce12234-aa06-4662-d721-aa91641f7e87"
      },
      "source": [
        "# Plot a histogram per coefficient of BC transformation\r\n",
        "\r\n",
        "fig, (ax1, ax2, ax3) = plt.subplots(nrows=3, ncols=1)\r\n",
        "fig.set_figheight(10)\r\n",
        "fig.set_figwidth(10)\r\n",
        "\r\n",
        "ax1.hist(bc1, bins=20)\r\n",
        "ax2.hist(bc2, bins=20)\r\n",
        "ax3.hist(bc3, bins=20)\r\n",
        "\r\n",
        "ax1.set_title('Histogram Box Cox Lambda = 0')\r\n",
        "ax1.set_ylabel('Frequency')\r\n",
        "ax1.set_xlabel('Values')\r\n",
        "\r\n",
        "\r\n",
        "ax2.set_title('Histogram Box Cox Lambda = 0.5')\r\n",
        "ax2.set_ylabel('Frequency')\r\n",
        "ax2.set_xlabel('Values')\r\n",
        "\r\n",
        "\r\n",
        "ax3.set_title('Histogram Box Cox Lambda = 1')\r\n",
        "ax3.set_xlabel('Values')\r\n",
        "ax3.set_ylabel('Frequency')\r\n",
        "\r\n",
        "plt.tight_layout()\r\n",
        "plt.show()"
      ],
      "execution_count": null,
      "outputs": [
        {
          "output_type": "display_data",
          "data": {
            "image/png": "[encoded data removed]",
            "text/plain": [
              "<Figure size 720x720 with 3 Axes>"
            ]
          },
          "metadata": {
            "tags": [],
            "needs_background": "light"
          }
        }
      ]
    },
    {
      "cell_type": "markdown",
      "metadata": {
        "id": "SVqY3gkGMxyL"
      },
      "source": [
        "Did you notice that the peak of the data moves? We are looking for a sweet spot where the peak is somewhere directly between the two tails so the distribution is almost perfectly bell-shaped. Note that the scale also changes pretty dramatically too. Make sure that you scale this variable after if necessary to make sure it fits your model requirements!\r\n",
        "\r\n",
        "Now let's check Yeo-Johnson."
      ]
    },
    {
      "cell_type": "code",
      "metadata": {
        "id": "bscxmtknqQVE"
      },
      "source": [
        "# Adjust coefficient of YJ transformation on the feature to show plot below\r\n",
        "\r\n",
        "yj1 = yeo_johnson_transform(feature, power=0)\r\n",
        "yj2 = yeo_johnson_transform(feature, power=.5)\r\n",
        "yj3 = yeo_johnson_transform(feature, power=1)"
      ],
      "execution_count": null,
      "outputs": []
    },
    {
      "cell_type": "code",
      "metadata": {
        "colab": {
          "base_uri": "https://localhost:8080/",
          "height": 729
        },
        "id": "udDSAbNdFO-K",
        "outputId": "9ef3887b-31a0-403e-9d87-342a427f4940"
      },
      "source": [
        "# Plot a histogram per coefficient of YJ transformation\r\n",
        "\r\n",
        "fig, (ax1, ax2, ax3) = plt.subplots(nrows=3, ncols=1)\r\n",
        "fig.set_figheight(10)\r\n",
        "fig.set_figwidth(10)\r\n",
        "\r\n",
        "ax1.hist(yj1, bins=20)\r\n",
        "ax2.hist(yj2, bins=20)\r\n",
        "ax3.hist(yj3, bins=20)\r\n",
        "\r\n",
        "ax1.set_title('Histogram Yeo-Johnson Lambda = 0')\r\n",
        "ax1.set_ylabel('Frequency')\r\n",
        "ax1.set_xlabel('Values')\r\n",
        "\r\n",
        "\r\n",
        "ax2.set_title('Histogram Yeo-Johnson Lambda = 0.5')\r\n",
        "ax2.set_ylabel('Frequency')\r\n",
        "ax2.set_xlabel('Values')\r\n",
        "\r\n",
        "\r\n",
        "ax3.set_title('Histogram Yeo-Johnson Lambda = 1')\r\n",
        "ax3.set_xlabel('Values')\r\n",
        "ax3.set_ylabel('Frequency')\r\n",
        "\r\n",
        "plt.tight_layout()\r\n",
        "plt.show()"
      ],
      "execution_count": null,
      "outputs": [
        {
          "output_type": "display_data",
          "data": {
            "image/png": "[encoded data removed]",
            "text/plain": [
              "<Figure size 720x720 with 3 Axes>"
            ]
          },
          "metadata": {
            "tags": [],
            "needs_background": "light"
          }
        }
      ]
    },
    {
      "cell_type": "markdown",
      "metadata": {
        "id": "4ZW1pHcquAlK"
      },
      "source": [
        "We see that it does the same type of thing. The peak of the data is shifted and again, we are trying to find the coefficient which will give us the most bell-curve-like shape.\r\n",
        "\r\n",
        "There are a few ways we can find the optimal coefficient. This is a task in the exercises to do manually. However, `scipy` actually has a built in function to do this."
      ]
    },
    {
      "cell_type": "markdown",
      "metadata": {
        "id": "COvAW6bSuT8t"
      },
      "source": [
        "### Using `scipy` functions\r\n",
        "Let's now use a pre-made function and see where it finds the true maximum point of normality. We can again use the `scipy` library which we have nicknamed `stats` to fit the feature and find the optimal lambda. Let's first start with Box Cox."
      ]
    },
    {
      "cell_type": "code",
      "metadata": {
        "id": "xPRZf_G4VYK3",
        "colab": {
          "base_uri": "https://localhost:8080/"
        },
        "outputId": "532069dd-0ccb-4628-8919-e11f9f4a5ce8"
      },
      "source": [
        "bc_fitted_feature, bc_fitted_lambda = stats.boxcox(feature+1) # Again, we are adding 1 because all features have 0s (not allowed in BC)\r\n",
        "\r\n",
        "bc_fitted_lambda"
      ],
      "execution_count": null,
      "outputs": [
        {
          "output_type": "execute_result",
          "data": {
            "text/plain": [
              "0.19107151032822628"
            ]
          },
          "metadata": {
            "tags": []
          },
          "execution_count": 28
        }
      ]
    },
    {
      "cell_type": "code",
      "metadata": {
        "colab": {
          "base_uri": "https://localhost:8080/",
          "height": 281
        },
        "id": "1oFq1w6MIOkd",
        "outputId": "bdd01ecb-ae67-455d-9b2d-ca8e1b2b1a9e"
      },
      "source": [
        "plt.hist(bc_fitted_feature, bins=20)\r\n",
        "plt.title('SciPy Optimal Box Cox of Feature of Interest')\r\n",
        "plt.show()"
      ],
      "execution_count": null,
      "outputs": [
        {
          "output_type": "display_data",
          "data": {
            "image/png": "[encoded data removed]",
            "text/plain": [
              "<Figure size 432x288 with 1 Axes>"
            ]
          },
          "metadata": {
            "tags": [],
            "needs_background": "light"
          }
        }
      ]
    },
    {
      "cell_type": "markdown",
      "metadata": {
        "id": "dpqduGkrvbh9"
      },
      "source": [
        "Now, let's do the same thing but with Yeo-Johson. We can note that the optimal lambda is the same along with the output. Due to its simplicity, it is better to use Box Cox unless you have data which does not have strictly positive values."
      ]
    },
    {
      "cell_type": "code",
      "metadata": {
        "id": "6zvxxkHmWRun",
        "colab": {
          "base_uri": "https://localhost:8080/"
        },
        "outputId": "656c6f7b-af71-4c5e-f688-04637c6e4510"
      },
      "source": [
        "yj_fitted_feature, yj_fitted_lambda = stats.yeojohnson(feature)\r\n",
        "\r\n",
        "yj_fitted_lambda"
      ],
      "execution_count": null,
      "outputs": [
        {
          "output_type": "execute_result",
          "data": {
            "text/plain": [
              "0.1910714444440362"
            ]
          },
          "metadata": {
            "tags": []
          },
          "execution_count": 30
        }
      ]
    },
    {
      "cell_type": "code",
      "metadata": {
        "colab": {
          "base_uri": "https://localhost:8080/",
          "height": 281
        },
        "id": "oyt8vy3cIRrY",
        "outputId": "233b2817-9b6c-45cd-efc3-8dc1a635dc7e"
      },
      "source": [
        "plt.hist(yj_fitted_feature, bins=20)\r\n",
        "plt.title('SciPy Optimal Yeo-Johnson of Feature of Interest')\r\n",
        "plt.show()"
      ],
      "execution_count": null,
      "outputs": [
        {
          "output_type": "display_data",
          "data": {
            "image/png": "[encoded data removed]",
            "text/plain": [
              "<Figure size 432x288 with 1 Axes>"
            ]
          },
          "metadata": {
            "tags": [],
            "needs_background": "light"
          }
        }
      ]
    },
    {
      "cell_type": "markdown",
      "metadata": {
        "id": "sPKxrQ6tv360"
      },
      "source": [
        "Lastly, let's do the normal test one last time with the optimal lambda found by `scipy`. We can see that the test statistic does not exceed the desired 0.05 but is much better than what we were dealing with previously."
      ]
    },
    {
      "cell_type": "code",
      "metadata": {
        "colab": {
          "base_uri": "https://localhost:8080/"
        },
        "id": "sapIAnqyu65C",
        "outputId": "4c2e24c2-121d-4db8-ffaf-626ab0f34dcc"
      },
      "source": [
        "stats.normaltest(yj_fitted_feature)"
      ],
      "execution_count": null,
      "outputs": [
        {
          "output_type": "execute_result",
          "data": {
            "text/plain": [
              "NormaltestResult(statistic=10.847274655668734, pvalue=0.004411072914542767)"
            ]
          },
          "metadata": {
            "tags": []
          },
          "execution_count": 32
        }
      ]
    },
    {
      "cell_type": "code",
      "metadata": {
        "colab": {
          "base_uri": "https://localhost:8080/",
          "height": 279
        },
        "id": "VQzph3Z201nV",
        "outputId": "7da13509-76ac-4b1c-f9ff-9ccb783a52c8"
      },
      "source": [
        "qqplot(yj_fitted_feature, line='s')\r\n",
        "plt.show()"
      ],
      "execution_count": null,
      "outputs": [
        {
          "output_type": "display_data",
          "data": {
            "image/png": "[encoded data removed]",
            "text/plain": [
              "<Figure size 432x288 with 1 Axes>"
            ]
          },
          "metadata": {
            "tags": [],
            "needs_background": "light"
          }
        }
      ]
    },
    {
      "cell_type": "markdown",
      "metadata": {
        "id": "hLNaQmNRHBL-"
      },
      "source": [
        "## Apply transformations on train and test data separately\r\n",
        "So, before we continue let's quickly just apply a simple transform to all of our variables. We will just standardize them for now. Remember that you should be doing any transformations separately to your train data and test data. You want to try to keep your test data as pure as possible. If you make transformations before, you risk not having a truly representative sample of new unseen data to test your model on."
      ]
    },
    {
      "cell_type": "code",
      "metadata": {
        "colab": {
          "base_uri": "https://localhost:8080/",
          "height": 306
        },
        "id": "aUCLYVyjfaJE",
        "outputId": "47cb7aab-fc58-43d7-8532-0068c5b95f12"
      },
      "source": [
        "numeric_vars = [\"LOAN\", \"MORTDUE\", \"VALUE\", \"YOJ\", \"DEROG\", \"DELINQ\", \"CLAGE\", \"NINQ\", \"CLNO\", \"DEBTINC\"]\r\n",
        "X_train.loc[:, numeric_vars] = X_train.select_dtypes(include='float64').apply(standardize)\r\n",
        "X_test.loc[:, numeric_vars] = X_test.select_dtypes(include='float64').apply(standardize)\r\n",
        "X_train.head()"
      ],
      "execution_count": null,
      "outputs": [
        {
          "output_type": "stream",
          "text": [
            "/usr/local/lib/python3.6/dist-packages/pandas/core/indexing.py:1715: SettingWithCopyWarning: \n",
            "A value is trying to be set on a copy of a slice from a DataFrame.\n",
            "Try using .loc[row_indexer,col_indexer] = value instead\n",
            "\n",
            "See the caveats in the documentation: https://pandas.pydata.org/pandas-docs/stable/user_guide/indexing.html#returning-a-view-versus-a-copy\n",
            "  isetter(loc, v)\n"
          ],
          "name": "stderr"
        },
        {
          "output_type": "execute_result",
          "data": {
            "text/html": [
              "<div>\n",
              "<style scoped>\n",
              "    .dataframe tbody tr th:only-of-type {\n",
              "        vertical-align: middle;\n",
              "    }\n",
              "\n",
              "    .dataframe tbody tr th {\n",
              "        vertical-align: top;\n",
              "    }\n",
              "\n",
              "    .dataframe thead th {\n",
              "        text-align: right;\n",
              "    }\n",
              "</style>\n",
              "<table border=\"1\" class=\"dataframe\">\n",
              "  <thead>\n",
              "    <tr style=\"text-align: right;\">\n",
              "      <th></th>\n",
              "      <th>LOAN</th>\n",
              "      <th>MORTDUE</th>\n",
              "      <th>VALUE</th>\n",
              "      <th>REASON</th>\n",
              "      <th>JOB</th>\n",
              "      <th>YOJ</th>\n",
              "      <th>DEROG</th>\n",
              "      <th>DELINQ</th>\n",
              "      <th>CLAGE</th>\n",
              "      <th>NINQ</th>\n",
              "      <th>CLNO</th>\n",
              "      <th>DEBTINC</th>\n",
              "      <th>DEROGzero</th>\n",
              "    </tr>\n",
              "  </thead>\n",
              "  <tbody>\n",
              "    <tr>\n",
              "      <th>4476</th>\n",
              "      <td>0.459068</td>\n",
              "      <td>0.437823</td>\n",
              "      <td>0.695785</td>\n",
              "      <td>DebtCon</td>\n",
              "      <td>ProfExe</td>\n",
              "      <td>-0.249200</td>\n",
              "      <td>-0.277583</td>\n",
              "      <td>-0.377925</td>\n",
              "      <td>0.379390</td>\n",
              "      <td>-0.747360</td>\n",
              "      <td>-0.025075</td>\n",
              "      <td>-0.630910</td>\n",
              "      <td>True</td>\n",
              "    </tr>\n",
              "    <tr>\n",
              "      <th>1435</th>\n",
              "      <td>-0.721134</td>\n",
              "      <td>-0.341569</td>\n",
              "      <td>-0.485610</td>\n",
              "      <td>DebtCon</td>\n",
              "      <td>Other</td>\n",
              "      <td>-0.937672</td>\n",
              "      <td>-0.277583</td>\n",
              "      <td>-0.377925</td>\n",
              "      <td>0.648163</td>\n",
              "      <td>-0.747360</td>\n",
              "      <td>-1.144335</td>\n",
              "      <td>0.315082</td>\n",
              "      <td>True</td>\n",
              "    </tr>\n",
              "    <tr>\n",
              "      <th>1620</th>\n",
              "      <td>-0.644992</td>\n",
              "      <td>-0.643964</td>\n",
              "      <td>-0.309400</td>\n",
              "      <td>HomeImp</td>\n",
              "      <td>Other</td>\n",
              "      <td>1.265439</td>\n",
              "      <td>-0.277583</td>\n",
              "      <td>-0.377925</td>\n",
              "      <td>0.159564</td>\n",
              "      <td>-0.747360</td>\n",
              "      <td>-0.533830</td>\n",
              "      <td>0.169554</td>\n",
              "      <td>True</td>\n",
              "    </tr>\n",
              "    <tr>\n",
              "      <th>2109</th>\n",
              "      <td>-0.492708</td>\n",
              "      <td>0.237955</td>\n",
              "      <td>0.155740</td>\n",
              "      <td>DebtCon</td>\n",
              "      <td>Other</td>\n",
              "      <td>-0.524589</td>\n",
              "      <td>-0.277583</td>\n",
              "      <td>-0.377925</td>\n",
              "      <td>-1.215933</td>\n",
              "      <td>-0.097221</td>\n",
              "      <td>-0.839083</td>\n",
              "      <td>-0.011477</td>\n",
              "      <td>True</td>\n",
              "    </tr>\n",
              "    <tr>\n",
              "      <th>1453</th>\n",
              "      <td>-0.711617</td>\n",
              "      <td>-0.398067</td>\n",
              "      <td>-0.605559</td>\n",
              "      <td>DebtCon</td>\n",
              "      <td>Other</td>\n",
              "      <td>-0.799978</td>\n",
              "      <td>-0.277583</td>\n",
              "      <td>0.549002</td>\n",
              "      <td>1.737974</td>\n",
              "      <td>-0.747360</td>\n",
              "      <td>-1.144335</td>\n",
              "      <td>-0.052897</td>\n",
              "      <td>True</td>\n",
              "    </tr>\n",
              "  </tbody>\n",
              "</table>\n",
              "</div>"
            ],
            "text/plain": [
              "          LOAN   MORTDUE     VALUE  ...      CLNO   DEBTINC  DEROGzero\n",
              "4476  0.459068  0.437823  0.695785  ... -0.025075 -0.630910       True\n",
              "1435 -0.721134 -0.341569 -0.485610  ... -1.144335  0.315082       True\n",
              "1620 -0.644992 -0.643964 -0.309400  ... -0.533830  0.169554       True\n",
              "2109 -0.492708  0.237955  0.155740  ... -0.839083 -0.011477       True\n",
              "1453 -0.711617 -0.398067 -0.605559  ... -1.144335 -0.052897       True\n",
              "\n",
              "[5 rows x 13 columns]"
            ]
          },
          "metadata": {
            "tags": []
          },
          "execution_count": 34
        }
      ]
    },
    {
      "cell_type": "markdown",
      "metadata": {
        "id": "0p_2fkdGdTwU"
      },
      "source": [
        "## Encoding nominal features using weight-of-evidence coding\n",
        "\n",
        "Weight of evidence encoding or WoE can be used to check if a variable has predictive power and can replace categories with that predictive power. Let's say we are computing a binary classification problem and we want to use this method to encode a categorical variable. We would first take the percent chance of y=0 (Good) and y=1 (Bad) for each category. Bad and good are often used because WoE comes from the credit scoring industry. We will then divide these two percents and take their natural logarithm. This is the WoE for that particular category, represented mathematically below:\n",
        "\n",
        "$$ WOE_{cat} = ln\\bigg(\\frac{\\text{% Good}}{\\text{% Bad}}\\bigg) $$\n",
        "\n",
        "\n",
        "As you can see from this equation, this is a simple way to represent which categories contain the most cases of y=0 or y=1. This is then assumed to be the predictive power of the variable.\n",
        "\n",
        "Note that you could do this will a continuous variable as well, you would just have to \"bin\" the variable. For example, if you had income as a continuous variable, you can determine cut-offs for \"low earners\", \"medium earners\" and \"high earners\" or whatever split makes most sense for your case. You could also use an algorithm find the best split for you (we introduce one below).\n",
        "\n",
        "When you do your regression, you will now replace each bin or category with its respective WoE and perform the regression. The benefits of this include the ability to combine bins with similar WoE values and create more monotonic relationships which are easy to model. The drawbacks are possible loss of information and lack of ability to findd correlation between variables.\n",
        "\n",
        "### Information Value\n",
        "After calculating WoE, we can then calculate information value (IV) for a feature. This value will help us understand if the variable is useful in our prediction at all. It is calculated by finding the difference in the chance y=1 and y=0 multiplied by the WoE for each category, then summing all of these values for categories together.\n",
        " \n",
        "$$ IV = \\sum_{cat} \\bigg( \\big( p(\\text{BAD})_{cat} - p(\\text{GOOD})_{cat} \\big) * \\text{WOE}_{cat} \\bigg) $$\n",
        "\n",
        "### Adjusted Weight of Evidence\n",
        "There is also an alternative way to calculate WoE and handle missing WoE, this is called Adjusted Weight of Evidence:\n",
        "\n",
        "$$ ln \\bigg(\\frac{\\text{number of non-events}+0.5}{\\text{number of events}} \\div \\frac{\\text{number of events} + 0.5}{\\text{number of events}} \\bigg) $$\n"
      ]
    },
    {
      "cell_type": "markdown",
      "metadata": {
        "id": "R2mNcGmudTwV"
      },
      "source": [
        "### WOE from scratch\r\n",
        "\r\n",
        "Of course, there are pre-made functions that we can use to calculate WoE. However, as usual we will try to create this by scratch initially so you can see the inner mechanics of WoE. Let's first examine the counts of each of the possible categories of `JOB`.\r\n",
        "\r\n"
      ]
    },
    {
      "cell_type": "code",
      "metadata": {
        "colab": {
          "base_uri": "https://localhost:8080/",
          "height": 310
        },
        "id": "1Q7OtE-EXaaz",
        "outputId": "8ad4d428-70e3-409d-9ce7-780fb07b40a4"
      },
      "source": [
        "df['JOB'].value_counts().plot(kind='bar')"
      ],
      "execution_count": null,
      "outputs": [
        {
          "output_type": "execute_result",
          "data": {
            "text/plain": [
              "<matplotlib.axes._subplots.AxesSubplot at 0x7ff88af25898>"
            ]
          },
          "metadata": {
            "tags": []
          },
          "execution_count": 35
        },
        {
          "output_type": "display_data",
          "data": {
            "image/png": "[encoded data removed]",
            "text/plain": [
              "<Figure size 432x288 with 1 Axes>"
            ]
          },
          "metadata": {
            "tags": [],
            "needs_background": "light"
          }
        }
      ]
    },
    {
      "cell_type": "markdown",
      "metadata": {
        "id": "TunOZjehF9oK"
      },
      "source": [
        "#### Object Creation\r\n",
        "Instead of creating multiple functions and putting them together as we have done in the past, we are instead going to do something that is much more common in Python. We will create a new class and new methods/attributes. Note that each class starts with `class` then a name. You will then have to use `__init__` by convention to describe the initial arguments for the class. Note that `self` is always the first argument of everything in a class. This means that the originally set arguments will always be referenced after the object's initial creation. We recommend trying to create an object on your own to gain a much better understanding of how classes, methods and attributes work."
      ]
    },
    {
      "cell_type": "code",
      "metadata": {
        "id": "nG5dmS1TcAh4"
      },
      "source": [
        "class IV_Calc:\r\n",
        "    def __init__(self, df, feature, target):\r\n",
        "        self.feature = feature\r\n",
        "        self.target = target\r\n",
        "        self.data_head = df.head()\r\n",
        "\r\n",
        "    def count_values(self):\r\n",
        "        data = pd.DataFrame()\r\n",
        "        data['Count'] = df[self.feature].value_counts()               # Count instances of each category, create row for each\r\n",
        "        data['Bad'] = df.groupby([self.feature])[self.target].sum()   # Count y=1 instances of that category\r\n",
        "        data['Good'] = data['Count'] - data['Bad']                    # Count y=0 instances of that category\r\n",
        "        data = data.sort_values(by=[\"Count\"], ascending=False)\r\n",
        "    \r\n",
        "        try:\r\n",
        "            assert data[\"Bad\"].sum() != 0                               # Check that there are y=1 instances in sample\r\n",
        "            assert data[\"Good\"].sum() != 0                              # Check that there are y=0 instances in sample\r\n",
        "            assert np.isin(df[self.target].unique(), [0, 1]).all()      # Check that target includes only 0,1 or True,False\r\n",
        "        except:\r\n",
        "          print(\"Error: Target must include 2 binary classes.\")\r\n",
        "          raise                                                       # Stop running if one of the above conditions is not satisfied\r\n",
        "    \r\n",
        "        return data\r\n",
        "\r\n",
        "    def distribution(self):\r\n",
        "        data = self.count_values()\r\n",
        "        data['Ratio Bad'] = data['Bad'] / data['Count']\r\n",
        "        data['Ratio Good'] = data['Good'] / data['Count']\r\n",
        "        data[\"Distribution Bad\"] = data[\"Bad\"] / data[\"Bad\"].sum()    # Of all y=0 instances, what percentage are from each category?\r\n",
        "        data[\"Distribution Good\"] = data[\"Good\"] / data[\"Good\"].sum() # Of all y=1 instances, what percentage are from each category?\r\n",
        "        data = data.sort_values(by=[\"Count\"], ascending=False)\r\n",
        "        return data.iloc[:,-2:]\r\n",
        "  \r\n",
        "    def woe(self):\r\n",
        "        data = self.distribution()\r\n",
        "        data['WOE'] = np.log(data[\"Distribution Good\"] / data[\"Distribution Bad\"])\r\n",
        "        data.replace({\"WOE\": {np.inf: 0, -np.inf: 0}})  # If no instances are bad, this will replace values of infinity with 0\r\n",
        "        data = data.sort_values(by=[\"WOE\"], ascending=False)\r\n",
        "        return data.iloc[:,-1]\r\n",
        "  \r\n",
        "    def woe_adj(self):\r\n",
        "        data = self.count_values()\r\n",
        "        data[\"WOE_adj\"] = np.log( \r\n",
        "            ((data[\"Count\"] - data[\"Bad\"] + 0.5) / (data[\"Count\"].sum() - data[\"Bad\"].sum())) / \r\n",
        "            ((data[\"Bad\"] + 0.5) / data[\"Bad\"].sum())\r\n",
        "            )\r\n",
        "        data.replace({\"WOE_adj\": {np.inf: 0, -np.inf: 0}})\r\n",
        "        data = data.sort_values(by=[\"Count\"], ascending=False)\r\n",
        "        return data.iloc[:,-1]\r\n",
        "  \r\n",
        "    def IV_per_cat(self):\r\n",
        "        data = self.distribution()\r\n",
        "        data['WOE'] = self.woe()\r\n",
        "        data[\"IV\"] = data[\"WOE\"]*(data[\"Distribution Good\"] - data[\"Distribution Bad\"])\r\n",
        "        data = data.sort_values(by=[\"IV\"], ascending=False)\r\n",
        "        return data.iloc[:,-1]\r\n",
        "  \r\n",
        "    def full_summary(self):\r\n",
        "        data = self.count_values()\r\n",
        "        data['Ratio Bad'] = data['Bad'] / data['Count']\r\n",
        "        data['Ratio Good'] = data['Good'] / data['Count']\r\n",
        "        data[\"Distribution Bad\"] = data[\"Bad\"] / data[\"Bad\"].sum()\r\n",
        "        data[\"Distribution Good\"] = data[\"Good\"] / data[\"Good\"].sum()\r\n",
        "        data['WOE'] = self.woe()\r\n",
        "        data[\"WOE_adj\"] = self.woe_adj()\r\n",
        "        data[\"IV\"] = self.IV_per_cat()\r\n",
        "        data = data.sort_values(by=[\"Count\"], ascending=False)\r\n",
        "        return data\r\n",
        "\r\n",
        "    def final_assessment(self):\r\n",
        "        data = self.full_summary()\r\n",
        "        iv = data[\"IV\"].sum() # final IV value\r\n",
        "        if iv < .02:\r\n",
        "            print(\"The variable \" + self.feature + \" is not predictive with an IV of: {}\".format(iv))\r\n",
        "        elif iv < .1:\r\n",
        "            print(\"The variable \" + self.feature + \" is weakly predictive with an IV of:{}\".format(iv))\r\n",
        "        elif iv < .3:\r\n",
        "            print(\"The variable \" + self.feature + \" is moderately predictive with an IV of:{}\".format(iv))\r\n",
        "        else :\r\n",
        "            print(\"The variable \" + self.feature + \" is highly predictive with an IV of: {}\".format(iv))\r\n",
        "        return iv"
      ],
      "execution_count": null,
      "outputs": []
    },
    {
      "cell_type": "code",
      "metadata": {
        "colab": {
          "base_uri": "https://localhost:8080/",
          "height": 235
        },
        "id": "D2CH23FOpVCw",
        "outputId": "e505f300-b616-4196-a26d-e5f9268b6b71"
      },
      "source": [
        "train_df = pd.concat([X_train, y_train], axis=1)\r\n",
        "\r\n",
        "woe_job = IV_Calc(train_df, feature=\"JOB\", target=\"BAD\")\r\n",
        "\r\n",
        "woe_job.full_summary()"
      ],
      "execution_count": null,
      "outputs": [
        {
          "output_type": "execute_result",
          "data": {
            "text/html": [
              "<div>\n",
              "<style scoped>\n",
              "    .dataframe tbody tr th:only-of-type {\n",
              "        vertical-align: middle;\n",
              "    }\n",
              "\n",
              "    .dataframe tbody tr th {\n",
              "        vertical-align: top;\n",
              "    }\n",
              "\n",
              "    .dataframe thead th {\n",
              "        text-align: right;\n",
              "    }\n",
              "</style>\n",
              "<table border=\"1\" class=\"dataframe\">\n",
              "  <thead>\n",
              "    <tr style=\"text-align: right;\">\n",
              "      <th></th>\n",
              "      <th>Count</th>\n",
              "      <th>Bad</th>\n",
              "      <th>Good</th>\n",
              "      <th>Ratio Bad</th>\n",
              "      <th>Ratio Good</th>\n",
              "      <th>Distribution Bad</th>\n",
              "      <th>Distribution Good</th>\n",
              "      <th>WOE</th>\n",
              "      <th>WOE_adj</th>\n",
              "      <th>IV</th>\n",
              "    </tr>\n",
              "  </thead>\n",
              "  <tbody>\n",
              "    <tr>\n",
              "      <th>Other</th>\n",
              "      <td>2667</td>\n",
              "      <td>577</td>\n",
              "      <td>2090</td>\n",
              "      <td>0.216348</td>\n",
              "      <td>0.783652</td>\n",
              "      <td>0.485282</td>\n",
              "      <td>0.438063</td>\n",
              "      <td>-0.102366</td>\n",
              "      <td>-0.102993</td>\n",
              "      <td>0.004834</td>\n",
              "    </tr>\n",
              "    <tr>\n",
              "      <th>ProfExe</th>\n",
              "      <td>1276</td>\n",
              "      <td>212</td>\n",
              "      <td>1064</td>\n",
              "      <td>0.166144</td>\n",
              "      <td>0.833856</td>\n",
              "      <td>0.178301</td>\n",
              "      <td>0.223014</td>\n",
              "      <td>0.223761</td>\n",
              "      <td>0.221875</td>\n",
              "      <td>0.010005</td>\n",
              "    </tr>\n",
              "    <tr>\n",
              "      <th>Office</th>\n",
              "      <td>948</td>\n",
              "      <td>125</td>\n",
              "      <td>823</td>\n",
              "      <td>0.131857</td>\n",
              "      <td>0.868143</td>\n",
              "      <td>0.105130</td>\n",
              "      <td>0.172501</td>\n",
              "      <td>0.495199</td>\n",
              "      <td>0.491814</td>\n",
              "      <td>0.033362</td>\n",
              "    </tr>\n",
              "    <tr>\n",
              "      <th>Mgr</th>\n",
              "      <td>767</td>\n",
              "      <td>179</td>\n",
              "      <td>588</td>\n",
              "      <td>0.233377</td>\n",
              "      <td>0.766623</td>\n",
              "      <td>0.150547</td>\n",
              "      <td>0.123245</td>\n",
              "      <td>-0.200102</td>\n",
              "      <td>-0.202042</td>\n",
              "      <td>0.005463</td>\n",
              "    </tr>\n",
              "    <tr>\n",
              "      <th>Self</th>\n",
              "      <td>193</td>\n",
              "      <td>58</td>\n",
              "      <td>135</td>\n",
              "      <td>0.300518</td>\n",
              "      <td>0.699482</td>\n",
              "      <td>0.048780</td>\n",
              "      <td>0.028296</td>\n",
              "      <td>-0.544612</td>\n",
              "      <td>-0.549498</td>\n",
              "      <td>0.011156</td>\n",
              "    </tr>\n",
              "    <tr>\n",
              "      <th>Sales</th>\n",
              "      <td>109</td>\n",
              "      <td>38</td>\n",
              "      <td>71</td>\n",
              "      <td>0.348624</td>\n",
              "      <td>0.651376</td>\n",
              "      <td>0.031960</td>\n",
              "      <td>0.014882</td>\n",
              "      <td>-0.764350</td>\n",
              "      <td>-0.770404</td>\n",
              "      <td>0.013054</td>\n",
              "    </tr>\n",
              "  </tbody>\n",
              "</table>\n",
              "</div>"
            ],
            "text/plain": [
              "         Count  Bad  Good  ...       WOE   WOE_adj        IV\n",
              "Other     2667  577  2090  ... -0.102366 -0.102993  0.004834\n",
              "ProfExe   1276  212  1064  ...  0.223761  0.221875  0.010005\n",
              "Office     948  125   823  ...  0.495199  0.491814  0.033362\n",
              "Mgr        767  179   588  ... -0.200102 -0.202042  0.005463\n",
              "Self       193   58   135  ... -0.544612 -0.549498  0.011156\n",
              "Sales      109   38    71  ... -0.764350 -0.770404  0.013054\n",
              "\n",
              "[6 rows x 10 columns]"
            ]
          },
          "metadata": {
            "tags": []
          },
          "execution_count": 37
        }
      ]
    },
    {
      "cell_type": "code",
      "metadata": {
        "colab": {
          "base_uri": "https://localhost:8080/"
        },
        "id": "-P1FIfJqJhy3",
        "outputId": "0de03f8d-4490-4192-aad8-ab200d2a04dd"
      },
      "source": [
        "woe_job.final_assessment()"
      ],
      "execution_count": null,
      "outputs": [
        {
          "output_type": "stream",
          "text": [
            "The variable JOB is weakly predictive with an IV of:0.07787316133784931\n"
          ],
          "name": "stdout"
        },
        {
          "output_type": "execute_result",
          "data": {
            "text/plain": [
              "0.07787316133784931"
            ]
          },
          "metadata": {
            "tags": []
          },
          "execution_count": 38
        }
      ]
    },
    {
      "cell_type": "markdown",
      "metadata": {
        "id": "7M6M4UzfdTwa"
      },
      "source": [
        "We can now plot the WoE for each category and see how they compare. Keep in mind that this variable is only weakly predictive for our scenario. We can check the WoE for each of the categories as well. At this point we should decide whether it is actually worth it to continue using it in our analysis. If we do, we can replace these categories with their respective WoE values."
      ]
    },
    {
      "cell_type": "code",
      "metadata": {
        "id": "BRBEabG8dTwd",
        "colab": {
          "base_uri": "https://localhost:8080/",
          "height": 340
        },
        "outputId": "5243acc5-fb7f-4a27-a345-ab8fd6d5d26a"
      },
      "source": [
        "woe_job.woe().plot(kind=\"bar\", title=\"WoE of Categories of JOB\", ylabel=\"WoE\", xlabel=\"Categories\")"
      ],
      "execution_count": null,
      "outputs": [
        {
          "output_type": "execute_result",
          "data": {
            "text/plain": [
              "<matplotlib.axes._subplots.AxesSubplot at 0x7ff88af2a160>"
            ]
          },
          "metadata": {
            "tags": []
          },
          "execution_count": 39
        },
        {
          "output_type": "display_data",
          "data": {
            "image/png": "[encoded data removed]",
            "text/plain": [
              "<Figure size 432x288 with 1 Axes>"
            ]
          },
          "metadata": {
            "tags": [],
            "needs_background": "light"
          }
        }
      ]
    },
    {
      "cell_type": "markdown",
      "metadata": {
        "id": "OeQc6bVhdTwd"
      },
      "source": [
        "### WoE using `scorecardpy`\r\n",
        "\r\n",
        "If you would like a quick implementation of the above, you can check out the package scorecardpy. You can view the documentation [here](https://pypi.org/project/scorecardpy/). If you enter a continuous variable as an argument, the function will automatically try to create bins that maximize the variable's usefulness as a WoE variable."
      ]
    },
    {
      "cell_type": "code",
      "metadata": {
        "colab": {
          "base_uri": "https://localhost:8080/"
        },
        "id": "zn1g6G-oHOJ4",
        "outputId": "7fcdde04-0300-43f3-8851-2da524ef6226"
      },
      "source": [
        "!pip install scorecardpy\r\n",
        "import scorecardpy as sc"
      ],
      "execution_count": null,
      "outputs": [
        {
          "output_type": "stream",
          "text": [
            "Collecting scorecardpy\n",
            "\u001b[?25l  Downloading https://files.pythonhosted.org/packages/3e/18/8e3f675b9baaf027e84cb84f9bc3bb57381ab3d0b5241e089653d5d92784/scorecardpy-0.1.9.2.tar.gz (55kB)\n",
            "\r\u001b[K     |██████                          | 10kB 17.4MB/s eta 0:00:01\r\u001b[K     |███████████▉                    | 20kB 19.2MB/s eta 0:00:01\r\u001b[K     |█████████████████▊              | 30kB 10.8MB/s eta 0:00:01\r\u001b[K     |███████████████████████▋        | 40kB 8.4MB/s eta 0:00:01\r\u001b[K     |█████████████████████████████▌  | 51kB 4.6MB/s eta 0:00:01\r\u001b[K     |████████████████████████████████| 61kB 3.4MB/s \n",
            "\u001b[?25hRequirement already satisfied: numpy in /usr/local/lib/python3.6/dist-packages (from scorecardpy) (1.19.4)\n",
            "Requirement already satisfied: pandas>=0.25.0 in /usr/local/lib/python3.6/dist-packages (from scorecardpy) (1.1.5)\n",
            "Requirement already satisfied: matplotlib in /usr/local/lib/python3.6/dist-packages (from scorecardpy) (3.2.2)\n",
            "Requirement already satisfied: scikit-learn>=0.19.1 in /usr/local/lib/python3.6/dist-packages (from scorecardpy) (0.22.2.post1)\n",
            "Requirement already satisfied: pytz>=2017.2 in /usr/local/lib/python3.6/dist-packages (from pandas>=0.25.0->scorecardpy) (2018.9)\n",
            "Requirement already satisfied: python-dateutil>=2.7.3 in /usr/local/lib/python3.6/dist-packages (from pandas>=0.25.0->scorecardpy) (2.8.1)\n",
            "Requirement already satisfied: pyparsing!=2.0.4,!=2.1.2,!=2.1.6,>=2.0.1 in /usr/local/lib/python3.6/dist-packages (from matplotlib->scorecardpy) (2.4.7)\n",
            "Requirement already satisfied: cycler>=0.10 in /usr/local/lib/python3.6/dist-packages (from matplotlib->scorecardpy) (0.10.0)\n",
            "Requirement already satisfied: kiwisolver>=1.0.1 in /usr/local/lib/python3.6/dist-packages (from matplotlib->scorecardpy) (1.3.1)\n",
            "Requirement already satisfied: joblib>=0.11 in /usr/local/lib/python3.6/dist-packages (from scikit-learn>=0.19.1->scorecardpy) (1.0.0)\n",
            "Requirement already satisfied: scipy>=0.17.0 in /usr/local/lib/python3.6/dist-packages (from scikit-learn>=0.19.1->scorecardpy) (1.4.1)\n",
            "Requirement already satisfied: six>=1.5 in /usr/local/lib/python3.6/dist-packages (from python-dateutil>=2.7.3->pandas>=0.25.0->scorecardpy) (1.15.0)\n",
            "Building wheels for collected packages: scorecardpy\n",
            "  Building wheel for scorecardpy (setup.py) ... \u001b[?25l\u001b[?25hdone\n",
            "  Created wheel for scorecardpy: filename=scorecardpy-0.1.9.2-cp36-none-any.whl size=57827 sha256=c2149beaf878225264e0071df03872c8bfb5aacd14af042b96d7df6a22120753\n",
            "  Stored in directory: /root/.cache/pip/wheels/1d/66/14/23aeb4e1128278f5880580e2fdd10e956de112a5d56a3a043e\n",
            "Successfully built scorecardpy\n",
            "Installing collected packages: scorecardpy\n",
            "Successfully installed scorecardpy-0.1.9.2\n"
          ],
          "name": "stdout"
        }
      ]
    },
    {
      "cell_type": "code",
      "metadata": {
        "colab": {
          "base_uri": "https://localhost:8080/",
          "height": 315
        },
        "id": "Wm88yDyWWlmX",
        "outputId": "727db84e-a928-45f3-ea8d-02e9c2533fc0"
      },
      "source": [
        "woe = sc.woebin(train_df, y=\"BAD\", x='CLAGE')\r\n",
        "sc.woebin_plot(woe)"
      ],
      "execution_count": null,
      "outputs": [
        {
          "output_type": "stream",
          "text": [
            "[INFO] creating woe binning ...\n"
          ],
          "name": "stdout"
        },
        {
          "output_type": "execute_result",
          "data": {
            "text/plain": [
              "{'CLAGE': <Figure size 432x288 with 2 Axes>}"
            ]
          },
          "metadata": {
            "tags": []
          },
          "execution_count": 41
        },
        {
          "output_type": "display_data",
          "data": {
            "image/png": "[encoded data removed]",
            "text/plain": [
              "<Figure size 432x288 with 2 Axes>"
            ]
          },
          "metadata": {
            "tags": [],
            "needs_background": "light"
          }
        }
      ]
    },
    {
      "cell_type": "code",
      "metadata": {
        "colab": {
          "base_uri": "https://localhost:8080/",
          "height": 436
        },
        "id": "d_afJrh-ZWu5",
        "outputId": "425dcff7-ac77-4c40-baad-00c871c70798"
      },
      "source": [
        "sc.woebin_ply(train_df, woe) # if you would like to replace the variable with its WoE, you can do so using the woebin_ply function"
      ],
      "execution_count": null,
      "outputs": [
        {
          "output_type": "stream",
          "text": [
            "[INFO] converting into woe values ...\n"
          ],
          "name": "stdout"
        },
        {
          "output_type": "execute_result",
          "data": {
            "text/html": [
              "<div>\n",
              "<style scoped>\n",
              "    .dataframe tbody tr th:only-of-type {\n",
              "        vertical-align: middle;\n",
              "    }\n",
              "\n",
              "    .dataframe tbody tr th {\n",
              "        vertical-align: top;\n",
              "    }\n",
              "\n",
              "    .dataframe thead th {\n",
              "        text-align: right;\n",
              "    }\n",
              "</style>\n",
              "<table border=\"1\" class=\"dataframe\">\n",
              "  <thead>\n",
              "    <tr style=\"text-align: right;\">\n",
              "      <th></th>\n",
              "      <th>MORTDUE</th>\n",
              "      <th>LOAN</th>\n",
              "      <th>DEBTINC</th>\n",
              "      <th>DEROG</th>\n",
              "      <th>DEROGzero</th>\n",
              "      <th>VALUE</th>\n",
              "      <th>NINQ</th>\n",
              "      <th>JOB</th>\n",
              "      <th>REASON</th>\n",
              "      <th>BAD</th>\n",
              "      <th>CLNO</th>\n",
              "      <th>DELINQ</th>\n",
              "      <th>YOJ</th>\n",
              "      <th>CLAGE_woe</th>\n",
              "    </tr>\n",
              "  </thead>\n",
              "  <tbody>\n",
              "    <tr>\n",
              "      <th>0</th>\n",
              "      <td>-1.180419</td>\n",
              "      <td>-1.653875</td>\n",
              "      <td>0.132203</td>\n",
              "      <td>-0.277583</td>\n",
              "      <td>True</td>\n",
              "      <td>-1.214319</td>\n",
              "      <td>-0.097221</td>\n",
              "      <td>Other</td>\n",
              "      <td>HomeImp</td>\n",
              "      <td>True</td>\n",
              "      <td>-1.246086</td>\n",
              "      <td>-0.377925</td>\n",
              "      <td>0.232730</td>\n",
              "      <td>0.644245</td>\n",
              "    </tr>\n",
              "    <tr>\n",
              "      <th>1</th>\n",
              "      <td>-0.062770</td>\n",
              "      <td>-1.634840</td>\n",
              "      <td>0.132203</td>\n",
              "      <td>-0.277583</td>\n",
              "      <td>True</td>\n",
              "      <td>-0.637265</td>\n",
              "      <td>-0.747360</td>\n",
              "      <td>Other</td>\n",
              "      <td>HomeImp</td>\n",
              "      <td>True</td>\n",
              "      <td>-0.737332</td>\n",
              "      <td>1.475928</td>\n",
              "      <td>-0.249200</td>\n",
              "      <td>0.207846</td>\n",
              "    </tr>\n",
              "    <tr>\n",
              "      <th>3</th>\n",
              "      <td>-0.190081</td>\n",
              "      <td>-1.615804</td>\n",
              "      <td>0.132203</td>\n",
              "      <td>-0.277583</td>\n",
              "      <td>True</td>\n",
              "      <td>-0.227964</td>\n",
              "      <td>-0.097221</td>\n",
              "      <td>Other</td>\n",
              "      <td>IsMissing</td>\n",
              "      <td>True</td>\n",
              "      <td>-0.126826</td>\n",
              "      <td>-0.377925</td>\n",
              "      <td>-0.249200</td>\n",
              "      <td>0.207846</td>\n",
              "    </tr>\n",
              "    <tr>\n",
              "      <th>4</th>\n",
              "      <td>0.638956</td>\n",
              "      <td>-1.596769</td>\n",
              "      <td>0.132203</td>\n",
              "      <td>-0.277583</td>\n",
              "      <td>True</td>\n",
              "      <td>0.219231</td>\n",
              "      <td>-0.747360</td>\n",
              "      <td>Office</td>\n",
              "      <td>HomeImp</td>\n",
              "      <td>False</td>\n",
              "      <td>-0.737332</td>\n",
              "      <td>-0.377925</td>\n",
              "      <td>-0.799978</td>\n",
              "      <td>0.644245</td>\n",
              "    </tr>\n",
              "    <tr>\n",
              "      <th>5</th>\n",
              "      <td>-1.061858</td>\n",
              "      <td>-1.596769</td>\n",
              "      <td>0.479861</td>\n",
              "      <td>-0.277583</td>\n",
              "      <td>True</td>\n",
              "      <td>-1.188880</td>\n",
              "      <td>-0.097221</td>\n",
              "      <td>Other</td>\n",
              "      <td>HomeImp</td>\n",
              "      <td>True</td>\n",
              "      <td>-1.347837</td>\n",
              "      <td>-0.377925</td>\n",
              "      <td>0.026189</td>\n",
              "      <td>0.207846</td>\n",
              "    </tr>\n",
              "    <tr>\n",
              "      <th>...</th>\n",
              "      <td>...</td>\n",
              "      <td>...</td>\n",
              "      <td>...</td>\n",
              "      <td>...</td>\n",
              "      <td>...</td>\n",
              "      <td>...</td>\n",
              "      <td>...</td>\n",
              "      <td>...</td>\n",
              "      <td>...</td>\n",
              "      <td>...</td>\n",
              "      <td>...</td>\n",
              "      <td>...</td>\n",
              "      <td>...</td>\n",
              "      <td>...</td>\n",
              "    </tr>\n",
              "    <tr>\n",
              "      <th>5954</th>\n",
              "      <td>-0.597253</td>\n",
              "      <td>3.942570</td>\n",
              "      <td>0.132203</td>\n",
              "      <td>-0.277583</td>\n",
              "      <td>True</td>\n",
              "      <td>-0.146725</td>\n",
              "      <td>-0.747360</td>\n",
              "      <td>Other</td>\n",
              "      <td>DebtCon</td>\n",
              "      <td>False</td>\n",
              "      <td>-0.635581</td>\n",
              "      <td>0.549002</td>\n",
              "      <td>0.852356</td>\n",
              "      <td>-0.407375</td>\n",
              "    </tr>\n",
              "    <tr>\n",
              "      <th>5955</th>\n",
              "      <td>-0.386206</td>\n",
              "      <td>3.942570</td>\n",
              "      <td>0.328208</td>\n",
              "      <td>-0.277583</td>\n",
              "      <td>True</td>\n",
              "      <td>-0.209312</td>\n",
              "      <td>-0.747360</td>\n",
              "      <td>Other</td>\n",
              "      <td>DebtCon</td>\n",
              "      <td>False</td>\n",
              "      <td>-0.533830</td>\n",
              "      <td>-0.377925</td>\n",
              "      <td>0.990050</td>\n",
              "      <td>-0.407375</td>\n",
              "    </tr>\n",
              "    <tr>\n",
              "      <th>5956</th>\n",
              "      <td>-0.454186</td>\n",
              "      <td>3.942570</td>\n",
              "      <td>0.289982</td>\n",
              "      <td>-0.277583</td>\n",
              "      <td>True</td>\n",
              "      <td>-0.155250</td>\n",
              "      <td>-0.747360</td>\n",
              "      <td>Other</td>\n",
              "      <td>DebtCon</td>\n",
              "      <td>False</td>\n",
              "      <td>-0.635581</td>\n",
              "      <td>-0.377925</td>\n",
              "      <td>0.990050</td>\n",
              "      <td>-0.407375</td>\n",
              "    </tr>\n",
              "    <tr>\n",
              "      <th>5957</th>\n",
              "      <td>-0.467615</td>\n",
              "      <td>3.942570</td>\n",
              "      <td>0.244032</td>\n",
              "      <td>-0.277583</td>\n",
              "      <td>True</td>\n",
              "      <td>-0.155506</td>\n",
              "      <td>-0.747360</td>\n",
              "      <td>Other</td>\n",
              "      <td>DebtCon</td>\n",
              "      <td>False</td>\n",
              "      <td>-0.635581</td>\n",
              "      <td>-0.377925</td>\n",
              "      <td>0.852356</td>\n",
              "      <td>-0.407375</td>\n",
              "    </tr>\n",
              "    <tr>\n",
              "      <th>5958</th>\n",
              "      <td>-0.560557</td>\n",
              "      <td>3.942570</td>\n",
              "      <td>0.059898</td>\n",
              "      <td>-0.277583</td>\n",
              "      <td>True</td>\n",
              "      <td>-0.176388</td>\n",
              "      <td>-0.747360</td>\n",
              "      <td>Other</td>\n",
              "      <td>DebtCon</td>\n",
              "      <td>False</td>\n",
              "      <td>-0.533830</td>\n",
              "      <td>-0.377925</td>\n",
              "      <td>0.714661</td>\n",
              "      <td>-0.407375</td>\n",
              "    </tr>\n",
              "  </tbody>\n",
              "</table>\n",
              "<p>4768 rows × 14 columns</p>\n",
              "</div>"
            ],
            "text/plain": [
              "       MORTDUE      LOAN   DEBTINC  ...    DELINQ       YOJ  CLAGE_woe\n",
              "0    -1.180419 -1.653875  0.132203  ... -0.377925  0.232730   0.644245\n",
              "1    -0.062770 -1.634840  0.132203  ...  1.475928 -0.249200   0.207846\n",
              "3    -0.190081 -1.615804  0.132203  ... -0.377925 -0.249200   0.207846\n",
              "4     0.638956 -1.596769  0.132203  ... -0.377925 -0.799978   0.644245\n",
              "5    -1.061858 -1.596769  0.479861  ... -0.377925  0.026189   0.207846\n",
              "...        ...       ...       ...  ...       ...       ...        ...\n",
              "5954 -0.597253  3.942570  0.132203  ...  0.549002  0.852356  -0.407375\n",
              "5955 -0.386206  3.942570  0.328208  ... -0.377925  0.990050  -0.407375\n",
              "5956 -0.454186  3.942570  0.289982  ... -0.377925  0.990050  -0.407375\n",
              "5957 -0.467615  3.942570  0.244032  ... -0.377925  0.852356  -0.407375\n",
              "5958 -0.560557  3.942570  0.059898  ... -0.377925  0.714661  -0.407375\n",
              "\n",
              "[4768 rows x 14 columns]"
            ]
          },
          "metadata": {
            "tags": []
          },
          "execution_count": 42
        }
      ]
    },
    {
      "cell_type": "markdown",
      "metadata": {
        "id": "UYnR6AxwUh-f"
      },
      "source": [
        "### Checking model performance: WoE vs. Dummies\r\n",
        "\r\n",
        "Let's now try to perform a logistic regression using a one-hot encoded version of the dataframe and a version using WoE. first let's start with one-hot encoding and see how the model performs."
      ]
    },
    {
      "cell_type": "code",
      "metadata": {
        "colab": {
          "base_uri": "https://localhost:8080/",
          "height": 419
        },
        "id": "z_RxPDU9cf_g",
        "outputId": "21499e39-32f9-4a02-82de-9bbd055db0a1"
      },
      "source": [
        "X_train_dummies = pd.get_dummies(X_train, columns = ['REASON', 'JOB'])\r\n",
        "X_test_dummies = pd.get_dummies(X_test, columns = ['REASON', 'JOB'])\r\n",
        "\r\n",
        "X_train_dummies"
      ],
      "execution_count": null,
      "outputs": [
        {
          "output_type": "execute_result",
          "data": {
            "text/html": [
              "<div>\n",
              "<style scoped>\n",
              "    .dataframe tbody tr th:only-of-type {\n",
              "        vertical-align: middle;\n",
              "    }\n",
              "\n",
              "    .dataframe tbody tr th {\n",
              "        vertical-align: top;\n",
              "    }\n",
              "\n",
              "    .dataframe thead th {\n",
              "        text-align: right;\n",
              "    }\n",
              "</style>\n",
              "<table border=\"1\" class=\"dataframe\">\n",
              "  <thead>\n",
              "    <tr style=\"text-align: right;\">\n",
              "      <th></th>\n",
              "      <th>LOAN</th>\n",
              "      <th>MORTDUE</th>\n",
              "      <th>VALUE</th>\n",
              "      <th>YOJ</th>\n",
              "      <th>DEROG</th>\n",
              "      <th>DELINQ</th>\n",
              "      <th>CLAGE</th>\n",
              "      <th>NINQ</th>\n",
              "      <th>CLNO</th>\n",
              "      <th>DEBTINC</th>\n",
              "      <th>DEROGzero</th>\n",
              "      <th>REASON_DebtCon</th>\n",
              "      <th>REASON_HomeImp</th>\n",
              "      <th>REASON_IsMissing</th>\n",
              "      <th>JOB_Mgr</th>\n",
              "      <th>JOB_Office</th>\n",
              "      <th>JOB_Other</th>\n",
              "      <th>JOB_ProfExe</th>\n",
              "      <th>JOB_Sales</th>\n",
              "      <th>JOB_Self</th>\n",
              "    </tr>\n",
              "  </thead>\n",
              "  <tbody>\n",
              "    <tr>\n",
              "      <th>4476</th>\n",
              "      <td>0.459068</td>\n",
              "      <td>0.437823</td>\n",
              "      <td>0.695785</td>\n",
              "      <td>-0.249200</td>\n",
              "      <td>-0.277583</td>\n",
              "      <td>-0.377925</td>\n",
              "      <td>0.379390</td>\n",
              "      <td>-0.747360</td>\n",
              "      <td>-0.025075</td>\n",
              "      <td>-0.630910</td>\n",
              "      <td>True</td>\n",
              "      <td>1</td>\n",
              "      <td>0</td>\n",
              "      <td>0</td>\n",
              "      <td>0</td>\n",
              "      <td>0</td>\n",
              "      <td>0</td>\n",
              "      <td>1</td>\n",
              "      <td>0</td>\n",
              "      <td>0</td>\n",
              "    </tr>\n",
              "    <tr>\n",
              "      <th>1435</th>\n",
              "      <td>-0.721134</td>\n",
              "      <td>-0.341569</td>\n",
              "      <td>-0.485610</td>\n",
              "      <td>-0.937672</td>\n",
              "      <td>-0.277583</td>\n",
              "      <td>-0.377925</td>\n",
              "      <td>0.648163</td>\n",
              "      <td>-0.747360</td>\n",
              "      <td>-1.144335</td>\n",
              "      <td>0.315082</td>\n",
              "      <td>True</td>\n",
              "      <td>1</td>\n",
              "      <td>0</td>\n",
              "      <td>0</td>\n",
              "      <td>0</td>\n",
              "      <td>0</td>\n",
              "      <td>1</td>\n",
              "      <td>0</td>\n",
              "      <td>0</td>\n",
              "      <td>0</td>\n",
              "    </tr>\n",
              "    <tr>\n",
              "      <th>1620</th>\n",
              "      <td>-0.644992</td>\n",
              "      <td>-0.643964</td>\n",
              "      <td>-0.309400</td>\n",
              "      <td>1.265439</td>\n",
              "      <td>-0.277583</td>\n",
              "      <td>-0.377925</td>\n",
              "      <td>0.159564</td>\n",
              "      <td>-0.747360</td>\n",
              "      <td>-0.533830</td>\n",
              "      <td>0.169554</td>\n",
              "      <td>True</td>\n",
              "      <td>0</td>\n",
              "      <td>1</td>\n",
              "      <td>0</td>\n",
              "      <td>0</td>\n",
              "      <td>0</td>\n",
              "      <td>1</td>\n",
              "      <td>0</td>\n",
              "      <td>0</td>\n",
              "      <td>0</td>\n",
              "    </tr>\n",
              "    <tr>\n",
              "      <th>2109</th>\n",
              "      <td>-0.492708</td>\n",
              "      <td>0.237955</td>\n",
              "      <td>0.155740</td>\n",
              "      <td>-0.524589</td>\n",
              "      <td>-0.277583</td>\n",
              "      <td>-0.377925</td>\n",
              "      <td>-1.215933</td>\n",
              "      <td>-0.097221</td>\n",
              "      <td>-0.839083</td>\n",
              "      <td>-0.011477</td>\n",
              "      <td>True</td>\n",
              "      <td>1</td>\n",
              "      <td>0</td>\n",
              "      <td>0</td>\n",
              "      <td>0</td>\n",
              "      <td>0</td>\n",
              "      <td>1</td>\n",
              "      <td>0</td>\n",
              "      <td>0</td>\n",
              "      <td>0</td>\n",
              "    </tr>\n",
              "    <tr>\n",
              "      <th>1453</th>\n",
              "      <td>-0.711617</td>\n",
              "      <td>-0.398067</td>\n",
              "      <td>-0.605559</td>\n",
              "      <td>-0.799978</td>\n",
              "      <td>-0.277583</td>\n",
              "      <td>0.549002</td>\n",
              "      <td>1.737974</td>\n",
              "      <td>-0.747360</td>\n",
              "      <td>-1.144335</td>\n",
              "      <td>-0.052897</td>\n",
              "      <td>True</td>\n",
              "      <td>1</td>\n",
              "      <td>0</td>\n",
              "      <td>0</td>\n",
              "      <td>0</td>\n",
              "      <td>0</td>\n",
              "      <td>1</td>\n",
              "      <td>0</td>\n",
              "      <td>0</td>\n",
              "      <td>0</td>\n",
              "    </tr>\n",
              "    <tr>\n",
              "      <th>...</th>\n",
              "      <td>...</td>\n",
              "      <td>...</td>\n",
              "      <td>...</td>\n",
              "      <td>...</td>\n",
              "      <td>...</td>\n",
              "      <td>...</td>\n",
              "      <td>...</td>\n",
              "      <td>...</td>\n",
              "      <td>...</td>\n",
              "      <td>...</td>\n",
              "      <td>...</td>\n",
              "      <td>...</td>\n",
              "      <td>...</td>\n",
              "      <td>...</td>\n",
              "      <td>...</td>\n",
              "      <td>...</td>\n",
              "      <td>...</td>\n",
              "      <td>...</td>\n",
              "      <td>...</td>\n",
              "      <td>...</td>\n",
              "    </tr>\n",
              "    <tr>\n",
              "      <th>898</th>\n",
              "      <td>-0.911490</td>\n",
              "      <td>-0.190081</td>\n",
              "      <td>-1.015479</td>\n",
              "      <td>-0.249200</td>\n",
              "      <td>-0.277583</td>\n",
              "      <td>-0.377925</td>\n",
              "      <td>-0.852058</td>\n",
              "      <td>-0.097221</td>\n",
              "      <td>-1.347837</td>\n",
              "      <td>0.479033</td>\n",
              "      <td>True</td>\n",
              "      <td>0</td>\n",
              "      <td>1</td>\n",
              "      <td>0</td>\n",
              "      <td>0</td>\n",
              "      <td>0</td>\n",
              "      <td>1</td>\n",
              "      <td>0</td>\n",
              "      <td>0</td>\n",
              "      <td>0</td>\n",
              "    </tr>\n",
              "    <tr>\n",
              "      <th>454</th>\n",
              "      <td>-1.111363</td>\n",
              "      <td>0.086720</td>\n",
              "      <td>-0.237423</td>\n",
              "      <td>1.403133</td>\n",
              "      <td>-0.277583</td>\n",
              "      <td>0.549002</td>\n",
              "      <td>1.476908</td>\n",
              "      <td>-0.747360</td>\n",
              "      <td>0.178427</td>\n",
              "      <td>0.781860</td>\n",
              "      <td>True</td>\n",
              "      <td>1</td>\n",
              "      <td>0</td>\n",
              "      <td>0</td>\n",
              "      <td>1</td>\n",
              "      <td>0</td>\n",
              "      <td>0</td>\n",
              "      <td>0</td>\n",
              "      <td>0</td>\n",
              "      <td>0</td>\n",
              "    </tr>\n",
              "    <tr>\n",
              "      <th>5633</th>\n",
              "      <td>1.943840</td>\n",
              "      <td>1.200550</td>\n",
              "      <td>1.177308</td>\n",
              "      <td>0.576967</td>\n",
              "      <td>-0.277583</td>\n",
              "      <td>-0.377925</td>\n",
              "      <td>-0.516361</td>\n",
              "      <td>-0.747360</td>\n",
              "      <td>1.908193</td>\n",
              "      <td>1.932074</td>\n",
              "      <td>True</td>\n",
              "      <td>0</td>\n",
              "      <td>1</td>\n",
              "      <td>0</td>\n",
              "      <td>0</td>\n",
              "      <td>0</td>\n",
              "      <td>0</td>\n",
              "      <td>1</td>\n",
              "      <td>0</td>\n",
              "      <td>0</td>\n",
              "    </tr>\n",
              "    <tr>\n",
              "      <th>2340</th>\n",
              "      <td>-0.416566</td>\n",
              "      <td>-0.571760</td>\n",
              "      <td>-0.649818</td>\n",
              "      <td>2.366995</td>\n",
              "      <td>-0.277583</td>\n",
              "      <td>-0.377925</td>\n",
              "      <td>1.202782</td>\n",
              "      <td>-0.097221</td>\n",
              "      <td>-0.533830</td>\n",
              "      <td>0.401977</td>\n",
              "      <td>True</td>\n",
              "      <td>1</td>\n",
              "      <td>0</td>\n",
              "      <td>0</td>\n",
              "      <td>1</td>\n",
              "      <td>0</td>\n",
              "      <td>0</td>\n",
              "      <td>0</td>\n",
              "      <td>0</td>\n",
              "      <td>0</td>\n",
              "    </tr>\n",
              "    <tr>\n",
              "      <th>4303</th>\n",
              "      <td>0.373409</td>\n",
              "      <td>-0.069826</td>\n",
              "      <td>0.132815</td>\n",
              "      <td>-0.937672</td>\n",
              "      <td>-0.277583</td>\n",
              "      <td>-0.377925</td>\n",
              "      <td>0.854328</td>\n",
              "      <td>2.503335</td>\n",
              "      <td>0.178427</td>\n",
              "      <td>1.062896</td>\n",
              "      <td>True</td>\n",
              "      <td>1</td>\n",
              "      <td>0</td>\n",
              "      <td>0</td>\n",
              "      <td>1</td>\n",
              "      <td>0</td>\n",
              "      <td>0</td>\n",
              "      <td>0</td>\n",
              "      <td>0</td>\n",
              "      <td>0</td>\n",
              "    </tr>\n",
              "  </tbody>\n",
              "</table>\n",
              "<p>4768 rows × 20 columns</p>\n",
              "</div>"
            ],
            "text/plain": [
              "          LOAN   MORTDUE     VALUE  ...  JOB_ProfExe  JOB_Sales  JOB_Self\n",
              "4476  0.459068  0.437823  0.695785  ...            1          0         0\n",
              "1435 -0.721134 -0.341569 -0.485610  ...            0          0         0\n",
              "1620 -0.644992 -0.643964 -0.309400  ...            0          0         0\n",
              "2109 -0.492708  0.237955  0.155740  ...            0          0         0\n",
              "1453 -0.711617 -0.398067 -0.605559  ...            0          0         0\n",
              "...        ...       ...       ...  ...          ...        ...       ...\n",
              "898  -0.911490 -0.190081 -1.015479  ...            0          0         0\n",
              "454  -1.111363  0.086720 -0.237423  ...            0          0         0\n",
              "5633  1.943840  1.200550  1.177308  ...            1          0         0\n",
              "2340 -0.416566 -0.571760 -0.649818  ...            0          0         0\n",
              "4303  0.373409 -0.069826  0.132815  ...            0          0         0\n",
              "\n",
              "[4768 rows x 20 columns]"
            ]
          },
          "metadata": {
            "tags": []
          },
          "execution_count": 43
        }
      ]
    },
    {
      "cell_type": "code",
      "metadata": {
        "colab": {
          "base_uri": "https://localhost:8080/"
        },
        "id": "xaY43CY7dRNv",
        "outputId": "e2389ed1-23f7-4755-9dfe-736ddcf7840a"
      },
      "source": [
        "import statsmodels.api as sm \r\n",
        "\r\n",
        "log_reg_dummies = sm.Logit(y_train, X_train_dummies.astype(float)).fit() \r\n",
        "print(log_reg_dummies.summary())"
      ],
      "execution_count": null,
      "outputs": [
        {
          "output_type": "stream",
          "text": [
            "Optimization terminated successfully.\n",
            "         Current function value: 0.384625\n",
            "         Iterations 7\n",
            "                           Logit Regression Results                           \n",
            "==============================================================================\n",
            "Dep. Variable:                    BAD   No. Observations:                 4768\n",
            "Model:                          Logit   Df Residuals:                     4749\n",
            "Method:                           MLE   Df Model:                           18\n",
            "Date:                Wed, 30 Dec 2020   Pseudo R-squ.:                  0.2329\n",
            "Time:                        20:05:29   Log-Likelihood:                -1833.9\n",
            "converged:                       True   LL-Null:                       -2390.6\n",
            "Covariance Type:            nonrobust   LLR p-value:                3.810e-225\n",
            "====================================================================================\n",
            "                       coef    std err          z      P>|z|      [0.025      0.975]\n",
            "------------------------------------------------------------------------------------\n",
            "LOAN                -0.2422      0.051     -4.753      0.000      -0.342      -0.142\n",
            "MORTDUE             -0.1934      0.082     -2.369      0.018      -0.353      -0.033\n",
            "VALUE                0.1593      0.085      1.884      0.060      -0.006       0.325\n",
            "YOJ                 -0.0574      0.047     -1.219      0.223      -0.150       0.035\n",
            "DEROG                0.3018      0.064      4.690      0.000       0.176       0.428\n",
            "DELINQ               0.8288      0.047     17.747      0.000       0.737       0.920\n",
            "CLAGE               -0.5081      0.051     -9.973      0.000      -0.608      -0.408\n",
            "NINQ                 0.2730      0.039      7.065      0.000       0.197       0.349\n",
            "CLNO                -0.1340      0.049     -2.757      0.006      -0.229      -0.039\n",
            "DEBTINC              0.4953      0.050      9.982      0.000       0.398       0.593\n",
            "DEROGzero           -0.4212      0.179     -2.348      0.019      -0.773      -0.070\n",
            "REASON_DebtCon      -0.9004   2.49e+06  -3.62e-07      1.000   -4.88e+06    4.88e+06\n",
            "REASON_HomeImp      -0.5941   2.49e+06  -2.39e-07      1.000   -4.88e+06    4.88e+06\n",
            "REASON_IsMissing    -0.8082   2.49e+06  -3.25e-07      1.000   -4.88e+06    4.88e+06\n",
            "JOB_Mgr             -0.5125   2.49e+06  -2.06e-07      1.000   -4.88e+06    4.88e+06\n",
            "JOB_Office          -1.1656   2.49e+06  -4.68e-07      1.000   -4.88e+06    4.88e+06\n",
            "JOB_Other           -0.4639   2.49e+06  -1.86e-07      1.000   -4.88e+06    4.88e+06\n",
            "JOB_ProfExe         -0.4988   2.49e+06     -2e-07      1.000   -4.88e+06    4.88e+06\n",
            "JOB_Sales            0.4126   2.49e+06   1.66e-07      1.000   -4.88e+06    4.88e+06\n",
            "JOB_Self            -0.0745   2.49e+06  -2.99e-08      1.000   -4.88e+06    4.88e+06\n",
            "====================================================================================\n"
          ],
          "name": "stdout"
        }
      ]
    },
    {
      "cell_type": "code",
      "metadata": {
        "colab": {
          "base_uri": "https://localhost:8080/"
        },
        "id": "GVrVIvbjfPwv",
        "outputId": "d6ade4fa-5ade-4750-b1f2-525246973b26"
      },
      "source": [
        "from sklearn.metrics import roc_auc_score\r\n",
        "\r\n",
        "y_pred = log_reg_dummies.predict(X_test_dummies.astype(float))\r\n",
        "roc_auc_score(y_test, y_pred)"
      ],
      "execution_count": null,
      "outputs": [
        {
          "output_type": "execute_result",
          "data": {
            "text/plain": [
              "0.7888290229885058"
            ]
          },
          "metadata": {
            "tags": []
          },
          "execution_count": 45
        }
      ]
    },
    {
      "cell_type": "markdown",
      "metadata": {
        "id": "arBp8Zt1joVL"
      },
      "source": [
        "That did pretty well! Let's try to use WoE binning and see what kind of performance we get."
      ]
    },
    {
      "cell_type": "code",
      "metadata": {
        "colab": {
          "base_uri": "https://localhost:8080/"
        },
        "id": "h3chy_-5co4E",
        "outputId": "b0475e87-55ca-4b92-9266-1d1a0ef4f759"
      },
      "source": [
        "# Create bins for our two categorical variables\r\n",
        "\r\n",
        "woe_job = sc.woebin(train_df, y=\"BAD\", x='JOB')\r\n",
        "woe_reason = sc.woebin(train_df, y=\"BAD\", x='REASON')"
      ],
      "execution_count": null,
      "outputs": [
        {
          "output_type": "stream",
          "text": [
            "[INFO] creating woe binning ...\n",
            "[INFO] creating woe binning ...\n"
          ],
          "name": "stdout"
        }
      ]
    },
    {
      "cell_type": "code",
      "metadata": {
        "colab": {
          "base_uri": "https://localhost:8080/",
          "height": 487
        },
        "id": "Q-TPxHO3c9XW",
        "outputId": "f79b0204-bdba-4659-a856-af1d8b26a1c0"
      },
      "source": [
        "X_train_woe = sc.woebin_ply(X_train, woe_job)\r\n",
        "X_train_woe = sc.woebin_ply(X_train_woe, woe_reason)\r\n",
        "\r\n",
        "X_test_woe = sc.woebin_ply(X_test, woe_job)\r\n",
        "X_test_woe = sc.woebin_ply(X_test_woe, woe_reason)\r\n",
        "\r\n",
        "X_train_woe"
      ],
      "execution_count": null,
      "outputs": [
        {
          "output_type": "stream",
          "text": [
            "[INFO] converting into woe values ...\n",
            "[INFO] converting into woe values ...\n",
            "[INFO] converting into woe values ...\n",
            "[INFO] converting into woe values ...\n"
          ],
          "name": "stdout"
        },
        {
          "output_type": "execute_result",
          "data": {
            "text/html": [
              "<div>\n",
              "<style scoped>\n",
              "    .dataframe tbody tr th:only-of-type {\n",
              "        vertical-align: middle;\n",
              "    }\n",
              "\n",
              "    .dataframe tbody tr th {\n",
              "        vertical-align: top;\n",
              "    }\n",
              "\n",
              "    .dataframe thead th {\n",
              "        text-align: right;\n",
              "    }\n",
              "</style>\n",
              "<table border=\"1\" class=\"dataframe\">\n",
              "  <thead>\n",
              "    <tr style=\"text-align: right;\">\n",
              "      <th></th>\n",
              "      <th>MORTDUE</th>\n",
              "      <th>LOAN</th>\n",
              "      <th>DEBTINC</th>\n",
              "      <th>DEROG</th>\n",
              "      <th>DEROGzero</th>\n",
              "      <th>VALUE</th>\n",
              "      <th>NINQ</th>\n",
              "      <th>JOB_woe</th>\n",
              "      <th>CLAGE</th>\n",
              "      <th>DELINQ</th>\n",
              "      <th>YOJ</th>\n",
              "      <th>CLNO</th>\n",
              "      <th>REASON_woe</th>\n",
              "    </tr>\n",
              "  </thead>\n",
              "  <tbody>\n",
              "    <tr>\n",
              "      <th>0</th>\n",
              "      <td>-1.180419</td>\n",
              "      <td>-1.653875</td>\n",
              "      <td>0.132203</td>\n",
              "      <td>-0.277583</td>\n",
              "      <td>True</td>\n",
              "      <td>-1.214319</td>\n",
              "      <td>-0.097221</td>\n",
              "      <td>0.175561</td>\n",
              "      <td>-1.051835</td>\n",
              "      <td>-0.377925</td>\n",
              "      <td>0.232730</td>\n",
              "      <td>-1.246086</td>\n",
              "      <td>0.165108</td>\n",
              "    </tr>\n",
              "    <tr>\n",
              "      <th>1</th>\n",
              "      <td>-0.062770</td>\n",
              "      <td>-1.634840</td>\n",
              "      <td>0.132203</td>\n",
              "      <td>-0.277583</td>\n",
              "      <td>True</td>\n",
              "      <td>-0.637265</td>\n",
              "      <td>-0.747360</td>\n",
              "      <td>0.175561</td>\n",
              "      <td>-0.711920</td>\n",
              "      <td>1.475928</td>\n",
              "      <td>-0.249200</td>\n",
              "      <td>-0.737332</td>\n",
              "      <td>0.165108</td>\n",
              "    </tr>\n",
              "    <tr>\n",
              "      <th>3</th>\n",
              "      <td>-0.190081</td>\n",
              "      <td>-1.615804</td>\n",
              "      <td>0.132203</td>\n",
              "      <td>-0.277583</td>\n",
              "      <td>True</td>\n",
              "      <td>-0.227964</td>\n",
              "      <td>-0.097221</td>\n",
              "      <td>0.175561</td>\n",
              "      <td>-0.072929</td>\n",
              "      <td>-0.377925</td>\n",
              "      <td>-0.249200</td>\n",
              "      <td>-0.126826</td>\n",
              "      <td>-0.076033</td>\n",
              "    </tr>\n",
              "    <tr>\n",
              "      <th>4</th>\n",
              "      <td>0.638956</td>\n",
              "      <td>-1.596769</td>\n",
              "      <td>0.132203</td>\n",
              "      <td>-0.277583</td>\n",
              "      <td>True</td>\n",
              "      <td>0.219231</td>\n",
              "      <td>-0.747360</td>\n",
              "      <td>-0.504326</td>\n",
              "      <td>-1.064623</td>\n",
              "      <td>-0.377925</td>\n",
              "      <td>-0.799978</td>\n",
              "      <td>-0.737332</td>\n",
              "      <td>0.165108</td>\n",
              "    </tr>\n",
              "    <tr>\n",
              "      <th>5</th>\n",
              "      <td>-1.061858</td>\n",
              "      <td>-1.596769</td>\n",
              "      <td>0.479861</td>\n",
              "      <td>-0.277583</td>\n",
              "      <td>True</td>\n",
              "      <td>-1.188880</td>\n",
              "      <td>-0.097221</td>\n",
              "      <td>0.175561</td>\n",
              "      <td>-0.963977</td>\n",
              "      <td>-0.377925</td>\n",
              "      <td>0.026189</td>\n",
              "      <td>-1.347837</td>\n",
              "      <td>0.165108</td>\n",
              "    </tr>\n",
              "    <tr>\n",
              "      <th>...</th>\n",
              "      <td>...</td>\n",
              "      <td>...</td>\n",
              "      <td>...</td>\n",
              "      <td>...</td>\n",
              "      <td>...</td>\n",
              "      <td>...</td>\n",
              "      <td>...</td>\n",
              "      <td>...</td>\n",
              "      <td>...</td>\n",
              "      <td>...</td>\n",
              "      <td>...</td>\n",
              "      <td>...</td>\n",
              "      <td>...</td>\n",
              "    </tr>\n",
              "    <tr>\n",
              "      <th>5954</th>\n",
              "      <td>-0.597253</td>\n",
              "      <td>3.942570</td>\n",
              "      <td>0.132203</td>\n",
              "      <td>-0.277583</td>\n",
              "      <td>True</td>\n",
              "      <td>-0.146725</td>\n",
              "      <td>-0.747360</td>\n",
              "      <td>0.175561</td>\n",
              "      <td>0.325359</td>\n",
              "      <td>0.549002</td>\n",
              "      <td>0.852356</td>\n",
              "      <td>-0.635581</td>\n",
              "      <td>-0.076033</td>\n",
              "    </tr>\n",
              "    <tr>\n",
              "      <th>5955</th>\n",
              "      <td>-0.386206</td>\n",
              "      <td>3.942570</td>\n",
              "      <td>0.328208</td>\n",
              "      <td>-0.277583</td>\n",
              "      <td>True</td>\n",
              "      <td>-0.209312</td>\n",
              "      <td>-0.747360</td>\n",
              "      <td>0.175561</td>\n",
              "      <td>0.525330</td>\n",
              "      <td>-0.377925</td>\n",
              "      <td>0.990050</td>\n",
              "      <td>-0.533830</td>\n",
              "      <td>-0.076033</td>\n",
              "    </tr>\n",
              "    <tr>\n",
              "      <th>5956</th>\n",
              "      <td>-0.454186</td>\n",
              "      <td>3.942570</td>\n",
              "      <td>0.289982</td>\n",
              "      <td>-0.277583</td>\n",
              "      <td>True</td>\n",
              "      <td>-0.155250</td>\n",
              "      <td>-0.747360</td>\n",
              "      <td>0.175561</td>\n",
              "      <td>0.363004</td>\n",
              "      <td>-0.377925</td>\n",
              "      <td>0.990050</td>\n",
              "      <td>-0.635581</td>\n",
              "      <td>-0.076033</td>\n",
              "    </tr>\n",
              "    <tr>\n",
              "      <th>5957</th>\n",
              "      <td>-0.467615</td>\n",
              "      <td>3.942570</td>\n",
              "      <td>0.244032</td>\n",
              "      <td>-0.277583</td>\n",
              "      <td>True</td>\n",
              "      <td>-0.155506</td>\n",
              "      <td>-0.747360</td>\n",
              "      <td>0.175561</td>\n",
              "      <td>0.407403</td>\n",
              "      <td>-0.377925</td>\n",
              "      <td>0.852356</td>\n",
              "      <td>-0.635581</td>\n",
              "      <td>-0.076033</td>\n",
              "    </tr>\n",
              "    <tr>\n",
              "      <th>5958</th>\n",
              "      <td>-0.560557</td>\n",
              "      <td>3.942570</td>\n",
              "      <td>0.059898</td>\n",
              "      <td>-0.277583</td>\n",
              "      <td>True</td>\n",
              "      <td>-0.176388</td>\n",
              "      <td>-0.747360</td>\n",
              "      <td>0.175561</td>\n",
              "      <td>0.427365</td>\n",
              "      <td>-0.377925</td>\n",
              "      <td>0.714661</td>\n",
              "      <td>-0.533830</td>\n",
              "      <td>-0.076033</td>\n",
              "    </tr>\n",
              "  </tbody>\n",
              "</table>\n",
              "<p>4768 rows × 13 columns</p>\n",
              "</div>"
            ],
            "text/plain": [
              "       MORTDUE      LOAN   DEBTINC  ...       YOJ      CLNO  REASON_woe\n",
              "0    -1.180419 -1.653875  0.132203  ...  0.232730 -1.246086    0.165108\n",
              "1    -0.062770 -1.634840  0.132203  ... -0.249200 -0.737332    0.165108\n",
              "3    -0.190081 -1.615804  0.132203  ... -0.249200 -0.126826   -0.076033\n",
              "4     0.638956 -1.596769  0.132203  ... -0.799978 -0.737332    0.165108\n",
              "5    -1.061858 -1.596769  0.479861  ...  0.026189 -1.347837    0.165108\n",
              "...        ...       ...       ...  ...       ...       ...         ...\n",
              "5954 -0.597253  3.942570  0.132203  ...  0.852356 -0.635581   -0.076033\n",
              "5955 -0.386206  3.942570  0.328208  ...  0.990050 -0.533830   -0.076033\n",
              "5956 -0.454186  3.942570  0.289982  ...  0.990050 -0.635581   -0.076033\n",
              "5957 -0.467615  3.942570  0.244032  ...  0.852356 -0.635581   -0.076033\n",
              "5958 -0.560557  3.942570  0.059898  ...  0.714661 -0.533830   -0.076033\n",
              "\n",
              "[4768 rows x 13 columns]"
            ]
          },
          "metadata": {
            "tags": []
          },
          "execution_count": 47
        }
      ]
    },
    {
      "cell_type": "code",
      "metadata": {
        "colab": {
          "base_uri": "https://localhost:8080/"
        },
        "id": "k3KbMzCWdq3n",
        "outputId": "3fa805c0-347a-4121-b48b-5695c191e2c2"
      },
      "source": [
        "y_train_sorted = y_train.sort_index() # Since woebin sorted the index of X_train_woe\r\n",
        "\r\n",
        "log_reg_woe = sm.Logit(y_train_sorted, X_train_woe.astype(float)).fit() \r\n",
        "print(log_reg_woe.summary())"
      ],
      "execution_count": null,
      "outputs": [
        {
          "output_type": "stream",
          "text": [
            "Optimization terminated successfully.\n",
            "         Current function value: 0.394624\n",
            "         Iterations 7\n",
            "                           Logit Regression Results                           \n",
            "==============================================================================\n",
            "Dep. Variable:                    BAD   No. Observations:                 4768\n",
            "Model:                          Logit   Df Residuals:                     4755\n",
            "Method:                           MLE   Df Model:                           12\n",
            "Date:                Wed, 30 Dec 2020   Pseudo R-squ.:                  0.2129\n",
            "Time:                        20:05:31   Log-Likelihood:                -1881.6\n",
            "converged:                       True   LL-Null:                       -2390.6\n",
            "Covariance Type:            nonrobust   LLR p-value:                2.392e-210\n",
            "==============================================================================\n",
            "                 coef    std err          z      P>|z|      [0.025      0.975]\n",
            "------------------------------------------------------------------------------\n",
            "MORTDUE       -0.1557      0.079     -1.978      0.048      -0.310      -0.001\n",
            "LOAN          -0.2456      0.049     -4.973      0.000      -0.342      -0.149\n",
            "DEBTINC        0.4572      0.048      9.580      0.000       0.364       0.551\n",
            "DEROG         -0.0694      0.036     -1.914      0.056      -0.140       0.002\n",
            "DEROGzero     -1.8436      0.051    -35.989      0.000      -1.944      -1.743\n",
            "VALUE          0.1773      0.081      2.200      0.028       0.019       0.335\n",
            "NINQ           0.2322      0.038      6.058      0.000       0.157       0.307\n",
            "JOB_woe        0.7755      0.167      4.645      0.000       0.448       1.103\n",
            "CLAGE         -0.4870      0.050     -9.796      0.000      -0.584      -0.390\n",
            "DELINQ         0.7833      0.046     17.018      0.000       0.693       0.874\n",
            "YOJ           -0.0541      0.046     -1.181      0.238      -0.144       0.036\n",
            "CLNO          -0.1078      0.047     -2.270      0.023      -0.201      -0.015\n",
            "REASON_woe     1.3819      0.379      3.642      0.000       0.638       2.126\n",
            "==============================================================================\n"
          ],
          "name": "stdout"
        }
      ]
    },
    {
      "cell_type": "code",
      "metadata": {
        "colab": {
          "base_uri": "https://localhost:8080/"
        },
        "id": "2LDPN1_ifQs1",
        "outputId": "82417f6d-a6fa-4d74-a2ed-16995af0e858"
      },
      "source": [
        "y_pred = log_reg_woe.predict(X_test_woe.astype(float))\r\n",
        "roc_auc_score(y_test, y_pred)"
      ],
      "execution_count": null,
      "outputs": [
        {
          "output_type": "execute_result",
          "data": {
            "text/plain": [
              "0.5052532327586207"
            ]
          },
          "metadata": {
            "tags": []
          },
          "execution_count": 49
        }
      ]
    },
    {
      "cell_type": "markdown",
      "metadata": {
        "id": "Uv66FaTzkaEA"
      },
      "source": [
        "As we can see, in this case WoE does not help our model performance according to AUC. However, we do see significance for both WoE variables, unlike many categories of our dummy variables. As such, WoE can be more appropriate once the number of dummy variables could start to get very high. This high dimensionality could be a large concern for overfitting."
      ]
    },
    {
      "cell_type": "markdown",
      "metadata": {
        "id": "RtBM6bm4dTwe"
      },
      "source": [
        "# Feature Selection\n",
        "\n",
        "## Filter methods\n",
        "Filters are statistical methods which test variables one by one and their relevance to the task at hand. Since they are relatively easy to compute, they tend to be checked first. The next methods of feature selection require more computational power, therefore eliminating variables using filters first will save time later.\n",
        "\n",
        "Let's recall the chart we saw in class. The columns represent the target, is it continuous or discrete? The rows represent the variable to test, is it continuous or discrete/categorical? The best test is the one that corresponds to the right row/column.\n",
        "\n",
        "```\n",
        "Data Types      | CONTINUOUS TARGET     | DISCRETE TARGET\n",
        "-------------------------------------------------------------------------------\n",
        "CONTINUOUS VAR  | Pearson Correlation   | Fisher Score\n",
        "CATEGORICAL VAR | Fisher Score / ANOVA  | Chi-Square / Cramer's V/ IV/ Gain\n",
        "```\n",
        "\n"
      ]
    },
    {
      "cell_type": "markdown",
      "metadata": {
        "id": "l6ESJ7jCiOUa"
      },
      "source": [
        "### Pearson Correlation\r\n",
        "This is probably the most common correlation metric used. It is remarkable for its very simple implementation (covariance divided by the root of the product of each variance):\r\n",
        "\r\n",
        "$$ \\rho = \\frac{{}\\sum_{i=1}^{n} (x_i - \\overline{x})(y_i - \\overline{y})}\r\n",
        "{\\sqrt{\\sum_{i=1}^{n} (x_i - \\overline{x})^2 \\sum_{i=1}^{n} (y_i - \\overline{y})^2}} $$\r\n",
        "\r\n",
        "This correlation is best used when target and the variable to check are **both continuous**. The coefficient produced is bound between -1 and 1. It is recommended to only keep variables with a high correlation, however there is no rule that you can always follow. The closer that this coefficient is to 0, the less correlation between the variable and the target.\r\n",
        "\r\n"
      ]
    },
    {
      "cell_type": "markdown",
      "metadata": {
        "id": "i8nrsT1JiTSF"
      },
      "source": [
        "### Fisher Score\r\n",
        "This method of finding correlation can be used if **either** the target or variable in question is binary. It generalizes into an ANOVA test if there are multiple categories.\r\n",
        "\r\n",
        "$$ FS = \\frac{|\\bar{x}_G - \\bar{x}_B |}{\\sqrt{s^2_G + s^2_B}} $$\r\n",
        "\r\n",
        "### Analysis of Variance (ANOVA)\r\n",
        "ANOVA specifically compares the means of a **feature with more than 2 categories with a continuous target**. For example, we had the feature `JOB`. If our target was continuous, ANOVA would be testing if each category in `JOB` actually corresponded to a different mean in our target. \r\n",
        "\r\n",
        "So, we first find the sum of squares between categories:\r\n",
        "$$ SSD_B = \\sum_{i=1}^k \\sum_{j=1}^n \\left(\\bar{x}_i - \\bar{x}_.\\right)^2 = n\\sum_{i=1}^k \\left(\\bar{x}_i - \\bar{x}_.\\right)^2 $$\r\n",
        "\r\n",
        "We then find the sum of square difference within categories:\r\n",
        "$$ SSD_W = \\sum_{i=1}^k\\sum_{j=1}^n \\left(x_{ij} - \\bar{x}_i \\right)^2 $$\r\n",
        "\r\n",
        "Now we divide the $ SSD_B $ by its degree of freedom: k categories minus 1. This gives us the mean $ SSD_B $. And then we divide $ SSD_W $ by its degrees of freedom, number of observations minus k categories. This gives us the mean $ SSD_W $.\r\n",
        "\r\n",
        "$$ \\mu_B = \\frac{SSD_B}{k-1} $$\r\n",
        "\r\n",
        "$$ \\mu_W = \\frac{SSD_W}{n-k} $$\r\n",
        "\r\n",
        "Now we have the F-stastic that we can use.\r\n",
        "$$ F = \\frac{\\mu_B}{\\mu_W} $$\r\n",
        "\r\n",
        "We must compare this value to the [F-Distribution Table](http://www.socr.ucla.edu/Applets.dir/F_Table.html) and decide whether we want to include it in the analysis.\r\n",
        "\r\n"
      ]
    },
    {
      "cell_type": "markdown",
      "metadata": {
        "id": "fZeIjLqfiV_c"
      },
      "source": [
        "### Chi-Square Analysis\r\n",
        "\r\n",
        "Chi Square tests check whether events are dependent on one another. If there is no dependence between the target and the feature, it becomes less likely that it would actually would be meaninigful to include in the analysis.\r\n",
        "\r\n",
        "$$ \\chi^2 = \\sum{\\frac{(O_i - E_i)^2}{E_i}} $$\r\n",
        "\r\n",
        "Chi square is only used when **both the feature of interest and the target are both categorical variables**. You must use a [chi-square table](https://web.ma.utexas.edu/users/davis/375/popecol/tables/chisq.html) (this one is alpha = 0.10) to assess whether you would like to include this varible in the end or not. Remember that if one category has too little observations, this test's results may not be accurate.\r\n",
        "\r\n",
        "### Cramer's V\r\n",
        "\r\n",
        "This method is always bound between 0 and 1. Higher values are more predictive with a threshold of 0.1 being the most common.\r\n",
        "\r\n",
        "$$ V = \\sqrt{\\frac{\\chi^2}{n}} $$\r\n",
        "\r\n",
        "Cramer's V is based on Chi-Square, which means **both the feature of interest and the target are both categorical variables**. This value is always bound between 0 and 1. A higher value indicates higher preditive power. A threshold of 0.1 is common.\r\n",
        "\r\n",
        "\r\n"
      ]
    },
    {
      "cell_type": "markdown",
      "metadata": {
        "id": "CJrG1rRRiYQP"
      },
      "source": [
        "### Information Value\r\n",
        "\r\n",
        "This is the value that we calculated before in the section on Weight of Evidence. The main purpose of this value was to assess the preditive power of a **categorical variable and a binary target**. \r\n",
        "\r\n",
        "$$ IV = \\sum_{cat} \\bigg( \\big( p(\\text{BAD})_{cat} - p(\\text{GOOD})_{cat} \\big) * \\text{WOE}_{cat} \\bigg) $$\r\n",
        "\r\n",
        "Generally, the following tells you the usefulness of an IV variable's score:\r\n",
        "\r\n",
        "IV < 0.02: not predictive\r\n",
        "\r\n",
        "0.02 – 0.1: weak predictive ability\r\n",
        "\r\n",
        "0.1 – 0.3: medium predictive ability\r\n",
        "\r\n",
        "0.3 < IV: strong predictive ability\r\n",
        "\r\n"
      ]
    },
    {
      "cell_type": "markdown",
      "metadata": {
        "id": "vOGxNSE1iZWp"
      },
      "source": [
        "### Information Gain / Entropy\r\n",
        "\r\n",
        "Entropy normally means chaos. In machine learning, it is defined as an equal chance of selecting any category of the target variable. If you have a set of observations and there is an equal mix of all target labels in this set, entropy is maximized. If you can find some feature split to cause only one target label in each section of data, then entropy is minimized. Information Gain is the difference between the entropy before and the sum of entropy in each group after a split. As such, this method is most appropriate for **both a discrete feature and discrete target**.\r\n",
        "\r\n",
        "Entropy is calculated by the following formula:\r\n",
        "\r\n",
        "$$ E = -\\sum^C_i p_i \\cdot log_2(p_i) $$\r\n",
        "\r\n",
        "Then information gain can be defined as the sum of entropy in total minus entropy of each category separately (this is the same as entropy in a decision tree):\r\n",
        "\r\n",
        "$$ \\text{Info Gain} = E_\\text{total} - \\sum{E_\\text{category}}  $$\r\n",
        "\r\n",
        "It is up to you to decide how little information gain to tolerate to consider a variable to be helpful."
      ]
    },
    {
      "cell_type": "markdown",
      "metadata": {
        "id": "CdOVJ9QLilj9"
      },
      "source": [
        "Now that we know some of these methods, let's see what they look like in some code from scratch. Note that the function below is not made to deal with every type of data (especially if the target is a variable with multiple categories). However, we can see quite a lot of the decisions that you will need to make behind the scenes for it to all work."
      ]
    },
    {
      "cell_type": "code",
      "metadata": {
        "id": "m7K9uG4wCSWn"
      },
      "source": [
        "class filter_binary_target:\r\n",
        "    def __init__(self, df, target):\r\n",
        "        self.target = target\r\n",
        "        self.data_head = df.head()\r\n",
        "\r\n",
        "    def auto_filter_binary_target(self):\r\n",
        "        print('Data must be in a clean pandas DataFrame. Categorical variables must be of data type bool or category. Continuous variables must be int64 or float64.')\r\n",
        "        data_no_target = df.drop(columns=self.target)\r\n",
        "        columns = ['Data Type', 'Metric', 'Score']\r\n",
        "        index = data_no_target.columns\r\n",
        "        result = pd.DataFrame(index=index, columns=columns)\r\n",
        "\r\n",
        "        for col in data_no_target:\r\n",
        "            if data_no_target.dtypes[col] == 'bool' or data_no_target.dtypes[col].name == 'category':\r\n",
        "                result.loc[col, 'Data Type'] = \"discrete\"\r\n",
        "                result.loc[col, 'Metric'] = \"IV\"\r\n",
        "                result.loc[col, 'Score'] = self.IV_binary_target(feature=col)\r\n",
        "\r\n",
        "            if data_no_target.dtypes[col] == 'int64' or data_no_target.dtypes[col] == 'float64':\r\n",
        "                result.loc[col, 'Data Type'] = \"continuous\"\r\n",
        "                result.loc[col, 'Metric'] = \"Fisher\"\r\n",
        "                result.loc[col, 'Score'] = self.fisher_binary_target(feature=col)\r\n",
        "\r\n",
        "        return result\r\n",
        "\r\n",
        "    def IV_binary_target(self, feature):  # same code as used above\r\n",
        "        data = pd.DataFrame()\r\n",
        "    \r\n",
        "        data['Count'] = df[feature].value_counts()\r\n",
        "        data['Bad'] = df.groupby([feature])[self.target].sum()\r\n",
        "        data['Good'] = data['Count'] - data['Bad']\r\n",
        "    \r\n",
        "        data[\"Distribution Bad\"] = data[\"Bad\"] / data[\"Bad\"].sum()\r\n",
        "        data[\"Distribution Good\"] = data[\"Good\"] / data[\"Good\"].sum()\r\n",
        "    \r\n",
        "        data['WOE'] = np.log(data[\"Distribution Good\"] / data[\"Distribution Bad\"])\r\n",
        "        data.replace({\"WOE\": {np.inf: 0, -np.inf: 0}})\r\n",
        "\r\n",
        "        data[\"IV\"] = data[\"WOE\"] * (data[\"Distribution Good\"] - data[\"Distribution Bad\"])\r\n",
        "\r\n",
        "        iv = data[\"IV\"].sum()\r\n",
        "\r\n",
        "        return iv\r\n",
        "\r\n",
        "    def fisher_binary_target(self, feature):\r\n",
        "        mu_0 = df.groupby(df[self.target])[feature].mean()[0]\r\n",
        "        mu_1 = df.groupby(df[self.target])[feature].mean()[1]\r\n",
        "        var_0 = df.groupby(df[self.target])[feature].var()[0]\r\n",
        "        var_1 = df.groupby(df[self.target])[feature].var()[1]\r\n",
        "\r\n",
        "        num = abs(mu_0 - mu_1)\r\n",
        "        den = (var_0 + var_1) ** 0.5\r\n",
        "        score = num/den\r\n",
        "    \r\n",
        "        return score\r\n",
        "\r\n",
        "    def pearson(self, feature):  # since our target is binary, we actually don't need this. However, if you would like to expand this class, you can use this code\r\n",
        "        mean_feature = df[feature].mean()\r\n",
        "        mean_target = df[self.target].mean()\r\n",
        "        num = ((df[feature] - mean_feature)*(df[self.target] - mean_target)).sum()\r\n",
        "        den = (((df[feature] - mean_feature)**2).sum() * ((df[self.target] - mean_target)**2).sum()) ** .5\r\n",
        "        rho = num/den\r\n",
        "        return rho"
      ],
      "execution_count": null,
      "outputs": []
    },
    {
      "cell_type": "code",
      "metadata": {
        "colab": {
          "base_uri": "https://localhost:8080/",
          "height": 469
        },
        "id": "5mKFETU5BXA3",
        "outputId": "ca1f96a6-2a3f-42f8-f508-4e9ffe349b53"
      },
      "source": [
        "test = filter_binary_target(df=train_df, target=\"BAD\")\r\n",
        "\r\n",
        "test.auto_filter_binary_target()"
      ],
      "execution_count": null,
      "outputs": [
        {
          "output_type": "stream",
          "text": [
            "Data must be in a clean pandas DataFrame. Categorical variables must be of data type bool or category. Continuous variables must be int64 or float64.\n"
          ],
          "name": "stdout"
        },
        {
          "output_type": "execute_result",
          "data": {
            "text/html": [
              "<div>\n",
              "<style scoped>\n",
              "    .dataframe tbody tr th:only-of-type {\n",
              "        vertical-align: middle;\n",
              "    }\n",
              "\n",
              "    .dataframe tbody tr th {\n",
              "        vertical-align: top;\n",
              "    }\n",
              "\n",
              "    .dataframe thead th {\n",
              "        text-align: right;\n",
              "    }\n",
              "</style>\n",
              "<table border=\"1\" class=\"dataframe\">\n",
              "  <thead>\n",
              "    <tr style=\"text-align: right;\">\n",
              "      <th></th>\n",
              "      <th>Data Type</th>\n",
              "      <th>Metric</th>\n",
              "      <th>Score</th>\n",
              "    </tr>\n",
              "  </thead>\n",
              "  <tbody>\n",
              "    <tr>\n",
              "      <th>LOAN</th>\n",
              "      <td>continuous</td>\n",
              "      <td>Fisher</td>\n",
              "      <td>0.13309</td>\n",
              "    </tr>\n",
              "    <tr>\n",
              "      <th>MORTDUE</th>\n",
              "      <td>continuous</td>\n",
              "      <td>Fisher</td>\n",
              "      <td>0.0951093</td>\n",
              "    </tr>\n",
              "    <tr>\n",
              "      <th>VALUE</th>\n",
              "      <td>continuous</td>\n",
              "      <td>Fisher</td>\n",
              "      <td>0.106516</td>\n",
              "    </tr>\n",
              "    <tr>\n",
              "      <th>REASON</th>\n",
              "      <td>discrete</td>\n",
              "      <td>IV</td>\n",
              "      <td>0.00861846</td>\n",
              "    </tr>\n",
              "    <tr>\n",
              "      <th>JOB</th>\n",
              "      <td>discrete</td>\n",
              "      <td>IV</td>\n",
              "      <td>0.0778732</td>\n",
              "    </tr>\n",
              "    <tr>\n",
              "      <th>YOJ</th>\n",
              "      <td>continuous</td>\n",
              "      <td>Fisher</td>\n",
              "      <td>0.0979491</td>\n",
              "    </tr>\n",
              "    <tr>\n",
              "      <th>DEROG</th>\n",
              "      <td>continuous</td>\n",
              "      <td>Fisher</td>\n",
              "      <td>0.358356</td>\n",
              "    </tr>\n",
              "    <tr>\n",
              "      <th>DELINQ</th>\n",
              "      <td>continuous</td>\n",
              "      <td>Fisher</td>\n",
              "      <td>0.473846</td>\n",
              "    </tr>\n",
              "    <tr>\n",
              "      <th>CLAGE</th>\n",
              "      <td>continuous</td>\n",
              "      <td>Fisher</td>\n",
              "      <td>0.324169</td>\n",
              "    </tr>\n",
              "    <tr>\n",
              "      <th>NINQ</th>\n",
              "      <td>continuous</td>\n",
              "      <td>Fisher</td>\n",
              "      <td>0.275753</td>\n",
              "    </tr>\n",
              "    <tr>\n",
              "      <th>CLNO</th>\n",
              "      <td>continuous</td>\n",
              "      <td>Fisher</td>\n",
              "      <td>0.0116811</td>\n",
              "    </tr>\n",
              "    <tr>\n",
              "      <th>DEBTINC</th>\n",
              "      <td>continuous</td>\n",
              "      <td>Fisher</td>\n",
              "      <td>0.266897</td>\n",
              "    </tr>\n",
              "    <tr>\n",
              "      <th>DEROGzero</th>\n",
              "      <td>discrete</td>\n",
              "      <td>IV</td>\n",
              "      <td>0.33617</td>\n",
              "    </tr>\n",
              "  </tbody>\n",
              "</table>\n",
              "</div>"
            ],
            "text/plain": [
              "            Data Type  Metric       Score\n",
              "LOAN       continuous  Fisher     0.13309\n",
              "MORTDUE    continuous  Fisher   0.0951093\n",
              "VALUE      continuous  Fisher    0.106516\n",
              "REASON       discrete      IV  0.00861846\n",
              "JOB          discrete      IV   0.0778732\n",
              "YOJ        continuous  Fisher   0.0979491\n",
              "DEROG      continuous  Fisher    0.358356\n",
              "DELINQ     continuous  Fisher    0.473846\n",
              "CLAGE      continuous  Fisher    0.324169\n",
              "NINQ       continuous  Fisher    0.275753\n",
              "CLNO       continuous  Fisher   0.0116811\n",
              "DEBTINC    continuous  Fisher    0.266897\n",
              "DEROGzero    discrete      IV     0.33617"
            ]
          },
          "metadata": {
            "tags": []
          },
          "execution_count": 51
        }
      ]
    },
    {
      "cell_type": "markdown",
      "metadata": {
        "id": "NP5oQrbujCiI"
      },
      "source": [
        "So let's analyze this output. We cannot directly compare IV and Fisher scores but we can judge them relative to other variables calculated with the same score. We can see that of our 3 variables tested with IV, `REASON` is particularly weak and does not pass the 0.02 value threshold for IV. Therefore, we should eliminate it from the analysis. We can also see that of the variables for which we calculated a Fisher score, `CLNO`, `MORTDUE` and `YOJ` are all quite low.\r\n",
        "\r\n",
        "At this point we could choose to eliminate these variables. However, let's leave them in for a little check using wrapper methods. "
      ]
    },
    {
      "cell_type": "markdown",
      "metadata": {
        "id": "4zXNNUbCnf0-"
      },
      "source": [
        "## Wrappers\r\n",
        "Unlike filter methods which check one variable at a time with a statistical framework, wrappers try to iteratively build models in different ways to detect variables which most impact a model's performance. As you can imagine, there are two major ways to do this.\r\n",
        "1. You add variables one at a time\r\n",
        "2. You remove variables one at a time\r\n",
        "\r\n",
        "Each time you are double checking how the model performs with the inclusion or exclusion of a certain variable."
      ]
    },
    {
      "cell_type": "code",
      "metadata": {
        "id": "2JhrIoxBnyGO"
      },
      "source": [
        "# Let's first set the one-hot encoded version of the dataframe as the default\r\n",
        "X_train = X_train_dummies\r\n",
        "X_test = X_test_dummies"
      ],
      "execution_count": null,
      "outputs": []
    },
    {
      "cell_type": "code",
      "metadata": {
        "colab": {
          "base_uri": "https://localhost:8080/"
        },
        "id": "IT3g1p9JnJDQ",
        "outputId": "cb4073db-83e0-49e9-d39c-59a5e2e4ed4d"
      },
      "source": [
        "from sklearn.linear_model import LogisticRegression # We will use sklearn here as it is required in the next algorithms\r\n",
        "\r\n",
        "clf = LogisticRegression(random_state=888, max_iter=200)\r\n",
        "clf.fit(X_train,  np.ravel(y_train.values))\r\n",
        "y_pred = clf.predict(X_test)\r\n",
        "roc_auc_score(y_test, y_pred) # Note this value is different from the statsmodels value we found before for the same model earlier"
      ],
      "execution_count": null,
      "outputs": [
        {
          "output_type": "execute_result",
          "data": {
            "text/plain": [
              "0.6486889367816092"
            ]
          },
          "metadata": {
            "tags": []
          },
          "execution_count": 53
        }
      ]
    },
    {
      "cell_type": "markdown",
      "metadata": {
        "id": "yG9WXnd52GgW"
      },
      "source": [
        "### Stepwise regression (forward regression)\r\n",
        "We will start with the first wrapper method described above. We can easily create this with a for-loop, but we will spare you the complexities by using `mlxtend` to sequentially add our possible features to the model using the function `SequentialFeatureSelector`. The machine will add variables one at a time and double check the model's performance. Note that a `sklearn` model is required as input to this function.\r\n",
        "\r\n",
        "Note that unfortunately `sklearn` does not yet support stepwise regression on its own. However, if you'd like, there are ways to code it yourself through a loop that tries to find the best combination of variables through iterative model building like the [second answer to this StackExchange question](https://datascience.stackexchange.com/questions/937/does-scikit-learn-have-forward-selection-stepwise-regression-algorithm).\r\n",
        "\r\n",
        "Let's use the algorithm from `mlextend` and check whether it corresponds to the features that our filter model also chose.\r\n",
        "\r\n"
      ]
    },
    {
      "cell_type": "code",
      "metadata": {
        "id": "GNyrHxx-u6ws",
        "colab": {
          "base_uri": "https://localhost:8080/"
        },
        "outputId": "253f4f30-b00e-445b-a7bc-17bd0e0bb160"
      },
      "source": [
        "from mlxtend.feature_selection import SequentialFeatureSelector as SFS\r\n",
        "\r\n",
        "clf = LogisticRegression(random_state=888, max_iter=200)\r\n",
        "sfs = SFS(clf, \r\n",
        "           k_features=(3,17), \r\n",
        "           forward=True, \r\n",
        "           floating=False, \r\n",
        "           scoring='accuracy',\r\n",
        "           cv=5)\r\n",
        "\r\n",
        "sfs = sfs.fit(X_train, np.ravel(y_train.values))"
      ],
      "execution_count": null,
      "outputs": [
        {
          "output_type": "stream",
          "text": [
            "/usr/local/lib/python3.6/dist-packages/sklearn/externals/joblib/__init__.py:15: FutureWarning: sklearn.externals.joblib is deprecated in 0.21 and will be removed in 0.23. Please import this functionality directly from joblib, which can be installed with: pip install joblib. If this warning is raised when loading pickled models, you may need to re-serialize those models with scikit-learn 0.21+.\n",
            "  warnings.warn(msg, category=FutureWarning)\n"
          ],
          "name": "stderr"
        }
      ]
    },
    {
      "cell_type": "code",
      "metadata": {
        "colab": {
          "base_uri": "https://localhost:8080/"
        },
        "id": "67tQuOkZEwUF",
        "outputId": "6f6a2639-1e04-474f-f871-cad19b5c7168"
      },
      "source": [
        "print('best combination (ACC: %.3f): %s\\n' % (sfs.k_score_, sfs.k_feature_names_))"
      ],
      "execution_count": null,
      "outputs": [
        {
          "output_type": "stream",
          "text": [
            "best combination (ACC: 0.842): ('LOAN', 'MORTDUE', 'VALUE', 'YOJ', 'DEROG', 'DELINQ', 'CLAGE', 'NINQ', 'CLNO', 'DEBTINC', 'REASON_IsMissing', 'JOB_Office', 'JOB_Other', 'JOB_ProfExe', 'JOB_Self')\n",
            "\n"
          ],
          "name": "stdout"
        }
      ]
    },
    {
      "cell_type": "markdown",
      "metadata": {
        "id": "1h6iHa_tk9Tw"
      },
      "source": [
        "We can see from this regression, some of the variables that were candidates for elimination according to our filter method were actually kept. This may be because there are some variable interaction which we cannot observe using filter methods. It would be up to the analyst to try all combinations and determine the one that works best for the data.\r\n",
        "\r\n",
        "We can plot the percent correctly classified vs. the number of selected features to see the algorithm's findings."
      ]
    },
    {
      "cell_type": "code",
      "metadata": {
        "colab": {
          "base_uri": "https://localhost:8080/",
          "height": 295
        },
        "id": "BMyMdlFigd7D",
        "outputId": "eeb28a3e-e626-4729-8201-b4865651a889"
      },
      "source": [
        "from mlxtend.plotting import plot_sequential_feature_selection as plot_sfs\r\n",
        "\r\n",
        "plot_sfs(sfs.get_metric_dict())\r\n",
        "plt.title('Sequential Forward Selection')\r\n",
        "\r\n",
        "plt.show()"
      ],
      "execution_count": null,
      "outputs": [
        {
          "output_type": "display_data",
          "data": {
            "image/png": "[encoded data removed]",
            "text/plain": [
              "<Figure size 432x288 with 1 Axes>"
            ]
          },
          "metadata": {
            "tags": [],
            "needs_background": "light"
          }
        }
      ]
    },
    {
      "cell_type": "markdown",
      "metadata": {
        "id": "7SODgWTsmyN7"
      },
      "source": [
        "Lastly, let's check the AUC of the test set to see how this selection of features did on unseen data.\r\n",
        "\r\n"
      ]
    },
    {
      "cell_type": "code",
      "metadata": {
        "id": "idNcMxFUiFjP"
      },
      "source": [
        "X_train_sfs = sfs.transform(X_train)\r\n",
        "X_test_sfs = sfs.transform(X_test)\r\n",
        "\r\n",
        "clf.fit(X_train_sfs, np.ravel(y_train.values))\r\n",
        "y_pred = clf.predict(X_test_sfs)"
      ],
      "execution_count": null,
      "outputs": []
    },
    {
      "cell_type": "code",
      "metadata": {
        "colab": {
          "base_uri": "https://localhost:8080/"
        },
        "id": "acdZMw5EhkmI",
        "outputId": "db0094f6-d9f0-417c-c90a-f1e6ddf305f8"
      },
      "source": [
        "roc_auc_score(y_test, y_pred)"
      ],
      "execution_count": null,
      "outputs": [
        {
          "output_type": "execute_result",
          "data": {
            "text/plain": [
              "0.6475754310344828"
            ]
          },
          "metadata": {
            "tags": []
          },
          "execution_count": 58
        }
      ]
    },
    {
      "cell_type": "markdown",
      "metadata": {
        "id": "7zBulcXpnhkx"
      },
      "source": [
        "### Recursive feature elimination (backward selection)\r\n",
        "\r\n",
        "Another extremely useful variable selection method is backward selection. We can actually implement it very easily using the `RFECV` function from `sklearn`. You can view the documentation for this function [here](https://scikit-learn.org/stable/modules/generated/sklearn.feature_selection.RFECV.html#sklearn.feature_selection.RFECV). Let's see if it selects similar variables as our last wrapper model and the filter model."
      ]
    },
    {
      "cell_type": "code",
      "metadata": {
        "colab": {
          "base_uri": "https://localhost:8080/"
        },
        "id": "GXkJo-MFHr6s",
        "outputId": "be7ef7e0-3ec4-4b64-a690-bc40363745b0"
      },
      "source": [
        "from sklearn.feature_selection import RFECV\r\n",
        "rfecv = RFECV(estimator=clf, step=1, cv=5, scoring='accuracy')\r\n",
        "X_train_new = rfecv.fit(X_train,  np.ravel(y_train.values))\r\n",
        "\r\n",
        "print('Optimal number of features: {}'.format(rfecv.n_features_))"
      ],
      "execution_count": null,
      "outputs": [
        {
          "output_type": "stream",
          "text": [
            "Optimal number of features: 10\n"
          ],
          "name": "stdout"
        }
      ]
    },
    {
      "cell_type": "code",
      "metadata": {
        "colab": {
          "base_uri": "https://localhost:8080/"
        },
        "id": "z03KeUvydxnk",
        "outputId": "15b8c058-7309-4f79-b919-e98e54007286"
      },
      "source": [
        "X_train.columns[rfecv.support_]"
      ],
      "execution_count": null,
      "outputs": [
        {
          "output_type": "execute_result",
          "data": {
            "text/plain": [
              "Index(['DEROG', 'DELINQ', 'CLAGE', 'NINQ', 'DEBTINC', 'DEROGzero',\n",
              "       'REASON_HomeImp', 'JOB_Office', 'JOB_Sales', 'JOB_Self'],\n",
              "      dtype='object')"
            ]
          },
          "metadata": {
            "tags": []
          },
          "execution_count": 60
        }
      ]
    },
    {
      "cell_type": "markdown",
      "metadata": {
        "id": "j8Lu3KhPlv9U"
      },
      "source": [
        "In this regression, different variables were dropped and again they don't correspond to the candidates we found through our filter process. Again. this may be caused by some variable interaction which we cannot observe by using filter methods. It is up to your discretion to experiment with combinations and determine the best course of action to solve you problem.\r\n",
        "\r\n",
        "We can plot the percent correctly classified vs. the number of selected features to see the algorithm's findings."
      ]
    },
    {
      "cell_type": "code",
      "metadata": {
        "colab": {
          "base_uri": "https://localhost:8080/",
          "height": 295
        },
        "id": "hMsx5JCtgQaa",
        "outputId": "fc857685-bc17-49e3-f0e4-e169f7af50f6"
      },
      "source": [
        "plt.title('Recursive Feature Elimination with Cross-Validation')\r\n",
        "plt.xlabel('Number of Features')\r\n",
        "plt.ylabel('Performance (% Correctly Classified)')\r\n",
        "plt.plot(range(1, len(rfecv.grid_scores_) + 1), rfecv.grid_scores_, linewidth=3)\r\n",
        "\r\n",
        "plt.show()"
      ],
      "execution_count": null,
      "outputs": [
        {
          "output_type": "display_data",
          "data": {
            "image/png": "[encoded data removed]",
            "text/plain": [
              "<Figure size 432x288 with 1 Axes>"
            ]
          },
          "metadata": {
            "tags": [],
            "needs_background": "light"
          }
        }
      ]
    },
    {
      "cell_type": "markdown",
      "metadata": {
        "id": "yl_wNMfSm81F"
      },
      "source": [
        "Lastly, let's check the mean error on the test set to see how this selection of features did on unseen data."
      ]
    },
    {
      "cell_type": "code",
      "metadata": {
        "colab": {
          "base_uri": "https://localhost:8080/"
        },
        "id": "e3BSvn75KQXv",
        "outputId": "8fdb2332-aa34-4ec0-bd3a-4e10fc411c9b"
      },
      "source": [
        "y_pred = rfecv.predict(X_test)\r\n",
        "\r\n",
        "roc_auc_score(y_test, y_pred)"
      ],
      "execution_count": null,
      "outputs": [
        {
          "output_type": "execute_result",
          "data": {
            "text/plain": [
              "0.6594647988505746"
            ]
          },
          "metadata": {
            "tags": []
          },
          "execution_count": 62
        }
      ]
    },
    {
      "cell_type": "markdown",
      "metadata": {
        "id": "qhqYDtCgmeky"
      },
      "source": [
        "# Importing from other scripts\r\n",
        "\r\n",
        "Some notebooks can get really long which makes them a bit more tedious to read. If you have already coded something in another notebook and want to refer to it, you can simply import it as a script. For example, we have created the file rf_test_auc.py and inside we have a function. This function will perform a train-test split on data, use the training data to build a random forest and finally use the test set to calculate the AUC. Using this other file, we can simply import the function that we want and run the function to get our results."
      ]
    },
    {
      "cell_type": "code",
      "metadata": {
        "colab": {
          "base_uri": "https://localhost:8080/",
          "height": 316
        },
        "id": "s6qGDX1dET9F",
        "outputId": "4f56fc38-7102-4d6a-9d78-5aa551cf07d7"
      },
      "source": [
        "from rf_test_auc import RF_test_AUC # this is easiest when the .py file is in your working directory\r\n",
        "RF_test_AUC(X_train, y_train, X_test, y_test, n_estimators = 150)"
      ],
      "execution_count": null,
      "outputs": [
        {
          "output_type": "error",
          "ename": "ModuleNotFoundError",
          "evalue": "ignored",
          "traceback": [
            "\u001b[0;31m---------------------------------------------------------------------------\u001b[0m",
            "\u001b[0;31mModuleNotFoundError\u001b[0m                       Traceback (most recent call last)",
            "\u001b[0;32m<ipython-input-63-8cf3812f429a>\u001b[0m in \u001b[0;36m<module>\u001b[0;34m()\u001b[0m\n\u001b[0;32m----> 1\u001b[0;31m \u001b[0;32mfrom\u001b[0m \u001b[0mrf_test_auc\u001b[0m \u001b[0;32mimport\u001b[0m \u001b[0mRF_test_AUC\u001b[0m \u001b[0;31m# this is easiest when the .py file is in your working directory\u001b[0m\u001b[0;34m\u001b[0m\u001b[0;34m\u001b[0m\u001b[0m\n\u001b[0m\u001b[1;32m      2\u001b[0m \u001b[0mRF_test_AUC\u001b[0m\u001b[0;34m(\u001b[0m\u001b[0mX_train\u001b[0m\u001b[0;34m,\u001b[0m \u001b[0my_train\u001b[0m\u001b[0;34m,\u001b[0m \u001b[0mX_test\u001b[0m\u001b[0;34m,\u001b[0m \u001b[0my_test\u001b[0m\u001b[0;34m,\u001b[0m \u001b[0mn_estimators\u001b[0m \u001b[0;34m=\u001b[0m \u001b[0;36m150\u001b[0m\u001b[0;34m)\u001b[0m\u001b[0;34m\u001b[0m\u001b[0;34m\u001b[0m\u001b[0m\n",
            "\u001b[0;31mModuleNotFoundError\u001b[0m: No module named 'rf_test_auc'",
            "",
            "\u001b[0;31m---------------------------------------------------------------------------\u001b[0;32m\nNOTE: If your import is failing due to a missing package, you can\nmanually install dependencies using either !pip or !apt.\n\nTo view examples of installing some common dependencies, click the\n\"Open Examples\" button below.\n\u001b[0;31m---------------------------------------------------------------------------\u001b[0m\n"
          ]
        }
      ]
    },
    {
      "cell_type": "markdown",
      "metadata": {
        "id": "mHpyPWJQFP8m"
      },
      "source": [
        "Now you can keep your notebooks nice and neat by leaving out some functions that you had to code yourself whose inner workings are not the most critical for your readers to see right away.\r\n",
        "\r\n",
        "Note that you can use files which are not in your working directory, however this is a bit more complicated. You can find tutorials on how to do this using many tutorials online such as [this one](www.youtube.com/watch?v=A7E18apPQJs). "
      ]
    },
    {
      "cell_type": "markdown",
      "metadata": {
        "id": "W79hHbzYqC5H"
      },
      "source": [
        "# Pipelines\r\n",
        "\r\n",
        "After we have decided how we would like our finalized data to look like in the end, we will likely have to repeat the modifications to our data set several times over (for the train set, test set, new batches of data etc...). In this case, it can be very useful to set up a pipeline which makes the same adjustments to raw data."
      ]
    },
    {
      "cell_type": "code",
      "metadata": {
        "id": "8nBRybPt8PMb"
      },
      "source": [
        "# Let's reload the raw data\r\n",
        "\r\n",
        "data_url = 'https://raw.githubusercontent.com/Humboldt-WI/bads/master/data/hmeq_prepared.csv' \r\n",
        "df = pd.read_csv(data_url)\r\n",
        "\r\n",
        "# Extract target variable and feature matrix \r\n",
        "X = df.drop(['BAD'], axis=1) \r\n",
        "y = df[['BAD']]\r\n",
        "\r\n",
        "X_train, X_test, y_train, y_test = train_test_split(X, y, test_size=.2)"
      ],
      "execution_count": null,
      "outputs": []
    },
    {
      "cell_type": "code",
      "metadata": {
        "id": "EXhVqwvsY038"
      },
      "source": [
        "# Now let's use a pipeline to transform our data using some of what we have learned above\r\n",
        "\r\n",
        "from sklearn.pipeline import Pipeline\r\n",
        "from sklearn.externals import joblib\r\n",
        "from sklearn.ensemble import RandomForestClassifier\r\n",
        "from sklearn.preprocessing import OneHotEncoder\r\n",
        "from sklearn.compose import ColumnTransformer\r\n",
        "\r\n",
        "# If you only want a transformation on select columns, it is good to first use ColumnTransformer\r\n",
        "transformer = ColumnTransformer(transformers=[('cat', OneHotEncoder(), [3, 4]), # ('step_name', fun(), list_cols) always follow this format for each step of the transfomer\r\n",
        "                                              ('scl', StandardScaler(), [0, 1, 2, 5, 6, 7, 8, 9, 10])], # Note that below RF is used as a classifier, thus, scaling is not exactly necessary\r\n",
        "                                              remainder='passthrough')\r\n",
        "\r\n",
        "# Construct some pipelines\r\n",
        "pipe = Pipeline([\r\n",
        "                ('t', transformer), # ('step_name', transfomer) always follow this format for transformers in the pipeline\r\n",
        "                ('clf', RandomForestClassifier()) # ('step_name', fun()) add parantheses for other functions\r\n",
        "                ])"
      ],
      "execution_count": null,
      "outputs": []
    },
    {
      "cell_type": "code",
      "metadata": {
        "id": "sm3ULAv0Y4ZF"
      },
      "source": [
        "pipe.fit(X_train, y_train.values.ravel())\r\n",
        "y_pred = pipe.predict(X_test)"
      ],
      "execution_count": null,
      "outputs": []
    },
    {
      "cell_type": "code",
      "metadata": {
        "id": "sruOYyvJ-2CL"
      },
      "source": [
        "roc_auc_score(y_test, y_pred) # check AUC"
      ],
      "execution_count": null,
      "outputs": []
    },
    {
      "cell_type": "markdown",
      "metadata": {
        "id": "cqjuoJR6dTwe"
      },
      "source": [
        "# Conclusion\n",
        "\n",
        "The  demos above should have provided some ideas for useful transformations and feature selection. In the practice questions, we will try to use some of these in the HMEQ dataset to see effect they have on prediction values. Remember again there is no single way to apply these steps to all types of data. You'll have to experiment and find which combination works best for your problem. Happy coding!\n",
        "\n",
        "\n"
      ]
    },
    {
      "cell_type": "markdown",
      "metadata": {
        "id": "Xa5rw9679ooO"
      },
      "source": [
        "# Overview table\r\n",
        "\r\n",
        "| Goal | Possible Code |\r\n",
        "| --- | --- |\r\n",
        "| Get data types of each column | `df.dtypes` |\r\n",
        "| Select all float columns of a df | `df.select_dtypes(include='float64')` |\r\n",
        "| Create min-max scaling or normalization object | `MinMaxScaler()` |\r\n",
        "| Create standardization object | `StandardScaler()` |\r\n",
        "| Modify `X` with a Box Cox transformation (positive values only) | `stats.boxcox(X) ` |\r\n",
        "| Modify `X` with a Yeo Johnson transformation | `stats.yeojohnson(X)` |\r\n",
        "| Test if a variable is normally distributed (p-val > 0.05 points to normality) | `statsnormaltest(X)` |\r\n",
        "| Create QQ plot for `X` (lines should correspond) | `qqplot(feature, line='s')` |\r\n",
        "| Get WoE weights of `feature_i` | `scorecardpy.woebin(train_df, y=\"target\", x='feature_i')` |\r\n",
        "| Plot weights of `woebin` | `scorecardpy.woebin_plot(woebin_obj)` |\r\n",
        "| Replace the feature calculated in `woebin` with its results| `scorecardpy.woebin_ply(X_train, woe)` |\r\n",
        "| Pearson's coefficient | `stats.pearsonr(X, y)` |\r\n",
        "| Calculate Chi2 value for X and y | `chi2(X, y)` |\r\n",
        "| Get dummy values for `feature` with prefix `name_` | `pd.get_dummies(X.feature, prefix='name')` |\r\n",
        "| Create forward variable selection object | `SequentialFeatureSelector()` |\r\n",
        "| Returns `X` of only selected features | `sfs_model.transform(X_train)` |\r\n",
        "| Create backward variable selection object | `RFECV()` |\r\n",
        "| Use fitted RFECV model to predict on test set | `rfecv_model.predict(X_test)` |\r\n",
        "| Create object which uses `fun` on cols in `col_list` and keeps unchanged columns | `ColumnTransformer(transformers=('step_name', fun(), list_cols), remainder='passthrough')` ** |\r\n",
        "| Create pipeline object | `Pipeline(('step_name', fun))` ***|\r\n",
        "| Pass X_train through pipeline for fitting | `pipe_name.fit(X_train, y_train)`|\r\n",
        "| Pass X_test through pipeline for prediction | `pipe_name.fit(X_test)`|\r\n",
        "\r\n",
        "\r\n",
        "** In `ColumnTransformer`, you can add a list of transformers of that format in the `transformer` argument\r\n",
        "\r\n",
        "*** In `Pipeline`, you can add a list of steps of that format as the first argument. It is encouraged to put your classifier in here as the last step"
      ]
    },
    {
      "cell_type": "markdown",
      "metadata": {
        "id": "AMI_yMHEdTwf"
      },
      "source": [
        "# Exercises\n",
        "\n",
        "## Power transformations \n",
        "- Box-Cox (BC) and Yeo-Johnson (YJ) transformation exhibit hyperparameter $\\lambda$. Implement a custom function that receives a feature as input and grid-searches the best value of $\\lambda$. The caller should be able to specify whether s/he wants to use BC or YJ. Your function can assess the merit of a value of $\\lambda$ by means of the function `normaltest()`, the use of which we illustrated above. The more normal a feature after the transformation, the better the value of $\\lambda$. \n",
        "\n",
        "- Write another custom function `best_transform()`. Given a DataFrame with input data, your function should identify the best power transformation for each numerical feature. Note that using the raw feature without transformation is also possible and might be the best approach. Also remember to tune $\\lambda$ when needed using your solution to the previous exercise. Try out your function using the HMEQ data. Display the best transformation for each feature.\n",
        "\n",
        "**Optional** \n",
        "- Till here, we have assessed the merit of a transformation by means of checking normality using `normaltest()`. Arguably, a better approach for predictive modeling would be to test if a model trained on the transformed data generates better predictions. To implement this logic, you need a custom function that implements our standard predictive modeling pipeline (see, e.g., Tutorial 5 or Tutorial 7) to estimates the predictive performance of a model, say logistic regression, on an input data set. Once you have this function, you can revise your solutions to the previous exercises such that they call the function just implemented instead of `normaltest()`. \n",
        "- Test your function using the HMEQ data set\n",
        "- Perform a final test what approach gives better results (in terms of AUC on HMEQ) optimizing feature transformations using `normaltest()` or by assessing predictive accuracy. *For the experts, make sure to not overfit* \n",
        "---\n",
        "## Weight of evidence coding (challenging)\n",
        "A standard risk modeling workflow in banking is the following\n",
        "- Discretize all numeric features in a data set\n",
        "- Optimize categorical features by re-grouping/merging category levels\n",
        "- WOE transform all categorical variables\n",
        "- Build logistic regression-based scorecard\n",
        "\n",
        "Your task is to implement this workflow. The previous demos provide much of the functionality that you need. However, some extensions are needed and you have to put everything together. To keep things manageable, let's agree on the following heuristic:\n",
        "Implement step 1 and step 2 by fitting a shallow tree to the data (e.g., at most 5 leaf nodes). This will work with numerical and categorical features alike. The leaf nodes of your shallow tree represent the new, re-grouped, optimized categorical features. After this tree-based transformation, you can WOE-encoded the whole data set in one go.\n",
        "\n",
        "Compare a logit model using your transformed data set to one from our standard version of the data [add link here]\n",
        "\n",
        "## Feature selection\n",
        "- We discussed that sklearn does not offer stepwise regression. Implement a stepwise logit using AIC from scratch. To that end, you will need to decide on a search direction (forward or backward) and scoring criterion. The latter is needed for selecting the next feature to be added to or deleted from a model. Understanding the role of the search criterion is a very good learning outcome in its own right. There is probably no single correct or best solution how to score candidate features. Try to come up with a sensible approach.  "
      ]
    },
    {
      "cell_type": "code",
      "metadata": {
        "id": "FKfKzJUiLjv2"
      },
      "source": [
        "def find_best_lambda(var, transformer_type=\"yj\", show_eval=True):\r\n",
        "\r\n",
        "    pvals = []\r\n",
        "\r\n",
        "    if transformer_type==\"bc\":\r\n",
        "        try:\r\n",
        "            assert (var > 0).all()  # Box Cox is only defined for variables higher than 0\r\n",
        "        except AssertionError:\r\n",
        "            raise ValueError(\"Feature values must be strictly positive\")\r\n",
        "\r\n",
        "        var_mod = np.log(var)  # check special case of coefficient = 0\r\n",
        "        test_stat = stats.normaltest(var_mod)\r\n",
        "        pvals.append(test_stat[1])  # only append p_val\r\n",
        "\r\n",
        "        coef_range = [0] + np.arange(.05, 2, 0.05).tolist()\r\n",
        "\r\n",
        "        for val in coef_range:\r\n",
        "            var_mod = (var ** val - 1) / val\r\n",
        "            test_stat = stats.normaltest(var_mod)\r\n",
        "            pvals.append(test_stat[1])\r\n",
        "\r\n",
        "    if transformer_type==\"yj\":\r\n",
        "\r\n",
        "        var_mod = np.empty_like(var)\r\n",
        "        coef_range = [0, 2] + np.arange(.05, 2, 0.05).tolist() + np.arange(2.05, 4, 0.05).tolist()\r\n",
        "\r\n",
        "        # check special case of coefficient = 0\r\n",
        "        mask = (var >= 0)\r\n",
        "        var_mod[mask] = np.log(var[mask] + 1)\r\n",
        "        var_mod[~mask] = -((-var[~mask] + 1)**2 - 1) / 2\r\n",
        "\r\n",
        "        test_stat = stats.normaltest(var_mod)\r\n",
        "        pvals.append(test_stat[1])\r\n",
        "\r\n",
        "        # check special case of coefficient = 2\r\n",
        "        mask = (var >= 0)\r\n",
        "        var_mod[mask] = ((var[mask] + 1)**2 - 1) / 2\r\n",
        "        var_mod[~mask] = -np.log(-var[~mask] + 1)\r\n",
        "\r\n",
        "        test_stat = stats.normaltest(var_mod)\r\n",
        "        pvals.append(test_stat[1])\r\n",
        "\r\n",
        "        coef_range = [0, 2] + np.arange(.05, 1.95, 0.05).tolist()\r\n",
        "\r\n",
        "        for val in coef_range:\r\n",
        "            mask = (var >= 0)\r\n",
        "            var_mod[mask] = ((var[mask] + 1)**val - 1) / val\r\n",
        "            var_mod[~mask] = -((-var[~mask] + 1)**(2 - val) - 1) / (2 - val)\r\n",
        "\r\n",
        "        test_stat = stats.normaltest(var_mod)\r\n",
        "        pvals.append(test_stat[1])\r\n",
        "\r\n",
        "    max_ind = pvals.index(max(pvals))\r\n",
        "    coef_range[max_ind]\r\n",
        "    original_p = stats.normaltest(var)\r\n",
        "\r\n",
        "    if show_eval:\r\n",
        "        print(\"The ideal is a p-value of 0.05 in the normal test.\")\r\n",
        "        print(\"The original p-value for the normal test was: {}\".format(original_p[1]))\r\n",
        "        print(\"The maximum p-value for the normal test was: {}\".format(max(pvals)))\r\n",
        "\r\n",
        "        print(\"The optimal lambda in \" + transformer_type+ \" transformation is: {}\".format(coef_range[max_ind]))\r\n",
        "\r\n",
        "    return coef_range[max_ind]"
      ],
      "execution_count": null,
      "outputs": []
    },
    {
      "cell_type": "code",
      "metadata": {
        "id": "iS4yO765o409"
      },
      "source": [
        "def best_transform(df):\r\n",
        "    \r\n",
        "    numeric_df = df.select_dtypes(include='float64')\r\n",
        "    \r\n",
        "    columns = ['Best Transformation', 'If BC/YJ Lambda Val']\r\n",
        "    index = numeric_df.columns\r\n",
        "    result = pd.DataFrame(index=index, columns=columns)\r\n",
        "    \r\n",
        "    method = ['No Transformation', 'YJ', 'log', 'BC']\r\n",
        "\r\n",
        "    for col in numeric_df:\r\n",
        "        pvals = []\r\n",
        "        coefs = [\"N/A\"]\r\n",
        "\r\n",
        "        pval = stats.normaltest(numeric_df[col])\r\n",
        "        pvals.append(pval[1])\r\n",
        "        \r\n",
        "        best_yj = find_best_lambda(numeric_df[col], transformer_type=\"yj\", show_eval=False)\r\n",
        "        var_yj = yeo_johnson_transform(numeric_df[col], power=best_yj)\r\n",
        "        pval_yj = stats.normaltest(var_yj)\r\n",
        "        pvals.append(pval_yj[1])\r\n",
        "        coefs.append(best_yj)\r\n",
        "        \r\n",
        "        if min(numeric_df[col]) <= 0:\r\n",
        "            var_translated = numeric_df[col] - min(numeric_df[col]) + 1\r\n",
        "            var_log = np.log(var_translated)\r\n",
        "            pval_log = stats.normaltest(var_log)\r\n",
        "            pvals.append(pval_log[1])\r\n",
        "            coefs.append(\"N/A\")\r\n",
        "        else:\r\n",
        "            var_log = np.log(numeric_df[col])\r\n",
        "            pval_log = stats.normaltest(var_log)\r\n",
        "            pvals.append(pval_log[1])\r\n",
        "            coefs.append(\"N/A\")\r\n",
        "\r\n",
        "        if (numeric_df[col] > 0).all():\r\n",
        "            best_bc = find_best_lambda(numeric_df[col], transformer_type=\"bc\", show_eval=False)\r\n",
        "            var_bc = box_cox_transform(numeric_df[col], power=best_bc)\r\n",
        "            pval_bc = stats.normaltest(var_bc)\r\n",
        "            pvals.append(pval_bc[1])\r\n",
        "            coefs.append(best_bc)\r\n",
        "        \r\n",
        "        max_ind = pvals.index(max(pvals))\r\n",
        "        result.loc[col, 'Best Transformation'] = method[max_ind]\r\n",
        "        result.loc[col, 'If BC/YJ Lambda Val'] = coefs[max_ind]\r\n",
        "    \r\n",
        "    return result"
      ],
      "execution_count": null,
      "outputs": []
    },
    {
      "cell_type": "code",
      "metadata": {
        "colab": {
          "base_uri": "https://localhost:8080/",
          "height": 359
        },
        "id": "BFungZCWQVN4",
        "outputId": "68535b83-df67-4baa-c0e2-ab2f0761b7f8"
      },
      "source": [
        "best_transform(df)"
      ],
      "execution_count": null,
      "outputs": [
        {
          "output_type": "execute_result",
          "data": {
            "text/html": [
              "<div>\n",
              "<style scoped>\n",
              "    .dataframe tbody tr th:only-of-type {\n",
              "        vertical-align: middle;\n",
              "    }\n",
              "\n",
              "    .dataframe tbody tr th {\n",
              "        vertical-align: top;\n",
              "    }\n",
              "\n",
              "    .dataframe thead th {\n",
              "        text-align: right;\n",
              "    }\n",
              "</style>\n",
              "<table border=\"1\" class=\"dataframe\">\n",
              "  <thead>\n",
              "    <tr style=\"text-align: right;\">\n",
              "      <th></th>\n",
              "      <th>Best Transformation</th>\n",
              "      <th>If BC/YJ Lambda Val</th>\n",
              "    </tr>\n",
              "  </thead>\n",
              "  <tbody>\n",
              "    <tr>\n",
              "      <th>LOAN</th>\n",
              "      <td>BC</td>\n",
              "      <td>0.25</td>\n",
              "    </tr>\n",
              "    <tr>\n",
              "      <th>MORTDUE</th>\n",
              "      <td>BC</td>\n",
              "      <td>0.45</td>\n",
              "    </tr>\n",
              "    <tr>\n",
              "      <th>VALUE</th>\n",
              "      <td>BC</td>\n",
              "      <td>0.2</td>\n",
              "    </tr>\n",
              "    <tr>\n",
              "      <th>YOJ</th>\n",
              "      <td>YJ</td>\n",
              "      <td>0</td>\n",
              "    </tr>\n",
              "    <tr>\n",
              "      <th>DEROG</th>\n",
              "      <td>No Transformation</td>\n",
              "      <td>N/A</td>\n",
              "    </tr>\n",
              "    <tr>\n",
              "      <th>DELINQ</th>\n",
              "      <td>No Transformation</td>\n",
              "      <td>N/A</td>\n",
              "    </tr>\n",
              "    <tr>\n",
              "      <th>CLAGE</th>\n",
              "      <td>No Transformation</td>\n",
              "      <td>N/A</td>\n",
              "    </tr>\n",
              "    <tr>\n",
              "      <th>NINQ</th>\n",
              "      <td>YJ</td>\n",
              "      <td>0</td>\n",
              "    </tr>\n",
              "    <tr>\n",
              "      <th>CLNO</th>\n",
              "      <td>No Transformation</td>\n",
              "      <td>N/A</td>\n",
              "    </tr>\n",
              "    <tr>\n",
              "      <th>DEBTINC</th>\n",
              "      <td>BC</td>\n",
              "      <td>1.45</td>\n",
              "    </tr>\n",
              "  </tbody>\n",
              "</table>\n",
              "</div>"
            ],
            "text/plain": [
              "        Best Transformation If BC/YJ Lambda Val\n",
              "LOAN                     BC                0.25\n",
              "MORTDUE                  BC                0.45\n",
              "VALUE                    BC                 0.2\n",
              "YOJ                      YJ                   0\n",
              "DEROG     No Transformation                 N/A\n",
              "DELINQ    No Transformation                 N/A\n",
              "CLAGE     No Transformation                 N/A\n",
              "NINQ                     YJ                   0\n",
              "CLNO      No Transformation                 N/A\n",
              "DEBTINC                  BC                1.45"
            ]
          },
          "metadata": {
            "tags": []
          },
          "execution_count": 105
        }
      ]
    },
    {
      "cell_type": "code",
      "metadata": {
        "id": "P0vn8gvlWcvx"
      },
      "source": [
        "def best_transform(df):\r\n",
        "    \r\n",
        "    numeric_df = df.select_dtypes(include='float64')\r\n",
        "    \r\n",
        "    columns = ['Best Trans.', 'If BC/YJ Lambda Val']\r\n",
        "    index = numeric_df.columns\r\n",
        "    result = pd.DataFrame(index=index, columns=columns)\r\n",
        "    \r\n",
        "    method = ['No Transformation', 'YJ', 'log', 'BC']\r\n",
        "\r\n",
        "    for col in numeric_df:\r\n",
        "        pvals = []\r\n",
        "        coefs = [\"N/A\"]\r\n",
        "\r\n",
        "        pval = stats.normaltest(numeric_df[col])\r\n",
        "        pvals.append(pval[1])\r\n",
        "        \r\n",
        "        best_yj = find_best_lambda(numeric_df[col], transformer_type=\"yj\", show_eval=False)\r\n",
        "        var_yj = yeo_johnson_transform(numeric_df[col], power=best_yj)\r\n",
        "        pval_yj = stats.normaltest(var_yj)\r\n",
        "        pvals.append(pval_yj[1])\r\n",
        "        coefs.append(best_yj)\r\n",
        "        \r\n",
        "        if min(numeric_df[col]) <= 0:\r\n",
        "            var_translated = numeric_df[col] - min(numeric_df[col]) + 1\r\n",
        "            var_log = np.log(var_translated)\r\n",
        "            pval_log = stats.normaltest(var_log)\r\n",
        "            pvals.append(pval_log[1])\r\n",
        "            coefs.append(\"N/A\")\r\n",
        "        else:\r\n",
        "            var_log = np.log(numeric_df[col])\r\n",
        "            pval_log = stats.normaltest(var_log)\r\n",
        "            pvals.append(pval_log[1])\r\n",
        "            coefs.append(\"N/A\")\r\n",
        "\r\n",
        "        if (numeric_df[col] > 0).all():\r\n",
        "            best_bc = find_best_lambda(numeric_df[col], transformer_type=\"bc\", show_eval=False)\r\n",
        "            var_bc = box_cox_transform(numeric_df[col], power=best_bc)\r\n",
        "            pval_bc = stats.normaltest(var_bc)\r\n",
        "            pvals.append(pval_bc[1])\r\n",
        "            coefs.append(best_bc)\r\n",
        "        \r\n",
        "        max_ind = pvals.index(max(pvals))\r\n",
        "        result.loc[col, 'Best Trans.'] = method[max_ind]\r\n",
        "        result.loc[col, 'If BC/YJ Lambda Val'] = coefs[max_ind]\r\n",
        "    \r\n",
        "    return result"
      ],
      "execution_count": null,
      "outputs": []
    }
  ]
}