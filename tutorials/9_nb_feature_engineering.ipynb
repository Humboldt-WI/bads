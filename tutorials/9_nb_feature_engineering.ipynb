{
  "nbformat": 4,
  "nbformat_minor": 0,
  "metadata": {
    "kernelspec": {
      "display_name": "PyCharm (adams)",
      "language": "python",
      "name": "pycharm-feb95198"
    },
    "language_info": {
      "codemirror_mode": {
        "name": "ipython",
        "version": 3
      },
      "file_extension": ".py",
      "mimetype": "text/x-python",
      "name": "python",
      "nbconvert_exporter": "python",
      "pygments_lexer": "ipython3",
      "version": "3.7.6"
    },
    "colab": {
      "name": "9_nb_feature_engineering.ipynb",
      "provenance": [],
      "collapsed_sections": [
        "e3OU5PBOMymG",
        "KjM6lppjM1Yu",
        "OBj1x_jqM4sr",
        "l6ESJ7jCiOUa",
        "i8nrsT1JiTSF",
        "fZeIjLqfiV_c",
        "CJrG1rRRiYQP"
      ]
    }
  },
  "cells": [
    {
      "cell_type": "markdown",
      "metadata": {
        "id": "JW8q2Hxl3thA"
      },
      "source": [
        "[![Open In Colab](https://colab.research.google.com/assets/colab-badge.svg)](https://colab.research.google.com/github/Humboldt-WI/bads/blob/master/tutorials/9_nb_feature_engineering.ipynb) "
      ]
    },
    {
      "cell_type": "markdown",
      "metadata": {
        "id": "_55XGJ5Krxox"
      },
      "source": [
        "# Chapter 9 - Feature engineering and selection\n",
        "\n",
        "So, we've gone through some basic feature pre-processing but that was just the tip of the iceberg. Feature engineering is the art of creating meaningful features from your data which is initially processed. You will likely have to use a combination of domain and statistical knowledge to get the most out of your variables. This includes techniques such as scaling and [transforming](https://machinelearningmastery.com/power-transforms-with-scikit-learn/) (there are [other techniques](https://machinelearningmastery.com/power-transforms-with-scikit-learn/) when dealing with time series data). It could also be the creation of new variables using some kind of combination of the variables that you have.\n",
        "\n",
        "In this tutorial, we will discuss basic transformations for feature engineering and how to perform feature selection. As you know, your model should include all relevant variables. Any variables which don't help with predictability may cause overfitting and hamper model performance on new data. \n",
        "\n",
        "We will end with two useful tricks, importing from scripts and pipelines which should make your code quicker and cleaner to read.\n",
        "\n",
        "\n",
        "Here are the contents point by point:\n",
        "- Preliminaries\n",
        "- Feature engineering\n",
        "- Object Creation\n",
        "- Feature selection\n",
        "- Importing scripts\n",
        "- Pipelines\n",
        "- Exercises"
      ]
    },
    {
      "cell_type": "markdown",
      "metadata": {
        "id": "aCcnA3C9dTwR"
      },
      "source": [
        "# Preliminaries\n",
        "\n",
        "We will begin as usual, by importing necessary libraries, settings and loading the data. "
      ]
    },
    {
      "cell_type": "code",
      "metadata": {
        "colab": {
          "base_uri": "https://localhost:8080/",
          "height": 0
        },
        "id": "TEw41VzvkIou",
        "outputId": "fc86ae6c-5617-47c4-fff5-b5ed69b2ada3"
      },
      "source": [
        "# Import standard Python libraries\r\n",
        "import numpy as np\r\n",
        "import matplotlib.pyplot as plt\r\n",
        "import pandas as pd\r\n",
        "from sklearn.model_selection import train_test_split\r\n",
        "from sklearn.ensemble import RandomForestClassifier\r\n",
        "from sklearn.metrics import roc_auc_score\r\n",
        "\r\n",
        "# Some configuration of the plots we will create later\r\n",
        "%matplotlib inline  \r\n",
        "plt.rcParams[\"figure.figsize\"] = (12,6)\r\n",
        "\r\n",
        "# Load credit risk data in pre-processed format from GitHub\r\n",
        "data_url = 'https://raw.githubusercontent.com/Humboldt-WI/bads/master/data/hmeq_prepared.csv' \r\n",
        "df = pd.read_csv(data_url)\r\n",
        "\r\n",
        "# Extract target variable and feature matrix \r\n",
        "X = df.drop(['BAD'], axis=1) \r\n",
        "y = df[['BAD']]\r\n",
        "\r\n",
        "X_train, X_test, y_train, y_test = train_test_split(X, y, test_size=.2)\r\n",
        "\r\n",
        "X_train.head()"
      ],
      "execution_count": 62,
      "outputs": [
        {
          "output_type": "execute_result",
          "data": {
            "text/html": [
              "<div>\n",
              "<style scoped>\n",
              "    .dataframe tbody tr th:only-of-type {\n",
              "        vertical-align: middle;\n",
              "    }\n",
              "\n",
              "    .dataframe tbody tr th {\n",
              "        vertical-align: top;\n",
              "    }\n",
              "\n",
              "    .dataframe thead th {\n",
              "        text-align: right;\n",
              "    }\n",
              "</style>\n",
              "<table border=\"1\" class=\"dataframe\">\n",
              "  <thead>\n",
              "    <tr style=\"text-align: right;\">\n",
              "      <th></th>\n",
              "      <th>LOAN</th>\n",
              "      <th>MORTDUE</th>\n",
              "      <th>VALUE</th>\n",
              "      <th>REASON</th>\n",
              "      <th>JOB</th>\n",
              "      <th>YOJ</th>\n",
              "      <th>DEROG</th>\n",
              "      <th>DELINQ</th>\n",
              "      <th>CLAGE</th>\n",
              "      <th>NINQ</th>\n",
              "      <th>CLNO</th>\n",
              "      <th>DEBTINC</th>\n",
              "      <th>DEROGzero</th>\n",
              "    </tr>\n",
              "  </thead>\n",
              "  <tbody>\n",
              "    <tr>\n",
              "      <th>5737</th>\n",
              "      <td>43000.0</td>\n",
              "      <td>18388.0</td>\n",
              "      <td>64896.0</td>\n",
              "      <td>DebtCon</td>\n",
              "      <td>Other</td>\n",
              "      <td>20.0</td>\n",
              "      <td>0.0</td>\n",
              "      <td>0.0</td>\n",
              "      <td>207.06647</td>\n",
              "      <td>0.0</td>\n",
              "      <td>31.0</td>\n",
              "      <td>40.777878</td>\n",
              "      <td>True</td>\n",
              "    </tr>\n",
              "    <tr>\n",
              "      <th>5734</th>\n",
              "      <td>42900.0</td>\n",
              "      <td>8117.0</td>\n",
              "      <td>66731.0</td>\n",
              "      <td>HomeImp</td>\n",
              "      <td>Office</td>\n",
              "      <td>7.0</td>\n",
              "      <td>0.0</td>\n",
              "      <td>0.0</td>\n",
              "      <td>315.25482</td>\n",
              "      <td>0.0</td>\n",
              "      <td>19.0</td>\n",
              "      <td>13.312356</td>\n",
              "      <td>True</td>\n",
              "    </tr>\n",
              "    <tr>\n",
              "      <th>248</th>\n",
              "      <td>5500.0</td>\n",
              "      <td>65019.0</td>\n",
              "      <td>13770.0</td>\n",
              "      <td>HomeImp</td>\n",
              "      <td>Mgr</td>\n",
              "      <td>5.0</td>\n",
              "      <td>0.0</td>\n",
              "      <td>1.0</td>\n",
              "      <td>167.36667</td>\n",
              "      <td>1.0</td>\n",
              "      <td>8.0</td>\n",
              "      <td>34.818260</td>\n",
              "      <td>True</td>\n",
              "    </tr>\n",
              "    <tr>\n",
              "      <th>3480</th>\n",
              "      <td>18400.0</td>\n",
              "      <td>89101.0</td>\n",
              "      <td>118748.0</td>\n",
              "      <td>DebtCon</td>\n",
              "      <td>ProfExe</td>\n",
              "      <td>7.0</td>\n",
              "      <td>0.0</td>\n",
              "      <td>0.0</td>\n",
              "      <td>153.84976</td>\n",
              "      <td>2.0</td>\n",
              "      <td>21.0</td>\n",
              "      <td>21.762827</td>\n",
              "      <td>True</td>\n",
              "    </tr>\n",
              "    <tr>\n",
              "      <th>2488</th>\n",
              "      <td>14900.0</td>\n",
              "      <td>65303.0</td>\n",
              "      <td>84590.0</td>\n",
              "      <td>DebtCon</td>\n",
              "      <td>Office</td>\n",
              "      <td>6.0</td>\n",
              "      <td>0.0</td>\n",
              "      <td>0.0</td>\n",
              "      <td>121.06496</td>\n",
              "      <td>1.0</td>\n",
              "      <td>19.0</td>\n",
              "      <td>22.576824</td>\n",
              "      <td>True</td>\n",
              "    </tr>\n",
              "  </tbody>\n",
              "</table>\n",
              "</div>"
            ],
            "text/plain": [
              "         LOAN  MORTDUE     VALUE   REASON  ... NINQ  CLNO    DEBTINC  DEROGzero\n",
              "5737  43000.0  18388.0   64896.0  DebtCon  ...  0.0  31.0  40.777878       True\n",
              "5734  42900.0   8117.0   66731.0  HomeImp  ...  0.0  19.0  13.312356       True\n",
              "248    5500.0  65019.0   13770.0  HomeImp  ...  1.0   8.0  34.818260       True\n",
              "3480  18400.0  89101.0  118748.0  DebtCon  ...  2.0  21.0  21.762827       True\n",
              "2488  14900.0  65303.0   84590.0  DebtCon  ...  1.0  19.0  22.576824       True\n",
              "\n",
              "[5 rows x 13 columns]"
            ]
          },
          "metadata": {
            "tags": []
          },
          "execution_count": 62
        }
      ]
    },
    {
      "cell_type": "code",
      "metadata": {
        "colab": {
          "base_uri": "https://localhost:8080/"
        },
        "id": "HrmcdZckZZ8S",
        "outputId": "a7e41a15-2e05-4c9a-86d2-56c7c55dcc21"
      },
      "source": [
        "print(X_train.shape, X_test.shape, y_train.shape, y_test.shape)"
      ],
      "execution_count": 63,
      "outputs": [
        {
          "output_type": "stream",
          "text": [
            "(4768, 13) (1192, 13) (4768, 1) (1192, 1)\n"
          ],
          "name": "stdout"
        }
      ]
    },
    {
      "cell_type": "markdown",
      "metadata": {
        "id": "e9BfpWt7dTwS"
      },
      "source": [
        "# Feature Engineering "
      ]
    },
    {
      "cell_type": "markdown",
      "metadata": {
        "id": "9WByBH0XdTwT"
      },
      "source": [
        "## Data preparation revisited\n",
        "\n",
        "There is a small idea of how data preparation should look. This can however vary depending on the data with which you are working and the goal of your model. In general, you may **at least** want to follow these steps:\n",
        "\n",
        "**1) Basic cleaning of null values, duplicates and outliers**\n",
        "\n",
        "These values will have a big impact on how Python runs and how models are calculated. There were several approaches to deal with them. You could remove them, replace them with another value (indicator, mode, mean, max, min, etc), use a mini-model to impute them among other options. This has been done for the most part in this data set already. \n",
        "\n",
        "**2) Encode variables in the most appropriate way**\n",
        "\n",
        "Check your dataframe using the method `.info()` . Are your continuous variables encoded as integers or floats? If they are type `object` then the column may need to be checked again for null values. It is good practice to change any categorical variables to the `category` data type as it increases processing time. Once you have confirmed that you will finalize the model with a categorical variable, it can be useful to one-hot encode it as described in step 5.\n",
        "\n",
        "**3) Ensure variables fit statistical assumptions/model requirements**\n",
        "\n",
        "The next steps are a bit more complex and will depend on which model you need to use. Your goal is to make sure your data will be accurately processed by your model. Note that a lot of statistical assumptions depend on normal distribution and scaling. For example, models like linear regression and K-Means are very sensitive to abitrarily large magnitudes. We will first examine ways to do that.\n",
        "\n",
        "In this step, you may also want to remove features which are highly correlated to one another.\n",
        "\n",
        "**4) Filter out variables with low predictive power**\n",
        "\n",
        "The next set of transformations to the dataset will likely be one-hot encoding. Note that before this, you may want to check variables to see if they indicate they will contribute to your model. We will discuss filter methods to do just that. Note that some variables may only be effective in combination with others, so be careful with this step. \n",
        "\n",
        "**5) One-hot encode categorical variables**\n",
        "\n",
        "Once you have decided to keep a categorical feature, it can be useful to one-hot encode the feature. Again, one-hot encoding means that instead of one categorical column, you have multiple dummies which represent possible category values. For example, if your categorical variable \"transport\" had the possible values of \"car\", \"by foot\" or \"bus\", you would split it into columns called \"transport_car\" and \"transport_bus\". \"by foot\" is indicated if neither of those have a value of 1 for that observation.\n",
        "\n",
        "**6) Double check the model only includes appropriate variables**\n",
        "\n",
        "Next, you may want to try a wrapper method or step-wise regression as another check to ensure you are only including relevant variables.\n",
        "\n",
        "In many cases, you may have to repeat some of these steps several times. Remember the idea of **garbage in, garbage out**. If you feed a model nonsense, expect nonsense to come right back out. This is likely what will take the most of your time as a data scientist."
      ]
    },
    {
      "cell_type": "code",
      "metadata": {
        "colab": {
          "base_uri": "https://localhost:8080/"
        },
        "id": "SFfJqQ63qoUa",
        "outputId": "437b1fa6-87bb-4b52-ba27-515972882d70"
      },
      "source": [
        "# Let's get a quick overview of the data types of each column and make sure they are correct\r\n",
        "df.info()"
      ],
      "execution_count": 64,
      "outputs": [
        {
          "output_type": "stream",
          "text": [
            "<class 'pandas.core.frame.DataFrame'>\n",
            "RangeIndex: 5960 entries, 0 to 5959\n",
            "Data columns (total 14 columns):\n",
            " #   Column     Non-Null Count  Dtype  \n",
            "---  ------     --------------  -----  \n",
            " 0   BAD        5960 non-null   bool   \n",
            " 1   LOAN       5960 non-null   float64\n",
            " 2   MORTDUE    5960 non-null   float64\n",
            " 3   VALUE      5960 non-null   float64\n",
            " 4   REASON     5960 non-null   object \n",
            " 5   JOB        5960 non-null   object \n",
            " 6   YOJ        5960 non-null   float64\n",
            " 7   DEROG      5960 non-null   float64\n",
            " 8   DELINQ     5960 non-null   float64\n",
            " 9   CLAGE      5960 non-null   float64\n",
            " 10  NINQ       5960 non-null   float64\n",
            " 11  CLNO       5960 non-null   float64\n",
            " 12  DEBTINC    5960 non-null   float64\n",
            " 13  DEROGzero  5960 non-null   bool   \n",
            "dtypes: bool(2), float64(10), object(2)\n",
            "memory usage: 570.5+ KB\n"
          ],
          "name": "stdout"
        }
      ]
    },
    {
      "cell_type": "code",
      "metadata": {
        "colab": {
          "base_uri": "https://localhost:8080/"
        },
        "id": "xs1JAzocts10",
        "outputId": "122c7398-6c35-41f5-dcda-b7f67eaf33c0"
      },
      "source": [
        "df['DEROG'].value_counts() # In the first few rows we see 'DEROG' may also be a Boolean, we can use .value_counts() on the column to check all possible values"
      ],
      "execution_count": 65,
      "outputs": [
        {
          "output_type": "execute_result",
          "data": {
            "text/plain": [
              "0.0     5235\n",
              "1.0      435\n",
              "2.0      160\n",
              "3.0       58\n",
              "4.0       23\n",
              "6.0       15\n",
              "5.0       15\n",
              "7.0        8\n",
              "8.0        6\n",
              "9.0        3\n",
              "10.0       2\n",
              "Name: DEROG, dtype: int64"
            ]
          },
          "metadata": {
            "tags": []
          },
          "execution_count": 65
        }
      ]
    },
    {
      "cell_type": "code",
      "metadata": {
        "colab": {
          "base_uri": "https://localhost:8080/"
        },
        "id": "t8cQUTN3t3CT",
        "outputId": "3a7f4035-0a3d-4aa4-8eef-fdd61ec6d40e"
      },
      "source": [
        "df['NINQ'].value_counts() # Checking 'NINQ' for the same reason as 'DEROG'"
      ],
      "execution_count": 66,
      "outputs": [
        {
          "output_type": "execute_result",
          "data": {
            "text/plain": [
              "0.0    2531\n",
              "1.0    1849\n",
              "2.0     780\n",
              "3.0     392\n",
              "4.0     156\n",
              "8.0      77\n",
              "5.0      75\n",
              "6.0      56\n",
              "7.0      44\n",
              "Name: NINQ, dtype: int64"
            ]
          },
          "metadata": {
            "tags": []
          },
          "execution_count": 66
        }
      ]
    },
    {
      "cell_type": "markdown",
      "metadata": {
        "id": "wr8OK_ewwKlF"
      },
      "source": [
        "Luckily, most of our variables are actually encoded the right way! Let's just change the two categorical variables to the correct category and do one last check."
      ]
    },
    {
      "cell_type": "code",
      "metadata": {
        "id": "Tf8vzIk2tJZX"
      },
      "source": [
        "# Let's change our two categorical variables to the correct type for our interim analysis\r\n",
        "\r\n",
        "df['REASON'] = df['REASON'].astype('category')\r\n",
        "df['JOB'] = df['JOB'].astype('category')"
      ],
      "execution_count": 67,
      "outputs": []
    },
    {
      "cell_type": "code",
      "metadata": {
        "colab": {
          "base_uri": "https://localhost:8080/"
        },
        "id": "toUCPoLZtaVq",
        "outputId": "6f5246fc-d775-4788-b3b8-d2153f53f988"
      },
      "source": [
        "df.info()"
      ],
      "execution_count": 68,
      "outputs": [
        {
          "output_type": "stream",
          "text": [
            "<class 'pandas.core.frame.DataFrame'>\n",
            "RangeIndex: 5960 entries, 0 to 5959\n",
            "Data columns (total 14 columns):\n",
            " #   Column     Non-Null Count  Dtype   \n",
            "---  ------     --------------  -----   \n",
            " 0   BAD        5960 non-null   bool    \n",
            " 1   LOAN       5960 non-null   float64 \n",
            " 2   MORTDUE    5960 non-null   float64 \n",
            " 3   VALUE      5960 non-null   float64 \n",
            " 4   REASON     5960 non-null   category\n",
            " 5   JOB        5960 non-null   category\n",
            " 6   YOJ        5960 non-null   float64 \n",
            " 7   DEROG      5960 non-null   float64 \n",
            " 8   DELINQ     5960 non-null   float64 \n",
            " 9   CLAGE      5960 non-null   float64 \n",
            " 10  NINQ       5960 non-null   float64 \n",
            " 11  CLNO       5960 non-null   float64 \n",
            " 12  DEBTINC    5960 non-null   float64 \n",
            " 13  DEROGzero  5960 non-null   bool    \n",
            "dtypes: bool(2), category(2), float64(10)\n",
            "memory usage: 489.3 KB\n"
          ],
          "name": "stdout"
        }
      ]
    },
    {
      "cell_type": "markdown",
      "metadata": {
        "id": "mN5r9LUioKP4"
      },
      "source": [
        "## Scaling\r\n",
        "\r\n",
        "Features will likely have arbitrary magnitudes. For example, a customer's spending range from 0 to 50,000 but a dummy variable about them may only take the value 0 or 1. For many algorithms, like the distance function in kMeans, this is problematic. The distance function will try to minimize differences among features using their raw values. This means that kMeans will focus on variables with arbitrarily high values like spending when that may not be as important as a dummy. One way to deal with this is to scale features so that they still vary but the values aren't arbitrarily higher. This way, all features will be considered equally. \r\n",
        "\r\n",
        "There are two major ways to scale: standardization and min-max scaling (also known as normalization).\r\n",
        "\r\n",
        "### Standardization\r\n",
        "After standardization, your feature will now be distributed about the mean feature value. If you believe you data is already normal (follows a Gaussian distribution) this could be the best option.\r\n",
        "\r\n",
        "$$ X_{new} = \\frac{X-\\mu}{\\sigma} $$\r\n",
        "\r\n",
        "There is no maximum or minimum value here. This means that standardization does not deal with outliers. You may have a clearer picture of how extreme these outliers are after standardization.\r\n",
        "\r\n",
        "### Min-Max Scaling\r\n",
        "After min-max scaling, your variables will have a range of 0 and 1. Minimum feature values will become 0 and maximum values will be 1.\r\n",
        "\r\n",
        "$$ X_{new} = \\frac{X-X_{min}}{X_{max}-X_{min}} $$\r\n",
        "\r\n",
        "This scaling is sometimes called normalization but you should note that it simply compacts the values of the features to be between 0 and 1, it does not change the overall shape of the data.\r\n"
      ]
    },
    {
      "cell_type": "code",
      "metadata": {
        "id": "VbhFZHaOOJbq"
      },
      "source": [
        "#standardization\r\n",
        "def standardize(var):\r\n",
        "  return (var - np.mean(var)) / np.std(var)\r\n",
        "\r\n",
        "#min-max scaling\r\n",
        "def min_max_scale(var):\r\n",
        "  return (var - min(var)) / (max(var) - min(var))"
      ],
      "execution_count": 69,
      "outputs": []
    },
    {
      "cell_type": "markdown",
      "metadata": {
        "id": "ZaJouXZSctiH"
      },
      "source": [
        "Let's first look at how this variable looks before and after normalization and standardization using a box plot and then a histogram. **Note the axes of all of these plots.**"
      ]
    },
    {
      "cell_type": "code",
      "metadata": {
        "colab": {
          "base_uri": "https://localhost:8080/",
          "height": 391
        },
        "id": "idodxYUhxrY4",
        "outputId": "3110f0fd-35e0-4e22-dcc7-5f4d523d7af7"
      },
      "source": [
        "# raw variable \r\n",
        "\r\n",
        "X_train[['LOAN']].boxplot()"
      ],
      "execution_count": 70,
      "outputs": [
        {
          "output_type": "execute_result",
          "data": {
            "text/plain": [
              "<matplotlib.axes._subplots.AxesSubplot at 0x7fd3be3c5278>"
            ]
          },
          "metadata": {
            "tags": []
          },
          "execution_count": 70
        },
        {
          "output_type": "display_data",
          "data": {
            "image/png": "[encoded data removed]",
            "text/plain": [
              "<Figure size 864x432 with 1 Axes>"
            ]
          },
          "metadata": {
            "tags": [],
            "needs_background": "light"
          }
        }
      ]
    },
    {
      "cell_type": "code",
      "metadata": {
        "colab": {
          "base_uri": "https://localhost:8080/",
          "height": 391
        },
        "id": "7lG40FJUZY5z",
        "outputId": "66bdc837-8636-4136-b063-3bc4bc8eb89c"
      },
      "source": [
        "# comparison of the normalized vs. standardized variable (check axes for size)\r\n",
        "\r\n",
        "loan_standardized = standardize(X_train['LOAN'])\r\n",
        "\r\n",
        "loan_normalized = min_max_scale(X_train['LOAN'])\r\n",
        "\r\n",
        "loans_scaled = pd.DataFrame({\"standardized\": loan_standardized, \"normalized\": loan_normalized,})\r\n",
        "\r\n",
        "loans_scaled.boxplot()"
      ],
      "execution_count": 71,
      "outputs": [
        {
          "output_type": "execute_result",
          "data": {
            "text/plain": [
              "<matplotlib.axes._subplots.AxesSubplot at 0x7fd3be32add8>"
            ]
          },
          "metadata": {
            "tags": []
          },
          "execution_count": 71
        },
        {
          "output_type": "display_data",
          "data": {
            "image/png": "[encoded data removed]",
            "text/plain": [
              "<Figure size 864x432 with 1 Axes>"
            ]
          },
          "metadata": {
            "tags": [],
            "needs_background": "light"
          }
        }
      ]
    },
    {
      "cell_type": "code",
      "metadata": {
        "colab": {
          "base_uri": "https://localhost:8080/",
          "height": 424
        },
        "id": "RXjl78Z8QgW8",
        "outputId": "4f27edfc-2442-451a-a909-25f50182dc99"
      },
      "source": [
        "# histogram of raw variable\r\n",
        "\r\n",
        "X_train[['LOAN']].hist(bins=100)"
      ],
      "execution_count": 72,
      "outputs": [
        {
          "output_type": "execute_result",
          "data": {
            "text/plain": [
              "array([[<matplotlib.axes._subplots.AxesSubplot object at 0x7fd3baecd710>]],\n",
              "      dtype=object)"
            ]
          },
          "metadata": {
            "tags": []
          },
          "execution_count": 72
        },
        {
          "output_type": "display_data",
          "data": {
            "image/png": "[encoded data removed]",
            "text/plain": [
              "<Figure size 864x432 with 1 Axes>"
            ]
          },
          "metadata": {
            "tags": [],
            "needs_background": "light"
          }
        }
      ]
    },
    {
      "cell_type": "code",
      "metadata": {
        "colab": {
          "base_uri": "https://localhost:8080/",
          "height": 441
        },
        "id": "_LMtqnFFQVTZ",
        "outputId": "fb096c90-109e-4f51-95fe-5453e3c69823"
      },
      "source": [
        "# comparison of the normalized vs. standardized variable (check axes for size)\r\n",
        "\r\n",
        "loans_scaled.hist(bins=100)"
      ],
      "execution_count": 73,
      "outputs": [
        {
          "output_type": "execute_result",
          "data": {
            "text/plain": [
              "array([[<matplotlib.axes._subplots.AxesSubplot object at 0x7fd3bac39b38>,\n",
              "        <matplotlib.axes._subplots.AxesSubplot object at 0x7fd3babe76d8>]],\n",
              "      dtype=object)"
            ]
          },
          "metadata": {
            "tags": []
          },
          "execution_count": 73
        },
        {
          "output_type": "display_data",
          "data": {
            "image/png": "[encoded data removed]",
            "text/plain": [
              "<Figure size 864x432 with 2 Axes>"
            ]
          },
          "metadata": {
            "tags": [],
            "needs_background": "light"
          }
        }
      ]
    },
    {
      "cell_type": "markdown",
      "metadata": {
        "id": "RqPKAtlyc4Mc"
      },
      "source": [
        "As promised, the variables are now fit between something that resembles a bit more of a standard scaling. With min-max scaling or normalization, we have the variable ranging between 0 and 1. With standard scaling, we have the variable showing us its position relative to standard deviations. Note that in both of these examples, the variable was squeezed into a smaller range but did not change shape overall. There are ways to change its shape which we will explore next."
      ]
    },
    {
      "cell_type": "markdown",
      "metadata": {
        "id": "MRlyLdQedO57"
      },
      "source": [
        "First, let's just quickly look at the standard way to do this with `sklearn`. We can just use the `MinMaxScaler()` and `StandardScaler` to do produce exactly what our custom functions did."
      ]
    },
    {
      "cell_type": "code",
      "metadata": {
        "id": "4zqDzYWUYKYj",
        "colab": {
          "base_uri": "https://localhost:8080/",
          "height": 374
        },
        "outputId": "77ca11f8-c3b8-44d4-e216-f471f374592c"
      },
      "source": [
        "from sklearn.preprocessing import StandardScaler\r\n",
        "standardscaler = StandardScaler()\r\n",
        "standardscaled = standardscaler.fit_transform(X_train[['LOAN']])\r\n",
        "_ = plt.hist(standardscaled, bins=100)\r\n",
        "plt.show()"
      ],
      "execution_count": 74,
      "outputs": [
        {
          "output_type": "display_data",
          "data": {
            "image/png": "[encoded data removed]",
            "text/plain": [
              "<Figure size 864x432 with 1 Axes>"
            ]
          },
          "metadata": {
            "tags": [],
            "needs_background": "light"
          }
        }
      ]
    },
    {
      "cell_type": "code",
      "metadata": {
        "id": "7iNANRAhYEeV",
        "colab": {
          "base_uri": "https://localhost:8080/",
          "height": 374
        },
        "outputId": "e812a49b-08ad-4d74-ad46-6a3e48979d8c"
      },
      "source": [
        "from sklearn.preprocessing import MinMaxScaler\r\n",
        "minmaxscaler = MinMaxScaler()\r\n",
        "minmaxscaled = minmaxscaler.fit_transform(X_train[['LOAN']])\r\n",
        "\r\n",
        "_ = plt.hist(minmaxscaled, bins=100)\r\n",
        "plt.show()"
      ],
      "execution_count": 75,
      "outputs": [
        {
          "output_type": "display_data",
          "data": {
            "image/png": "[encoded data removed]",
            "text/plain": [
              "<Figure size 864x432 with 1 Axes>"
            ]
          },
          "metadata": {
            "tags": [],
            "needs_background": "light"
          }
        }
      ]
    },
    {
      "cell_type": "markdown",
      "metadata": {
        "id": "hxXel7kpdTwT"
      },
      "source": [
        "\n"
      ]
    },
    {
      "cell_type": "markdown",
      "metadata": {
        "id": "wxHx35GGJbVc"
      },
      "source": [
        "## Checking features for normality\r\n",
        "First, let's take a look at features. To determine which are the highest priority. We can do this by opening up a histogram of all floats in our dataset. As we can see, most of our vartiables do not appear to be normally distributed in the strictest sense. Most of them have long tails on only one side with no clearly defined single peak in the center."
      ]
    },
    {
      "cell_type": "code",
      "metadata": {
        "colab": {
          "base_uri": "https://localhost:8080/",
          "height": 828
        },
        "id": "ofPwp-hoORpA",
        "outputId": "a57c4684-dcbb-447f-819d-4616c36d2a10"
      },
      "source": [
        "df.select_dtypes(include='float64').hist(bins=30, figsize=(15, 10))"
      ],
      "execution_count": 76,
      "outputs": [
        {
          "output_type": "execute_result",
          "data": {
            "text/plain": [
              "array([[<matplotlib.axes._subplots.AxesSubplot object at 0x7fd3bacaf0f0>,\n",
              "        <matplotlib.axes._subplots.AxesSubplot object at 0x7fd3bae8c8d0>,\n",
              "        <matplotlib.axes._subplots.AxesSubplot object at 0x7fd3ba91a1d0>],\n",
              "       [<matplotlib.axes._subplots.AxesSubplot object at 0x7fd3be32a320>,\n",
              "        <matplotlib.axes._subplots.AxesSubplot object at 0x7fd3ba825a90>,\n",
              "        <matplotlib.axes._subplots.AxesSubplot object at 0x7fd3ba99ad30>],\n",
              "       [<matplotlib.axes._subplots.AxesSubplot object at 0x7fd3be626710>,\n",
              "        <matplotlib.axes._subplots.AxesSubplot object at 0x7fd3bb0294e0>,\n",
              "        <matplotlib.axes._subplots.AxesSubplot object at 0x7fd3bb0297b8>],\n",
              "       [<matplotlib.axes._subplots.AxesSubplot object at 0x7fd3bedea6d8>,\n",
              "        <matplotlib.axes._subplots.AxesSubplot object at 0x7fd3ba6c9710>,\n",
              "        <matplotlib.axes._subplots.AxesSubplot object at 0x7fd3baf28780>]],\n",
              "      dtype=object)"
            ]
          },
          "metadata": {
            "tags": []
          },
          "execution_count": 76
        },
        {
          "output_type": "display_data",
          "data": {
            "image/png": "[encoded data removed]",
            "text/plain": [
              "<Figure size 1080x720 with 12 Axes>"
            ]
          },
          "metadata": {
            "tags": [],
            "needs_background": "light"
          }
        }
      ]
    },
    {
      "cell_type": "code",
      "metadata": {
        "id": "fMwv2bSR1KrR"
      },
      "source": [
        "# Choose a feature of interest and we'll take a deep dive into it\r\n",
        "\r\n",
        "feature = df['LOAN'] "
      ],
      "execution_count": 77,
      "outputs": []
    },
    {
      "cell_type": "markdown",
      "metadata": {
        "id": "2oSu9klOwao9"
      },
      "source": [
        "One useful function for checking normality in variables is the `normaltest` from `scipy`. This function's documentation is [here](https://docs.scipy.org/doc/scipy/reference/generated/scipy.stats.normaltest.html). It outputs 2 numbers, the first is the sum of squares of the z-scores returned by a skewtest and kurtosistest. The second is a 2-sided chi2 probability hypothesis test. Thus, if the p-value is below 0.05, it is likely you do not have normally distributed data."
      ]
    },
    {
      "cell_type": "code",
      "metadata": {
        "colab": {
          "base_uri": "https://localhost:8080/"
        },
        "id": "Fvn-QvyXUt78",
        "outputId": "76821fbe-3b3c-4538-f936-aa4c1a024819"
      },
      "source": [
        "from scipy import stats\r\n",
        "stats.normaltest(feature)"
      ],
      "execution_count": 78,
      "outputs": [
        {
          "output_type": "execute_result",
          "data": {
            "text/plain": [
              "NormaltestResult(statistic=1603.6531776769357, pvalue=0.0)"
            ]
          },
          "metadata": {
            "tags": []
          },
          "execution_count": 78
        }
      ]
    },
    {
      "cell_type": "markdown",
      "metadata": {
        "id": "9lHmSIC2_8dB"
      },
      "source": [
        " We can confirm using this function that the variable likely does not conform to a normal distribution and that min-max scaling (called normalization by some) doesn't help either."
      ]
    },
    {
      "cell_type": "code",
      "metadata": {
        "colab": {
          "base_uri": "https://localhost:8080/",
          "height": 374
        },
        "id": "vVYoIXCfpkay",
        "outputId": "598e6b06-fe37-40d5-94cb-8a6823d42990"
      },
      "source": [
        "minmaxscaled_feature = minmaxscaler.fit_transform(pd.DataFrame(feature))\r\n",
        "\r\n",
        "_ = plt.hist(minmaxscaled_feature, bins=100)\r\n",
        "plt.show()"
      ],
      "execution_count": 79,
      "outputs": [
        {
          "output_type": "display_data",
          "data": {
            "image/png": "[encoded data removed]",
            "text/plain": [
              "<Figure size 864x432 with 1 Axes>"
            ]
          },
          "metadata": {
            "tags": [],
            "needs_background": "light"
          }
        }
      ]
    },
    {
      "cell_type": "code",
      "metadata": {
        "colab": {
          "base_uri": "https://localhost:8080/"
        },
        "id": "l2Qt1Ociy16_",
        "outputId": "1094daa5-4ce8-4a2c-e84e-58712b4061ae"
      },
      "source": [
        "stats.normaltest(minmaxscaled_feature)"
      ],
      "execution_count": 80,
      "outputs": [
        {
          "output_type": "execute_result",
          "data": {
            "text/plain": [
              "NormaltestResult(statistic=array([1603.65317768]), pvalue=array([0.]))"
            ]
          },
          "metadata": {
            "tags": []
          },
          "execution_count": 80
        }
      ]
    },
    {
      "cell_type": "markdown",
      "metadata": {
        "id": "TnBUkKjE0Vt6"
      },
      "source": [
        "We can see problems a bit more clearly with quantile-quantile plot. Ideally, the blue line should match the red line (quantiles of a feature versus the quantiles/ppf of a distribution). If not, it is less likely that it comes from a normal distribution."
      ]
    },
    {
      "cell_type": "code",
      "metadata": {
        "colab": {
          "base_uri": "https://localhost:8080/",
          "height": 388
        },
        "id": "BJ-WO3MK0IKk",
        "outputId": "a14ef0ac-b018-4180-cbbc-d3c57f8ccfab"
      },
      "source": [
        "from statsmodels.graphics.gofplots import qqplot\r\n",
        "from matplotlib import pyplot\r\n",
        "qqplot(feature, line='s')\r\n",
        "pyplot.show()"
      ],
      "execution_count": 81,
      "outputs": [
        {
          "output_type": "display_data",
          "data": {
            "image/png": "[encoded data removed]",
            "text/plain": [
              "<Figure size 864x432 with 1 Axes>"
            ]
          },
          "metadata": {
            "tags": [],
            "needs_background": "light"
          }
        }
      ]
    },
    {
      "cell_type": "markdown",
      "metadata": {
        "id": "fhHv9AlsJ4J_"
      },
      "source": [
        "## Common feature transformations for numeric data\r\n",
        "\r\n",
        "Now, as we've seen we can change the magnitudes of our variables so that they are similar to one another. This ensures that variables with arbitrarily high values will not dominate an algorithm's objective of minimization. However, many statistical assumptions also rest on the fact that variables are linear and/or normally distributed. In real data, as you will see with our current data set, that is unfortunately rarely the case."
      ]
    },
    {
      "cell_type": "markdown",
      "metadata": {
        "id": "e3OU5PBOMymG"
      },
      "source": [
        "### Log Transformation\r\n",
        "The use of logs is to create linearity from exponential relationships. This can greatly algorithms capture the fit of many variables. Remember that logs take only strictly positive variables. If you have any negative values, you will have to rescale your data, remove them or find another way to deal with them.\r\n",
        "\r\n",
        "$ x^{(t)} = g(x) = log(x) $\r\n",
        "\r\n"
      ]
    },
    {
      "cell_type": "markdown",
      "metadata": {
        "id": "KjM6lppjM1Yu"
      },
      "source": [
        "### Box Cox Transformation\r\n",
        "If your variable has a skewed tail, this can be problematic for the assumption on normality. You can try to correct this with a Box Cox transformation. This only works with strictly positive values (greater than 0). You can always rescale variables so they meet this criteria before putting them into this formula.\r\n",
        "\r\n",
        "$\r\n",
        "    x^{(t)} = g(x; \\lambda) =\r\n",
        "    \\begin{cases}\r\n",
        "      \\frac{x^\\lambda - 1}{\\lambda}, & \\text{if}\\ \\lambda \\neq 0 \\\\\r\n",
        "      log(x), & \\text{otherwise}\r\n",
        "    \\end{cases}\r\n",
        "$\r\n",
        "\r\n"
      ]
    },
    {
      "cell_type": "markdown",
      "metadata": {
        "id": "OBj1x_jqM4sr"
      },
      "source": [
        "### Yeo-Johnson Transformation\r\n",
        "This formula is essentially a more elaborate version of Box Cox. It can take any numbers (0 and under is completely fine). \r\n",
        "\r\n",
        "$\r\n",
        "    x^{(t)} = g(x; \\lambda) =\r\n",
        "    \\begin{cases}\r\n",
        "      \\frac{(1+x)^\\lambda - 1}{\\lambda}, & \\text{if}\\ \\lambda \\neq 0 \\ \\text{and}\\ x \\geq 0 \\\\\r\n",
        "      log(x+1), & \\text{if}\\ \\lambda = 0 \\ \\text{and}\\ x \\geq 0 \\\\\r\n",
        "      -\\frac{(1-x)^{2-\\lambda} - 1}{2-\\lambda}, & \\text{if}\\ \\lambda \\neq 2 \\ \\text{and}\\ x < 0\\\\\r\n",
        "      -log(-x+1), & \\text{if}\\ \\lambda = 2 \\ \\text{and}\\ x < 0\\\\\r\n",
        "    \\end{cases}\r\n",
        "$"
      ]
    },
    {
      "cell_type": "markdown",
      "metadata": {
        "id": "Rp8qyjecM7mD"
      },
      "source": [
        "\r\n",
        "## Testing transformations\r\n",
        "The promise of the above power transformations is that they increase normality. Statisticians have developed ways to test whether a feature displays a normal distribution. A Python implementation for one such test is available in the `statsmodels` library. Afterwards, we'll use the function `normaltest()` to verify the efficacy of these transformations."
      ]
    },
    {
      "cell_type": "code",
      "metadata": {
        "id": "E-WYJkxWu0Ym"
      },
      "source": [
        "def box_cox_transform(var, power=0):\r\n",
        "  try:\r\n",
        "    assert (var > 0).all() # Box Cox is only defined for variables higher than 0\r\n",
        "  except: \r\n",
        "    raise ValueError(\"Variable values must be strictly positive\")\r\n",
        "  if power == 0:\r\n",
        "      var = np.log(var)\r\n",
        "  else:\r\n",
        "      var = (var ** power - 1) / power\r\n",
        "  return var"
      ],
      "execution_count": 82,
      "outputs": []
    },
    {
      "cell_type": "code",
      "metadata": {
        "id": "7ZXddYSIvg4O"
      },
      "source": [
        "def yeo_johnson_transform(var, power=1):\r\n",
        "  if power == 0: # check lambda value\r\n",
        "    var = np.where(var>=0, np.log(var + 1), -((-var + 1)**(2 - power) - 1) / (2 - power)) # two actions based on variable's value corresponding to function above\r\n",
        "  elif power == 2:\r\n",
        "    var = np.where(var>=0, ((var + 1)**power - 1) / power, -np.log(-var + 1))\r\n",
        "  else:\r\n",
        "    var = np.where(var>=0, ((var + 1)**power - 1) / power, -((-var + 1)**(2 - power) - 1) / (2 - power))\r\n",
        "  return pd.Series(var)"
      ],
      "execution_count": 83,
      "outputs": []
    },
    {
      "cell_type": "code",
      "metadata": {
        "colab": {
          "base_uri": "https://localhost:8080/",
          "height": 391
        },
        "id": "y8eJNdcKqExg",
        "outputId": "60071f39-aaae-4b2f-af78-677409c808cc"
      },
      "source": [
        "feature.hist(bins=20, grid=False) # still using feature of interest set before"
      ],
      "execution_count": 84,
      "outputs": [
        {
          "output_type": "execute_result",
          "data": {
            "text/plain": [
              "<matplotlib.axes._subplots.AxesSubplot at 0x7fd3ba31ab38>"
            ]
          },
          "metadata": {
            "tags": []
          },
          "execution_count": 84
        },
        {
          "output_type": "display_data",
          "data": {
            "image/png": "[encoded data removed]",
            "text/plain": [
              "<Figure size 864x432 with 1 Axes>"
            ]
          },
          "metadata": {
            "tags": [],
            "needs_background": "light"
          }
        }
      ]
    },
    {
      "cell_type": "code",
      "metadata": {
        "id": "3iU2gT6LK3n2"
      },
      "source": [
        "# Adjust coefficient of Box Cox transformation on the feature to show plot below\r\n",
        "\r\n",
        "bc1 = box_cox_transform(feature+1, power=0)\r\n",
        "bc2 = box_cox_transform(feature+1, power=.5)\r\n",
        "bc3 = box_cox_transform(feature+1, power=1)"
      ],
      "execution_count": 85,
      "outputs": []
    },
    {
      "cell_type": "code",
      "metadata": {
        "colab": {
          "base_uri": "https://localhost:8080/",
          "height": 729
        },
        "id": "_qVI-FeWBWVD",
        "outputId": "e28c9bf0-6636-4696-d79f-bdfb6afd36ad"
      },
      "source": [
        "# Plot a histogram per coefficient of BC transformation\r\n",
        "\r\n",
        "fig, (ax1, ax2, ax3) = plt.subplots(nrows=3, ncols=1)\r\n",
        "fig.set_figheight(10)\r\n",
        "fig.set_figwidth(10)\r\n",
        "\r\n",
        "ax1.hist(bc1, bins=20)\r\n",
        "ax2.hist(bc2, bins=20)\r\n",
        "ax3.hist(bc3, bins=20)\r\n",
        "\r\n",
        "ax1.set_title('Histogram Using Different Box Cox Coefficients')\r\n",
        "ax1.set_label('Coefficient = 0')\r\n",
        "ax1.set_ylabel('Frequency')\r\n",
        "\r\n",
        "ax2.set_label('Coefficient = 0.5')\r\n",
        "ax2.set_ylabel('Frequency')\r\n",
        "\r\n",
        "ax3.set_label('Coefficient = 1')\r\n",
        "ax3.set_xlabel('Values')\r\n",
        "ax3.set_ylabel('Frequency')\r\n",
        "\r\n",
        "plt.tight_layout()\r\n",
        "plt.show()"
      ],
      "execution_count": 86,
      "outputs": [
        {
          "output_type": "display_data",
          "data": {
            "image/png": "[encoded data removed]",
            "text/plain": [
              "<Figure size 720x720 with 3 Axes>"
            ]
          },
          "metadata": {
            "tags": [],
            "needs_background": "light"
          }
        }
      ]
    },
    {
      "cell_type": "code",
      "metadata": {
        "id": "bscxmtknqQVE"
      },
      "source": [
        "# Adjust coefficient of YJ transformation on the feature to show plot below\r\n",
        "\r\n",
        "yj1 = yeo_johnson_transform(feature, power=0)\r\n",
        "yj2 = yeo_johnson_transform(feature, power=.5)\r\n",
        "yj3 = yeo_johnson_transform(feature, power=1)"
      ],
      "execution_count": 87,
      "outputs": []
    },
    {
      "cell_type": "code",
      "metadata": {
        "colab": {
          "base_uri": "https://localhost:8080/",
          "height": 729
        },
        "id": "udDSAbNdFO-K",
        "outputId": "f1ec17ed-3f7f-45d2-a3f6-196d1740d50b"
      },
      "source": [
        "# Plot a histogram per coefficient of YJ transformation\r\n",
        "\r\n",
        "fig, (ax1, ax2, ax3) = plt.subplots(nrows=3, ncols=1)\r\n",
        "fig.set_figheight(10)\r\n",
        "fig.set_figwidth(10)\r\n",
        "\r\n",
        "ax1.hist(yj1, bins=20)\r\n",
        "ax2.hist(yj2, bins=20)\r\n",
        "ax3.hist(yj3, bins=20)\r\n",
        "\r\n",
        "ax1.set_title('Histogram Using Different YJ Coefficients')\r\n",
        "ax1.set_label('Coefficient = 0')\r\n",
        "ax1.set_ylabel('Frequency')\r\n",
        "\r\n",
        "ax2.set_label('Coefficient = 0.5')\r\n",
        "ax2.set_ylabel('Frequency')\r\n",
        "\r\n",
        "ax3.set_label('Coefficient = 1')\r\n",
        "ax3.set_xlabel('Values')\r\n",
        "ax3.set_ylabel('Frequency')\r\n",
        "\r\n",
        "plt.tight_layout()\r\n",
        "plt.show()"
      ],
      "execution_count": 88,
      "outputs": [
        {
          "output_type": "display_data",
          "data": {
            "image/png": "[encoded data removed]",
            "text/plain": [
              "<Figure size 720x720 with 3 Axes>"
            ]
          },
          "metadata": {
            "tags": [],
            "needs_background": "light"
          }
        }
      ]
    },
    {
      "cell_type": "markdown",
      "metadata": {
        "id": "4ZW1pHcquAlK"
      },
      "source": [
        "Now that we've verified what these transformations do, we'll need to find an optimal. This is a task in the exercises to do manually. However, `scipy` functions actually do this on their own."
      ]
    },
    {
      "cell_type": "markdown",
      "metadata": {
        "id": "COvAW6bSuT8t"
      },
      "source": [
        "### Using `scipy` functions\r\n",
        "Let's now use a pre-made function and see where it finds the true maximum point of normality. We can again use the `scipy` library which we have nicknamed `stats` to fit the feature and find the optimal lambda. Let's first start with Box Cox."
      ]
    },
    {
      "cell_type": "code",
      "metadata": {
        "id": "xPRZf_G4VYK3",
        "colab": {
          "base_uri": "https://localhost:8080/"
        },
        "outputId": "020a0257-0830-4c3f-cbb2-93b150081232"
      },
      "source": [
        "bc_fitted_feature, bc_fitted_lambda = stats.boxcox(feature+1) # Again, we are adding 1 because CLNO has 0s in it variables must be strictly positive for Box Cox\r\n",
        "\r\n",
        "bc_fitted_lambda"
      ],
      "execution_count": 89,
      "outputs": [
        {
          "output_type": "execute_result",
          "data": {
            "text/plain": [
              "0.19107151032822628"
            ]
          },
          "metadata": {
            "tags": []
          },
          "execution_count": 89
        }
      ]
    },
    {
      "cell_type": "code",
      "metadata": {
        "colab": {
          "base_uri": "https://localhost:8080/",
          "height": 510
        },
        "id": "1oFq1w6MIOkd",
        "outputId": "5015afde-6559-4802-d225-3b6683ebd8e2"
      },
      "source": [
        "plt.hist(bc_fitted_feature, bins=20)"
      ],
      "execution_count": 90,
      "outputs": [
        {
          "output_type": "execute_result",
          "data": {
            "text/plain": [
              "(array([  2.,   6.,  23.,  27.,  44., 107., 186., 251., 430., 569., 715.,\n",
              "        818., 694., 727., 623., 260., 147., 138.,  93., 100.]),\n",
              " array([14.71911655, 15.86242409, 17.00573163, 18.14903917, 19.29234671,\n",
              "        20.43565425, 21.57896179, 22.72226932, 23.86557686, 25.0088844 ,\n",
              "        26.15219194, 27.29549948, 28.43880702, 29.58211456, 30.7254221 ,\n",
              "        31.86872964, 33.01203718, 34.15534472, 35.29865226, 36.4419598 ,\n",
              "        37.58526734]),\n",
              " <a list of 20 Patch objects>)"
            ]
          },
          "metadata": {
            "tags": []
          },
          "execution_count": 90
        },
        {
          "output_type": "display_data",
          "data": {
            "image/png": "[encoded data removed]",
            "text/plain": [
              "<Figure size 864x432 with 1 Axes>"
            ]
          },
          "metadata": {
            "tags": [],
            "needs_background": "light"
          }
        }
      ]
    },
    {
      "cell_type": "markdown",
      "metadata": {
        "id": "dpqduGkrvbh9"
      },
      "source": [
        "Now, let's do the same thing but with Yeo-Johson. We can note that the optimal lambda is the same along with the output. Due to its simplicity, it is better to use Box Cox unless you have data which does not have strictly positive values."
      ]
    },
    {
      "cell_type": "code",
      "metadata": {
        "id": "6zvxxkHmWRun",
        "colab": {
          "base_uri": "https://localhost:8080/"
        },
        "outputId": "69566584-fbda-481c-f34f-10b87a97ea36"
      },
      "source": [
        "yj_fitted_feature, yj_fitted_lambda = stats.yeojohnson(feature)\r\n",
        "\r\n",
        "yj_fitted_lambda"
      ],
      "execution_count": 91,
      "outputs": [
        {
          "output_type": "execute_result",
          "data": {
            "text/plain": [
              "0.1910714444440362"
            ]
          },
          "metadata": {
            "tags": []
          },
          "execution_count": 91
        }
      ]
    },
    {
      "cell_type": "code",
      "metadata": {
        "colab": {
          "base_uri": "https://localhost:8080/",
          "height": 510
        },
        "id": "oyt8vy3cIRrY",
        "outputId": "3c32d8c1-657c-494b-bcbc-ec34a13f5d8a"
      },
      "source": [
        "plt.hist(yj_fitted_feature, bins=20)"
      ],
      "execution_count": 92,
      "outputs": [
        {
          "output_type": "execute_result",
          "data": {
            "text/plain": [
              "(array([  2.,   6.,  23.,  27.,  44., 107., 186., 251., 430., 569., 715.,\n",
              "        818., 694., 727., 623., 260., 147., 138.,  93., 100.]),\n",
              " array([14.71911242, 15.86241926, 17.0057261 , 18.14903294, 19.29233979,\n",
              "        20.43564663, 21.57895347, 22.72226031, 23.86556716, 25.008874  ,\n",
              "        26.15218084, 27.29548768, 28.43879452, 29.58210137, 30.72540821,\n",
              "        31.86871505, 33.01202189, 34.15532874, 35.29863558, 36.44194242,\n",
              "        37.58524926]),\n",
              " <a list of 20 Patch objects>)"
            ]
          },
          "metadata": {
            "tags": []
          },
          "execution_count": 92
        },
        {
          "output_type": "display_data",
          "data": {
            "image/png": "[encoded data removed]",
            "text/plain": [
              "<Figure size 864x432 with 1 Axes>"
            ]
          },
          "metadata": {
            "tags": [],
            "needs_background": "light"
          }
        }
      ]
    },
    {
      "cell_type": "markdown",
      "metadata": {
        "id": "sPKxrQ6tv360"
      },
      "source": [
        "Lastly, let's do the normal test one last time with the optimal lambda found by `scipy`. We can see that the test statistic still exceeds the cut off of 0.05 by far, but is much better than what we were dealing with previously."
      ]
    },
    {
      "cell_type": "code",
      "metadata": {
        "colab": {
          "base_uri": "https://localhost:8080/"
        },
        "id": "sapIAnqyu65C",
        "outputId": "06400e78-7e7a-4674-a68b-f565fc6ed088"
      },
      "source": [
        "stats.normaltest(yj_fitted_feature)"
      ],
      "execution_count": 93,
      "outputs": [
        {
          "output_type": "execute_result",
          "data": {
            "text/plain": [
              "NormaltestResult(statistic=10.847274655668734, pvalue=0.004411072914542767)"
            ]
          },
          "metadata": {
            "tags": []
          },
          "execution_count": 93
        }
      ]
    },
    {
      "cell_type": "code",
      "metadata": {
        "colab": {
          "base_uri": "https://localhost:8080/",
          "height": 388
        },
        "id": "VQzph3Z201nV",
        "outputId": "dca526be-a708-407c-f411-8296ac66d985"
      },
      "source": [
        "qqplot(yj_fitted_feature, line='s')\r\n",
        "pyplot.show()"
      ],
      "execution_count": 94,
      "outputs": [
        {
          "output_type": "display_data",
          "data": {
            "image/png": "[encoded data removed]",
            "text/plain": [
              "<Figure size 864x432 with 1 Axes>"
            ]
          },
          "metadata": {
            "tags": [],
            "needs_background": "light"
          }
        }
      ]
    },
    {
      "cell_type": "markdown",
      "metadata": {
        "id": "hLNaQmNRHBL-"
      },
      "source": [
        "## Apply transformations on train and test data separately\r\n",
        "So, before we continue let's quickly just apply a simple transform to all of our variables. We will just standardize them for now. Remember that you should be doing any transformations separately to your train data and test data. You want to try to keep your test data as pure as possible. If you make transformations before, you risk not having a truly representative sample of new unseen data to test your model on."
      ]
    },
    {
      "cell_type": "code",
      "metadata": {
        "colab": {
          "base_uri": "https://localhost:8080/",
          "height": 306
        },
        "id": "aUCLYVyjfaJE",
        "outputId": "2881efe2-0970-435c-bb97-db7646925175"
      },
      "source": [
        "numeric_vars = [\"LOAN\",\t\"MORTDUE\",\t\"VALUE\",\t\"YOJ\",\t\"DEROG\",\t\"DELINQ\", \"CLAGE\",\t\"NINQ\",\t\"CLNO\",\t\"DEBTINC\"]\t\r\n",
        "X_train.loc[:,numeric_vars] = X_train.select_dtypes(include='float64').apply(standardize)\r\n",
        "X_test.loc[:,numeric_vars] = X_test.select_dtypes(include='float64').apply(standardize)\r\n",
        "X_train.head()"
      ],
      "execution_count": 95,
      "outputs": [
        {
          "output_type": "stream",
          "text": [
            "/usr/local/lib/python3.6/dist-packages/pandas/core/frame.py:3069: SettingWithCopyWarning: \n",
            "A value is trying to be set on a copy of a slice from a DataFrame.\n",
            "Try using .loc[row_indexer,col_indexer] = value instead\n",
            "\n",
            "See the caveats in the documentation: https://pandas.pydata.org/pandas-docs/stable/user_guide/indexing.html#returning-a-view-versus-a-copy\n",
            "  self[k1] = value[k2]\n"
          ],
          "name": "stderr"
        },
        {
          "output_type": "execute_result",
          "data": {
            "text/html": [
              "<div>\n",
              "<style scoped>\n",
              "    .dataframe tbody tr th:only-of-type {\n",
              "        vertical-align: middle;\n",
              "    }\n",
              "\n",
              "    .dataframe tbody tr th {\n",
              "        vertical-align: top;\n",
              "    }\n",
              "\n",
              "    .dataframe thead th {\n",
              "        text-align: right;\n",
              "    }\n",
              "</style>\n",
              "<table border=\"1\" class=\"dataframe\">\n",
              "  <thead>\n",
              "    <tr style=\"text-align: right;\">\n",
              "      <th></th>\n",
              "      <th>LOAN</th>\n",
              "      <th>MORTDUE</th>\n",
              "      <th>VALUE</th>\n",
              "      <th>REASON</th>\n",
              "      <th>JOB</th>\n",
              "      <th>YOJ</th>\n",
              "      <th>DEROG</th>\n",
              "      <th>DELINQ</th>\n",
              "      <th>CLAGE</th>\n",
              "      <th>NINQ</th>\n",
              "      <th>CLNO</th>\n",
              "      <th>DEBTINC</th>\n",
              "      <th>DEROGzero</th>\n",
              "    </tr>\n",
              "  </thead>\n",
              "  <tbody>\n",
              "    <tr>\n",
              "      <th>5737</th>\n",
              "      <td>2.325395</td>\n",
              "      <td>-1.371827</td>\n",
              "      <td>-0.702523</td>\n",
              "      <td>DebtCon</td>\n",
              "      <td>Other</td>\n",
              "      <td>1.573086</td>\n",
              "      <td>-0.280591</td>\n",
              "      <td>-0.370877</td>\n",
              "      <td>0.347227</td>\n",
              "      <td>-0.751321</td>\n",
              "      <td>0.987005</td>\n",
              "      <td>1.039073</td>\n",
              "      <td>True</td>\n",
              "    </tr>\n",
              "    <tr>\n",
              "      <th>5734</th>\n",
              "      <td>2.315916</td>\n",
              "      <td>-1.632269</td>\n",
              "      <td>-0.666393</td>\n",
              "      <td>HomeImp</td>\n",
              "      <td>Office</td>\n",
              "      <td>-0.234394</td>\n",
              "      <td>-0.280591</td>\n",
              "      <td>-0.370877</td>\n",
              "      <td>1.683315</td>\n",
              "      <td>-0.751321</td>\n",
              "      <td>-0.227091</td>\n",
              "      <td>-3.137607</td>\n",
              "      <td>True</td>\n",
              "    </tr>\n",
              "    <tr>\n",
              "      <th>248</th>\n",
              "      <td>-1.229273</td>\n",
              "      <td>-0.189402</td>\n",
              "      <td>-1.709185</td>\n",
              "      <td>HomeImp</td>\n",
              "      <td>Mgr</td>\n",
              "      <td>-0.512468</td>\n",
              "      <td>-0.280591</td>\n",
              "      <td>0.555442</td>\n",
              "      <td>-0.143052</td>\n",
              "      <td>-0.097617</td>\n",
              "      <td>-1.340012</td>\n",
              "      <td>0.132794</td>\n",
              "      <td>True</td>\n",
              "    </tr>\n",
              "    <tr>\n",
              "      <th>3480</th>\n",
              "      <td>-0.006467</td>\n",
              "      <td>0.421246</td>\n",
              "      <td>0.357812</td>\n",
              "      <td>DebtCon</td>\n",
              "      <td>ProfExe</td>\n",
              "      <td>-0.234394</td>\n",
              "      <td>-0.280591</td>\n",
              "      <td>-0.370877</td>\n",
              "      <td>-0.309981</td>\n",
              "      <td>0.556087</td>\n",
              "      <td>-0.024742</td>\n",
              "      <td>-1.852545</td>\n",
              "      <td>True</td>\n",
              "    </tr>\n",
              "    <tr>\n",
              "      <th>2488</th>\n",
              "      <td>-0.338236</td>\n",
              "      <td>-0.182201</td>\n",
              "      <td>-0.314752</td>\n",
              "      <td>DebtCon</td>\n",
              "      <td>Office</td>\n",
              "      <td>-0.373431</td>\n",
              "      <td>-0.280591</td>\n",
              "      <td>-0.370877</td>\n",
              "      <td>-0.714862</td>\n",
              "      <td>-0.097617</td>\n",
              "      <td>-0.227091</td>\n",
              "      <td>-1.728760</td>\n",
              "      <td>True</td>\n",
              "    </tr>\n",
              "  </tbody>\n",
              "</table>\n",
              "</div>"
            ],
            "text/plain": [
              "          LOAN   MORTDUE     VALUE  ...      CLNO   DEBTINC  DEROGzero\n",
              "5737  2.325395 -1.371827 -0.702523  ...  0.987005  1.039073       True\n",
              "5734  2.315916 -1.632269 -0.666393  ... -0.227091 -3.137607       True\n",
              "248  -1.229273 -0.189402 -1.709185  ... -1.340012  0.132794       True\n",
              "3480 -0.006467  0.421246  0.357812  ... -0.024742 -1.852545       True\n",
              "2488 -0.338236 -0.182201 -0.314752  ... -0.227091 -1.728760       True\n",
              "\n",
              "[5 rows x 13 columns]"
            ]
          },
          "metadata": {
            "tags": []
          },
          "execution_count": 95
        }
      ]
    },
    {
      "cell_type": "markdown",
      "metadata": {
        "id": "0p_2fkdGdTwU"
      },
      "source": [
        "## Encoding nominal features using weight-of-evidence coding\n",
        "\n",
        "Weight of evidence encoding or WoE can be used to check if a variable hasp predictive power and can replace categories with that predictive power. Let's say we are computing a binary classification problem and we want to use this method to encode a categorical variable. We would first take the percent chance of y=0 (Good) and y=1 (Bad) for each category. Bad and good are often used because WoE comes from the credit scoring industry. We will then divide these two percents and take their natural logarithm. This is the WoE for that particular category, represented mathematically below:\n",
        "\n",
        "$$ WOE_{cat} = ln\\bigg(\\frac{\\text{% Good}}{\\text{% Bad}}\\bigg) $$\n",
        "\n",
        "\n",
        "As you can see from this equation, this is a simple way to represent which categories contain the most cases of y=0 or y=1. This is then assumed to be the predictive power of the variable.\n",
        "\n",
        "Note that you could do this will a continuous variable as well, you would just have to \"bin\" the variable. For example, if you had income as a continuous variable, you can determine cut-offs for \"low earners\", \"medium earners\" and \"high earners\" or whatever split makes most sense for your case.\n",
        "\n",
        "When you do your regression, you will now replace each bin or category with its respective WoE and perform the regression. The benefits of this include the ability to combine bins with similar WoE values and create more monotonic relationships which are easy to model. The drawbacks are possible loss of information and lack of ability to findd correlation between variables.\n",
        "\n",
        "### Information Value\n",
        "After calculating WoE, we can then calculate information value (IV) for a feature. This value will help us understand if the variable is useful in our prediction at all. It is calculated by finding the difference in the chance y=1 and y=0 multiplied by the WoE for each category, then summing all of these values for categories together.\n",
        " \n",
        "$$ IV = \\sum_{cat} \\bigg( \\big( p(\\text{BAD})_{cat} - p(\\text{GOOD})_{cat} \\big) * \\text{WOE}_{cat} \\bigg) $$\n",
        "\n",
        "### Adjusted Weight of Evidence\n",
        "There is also an alternative way to calculate WoE and handle missing WoE, this is called Adjusted Weight of Evidence:\n",
        "\n",
        "$$ ln \\bigg(\\frac{\\text{number of non-events}+0.5}{\\text{number of events} + 0.5} \\div \\frac{\\text{number of events} + 0.5}{\\text{number of events}} \\bigg) $$\n",
        "\n",
        "- showcase frequency counts / bar char of feature JOB as opener\n",
        "- present and describe from scratch implementation\n",
        "  - if you find the time, you could rework the from scratch implementation such that it functions more like a standard scaler class\n",
        "  - eg have methods `transform()` , `fit_transform()` etc.\n",
        "  - Ideally, one would then want to have a class, but this might go too far\n",
        "- apply from scratch implementation to JOB and calculate IV\n",
        "- create two logit models, one with JOB dummy-encoding another with JOB WOE encoded and compare their results\n",
        "  - run vanilla ML pipeline with train-test split and AUC evaluation \n",
        "  - use statsmodel logit to also show regression results\n",
        "- brief conclusion, stress that WOE is even more useful when having high-cardinal categories\n"
      ]
    },
    {
      "cell_type": "markdown",
      "metadata": {
        "id": "R2mNcGmudTwV"
      },
      "source": [
        "### WOE from scratch\r\n",
        "\r\n",
        "Of course, there are pre-made functions that we can use to calculate WoE. However, as usual we will try to create this by scratch initially so you can see the inner mechanics of WoE. Let's first examine the counts of each of the possible categories of `JOB`.\r\n",
        "\r\n"
      ]
    },
    {
      "cell_type": "code",
      "metadata": {
        "colab": {
          "base_uri": "https://localhost:8080/",
          "height": 418
        },
        "id": "1Q7OtE-EXaaz",
        "outputId": "7ad9fff9-ac57-4e25-f1a4-b1a34cc05435"
      },
      "source": [
        "df['JOB'].value_counts().plot(kind='bar')"
      ],
      "execution_count": 96,
      "outputs": [
        {
          "output_type": "execute_result",
          "data": {
            "text/plain": [
              "<matplotlib.axes._subplots.AxesSubplot at 0x7fd3b9e0ec18>"
            ]
          },
          "metadata": {
            "tags": []
          },
          "execution_count": 96
        },
        {
          "output_type": "display_data",
          "data": {
            "image/png": "[encoded data removed]",
            "text/plain": [
              "<Figure size 864x432 with 1 Axes>"
            ]
          },
          "metadata": {
            "tags": [],
            "needs_background": "light"
          }
        }
      ]
    },
    {
      "cell_type": "markdown",
      "metadata": {
        "id": "TunOZjehF9oK"
      },
      "source": [
        "#### Object Creation\r\n",
        "Instead of creating multiple functions and putting them together as we have done in the past, we are instead going to do something that is much more common in Python. We will create a new class and new methods/attributes. Note that each class starts with `class` then a name. You will then have to use `__init__` by convention to describe the initial arguments for the class. Note that `self` is always the first argument of everything in a class. This means that the originally set arguments will always be referenced after the object's initial creation. We recommend trying to create an object on your own to gain a much better understanding of how classes, methods and attributes work."
      ]
    },
    {
      "cell_type": "code",
      "metadata": {
        "id": "nG5dmS1TcAh4"
      },
      "source": [
        "class IV_Calc:\r\n",
        "  def __init__(self, df, feature, target):\r\n",
        "    self.feature = feature\r\n",
        "    self.target = target\r\n",
        "    self.data_head = df.head()\r\n",
        "\r\n",
        "  def count_values(self):\r\n",
        "    data = pd.DataFrame()\r\n",
        "    data['Count'] = df[self.feature].value_counts()               # Count instances of each category, create row for each\r\n",
        "    data['Bad'] = df.groupby([self.feature])[self.target].sum()   # Count y=1 instances of that category\r\n",
        "    data['Good'] = data['Count'] - data['Bad']                    # Count y=0 instances of that category\r\n",
        "    data = data.sort_values(by=[\"Count\"], ascending=False)\r\n",
        "    \r\n",
        "    try:\r\n",
        "      assert data[\"Bad\"].sum() != 0                               # Check that there are y=1 instances in sample\r\n",
        "      assert data[\"Good\"].sum() != 0                              # Check that there are y=0 instances in sample\r\n",
        "      assert np.isin(df[self.target].unique(), [0, 1]).all()      # Check that target includes only 0,1 or True,False\r\n",
        "    except:\r\n",
        "      print(\"Error: Target must include 2 binary classes.\")\r\n",
        "      raise                                                       # Stop running if one of the above conditions is not satisfied\r\n",
        "    \r\n",
        "    return data\r\n",
        "\r\n",
        "  def distribution(self):\r\n",
        "    data = self.count_values()\r\n",
        "    data['Ratio Bad'] = data['Bad'] / data['Count']\r\n",
        "    data['Ratio Good'] = data['Good'] / data['Count']\r\n",
        "    data[\"Distribution Bad\"] = data[\"Bad\"] / data[\"Bad\"].sum()    # Of all y=0 instances, what percentage are from each category?\r\n",
        "    data[\"Distribution Good\"] = data[\"Good\"] / data[\"Good\"].sum() # Of all y=1 instances, what percentage are from each category?\r\n",
        "    data = data.sort_values(by=[\"Count\"], ascending=False)\r\n",
        "    return data.iloc[:,-2:]\r\n",
        "  \r\n",
        "  def woe(self):\r\n",
        "    data = self.distribution()\r\n",
        "    data['WOE'] = np.log(data[\"Distribution Good\"] / data[\"Distribution Bad\"])\r\n",
        "    data.replace({\"WOE\": {np.inf: 0, -np.inf: 0}})  # If no instances are bad, this will replace values of infinity with 0\r\n",
        "    data = data.sort_values(by=[\"WOE\"], ascending=False)\r\n",
        "    return data.iloc[:,-1]\r\n",
        "  \r\n",
        "  def woe_adj(self):\r\n",
        "    data = self.count_values()\r\n",
        "    data[\"WOE_adj\"] = np.log( \r\n",
        "        ((data[\"Count\"] - data[\"Bad\"] + 0.5) / (data[\"Count\"].sum() - data[\"Bad\"].sum())) / \r\n",
        "        ((data[\"Bad\"] + 0.5) / data[\"Bad\"].sum())\r\n",
        "    )\r\n",
        "    data.replace({\"WOE_adj\": {np.inf: 0, -np.inf: 0}})\r\n",
        "    data = data.sort_values(by=[\"Count\"], ascending=False)\r\n",
        "    return data.iloc[:,-1]\r\n",
        "  \r\n",
        "  def IV_per_cat(self):\r\n",
        "    data = self.distribution()\r\n",
        "    data['WOE'] = self.woe()\r\n",
        "    data[\"IV\"] = data[\"WOE\"]*(data[\"Distribution Good\"] - data[\"Distribution Bad\"])\r\n",
        "    data = data.sort_values(by=[\"IV\"], ascending=False)\r\n",
        "    return data.iloc[:,-1]\r\n",
        "  \r\n",
        "  def full_summary(self):\r\n",
        "    data = self.count_values()\r\n",
        "    data['Ratio Bad'] = data['Bad'] / data['Count']\r\n",
        "    data['Ratio Good'] = data['Good'] / data['Count']\r\n",
        "    data[\"Distribution Bad\"] = data[\"Bad\"] / data[\"Bad\"].sum()\r\n",
        "    data[\"Distribution Good\"] = data[\"Good\"] / data[\"Good\"].sum()\r\n",
        "    data['WOE'] = self.woe()\r\n",
        "    data[\"WOE_adj\"] = self.woe_adj()\r\n",
        "    data[\"IV\"] = self.IV_per_cat()\r\n",
        "    data = data.sort_values(by=[\"Count\"], ascending=False)\r\n",
        "    return data\r\n",
        "\r\n",
        "  def final_assessment(self):\r\n",
        "    data = self.full_summary()\r\n",
        "    iv = data[\"IV\"].sum() # final IV value\r\n",
        "    if iv < .02:\r\n",
        "      print(\"The variable \" + self.feature + \" is not predictive with an IV of: {}\".format(iv))\r\n",
        "    elif iv < .1:\r\n",
        "      print(\"The variable \" + self.feature + \" is weakly predictive with an IV of:{}\".format(iv))\r\n",
        "    elif iv < .3:\r\n",
        "      print(\"The variable \" + self.feature + \" is moderately predictive with an IV of:{}\".format(iv))\r\n",
        "    else :\r\n",
        "      print(\"The variable \" + self.feature + \" is highly predictive with an IV of: {}\".format(iv))\r\n",
        "    return iv"
      ],
      "execution_count": 97,
      "outputs": []
    },
    {
      "cell_type": "code",
      "metadata": {
        "colab": {
          "base_uri": "https://localhost:8080/",
          "height": 235
        },
        "id": "D2CH23FOpVCw",
        "outputId": "9051f959-c09d-4577-f224-5a5ed4ed398b"
      },
      "source": [
        "train_df = pd.concat([X_train, y_train], axis=1)\r\n",
        "\r\n",
        "woe_job = IV_Calc(train_df, feature=\"JOB\", target=\"BAD\")\r\n",
        "\r\n",
        "woe_job.full_summary()"
      ],
      "execution_count": 98,
      "outputs": [
        {
          "output_type": "execute_result",
          "data": {
            "text/html": [
              "<div>\n",
              "<style scoped>\n",
              "    .dataframe tbody tr th:only-of-type {\n",
              "        vertical-align: middle;\n",
              "    }\n",
              "\n",
              "    .dataframe tbody tr th {\n",
              "        vertical-align: top;\n",
              "    }\n",
              "\n",
              "    .dataframe thead th {\n",
              "        text-align: right;\n",
              "    }\n",
              "</style>\n",
              "<table border=\"1\" class=\"dataframe\">\n",
              "  <thead>\n",
              "    <tr style=\"text-align: right;\">\n",
              "      <th></th>\n",
              "      <th>Count</th>\n",
              "      <th>Bad</th>\n",
              "      <th>Good</th>\n",
              "      <th>Ratio Bad</th>\n",
              "      <th>Ratio Good</th>\n",
              "      <th>Distribution Bad</th>\n",
              "      <th>Distribution Good</th>\n",
              "      <th>WOE</th>\n",
              "      <th>WOE_adj</th>\n",
              "      <th>IV</th>\n",
              "    </tr>\n",
              "  </thead>\n",
              "  <tbody>\n",
              "    <tr>\n",
              "      <th>Other</th>\n",
              "      <td>2667</td>\n",
              "      <td>577</td>\n",
              "      <td>2090</td>\n",
              "      <td>0.216348</td>\n",
              "      <td>0.783652</td>\n",
              "      <td>0.485282</td>\n",
              "      <td>0.438063</td>\n",
              "      <td>-0.102366</td>\n",
              "      <td>-0.102993</td>\n",
              "      <td>0.004834</td>\n",
              "    </tr>\n",
              "    <tr>\n",
              "      <th>ProfExe</th>\n",
              "      <td>1276</td>\n",
              "      <td>212</td>\n",
              "      <td>1064</td>\n",
              "      <td>0.166144</td>\n",
              "      <td>0.833856</td>\n",
              "      <td>0.178301</td>\n",
              "      <td>0.223014</td>\n",
              "      <td>0.223761</td>\n",
              "      <td>0.221875</td>\n",
              "      <td>0.010005</td>\n",
              "    </tr>\n",
              "    <tr>\n",
              "      <th>Office</th>\n",
              "      <td>948</td>\n",
              "      <td>125</td>\n",
              "      <td>823</td>\n",
              "      <td>0.131857</td>\n",
              "      <td>0.868143</td>\n",
              "      <td>0.105130</td>\n",
              "      <td>0.172501</td>\n",
              "      <td>0.495199</td>\n",
              "      <td>0.491814</td>\n",
              "      <td>0.033362</td>\n",
              "    </tr>\n",
              "    <tr>\n",
              "      <th>Mgr</th>\n",
              "      <td>767</td>\n",
              "      <td>179</td>\n",
              "      <td>588</td>\n",
              "      <td>0.233377</td>\n",
              "      <td>0.766623</td>\n",
              "      <td>0.150547</td>\n",
              "      <td>0.123245</td>\n",
              "      <td>-0.200102</td>\n",
              "      <td>-0.202042</td>\n",
              "      <td>0.005463</td>\n",
              "    </tr>\n",
              "    <tr>\n",
              "      <th>Self</th>\n",
              "      <td>193</td>\n",
              "      <td>58</td>\n",
              "      <td>135</td>\n",
              "      <td>0.300518</td>\n",
              "      <td>0.699482</td>\n",
              "      <td>0.048780</td>\n",
              "      <td>0.028296</td>\n",
              "      <td>-0.544612</td>\n",
              "      <td>-0.549498</td>\n",
              "      <td>0.011156</td>\n",
              "    </tr>\n",
              "    <tr>\n",
              "      <th>Sales</th>\n",
              "      <td>109</td>\n",
              "      <td>38</td>\n",
              "      <td>71</td>\n",
              "      <td>0.348624</td>\n",
              "      <td>0.651376</td>\n",
              "      <td>0.031960</td>\n",
              "      <td>0.014882</td>\n",
              "      <td>-0.764350</td>\n",
              "      <td>-0.770404</td>\n",
              "      <td>0.013054</td>\n",
              "    </tr>\n",
              "  </tbody>\n",
              "</table>\n",
              "</div>"
            ],
            "text/plain": [
              "         Count  Bad  Good  ...       WOE   WOE_adj        IV\n",
              "Other     2667  577  2090  ... -0.102366 -0.102993  0.004834\n",
              "ProfExe   1276  212  1064  ...  0.223761  0.221875  0.010005\n",
              "Office     948  125   823  ...  0.495199  0.491814  0.033362\n",
              "Mgr        767  179   588  ... -0.200102 -0.202042  0.005463\n",
              "Self       193   58   135  ... -0.544612 -0.549498  0.011156\n",
              "Sales      109   38    71  ... -0.764350 -0.770404  0.013054\n",
              "\n",
              "[6 rows x 10 columns]"
            ]
          },
          "metadata": {
            "tags": []
          },
          "execution_count": 98
        }
      ]
    },
    {
      "cell_type": "code",
      "metadata": {
        "colab": {
          "base_uri": "https://localhost:8080/"
        },
        "id": "-P1FIfJqJhy3",
        "outputId": "3e000420-4427-41d0-b2a2-9097df35fcb7"
      },
      "source": [
        "woe_job.final_assessment()"
      ],
      "execution_count": 99,
      "outputs": [
        {
          "output_type": "stream",
          "text": [
            "The variable JOB is weakly predictive with an IV of:0.07787316133784931\n"
          ],
          "name": "stdout"
        },
        {
          "output_type": "execute_result",
          "data": {
            "text/plain": [
              "0.07787316133784931"
            ]
          },
          "metadata": {
            "tags": []
          },
          "execution_count": 99
        }
      ]
    },
    {
      "cell_type": "markdown",
      "metadata": {
        "id": "7M6M4UzfdTwa"
      },
      "source": [
        "We can now plot the WoE for each category and see how they compare. Keep in mind that this variable is only weakly predictive for our scenario. We can check the WoE for each of the categories as well. At this point we should decide whether it is actually worth it to continue using it in our analysis. If we do, we can replace these categories with their respective WoE values."
      ]
    },
    {
      "cell_type": "code",
      "metadata": {
        "id": "BRBEabG8dTwd",
        "colab": {
          "base_uri": "https://localhost:8080/",
          "height": 448
        },
        "outputId": "fce172db-9098-4691-f1fa-2a3ad45398ca"
      },
      "source": [
        "woe_job.woe().plot(kind=\"bar\", title=\"WoE of Categories of JOB\", ylabel=\"WoE\", xlabel=\"Categories\")"
      ],
      "execution_count": 100,
      "outputs": [
        {
          "output_type": "execute_result",
          "data": {
            "text/plain": [
              "<matplotlib.axes._subplots.AxesSubplot at 0x7fd3b9d7de80>"
            ]
          },
          "metadata": {
            "tags": []
          },
          "execution_count": 100
        },
        {
          "output_type": "display_data",
          "data": {
            "image/png": "[encoded data removed]",
            "text/plain": [
              "<Figure size 864x432 with 1 Axes>"
            ]
          },
          "metadata": {
            "tags": [],
            "needs_background": "light"
          }
        }
      ]
    },
    {
      "cell_type": "markdown",
      "metadata": {
        "id": "OeQc6bVhdTwd"
      },
      "source": [
        "### WoE using scorecardpy\r\n",
        "\r\n",
        "If you would like a quick implementation of the above, you can check out the package scorecardpy. You can view the documentation [here](https://pypi.org/project/scorecardpy/). "
      ]
    },
    {
      "cell_type": "code",
      "metadata": {
        "colab": {
          "base_uri": "https://localhost:8080/"
        },
        "id": "zn1g6G-oHOJ4",
        "outputId": "9d693aad-d83f-424b-a2c0-5070ad616107"
      },
      "source": [
        "!pip install scorecardpy\r\n",
        "import scorecardpy as sc"
      ],
      "execution_count": 101,
      "outputs": [
        {
          "output_type": "stream",
          "text": [
            "Requirement already satisfied: scorecardpy in /usr/local/lib/python3.6/dist-packages (0.1.9.2)\n",
            "Requirement already satisfied: scikit-learn>=0.19.1 in /usr/local/lib/python3.6/dist-packages (from scorecardpy) (0.22.2.post1)\n",
            "Requirement already satisfied: matplotlib in /usr/local/lib/python3.6/dist-packages (from scorecardpy) (3.2.2)\n",
            "Requirement already satisfied: numpy in /usr/local/lib/python3.6/dist-packages (from scorecardpy) (1.19.4)\n",
            "Requirement already satisfied: pandas>=0.25.0 in /usr/local/lib/python3.6/dist-packages (from scorecardpy) (1.1.5)\n",
            "Requirement already satisfied: scipy>=0.17.0 in /usr/local/lib/python3.6/dist-packages (from scikit-learn>=0.19.1->scorecardpy) (1.4.1)\n",
            "Requirement already satisfied: joblib>=0.11 in /usr/local/lib/python3.6/dist-packages (from scikit-learn>=0.19.1->scorecardpy) (1.0.0)\n",
            "Requirement already satisfied: kiwisolver>=1.0.1 in /usr/local/lib/python3.6/dist-packages (from matplotlib->scorecardpy) (1.3.1)\n",
            "Requirement already satisfied: cycler>=0.10 in /usr/local/lib/python3.6/dist-packages (from matplotlib->scorecardpy) (0.10.0)\n",
            "Requirement already satisfied: pyparsing!=2.0.4,!=2.1.2,!=2.1.6,>=2.0.1 in /usr/local/lib/python3.6/dist-packages (from matplotlib->scorecardpy) (2.4.7)\n",
            "Requirement already satisfied: python-dateutil>=2.1 in /usr/local/lib/python3.6/dist-packages (from matplotlib->scorecardpy) (2.8.1)\n",
            "Requirement already satisfied: pytz>=2017.2 in /usr/local/lib/python3.6/dist-packages (from pandas>=0.25.0->scorecardpy) (2018.9)\n",
            "Requirement already satisfied: six in /usr/local/lib/python3.6/dist-packages (from cycler>=0.10->matplotlib->scorecardpy) (1.15.0)\n"
          ],
          "name": "stdout"
        }
      ]
    },
    {
      "cell_type": "code",
      "metadata": {
        "colab": {
          "base_uri": "https://localhost:8080/",
          "height": 424
        },
        "id": "Wm88yDyWWlmX",
        "outputId": "64a4340a-43c6-4a17-c2c1-7df6c3b5e45f"
      },
      "source": [
        "woe = sc.woebin(train_df, y=\"BAD\", x='CLAGE')\r\n",
        "sc.woebin_plot(woe)"
      ],
      "execution_count": 102,
      "outputs": [
        {
          "output_type": "stream",
          "text": [
            "[INFO] creating woe binning ...\n"
          ],
          "name": "stdout"
        },
        {
          "output_type": "execute_result",
          "data": {
            "text/plain": [
              "{'CLAGE': <Figure size 864x432 with 2 Axes>}"
            ]
          },
          "metadata": {
            "tags": []
          },
          "execution_count": 102
        },
        {
          "output_type": "display_data",
          "data": {
            "image/png": "[encoded data removed]",
            "text/plain": [
              "<Figure size 864x432 with 2 Axes>"
            ]
          },
          "metadata": {
            "tags": [],
            "needs_background": "light"
          }
        }
      ]
    },
    {
      "cell_type": "code",
      "metadata": {
        "colab": {
          "base_uri": "https://localhost:8080/",
          "height": 436
        },
        "id": "PowmJJ57Lec9",
        "outputId": "30faddd7-bb8a-489c-889a-1e28e24c4c84"
      },
      "source": [
        "sc.woebin_ply(X_train, woe) # if you would like to replace a variable with its WoE, scorecard has an easy function to do so"
      ],
      "execution_count": 103,
      "outputs": [
        {
          "output_type": "stream",
          "text": [
            "[INFO] converting into woe values ...\n"
          ],
          "name": "stdout"
        },
        {
          "output_type": "execute_result",
          "data": {
            "text/html": [
              "<div>\n",
              "<style scoped>\n",
              "    .dataframe tbody tr th:only-of-type {\n",
              "        vertical-align: middle;\n",
              "    }\n",
              "\n",
              "    .dataframe tbody tr th {\n",
              "        vertical-align: top;\n",
              "    }\n",
              "\n",
              "    .dataframe thead th {\n",
              "        text-align: right;\n",
              "    }\n",
              "</style>\n",
              "<table border=\"1\" class=\"dataframe\">\n",
              "  <thead>\n",
              "    <tr style=\"text-align: right;\">\n",
              "      <th></th>\n",
              "      <th>NINQ</th>\n",
              "      <th>DEROG</th>\n",
              "      <th>VALUE</th>\n",
              "      <th>REASON</th>\n",
              "      <th>LOAN</th>\n",
              "      <th>JOB</th>\n",
              "      <th>CLNO</th>\n",
              "      <th>DELINQ</th>\n",
              "      <th>MORTDUE</th>\n",
              "      <th>DEBTINC</th>\n",
              "      <th>YOJ</th>\n",
              "      <th>DEROGzero</th>\n",
              "      <th>CLAGE_woe</th>\n",
              "    </tr>\n",
              "  </thead>\n",
              "  <tbody>\n",
              "    <tr>\n",
              "      <th>0</th>\n",
              "      <td>-0.097617</td>\n",
              "      <td>-0.280591</td>\n",
              "      <td>-1.211918</td>\n",
              "      <td>HomeImp</td>\n",
              "      <td>-1.646354</td>\n",
              "      <td>Other</td>\n",
              "      <td>-1.238838</td>\n",
              "      <td>-0.370877</td>\n",
              "      <td>-1.182359</td>\n",
              "      <td>0.132794</td>\n",
              "      <td>0.252235</td>\n",
              "      <td>True</td>\n",
              "      <td>0.590143</td>\n",
              "    </tr>\n",
              "    <tr>\n",
              "      <th>1</th>\n",
              "      <td>-0.751321</td>\n",
              "      <td>-0.280591</td>\n",
              "      <td>-0.633530</td>\n",
              "      <td>HomeImp</td>\n",
              "      <td>-1.627396</td>\n",
              "      <td>Other</td>\n",
              "      <td>-0.732965</td>\n",
              "      <td>1.481760</td>\n",
              "      <td>-0.061755</td>\n",
              "      <td>0.132794</td>\n",
              "      <td>-0.234394</td>\n",
              "      <td>True</td>\n",
              "      <td>0.237274</td>\n",
              "    </tr>\n",
              "    <tr>\n",
              "      <th>2</th>\n",
              "      <td>-0.097617</td>\n",
              "      <td>-0.280591</td>\n",
              "      <td>-1.651493</td>\n",
              "      <td>HomeImp</td>\n",
              "      <td>-1.608437</td>\n",
              "      <td>Other</td>\n",
              "      <td>-1.137663</td>\n",
              "      <td>-0.370877</td>\n",
              "      <td>-1.495772</td>\n",
              "      <td>0.132794</td>\n",
              "      <td>-0.651505</td>\n",
              "      <td>True</td>\n",
              "      <td>0.237274</td>\n",
              "    </tr>\n",
              "    <tr>\n",
              "      <th>3</th>\n",
              "      <td>-0.097617</td>\n",
              "      <td>-0.280591</td>\n",
              "      <td>-0.223283</td>\n",
              "      <td>IsMissing</td>\n",
              "      <td>-1.608437</td>\n",
              "      <td>Other</td>\n",
              "      <td>-0.125917</td>\n",
              "      <td>-0.370877</td>\n",
              "      <td>-0.189402</td>\n",
              "      <td>0.132794</td>\n",
              "      <td>-0.234394</td>\n",
              "      <td>True</td>\n",
              "      <td>0.237274</td>\n",
              "    </tr>\n",
              "    <tr>\n",
              "      <th>5</th>\n",
              "      <td>-0.097617</td>\n",
              "      <td>-0.280591</td>\n",
              "      <td>-1.186420</td>\n",
              "      <td>HomeImp</td>\n",
              "      <td>-1.589479</td>\n",
              "      <td>Other</td>\n",
              "      <td>-1.340012</td>\n",
              "      <td>-0.370877</td>\n",
              "      <td>-1.063485</td>\n",
              "      <td>0.481849</td>\n",
              "      <td>0.043679</td>\n",
              "      <td>True</td>\n",
              "      <td>0.237274</td>\n",
              "    </tr>\n",
              "    <tr>\n",
              "      <th>...</th>\n",
              "      <td>...</td>\n",
              "      <td>...</td>\n",
              "      <td>...</td>\n",
              "      <td>...</td>\n",
              "      <td>...</td>\n",
              "      <td>...</td>\n",
              "      <td>...</td>\n",
              "      <td>...</td>\n",
              "      <td>...</td>\n",
              "      <td>...</td>\n",
              "      <td>...</td>\n",
              "      <td>...</td>\n",
              "      <td>...</td>\n",
              "    </tr>\n",
              "    <tr>\n",
              "      <th>5954</th>\n",
              "      <td>-0.751321</td>\n",
              "      <td>-0.280591</td>\n",
              "      <td>-0.141856</td>\n",
              "      <td>DebtCon</td>\n",
              "      <td>3.927365</td>\n",
              "      <td>Other</td>\n",
              "      <td>-0.631790</td>\n",
              "      <td>0.555442</td>\n",
              "      <td>-0.597651</td>\n",
              "      <td>0.132794</td>\n",
              "      <td>0.877901</td>\n",
              "      <td>True</td>\n",
              "      <td>-0.562282</td>\n",
              "    </tr>\n",
              "    <tr>\n",
              "      <th>5956</th>\n",
              "      <td>-0.751321</td>\n",
              "      <td>-0.280591</td>\n",
              "      <td>-0.150401</td>\n",
              "      <td>DebtCon</td>\n",
              "      <td>3.927365</td>\n",
              "      <td>Other</td>\n",
              "      <td>-0.631790</td>\n",
              "      <td>-0.370877</td>\n",
              "      <td>-0.454206</td>\n",
              "      <td>0.291207</td>\n",
              "      <td>1.016938</td>\n",
              "      <td>True</td>\n",
              "      <td>-0.562282</td>\n",
              "    </tr>\n",
              "    <tr>\n",
              "      <th>5957</th>\n",
              "      <td>-0.751321</td>\n",
              "      <td>-0.280591</td>\n",
              "      <td>-0.150657</td>\n",
              "      <td>DebtCon</td>\n",
              "      <td>3.927365</td>\n",
              "      <td>Other</td>\n",
              "      <td>-0.631790</td>\n",
              "      <td>-0.370877</td>\n",
              "      <td>-0.467670</td>\n",
              "      <td>0.245072</td>\n",
              "      <td>0.877901</td>\n",
              "      <td>True</td>\n",
              "      <td>-0.562282</td>\n",
              "    </tr>\n",
              "    <tr>\n",
              "      <th>5958</th>\n",
              "      <td>-0.751321</td>\n",
              "      <td>-0.280591</td>\n",
              "      <td>-0.171588</td>\n",
              "      <td>DebtCon</td>\n",
              "      <td>3.927365</td>\n",
              "      <td>Other</td>\n",
              "      <td>-0.530615</td>\n",
              "      <td>-0.370877</td>\n",
              "      <td>-0.560858</td>\n",
              "      <td>0.060199</td>\n",
              "      <td>0.738864</td>\n",
              "      <td>True</td>\n",
              "      <td>-0.562282</td>\n",
              "    </tr>\n",
              "    <tr>\n",
              "      <th>5959</th>\n",
              "      <td>-0.751321</td>\n",
              "      <td>-0.280591</td>\n",
              "      <td>-0.229220</td>\n",
              "      <td>DebtCon</td>\n",
              "      <td>3.927365</td>\n",
              "      <td>Other</td>\n",
              "      <td>-0.530615</td>\n",
              "      <td>-0.370877</td>\n",
              "      <td>-0.600389</td>\n",
              "      <td>0.095272</td>\n",
              "      <td>0.877901</td>\n",
              "      <td>True</td>\n",
              "      <td>-0.562282</td>\n",
              "    </tr>\n",
              "  </tbody>\n",
              "</table>\n",
              "<p>4768 rows × 13 columns</p>\n",
              "</div>"
            ],
            "text/plain": [
              "          NINQ     DEROG     VALUE  ...       YOJ  DEROGzero CLAGE_woe\n",
              "0    -0.097617 -0.280591 -1.211918  ...  0.252235       True  0.590143\n",
              "1    -0.751321 -0.280591 -0.633530  ... -0.234394       True  0.237274\n",
              "2    -0.097617 -0.280591 -1.651493  ... -0.651505       True  0.237274\n",
              "3    -0.097617 -0.280591 -0.223283  ... -0.234394       True  0.237274\n",
              "5    -0.097617 -0.280591 -1.186420  ...  0.043679       True  0.237274\n",
              "...        ...       ...       ...  ...       ...        ...       ...\n",
              "5954 -0.751321 -0.280591 -0.141856  ...  0.877901       True -0.562282\n",
              "5956 -0.751321 -0.280591 -0.150401  ...  1.016938       True -0.562282\n",
              "5957 -0.751321 -0.280591 -0.150657  ...  0.877901       True -0.562282\n",
              "5958 -0.751321 -0.280591 -0.171588  ...  0.738864       True -0.562282\n",
              "5959 -0.751321 -0.280591 -0.229220  ...  0.877901       True -0.562282\n",
              "\n",
              "[4768 rows x 13 columns]"
            ]
          },
          "metadata": {
            "tags": []
          },
          "execution_count": 103
        }
      ]
    },
    {
      "cell_type": "markdown",
      "metadata": {
        "id": "RtBM6bm4dTwe"
      },
      "source": [
        "# Feature Selection\n",
        "\n",
        "## Filter methods\n",
        "Filters are statistical methods which test variables one by one and their relevance to the task at hand. Since they are relatively easy to compute, they tend to be checked first. The next methods of feature selection require more computational power, therefore eliminating variables using filters first will save time later.\n",
        "\n",
        "Let's recall the chart we saw in class. The columns represent the target, is it continuous or discrete? The rows represent the variable to test, is it continuous or discrete/categorical? The best test is the one that corresponds to the right row/column.\n",
        "\n",
        "```\n",
        "Data Types      | CONTINUOUS TARGET     | DISCRETE TARGET\n",
        "-------------------------------------------------------------------------------\n",
        "CONTINUOUS VAR  | Pearson Correlation   | Fisher Score\n",
        "CATEGORICAL VAR | Fisher Score / ANOVA  | Chi-Square / Cramer's V/ IV/ Gain\n",
        "```\n",
        "\n"
      ]
    },
    {
      "cell_type": "markdown",
      "metadata": {
        "id": "l6ESJ7jCiOUa"
      },
      "source": [
        "### Pearson Correlation\r\n",
        "This is probably the most common correlation metric used. It is often just called correlation. It is remarkable for its very simple implementation:\r\n",
        "\r\n",
        "$$ \\rho = \\frac{{}\\sum_{i=1}^{n} (x_i - \\overline{x})(y_i - \\overline{y})}\r\n",
        "{\\sqrt{\\sum_{i=1}^{n} (x_i - \\overline{x})^2 \\sum_{i=1}^{n} (y_i - \\overline{y})^2}} $$\r\n",
        "\r\n",
        "This correlation is best used when target and the variable to check are **both continuous**. The coefficient produced is bound between -1 and 1. It is recommended to only keep variables with a high correlation, however there is no rule that you can always follow. The closer that this coefficient is to 0, the less correlation between the variable and the target.\r\n",
        "\r\n"
      ]
    },
    {
      "cell_type": "markdown",
      "metadata": {
        "id": "i8nrsT1JiTSF"
      },
      "source": [
        "### Fisher Score\r\n",
        "This method of finding correlation can be used if **either** the target or variable in question is binary. It generalizes into an ANOVA test if there are multiple categories.\r\n",
        "\r\n",
        "$$ FS = \\frac{|\\bar{x}_G - \\bar{x}_B |}{\\sqrt{s^2_G + s^2_B}} $$\r\n",
        "\r\n",
        "### Analysis of Variance (ANOVA)\r\n",
        "ANOVA specifically compares the means of a **feature with more than 2 categories with a continuous target**. For example, we had the feature `JOB`. If our target was continuous, ANOVA would be testing if each category in `JOB` actually corresponded to a different mean in our target. \r\n",
        "\r\n",
        "So, we first find the sum of squares between categories:\r\n",
        "$$ SSD_B = \\sum_{i=1}^k \\sum_{j=1}^n \\left(\\bar{x}_i - \\bar{x}_.\\right)^2 = n\\sum_{i=1}^k \\left(\\bar{x}_i - \\bar{x}_.\\right)^2 $$\r\n",
        "\r\n",
        "We then find the sum of square difference within categories:\r\n",
        "$$ SSD_W = \\sum_{i=1}^k\\sum_{j=1}^n \\left(x_{ij} - \\bar{x}_i \\right)^2 $$\r\n",
        "\r\n",
        "Now we divide the $ SSD_B $ by its degree of freedom: k categories minus 1. This gives us the mean $ SSD_B $. And then we divide $ SSD_W $ by its degrees of freedom, number of observations minus k categories. This gives us the mean $ SSD_W $.\r\n",
        "\r\n",
        "$$ \\mu_B = \\frac{SSD_B}{k-1} $$\r\n",
        "\r\n",
        "$$ \\mu_W = \\frac{SSD_W}{n-k} $$\r\n",
        "\r\n",
        "Now we have the F-stastic that we can use.\r\n",
        "$$ F = \\frac{\\mu_B}{\\mu_W} $$\r\n",
        "\r\n",
        "We must compare this value to the [F-Distribution Table](http://www.socr.ucla.edu/Applets.dir/F_Table.html) and decide whether we want to include it in the analysis.\r\n",
        "\r\n"
      ]
    },
    {
      "cell_type": "markdown",
      "metadata": {
        "id": "fZeIjLqfiV_c"
      },
      "source": [
        "### Chi-Square Analysis\r\n",
        "\r\n",
        "Chi Square tests whether events are dependent on one another. If there is no dependence between the target and the feature, it becomes more unlikely that it would actually would be meaninigful to include in the analysis.\r\n",
        "\r\n",
        "$$ \\chi^2 = \\sum{\\frac{(O_i - E_i)^2}{E_i}} $$\r\n",
        "\r\n",
        "Chi square is only used when **both the feature of interest and the target are both categorical variables**. You must use a [chi-square table](https://web.ma.utexas.edu/users/davis/375/popecol/tables/chisq.html) (this one is alpha = 0.10) to assess whether you would like to include this varible in the end or not. Remember that if one category has too little observations, this test's results may not be accurate.\r\n",
        "\r\n",
        "### Cramer's V\r\n",
        "\r\n",
        "This method is always bound between 0 and 1. Higher values are more predictive with a threshold of 0.1 being the most common.\r\n",
        "\r\n",
        "$$ V = \\sqrt{\\frac{\\chi^2}{n}} $$\r\n",
        "\r\n",
        "Cramer's V is based on Chi-Square, which means **both the feature of interest and the target are both categorical variables**. This value is always bound between 0 and 1. A higher value indicates higher preditive power. A threshold of 0.1 is common.\r\n",
        "\r\n",
        "\r\n"
      ]
    },
    {
      "cell_type": "markdown",
      "metadata": {
        "id": "CJrG1rRRiYQP"
      },
      "source": [
        "### Information Value\r\n",
        "\r\n",
        "This is the value that we calculated before in the section on Weight of Evidence. The main purpose of this value was to assess the preditive power of a **categorical variable and a binary target**. \r\n",
        "\r\n",
        "$$ IV = \\sum_{cat} \\bigg( \\big( p(\\text{BAD})_{cat} - p(\\text{GOOD})_{cat} \\big) * \\text{WOE}_{cat} \\bigg) $$\r\n",
        "\r\n",
        "Generally, the following tells you the usefulness of an IV variable's score:\r\n",
        "\r\n",
        "IV < 0.02: not predictive\r\n",
        "\r\n",
        "0.02 – 0.1: weak predictive ability\r\n",
        "\r\n",
        "0.1 – 0.3: medium predictive ability\r\n",
        "\r\n",
        "0.3 < IV: strong predictive ability\r\n",
        "\r\n"
      ]
    },
    {
      "cell_type": "markdown",
      "metadata": {
        "id": "vOGxNSE1iZWp"
      },
      "source": [
        "### Information Gain / Entropy\r\n",
        "\r\n",
        "Entropy normally means chaos. In machine learning, it is defined as an equal chance of selecting any category of the target variable. If you have a set of observations and there is an equal mix of all target labels in this set, entropy is maximized. If you can find some feature split to cause only one target label in each section of data, then entropy is minimized. Information Gain is the difference between the entropy before and the sum of entropy in each group after a split. As such, this method is most appropriate for **both a discrete feature and discrete target**.\r\n",
        "\r\n",
        "Entropy is calculated by the following formula:\r\n",
        "\r\n",
        "$$ E = -\\sum^C_i p_i \\cdot log_2(p_i) $$\r\n",
        "\r\n",
        "Then information gain can be defined as the sum of entropy in total minus entropy of each category separately (this is the same as entropy in a decision tree):\r\n",
        "\r\n",
        "$$ \\text{Info Gain} = E_\\text{total} - \\sum{E_\\text{category}}  $$\r\n",
        "\r\n",
        "It is up to you to decide how little information gain to tolerate to consider a variable to be helpful."
      ]
    },
    {
      "cell_type": "markdown",
      "metadata": {
        "id": "CdOVJ9QLilj9"
      },
      "source": [
        "Now that we know some of these methods, let's see what they look like in some code from scratch. Note that the function below is not made to deal with every type of data (especially if the target is a variable with multiple categories). However, we can see quite a lot of the decisions that you will need to make behind the scenes for it to all work."
      ]
    },
    {
      "cell_type": "code",
      "metadata": {
        "id": "m7K9uG4wCSWn"
      },
      "source": [
        "class filter_binary_target:\r\n",
        "  def __init__(self, df, target):\r\n",
        "    self.target = target\r\n",
        "    self.data_head = df.head()\r\n",
        "  \r\n",
        "  def auto_filter_binary_target(self):\r\n",
        "    print('Data must be in a clean pandas DataFrame. Categorical variables must be of data type bool or category. Continuous variables must be int64 or float64.')\r\n",
        "    data_no_target = df.drop(columns=self.target)\r\n",
        "    columns = ['Data Type', 'Metric', 'Score']\r\n",
        "    index = data_no_target.columns\r\n",
        "    result = pd.DataFrame(index=index, columns=columns)\r\n",
        "\r\n",
        "    for col in data_no_target:\r\n",
        "      if data_no_target.dtypes[col] == 'bool' or data_no_target.dtypes[col].name == 'category':\r\n",
        "        result.loc[col, 'Data Type'] = \"discrete\"\r\n",
        "        result.loc[col, 'Metric'] = \"IV\"\r\n",
        "        result.loc[col, 'Score'] = self.IV_binary_target(feature=col)\r\n",
        "\r\n",
        "      if data_no_target.dtypes[col] == 'int64' or data_no_target.dtypes[col] == 'float64':\r\n",
        "        result.loc[col, 'Data Type'] = \"continuous\"\r\n",
        "        result.loc[col, 'Metric'] = \"Fisher\"\r\n",
        "        result.loc[col, 'Score'] = self.fisher_binary_target(feature=col)\r\n",
        "\r\n",
        "    return result\r\n",
        "\r\n",
        "  def IV_binary_target(self, feature): # same code as used above\r\n",
        "    data = pd.DataFrame()\r\n",
        "    \r\n",
        "    data['Count'] = df[feature].value_counts()\r\n",
        "    data['Bad'] = df.groupby([feature])[self.target].sum()\r\n",
        "    data['Good'] = data['Count'] - data['Bad']\r\n",
        "    \r\n",
        "    data[\"Distribution Bad\"] = data[\"Bad\"] / data[\"Bad\"].sum()\r\n",
        "    data[\"Distribution Good\"] = data[\"Good\"] / data[\"Good\"].sum()\r\n",
        "    \r\n",
        "    data['WOE'] = np.log(data[\"Distribution Good\"] / data[\"Distribution Bad\"])\r\n",
        "    data.replace({\"WOE\": {np.inf: 0, -np.inf: 0}})\r\n",
        "    \r\n",
        "    data[\"IV\"] = data[\"WOE\"] * (data[\"Distribution Good\"] - data[\"Distribution Bad\"])\r\n",
        "    \r\n",
        "    iv = data[\"IV\"].sum()\r\n",
        "    \r\n",
        "    return iv\r\n",
        "\r\n",
        "  def fisher_binary_target(self, feature):\r\n",
        "    mu_0 = df.groupby(df[self.target])[feature].mean()[0]\r\n",
        "    mu_1 = df.groupby(df[self.target])[feature].mean()[1]\r\n",
        "    var_0 = df.groupby(df[self.target])[feature].var()[0]\r\n",
        "    var_1 = df.groupby(df[self.target])[feature].var()[1]\r\n",
        "\r\n",
        "    num = abs(mu_0 - mu_1)\r\n",
        "    den = (var_0 + var_1) ** 0.5\r\n",
        "    score = num/den\r\n",
        "    \r\n",
        "    return score\r\n",
        "\r\n",
        "  def pearson(self, feature): # since our target is binary, we actually don't need this. However, if you would like to expand this class, you can use this code\r\n",
        "    mean_feature = df[feature].mean()\r\n",
        "    mean_target = df[self.target].mean()\r\n",
        "    num = ((df[feature] - mean_feature)*(df[self.target] - mean_target)).sum()\r\n",
        "    den = (((df[feature] - mean_feature)**2).sum() * ((df[self.target] - mean_target)**2).sum()) ** .5\r\n",
        "    rho = num/den\r\n",
        "    return rho"
      ],
      "execution_count": 104,
      "outputs": []
    },
    {
      "cell_type": "code",
      "metadata": {
        "colab": {
          "base_uri": "https://localhost:8080/",
          "height": 469
        },
        "id": "5mKFETU5BXA3",
        "outputId": "c38b1ee2-134f-444e-bb0c-d7497cd7b800"
      },
      "source": [
        "test = filter_binary_target(df=train_df, target=\"BAD\")\r\n",
        "\r\n",
        "test.auto_filter_binary_target()"
      ],
      "execution_count": 105,
      "outputs": [
        {
          "output_type": "stream",
          "text": [
            "Data must be in a clean pandas DataFrame. Categorical variables must be of data type bool or category. Continuous variables must be int64 or float64.\n"
          ],
          "name": "stdout"
        },
        {
          "output_type": "execute_result",
          "data": {
            "text/html": [
              "<div>\n",
              "<style scoped>\n",
              "    .dataframe tbody tr th:only-of-type {\n",
              "        vertical-align: middle;\n",
              "    }\n",
              "\n",
              "    .dataframe tbody tr th {\n",
              "        vertical-align: top;\n",
              "    }\n",
              "\n",
              "    .dataframe thead th {\n",
              "        text-align: right;\n",
              "    }\n",
              "</style>\n",
              "<table border=\"1\" class=\"dataframe\">\n",
              "  <thead>\n",
              "    <tr style=\"text-align: right;\">\n",
              "      <th></th>\n",
              "      <th>Data Type</th>\n",
              "      <th>Metric</th>\n",
              "      <th>Score</th>\n",
              "    </tr>\n",
              "  </thead>\n",
              "  <tbody>\n",
              "    <tr>\n",
              "      <th>LOAN</th>\n",
              "      <td>continuous</td>\n",
              "      <td>Fisher</td>\n",
              "      <td>0.13309</td>\n",
              "    </tr>\n",
              "    <tr>\n",
              "      <th>MORTDUE</th>\n",
              "      <td>continuous</td>\n",
              "      <td>Fisher</td>\n",
              "      <td>0.0951093</td>\n",
              "    </tr>\n",
              "    <tr>\n",
              "      <th>VALUE</th>\n",
              "      <td>continuous</td>\n",
              "      <td>Fisher</td>\n",
              "      <td>0.106516</td>\n",
              "    </tr>\n",
              "    <tr>\n",
              "      <th>REASON</th>\n",
              "      <td>discrete</td>\n",
              "      <td>IV</td>\n",
              "      <td>0.00861846</td>\n",
              "    </tr>\n",
              "    <tr>\n",
              "      <th>JOB</th>\n",
              "      <td>discrete</td>\n",
              "      <td>IV</td>\n",
              "      <td>0.0778732</td>\n",
              "    </tr>\n",
              "    <tr>\n",
              "      <th>YOJ</th>\n",
              "      <td>continuous</td>\n",
              "      <td>Fisher</td>\n",
              "      <td>0.0979491</td>\n",
              "    </tr>\n",
              "    <tr>\n",
              "      <th>DEROG</th>\n",
              "      <td>continuous</td>\n",
              "      <td>Fisher</td>\n",
              "      <td>0.358356</td>\n",
              "    </tr>\n",
              "    <tr>\n",
              "      <th>DELINQ</th>\n",
              "      <td>continuous</td>\n",
              "      <td>Fisher</td>\n",
              "      <td>0.473846</td>\n",
              "    </tr>\n",
              "    <tr>\n",
              "      <th>CLAGE</th>\n",
              "      <td>continuous</td>\n",
              "      <td>Fisher</td>\n",
              "      <td>0.324169</td>\n",
              "    </tr>\n",
              "    <tr>\n",
              "      <th>NINQ</th>\n",
              "      <td>continuous</td>\n",
              "      <td>Fisher</td>\n",
              "      <td>0.275753</td>\n",
              "    </tr>\n",
              "    <tr>\n",
              "      <th>CLNO</th>\n",
              "      <td>continuous</td>\n",
              "      <td>Fisher</td>\n",
              "      <td>0.0116811</td>\n",
              "    </tr>\n",
              "    <tr>\n",
              "      <th>DEBTINC</th>\n",
              "      <td>continuous</td>\n",
              "      <td>Fisher</td>\n",
              "      <td>0.266897</td>\n",
              "    </tr>\n",
              "    <tr>\n",
              "      <th>DEROGzero</th>\n",
              "      <td>discrete</td>\n",
              "      <td>IV</td>\n",
              "      <td>0.33617</td>\n",
              "    </tr>\n",
              "  </tbody>\n",
              "</table>\n",
              "</div>"
            ],
            "text/plain": [
              "            Data Type  Metric       Score\n",
              "LOAN       continuous  Fisher     0.13309\n",
              "MORTDUE    continuous  Fisher   0.0951093\n",
              "VALUE      continuous  Fisher    0.106516\n",
              "REASON       discrete      IV  0.00861846\n",
              "JOB          discrete      IV   0.0778732\n",
              "YOJ        continuous  Fisher   0.0979491\n",
              "DEROG      continuous  Fisher    0.358356\n",
              "DELINQ     continuous  Fisher    0.473846\n",
              "CLAGE      continuous  Fisher    0.324169\n",
              "NINQ       continuous  Fisher    0.275753\n",
              "CLNO       continuous  Fisher   0.0116811\n",
              "DEBTINC    continuous  Fisher    0.266897\n",
              "DEROGzero    discrete      IV     0.33617"
            ]
          },
          "metadata": {
            "tags": []
          },
          "execution_count": 105
        }
      ]
    },
    {
      "cell_type": "markdown",
      "metadata": {
        "id": "NP5oQrbujCiI"
      },
      "source": [
        "So let's analyze this output. We cannot directly compare IV and Fisher scores but we can judge them relative to other variables calculated with the same score. We can see that of our 3 variables tested with IV, `REASON` is particularly weak and does not pass the 0.02 value threshold for IV. Therefore, we should eliminate it from the analysis. We can also see that of the variables for which we calculated a Fisher score, `CLNO`, `MORTDUE` and `YOJ` are all quite low.\r\n",
        "\r\n",
        "At this point we could choose to eliminate these variables. However, let's leave them in for a little check using wrapper methods. "
      ]
    },
    {
      "cell_type": "markdown",
      "metadata": {
        "id": "m4C3jjWjid0I"
      },
      "source": [
        "# One-Hot Encoding\r\n",
        "\r\n",
        "Before we continue to the next section which will fit models, we need to prepare out data for them. We will quickly convert categorical variables to one hot encoded variables using pandas `get_dummies` method on a DataFrame column."
      ]
    },
    {
      "cell_type": "code",
      "metadata": {
        "colab": {
          "base_uri": "https://localhost:8080/",
          "height": 289
        },
        "id": "roJtrCBS06HY",
        "outputId": "45ec96ab-2e70-4164-bcf1-6a25a935dbcc"
      },
      "source": [
        "reason = pd.get_dummies(X_train.REASON, prefix='REASON') # Create dummy columns for REASON\r\n",
        "job = pd.get_dummies(X_train.JOB, prefix='JOB') # Create dummy columns for JOB\r\n",
        "X_train.drop(['REASON', 'JOB'], axis=1, inplace=True) # Drop original columns\r\n",
        "X_train = pd.concat([X_train, reason, job], axis=1) # Combine it all together\r\n",
        "\r\n",
        "X_train.head()"
      ],
      "execution_count": 106,
      "outputs": [
        {
          "output_type": "stream",
          "text": [
            "/usr/local/lib/python3.6/dist-packages/pandas/core/frame.py:4174: SettingWithCopyWarning: \n",
            "A value is trying to be set on a copy of a slice from a DataFrame\n",
            "\n",
            "See the caveats in the documentation: https://pandas.pydata.org/pandas-docs/stable/user_guide/indexing.html#returning-a-view-versus-a-copy\n",
            "  errors=errors,\n"
          ],
          "name": "stderr"
        },
        {
          "output_type": "execute_result",
          "data": {
            "text/html": [
              "<div>\n",
              "<style scoped>\n",
              "    .dataframe tbody tr th:only-of-type {\n",
              "        vertical-align: middle;\n",
              "    }\n",
              "\n",
              "    .dataframe tbody tr th {\n",
              "        vertical-align: top;\n",
              "    }\n",
              "\n",
              "    .dataframe thead th {\n",
              "        text-align: right;\n",
              "    }\n",
              "</style>\n",
              "<table border=\"1\" class=\"dataframe\">\n",
              "  <thead>\n",
              "    <tr style=\"text-align: right;\">\n",
              "      <th></th>\n",
              "      <th>LOAN</th>\n",
              "      <th>MORTDUE</th>\n",
              "      <th>VALUE</th>\n",
              "      <th>YOJ</th>\n",
              "      <th>DEROG</th>\n",
              "      <th>DELINQ</th>\n",
              "      <th>CLAGE</th>\n",
              "      <th>NINQ</th>\n",
              "      <th>CLNO</th>\n",
              "      <th>DEBTINC</th>\n",
              "      <th>DEROGzero</th>\n",
              "      <th>REASON_DebtCon</th>\n",
              "      <th>REASON_HomeImp</th>\n",
              "      <th>REASON_IsMissing</th>\n",
              "      <th>JOB_Mgr</th>\n",
              "      <th>JOB_Office</th>\n",
              "      <th>JOB_Other</th>\n",
              "      <th>JOB_ProfExe</th>\n",
              "      <th>JOB_Sales</th>\n",
              "      <th>JOB_Self</th>\n",
              "    </tr>\n",
              "  </thead>\n",
              "  <tbody>\n",
              "    <tr>\n",
              "      <th>5737</th>\n",
              "      <td>2.325395</td>\n",
              "      <td>-1.371827</td>\n",
              "      <td>-0.702523</td>\n",
              "      <td>1.573086</td>\n",
              "      <td>-0.280591</td>\n",
              "      <td>-0.370877</td>\n",
              "      <td>0.347227</td>\n",
              "      <td>-0.751321</td>\n",
              "      <td>0.987005</td>\n",
              "      <td>1.039073</td>\n",
              "      <td>True</td>\n",
              "      <td>1</td>\n",
              "      <td>0</td>\n",
              "      <td>0</td>\n",
              "      <td>0</td>\n",
              "      <td>0</td>\n",
              "      <td>1</td>\n",
              "      <td>0</td>\n",
              "      <td>0</td>\n",
              "      <td>0</td>\n",
              "    </tr>\n",
              "    <tr>\n",
              "      <th>5734</th>\n",
              "      <td>2.315916</td>\n",
              "      <td>-1.632269</td>\n",
              "      <td>-0.666393</td>\n",
              "      <td>-0.234394</td>\n",
              "      <td>-0.280591</td>\n",
              "      <td>-0.370877</td>\n",
              "      <td>1.683315</td>\n",
              "      <td>-0.751321</td>\n",
              "      <td>-0.227091</td>\n",
              "      <td>-3.137607</td>\n",
              "      <td>True</td>\n",
              "      <td>0</td>\n",
              "      <td>1</td>\n",
              "      <td>0</td>\n",
              "      <td>0</td>\n",
              "      <td>1</td>\n",
              "      <td>0</td>\n",
              "      <td>0</td>\n",
              "      <td>0</td>\n",
              "      <td>0</td>\n",
              "    </tr>\n",
              "    <tr>\n",
              "      <th>248</th>\n",
              "      <td>-1.229273</td>\n",
              "      <td>-0.189402</td>\n",
              "      <td>-1.709185</td>\n",
              "      <td>-0.512468</td>\n",
              "      <td>-0.280591</td>\n",
              "      <td>0.555442</td>\n",
              "      <td>-0.143052</td>\n",
              "      <td>-0.097617</td>\n",
              "      <td>-1.340012</td>\n",
              "      <td>0.132794</td>\n",
              "      <td>True</td>\n",
              "      <td>0</td>\n",
              "      <td>1</td>\n",
              "      <td>0</td>\n",
              "      <td>1</td>\n",
              "      <td>0</td>\n",
              "      <td>0</td>\n",
              "      <td>0</td>\n",
              "      <td>0</td>\n",
              "      <td>0</td>\n",
              "    </tr>\n",
              "    <tr>\n",
              "      <th>3480</th>\n",
              "      <td>-0.006467</td>\n",
              "      <td>0.421246</td>\n",
              "      <td>0.357812</td>\n",
              "      <td>-0.234394</td>\n",
              "      <td>-0.280591</td>\n",
              "      <td>-0.370877</td>\n",
              "      <td>-0.309981</td>\n",
              "      <td>0.556087</td>\n",
              "      <td>-0.024742</td>\n",
              "      <td>-1.852545</td>\n",
              "      <td>True</td>\n",
              "      <td>1</td>\n",
              "      <td>0</td>\n",
              "      <td>0</td>\n",
              "      <td>0</td>\n",
              "      <td>0</td>\n",
              "      <td>0</td>\n",
              "      <td>1</td>\n",
              "      <td>0</td>\n",
              "      <td>0</td>\n",
              "    </tr>\n",
              "    <tr>\n",
              "      <th>2488</th>\n",
              "      <td>-0.338236</td>\n",
              "      <td>-0.182201</td>\n",
              "      <td>-0.314752</td>\n",
              "      <td>-0.373431</td>\n",
              "      <td>-0.280591</td>\n",
              "      <td>-0.370877</td>\n",
              "      <td>-0.714862</td>\n",
              "      <td>-0.097617</td>\n",
              "      <td>-0.227091</td>\n",
              "      <td>-1.728760</td>\n",
              "      <td>True</td>\n",
              "      <td>1</td>\n",
              "      <td>0</td>\n",
              "      <td>0</td>\n",
              "      <td>0</td>\n",
              "      <td>1</td>\n",
              "      <td>0</td>\n",
              "      <td>0</td>\n",
              "      <td>0</td>\n",
              "      <td>0</td>\n",
              "    </tr>\n",
              "  </tbody>\n",
              "</table>\n",
              "</div>"
            ],
            "text/plain": [
              "          LOAN   MORTDUE     VALUE  ...  JOB_ProfExe  JOB_Sales  JOB_Self\n",
              "5737  2.325395 -1.371827 -0.702523  ...            0          0         0\n",
              "5734  2.315916 -1.632269 -0.666393  ...            0          0         0\n",
              "248  -1.229273 -0.189402 -1.709185  ...            0          0         0\n",
              "3480 -0.006467  0.421246  0.357812  ...            1          0         0\n",
              "2488 -0.338236 -0.182201 -0.314752  ...            0          0         0\n",
              "\n",
              "[5 rows x 20 columns]"
            ]
          },
          "metadata": {
            "tags": []
          },
          "execution_count": 106
        }
      ]
    },
    {
      "cell_type": "code",
      "metadata": {
        "colab": {
          "base_uri": "https://localhost:8080/"
        },
        "id": "B5pUaX01RetI",
        "outputId": "6eb007c4-b325-4aa9-f8d0-25aec3835846"
      },
      "source": [
        "# same process as above for test set\r\n",
        "\r\n",
        "reason = pd.get_dummies(X_test.REASON, prefix='REASON')\r\n",
        "job = pd.get_dummies(X_test.JOB, prefix='JOB')\r\n",
        "X_test.drop(['REASON', 'JOB'], axis=1, inplace=True)\r\n",
        "X_test = pd.concat([X_test, reason, job], axis=1)"
      ],
      "execution_count": 107,
      "outputs": [
        {
          "output_type": "stream",
          "text": [
            "/usr/local/lib/python3.6/dist-packages/pandas/core/frame.py:4174: SettingWithCopyWarning: \n",
            "A value is trying to be set on a copy of a slice from a DataFrame\n",
            "\n",
            "See the caveats in the documentation: https://pandas.pydata.org/pandas-docs/stable/user_guide/indexing.html#returning-a-view-versus-a-copy\n",
            "  errors=errors,\n"
          ],
          "name": "stderr"
        }
      ]
    },
    {
      "cell_type": "markdown",
      "metadata": {
        "id": "4zXNNUbCnf0-"
      },
      "source": [
        "## Wrappers\r\n",
        "Unlike filter methods which check one variable at a time with a statistical framework, wrappers try to iteratively build models in different ways to detect variables which most impact a model's performance. As you can imagine, there are two major ways to do this.\r\n",
        "1. You add variables one at a time\r\n",
        "2. You remove variables one at a time\r\n",
        "\r\n",
        "Each time you are double checking how the model performs with the inclusion or exclusion of a certain variable."
      ]
    },
    {
      "cell_type": "code",
      "metadata": {
        "colab": {
          "base_uri": "https://localhost:8080/"
        },
        "id": "IT3g1p9JnJDQ",
        "outputId": "d0d9dd50-90ff-4c42-c526-19208ddd6e3d"
      },
      "source": [
        "from sklearn.linear_model import LogisticRegression\r\n",
        "clf = LogisticRegression(random_state=888, max_iter=200)\r\n",
        "clf.fit(X_train,  np.ravel(y_train.values))\r\n",
        "y_pred = clf.predict(X_test)\r\n",
        "(np.vstack(y_pred) == np.array(y_test)).mean()"
      ],
      "execution_count": 108,
      "outputs": [
        {
          "output_type": "execute_result",
          "data": {
            "text/plain": [
              "0.8548657718120806"
            ]
          },
          "metadata": {
            "tags": []
          },
          "execution_count": 108
        }
      ]
    },
    {
      "cell_type": "markdown",
      "metadata": {
        "id": "yG9WXnd52GgW"
      },
      "source": [
        "### Stepwise regression (forward regression)\r\n",
        "We will start with the first wrapper method described above. We can easily create this with a for-loop, but we will spare you the complexities by using `mlxtend` to sequentially add our possible features to the model using the function `SequentialFeatureSelector`. The machine will add variables one at a time and double check the model's performance. \r\n",
        "\r\n",
        "Note that unfortunately `sklearn` does not yet support stepwise regression. However, if you'd like, there are ways to code it yourself through a loop that tries to find the best combination of variables through iterative model building like the [second answer to this StackExchange question](https://datascience.stackexchange.com/questions/937/does-scikit-learn-have-forward-selection-stepwise-regression-algorithm).\r\n",
        "\r\n",
        "Let's use the algorithm from `mlextend` and check whether it corresponds to the features that our filter model also chose.\r\n",
        "\r\n"
      ]
    },
    {
      "cell_type": "code",
      "metadata": {
        "id": "GNyrHxx-u6ws"
      },
      "source": [
        "from mlxtend.feature_selection import SequentialFeatureSelector as SFS\r\n",
        "from sklearn.linear_model import LogisticRegression\r\n",
        "\r\n",
        "clf = LogisticRegression(random_state=888, max_iter=200)\r\n",
        "sfs = SFS(clf, \r\n",
        "           k_features=(3,18), \r\n",
        "           forward=True, \r\n",
        "           floating=False, \r\n",
        "           scoring='accuracy',\r\n",
        "           cv=0)\r\n",
        "\r\n",
        "sfs = sfs.fit(X_train, np.ravel(y_train.values))"
      ],
      "execution_count": 109,
      "outputs": []
    },
    {
      "cell_type": "code",
      "metadata": {
        "colab": {
          "base_uri": "https://localhost:8080/"
        },
        "id": "67tQuOkZEwUF",
        "outputId": "d6bc94a9-1eae-4499-afe8-ab5bb9559e02"
      },
      "source": [
        "print('best combination (ACC: %.3f): %s\\n' % (sfs.k_score_, sfs.k_feature_names_))"
      ],
      "execution_count": 110,
      "outputs": [
        {
          "output_type": "stream",
          "text": [
            "best combination (ACC: 0.842): ('LOAN', 'YOJ', 'DEROG', 'DELINQ', 'CLAGE', 'NINQ', 'CLNO', 'DEBTINC', 'DEROGzero', 'REASON_DebtCon', 'REASON_HomeImp', 'REASON_IsMissing', 'JOB_Mgr', 'JOB_ProfExe', 'JOB_Self')\n",
            "\n"
          ],
          "name": "stdout"
        }
      ]
    },
    {
      "cell_type": "markdown",
      "metadata": {
        "id": "1h6iHa_tk9Tw"
      },
      "source": [
        "We can see from this regression, `MORTDUE` and most of the one-hot variables for `REASON` were eliminated. However, `YOJ` and `CLNO`, which were candidates to drop according to our filters, were kept. This may be because there are some variable interaction which we cannot observe using filter methods. It would be up to the analyst to try all combinations and determine the one that works best for the data.\r\n",
        "\r\n",
        "We can plot the percent correctly classified vs. the number of selected features to see the algorithm's findings."
      ]
    },
    {
      "cell_type": "code",
      "metadata": {
        "colab": {
          "base_uri": "https://localhost:8080/",
          "height": 472
        },
        "id": "BMyMdlFigd7D",
        "outputId": "542a6375-6b9b-412c-ff00-04b9f1d6eb64"
      },
      "source": [
        "from mlxtend.plotting import plot_sequential_feature_selection as plot_sfs\r\n",
        "\r\n",
        "plot_sfs(sfs.get_metric_dict())\r\n",
        "plt.title('Sequential Forward Selection')\r\n",
        "\r\n",
        "plt.show()"
      ],
      "execution_count": 111,
      "outputs": [
        {
          "output_type": "stream",
          "text": [
            "/usr/local/lib/python3.6/dist-packages/numpy/core/_methods.py:234: RuntimeWarning: Degrees of freedom <= 0 for slice\n",
            "  keepdims=keepdims)\n",
            "/usr/local/lib/python3.6/dist-packages/numpy/core/_methods.py:226: RuntimeWarning: invalid value encountered in double_scalars\n",
            "  ret = ret.dtype.type(ret / rcount)\n"
          ],
          "name": "stderr"
        },
        {
          "output_type": "display_data",
          "data": {
            "image/png": "[encoded data removed]",
            "text/plain": [
              "<Figure size 864x432 with 1 Axes>"
            ]
          },
          "metadata": {
            "tags": [],
            "needs_background": "light"
          }
        }
      ]
    },
    {
      "cell_type": "markdown",
      "metadata": {
        "id": "7SODgWTsmyN7"
      },
      "source": [
        "Lastly, let's check the mean error on the test set to see how this selection of features did on unseen data.\r\n",
        "\r\n"
      ]
    },
    {
      "cell_type": "code",
      "metadata": {
        "id": "idNcMxFUiFjP"
      },
      "source": [
        "X_train_sfs = sfs.transform(X_train)\r\n",
        "X_test_sfs = sfs.transform(X_test)\r\n",
        "\r\n",
        "clf.fit(X_train_sfs, np.ravel(y_train.values))\r\n",
        "y_pred = clf.predict(X_test_sfs)"
      ],
      "execution_count": 112,
      "outputs": []
    },
    {
      "cell_type": "code",
      "metadata": {
        "colab": {
          "base_uri": "https://localhost:8080/"
        },
        "id": "acdZMw5EhkmI",
        "outputId": "086f3b5f-12cb-4a6f-887d-60be00e1340a"
      },
      "source": [
        "(np.vstack(y_pred) == np.array(y_test)).mean() # Check mean error"
      ],
      "execution_count": 113,
      "outputs": [
        {
          "output_type": "execute_result",
          "data": {
            "text/plain": [
              "0.8506711409395973"
            ]
          },
          "metadata": {
            "tags": []
          },
          "execution_count": 113
        }
      ]
    },
    {
      "cell_type": "markdown",
      "metadata": {
        "id": "7zBulcXpnhkx"
      },
      "source": [
        "### Recursive feature elimination (backward selection)\r\n",
        "\r\n",
        "Another extremely useful variable selection method is backward selection. We can actually implement it very easily using the `RFECV` function from `sklearn`. You can view the documentation for this function [here](https://scikit-learn.org/stable/modules/generated/sklearn.feature_selection.RFECV.html#sklearn.feature_selection.RFECV). Let's see if it selects similar variables as our last wrapper model and the filter model."
      ]
    },
    {
      "cell_type": "code",
      "metadata": {
        "colab": {
          "base_uri": "https://localhost:8080/"
        },
        "id": "GXkJo-MFHr6s",
        "outputId": "0b133fe1-36b7-43f0-c794-e0c755dbabeb"
      },
      "source": [
        "from sklearn.feature_selection import RFECV\r\n",
        "rfecv = RFECV(estimator=clf, step=1, cv=5, scoring='accuracy')\r\n",
        "X_train_new = rfecv.fit(X_train,  np.ravel(y_train.values))\r\n",
        "\r\n",
        "print('Optimal number of features: {}'.format(rfecv.n_features_))"
      ],
      "execution_count": 114,
      "outputs": [
        {
          "output_type": "stream",
          "text": [
            "Optimal number of features: 16\n"
          ],
          "name": "stdout"
        }
      ]
    },
    {
      "cell_type": "code",
      "metadata": {
        "colab": {
          "base_uri": "https://localhost:8080/"
        },
        "id": "z03KeUvydxnk",
        "outputId": "b498bde2-e8a5-499b-a83f-b09c3fc0db32"
      },
      "source": [
        "X_train.columns[rfecv.support_]"
      ],
      "execution_count": 115,
      "outputs": [
        {
          "output_type": "execute_result",
          "data": {
            "text/plain": [
              "Index(['LOAN', 'DEROG', 'DELINQ', 'CLAGE', 'NINQ', 'CLNO', 'DEBTINC',\n",
              "       'DEROGzero', 'REASON_DebtCon', 'REASON_IsMissing', 'JOB_Mgr',\n",
              "       'JOB_Office', 'JOB_Other', 'JOB_ProfExe', 'JOB_Sales', 'JOB_Self'],\n",
              "      dtype='object')"
            ]
          },
          "metadata": {
            "tags": []
          },
          "execution_count": 115
        }
      ]
    },
    {
      "cell_type": "markdown",
      "metadata": {
        "id": "j8Lu3KhPlv9U"
      },
      "source": [
        "In this regresion, many more variables were dropped including `MORTDUE`, `YOJ` and `CLNO`, which were candidates to drop according to our filters. In addition, most of the dummy variables for the categorical variable `REASON` were also dropped. Again. this may be caused by some variable interaction which we cannot observe by using filter methods. It is up to your discretion to experiment with combinations and determine the best course of action to solve you problem.\r\n",
        "\r\n",
        "We can plot the percent correctly classified vs. the number of selected features to see the algorithm's findings."
      ]
    },
    {
      "cell_type": "code",
      "metadata": {
        "colab": {
          "base_uri": "https://localhost:8080/",
          "height": 404
        },
        "id": "hMsx5JCtgQaa",
        "outputId": "abd9a751-975e-4900-8628-f7d663781fbe"
      },
      "source": [
        "plt.title('Recursive Feature Elimination with Cross-Validation')\r\n",
        "plt.xlabel('Number of Features')\r\n",
        "plt.ylabel('Performance (% Correctly Classified)')\r\n",
        "plt.plot(range(1, len(rfecv.grid_scores_) + 1), rfecv.grid_scores_, linewidth=3)\r\n",
        "\r\n",
        "plt.show()"
      ],
      "execution_count": 116,
      "outputs": [
        {
          "output_type": "display_data",
          "data": {
            "image/png": "[encoded data removed]",
            "text/plain": [
              "<Figure size 864x432 with 1 Axes>"
            ]
          },
          "metadata": {
            "tags": [],
            "needs_background": "light"
          }
        }
      ]
    },
    {
      "cell_type": "markdown",
      "metadata": {
        "id": "yl_wNMfSm81F"
      },
      "source": [
        "Lastly, let's check the mean error on the test set to see how this selection of feeatures did on unseen data. It is a little lower than the previous wrapper method's findings in this case."
      ]
    },
    {
      "cell_type": "code",
      "metadata": {
        "colab": {
          "base_uri": "https://localhost:8080/"
        },
        "id": "e3BSvn75KQXv",
        "outputId": "841cd9b9-d579-493d-bf3e-e826810288c1"
      },
      "source": [
        "(np.vstack(rfecv.predict(X_test)) == np.array(y_test)).mean() # Check mean error"
      ],
      "execution_count": 117,
      "outputs": [
        {
          "output_type": "execute_result",
          "data": {
            "text/plain": [
              "0.8557046979865772"
            ]
          },
          "metadata": {
            "tags": []
          },
          "execution_count": 117
        }
      ]
    },
    {
      "cell_type": "markdown",
      "metadata": {
        "id": "qhqYDtCgmeky"
      },
      "source": [
        "# Importing from other scripts\r\n",
        "\r\n",
        "Some notebooks can get really long which makes them a bit more tedious to read. If you have already coded something in another notebook and want to refer to it, you can simply import it as a script. For example, we have created the file rf_test_auc.py and inside we have a function. This function will perform a train-test split on data, use the training data to build a random forest and finally use the test set to calculate the AUC. Using this other file, we can simply import the function that we want and run the function to get our results."
      ]
    },
    {
      "cell_type": "code",
      "metadata": {
        "colab": {
          "base_uri": "https://localhost:8080/"
        },
        "id": "s6qGDX1dET9F",
        "outputId": "2956c2c7-e51a-4a31-8273-22f63f873bf8"
      },
      "source": [
        "from rf_test_auc import RF_test_AUC # this is easiest when the .py file is in your working directory\r\n",
        "RF_test_AUC(X_train, y_train, X_test, y_test, n_estimators = 150)"
      ],
      "execution_count": 131,
      "outputs": [
        {
          "output_type": "execute_result",
          "data": {
            "text/plain": [
              "0.9769372861614617"
            ]
          },
          "metadata": {
            "tags": []
          },
          "execution_count": 131
        }
      ]
    },
    {
      "cell_type": "markdown",
      "metadata": {
        "id": "mHpyPWJQFP8m"
      },
      "source": [
        "Now you can keep your notebooks nice and neat by leaving out some functions that you had to code yourself whose inner workings are not the most critical for your readers to see right away.\r\n",
        "\r\n",
        "Note that you can use files which are not in your working directory, however this is a bit more complicated. You can find tutorials on how to do this using many tutorials online such as [this one](www.youtube.com/watch?v=A7E18apPQJs). "
      ]
    },
    {
      "cell_type": "markdown",
      "metadata": {
        "id": "W79hHbzYqC5H"
      },
      "source": [
        "# Pipelines\r\n",
        "\r\n",
        "After we have decided how we would like our finalized data to look like in the end, we will likely have to repeat the modifications to our data set several times over (for the train set, test set, new batches of data etc...). In this case, it can be very useful to set up a pipeline which makes the same adjustments to raw data."
      ]
    },
    {
      "cell_type": "code",
      "metadata": {
        "id": "8nBRybPt8PMb"
      },
      "source": [
        "# Let's reload the raw data\r\n",
        "\r\n",
        "data_url = 'https://raw.githubusercontent.com/Humboldt-WI/bads/master/data/hmeq_prepared.csv' \r\n",
        "df = pd.read_csv(data_url)\r\n",
        "\r\n",
        "# Extract target variable and feature matrix \r\n",
        "X = df.drop(['BAD'], axis=1) \r\n",
        "y = df[['BAD']]\r\n",
        "\r\n",
        "X_train, X_test, y_train, y_test = train_test_split(X, y, test_size=.2)"
      ],
      "execution_count": null,
      "outputs": []
    },
    {
      "cell_type": "code",
      "metadata": {
        "id": "EXhVqwvsY038"
      },
      "source": [
        "# Now let's use a pipeline to transform our data using some of what we have learned above\r\n",
        "\r\n",
        "from sklearn.pipeline import Pipeline\r\n",
        "from sklearn.externals import joblib\r\n",
        "from sklearn.ensemble import RandomForestClassifier\r\n",
        "from sklearn.preprocessing import OneHotEncoder\r\n",
        "from sklearn.compose import ColumnTransformer\r\n",
        "\r\n",
        "# If you only want a transformation on select columns, it is good to first use ColumnTransformer\r\n",
        "transformer = ColumnTransformer(transformers=[('cat', OneHotEncoder(), [3, 4]), # ('step_name', fun(), list_cols) always follow this format for each step of the transfomer\r\n",
        "                                              ('scl', StandardScaler(), [0,1,2,5,6,7,8,9,10])], # Note that below RF is used as a classifier, thus, scaling is not exactly necessary\r\n",
        "                                              remainder='passthrough')\r\n",
        "\r\n",
        "# Construct some pipelines\r\n",
        "pipe = Pipeline([\r\n",
        "                ('t', transformer), # ('step_name', transfomer) always follow this format for transformers in the pipeline\r\n",
        "                ('clf', RandomForestClassifier()) # ('step_name', fun()) add parantheses for other functions\r\n",
        "                ])"
      ],
      "execution_count": null,
      "outputs": []
    },
    {
      "cell_type": "code",
      "metadata": {
        "id": "sm3ULAv0Y4ZF"
      },
      "source": [
        "pipe.fit(X_train, y_train.values.ravel())\r\n",
        "y_pred = pipe.predict(X_test)"
      ],
      "execution_count": null,
      "outputs": []
    },
    {
      "cell_type": "code",
      "metadata": {
        "id": "sruOYyvJ-2CL"
      },
      "source": [
        "(np.vstack(y_pred) == np.array(y_test)).mean() # Check mean error"
      ],
      "execution_count": null,
      "outputs": []
    },
    {
      "cell_type": "markdown",
      "metadata": {
        "id": "cqjuoJR6dTwe"
      },
      "source": [
        "# Conclusions\n",
        "\n",
        "The above demos should have provided some ideas, what transformation and selection strategies work well for HMEQ. As final experiment, perform a controlled comparison (same train/test data) of logit on the basic data set and a version to which high performing transformations and/or feature selection has been applied. Ideally we could show some performance improvement. If previous results suggest that this will not be the case for HMEQ, then maybe just skip the conclusion part and make this analysis an exercise. \n",
        "\n",
        "\n",
        "| Goal | Possible Code |\n",
        "| --- | --- |\n",
        "| Get data types of each column | `df.dtypes` |\n",
        "| Select all float columns of a df | `df.select_dtypes(include='float64')` |\n",
        "| Create min-max scaling or normalization object | `MinMaxScaler()` |\n",
        "| Create standardization object | `StandardScaler()` |\n",
        "| Modify `X` with a Box Cox transformation (positive values only) | `stats.boxcox(X) ` |\n",
        "| Modify `X` with a Yeo Johnson transformation | `stats.yeojohnson(X)` |\n",
        "| Test if a variable is normally distributed (p-val > 0.05 points to normality) | `statsnormaltest(X)` |\n",
        "| Create QQ plot for `X` (lines should correspond) | `qqplot(feature, line='s')` |\n",
        "| Get WoE weights of `feature_i` | `scorecardpy.woebin(train_df, y=\"target\", x='feature_i')` |\n",
        "| Plot weights of `woebin` | `scorecardpy.woebin_plot(woebin_obj)` |\n",
        "| Replace the feature calculated in `woebin` with its results| `scorecardpy.woebin_ply(X_train, woe)` |\n",
        "| Pearson's coefficient | `stats.pearsonr(X, y)` |\n",
        "| Calculate Chi2 value for X and y | `chi2(X, y)` |\n",
        "| Get dummy values for `feature` with prefix `name_` | `pd.get_dummies(X.feature, prefix='name')` |\n",
        "| Create forward variable selection object | `SequentialFeatureSelector()` |\n",
        "| Returns `X` of only selected features | `sfs_model.transform(X_train)` |\n",
        "| Create backward variable selection object | `RFECV()` |\n",
        "| Use fitted RFECV model to predict on test set | `rfecv_model.predict(X_test)` |\n",
        "| Create object which uses `fun` on cols in `col_list` and keeps unchanged columns | `ColumnTransformer(transformers=('step_name', fun(), list_cols), remainder='passthrough')` ** |\n",
        "| Create pipeline object | `Pipeline(('step_name', fun))` ***|\n",
        "| Pass X_train through pipeline for fitting | `pipe_name.fit(X_train, y_train)`|\n",
        "| Pass X_test through pipeline for prediction | `pipe_name.fit(X_test)`|\n",
        "\n",
        "\n",
        "** In `ColumnTransformer`, you can add a list of transformers of that format in the `transformer` argument\n",
        "\n",
        "*** In `Pipeline`, you can add a list of steps of that format as the first argument. It is encouraged to put your classifier in here as the last step\n"
      ]
    },
    {
      "cell_type": "markdown",
      "metadata": {
        "id": "AMI_yMHEdTwf"
      },
      "source": [
        "# Exercises\n",
        "\n",
        "## Power transformations \n",
        "- Box-Cox (BC) and Yeo-Johnson (YJ) transformation exhibit hyperparameter $\\lambda$. Implement a custom function that receives a feature as input and grid-searches the best value of $\\lambda$. The caller should be able to specify whether s/he wants to use BC or YJ. Your function can assess the merit of a value of $\\lambda$ by means of the function `normaltest()`, the use of which we illustrated above. The more normal a feature after the transformation, the better the value of $\\lambda$. \n",
        "\n",
        "- Write another custom function `best_transform()`. Given a DataFrame with input data, your function should identify the best power transformation for each numerical feature. Note that using the raw feature without transformation is also possible and might be the best approach. Also remember to tune $\\lambda$ when needed using your solution to the previous exercise. Try out your function using the HMEQ data. Display the best transformation for each feature.\n",
        "\n",
        "**Optional** \n",
        "- Till here, we have assessed the merit of a transformation by means of checking normality using `normaltest()`. Arguably, a better approach for predictive modeling would be to test if a model trained on the transformed data generates better predictions. To implement this logic, you need a custom function that implements our standard predictive modeling pipeline (see, e.g., Tutorial 5 or Tutorial 7) to estimates the predictive performance of a model, say logistic regression, on an input data set. Once you have this function, you can revise your solutions to the previous exercises such that they call the function just implemented instead of `normaltest()`. \n",
        "- Test your function using the HMEQ data set\n",
        "- Perform a final test what approach gives better results (in terms of AUC on HMEQ) optimizing feature transformations using `normaltest()` or by assessing predictive accuracy. *For the experts, make sure to not overfit* \n",
        "---\n",
        "## Weight of evidence coding (challenging)\n",
        "A standard risk modeling workflow in banking is the following\n",
        "- Discretize all numeric features in a data set\n",
        "- Optimize categorical features by re-grouping/merging category levels\n",
        "- WOE transform all categorical variables\n",
        "- Build logistic regression-based scorecard\n",
        "\n",
        "Your task is to implement this workflow. The previous demos provide much of the functionality that you need. However, some extensions are needed and you have to put everything together. To keep things manageable, let's agree on the following heuristic:\n",
        "Implement step 1 and step 2 by fitting a shallow tree to the data (e.g., at most 5 leaf nodes). This will work with numerical and categorical features alike. The leaf nodes of your shallow tree represent the new, re-grouped, optimized categorical features. After this tree-based transformation, you can WOE-encoded the whole data set in one go.\n",
        "\n",
        "Compare a logit model using your transformed data set to one from our standard version of the data [add link here]\n",
        "\n",
        "## Feature selection\n",
        "- We discussed that sklearn does not offer stepwise regression. Implement a stepwise logit using AIC from scratch. To that end, you will need to decide on a search direction (forward or backward) and scoring criterion. The latter is needed for selecting the next feature to be added to or deleted from a model. Understanding the role of the search criterion is a very good learning outcome in its own right. There is probably no single correct or best solution how to score candidate features. Try to come up with a sensible approach.  "
      ]
    }
  ]
}