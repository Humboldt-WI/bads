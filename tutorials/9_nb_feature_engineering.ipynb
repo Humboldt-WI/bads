{
  "nbformat": 4,
  "nbformat_minor": 0,
  "metadata": {
    "colab": {
      "name": "9_nb_feature_engineeringrevisedbylessmann.ipynb",
      "provenance": [],
      "collapsed_sections": [
        "e3OU5PBOMymG",
        "KjM6lppjM1Yu",
        "OBj1x_jqM4sr",
        "l6ESJ7jCiOUa",
        "i8nrsT1JiTSF",
        "fZeIjLqfiV_c",
        "CJrG1rRRiYQP"
      ]
    },
    "kernelspec": {
      "display_name": "PyCharm (adams)",
      "language": "python",
      "name": "pycharm-feb95198"
    },
    "language_info": {
      "codemirror_mode": {
        "name": "ipython",
        "version": 3
      },
      "file_extension": ".py",
      "mimetype": "text/x-python",
      "name": "python",
      "nbconvert_exporter": "python",
      "pygments_lexer": "ipython3",
      "version": "3.7.6"
    }
  },
  "cells": [
    {
      "cell_type": "markdown",
      "metadata": {
        "id": "JW8q2Hxl3thA"
      },
      "source": [
        "[![Open In Colab](https://colab.research.google.com/assets/colab-badge.svg)](https://colab.research.google.com/github/Humboldt-WI/bads/blob/master/tutorials/9_nb_feature_engineering.ipynb) "
      ]
    },
    {
      "cell_type": "markdown",
      "metadata": {
        "id": "_55XGJ5Krxox"
      },
      "source": [
        "# Chapter 9 - Feature engineering and selection\n",
        "\n",
        "So far, we've gone through some basic feature pre-processing. This was just the tip of the iceberg. This week, we'll further elaborate on feature engineering, which is the art of creating meaningful features from your processed data, and exemplify some standard coding practices. In general, you will likely have to use a combination of domain and statistical knowledge to get the most out of your variables. This includes techniques such as scaling and [transforming](https://machinelearningmastery.com/power-transforms-with-scikit-learn/) (there are [other techniques](https://machinelearningmastery.com/power-transforms-with-scikit-learn/) when dealing with time series data). It could also be the creation of new variables using some kind of combination of the variables that you have.\n",
        "\n",
        "In this tutorial, we will discuss basic transformations for feature engineering and how to perform feature selection. As you know, your model should include only include *relevant* variables. Any variable that does not raise predictability may cause overfitting and hamper model performance on new data. \n",
        "\n",
        "We will end with two useful tricks, importing from scripts and pipelines which should make your code quicker and cleaner to read.\n",
        "\n",
        "\n",
        "Here are the contents point by point:\n",
        "- Preliminaries\n",
        "- Feature engineering\n",
        "- Object Creation\n",
        "- Feature selection\n",
        "- Importing scripts\n",
        "- Pipelines\n",
        "- Exercises"
      ]
    },
    {
      "cell_type": "markdown",
      "metadata": {
        "id": "aCcnA3C9dTwR"
      },
      "source": [
        "# Preliminaries\n",
        "\n",
        "We will begin as usual, by importing necessary libraries, settings and loading the data. "
      ]
    },
    {
      "cell_type": "code",
      "metadata": {
        "colab": {
          "base_uri": "https://localhost:8080/",
          "height": 0
        },
        "id": "TEw41VzvkIou",
        "outputId": "7e3b1484-f663-4d8d-9993-231e2bf04603"
      },
      "source": [
        "# Import standard Python libraries\r\n",
        "import numpy as np\r\n",
        "import matplotlib.pyplot as plt\r\n",
        "import pandas as pd\r\n",
        "from sklearn.model_selection import train_test_split\r\n",
        "from sklearn.ensemble import RandomForestClassifier\r\n",
        "from sklearn.metrics import roc_auc_score\r\n",
        "\r\n",
        "# Some configuration of the plots we will create later\r\n",
        "%matplotlib inline  \r\n",
        "plt.rcParams[\"figure.figsize\"] = (12,6)\r\n",
        "\r\n",
        "# Load credit risk data in pre-processed format from GitHub\r\n",
        "data_url = 'https://raw.githubusercontent.com/Humboldt-WI/bads/master/data/hmeq_prepared.csv' \r\n",
        "df = pd.read_csv(data_url)\r\n",
        "\r\n",
        "# Extract target variable and feature matrix \r\n",
        "X = df.drop(['BAD'], axis=1) \r\n",
        "y = df[['BAD']]\r\n",
        "\r\n",
        "X_train, X_test, y_train, y_test = train_test_split(X, y, test_size=.2)\r\n",
        "\r\n",
        "X_train.head()"
      ],
      "execution_count": 1,
      "outputs": [
        {
          "output_type": "execute_result",
          "data": {
            "text/html": [
              "<div>\n",
              "<style scoped>\n",
              "    .dataframe tbody tr th:only-of-type {\n",
              "        vertical-align: middle;\n",
              "    }\n",
              "\n",
              "    .dataframe tbody tr th {\n",
              "        vertical-align: top;\n",
              "    }\n",
              "\n",
              "    .dataframe thead th {\n",
              "        text-align: right;\n",
              "    }\n",
              "</style>\n",
              "<table border=\"1\" class=\"dataframe\">\n",
              "  <thead>\n",
              "    <tr style=\"text-align: right;\">\n",
              "      <th></th>\n",
              "      <th>LOAN</th>\n",
              "      <th>MORTDUE</th>\n",
              "      <th>VALUE</th>\n",
              "      <th>REASON</th>\n",
              "      <th>JOB</th>\n",
              "      <th>YOJ</th>\n",
              "      <th>DEROG</th>\n",
              "      <th>DELINQ</th>\n",
              "      <th>CLAGE</th>\n",
              "      <th>NINQ</th>\n",
              "      <th>CLNO</th>\n",
              "      <th>DEBTINC</th>\n",
              "      <th>DEROGzero</th>\n",
              "    </tr>\n",
              "  </thead>\n",
              "  <tbody>\n",
              "    <tr>\n",
              "      <th>3442</th>\n",
              "      <td>18200.0</td>\n",
              "      <td>49653.0</td>\n",
              "      <td>159076.0</td>\n",
              "      <td>DebtCon</td>\n",
              "      <td>ProfExe</td>\n",
              "      <td>20.0</td>\n",
              "      <td>0.0</td>\n",
              "      <td>0.0</td>\n",
              "      <td>231.549730</td>\n",
              "      <td>0.0</td>\n",
              "      <td>27.0</td>\n",
              "      <td>20.415932</td>\n",
              "      <td>True</td>\n",
              "    </tr>\n",
              "    <tr>\n",
              "      <th>5591</th>\n",
              "      <td>36800.0</td>\n",
              "      <td>125894.0</td>\n",
              "      <td>172184.0</td>\n",
              "      <td>DebtCon</td>\n",
              "      <td>Office</td>\n",
              "      <td>11.0</td>\n",
              "      <td>0.0</td>\n",
              "      <td>1.0</td>\n",
              "      <td>214.731160</td>\n",
              "      <td>1.0</td>\n",
              "      <td>33.0</td>\n",
              "      <td>43.847546</td>\n",
              "      <td>True</td>\n",
              "    </tr>\n",
              "    <tr>\n",
              "      <th>3037</th>\n",
              "      <td>16500.0</td>\n",
              "      <td>8795.0</td>\n",
              "      <td>164000.0</td>\n",
              "      <td>HomeImp</td>\n",
              "      <td>Mgr</td>\n",
              "      <td>23.0</td>\n",
              "      <td>0.0</td>\n",
              "      <td>0.0</td>\n",
              "      <td>76.066666</td>\n",
              "      <td>2.0</td>\n",
              "      <td>21.0</td>\n",
              "      <td>34.818260</td>\n",
              "      <td>True</td>\n",
              "    </tr>\n",
              "    <tr>\n",
              "      <th>2099</th>\n",
              "      <td>13200.0</td>\n",
              "      <td>81654.0</td>\n",
              "      <td>114333.0</td>\n",
              "      <td>DebtCon</td>\n",
              "      <td>Other</td>\n",
              "      <td>5.0</td>\n",
              "      <td>0.0</td>\n",
              "      <td>0.0</td>\n",
              "      <td>97.962960</td>\n",
              "      <td>1.0</td>\n",
              "      <td>13.0</td>\n",
              "      <td>33.743366</td>\n",
              "      <td>True</td>\n",
              "    </tr>\n",
              "    <tr>\n",
              "      <th>3838</th>\n",
              "      <td>20100.0</td>\n",
              "      <td>16755.0</td>\n",
              "      <td>29412.0</td>\n",
              "      <td>HomeImp</td>\n",
              "      <td>Other</td>\n",
              "      <td>3.0</td>\n",
              "      <td>1.0</td>\n",
              "      <td>0.0</td>\n",
              "      <td>62.050110</td>\n",
              "      <td>2.0</td>\n",
              "      <td>21.0</td>\n",
              "      <td>58.132183</td>\n",
              "      <td>False</td>\n",
              "    </tr>\n",
              "  </tbody>\n",
              "</table>\n",
              "</div>"
            ],
            "text/plain": [
              "         LOAN   MORTDUE     VALUE   REASON  ... NINQ  CLNO    DEBTINC  DEROGzero\n",
              "3442  18200.0   49653.0  159076.0  DebtCon  ...  0.0  27.0  20.415932       True\n",
              "5591  36800.0  125894.0  172184.0  DebtCon  ...  1.0  33.0  43.847546       True\n",
              "3037  16500.0    8795.0  164000.0  HomeImp  ...  2.0  21.0  34.818260       True\n",
              "2099  13200.0   81654.0  114333.0  DebtCon  ...  1.0  13.0  33.743366       True\n",
              "3838  20100.0   16755.0   29412.0  HomeImp  ...  2.0  21.0  58.132183      False\n",
              "\n",
              "[5 rows x 13 columns]"
            ]
          },
          "metadata": {
            "tags": []
          },
          "execution_count": 1
        }
      ]
    },
    {
      "cell_type": "code",
      "metadata": {
        "colab": {
          "base_uri": "https://localhost:8080/"
        },
        "id": "HrmcdZckZZ8S",
        "outputId": "a1985fcb-db4a-4cc4-c9d3-10020554994a"
      },
      "source": [
        "print(X_train.shape, X_test.shape, y_train.shape, y_test.shape)"
      ],
      "execution_count": 2,
      "outputs": [
        {
          "output_type": "stream",
          "text": [
            "(4768, 13) (1192, 13) (4768, 1) (1192, 1)\n"
          ],
          "name": "stdout"
        }
      ]
    },
    {
      "cell_type": "markdown",
      "metadata": {
        "id": "e9BfpWt7dTwS"
      },
      "source": [
        "# Feature Engineering "
      ]
    },
    {
      "cell_type": "markdown",
      "metadata": {
        "id": "9WByBH0XdTwT"
      },
      "source": [
        "## Data pipeline construction revisited\n",
        "\n",
        "Here is a sample of how your data preparation process should look. This can however vary depending on the data with which you are working and the goal of your model. In general, you may **at least** want to follow these steps:\n",
        "\n",
        "**1) Basic cleaning of null values, duplicates and outliers**\n",
        "\n",
        "These values will have a big impact on how Python runs and how models are calculated. When it comes to NaN values and outliers, there are several approaches to deal with them. You could remove them, replace them with another value (indicator value, mode, mean, max, min, etc), use a mini-model to impute them among other options. This has been done for the most part in this data set already. See [Tutorial #4](https://github.com/Humboldt-WI/bads/blob/master/tutorials/4_nb_data_preparation.ipynb) for details.\n",
        "\n",
        "**2) Encode variables in the most appropriate way**\n",
        "\n",
        "Check your dataframe using the method `.info()` . Are your continuous variables encoded as integers or floats? If they are type `object` then the column may need to be checked again for null values. It is good practice to change any categorical variables to the `category` data type as it increases processing time. Once you have confirmed that you will finalize the model with a categorical variable, it can be good to use one-hot encoding as described in step 5.\n",
        "\n",
        "**3) Ensure variables fit statistical assumptions/model requirements**\n",
        "\n",
        "The next steps are a bit more complex and will depend on which model you need to use. Your goal is to make sure your data will be accurately processed by your model. Note that a lot of statistical assumptions depend on normal distribution and scaling. For example, models like K-Means and other distance-based methods are very sensitive to the magnitude of variable values.  We will first examine ways to do that.\n",
        "\n",
        "In this step, you may also want to remove features which are highly correlated to one another.\n",
        "\n",
        "**4) Filter out variables with low predictive power**\n",
        "\n",
        "You may now want to examine whether the variables contribute to your model. We will discuss filter methods to do just that. Note that some variables may only be effective in combination with others, so be careful with this step. Recall that wrapper methods for feature selection are more powerful but also more costly.  \n",
        "\n",
        "**5) One-hot encode categorical variables**\n",
        "\n",
        "Once you have decided to keep a categorical feature, it can be useful to one-hot encode the feature. Again, one-hot encoding means that instead of one categorical column, you have multiple dummies, which represent possible category values. For example, if your categorical variable \"transport\" had the possible values of \"car\", \"by foot\" or \"bus\", you would split it into columns called \"transport_car\" and \"transport_bus\". \"by foot\" is indicated if neither of those have a value of 1 for that observation. In this tutorial, we will also learn about an alternative way to deal with categorical features using a weight-of-evidence (WoE) transformation.\n",
        "\n",
        "**6) Double check the model only includes appropriate variables**\n",
        "\n",
        "Next, you may want to try a wrapper method or step-wise regression as another check to ensure you are only including relevant variables.\n",
        "\n",
        "In many cases, you may have to repeat some of these steps several times. Remember the idea of **garbage in, garbage out**. If you feed a model nonsense, expect nonsense to come right back out. This is likely what will take the most of your time as a data scientist."
      ]
    },
    {
      "cell_type": "code",
      "metadata": {
        "colab": {
          "base_uri": "https://localhost:8080/"
        },
        "id": "SFfJqQ63qoUa",
        "outputId": "265748d5-0bd5-4aa8-eb8e-1e357fccb40a"
      },
      "source": [
        "# Let's get a quick overview of the data types of each column and make sure they are correct\r\n",
        "\r\n",
        "df.info()"
      ],
      "execution_count": 3,
      "outputs": [
        {
          "output_type": "stream",
          "text": [
            "<class 'pandas.core.frame.DataFrame'>\n",
            "RangeIndex: 5960 entries, 0 to 5959\n",
            "Data columns (total 14 columns):\n",
            " #   Column     Non-Null Count  Dtype  \n",
            "---  ------     --------------  -----  \n",
            " 0   BAD        5960 non-null   bool   \n",
            " 1   LOAN       5960 non-null   float64\n",
            " 2   MORTDUE    5960 non-null   float64\n",
            " 3   VALUE      5960 non-null   float64\n",
            " 4   REASON     5960 non-null   object \n",
            " 5   JOB        5960 non-null   object \n",
            " 6   YOJ        5960 non-null   float64\n",
            " 7   DEROG      5960 non-null   float64\n",
            " 8   DELINQ     5960 non-null   float64\n",
            " 9   CLAGE      5960 non-null   float64\n",
            " 10  NINQ       5960 non-null   float64\n",
            " 11  CLNO       5960 non-null   float64\n",
            " 12  DEBTINC    5960 non-null   float64\n",
            " 13  DEROGzero  5960 non-null   bool   \n",
            "dtypes: bool(2), float64(10), object(2)\n",
            "memory usage: 570.5+ KB\n"
          ],
          "name": "stdout"
        }
      ]
    },
    {
      "cell_type": "markdown",
      "metadata": {
        "id": "wr8OK_ewwKlF"
      },
      "source": [
        "Luckily, most of our variables are actually encoded the right way! Let's just change the two categorical variables to a categorical type. Note that this is not a data type in `NumPy`, only in `Pandas`. As such, you may run into problems if the data type becomes relevant in a `NumPy` calculation. Just keep that in mind!"
      ]
    },
    {
      "cell_type": "code",
      "metadata": {
        "id": "Tf8vzIk2tJZX"
      },
      "source": [
        "# Let's change our two categorical variables to the correct type for our interim analysis\r\n",
        "\r\n",
        "df['REASON'] = df['REASON'].astype('category')\r\n",
        "df['JOB'] = df['JOB'].astype('category')"
      ],
      "execution_count": 4,
      "outputs": []
    },
    {
      "cell_type": "code",
      "metadata": {
        "colab": {
          "base_uri": "https://localhost:8080/"
        },
        "id": "toUCPoLZtaVq",
        "outputId": "048a7915-ff1f-4e06-fc3f-dd8024cc19bc"
      },
      "source": [
        "df.info()"
      ],
      "execution_count": 5,
      "outputs": [
        {
          "output_type": "stream",
          "text": [
            "<class 'pandas.core.frame.DataFrame'>\n",
            "RangeIndex: 5960 entries, 0 to 5959\n",
            "Data columns (total 14 columns):\n",
            " #   Column     Non-Null Count  Dtype   \n",
            "---  ------     --------------  -----   \n",
            " 0   BAD        5960 non-null   bool    \n",
            " 1   LOAN       5960 non-null   float64 \n",
            " 2   MORTDUE    5960 non-null   float64 \n",
            " 3   VALUE      5960 non-null   float64 \n",
            " 4   REASON     5960 non-null   category\n",
            " 5   JOB        5960 non-null   category\n",
            " 6   YOJ        5960 non-null   float64 \n",
            " 7   DEROG      5960 non-null   float64 \n",
            " 8   DELINQ     5960 non-null   float64 \n",
            " 9   CLAGE      5960 non-null   float64 \n",
            " 10  NINQ       5960 non-null   float64 \n",
            " 11  CLNO       5960 non-null   float64 \n",
            " 12  DEBTINC    5960 non-null   float64 \n",
            " 13  DEROGzero  5960 non-null   bool    \n",
            "dtypes: bool(2), category(2), float64(10)\n",
            "memory usage: 489.3 KB\n"
          ],
          "name": "stdout"
        }
      ]
    },
    {
      "cell_type": "markdown",
      "metadata": {
        "id": "mN5r9LUioKP4"
      },
      "source": [
        "## Scaling\r\n",
        "\r\n",
        "Features will likely have arbitrary magnitudes. For example, a customer's spending range from 0 to 50,000 but a dummy variable about them may only take the value 0 or 1. For many algorithms, like the distance function in kMeans, this is problematic. The distance function will try to minimize differences among features using their raw values. This means that kMeans will focus on variables with arbitrarily high values like spending when that may not be as important as a dummy. One way to deal with this is to scale features so that their values are in a controlled range; without altering the distribution of feature values. This way, all features will be considered equally in distance calculations. \r\n",
        "\r\n",
        "There are two major ways to scale: standardization and min-max scaling (also known as normalization).\r\n",
        "\r\n",
        "### Standardization\r\n",
        "After standardization, your feature will now be distributed around a mean  feature value of zero with standard deviation equal to one.\r\n",
        "\r\n",
        "$$ X_{new} = \\frac{X-\\mu}{\\sigma} $$\r\n",
        "\r\n",
        "There is no controlled or a priori set maximum or minimum value here. This means that standardization does not deal with outliers. You may have a clearer picture of how extreme these outliers are after standardization.\r\n",
        "\r\n",
        "### Min-Max Scaling\r\n",
        "After min-max scaling, your variables will have a range of 0 and 1. Minimum feature values will become 0 and maximum values will be 1.\r\n",
        "\r\n",
        "$$ X_{new} = \\frac{X-X_{min}}{X_{max}-X_{min}} $$\r\n",
        "\r\n",
        "**NOTE** This type of scaling is sometimes called normalization but you should note that it simply compacts the values of the features to be between 0 and 1, it does not change the overall shape of the data.\r\n"
      ]
    },
    {
      "cell_type": "code",
      "metadata": {
        "id": "VbhFZHaOOJbq"
      },
      "source": [
        "# Standardization\r\n",
        "def standardize(var):\r\n",
        "    return (var - np.mean(var)) / np.std(var)\r\n",
        "\r\n",
        "\r\n",
        "# Min-max scaling\r\n",
        "def min_max_scale(var):\r\n",
        "    return (var - min(var)) / (max(var) - min(var))"
      ],
      "execution_count": 6,
      "outputs": []
    },
    {
      "cell_type": "markdown",
      "metadata": {
        "id": "ZaJouXZSctiH"
      },
      "source": [
        "Let's first look at how this variable looks before and after normalization and standardization using a box plot and then a histogram. **Note the scaling of the y-axes in all of all the following plots.**"
      ]
    },
    {
      "cell_type": "code",
      "metadata": {
        "colab": {
          "base_uri": "https://localhost:8080/",
          "height": 0
        },
        "id": "idodxYUhxrY4",
        "outputId": "c03df2bb-9435-487f-89f9-c24fad526e4f"
      },
      "source": [
        "# Raw variable \r\n",
        "X_train[['LOAN']].boxplot();"
      ],
      "execution_count": 7,
      "outputs": [
        {
          "output_type": "display_data",
          "data": {
            "image/png": "[encoded data removed]",
            "text/plain": [
              "<Figure size 432x288 with 1 Axes>"
            ]
          },
          "metadata": {
            "tags": [],
            "needs_background": "light"
          }
        }
      ]
    },
    {
      "cell_type": "code",
      "metadata": {
        "colab": {
          "base_uri": "https://localhost:8080/",
          "height": 0
        },
        "id": "7lG40FJUZY5z",
        "outputId": "0f91cb8c-ed70-40e7-cbf6-13cffb174291"
      },
      "source": [
        "# Comparison of the normalized vs. standardized variable (check axes for size)\r\n",
        "\r\n",
        "loan_standardized = standardize(X_train['LOAN'])\r\n",
        "\r\n",
        "loan_normalized = min_max_scale(X_train['LOAN'])\r\n",
        "\r\n",
        "loans_scaled = pd.DataFrame({\"standardized\": loan_standardized, \"normalized\": loan_normalized})\r\n",
        "\r\n",
        "loans_scaled.boxplot();"
      ],
      "execution_count": 8,
      "outputs": [
        {
          "output_type": "display_data",
          "data": {
            "image/png": "[encoded data removed]",
            "text/plain": [
              "<Figure size 432x288 with 1 Axes>"
            ]
          },
          "metadata": {
            "tags": [],
            "needs_background": "light"
          }
        }
      ]
    },
    {
      "cell_type": "code",
      "metadata": {
        "colab": {
          "base_uri": "https://localhost:8080/",
          "height": 0
        },
        "id": "RXjl78Z8QgW8",
        "outputId": "26b02777-2967-4a66-ecd6-efc6b82e2b2e"
      },
      "source": [
        "# Histogram of raw variable\r\n",
        "\r\n",
        "X_train[['LOAN']].hist(bins=100);"
      ],
      "execution_count": 9,
      "outputs": [
        {
          "output_type": "display_data",
          "data": {
            "image/png": "[encoded data removed]",
            "text/plain": [
              "<Figure size 432x288 with 1 Axes>"
            ]
          },
          "metadata": {
            "tags": [],
            "needs_background": "light"
          }
        }
      ]
    },
    {
      "cell_type": "code",
      "metadata": {
        "colab": {
          "base_uri": "https://localhost:8080/",
          "height": 0
        },
        "id": "_LMtqnFFQVTZ",
        "outputId": "0a429c4e-1d0a-4fa7-bea3-a89d909414f0"
      },
      "source": [
        "# Comparison of the normalized vs. standardized variable (check axes for size)\r\n",
        "\r\n",
        "loans_scaled.hist(bins=100);"
      ],
      "execution_count": 10,
      "outputs": [
        {
          "output_type": "display_data",
          "data": {
            "image/png": "[encoded data removed]",
            "text/plain": [
              "<Figure size 432x288 with 2 Axes>"
            ]
          },
          "metadata": {
            "tags": [],
            "needs_background": "light"
          }
        }
      ]
    },
    {
      "cell_type": "markdown",
      "metadata": {
        "id": "RqPKAtlyc4Mc"
      },
      "source": [
        "Now we can see the big difference between the two types of scaling. With min-max scaling, we have the variable ranging between 0 and 1. With standard scaling, we have the variable showing us its position relative to standard deviations. Note that in both of these examples, the variable was squeezed into a smaller range but did not change shape overall. There are ways to change its shape, which we will explore next. "
      ]
    },
    {
      "cell_type": "markdown",
      "metadata": {
        "id": "MRlyLdQedO57"
      },
      "source": [
        "First, let's just quickly look at the standard way to perform scaling when using `sklearn`. We can just use the `MinMaxScaler()` and `StandardScaler` to do what our custom functions did. In practice, we would rely on these routines and avoid coding our own customer functions."
      ]
    },
    {
      "cell_type": "code",
      "metadata": {
        "colab": {
          "base_uri": "https://localhost:8080/",
          "height": 0
        },
        "id": "4zqDzYWUYKYj",
        "outputId": "a53a153f-70f3-4427-c291-a0710053b69b"
      },
      "source": [
        "from sklearn.preprocessing import StandardScaler\r\n",
        "standardscaler = StandardScaler()\r\n",
        "standardscaled = standardscaler.fit_transform(X_train[['LOAN']])\r\n",
        "_ = plt.hist(standardscaled, bins=100)\r\n",
        "plt.show()"
      ],
      "execution_count": 11,
      "outputs": [
        {
          "output_type": "display_data",
          "data": {
            "image/png": "[encoded data removed]",
            "text/plain": [
              "<Figure size 432x288 with 1 Axes>"
            ]
          },
          "metadata": {
            "tags": [],
            "needs_background": "light"
          }
        }
      ]
    },
    {
      "cell_type": "code",
      "metadata": {
        "colab": {
          "base_uri": "https://localhost:8080/",
          "height": 0
        },
        "id": "7iNANRAhYEeV",
        "outputId": "449300af-f7a3-40d9-8246-4a676e600b05"
      },
      "source": [
        "from sklearn.preprocessing import MinMaxScaler\r\n",
        "minmaxscaler = MinMaxScaler()\r\n",
        "minmaxscaled = minmaxscaler.fit_transform(X_train[['LOAN']])\r\n",
        "\r\n",
        "_ = plt.hist(minmaxscaled, bins=100)\r\n",
        "plt.show()"
      ],
      "execution_count": 12,
      "outputs": [
        {
          "output_type": "display_data",
          "data": {
            "image/png": "[encoded data removed]",
            "text/plain": [
              "<Figure size 432x288 with 1 Axes>"
            ]
          },
          "metadata": {
            "tags": [],
            "needs_background": "light"
          }
        }
      ]
    },
    {
      "cell_type": "markdown",
      "metadata": {
        "id": "jIWedZPyKQhC"
      },
      "source": [
        "It is good practice to scale variables before putting them into an algorithm. Note that some algorithms (eg. tree algorithms) don't necessarily require this. Since we will be using a logistic regression initially, we will scale these variables using standard scaling later."
      ]
    },
    {
      "cell_type": "markdown",
      "metadata": {
        "id": "wxHx35GGJbVc"
      },
      "source": [
        "## Checking features for normality\r\n",
        "\r\n",
        "Normality is a critical condition for many statistical tests and the creation of confidence intervals. If this is the goal of your work, you will likely need to find some way to normalize your variables. Further, some methods for descriptive, explanatory or predictive modeling may benefit from normality. Imagine, for example, a dependent variable that displays a complex, non-normal distribution. If the distribution of the dependent is non-normal, it is likely that residuals will also be non-normal, which vialoates an assumption of the linear model. Long story short, many importand data science methods may benefit from feature transformations that change the distribution of a feature such that it becomes more normal. Here we will introduce 3 useful transformations to achieve this: log, Box-Cox and Yeo-Johnson transformations.\r\n",
        "\r\n",
        "There are several ways to check which variables could benefit from such a transformation. One method would be to create a histogram of each variable and check its shape. Remember that you are looking for a perfect bell shape with even tails on either side. As you can imagine, this does not happen very often with many variables."
      ]
    },
    {
      "cell_type": "code",
      "metadata": {
        "colab": {
          "base_uri": "https://localhost:8080/",
          "height": 0
        },
        "id": "ofPwp-hoORpA",
        "outputId": "6ea0cf1c-ea44-4e60-d375-5ee7ea11c1b8"
      },
      "source": [
        "df.select_dtypes(include='float64').hist(bins=30, figsize=(15, 10));"
      ],
      "execution_count": 13,
      "outputs": [
        {
          "output_type": "display_data",
          "data": {
            "image/png": "[encoded data removed]",
            "text/plain": [
              "<Figure size 1080x720 with 12 Axes>"
            ]
          },
          "metadata": {
            "tags": [],
            "needs_background": "light"
          }
        }
      ]
    },
    {
      "cell_type": "code",
      "metadata": {
        "id": "fMwv2bSR1KrR"
      },
      "source": [
        "# Choose a feature of interest and we'll take a deep dive into it\r\n",
        "# DEROG, DELINQ and NINQ are bad candidates as they resemble categorical variables\r\n",
        "\r\n",
        "feature = df['LOAN'] "
      ],
      "execution_count": 14,
      "outputs": []
    },
    {
      "cell_type": "markdown",
      "metadata": {
        "id": "2oSu9klOwao9"
      },
      "source": [
        "If you would like a more scienfitic test for normality, you can use `normaltest` from `scipy`. This function's documentation is [here](https://docs.scipy.org/doc/scipy/reference/generated/scipy.stats.normaltest.html). It outputs 2 numbers, the first is the sum of squares of the z-scores returned by a skewtest and kurtosistest. The second is a 2-sided chi2 probability hypothesis test. Thus, if the p-value is below 0.05, it is likely you do not have normally distributed data."
      ]
    },
    {
      "cell_type": "code",
      "metadata": {
        "colab": {
          "base_uri": "https://localhost:8080/"
        },
        "id": "Fvn-QvyXUt78",
        "outputId": "fec9b8c5-efe0-47f1-ca91-a98ed5e5922d"
      },
      "source": [
        "from scipy import stats\r\n",
        "\r\n",
        "stats.normaltest(feature)"
      ],
      "execution_count": 15,
      "outputs": [
        {
          "output_type": "execute_result",
          "data": {
            "text/plain": [
              "NormaltestResult(statistic=1603.6531776769357, pvalue=0.0)"
            ]
          },
          "metadata": {
            "tags": []
          },
          "execution_count": 15
        }
      ]
    },
    {
      "cell_type": "markdown",
      "metadata": {
        "id": "TnBUkKjE0Vt6"
      },
      "source": [
        "We can see problems a bit more clearly with a quantile-quantile (QQ) plot. Ideally, the blue line should match the red line (quantiles of a feature versus the quantiles/ppf of a distribution). If not, it is less likely that it comes from a normal distribution."
      ]
    },
    {
      "cell_type": "code",
      "metadata": {
        "colab": {
          "base_uri": "https://localhost:8080/",
          "height": 0
        },
        "id": "BJ-WO3MK0IKk",
        "outputId": "7152244e-dad3-499d-a4b3-dfbcfd553190"
      },
      "source": [
        "from statsmodels.graphics.gofplots import qqplot\r\n",
        "\r\n",
        "qqplot(feature, line='s')\r\n",
        "plt.show()"
      ],
      "execution_count": 16,
      "outputs": [
        {
          "output_type": "stream",
          "text": [
            "/usr/local/lib/python3.6/dist-packages/statsmodels/tools/_testing.py:19: FutureWarning: pandas.util.testing is deprecated. Use the functions in the public API at pandas.testing instead.\n",
            "  import pandas.util.testing as tm\n"
          ],
          "name": "stderr"
        },
        {
          "output_type": "display_data",
          "data": {
            "image/png": "[encoded data removed]",
            "text/plain": [
              "<Figure size 432x288 with 1 Axes>"
            ]
          },
          "metadata": {
            "tags": [],
            "needs_background": "light"
          }
        }
      ]
    },
    {
      "cell_type": "markdown",
      "metadata": {
        "id": "9lHmSIC2_8dB"
      },
      "source": [
        "Just to reiterate that it is a bit misleading to say min-max scaling is \"normalization\", let's min-max scale our feature and perform the test. As we can see, `normaltest` outputs the same test statistic and pvalue."
      ]
    },
    {
      "cell_type": "code",
      "metadata": {
        "colab": {
          "base_uri": "https://localhost:8080/",
          "height": 0
        },
        "id": "vVYoIXCfpkay",
        "outputId": "52228ffd-5590-4dd9-a584-a71569f53b61"
      },
      "source": [
        "minmaxscaled_feature = minmaxscaler.fit_transform(pd.DataFrame(feature))\r\n",
        "\r\n",
        "_ = plt.hist(minmaxscaled_feature, bins=100)\r\n",
        "plt.show()"
      ],
      "execution_count": 17,
      "outputs": [
        {
          "output_type": "display_data",
          "data": {
            "image/png": "[encoded data removed]",
            "text/plain": [
              "<Figure size 432x288 with 1 Axes>"
            ]
          },
          "metadata": {
            "tags": [],
            "needs_background": "light"
          }
        }
      ]
    },
    {
      "cell_type": "code",
      "metadata": {
        "colab": {
          "base_uri": "https://localhost:8080/"
        },
        "id": "l2Qt1Ociy16_",
        "outputId": "efe198a5-a2eb-4a7d-fef2-2409a027aa4b"
      },
      "source": [
        "stats.normaltest(minmaxscaled_feature)"
      ],
      "execution_count": 18,
      "outputs": [
        {
          "output_type": "execute_result",
          "data": {
            "text/plain": [
              "NormaltestResult(statistic=array([1603.65317768]), pvalue=array([0.]))"
            ]
          },
          "metadata": {
            "tags": []
          },
          "execution_count": 18
        }
      ]
    },
    {
      "cell_type": "markdown",
      "metadata": {
        "id": "pxugN33PMl3s"
      },
      "source": [
        "As such, if you need your variable to have more of a normal distribution, it's going to take more than min-max scaling."
      ]
    },
    {
      "cell_type": "markdown",
      "metadata": {
        "id": "fhHv9AlsJ4J_"
      },
      "source": [
        "## Common feature transformations for numeric data"
      ]
    },
    {
      "cell_type": "markdown",
      "metadata": {
        "id": "e3OU5PBOMymG"
      },
      "source": [
        "### Log Transformation\r\n",
        "One major use of logs is to create linearity from exponential relationships. This can help algorithms (e.g., linear models) capture the fit of many variables. Remember that logs take only strictly positive variables. If you have any negative values, you will have to rescale your data, remove them or find another way to deal with them.\r\n",
        "\r\n",
        "$ x^{(t)} = g(x) = log(x) $\r\n",
        "\r\n"
      ]
    },
    {
      "cell_type": "markdown",
      "metadata": {
        "id": "KjM6lppjM1Yu"
      },
      "source": [
        "### Box Cox Transformation\r\n",
        "If your variable has a skewed tail, this can be problematic for the assumption on normality. You can try to correct this with a Box Cox transformation. This only works with strictly positive values (greater than 0). You can always rescale variables so they meet this criteria before putting them into this formula.\r\n",
        "\r\n",
        "$\r\n",
        "    x^{(t)} = g(x; \\lambda) =\r\n",
        "    \\begin{cases}\r\n",
        "      \\frac{x^\\lambda - 1}{\\lambda}, & \\text{if}\\ \\lambda \\neq 0 \\\\\r\n",
        "      log(x), & \\text{otherwise}\r\n",
        "    \\end{cases}\r\n",
        "$\r\n",
        "\r\n"
      ]
    },
    {
      "cell_type": "markdown",
      "metadata": {
        "id": "OBj1x_jqM4sr"
      },
      "source": [
        "### Yeo-Johnson Transformation\r\n",
        "This formula is essentially a more elaborate version of Box Cox. It can take any numbers (0 and under is completely fine). \r\n",
        "\r\n",
        "$\r\n",
        "    x^{(t)} = g(x; \\lambda) =\r\n",
        "    \\begin{cases}\r\n",
        "      \\frac{(1+x)^\\lambda - 1}{\\lambda}, & \\text{if}\\ \\lambda \\neq 0 \\ \\text{and}\\ x \\geq 0 \\\\\r\n",
        "      log(x+1), & \\text{if}\\ \\lambda = 0 \\ \\text{and}\\ x \\geq 0 \\\\\r\n",
        "      -\\frac{(1-x)^{2-\\lambda} - 1}{2-\\lambda}, & \\text{if}\\ \\lambda \\neq 2 \\ \\text{and}\\ x < 0\\\\\r\n",
        "      -log(-x+1), & \\text{if}\\ \\lambda = 2 \\ \\text{and}\\ x < 0\\\\\r\n",
        "    \\end{cases}\r\n",
        "$"
      ]
    },
    {
      "cell_type": "markdown",
      "metadata": {
        "id": "Rp8qyjecM7mD"
      },
      "source": [
        "\r\n",
        "## Testing transformations\r\n",
        "Let's look at a version of these which we have created from scratch and check what they do to our variable using histograms and box plots."
      ]
    },
    {
      "cell_type": "code",
      "metadata": {
        "id": "E-WYJkxWu0Ym"
      },
      "source": [
        "def box_cox_transform(var, power=0):\r\n",
        "\r\n",
        "    try:\r\n",
        "        assert (var > 0).all()  # Function only defined > 0\r\n",
        "    except AssertionError:\r\n",
        "        raise ValueError(\"Variable values must be strictly positive\")\r\n",
        "\r\n",
        "    # Special case lambda=0\r\n",
        "    if power == 0:\r\n",
        "        var = np.log(var)\r\n",
        "\r\n",
        "    else:\r\n",
        "        var = (var ** power - 1) / power\r\n",
        "\r\n",
        "    return var"
      ],
      "execution_count": 19,
      "outputs": []
    },
    {
      "cell_type": "code",
      "metadata": {
        "id": "7ZXddYSIvg4O"
      },
      "source": [
        "def yeo_johnson_transform(var, power=1):\r\n",
        "\r\n",
        "    var_mod = np.empty_like(var)\r\n",
        "\r\n",
        "    # Special case lambda=0\r\n",
        "    if power == 0:\r\n",
        "        mask = (var >= 0)\r\n",
        "        var_mod[mask] = np.log(var[mask] + 1)\r\n",
        "        var_mod[~mask] = -((-var[~mask] + 1)**2 - 1) / 2 \r\n",
        "\r\n",
        "  # Special case lambda=2\r\n",
        "    elif power == 2:\r\n",
        "        mask = (var >= 0)\r\n",
        "        var_mod[mask] = ((var[mask] + 1)**2 - 1) / 2\r\n",
        "        var_mod[~mask] = -np.log(-var[~mask] + 1)\r\n",
        "\r\n",
        "    else:\r\n",
        "        mask = (var >= 0)\r\n",
        "        var_mod[mask] = ((var[mask] + 1)**power - 1) / power\r\n",
        "        var_mod[~mask] = -((-var[~mask] + 1)**(2 - power) - 1) / (2 - power)\r\n",
        "\r\n",
        "    return pd.Series(var_mod)"
      ],
      "execution_count": 20,
      "outputs": []
    },
    {
      "cell_type": "markdown",
      "metadata": {
        "id": "3ppSK3IsOcLJ"
      },
      "source": [
        "Now let's check the histogram of the regular feature of interest and its modified versions. Pay attention to the scale. What happens as the power of the BC and YJ transformation increases? What happens to the shape of the histogram?"
      ]
    },
    {
      "cell_type": "code",
      "metadata": {
        "id": "3iU2gT6LK3n2"
      },
      "source": [
        "# Adjust coefficient of Box Cox transformation on the feature to show plot below\r\n",
        "\r\n",
        "bc1 = box_cox_transform(feature+1, power=0)  # Adding 1 as all features start at 0, not allowed in BC\r\n",
        "bc2 = box_cox_transform(feature+1, power=.5)\r\n",
        "bc3 = box_cox_transform(feature+1, power=1)"
      ],
      "execution_count": 21,
      "outputs": []
    },
    {
      "cell_type": "code",
      "metadata": {
        "colab": {
          "base_uri": "https://localhost:8080/",
          "height": 0
        },
        "id": "_qVI-FeWBWVD",
        "outputId": "b42f90a2-78bc-49bc-be6e-5784971cc7c0"
      },
      "source": [
        "# Plot a histogram per coefficient of BC transformation\r\n",
        "\r\n",
        "fig, (ax1, ax2, ax3, ax4) = plt.subplots(nrows=4, ncols=1)\r\n",
        "fig.set_figheight(10)\r\n",
        "fig.set_figwidth(10)\r\n",
        "\r\n",
        "ax1.hist(feature, bins=20)\r\n",
        "ax2.hist(bc1, bins=20)\r\n",
        "ax3.hist(bc2, bins=20)\r\n",
        "ax4.hist(bc3, bins=20)\r\n",
        "\r\n",
        "ax1.set_title('Original Feature')\r\n",
        "ax1.set_ylabel('Frequency')\r\n",
        "ax1.set_xlabel('Values')\r\n",
        "\r\n",
        "ax2.set_title('Histogram Box Cox Lambda = 0')\r\n",
        "ax2.set_ylabel('Frequency')\r\n",
        "ax2.set_xlabel('Values')\r\n",
        "\r\n",
        "\r\n",
        "ax3.set_title('Histogram Box Cox Lambda = 0.5')\r\n",
        "ax3.set_ylabel('Frequency')\r\n",
        "ax3.set_xlabel('Values')\r\n",
        "\r\n",
        "\r\n",
        "ax4.set_title('Histogram Box Cox Lambda = 1')\r\n",
        "ax4.set_xlabel('Values')\r\n",
        "ax4.set_ylabel('Frequency')\r\n",
        "\r\n",
        "plt.tight_layout()\r\n",
        "plt.show()"
      ],
      "execution_count": 22,
      "outputs": [
        {
          "output_type": "display_data",
          "data": {
            "image/png": "[encoded data removed]",
            "text/plain": [
              "<Figure size 720x720 with 4 Axes>"
            ]
          },
          "metadata": {
            "tags": [],
            "needs_background": "light"
          }
        }
      ]
    },
    {
      "cell_type": "markdown",
      "metadata": {
        "id": "SVqY3gkGMxyL"
      },
      "source": [
        "Did you notice that the peak of the data moves? We are looking for a sweet spot where the peak is somewhere directly between the two tails so the distribution is almost perfectly bell-shaped. Note that the scale also changes pretty dramatically too. Make sure that you scale this variable after if necessary to make sure it fits your model requirements!\r\n",
        "\r\n",
        "Now let's check Yeo-Johnson."
      ]
    },
    {
      "cell_type": "code",
      "metadata": {
        "id": "bscxmtknqQVE"
      },
      "source": [
        "# Adjust coefficient of YJ transformation on the feature to show plot below\r\n",
        "\r\n",
        "yj1 = yeo_johnson_transform(feature, power=0)\r\n",
        "yj2 = yeo_johnson_transform(feature, power=.5)\r\n",
        "yj3 = yeo_johnson_transform(feature, power=1)"
      ],
      "execution_count": 23,
      "outputs": []
    },
    {
      "cell_type": "code",
      "metadata": {
        "colab": {
          "base_uri": "https://localhost:8080/",
          "height": 0
        },
        "id": "udDSAbNdFO-K",
        "outputId": "61d2c092-9e9a-4325-a7ab-b91d9817d293"
      },
      "source": [
        "# Plot a histogram per coefficient of YJ transformation\r\n",
        "\r\n",
        "fig, (ax1, ax2, ax3, ax4) = plt.subplots(nrows=4, ncols=1)\r\n",
        "fig.set_figheight(10)\r\n",
        "fig.set_figwidth(10)\r\n",
        "\r\n",
        "\r\n",
        "ax1.hist(feature, bins=20)\r\n",
        "ax2.hist(yj1, bins=20)\r\n",
        "ax3.hist(yj2, bins=20)\r\n",
        "ax4.hist(yj3, bins=20)\r\n",
        "\r\n",
        "ax1.set_title('Original Feature')\r\n",
        "ax1.set_ylabel('Frequency')\r\n",
        "ax1.set_xlabel('Values')\r\n",
        "\r\n",
        "\r\n",
        "ax2.set_title('Histogram Yeo-Johnson Lambda = 0')\r\n",
        "ax2.set_ylabel('Frequency')\r\n",
        "ax2.set_xlabel('Values')\r\n",
        "\r\n",
        "\r\n",
        "ax3.set_title('Histogram Yeo-Johnson Lambda = 0.5')\r\n",
        "ax3.set_xlabel('Values')\r\n",
        "ax3.set_ylabel('Frequency')\r\n",
        "\r\n",
        "ax4.set_title('Histogram Yeo-Johnson Lambda = 1')\r\n",
        "ax4.set_xlabel('Values')\r\n",
        "ax4.set_ylabel('Frequency')\r\n",
        "\r\n",
        "plt.tight_layout()\r\n",
        "plt.show()"
      ],
      "execution_count": 24,
      "outputs": [
        {
          "output_type": "display_data",
          "data": {
            "image/png": "[encoded data removed]",
            "text/plain": [
              "<Figure size 720x720 with 4 Axes>"
            ]
          },
          "metadata": {
            "tags": [],
            "needs_background": "light"
          }
        }
      ]
    },
    {
      "cell_type": "markdown",
      "metadata": {
        "id": "4ZW1pHcquAlK"
      },
      "source": [
        "We see that it does the same type of thing. The peak of the data is shifted and again, we are trying to find the coefficient which will give us the most bell-curve-like shape.\r\n",
        "\r\n",
        "There are a few ways we can find the optimal coefficient. This is a task in the exercises to do manually. However, `scipy` actually has a built in function to do this."
      ]
    },
    {
      "cell_type": "markdown",
      "metadata": {
        "id": "COvAW6bSuT8t"
      },
      "source": [
        "### Using `scipy` functions\r\n",
        "Let's now use a pre-made function and see where it finds the true maximum point of normality. We can again use the `scipy` library which we have nicknamed `stats` to fit the feature and find the optimal lambda. Let's first start with Box Cox."
      ]
    },
    {
      "cell_type": "code",
      "metadata": {
        "colab": {
          "base_uri": "https://localhost:8080/"
        },
        "id": "xPRZf_G4VYK3",
        "outputId": "4e1d5191-9735-4523-c1a4-bfc2798f83d9"
      },
      "source": [
        "bc_fitted_feature, bc_fitted_lambda = stats.boxcox(feature+1) # Again, we are adding 1 because all features have 0s (not allowed in BC)\r\n",
        "\r\n",
        "bc_fitted_lambda"
      ],
      "execution_count": 25,
      "outputs": [
        {
          "output_type": "execute_result",
          "data": {
            "text/plain": [
              "0.19107151032822628"
            ]
          },
          "metadata": {
            "tags": []
          },
          "execution_count": 25
        }
      ]
    },
    {
      "cell_type": "code",
      "metadata": {
        "colab": {
          "base_uri": "https://localhost:8080/",
          "height": 0
        },
        "id": "1oFq1w6MIOkd",
        "outputId": "c774a02f-8813-4da1-ca3f-e545c0f2b097"
      },
      "source": [
        "plt.hist(bc_fitted_feature, bins=20)\r\n",
        "plt.title('SciPy Optimal Box Cox of Feature of Interest')\r\n",
        "plt.show()"
      ],
      "execution_count": 26,
      "outputs": [
        {
          "output_type": "display_data",
          "data": {
            "image/png": "[encoded data removed]",
            "text/plain": [
              "<Figure size 432x288 with 1 Axes>"
            ]
          },
          "metadata": {
            "tags": [],
            "needs_background": "light"
          }
        }
      ]
    },
    {
      "cell_type": "markdown",
      "metadata": {
        "id": "dpqduGkrvbh9"
      },
      "source": [
        "Now, let's do the same thing but with Yeo-Johson. We can note that the optimal lambda is the same along with the output. Due to its simplicity, it is better to use Box Cox unless you have data which does not have strictly positive values."
      ]
    },
    {
      "cell_type": "code",
      "metadata": {
        "colab": {
          "base_uri": "https://localhost:8080/"
        },
        "id": "6zvxxkHmWRun",
        "outputId": "1e46afc9-b5ab-41ca-8bb0-804a0592e4c6"
      },
      "source": [
        "yj_fitted_feature, yj_fitted_lambda = stats.yeojohnson(feature)\r\n",
        "\r\n",
        "yj_fitted_lambda"
      ],
      "execution_count": 27,
      "outputs": [
        {
          "output_type": "execute_result",
          "data": {
            "text/plain": [
              "0.1910714444440362"
            ]
          },
          "metadata": {
            "tags": []
          },
          "execution_count": 27
        }
      ]
    },
    {
      "cell_type": "code",
      "metadata": {
        "colab": {
          "base_uri": "https://localhost:8080/",
          "height": 0
        },
        "id": "oyt8vy3cIRrY",
        "outputId": "1882d6dc-77e3-44f0-951d-bdfbf4146dda"
      },
      "source": [
        "plt.hist(yj_fitted_feature, bins=20)\r\n",
        "plt.title('SciPy Optimal Yeo-Johnson of Feature of Interest')\r\n",
        "plt.show()"
      ],
      "execution_count": 28,
      "outputs": [
        {
          "output_type": "display_data",
          "data": {
            "image/png": "[encoded data removed]",
            "text/plain": [
              "<Figure size 432x288 with 1 Axes>"
            ]
          },
          "metadata": {
            "tags": [],
            "needs_background": "light"
          }
        }
      ]
    },
    {
      "cell_type": "markdown",
      "metadata": {
        "id": "sPKxrQ6tv360"
      },
      "source": [
        "Lastly, let's do the normal test one last time with the optimal lambda found by `scipy`. We can see that the test statistic does not exceed the desired 0.05 but is much better than what we were dealing with previously."
      ]
    },
    {
      "cell_type": "code",
      "metadata": {
        "colab": {
          "base_uri": "https://localhost:8080/"
        },
        "id": "sapIAnqyu65C",
        "outputId": "047caa55-94fc-4d6d-891d-48cc5c52d3c1"
      },
      "source": [
        "stats.normaltest(yj_fitted_feature)"
      ],
      "execution_count": 29,
      "outputs": [
        {
          "output_type": "execute_result",
          "data": {
            "text/plain": [
              "NormaltestResult(statistic=10.847274655668734, pvalue=0.004411072914542767)"
            ]
          },
          "metadata": {
            "tags": []
          },
          "execution_count": 29
        }
      ]
    },
    {
      "cell_type": "code",
      "metadata": {
        "colab": {
          "base_uri": "https://localhost:8080/",
          "height": 0
        },
        "id": "VQzph3Z201nV",
        "outputId": "7196234a-0c75-4ed6-fb40-5384ddc644f4"
      },
      "source": [
        "qqplot(yj_fitted_feature, line='s')\r\n",
        "plt.show()"
      ],
      "execution_count": 30,
      "outputs": [
        {
          "output_type": "display_data",
          "data": {
            "image/png": "[encoded data removed]",
            "text/plain": [
              "<Figure size 432x288 with 1 Axes>"
            ]
          },
          "metadata": {
            "tags": [],
            "needs_background": "light"
          }
        }
      ]
    },
    {
      "cell_type": "markdown",
      "metadata": {
        "id": "hLNaQmNRHBL-"
      },
      "source": [
        "## Apply transformations on train and test data separately\r\n",
        "So, before we continue let's quickly just apply a simple transform to all of our variables. We will just standardize them for now. Remember that you should be doing any transformations separately to your train data and test data. You want to try to keep your test data as pure as possible. If you make transformations before, you risk not having a truly representative sample of new unseen data to test your model on. To see this, recall that scaling involves computing statistics like the mean, standard deviatio or min/max. It makes a difference whether you compute these statistics only from the training data or from the combination of the training and test date. Thus, first scaline the data and then splitting it into training and test is a bad idea. The scaler classes in `sklearn` are designed in a way to help you avoid this flaw. "
      ]
    },
    {
      "cell_type": "code",
      "metadata": {
        "colab": {
          "base_uri": "https://localhost:8080/",
          "height": 0
        },
        "id": "JkctXuBp1VAr",
        "outputId": "73db9094-e815-4400-adc9-f8fca666f936"
      },
      "source": [
        "numeric_cols = [\"LOAN\", \"MORTDUE\", \"VALUE\", \"YOJ\", \"DEROG\", \"DELINQ\", \"CLAGE\", \"NINQ\", \"CLNO\", \"DEBTINC\"]\r\n",
        "\r\n",
        "standard = StandardScaler()\r\n",
        "\r\n",
        "X_train_scaled = X_train.copy()\r\n",
        "X_test_scaled = X_test.copy()\r\n",
        "\r\n",
        "X_train_scaled[numeric_cols] = standard.fit_transform(X_train_scaled[numeric_cols])\r\n",
        "\r\n",
        "X_test_scaled[numeric_cols] = standard.transform(X_test_scaled[numeric_cols])\r\n",
        "\r\n",
        "X_test_scaled.head()"
      ],
      "execution_count": 31,
      "outputs": [
        {
          "output_type": "execute_result",
          "data": {
            "text/html": [
              "<div>\n",
              "<style scoped>\n",
              "    .dataframe tbody tr th:only-of-type {\n",
              "        vertical-align: middle;\n",
              "    }\n",
              "\n",
              "    .dataframe tbody tr th {\n",
              "        vertical-align: top;\n",
              "    }\n",
              "\n",
              "    .dataframe thead th {\n",
              "        text-align: right;\n",
              "    }\n",
              "</style>\n",
              "<table border=\"1\" class=\"dataframe\">\n",
              "  <thead>\n",
              "    <tr style=\"text-align: right;\">\n",
              "      <th></th>\n",
              "      <th>LOAN</th>\n",
              "      <th>MORTDUE</th>\n",
              "      <th>VALUE</th>\n",
              "      <th>REASON</th>\n",
              "      <th>JOB</th>\n",
              "      <th>YOJ</th>\n",
              "      <th>DEROG</th>\n",
              "      <th>DELINQ</th>\n",
              "      <th>CLAGE</th>\n",
              "      <th>NINQ</th>\n",
              "      <th>CLNO</th>\n",
              "      <th>DEBTINC</th>\n",
              "      <th>DEROGzero</th>\n",
              "    </tr>\n",
              "  </thead>\n",
              "  <tbody>\n",
              "    <tr>\n",
              "      <th>4123</th>\n",
              "      <td>0.304857</td>\n",
              "      <td>0.566364</td>\n",
              "      <td>0.856570</td>\n",
              "      <td>DebtCon</td>\n",
              "      <td>ProfExe</td>\n",
              "      <td>1.802554</td>\n",
              "      <td>1.004812</td>\n",
              "      <td>-0.372598</td>\n",
              "      <td>-0.120033</td>\n",
              "      <td>-0.754040</td>\n",
              "      <td>0.388474</td>\n",
              "      <td>0.858198</td>\n",
              "      <td>False</td>\n",
              "    </tr>\n",
              "    <tr>\n",
              "      <th>2670</th>\n",
              "      <td>-0.303811</td>\n",
              "      <td>-1.642957</td>\n",
              "      <td>-0.100011</td>\n",
              "      <td>HomeImp</td>\n",
              "      <td>Other</td>\n",
              "      <td>0.576518</td>\n",
              "      <td>-0.274137</td>\n",
              "      <td>0.538452</td>\n",
              "      <td>1.125639</td>\n",
              "      <td>-0.754040</td>\n",
              "      <td>0.083394</td>\n",
              "      <td>-0.727901</td>\n",
              "      <td>True</td>\n",
              "    </tr>\n",
              "    <tr>\n",
              "      <th>3551</th>\n",
              "      <td>0.034338</td>\n",
              "      <td>-0.056216</td>\n",
              "      <td>0.087580</td>\n",
              "      <td>DebtCon</td>\n",
              "      <td>Office</td>\n",
              "      <td>0.167840</td>\n",
              "      <td>-0.274137</td>\n",
              "      <td>-0.372598</td>\n",
              "      <td>0.390757</td>\n",
              "      <td>0.572870</td>\n",
              "      <td>-0.831848</td>\n",
              "      <td>-0.058846</td>\n",
              "      <td>True</td>\n",
              "    </tr>\n",
              "    <tr>\n",
              "      <th>360</th>\n",
              "      <td>-1.173337</td>\n",
              "      <td>0.088693</td>\n",
              "      <td>-0.209736</td>\n",
              "      <td>HomeImp</td>\n",
              "      <td>Other</td>\n",
              "      <td>2.075006</td>\n",
              "      <td>-0.274137</td>\n",
              "      <td>-0.372598</td>\n",
              "      <td>1.802748</td>\n",
              "      <td>-0.754040</td>\n",
              "      <td>2.625732</td>\n",
              "      <td>-0.861204</td>\n",
              "      <td>True</td>\n",
              "    </tr>\n",
              "    <tr>\n",
              "      <th>152</th>\n",
              "      <td>-1.289273</td>\n",
              "      <td>-1.051946</td>\n",
              "      <td>-1.054833</td>\n",
              "      <td>HomeImp</td>\n",
              "      <td>ProfExe</td>\n",
              "      <td>0.440292</td>\n",
              "      <td>-0.274137</td>\n",
              "      <td>-0.372598</td>\n",
              "      <td>-0.079436</td>\n",
              "      <td>-0.090585</td>\n",
              "      <td>-0.119993</td>\n",
              "      <td>0.134477</td>\n",
              "      <td>True</td>\n",
              "    </tr>\n",
              "  </tbody>\n",
              "</table>\n",
              "</div>"
            ],
            "text/plain": [
              "          LOAN   MORTDUE     VALUE  ...      CLNO   DEBTINC  DEROGzero\n",
              "4123  0.304857  0.566364  0.856570  ...  0.388474  0.858198      False\n",
              "2670 -0.303811 -1.642957 -0.100011  ...  0.083394 -0.727901       True\n",
              "3551  0.034338 -0.056216  0.087580  ... -0.831848 -0.058846       True\n",
              "360  -1.173337  0.088693 -0.209736  ...  2.625732 -0.861204       True\n",
              "152  -1.289273 -1.051946 -1.054833  ... -0.119993  0.134477       True\n",
              "\n",
              "[5 rows x 13 columns]"
            ]
          },
          "metadata": {
            "tags": []
          },
          "execution_count": 31
        }
      ]
    },
    {
      "cell_type": "code",
      "metadata": {
        "colab": {
          "base_uri": "https://localhost:8080/"
        },
        "id": "M7XxMfSU1VA0",
        "outputId": "4b39555f-083c-4d5a-ab66-ec73bd664e45"
      },
      "source": [
        "X_train.info()"
      ],
      "execution_count": 32,
      "outputs": [
        {
          "output_type": "stream",
          "text": [
            "<class 'pandas.core.frame.DataFrame'>\n",
            "Int64Index: 4768 entries, 3442 to 3772\n",
            "Data columns (total 13 columns):\n",
            " #   Column     Non-Null Count  Dtype  \n",
            "---  ------     --------------  -----  \n",
            " 0   LOAN       4768 non-null   float64\n",
            " 1   MORTDUE    4768 non-null   float64\n",
            " 2   VALUE      4768 non-null   float64\n",
            " 3   REASON     4768 non-null   object \n",
            " 4   JOB        4768 non-null   object \n",
            " 5   YOJ        4768 non-null   float64\n",
            " 6   DEROG      4768 non-null   float64\n",
            " 7   DELINQ     4768 non-null   float64\n",
            " 8   CLAGE      4768 non-null   float64\n",
            " 9   NINQ       4768 non-null   float64\n",
            " 10  CLNO       4768 non-null   float64\n",
            " 11  DEBTINC    4768 non-null   float64\n",
            " 12  DEROGzero  4768 non-null   bool   \n",
            "dtypes: bool(1), float64(10), object(2)\n",
            "memory usage: 488.9+ KB\n"
          ],
          "name": "stdout"
        }
      ]
    },
    {
      "cell_type": "markdown",
      "metadata": {
        "id": "0p_2fkdGdTwU"
      },
      "source": [
        "## Encoding nominal features using weight-of-evidence coding\n",
        "\n",
        "Weight of evidence encoding or WoE can be used to check if a variable has predictive power and can replace categories with that predictive power. Let's say we are computing a binary classification problem and we want to use this method to encode a categorical variable. We would first take the percent chance of y=0 (Good) and y=1 (Bad) for each category. Bad and good are often used because WoE comes from the credit scoring industry. We will then divide these two percents and take their natural logarithm. This is the WoE for that particular category, represented mathematically below:\n",
        "\n",
        "$$ WOE_{cat} = ln\\bigg(\\frac{\\text{% Good}}{\\text{% Bad}}\\bigg) $$\n",
        "\n",
        "\n",
        "As you can see from this equation, this is a simple way to represent which categories contain the most cases of y=0 or y=1. This is then assumed to be the predictive power of the variable.\n",
        "\n",
        "Note that you could apply the WoE transformtion also to a continuous variable after binning that variable. For example, if you had income as a continuous variable, you can determine cut-offs for \"low earners\", \"medium earners\" and \"high earners\" or whatever split makes most sense for your case. You could also use an algorithm find the best split for you (we introduce one below).\n",
        "\n",
        "When you do your regression, you will now replace each bin or category with its respective WoE and perform the regression. The benefits of this include the ability to combine bins with similar WoE values and create more monotonic relationships which are easy to model. The drawbacks are possible loss of information and lack of ability to find correlation between variables.\n",
        "\n",
        "### Information Value\n",
        "After calculating WoE, we can calculate information value (IV) for a feature. This value will help us understand if the variable is useful in our prediction at all. It is calculated by finding the difference in the chance $y=1$ and $y=0$ multiplied by the WoE for each category, then summing all of these values for categories together.\n",
        " \n",
        "$$ IV = \\sum_{cat} \\bigg( \\big( p(\\text{BAD})_{cat} - p(\\text{GOOD})_{cat} \\big) * \\text{WOE}_{cat} \\bigg) $$\n",
        "\n",
        "### Adjusted Weight of Evidence\n",
        "There is also an alternative way to calculate WoE and handle missing WoE, this is called Adjusted Weight of Evidence:\n",
        "\n",
        "$$ ln \\bigg(\\frac{\\text{number of non-events}+0.5}{\\text{number of events}} \\div \\frac{\\text{number of events} + 0.5}{\\text{number of events}} \\bigg) $$\n"
      ]
    },
    {
      "cell_type": "markdown",
      "metadata": {
        "id": "R2mNcGmudTwV"
      },
      "source": [
        "### WOE from scratch\r\n",
        "\r\n",
        "Of course, there are pre-made functions that we can use to calculate WoE. However, as usual, we will first code WoE from scratch so you can verify its inner mechanics. Let's first examine the counts of each of the possible categories of `JOB`."
      ]
    },
    {
      "cell_type": "code",
      "metadata": {
        "colab": {
          "base_uri": "https://localhost:8080/",
          "height": 0
        },
        "id": "1Q7OtE-EXaaz",
        "outputId": "39cf01d7-f28e-4c47-b180-684ffd73cdff"
      },
      "source": [
        "df['JOB'].value_counts().plot(kind='bar');"
      ],
      "execution_count": 33,
      "outputs": [
        {
          "output_type": "display_data",
          "data": {
            "image/png": "[encoded data removed]",
            "text/plain": [
              "<Figure size 432x288 with 1 Axes>"
            ]
          },
          "metadata": {
            "tags": [],
            "needs_background": "light"
          }
        }
      ]
    },
    {
      "cell_type": "markdown",
      "metadata": {
        "id": "TunOZjehF9oK"
      },
      "source": [
        "#### Object Creation\r\n",
        "Instead of creating multiple functions and putting them together as we have done in the past, we are instead going to do something that is much more common in Python. We will create a new class and new methods/attributes. Note that each class starts with `class` then a name. You will then have to use `__init__` by convention to describe the initial arguments for the class. Note that `self` is always the first argument of everything in a class. This means that the originally set arguments will always be referenced after the object's initial creation. We recommend trying to create an object on your own to gain a much better understanding of how classes, methods and attributes work."
      ]
    },
    {
      "cell_type": "code",
      "metadata": {
        "id": "nG5dmS1TcAh4"
      },
      "source": [
        "class IV_Calc:\r\n",
        "    def __init__(self, df, feature, target):\r\n",
        "        self.feature = feature\r\n",
        "        self.target = target\r\n",
        "        self.data_head = df.head()\r\n",
        "\r\n",
        "    def count_values(self):\r\n",
        "        data = pd.DataFrame()\r\n",
        "        data['Count'] = df[self.feature].value_counts()               # Count instances of each category, create row for each\r\n",
        "        data['Bad'] = df.groupby([self.feature])[self.target].sum()   # Count y=1 instances of that category\r\n",
        "        data['Good'] = data['Count'] - data['Bad']                    # Count y=0 instances of that category\r\n",
        "        data = data.sort_values(by=[\"Count\"], ascending=False)\r\n",
        "    \r\n",
        "        try:\r\n",
        "            assert data[\"Bad\"].sum() != 0                               # Check that there are y=1 instances in sample\r\n",
        "            assert data[\"Good\"].sum() != 0                              # Check that there are y=0 instances in sample\r\n",
        "            assert np.isin(df[self.target].unique(), [0, 1]).all()      # Check that target includes only 0,1 or True,False\r\n",
        "        except:\r\n",
        "          print(\"Error: Target must include 2 binary classes.\")\r\n",
        "          raise                                                       # Stop running if one of the above conditions is not satisfied\r\n",
        "    \r\n",
        "        return data\r\n",
        "\r\n",
        "    def distribution(self):\r\n",
        "        data = self.count_values()\r\n",
        "        data['Ratio Bad'] = data['Bad'] / data['Count']\r\n",
        "        data['Ratio Good'] = data['Good'] / data['Count']\r\n",
        "        data[\"Distribution Bad\"] = data[\"Bad\"] / data[\"Bad\"].sum()    # Of all y=0 instances, what percentage are from each category?\r\n",
        "        data[\"Distribution Good\"] = data[\"Good\"] / data[\"Good\"].sum() # Of all y=1 instances, what percentage are from each category?\r\n",
        "        data = data.sort_values(by=[\"Count\"], ascending=False)\r\n",
        "        return data.iloc[:,-2:]\r\n",
        "  \r\n",
        "    def woe(self):\r\n",
        "        data = self.distribution()\r\n",
        "        data['WOE'] = np.log(data[\"Distribution Good\"] / data[\"Distribution Bad\"])\r\n",
        "        data.replace({\"WOE\": {np.inf: 0, -np.inf: 0}})  # If no instances are bad, this will replace values of infinity with 0\r\n",
        "        data = data.sort_values(by=[\"WOE\"], ascending=False)\r\n",
        "        return data.iloc[:,-1]\r\n",
        "  \r\n",
        "    def woe_adj(self):\r\n",
        "        data = self.count_values()\r\n",
        "        data[\"WOE_adj\"] = np.log( \r\n",
        "            ((data[\"Count\"] - data[\"Bad\"] + 0.5) / (data[\"Count\"].sum() - data[\"Bad\"].sum())) / \r\n",
        "            ((data[\"Bad\"] + 0.5) / data[\"Bad\"].sum())\r\n",
        "            )\r\n",
        "        data.replace({\"WOE_adj\": {np.inf: 0, -np.inf: 0}})\r\n",
        "        data = data.sort_values(by=[\"Count\"], ascending=False)\r\n",
        "        return data.iloc[:,-1]\r\n",
        "  \r\n",
        "    def IV_per_cat(self):\r\n",
        "        data = self.distribution()\r\n",
        "        data['WOE'] = self.woe()\r\n",
        "        data[\"IV\"] = data[\"WOE\"]*(data[\"Distribution Good\"] - data[\"Distribution Bad\"])\r\n",
        "        data = data.sort_values(by=[\"IV\"], ascending=False)\r\n",
        "        return data.iloc[:,-1]\r\n",
        "  \r\n",
        "    def full_summary(self):\r\n",
        "        data = self.count_values()\r\n",
        "        data['Ratio Bad'] = data['Bad'] / data['Count']\r\n",
        "        data['Ratio Good'] = data['Good'] / data['Count']\r\n",
        "        data[\"Distribution Bad\"] = data[\"Bad\"] / data[\"Bad\"].sum()\r\n",
        "        data[\"Distribution Good\"] = data[\"Good\"] / data[\"Good\"].sum()\r\n",
        "        data['WOE'] = self.woe()\r\n",
        "        data[\"WOE_adj\"] = self.woe_adj()\r\n",
        "        data[\"IV\"] = self.IV_per_cat()\r\n",
        "        data = data.sort_values(by=[\"Count\"], ascending=False)\r\n",
        "        return data\r\n",
        "\r\n",
        "    def final_assessment(self):\r\n",
        "        data = self.full_summary()\r\n",
        "        iv = data[\"IV\"].sum() # final IV value\r\n",
        "        if iv < .02:\r\n",
        "            print(\"The variable \" + self.feature + \" is not predictive with an IV of: {}\".format(iv))\r\n",
        "        elif iv < .1:\r\n",
        "            print(\"The variable \" + self.feature + \" is weakly predictive with an IV of:{}\".format(iv))\r\n",
        "        elif iv < .3:\r\n",
        "            print(\"The variable \" + self.feature + \" is moderately predictive with an IV of:{}\".format(iv))\r\n",
        "        else :\r\n",
        "            print(\"The variable \" + self.feature + \" is highly predictive with an IV of: {}\".format(iv))\r\n",
        "        return iv"
      ],
      "execution_count": 34,
      "outputs": []
    },
    {
      "cell_type": "code",
      "metadata": {
        "colab": {
          "base_uri": "https://localhost:8080/",
          "height": 0
        },
        "id": "D2CH23FOpVCw",
        "outputId": "1488b122-c274-493a-957d-770de34227df"
      },
      "source": [
        "# Use the functionality of our WoE class for encoding the feature JOB\r\n",
        "train_df = pd.concat([X_train_scaled, y_train], axis=1, join=\"inner\")\r\n",
        "\r\n",
        "woe_job = IV_Calc(train_df, feature=\"JOB\", target=\"BAD\")\r\n",
        "\r\n",
        "woe_job.full_summary()"
      ],
      "execution_count": 35,
      "outputs": [
        {
          "output_type": "execute_result",
          "data": {
            "text/html": [
              "<div>\n",
              "<style scoped>\n",
              "    .dataframe tbody tr th:only-of-type {\n",
              "        vertical-align: middle;\n",
              "    }\n",
              "\n",
              "    .dataframe tbody tr th {\n",
              "        vertical-align: top;\n",
              "    }\n",
              "\n",
              "    .dataframe thead th {\n",
              "        text-align: right;\n",
              "    }\n",
              "</style>\n",
              "<table border=\"1\" class=\"dataframe\">\n",
              "  <thead>\n",
              "    <tr style=\"text-align: right;\">\n",
              "      <th></th>\n",
              "      <th>Count</th>\n",
              "      <th>Bad</th>\n",
              "      <th>Good</th>\n",
              "      <th>Ratio Bad</th>\n",
              "      <th>Ratio Good</th>\n",
              "      <th>Distribution Bad</th>\n",
              "      <th>Distribution Good</th>\n",
              "      <th>WOE</th>\n",
              "      <th>WOE_adj</th>\n",
              "      <th>IV</th>\n",
              "    </tr>\n",
              "  </thead>\n",
              "  <tbody>\n",
              "    <tr>\n",
              "      <th>Other</th>\n",
              "      <td>2667</td>\n",
              "      <td>577</td>\n",
              "      <td>2090</td>\n",
              "      <td>0.216348</td>\n",
              "      <td>0.783652</td>\n",
              "      <td>0.485282</td>\n",
              "      <td>0.438063</td>\n",
              "      <td>-0.102366</td>\n",
              "      <td>-0.102993</td>\n",
              "      <td>0.004834</td>\n",
              "    </tr>\n",
              "    <tr>\n",
              "      <th>ProfExe</th>\n",
              "      <td>1276</td>\n",
              "      <td>212</td>\n",
              "      <td>1064</td>\n",
              "      <td>0.166144</td>\n",
              "      <td>0.833856</td>\n",
              "      <td>0.178301</td>\n",
              "      <td>0.223014</td>\n",
              "      <td>0.223761</td>\n",
              "      <td>0.221875</td>\n",
              "      <td>0.010005</td>\n",
              "    </tr>\n",
              "    <tr>\n",
              "      <th>Office</th>\n",
              "      <td>948</td>\n",
              "      <td>125</td>\n",
              "      <td>823</td>\n",
              "      <td>0.131857</td>\n",
              "      <td>0.868143</td>\n",
              "      <td>0.105130</td>\n",
              "      <td>0.172501</td>\n",
              "      <td>0.495199</td>\n",
              "      <td>0.491814</td>\n",
              "      <td>0.033362</td>\n",
              "    </tr>\n",
              "    <tr>\n",
              "      <th>Mgr</th>\n",
              "      <td>767</td>\n",
              "      <td>179</td>\n",
              "      <td>588</td>\n",
              "      <td>0.233377</td>\n",
              "      <td>0.766623</td>\n",
              "      <td>0.150547</td>\n",
              "      <td>0.123245</td>\n",
              "      <td>-0.200102</td>\n",
              "      <td>-0.202042</td>\n",
              "      <td>0.005463</td>\n",
              "    </tr>\n",
              "    <tr>\n",
              "      <th>Self</th>\n",
              "      <td>193</td>\n",
              "      <td>58</td>\n",
              "      <td>135</td>\n",
              "      <td>0.300518</td>\n",
              "      <td>0.699482</td>\n",
              "      <td>0.048780</td>\n",
              "      <td>0.028296</td>\n",
              "      <td>-0.544612</td>\n",
              "      <td>-0.549498</td>\n",
              "      <td>0.011156</td>\n",
              "    </tr>\n",
              "    <tr>\n",
              "      <th>Sales</th>\n",
              "      <td>109</td>\n",
              "      <td>38</td>\n",
              "      <td>71</td>\n",
              "      <td>0.348624</td>\n",
              "      <td>0.651376</td>\n",
              "      <td>0.031960</td>\n",
              "      <td>0.014882</td>\n",
              "      <td>-0.764350</td>\n",
              "      <td>-0.770404</td>\n",
              "      <td>0.013054</td>\n",
              "    </tr>\n",
              "  </tbody>\n",
              "</table>\n",
              "</div>"
            ],
            "text/plain": [
              "         Count  Bad  Good  ...       WOE   WOE_adj        IV\n",
              "Other     2667  577  2090  ... -0.102366 -0.102993  0.004834\n",
              "ProfExe   1276  212  1064  ...  0.223761  0.221875  0.010005\n",
              "Office     948  125   823  ...  0.495199  0.491814  0.033362\n",
              "Mgr        767  179   588  ... -0.200102 -0.202042  0.005463\n",
              "Self       193   58   135  ... -0.544612 -0.549498  0.011156\n",
              "Sales      109   38    71  ... -0.764350 -0.770404  0.013054\n",
              "\n",
              "[6 rows x 10 columns]"
            ]
          },
          "metadata": {
            "tags": []
          },
          "execution_count": 35
        }
      ]
    },
    {
      "cell_type": "code",
      "metadata": {
        "colab": {
          "base_uri": "https://localhost:8080/"
        },
        "id": "-P1FIfJqJhy3",
        "outputId": "55bf650f-8ade-4ac3-827d-f782d16d330b"
      },
      "source": [
        "iv_job = woe_job.final_assessment()"
      ],
      "execution_count": 36,
      "outputs": [
        {
          "output_type": "stream",
          "text": [
            "The variable JOB is weakly predictive with an IV of:0.07787316133784931\n"
          ],
          "name": "stdout"
        }
      ]
    },
    {
      "cell_type": "markdown",
      "metadata": {
        "id": "7M6M4UzfdTwa"
      },
      "source": [
        "We can now plot the WoE for each category and see how they compare. Keep in mind that this variable is only weakly predictive for our scenario. We can check the WoE for each of the categories as well. At this point we should decide whether it is actually worth it to continue using it in our analysis. If we do, we can replace these categories with their respective WoE values."
      ]
    },
    {
      "cell_type": "code",
      "metadata": {
        "colab": {
          "base_uri": "https://localhost:8080/",
          "height": 0
        },
        "id": "BRBEabG8dTwd",
        "outputId": "85f44bda-cc23-445d-dbc1-c1195b8cc1c5"
      },
      "source": [
        "woe_job.woe().plot(kind=\"bar\", title=\"WoE of Categories of JOB\", ylabel=\"WoE\", xlabel=\"Categories\");"
      ],
      "execution_count": 37,
      "outputs": [
        {
          "output_type": "display_data",
          "data": {
            "image/png": "[encoded data removed]",
            "text/plain": [
              "<Figure size 432x288 with 1 Axes>"
            ]
          },
          "metadata": {
            "tags": [],
            "needs_background": "light"
          }
        }
      ]
    },
    {
      "cell_type": "markdown",
      "metadata": {
        "id": "OeQc6bVhdTwd"
      },
      "source": [
        "### WoE using `scorecardpy`\r\n",
        "\r\n",
        "If you would like a quick implementation of the above, you can check out the package `scorecardpy`. You can view the documentation [here](https://pypi.org/project/scorecardpy/). If you enter a continuous variable as an argument, the function will automatically try to create bins that maximize the variable's usefulness as a WoE variable."
      ]
    },
    {
      "cell_type": "code",
      "metadata": {
        "colab": {
          "base_uri": "https://localhost:8080/"
        },
        "id": "zn1g6G-oHOJ4",
        "outputId": "201266e7-7a38-414d-a6b1-4f42df885f57"
      },
      "source": [
        "!pip install scorecardpy\r\n",
        "import scorecardpy as sc"
      ],
      "execution_count": 38,
      "outputs": [
        {
          "output_type": "stream",
          "text": [
            "Collecting scorecardpy\n",
            "\u001b[?25l  Downloading https://files.pythonhosted.org/packages/3e/18/8e3f675b9baaf027e84cb84f9bc3bb57381ab3d0b5241e089653d5d92784/scorecardpy-0.1.9.2.tar.gz (55kB)\n",
            "\r\u001b[K     |██████                          | 10kB 13.6MB/s eta 0:00:01\r\u001b[K     |███████████▉                    | 20kB 12.8MB/s eta 0:00:01\r\u001b[K     |█████████████████▊              | 30kB 5.7MB/s eta 0:00:01\r\u001b[K     |███████████████████████▋        | 40kB 7.1MB/s eta 0:00:01\r\u001b[K     |█████████████████████████████▌  | 51kB 7.5MB/s eta 0:00:01\r\u001b[K     |████████████████████████████████| 61kB 4.3MB/s \n",
            "\u001b[?25hRequirement already satisfied: numpy in /usr/local/lib/python3.6/dist-packages (from scorecardpy) (1.19.5)\n",
            "Requirement already satisfied: pandas>=0.25.0 in /usr/local/lib/python3.6/dist-packages (from scorecardpy) (1.1.5)\n",
            "Requirement already satisfied: matplotlib in /usr/local/lib/python3.6/dist-packages (from scorecardpy) (3.2.2)\n",
            "Requirement already satisfied: scikit-learn>=0.19.1 in /usr/local/lib/python3.6/dist-packages (from scorecardpy) (0.22.2.post1)\n",
            "Requirement already satisfied: python-dateutil>=2.7.3 in /usr/local/lib/python3.6/dist-packages (from pandas>=0.25.0->scorecardpy) (2.8.1)\n",
            "Requirement already satisfied: pytz>=2017.2 in /usr/local/lib/python3.6/dist-packages (from pandas>=0.25.0->scorecardpy) (2018.9)\n",
            "Requirement already satisfied: pyparsing!=2.0.4,!=2.1.2,!=2.1.6,>=2.0.1 in /usr/local/lib/python3.6/dist-packages (from matplotlib->scorecardpy) (2.4.7)\n",
            "Requirement already satisfied: cycler>=0.10 in /usr/local/lib/python3.6/dist-packages (from matplotlib->scorecardpy) (0.10.0)\n",
            "Requirement already satisfied: kiwisolver>=1.0.1 in /usr/local/lib/python3.6/dist-packages (from matplotlib->scorecardpy) (1.3.1)\n",
            "Requirement already satisfied: joblib>=0.11 in /usr/local/lib/python3.6/dist-packages (from scikit-learn>=0.19.1->scorecardpy) (1.0.0)\n",
            "Requirement already satisfied: scipy>=0.17.0 in /usr/local/lib/python3.6/dist-packages (from scikit-learn>=0.19.1->scorecardpy) (1.4.1)\n",
            "Requirement already satisfied: six>=1.5 in /usr/local/lib/python3.6/dist-packages (from python-dateutil>=2.7.3->pandas>=0.25.0->scorecardpy) (1.15.0)\n",
            "Building wheels for collected packages: scorecardpy\n",
            "  Building wheel for scorecardpy (setup.py) ... \u001b[?25l\u001b[?25hdone\n",
            "  Created wheel for scorecardpy: filename=scorecardpy-0.1.9.2-cp36-none-any.whl size=57827 sha256=85d50e8b68dc3eec8295c56cae28a60cbe8e7a1895777f48cc84041837fd9812\n",
            "  Stored in directory: /root/.cache/pip/wheels/1d/66/14/23aeb4e1128278f5880580e2fdd10e956de112a5d56a3a043e\n",
            "Successfully built scorecardpy\n",
            "Installing collected packages: scorecardpy\n",
            "Successfully installed scorecardpy-0.1.9.2\n"
          ],
          "name": "stdout"
        }
      ]
    },
    {
      "cell_type": "markdown",
      "metadata": {
        "id": "j4R01pp7udFr"
      },
      "source": [
        "Let's verify the functionality of the package by WoE coding a numerical variable. We pick `CLAGE` but you could use any."
      ]
    },
    {
      "cell_type": "code",
      "metadata": {
        "colab": {
          "base_uri": "https://localhost:8080/",
          "height": 0
        },
        "id": "Wm88yDyWWlmX",
        "outputId": "0cfbefa8-5059-435e-aafe-14ce686e5f8d"
      },
      "source": [
        "bins = sc.woebin(train_df, y=\"BAD\", x='CLAGE')\r\n",
        "\r\n",
        "sc.woebin_plot(bins)"
      ],
      "execution_count": 39,
      "outputs": [
        {
          "output_type": "stream",
          "text": [
            "[INFO] creating woe binning ...\n"
          ],
          "name": "stdout"
        },
        {
          "output_type": "execute_result",
          "data": {
            "text/plain": [
              "{'CLAGE': <Figure size 432x288 with 2 Axes>}"
            ]
          },
          "metadata": {
            "tags": []
          },
          "execution_count": 39
        },
        {
          "output_type": "display_data",
          "data": {
            "image/png": "[encoded data removed]",
            "text/plain": [
              "<Figure size 432x288 with 2 Axes>"
            ]
          },
          "metadata": {
            "tags": [],
            "needs_background": "light"
          }
        }
      ]
    },
    {
      "cell_type": "markdown",
      "metadata": {
        "id": "T-YYu0eluomC"
      },
      "source": [
        "Say you want to replace the numerical variable with its WoE representation. Here's a code snippet to do this."
      ]
    },
    {
      "cell_type": "code",
      "metadata": {
        "colab": {
          "base_uri": "https://localhost:8080/",
          "height": 0
        },
        "id": "d_afJrh-ZWu5",
        "outputId": "80f8ec9b-eaf6-40c4-c969-4015de57084a"
      },
      "source": [
        "sc.woebin_ply(train_df, bins) # if you would like to replace the variable with its WoE, you can do so using the woebin_ply function"
      ],
      "execution_count": 40,
      "outputs": [
        {
          "output_type": "stream",
          "text": [
            "[INFO] converting into woe values ...\n"
          ],
          "name": "stdout"
        },
        {
          "output_type": "execute_result",
          "data": {
            "text/html": [
              "<div>\n",
              "<style scoped>\n",
              "    .dataframe tbody tr th:only-of-type {\n",
              "        vertical-align: middle;\n",
              "    }\n",
              "\n",
              "    .dataframe tbody tr th {\n",
              "        vertical-align: top;\n",
              "    }\n",
              "\n",
              "    .dataframe thead th {\n",
              "        text-align: right;\n",
              "    }\n",
              "</style>\n",
              "<table border=\"1\" class=\"dataframe\">\n",
              "  <thead>\n",
              "    <tr style=\"text-align: right;\">\n",
              "      <th></th>\n",
              "      <th>CLNO</th>\n",
              "      <th>DEROG</th>\n",
              "      <th>NINQ</th>\n",
              "      <th>DEBTINC</th>\n",
              "      <th>VALUE</th>\n",
              "      <th>DELINQ</th>\n",
              "      <th>MORTDUE</th>\n",
              "      <th>REASON</th>\n",
              "      <th>LOAN</th>\n",
              "      <th>DEROGzero</th>\n",
              "      <th>BAD</th>\n",
              "      <th>JOB</th>\n",
              "      <th>YOJ</th>\n",
              "      <th>CLAGE_woe</th>\n",
              "    </tr>\n",
              "  </thead>\n",
              "  <tbody>\n",
              "    <tr>\n",
              "      <th>0</th>\n",
              "      <td>-1.238622</td>\n",
              "      <td>-0.274137</td>\n",
              "      <td>-0.090585</td>\n",
              "      <td>0.134477</td>\n",
              "      <td>-1.221219</td>\n",
              "      <td>-0.372598</td>\n",
              "      <td>-1.183333</td>\n",
              "      <td>HomeImp</td>\n",
              "      <td>-1.666068</td>\n",
              "      <td>True</td>\n",
              "      <td>True</td>\n",
              "      <td>Other</td>\n",
              "      <td>0.235953</td>\n",
              "      <td>0.582124</td>\n",
              "    </tr>\n",
              "    <tr>\n",
              "      <th>1</th>\n",
              "      <td>-0.730154</td>\n",
              "      <td>-0.274137</td>\n",
              "      <td>-0.754040</td>\n",
              "      <td>0.134477</td>\n",
              "      <td>-0.634123</td>\n",
              "      <td>1.449502</td>\n",
              "      <td>-0.053685</td>\n",
              "      <td>HomeImp</td>\n",
              "      <td>-1.646745</td>\n",
              "      <td>True</td>\n",
              "      <td>True</td>\n",
              "      <td>Other</td>\n",
              "      <td>-0.240839</td>\n",
              "      <td>0.195551</td>\n",
              "    </tr>\n",
              "    <tr>\n",
              "      <th>2</th>\n",
              "      <td>-1.136929</td>\n",
              "      <td>-0.274137</td>\n",
              "      <td>-0.090585</td>\n",
              "      <td>0.134477</td>\n",
              "      <td>-1.667411</td>\n",
              "      <td>-0.372598</td>\n",
              "      <td>-1.499275</td>\n",
              "      <td>HomeImp</td>\n",
              "      <td>-1.627422</td>\n",
              "      <td>True</td>\n",
              "      <td>True</td>\n",
              "      <td>Other</td>\n",
              "      <td>-0.649517</td>\n",
              "      <td>0.195551</td>\n",
              "    </tr>\n",
              "    <tr>\n",
              "      <th>3</th>\n",
              "      <td>-0.119993</td>\n",
              "      <td>-0.274137</td>\n",
              "      <td>-0.090585</td>\n",
              "      <td>0.134477</td>\n",
              "      <td>-0.217700</td>\n",
              "      <td>-0.372598</td>\n",
              "      <td>-0.182363</td>\n",
              "      <td>IsMissing</td>\n",
              "      <td>-1.627422</td>\n",
              "      <td>True</td>\n",
              "      <td>True</td>\n",
              "      <td>Other</td>\n",
              "      <td>-0.240839</td>\n",
              "      <td>0.195551</td>\n",
              "    </tr>\n",
              "    <tr>\n",
              "      <th>4</th>\n",
              "      <td>-0.730154</td>\n",
              "      <td>-0.274137</td>\n",
              "      <td>-0.754040</td>\n",
              "      <td>0.134477</td>\n",
              "      <td>0.237276</td>\n",
              "      <td>-0.372598</td>\n",
              "      <td>0.655575</td>\n",
              "      <td>HomeImp</td>\n",
              "      <td>-1.608099</td>\n",
              "      <td>True</td>\n",
              "      <td>False</td>\n",
              "      <td>Office</td>\n",
              "      <td>-0.785743</td>\n",
              "      <td>0.582124</td>\n",
              "    </tr>\n",
              "    <tr>\n",
              "      <th>...</th>\n",
              "      <td>...</td>\n",
              "      <td>...</td>\n",
              "      <td>...</td>\n",
              "      <td>...</td>\n",
              "      <td>...</td>\n",
              "      <td>...</td>\n",
              "      <td>...</td>\n",
              "      <td>...</td>\n",
              "      <td>...</td>\n",
              "      <td>...</td>\n",
              "      <td>...</td>\n",
              "      <td>...</td>\n",
              "      <td>...</td>\n",
              "      <td>...</td>\n",
              "    </tr>\n",
              "    <tr>\n",
              "      <th>5954</th>\n",
              "      <td>-0.628461</td>\n",
              "      <td>-0.274137</td>\n",
              "      <td>-0.754040</td>\n",
              "      <td>0.134477</td>\n",
              "      <td>-0.135047</td>\n",
              "      <td>0.538452</td>\n",
              "      <td>-0.593906</td>\n",
              "      <td>DebtCon</td>\n",
              "      <td>4.014832</td>\n",
              "      <td>True</td>\n",
              "      <td>False</td>\n",
              "      <td>Other</td>\n",
              "      <td>0.848971</td>\n",
              "      <td>-0.351214</td>\n",
              "    </tr>\n",
              "    <tr>\n",
              "      <th>5955</th>\n",
              "      <td>-0.526767</td>\n",
              "      <td>-0.274137</td>\n",
              "      <td>-0.754040</td>\n",
              "      <td>0.331714</td>\n",
              "      <td>-0.198723</td>\n",
              "      <td>-0.372598</td>\n",
              "      <td>-0.380594</td>\n",
              "      <td>DebtCon</td>\n",
              "      <td>4.014832</td>\n",
              "      <td>True</td>\n",
              "      <td>False</td>\n",
              "      <td>Other</td>\n",
              "      <td>0.985197</td>\n",
              "      <td>-0.351214</td>\n",
              "    </tr>\n",
              "    <tr>\n",
              "      <th>5956</th>\n",
              "      <td>-0.628461</td>\n",
              "      <td>-0.274137</td>\n",
              "      <td>-0.754040</td>\n",
              "      <td>0.293248</td>\n",
              "      <td>-0.143721</td>\n",
              "      <td>-0.372598</td>\n",
              "      <td>-0.449303</td>\n",
              "      <td>DebtCon</td>\n",
              "      <td>4.014832</td>\n",
              "      <td>True</td>\n",
              "      <td>False</td>\n",
              "      <td>Other</td>\n",
              "      <td>0.985197</td>\n",
              "      <td>-0.351214</td>\n",
              "    </tr>\n",
              "    <tr>\n",
              "      <th>5958</th>\n",
              "      <td>-0.526767</td>\n",
              "      <td>-0.274137</td>\n",
              "      <td>-0.754040</td>\n",
              "      <td>0.061717</td>\n",
              "      <td>-0.165226</td>\n",
              "      <td>-0.372598</td>\n",
              "      <td>-0.556816</td>\n",
              "      <td>DebtCon</td>\n",
              "      <td>4.014832</td>\n",
              "      <td>True</td>\n",
              "      <td>False</td>\n",
              "      <td>Other</td>\n",
              "      <td>0.712745</td>\n",
              "      <td>-0.351214</td>\n",
              "    </tr>\n",
              "    <tr>\n",
              "      <th>5959</th>\n",
              "      <td>-0.526767</td>\n",
              "      <td>-0.274137</td>\n",
              "      <td>-0.754040</td>\n",
              "      <td>0.096870</td>\n",
              "      <td>-0.223726</td>\n",
              "      <td>-0.372598</td>\n",
              "      <td>-0.596667</td>\n",
              "      <td>DebtCon</td>\n",
              "      <td>4.014832</td>\n",
              "      <td>True</td>\n",
              "      <td>False</td>\n",
              "      <td>Other</td>\n",
              "      <td>0.848971</td>\n",
              "      <td>-0.351214</td>\n",
              "    </tr>\n",
              "  </tbody>\n",
              "</table>\n",
              "<p>4768 rows × 14 columns</p>\n",
              "</div>"
            ],
            "text/plain": [
              "          CLNO     DEROG      NINQ  ...     JOB       YOJ  CLAGE_woe\n",
              "0    -1.238622 -0.274137 -0.090585  ...   Other  0.235953   0.582124\n",
              "1    -0.730154 -0.274137 -0.754040  ...   Other -0.240839   0.195551\n",
              "2    -1.136929 -0.274137 -0.090585  ...   Other -0.649517   0.195551\n",
              "3    -0.119993 -0.274137 -0.090585  ...   Other -0.240839   0.195551\n",
              "4    -0.730154 -0.274137 -0.754040  ...  Office -0.785743   0.582124\n",
              "...        ...       ...       ...  ...     ...       ...        ...\n",
              "5954 -0.628461 -0.274137 -0.754040  ...   Other  0.848971  -0.351214\n",
              "5955 -0.526767 -0.274137 -0.754040  ...   Other  0.985197  -0.351214\n",
              "5956 -0.628461 -0.274137 -0.754040  ...   Other  0.985197  -0.351214\n",
              "5958 -0.526767 -0.274137 -0.754040  ...   Other  0.712745  -0.351214\n",
              "5959 -0.526767 -0.274137 -0.754040  ...   Other  0.848971  -0.351214\n",
              "\n",
              "[4768 rows x 14 columns]"
            ]
          },
          "metadata": {
            "tags": []
          },
          "execution_count": 40
        }
      ]
    },
    {
      "cell_type": "markdown",
      "metadata": {
        "id": "UYnR6AxwUh-f"
      },
      "source": [
        "### Checking model performance: WoE vs. Dummies\r\n",
        "\r\n",
        "Let's now try to perform a logistic regression using a one-hot encoded version of the dataframe and a version using WoE. first let's start with one-hot encoding and see how the model performs."
      ]
    },
    {
      "cell_type": "code",
      "metadata": {
        "colab": {
          "base_uri": "https://localhost:8080/",
          "height": 0
        },
        "id": "z_RxPDU9cf_g",
        "outputId": "a670e5c1-2557-4aec-ef63-070338bd221b"
      },
      "source": [
        "train_len = len(X_train)\r\n",
        "\r\n",
        "X_full = pd.concat(objs=[X_train_scaled, X_test_scaled], axis=0)\r\n",
        "X_full = pd.get_dummies(X_full, columns = ['REASON', 'JOB'], drop_first=True)\r\n",
        "\r\n",
        "X_train_dummies = X_full[:train_len]\r\n",
        "X_test_dummies = X_full[train_len:]\r\n",
        "\r\n",
        "X_train_dummies.head()"
      ],
      "execution_count": 41,
      "outputs": [
        {
          "output_type": "execute_result",
          "data": {
            "text/html": [
              "<div>\n",
              "<style scoped>\n",
              "    .dataframe tbody tr th:only-of-type {\n",
              "        vertical-align: middle;\n",
              "    }\n",
              "\n",
              "    .dataframe tbody tr th {\n",
              "        vertical-align: top;\n",
              "    }\n",
              "\n",
              "    .dataframe thead th {\n",
              "        text-align: right;\n",
              "    }\n",
              "</style>\n",
              "<table border=\"1\" class=\"dataframe\">\n",
              "  <thead>\n",
              "    <tr style=\"text-align: right;\">\n",
              "      <th></th>\n",
              "      <th>LOAN</th>\n",
              "      <th>MORTDUE</th>\n",
              "      <th>VALUE</th>\n",
              "      <th>YOJ</th>\n",
              "      <th>DEROG</th>\n",
              "      <th>DELINQ</th>\n",
              "      <th>CLAGE</th>\n",
              "      <th>NINQ</th>\n",
              "      <th>CLNO</th>\n",
              "      <th>DEBTINC</th>\n",
              "      <th>DEROGzero</th>\n",
              "      <th>REASON_HomeImp</th>\n",
              "      <th>REASON_IsMissing</th>\n",
              "      <th>JOB_Office</th>\n",
              "      <th>JOB_Other</th>\n",
              "      <th>JOB_ProfExe</th>\n",
              "      <th>JOB_Sales</th>\n",
              "      <th>JOB_Self</th>\n",
              "    </tr>\n",
              "  </thead>\n",
              "  <tbody>\n",
              "    <tr>\n",
              "      <th>3442</th>\n",
              "      <td>-0.013969</td>\n",
              "      <td>-0.575144</td>\n",
              "      <td>1.178148</td>\n",
              "      <td>1.530102</td>\n",
              "      <td>-0.274137</td>\n",
              "      <td>-0.372598</td>\n",
              "      <td>0.643503</td>\n",
              "      <td>-0.754040</td>\n",
              "      <td>0.591862</td>\n",
              "      <td>-2.060643</td>\n",
              "      <td>True</td>\n",
              "      <td>0</td>\n",
              "      <td>0</td>\n",
              "      <td>0</td>\n",
              "      <td>0</td>\n",
              "      <td>1</td>\n",
              "      <td>0</td>\n",
              "      <td>0</td>\n",
              "    </tr>\n",
              "    <tr>\n",
              "      <th>5591</th>\n",
              "      <td>1.783050</td>\n",
              "      <td>1.373704</td>\n",
              "      <td>1.440128</td>\n",
              "      <td>0.304066</td>\n",
              "      <td>-0.274137</td>\n",
              "      <td>0.538452</td>\n",
              "      <td>0.434169</td>\n",
              "      <td>-0.090585</td>\n",
              "      <td>1.202023</td>\n",
              "      <td>1.510668</td>\n",
              "      <td>True</td>\n",
              "      <td>0</td>\n",
              "      <td>0</td>\n",
              "      <td>1</td>\n",
              "      <td>0</td>\n",
              "      <td>0</td>\n",
              "      <td>0</td>\n",
              "      <td>0</td>\n",
              "    </tr>\n",
              "    <tr>\n",
              "      <th>3037</th>\n",
              "      <td>-0.178213</td>\n",
              "      <td>-1.619543</td>\n",
              "      <td>1.276560</td>\n",
              "      <td>1.938780</td>\n",
              "      <td>-0.274137</td>\n",
              "      <td>-0.372598</td>\n",
              "      <td>-1.291740</td>\n",
              "      <td>0.572870</td>\n",
              "      <td>-0.018300</td>\n",
              "      <td>0.134477</td>\n",
              "      <td>True</td>\n",
              "      <td>1</td>\n",
              "      <td>0</td>\n",
              "      <td>0</td>\n",
              "      <td>0</td>\n",
              "      <td>0</td>\n",
              "      <td>0</td>\n",
              "      <td>0</td>\n",
              "    </tr>\n",
              "    <tr>\n",
              "      <th>2099</th>\n",
              "      <td>-0.497039</td>\n",
              "      <td>0.242856</td>\n",
              "      <td>0.283904</td>\n",
              "      <td>-0.513291</td>\n",
              "      <td>-0.274137</td>\n",
              "      <td>-0.372598</td>\n",
              "      <td>-1.019204</td>\n",
              "      <td>-0.090585</td>\n",
              "      <td>-0.831848</td>\n",
              "      <td>-0.029353</td>\n",
              "      <td>True</td>\n",
              "      <td>0</td>\n",
              "      <td>0</td>\n",
              "      <td>0</td>\n",
              "      <td>1</td>\n",
              "      <td>0</td>\n",
              "      <td>0</td>\n",
              "      <td>0</td>\n",
              "    </tr>\n",
              "    <tr>\n",
              "      <th>3838</th>\n",
              "      <td>0.169597</td>\n",
              "      <td>-1.416072</td>\n",
              "      <td>-1.413346</td>\n",
              "      <td>-0.785743</td>\n",
              "      <td>1.004812</td>\n",
              "      <td>-0.372598</td>\n",
              "      <td>-1.466199</td>\n",
              "      <td>0.572870</td>\n",
              "      <td>-0.018300</td>\n",
              "      <td>3.687849</td>\n",
              "      <td>False</td>\n",
              "      <td>1</td>\n",
              "      <td>0</td>\n",
              "      <td>0</td>\n",
              "      <td>1</td>\n",
              "      <td>0</td>\n",
              "      <td>0</td>\n",
              "      <td>0</td>\n",
              "    </tr>\n",
              "  </tbody>\n",
              "</table>\n",
              "</div>"
            ],
            "text/plain": [
              "          LOAN   MORTDUE     VALUE  ...  JOB_ProfExe  JOB_Sales  JOB_Self\n",
              "3442 -0.013969 -0.575144  1.178148  ...            1          0         0\n",
              "5591  1.783050  1.373704  1.440128  ...            0          0         0\n",
              "3037 -0.178213 -1.619543  1.276560  ...            0          0         0\n",
              "2099 -0.497039  0.242856  0.283904  ...            0          0         0\n",
              "3838  0.169597 -1.416072 -1.413346  ...            0          0         0\n",
              "\n",
              "[5 rows x 18 columns]"
            ]
          },
          "metadata": {
            "tags": []
          },
          "execution_count": 41
        }
      ]
    },
    {
      "cell_type": "code",
      "metadata": {
        "colab": {
          "base_uri": "https://localhost:8080/"
        },
        "id": "jgdl6cU1vXeA",
        "outputId": "9ab68c44-33f8-4eac-fcd9-36bc48a671c6"
      },
      "source": [
        "print('The data set has {} features'.format(X_train_dummies.shape[1]))"
      ],
      "execution_count": 42,
      "outputs": [
        {
          "output_type": "stream",
          "text": [
            "The data set has 18 features\n"
          ],
          "name": "stdout"
        }
      ]
    },
    {
      "cell_type": "code",
      "metadata": {
        "colab": {
          "base_uri": "https://localhost:8080/"
        },
        "id": "xaY43CY7dRNv",
        "outputId": "2144147f-9ff1-42e3-d5c9-cdd528448beb"
      },
      "source": [
        "import statsmodels.api as sm \r\n",
        "X_train_dummies = sm.add_constant(X_train_dummies)\r\n",
        "\r\n",
        "log_reg_dummies = sm.Logit(y_train.values.reshape(-1,1), X_train_dummies.astype(float)).fit() \r\n",
        "print(log_reg_dummies.summary())"
      ],
      "execution_count": 43,
      "outputs": [
        {
          "output_type": "stream",
          "text": [
            "Optimization terminated successfully.\n",
            "         Current function value: 0.381238\n",
            "         Iterations 7\n",
            "                           Logit Regression Results                           \n",
            "==============================================================================\n",
            "Dep. Variable:                      y   No. Observations:                 4768\n",
            "Model:                          Logit   Df Residuals:                     4749\n",
            "Method:                           MLE   Df Model:                           18\n",
            "Date:                Fri, 15 Jan 2021   Pseudo R-squ.:                  0.2352\n",
            "Time:                        15:04:35   Log-Likelihood:                -1817.7\n",
            "converged:                       True   LL-Null:                       -2376.7\n",
            "Covariance Type:            nonrobust   LLR p-value:                4.084e-226\n",
            "====================================================================================\n",
            "                       coef    std err          z      P>|z|      [0.025      0.975]\n",
            "------------------------------------------------------------------------------------\n",
            "const               -1.4825      0.195     -7.605      0.000      -1.865      -1.100\n",
            "LOAN                -0.2356      0.050     -4.710      0.000      -0.334      -0.138\n",
            "MORTDUE             -0.0324      0.080     -0.405      0.686      -0.189       0.125\n",
            "VALUE                0.0370      0.083      0.443      0.658      -0.127       0.201\n",
            "YOJ                 -0.0192      0.047     -0.406      0.685      -0.112       0.073\n",
            "DEROG                0.3497      0.067      5.253      0.000       0.219       0.480\n",
            "DELINQ               0.8430      0.048     17.713      0.000       0.750       0.936\n",
            "CLAGE               -0.4715      0.051     -9.285      0.000      -0.571      -0.372\n",
            "NINQ                 0.2736      0.038      7.115      0.000       0.198       0.349\n",
            "CLNO                -0.1755      0.049     -3.607      0.000      -0.271      -0.080\n",
            "DEBTINC              0.5228      0.051     10.298      0.000       0.423       0.622\n",
            "DEROGzero           -0.4196      0.182     -2.306      0.021      -0.776      -0.063\n",
            "REASON_HomeImp       0.2755      0.096      2.857      0.004       0.087       0.464\n",
            "REASON_IsMissing     0.2342      0.231      1.014      0.310      -0.218       0.687\n",
            "JOB_Office          -0.5666      0.171     -3.311      0.001      -0.902      -0.231\n",
            "JOB_Other            0.1013      0.132      0.768      0.443      -0.157       0.360\n",
            "JOB_ProfExe          0.0610      0.154      0.397      0.691      -0.240       0.362\n",
            "JOB_Sales            0.9750      0.300      3.247      0.001       0.387       1.564\n",
            "JOB_Self             0.7645      0.244      3.135      0.002       0.287       1.242\n",
            "====================================================================================\n"
          ],
          "name": "stdout"
        }
      ]
    },
    {
      "cell_type": "code",
      "metadata": {
        "colab": {
          "base_uri": "https://localhost:8080/"
        },
        "id": "GVrVIvbjfPwv",
        "outputId": "743ee461-bb0b-4296-8c9d-b72cc2292f46"
      },
      "source": [
        "from sklearn.metrics import roc_auc_score\r\n",
        "X_test_dummies = sm.add_constant(X_test_dummies)\r\n",
        "\r\n",
        "y_pred = log_reg_dummies.predict(X_test_dummies.astype(float))\r\n",
        "roc_auc_score(y_test, y_pred)"
      ],
      "execution_count": 44,
      "outputs": [
        {
          "output_type": "execute_result",
          "data": {
            "text/plain": [
              "0.8029317094388864"
            ]
          },
          "metadata": {
            "tags": []
          },
          "execution_count": 44
        }
      ]
    },
    {
      "cell_type": "markdown",
      "metadata": {
        "id": "arBp8Zt1joVL"
      },
      "source": [
        "That did pretty well! Let's try to use WoE binning and see what kind of performance we get."
      ]
    },
    {
      "cell_type": "code",
      "metadata": {
        "colab": {
          "base_uri": "https://localhost:8080/"
        },
        "id": "h3chy_-5co4E",
        "outputId": "a3f01cd9-ad55-4f7f-bb76-0fe230d807ac"
      },
      "source": [
        "# Create bins for our two categorical variables\r\n",
        "\r\n",
        "bins_regression = sc.woebin(train_df, y=\"BAD\", x=['JOB', 'REASON'])"
      ],
      "execution_count": 45,
      "outputs": [
        {
          "output_type": "stream",
          "text": [
            "[INFO] creating woe binning ...\n"
          ],
          "name": "stdout"
        }
      ]
    },
    {
      "cell_type": "code",
      "metadata": {
        "colab": {
          "base_uri": "https://localhost:8080/",
          "height": 0
        },
        "id": "Q-TPxHO3c9XW",
        "outputId": "8ceb176a-6074-4a95-d426-56a04f5b5b4a"
      },
      "source": [
        "X_train_woe = sc.woebin_ply(X_train_scaled, bins_regression)\r\n",
        "\r\n",
        "X_test_woe = sc.woebin_ply(X_test_scaled, bins_regression)\r\n",
        "\r\n",
        "X_train_woe.head()"
      ],
      "execution_count": 46,
      "outputs": [
        {
          "output_type": "stream",
          "text": [
            "[INFO] converting into woe values ...\n",
            "[INFO] converting into woe values ...\n"
          ],
          "name": "stdout"
        },
        {
          "output_type": "execute_result",
          "data": {
            "text/html": [
              "<div>\n",
              "<style scoped>\n",
              "    .dataframe tbody tr th:only-of-type {\n",
              "        vertical-align: middle;\n",
              "    }\n",
              "\n",
              "    .dataframe tbody tr th {\n",
              "        vertical-align: top;\n",
              "    }\n",
              "\n",
              "    .dataframe thead th {\n",
              "        text-align: right;\n",
              "    }\n",
              "</style>\n",
              "<table border=\"1\" class=\"dataframe\">\n",
              "  <thead>\n",
              "    <tr style=\"text-align: right;\">\n",
              "      <th></th>\n",
              "      <th>CLNO</th>\n",
              "      <th>DEROG</th>\n",
              "      <th>NINQ</th>\n",
              "      <th>DEBTINC</th>\n",
              "      <th>CLAGE</th>\n",
              "      <th>VALUE</th>\n",
              "      <th>DELINQ</th>\n",
              "      <th>MORTDUE</th>\n",
              "      <th>LOAN</th>\n",
              "      <th>DEROGzero</th>\n",
              "      <th>YOJ</th>\n",
              "      <th>REASON_woe</th>\n",
              "      <th>JOB_woe</th>\n",
              "    </tr>\n",
              "  </thead>\n",
              "  <tbody>\n",
              "    <tr>\n",
              "      <th>0</th>\n",
              "      <td>-1.238622</td>\n",
              "      <td>-0.274137</td>\n",
              "      <td>-0.090585</td>\n",
              "      <td>0.134477</td>\n",
              "      <td>-1.063966</td>\n",
              "      <td>-1.221219</td>\n",
              "      <td>-0.372598</td>\n",
              "      <td>-1.183333</td>\n",
              "      <td>-1.666068</td>\n",
              "      <td>True</td>\n",
              "      <td>0.235953</td>\n",
              "      <td>0.156274</td>\n",
              "      <td>0.126725</td>\n",
              "    </tr>\n",
              "    <tr>\n",
              "      <th>1</th>\n",
              "      <td>-0.730154</td>\n",
              "      <td>-0.274137</td>\n",
              "      <td>-0.754040</td>\n",
              "      <td>0.134477</td>\n",
              "      <td>-0.722098</td>\n",
              "      <td>-0.634123</td>\n",
              "      <td>1.449502</td>\n",
              "      <td>-0.053685</td>\n",
              "      <td>-1.646745</td>\n",
              "      <td>True</td>\n",
              "      <td>-0.240839</td>\n",
              "      <td>0.156274</td>\n",
              "      <td>0.126725</td>\n",
              "    </tr>\n",
              "    <tr>\n",
              "      <th>2</th>\n",
              "      <td>-1.136929</td>\n",
              "      <td>-0.274137</td>\n",
              "      <td>-0.090585</td>\n",
              "      <td>0.134477</td>\n",
              "      <td>-0.378156</td>\n",
              "      <td>-1.667411</td>\n",
              "      <td>-0.372598</td>\n",
              "      <td>-1.499275</td>\n",
              "      <td>-1.627422</td>\n",
              "      <td>True</td>\n",
              "      <td>-0.649517</td>\n",
              "      <td>0.156274</td>\n",
              "      <td>0.126725</td>\n",
              "    </tr>\n",
              "    <tr>\n",
              "      <th>3</th>\n",
              "      <td>-0.119993</td>\n",
              "      <td>-0.274137</td>\n",
              "      <td>-0.090585</td>\n",
              "      <td>0.134477</td>\n",
              "      <td>-0.079436</td>\n",
              "      <td>-0.217700</td>\n",
              "      <td>-0.372598</td>\n",
              "      <td>-0.182363</td>\n",
              "      <td>-1.627422</td>\n",
              "      <td>True</td>\n",
              "      <td>-0.240839</td>\n",
              "      <td>-0.070269</td>\n",
              "      <td>0.126725</td>\n",
              "    </tr>\n",
              "    <tr>\n",
              "      <th>4</th>\n",
              "      <td>-0.730154</td>\n",
              "      <td>-0.274137</td>\n",
              "      <td>-0.754040</td>\n",
              "      <td>0.134477</td>\n",
              "      <td>-1.076828</td>\n",
              "      <td>0.237276</td>\n",
              "      <td>-0.372598</td>\n",
              "      <td>0.655575</td>\n",
              "      <td>-1.608099</td>\n",
              "      <td>True</td>\n",
              "      <td>-0.785743</td>\n",
              "      <td>0.156274</td>\n",
              "      <td>-0.517190</td>\n",
              "    </tr>\n",
              "  </tbody>\n",
              "</table>\n",
              "</div>"
            ],
            "text/plain": [
              "       CLNO     DEROG      NINQ  ...       YOJ  REASON_woe   JOB_woe\n",
              "0 -1.238622 -0.274137 -0.090585  ...  0.235953    0.156274  0.126725\n",
              "1 -0.730154 -0.274137 -0.754040  ... -0.240839    0.156274  0.126725\n",
              "2 -1.136929 -0.274137 -0.090585  ... -0.649517    0.156274  0.126725\n",
              "3 -0.119993 -0.274137 -0.090585  ... -0.240839   -0.070269  0.126725\n",
              "4 -0.730154 -0.274137 -0.754040  ... -0.785743    0.156274 -0.517190\n",
              "\n",
              "[5 rows x 13 columns]"
            ]
          },
          "metadata": {
            "tags": []
          },
          "execution_count": 46
        }
      ]
    },
    {
      "cell_type": "code",
      "metadata": {
        "colab": {
          "base_uri": "https://localhost:8080/"
        },
        "id": "3aRcNeTsxwau",
        "outputId": "0fe429b0-ec44-477f-e708-54e5de7dbba6"
      },
      "source": [
        "# Illustrate how WoE coding avoids an increase of dimensionality\r\n",
        "print('The data set has {} features'.format(X_train_woe.shape[1]))"
      ],
      "execution_count": 47,
      "outputs": [
        {
          "output_type": "stream",
          "text": [
            "The data set has 13 features\n"
          ],
          "name": "stdout"
        }
      ]
    },
    {
      "cell_type": "code",
      "metadata": {
        "colab": {
          "base_uri": "https://localhost:8080/"
        },
        "id": "k3KbMzCWdq3n",
        "outputId": "0e2ad036-016d-47f8-abea-7dde3da689f3"
      },
      "source": [
        "log_reg_woe = sm.Logit(y_train.sort_index(), X_train_woe.astype(float)).fit() \r\n",
        "print(log_reg_woe.summary())"
      ],
      "execution_count": 48,
      "outputs": [
        {
          "output_type": "stream",
          "text": [
            "Optimization terminated successfully.\n",
            "         Current function value: 0.391752\n",
            "         Iterations 7\n",
            "                           Logit Regression Results                           \n",
            "==============================================================================\n",
            "Dep. Variable:                    BAD   No. Observations:                 4768\n",
            "Model:                          Logit   Df Residuals:                     4755\n",
            "Method:                           MLE   Df Model:                           12\n",
            "Date:                Fri, 15 Jan 2021   Pseudo R-squ.:                  0.2141\n",
            "Time:                        15:04:36   Log-Likelihood:                -1867.9\n",
            "converged:                       True   LL-Null:                       -2376.7\n",
            "Covariance Type:            nonrobust   LLR p-value:                2.878e-210\n",
            "==============================================================================\n",
            "                 coef    std err          z      P>|z|      [0.025      0.975]\n",
            "------------------------------------------------------------------------------\n",
            "CLNO          -0.1624      0.048     -3.399      0.001      -0.256      -0.069\n",
            "DEROG         -0.0246      0.036     -0.686      0.492      -0.095       0.046\n",
            "NINQ           0.2298      0.038      6.037      0.000       0.155       0.304\n",
            "DEBTINC        0.4801      0.049      9.842      0.000       0.384       0.576\n",
            "CLAGE         -0.4449      0.050     -8.979      0.000      -0.542      -0.348\n",
            "VALUE          0.0684      0.080      0.859      0.390      -0.088       0.224\n",
            "DELINQ         0.7949      0.047     16.901      0.000       0.703       0.887\n",
            "MORTDUE       -0.0153      0.078     -0.197      0.844      -0.167       0.137\n",
            "LOAN          -0.2454      0.049     -5.033      0.000      -0.341      -0.150\n",
            "DEROGzero     -1.8556      0.051    -36.058      0.000      -1.956      -1.755\n",
            "YOJ           -0.0189      0.046     -0.412      0.680      -0.109       0.071\n",
            "REASON_woe     1.3294      0.410      3.244      0.001       0.526       2.133\n",
            "JOB_woe        0.7499      0.161      4.670      0.000       0.435       1.065\n",
            "==============================================================================\n"
          ],
          "name": "stdout"
        }
      ]
    },
    {
      "cell_type": "code",
      "metadata": {
        "colab": {
          "base_uri": "https://localhost:8080/"
        },
        "id": "2LDPN1_ifQs1",
        "outputId": "cb488cae-0c67-46bd-d125-56390167039c"
      },
      "source": [
        "y_pred = log_reg_woe.predict(X_test_woe.astype(float))\r\n",
        "roc_auc_score(y_test.sort_index(), y_pred)"
      ],
      "execution_count": 49,
      "outputs": [
        {
          "output_type": "execute_result",
          "data": {
            "text/plain": [
              "0.7975772074815137"
            ]
          },
          "metadata": {
            "tags": []
          },
          "execution_count": 49
        }
      ]
    },
    {
      "cell_type": "markdown",
      "metadata": {
        "id": "Uv66FaTzkaEA"
      },
      "source": [
        "As we can see, in this case WoE does not help our model performance according to AUC. However, we do see significance for both WoE variables, unlike many categories of our dummy variables. As such, WoE can be more appropriate once the number of dummy variables could start to get very high. This high dimensionality could be a large concern for overfitting."
      ]
    },
    {
      "cell_type": "markdown",
      "metadata": {
        "id": "RtBM6bm4dTwe"
      },
      "source": [
        "# Feature Selection\n",
        "\n",
        "## Filter methods\n",
        "Filters are statistical methods which test variables one by one and their relevance to the task at hand. Since they are relatively easy to compute, they tend to be checked first. The next methods of feature selection require more computational power, therefore eliminating variables using filters first will save time later.\n",
        "\n",
        "Let's recall the chart we saw in class. The columns represent the target, is it continuous or discrete? The rows represent the variable to test, is it continuous or discrete/categorical? The best test is the one that corresponds to the right row/column.\n",
        "\n",
        "```\n",
        "Data Types      | CONTINUOUS TARGET     | DISCRETE TARGET\n",
        "-------------------------------------------------------------------------------\n",
        "CONTINUOUS VAR  | Pearson Correlation   | Fisher Score\n",
        "CATEGORICAL VAR | Fisher Score / ANOVA  | Chi-Square / Cramer's V/ IV/ Gain\n",
        "```\n",
        "\n"
      ]
    },
    {
      "cell_type": "markdown",
      "metadata": {
        "id": "l6ESJ7jCiOUa"
      },
      "source": [
        "### Pearson Correlation\r\n",
        "This is probably the most common correlation metric used. It is remarkable for its very simple implementation (covariance divided by the root of the product of each variance):\r\n",
        "\r\n",
        "$$ \\rho = \\frac{{}\\sum_{i=1}^{n} (x_i - \\overline{x})(y_i - \\overline{y})}\r\n",
        "{\\sqrt{\\sum_{i=1}^{n} (x_i - \\overline{x})^2 \\sum_{i=1}^{n} (y_i - \\overline{y})^2}} $$\r\n",
        "\r\n",
        "This correlation is best used when target and the (independent) variable to check are **both continuous**. The coefficient produced is bound between -1 and 1. It is recommended to only keep variables with a high correlation, however there is no rule that you can always follow. The closer that this coefficient is to 0, the less correlation between the variable and the target.\r\n",
        "\r\n"
      ]
    },
    {
      "cell_type": "markdown",
      "metadata": {
        "id": "i8nrsT1JiTSF"
      },
      "source": [
        "### Fisher Score\r\n",
        "This method of finding correlation can be used if **either** the target or variable in question is binary. It generalizes into an ANOVA test if there are multiple categories.\r\n",
        "\r\n",
        "$$ FS = \\frac{|\\bar{x}_G - \\bar{x}_B |}{\\sqrt{s^2_G + s^2_B}} $$\r\n",
        "\r\n",
        "### Analysis of Variance (ANOVA)\r\n",
        "ANOVA specifically compares the means of a **feature with more than 2 categories with a continuous target**. For example, we had the feature `JOB`. If our target was continuous, ANOVA would be testing if each category in `JOB` actually corresponded to a different mean in our target. \r\n",
        "\r\n",
        "So, we first find the sum of squares between categories:\r\n",
        "$$ SSD_B = \\sum_{i=1}^k \\sum_{j=1}^n \\left(\\bar{x}_i - \\bar{x}_.\\right)^2 = n\\sum_{i=1}^k \\left(\\bar{x}_i - \\bar{x}_.\\right)^2 $$\r\n",
        "\r\n",
        "We then find the sum of square difference within categories:\r\n",
        "$$ SSD_W = \\sum_{i=1}^k\\sum_{j=1}^n \\left(x_{ij} - \\bar{x}_i \\right)^2 $$\r\n",
        "\r\n",
        "Now we divide the $ SSD_B $ by its degree of freedom: k categories minus 1. This gives us the mean $ SSD_B $. And then we divide $ SSD_W $ by its degrees of freedom, number of observations minus k categories. This gives us the mean $ SSD_W $.\r\n",
        "\r\n",
        "$$ \\mu_B = \\frac{SSD_B}{k-1} $$\r\n",
        "\r\n",
        "$$ \\mu_W = \\frac{SSD_W}{n-k} $$\r\n",
        "\r\n",
        "Now we have the F-stastic that we can use.\r\n",
        "$$ F = \\frac{\\mu_B}{\\mu_W} $$\r\n",
        "\r\n",
        "We must compare this value to the [F-Distribution Table](http://www.socr.ucla.edu/Applets.dir/F_Table.html) and decide whether we want to include it in the analysis.\r\n",
        "\r\n"
      ]
    },
    {
      "cell_type": "markdown",
      "metadata": {
        "id": "fZeIjLqfiV_c"
      },
      "source": [
        "### Chi-Square Analysis\r\n",
        "\r\n",
        "Chi Square tests check whether events are dependent on one another. If there is no dependence between the target and the feature, it becomes less likely that it would actually would be meaninigful to include in the analysis.\r\n",
        "\r\n",
        "$$ \\chi^2 = \\sum{\\frac{(O_i - E_i)^2}{E_i}} $$\r\n",
        "\r\n",
        "Chi square is only used when **both the feature of interest and the target are both categorical variables**. You must use a [chi-square table](https://web.ma.utexas.edu/users/davis/375/popecol/tables/chisq.html) (this one is alpha = 0.10) to assess whether you would like to include this varible in the end or not. Remember that if one category has too little observations, this test's results may not be accurate.\r\n",
        "\r\n",
        "### Cramer's V\r\n",
        "\r\n",
        "This method is always bound between 0 and 1. Higher values are more predictive with a threshold of 0.1 being the most common.\r\n",
        "\r\n",
        "$$ V = \\sqrt{\\frac{\\chi^2}{n}} $$\r\n",
        "\r\n",
        "Cramer's V is based on Chi-Square, which means **both the feature of interest and the target are categorical variables**. This value is always bound between 0 and 1. A higher value indicates higher preditive power. A threshold of 0.1 is common.\r\n",
        "\r\n",
        "\r\n"
      ]
    },
    {
      "cell_type": "markdown",
      "metadata": {
        "id": "CJrG1rRRiYQP"
      },
      "source": [
        "### Information Value\r\n",
        "\r\n",
        "This is the value that we calculated before in the section on Weight of Evidence. The main purpose of this value was to assess the preditive power of a **categorical variable and a binary target**. \r\n",
        "\r\n",
        "$$ IV = \\sum_{cat} \\bigg( \\big( p(\\text{BAD})_{cat} - p(\\text{GOOD})_{cat} \\big) * \\text{WOE}_{cat} \\bigg) $$\r\n",
        "\r\n",
        "Generally, the following rule of thumb tells you the usefulness of a variable:\r\n",
        "\r\n",
        "IV < 0.02: not predictive\r\n",
        "\r\n",
        "0.02 – 0.1: weak predictive ability\r\n",
        "\r\n",
        "0.1 – 0.3: medium predictive ability\r\n",
        "\r\n",
        "0.3 < IV: strong predictive ability\r\n",
        "\r\n"
      ]
    },
    {
      "cell_type": "markdown",
      "metadata": {
        "id": "vOGxNSE1iZWp"
      },
      "source": [
        "### Information Gain / Entropy\r\n",
        "\r\n",
        "Entropy normally means chaos. In machine learning, it is defined as an equal chance of selecting any category of the target variable. If you have a set of observations and there is an equal mix of all target labels in this set, entropy is maximized. If you can find some feature split to cause only one target label in each section of data, then entropy is minimized. Information Gain is the difference between the entropy before and the sum of entropy in each group after a split. As such, this method is most appropriate for **both a discrete feature and discrete target**.\r\n",
        "\r\n",
        "Entropy is calculated by the following formula:\r\n",
        "\r\n",
        "$$ E = -\\sum^C_i p_i \\cdot log_2(p_i) $$\r\n",
        "\r\n",
        "Then information gain can be defined as the sum of entropy in total minus entropy of each category separately (this is the same as entropy in a decision tree):\r\n",
        "\r\n",
        "$$ \\text{Info Gain} = E_\\text{total} - \\sum{E_\\text{category}}  $$\r\n",
        "\r\n",
        "It is up to you to decide how little information gain to tolerate to consider a variable to be helpful."
      ]
    },
    {
      "cell_type": "markdown",
      "metadata": {
        "id": "CdOVJ9QLilj9"
      },
      "source": [
        "Now that we know some of these methods, let's see what they look like in some code from scratch. Note that the function below is not made to deal with every type of data (especially if the target is a variable with multiple categories). However, we can see quite a lot of the decisions that you will need to make behind the scenes for it to all work."
      ]
    },
    {
      "cell_type": "code",
      "metadata": {
        "id": "m7K9uG4wCSWn"
      },
      "source": [
        "class filter_binary_target:\r\n",
        "    def __init__(self, df, target):\r\n",
        "        self.target = target\r\n",
        "        self.data_head = df.head()\r\n",
        "\r\n",
        "    def auto_filter_binary_target(self):\r\n",
        "        print('Data must be in a clean pandas DataFrame. Categorical variables must be of data type bool or category. Continuous variables must be int64 or float64.')\r\n",
        "        data_no_target = df.drop(columns=self.target)\r\n",
        "        columns = ['Data Type', 'Metric', 'Score']\r\n",
        "        index = data_no_target.columns\r\n",
        "        result = pd.DataFrame(index=index, columns=columns)\r\n",
        "\r\n",
        "        for col in data_no_target:\r\n",
        "            if data_no_target.dtypes[col] == 'bool' or data_no_target.dtypes[col].name == 'category':\r\n",
        "                result.loc[col, 'Data Type'] = \"discrete\"\r\n",
        "                result.loc[col, 'Metric'] = \"IV\"\r\n",
        "                result.loc[col, 'Score'] = self.IV_binary_target(feature=col)\r\n",
        "\r\n",
        "            if data_no_target.dtypes[col] == 'int64' or data_no_target.dtypes[col] == 'float64':\r\n",
        "                result.loc[col, 'Data Type'] = \"continuous\"\r\n",
        "                result.loc[col, 'Metric'] = \"Fisher\"\r\n",
        "                result.loc[col, 'Score'] = self.fisher_binary_target(feature=col)\r\n",
        "\r\n",
        "        return result\r\n",
        "\r\n",
        "    def IV_binary_target(self, feature):  # same code as used above\r\n",
        "        data = pd.DataFrame()\r\n",
        "    \r\n",
        "        data['Count'] = df[feature].value_counts()\r\n",
        "        data['Bad'] = df.groupby([feature])[self.target].sum()\r\n",
        "        data['Good'] = data['Count'] - data['Bad']\r\n",
        "    \r\n",
        "        data[\"Distribution Bad\"] = data[\"Bad\"] / data[\"Bad\"].sum()\r\n",
        "        data[\"Distribution Good\"] = data[\"Good\"] / data[\"Good\"].sum()\r\n",
        "    \r\n",
        "        data['WOE'] = np.log(data[\"Distribution Good\"] / data[\"Distribution Bad\"])\r\n",
        "        data.replace({\"WOE\": {np.inf: 0, -np.inf: 0}})\r\n",
        "\r\n",
        "        data[\"IV\"] = data[\"WOE\"] * (data[\"Distribution Good\"] - data[\"Distribution Bad\"])\r\n",
        "\r\n",
        "        iv = data[\"IV\"].sum()\r\n",
        "\r\n",
        "        return iv\r\n",
        "\r\n",
        "    def fisher_binary_target(self, feature):\r\n",
        "        mu_0 = df.groupby(df[self.target])[feature].mean()[0]\r\n",
        "        mu_1 = df.groupby(df[self.target])[feature].mean()[1]\r\n",
        "        var_0 = df.groupby(df[self.target])[feature].var()[0]\r\n",
        "        var_1 = df.groupby(df[self.target])[feature].var()[1]\r\n",
        "\r\n",
        "        num = abs(mu_0 - mu_1)\r\n",
        "        den = (var_0 + var_1) ** 0.5\r\n",
        "        score = num/den\r\n",
        "    \r\n",
        "        return score\r\n",
        "\r\n",
        "    def pearson(self, feature):  # since our target is binary, we actually don't need this. However, if you would like to expand this class, you can use this code\r\n",
        "        mean_feature = df[feature].mean()\r\n",
        "        mean_target = df[self.target].mean()\r\n",
        "        num = ((df[feature] - mean_feature)*(df[self.target] - mean_target)).sum()\r\n",
        "        den = (((df[feature] - mean_feature)**2).sum() * ((df[self.target] - mean_target)**2).sum()) ** .5\r\n",
        "        rho = num/den\r\n",
        "        return rho"
      ],
      "execution_count": 50,
      "outputs": []
    },
    {
      "cell_type": "code",
      "metadata": {
        "colab": {
          "base_uri": "https://localhost:8080/",
          "height": 469
        },
        "id": "5mKFETU5BXA3",
        "outputId": "88bbae89-6264-4df2-eeaa-84715e47a2ea"
      },
      "source": [
        "filter = filter_binary_target(df=train_df, target=\"BAD\")\r\n",
        "\r\n",
        "filter.auto_filter_binary_target()"
      ],
      "execution_count": 51,
      "outputs": [
        {
          "output_type": "stream",
          "text": [
            "Data must be in a clean pandas DataFrame. Categorical variables must be of data type bool or category. Continuous variables must be int64 or float64.\n"
          ],
          "name": "stdout"
        },
        {
          "output_type": "execute_result",
          "data": {
            "text/html": [
              "<div>\n",
              "<style scoped>\n",
              "    .dataframe tbody tr th:only-of-type {\n",
              "        vertical-align: middle;\n",
              "    }\n",
              "\n",
              "    .dataframe tbody tr th {\n",
              "        vertical-align: top;\n",
              "    }\n",
              "\n",
              "    .dataframe thead th {\n",
              "        text-align: right;\n",
              "    }\n",
              "</style>\n",
              "<table border=\"1\" class=\"dataframe\">\n",
              "  <thead>\n",
              "    <tr style=\"text-align: right;\">\n",
              "      <th></th>\n",
              "      <th>Data Type</th>\n",
              "      <th>Metric</th>\n",
              "      <th>Score</th>\n",
              "    </tr>\n",
              "  </thead>\n",
              "  <tbody>\n",
              "    <tr>\n",
              "      <th>LOAN</th>\n",
              "      <td>continuous</td>\n",
              "      <td>Fisher</td>\n",
              "      <td>0.13309</td>\n",
              "    </tr>\n",
              "    <tr>\n",
              "      <th>MORTDUE</th>\n",
              "      <td>continuous</td>\n",
              "      <td>Fisher</td>\n",
              "      <td>0.0951093</td>\n",
              "    </tr>\n",
              "    <tr>\n",
              "      <th>VALUE</th>\n",
              "      <td>continuous</td>\n",
              "      <td>Fisher</td>\n",
              "      <td>0.106516</td>\n",
              "    </tr>\n",
              "    <tr>\n",
              "      <th>REASON</th>\n",
              "      <td>discrete</td>\n",
              "      <td>IV</td>\n",
              "      <td>0.00861846</td>\n",
              "    </tr>\n",
              "    <tr>\n",
              "      <th>JOB</th>\n",
              "      <td>discrete</td>\n",
              "      <td>IV</td>\n",
              "      <td>0.0778732</td>\n",
              "    </tr>\n",
              "    <tr>\n",
              "      <th>YOJ</th>\n",
              "      <td>continuous</td>\n",
              "      <td>Fisher</td>\n",
              "      <td>0.0979491</td>\n",
              "    </tr>\n",
              "    <tr>\n",
              "      <th>DEROG</th>\n",
              "      <td>continuous</td>\n",
              "      <td>Fisher</td>\n",
              "      <td>0.358356</td>\n",
              "    </tr>\n",
              "    <tr>\n",
              "      <th>DELINQ</th>\n",
              "      <td>continuous</td>\n",
              "      <td>Fisher</td>\n",
              "      <td>0.473846</td>\n",
              "    </tr>\n",
              "    <tr>\n",
              "      <th>CLAGE</th>\n",
              "      <td>continuous</td>\n",
              "      <td>Fisher</td>\n",
              "      <td>0.324169</td>\n",
              "    </tr>\n",
              "    <tr>\n",
              "      <th>NINQ</th>\n",
              "      <td>continuous</td>\n",
              "      <td>Fisher</td>\n",
              "      <td>0.275753</td>\n",
              "    </tr>\n",
              "    <tr>\n",
              "      <th>CLNO</th>\n",
              "      <td>continuous</td>\n",
              "      <td>Fisher</td>\n",
              "      <td>0.0116811</td>\n",
              "    </tr>\n",
              "    <tr>\n",
              "      <th>DEBTINC</th>\n",
              "      <td>continuous</td>\n",
              "      <td>Fisher</td>\n",
              "      <td>0.266897</td>\n",
              "    </tr>\n",
              "    <tr>\n",
              "      <th>DEROGzero</th>\n",
              "      <td>discrete</td>\n",
              "      <td>IV</td>\n",
              "      <td>0.33617</td>\n",
              "    </tr>\n",
              "  </tbody>\n",
              "</table>\n",
              "</div>"
            ],
            "text/plain": [
              "            Data Type  Metric       Score\n",
              "LOAN       continuous  Fisher     0.13309\n",
              "MORTDUE    continuous  Fisher   0.0951093\n",
              "VALUE      continuous  Fisher    0.106516\n",
              "REASON       discrete      IV  0.00861846\n",
              "JOB          discrete      IV   0.0778732\n",
              "YOJ        continuous  Fisher   0.0979491\n",
              "DEROG      continuous  Fisher    0.358356\n",
              "DELINQ     continuous  Fisher    0.473846\n",
              "CLAGE      continuous  Fisher    0.324169\n",
              "NINQ       continuous  Fisher    0.275753\n",
              "CLNO       continuous  Fisher   0.0116811\n",
              "DEBTINC    continuous  Fisher    0.266897\n",
              "DEROGzero    discrete      IV     0.33617"
            ]
          },
          "metadata": {
            "tags": []
          },
          "execution_count": 51
        }
      ]
    },
    {
      "cell_type": "markdown",
      "metadata": {
        "id": "NP5oQrbujCiI"
      },
      "source": [
        "So let's analyze this output. We cannot directly compare IV and Fisher scores but we can judge them relative to other variables calculated with the same score. We can see that of our 3 variables tested with IV, `REASON` is particularly weak and does not pass the 0.02 value threshold for IV. Therefore, we should eliminate it from the analysis. We can also see that of the variables for which we calculated a Fisher score, `CLNO`, `MORTDUE` and `YOJ` are all quite low.\r\n",
        "\r\n",
        "At this point we could choose to eliminate these variables. However, let's leave them in for a little check using wrapper methods. "
      ]
    },
    {
      "cell_type": "markdown",
      "metadata": {
        "id": "4zXNNUbCnf0-"
      },
      "source": [
        "## Wrappers\r\n",
        "Unlike filter methods, which check one variable at a time with a statistical framework, wrappers try to iteratively build models in different ways to detect variables thatimpact a model's performance the most. As you can imagine, there are two major ways of doing this.\r\n",
        "1. You add variables one at a time\r\n",
        "2. You remove variables one at a time\r\n",
        "\r\n",
        "Each time, you are double checking how the model performs with the inclusion or exclusion of a certain variable."
      ]
    },
    {
      "cell_type": "code",
      "metadata": {
        "id": "2JhrIoxBnyGO"
      },
      "source": [
        "# Let's first set the one-hot encoded version of the dataframe as the default\r\n",
        "X_train = X_train_dummies\r\n",
        "X_test = X_test_dummies"
      ],
      "execution_count": 52,
      "outputs": []
    },
    {
      "cell_type": "code",
      "metadata": {
        "colab": {
          "base_uri": "https://localhost:8080/"
        },
        "id": "IT3g1p9JnJDQ",
        "outputId": "e4fc5faa-448c-4504-ba4e-713e0c5de3e9"
      },
      "source": [
        "from sklearn.linear_model import LogisticRegression # We will use sklearn here as it is required in the next algorithms\r\n",
        "\r\n",
        "clf = LogisticRegression(random_state=888, max_iter=200)\r\n",
        "clf.fit(X_train,  np.ravel(y_train.values))\r\n",
        "y_pred = clf.predict(X_test)\r\n",
        "roc_auc_score(y_test, y_pred) # Note this value is different from the statsmodels value we found before for the same model earlier"
      ],
      "execution_count": 53,
      "outputs": [
        {
          "output_type": "execute_result",
          "data": {
            "text/plain": [
              "0.634919530230535"
            ]
          },
          "metadata": {
            "tags": []
          },
          "execution_count": 53
        }
      ]
    },
    {
      "cell_type": "markdown",
      "metadata": {
        "id": "yG9WXnd52GgW"
      },
      "source": [
        "### Stepwise regression (forward regression)\r\n",
        "We will start with the first wrapper method described above. We can easily create this with a for-loop, but we will spare you the complexities by using `mlxtend` to sequentially add our possible features to the model using the function `SequentialFeatureSelector`. The machine will add variables one at a time and double check the model's performance. Note that a `sklearn` model is required as input to this function.\r\n",
        "\r\n",
        "Note that unfortunately `sklearn` does not yet support stepwise regression on its own. However, if you'd like, there are ways to code it yourself through a loop that tries to find the best combination of variables through iterative model building like the [second answer to this StackExchange question](https://datascience.stackexchange.com/questions/937/does-scikit-learn-have-forward-selection-stepwise-regression-algorithm).\r\n",
        "\r\n",
        "Let's use the algorithm from `mlextend` and check whether it corresponds to the features that our filter model also chose. In case you run this code on your own machine, you might have to [install the `mlextend` package first](https://anaconda.org/conda-forge/mlxtend).\r\n",
        "\r\n"
      ]
    },
    {
      "cell_type": "code",
      "metadata": {
        "colab": {
          "base_uri": "https://localhost:8080/"
        },
        "id": "GNyrHxx-u6ws",
        "outputId": "5b0d730f-6963-418a-9ea6-79a90c64b499"
      },
      "source": [
        "from mlxtend.feature_selection import SequentialFeatureSelector as SFS\r\n",
        "\r\n",
        "clf = LogisticRegression(random_state=888, max_iter=1000, tol=0.01)\r\n",
        "sfs = SFS(clf, \r\n",
        "           k_features=(3,12), \r\n",
        "           forward=True, \r\n",
        "           floating=False, \r\n",
        "           scoring='accuracy',\r\n",
        "           cv=3)\r\n",
        "\r\n",
        "sfs = sfs.fit(X_train, np.ravel(y_train.values))"
      ],
      "execution_count": 54,
      "outputs": [
        {
          "output_type": "stream",
          "text": [
            "/usr/local/lib/python3.6/dist-packages/sklearn/externals/joblib/__init__.py:15: FutureWarning: sklearn.externals.joblib is deprecated in 0.21 and will be removed in 0.23. Please import this functionality directly from joblib, which can be installed with: pip install joblib. If this warning is raised when loading pickled models, you may need to re-serialize those models with scikit-learn 0.21+.\n",
            "  warnings.warn(msg, category=FutureWarning)\n"
          ],
          "name": "stderr"
        }
      ]
    },
    {
      "cell_type": "code",
      "metadata": {
        "colab": {
          "base_uri": "https://localhost:8080/"
        },
        "id": "67tQuOkZEwUF",
        "outputId": "4c5872bb-4eda-4e45-a236-738dee104f39"
      },
      "source": [
        "print('best combination (ACC: %.3f): %s\\n' % (sfs.k_score_, sfs.k_feature_names_))"
      ],
      "execution_count": 55,
      "outputs": [
        {
          "output_type": "stream",
          "text": [
            "best combination (ACC: 0.846): ('const', 'LOAN', 'YOJ', 'DEROG', 'DELINQ', 'CLAGE', 'NINQ', 'CLNO', 'DEBTINC', 'JOB_Office', 'JOB_ProfExe', 'JOB_Self')\n",
            "\n"
          ],
          "name": "stdout"
        }
      ]
    },
    {
      "cell_type": "markdown",
      "metadata": {
        "id": "1h6iHa_tk9Tw"
      },
      "source": [
        "We can see from this regression, some of the variables that were candidates for elimination according to our filter method were actually kept. This may be because there are some variable interaction which we cannot observe using filter methods. It would be up to the analyst to try all combinations and determine the one that works best for the data.\r\n",
        "\r\n",
        "We can plot the percent correctly classified vs. the number of selected features to see the algorithm's findings."
      ]
    },
    {
      "cell_type": "code",
      "metadata": {
        "colab": {
          "base_uri": "https://localhost:8080/",
          "height": 295
        },
        "id": "BMyMdlFigd7D",
        "outputId": "b84d5e44-46ec-4472-fd6f-2f6c639f1c05"
      },
      "source": [
        "from mlxtend.plotting import plot_sequential_feature_selection as plot_sfs\r\n",
        "\r\n",
        "plot_sfs(sfs.get_metric_dict())\r\n",
        "plt.title('Sequential Forward Selection')\r\n",
        "\r\n",
        "plt.show()"
      ],
      "execution_count": 56,
      "outputs": [
        {
          "output_type": "display_data",
          "data": {
            "image/png": "[encoded data removed]",
            "text/plain": [
              "<Figure size 432x288 with 1 Axes>"
            ]
          },
          "metadata": {
            "tags": [],
            "needs_background": "light"
          }
        }
      ]
    },
    {
      "cell_type": "markdown",
      "metadata": {
        "id": "7SODgWTsmyN7"
      },
      "source": [
        "Lastly, let's check the AUC of the test set to see how this selection of features did on unseen data.\r\n",
        "\r\n"
      ]
    },
    {
      "cell_type": "code",
      "metadata": {
        "id": "idNcMxFUiFjP"
      },
      "source": [
        "X_train_sfs = sfs.transform(X_train)\r\n",
        "X_test_sfs = sfs.transform(X_test)\r\n",
        "\r\n",
        "clf.fit(X_train_sfs, np.ravel(y_train.values))\r\n",
        "y_pred = clf.predict(X_test_sfs)"
      ],
      "execution_count": 57,
      "outputs": []
    },
    {
      "cell_type": "code",
      "metadata": {
        "colab": {
          "base_uri": "https://localhost:8080/"
        },
        "id": "acdZMw5EhkmI",
        "outputId": "2582fad4-111d-42de-9a5d-47410370becb"
      },
      "source": [
        "roc_auc_score(y_test, y_pred)"
      ],
      "execution_count": 58,
      "outputs": [
        {
          "output_type": "execute_result",
          "data": {
            "text/plain": [
              "0.6318399304045237"
            ]
          },
          "metadata": {
            "tags": []
          },
          "execution_count": 58
        }
      ]
    },
    {
      "cell_type": "markdown",
      "metadata": {
        "id": "7zBulcXpnhkx"
      },
      "source": [
        "### Recursive feature elimination (backward selection)\r\n",
        "\r\n",
        "Another extremely useful variable selection method is backward selection. We can actually implement it very easily using the `RFECV` function from `sklearn`. You can view the documentation for this function [here](https://scikit-learn.org/stable/modules/generated/sklearn.feature_selection.RFECV.html#sklearn.feature_selection.RFECV). Let's see if it selects similar variables as our last wrapper model and the filter model."
      ]
    },
    {
      "cell_type": "code",
      "metadata": {
        "colab": {
          "base_uri": "https://localhost:8080/"
        },
        "id": "GXkJo-MFHr6s",
        "outputId": "e73c2587-a415-4cf2-a98a-fee89da1cdbc"
      },
      "source": [
        "from sklearn.feature_selection import RFECV\r\n",
        "clf = LogisticRegression(random_state=888, max_iter=10000, tol=0.001)\r\n",
        "\r\n",
        "rfecv = RFECV(estimator=clf, step=1, cv=2, scoring='accuracy')\r\n",
        "X_train_new = rfecv.fit(X_train,  np.ravel(y_train.values))\r\n",
        "\r\n",
        "print('Optimal number of features: {}'.format(rfecv.n_features_))"
      ],
      "execution_count": 59,
      "outputs": [
        {
          "output_type": "stream",
          "text": [
            "Optimal number of features: 17\n"
          ],
          "name": "stdout"
        }
      ]
    },
    {
      "cell_type": "code",
      "metadata": {
        "colab": {
          "base_uri": "https://localhost:8080/"
        },
        "id": "z03KeUvydxnk",
        "outputId": "2029e369-2e6a-4eec-ae3f-1999f8b13ad7"
      },
      "source": [
        "X_train.columns[rfecv.support_]"
      ],
      "execution_count": 60,
      "outputs": [
        {
          "output_type": "execute_result",
          "data": {
            "text/plain": [
              "Index(['LOAN', 'MORTDUE', 'VALUE', 'DEROG', 'DELINQ', 'CLAGE', 'NINQ', 'CLNO',\n",
              "       'DEBTINC', 'DEROGzero', 'REASON_HomeImp', 'REASON_IsMissing',\n",
              "       'JOB_Office', 'JOB_Other', 'JOB_ProfExe', 'JOB_Sales', 'JOB_Self'],\n",
              "      dtype='object')"
            ]
          },
          "metadata": {
            "tags": []
          },
          "execution_count": 60
        }
      ]
    },
    {
      "cell_type": "markdown",
      "metadata": {
        "id": "j8Lu3KhPlv9U"
      },
      "source": [
        "In this regression, different variables were dropped and again they don't correspond to the candidates we found through our filter process. Again, this may be caused by some variable interaction, which we cannot observe by using filter methods. It is up to your discretion to experiment with combinations and determine the best course of action to solve your problem.\r\n",
        "\r\n",
        "We can plot the percent correctly classified vs. the number of selected features to see the algorithm's findings."
      ]
    },
    {
      "cell_type": "code",
      "metadata": {
        "colab": {
          "base_uri": "https://localhost:8080/",
          "height": 295
        },
        "id": "hMsx5JCtgQaa",
        "outputId": "19724e22-1cd7-4bae-be6e-f76c064ef83f"
      },
      "source": [
        "plt.title('Recursive Feature Elimination with Cross-Validation')\r\n",
        "plt.xlabel('Number of Features')\r\n",
        "plt.ylabel('Performance (% Correctly Classified)')\r\n",
        "plt.plot(range(1, len(rfecv.grid_scores_) + 1), rfecv.grid_scores_, linewidth=3)\r\n",
        "\r\n",
        "plt.show()"
      ],
      "execution_count": 61,
      "outputs": [
        {
          "output_type": "display_data",
          "data": {
            "image/png": "[encoded data removed]",
            "text/plain": [
              "<Figure size 432x288 with 1 Axes>"
            ]
          },
          "metadata": {
            "tags": [],
            "needs_background": "light"
          }
        }
      ]
    },
    {
      "cell_type": "markdown",
      "metadata": {
        "id": "yl_wNMfSm81F"
      },
      "source": [
        "Lastly, let's check the mean error on the test set to see how this selection of features did on unseen data."
      ]
    },
    {
      "cell_type": "code",
      "metadata": {
        "colab": {
          "base_uri": "https://localhost:8080/"
        },
        "id": "e3BSvn75KQXv",
        "outputId": "b04d89c0-3791-40ec-8c8a-c45b7efb56c5"
      },
      "source": [
        "y_pred = rfecv.predict(X_test)\r\n",
        "\r\n",
        "roc_auc_score(y_test, y_pred)"
      ],
      "execution_count": 62,
      "outputs": [
        {
          "output_type": "execute_result",
          "data": {
            "text/plain": [
              "0.6354458460200088"
            ]
          },
          "metadata": {
            "tags": []
          },
          "execution_count": 62
        }
      ]
    },
    {
      "cell_type": "markdown",
      "metadata": {
        "id": "rm4KYYg8cPI1"
      },
      "source": [
        "# Code organization\r\n",
        "We are basically done with the material on feature engineering and feature selection. More generally, this notebook also marks an end to your journey through the space of data preparation. What you might have noticed is that code to prepare data can get rather long and hard to oversee. More generally, Jupyter notebooks can get really long, which makes them a bit more tedious to read. Does that sound familiar? <br> <br> Before concluding, we'd like to show you some 'tricks' to raise the readability of your notebooks and codes. The following two parts will briefly illustrate practices for structuring your codes across multiple files and introduce to **pipelines **. The latter are very useful to wrap-up chains of operations like different data preprocessing operations. "
      ]
    },
    {
      "cell_type": "markdown",
      "metadata": {
        "id": "qhqYDtCgmeky"
      },
      "source": [
        "## Importing from other scripts\r\n",
        "Say you have already coded some functionality in another notebook and want to reuse it. Of course, you can copy and paste the corresponding code from your other notebook. This approach has many disadvantages. The biggest one might be that if you want to update your function, you would have to do so in two different notebooks; and will mostly forget to update one of the places leading to inconsistencies. A better approach is to move the function into a Python script file and to refer to it. It is crucial that this other file is indeed a **script file (i.e., a .py file) and note a notebook**. To our knowledge, you cannot refer to code in another notebook directly. It is also important to code the functionality that you want to reuse in a function.\r\n",
        "\r\n",
        "To exemplify importing custom functions from .py files, we have created the file rf_test_auc.py. It contains a custom function that performs a train-test split on data, uses the training data to build a random forest and finally uses the test set to calculate the AUC. Using this other file, we can simply import the function that we want and run the function to get our results. That said, the following example requires that the **.py file with the function is available in your working directory**.  "
      ]
    },
    {
      "cell_type": "code",
      "metadata": {
        "colab": {
          "base_uri": "https://localhost:8080/"
        },
        "id": "s6qGDX1dET9F",
        "outputId": "4270ff83-7e1e-4290-86a7-7c9c44cb822e"
      },
      "source": [
        "from rf_test_auc import RF_test_AUC # this is easiest when the .py file is in your working directory\r\n",
        "\r\n",
        "RF_test_AUC(X_train, y_train, X_test, y_test, n_estimators = 150)"
      ],
      "execution_count": 63,
      "outputs": [
        {
          "output_type": "execute_result",
          "data": {
            "text/plain": [
              "0.9806546324488908"
            ]
          },
          "metadata": {
            "tags": []
          },
          "execution_count": 63
        }
      ]
    },
    {
      "cell_type": "markdown",
      "metadata": {
        "id": "mHpyPWJQFP8m"
      },
      "source": [
        "Now you can keep your notebooks nice and neat by leaving out some functions that you had to code yourself whose inner workings are not the most critical for your readers to see right away.\r\n",
        "\r\n",
        "Note that you can use files which are not in your working directory, however this is a bit more complicated. You can find tutorials on how to do this using many tutorials online such as [this one](www.youtube.com/watch?v=A7E18apPQJs). "
      ]
    },
    {
      "cell_type": "markdown",
      "metadata": {
        "id": "W79hHbzYqC5H"
      },
      "source": [
        "## Pipelines\r\n",
        "\r\n",
        "After we have decided how we would like our finalized data to look like in the end, we will likely have to repeat the modifications to our data set several times over (for the train set, test set, new batches of data etc...). In this case, it can be very useful to set up a pipeline which makes the same adjustments to raw data."
      ]
    },
    {
      "cell_type": "code",
      "metadata": {
        "id": "8nBRybPt8PMb"
      },
      "source": [
        "# Let's reload the raw data\r\n",
        "\r\n",
        "data_url = 'https://raw.githubusercontent.com/Humboldt-WI/bads/master/data/hmeq_prepared.csv' \r\n",
        "df = pd.read_csv(data_url)\r\n",
        "\r\n",
        "# Extract target variable and feature matrix \r\n",
        "X = df.drop(['BAD'], axis=1) \r\n",
        "y = df[['BAD']]\r\n",
        "\r\n",
        "X_train, X_test, y_train, y_test = train_test_split(X, y, test_size=.2)"
      ],
      "execution_count": 64,
      "outputs": []
    },
    {
      "cell_type": "code",
      "metadata": {
        "id": "EXhVqwvsY038"
      },
      "source": [
        "# Now let's use a pipeline to transform our data using some of what we have learned above\r\n",
        "\r\n",
        "from sklearn.pipeline import Pipeline\r\n",
        "from sklearn.externals import joblib\r\n",
        "from sklearn.ensemble import RandomForestClassifier\r\n",
        "from sklearn.preprocessing import OneHotEncoder\r\n",
        "from sklearn.compose import ColumnTransformer\r\n",
        "\r\n",
        "# If you only want a transformation on select columns, it is good to first use ColumnTransformer\r\n",
        "transformer = ColumnTransformer(transformers=[('cat', OneHotEncoder(), [3, 4]), # ('step_name', fun(), list_cols) always follow this format for each step of the transfomer\r\n",
        "                                              ('scl', StandardScaler(), [0, 1, 2, 5, 6, 7, 8, 9, 10])], # Note that below RF is used as a classifier, thus, scaling is not exactly necessary\r\n",
        "                                              remainder='passthrough')\r\n",
        "\r\n",
        "# Construct some pipelines\r\n",
        "pipe = Pipeline([\r\n",
        "                ('t', transformer), # ('step_name', transfomer) always follow this format for transformers in the pipeline\r\n",
        "                ('clf', RandomForestClassifier()) # ('step_name', fun()) add parantheses for other functions\r\n",
        "                ])"
      ],
      "execution_count": 65,
      "outputs": []
    },
    {
      "cell_type": "markdown",
      "metadata": {
        "id": "37L34zUOeorE"
      },
      "source": [
        "This little bit of code wraps-up almost all of the preprocessing steps, which we discussed in this notebook. The code does look a little complicated but you will agree that it is concise. So the idea is that we chain operations together, such that the result of one operation (e.g., one-hot-coding of variables) are forwarded as input to a subsequent step. Above, we effectively code two chains, one chain of feature transformations and later one chain with two steps, all feature transformations together and learning a classifier. It is very easy to execute the chain of operations, i.e. the pipeline:"
      ]
    },
    {
      "cell_type": "code",
      "metadata": {
        "id": "sm3ULAv0Y4ZF",
        "colab": {
          "base_uri": "https://localhost:8080/"
        },
        "outputId": "cd2fca0b-61c7-47b4-96bf-14ea385bbec1"
      },
      "source": [
        "# Learning a RF classifier on the preprocessed data set with one line:\r\n",
        "pipe.fit(X_train, y_train.values.ravel())"
      ],
      "execution_count": 66,
      "outputs": [
        {
          "output_type": "execute_result",
          "data": {
            "text/plain": [
              "Pipeline(memory=None,\n",
              "         steps=[('t',\n",
              "                 ColumnTransformer(n_jobs=None, remainder='passthrough',\n",
              "                                   sparse_threshold=0.3,\n",
              "                                   transformer_weights=None,\n",
              "                                   transformers=[('cat',\n",
              "                                                  OneHotEncoder(categories='auto',\n",
              "                                                                drop=None,\n",
              "                                                                dtype=<class 'numpy.float64'>,\n",
              "                                                                handle_unknown='error',\n",
              "                                                                sparse=True),\n",
              "                                                  [3, 4]),\n",
              "                                                 ('scl',\n",
              "                                                  StandardScaler(copy=True,\n",
              "                                                                 with_mean=True,\n",
              "                                                                 with_std=True),\n",
              "                                                  [0, 1, 2, 5, 6, 7, 8, 9,\n",
              "                                                   10]...\n",
              "                 RandomForestClassifier(bootstrap=True, ccp_alpha=0.0,\n",
              "                                        class_weight=None, criterion='gini',\n",
              "                                        max_depth=None, max_features='auto',\n",
              "                                        max_leaf_nodes=None, max_samples=None,\n",
              "                                        min_impurity_decrease=0.0,\n",
              "                                        min_impurity_split=None,\n",
              "                                        min_samples_leaf=1, min_samples_split=2,\n",
              "                                        min_weight_fraction_leaf=0.0,\n",
              "                                        n_estimators=100, n_jobs=None,\n",
              "                                        oob_score=False, random_state=None,\n",
              "                                        verbose=0, warm_start=False))],\n",
              "         verbose=False)"
            ]
          },
          "metadata": {
            "tags": []
          },
          "execution_count": 66
        }
      ]
    },
    {
      "cell_type": "code",
      "metadata": {
        "id": "sruOYyvJ-2CL",
        "colab": {
          "base_uri": "https://localhost:8080/"
        },
        "outputId": "a283e3bf-3e8a-4e22-afef-52309c63bef8"
      },
      "source": [
        "# Let's next get predictions and compute AUC of the learned RF classifier\r\n",
        "y_pred = pipe.predict(X_test)\r\n",
        "roc_auc_score(y_test, y_pred) # check AUC"
      ],
      "execution_count": 67,
      "outputs": [
        {
          "output_type": "execute_result",
          "data": {
            "text/plain": [
              "0.8436741044323011"
            ]
          },
          "metadata": {
            "tags": []
          },
          "execution_count": 67
        }
      ]
    },
    {
      "cell_type": "markdown",
      "metadata": {
        "id": "pEjPmU3Cfnjo"
      },
      "source": [
        "The example highlights that once the pipeline is set up, something that you could do in a custom function, which you the put into a .py file, you can run it with basically one line of code. These tools help you to focus your notebook to the most important aspects of your task. For example, the next tutorial will look into [model diagnosis and interpretation](https://github.com/Humboldt-WI/bads/blob/master/tutorials/10_nb_interpretale_ML.ipynb). You can grasp that we will first need a model before talking about interpreting that model. Using the command `pipe.fit(X_Train, y_train)` you can get such a model super easily, and focus your notebook on model interpretation. More generally, piplines help you to keep your code clean and comprehensible, and are, therefore, a useful thing to have on your list."
      ]
    },
    {
      "cell_type": "markdown",
      "metadata": {
        "id": "cqjuoJR6dTwe"
      },
      "source": [
        "# Conclusion\n",
        "\n",
        "The  demos above should have provided some ideas for useful transformations and feature selection. In the exercise questions, we will try to apply some of these techniques to the HMEQ dataset and see the effect they have on prediction values. Remember again there is no single way to apply these steps to all types of data. You'll have to experiment and find which combination works best for your problem. Happy coding!\n",
        "\n",
        "\n"
      ]
    },
    {
      "cell_type": "markdown",
      "metadata": {
        "id": "Xa5rw9679ooO"
      },
      "source": [
        "# Overview table\r\n",
        "\r\n",
        "| Goal | Possible Code |\r\n",
        "| --- | --- |\r\n",
        "| Get data types of each column | `df.dtypes` |\r\n",
        "| Select all float columns of a df | `df.select_dtypes(include='float64')` |\r\n",
        "| Create min-max scaling or normalization object | `MinMaxScaler()` |\r\n",
        "| Create standardization object | `StandardScaler()` |\r\n",
        "| Modify `X` with a Box Cox transformation (positive values only) | `stats.boxcox(X) ` |\r\n",
        "| Modify `X` with a Yeo Johnson transformation | `stats.yeojohnson(X)` |\r\n",
        "| Test if a variable is normally distributed (p-val > 0.05 points to normality) | `statsnormaltest(X)` |\r\n",
        "| Create QQ plot for `X` (lines should correspond) | `qqplot(feature, line='s')` |\r\n",
        "| Get WoE weights of `feature_i` | `scorecardpy.woebin(train_df, y=\"target\", x='feature_i')` |\r\n",
        "| Plot weights of `woebin` | `scorecardpy.woebin_plot(woebin_obj)` |\r\n",
        "| Replace the feature calculated in `woebin` with its results| `scorecardpy.woebin_ply(X_train, woe)` |\r\n",
        "| Pearson's coefficient | `stats.pearsonr(X, y)` |\r\n",
        "| Calculate Chi2 value for X and y | `chi2(X, y)` |\r\n",
        "| Get dummy values for `feature` with prefix `name_` | `pd.get_dummies(X.feature, prefix='name')` |\r\n",
        "| Create forward variable selection object | `SequentialFeatureSelector()` |\r\n",
        "| Returns `X` of only selected features | `sfs_model.transform(X_train)` |\r\n",
        "| Create backward variable selection object | `RFECV()` |\r\n",
        "| Use fitted RFECV model to predict on test set | `rfecv_model.predict(X_test)` |\r\n",
        "| Create object which uses `fun` on cols in `col_list` and keeps unchanged columns | `ColumnTransformer(transformers=('step_name', fun(), list_cols), remainder='passthrough')` ** |\r\n",
        "| Create pipeline object | `Pipeline(('step_name', fun))` ***|\r\n",
        "| Pass X_train through pipeline for fitting | `pipe_name.fit(X_train, y_train)`|\r\n",
        "| Pass X_test through pipeline for prediction | `pipe_name.fit(X_test)`|\r\n",
        "\r\n",
        "\r\n",
        "** In `ColumnTransformer`, you can add a list of transformers of that format in the `transformer` argument\r\n",
        "\r\n",
        "*** In `Pipeline`, you can add a list of steps of that format as the first argument. It is encouraged to put your classifier in here as the last step"
      ]
    },
    {
      "cell_type": "markdown",
      "metadata": {
        "id": "AMI_yMHEdTwf"
      },
      "source": [
        "# Exercises\n",
        "\n",
        "## Power transformations \n",
        "- Box-Cox (BC) and Yeo-Johnson (YJ) transformation exhibit hyperparameter $\\lambda$. Implement a custom function that receives a feature as input and grid-searches the best value of $\\lambda$. The caller should be able to specify whether s/he wants to use BC or YJ. Your function can assess the merit of a value of $\\lambda$ by means of the function `normaltest()`, the use of which we illustrated above. The more normal a feature after the transformation, the better the value of $\\lambda$. \n",
        "\n",
        "- Write another custom function `best_transform()`. Given a DataFrame with input data, your function should identify the best power transformation for each numerical feature. Note that using the raw feature without transformation is also possible and might be the best approach. Also remember to tune $\\lambda$ when needed using your solution to the previous exercise. Try out your function using the HMEQ data. Display the best transformation for each feature.\n",
        "\n",
        "**Optional** \n",
        "- Till here, we have assessed the merit of a transformation by means of checking normality using `normaltest()`. Arguably, a better approach for predictive modeling would be to test if a model trained on the transformed data generates better predictions. To implement this logic, you need a custom function that implements our standard predictive modeling pipeline (see, e.g., Tutorial 5 or Tutorial 7) to estimates the predictive performance of a model, say logistic regression, on an input data set. Once you have this function, you can revise your solutions to the previous exercises such that they call the function just implemented instead of `normaltest()`. \n",
        "- Test your function using the HMEQ data set\n",
        "- Perform a final test what approach gives better results (in terms of AUC on HMEQ) optimizing feature transformations using `normaltest()` or by assessing predictive accuracy. *For the experts, make sure to not overfit* \n",
        "---\n",
        "## Weight of evidence coding (challenging)\n",
        "A standard risk modeling workflow in banking is the following\n",
        "- Discretize all numeric features in a data set\n",
        "- Optimize categorical features by re-grouping/merging category levels\n",
        "- WOE transform all categorical variables\n",
        "- Build logistic regression-based scorecard\n",
        "\n",
        "Your task is to implement this workflow. The previous demos provide much of the functionality that you need. However, some extensions are needed and you have to put everything together. To keep things manageable, let's agree on the following heuristic:\n",
        "Implement step 1 and step 2 by fitting a shallow tree to the data (e.g., at most 5 leaf nodes). This will work with numerical and categorical features alike. The leaf nodes of your shallow tree represent the new, re-grouped, optimized categorical features. After this tree-based transformation, you can WOE-encoded the whole data set in one go.\n",
        "\n",
        "Compare a logit model using your transformed data set to one from our standard version of the data [add link here]\n",
        "\n",
        "## Feature selection\n",
        "- We discussed that sklearn does not offer stepwise regression. Implement a stepwise logit using AIC from scratch. To that end, you will need to decide on a search direction (forward or backward) and scoring criterion. The latter is needed for selecting the next feature to be added to or deleted from a model. Understanding the role of the search criterion is a very good learning outcome in its own right. There is probably no single correct or best solution how to score candidate features. Try to come up with a sensible approach.  "
      ]
    }
  ]
}