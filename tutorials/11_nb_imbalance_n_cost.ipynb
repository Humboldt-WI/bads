{
  "nbformat": 4,
  "nbformat_minor": 0,
  "metadata": {
    "kernelspec": {
      "display_name": "PyCharm (adams)",
      "language": "python",
      "name": "pycharm-feb95198"
    },
    "language_info": {
      "codemirror_mode": {
        "name": "ipython",
        "version": 3
      },
      "file_extension": ".py",
      "mimetype": "text/x-python",
      "name": "python",
      "nbconvert_exporter": "python",
      "pygments_lexer": "ipython3",
      "version": "3.7.6"
    },
    "colab": {
      "name": " 11_nb_imbalance_n_cost.ipynb",
      "provenance": [],
      "collapsed_sections": []
    }
  },
  "cells": [
    {
      "cell_type": "markdown",
      "metadata": {
        "id": "y5AQnlX2xJt2"
      },
      "source": [
        "[![Open In Colab](https://colab.research.google.com/assets/colab-badge.svg)](https://colab.research.google.com/github/Humboldt-WI/bads/blob/master/tutorials/11_nb_imbalance_n_costs.ipynb) "
      ]
    },
    {
      "cell_type": "markdown",
      "metadata": {
        "id": "wSq1WEacXr-u"
      },
      "source": [
        "# Chapter 11 - Imbalanced and cost-sensitive learning\n",
        "Welcome to chapter 11 of [Business Analytics and Data Science](). This week, we will revisit the lecture on imbalanced and cost-sensitive learning. Imbalance and asymmetric error costs occur frequently in business applications. Our well-known credit scoring situation exemplifies just this. Banks approve credit applications selectively and have achieved high sophistication in default prediction. Consequently, the observed default rates are often low, which implies that a credit scoring data set will typically exhibit class imbalance. Good customers represent the majority while defaulting clients represent the minority class. Using strategies from the reals of imbalanced learning, we can enhance the recognition of the minority class during classifier training.\n",
        "\n",
        "Similarly, it is a known fact that *error costs are asymmetric*. If we consider clients who would actually repay as the positive class, we can say that there are two possible errors in the credit risk prediction:\n",
        "\n",
        "- Accepting a client who will default (false positive, firm loses money lent)\n",
        "- Rejecting a client who would have repaid (false negative, firm misses out on charging fee)\n",
        "\n",
        "Just to elaborate on the meaning of false positive and false negative, if we thought or our model predicted that someone would repay but that turns out to be wrong, it was false to categorize them in the positive class. That is a false positive. Then, if we reject someone who would've actually repaid, we were false about them being in the negative class. That situation is a false negative.\n",
        "\n",
        "In our scenario, false positive errors cost us the amount of money loaned whereas false negatives cost us the interest that could have been charged. The false positive is an actual loss while the false negative is a lost opportunity costs. The literature on cost-sensitive learning has developed approaches to address asymmetric error costs during the *training* and/or the *evaluation* of a classifier. \n",
        "\n",
        "Note that this is just one example. Let's say we are developing a classifier which scans an medical image to check for cancer. While maybe 5% may be truely positive for cancer, there is a high cost of a false negative. In cases like these, fixing the imbalance is paramount.\n",
        "\n",
        "Time to explore some instruments for class imbalance and cost-sensitivity. Since the corresponding literature routinely considers classification, we will also stick to this form of predictive modeling. Thus, the tutorial will not touch on imbalance and cost-asymmetry in regression. \n",
        "\n",
        "The outline of the tutorial is as follows:\n",
        "- Preliminaries\n",
        "- Exploring the imbalance problem\n",
        "- SMOTE from scratch\n",
        "- Other imbalance learning techniques\n",
        "- Cost sensitivity overview\n",
        "- Thresholds with cost sensitivity\n",
        "- Calibration curves\n",
        "- MetaCost\n",
        "- Class imbalance and cost-sensitivity with `sklearn`"
      ]
    },
    {
      "cell_type": "markdown",
      "metadata": {
        "id": "fEKWy-79Xr-x"
      },
      "source": [
        "# Preliminaries\n",
        "We begin with the usual preparations. We will first use toy data and move on to our usual HMEQ data sets. The toy data generating comes from a previous tutorial. We have adjusted this function so that it will produce a custom amount of each class. This way, we can see how our prediction quality changes as the imbalance increases or decreases."
      ]
    },
    {
      "cell_type": "code",
      "metadata": {
        "id": "2afyEdV6Xr-y"
      },
      "source": [
        "# Import standard packages. \r\n",
        "import pandas as pd\r\n",
        "import numpy as np\r\n",
        "import time\r\n",
        "\r\n",
        "import matplotlib.pyplot as plt\r\n",
        "%matplotlib inline  \r\n",
        "plt.rcParams[\"figure.figsize\"] = (12,6)\r\n",
        "\r\n",
        "from sklearn.model_selection import train_test_split\r\n",
        "from sklearn.linear_model import LogisticRegression\r\n",
        "from sklearn.linear_model import LogisticRegressionCV\r\n",
        "from sklearn.ensemble import RandomForestClassifier\r\n",
        "from sklearn.tree import DecisionTreeClassifier \r\n",
        "from sklearn import metrics\r\n",
        "from sklearn.neighbors import NearestNeighbors\r\n",
        "\r\n",
        "import random\r\n",
        "random.seed(a=888)\r\n",
        "\r\n",
        "# Select random state to make results reproducable for sklearn functions\r\n",
        "rnd_state = 888\r\n",
        "\r\n",
        "import warnings # The imblearn package uses functions that have a future deprecation warning for sklearn (we can ignore these)"
      ],
      "execution_count": null,
      "outputs": []
    },
    {
      "cell_type": "code",
      "metadata": {
        "id": "E9a-sTN8Xr-y"
      },
      "source": [
        "def toy_data(n_1=1000, n_2=100, mu1=[1, 1], mu2=[2,2], sig1=1, sig2=1):\n",
        "    \"\"\" Customer function to generate linearly seperable toy data. The code has been discussed in more detail in Tutorial #3.\n",
        "        \n",
        "        The arguments represent, respectively, the size of the data, the mean vectors of the two Gaussians from which we\n",
        "        sample class 1 and class 2 data points, and their standard deviations. The code has been modified, n_1 is now the \n",
        "        amount of class 1 samples, and n_2 is the amount of class 2 samples to produce.\n",
        "    \"\"\"\n",
        "    \n",
        "    class1_x1 = np.random.normal(loc=mu1[0], scale=sig1, size=n_1)\n",
        "    class1_x2 = np.random.normal(loc=mu1[1], scale=sig1, size=n_1)\n",
        "\n",
        "    class2_x1 = np.random.normal(loc=mu2[0], scale=sig2, size=n_2)\n",
        "    class2_x2 = np.random.normal(loc=mu2[1], scale=sig2, size=n_2)\n",
        "\n",
        "    y1 = np.repeat(0, n_1)\n",
        "    y2 = np.repeat(1, n_2)\n",
        "\n",
        "    class1 = np.vstack((class1_x1, class1_x2)).T\n",
        "    class2 = np.vstack((class2_x1, class2_x2)).T\n",
        "\n",
        "    X = np.vstack((class1, class2))\n",
        "    y = np.concatenate((y1, y2))\n",
        "    \n",
        "    return X, y"
      ],
      "execution_count": null,
      "outputs": []
    },
    {
      "cell_type": "code",
      "metadata": {
        "colab": {
          "base_uri": "https://localhost:8080/"
        },
        "id": "CVL2V1IRXr-y",
        "outputId": "156999a2-b7c0-4a00-b424-cc10f831d9c3"
      },
      "source": [
        "# Create and plot the data\n",
        "X, y = toy_data()\n",
        "\n",
        "# Always useful to remind oneself of the dimensions of a data set\n",
        "print(\"Shape of X {}\".format(X.shape))  \n",
        "print(\"Shape of y {}\".format(y.shape))"
      ],
      "execution_count": null,
      "outputs": [
        {
          "output_type": "stream",
          "text": [
            "Shape of X (1100, 2)\n",
            "Shape of y (1100,)\n"
          ],
          "name": "stdout"
        }
      ]
    },
    {
      "cell_type": "code",
      "metadata": {
        "colab": {
          "base_uri": "https://localhost:8080/"
        },
        "id": "YMaYGvVGXr-z",
        "outputId": "7d101e90-5e5e-463b-dcca-3e56f74424b0"
      },
      "source": [
        " np.unique(y, return_counts=True)"
      ],
      "execution_count": null,
      "outputs": [
        {
          "output_type": "execute_result",
          "data": {
            "text/plain": [
              "(array([0, 1]), array([1000,  100]))"
            ]
          },
          "metadata": {
            "tags": []
          },
          "execution_count": 5
        }
      ]
    },
    {
      "cell_type": "markdown",
      "metadata": {
        "id": "LD0S7zQzXr-0"
      },
      "source": [
        "# Imbalanced learning\r\n",
        "Let's first examine the situation which is all too common in data analysis: there are very few instances for at least one of your classes. This can have some serious effects on your model's performance as it's often the minority class which we are greatly interested in. It also forces us to think about alternative metrics because, as we are about to demonstrate, traditional metrics may lead us down an unproductive path."
      ]
    },
    {
      "cell_type": "markdown",
      "metadata": {
        "id": "QiHI_g5FXr-0"
      },
      "source": [
        "## Misleading metrics\n",
        "We have made the point in the lecture that one problem of class imbalance related to the fact that standard indicators of classification performance provide misleading signals when the data is imbalanced. Let's start by demonstrating the issue with a little experiment. "
      ]
    },
    {
      "cell_type": "markdown",
      "metadata": {
        "id": "VXUxUhb_Xr-0"
      },
      "source": [
        "### Imbalance ratio and intervention threshold \n",
        "\n",
        "When you first receive a classification problem, it is a good idea to check if there is a class imbalance in your output variable early in the process. You can do this by using `value_counts()` on your dependent variable.\n",
        "\n",
        "A great question is at what point you should use class imbalance. While it may be obvious in a case more extreme than 1:10, is it okay to have an imbalance of 2:3? This depends on the goals of your model, especially the costs of getting the minority class incorrect. One easy check is to train your model without fixing the imbalance and check your test set to see if both classes have the same prediction accuracy. You should do this multiple times (ie. with cross validation) to make sure that your prediction mimics a real-world result. If you notice a large or intolerable disparity for the needs of your prediction, it is strongly recommended to address the imbalance somehow. "
      ]
    },
    {
      "cell_type": "code",
      "metadata": {
        "id": "_aTNiBruXr-0"
      },
      "source": [
        "# Set up a range of possible numbers of the minority class\r\n",
        "minority_num = np.arange(10, 1000, 10)\r\n",
        "\r\n",
        "# Initialize empty list of metrics\r\n",
        "acc_list = []\r\n",
        "tpr_list = []\r\n",
        "auc_list = []\r\n",
        "\r\n",
        "# Incrementally decrease class imbalance and record metrics\r\n",
        "for num in minority_num:\r\n",
        "  X, y = toy_data(n_1=2000-num, n_2=num) # Keep total observations fixed at 2000\r\n",
        "  X_train, X_test, y_train, y_test = train_test_split(X, y, test_size=0.3, random_state = 888)  # 30% as test set\r\n",
        "  clf = LogisticRegressionCV(cv=5, random_state=rnd_state).fit(X_train, y_train)  # Using Logit with CV for more stable results\r\n",
        "  y_pred = clf.predict(X_test)\r\n",
        "  \r\n",
        "  # Log total accuracy\r\n",
        "  acc = metrics.accuracy_score(y_test, y_pred)\r\n",
        "  acc_list.append(acc)\r\n",
        "  \r\n",
        "  # Log AUC and TPR\r\n",
        "  fpr, tpr, thresholds = metrics.roc_curve(y_test, y_pred, pos_label=1)\r\n",
        "  auc = metrics.auc(fpr, tpr)\r\n",
        "  auc_list.append(auc)\r\n",
        "  tpr_list.append(tpr[1])"
      ],
      "execution_count": null,
      "outputs": []
    },
    {
      "cell_type": "markdown",
      "metadata": {
        "id": "_Re9raf8Xr-1"
      },
      "source": [
        "### Accuracy: problematic metric with class imbalance\r\n",
        "Let's first take a look at overall accuracy and notice how **total accuracy decreases as imbalance gets less severe**. This is because if the imbalance is very large, the machine does not need to carefully learn the minority class and predicts only one class. Since 1 observation of the minority class is weighted just as heavily as an observation of the majority class, if the objective for the algorithm is to get most correct as possible, it might as well just predict the majority class. However, as the imbalance ratio gets closer to 1:1, the model must learn the minority class better and makes more mistakes overall in the final prediction. **In essence, total accuracy is a misleading metric if there is a class imbalance.** Again, let's think of a model which detects cancer from a medical image. If only 5% of cases are true positives but the model labels everything as negative, the model will achieve 95% accuracy. In this case, our model completely fails at its purpose even though its accuracy is very high.\r\n",
        "\r\n"
      ]
    },
    {
      "cell_type": "code",
      "metadata": {
        "colab": {
          "base_uri": "https://localhost:8080/",
          "height": 420
        },
        "id": "UZ1lKdTzXr-1",
        "outputId": "a5d57e77-eb2d-4abd-d68f-fe87be80afea"
      },
      "source": [
        "plt.plot(minority_num, acc_list)\r\n",
        "plt.title('Overall Accuracy as Imbalance Decreases')\r\n",
        "plt.xlabel('Number Class 1 of 2000 observations')\r\n",
        "plt.ylabel('Accuracy')"
      ],
      "execution_count": null,
      "outputs": [
        {
          "output_type": "execute_result",
          "data": {
            "text/plain": [
              "Text(0, 0.5, 'Accuracy')"
            ]
          },
          "metadata": {
            "tags": []
          },
          "execution_count": 7
        },
        {
          "output_type": "display_data",
          "data": {
            "image/png": "[encoded data removed]",
            "text/plain": [
              "<Figure size 864x432 with 1 Axes>"
            ]
          },
          "metadata": {
            "tags": [],
            "needs_background": "light"
          }
        }
      ]
    },
    {
      "cell_type": "markdown",
      "metadata": {
        "id": "qaFGFezVXr-1"
      },
      "source": [
        "### AUC: sensitive to positive class\r\n",
        "Now let's take a look at an alternative metric, the AUC. When we set the minority class to be the positive class, we see that this metric goes up as the class imbalance closes. AUC does correspond well to the class imbalance and overall model performance. As the class imbalance decreases, the AUC indicates that the model's predictions are more accurate. Remember that AUC is calculated with sensitivity (TPR) and 1-specificity (FPR).  Intuitively, we want a metric that does increase as the model is able to classify both cases correctly, so AUC demonstrates itself here as a more appropriate metric in class imbalance."
      ]
    },
    {
      "cell_type": "code",
      "metadata": {
        "colab": {
          "base_uri": "https://localhost:8080/",
          "height": 420
        },
        "id": "Y4iKZZcSXr-2",
        "outputId": "d8e76705-4489-4de0-b1ee-1cbfc3e3194b"
      },
      "source": [
        "plt.plot(minority_num, auc_list)\r\n",
        "plt.title('AUC as Imbalance Decreases')\r\n",
        "plt.xlabel('Number Class 1 of 2000 observations')\r\n",
        "plt.ylabel('AUC')"
      ],
      "execution_count": null,
      "outputs": [
        {
          "output_type": "execute_result",
          "data": {
            "text/plain": [
              "Text(0, 0.5, 'AUC')"
            ]
          },
          "metadata": {
            "tags": []
          },
          "execution_count": 8
        },
        {
          "output_type": "display_data",
          "data": {
            "image/png": "[encoded data removed]",
            "text/plain": [
              "<Figure size 864x432 with 1 Axes>"
            ]
          },
          "metadata": {
            "tags": [],
            "needs_background": "light"
          }
        }
      ]
    },
    {
      "cell_type": "markdown",
      "metadata": {
        "id": "klBMiYtAXr-2"
      },
      "source": [
        "### Sensitivity (true positive rate or recall)\r\n",
        "Note that this assumes that your minority class is labelled the 'positive' class. This is most conventional for imbalanced learning scenarios.\r\n",
        "\r\n",
        "We can also zone in on the minority class and focus on if it was accurately predicted. Sensitivity (aka true positive rate or recall) is an example of such a metric. It is calculated by evaluating: Number of True Positive / (Number of True Positive + Number of False Negative). In words, it is the number of correctly classified minority class samples over all minority class samples.\r\n",
        "\r\n",
        "As we can see in the graph below, there is a lot of volatility in the graph at the beginning when there are few of the minority class to begin with. As the number in the minority class grows, we see that the TPR shows growth as well.\r\n",
        "\r\n",
        "You could also consider the use of a metric like the G-Mean:\r\n",
        "\r\n",
        "$$ \\sqrt{\\frac{TP}{TP+FN} \\cdot  \\frac{TN}{TN+FP}} $$\r\n",
        "\r\n",
        "Or even the F-measure ( $ \\beta $ is a weight to adjust):\r\n",
        "\r\n",
        "$$ \\sqrt{\\frac{(1+\\beta)^2 \\cdot \\text{Recall} \\cdot \\text{Precision}} {\\text{Recall} \\cdot \\text{Precision}}} $$\r\n",
        "\r\n",
        "These metrics evaluate the efficacy of the model to classify both classes.\r\n"
      ]
    },
    {
      "cell_type": "code",
      "metadata": {
        "colab": {
          "base_uri": "https://localhost:8080/",
          "height": 420
        },
        "id": "TWC42oqZXr-2",
        "outputId": "f96d835c-3bdb-4821-9890-7ce99499e445"
      },
      "source": [
        "plt.plot(minority_num, tpr_list)\r\n",
        "plt.title('Sensitivity as Imbalance Decreases')\r\n",
        "plt.xlabel('Number Class 1 of 2000 observations')\r\n",
        "plt.ylabel('Sensitivity')"
      ],
      "execution_count": null,
      "outputs": [
        {
          "output_type": "execute_result",
          "data": {
            "text/plain": [
              "Text(0, 0.5, 'Sensitivity')"
            ]
          },
          "metadata": {
            "tags": []
          },
          "execution_count": 9
        },
        {
          "output_type": "display_data",
          "data": {
            "image/png": "[encoded data removed]",
            "text/plain": [
              "<Figure size 864x432 with 1 Axes>"
            ]
          },
          "metadata": {
            "tags": [],
            "needs_background": "light"
          }
        }
      ]
    },
    {
      "cell_type": "markdown",
      "metadata": {
        "id": "HDsGGy8zXr-2"
      },
      "source": [
        "### Remedying class imbalance via resampling\n",
        "We introduced *resampling* as one model-agnostic way to address class imbalance. The function of simple under/oversampling is trivial. So let us focus on slightly more sophisticated resampling techniques. The *SMOTE* algorithm is clearly one of the best-known strategies. It is widely used in the industry and considered as a benchmark approach to new imbalanced learners in virtually any academic paper. So, let's take a deep-dive into SMOTE.\n",
        "\n",
        "Let's switch over to our HMEQ dataset in order to do this."
      ]
    },
    {
      "cell_type": "code",
      "metadata": {
        "colab": {
          "base_uri": "https://localhost:8080/"
        },
        "id": "juemVuSaXr-3",
        "outputId": "4a49e2a1-1b66-42d2-bc0f-a6fa28b0340c"
      },
      "source": [
        "# Load the data for this tutorial directly from GitHub\n",
        "data_url = 'https://raw.githubusercontent.com/Humboldt-WI/bads/master/data/hmeq_modeling.csv'\n",
        "\n",
        "df = pd.read_csv(data_url, index_col='index')\n",
        "\n",
        "# Extract target variable and feature matrix \n",
        "X = df.drop(['BAD'], axis=1) \n",
        "y = df[['BAD']].values\n",
        "\n",
        "# Create training and test set\n",
        "X_train, X_test, y_train, y_test = train_test_split(X, y, test_size=0.3, random_state = rnd_state)  # 30% of the data as hold-out\n",
        "\n",
        "# Make yourself familiar with these vectors\n",
        "print('Shape of the data ', y_train.shape, X_train.shape, y_test.shape, X_test.shape)"
      ],
      "execution_count": null,
      "outputs": [
        {
          "output_type": "stream",
          "text": [
            "Shape of the data  (4172, 1) (4172, 18) (1788, 1) (1788, 18)\n"
          ],
          "name": "stdout"
        }
      ]
    },
    {
      "cell_type": "code",
      "metadata": {
        "colab": {
          "base_uri": "https://localhost:8080/"
        },
        "id": "hhnWJqskXr-3",
        "outputId": "503213b2-bde6-4c59-e88c-56e27ad170fa"
      },
      "source": [
        " # Check data imbalance to reveal a ratio of approx 4:1\r\n",
        " np.unique(y, return_counts=True)"
      ],
      "execution_count": null,
      "outputs": [
        {
          "output_type": "execute_result",
          "data": {
            "text/plain": [
              "(array([False,  True]), array([4771, 1189]))"
            ]
          },
          "metadata": {
            "tags": []
          },
          "execution_count": 11
        }
      ]
    },
    {
      "cell_type": "markdown",
      "metadata": {
        "id": "IB7-KMfXXr-3"
      },
      "source": [
        "## SMOTE from scratch\r\n",
        "\r\n",
        "SMOTE or Synthetic Minority Oversampling Technique finds two examples of the minority class which are close in the feature space. SMOTE then places a newly generated sample with a minority class label in between the two examples. Remember that with most other forms of data manipulation, you want to perform this step only on the training data after the data has been split. This ensures that the test set remains as similar to regular data as possible.\r\n",
        "\r\n",
        "This version of SMOTE will be slightly simpler. Instead of finding a place in the hyperplane between existing observations, it finds the 5 nearest neighbors then uses those nearest neighors' feature values as potential values for respective features of the newly generated sample. This code is inspired by the following [medium article by Breya Walker](https://medium.com/@breya.heysoftware/synthetic-minority-over-sampling-technique-smote-from-scratch-e1167f788434)."
      ]
    },
    {
      "cell_type": "code",
      "metadata": {
        "id": "JWBkm6A1Xr-3"
      },
      "source": [
        "class smote:\r\n",
        "\r\n",
        "    def __init__(self, data, target):\r\n",
        "        self.data = data\r\n",
        "        self.target = target\r\n",
        "        self.data_head = df.head()\r\n",
        "\r\n",
        "    def check_imbalance(self, verbose=True):\r\n",
        "        (vals, val_counts) = np.unique(self.target, return_counts=True)\r\n",
        "        assert val_counts.size == 2, 'Target must be binary'\r\n",
        "        diff = max(val_counts) - min(val_counts)\r\n",
        "        min_class = vals[np.argmin(val_counts)]\r\n",
        "        imb_ratio = max(val_counts) / min(val_counts)\r\n",
        "        if verbose:\r\n",
        "            print ('There are ', max(val_counts),\r\n",
        "                   ' in the majority class and ', min(val_counts), ' in the minority class.')\r\n",
        "            print ('The imbalance ratio is', imb_ratio)\r\n",
        "            print ('The minority class has the label', min_class)\r\n",
        "        return (diff, min_class)  # returns minority class label and difference in size between classes\r\n",
        "\r\n",
        "    def isolate_minority(self):\r\n",
        "        diff, min_class = self.check_imbalance(verbose=False)\r\n",
        "        min_index, _ = np.where(self.target == min_class)\r\n",
        "        data_min = self.data.iloc[min_index, :].copy()\r\n",
        "        return data_min  # returns df of only the minority class\r\n",
        "\r\n",
        "    def minority_nearest_neighbor(self):\r\n",
        "        data_min = self.isolate_minority()\r\n",
        "\r\n",
        "        nbs = NearestNeighbors(n_neighbors=5, metric='euclidean',\r\n",
        "                               algorithm='kd_tree').fit(data_min)\r\n",
        "        (distance, neighbors) = nbs.kneighbors(data_min)\r\n",
        "        return neighbors\r\n",
        "\r\n",
        "    def generate_minority_samples(self):\r\n",
        "        data_min = self.isolate_minority()\r\n",
        "        npdata_min = np.array(data_min)\r\n",
        "\r\n",
        "        neighbors = self.minority_nearest_neighbor()\r\n",
        "\r\n",
        "        generated_samples = []\r\n",
        "\r\n",
        "        for neighbor in range(len(neighbors)):\r\n",
        "            neighbor_data = npdata_min[neighbors[neighbor]]  # Put neighbor data for each sample in a df\r\n",
        "            neighbor_data = pd.DataFrame(neighbor_data)\r\n",
        "            generated_samples.append([])\r\n",
        "\r\n",
        "            for col in range(len(neighbor_data.columns)):\r\n",
        "                # Generate new sample by randomly choosing feature value from neighbors\r\n",
        "                generated_samples[neighbor].append(random.choice(neighbor_data[col]))  \r\n",
        "\r\n",
        "        return generated_samples\r\n",
        "\r\n",
        "    def fix_imbalance(self):\r\n",
        "        (diff, min_class) = self.check_imbalance(verbose=False)\r\n",
        "        neighbors = self.minority_nearest_neighbor()\r\n",
        "\r\n",
        "        data_min = self.isolate_minority()\r\n",
        "        npdata_min = np.array(data_min)\r\n",
        "\r\n",
        "        # Find rough number of times to generate new samples by dividing difference by minority class size\r\n",
        "\r\n",
        "        repeat_num = round(diff / data_min.shape[0])\r\n",
        "\r\n",
        "        generated_samples = []\r\n",
        "\r\n",
        "        # Repeat data generation for the number of repeat times\r\n",
        "\r\n",
        "        for i in range(1, repeat_num):\r\n",
        "            new_sample = self.generate_minority_samples()\r\n",
        "            generated_samples = generated_samples + new_sample\r\n",
        "\r\n",
        "        # Prepare new index to newly generated samples\r\n",
        "\r\n",
        "        max_data_ind = max(self.data.index)\r\n",
        "        final_max = max_data_ind + len(generated_samples)\r\n",
        "        new_ind = np.arange(max_data_ind, final_max)\r\n",
        "\r\n",
        "        # Create new dataframe with generated samples\r\n",
        "\r\n",
        "        generated_samples = pd.DataFrame(generated_samples,\r\n",
        "                columns=X_train.columns, index=new_ind + 1)\r\n",
        "        generated_samples.drop_duplicates(keep='first', inplace=True)\r\n",
        "\r\n",
        "        # Join new samples with original data\r\n",
        "\r\n",
        "        new_data = pd.concat([self.data, generated_samples])\r\n",
        "\r\n",
        "        # Generate y with correct length\r\n",
        "\r\n",
        "        new_target = np.append(self.target, np.ones([1, generated_samples.shape[0]]))\r\n",
        "\r\n",
        "        return (new_data, new_target)"
      ],
      "execution_count": null,
      "outputs": []
    },
    {
      "cell_type": "code",
      "metadata": {
        "id": "kIZzRL-JXr-4"
      },
      "source": [
        "# Generate the smote object and then fix the imbalance in the data\r\n",
        "smote = smote(data=X_train, target=y_train)\r\n",
        "X_train_smote, y_train_smote = smote.fix_imbalance()"
      ],
      "execution_count": null,
      "outputs": []
    },
    {
      "cell_type": "code",
      "metadata": {
        "colab": {
          "base_uri": "https://localhost:8080/"
        },
        "id": "se4ci1lrXr-4",
        "outputId": "f594659c-a4fa-48f0-cf0f-3fc72757cf5b"
      },
      "source": [
        "# Fit a model with the regular data as the naive model for comparison\r\n",
        "\r\n",
        "clf = LogisticRegressionCV(cv=5, random_state=rnd_state, fit_intercept=True).fit(X_train, np.ravel(y_train))\r\n",
        "y_pred = clf.predict(X_test)\r\n",
        "  \r\n",
        "acc = metrics.accuracy_score(y_test, y_pred)\r\n",
        "  \r\n",
        "fpr, tpr, thresholds = metrics.roc_curve(y_test, y_pred, pos_label=1)\r\n",
        "auc = metrics.auc(fpr, tpr)\r\n",
        "\r\n",
        "min_freq = y_pred.sum()/len(y_pred) * 100\r\n",
        "\r\n",
        "print('The total accuracy is {:.2f}'.format(acc))\r\n",
        "print('The model predicted the minority class {:.2f}'.format(min_freq), '% of the time')\r\n",
        "print('The AUC is {:.2f}'.format(auc))\r\n",
        "print('The sensitivity for the model is {:.2f}'.format(tpr[1]))"
      ],
      "execution_count": null,
      "outputs": [
        {
          "output_type": "stream",
          "text": [
            "The total accuracy is 0.84\n",
            "The model predicted the minority class 8.84 % of the time\n",
            "The AUC is 0.64\n",
            "The sensitivity for the model is 0.31\n"
          ],
          "name": "stdout"
        }
      ]
    },
    {
      "cell_type": "code",
      "metadata": {
        "colab": {
          "base_uri": "https://localhost:8080/"
        },
        "id": "--eE1LYdXr-4",
        "outputId": "afb8cfc8-1b77-47b9-b6a3-52b1e2e1dc13"
      },
      "source": [
        "# Fit a regression with rebalanced data\r\n",
        "clf = LogisticRegressionCV(cv=5, random_state=rnd_state, fit_intercept=True).fit(X_train_smote, y_train_smote)\r\n",
        "y_pred = clf.predict(X_test)\r\n",
        "  \r\n",
        "acc_smote = metrics.accuracy_score(y_test, y_pred)\r\n",
        "  \r\n",
        "fpr_smote, tpr_smote, thresholds = metrics.roc_curve(y_test, y_pred, pos_label=1)\r\n",
        "auc_smote = metrics.auc(fpr_smote, tpr_smote)\r\n",
        "\r\n",
        "min_freq = y_pred.sum()/len(y_pred) * 100\r\n",
        "\r\n",
        "print('The total accuracy is {:.2f}'.format(acc_smote))\r\n",
        "print('The model predicted the minority class {:.2f}'.format(min_freq), '% of the time')\r\n",
        "print('The AUC is {:.2f}'.format(auc_smote))\r\n",
        "print('The sensitivity for the model is {:.2f}'.format(tpr_smote[1]))"
      ],
      "execution_count": null,
      "outputs": [
        {
          "output_type": "stream",
          "text": [
            "The total accuracy is 0.78\n",
            "The model predicted the minority class 25.73 % of the time\n",
            "The AUC is 0.71\n",
            "The sensitivity for the model is 0.60\n"
          ],
          "name": "stdout"
        }
      ]
    },
    {
      "cell_type": "markdown",
      "metadata": {
        "id": "NWIiMez63SDq"
      },
      "source": [
        "We can see that overall, accuracy lowered which was expected. The naive model predicts the minority class 3x less than the model which is rebalanced by our version of SMOTE. We also see that the AUC and sensitivity both increase thanks to rebalancing. Through these metrics, it is clear that addressing the imbalance problem clearly has an effect on the classifier's performance."
      ]
    },
    {
      "cell_type": "markdown",
      "metadata": {
        "id": "N6uJ9m7wXr-5"
      },
      "source": [
        "## Libraries for imbalanced learning\n",
        "\n",
        "Now let's take a look at the options available to you through the libraries that exist. One of the most useful libraries for dealing with imbalanced data sets is `imblearn` whose documentation you can view [here](https://imbalanced-learn.org/stable/user_guide.html).\n",
        "\n",
        "We will continue to use the HMEQ data set for this. We have already shown that the sensitivity increases quite a bit once we implement some measure to fix the imbalance. Note that overall accuracy decreases are again normal when the classifier is trained on highly imbalanced data (it will classify everything as the majority class and most predictions will be correct). \n"
      ]
    },
    {
      "cell_type": "markdown",
      "metadata": {
        "id": "2fFDhCmG9gC1"
      },
      "source": [
        "### Undersampling\r\n",
        "\r\n",
        "One option for fixing our imbalanced data is to take less observations from the majority class so that the number observations in each class are equal. This is called undersampling. This should be done with caution as we will be discarding quite a lot of observations if there is a heavy imbalance. Ignoring these observations could cause the model to lose quite a lot of information."
      ]
    },
    {
      "cell_type": "code",
      "metadata": {
        "colab": {
          "base_uri": "https://localhost:8080/"
        },
        "id": "ujzCuzTUXr-5",
        "outputId": "dbb79e72-6c22-4e1b-93e1-ba884ec163a3"
      },
      "source": [
        "from imblearn.under_sampling import RandomUnderSampler\r\n",
        "\r\n",
        "rus = RandomUnderSampler(random_state=rnd_state,\r\n",
        "                         sampling_strategy='majority')\r\n",
        "(X_resampled, y_resampled) = rus.fit_resample(X_train, y_train)\r\n",
        "\r\n",
        "clf = LogisticRegressionCV(cv=5, random_state=rnd_state,\r\n",
        "                           fit_intercept=True).fit(X_resampled, np.ravel(y_resampled))\r\n",
        "y_pred = clf.predict(X_test)\r\n",
        "\r\n",
        "acc = metrics.accuracy_score(y_test, y_pred)\r\n",
        "\r\n",
        "(fpr, tpr, thresholds) = metrics.roc_curve(y_test, y_pred, pos_label=1)\r\n",
        "auc = metrics.auc(fpr, tpr)\r\n",
        "\r\n",
        "min_freq = y_pred.sum()/len(y_pred) * 100\r\n",
        "\r\n",
        "print('The model predicted the minority class {:.2f}'.format(min_freq), '% of the time')\r\n",
        "print('The AUC is {:.2f}'.format(auc))\r\n",
        "print('The sensitivity for the model is {:.2f}'.format(tpr[1]))\r\n",
        "\r\n",
        "warnings.simplefilter(action='ignore', category=FutureWarning)"
      ],
      "execution_count": null,
      "outputs": [
        {
          "output_type": "stream",
          "text": [
            "/usr/local/lib/python3.6/dist-packages/sklearn/externals/six.py:31: FutureWarning: The module is deprecated in version 0.21 and will be removed in version 0.23 since we've dropped support for Python 2.7. Please rely on the official version of six (https://pypi.org/project/six/).\n",
            "  \"(https://pypi.org/project/six/).\", FutureWarning)\n",
            "/usr/local/lib/python3.6/dist-packages/sklearn/utils/deprecation.py:144: FutureWarning: The sklearn.neighbors.base module is  deprecated in version 0.22 and will be removed in version 0.24. The corresponding classes / functions should instead be imported from sklearn.neighbors. Anything that cannot be imported from sklearn.neighbors is now part of the private API.\n",
            "  warnings.warn(message, FutureWarning)\n",
            "/usr/local/lib/python3.6/dist-packages/sklearn/utils/deprecation.py:87: FutureWarning: Function safe_indexing is deprecated; safe_indexing is deprecated in version 0.22 and will be removed in version 0.24.\n",
            "  warnings.warn(msg, category=FutureWarning)\n"
          ],
          "name": "stderr"
        },
        {
          "output_type": "stream",
          "text": [
            "The model predicted the minority class 34.51 % of the time\n",
            "The AUC is 0.71\n",
            "The sensitivity for the model is 0.69\n"
          ],
          "name": "stdout"
        }
      ]
    },
    {
      "cell_type": "markdown",
      "metadata": {
        "id": "1ElUsSXRXr-5"
      },
      "source": [
        "### Oversampling\r\n",
        "\r\n",
        "Instead of drawing less observations from the majority class, we could instead reduplicate instances of the minority class. If draw these minority observations multiple times at random, this is called random oversampling. This method of correcting imbalance works since there is now a larger penalty for getting minority class instances wrong (as there are simply more of them in the dataset). However, it must be used with caution as it can cause overfitting since it does not explore the potential feature space of the minority class any further."
      ]
    },
    {
      "cell_type": "code",
      "metadata": {
        "colab": {
          "base_uri": "https://localhost:8080/"
        },
        "id": "8mIcVOnXXr-5",
        "outputId": "35792a9f-113c-4e2f-ff53-0ee93d182ade"
      },
      "source": [
        "from imblearn.over_sampling import RandomOverSampler\r\n",
        "\r\n",
        "ros = RandomOverSampler(random_state=rnd_state, sampling_strategy='minority')\r\n",
        "X_resampled, y_resampled = ros.fit_resample(X_train, np.ravel(y_train))\r\n",
        "\r\n",
        "clf = LogisticRegressionCV(cv=5, random_state=rnd_state, fit_intercept=True).fit(X_resampled, np.ravel(y_resampled))\r\n",
        "y_pred = clf.predict(X_test)\r\n",
        "  \r\n",
        "acc = metrics.accuracy_score(y_test, y_pred)\r\n",
        "  \r\n",
        "fpr, tpr, thresholds = metrics.roc_curve(y_test, y_pred, pos_label=1)\r\n",
        "auc = metrics.auc(fpr, tpr)\r\n",
        "\r\n",
        "min_freq = y_pred.sum()/len(y_pred) * 100\r\n",
        "\r\n",
        "print('The model predicted the minority class {:.2f}'.format(min_freq), '% of the time')\r\n",
        "print('The AUC is {:.2f}'.format(auc))\r\n",
        "print('The sensitivity for the model is {:.2f}'.format(tpr[1]))\r\n",
        "\r\n",
        "warnings.simplefilter(action='ignore', category=FutureWarning)"
      ],
      "execution_count": null,
      "outputs": [
        {
          "output_type": "stream",
          "text": [
            "The model predicted the minority class 32.21 % of the time\n",
            "The AUC is 0.73\n",
            "The sensitivity for the model is 0.69\n"
          ],
          "name": "stdout"
        }
      ]
    },
    {
      "cell_type": "markdown",
      "metadata": {
        "id": "ZkkwGA1YXr-6"
      },
      "source": [
        "### SMOTE\r\n",
        "Let's now try SMOTE using `imblearn`. This algorithm is more complex than the algorithm that was created above by scratch so it should perform pretty well in comparison. Normally SMOTE will find a point in between two close samples of the minority class and generate a new minority class sample there. We can see that this is quite successful as well as random over- and undersampling.\r\n"
      ]
    },
    {
      "cell_type": "code",
      "metadata": {
        "colab": {
          "base_uri": "https://localhost:8080/"
        },
        "id": "a7iq0KyHXr-6",
        "outputId": "77447078-cf6a-4298-aa77-ab0678670358"
      },
      "source": [
        "from imblearn.over_sampling import SMOTE\r\n",
        "\r\n",
        "X_resampled, y_resampled = SMOTE().fit_resample(X_train, np.ravel(y_train))\r\n",
        "\r\n",
        "clf = LogisticRegressionCV(cv=5, random_state=rnd_state, fit_intercept=True).fit(X_resampled, np.ravel(y_resampled))\r\n",
        "y_pred = clf.predict(X_test)\r\n",
        "  \r\n",
        "acc = metrics.accuracy_score(y_test, y_pred)\r\n",
        "  \r\n",
        "fpr, tpr, thresholds = metrics.roc_curve(y_test, y_pred, pos_label=1)\r\n",
        "auc = metrics.auc(fpr, tpr)\r\n",
        "\r\n",
        "min_freq = y_pred.sum()/len(y_pred) * 100\r\n",
        "\r\n",
        "print('The model predicted the minority class {:.2f}'.format(min_freq), '% of the time')\r\n",
        "print('The AUC is {:.2f}'.format(auc))\r\n",
        "print('The sensitivity for the model is {:.2f}'.format(tpr[1]))\r\n",
        "\r\n",
        "warnings.simplefilter(action='ignore', category=FutureWarning)"
      ],
      "execution_count": null,
      "outputs": [
        {
          "output_type": "stream",
          "text": [
            "The model predicted the minority class 32.94 % of the time\n",
            "The AUC is 0.72\n",
            "The sensitivity for the model is 0.69\n"
          ],
          "name": "stdout"
        }
      ]
    },
    {
      "cell_type": "markdown",
      "metadata": {
        "id": "wWhPDsn7Xr-6"
      },
      "source": [
        "### Borderline SMOTE\r\n",
        "One potential drawback of SMOTE is that it can select instances which are outliers in the minority class. In the worst case scenario, this can generate minority class samples which add to these outliers and mislead the algorithm into classifying samples nearby as minority samples when they should be clasisfied as majority class samples. This is fixed by borderline SMOTE which does not perform SMOTE on any points wihch are too close to the border between the majority class and the minority class. We can see that neither the AUC nor sensitivity changed for our scenario, so it may not be the best choice in this case. However, you should take a look at the other options for SMOTE and test them out to see if they perform better in your situation."
      ]
    },
    {
      "cell_type": "code",
      "metadata": {
        "colab": {
          "base_uri": "https://localhost:8080/"
        },
        "id": "x3jme4WkXr-6",
        "outputId": "8c0943ad-9610-4e3e-964a-346064fc29a9"
      },
      "source": [
        "from imblearn.over_sampling import BorderlineSMOTE\r\n",
        "\r\n",
        "X_resampled, y_resampled = BorderlineSMOTE().fit_resample(X_train, np.ravel(y_train))\r\n",
        "\r\n",
        "clf = LogisticRegressionCV(cv=5, random_state=rnd_state, fit_intercept=True).fit(X_resampled, np.ravel(y_resampled))\r\n",
        "y_pred = clf.predict(X_test)\r\n",
        "  \r\n",
        "acc = metrics.accuracy_score(y_test, y_pred)\r\n",
        "  \r\n",
        "fpr, tpr, thresholds = metrics.roc_curve(y_test, y_pred, pos_label=1)\r\n",
        "auc = metrics.auc(fpr, tpr)\r\n",
        "\r\n",
        "min_freq = y_pred.sum()/len(y_pred) * 100\r\n",
        "\r\n",
        "print('The model predicted the minority class {:.2f}'.format(min_freq), '% of the time')\r\n",
        "print('The AUC is {:.2f}'.format(auc))\r\n",
        "print('The sensitivity for the model is {:.2f}'.format(tpr[1]))\r\n",
        "\r\n",
        "warnings.simplefilter(action='ignore', category=FutureWarning)"
      ],
      "execution_count": null,
      "outputs": [
        {
          "output_type": "stream",
          "text": [
            "The model predicted the minority class 33.72 % of the time\n",
            "The AUC is 0.72\n",
            "The sensitivity for the model is 0.68\n"
          ],
          "name": "stdout"
        }
      ]
    },
    {
      "cell_type": "markdown",
      "metadata": {
        "id": "gCSBBP5uZoLs"
      },
      "source": [
        "These are some of the major ways to deal with class imbalance, however there are other functions in this library which can help you achieve your goal. You can explore more ways to deal with resampling techniques by going through the [documentation](https://imbalanced-learn.org/stable/user_guide.html) of `imblearn`. However, resampling techniques are just one way to deal with this problem. We can also consider the idea of incorporating more penalties for misclassifying the minority class which we will explore next."
      ]
    },
    {
      "cell_type": "markdown",
      "metadata": {
        "id": "X7zH8aoOEj0v"
      },
      "source": [
        "# Cost-sensitive learning\n",
        "Class imbalance and cost-sensitive learning are often linked. In the previous chapter, we discussed how class imbalance is one group being outnumbered by another which is also often the more relevant group for the analysis. Cost-sensitive learning can be seen as an extension of class imbalance in many cases. This is because wrong predictions for the minority class often also come at a higher cost. We can expand on one of our previous examples to explain this.\n",
        "\n",
        "We already mentioned a theoretical data set on cancer. As we can imagine, most medical screenings for cancer are negative. This imbalance will therefore be present in most of these data sets. However, it comes at a much greater cost to predict a false negative case (wrongly predicting a person does not have cancer) than a false positive (wrongly a predicting does have cancer). In the first scenario, where we fail to correctly diagnose a person has cancer, the cost is very high, as it can even lead to death if it remains undetected. On the other hand, wrongly predicting someone does have cancer, when they are actually healthy, probably comes at a lower cost of causing stress.\n",
        "\n",
        "This also applies well to the scenario of credit scoring. A false negative predicting (predicting someone won't default, when they will) comes at a higher cost. It can be as high as losing the total value of the loan. Less impactful is a false positive, where we chose to not give a loan to a person, even though they would not have defaulted. Here, we might miss out on the interest rate that we could have charged.\n",
        "\n",
        "**Be attentive when referring to FP, FN, TP & TN in this scenario. It depends on how your data is labeled. Our dataset contains the label 1 as *default*.** \n",
        "\n",
        "In the lecture, we have discussed the link between cost-sensitive learning and the cost-matrix. Recall that we derive the cost-matrix from the corresponding cost-benefit matrix. We do this by assuming, without loss of generality, that the cost for correct classifications is zero. Furthermore, it is important to note that a cost-matrix does not have to contain the actual cost of wrong predictions, but the ratio. There are several ways to compute such a cost-matrix. In a real world setting you would hope to establish the cost-matrix with domain knowledge and, ideally, data-based information.\n",
        "\n",
        "For this data set, we assume that the cost of a false positive prediction is the loss of the complete value of the loan. This is an assumption we make for simplicity. Furthermore, the cost of a false negative prediction is the loss of interest we would have made on the loan if we did not decline the loan application. When converting the data accordingly, we come to an average ratio of roughly 1:32 (FN:FP). This means that one false positive prediction (giving a loan to a person who will default) costs the bank the same amount as making 32 false negative predictions (not giving a loan to a person, who would have not defaulted). We implement these numbers for our cost-matrix as shown by [Elkan (2001)](http://web.cs.iastate.edu/~honavar/elkan.pdf):\n"
      ]
    },
    {
      "cell_type": "code",
      "metadata": {
        "colab": {
          "base_uri": "https://localhost:8080/",
          "height": 104
        },
        "id": "IqicXfqAC8NJ",
        "outputId": "2785245b-b273-4a47-dd32-b68f5d0c9fd3"
      },
      "source": [
        "# Data analysis terms for each quadrant\r\n",
        "\r\n",
        "pd.DataFrame({'actual_GOOD(0)': ['TP', 'FN'], 'actual_BAD(1)': ['FP', 'TN']}, index= ['predicted_GOOD(0)', 'predicted_BAD(1)']) "
      ],
      "execution_count": null,
      "outputs": [
        {
          "output_type": "execute_result",
          "data": {
            "text/html": [
              "<div>\n",
              "<style scoped>\n",
              "    .dataframe tbody tr th:only-of-type {\n",
              "        vertical-align: middle;\n",
              "    }\n",
              "\n",
              "    .dataframe tbody tr th {\n",
              "        vertical-align: top;\n",
              "    }\n",
              "\n",
              "    .dataframe thead th {\n",
              "        text-align: right;\n",
              "    }\n",
              "</style>\n",
              "<table border=\"1\" class=\"dataframe\">\n",
              "  <thead>\n",
              "    <tr style=\"text-align: right;\">\n",
              "      <th></th>\n",
              "      <th>actual_GOOD(0)</th>\n",
              "      <th>actual_BAD(1)</th>\n",
              "    </tr>\n",
              "  </thead>\n",
              "  <tbody>\n",
              "    <tr>\n",
              "      <th>predicted_GOOD(0)</th>\n",
              "      <td>TP</td>\n",
              "      <td>FP</td>\n",
              "    </tr>\n",
              "    <tr>\n",
              "      <th>predicted_BAD(1)</th>\n",
              "      <td>FN</td>\n",
              "      <td>TN</td>\n",
              "    </tr>\n",
              "  </tbody>\n",
              "</table>\n",
              "</div>"
            ],
            "text/plain": [
              "                  actual_GOOD(0) actual_BAD(1)\n",
              "predicted_GOOD(0)             TP            FP\n",
              "predicted_BAD(1)              FN            TN"
            ]
          },
          "metadata": {
            "tags": []
          },
          "execution_count": 20
        }
      ]
    },
    {
      "cell_type": "code",
      "metadata": {
        "colab": {
          "base_uri": "https://localhost:8080/",
          "height": 104
        },
        "id": "0TvNtMgzHr1R",
        "outputId": "500a8858-0394-424d-96ae-d3e73fea5d53"
      },
      "source": [
        "# Costs associated for each quadrant\r\n",
        "\r\n",
        "pd.DataFrame({'actual_GOOD(0)': ['C(g,G)', 'C(b,G)'], 'actual_BAD(1)': ['C(g,B)', 'C(b,B)']}, index= ['predicted_GOOD(0)', 'predicted_BAD(1)'])"
      ],
      "execution_count": null,
      "outputs": [
        {
          "output_type": "execute_result",
          "data": {
            "text/html": [
              "<div>\n",
              "<style scoped>\n",
              "    .dataframe tbody tr th:only-of-type {\n",
              "        vertical-align: middle;\n",
              "    }\n",
              "\n",
              "    .dataframe tbody tr th {\n",
              "        vertical-align: top;\n",
              "    }\n",
              "\n",
              "    .dataframe thead th {\n",
              "        text-align: right;\n",
              "    }\n",
              "</style>\n",
              "<table border=\"1\" class=\"dataframe\">\n",
              "  <thead>\n",
              "    <tr style=\"text-align: right;\">\n",
              "      <th></th>\n",
              "      <th>actual_GOOD(0)</th>\n",
              "      <th>actual_BAD(1)</th>\n",
              "    </tr>\n",
              "  </thead>\n",
              "  <tbody>\n",
              "    <tr>\n",
              "      <th>predicted_GOOD(0)</th>\n",
              "      <td>C(g,G)</td>\n",
              "      <td>C(g,B)</td>\n",
              "    </tr>\n",
              "    <tr>\n",
              "      <th>predicted_BAD(1)</th>\n",
              "      <td>C(b,G)</td>\n",
              "      <td>C(b,B)</td>\n",
              "    </tr>\n",
              "  </tbody>\n",
              "</table>\n",
              "</div>"
            ],
            "text/plain": [
              "                  actual_GOOD(0) actual_BAD(1)\n",
              "predicted_GOOD(0)         C(g,G)        C(g,B)\n",
              "predicted_BAD(1)          C(b,G)        C(b,B)"
            ]
          },
          "metadata": {
            "tags": []
          },
          "execution_count": 21
        }
      ]
    },
    {
      "cell_type": "code",
      "metadata": {
        "colab": {
          "base_uri": "https://localhost:8080/",
          "height": 104
        },
        "id": "GeYvIHfX83OZ",
        "outputId": "dab4b632-1123-4260-b1c8-ab7e7fab93e1"
      },
      "source": [
        "# Cost matrix for our scenario (project-specific)\n",
        "\n",
        "cost_matrix = pd.DataFrame({'actual_GOOD(0)': [0, 1], 'actual_BAD(1)': [32, 0]}, index= ['predicted_GOOD(0)', 'predicted_BAD(1)'])\n",
        "cost_matrix"
      ],
      "execution_count": null,
      "outputs": [
        {
          "output_type": "execute_result",
          "data": {
            "text/html": [
              "<div>\n",
              "<style scoped>\n",
              "    .dataframe tbody tr th:only-of-type {\n",
              "        vertical-align: middle;\n",
              "    }\n",
              "\n",
              "    .dataframe tbody tr th {\n",
              "        vertical-align: top;\n",
              "    }\n",
              "\n",
              "    .dataframe thead th {\n",
              "        text-align: right;\n",
              "    }\n",
              "</style>\n",
              "<table border=\"1\" class=\"dataframe\">\n",
              "  <thead>\n",
              "    <tr style=\"text-align: right;\">\n",
              "      <th></th>\n",
              "      <th>actual_GOOD(0)</th>\n",
              "      <th>actual_BAD(1)</th>\n",
              "    </tr>\n",
              "  </thead>\n",
              "  <tbody>\n",
              "    <tr>\n",
              "      <th>predicted_GOOD(0)</th>\n",
              "      <td>0</td>\n",
              "      <td>32</td>\n",
              "    </tr>\n",
              "    <tr>\n",
              "      <th>predicted_BAD(1)</th>\n",
              "      <td>1</td>\n",
              "      <td>0</td>\n",
              "    </tr>\n",
              "  </tbody>\n",
              "</table>\n",
              "</div>"
            ],
            "text/plain": [
              "                   actual_GOOD(0)  actual_BAD(1)\n",
              "predicted_GOOD(0)               0             32\n",
              "predicted_BAD(1)                1              0"
            ]
          },
          "metadata": {
            "tags": []
          },
          "execution_count": 22
        }
      ]
    },
    {
      "cell_type": "markdown",
      "metadata": {
        "id": "JZ0JnvJJ_Ork"
      },
      "source": [
        "## Cost-minimal threshold\n",
        "\n",
        "Recall the following equation to define the cost-minimal cutoff:\n",
        "\n",
        "$$ p(b|x) \\geq \\tau^* =  \\frac{C(b,G)}{C(b,G) + C(g,B)} $$\n",
        "\n",
        "Using the above stated cost-matrix, the optimal cutoff for our specific matrix is:\n",
        "\n",
        "$$ p(b|x) \\geq \\tau^* =  \\frac{1}{ 32+1} $$\n",
        "\n",
        "Let's calculate this threshold:"
      ]
    },
    {
      "cell_type": "code",
      "metadata": {
        "colab": {
          "base_uri": "https://localhost:8080/"
        },
        "id": "Vj0byZLTEnDC",
        "outputId": "edfc8281-6b7a-4c02-ec30-134107ec3627"
      },
      "source": [
        "# Bayes optimal threshold\n",
        "threshold_bayes = (cost_matrix.iloc[1,0]               # C(b,G)\n",
        "                   /(cost_matrix.iloc[1,0]             # C(b,G)\n",
        "                     +cost_matrix.iloc[0,1])).round(5) # C(g,B)\n",
        "threshold_bayes"
      ],
      "execution_count": null,
      "outputs": [
        {
          "output_type": "execute_result",
          "data": {
            "text/plain": [
              "0.0303"
            ]
          },
          "metadata": {
            "tags": []
          },
          "execution_count": 23
        }
      ]
    },
    {
      "cell_type": "markdown",
      "metadata": {
        "id": "MJmQUImRIiPn"
      },
      "source": [
        "Now that we have defined this cutoff, we need to establish the corresponding class predictions. For comparison, we will also calculate the class predictions of the default cutoff: 0.5. "
      ]
    },
    {
      "cell_type": "code",
      "metadata": {
        "colab": {
          "base_uri": "https://localhost:8080/"
        },
        "id": "aShOa0DDGbMf",
        "outputId": "d03bff1e-941c-4661-95d3-723bf36ab21c"
      },
      "source": [
        "# Train a model and get probaility predictions\n",
        "clf = LogisticRegression(penalty='none', fit_intercept=True).fit(X_train, y_train.ravel())\n",
        "pred_proba = clf.predict_proba(X_test)[:,1]\n",
        "\n",
        "# Use the array above to manually determine the cut-off and convert to class predictions\n",
        "pred_default = np.where(pred_proba >= 0.5, 1, 0) # 0.5 is the default cut-off, equivalant to y_pred from above\n",
        "pred_bayes= np.where(pred_proba >= threshold_bayes, 1, 0) # Using the cut-off defined by the cost-minimal threshold function\n",
        "print(np.mean(pred_default), np.mean(pred_bayes)) # Shows the percentage of observations that are now predicted with the label 1, default"
      ],
      "execution_count": null,
      "outputs": [
        {
          "output_type": "stream",
          "text": [
            "0.0883668903803132 0.9457494407158836\n"
          ],
          "name": "stdout"
        }
      ]
    },
    {
      "cell_type": "markdown",
      "metadata": {
        "id": "nK3QXk_wI9V0"
      },
      "source": [
        "## Evaluating cost-sensitive classifiers\n",
        "It is important understand that for cost-sensitive classifiers, the methods we have learnt so far do not suffice. This part of the tutorial will elaborate on the limitations of our usual model evaluation techniques for cost-sensitive scenarios like ours and propose a different method to quantify the performance of cost-sensitive methods.\n",
        "\n",
        "As we are working with distinct class predictions, a ROC curve is not an option, as this compares the true positive and true negative rate over all cutoffs. This means, we could work with accuracy, sensitivity and specificity. \n",
        "Let's see how the different cut-offs perform in terms of accuracy:"
      ]
    },
    {
      "cell_type": "code",
      "metadata": {
        "colab": {
          "base_uri": "https://localhost:8080/"
        },
        "id": "CcKills8XQxL",
        "outputId": "bd75ab0a-7dc2-4605-d747-37b9746b501f"
      },
      "source": [
        "from sklearn.metrics import accuracy_score\n",
        "print(\"The accuracy of the model using the default cutoff is: {}\".format(accuracy_score(y_test, pred_default)))\n",
        "print(\"The accuracy of the model using the cost-minimal cutoff is: {}\".format(accuracy_score(y_test, pred_bayes)))"
      ],
      "execution_count": null,
      "outputs": [
        {
          "output_type": "stream",
          "text": [
            "The accuracy of the model using the default cutoff is: 0.8361297539149888\n",
            "The accuracy of the model using the cost-minimal cutoff is: 0.25279642058165547\n"
          ],
          "name": "stdout"
        }
      ]
    },
    {
      "cell_type": "markdown",
      "metadata": {
        "id": "TCQFqDaAgudg"
      },
      "source": [
        "The accuracy for the cost-minimal cutoff is only about 20%. While usually we would reject this model, we will find, that this cutoff is an improvement to the default cutoff. We can also visualize the the cutoffs on the ROC curve to give you a better idea of the specificity and sensitivity of the different cutoffs. For this, we use a function from a solution to excercise 6. Here we calculate the corresponding FPR and TPR for a specific cutoff."
      ]
    },
    {
      "cell_type": "code",
      "metadata": {
        "id": "iEDKVwjLYz6O"
      },
      "source": [
        "# Calculating fpr and tpr manually at a given cutoff\n",
        "# We will use this function to plot markers at distinct point across our line graph to see where the different cutoffs are along the graph\n",
        "def tpr_fpr_calc(cutoff, yhat_prob, y_true):\n",
        "\n",
        "    # temp variable giving distinct predictions based on the cutoff given as an input\n",
        "    temp = (yhat_prob >= cutoff).astype(bool)\n",
        "\n",
        "    # Create confusion matrix for this prediction\n",
        "    cmat = metrics.confusion_matrix(y_true, temp)\n",
        "    \n",
        "    # Calculate FPR\n",
        "    fpr = cmat[0,1] / (cmat[0,1] + cmat[0,0])\n",
        "\n",
        "    # Calculate TPR\n",
        "    tpr = cmat[1,1] / (cmat[1,1] + cmat[1,0])\n",
        "\n",
        "    return tpr, fpr"
      ],
      "execution_count": null,
      "outputs": []
    },
    {
      "cell_type": "code",
      "metadata": {
        "id": "CgkXQCN4jIGL"
      },
      "source": [
        "# Calculate all FPRs and TPRs for the LogitCV model\n",
        "fpr, tpr, _ = metrics.roc_curve(y_test, pred_proba, pos_label=1)\n",
        "\n",
        "# Calculate TPR and FPR for both cutoffs\n",
        "tpr_bayes, fpr_bayes = tpr_fpr_calc(threshold_bayes, pred_proba, y_test)\n",
        "tpr_default, fpr_default = tpr_fpr_calc(0.5, pred_proba, y_test)"
      ],
      "execution_count": null,
      "outputs": []
    },
    {
      "cell_type": "code",
      "metadata": {
        "colab": {
          "base_uri": "https://localhost:8080/",
          "height": 388
        },
        "id": "Y_49fmsEYfY3",
        "outputId": "202cada2-dfb6-44c5-b540-390d185043f1"
      },
      "source": [
        "# Plot ROC curve and mark cutoffs on the curve\n",
        "plt.plot(fpr, tpr, label = \"ROC curve\")\n",
        "plt.plot(fpr_default, tpr_default, marker=\"x\", markersize=20, label =\"0.5 cutoff\")\n",
        "plt.plot(fpr_bayes, tpr_bayes, marker=\"x\", markersize=20,  label =\"Cost-minimal cutoff\")\n",
        "plt.xlabel(\"1-Specificity\")\n",
        "plt.ylabel(\"Sensitivity\")\n",
        "plt.legend();"
      ],
      "execution_count": null,
      "outputs": [
        {
          "output_type": "display_data",
          "data": {
            "image/png": "[encoded data removed]",
            "text/plain": [
              "<Figure size 864x432 with 1 Axes>"
            ]
          },
          "metadata": {
            "tags": [],
            "needs_background": "light"
          }
        }
      ]
    },
    {
      "cell_type": "markdown",
      "metadata": {
        "id": "uRfJe3JzW5IL"
      },
      "source": [
        "From the knowledge you have obtained in this class so far, you would say that the cutoff we calculated does not result in a good model. However, looking at the ROC curve, we can already gain more insight. \n",
        "\n",
        "Recall that sensitivity is the proportion of correctly identified positives (BAD) and specificity is the proportion of correctly identified negatives(GOOD). Since we have a ratio of 32:1 of misclassifying positives to negatives, it seems reasonable to prefer a much higher sensitivity.\n",
        "\n",
        "For the default cutoff, both specificity and sensitivity are around 0.7. Howver, the Bayes minimal cutoff shows a much higher sensitivity than specificity. This means, it is more sensitive towards correctly classifying observations of the positive class (BAD) than the regular cutoff. At the same time, the specificity is very low. From other ROC plots, we know that this is usual for cutoffs with a high sensitivity (top right corner of the plot). It also makes sense when you look at the respective cost of misclassification.\n",
        "\n",
        "Remember that **if the bank accepts 1 application from a future defaulter, this is equivalent of rejecting 32 trustworthy applicants**. Banks would therefore be ready to reject quite a few trustworthy applicants to avoid a single default. This now leads us to how we evaluate cost-sensitive models. Recall, we calculated the **cost-minimal cutoff**. This means, we have to calculate the corresponding error cost to determine which model provides the better outcome for the bank.\n",
        "\n",
        "Before we can calculate the error cost, we need to adjust our cost matrix to allow for multiplication with the confusion matrix. \n",
        "\n",
        "*Please note that we have to transpose the cost matrix to be able to multiply both matrices with each other. This is because we set up the cost-matrix following the paper [Elkan (2001)](http://web.cs.iastate.edu/~honavar/elkan.pdf). When calculating the confusion matrix in Python, however, the \"actuals\" and \"predictions\" are reversed. This is another reminder to always make sure to read the labels, as to avoid confusion. See here:*"
      ]
    },
    {
      "cell_type": "code",
      "metadata": {
        "colab": {
          "base_uri": "https://localhost:8080/",
          "height": 104
        },
        "id": "41RyD4ipfc1N",
        "outputId": "c7a3693e-25c5-4418-e2f8-baa4a8f1b0d5"
      },
      "source": [
        "cost_matrix # Note that the columns and rows have been switched with the sklearn function below"
      ],
      "execution_count": null,
      "outputs": [
        {
          "output_type": "execute_result",
          "data": {
            "text/html": [
              "<div>\n",
              "<style scoped>\n",
              "    .dataframe tbody tr th:only-of-type {\n",
              "        vertical-align: middle;\n",
              "    }\n",
              "\n",
              "    .dataframe tbody tr th {\n",
              "        vertical-align: top;\n",
              "    }\n",
              "\n",
              "    .dataframe thead th {\n",
              "        text-align: right;\n",
              "    }\n",
              "</style>\n",
              "<table border=\"1\" class=\"dataframe\">\n",
              "  <thead>\n",
              "    <tr style=\"text-align: right;\">\n",
              "      <th></th>\n",
              "      <th>actual_GOOD(0)</th>\n",
              "      <th>actual_BAD(1)</th>\n",
              "    </tr>\n",
              "  </thead>\n",
              "  <tbody>\n",
              "    <tr>\n",
              "      <th>predicted_GOOD(0)</th>\n",
              "      <td>0</td>\n",
              "      <td>32</td>\n",
              "    </tr>\n",
              "    <tr>\n",
              "      <th>predicted_BAD(1)</th>\n",
              "      <td>1</td>\n",
              "      <td>0</td>\n",
              "    </tr>\n",
              "  </tbody>\n",
              "</table>\n",
              "</div>"
            ],
            "text/plain": [
              "                   actual_GOOD(0)  actual_BAD(1)\n",
              "predicted_GOOD(0)               0             32\n",
              "predicted_BAD(1)                1              0"
            ]
          },
          "metadata": {
            "tags": []
          },
          "execution_count": 29
        }
      ]
    },
    {
      "cell_type": "code",
      "metadata": {
        "colab": {
          "base_uri": "https://localhost:8080/",
          "height": 404
        },
        "id": "WCJ6yw2Rfc1e",
        "outputId": "b6659b4c-0823-43c7-b645-c768afa8afaa"
      },
      "source": [
        "from sklearn import metrics \n",
        "metrics.plot_confusion_matrix(clf, X_test, y_test,  cmap=plt.cm.Blues, values_format='d') # Columns and rows have been transposed compared to above"
      ],
      "execution_count": null,
      "outputs": [
        {
          "output_type": "execute_result",
          "data": {
            "text/plain": [
              "<sklearn.metrics._plot.confusion_matrix.ConfusionMatrixDisplay at 0x7f6d60dcbcc0>"
            ]
          },
          "metadata": {
            "tags": []
          },
          "execution_count": 30
        },
        {
          "output_type": "display_data",
          "data": {
            "image/png": "[encoded data removed]",
            "text/plain": [
              "<Figure size 864x432 with 2 Axes>"
            ]
          },
          "metadata": {
            "tags": [],
            "needs_background": "light"
          }
        }
      ]
    },
    {
      "cell_type": "markdown",
      "metadata": {
        "id": "c5uxweg5fc1f"
      },
      "source": [
        "Since this way we cannot perfectly match each cell with the corresponding field in the cost-matrix, we transpose the matrix and then multiply both matrices with each other. Afterwards, we will calculate the corresponding error cost. For this, we have to calculate the confusion matrix for the class predictions. To make the results comparable, no matter for how many observations we calculate this error, we compute the probabilities for FN, FP, TP and TN in the confusion matrix by dividing each cell by the number of observations in the test data. \n"
      ]
    },
    {
      "cell_type": "code",
      "metadata": {
        "colab": {
          "base_uri": "https://localhost:8080/"
        },
        "id": "QwDGC-cXfqa_",
        "outputId": "dc5d3ff1-82e7-403a-ea46-b6c9a3456519"
      },
      "source": [
        "# To calculate the error cost, we need to convert our predictions into the same format as the cost-matrix\n",
        "cmat_default = metrics.confusion_matrix(y_test, pred_default)\n",
        "cmat_bayes = metrics.confusion_matrix(y_test, pred_bayes)\n",
        "\n",
        "# Calculate confusion matrix probabilities for each cell and multiply with cost-matrix to calculate the cost\n",
        "print(\"The error cost for the default cutoff is: {}\".format(np.sum(np.sum((cmat_default/len(y_test))*cost_matrix.T)))) # summarize to get total cost\n",
        "print(\"The error cost for the cost-minimal cutoff is: {}\".format(np.sum(np.sum((cmat_bayes/len(y_test))*cost_matrix.T))))"
      ],
      "execution_count": null,
      "outputs": [
        {
          "output_type": "stream",
          "text": [
            "The error cost for the default cutoff is: 4.428970917225951\n",
            "The error cost for the cost-minimal cutoff is: 0.7645413870246085\n"
          ],
          "name": "stdout"
        }
      ]
    },
    {
      "cell_type": "markdown",
      "metadata": {
        "id": "SjXKSdijM5p3"
      },
      "source": [
        "By multiplying the confusion matrix probabilities with the corresponding cell in the cost-matrix and summarizing the results, we obtain the cost related to each model. It shows why a bank would chose the cost-minimal cutoff over the default cutoff. **While we only obtained a 20% accuracy for this threshold, the default model incurs almost 3x the cost.** This also underlines why traditional evaluation metrics might not always be sufficient and the context of predictions is very important when analyzing the efficiency of a model.\n",
        "\n",
        "So we can calculate the error-cost of other cost-sensitive methods later, we save this process as a function."
      ]
    },
    {
      "cell_type": "code",
      "metadata": {
        "id": "WOY1X9OmJNn-"
      },
      "source": [
        "# Save function to calculate error-cost including option to adjust cutoff\n",
        "def calc_error_cost(y_probabilities, y_test, cutoff, cost_matrix_df):\n",
        "    pred = np.where(y_probabilities >= cutoff, 1, 0)                    # convert class probabilities into class predictions\n",
        "    cmat = metrics.confusion_matrix(y_test, pred)                       # compute corresponding confusion matrix\n",
        "    cost = (np.sum(np.sum((cmat/len(y_test))*cost_matrix.T))).round(5)  # calculate the corresponding cost\n",
        "    return [cutoff, cost]"
      ],
      "execution_count": null,
      "outputs": []
    },
    {
      "cell_type": "code",
      "metadata": {
        "id": "kwUrQdl2Ke9m"
      },
      "source": [
        "# Save the results for the method comparison at the end\n",
        "cutoff_cost_default = calc_error_cost(pred_proba, y_test, 0.5, cost_matrix)\n",
        "cutoff_cost_bayes= calc_error_cost(pred_proba, y_test, threshold_bayes, cost_matrix)"
      ],
      "execution_count": null,
      "outputs": []
    },
    {
      "cell_type": "markdown",
      "metadata": {
        "id": "atjdvNl_NCN8"
      },
      "source": [
        "## Empirical Thresholding\n",
        "\n",
        "The methods proposed by [Elkan (2001)](http://web.cs.iastate.edu/~honavar/elkan.pdf) is a theoretical approach. Another approach is to empirically tune the threshold. This means finding the threshold that gives the lowest error cost based on the given cost-matrix and data. This is similar to us searching for the cutoff with the highest accuracy score in excerice 6, just with a different intention. This time, we do not want the most accurate cutoff but the most cost-efficient cutoff. While this is a good approach, empirical tuning may be prone to overfitting as you base it on the same data set. Because of that, we use a cross-validation approach and average over all cutoffs with the lowest error-cost for each fold. Let's start by defining this function:"
      ]
    },
    {
      "cell_type": "code",
      "metadata": {
        "id": "K9Bu1BeIaHKh"
      },
      "source": [
        "# To use cross-validation we refer back to this function we defined in the model assessment tutorial\n",
        "from sklearn.utils import shuffle\n",
        "def cv_split(seq, splits):\n",
        "  return (seq[i::splits] for i in range(splits))\n",
        "\n",
        "# Define function for threshold tuning\n",
        "def lowest_error_cutoff(k, X_train_df, X_test_df, y_train_true, y_test_true, bayes_cost_matrix, y_test_probabilities):\n",
        "  cutoffs_total = [] # save best cutoff from each split here, so we can average this cutoff later\n",
        "\n",
        "  # Create a list of the index of our full data set as input, and k for the amount of splits\n",
        "  cv_split_list = list(cv_split(shuffle(X_train_df.index.values.tolist(), random_state=888), k)) \n",
        "\n",
        "  for fold, i in enumerate(cv_split_list): # for each split \n",
        "\n",
        "    temp = X_train_df.index.isin(i) # Create temp variable for data to exclude            \n",
        "    X_train_cv, y_train_cv = X_train_df.iloc[~temp], y_train_true[~temp] # Build model on all but hold out data\n",
        "    X_test_cv, y_test_cv =  X_train_df.iloc[temp], y_train_true[temp] # Test on hold out data later\n",
        "    clf.fit(X_train_cv, y_train_cv.ravel()) # Train model\n",
        "    pred_temp_prob = clf.predict_proba(X_test_cv)[:, 1] # Calculate class probabilities for current split\n",
        "\n",
        "    # Define empty variable to save all cutoffs and corresponding errors. This way we can extract the lowest one for this split later\n",
        "    cutoffs_cv = []\n",
        "    error_cost_cv = []\n",
        "\n",
        "    for j in  np.arange(0, 1, 0.001): # np.arrange(from, to, step-size)\n",
        "              pred_temp = (pred_temp_prob >= j).astype(bool) # convert probabilities to class predictions\n",
        "              cutoffs_cv.append(j) # save corresponding cutoff\n",
        "              temp_cutoff_cost = calc_error_cost(pred_temp, y_test_cv, j, bayes_cost_matrix) # calculate cost and cutoff using our previously function\n",
        "              error_cost_cv.append(temp_cutoff_cost[1]) # save error for the given cutoff\n",
        "      \n",
        "    temp_df = pd.DataFrame({\"cutoffs\":cutoffs_cv, \"error_cost\": error_cost_cv}).sort_values(\"error_cost\")  # merge cutoffs and error cost, sort from lowest to highest by error_cost\n",
        "    print(\"This is the fold number {}\".format(fold+1),\" of the cross-validation\")\n",
        "    print(\"The lowest error on the holdout data was achieved with the following cut-off: {}\".format(temp_df.iloc[0].values[0]))\n",
        "    print(\"The corresponding error cost is: {}\".format(temp_df.iloc[0].values[1]))\n",
        "    print(\"\")\n",
        "    cutoffs_total.append(temp_df.iloc[0, 0]) # save the lowest cutoff of this split to the list so we can average it at the end\n",
        "    plt.plot(temp_df.cutoffs, temp_df.error_cost) # plot cutoffs and corresponding errors\n",
        "   \n",
        "  temp_cutoff_cost= calc_error_cost(y_test_probabilities, y_test_true, np.mean(cutoffs_total).round(5), bayes_cost_matrix) # np.mean(cutoffs_total) is the resulting best cutoff from the cross validation. We calculate the corresponding error-cost on the test data set\n",
        "  plt.plot(temp_cutoff_cost[0], temp_cutoff_cost[1], marker='x', markersize=20, alpha=1, color='black', label=\"Average cutoff performance on test data\") # plot cutoff and corresponding error on test set\n",
        "  plt.title(\"Error Cost on Holdout Data by Threshold\")\n",
        "  plt.ylabel(\"Error Cost\")\n",
        "  plt.xlabel(\"Threshold\") \n",
        "\n",
        "  print(\"The best threshold according to cross-validated threshold tuning is: {}\".format(temp_cutoff_cost[0])) \n",
        "  print(\"On the test set, it has the following error cost: {}\".format(temp_cutoff_cost[1]))\n",
        "  return temp_cutoff_cost"
      ],
      "execution_count": null,
      "outputs": []
    },
    {
      "cell_type": "code",
      "metadata": {
        "colab": {
          "base_uri": "https://localhost:8080/",
          "height": 756
        },
        "id": "L5uD9reEh3n-",
        "outputId": "5af189fd-48db-48bd-e7b4-67592160f55b"
      },
      "source": [
        "# Calculate empirical threshold with 5 folds\n",
        "cutoff_cost_cv = lowest_error_cutoff(5, X_train, X_test, y_train, y_test, cost_matrix, pred_proba)"
      ],
      "execution_count": null,
      "outputs": [
        {
          "output_type": "stream",
          "text": [
            "This is the fold number 1  of the cross-validation\n",
            "The lowest error on the holdout data was achieved with the following cut-off: 0.059000000000000004\n",
            "The corresponding error cost is: 0.75808\n",
            "\n",
            "This is the fold number 2  of the cross-validation\n",
            "The lowest error on the holdout data was achieved with the following cut-off: 0.063\n",
            "The corresponding error cost is: 0.73772\n",
            "\n",
            "This is the fold number 3  of the cross-validation\n",
            "The lowest error on the holdout data was achieved with the following cut-off: 0.057\n",
            "The corresponding error cost is: 0.69784\n",
            "\n",
            "This is the fold number 4  of the cross-validation\n",
            "The lowest error on the holdout data was achieved with the following cut-off: 0.024\n",
            "The corresponding error cost is: 0.76019\n",
            "\n",
            "This is the fold number 5  of the cross-validation\n",
            "The lowest error on the holdout data was achieved with the following cut-off: 0.022\n",
            "The corresponding error cost is: 0.77578\n",
            "\n",
            "The best threshold according to cross-validated threshold tuning is: 0.045\n",
            "On the test set, it has the following error cost: 0.76286\n"
          ],
          "name": "stdout"
        },
        {
          "output_type": "display_data",
          "data": {
            "image/png": "[encoded data removed]",
            "text/plain": [
              "<Figure size 864x432 with 1 Axes>"
            ]
          },
          "metadata": {
            "tags": [],
            "needs_background": "light"
          }
        }
      ]
    },
    {
      "cell_type": "code",
      "metadata": {
        "colab": {
          "base_uri": "https://localhost:8080/"
        },
        "id": "tdnKnQbVSPMl",
        "outputId": "6892cf50-f487-4d2f-d668-f9340c129533"
      },
      "source": [
        "# Save confusion matrix for comparison later\n",
        "cmat_CV = metrics.confusion_matrix(y_test, np.where(pred_proba >=  cutoff_cost_cv[0], 1, 0)) # compute corresponding confusion matrix\n",
        "\n",
        "# Compare Bayes and CV-tuning\n",
        "\n",
        "print(\"The cutoff and cost, respectively, for the Bayes model were: {}\".format(cutoff_cost_bayes))\n",
        "print(\"The cross-validated threshold tuning approach gave us the following cutoff and cost, respectively: {}\".format(cutoff_cost_cv))"
      ],
      "execution_count": null,
      "outputs": [
        {
          "output_type": "stream",
          "text": [
            "The cutoff and cost, respectively, for the Bayes model were: [0.0303, 0.76454]\n",
            "The cross-validated threshold tuning approach gave us the following cutoff and cost, respectively: [0.045, 0.76286]\n"
          ],
          "name": "stdout"
        }
      ]
    },
    {
      "cell_type": "markdown",
      "metadata": {
        "id": "8l_17AA3h3P7"
      },
      "source": [
        "The cross-validated approach gave a slightly higher threshold for the optimal cutoff and a slightly lower error-cost. Since the model performs well on the test set,  we can see that the cutoff we found empirically also did not overfit. Due to the small difference in these numbers, there may be other factors which may lead a bank to choose a specific cutoff. For example, recall that our cost-matrix assumes 0 cost for correct predictions. Banks may also consider the benefits of correct predictions. For now, we can summarize that both approaches result in good cost performance in comparison to the default cutoff."
      ]
    },
    {
      "cell_type": "markdown",
      "metadata": {
        "id": "zVnk8u-0hgfN"
      },
      "source": [
        "## Calibration curve (reliability plot)\n",
        "\n",
        "To implement cutoff-based approaches for cost-sensitivity, we need well calibrated probability predictions. Well calibrated probability predictions are ones for which the output of `model.predict_proba()` is such that among the samples to which it gave a prediction value close to 0.8, approximately 80% actually belong to the positive class. Generally, the diagonal shows whether or not the predictions are calibrated well. Lines below the diagonal imply an over-forcast, and lines below the diagonal an under-forcast (probabilities too small). "
      ]
    },
    {
      "cell_type": "code",
      "metadata": {
        "colab": {
          "base_uri": "https://localhost:8080/",
          "height": 404
        },
        "id": "Wp9W2ozYvOrQ",
        "outputId": "f1be0794-64ba-4974-87a1-ec2864ec4ccf"
      },
      "source": [
        "# Calibration curve for LogitCV\n",
        "from sklearn.calibration import calibration_curve\n",
        "\n",
        "# Calculate calibration using calibration_curve function\n",
        "prob_true, prob_pred= calibration_curve(y_test, pred_proba, n_bins = 20)\n",
        "\n",
        "# Plot results\n",
        "plt.plot(prob_pred, prob_true, marker = '.', label = 'Logistic Regression CV')  \n",
        "plt.title(\"Calibration Plot for Logit-CV model\")\n",
        "plt.ylabel(\"True Probability per Bin\")\n",
        "plt.xlabel(\"Predicted Probability\") \n",
        "plt.plot([0, 1], [0, 1], linestyle = '--', label = 'Ideally Calibrated'); \n",
        "plt.legend();"
      ],
      "execution_count": null,
      "outputs": [
        {
          "output_type": "display_data",
          "data": {
            "image/png": "[encoded data removed]",
            "text/plain": [
              "<Figure size 864x432 with 1 Axes>"
            ]
          },
          "metadata": {
            "tags": [],
            "needs_background": "light"
          }
        }
      ]
    },
    {
      "cell_type": "markdown",
      "metadata": {
        "id": "6ou4YsIiRaNb"
      },
      "source": [
        "In this plot we can see that the logit model outputs well-calibrated probability predictions. This is because a logit model makes continuous predictions between 0 and 1. This is important when we are dealing with threshold tuning as good calibrated models are more likely to benefit from these techniques. More accurate predictions, the more difference a threshold can make. A tree model might behave differently, however. Do you have any assumptions?\n",
        "\n",
        "In the code cell below, generate a calibration curve for a tree model. How do you expect it to look? What influences the calibration of a tree model?"
      ]
    },
    {
      "cell_type": "code",
      "metadata": {
        "id": "_uPnoVUkyL12"
      },
      "source": [
        "# Repeat this task for decision tree"
      ],
      "execution_count": null,
      "outputs": []
    },
    {
      "cell_type": "markdown",
      "metadata": {
        "id": "j_VwkJyFxJuL"
      },
      "source": [
        "## The MetaCost algorithm\n",
        "\n",
        "Next we will discuss the MetaCost algorithm proposed by [Domingos (1999)](https://homes.cs.washington.edu/~pedrod/papers/kdd99.pdf). This method takes a different approach to making a model cost-sensitive. Similar to before, we do apply the Bayes minimal cutoff, but this time we use it to label our data. Basically, we train a model on the training set. We get the probability predictions for the test set for this model and apply the Bayes minimal cutoff to it. **We use this vector as our new y_train**, meaning we relabel the data. By using this cutoff, we want to achieve cost-sensitivity. For this first step it is important to use a model that is expected to give well-calibrated predictions. We then train any other model, on the data including the new labels and apply it to make predictions on the test set. Let's define this function:"
      ]
    },
    {
      "cell_type": "code",
      "metadata": {
        "id": "2QAGTZNt6WQ7"
      },
      "source": [
        "def MetaCost(X_train, X_test, y_train, relabel_model, final_model, optimal_cutoff):\n",
        "  # Use model with good calibration to predict the new labels and create probability predictions\n",
        "  temp_pred_proba_train = relabel_model.fit(X_train, y_train.ravel()).predict_proba(X_train)[:,1]\n",
        "\n",
        "  # Convert the probability predictions to class predictions using Bayes Decision Theory\n",
        "  temp_pred_class_train = np.where(temp_pred_proba_train >= optimal_cutoff, 1, 0) # These are the new class labels\n",
        "\n",
        "  # Fit a potent model to the test set, replacing our usual y_train with resulting class predictions from the last step\n",
        "  final_model.fit(X_train, temp_pred_class_train.ravel())\n",
        "\n",
        "  # Get predictions for the test set\n",
        "  temp_pred_proba_test_cs = final_model.predict_proba(X_test)[:,1]\n",
        "\n",
        "  return temp_pred_proba_test_cs"
      ],
      "execution_count": null,
      "outputs": []
    },
    {
      "cell_type": "code",
      "metadata": {
        "id": "l3a0XE8E8GMU"
      },
      "source": [
        "# Apply function \n",
        "pred_proba_MC = MetaCost(X_train, X_test, y_train, LogisticRegressionCV(), RandomForestClassifier(), threshold_bayes)\n",
        "\n",
        "# Train model with original labels and predict the test set for comparison\n",
        "pred_proba_RF = RandomForestClassifier().fit(X_train, y_train.ravel()).predict_proba(X_test)[:,1];\n",
        "\n",
        "# Save corresponding confusion matrix for evaluation\n",
        "cmat_MC = metrics.confusion_matrix(y_test, np.where(pred_proba_MC >=  0.5, 1, 0))"
      ],
      "execution_count": null,
      "outputs": []
    },
    {
      "cell_type": "code",
      "metadata": {
        "colab": {
          "base_uri": "https://localhost:8080/"
        },
        "id": "EGxoGEQB19Ti",
        "outputId": "76e0f216-caa6-4443-e032-071c690db1e1"
      },
      "source": [
        "# Evaluate by calcuating the error-cost\n",
        "cutoff_cost_MC = calc_error_cost(pred_proba_MC, y_test, 0.5, cost_matrix)\n",
        "cutoff_cost_RF = calc_error_cost(pred_proba_RF, y_test, 0.5, cost_matrix)\n",
        "\n",
        "print(\"The error-cost for the regular RF model is: {}\".format(cutoff_cost_RF[1]))\n",
        "print(\"The error-cost for the MetaCost approach is: {}\".format(cutoff_cost_MC[1]))"
      ],
      "execution_count": null,
      "outputs": [
        {
          "output_type": "stream",
          "text": [
            "The error-cost for the regular RF model is: 1.96756\n",
            "The error-cost for the MetaCost approach is: 0.74664\n"
          ],
          "name": "stdout"
        }
      ]
    },
    {
      "cell_type": "markdown",
      "metadata": {
        "id": "08ySSzrs3ejF"
      },
      "source": [
        "By comparing the MetaCost approach to the regular RF model, we can see that this approach is indeed cost-sensitive and managed to reduce the cost to around 1/3 of the non cost-sensitive approach, giving us a similar result to the Bayes minimal risk approach. "
      ]
    },
    {
      "cell_type": "markdown",
      "metadata": {
        "id": "zbRC1y7fRPh5"
      },
      "source": [
        "## Comparison of cost-sensitive methods\n",
        "Before moving on to other libraries in Python covering the topic of cost-sensitivity, we want to compare the different cost-sensitive approaches by comparing their error cost."
      ]
    },
    {
      "cell_type": "code",
      "metadata": {
        "colab": {
          "base_uri": "https://localhost:8080/",
          "height": 160
        },
        "id": "_XUVJSsZSy01",
        "outputId": "d0383c0c-d027-45d7-8b8e-eadf20dcbba3"
      },
      "source": [
        "# Summarize all cutoffs and error-costs in one DataFrame\n",
        "cutoff_cost_df = pd.DataFrame([cutoff_cost_default, cutoff_cost_bayes, cutoff_cost_cv, cutoff_cost_MC], columns=[\"Cutoff\", \"Error-Cost\"], index=['Default', 'Bayes', 'Cross-Validation', 'MetaCost'])\n",
        "cutoff_cost_df"
      ],
      "execution_count": null,
      "outputs": [
        {
          "output_type": "execute_result",
          "data": {
            "text/html": [
              "<div>\n",
              "<style scoped>\n",
              "    .dataframe tbody tr th:only-of-type {\n",
              "        vertical-align: middle;\n",
              "    }\n",
              "\n",
              "    .dataframe tbody tr th {\n",
              "        vertical-align: top;\n",
              "    }\n",
              "\n",
              "    .dataframe thead th {\n",
              "        text-align: right;\n",
              "    }\n",
              "</style>\n",
              "<table border=\"1\" class=\"dataframe\">\n",
              "  <thead>\n",
              "    <tr style=\"text-align: right;\">\n",
              "      <th></th>\n",
              "      <th>Cutoff</th>\n",
              "      <th>Error-Cost</th>\n",
              "    </tr>\n",
              "  </thead>\n",
              "  <tbody>\n",
              "    <tr>\n",
              "      <th>Default</th>\n",
              "      <td>0.5000</td>\n",
              "      <td>4.42897</td>\n",
              "    </tr>\n",
              "    <tr>\n",
              "      <th>Bayes</th>\n",
              "      <td>0.0303</td>\n",
              "      <td>0.76454</td>\n",
              "    </tr>\n",
              "    <tr>\n",
              "      <th>Cross-Validation</th>\n",
              "      <td>0.0450</td>\n",
              "      <td>0.76286</td>\n",
              "    </tr>\n",
              "    <tr>\n",
              "      <th>MetaCost</th>\n",
              "      <td>0.5000</td>\n",
              "      <td>0.74664</td>\n",
              "    </tr>\n",
              "  </tbody>\n",
              "</table>\n",
              "</div>"
            ],
            "text/plain": [
              "                  Cutoff  Error-Cost\n",
              "Default           0.5000     4.42897\n",
              "Bayes             0.0303     0.76454\n",
              "Cross-Validation  0.0450     0.76286\n",
              "MetaCost          0.5000     0.74664"
            ]
          },
          "metadata": {
            "tags": []
          },
          "execution_count": 42
        }
      ]
    },
    {
      "cell_type": "markdown",
      "metadata": {
        "id": "dOsFDeb44ZBR"
      },
      "source": [
        "Firstly, by comparing all approaches to the default error cost by the LogitCV model, we can see that all approaches do make our models more cost efficient. We also see a slight improvement from the first to the last approach. However, as mentioned before, to identify the best model in terms of cost, other factors might be taken into consideration. \n",
        "\n",
        "Now, let's look the confusion matrix to get a better idea of the models."
      ]
    },
    {
      "cell_type": "code",
      "metadata": {
        "colab": {
          "base_uri": "https://localhost:8080/",
          "height": 336
        },
        "id": "K8fxjVpxRNHM",
        "outputId": "94383864-d1f2-4ace-ec60-f675bc7aba9d"
      },
      "source": [
        "# Plot Confusion Matrix using Heatmap\n",
        "plt.rcParams['figure.figsize'] = (24, 5)\n",
        "\n",
        "import seaborn as sns\n",
        "fig, ax_lst = plt.subplots(1, 4)\n",
        "cmat_list = [cmat_default, cmat_bayes, cmat_CV, cmat_MC]\n",
        "csm_types = [\"Default\", \"Bayes\", \"Cross-Validation Threshold Tuning\", \"MetaCost\"] # types of cost-sensitive methods\n",
        "\n",
        "for i, j, ax in zip(cmat_list, csm_types, ax_lst.flat):\n",
        "\n",
        "    # Plot heatmap\n",
        "    ax.set_title(j)\n",
        "    sns.heatmap(i, ax=ax, annot=True, fmt='g', cbar=False, xticklabels=['predicted 0', 'predicted 1'], yticklabels=['true 0', 'true 1'])\n",
        "    \n",
        "plt.show()"
      ],
      "execution_count": null,
      "outputs": [
        {
          "output_type": "display_data",
          "data": {
            "image/png": "[encoded data removed]",
            "text/plain": [
              "<Figure size 1728x360 with 4 Axes>"
            ]
          },
          "metadata": {
            "tags": [],
            "needs_background": "light"
          }
        }
      ]
    },
    {
      "cell_type": "markdown",
      "metadata": {
        "id": "gaMWtvZP52Ki"
      },
      "source": [
        "\n",
        "This plot shows that all cost-sensitive approaches were able to correctly identify all observations labelled with 1 (default) correctly. Therefore, in all of them, we can see a high increase in FN (top right). This means, the bank would reject more loan applications to trustworthy people. This also makes sense when you remember that all the cutoffs used for cutoff-based cost-sensitivity methods were very close to 0, meaning most cases would be classified as 1. It shows that for cost-sensitive scenarios, we may need to tolerate more misclassicationsto avoid a higher cost."
      ]
    },
    {
      "cell_type": "markdown",
      "metadata": {
        "id": "sG4nPbO-xJuN"
      },
      "source": [
        "## Class imbalance and cost-sensitivity with `sklearn`\n",
        "\n",
        "Now that we have seen some of how cost-sensitive learning works in the background, we can now begin using some of the built-in functionality of `sklearn` and other libraries. You'll notice that many `sklearn` functions have a built in `class_weight` argument that takes a dictionary in the form of `{class_label:weight, ...}`. Using this style, you can customize the weights of each class label to account for the cost of misclassifying a sample. You may also use the string `'balanced'` where class weights are calculated based on the imbalance of the classes. Furthermore, we can also define a dictionary with weights based on our cost matrix, to use the weights for cost-sensitive approaches. Below, we will illustrate both approaches, class imbalance and cost-sensitivity, using different models. Firstly, we will train unweighted models to use for comparison and get their predictions on the test set.\n"
      ]
    },
    {
      "cell_type": "code",
      "metadata": {
        "id": "6ioQJz6DEMpE"
      },
      "source": [
        "# Logistic Regression CV\n",
        "clf = LogisticRegressionCV(cv=5, random_state=rnd_state, fit_intercept=True).fit(X_train, np.ravel(y_train))\n",
        "y_pred_logcv_uw = clf.predict(X_test)\n",
        "y_pred_proba_logcv_uw = clf.predict_proba(X_test)[:,1]"
      ],
      "execution_count": null,
      "outputs": []
    },
    {
      "cell_type": "markdown",
      "metadata": {
        "id": "e0FJCPD5EIIT"
      },
      "source": [
        "### Class imbalance\n",
        "Let's first take a look at how adjusting weights in our model affects the quality of predictions using our traditional metrics (AUC and sensitivity). We will also check how often each class is predicted to see if this can help us explain the differences in our results.\n",
        "\n",
        "For the first model which was the logit with cross-validation, we can see that adjusting `class_weight` helps us greatly improve the sensitivity of the model simply by using the `'balanced'` setting as the argument. The model predicted the minority class more often and not only did this raise sensitivity, it also raised the AUC. Overall, this shows us that this method was relatively successful."
      ]
    },
    {
      "cell_type": "code",
      "metadata": {
        "colab": {
          "base_uri": "https://localhost:8080/"
        },
        "id": "CgnNhQZ1GeWV",
        "outputId": "da5aa5d1-ecf6-4679-b8cb-16530239cb65"
      },
      "source": [
        "# LogitCV Weighted vs. unweighted\n",
        "acc = metrics.accuracy_score(y_test, y_pred_logcv_uw)\n",
        "fpr, tpr, thresholds = metrics.roc_curve(y_test, y_pred_logcv_uw, pos_label=1)\n",
        "auc = metrics.auc(fpr, tpr)\n",
        "\n",
        "print(\"The unweighted LogitCV model predicted the minority class {:.2f}\".format(y_pred.sum()/len(y_pred)*100),\"% of the time\")\n",
        "print(\"The AUC is {:.2f}\".format(auc))\n",
        "print(\"The sensitivity for the model is {:.2f}\".format(tpr[1]))\n",
        "print(\"\")\n",
        "\n",
        "# Fit a model with the regular data with balanced weights\n",
        "\n",
        "clf = LogisticRegressionCV(cv=5, random_state=rnd_state, fit_intercept=True, class_weight='balanced').fit(X_train, np.ravel(y_train))\n",
        "y_pred_cv_w = clf.predict(X_test) \n",
        "y_pred_proba_tree_w = clf.predict_proba(X_test)[:,1]\n",
        "cutoff_cost_default = calc_error_cost(y_pred_proba_tree_w, y_test, 0.5, cost_matrix)\n",
        "\n",
        "acc = metrics.accuracy_score(y_test, y_pred)\n",
        "fpr, tpr, thresholds = metrics.roc_curve(y_test, y_pred, pos_label=1)\n",
        "auc = metrics.auc(fpr, tpr)\n",
        "\n",
        "print(\"The weighted LogitCV model predicted the minority class {:.2f}\".format(y_pred.sum()/len(y_pred)*100),\"% of the time\")\n",
        "print(\"The AUC is {:.2f}\".format(auc))\n",
        "print(\"The sensitivity for the model is {:.2f}\".format(tpr[1]))"
      ],
      "execution_count": null,
      "outputs": [
        {
          "output_type": "stream",
          "text": [
            "The unweighted LogitCV model predicted the minority class 33.72 % of the time\n",
            "The AUC is 0.64\n",
            "The sensitivity for the model is 0.31\n",
            "\n",
            "The weighted LogitCV model predicted the minority class 33.72 % of the time\n",
            "The AUC is 0.72\n",
            "The sensitivity for the model is 0.68\n"
          ],
          "name": "stdout"
        }
      ]
    },
    {
      "cell_type": "markdown",
      "metadata": {
        "id": "Dcv7hs_kendQ"
      },
      "source": [
        "### Cost-Sensitivity\n",
        "\n",
        "While class imbalance is directly built into the function, we will have to set the weights manually for making the models cost-sensitive. We will derive the weights from our cost-matrix. The weights we define are going to decide how much a missclassification is penalized. For misclassifying an observation of the class 0, we set the weight 1. The weight for incorrectly classifying an object of class 1 is 32, just like in our cost matrix. So let's go ahead with that:"
      ]
    },
    {
      "cell_type": "code",
      "metadata": {
        "id": "2hYAhsghe2c3"
      },
      "source": [
        "# Define weights\n",
        "weights = {0:1, 1:32}"
      ],
      "execution_count": null,
      "outputs": []
    },
    {
      "cell_type": "code",
      "metadata": {
        "colab": {
          "base_uri": "https://localhost:8080/"
        },
        "id": "0zXpzml3ex-B",
        "outputId": "5bb6c6df-38fa-4087-8b27-6ae5dab50150"
      },
      "source": [
        "# Error cost for weighted vs. unweighted LogitCV model\n",
        "print('The error cost of the unweighted LogitCV model is: {}'.format(calc_error_cost(y_pred_proba_logcv_uw, y_test, 0.5, cost_matrix)[1]))\n",
        "\n",
        "# Train model and get probabilities\n",
        "y_pred_proba = LogisticRegressionCV(cv=5, random_state=rnd_state, fit_intercept=True, class_weight=weights).fit(X_train, np.ravel(y_train)).predict_proba(X_test)[:,1]\n",
        "print('The error cost of the weighted LogitCV model is: {}'.format(calc_error_cost(y_pred_proba, y_test, 0.5, cost_matrix)[1]))"
      ],
      "execution_count": null,
      "outputs": [
        {
          "output_type": "stream",
          "text": [
            "The error cost of the unweighted LogitCV model is: 4.42897\n",
            "The error cost of the weighted LogitCV model is: 0.75615\n"
          ],
          "name": "stdout"
        }
      ]
    },
    {
      "cell_type": "markdown",
      "metadata": {
        "id": "udDtAg_XiFWU"
      },
      "source": [
        " These results look very similar to the ones obtained in the cost-sensitive chapter of this tutorial. It shows that this is also an effective method to make your models cost-sensitive."
      ]
    },
    {
      "cell_type": "markdown",
      "metadata": {
        "id": "dxe9z-rwxJuQ"
      },
      "source": [
        "# Conclusions\r\n",
        "\r\n",
        "It will likely be very common in your work that you will have two classes with either a large imbalance problem or a significant cost differences in misclassification. This tutorial should have provided you with some of the current ways of addressing this problem. For class imbalance, you could use random undersampling, oversampling or a more complex algorithm like SMOTE. For cost-imbalanced tasks, we have discussed different ways of either threshold tuning, the MetaCost algorithm and class weights. Below, we have summarized some of the functions we used today. "
      ]
    },
    {
      "cell_type": "markdown",
      "metadata": {
        "id": "KxPGNPeSbPd_"
      },
      "source": [
        "# Overview table\r\n",
        "\r\n",
        "| Goal | Possible Code |\r\n",
        "| --- | --- |\r\n",
        "| Fit logit with 5 fold CV | `LogisticRegressionCV(cv=5).fit(X_train, y_train)` |\r\n",
        "| Get accuracy score of model | `metrics.accuracy_score(true_label, model_score))` |\r\n",
        "| Get FPR, TPR and thresholds for AUC curve | `metrics.roc_curve(y_test, y_pred, pos_label=1)` |\r\n",
        "| Use FPR and TPR from `roc_curve` | `metrics.auc(fpr, tpr)` |\r\n",
        "| Initiate random undersampling object | `RandomUnderSampler( sampling_strategy='majority')` |\r\n",
        "| Initiate random oversampling object | `RandomOverSampler(sampling_strategy='minority')` |\r\n",
        "| Resample `X` and `y` using `sampler_obj`, assign to new `X` and `y` | `sampler_obj.fit_resample(X, y)` |\r\n",
        "| Use SMOTE to resample `X` and `y` into new `X` and `y` | `SMOTE().fit_resample(X, y)` |\r\n",
        "| Use BorderlineSMOTE to resample `X` and `y` into new `X` and `y`| `BorderlineSMOTE().fit_resample(X, y)` |\r\n",
        "| Calculate error cost based on cost-matrix by Elkan| `(np.sum(np.sum((cmat/len(y_test))*cost_matrix.T))) ` |\r\n",
        "| Calcualte calibration curve`| `calibration_curve(y_test, y_proba`) |\r\n",
        "| Create heatmap chart | `sns.heatmap(data)` |\r\n",
        "| Create confusion matrix of results | `confusion_matrix(y_true, y_pred)` |\r\n",
        "| Create calibration curve for model | `calibration_curve(y_true, y_score)` |\r\n",
        "| Create instance of 5-fold CV logit with weights | `LogisticRegressionCV(cv=5, class_weight={label:weight,...})` |\r\n"
      ]
    },
    {
      "cell_type": "markdown",
      "metadata": {
        "id": "9WUbmo5Lnaa-"
      },
      "source": [
        "Let's perform the same thing with decision trees. We have already trained a naive model for comparison, now let's observe what happens when we use class weights in the `'balanced'` and retrain the model. From the results, The model has predicted the minority class less times but the sensitivity did not change, nor did the AUC."
      ]
    },
    {
      "cell_type": "markdown",
      "metadata": {
        "id": "QSnqweybSe1y"
      },
      "source": [
        "# Outtakes"
      ]
    },
    {
      "cell_type": "code",
      "metadata": {
        "id": "oS11WwbkrFeb"
      },
      "source": [
        "# Decision Tree\r\n",
        "clf = DecisionTreeClassifier(random_state=rnd_state).fit(X_train, np.ravel(y_train))\r\n",
        "y_pred_tree_uw= clf.predict(X_test)\r\n",
        "y_pred_proba_tree_uw = clf.predict_proba(X_test)[:,1]\r\n",
        "\r\n",
        "# Random Forest\r\n",
        "clf = RandomForestClassifier(n_estimators=10, random_state=rnd_state).fit(X_train, np.ravel(y_train))\r\n",
        "y_pred_rf_uw = clf.predict(X_test)\r\n",
        "y_pred_proba_rf_uw = clf.predict_proba(X_test)[:,1]"
      ],
      "execution_count": null,
      "outputs": []
    },
    {
      "cell_type": "code",
      "metadata": {
        "colab": {
          "base_uri": "https://localhost:8080/"
        },
        "id": "945StC1QGiV1",
        "outputId": "7c4f77eb-0d9a-42d8-c13b-80ed854ce549"
      },
      "source": [
        "# Decision Tree Weighted vs. unweighted\n",
        "acc = metrics.accuracy_score(y_test, y_pred_tree_uw)\n",
        "fpr, tpr, thresholds = metrics.roc_curve(y_test, y_pred_tree_uw, pos_label=1)\n",
        "auc = metrics.auc(fpr, tpr)\n",
        "\n",
        "print(\"The unweighted decision tree model predicted the minority class {:.2f}\".format(y_pred.sum()/len(y_pred)*100),\"% of the time\")\n",
        "print(\"The AUC is {:.2f}\".format(auc))\n",
        "print(\"The sensitivity for the model is {:.2f}\".format(tpr[1]))\n",
        "print(\"\")\n",
        "# Fit a model with the regular data with balanced weights\n",
        "clf = DecisionTreeClassifier(random_state=rnd_state, class_weight='balanced').fit(X_train, np.ravel(y_train))\n",
        "y_pred = clf.predict(X_test) \n",
        "acc = metrics.accuracy_score(y_test, y_pred)\n",
        "fpr, tpr, thresholds = metrics.roc_curve(y_test, y_pred, pos_label=1)\n",
        "auc = metrics.auc(fpr, tpr)\n",
        "\n",
        "print(\"The weighted decision tree predicted the minority class {:.2f}\".format(y_pred.sum()/len(y_pred)*100),\"% of the time\")\n",
        "print(\"The AUC is {:.2f}\".format(auc))\n",
        "print(\"The sensitivity for the model is {:.2f}\".format(tpr[1]))"
      ],
      "execution_count": null,
      "outputs": [
        {
          "output_type": "stream",
          "text": [
            "The unweighted decision tree model predicted the minority class 33.72 % of the time\n",
            "The AUC is 0.77\n",
            "The sensitivity for the model is 0.63\n",
            "\n",
            "The weighted decision tree predicted the minority class 18.90 % of the time\n",
            "The AUC is 0.76\n",
            "The sensitivity for the model is 0.61\n"
          ],
          "name": "stdout"
        }
      ]
    },
    {
      "cell_type": "code",
      "metadata": {
        "colab": {
          "base_uri": "https://localhost:8080/"
        },
        "id": "pK0AFawle_nx",
        "outputId": "38ecedee-35de-4ce3-fd52-c667c6b6f72d"
      },
      "source": [
        "# Error cost for weighted vs. unweighted decision tree model\n",
        "print('The error cost of the unweighted decision tree model is: {}'.format(calc_error_cost(y_pred_proba_tree_uw, y_test, 0.5, cost_matrix)[1]))\n",
        "\n",
        "# Train model and get probabilities\n",
        "y_pred_proba = DecisionTreeClassifier(random_state=rnd_state, class_weight=weights).fit(X_train, np.ravel(y_train)).predict_proba(X_test)[:,1]\n",
        "print('The error cost of the weighted decision tree model is: {}'.format(calc_error_cost(y_pred_proba, y_test, 0.5, cost_matrix)[1]))"
      ],
      "execution_count": null,
      "outputs": [
        {
          "output_type": "stream",
          "text": [
            "The error cost of the unweighted decision tree model is: 2.44743\n",
            "The error cost of the weighted decision tree model is: 2.51957\n"
          ],
          "name": "stdout"
        }
      ]
    },
    {
      "cell_type": "code",
      "metadata": {
        "id": "zfTMnlFjGisI",
        "colab": {
          "base_uri": "https://localhost:8080/"
        },
        "outputId": "ce8040fe-4813-49bc-eaad-f97da45d424d"
      },
      "source": [
        "# Random Forest Weighted vs. unweighted\n",
        "acc = metrics.accuracy_score(y_test, y_pred_rf_uw)\n",
        "fpr, tpr, thresholds = metrics.roc_curve(y_test, y_pred_rf_uw, pos_label=1)\n",
        "auc = metrics.auc(fpr, tpr)\n",
        "\n",
        "print(\"The unweighted decision tree model predicted the minority class {:.2f}\".format(y_pred.sum()/len(y_pred)*100),\"% of the time\")\n",
        "print(\"The AUC is {:.2f}\".format(auc))\n",
        "print(\"The sensitivity for the model is {:.2f}\".format(tpr[1]))\n",
        "print(\"\")\n",
        "# Fit a model with the regular data with balanced weights\n",
        "clf = RandomForestClassifier(n_estimators=10, random_state=rnd_state, class_weight='balanced').fit(X_train, np.ravel(y_train))\n",
        "y_pred = clf.predict(X_test) \n",
        "acc = metrics.accuracy_score(y_test, y_pred)\n",
        "fpr, tpr, thresholds = metrics.roc_curve(y_test, y_pred, pos_label=1)\n",
        "auc = metrics.auc(fpr, tpr)\n",
        "\n",
        "print(\"The weighted decision tree predicted the minority class {:.2f}\".format(y_pred.sum()/len(y_pred)*100),\"% of the time\")\n",
        "print(\"The AUC is {:.2f}\".format(auc))\n",
        "print(\"The sensitivity for the model is {:.2f}\".format(tpr[1]))"
      ],
      "execution_count": null,
      "outputs": [
        {
          "output_type": "stream",
          "text": [
            "The unweighted decision tree model predicted the minority class 18.90 % of the time\n",
            "The AUC is 0.80\n",
            "The sensitivity for the model is 0.61\n",
            "\n",
            "The weighted decision tree predicted the minority class 12.25 % of the time\n",
            "The AUC is 0.76\n",
            "The sensitivity for the model is 0.54\n"
          ],
          "name": "stdout"
        }
      ]
    },
    {
      "cell_type": "code",
      "metadata": {
        "colab": {
          "base_uri": "https://localhost:8080/"
        },
        "id": "CoGdwEaze_0W",
        "outputId": "f633a707-e2f7-4120-9bf1-27f3b23f5593"
      },
      "source": [
        "# Error cost for weighted vs. unweighted Random Forest model\n",
        "print('The error cost of the unweighted Random Forest model is: {}'.format(calc_error_cost(y_pred_proba_rf_uw, y_test, 0.5, cost_matrix)[1]))\n",
        "\n",
        "# Train model and get probabilities\n",
        "y_pred_proba = RandomForestClassifier(n_estimators=10, random_state=rnd_state, class_weight=weights).fit(X_train, np.ravel(y_train)).predict_proba(X_test)[:,1]\n",
        "print('The error cost of the weighted Random Forest model is: {}'.format(calc_error_cost(y_pred_proba, y_test, 0.5, cost_matrix)[1]))"
      ],
      "execution_count": null,
      "outputs": [
        {
          "output_type": "stream",
          "text": [
            "The error cost of the unweighted Random Forest model is: 1.88702\n",
            "The error cost of the weighted Random Forest model is: 2.37752\n"
          ],
          "name": "stdout"
        }
      ]
    },
    {
      "cell_type": "markdown",
      "metadata": {
        "id": "wbiNruSKrZcv"
      },
      "source": [
        "The weighted tree-based models, however, do not perform as well in terms of cost. This could be led back to the lack of well calibrated proabilities. However, it is interesting to note, that both unweighted tree-based models outperformed the unweighted logit model in terms of cost."
      ]
    }
  ]
}