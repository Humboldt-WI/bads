{
  "nbformat": 4,
  "nbformat_minor": 0,
  "metadata": {
    "colab": {
      "name": "8_nb_ensemble_learning fixed.ipynb",
      "provenance": []
    },
    "kernelspec": {
      "display_name": "PyCharm (adams)",
      "language": "python",
      "name": "pycharm-feb95198"
    },
    "language_info": {
      "codemirror_mode": {
        "name": "ipython",
        "version": 3
      },
      "file_extension": ".py",
      "mimetype": "text/x-python",
      "name": "python",
      "nbconvert_exporter": "python",
      "pygments_lexer": "ipython3",
      "version": "3.7.6"
    }
  },
  "cells": [
    {
      "cell_type": "markdown",
      "metadata": {
        "id": "Ka20bzp6PcNj"
      },
      "source": [
        "[![Open In Colab](https://colab.research.google.com/assets/colab-badge.svg)](https://colab.research.google.com/github/Humboldt-WI/bads/blob/master/tutorials/8_nb_ensemble_learning.ipynb) \n"
      ]
    },
    {
      "cell_type": "markdown",
      "metadata": {
        "id": "swSaDjWvNDnY"
      },
      "source": [
        "# Chapter 8 - Ensemble learning \n",
        "We covered classification and regression trees in [Tutorial 5 on supervised learning algorithms](https://github.com/Humboldt-WI/bads/blob/master/tutorials/5_nb_supervised_learning.ipynb). Today, we will look into ways for improving the predictive power of tree-based classifiers through *ensemble learning*. Recall that an ensemble is a **collection of multiple base models**. The base models are prediction models. In a homogeneous ensemble, we produce the base models with the same supervised learning algorithm. Heterogeneous ensembles combine base models that come from different learning algorithm. We focus on homogeneous ensembles in this tutorial and create base models using decision trees.\n",
        "\n",
        "The lecture introduced three popular homogeneous ensemble frameworks: bagging, random forest, and boosting. We also learned that the last framework is often implemented using *Adaboost* or, more recently, *gradient boosting*. The goal of the tutorial is to demonstrate how these ensemble learning frameworks work. In order to do this, we provide **implementations of multiple ensemble learners from scratch**. Another goal is to empower you to use ensemble algorithms in your work/studies. We pursue this goal by walking you through coding demos on **how to train, tune, and apply ensemble learning algorithms** using `sklearn` and other libraries. \n",
        "\n",
        "\n",
        "The outline of the tutorial is as follows:\n",
        "- Preliminaries\n",
        "- Random Forest (homogeneous ensemble)\n",
        "- Boosting\n",
        "  - The boosting principle\n",
        "  - Gradient boosting"
      ]
    },
    {
      "cell_type": "markdown",
      "metadata": {
        "id": "wdsBsoSzOaMf"
      },
      "source": [
        "# Preliminaries\n",
        "We begin as usual with importing our standard libraries and also our standard modeling data. Since we are also familiar with data organization by now, we partition our data right away using standard `sklearn` functionality. For simplicity, we consider the split sampling method and create a training and a test set. Remember that cross-validation is preferable. "
      ]
    },
    {
      "cell_type": "code",
      "metadata": {
        "colab": {
          "base_uri": "https://localhost:8080/"
        },
        "id": "iUm22RYkOaMg",
        "outputId": "059ca00f-60c9-4ffa-feb6-71a02f7be9c9"
      },
      "source": [
        "# Import standard Python libraries\n",
        "import numpy as np\n",
        "import matplotlib.pyplot as plt\n",
        "import pandas as pd \n",
        "from sklearn.model_selection import train_test_split\n",
        "\n",
        "# Some configuration of the plots we will create later\n",
        "%matplotlib inline  \n",
        "plt.rcParams[\"figure.figsize\"] = (12,6)\n",
        "\n",
        "# Load credit risk data in pre-processed format from GitHub\n",
        "data_url = 'https://raw.githubusercontent.com/Humboldt-WI/bads/master/data/hmeq_modeling.csv' \n",
        "df = pd.read_csv(data_url, index_col=\"index\")\n",
        "\n",
        "# Pretty printing\n",
        "from pprint import pprint\n",
        "\n",
        "# Extract target variable and feature matrix \n",
        "X = df.drop(['BAD'], axis=1) \n",
        "y = df[['BAD']]\n",
        "\n",
        "# Split data into training and test\n",
        "X_train, X_test, y_train, y_test = train_test_split(X, y, test_size=0.3, random_state=888)\n",
        "print(\"Remember the shape of our data: \")\n",
        "print(X_train.shape, y_train.shape, X_test.shape, y_test.shape)"
      ],
      "execution_count": 1,
      "outputs": [
        {
          "output_type": "stream",
          "text": [
            "Remember the shape of our data: \n",
            "(4172, 18) (4172, 1) (1788, 18) (1788, 1)\n"
          ],
          "name": "stdout"
        }
      ]
    },
    {
      "cell_type": "markdown",
      "metadata": {
        "id": "62DNtKZoOaMk"
      },
      "source": [
        "# Random forest\n",
        "The random forest (RF) algorithm is a powerful, robust, and easy to use algorithm for regression and classification. RF ground on two principles, [random subspace](http://dx.doi.org/10.1109/34.709601) and [bagging](https://link.springer.com/article/10.1007/BF00058655). Multiple trees are grown from bootstrapped samples drawn from the training set with replacement. Many trees (i.e. a forest) are grown (sometimes their maximum depth is also specified) and all trees provide a prediction for cases of the test data. Each tree's vote generally has the same weight. Up until here, the algorithm is equivalent to bagging. It differs in the growing of individual tress. Specifically, when growing a tree, the next best split is not determined by searching a splitting criteria among all features. Only a subset of features is drawn at random (random subspace) and the best split is determined among this random subset."
      ]
    },
    {
      "cell_type": "markdown",
      "metadata": {
        "id": "Xa1KWriEOaMl"
      },
      "source": [
        "## Random forest from scratch\n",
        "Though most of the the time we'd use `sklearn`  to implement RF, it is useful to take a look at the inner workings of the algorithm. Given that RF is an extension of the *bagging algorithm*, we will not look into bagging separately but cover bagging as part of RF."
      ]
    },
    {
      "cell_type": "markdown",
      "metadata": {
        "id": "jBxHeBh0OaMm"
      },
      "source": [
        "### Helper Functions for Individual Trees\n",
        "\n",
        "Again, a RF model is a collection of individual decision trees. So let's start with a recap of how an individual tree works with our data:\n",
        "\n",
        "We face a classification problem. Thus, the goal of growing a tree is to obtain leaf nodes in which the class distribution is pure. Many potential ways to split the data are calculated (e.g. the algorithm below finds all unique values of each column and then the midpoint between sequential values). For each potential split, we assess its ability to separate the classes. More specifically, we calculate the **impurity** of the parent node and compare it with the sum of the impurity scores of the child nodes, which would result from the candidate split. We also weigh the child nodes' impurity scores by the number of cases (data points) that enter the left and right child node, respectively. \n",
        "\n",
        "There are three major impurity functions: **entropy, gini, and misclassification error**. We use entropy in our example. The split which yields the lowest impurity is chosen and the process is repeated for the new nodes (this is also known as recursion). \n",
        "\n",
        "The method of choosing the split that yields the lowest impurity is called the **greedy search method**. The following functions will help the decision tree implement greedy search tactics on the data. The algorithm stops either when the purity in each node is reached or when it has reached a maximum depth (max amount of recursions we allow) specified in our function.\n",
        "\n",
        "Many functions for the tree are not found in Python packages and it is cleaner to write them out first, and then put them together in our main algorithm. Each function below does a specific action, which will be used in our final tree function at the end. Most functions are just copy & pasted from [Tutorial 5](https://github.com/Humboldt-WI/bads/blob/master/tutorials/5_nb_supervised_learning.ipynb). Changes in the function will be seen in the next mini-section. We will highlight all of them."
      ]
    },
    {
      "cell_type": "code",
      "metadata": {
        "id": "6aD0OZmEe2ZV"
      },
      "source": [
        "def check_purity(y):\n",
        "    \n",
        "    'checks if a leaf node is perfectly pure, in other words, if the leaf node contains only one class'\n",
        "    \n",
        "    unique_classes = np.unique(y)  # Count number of classes in section of data\n",
        "\n",
        "    if len(unique_classes) == 1:  # Check if the node is pure\n",
        "        return True\n",
        "    else:\n",
        "        return False"
      ],
      "execution_count": 2,
      "outputs": []
    },
    {
      "cell_type": "code",
      "metadata": {
        "id": "Z-Pk6tTTe2ZY"
      },
      "source": [
        "def classify_data(y):\n",
        "    \n",
        "    'classifies data according to the majority class of each leaf'\n",
        "    \n",
        "    unique_classes, counts_unique_classes = np.unique(y, return_counts=True)\n",
        "    # Returns classes and no. of obs per class\n",
        "\n",
        "    index = counts_unique_classes.argmax() # Index of class with most obs\n",
        "    classification = unique_classes[index] # Class chosen for classification which is class with most obs\n",
        "    \n",
        "    return classification"
      ],
      "execution_count": 3,
      "outputs": []
    },
    {
      "cell_type": "code",
      "metadata": {
        "id": "C6kLufUxe2Zd"
      },
      "source": [
        "def split_data(X, y, split_column, split_value):\n",
        "    \n",
        "    'splits data based on specific value, will yield both a split for the features X and target y'\n",
        "    \n",
        "    split_column_values = X[:, split_column]\n",
        "\n",
        "    X_below = X[split_column_values <= split_value]  # Partitions data according to split values from previous functions\n",
        "    X_above = X[split_column_values >  split_value]\n",
        "    \n",
        "    y_below = y[split_column_values <= split_value]\n",
        "    y_above = y[split_column_values >  split_value]\n",
        "    \n",
        "    return X_below, X_above, y_below, y_above"
      ],
      "execution_count": 4,
      "outputs": []
    },
    {
      "cell_type": "code",
      "metadata": {
        "id": "Kc6VPgoZe2Zf"
      },
      "source": [
        "def calculate_entropy(y):\n",
        "    \n",
        "    'calculates entropy for each partition of data'\n",
        "    \n",
        "    _, counts = np.unique(y, return_counts=True)\n",
        "\n",
        "    probabilities = counts / counts.sum()  # Probability of each class\n",
        "    entropy = sum(probabilities * -np.log2(probabilities))  # Could replace with Gini impurity or misclassification\n",
        "     \n",
        "    return entropy"
      ],
      "execution_count": 5,
      "outputs": []
    },
    {
      "cell_type": "code",
      "metadata": {
        "id": "xnRBl4KUe2Zj"
      },
      "source": [
        "def calculate_overall_entropy(y_below, y_above): \n",
        "    \n",
        "    'calculates the total entropy after each split'\n",
        "       \n",
        "    n = len(y_below) + len(y_above)\n",
        "    p_data_below = len(y_below) / n\n",
        "    p_data_above = len(y_above) / n\n",
        "\n",
        "    overall_entropy =  (p_data_below * calculate_entropy(y_below)\n",
        "                      + p_data_above * calculate_entropy(y_above))\n",
        "    \n",
        "    return overall_entropy"
      ],
      "execution_count": 6,
      "outputs": []
    },
    {
      "cell_type": "code",
      "metadata": {
        "id": "CE2mvNCDe2Zl"
      },
      "source": [
        "def determine_best_split(X, y, potential_splits):\n",
        "    \n",
        "    'selects which split lowered entropy the most'\n",
        "    \n",
        "    overall_entropy = 9999  # Set arbitrarily high, the function will loop over and replace this with lower impurity values\n",
        "    for column_index in potential_splits:\n",
        "        for value in potential_splits[column_index]:\n",
        "            X_below, X_above, y_below, y_above = split_data(X, y, split_column=column_index, split_value=value)\n",
        "            current_overall_entropy = calculate_overall_entropy(y_below, y_above)\n",
        "            \n",
        "            # Goes through each potential split and only updates if it lowers entropy\n",
        "\n",
        "            if current_overall_entropy <= overall_entropy: \n",
        "                overall_entropy = current_overall_entropy # Updates only if lower entropy split found, in the end this is greedy search\n",
        "                best_split_column = column_index\n",
        "                best_split_value = value\n",
        "            \n",
        "    \n",
        "    return best_split_column, best_split_value"
      ],
      "execution_count": 7,
      "outputs": []
    },
    {
      "cell_type": "markdown",
      "metadata": {
        "id": "XdEmghPDOaM5"
      },
      "source": [
        "#### Random subspace\n",
        "Recall a distinct feature of RF in addition to bagging. The algorithm for growing base model trees in RF does not search for the next best split among ALL features. Instead, it first draws a random subset of features and then finds the next best split among this subset. This mechanism is called random subspace and was introduced in [Ho's 1998 paper](http://dx.doi.org/10.1109/34.709601). \n",
        "\n",
        "Random subspace does not make sense when growing an individual tree. Thus, we did not cover the approach in  [Tutorial 5](https://github.com/Humboldt-WI/bads/blob/master/tutorials/5_nb_supervised_learning.ipynb). However, random subspace is a vital ingredient to RF and it is best implemented in function to get potential splits. Therefore, we adjust the implementation of `get_potential_splits()` compared to the [Tutorial 5](https://github.com/Humboldt-WI/bads/blob/master/tutorials/5_nb_supervised_learning.ipynb) version, to ready our code for RF. Note that our updated implementation does not use random subspace by default but can activate it easily by setting the corresponding argument. Thus, our implementation supports both vanilla trees and trees with a random subspace.   "
      ]
    },
    {
      "cell_type": "code",
      "metadata": {
        "id": "pB28rbBoe2Za"
      },
      "source": [
        "def get_potential_splits(X, random_subspace = None):\n",
        "    \n",
        "    'first, takes every unique value of every feature in the feature space, then finds the midpoint between each value'\n",
        "    'modified to add random_subspace for random forest'\n",
        "    \n",
        "    potential_splits = {}\n",
        "    _, n_columns = X.shape  # No need for rows, we choose the column to split on\n",
        "    # Only need second value of .shape which is columns\n",
        "    column_indices = list(range(n_columns))\n",
        "    \n",
        "    if random_subspace and random_subspace <= len(column_indices):  # Randomly chosen features\n",
        "        column_indices = random.sample(population=column_indices, k=random_subspace)\n",
        "    \n",
        "    for column_index in column_indices:\n",
        "        potential_splits[column_index] = [] \n",
        "        values = X[:, column_index] \n",
        "        unique_values = np.unique(values)  # Get all unique values in each column\n",
        "\n",
        "        for index in range(len(unique_values)):  # All unique feature values\n",
        "            if index != 0:  # Skip first value, we need the difference between next values\n",
        "                current_value = unique_values[index]\n",
        "                previous_value = unique_values[index - 1]  # Find a value and the next smallest value\n",
        "                potential_split = (current_value + previous_value) / 2  # Find difference between the two as a potential split\n",
        "                \n",
        "                # Consider all values which lie between two values as a potential split\n",
        "                \n",
        "                potential_splits[column_index].append(potential_split)\n",
        "    \n",
        "    return potential_splits"
      ],
      "execution_count": 8,
      "outputs": []
    },
    {
      "cell_type": "markdown",
      "metadata": {
        "id": "w7-hpFq5e2Zn"
      },
      "source": [
        "We are ready to implement the main function of our tree algorithm. It will call the helper functions and create a tree object as final result. "
      ]
    },
    {
      "cell_type": "code",
      "metadata": {
        "id": "nLJLzoaCe2Zn"
      },
      "source": [
        "def decision_tree_algorithm(X, y, counter=0, min_samples=2, max_depth=5, random_subspace = None): \n",
        "\n",
        "    'same function as in the Decision Tree notebook but now we add random_subspace argument'\n",
        "\n",
        "    # Data preparation\n",
        "    if counter == 0:  # Counter tells us how deep the tree is, this is before the tree is initiated\n",
        "        global COLUMN_HEADERS\n",
        "        COLUMN_HEADERS = X.columns\n",
        "        X = X.values  # Change all to NumPy array for faster calculations\n",
        "        y = y.values\n",
        "    else:\n",
        "        data = X  # If we have started the tree, X should already be a NumPy array from the code above \n",
        "    \n",
        "    # Base cases\n",
        "    if (check_purity(y)) or (len(X) < min_samples) or (counter == max_depth):\n",
        "        classification = classify_data(y)\n",
        "        \n",
        "        return classification\n",
        "    \n",
        "    # Recursive part\n",
        "    else:    \n",
        "        counter += 1  # Tells us how deep the tree is\n",
        "\n",
        "        # Helper functions \n",
        "        potential_splits = get_potential_splits(X, random_subspace)  # Check for all possible splits ONLY using the random subspace and not all features!\n",
        "        best_split_column, best_split_value = determine_best_split(X, y, potential_splits)  # Select best split based on entropy\n",
        "        X_below, X_above, y_below, y_above = split_data(X, y, best_split_column, best_split_value)  # Execute best split\n",
        "        \n",
        "        # Code to explain decisions made by tree to users\n",
        "        feature_name = COLUMN_HEADERS[best_split_column]\n",
        "        question = \"{} <= {}\".format(feature_name, best_split_value) # Initiate explanation of split\n",
        "        sub_tree = {question: []}\n",
        "        \n",
        "        # Pull answers from tree\n",
        "        yes_answer = decision_tree_algorithm(X_below, y_below, counter, min_samples, max_depth, random_subspace)\n",
        "        no_answer = decision_tree_algorithm(X_above, y_above, counter, min_samples, max_depth, random_subspace)\n",
        "        \n",
        "        # Ensure explanation actually shows useful information\n",
        "        if yes_answer == no_answer: # If decisions are the same, only display one\n",
        "            sub_tree = yes_answer\n",
        "        else:\n",
        "            sub_tree[question].append(yes_answer)\n",
        "            sub_tree[question].append(no_answer)\n",
        "        \n",
        "        return sub_tree"
      ],
      "execution_count": 9,
      "outputs": []
    },
    {
      "cell_type": "markdown",
      "metadata": {
        "id": "MsZbUgNsOaNA"
      },
      "source": [
        "### Helper functions for the Random Forest Algorithm\n",
        "Now that we have set up the infrastructure to build an individual classification tree, we can make use of it to grow a full forest of trees. However, the **strength-diversity trade-off** suggests that a naive combination of base models will not give a powerful ensemble. Rather, for an ensemble learner to work well, we need base models that display both strength and diversity. RF fosters diversity among its base models by **randomizing tree growing**. So, we grow a forest of random trees. Specifically, the two mechanisms of randomization in RF are **bootstrap sampling** and **random subspace**. To implement the corresponding functionality, we will use the `random` library.  "
      ]
    },
    {
      "cell_type": "code",
      "metadata": {
        "id": "K8UsxbpSOaNB"
      },
      "source": [
        "import random"
      ],
      "execution_count": 10,
      "outputs": []
    },
    {
      "cell_type": "markdown",
      "metadata": {
        "id": "KucJYhwvOaNE"
      },
      "source": [
        "Using this library, we can implement our bootstrap sampling mechanism as follows. Remember that a bootstrap sample is nothing but a random sample of the same size as the original data drawn *with replacement*. "
      ]
    },
    {
      "cell_type": "code",
      "metadata": {
        "id": "9TppSOUVe2Zq"
      },
      "source": [
        "def bootstrapping(X, y, n_bootstrap):\n",
        "  \n",
        "    'takes a random set of observations of the size n_bootstrap'\n",
        "\n",
        "    bootstrap_indices = np.random.randint(low=0, high=len(X), size=n_bootstrap)  # Chooses random indices for the sample\n",
        "    X_bootstrapped = X.iloc[bootstrap_indices]\n",
        "    y_bootstrapped = y.iloc[bootstrap_indices]\n",
        "    \n",
        "    return X_bootstrapped, y_bootstrapped"
      ],
      "execution_count": 11,
      "outputs": []
    },
    {
      "cell_type": "markdown",
      "metadata": {
        "id": "9HVwDB07OaNH"
      },
      "source": [
        "Once we have all above bits in place, the actual implementation of the RF algorithm is straightforward. All we need to do is to grow as many base model trees as we like and make sure we activate **random subspace** when growing the individual member trees from a **bootstrap sample** of the training data. In addition to the number of trees and number of features to consider for random subspace, our implementation also allows the user to specify the size of the bootstrap sample, which is useful to accelerate the algorithm, and the maximum depth of the tree models. While this offers some flexibility, professional implementations of the RF algorithm offer many more parameters.   "
      ]
    },
    {
      "cell_type": "code",
      "metadata": {
        "id": "FJp8a_tpe2Zu"
      },
      "source": [
        "def random_forest_algorithm(X, y, n_trees, n_bootstrap, n_features, dt_max_depth):\n",
        "    'puts the bootstrap sample in the decision tree algorithm with max depth and the random subset of features set, in otherwords, builds the forest tree by tree'\n",
        "    forest = []\n",
        "    for i in range(n_trees): #loops for the amount of trees set to be in the forest\n",
        "        X_bootstrapped, y_bootstrapped = bootstrapping(X, y, n_bootstrap)\n",
        "        tree = decision_tree_algorithm(X_bootstrapped, y_bootstrapped, max_depth=dt_max_depth, random_subspace=n_features) #creates individual trees\n",
        "        forest.append(tree)\n",
        "    \n",
        "    return forest"
      ],
      "execution_count": 12,
      "outputs": []
    },
    {
      "cell_type": "markdown",
      "metadata": {
        "id": "2VSS5jwrOaNN"
      },
      "source": [
        "Being almost ready to develop an  RF classifier, the only missing bit is some functionality to apply the trained model to new data. We split this into two functions. The first function, `predict_example`, predicts a single sample from a single tree. The second, `decision_tree_predictions`, uses `predict_example` and makes predictions for every tree in the forest. When a function's main purpose is to use another function to perform a task, it is called a wrapper function. In tihs case, `decision_tree_predictions` is a wrapper function."
      ]
    },
    {
      "cell_type": "code",
      "metadata": {
        "id": "2NCdqwHoe2Zw"
      },
      "source": [
        "def predict_example(example, tree, counter=0):\n",
        "\n",
        "    'takes one observation and predicts its class'\n",
        "    \n",
        "    if counter == 0 and isinstance(tree, dict) == False: # very shallow tree settings may only vote one way, this first if-statement takes its vote into account\n",
        "        return tree\n",
        "    \n",
        "    else:\n",
        "        counter += 1\n",
        "    \n",
        "    question = list(tree.keys())[0]\n",
        "    feature_name, comparison_operator, value = question.split(\" \")\n",
        "\n",
        "    # Ask question\n",
        "    if comparison_operator == \"<=\":\n",
        "        if example[feature_name] <= float(value):\n",
        "            answer = tree[question][0]\n",
        "        else:\n",
        "            answer = tree[question][1]\n",
        "    \n",
        "    # Feature is categorical\n",
        "    else:\n",
        "        if str(example[feature_name]) == value:\n",
        "            answer = tree[question][0]\n",
        "        else:\n",
        "            answer = tree[question][1]\n",
        "\n",
        "    # Base case\n",
        "    if not isinstance(answer, dict):\n",
        "        return answer\n",
        "    \n",
        "    # Recursive part\n",
        "    else:\n",
        "        residual_tree = answer\n",
        "        return predict_example(example, residual_tree)\n",
        "\n",
        "    \n",
        "# Gathers all test data\n",
        "def decision_tree_predictions(test_df, tree):\n",
        "  \n",
        "    'applies predict_example to all of the test set'\n",
        "\n",
        "    predictions = test_df.apply(predict_example, args=(tree,), axis=1)\n",
        "    return predictions"
      ],
      "execution_count": 13,
      "outputs": []
    },
    {
      "cell_type": "markdown",
      "metadata": {
        "id": "8lf0pP9VmEPk"
      },
      "source": [
        "Now that we have a function to make predictions for every tree in the forest, we are going to collect those predictions. The final prediction of the RF will then correspond to calculating the mode across base model prediction. Put differently, we take the majority vote as out final prediction."
      ]
    },
    {
      "cell_type": "code",
      "metadata": {
        "id": "C3yXFPG8e2Zz"
      },
      "source": [
        "def random_forest_predictions(test_df, forest):\n",
        "    df_predictions = {}\n",
        "    for i in range(len(forest)):\n",
        "        column_name = \"tree_{}\".format(i)  # Key for dictionary\n",
        "        predictions = decision_tree_predictions(test_df, tree=forest[i])  # Predictions from trees\n",
        "        df_predictions[column_name] = predictions  # Insert predictions into dictionary\n",
        "\n",
        "    df_predictions = pd.DataFrame(df_predictions)  # Change dictionary to pandas DF\n",
        "    random_forest_predictions = df_predictions.mode(axis=1)[0]  # Take mode of predictions over trees for final prediction\n",
        "    # If there is an even number of predictions, just default to the first value (very unlikely with many trees)\n",
        "    \n",
        "    return random_forest_predictions"
      ],
      "execution_count": 14,
      "outputs": []
    },
    {
      "cell_type": "markdown",
      "metadata": {
        "id": "mot6Okr5e2Z1"
      },
      "source": [
        "### Ready, steady, go...\n",
        "Well done, we have our custom-code RF classifier up and ready. Time to put it into action and produce some credit default risk predictions. Since our implementation is maybe not the most efficient one, let's stick to shallow trees and also set the other hyperparameters such that run times are bearable.   "
      ]
    },
    {
      "cell_type": "code",
      "metadata": {
        "id": "Rw92_Ssqe2Z2"
      },
      "source": [
        "# Grow RF \n",
        "forest = random_forest_algorithm(X, y, n_trees=50, n_bootstrap=800, n_features=8, dt_max_depth=3)"
      ],
      "execution_count": 15,
      "outputs": []
    },
    {
      "cell_type": "code",
      "metadata": {
        "colab": {
          "base_uri": "https://localhost:8080/"
        },
        "id": "LmEZQNMse2Z6",
        "outputId": "ec16e492-6f1f-442c-f3a6-0941f5de8ff9"
      },
      "source": [
        "# Depict one member tree as rule set\n",
        "forest[0]"
      ],
      "execution_count": 16,
      "outputs": [
        {
          "output_type": "execute_result",
          "data": {
            "text/plain": [
              "{'CLAGE <= -0.009244629462298034': [{'DEBTINC <= 0.13465127391669932': [False,\n",
              "    {'DEBTINC <= 0.14126357589096233': [True, False]}]},\n",
              "  False]}"
            ]
          },
          "metadata": {
            "tags": []
          },
          "execution_count": 16
        }
      ]
    },
    {
      "cell_type": "code",
      "metadata": {
        "id": "IRV04WBke2Z9"
      },
      "source": [
        "# Calculate predictions\n",
        "predictions = random_forest_predictions(X, forest) "
      ],
      "execution_count": 17,
      "outputs": []
    },
    {
      "cell_type": "code",
      "metadata": {
        "colab": {
          "base_uri": "https://localhost:8080/"
        },
        "id": "upoB6SxNe2Z_",
        "outputId": "af4f192b-6027-43fc-8e40-48ec65115fa2"
      },
      "source": [
        "# Check error rate\n",
        "error = np.mean(np.vstack(predictions) == np.array(y))\n",
        "\n",
        "error"
      ],
      "execution_count": 18,
      "outputs": [
        {
          "output_type": "execute_result",
          "data": {
            "text/plain": [
              "0.8453020134228187"
            ]
          },
          "metadata": {
            "tags": []
          },
          "execution_count": 18
        }
      ]
    },
    {
      "cell_type": "markdown",
      "metadata": {
        "id": "VfeanJuve2aB"
      },
      "source": [
        "The tree is able to classify a good proportion of the test set well even with only a depth of 3. \n",
        "\n",
        "Before moving on with using RF in `sklearn`, here is a **little exercise** for you:\n",
        "Use your custom implementation of RF to develop a bagging ensemble."
      ]
    },
    {
      "cell_type": "code",
      "metadata": {
        "id": "5wXUki7-OaNf"
      },
      "source": [
        "# Your task: use the above functions to train a bagging ensemble using decision tress as base model\n"
      ],
      "execution_count": null,
      "outputs": []
    },
    {
      "cell_type": "markdown",
      "metadata": {
        "id": "ck8M6P_hOaNh"
      },
      "source": [
        "## Random forest in sklearn\n",
        "As promised, we will also demonstrate how you would use RF in production environments, that is with some proper implementation under the hood. Luckily, RF is maybe one of the most widely available data science algorithms. You find professional implementations on almost every platform. Obviously, this also includes `sklearn`. \n",
        "\n",
        "It turns out that training and using RF in `sklearn`is super easy. Check out this code, which shows all it takes."
      ]
    },
    {
      "cell_type": "code",
      "metadata": {
        "colab": {
          "base_uri": "https://localhost:8080/"
        },
        "id": "qREt-QMROaNi",
        "outputId": "d4a0d4d1-47a3-4dba-8db0-df21b2e3ef4a"
      },
      "source": [
        "from sklearn.ensemble import RandomForestClassifier  # import library\n",
        "rf = RandomForestClassifier()                        # create model object\n",
        "rf.fit(X_train, y_train)                             # fit model to training set \n",
        "yhat = rf.predict_proba(X_test)                      # obtain test set predictions                   "
      ],
      "execution_count": null,
      "outputs": [
        {
          "output_type": "stream",
          "text": [
            "C:\\ProgramData\\Anaconda3\\envs\\adams\\lib\\site-packages\\ipykernel_launcher.py:3: DataConversionWarning: A column-vector y was passed when a 1d array was expected. Please change the shape of y to (n_samples,), for example using ravel().\n",
            "  This is separate from the ipykernel package so we can avoid doing imports until\n"
          ],
          "name": "stderr"
        }
      ]
    },
    {
      "cell_type": "markdown",
      "metadata": {
        "id": "MFYLKXXQOaNl"
      },
      "source": [
        "And that was it. We promised it is easy, did we not? ;)\n",
        "\n",
        "However, the above demo is simplistic and does not really illustrate how you would use RF in practice. That is mainly because we omit hyperparameters and their tuning. **Using an analytical model with some default parameters is never a good idea.** "
      ]
    },
    {
      "cell_type": "markdown",
      "metadata": {
        "id": "XN9VQW87OaNl"
      },
      "source": [
        "#### Tuning RF hyperparameters using grid search\n",
        "Random forest is often considered robust regardless of hyperparameters settings. Still, some tuning may be beneficial. For model selection, we draw on the demos of [Tutorial 7](https://github.com/Humboldt-WI/bads/blob/master/tutorials/7_nb_model_selection.ipynb) and adjust these for our focal task of tuning RF. \n",
        "\n",
        "We consider the following hyperparameters. \n",
        "<br>\n",
        "- `n_estimators`: number of trees(models) in forest (ensemble)<br>\n",
        "- `max_features` : maximum features in random subspace<br>\n",
        "\n",
        "There are a couple more hyperparameters. Normally, you would not need to tune these but for the sake of completeness, here are some more hyperparameters:\n",
        "- `min_samples_split`: minimum number of samples required in leaf node before another split is made. If below, node won't be split.<br>\n",
        "- `min_samples_leaf`: minimum number of samples required to be in a leaf node.<br>\n",
        "- `max_leaf_nodes`: maximum number of leaf nodes in a tree<br>\n",
        "- `criterion`: splitting function to use, e.g. gini coefficient<br>\n",
        "- `max_depth`: pruning parameter, maximum depth of decision tree<br>\n",
        "- `n_jobs`: parallelization of model building<br>\n",
        "- `random_state`: sets 'pattern' of random selection for reproducibility <br><br>\n",
        "\n",
        "If hyperparameters are not specified, they will be set to their default. \n",
        "\n",
        "**Remark**: Tuning RF might take a while. If you want to speed things up, **try not to reduce `n_estimators` (number of trees).** Instead, consider setting the hyperparameter `max_samples`. It allows you to control the size of the bootstrap sample from which each tree is grown. Read the documentation for more information. Smaller sample sizes accelerate the training."
      ]
    },
    {
      "cell_type": "code",
      "metadata": {
        "colab": {
          "base_uri": "https://localhost:8080/"
        },
        "id": "CnHJcjMSOaNm",
        "outputId": "f058de5a-0b8a-4f77-8984-4beee7af79f4"
      },
      "source": [
        "from sklearn.model_selection import GridSearchCV\n",
        "print('Tuning random forest classifier')\n",
        "rf = RandomForestClassifier(random_state=888, max_samples = 0.5)  # This way, bootstrap sample size will be 50% of the training set\n",
        "\n",
        "# Define meta-parameter grid of candidate settings\n",
        "# The following settings are just for illustration\n",
        "param_grid = {'n_estimators': [10, 20, 50],  # very small values and not suitable for application. Use larger sizes to build good classifiers\n",
        "              'max_features': [1, 2, 4]\n",
        "              }\n",
        "\n",
        "# Set up the grid object specifying the tuning options\n",
        "gs_rf = GridSearchCV(rf, param_grid, cv=5, scoring='roc_auc', verbose=1)\n",
        "gs_rf.fit(X_train, np.ravel(y_train))"
      ],
      "execution_count": null,
      "outputs": [
        {
          "output_type": "stream",
          "text": [
            "Tuning random forest classifier\n",
            "Fitting 5 folds for each of 9 candidates, totalling 45 fits\n"
          ],
          "name": "stdout"
        },
        {
          "output_type": "stream",
          "text": [
            "[Parallel(n_jobs=1)]: Using backend SequentialBackend with 1 concurrent workers.\n",
            "[Parallel(n_jobs=1)]: Done  45 out of  45 | elapsed:    3.6s finished\n"
          ],
          "name": "stderr"
        },
        {
          "output_type": "execute_result",
          "data": {
            "text/plain": [
              "GridSearchCV(cv=5, error_score=nan,\n",
              "             estimator=RandomForestClassifier(bootstrap=True, ccp_alpha=0.0,\n",
              "                                              class_weight=None,\n",
              "                                              criterion='gini', max_depth=None,\n",
              "                                              max_features='auto',\n",
              "                                              max_leaf_nodes=None,\n",
              "                                              max_samples=0.5,\n",
              "                                              min_impurity_decrease=0.0,\n",
              "                                              min_impurity_split=None,\n",
              "                                              min_samples_leaf=1,\n",
              "                                              min_samples_split=2,\n",
              "                                              min_weight_fraction_leaf=0.0,\n",
              "                                              n_estimators=100, n_jobs=None,\n",
              "                                              oob_score=False, random_state=888,\n",
              "                                              verbose=0, warm_start=False),\n",
              "             iid='deprecated', n_jobs=None,\n",
              "             param_grid={'max_features': [1, 2, 4],\n",
              "                         'n_estimators': [10, 20, 50]},\n",
              "             pre_dispatch='2*n_jobs', refit=True, return_train_score=False,\n",
              "             scoring='roc_auc', verbose=1)"
            ]
          },
          "metadata": {
            "tags": []
          },
          "execution_count": 23
        }
      ]
    },
    {
      "cell_type": "markdown",
      "metadata": {
        "id": "Ny1gjJPOOaNu"
      },
      "source": [
        "Let's say we are interested in assessing our RF model in terms of ROC analysis. "
      ]
    },
    {
      "cell_type": "code",
      "metadata": {
        "colab": {
          "base_uri": "https://localhost:8080/"
        },
        "id": "TCG7OBlbOaNv",
        "outputId": "3f47c081-5021-4a8d-fb4d-6a2ca0aebd9d"
      },
      "source": [
        "print(\"Best CV AUC: %0.4f\" % gs_rf.best_score_)\n",
        "print(\"Optimal RF meta-parameters:\")\n",
        "print(gs_rf.best_params_)\n",
        "\n",
        "from sklearn import metrics\n",
        "\n",
        "auc_trace = {}\n",
        "\n",
        "# Find test set auc of the best random forest classifier\n",
        "fp_rate, tp_rate, _ = metrics.roc_curve(y_test, gs_rf.predict_proba(X_test)[:, 1])\n",
        "auc_trace.update( {'rf' : metrics.auc(fp_rate, tp_rate)}) \n",
        "print('RF test set AUC: {:.4f}'.format(auc_trace['rf']))"
      ],
      "execution_count": null,
      "outputs": [
        {
          "output_type": "stream",
          "text": [
            "Best CV AUC: 0.9660\n",
            "Optimal RF meta-parameters:\n",
            "{'max_features': 1, 'n_estimators': 50}\n",
            "RF test set AUC: 0.9763\n"
          ],
          "name": "stdout"
        }
      ]
    },
    {
      "cell_type": "markdown",
      "metadata": {
        "id": "ZMyif7DvOaNy"
      },
      "source": [
        "You should see some quite impressive AUC value. Let's plot the ROC curve to appreciate the power of our RF. This also shows how to access the final model from the grid-search results."
      ]
    },
    {
      "cell_type": "code",
      "metadata": {
        "colab": {
          "base_uri": "https://localhost:8080/",
          "height": 279
        },
        "id": "ydJRyTqAOaNz",
        "outputId": "0e079d39-4289-4761-ce4d-c1af62159b14"
      },
      "source": [
        "# The plot is not new but note the use of gs_rf.best_estimator_ \n",
        "metrics.plot_roc_curve(gs_rf.best_estimator_, X_test, y_test)\n",
        "plt.plot([0, 1], [0, 1], \"r--\");"
      ],
      "execution_count": null,
      "outputs": [
        {
          "output_type": "display_data",
          "data": {
            "image/png": "[encoded data removed]",
            "text/plain": [
              "<Figure size 864x432 with 1 Axes>"
            ]
          },
          "metadata": {
            "tags": [],
            "needs_background": "light"
          }
        }
      ]
    },
    {
      "cell_type": "markdown",
      "metadata": {
        "id": "VGyef4wsOaOA"
      },
      "source": [
        "# Boosting\n",
        "Boosting-type algorithms are based on **two core principles**:\n",
        "1. Develop an ensemble sequentially (i.e. add one model at a time)\n",
        "2. Let the next model in the chain correct the errors of the current ensemble\n",
        "\n",
        "We discussed two flavors of boosting in the lecture:\n",
        "- **adaboost algorithm**, first instantiation of a boosting ensemble\n",
        "- **gradient boosting**, proposed in the paper [Greedy Function Approximation: A Gradient Boosting Machine](https://www.jstor.org/stable/2699986?seq=1) by Jerome H. Friedman\n",
        "\n",
        "This part of the tutorial follows the same approach as above, we first demonstrate implementing a boosting ensemble from scratch and then showcase its use together with a professional machine learning library. Many derivatives of boosting and libraries exist. Some members of the gradient boosting family include:\n",
        "- [LightGBM from Microsoft](https://lightgbm.readthedocs.io/en/latest/)\n",
        "- [Catboost from Yandex](https://catboost.ai/)\n",
        "- [NGBoost from Stanford ML Group](https://stanfordmlgroup.github.io/projects/ngboost/)\n",
        "\n",
        "Given wide adoption in practice and academia, we opted for focusing the tutorial to **extreme gradient boosting** or XGB for short. Demos for other popular boosting algorithms are available via the links above. Boosting algorithms that do not follow the gradient boosting principle may be considered somewhat old-fashioned. We will not cover them here. However, the exercises give you an opportunity to implement your own Adaboost ensemble from scratch. And of course, `sklearn` also supports adaboost and other boosting algorithms.    "
      ]
    },
    {
      "cell_type": "markdown",
      "metadata": {
        "id": "31TaG5uJh0SS"
      },
      "source": [
        "## Verifying the boosting principle\n",
        "Is it true really true that one model can *learn* or *correct* the errors of another model as promised by the boosting paradigm? Before diving into cutting-edge gradient boosting, let's convince ourselves of this  fundamental premise of boosting. \n",
        "\n",
        "For this purpose, we use the HMEQ data set and demonstrate that training a model on the errors of a previous model helps to reduce classification error. Since it is common practice to implement boosting using trees as base model, we follow this approach.  "
      ]
    },
    {
      "cell_type": "code",
      "metadata": {
        "id": "V8lCORhgtWD4"
      },
      "source": [
        "from sklearn import tree"
      ],
      "execution_count": null,
      "outputs": []
    },
    {
      "cell_type": "markdown",
      "metadata": {
        "id": "7PFd6oVUtXNI"
      },
      "source": [
        "### Model training \n",
        "Here we will show the effectiveness of corrective models that *train on errors*. We will first train two models, the first will be for regular predictions. The second will predict which observations the first model misclassifies. We will first run the first prediction on test data, then correct these predictions using the second model.\n"
      ]
    },
    {
      "cell_type": "code",
      "metadata": {
        "id": "UZQCtRWzNDuE"
      },
      "source": [
        "estimators = []   # List to store the different models"
      ],
      "execution_count": null,
      "outputs": []
    },
    {
      "cell_type": "code",
      "metadata": {
        "id": "ZYUxast5upkQ"
      },
      "source": [
        "# Train first classifier\n",
        "clf = tree.DecisionTreeClassifier(criterion=\"entropy\", min_samples_split=2, max_depth=2)  # First classifier\n",
        "dt = clf.fit(X_train, y_train)  # Fit the classifier\n",
        "estimators.append(('first model', dt))"
      ],
      "execution_count": null,
      "outputs": []
    },
    {
      "cell_type": "markdown",
      "metadata": {
        "id": "LAlaHLDFOaOl"
      },
      "source": [
        "Having obtained our first model, we can calculate that model's residuals on the training set. Let's consider a classification setting. More concretely, let's focus on discrete class predictions. Recall that this is the type of output that we obtain when calling the function `predict()`.  "
      ]
    },
    {
      "cell_type": "code",
      "metadata": {
        "id": "w8SAYdlsutvz"
      },
      "source": [
        "initial_pred = dt.predict(X_train)  # Classify training set using first classifier"
      ],
      "execution_count": null,
      "outputs": []
    },
    {
      "cell_type": "markdown",
      "metadata": {
        "id": "n4J3L9zCOaOr"
      },
      "source": [
        "Next, we identify misclassified observations and calculate the **classification error**.\n",
        "\n",
        "Let's produce a binary vector with the same length as the training set in which an entry of `True` indicates that the corresponding training set observation is misclassified by our first tree. The way we design our vector also makes it very easy to compute the classification error. All we need is to find the mean of that vector."
      ]
    },
    {
      "cell_type": "code",
      "metadata": {
        "colab": {
          "base_uri": "https://localhost:8080/"
        },
        "id": "IKHBSTiq7ADX",
        "outputId": "b1a53b69-7ff3-40dd-a0a3-cb3ecc1dde4b"
      },
      "source": [
        "res = initial_pred != y_train.iloc[:, 0] \n",
        "print(\"Classification error of tree #1 is {:.4}\".format(res.mean()))\n",
        "print(\"Total number of errors tree #1 is\", res.sum())"
      ],
      "execution_count": null,
      "outputs": [
        {
          "output_type": "stream",
          "text": [
            "Classification error of tree #1 is 0.15\n",
            "Total number of errors tree #1 is 626\n"
          ],
          "name": "stdout"
        }
      ]
    },
    {
      "cell_type": "markdown",
      "metadata": {
        "id": "6CFvQXw0OaOw"
      },
      "source": [
        "On to model #2. Here, we train not on $y$ but a new binary target variable indicating whether model #1 classified an observation correctly. We can think of this new target as $y - \\hat{y}$ ie. the residual. However, since we train on decisions of a binary outcome, this classifier will predict errors of the first classifier."
      ]
    },
    {
      "cell_type": "code",
      "metadata": {
        "colab": {
          "base_uri": "https://localhost:8080/"
        },
        "id": "x1SUtWIS9l5v",
        "outputId": "f02a3f94-5107-4d98-f010-fbd10535716b"
      },
      "source": [
        "clf2 = tree.DecisionTreeClassifier(criterion=\"gini\")  # instantiate second model\n",
        "dt_res = clf2.fit(X_train, res)                       # note the new target, we are training on residuals\n",
        "estimators.append(('second model', dt_res))           # store second model for later\n",
        "dt_res"
      ],
      "execution_count": null,
      "outputs": [
        {
          "output_type": "execute_result",
          "data": {
            "text/plain": [
              "DecisionTreeClassifier(ccp_alpha=0.0, class_weight=None, criterion='gini',\n",
              "                       max_depth=None, max_features=None, max_leaf_nodes=None,\n",
              "                       min_impurity_decrease=0.0, min_impurity_split=None,\n",
              "                       min_samples_leaf=1, min_samples_split=2,\n",
              "                       min_weight_fraction_leaf=0.0, presort='deprecated',\n",
              "                       random_state=None, splitter='best')"
            ]
          },
          "metadata": {
            "tags": []
          },
          "execution_count": 31
        }
      ]
    },
    {
      "cell_type": "markdown",
      "metadata": {
        "id": "N6DGkiYMOaO2"
      },
      "source": [
        "Calling the `predict`function of our second corrective model, we obtain a prediction of which observations model #1 is likely to misclassify. "
      ]
    },
    {
      "cell_type": "code",
      "metadata": {
        "colab": {
          "base_uri": "https://localhost:8080/"
        },
        "id": "RJX5qQTR_au6",
        "outputId": "d44527f6-98f1-4aa3-96cc-d08c2b92de54"
      },
      "source": [
        "likely_misclassifications = dt_res.predict(X_train) \n",
        "print(\"Based on model #2, we expect model #1 to misclassify {} observations.\".format(\n",
        "    likely_misclassifications.sum()))"
      ],
      "execution_count": null,
      "outputs": [
        {
          "output_type": "stream",
          "text": [
            "Based on model #2, we expect model #1 to misclassify 626 observations.\n"
          ],
          "name": "stdout"
        }
      ]
    },
    {
      "cell_type": "code",
      "metadata": {
        "colab": {
          "base_uri": "https://localhost:8080/"
        },
        "id": "lCBBxnW8Qx5_",
        "outputId": "700757a2-5ac7-46e2-b38b-5e030741e6a4"
      },
      "source": [
        "# Check if classified likely misclassifications are the same as residuals\n",
        "accuracy_misclassifications = likely_misclassifications == res\n",
        "print(accuracy_misclassifications)"
      ],
      "execution_count": null,
      "outputs": [
        {
          "output_type": "stream",
          "text": [
            "index\n",
            "1230    True\n",
            "2727    True\n",
            "4187    True\n",
            "4446    True\n",
            "2513    True\n",
            "        ... \n",
            "4455    True\n",
            "5270    True\n",
            "1263    True\n",
            "1946    True\n",
            "2558    True\n",
            "Name: BAD, Length: 4172, dtype: bool\n"
          ],
          "name": "stdout"
        }
      ]
    },
    {
      "cell_type": "code",
      "metadata": {
        "colab": {
          "base_uri": "https://localhost:8080/"
        },
        "id": "qaTLynrfR2Bc",
        "outputId": "8b6679bb-dddd-43ec-f142-c8aea6d0c975"
      },
      "source": [
        "# It seems likely misclassifications are exactly congruent with residuals, so the model does work\n",
        "accuracy_misclassifications.mean() "
      ],
      "execution_count": null,
      "outputs": [
        {
          "output_type": "execute_result",
          "data": {
            "text/plain": [
              "1.0"
            ]
          },
          "metadata": {
            "tags": []
          },
          "execution_count": 34
        }
      ]
    },
    {
      "cell_type": "markdown",
      "metadata": {
        "id": "4ZaQ61X4hJSS"
      },
      "source": [
        "### Model testing\n",
        "\n",
        "Now that we have our two models, we will begin using the test data to see if a combination of the two models can reduce the value of the residuals. We will first predict y using X_test."
      ]
    },
    {
      "cell_type": "code",
      "metadata": {
        "id": "Fp-Wmz6sRGhv"
      },
      "source": [
        "pred_initial_test = dt.predict(X_test)"
      ],
      "execution_count": null,
      "outputs": []
    },
    {
      "cell_type": "code",
      "metadata": {
        "colab": {
          "base_uri": "https://localhost:8080/"
        },
        "id": "wdVk27zeRTh-",
        "outputId": "fb227e2f-1d06-4ece-ff3d-4e370ce9c3f0"
      },
      "source": [
        "res_test = pred_initial_test != y_test.iloc[:, 0]\n",
        "print(\"Test error of model 1: {:.4}\".format(res_test.mean()))"
      ],
      "execution_count": null,
      "outputs": [
        {
          "output_type": "stream",
          "text": [
            "Test error of model 1: 0.1454\n"
          ],
          "name": "stdout"
        }
      ]
    },
    {
      "cell_type": "markdown",
      "metadata": {
        "id": "kM3lSiCrhUpY"
      },
      "source": [
        "Now we predict for which observations model 1 has likely made an error."
      ]
    },
    {
      "cell_type": "code",
      "metadata": {
        "colab": {
          "base_uri": "https://localhost:8080/"
        },
        "id": "_BflWXFPRZxt",
        "outputId": "7b7c6935-a13a-4efc-8210-813d78da6aa2"
      },
      "source": [
        "likely_misclassifications_test = dt_res.predict(X_test)\n",
        "likely_misclassifications_test"
      ],
      "execution_count": null,
      "outputs": [
        {
          "output_type": "execute_result",
          "data": {
            "text/plain": [
              "array([False,  True, False, ..., False, False,  True])"
            ]
          },
          "metadata": {
            "tags": []
          },
          "execution_count": 37
        }
      ]
    },
    {
      "cell_type": "markdown",
      "metadata": {
        "id": "UKWZfWWwhcWH"
      },
      "source": [
        "Lastly, we correct the likely misclassifications by simply flipping the predicted (from model 1) class label."
      ]
    },
    {
      "cell_type": "code",
      "metadata": {
        "id": "3cT6A821eUuA"
      },
      "source": [
        "pred_corrected = pd.Series(pred_initial_test)\n",
        "pred_corrected[likely_misclassifications_test] = ~ pred_corrected[likely_misclassifications_test]"
      ],
      "execution_count": null,
      "outputs": []
    },
    {
      "cell_type": "code",
      "metadata": {
        "colab": {
          "base_uri": "https://localhost:8080/"
        },
        "id": "YVipz0q5LcV6",
        "outputId": "287a0ba0-7c2e-4642-b703-48f67cf54b89"
      },
      "source": [
        "pred_initial_test[likely_misclassifications_test]  # Check that they have actually been changed"
      ],
      "execution_count": null,
      "outputs": [
        {
          "output_type": "execute_result",
          "data": {
            "text/plain": [
              "array([ True, False,  True,  True,  True,  True, False,  True, False,\n",
              "        True,  True,  True, False,  True, False,  True, False, False,\n",
              "        True, False, False,  True,  True, False,  True,  True,  True,\n",
              "        True, False,  True, False,  True,  True, False,  True,  True,\n",
              "       False, False, False,  True,  True,  True,  True,  True, False,\n",
              "        True, False,  True,  True,  True, False,  True,  True,  True,\n",
              "       False, False,  True,  True, False,  True,  True, False, False,\n",
              "       False, False,  True,  True,  True, False,  True,  True, False,\n",
              "        True,  True, False,  True,  True,  True, False,  True, False,\n",
              "       False, False,  True, False,  True,  True,  True, False, False,\n",
              "        True,  True,  True, False,  True,  True,  True,  True,  True,\n",
              "       False, False, False, False,  True,  True,  True,  True,  True,\n",
              "        True,  True, False,  True,  True,  True,  True, False,  True,\n",
              "        True, False, False, False, False,  True,  True,  True, False,\n",
              "       False,  True,  True, False,  True,  True,  True, False,  True,\n",
              "       False, False, False, False, False,  True, False, False,  True,\n",
              "        True,  True,  True,  True,  True, False,  True,  True,  True,\n",
              "        True,  True,  True,  True, False, False,  True,  True,  True,\n",
              "        True,  True, False,  True,  True, False, False,  True,  True,\n",
              "        True,  True,  True,  True,  True, False,  True,  True,  True,\n",
              "       False, False, False,  True,  True,  True,  True,  True,  True,\n",
              "       False,  True,  True, False,  True, False,  True, False,  True,\n",
              "        True, False,  True, False, False, False, False,  True, False,\n",
              "       False,  True,  True,  True, False,  True,  True, False,  True,\n",
              "       False, False, False, False,  True,  True, False])"
            ]
          },
          "metadata": {
            "tags": []
          },
          "execution_count": 39
        }
      ]
    },
    {
      "cell_type": "code",
      "metadata": {
        "colab": {
          "base_uri": "https://localhost:8080/"
        },
        "id": "dGrQerZvfyTC",
        "outputId": "ded42c40-2e34-4790-f039-cccec679c5cc"
      },
      "source": [
        "pred_corrected[likely_misclassifications_test]  # all the results are opposite, so this worked!"
      ],
      "execution_count": null,
      "outputs": [
        {
          "output_type": "execute_result",
          "data": {
            "text/plain": [
              "1       False\n",
              "5        True\n",
              "19      False\n",
              "37      False\n",
              "43      False\n",
              "        ...  \n",
              "1763     True\n",
              "1770     True\n",
              "1771    False\n",
              "1783    False\n",
              "1787     True\n",
              "Length: 223, dtype: object"
            ]
          },
          "metadata": {
            "tags": []
          },
          "execution_count": 40
        }
      ]
    },
    {
      "cell_type": "markdown",
      "metadata": {
        "id": "QWMDEVGsOaQT"
      },
      "source": [
        "Time for the grand final, did we reduce the test error?"
      ]
    },
    {
      "cell_type": "code",
      "metadata": {
        "colab": {
          "base_uri": "https://localhost:8080/"
        },
        "id": "kI1XuYH8gCS0",
        "outputId": "4fb0e72a-18dd-4507-f20d-57f5df2f9d05"
      },
      "source": [
        "res_corrected = np.array(pred_corrected) != y_test.iloc[:,0]\n",
        "print(\"Test error after corrected model 1 by model 2: {:.4}\".format(res_corrected.mean()))"
      ],
      "execution_count": null,
      "outputs": [
        {
          "output_type": "stream",
          "text": [
            "Test error after corrected model 1 by model 2: 0.1314\n"
          ],
          "name": "stdout"
        }
      ]
    },
    {
      "cell_type": "markdown",
      "metadata": {
        "id": "iBOLBv6YhnS_"
      },
      "source": [
        "Hurray!!!\n",
        "\n",
        "A lower test error indicates that our process worked. We were able to lower the error on a test set using a second model which focused on identifying misclassified cases. Let's now examine how gradient boosting relies on similar principles but is a bit more complex in execution."
      ]
    },
    {
      "cell_type": "markdown",
      "metadata": {
        "id": "gIElR_QSOaQa"
      },
      "source": [
        "## Gradient Boosting from scratch\n",
        "\n",
        "Gradient boosting is one specific form of boosting (using residuals recursively to increase accuracy). This process begins with an initial simple prediction, which is often the mean of the target variable. Next, the algorithm iteratively goes through every feature and determines which feature will best reduce this error with a single split. This is essentially a single level tree, or stump. This stump is then chosen and added to the ensemble. Next, residuals are calculated once again and the process continues for as many iterations as deemed necessary.\n",
        "\n",
        "We can implement this procedure from scratch as well to examine how it works. The original code for this exercise can be seen [here](https://towardsdatascience.com/gradient-boosting-in-python-from-scratch-4a3d9077367). It has been adapted for this lesson.  We will first use the same data set that we generated in [Tutorial 3 for classification](https://github.com/Humboldt-WI/bads/blob/master/tutorials/3_nb_predictive_analytics.ipynb). Our gradient booster will also be a classification example. Keep in mind that regression is possible too!"
      ]
    },
    {
      "cell_type": "code",
      "metadata": {
        "id": "sCgJ-MKlJV2j"
      },
      "source": [
        "np.random.seed(888)"
      ],
      "execution_count": null,
      "outputs": []
    },
    {
      "cell_type": "code",
      "metadata": {
        "colab": {
          "base_uri": "https://localhost:8080/"
        },
        "id": "6ZnyYABLJYFT",
        "outputId": "254be8ea-349c-4723-bc49-0d6d15500491"
      },
      "source": [
        "# Create synthetic dataset, same as tutorial 3\n",
        "\n",
        "class1_x = np.random.normal(loc=1, scale=1, size=1000)\n",
        "class1_y = np.random.normal(loc=1, scale=1, size=1000)\n",
        "\n",
        "class2_x = np.random.normal(loc=4, scale=1, size=1000)\n",
        "class2_y = np.random.normal(loc=4, scale=1, size=1000)\n",
        "\n",
        "lab1 = np.repeat(0, 1000)\n",
        "lab2 = np.repeat(1, 1000)\n",
        "\n",
        "class1 = np.vstack((class1_x, class1_y)).T\n",
        "class2 = np.vstack((class2_x, class2_y)).T\n",
        "\n",
        "data = np.vstack((class1,class2))\n",
        "\n",
        "labels = np.concatenate((lab1,lab2))\n",
        "\n",
        "# Visualization of data set\n",
        "\n",
        "plt.scatter(data[:,0], data[:,1], c=labels, alpha=.3);\n",
        "plt.xlabel(\"$x_1$\");\n",
        "plt.ylabel(\"$x_2$\");"
      ],
      "execution_count": null,
      "outputs": [
        {
          "output_type": "display_data",
          "data": {
            "image/png": "[encoded data removed]",
            "text/plain": [
              "<Figure size 864x432 with 1 Axes>"
            ]
          },
          "metadata": {
            "tags": [],
            "needs_background": "light"
          }
        }
      ]
    },
    {
      "cell_type": "markdown",
      "metadata": {
        "id": "aX468TqvaxIB"
      },
      "source": [
        "To begin gradient boost, we first need a loss function to quantify the difference between the predicted y values and the true y values. This loss function must be differentiable to obtain the gradient. This loss function will determine how the function and its derivative (the gradient) creates future stumps for our gradient boost forest."
      ]
    },
    {
      "cell_type": "code",
      "metadata": {
        "id": "BtmJQirlLDSO"
      },
      "source": [
        "def compute_loss(y, pred_y): \n",
        "    return ((y - pred_y) ** 2) / 2"
      ],
      "execution_count": null,
      "outputs": []
    },
    {
      "cell_type": "code",
      "metadata": {
        "id": "iu0uc8G7LGjU"
      },
      "source": [
        "def loss_gradient(y, pred_y): \n",
        "    return -(y-pred_y)"
      ],
      "execution_count": null,
      "outputs": []
    },
    {
      "cell_type": "markdown",
      "metadata": {
        "id": "7L8nIGQ_emJe"
      },
      "source": [
        "Now that we have our loss and gradient functions, we can begin with the gradient boost algorithm. The first step in the algorithm is to create an initial prediction. Generally, this is the mean of the labels. Next, residuals are calculated by using the `loss_gradient` function and a shallow single level decision tree or decision 'stump' is created based on these residuals. Residuals are then recalculated and this process repeats iteratively."
      ]
    },
    {
      "cell_type": "code",
      "metadata": {
        "id": "NEDEWMoaJfEw"
      },
      "source": [
        "from sklearn.tree import DecisionTreeRegressor \n",
        "\n",
        "def gradient_boost_algorithm(X, y, iter=10): \n",
        "    forest_of_stumps = [] \n",
        "    pred_y = np.array([y.mean()]*len(y))  # Predict mean for all observations\n",
        "    pred_y_initial = pred_y \n",
        "    print(compute_loss(y, pred_y).mean()) \n",
        "    for i in range(iter): \n",
        "        residuals = -loss_gradient(y, pred_y)  # Calculate residuals using the gradient function\n",
        "        stump = DecisionTreeRegressor(max_depth=1)\n",
        "        stump.fit(X, residuals)  # Feed data and residuals to the decision tree function (stump since it has a depth of only 1)\n",
        "        forest_of_stumps.append(stump)  # Add this tree to the forest\n",
        "        new_pred_y = stump.predict(X)  # Make new predictions and repeat this process over the specified number of iterations\n",
        "        pred_y = pred_y + new_pred_y  # note that this update shares similarities with the gradient descent algorithm, just that our basic implementation does not use a learning rate parameter\n",
        "        print(compute_loss(y, pred_y).mean())\n",
        "    return forest_of_stumps, pred_y_initial"
      ],
      "execution_count": null,
      "outputs": []
    },
    {
      "cell_type": "markdown",
      "metadata": {
        "id": "8XdPvrNNlHgQ"
      },
      "source": [
        "The final function will be to predict classes using our algorithm. We will first run new observations through our forest of stumps sequentially and add their predictions together. At this point, the tree will return probabilities that each observation will be of class `1`. If we want a class prediction rather than probabilities of class `1`, we can compare each prediction to some threshold value (defaulted at `0.5`). Predictions over the threshold will be considered class `1` predictions while all others will be class `0`."
      ]
    },
    {
      "cell_type": "code",
      "metadata": {
        "id": "1tEdmilTLiJk"
      },
      "source": [
        "def gradient_boost_predict(forest_of_stumps, pred_y_initial, X, predict_class=False, threshold=0.5): \n",
        "    pred_y = np.array([pred_y_initial[0]]*len(X))\n",
        "    for stump in forest_of_stumps: \n",
        "        pred_y = pred_y + stump.predict(X)  # Navigate the forest sequentially adding the predictions from each stump along the way\n",
        "    if predict_class:\n",
        "      pred_y = pred_y > threshold\n",
        "      pred_y = np.where(pred_y==False, 0, pred_y)\n",
        "      pred_y = np.where(pred_y==True, 1, pred_y) \n",
        "    return pred_y"
      ],
      "execution_count": null,
      "outputs": []
    },
    {
      "cell_type": "markdown",
      "metadata": {
        "id": "hw-HldaBv_Au"
      },
      "source": [
        "Now we can train our model using these functions. Each loop within the function will print the mean of the loss function so we can verify that it is actually decreasing. You can adjust iteration number to allow a larger forest of stumps in the gradient boost forest."
      ]
    },
    {
      "cell_type": "code",
      "metadata": {
        "colab": {
          "base_uri": "https://localhost:8080/"
        },
        "id": "iChsnxE2PVMx",
        "outputId": "9b4710cc-04b1-411f-ddd2-90c8cffa6cdd"
      },
      "source": [
        "stumps, pred_y_initial = gradient_boost_algorithm(data, labels, iter=10)"
      ],
      "execution_count": null,
      "outputs": [
        {
          "output_type": "stream",
          "text": [
            "0.125\n",
            "0.028301419238567247\n",
            "0.02345766189417778\n",
            "0.020762059308151854\n",
            "0.018699488395621827\n",
            "0.017682921322778985\n",
            "0.01670758697552558\n",
            "0.016233586287342353\n",
            "0.015628097506118023\n",
            "0.015281764309078226\n",
            "0.014965850618216177\n"
          ],
          "name": "stdout"
        }
      ]
    },
    {
      "cell_type": "code",
      "metadata": {
        "colab": {
          "base_uri": "https://localhost:8080/"
        },
        "id": "GfVwjKkfQArs",
        "outputId": "b5661655-df0d-4a07-889d-d2eb9e4a8b27"
      },
      "source": [
        "stumps"
      ],
      "execution_count": null,
      "outputs": [
        {
          "output_type": "execute_result",
          "data": {
            "text/plain": [
              "[DecisionTreeRegressor(ccp_alpha=0.0, criterion='mse', max_depth=1,\n",
              "                       max_features=None, max_leaf_nodes=None,\n",
              "                       min_impurity_decrease=0.0, min_impurity_split=None,\n",
              "                       min_samples_leaf=1, min_samples_split=2,\n",
              "                       min_weight_fraction_leaf=0.0, presort='deprecated',\n",
              "                       random_state=None, splitter='best'),\n",
              " DecisionTreeRegressor(ccp_alpha=0.0, criterion='mse', max_depth=1,\n",
              "                       max_features=None, max_leaf_nodes=None,\n",
              "                       min_impurity_decrease=0.0, min_impurity_split=None,\n",
              "                       min_samples_leaf=1, min_samples_split=2,\n",
              "                       min_weight_fraction_leaf=0.0, presort='deprecated',\n",
              "                       random_state=None, splitter='best'),\n",
              " DecisionTreeRegressor(ccp_alpha=0.0, criterion='mse', max_depth=1,\n",
              "                       max_features=None, max_leaf_nodes=None,\n",
              "                       min_impurity_decrease=0.0, min_impurity_split=None,\n",
              "                       min_samples_leaf=1, min_samples_split=2,\n",
              "                       min_weight_fraction_leaf=0.0, presort='deprecated',\n",
              "                       random_state=None, splitter='best'),\n",
              " DecisionTreeRegressor(ccp_alpha=0.0, criterion='mse', max_depth=1,\n",
              "                       max_features=None, max_leaf_nodes=None,\n",
              "                       min_impurity_decrease=0.0, min_impurity_split=None,\n",
              "                       min_samples_leaf=1, min_samples_split=2,\n",
              "                       min_weight_fraction_leaf=0.0, presort='deprecated',\n",
              "                       random_state=None, splitter='best'),\n",
              " DecisionTreeRegressor(ccp_alpha=0.0, criterion='mse', max_depth=1,\n",
              "                       max_features=None, max_leaf_nodes=None,\n",
              "                       min_impurity_decrease=0.0, min_impurity_split=None,\n",
              "                       min_samples_leaf=1, min_samples_split=2,\n",
              "                       min_weight_fraction_leaf=0.0, presort='deprecated',\n",
              "                       random_state=None, splitter='best'),\n",
              " DecisionTreeRegressor(ccp_alpha=0.0, criterion='mse', max_depth=1,\n",
              "                       max_features=None, max_leaf_nodes=None,\n",
              "                       min_impurity_decrease=0.0, min_impurity_split=None,\n",
              "                       min_samples_leaf=1, min_samples_split=2,\n",
              "                       min_weight_fraction_leaf=0.0, presort='deprecated',\n",
              "                       random_state=None, splitter='best'),\n",
              " DecisionTreeRegressor(ccp_alpha=0.0, criterion='mse', max_depth=1,\n",
              "                       max_features=None, max_leaf_nodes=None,\n",
              "                       min_impurity_decrease=0.0, min_impurity_split=None,\n",
              "                       min_samples_leaf=1, min_samples_split=2,\n",
              "                       min_weight_fraction_leaf=0.0, presort='deprecated',\n",
              "                       random_state=None, splitter='best'),\n",
              " DecisionTreeRegressor(ccp_alpha=0.0, criterion='mse', max_depth=1,\n",
              "                       max_features=None, max_leaf_nodes=None,\n",
              "                       min_impurity_decrease=0.0, min_impurity_split=None,\n",
              "                       min_samples_leaf=1, min_samples_split=2,\n",
              "                       min_weight_fraction_leaf=0.0, presort='deprecated',\n",
              "                       random_state=None, splitter='best'),\n",
              " DecisionTreeRegressor(ccp_alpha=0.0, criterion='mse', max_depth=1,\n",
              "                       max_features=None, max_leaf_nodes=None,\n",
              "                       min_impurity_decrease=0.0, min_impurity_split=None,\n",
              "                       min_samples_leaf=1, min_samples_split=2,\n",
              "                       min_weight_fraction_leaf=0.0, presort='deprecated',\n",
              "                       random_state=None, splitter='best'),\n",
              " DecisionTreeRegressor(ccp_alpha=0.0, criterion='mse', max_depth=1,\n",
              "                       max_features=None, max_leaf_nodes=None,\n",
              "                       min_impurity_decrease=0.0, min_impurity_split=None,\n",
              "                       min_samples_leaf=1, min_samples_split=2,\n",
              "                       min_weight_fraction_leaf=0.0, presort='deprecated',\n",
              "                       random_state=None, splitter='best')]"
            ]
          },
          "metadata": {
            "tags": []
          },
          "execution_count": 53
        }
      ]
    },
    {
      "cell_type": "markdown",
      "metadata": {
        "id": "q_dIcn6Fw186"
      },
      "source": [
        "We can now use these stumps to make a prediction on the data."
      ]
    },
    {
      "cell_type": "code",
      "metadata": {
        "colab": {
          "base_uri": "https://localhost:8080/"
        },
        "id": "I-cAH3EdSe-y",
        "outputId": "b2d6e083-90bf-42d4-cadd-284965e1dd7b"
      },
      "source": [
        "pred_gradient_boost = gradient_boost_predict(stumps, pred_y_initial, data, predict_class=True)\n",
        "\n",
        "print(pred_gradient_boost)"
      ],
      "execution_count": null,
      "outputs": [
        {
          "output_type": "stream",
          "text": [
            "[0 0 0 ... 1 1 1]\n"
          ],
          "name": "stdout"
        }
      ]
    },
    {
      "cell_type": "markdown",
      "metadata": {
        "id": "vIgzcJ2tzQty"
      },
      "source": [
        "We can also assess the mean error on the labels which is very low. Therefore, we can see this method works very well to separate classes."
      ]
    },
    {
      "cell_type": "code",
      "metadata": {
        "colab": {
          "base_uri": "https://localhost:8080/"
        },
        "id": "-wYeTC8AxCoX",
        "outputId": "5a778a92-37d3-408b-b0a4-d017e9b769a5"
      },
      "source": [
        "res_gradient_boost = pred_gradient_boost != labels\n",
        "print(\"The average error is\", res_gradient_boost.mean())\n",
        "print(\"The total number of errors is\" , res_gradient_boost.sum(), \"of\", len(res_gradient_boost), \"predictions in total\")"
      ],
      "execution_count": null,
      "outputs": [
        {
          "output_type": "stream",
          "text": [
            "The average error is 0.0345\n",
            "The total number of errors is 69 of 2000 predictions in total\n"
          ],
          "name": "stdout"
        }
      ]
    },
    {
      "cell_type": "markdown",
      "metadata": {
        "id": "bs-f_QSdOaQa"
      },
      "source": [
        "## XGBoost with xgb library \n",
        "Different gradient boosting algorithms exist and different implementations exist of each of those. If you want to use the *original gradient boosting machine* as proposed in [Friedman's 2001 paper](https://www.jstor.org/stable/2699986?seq=1) or his [follow-up paper on stochastic gradient boosting](http://dx.doi.org/10.1016/S0167-9473(01)00065-2), we recommend using the class `sklearn.ensemble.GradientBoostingClassifier`. It offers a lot of flexibility (e.g., hyperparameters) and is[ very well documented](https://scikit-learn.org/stable/modules/generated/sklearn.ensemble.GradientBoostingClassifier.html). However, for lager data sets, you might want to use **extreme gradient boosting (XGB)**, which was explicitly designed for highly scalable gradient boosting. Below, we demonstrate the application of XGB to our credit risk data set.\n",
        "\n",
        "Although `sklearn` does have a version of this algorithm, it is actually common to use the `xgboost` library for training XGB models. To be precise, `sklearn` offers an implementation of XGB but it might not incorporate the latest features. As far as the use is concerned, you will not notice any differences between the `xgboost` library and `sklearn`. However, **you might need to install the `xgboost` library before moving on**."
      ]
    },
    {
      "cell_type": "markdown",
      "metadata": {
        "id": "8pjI7d_dOaQb"
      },
      "source": [
        "### Tuning XGB hyperparameters\n",
        "Our modeling pipeline is exactly as before in the RF example, and in general. We tune hyperparameters using grid-search and cross-validating the training data. Once we determined good hyperparameter settings, we train a XGB model with the corresponding configuration on the entire training set and obtain test set prediction, which we assess using ROC analysis. "
      ]
    },
    {
      "cell_type": "code",
      "metadata": {
        "id": "HXx-QtShOaQb"
      },
      "source": [
        "import xgboost as xgb\n",
        "    # Setting up the grid of meta-parameters\n",
        "xgb_param_grid = {\n",
        "    'colsample_bytree': np.linspace(0.5, 0.9, 5),  # random subspace\n",
        "    'n_estimators': [10, 20],  # ensemble size or number of gradient steps; set to rather small values to save time\n",
        "    'max_depth': [5, 10],   # max depth of decision trees\n",
        "    'learning_rate': [0.1, 0.01],  # learning rate\n",
        "    'early_stopping_rounds': [10]}  # early stopping if no improvement after that many iterations\n",
        "\n",
        "gs_xgb = GridSearchCV(estimator=xgb.XGBClassifier(), param_grid=xgb_param_grid, scoring='roc_auc', cv=5, verbose=0)\n",
        "\n",
        "gs_xgb.fit(X_train, np.ravel(y_train))"
      ],
      "execution_count": null,
      "outputs": []
    },
    {
      "cell_type": "code",
      "metadata": {
        "colab": {
          "base_uri": "https://localhost:8080/"
        },
        "id": "ltvbOmWfOaQd",
        "outputId": "a389e8f9-8604-4b76-fb07-cd471f79af64"
      },
      "source": [
        "print(\"Best CV AUC: %0.4f\" % gs_xgb.best_score_)\n",
        "print(\"Optimal XGB meta-parameters:\")\n",
        "print(gs_xgb.best_params_)\n",
        "\n",
        "# Find test set AUC of the best XGB classifier\n",
        "fp_rate, tp_rate, _ = metrics.roc_curve(y_test, gs_xgb.predict_proba(X_test)[:, 1])\n",
        "print('XGB test set AUC with optimal meta-parameters: {:.4f}'.format(metrics.auc(fp_rate, tp_rate) ))"
      ],
      "execution_count": null,
      "outputs": [
        {
          "output_type": "stream",
          "text": [
            "Best CV AUC: 0.9493\n",
            "Optimal XGB meta-parameters:\n",
            "{'colsample_bytree': 0.5, 'early_stopping_rounds': 10, 'learning_rate': 0.1, 'max_depth': 10, 'n_estimators': 200}\n",
            "XGB test set AUC with optimal meta-parameters: 0.9570\n"
          ],
          "name": "stdout"
        }
      ]
    },
    {
      "cell_type": "code",
      "metadata": {
        "colab": {
          "base_uri": "https://localhost:8080/",
          "height": 279
        },
        "id": "xV1EIXwqOaQh",
        "outputId": "83a74edc-4a2e-4d64-aa05-c55b5755e815"
      },
      "source": [
        "# The plot is not new but note the use of gs_xgb.best_estimator_ \n",
        "metrics.plot_roc_curve(gs_xgb.best_estimator_, X_test, y_test)\n",
        "plt.plot([0, 1], [0, 1], \"r--\");"
      ],
      "execution_count": null,
      "outputs": [
        {
          "output_type": "display_data",
          "data": {
            "image/png": "[encoded data removed]",
            "text/plain": [
              "<Figure size 864x432 with 1 Axes>"
            ]
          },
          "metadata": {
            "tags": [],
            "needs_background": "light"
          }
        }
      ]
    },
    {
      "cell_type": "markdown",
      "metadata": {
        "id": "l4rHVeBnOaQk"
      },
      "source": [
        "# Conclusions\n",
        "With our simple credit risk data, RF and XGB both predict extremely accurately and it is hard to draw conclusions related to which one does better. Many recent studies and competitions find XGB to outperform RF provided you carefully tune XGB hyperparameters. Either may, you have seen some of the most popular off-the-shelf prediction methods in action and went through the burden of coding these methods from scratch. That is a remarkable accomplishment! Time put pad yourself on the shoulder and conclude our journey through the space of ensemble learning algorithms. "
      ]
    },
    {
      "cell_type": "code",
      "metadata": {
        "id": "Rv_NKSskZhy2"
      },
      "source": [
        ""
      ],
      "execution_count": null,
      "outputs": []
    }
  ]
}