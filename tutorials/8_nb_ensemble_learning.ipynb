{
  "nbformat": 4,
  "nbformat_minor": 0,
  "metadata": {
    "kernelspec": {
      "display_name": "PyCharm (adams)",
      "language": "python",
      "name": "pycharm-feb95198"
    },
    "language_info": {
      "codemirror_mode": {
        "name": "ipython",
        "version": 3
      },
      "file_extension": ".py",
      "mimetype": "text/x-python",
      "name": "python",
      "nbconvert_exporter": "python",
      "pygments_lexer": "ipython3",
      "version": "3.7.6"
    },
    "colab": {
      "name": "actually working 8_nb_ensemble_learning.ipynb",
      "provenance": [],
      "collapsed_sections": [
        "XN9VQW87OaNl",
        "7PFd6oVUtXNI",
        "4ZaQ61X4hJSS",
        "8pjI7d_dOaQb"
      ]
    }
  },
  "cells": [
    {
      "cell_type": "markdown",
      "metadata": {
        "id": "Ka20bzp6PcNj"
      },
      "source": [
        "[![Open In Colab](https://colab.research.google.com/assets/colab-badge.svg)](https://colab.research.google.com/github/Humboldt-WI/bads/blob/master/tutorials/8_nb_ensemble_learning.ipynb) \n"
      ]
    },
    {
      "cell_type": "markdown",
      "metadata": {
        "id": "swSaDjWvNDnY"
      },
      "source": [
        "# Chapter 8 - Ensemble learning \n",
        "We covered classification and regression trees in [Tutorial 5](https://github.com/Humboldt-WI/bads/blob/master/tutorials/5_nb_supervised_learning.ipynb) on supervised learning. Today, we will look into ways for improving the predictive power of tree-based classifiers through *ensemble learning*. Recall that an ensemble is a **collection of multiple base models**. The base models are prediction models on their own. In a homogeneous ensemble, we produce the base models with the same supervised learning algorithm whch is the focus of this tutorial. Our underlying learning algorithm will be a classification tree. \n",
        "\n",
        "The lecture introduced three popular homogeneous ensemble frameworks: bagging, random forest, and boosting. We also learned that the last framework is often implemented using *Adaboost* or, more recently, *gradient boosting*. The goal of the tutorial is to demonstrate how these ensemble learning frameworks work. In order to do this, we provide **implementations of multiple ensemble learners from scratch**. Another goal is to empower you to use ensemble algorithms in your work/studies. We pursue this goal by walking you through coding demos on **how to train, tune, and apply ensemble learning algorithms** using `sklearn` and other libraries. \n",
        "\n",
        "\n",
        "The outline of the tutorial is as follows:\n",
        "- Preliminaries\n",
        "- Random Forest (homogeneous ensemble)\n",
        "- Boosting principles\n",
        "- Gradient boosting from scratch\n",
        "- XGBoost with xgb"
      ]
    },
    {
      "cell_type": "markdown",
      "metadata": {
        "id": "wdsBsoSzOaMf"
      },
      "source": [
        "# Preliminaries\n",
        "We begin as usual with importing our standard libraries and also our standard modeling data. Since we are also familiar with data organization by now, we will also use `sklearn`'s functionality to partition our data into a training and a test set. "
      ]
    },
    {
      "cell_type": "code",
      "metadata": {
        "id": "iUm22RYkOaMg",
        "colab": {
          "base_uri": "https://localhost:8080/"
        },
        "outputId": "4baa7592-5deb-4a98-bddc-e94833e82b9a"
      },
      "source": [
        "# Import standard Python libraries\n",
        "import numpy as np\n",
        "import matplotlib.pyplot as plt\n",
        "import pandas as pd \n",
        "from sklearn.model_selection import train_test_split\n",
        "\n",
        "# Some configuration of the plots we will create later\n",
        "%matplotlib inline  \n",
        "plt.rcParams[\"figure.figsize\"] = (12,6)\n",
        "\n",
        "# Load credit risk data in pre-processed format from GitHub\n",
        "data_url = 'https://raw.githubusercontent.com/Humboldt-WI/bads/master/data/hmeq_modeling.csv' \n",
        "df = pd.read_csv(data_url, index_col=\"index\")\n",
        "\n",
        "# Pretty printing\n",
        "from pprint import pprint\n",
        "\n",
        "# Extract target variable and feature matrix \n",
        "X = df.drop(['BAD'], axis=1) \n",
        "y = df[['BAD']]\n",
        "\n",
        "# Split data into training and test\n",
        "X_train, X_test, y_train, y_test = train_test_split(X, y, test_size=0.3, random_state=888)\n",
        "print(\"Remember the shape of our data: \")\n",
        "print(X_train.shape, y_train.shape, X_test.shape, y_test.shape)"
      ],
      "execution_count": 1,
      "outputs": [
        {
          "output_type": "stream",
          "text": [
            "Remember the shape of our data: \n",
            "(4172, 18) (4172, 1) (1788, 18) (1788, 1)\n"
          ],
          "name": "stdout"
        }
      ]
    },
    {
      "cell_type": "markdown",
      "metadata": {
        "id": "62DNtKZoOaMk"
      },
      "source": [
        "# Random forest\n",
        "Even more effective for predictions than decision trees, random forests (RF) are useful and powerful ensemble methods for classifying and regressing data. Essentially, a random set of the features are taken to build decision trees. Trees are also built using *bagged data* which are samples of the data taken with replacement. Many trees are grown (sometimes their maximum depth is also specified) and then all trees vote on the response. Each tree's vote generally has the same weight.\n"
      ]
    },
    {
      "cell_type": "markdown",
      "metadata": {
        "id": "Xa1KWriEOaMl"
      },
      "source": [
        "## Random forest from scratch\n",
        "Though most of the the time we'd use `sklearn`  to implement RF, it is useful to take a look at the inner workings of the algorithm. Given that RF is an extension of the *bagging algorithm*, we will not look into bagging separately but cover bagging as part of RF."
      ]
    },
    {
      "cell_type": "markdown",
      "metadata": {
        "id": "jBxHeBh0OaMm"
      },
      "source": [
        "### Helper Functions for Individual Trees\n",
        "\n",
        "Again, a RF model is a collection of individual decision trees. So let's start with a recap of how an individual tree works with our data:\n",
        "\n",
        "We face a classification problem. Thus, the goal of growing a tree is to obtain leaf nodes in which the class distribution is pure. Many potential ways to split the data are calculated (eg. the algorithm below finds all unique values of each column and then the midpoint between sequential values). For each potential split, we assess its ability to separate the classes. More specifically, we calculate the **impurity** of the parent node and compare it with the sum of the impurity scores of the child nodes which would result from the candidate split. We also weigh the child nodes' impurity scores by the number of cases (data points) that enter the left and right child node, respectively. \n",
        "\n",
        "There are three major impurity functions: **entropy, gini, and misclassification error**. We use entropy in our example. The split which yields the lowest impurity is chosen and the process is repeated for the new nodes (this is also known as recursion). \n",
        "\n",
        "The method of choosing the split that yields the lowest impurity is called the **greedy search method**. The following functions will help the decision tree implement greedy search tactics on the data. The algorithm stops either when the purity in each node is reached or when it has reached a maximum depth (max amount of recursions we allow) specified in our function.\n",
        "\n",
        "Many functions for the tree are not found in Python packages and it is cleaner to write them out first then put them together in our main algorithm. Each function below does a specific action, which will be used in our final tree function at the end. Most functions are just copy & pasted from [Tutorial 5](https://github.com/Humboldt-WI/bads/blob/master/tutorials/5_nb_supervised_learning.ipynb). Changes in the function will be seen in the next mini-section, we will highlight all of them."
      ]
    },
    {
      "cell_type": "code",
      "metadata": {
        "id": "6aD0OZmEe2ZV"
      },
      "source": [
        "def check_purity(y):\n",
        "    \n",
        "    'checks if a leaf node is perfectly pure, in other words, if the leaf node contains only one class'\n",
        "    \n",
        "    unique_classes = np.unique(y)  # Count number of classes in section of data\n",
        "\n",
        "    if len(unique_classes) == 1:  # Check if the node is pure\n",
        "        return True\n",
        "    else:\n",
        "        return False"
      ],
      "execution_count": 2,
      "outputs": []
    },
    {
      "cell_type": "code",
      "metadata": {
        "id": "Z-Pk6tTTe2ZY"
      },
      "source": [
        "def classify_data(y):\n",
        "    \n",
        "    'classifies data according to the majority class of each leaf'\n",
        "    \n",
        "    unique_classes, counts_unique_classes = np.unique(y, return_counts=True)\n",
        "    # Returns classes and no. of obs per class\n",
        "\n",
        "    index = counts_unique_classes.argmax() # Index of class with most obs\n",
        "    classification = unique_classes[index] # Class chosen for classification which is class with most obs\n",
        "    \n",
        "    return classification"
      ],
      "execution_count": 3,
      "outputs": []
    },
    {
      "cell_type": "code",
      "metadata": {
        "id": "C6kLufUxe2Zd"
      },
      "source": [
        "def split_data(X, y, split_column, split_value):\n",
        "    \n",
        "    'splits data based on specific value, will yield both a split for the features X and target y'\n",
        "    \n",
        "    split_column_values = X[:, split_column]\n",
        "\n",
        "    X_below = X[split_column_values <= split_value]  # Partitions data according to split values from previous functions\n",
        "    X_above = X[split_column_values >  split_value]\n",
        "    \n",
        "    y_below = y[split_column_values <= split_value]\n",
        "    y_above = y[split_column_values >  split_value]\n",
        "    \n",
        "    return X_below, X_above, y_below, y_above"
      ],
      "execution_count": 4,
      "outputs": []
    },
    {
      "cell_type": "code",
      "metadata": {
        "id": "Kc6VPgoZe2Zf"
      },
      "source": [
        "def calculate_entropy(y):\n",
        "    \n",
        "    'calculates entropy for each partition of data'\n",
        "    \n",
        "    _, counts = np.unique(y, return_counts=True)\n",
        "\n",
        "    probabilities = counts / counts.sum()  # Probability of each class\n",
        "    entropy = sum(probabilities * -np.log2(probabilities))  # Could replace with Gini impurity or misclassification\n",
        "     \n",
        "    return entropy"
      ],
      "execution_count": 5,
      "outputs": []
    },
    {
      "cell_type": "code",
      "metadata": {
        "id": "xnRBl4KUe2Zj"
      },
      "source": [
        "def calculate_overall_entropy(y_below, y_above): \n",
        "    \n",
        "    'calculates the total entropy after each split'\n",
        "       \n",
        "    n = len(y_below) + len(y_above)\n",
        "    p_data_below = len(y_below) / n\n",
        "    p_data_above = len(y_above) / n\n",
        "\n",
        "    overall_entropy =  (p_data_below * calculate_entropy(y_below)\n",
        "                      + p_data_above * calculate_entropy(y_above))\n",
        "    \n",
        "    return overall_entropy"
      ],
      "execution_count": 6,
      "outputs": []
    },
    {
      "cell_type": "code",
      "metadata": {
        "id": "CE2mvNCDe2Zl"
      },
      "source": [
        "def determine_best_split(X, y, potential_splits):\n",
        "    \n",
        "    'selects which split lowered entropy the most'\n",
        "    \n",
        "    overall_entropy = 9999  # Set arbitrarily high, the function will loop over and replace this with lower impurity values\n",
        "    for column_index in potential_splits:\n",
        "      for value in potential_splits[column_index]:\n",
        "            X_below, X_above, y_below, y_above = split_data(X, y, split_column=column_index, split_value=value)\n",
        "            current_overall_entropy = calculate_overall_entropy(y_below, y_above)\n",
        "            \n",
        "            # Goes through each potential split and only updates if it lowers entropy\n",
        "\n",
        "            if current_overall_entropy <= overall_entropy: \n",
        "                overall_entropy = current_overall_entropy # Updates only if lower entropy split found, in the end this is greedy search\n",
        "                best_split_column = column_index\n",
        "                best_split_value = value\n",
        "            \n",
        "    \n",
        "    return best_split_column, best_split_value"
      ],
      "execution_count": 7,
      "outputs": []
    },
    {
      "cell_type": "markdown",
      "metadata": {
        "id": "XdEmghPDOaM5"
      },
      "source": [
        "#### Random subspace\n",
        "Recall a distinct feature of RF in addition to bagging. The algorithm for growing base model trees in RF does not search for the next best split among ALL features. Instead, it first draws a random subset of features and then finds the next best split among this subset. This mechanism is called random subspace and was introduced in [Ho's 1998 paper](http://dx.doi.org/10.1109/34.709601). \n",
        "\n",
        "Random subspace does not make sense when growing an individual tree. Thus, we did not cover the approach in  [Tutorial 5](https://github.com/Humboldt-WI/bads/blob/master/tutorials/5_nb_supervised_learning.ipynb). However, random subspace is a vital ingredient to RF and it is best implemented in function to get potential splits. Therefore, we adjust the implementation of `get_potential_splits()` compared to the [Tutorial 5](https://github.com/Humboldt-WI/bads/blob/master/tutorials/5_nb_supervised_learning.ipynb) version, to ready our code for RF. Note that our updated implementation does not use random subspace by default but can activate it easily by setting the corresponding argument. Thus, our implementation supports both vanilla trees and trees with a random subspace.   "
      ]
    },
    {
      "cell_type": "code",
      "metadata": {
        "id": "pB28rbBoe2Za"
      },
      "source": [
        "def get_potential_splits(X, random_subspace = None):\n",
        "    \n",
        "    'first, takes every unique value of every feature in the feature space, then finds the midpoint between each value'\n",
        "    'modified to add random_subspace for random forest'\n",
        "    \n",
        "    potential_splits = {}\n",
        "    _, n_columns = X.shape  # No need for rows, we choose the column to split on\n",
        "    # Only need second value of .shape which is columns\n",
        "    column_indices = list(range(n_columns))\n",
        "    \n",
        "    if random_subspace and random_subspace <= len(column_indices):  # Randomly chosen features\n",
        "        column_indices = random.sample(population=column_indices, k=random_subspace)\n",
        "    \n",
        "    for column_index in column_indices:\n",
        "        potential_splits[column_index] = [] \n",
        "        values = X[:, column_index] \n",
        "        unique_values = np.unique(values)  # Get all unique values in each column\n",
        "\n",
        "        for index in range(len(unique_values)):  # All unique feature values\n",
        "            if index != 0:  # Skip first value, we need the difference between next values\n",
        "                current_value = unique_values[index]\n",
        "                previous_value = unique_values[index - 1]  # Find a value and the next smallest value\n",
        "                potential_split = (current_value + previous_value) / 2  # Find difference between the two as a potential split\n",
        "                \n",
        "                # Consider all values which lie between two values as a potential split\n",
        "                \n",
        "                potential_splits[column_index].append(potential_split)\n",
        "    \n",
        "    return potential_splits"
      ],
      "execution_count": 8,
      "outputs": []
    },
    {
      "cell_type": "markdown",
      "metadata": {
        "id": "w7-hpFq5e2Zn"
      },
      "source": [
        "The tree will now implement the helper functions and display the decision which yielded the best split if printed."
      ]
    },
    {
      "cell_type": "code",
      "metadata": {
        "id": "nLJLzoaCe2Zn"
      },
      "source": [
        "def decision_tree_algorithm(X, y, counter=0, min_samples=2, max_depth=5, random_subspace = None): \n",
        "\n",
        "    'same function as in the Decision Tree notebook but now we add random_subspace argument'\n",
        "\n",
        "    # Data preparation\n",
        "    if counter == 0:  # Counter tells us how deep the tree is, this is before the tree is initiated\n",
        "        global COLUMN_HEADERS\n",
        "        COLUMN_HEADERS = X.columns\n",
        "        X = X.values  # Change all to NumPy array for faster calculations\n",
        "        y = y.values\n",
        "    else:\n",
        "        data = X  # If we have started the tree, X should already be a NumPy array from the code above \n",
        "    \n",
        "    # Base cases\n",
        "    if (check_purity(y)) or (len(X) < min_samples) or (counter == max_depth):\n",
        "        classification = classify_data(y)\n",
        "        \n",
        "        return classification\n",
        "    \n",
        "    # Recursive part\n",
        "    else:    \n",
        "        counter += 1  # Tells us how deep the tree is\n",
        "\n",
        "        # Helper functions \n",
        "        potential_splits = get_potential_splits(X, random_subspace)  # Check for all possible splits ONLY using the random subspace and not all features!\n",
        "        \n",
        "        try: # if there is little variation in certain features, small subspaces may mean there are no splits and best_split_column will not be assigned\n",
        "        # in this case, Python jumps to the except line for UnboundLocalError (i.e. variable not found)\n",
        "\n",
        "          best_split_column, best_split_value = determine_best_split(X, y, potential_splits)  # Select best split based on entropy\n",
        "          X_below, X_above, y_below, y_above = split_data(X, y, best_split_column, best_split_value)  # Execute best split\n",
        "        \n",
        "        # Code to explain decisions made by tree to users\n",
        "          feature_name = COLUMN_HEADERS[best_split_column]\n",
        "          question = \"{} <= {}\".format(feature_name, best_split_value) # Initiate explanation of split\n",
        "          sub_tree = {question: []}\n",
        "        \n",
        "        # Pull answers from tree\n",
        "          yes_answer = decision_tree_algorithm(X_below, y_below, counter, min_samples, max_depth, random_subspace)\n",
        "          no_answer = decision_tree_algorithm(X_above, y_above, counter, min_samples, max_depth, random_subspace)\n",
        "        \n",
        "        # Ensure explanation actually shows useful information\n",
        "          if yes_answer == no_answer: # If decisions are the same, only display one\n",
        "            sub_tree = yes_answer\n",
        "          else:\n",
        "            sub_tree[question].append(yes_answer)\n",
        "            sub_tree[question].append(no_answer)\n",
        "        \n",
        "          return sub_tree\n",
        "        \n",
        "        except UnboundLocalError: # if potential_splits is empty due to lack of feature variation, just classify the data at this point\n",
        "          classification = classify_data(y)\n",
        "        \n",
        "          return classification"
      ],
      "execution_count": 27,
      "outputs": []
    },
    {
      "cell_type": "markdown",
      "metadata": {
        "id": "MsZbUgNsOaNA"
      },
      "source": [
        "### Helper functions for the Random Forest Algorithm\n",
        "Now that we have the structure to build one individual classification tree, we can make use of it to grow a full forest of trees. However, the **strength-diversity trade-off** suggests that a naive combination of base models will not give a powerful ensemble model. Rather, for an ensemble learner to work well, we need base models that display both strength and diversity. RF fosters diversity among its base models by **randomizing tree growing**. So, we grow a forest of random trees. Specifically, the two mechanisms of randomization in RF are **bootstrap sampling** and **random subspace**. To implement the corresponding functionality, we will use the `random` library.  "
      ]
    },
    {
      "cell_type": "code",
      "metadata": {
        "id": "K8UsxbpSOaNB"
      },
      "source": [
        "import random"
      ],
      "execution_count": 10,
      "outputs": []
    },
    {
      "cell_type": "markdown",
      "metadata": {
        "id": "KucJYhwvOaNE"
      },
      "source": [
        "Using this library, we can implement our bootstrap sampling mechanism as follows. Remember that a bootstrap sample is nothing but a random sample of the same size as the original data drawn *with replacement*. "
      ]
    },
    {
      "cell_type": "code",
      "metadata": {
        "id": "9TppSOUVe2Zq"
      },
      "source": [
        "def bootstrapping(X, y, n_bootstrap):\n",
        "  \n",
        "    'takes a random set of observations of the size n_bootstrap'\n",
        "\n",
        "    bootstrap_indices = np.random.randint(low=0, high=len(X), size=n_bootstrap)  # Chooses random indices for the sample\n",
        "    X_bootstrapped = X.iloc[bootstrap_indices]\n",
        "    y_bootstrapped = y.iloc[bootstrap_indices]\n",
        "    \n",
        "    return X_bootstrapped, y_bootstrapped"
      ],
      "execution_count": 11,
      "outputs": []
    },
    {
      "cell_type": "markdown",
      "metadata": {
        "id": "9HVwDB07OaNH"
      },
      "source": [
        "Once we have all this structure in place, the actual implementation of the RF algorithm is straightforward. All we need to do is to grow as many base model trees as we'd like and make sure we activate **random subspace** when growing the individual member trees from a **bootstrap sample** of the training data. In addition to the number of trees and number of features to consider for random subspace, our implementation also allows the user to specify the size of the bootstrap sample, which is useful to accelerate the algorithm, and the maximum depth of the tree models. While this offers some flexibility, professional implementations of the RF algorithm offer many more parameters.   "
      ]
    },
    {
      "cell_type": "code",
      "metadata": {
        "id": "FJp8a_tpe2Zu"
      },
      "source": [
        "def random_forest_algorithm(X, y, n_trees, n_bootstrap, n_features, dt_max_depth):\n",
        "    'puts the bootstrap sample in the decision tree algorithm with max depth and the random subset of features set, in otherwords, builds the forest tree by tree'\n",
        "    forest = []\n",
        "    for i in range(n_trees): #loops for the amount of trees set to be in the forest\n",
        "        X_bootstrapped, y_bootstrapped = bootstrapping(X, y, n_bootstrap)\n",
        "        tree = decision_tree_algorithm(X_bootstrapped, y_bootstrapped, max_depth=dt_max_depth, random_subspace=n_features) #creates individual trees\n",
        "        forest.append(tree)\n",
        "    \n",
        "    return forest"
      ],
      "execution_count": 12,
      "outputs": []
    },
    {
      "cell_type": "markdown",
      "metadata": {
        "id": "2VSS5jwrOaNN"
      },
      "source": [
        "Being almost ready to develop an  RF classifier, the only missing bit is some functionality to apply the trained model to new data. We split this into two functions. The first function, `predict_example`, predicts a single sample from a single tree. The second, `decision_tree_predictions`, uses `predict_example` and makes predictions for every tree in the forest. When a function's main purpose is to use another function to perform a task, it is called a wrapper function. In tihs case, `decision_tree_predictions` is a wrapper function."
      ]
    },
    {
      "cell_type": "code",
      "metadata": {
        "id": "2NCdqwHoe2Zw"
      },
      "source": [
        "def predict_example(example, tree, counter=0):\n",
        "\n",
        "    'takes one observation and predicts its class'\n",
        "    \n",
        "    if counter == 0 and isinstance(tree, dict) == False: # very shallow trees may only vote one way, this first if-statement takes its vote into account\n",
        "        return tree\n",
        "    \n",
        "    else:\n",
        "        counter += 1\n",
        "    \n",
        "    question = list(tree.keys())[0]\n",
        "    feature_name, comparison_operator, value = question.split(\" \")\n",
        "\n",
        "    # Ask question\n",
        "    if comparison_operator == \"<=\":\n",
        "        if example[feature_name] <= float(value):\n",
        "            answer = tree[question][0]\n",
        "        else:\n",
        "            answer = tree[question][1]\n",
        "    \n",
        "    # Feature is categorical\n",
        "    else:\n",
        "        if str(example[feature_name]) == value:\n",
        "            answer = tree[question][0]\n",
        "        else:\n",
        "            answer = tree[question][1]\n",
        "\n",
        "    # Base case\n",
        "    if not isinstance(answer, dict):\n",
        "        return answer\n",
        "    \n",
        "    # Recursive part\n",
        "    else:\n",
        "        residual_tree = answer\n",
        "        return predict_example(example, residual_tree)\n",
        "\n",
        "    \n",
        "# Gathers all test data\n",
        "def decision_tree_predictions(test_df, tree):\n",
        "  \n",
        "    'applies predict_example to all of the test set'\n",
        "\n",
        "    predictions = test_df.apply(predict_example, args=(tree,), axis=1)\n",
        "    return predictions"
      ],
      "execution_count": 13,
      "outputs": []
    },
    {
      "cell_type": "markdown",
      "metadata": {
        "id": "8lf0pP9VmEPk"
      },
      "source": [
        "Now that we have a function to make predictions for every tree in the forest, we are going to collect those predictions and take the mode prediction. This will be the final prediction for our forest."
      ]
    },
    {
      "cell_type": "code",
      "metadata": {
        "id": "C3yXFPG8e2Zz"
      },
      "source": [
        "def random_forest_predictions(test_df, forest):\n",
        "    df_predictions = {}\n",
        "    for i in range(len(forest)):\n",
        "        column_name = \"tree_{}\".format(i)  # Key for dictionary\n",
        "        predictions = decision_tree_predictions(test_df, tree=forest[i])  # Predictions from trees\n",
        "        df_predictions[column_name] = predictions  # Insert predictions into dictionary\n",
        "\n",
        "    df_predictions = pd.DataFrame(df_predictions)  # Change dictionary to pandas DF\n",
        "    random_forest_predictions = df_predictions.mode(axis=1)[0]  # Take mode of predictions over trees for final prediction\n",
        "    # If there is an even number of predictions, just default to the first value (very unlikely with many trees)\n",
        "    \n",
        "    return random_forest_predictions"
      ],
      "execution_count": 14,
      "outputs": []
    },
    {
      "cell_type": "markdown",
      "metadata": {
        "id": "mot6Okr5e2Z1"
      },
      "source": [
        "### Ready, stready, go...\n",
        "Well done, we have our custom-code RF classifier up and ready. Time to put it into action and produce some credit default risk predictions. Since our implementation is maybe not the most efficient one, let's stick to shallow trees and also set the other hyperparameters such that run times are bearable.   "
      ]
    },
    {
      "cell_type": "code",
      "metadata": {
        "id": "Rw92_Ssqe2Z2"
      },
      "source": [
        "# Grow RF \n",
        "forest = random_forest_algorithm(X, y, n_trees=100, n_bootstrap=800, n_features=3, dt_max_depth=5)"
      ],
      "execution_count": 28,
      "outputs": []
    },
    {
      "cell_type": "code",
      "metadata": {
        "id": "LmEZQNMse2Z6",
        "colab": {
          "base_uri": "https://localhost:8080/"
        },
        "outputId": "7753df38-03cf-4d4a-d1b9-18bb324ff9db"
      },
      "source": [
        "# Depict one member tree as rule set\n",
        "forest[0]"
      ],
      "execution_count": 16,
      "outputs": [
        {
          "output_type": "execute_result",
          "data": {
            "text/plain": [
              "{'CLAGE <= -0.5804773123000146': [{'CLNO <= 0.5955631974189916': [{'YOJ <= -0.3085297245652653': [False,\n",
              "      {'CLAGE <= -0.7375410465384293': [False, True]}]},\n",
              "    {'LOAN <= -0.05965289208343967': [True, False]}]},\n",
              "  {'CLAGE <= 0.6971208526971847': [{'REASON_HomeImp <= 0.5': [{'LOAN <= -0.0542485319336008': [{'VALUE <= 2.2043070937605638': [False,\n",
              "          True]},\n",
              "        False]},\n",
              "      {'CLNO <= 1.8395603800144993': [False, True]}]},\n",
              "    {'LOAN <= 1.0050060574348207': [False,\n",
              "      {'YOJ <= 0.8421053839633326': [False,\n",
              "        {'REASON_HomeImp <= 0.5': [False, True]}]}]}]}]}"
            ]
          },
          "metadata": {
            "tags": []
          },
          "execution_count": 16
        }
      ]
    },
    {
      "cell_type": "code",
      "metadata": {
        "id": "IRV04WBke2Z9"
      },
      "source": [
        "# Calculate predictions\n",
        "predictions = random_forest_predictions(X, forest) "
      ],
      "execution_count": 25,
      "outputs": []
    },
    {
      "cell_type": "code",
      "metadata": {
        "id": "upoB6SxNe2Z_",
        "colab": {
          "base_uri": "https://localhost:8080/"
        },
        "outputId": "26d8859c-6ae1-40ca-89f3-b375667b644f"
      },
      "source": [
        "# Check error rate\n",
        "error = np.mean(np.vstack(predictions) == np.array(y))\n",
        "\n",
        "error"
      ],
      "execution_count": 26,
      "outputs": [
        {
          "output_type": "execute_result",
          "data": {
            "text/plain": [
              "0.851006711409396"
            ]
          },
          "metadata": {
            "tags": []
          },
          "execution_count": 26
        }
      ]
    },
    {
      "cell_type": "markdown",
      "metadata": {
        "id": "VfeanJuve2aB"
      },
      "source": [
        "The tree is able to classify a good proportion of the test set well even with only a depth of 3. \n",
        "\n",
        "Before moving on with using RF in `sklearn`, here is a **little exercise** for you:\n",
        "Use your customer implementation of RF to develop a bagging ensemble."
      ]
    },
    {
      "cell_type": "code",
      "metadata": {
        "id": "5wXUki7-OaNf"
      },
      "source": [
        "# Your task: use the above functions to train a bagging ensemble using decision tress as base model\n"
      ],
      "execution_count": 19,
      "outputs": []
    },
    {
      "cell_type": "markdown",
      "metadata": {
        "id": "ck8M6P_hOaNh"
      },
      "source": [
        "## Random forest in sklearn\n",
        "As promised, we will also demonstrate how you would use RF in production environments, that is with some proper implementation under the hood. Luckily, RF is maybe one of the most widely available data science algorithm. You find professional implementations on almost every platform. Obviously, this also includes `sklearn`. \n",
        "\n",
        "It turns out that training and using RF in `sklearn`is super easy. Check out this code, which shows all it takes."
      ]
    },
    {
      "cell_type": "code",
      "metadata": {
        "id": "qREt-QMROaNi"
      },
      "source": [
        "from sklearn.ensemble import RandomForestClassifier  # import library\n",
        "rf = RandomForestClassifier()                        # create model object\n",
        "rf.fit(X_train, y_train.values.ravel())              # fit model to training set \n",
        "yhat = rf.predict_proba(X_test)                      # obtain test set predictions                   "
      ],
      "execution_count": null,
      "outputs": []
    },
    {
      "cell_type": "markdown",
      "metadata": {
        "id": "MFYLKXXQOaNl"
      },
      "source": [
        "And that was it. We promised it is easy, did we not? ;)\n",
        "\n",
        "However, the above demo is simplistic and does not really illustrate how you would use RF in practice. That is mainly because we omit hyperparameters and their tuning. **Using an analytical model with some default parameters is never a good idea.** "
      ]
    },
    {
      "cell_type": "markdown",
      "metadata": {
        "id": "XN9VQW87OaNl"
      },
      "source": [
        "#### Tuning RF hyperparameters using grid search\n",
        "Random forest is often considered robust regardless of hyperparameters settings. Still, some tuning may be beneficial. For model selection, we draw on the demos of [Tutorial 7](https://github.com/Humboldt-WI/bads/blob/master/tutorials/7_nb_model_selection.ipynb) and adjust these for our focal task of tuning RF. \n",
        "\n",
        "We consider the following hyperparameters. \n",
        "<br>\n",
        "- `n_estimators`: number of trees(models) in forest (ensemble)<br>\n",
        "- `max_features` : maximum features in random subspace<br>\n",
        "\n",
        "There are a couple more hyperparameters. Normally, you would not need to tune these but for the sake of completeness, here are some more hyperparameters:\n",
        "- `min_samples_split`: minimum number of samples required in leaf node before another split is made. If below, node won't be split.<br>\n",
        "- `min_samples_leaf`: minimum number of samples required to be in a leaf node.<br>\n",
        "- `max_leaf_nodes`: maximum number of leaf nodes in a tree<br>\n",
        "- `criterion`: splitting function to use, e.g. gini coefficient<br>\n",
        "- `max_depth`: pruning parameter, maximum depth of decision tree<br>\n",
        "- `n_jobs`: parallelization of model building<br>\n",
        "- `random_state`: sets 'pattern' of random selection for reproducibility <br><br>\n",
        "\n",
        "If hyperparameters are not specified, they will be set to their default. \n",
        "\n",
        "**Remark**: Tuning RF might take a while. If you want to speed things up, **try not to reduce `n_estimators` (number of trees).** Instead, consider setting the hyperparameter `max_samples`. It allows you to control the size of the bootstrap sample from which each tree is grown. Read the documentation for more information. Smaller sample sizes accelerate the training."
      ]
    },
    {
      "cell_type": "code",
      "metadata": {
        "id": "CnHJcjMSOaNm",
        "colab": {
          "base_uri": "https://localhost:8080/"
        },
        "outputId": "ea55c8e1-e910-4b9c-ccae-de6a6ce2949e"
      },
      "source": [
        "from sklearn.model_selection import GridSearchCV\n",
        "print('Tuning random forest classifier')\n",
        "rf = RandomForestClassifier(random_state=888, max_samples = 0.5)  # This way, bootstrap sample size will be 50% of the training set\n",
        "\n",
        "# Define meta-parameter grid of candidate settings\n",
        "# The following settings are just for illustration\n",
        "param_grid = {'n_estimators': [100, 200, 500],\n",
        "              'max_features': [1, 2, 4]\n",
        "              }\n",
        "\n",
        "# Set up the grid object specifying the tuning options\n",
        "gs_rf = GridSearchCV(rf, param_grid, cv=5, scoring='roc_auc', verbose=1)\n",
        "gs_rf.fit(X_train, y_train.values.ravel())"
      ],
      "execution_count": 21,
      "outputs": [
        {
          "output_type": "stream",
          "text": [
            "Tuning random forest classifier\n",
            "Fitting 5 folds for each of 9 candidates, totalling 45 fits\n"
          ],
          "name": "stdout"
        },
        {
          "output_type": "stream",
          "text": [
            "[Parallel(n_jobs=1)]: Using backend SequentialBackend with 1 concurrent workers.\n",
            "[Parallel(n_jobs=1)]: Done  45 out of  45 | elapsed:   40.5s finished\n"
          ],
          "name": "stderr"
        },
        {
          "output_type": "execute_result",
          "data": {
            "text/plain": [
              "GridSearchCV(cv=5, error_score=nan,\n",
              "             estimator=RandomForestClassifier(bootstrap=True, ccp_alpha=0.0,\n",
              "                                              class_weight=None,\n",
              "                                              criterion='gini', max_depth=None,\n",
              "                                              max_features='auto',\n",
              "                                              max_leaf_nodes=None,\n",
              "                                              max_samples=0.5,\n",
              "                                              min_impurity_decrease=0.0,\n",
              "                                              min_impurity_split=None,\n",
              "                                              min_samples_leaf=1,\n",
              "                                              min_samples_split=2,\n",
              "                                              min_weight_fraction_leaf=0.0,\n",
              "                                              n_estimators=100, n_jobs=None,\n",
              "                                              oob_score=False, random_state=888,\n",
              "                                              verbose=0, warm_start=False),\n",
              "             iid='deprecated', n_jobs=None,\n",
              "             param_grid={'max_features': [1, 2, 4],\n",
              "                         'n_estimators': [100, 200, 500]},\n",
              "             pre_dispatch='2*n_jobs', refit=True, return_train_score=False,\n",
              "             scoring='roc_auc', verbose=1)"
            ]
          },
          "metadata": {
            "tags": []
          },
          "execution_count": 21
        }
      ]
    },
    {
      "cell_type": "markdown",
      "metadata": {
        "id": "Ny1gjJPOOaNu"
      },
      "source": [
        "Let's say we are interested in assessing our RF model in terms of ROC analysis. "
      ]
    },
    {
      "cell_type": "code",
      "metadata": {
        "id": "TCG7OBlbOaNv",
        "colab": {
          "base_uri": "https://localhost:8080/"
        },
        "outputId": "23581b80-94fd-4ec3-845e-d4d1fc59c313"
      },
      "source": [
        "print(\"Best CV AUC: %0.4f\" % gs_rf.best_score_)\n",
        "print(\"Optimal RF meta-parameters:\")\n",
        "print(gs_rf.best_params_)\n",
        "\n",
        "from sklearn import metrics\n",
        "\n",
        "auc_trace = {}\n",
        "\n",
        "# Find test set auc of the best random forest classifier\n",
        "fp_rate, tp_rate, _ = metrics.roc_curve(y_test, gs_rf.predict_proba(X_test)[:, 1])\n",
        "auc_trace.update( {'rf' : metrics.auc(fp_rate, tp_rate)}) \n",
        "print('RF test set AUC: {:.4f}'.format(auc_trace['rf']))"
      ],
      "execution_count": 22,
      "outputs": [
        {
          "output_type": "stream",
          "text": [
            "Best CV AUC: 0.9723\n",
            "Optimal RF meta-parameters:\n",
            "{'max_features': 1, 'n_estimators': 500}\n",
            "RF test set AUC: 0.9813\n"
          ],
          "name": "stdout"
        }
      ]
    },
    {
      "cell_type": "markdown",
      "metadata": {
        "id": "ZMyif7DvOaNy"
      },
      "source": [
        "You should see some quite impressive AUC value. Let's plot the ROC curve to appreciate the power of our RF. This also shows how to access the final model from the grid-search results."
      ]
    },
    {
      "cell_type": "code",
      "metadata": {
        "id": "ydJRyTqAOaNz",
        "colab": {
          "base_uri": "https://localhost:8080/",
          "height": 0
        },
        "outputId": "b38127e0-d98d-4469-ee62-0195a325eb98"
      },
      "source": [
        "# The plot is not new but note the use of gs_rf.best_estimator_ \n",
        "metrics.plot_roc_curve(gs_rf.best_estimator_, X_test, y_test)\n",
        "plt.plot([0, 1], [0, 1], \"r--\");"
      ],
      "execution_count": 23,
      "outputs": [
        {
          "output_type": "display_data",
          "data": {
            "image/png": "[encoded data removed]",
            "text/plain": [
              "<Figure size 432x288 with 1 Axes>"
            ]
          },
          "metadata": {
            "tags": [],
            "needs_background": "light"
          }
        }
      ]
    },
    {
      "cell_type": "markdown",
      "metadata": {
        "id": "VGyef4wsOaOA"
      },
      "source": [
        "# Boosting\n",
        "Boosting-type algorithms are based on **two core principles**:\n",
        "1. Develop an ensemble sequentially (i.e. add one model at a time)\n",
        "2. Let the next model in the chain correct the errors of the current ensemble\n",
        "\n",
        "We discussed two flavors of boosting in the lecture:\n",
        "- **adaboost algorithm**, first instantiation of a boosting ensemble\n",
        "- **gradient boosting**, proposed in the paper [Greedy Function Approximation: A Gradient Boosting Machine](https://www.jstor.org/stable/2699986?seq=1) by Jerome H. Friedman\n",
        "\n",
        "This part of the tutorial follows the same approach as above, we first demonstrate implementing a boosting ensemble from scratch and then showcase its use together with a professional machine learning library. Many derivatives of boosting and libraries exist. Some members of the gradient boosting family include:\n",
        "- [LightGBM from Microsoft](https://lightgbm.readthedocs.io/en/latest/)\n",
        "- [Catboost from Yandex](https://catboost.ai/)\n",
        "- [NGBoost from Stanford ML Group](https://stanfordmlgroup.github.io/projects/ngboost/)\n",
        "\n",
        "Given wide adoption in practice and academia, we opted for focusing the tutorial to **extreme gradient boosting** or XGB for short. Demos for other popular boosting algorithms are available via the links above. Boosting algorithms that do not follow the gradient boosting principle may be considered somewhat old-fashioned. We will not cover them here. However, the exercises give you an opportunity to implement your own Adaboost ensemble from scratch. And of course, `sklearn` also supports adaboost and other boosting algorithms.    "
      ]
    },
    {
      "cell_type": "markdown",
      "metadata": {
        "id": "31TaG5uJh0SS"
      },
      "source": [
        "## Verifying the boosting principle\n",
        "Is it true really true that one model can *learn* or *correct* the errors of another model as promised by the boosting paradigm? Before diving into cutting-edge gradient boosting, let's convince ourselves of this  fundamental premise of boosting. \n",
        "\n",
        "For this purpose, we use the HMEQ data set and demonstrate that training a model on the errors of a previous model helps to reduce classification error. Since it is common practice to implement boosting using trees as base model, we follow this approach.  "
      ]
    },
    {
      "cell_type": "code",
      "metadata": {
        "id": "V8lCORhgtWD4"
      },
      "source": [
        "from sklearn import tree"
      ],
      "execution_count": null,
      "outputs": []
    },
    {
      "cell_type": "markdown",
      "metadata": {
        "id": "7PFd6oVUtXNI"
      },
      "source": [
        "### Model training \n",
        "Here we will show the effectiveness of corrective models that *train on errors*. We will first train two models, the first will be for regular predictions. The second will predict which observations the first model misclassifies. We will first run the first prediction on test data, then correct these predictions using the second model.\n"
      ]
    },
    {
      "cell_type": "code",
      "metadata": {
        "id": "UZQCtRWzNDuE"
      },
      "source": [
        "estimators = []   # List to store the two tree models"
      ],
      "execution_count": null,
      "outputs": []
    },
    {
      "cell_type": "code",
      "metadata": {
        "id": "ZYUxast5upkQ"
      },
      "source": [
        "# Train first classifier\n",
        "clf = tree.DecisionTreeClassifier(criterion=\"entropy\", min_samples_split=2, max_depth=2)  # First classifier\n",
        "dt = clf.fit(X_train, y_train)  # Fit the classifier\n",
        "estimators.append(('first model', dt))"
      ],
      "execution_count": null,
      "outputs": []
    },
    {
      "cell_type": "markdown",
      "metadata": {
        "id": "LAlaHLDFOaOl"
      },
      "source": [
        "Having obtained our first model, we can calculate that model's residuals on the training set. Let's consider a classification setting. More concretely, let's focus on discrete class predictions. Recall that this is the type of output that we obtain when calling the function `predict()`.  "
      ]
    },
    {
      "cell_type": "code",
      "metadata": {
        "id": "w8SAYdlsutvz"
      },
      "source": [
        "initial_pred = dt.predict(X_train)  # Classify training set using first classifier"
      ],
      "execution_count": null,
      "outputs": []
    },
    {
      "cell_type": "markdown",
      "metadata": {
        "id": "n4J3L9zCOaOr"
      },
      "source": [
        "Next, we identify misclassified observations and calculate the **classification error**.\n",
        "\n",
        "Let's produce a binary vector with the same length as the training set in which an entry of `True` indicates that the corresponding training set observation is misclassified by our first tree. The way we design our vector also makes it very easy to compute the classification error. All we need is to find the mean of that vector."
      ]
    },
    {
      "cell_type": "code",
      "metadata": {
        "id": "IKHBSTiq7ADX",
        "colab": {
          "base_uri": "https://localhost:8080/"
        },
        "outputId": "9eea09ef-af86-48c7-d970-0cede631f34b"
      },
      "source": [
        "res = initial_pred != y_train.iloc[:, 0] \n",
        "print(\"Classification error of tree #1 is {:.4}\".format(res.mean()))\n",
        "print(\"Total number of errors tree #1 is\", res.sum())"
      ],
      "execution_count": null,
      "outputs": [
        {
          "output_type": "stream",
          "text": [
            "Classification error of tree #1 is 0.15\n",
            "Total number of errors tree #1 is 626\n"
          ],
          "name": "stdout"
        }
      ]
    },
    {
      "cell_type": "markdown",
      "metadata": {
        "id": "6CFvQXw0OaOw"
      },
      "source": [
        "On to model #2. Here, we train not on $y$ but a new binary target variable indicating whether model #1 classified an observation correctly. We can think of this new target as $y - \\hat{y}$ ie. the residual. However, since we train on decisions of a binary outcome, this classifier will predict errors of the first classifier."
      ]
    },
    {
      "cell_type": "code",
      "metadata": {
        "id": "x1SUtWIS9l5v",
        "colab": {
          "base_uri": "https://localhost:8080/"
        },
        "outputId": "096a589f-8258-4b75-ba16-11034251e2c6"
      },
      "source": [
        "clf2 = tree.DecisionTreeClassifier(criterion=\"gini\")  # instantiate second model\n",
        "dt_res = clf2.fit(X_train, res)                       # note the new target, we are training on residuals\n",
        "estimators.append(('second model', dt_res))           # store second model for later\n",
        "dt_res"
      ],
      "execution_count": null,
      "outputs": [
        {
          "output_type": "execute_result",
          "data": {
            "text/plain": [
              "DecisionTreeClassifier(ccp_alpha=0.0, class_weight=None, criterion='gini',\n",
              "                       max_depth=None, max_features=None, max_leaf_nodes=None,\n",
              "                       min_impurity_decrease=0.0, min_impurity_split=None,\n",
              "                       min_samples_leaf=1, min_samples_split=2,\n",
              "                       min_weight_fraction_leaf=0.0, presort='deprecated',\n",
              "                       random_state=None, splitter='best')"
            ]
          },
          "metadata": {
            "tags": []
          },
          "execution_count": 29
        }
      ]
    },
    {
      "cell_type": "markdown",
      "metadata": {
        "id": "N6DGkiYMOaO2"
      },
      "source": [
        "Calling the `predict`function of our second corrective model, we obtain a prediction of which observations model #1 is likely to misclassify. "
      ]
    },
    {
      "cell_type": "code",
      "metadata": {
        "id": "RJX5qQTR_au6",
        "colab": {
          "base_uri": "https://localhost:8080/"
        },
        "outputId": "4d11ab79-7433-4a6d-f98b-6f85dcf4f2bf"
      },
      "source": [
        "likely_misclassifications = dt_res.predict(X_train) \n",
        "print(\"Based on model #2, we expect model #1 to misclassify {} observations.\".format(\n",
        "    likely_misclassifications.sum()))"
      ],
      "execution_count": null,
      "outputs": [
        {
          "output_type": "stream",
          "text": [
            "Based on model #2, we expect model #1 to misclassify 626 observations.\n"
          ],
          "name": "stdout"
        }
      ]
    },
    {
      "cell_type": "code",
      "metadata": {
        "id": "lCBBxnW8Qx5_",
        "colab": {
          "base_uri": "https://localhost:8080/"
        },
        "outputId": "35b10bfa-e7d3-4e36-c6c3-7e9a83e67bc7"
      },
      "source": [
        "# Check if classified likely misclassifications are the same as residuals\n",
        "accuracy_misclassifications = likely_misclassifications == res\n",
        "print(accuracy_misclassifications)"
      ],
      "execution_count": null,
      "outputs": [
        {
          "output_type": "stream",
          "text": [
            "index\n",
            "1230    True\n",
            "2727    True\n",
            "4187    True\n",
            "4446    True\n",
            "2513    True\n",
            "        ... \n",
            "4455    True\n",
            "5270    True\n",
            "1263    True\n",
            "1946    True\n",
            "2558    True\n",
            "Name: BAD, Length: 4172, dtype: bool\n"
          ],
          "name": "stdout"
        }
      ]
    },
    {
      "cell_type": "code",
      "metadata": {
        "id": "qaTLynrfR2Bc",
        "colab": {
          "base_uri": "https://localhost:8080/"
        },
        "outputId": "bbf3f610-ec92-4ada-d088-cc05a7f39fcb"
      },
      "source": [
        "# It seems likely misclassifications are exactly congruent with residuals, so the model does work\n",
        "accuracy_misclassifications.mean() "
      ],
      "execution_count": null,
      "outputs": [
        {
          "output_type": "execute_result",
          "data": {
            "text/plain": [
              "1.0"
            ]
          },
          "metadata": {
            "tags": []
          },
          "execution_count": 32
        }
      ]
    },
    {
      "cell_type": "markdown",
      "metadata": {
        "id": "4ZaQ61X4hJSS"
      },
      "source": [
        "### Model testing\n",
        "\n",
        "Now that we have our two models, we will begin using the test data to see if a combination of the two models can reduce the value of the residuals. We will first predict y using X_test."
      ]
    },
    {
      "cell_type": "code",
      "metadata": {
        "id": "Fp-Wmz6sRGhv"
      },
      "source": [
        "pred_initial_test = dt.predict(X_test)"
      ],
      "execution_count": null,
      "outputs": []
    },
    {
      "cell_type": "code",
      "metadata": {
        "id": "wdVk27zeRTh-",
        "colab": {
          "base_uri": "https://localhost:8080/"
        },
        "outputId": "0882cfc1-7b2d-4f2e-907c-ae724160ee75"
      },
      "source": [
        "res_test = pred_initial_test != y_test.iloc[:, 0]\n",
        "print(\"Test error of model 1: {:.4}\".format(res_test.mean()))"
      ],
      "execution_count": null,
      "outputs": [
        {
          "output_type": "stream",
          "text": [
            "Test error of model 1: 0.1454\n"
          ],
          "name": "stdout"
        }
      ]
    },
    {
      "cell_type": "markdown",
      "metadata": {
        "id": "kM3lSiCrhUpY"
      },
      "source": [
        "Now we predict for which observations model 1 has likely made an error."
      ]
    },
    {
      "cell_type": "code",
      "metadata": {
        "id": "_BflWXFPRZxt",
        "colab": {
          "base_uri": "https://localhost:8080/"
        },
        "outputId": "662ca71d-da8e-4130-e04a-1f82d541a63d"
      },
      "source": [
        "likely_misclassifications_test = dt_res.predict(X_test)\n",
        "likely_misclassifications_test"
      ],
      "execution_count": null,
      "outputs": [
        {
          "output_type": "execute_result",
          "data": {
            "text/plain": [
              "array([False,  True, False, ..., False, False,  True])"
            ]
          },
          "metadata": {
            "tags": []
          },
          "execution_count": 35
        }
      ]
    },
    {
      "cell_type": "markdown",
      "metadata": {
        "id": "UKWZfWWwhcWH"
      },
      "source": [
        "Lastly, we correct the likely misclassifications by simply flipping the predicted (from model 1) class label."
      ]
    },
    {
      "cell_type": "code",
      "metadata": {
        "id": "3cT6A821eUuA"
      },
      "source": [
        "pred_corrected = pd.Series(pred_initial_test)\n",
        "pred_corrected[likely_misclassifications_test] = ~ pred_corrected[likely_misclassifications_test]"
      ],
      "execution_count": null,
      "outputs": []
    },
    {
      "cell_type": "code",
      "metadata": {
        "id": "YVipz0q5LcV6",
        "colab": {
          "base_uri": "https://localhost:8080/"
        },
        "outputId": "a02ee89a-8d91-4178-82b2-54193cf40f5f"
      },
      "source": [
        "pred_initial_test[likely_misclassifications_test]  # Check that they have actually been changed"
      ],
      "execution_count": null,
      "outputs": [
        {
          "output_type": "execute_result",
          "data": {
            "text/plain": [
              "array([ True, False,  True, False, False,  True,  True, False,  True,\n",
              "        True,  True, False,  True,  True, False,  True,  True, False,\n",
              "        True, False,  True,  True, False, False,  True, False, False,\n",
              "        True,  True, False, False,  True, False,  True,  True,  True,\n",
              "       False,  True, False,  True,  True, False, False, False,  True,\n",
              "        True,  True,  True,  True, False, False,  True, False,  True,\n",
              "        True,  True, False, False,  True,  True, False,  True,  True,\n",
              "        True, False,  True,  True,  True,  True, False, False, False,\n",
              "       False,  True,  True,  True, False,  True, False,  True,  True,\n",
              "       False, False,  True,  True,  True,  True,  True, False,  True,\n",
              "       False, False,  True, False,  True,  True, False, False,  True,\n",
              "        True,  True,  True, False,  True,  True,  True,  True,  True,\n",
              "       False, False, False, False,  True,  True,  True,  True,  True,\n",
              "        True,  True, False,  True,  True,  True,  True,  True, False,\n",
              "        True,  True, False, False, False,  True,  True, False, False,\n",
              "        True, False,  True, False,  True,  True, False, False, False,\n",
              "       False, False,  True, False,  True, False, False,  True,  True,\n",
              "        True,  True,  True, False,  True,  True,  True,  True,  True,\n",
              "        True,  True,  True,  True,  True,  True,  True,  True, False,\n",
              "        True, False, False,  True, False,  True,  True,  True,  True,\n",
              "        True,  True,  True, False,  True, False, False, False,  True,\n",
              "        True,  True,  True,  True,  True,  True, False,  True,  True,\n",
              "        True,  True, False,  True, False, False,  True,  True, False,\n",
              "        True, False, False, False, False, False, False,  True,  True,\n",
              "       False,  True,  True,  True, False,  True,  True, False, False,\n",
              "        True, False])"
            ]
          },
          "metadata": {
            "tags": []
          },
          "execution_count": 37
        }
      ]
    },
    {
      "cell_type": "code",
      "metadata": {
        "id": "dGrQerZvfyTC",
        "colab": {
          "base_uri": "https://localhost:8080/"
        },
        "outputId": "7eb7df50-6231-4a1c-b690-c3a4199cee0b"
      },
      "source": [
        "pred_corrected[likely_misclassifications_test]  # all the results are opposite, so this worked!"
      ],
      "execution_count": null,
      "outputs": [
        {
          "output_type": "execute_result",
          "data": {
            "text/plain": [
              "1       False\n",
              "5        True\n",
              "19      False\n",
              "21       True\n",
              "30       True\n",
              "        ...  \n",
              "1759    False\n",
              "1763     True\n",
              "1770     True\n",
              "1771    False\n",
              "1787     True\n",
              "Length: 227, dtype: object"
            ]
          },
          "metadata": {
            "tags": []
          },
          "execution_count": 38
        }
      ]
    },
    {
      "cell_type": "markdown",
      "metadata": {
        "id": "QWMDEVGsOaQT"
      },
      "source": [
        "Time for the grand final, did we reduce the test error?"
      ]
    },
    {
      "cell_type": "code",
      "metadata": {
        "id": "kI1XuYH8gCS0",
        "colab": {
          "base_uri": "https://localhost:8080/"
        },
        "outputId": "8820120a-2b7a-4f15-8ce3-4a7e8a487b9a"
      },
      "source": [
        "res_corrected = np.array(pred_corrected) != y_test.iloc[:,0]\n",
        "print(\"Test error after corrected model 1 by model 2: {:.4}\".format(res_corrected.mean()))"
      ],
      "execution_count": null,
      "outputs": [
        {
          "output_type": "stream",
          "text": [
            "Test error after corrected model 1 by model 2: 0.1292\n"
          ],
          "name": "stdout"
        }
      ]
    },
    {
      "cell_type": "markdown",
      "metadata": {
        "id": "iBOLBv6YhnS_"
      },
      "source": [
        "Hurray!!!\n",
        "\n",
        "A lower test error indicates that our process worked. We were able to lower the error on a test set using a second model which focused on identifying misclassified cases. Let's now examine how gradient boosting relies on similar principles but is a bit more complex in execution."
      ]
    },
    {
      "cell_type": "markdown",
      "metadata": {
        "id": "gIElR_QSOaQa"
      },
      "source": [
        "## Gradient Boosting from scratch\n",
        "\n",
        "Gradient boost is one specific form of boosting (using residuals recursively to increase accuracy). This process begins with an initial simple prediction which is often the mean of the target variable. After, the algorithm iteratively goes through every feature and determines which feature will best reduce this error with a single split. This is essentially a single level tree, or stump. This stump is then chosen and added to the ensemble. Next, residuals are calculated once again and the process continues for as many iterations as deemed necessary.\n",
        "\n",
        "We can implement this procedure from scratch as well to examine how it works. The original code for this exercise can be seen [here](https://towardsdatascience.com/gradient-boosting-in-python-from-scratch-4a3d9077367). It has been adapted for this lesson.  We will first use the same data set that we generated in Tutorial 3 for classification. Our Gradient Boost will also be a classification example. Keep in mind that regression is possible too!"
      ]
    },
    {
      "cell_type": "code",
      "metadata": {
        "id": "sCgJ-MKlJV2j"
      },
      "source": [
        "np.random.seed(888)"
      ],
      "execution_count": null,
      "outputs": []
    },
    {
      "cell_type": "code",
      "metadata": {
        "id": "6ZnyYABLJYFT",
        "colab": {
          "base_uri": "https://localhost:8080/"
        },
        "outputId": "1d4926ef-fcef-43e6-f47c-ac45bff78057"
      },
      "source": [
        "# Create synthetic dataset, same as tutorial 3\n",
        "\n",
        "class1_x = np.random.normal(loc=1, scale=1, size=1000)\n",
        "class1_y = np.random.normal(loc=1, scale=1, size=1000)\n",
        "\n",
        "class2_x = np.random.normal(loc=4, scale=1, size=1000)\n",
        "class2_y = np.random.normal(loc=4, scale=1, size=1000)\n",
        "\n",
        "lab1 = np.repeat(0, 1000)\n",
        "lab2 = np.repeat(1, 1000)\n",
        "\n",
        "class1 = np.vstack((class1_x, class1_y)).T\n",
        "class2 = np.vstack((class2_x, class2_y)).T\n",
        "\n",
        "data = np.vstack((class1,class2))\n",
        "\n",
        "labels = np.concatenate((lab1,lab2))\n",
        "\n",
        "data[:5,:]"
      ],
      "execution_count": null,
      "outputs": [
        {
          "output_type": "execute_result",
          "data": {
            "text/plain": [
              "array([[ 0.82379913,  0.52703441],\n",
              "       [ 1.18887636,  0.46382642],\n",
              "       [ 1.82674718,  0.36148983],\n",
              "       [ 0.96755269, -0.40695666],\n",
              "       [ 0.34750058,  1.73195855]])"
            ]
          },
          "metadata": {
            "tags": []
          },
          "execution_count": 41
        }
      ]
    },
    {
      "cell_type": "code",
      "metadata": {
        "id": "kwzZ-4qrJcAq",
        "colab": {
          "base_uri": "https://localhost:8080/",
          "height": 281
        },
        "outputId": "f8ff4b56-9b70-4ac4-b555-60a576c2e616"
      },
      "source": [
        "# Visualization of data set\n",
        "\n",
        "plt.scatter(data[:,0], data[:,1], c=labels, alpha=.3);\n",
        "plt.xlabel(\"$x_1$\");\n",
        "plt.ylabel(\"$x_2$\");"
      ],
      "execution_count": null,
      "outputs": [
        {
          "output_type": "display_data",
          "data": {
            "image/png": "[encoded data removed]",
            "text/plain": [
              "<Figure size 432x288 with 1 Axes>"
            ]
          },
          "metadata": {
            "tags": [],
            "needs_background": "light"
          }
        }
      ]
    },
    {
      "cell_type": "markdown",
      "metadata": {
        "id": "aX468TqvaxIB"
      },
      "source": [
        "To begin gradient boost, we first need a loss function to quantify the difference between the predicted y values and the true y values. This loss function must be differentiable to obtain the gradient. This loss function will determine how the function and its derivative (the gradient) creates future stumps for our gradient boost forest."
      ]
    },
    {
      "cell_type": "code",
      "metadata": {
        "id": "BtmJQirlLDSO"
      },
      "source": [
        "def compute_loss(y, pred_y): \n",
        "    return ((y - pred_y) ** 2) / 2"
      ],
      "execution_count": null,
      "outputs": []
    },
    {
      "cell_type": "code",
      "metadata": {
        "id": "iu0uc8G7LGjU"
      },
      "source": [
        "def loss_gradient(y, pred_y): \n",
        "    return -(y-pred_y)"
      ],
      "execution_count": null,
      "outputs": []
    },
    {
      "cell_type": "markdown",
      "metadata": {
        "id": "7L8nIGQ_emJe"
      },
      "source": [
        "Now that we have our loss and gradient functions, we can begin with the gradient boost algorithm. The first step in the algorithm is to create an initial prediction. Generally, this is the mean of the labels. Next, residuals are calculated by using the `loss_gradient` function and a shallow single level decision tree or decision 'stump' is created based on these residuals. Residuals are then recalculated and this process repeats iteratively."
      ]
    },
    {
      "cell_type": "code",
      "metadata": {
        "id": "NEDEWMoaJfEw"
      },
      "source": [
        "from sklearn.tree import DecisionTreeRegressor \n",
        "\n",
        "def gradient_boost_algorithm(X, y, iter=10): \n",
        "    forest_of_stumps = [] \n",
        "    pred_y = np.array([y.mean()]*len(y))  # Predict mean for all observations\n",
        "    pred_y_initial = pred_y \n",
        "    print(compute_loss(y, pred_y).mean()) \n",
        "    for i in range(iter): \n",
        "        residuals = -loss_gradient(y, pred_y)  # Calculate residuals using the gradient function\n",
        "        stump = DecisionTreeRegressor(max_depth=1)\n",
        "        stump.fit(X, residuals)  # Feed data and residuals to the decision tree function (stump since it has a depth of only 1)\n",
        "        forest_of_stumps.append(stump)  # Add this tree to the forest\n",
        "        new_pred_y = stump.predict(X)  # Make new predictions and repeat this process over the specified number of iterations\n",
        "        pred_y = pred_y + new_pred_y \n",
        "        print(compute_loss(y, pred_y).mean())\n",
        "    return forest_of_stumps, pred_y_initial"
      ],
      "execution_count": null,
      "outputs": []
    },
    {
      "cell_type": "markdown",
      "metadata": {
        "id": "8XdPvrNNlHgQ"
      },
      "source": [
        "The final function will be to predict classes using our algorithm. We will first run new observations through our forest of stumps sequentially and add their predictions together. At this point, the tree will return probabilities that each observation will be of class `1`. If we want a class prediction rather than probabilities of class `1`, we can compare each prediction to some threshold value (defaulted at `0.5`). Predictions over the threshold will be considered class `1` predictions while all others will be class `0`."
      ]
    },
    {
      "cell_type": "code",
      "metadata": {
        "id": "1tEdmilTLiJk"
      },
      "source": [
        "def gbm_predict(forest_of_stumps, pred_y_initial, X, predict_class=False, threshold=0.5): \n",
        "    pred_y = np.array([pred_y_initial[0]]*len(X))\n",
        "    for stump in forest_of_stumps: \n",
        "      pred_y = pred_y + stump.predict(X)  # Navigate the forest sequentially adding the predictions from each stump along the way\n",
        "      pred_y = np.where(pred_y<0, 0, pred_y)\n",
        "      pred_y = np.where(pred_y>1, 1, pred_y) \n",
        "    if predict_class:\n",
        "      pred_y = pred_y > threshold\n",
        "      pred_y = np.where(pred_y==False, 0, pred_y)\n",
        "      pred_y = np.where(pred_y==True, 1, pred_y) \n",
        "    return pred_y"
      ],
      "execution_count": null,
      "outputs": []
    },
    {
      "cell_type": "markdown",
      "metadata": {
        "id": "hw-HldaBv_Au"
      },
      "source": [
        "Now we can train our model using these functions. Each loop within the function will print the mean of the loss function so we can verify that it is actually decreasing. You can adjust iteration number to allow a larger forest of stumps in the gradient boost forest."
      ]
    },
    {
      "cell_type": "code",
      "metadata": {
        "id": "iChsnxE2PVMx",
        "colab": {
          "base_uri": "https://localhost:8080/"
        },
        "outputId": "6ca088e3-3926-4a2a-cd43-254ee2b8edf0"
      },
      "source": [
        "stumps, pred_y_initial = gradient_boost_algorithm(data, labels, iter=10)"
      ],
      "execution_count": null,
      "outputs": [
        {
          "output_type": "stream",
          "text": [
            "0.125\n",
            "0.028301419238567247\n",
            "0.02345766189417778\n",
            "0.020762059308151854\n",
            "0.018699488395621827\n",
            "0.017682921322778985\n",
            "0.01670758697552558\n",
            "0.016233586287342353\n",
            "0.015628097506118023\n",
            "0.015281764309078226\n",
            "0.014965850618216177\n"
          ],
          "name": "stdout"
        }
      ]
    },
    {
      "cell_type": "code",
      "metadata": {
        "colab": {
          "base_uri": "https://localhost:8080/"
        },
        "id": "ZFpAgM1-KZHs",
        "outputId": "facc78b4-0957-425e-f104-4de13505a2e4"
      },
      "source": [
        "pred_y_initial"
      ],
      "execution_count": null,
      "outputs": [
        {
          "output_type": "execute_result",
          "data": {
            "text/plain": [
              "array([0.5, 0.5, 0.5, ..., 0.5, 0.5, 0.5])"
            ]
          },
          "metadata": {
            "tags": []
          },
          "execution_count": 48
        }
      ]
    },
    {
      "cell_type": "code",
      "metadata": {
        "id": "GfVwjKkfQArs",
        "colab": {
          "base_uri": "https://localhost:8080/"
        },
        "outputId": "300f59a4-8c02-4559-afd5-1e28d6d347cd"
      },
      "source": [
        "stumps"
      ],
      "execution_count": null,
      "outputs": [
        {
          "output_type": "execute_result",
          "data": {
            "text/plain": [
              "[DecisionTreeRegressor(ccp_alpha=0.0, criterion='mse', max_depth=1,\n",
              "                       max_features=None, max_leaf_nodes=None,\n",
              "                       min_impurity_decrease=0.0, min_impurity_split=None,\n",
              "                       min_samples_leaf=1, min_samples_split=2,\n",
              "                       min_weight_fraction_leaf=0.0, presort='deprecated',\n",
              "                       random_state=None, splitter='best'),\n",
              " DecisionTreeRegressor(ccp_alpha=0.0, criterion='mse', max_depth=1,\n",
              "                       max_features=None, max_leaf_nodes=None,\n",
              "                       min_impurity_decrease=0.0, min_impurity_split=None,\n",
              "                       min_samples_leaf=1, min_samples_split=2,\n",
              "                       min_weight_fraction_leaf=0.0, presort='deprecated',\n",
              "                       random_state=None, splitter='best'),\n",
              " DecisionTreeRegressor(ccp_alpha=0.0, criterion='mse', max_depth=1,\n",
              "                       max_features=None, max_leaf_nodes=None,\n",
              "                       min_impurity_decrease=0.0, min_impurity_split=None,\n",
              "                       min_samples_leaf=1, min_samples_split=2,\n",
              "                       min_weight_fraction_leaf=0.0, presort='deprecated',\n",
              "                       random_state=None, splitter='best'),\n",
              " DecisionTreeRegressor(ccp_alpha=0.0, criterion='mse', max_depth=1,\n",
              "                       max_features=None, max_leaf_nodes=None,\n",
              "                       min_impurity_decrease=0.0, min_impurity_split=None,\n",
              "                       min_samples_leaf=1, min_samples_split=2,\n",
              "                       min_weight_fraction_leaf=0.0, presort='deprecated',\n",
              "                       random_state=None, splitter='best'),\n",
              " DecisionTreeRegressor(ccp_alpha=0.0, criterion='mse', max_depth=1,\n",
              "                       max_features=None, max_leaf_nodes=None,\n",
              "                       min_impurity_decrease=0.0, min_impurity_split=None,\n",
              "                       min_samples_leaf=1, min_samples_split=2,\n",
              "                       min_weight_fraction_leaf=0.0, presort='deprecated',\n",
              "                       random_state=None, splitter='best'),\n",
              " DecisionTreeRegressor(ccp_alpha=0.0, criterion='mse', max_depth=1,\n",
              "                       max_features=None, max_leaf_nodes=None,\n",
              "                       min_impurity_decrease=0.0, min_impurity_split=None,\n",
              "                       min_samples_leaf=1, min_samples_split=2,\n",
              "                       min_weight_fraction_leaf=0.0, presort='deprecated',\n",
              "                       random_state=None, splitter='best'),\n",
              " DecisionTreeRegressor(ccp_alpha=0.0, criterion='mse', max_depth=1,\n",
              "                       max_features=None, max_leaf_nodes=None,\n",
              "                       min_impurity_decrease=0.0, min_impurity_split=None,\n",
              "                       min_samples_leaf=1, min_samples_split=2,\n",
              "                       min_weight_fraction_leaf=0.0, presort='deprecated',\n",
              "                       random_state=None, splitter='best'),\n",
              " DecisionTreeRegressor(ccp_alpha=0.0, criterion='mse', max_depth=1,\n",
              "                       max_features=None, max_leaf_nodes=None,\n",
              "                       min_impurity_decrease=0.0, min_impurity_split=None,\n",
              "                       min_samples_leaf=1, min_samples_split=2,\n",
              "                       min_weight_fraction_leaf=0.0, presort='deprecated',\n",
              "                       random_state=None, splitter='best'),\n",
              " DecisionTreeRegressor(ccp_alpha=0.0, criterion='mse', max_depth=1,\n",
              "                       max_features=None, max_leaf_nodes=None,\n",
              "                       min_impurity_decrease=0.0, min_impurity_split=None,\n",
              "                       min_samples_leaf=1, min_samples_split=2,\n",
              "                       min_weight_fraction_leaf=0.0, presort='deprecated',\n",
              "                       random_state=None, splitter='best'),\n",
              " DecisionTreeRegressor(ccp_alpha=0.0, criterion='mse', max_depth=1,\n",
              "                       max_features=None, max_leaf_nodes=None,\n",
              "                       min_impurity_decrease=0.0, min_impurity_split=None,\n",
              "                       min_samples_leaf=1, min_samples_split=2,\n",
              "                       min_weight_fraction_leaf=0.0, presort='deprecated',\n",
              "                       random_state=None, splitter='best')]"
            ]
          },
          "metadata": {
            "tags": []
          },
          "execution_count": 49
        }
      ]
    },
    {
      "cell_type": "markdown",
      "metadata": {
        "id": "q_dIcn6Fw186"
      },
      "source": [
        "We can now use these stumps to make a prediction on the data."
      ]
    },
    {
      "cell_type": "code",
      "metadata": {
        "colab": {
          "base_uri": "https://localhost:8080/"
        },
        "id": "rSc00WF6OBdY",
        "outputId": "caa183dd-ac50-40fd-fe9d-00550bd1d7f2"
      },
      "source": [
        "pred_class = gbm_predict(stumps, pred_y_initial, data, predict_class=True)\n",
        "\n",
        "print(pred_class)"
      ],
      "execution_count": null,
      "outputs": [
        {
          "output_type": "stream",
          "text": [
            "[0 0 0 ... 1 1 1]\n"
          ],
          "name": "stdout"
        }
      ]
    },
    {
      "cell_type": "code",
      "metadata": {
        "colab": {
          "base_uri": "https://localhost:8080/"
        },
        "id": "XFavk_HSNVTS",
        "outputId": "ceb4af0b-86bb-4dfd-9f2a-abf96f4a78f0"
      },
      "source": [
        "pred_prob = gbm_predict(stumps, pred_y_initial, data, predict_class=False)\n",
        "\n",
        "print(pred_prob)"
      ],
      "execution_count": null,
      "outputs": [
        {
          "output_type": "stream",
          "text": [
            "[0.00217072 0.00217072 0.06504736 ... 0.98424957 0.98424957 0.98424957]\n"
          ],
          "name": "stdout"
        }
      ]
    },
    {
      "cell_type": "markdown",
      "metadata": {
        "id": "vIgzcJ2tzQty"
      },
      "source": [
        "We can also assess the mean error on the labels which is very low. Therefore, we can see this method works very well to separate classes."
      ]
    },
    {
      "cell_type": "code",
      "metadata": {
        "id": "-wYeTC8AxCoX",
        "colab": {
          "base_uri": "https://localhost:8080/"
        },
        "outputId": "6f3284ff-a9ca-4e92-80c9-9296189d5975"
      },
      "source": [
        "res_gradient_boost = pred_class != labels\n",
        "print(\"The average error is\", res_gradient_boost.mean())\n",
        "print(\"The total number of errors is\" , res_gradient_boost.sum(), \"of\", len(res_gradient_boost), \"predictions in total\")"
      ],
      "execution_count": null,
      "outputs": [
        {
          "output_type": "stream",
          "text": [
            "The average error is 0.0345\n",
            "The total number of errors is 69 of 2000 predictions in total\n"
          ],
          "name": "stdout"
        }
      ]
    },
    {
      "cell_type": "code",
      "metadata": {
        "colab": {
          "base_uri": "https://localhost:8080/",
          "height": 394
        },
        "id": "eD3gLxEA6OPW",
        "outputId": "c015faed-be00-42ce-9d99-e39c975ccda1"
      },
      "source": [
        "# Graph to depict probability predictions of the logit model\n",
        "\n",
        "xx, yy = np.mgrid[-3:8:.01, -3:8:.01]  # create input data for our logit model using mgrid\n",
        "grid = np.c_[xx.ravel(), yy.ravel()]   # then transform the data into our standard format\n",
        "\n",
        "# Calculate logit probability predictions\n",
        "probs = gbm_predict(stumps, pred_y_initial, grid, predict_class=False)\n",
        "\n",
        "# Reshape to facilitate plotting\n",
        "probs = probs.reshape(xx.shape)\n",
        "\n",
        "# Plot logit predictions\n",
        "f, ax = plt.subplots(figsize=(8, 6))\n",
        "contour = ax.contourf(xx, yy, probs, 25,  vmin=0, vmax=1)\n",
        "ax_c = f.colorbar(contour)\n",
        "ax_c.set_label(\"$P(y = 1)$\")\n",
        "ax_c.set_ticks([0, .25, .5, .75, 1])\n",
        "\n",
        "# Plott the actual data points\n",
        "# We alter the format of the scatter plot to ensure that data points are visible\n",
        "ax.scatter(data[:,0], data[:,1], c=labels, s=50, vmin=-.2, vmax=1.2, edgecolor=\"white\", linewidth=1);  \n",
        "plt.xlabel(\"$x_1$\");\n",
        "plt.ylabel(\"$x_2$\");"
      ],
      "execution_count": null,
      "outputs": [
        {
          "output_type": "display_data",
          "data": {
            "image/png": "[encoded data removed]",
            "text/plain": [
              "<Figure size 576x432 with 2 Axes>"
            ]
          },
          "metadata": {
            "tags": [],
            "needs_background": "light"
          }
        }
      ]
    },
    {
      "cell_type": "markdown",
      "metadata": {
        "id": "bs-f_QSdOaQa"
      },
      "source": [
        "## XGBoost with xgb library \n",
        "Different gradient boosting algorithms exist and different implementations exist of each of those. If you want to use the *original gradient boosting machine* as proposed in [Friedman's 2001 paper](https://www.jstor.org/stable/2699986?seq=1) or his [follow-up paper on stochastic gradient boosting](http://dx.doi.org/10.1016/S0167-9473(01)00065-2), we recommend using the class `sklearn.ensemble.GradientBoostingClassifier`. It offers a lot of flexibility (e.g., hyperparameters) and is[ very well documented](https://scikit-learn.org/stable/modules/generated/sklearn.ensemble.GradientBoostingClassifier.html). However, for later data sets, you might want to use **extreme gradient boosting (XGB)**, which was explicitly designed for highly scalable gradient boosting. Below, we demonstrate application of XGB to our credit risk data set.\n",
        "\n",
        "Although `sklearn` does have a version of this algorithm, it is actually common to use the `xgboost` library for training XGB models. To be precise, `sklearn` offers an implementation of XGB but it might not incorporate the latest features. As far as the use is concerned, you will not notice any differences between the `xgboost` library and `sklearn`. However, **you might need to install the `xgboost` library before moving on**."
      ]
    },
    {
      "cell_type": "markdown",
      "metadata": {
        "id": "8pjI7d_dOaQb"
      },
      "source": [
        "### Tuning XGB hyperparameters\n",
        "Our modeling pipeline is exactly as before in the RF example, and in general. We tune hyperparameters using grid-search and cross-validating the training data. Once we determined good hyperparameter settings, we train a XGB model with the corresponding configuration on the entire training set and obtain test set prediction, which we assess using ROC analysis. "
      ]
    },
    {
      "cell_type": "code",
      "metadata": {
        "id": "HXx-QtShOaQb",
        "colab": {
          "base_uri": "https://localhost:8080/"
        },
        "outputId": "eeb23bcf-78db-42c7-d1f7-2c508ee09cd9"
      },
      "source": [
        "import xgboost as xgb\n",
        "    # Setting up the grid of meta-parameters\n",
        "xgb_param_grid = {\n",
        "    'colsample_bytree': np.linspace(0.5, 0.9, 5),  # random subspace\n",
        "    'n_estimators': [100, 200],  # ensemble size or number of gradient steps\n",
        "    'max_depth': [5, 10],   # max depth of decision trees\n",
        "    'learning_rate': [0.1, 0.01],  # learning rate\n",
        "    'early_stopping_rounds': [10]}  # early stopping if no improvement after that many iterations\n",
        "\n",
        "gs_xgb = GridSearchCV(estimator=xgb.XGBClassifier(), param_grid=xgb_param_grid, scoring='roc_auc', cv=5, verbose=0)\n",
        "gs_xgb.fit(X_train, y_train.values.ravel())"
      ],
      "execution_count": null,
      "outputs": [
        {
          "output_type": "execute_result",
          "data": {
            "text/plain": [
              "GridSearchCV(cv=5, error_score=nan,\n",
              "             estimator=XGBClassifier(base_score=0.5, booster='gbtree',\n",
              "                                     colsample_bylevel=1, colsample_bynode=1,\n",
              "                                     colsample_bytree=1, gamma=0,\n",
              "                                     learning_rate=0.1, max_delta_step=0,\n",
              "                                     max_depth=3, min_child_weight=1,\n",
              "                                     missing=None, n_estimators=100, n_jobs=1,\n",
              "                                     nthread=None, objective='binary:logistic',\n",
              "                                     random_state=0, reg_alpha=0, reg_lambda=1,\n",
              "                                     scale_pos_weight=1, seed=None, silent=None,\n",
              "                                     subsample=1, verbosity=1),\n",
              "             iid='deprecated', n_jobs=None,\n",
              "             param_grid={'colsample_bytree': array([0.5, 0.6, 0.7, 0.8, 0.9]),\n",
              "                         'early_stopping_rounds': [10],\n",
              "                         'learning_rate': [0.1, 0.01], 'max_depth': [5, 10],\n",
              "                         'n_estimators': [100, 200]},\n",
              "             pre_dispatch='2*n_jobs', refit=True, return_train_score=False,\n",
              "             scoring='roc_auc', verbose=0)"
            ]
          },
          "metadata": {
            "tags": []
          },
          "execution_count": 55
        }
      ]
    },
    {
      "cell_type": "code",
      "metadata": {
        "id": "ltvbOmWfOaQd",
        "colab": {
          "base_uri": "https://localhost:8080/"
        },
        "outputId": "56f41301-3efb-44d9-cb86-5dcd167543e1"
      },
      "source": [
        "print(\"Best CV AUC: %0.4f\" % gs_xgb.best_score_)\n",
        "print(\"Optimal XGB meta-parameters:\")\n",
        "print(gs_xgb.best_params_)\n",
        "\n",
        "# Find test set AUC of the best XGB classifier\n",
        "fp_rate, tp_rate, _ = metrics.roc_curve(y_test, gs_xgb.predict_proba(X_test)[:, 1])\n",
        "print('XGB test set AUC with optimal meta-parameters: {:.4f}'.format(metrics.auc(fp_rate, tp_rate) ))"
      ],
      "execution_count": null,
      "outputs": [
        {
          "output_type": "stream",
          "text": [
            "Best CV AUC: 0.9493\n",
            "Optimal XGB meta-parameters:\n",
            "{'colsample_bytree': 0.5, 'early_stopping_rounds': 10, 'learning_rate': 0.1, 'max_depth': 10, 'n_estimators': 200}\n",
            "XGB test set AUC with optimal meta-parameters: 0.9570\n"
          ],
          "name": "stdout"
        }
      ]
    },
    {
      "cell_type": "code",
      "metadata": {
        "id": "xV1EIXwqOaQh",
        "colab": {
          "base_uri": "https://localhost:8080/"
        },
        "outputId": "afa1de85-2a1e-4bf1-f721-16c520bdef1a"
      },
      "source": [
        "# The plot is not new but note the use of gs_xgb.best_estimator_ \n",
        "metrics.plot_roc_curve(gs_xgb.best_estimator_, X_test, y_test)\n",
        "plt.plot([0, 1], [0, 1], \"r--\");"
      ],
      "execution_count": null,
      "outputs": [
        {
          "output_type": "display_data",
          "data": {
            "image/png": "[encoded data removed]",
            "text/plain": [
              "<Figure size 432x288 with 1 Axes>"
            ]
          },
          "metadata": {
            "tags": [],
            "needs_background": "light"
          }
        }
      ]
    },
    {
      "cell_type": "markdown",
      "metadata": {
        "id": "l4rHVeBnOaQk"
      },
      "source": [
        "The XGB models completes our journey through the space of ensemble learning algorithms. We have now covered the maybe most important of-the-shelf machine learning algorithms and you have seen how we can apply them to real-world data. \n",
        "\n",
        "In future tutorials, we will go back to other steps in the machine learning pipeline and learn about yet more possibilities and procedures to derive value from data."
      ]
    }
  ]
}